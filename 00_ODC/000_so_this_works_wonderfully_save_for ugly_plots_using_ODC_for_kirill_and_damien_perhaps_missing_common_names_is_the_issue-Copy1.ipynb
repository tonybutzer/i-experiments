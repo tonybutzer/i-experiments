{
 "cells": [
  {
   "cell_type": "code",
   "execution_count": null,
   "id": "323227b9",
   "metadata": {},
   "outputs": [],
   "source": [
    "#!pip install odc-algo odc-stac pystac-client python-dotenv coiled"
   ]
  },
  {
   "cell_type": "code",
   "execution_count": null,
   "id": "f42c0ac1",
   "metadata": {},
   "outputs": [],
   "source": [
    "import os\n",
    "os.environ[\"AWS_REQUEST_PAYER\"] = \"requester\" \n"
   ]
  },
  {
   "cell_type": "code",
   "execution_count": null,
   "id": "16afbb12",
   "metadata": {},
   "outputs": [],
   "source": [
    "#%load_ext dotenv\n",
    "#%dotenv\n",
    "\n",
    "# logging \n",
    "import logging\n",
    "logging.basicConfig()\n",
    "\n",
    "# set pystac_client logger to DEBUG to see API calls\n",
    "logger = logging.getLogger('pystac_client')\n",
    "logger.setLevel(logging.INFO)"
   ]
  },
  {
   "cell_type": "code",
   "execution_count": null,
   "id": "a962c5c2",
   "metadata": {},
   "outputs": [],
   "source": [
    "import hvplot.pandas\n",
    "import hvplot.xarray\n",
    "\n",
    "# plot size settings\n",
    "frame_width = 600\n",
    "frame_height = 600\n",
    "\n",
    "# line width of polygons\n",
    "line_width = 3\n",
    "\n",
    "# plot polygons as lines on a slippy map with background tiles.\n",
    "def plot_polygons(data, *args, **kwargs):\n",
    "    return data.hvplot.paths(*args, geo=True, tiles='OSM', xaxis=None, yaxis=None,\n",
    "                             frame_width=frame_width, frame_height=frame_height,\n",
    "                             line_width=line_width, **kwargs)\n",
    "\n",
    "from copy import deepcopy\n",
    "import geopandas as gpd\n",
    "import pandas as pd\n",
    "from shapely.geometry import shape\n",
    "\n",
    "# convert a list of STAC Items into a GeoDataFrame\n",
    "def items_to_geodataframe(items):\n",
    "    _items = []\n",
    "    for i in items:\n",
    "        _i = deepcopy(i)\n",
    "        _i['geometry'] = shape(_i['geometry'])\n",
    "        _items.append(_i)\n",
    "    gdf = gpd.GeoDataFrame(pd.json_normalize(_items))\n",
    "    for field in ['properties.datetime', 'properties.created', 'properties.updated']:\n",
    "        if field in gdf:\n",
    "            gdf[field] = pd.to_datetime(gdf[field])\n",
    "    gdf.set_index('properties.datetime', inplace=True)\n",
    "    return gdf"
   ]
  },
  {
   "cell_type": "markdown",
   "id": "40e39ff2",
   "metadata": {},
   "source": [
    "# AOI\n",
    "We first start with a spatial AOI, which should be a single GeoJSON Feature with a geometry type of Point, LineString, Polygon, MultiPoint, MultiLineString, or MultiPolygon. A fast and simple tool to create such as an AOI is http://geojson.io/. Save a GeoJSON Feature (not a FeatureCollection!) in a file accessible by this notebook."
   ]
  },
  {
   "cell_type": "code",
   "execution_count": null,
   "id": "86bab13e",
   "metadata": {},
   "outputs": [],
   "source": [
    "aoi_filename = \"./lakota.geojson\"\n",
    "\n",
    "# read in AOI as a GeoDataFrame\n",
    "import geopandas as gpd\n",
    "aoi = gpd.read_file(aoi_filename)\n",
    "\n",
    "# get the geometry of the AOI as a dictionary for use with PySTAC Client\n",
    "from shapely.geometry import mapping\n",
    "geom = mapping(aoi.to_dict()['geometry'][0])"
   ]
  },
  {
   "cell_type": "code",
   "execution_count": null,
   "id": "74ecf73c",
   "metadata": {},
   "outputs": [],
   "source": [
    "geom"
   ]
  },
  {
   "cell_type": "markdown",
   "id": "e0e07eef",
   "metadata": {},
   "source": [
    "# Searching a STAC API\n",
    "We can search any STAC API by providing the root URL to the Client.open() function.We can now use the AOI geometry for the intersects parameter with **pystac-client**. Edit/add parameters below."
   ]
  },
  {
   "cell_type": "code",
   "execution_count": null,
   "id": "64f3d303",
   "metadata": {},
   "outputs": [],
   "source": [
    "# STAC API - Landsat Collection 2\n",
    "url = \"https://landsatlook.usgs.gov/stac-server\"\n",
    "\n",
    "# Search parameters\n",
    "params = {\n",
    "    \"collections\": [\"landsat-c2l2-sr\"],\n",
    "    \"intersects\": geom,\n",
    "    \"datetime\": \"2015-01-01/2020-12-31\",\n",
    "    \"limit\": 100,\n",
    "    \"query\": [\"platform=LANDSAT_8\", \"eo:cloud_cover<10\"]\n",
    "}\n",
    "\n",
    "from pystac_client import Client\n",
    "cat = Client.open(url)\n",
    "search = cat.search(**params)\n",
    "\n",
    "matched = search.matched()\n",
    "print(f\"{search.matched()} scenes found\")"
   ]
  },
  {
   "cell_type": "code",
   "execution_count": null,
   "id": "503ab676",
   "metadata": {},
   "outputs": [],
   "source": [
    "#! conda install -y pystac-client"
   ]
  },
  {
   "cell_type": "code",
   "execution_count": null,
   "id": "d224930f",
   "metadata": {},
   "outputs": [],
   "source": [
    "%%time\n",
    "from pystac import ItemCollection\n",
    "\n",
    "# get all items found in search\n",
    "items_dict = []\n",
    "for item in search.get_all_items_as_dict()['features']:\n",
    "    for a in item['assets']:\n",
    "        if 'alternate' in item['assets'][a] and 's3' in item['assets'][a]['alternate']:\n",
    "            item['assets'][a]['href'] = item['assets'][a]['alternate']['s3']['href']\n",
    "        item['assets'][a]['href'] = item['assets'][a]['href'].replace('usgs-landsat-ard', 'usgs-landsat')\n",
    "    items_dict.append(item)\n",
    "\n",
    "# Create GeoDataFrame from resulting Items\n",
    "items_gdf = items_to_geodataframe(items_dict)\n",
    "item_collection = ItemCollection(items_dict)"
   ]
  },
  {
   "cell_type": "markdown",
   "id": "cd47ae87",
   "metadata": {},
   "source": [
    "# Using Pandas/GeoPandas\n",
    "With the STAC Items in a GeoDataFrame, we can view the geometries of the Items GeoDataFrame and the AOI GeoDataFrame together."
   ]
  },
  {
   "cell_type": "code",
   "execution_count": null,
   "id": "cd34dfff",
   "metadata": {},
   "outputs": [],
   "source": [
    "plot_polygons(items_gdf) * aoi.hvplot.paths(geo=True, line_width=3, line_color='red')"
   ]
  },
  {
   "cell_type": "markdown",
   "id": "79f849aa",
   "metadata": {},
   "source": [
    "# STAC Assets\n",
    "We haven't looked at any data yet, as the actual data in STAC Items is stored in assets so we are limited to exploring the metadata about the data. To use the assets a user should first understand what assets are available.  Here we use Pandas to take a look at the Asset dictionary of the first Item (note that not all Items may have the same assets)."
   ]
  },
  {
   "cell_type": "code",
   "execution_count": null,
   "id": "14ec041c",
   "metadata": {},
   "outputs": [],
   "source": [
    "# use the first Item to see what assets are available\n",
    "\n",
    "assets = pd.DataFrame.from_dict(items_dict[0]['assets'], orient='index')\n",
    "\n",
    "for f in ['alternate', 'file:checksum', 'proj:transform', 'rel']:\n",
    "    if f in assets:\n",
    "        del assets[f]\n",
    "\n",
    "assets"
   ]
  },
  {
   "cell_type": "markdown",
   "id": "d7fd21e2",
   "metadata": {},
   "source": [
    "# OpenDataCube\n",
    "\n"
   ]
  },
  {
   "cell_type": "code",
   "execution_count": null,
   "id": "7c2a56fa",
   "metadata": {},
   "outputs": [],
   "source": [
    "# Convert the STAC item(s) to ODC datasets\n",
    "import yaml\n",
    "\n",
    "from odc import stac\n",
    "from pyproj import CRS\n",
    "from pystac.extensions.projection import ProjectionExtension\n",
    "\n",
    "def open_odc(items, crs=None, resolution=None):\n",
    "    configuration_str = \"\"\"---\n",
    "        landsat-c2l2-sr:\n",
    "          measurements:\n",
    "            'red':\n",
    "              dtype: float32\n",
    "              nodata: 0\n",
    "              units: 'm'\n",
    "        \"\"\"\n",
    "    configuration = yaml.load(configuration_str, Loader=yaml.CSafeLoader)\n",
    "    datasets = list(stac.stac2ds(items, configuration))\n",
    "    \n",
    "    proj = ProjectionExtension.ext(items[0])\n",
    "    if crs is None:\n",
    "        crs = CRS.from_epsg(proj.epsg)\n",
    "    if resolution is None:\n",
    "        resolution = (proj.transform[4], proj.transform[0])\n",
    "\n",
    "    #data = stac.dc_load(datasets, measurements=['red','green','blue', 'nir08', 'qa_pixel'], chunks={\"x\": 1024, \"y\": 1024}, output_crs=crs, resolution=resolution)\n",
    "    data = stac.dc_load(datasets, measurements=['red','green','blue', 'nir08', ], \n",
    "      chunks={\"x\": 1024, \"y\": 1024}, output_crs=crs, resolution=resolution)\n",
    "    return data"
   ]
  },
  {
   "cell_type": "code",
   "execution_count": null,
   "id": "b815febb",
   "metadata": {},
   "outputs": [],
   "source": [
    "help(stac.stac2ds)"
   ]
  },
  {
   "cell_type": "code",
   "execution_count": null,
   "id": "c33ab355",
   "metadata": {},
   "outputs": [],
   "source": [
    "# hello"
   ]
  },
  {
   "cell_type": "code",
   "execution_count": null,
   "id": "24d750c4",
   "metadata": {},
   "outputs": [],
   "source": [
    "# open found items as an OpenDataCube\n",
    "\n",
    "_datacube = open_odc(item_collection) #, 'epsg:4326', resolution='0.002')\n",
    "_datacube.to_array(dim='bands')"
   ]
  },
  {
   "cell_type": "code",
   "execution_count": null,
   "id": "6a79ce7a",
   "metadata": {},
   "outputs": [],
   "source": [
    "import rioxarray\n",
    "\n",
    "datacube = _datacube.rio.clip([geom], crs='epsg:4326')\n",
    "datacube.to_array(dim='bands')"
   ]
  },
  {
   "cell_type": "code",
   "execution_count": null,
   "id": "a3e1e874",
   "metadata": {},
   "outputs": [],
   "source": [
    "# create RGB image for display\n",
    "from odc.algo import to_rgba\n",
    "\n",
    "rgba = to_rgba(datacube, clamp=(1000,20000), bands=['red', 'green', 'blue'])\n",
    "rgba"
   ]
  },
  {
   "cell_type": "code",
   "execution_count": null,
   "id": "434cebaa",
   "metadata": {},
   "outputs": [],
   "source": [
    "from dask.distributed import Client, progress\n",
    "client = Client(processes=False, threads_per_worker=8,\n",
    "                n_workers=2, memory_limit='8GB', dashboard_address=':8080')\n",
    "client"
   ]
  },
  {
   "cell_type": "code",
   "execution_count": null,
   "id": "3e59c6d1",
   "metadata": {},
   "outputs": [],
   "source": [
    "rgba.compute()"
   ]
  },
  {
   "cell_type": "code",
   "execution_count": null,
   "id": "5eaadacd",
   "metadata": {},
   "outputs": [],
   "source": [
    "rgba"
   ]
  },
  {
   "cell_type": "code",
   "execution_count": null,
   "id": "c1f5cae5",
   "metadata": {},
   "outputs": [],
   "source": [
    "rgba.hvplot.rgb('x', 'y', bands='band', groupby='time', aspect=1, frame_width=400)"
   ]
  },
  {
   "cell_type": "code",
   "execution_count": null,
   "id": "eb23c669",
   "metadata": {},
   "outputs": [],
   "source": [
    "datacube['red'][1].plot()"
   ]
  },
  {
   "cell_type": "code",
   "execution_count": null,
   "id": "2e8599db",
   "metadata": {},
   "outputs": [],
   "source": [
    "datacube['green'][10].plot(cmap='BuPu')"
   ]
  },
  {
   "cell_type": "code",
   "execution_count": null,
   "id": "f6e3fae2",
   "metadata": {},
   "outputs": [],
   "source": [
    "# %%time\n",
    "# # process with dask\n",
    "\n",
    "# from dask.distributed import wait\n",
    "\n",
    "# rgba = cluster.persist(rgba)\n",
    "# _ = wait(rgba)\n",
    "# rgba"
   ]
  },
  {
   "cell_type": "code",
   "execution_count": null,
   "id": "a6965132",
   "metadata": {},
   "outputs": [],
   "source": [
    "#help (Client.persist)"
   ]
  },
  {
   "cell_type": "code",
   "execution_count": null,
   "id": "9a80adc9",
   "metadata": {},
   "outputs": [],
   "source": [
    "datacube"
   ]
  },
  {
   "cell_type": "code",
   "execution_count": null,
   "id": "0b67c1c2",
   "metadata": {},
   "outputs": [],
   "source": []
  }
 ],
 "metadata": {
  "kernelspec": {
   "display_name": "Python 3 (ipykernel)",
   "language": "python",
   "name": "python3"
  },
  "language_info": {
   "codemirror_mode": {
    "name": "ipython",
    "version": 3
   },
   "file_extension": ".py",
   "mimetype": "text/x-python",
   "name": "python",
   "nbconvert_exporter": "python",
   "pygments_lexer": "ipython3",
   "version": "3.9.7"
  }
 },
 "nbformat": 4,
 "nbformat_minor": 5
}
