{
 "cells": [
  {
   "cell_type": "code",
   "execution_count": 1,
   "id": "c12a046c",
   "metadata": {},
   "outputs": [],
   "source": [
    "import time\n",
    "def thread_function(name):\n",
    "    logging.info(\"Thread %s: starting\", name)\n",
    "    time.sleep(2)\n",
    "    logging.info(\"Thread %s: finishing\", name)"
   ]
  },
  {
   "cell_type": "code",
   "execution_count": 2,
   "id": "46c4d3c4",
   "metadata": {},
   "outputs": [
    {
     "name": "stderr",
     "output_type": "stream",
     "text": [
      "15:10:14: Thread 0: starting\n",
      "15:10:14: Thread 1: starting\n",
      "15:10:14: Thread 2: starting\n",
      "15:10:14: Thread 3: starting\n",
      "15:10:14: Thread 4: starting\n",
      "15:10:14: Initial Threads executor: strted - i think i am waiting before any others\n",
      "15:10:16: Thread 0: finishing\n",
      "15:10:16: Thread 5: starting\n",
      "15:10:16: Thread 1: finishing\n",
      "15:10:16: Thread 6: starting\n",
      "15:10:16: Thread 2: finishing\n",
      "15:10:16: Thread 7: starting\n",
      "15:10:16: Thread 3: finishing\n",
      "15:10:16: Thread 8: starting\n",
      "15:10:16: Thread 4: finishing\n",
      "15:10:16: Thread 9: starting\n",
      "15:10:18: Thread 5: finishing\n",
      "15:10:18: Thread 10: starting\n",
      "15:10:18: Thread 6: finishing\n",
      "15:10:18: Thread 11: starting\n",
      "15:10:18: Thread 7: finishing\n",
      "15:10:18: Thread 12: starting\n",
      "15:10:18: Thread 8: finishing\n",
      "15:10:19: Thread 13: starting\n",
      "15:10:19: Thread 9: finishing\n",
      "15:10:20: Thread 10: finishing\n",
      "15:10:20: Thread 11: finishing\n",
      "15:10:21: Thread 12: finishing\n",
      "15:10:21: Thread 13: finishing\n"
     ]
    }
   ],
   "source": [
    "import concurrent.futures\n",
    "import logging\n",
    "\n",
    "# [rest of code]\n",
    "\n",
    "if __name__ == \"__main__\":\n",
    "    format = \"%(asctime)s: %(message)s\"\n",
    "    logging.basicConfig(format=format, level=logging.INFO,\n",
    "                        datefmt=\"%H:%M:%S\")\n",
    "\n",
    "    with concurrent.futures.ThreadPoolExecutor(max_workers=5) as executor:\n",
    "        executor.map(thread_function, range(14))\n",
    "        logging.info(\"Initial Threads %s: strted - i think i am waiting before any others\", \"executor\")\n"
   ]
  },
  {
   "cell_type": "code",
   "execution_count": 3,
   "id": "16ee6fad",
   "metadata": {},
   "outputs": [
    {
     "name": "stderr",
     "output_type": "stream",
     "text": [
      "15:10:21: Thread aaa: starting\n",
      "15:10:23: Thread aaa: finishing\n"
     ]
    }
   ],
   "source": [
    "thread_function('aaa')"
   ]
  },
  {
   "cell_type": "code",
   "execution_count": 4,
   "id": "8187e02a",
   "metadata": {},
   "outputs": [],
   "source": [
    "import subprocess\n",
    "def subprocess_cmd(command):\n",
    "    process = subprocess.Popen(command,stdout=subprocess.PIPE, shell=True)\n",
    "    proc_stdout = process.communicate()[0].strip()\n",
    "    stupidBytesObject = proc_stdout\n",
    "    outStr = (stupidBytesObject.decode(\"utf-8\"))\n",
    "    print(outStr)\n",
    "    return(outStr)"
   ]
  },
  {
   "cell_type": "code",
   "execution_count": 5,
   "id": "58efb46f",
   "metadata": {},
   "outputs": [],
   "source": [
    "#!wget -nv -O- https://sentinel-cogs.s3.us-west-2.amazonaws.com/sentinel-s2-l2a-cogs/23/K/NR/2020/3/S2B_23KNR_20200329_0_L2A/TCI.tif \\\n",
    "#    | aws s3 cp - s3://dev-et-data/tony/S2B_23KNR_20200329_0_L2A_TCI.tif"
   ]
  },
  {
   "cell_type": "code",
   "execution_count": 6,
   "id": "fef986f5",
   "metadata": {},
   "outputs": [],
   "source": [
    "# example"
   ]
  },
  {
   "cell_type": "code",
   "execution_count": 7,
   "id": "d02f9ba6",
   "metadata": {},
   "outputs": [],
   "source": [
    "# !wget https://raw.githubusercontent.com/tonybutzer/stac-deep/main/1_WIP/0-LTWG/ltwg.py"
   ]
  },
  {
   "cell_type": "code",
   "execution_count": 8,
   "id": "aafc62e3",
   "metadata": {},
   "outputs": [
    {
     "name": "stdout",
     "output_type": "stream",
     "text": [
      "Sat Sep 11 15:10:23 UTC 2021\r\n"
     ]
    }
   ],
   "source": [
    "! date"
   ]
  },
  {
   "cell_type": "code",
   "execution_count": 9,
   "id": "19e815e5",
   "metadata": {},
   "outputs": [],
   "source": [
    "#! cp ../../../usgs-geo-flow/1_Viz_ROI_AOI_Notebooks/rio2_region.geojson ."
   ]
  },
  {
   "cell_type": "code",
   "execution_count": 10,
   "id": "8fd7949f",
   "metadata": {},
   "outputs": [],
   "source": [
    "import intake\n",
    "from satsearch import Search\n",
    "\n",
    "def get_STAC_items(url, collection, dates, bbox):\n",
    "    results = Search.search(url=url,\n",
    "                        collections=[collection], \n",
    "                        datetime=dates,\n",
    "                        bbox=bbox,    \n",
    "                        sortby=['-properties.datetime'])\n",
    "\n",
    "    items = results.items()\n",
    "    print(f'Found {len(items)} Items')\n",
    "    \n",
    "    return intake.open_stac_item_collection(items)"
   ]
  },
  {
   "cell_type": "code",
   "execution_count": 11,
   "id": "e1d0c0cf",
   "metadata": {},
   "outputs": [],
   "source": [
    "import geopandas as gpd\n",
    "\n",
    "geojson_file='./rio2_region.geojson'\n",
    "aoi = gpd.read_file(geojson_file)"
   ]
  },
  {
   "cell_type": "code",
   "execution_count": 12,
   "id": "c150df90",
   "metadata": {},
   "outputs": [],
   "source": [
    "bbox=aoi['geometry'].values[0].bounds"
   ]
  },
  {
   "cell_type": "code",
   "execution_count": 13,
   "id": "43b399c1",
   "metadata": {},
   "outputs": [
    {
     "name": "stdout",
     "output_type": "stream",
     "text": [
      "Found 146 Items\n"
     ]
    }
   ],
   "source": [
    "url='https://earth-search.aws.element84.com/v0'\n",
    "\n",
    "dates = '2020-01-01/2020-12-31' \n",
    "\n",
    "collection = 'sentinel-s2-l2a-cogs' # sentinel-2 w/ atmospheric corrections\n",
    "items_s2 = get_STAC_items(url, collection, dates, bbox)"
   ]
  },
  {
   "cell_type": "code",
   "execution_count": 14,
   "id": "2808d0a3",
   "metadata": {},
   "outputs": [
    {
     "name": "stdout",
     "output_type": "stream",
     "text": [
      "S2A_23KNR_20201229_0_L2A\n",
      "S2A_23KPR_20201229_0_L2A\n",
      "S2B_23KNR_20201224_0_L2A\n",
      "S2B_23KPR_20201224_0_L2A\n",
      "S2A_23KNR_20201219_0_L2A\n",
      "S2A_23KPR_20201219_0_L2A\n",
      "S2B_23KNR_20201214_0_L2A\n",
      "S2B_23KPR_20201214_0_L2A\n",
      "S2A_23KNR_20201209_0_L2A\n",
      "S2A_23KPR_20201209_0_L2A\n",
      "S2B_23KNR_20201204_0_L2A\n",
      "S2B_23KPR_20201204_0_L2A\n",
      "S2A_23KNR_20201129_0_L2A\n",
      "S2A_23KPR_20201129_0_L2A\n",
      "S2B_23KNR_20201124_0_L2A\n",
      "S2B_23KPR_20201124_0_L2A\n",
      "S2A_23KNR_20201119_0_L2A\n",
      "S2A_23KPR_20201119_0_L2A\n",
      "S2B_23KNR_20201114_0_L2A\n",
      "S2B_23KPR_20201114_0_L2A\n",
      "S2A_23KNR_20201109_0_L2A\n",
      "S2A_23KPR_20201109_0_L2A\n",
      "S2B_23KNR_20201104_0_L2A\n",
      "S2B_23KPR_20201104_0_L2A\n",
      "S2A_23KNR_20201030_0_L2A\n",
      "S2A_23KPR_20201030_0_L2A\n",
      "S2B_23KNR_20201025_0_L2A\n",
      "S2B_23KPR_20201025_0_L2A\n",
      "S2A_23KNR_20201020_0_L2A\n",
      "S2A_23KPR_20201020_0_L2A\n",
      "S2B_23KNR_20201015_0_L2A\n",
      "S2B_23KPR_20201015_0_L2A\n",
      "S2A_23KNR_20201010_0_L2A\n",
      "S2A_23KPR_20201010_0_L2A\n",
      "S2B_23KNR_20201005_0_L2A\n",
      "S2B_23KPR_20201005_0_L2A\n",
      "S2A_23KNR_20200930_0_L2A\n",
      "S2A_23KPR_20200930_0_L2A\n",
      "S2B_23KNR_20200925_0_L2A\n",
      "S2B_23KPR_20200925_0_L2A\n",
      "S2A_23KNR_20200920_0_L2A\n",
      "S2A_23KPR_20200920_0_L2A\n",
      "S2B_23KNR_20200915_0_L2A\n",
      "S2B_23KPR_20200915_0_L2A\n",
      "S2A_23KNR_20200910_0_L2A\n",
      "S2A_23KPR_20200910_0_L2A\n",
      "S2B_23KNR_20200905_0_L2A\n",
      "S2B_23KPR_20200905_0_L2A\n",
      "S2A_23KNR_20200831_0_L2A\n",
      "S2A_23KPR_20200831_0_L2A\n",
      "S2B_23KNR_20200826_0_L2A\n",
      "S2B_23KPR_20200826_0_L2A\n",
      "S2A_23KNR_20200821_0_L2A\n",
      "S2A_23KPR_20200821_0_L2A\n",
      "S2B_23KNR_20200816_0_L2A\n",
      "S2B_23KPR_20200816_0_L2A\n",
      "S2A_23KNR_20200811_1_L2A\n",
      "S2A_23KPR_20200811_0_L2A\n",
      "S2B_23KNR_20200806_0_L2A\n",
      "S2B_23KPR_20200806_0_L2A\n",
      "S2A_23KNR_20200801_0_L2A\n",
      "S2A_23KPR_20200801_0_L2A\n",
      "S2B_23KNR_20200727_0_L2A\n",
      "S2B_23KPR_20200727_0_L2A\n",
      "S2A_23KNR_20200722_0_L2A\n",
      "S2A_23KPR_20200722_0_L2A\n",
      "S2B_23KNR_20200717_0_L2A\n",
      "S2B_23KPR_20200717_0_L2A\n",
      "S2A_23KNR_20200712_0_L2A\n",
      "S2A_23KPR_20200712_0_L2A\n",
      "S2B_23KNR_20200707_0_L2A\n",
      "S2B_23KPR_20200707_0_L2A\n",
      "S2A_23KNR_20200702_0_L2A\n",
      "S2A_23KPR_20200702_0_L2A\n",
      "S2B_23KNR_20200627_0_L2A\n",
      "S2B_23KPR_20200627_0_L2A\n",
      "S2A_23KNR_20200622_0_L2A\n",
      "S2A_23KPR_20200622_0_L2A\n",
      "S2B_23KNR_20200617_0_L2A\n",
      "S2B_23KPR_20200617_0_L2A\n",
      "S2A_23KNR_20200612_0_L2A\n",
      "S2A_23KPR_20200612_0_L2A\n",
      "S2B_23KNR_20200607_0_L2A\n",
      "S2B_23KPR_20200607_0_L2A\n",
      "S2A_23KNR_20200602_0_L2A\n",
      "S2A_23KPR_20200602_0_L2A\n",
      "S2B_23KNR_20200528_0_L2A\n",
      "S2B_23KPR_20200528_0_L2A\n",
      "S2A_23KNR_20200523_0_L2A\n",
      "S2A_23KPR_20200523_0_L2A\n",
      "S2B_23KNR_20200518_0_L2A\n",
      "S2B_23KPR_20200518_0_L2A\n",
      "S2A_23KNR_20200513_0_L2A\n",
      "S2A_23KPR_20200513_0_L2A\n",
      "S2B_23KNR_20200508_0_L2A\n",
      "S2B_23KPR_20200508_0_L2A\n",
      "S2A_23KNR_20200503_0_L2A\n",
      "S2A_23KPR_20200503_0_L2A\n",
      "S2B_23KNR_20200428_0_L2A\n",
      "S2B_23KPR_20200428_0_L2A\n",
      "S2A_23KNR_20200423_0_L2A\n",
      "S2A_23KPR_20200423_0_L2A\n",
      "S2B_23KNR_20200418_0_L2A\n",
      "S2B_23KPR_20200418_0_L2A\n",
      "S2A_23KNR_20200413_0_L2A\n",
      "S2A_23KPR_20200413_0_L2A\n",
      "S2B_23KNR_20200408_0_L2A\n",
      "S2B_23KPR_20200408_0_L2A\n",
      "S2A_23KNR_20200403_0_L2A\n",
      "S2A_23KPR_20200403_0_L2A\n",
      "S2B_23KNR_20200329_0_L2A\n",
      "S2B_23KPR_20200329_0_L2A\n",
      "S2A_23KNR_20200324_0_L2A\n",
      "S2A_23KPR_20200324_0_L2A\n",
      "S2B_23KNR_20200319_0_L2A\n",
      "S2B_23KPR_20200319_0_L2A\n",
      "S2A_23KNR_20200314_0_L2A\n",
      "S2A_23KPR_20200314_0_L2A\n",
      "S2B_23KNR_20200309_0_L2A\n",
      "S2B_23KPR_20200309_0_L2A\n",
      "S2A_23KNR_20200304_0_L2A\n",
      "S2A_23KPR_20200304_0_L2A\n",
      "S2B_23KNR_20200228_0_L2A\n",
      "S2B_23KPR_20200228_0_L2A\n",
      "S2A_23KNR_20200223_0_L2A\n",
      "S2A_23KPR_20200223_0_L2A\n",
      "S2B_23KNR_20200218_0_L2A\n",
      "S2B_23KPR_20200218_0_L2A\n",
      "S2A_23KNR_20200213_0_L2A\n",
      "S2A_23KPR_20200213_0_L2A\n",
      "S2B_23KNR_20200208_0_L2A\n",
      "S2B_23KPR_20200208_0_L2A\n",
      "S2A_23KNR_20200203_0_L2A\n",
      "S2A_23KPR_20200203_0_L2A\n",
      "S2B_23KNR_20200129_0_L2A\n",
      "S2B_23KPR_20200129_0_L2A\n",
      "S2A_23KNR_20200124_0_L2A\n",
      "S2A_23KPR_20200124_0_L2A\n",
      "S2B_23KNR_20200119_0_L2A\n",
      "S2B_23KPR_20200119_0_L2A\n",
      "S2A_23KNR_20200114_0_L2A\n",
      "S2A_23KPR_20200114_0_L2A\n",
      "S2B_23KNR_20200109_0_L2A\n",
      "S2B_23KPR_20200109_0_L2A\n",
      "S2A_23KNR_20200104_0_L2A\n",
      "S2A_23KPR_20200104_0_L2A\n"
     ]
    }
   ],
   "source": [
    "ikeys=[]\n",
    "for item_key in items_s2.keys():\n",
    "    print(item_key)\n",
    "    ikeys.append(item_key)"
   ]
  },
  {
   "cell_type": "code",
   "execution_count": 15,
   "id": "31d2b17a",
   "metadata": {},
   "outputs": [
    {
     "name": "stdout",
     "output_type": "stream",
     "text": [
      "sources:\n",
      "  B04:\n",
      "    args:\n",
      "      chunks: {}\n",
      "      urlpath: https://sentinel-cogs.s3.us-west-2.amazonaws.com/sentinel-s2-l2a-cogs/23/K/NR/2020/12/S2A_23KNR_20201229_0_L2A/B04.tif\n",
      "    description: Band 4 (red)\n",
      "    driver: intake_xarray.raster.RasterIOSource\n",
      "    metadata:\n",
      "      catalog_dir: ''\n",
      "      eo:bands:\n",
      "      - center_wavelength: 0.6645\n",
      "        common_name: red\n",
      "        full_width_half_max: 0.038\n",
      "        name: B04\n",
      "      gsd: 10\n",
      "      href: https://sentinel-cogs.s3.us-west-2.amazonaws.com/sentinel-s2-l2a-cogs/23/K/NR/2020/12/S2A_23KNR_20201229_0_L2A/B04.tif\n",
      "      plots:\n",
      "        geotiff:\n",
      "          cmap: viridis\n",
      "          data_aspect: 1\n",
      "          dynamic: true\n",
      "          frame_width: 500\n",
      "          kind: image\n",
      "          rasterize: true\n",
      "          x: x\n",
      "          y: y\n",
      "      proj:shape:\n",
      "      - 10980\n",
      "      - 10980\n",
      "      proj:transform:\n",
      "      - 10\n",
      "      - 0\n",
      "      - 499980\n",
      "      - 0\n",
      "      - -10\n",
      "      - 7600000\n",
      "      - 0\n",
      "      - 0\n",
      "      - 1\n",
      "      roles:\n",
      "      - data\n",
      "      title: Band 4 (red)\n",
      "      type: image/tiff; application=geotiff; profile=cloud-optimized\n",
      "\n"
     ]
    }
   ],
   "source": [
    "print(items_s2[ikeys[0]]['B04'])"
   ]
  },
  {
   "cell_type": "code",
   "execution_count": 16,
   "id": "ae3cf993",
   "metadata": {},
   "outputs": [
    {
     "data": {
      "text/plain": [
       "['_DictSerialiseMixin__tok_cache',\n",
       " '__call__',\n",
       " '__class__',\n",
       " '__dask_tokenize__',\n",
       " '__delattr__',\n",
       " '__dict__',\n",
       " '__dir__',\n",
       " '__doc__',\n",
       " '__enter__',\n",
       " '__eq__',\n",
       " '__exit__',\n",
       " '__format__',\n",
       " '__ge__',\n",
       " '__getattribute__',\n",
       " '__getstate__',\n",
       " '__gt__',\n",
       " '__hash__',\n",
       " '__init__',\n",
       " '__init_subclass__',\n",
       " '__le__',\n",
       " '__lt__',\n",
       " '__module__',\n",
       " '__ne__',\n",
       " '__new__',\n",
       " '__reduce__',\n",
       " '__reduce_ex__',\n",
       " '__repr__',\n",
       " '__setattr__',\n",
       " '__setstate__',\n",
       " '__sizeof__',\n",
       " '__str__',\n",
       " '__subclasshook__',\n",
       " '__weakref__',\n",
       " '_cache',\n",
       " '_can_be_local',\n",
       " '_captured_init_args',\n",
       " '_captured_init_kwargs',\n",
       " '_close',\n",
       " '_ds',\n",
       " '_entry',\n",
       " '_export',\n",
       " '_get_cache',\n",
       " '_get_partition',\n",
       " '_get_schema',\n",
       " '_ipython_display_',\n",
       " '_kwargs',\n",
       " '_load_metadata',\n",
       " '_open_dataset',\n",
       " '_open_files',\n",
       " '_original_urlpath',\n",
       " '_path_as_pattern',\n",
       " '_persist',\n",
       " '_schema',\n",
       " '_urlpath',\n",
       " '_yaml',\n",
       " 'cache',\n",
       " 'cache_dirs',\n",
       " 'cat',\n",
       " 'catalog_object',\n",
       " 'chunks',\n",
       " 'classname',\n",
       " 'close',\n",
       " 'configure_new',\n",
       " 'container',\n",
       " 'describe',\n",
       " 'description',\n",
       " 'dim',\n",
       " 'discover',\n",
       " 'dtype',\n",
       " 'entry',\n",
       " 'export',\n",
       " 'get',\n",
       " 'get_persisted',\n",
       " 'gui',\n",
       " 'has_been_persisted',\n",
       " 'hvplot',\n",
       " 'is_persisted',\n",
       " 'metadata',\n",
       " 'name',\n",
       " 'npartitions',\n",
       " 'on_server',\n",
       " 'partition_access',\n",
       " 'path_as_pattern',\n",
       " 'pattern',\n",
       " 'persist',\n",
       " 'plot',\n",
       " 'plots',\n",
       " 'read',\n",
       " 'read_chunked',\n",
       " 'read_partition',\n",
       " 'set_cache_dir',\n",
       " 'shape',\n",
       " 'storage_options',\n",
       " 'to_dask',\n",
       " 'to_spark',\n",
       " 'urlpath',\n",
       " 'version',\n",
       " 'yaml']"
      ]
     },
     "execution_count": 16,
     "metadata": {},
     "output_type": "execute_result"
    }
   ],
   "source": [
    "dir(items_s2[ikeys[0]]['B04'])"
   ]
  },
  {
   "cell_type": "code",
   "execution_count": 17,
   "id": "aa552565",
   "metadata": {},
   "outputs": [
    {
     "name": "stdout",
     "output_type": "stream",
     "text": [
      "Band 4 (red)\n"
     ]
    }
   ],
   "source": [
    "print(items_s2[ikeys[0]]['B04'].description)"
   ]
  },
  {
   "cell_type": "code",
   "execution_count": 18,
   "id": "8f0611b9",
   "metadata": {},
   "outputs": [
    {
     "name": "stdout",
     "output_type": "stream",
     "text": [
      "https://sentinel-cogs.s3.us-west-2.amazonaws.com/sentinel-s2-l2a-cogs/23/K/NR/2020/12/S2A_23KNR_20201229_0_L2A/B04.tif\n"
     ]
    }
   ],
   "source": [
    "print(items_s2[ikeys[0]]['B04'].urlpath)"
   ]
  },
  {
   "cell_type": "code",
   "execution_count": 19,
   "id": "87d4f857",
   "metadata": {},
   "outputs": [
    {
     "name": "stdout",
     "output_type": "stream",
     "text": [
      "https://sentinel-cogs.s3.us-west-2.amazonaws.com/sentinel-s2-l2a-cogs/23/K/NR/2020/12/S2A_23KNR_20201229_0_L2A/B04.tif\n"
     ]
    }
   ],
   "source": [
    "print(items_s2[ikeys[0]]['B04'].metadata['href'])"
   ]
  },
  {
   "cell_type": "code",
   "execution_count": 20,
   "id": "2349aee7",
   "metadata": {},
   "outputs": [
    {
     "name": "stdout",
     "output_type": "stream",
     "text": [
      "{\n",
      "  \"title\": \"Band 4 (red)\",\n",
      "  \"type\": \"image/tiff; application=geotiff; profile=cloud-optimized\",\n",
      "  \"roles\": [\n",
      "    \"data\"\n",
      "  ],\n",
      "  \"gsd\": 10,\n",
      "  \"eo:bands\": [\n",
      "    {\n",
      "      \"name\": \"B04\",\n",
      "      \"common_name\": \"red\",\n",
      "      \"center_wavelength\": 0.6645,\n",
      "      \"full_width_half_max\": 0.038\n",
      "    }\n",
      "  ],\n",
      "  \"href\": \"https://sentinel-cogs.s3.us-west-2.amazonaws.com/sentinel-s2-l2a-cogs/23/K/NR/2020/12/S2A_23KNR_20201229_0_L2A/B04.tif\",\n",
      "  \"proj:shape\": [\n",
      "    10980,\n",
      "    10980\n",
      "  ],\n",
      "  \"proj:transform\": [\n",
      "    10,\n",
      "    0,\n",
      "    499980,\n",
      "    0,\n",
      "    -10,\n",
      "    7600000,\n",
      "    0,\n",
      "    0,\n",
      "    1\n",
      "  ],\n",
      "  \"plots\": {\n",
      "    \"geotiff\": {\n",
      "      \"kind\": \"image\",\n",
      "      \"x\": \"x\",\n",
      "      \"y\": \"y\",\n",
      "      \"frame_width\": 500,\n",
      "      \"data_aspect\": 1,\n",
      "      \"rasterize\": true,\n",
      "      \"dynamic\": true,\n",
      "      \"cmap\": \"viridis\"\n",
      "    }\n",
      "  },\n",
      "  \"catalog_dir\": \"\"\n",
      "}\n"
     ]
    }
   ],
   "source": [
    "import json\n",
    "print(json.dumps(items_s2[ikeys[0]]['B04'].metadata,indent=2))"
   ]
  },
  {
   "cell_type": "markdown",
   "id": "d9763064",
   "metadata": {},
   "source": [
    "o check the network traffic on your system, i recommend you look into psutil:\n",
    "\n",
    ">>> psutil.net_io_counters(pernic=True)\n",
    "{'lo': iostat(bytes_sent=799953745, bytes_recv=799953745, packets_sent=453698, packets_recv=453698), \n",
    " 'eth0': iostat(bytes_sent=734324837, bytes_recv=4163935363, packets_sent=3605828, packets_recv=4096685)}\n",
    ">>>\n"
   ]
  },
  {
   "cell_type": "code",
   "execution_count": 21,
   "id": "c3d1681a",
   "metadata": {},
   "outputs": [],
   "source": [
    "import pandas as pd\n",
    "def build_dancecard(ikeys):\n",
    "    bands = ['B04', 'B03', 'B02']\n",
    "    records = []\n",
    "    for key in ikeys:\n",
    "        print(key)\n",
    "        rgb = {}\n",
    "        for band in bands:\n",
    "            url = items_s2[key][band].urlpath\n",
    "            print(url)\n",
    "            rgb[band] = url\n",
    "            #print(rgb.keys())\n",
    "        #print(rgb)\n",
    "        record = [key, rgb['B04'], rgb['B03'], rgb['B02']]\n",
    "        records.append(record)\n",
    "        \n",
    "    rdf = pd.DataFrame(records)\n",
    "    return(rdf)\n",
    "        "
   ]
  },
  {
   "cell_type": "code",
   "execution_count": 22,
   "id": "8680646c",
   "metadata": {},
   "outputs": [
    {
     "name": "stdout",
     "output_type": "stream",
     "text": [
      "S2A_23KNR_20201229_0_L2A\n",
      "https://sentinel-cogs.s3.us-west-2.amazonaws.com/sentinel-s2-l2a-cogs/23/K/NR/2020/12/S2A_23KNR_20201229_0_L2A/B04.tif\n",
      "https://sentinel-cogs.s3.us-west-2.amazonaws.com/sentinel-s2-l2a-cogs/23/K/NR/2020/12/S2A_23KNR_20201229_0_L2A/B03.tif\n",
      "https://sentinel-cogs.s3.us-west-2.amazonaws.com/sentinel-s2-l2a-cogs/23/K/NR/2020/12/S2A_23KNR_20201229_0_L2A/B02.tif\n",
      "S2A_23KPR_20201229_0_L2A\n",
      "https://sentinel-cogs.s3.us-west-2.amazonaws.com/sentinel-s2-l2a-cogs/23/K/PR/2020/12/S2A_23KPR_20201229_0_L2A/B04.tif\n",
      "https://sentinel-cogs.s3.us-west-2.amazonaws.com/sentinel-s2-l2a-cogs/23/K/PR/2020/12/S2A_23KPR_20201229_0_L2A/B03.tif\n",
      "https://sentinel-cogs.s3.us-west-2.amazonaws.com/sentinel-s2-l2a-cogs/23/K/PR/2020/12/S2A_23KPR_20201229_0_L2A/B02.tif\n",
      "S2B_23KNR_20201224_0_L2A\n",
      "https://sentinel-cogs.s3.us-west-2.amazonaws.com/sentinel-s2-l2a-cogs/23/K/NR/2020/12/S2B_23KNR_20201224_0_L2A/B04.tif\n",
      "https://sentinel-cogs.s3.us-west-2.amazonaws.com/sentinel-s2-l2a-cogs/23/K/NR/2020/12/S2B_23KNR_20201224_0_L2A/B03.tif\n",
      "https://sentinel-cogs.s3.us-west-2.amazonaws.com/sentinel-s2-l2a-cogs/23/K/NR/2020/12/S2B_23KNR_20201224_0_L2A/B02.tif\n",
      "S2B_23KPR_20201224_0_L2A\n",
      "https://sentinel-cogs.s3.us-west-2.amazonaws.com/sentinel-s2-l2a-cogs/23/K/PR/2020/12/S2B_23KPR_20201224_0_L2A/B04.tif\n",
      "https://sentinel-cogs.s3.us-west-2.amazonaws.com/sentinel-s2-l2a-cogs/23/K/PR/2020/12/S2B_23KPR_20201224_0_L2A/B03.tif\n",
      "https://sentinel-cogs.s3.us-west-2.amazonaws.com/sentinel-s2-l2a-cogs/23/K/PR/2020/12/S2B_23KPR_20201224_0_L2A/B02.tif\n",
      "S2A_23KNR_20201219_0_L2A\n",
      "https://sentinel-cogs.s3.us-west-2.amazonaws.com/sentinel-s2-l2a-cogs/23/K/NR/2020/12/S2A_23KNR_20201219_0_L2A/B04.tif\n",
      "https://sentinel-cogs.s3.us-west-2.amazonaws.com/sentinel-s2-l2a-cogs/23/K/NR/2020/12/S2A_23KNR_20201219_0_L2A/B03.tif\n",
      "https://sentinel-cogs.s3.us-west-2.amazonaws.com/sentinel-s2-l2a-cogs/23/K/NR/2020/12/S2A_23KNR_20201219_0_L2A/B02.tif\n",
      "S2A_23KPR_20201219_0_L2A\n",
      "https://sentinel-cogs.s3.us-west-2.amazonaws.com/sentinel-s2-l2a-cogs/23/K/PR/2020/12/S2A_23KPR_20201219_0_L2A/B04.tif\n",
      "https://sentinel-cogs.s3.us-west-2.amazonaws.com/sentinel-s2-l2a-cogs/23/K/PR/2020/12/S2A_23KPR_20201219_0_L2A/B03.tif\n",
      "https://sentinel-cogs.s3.us-west-2.amazonaws.com/sentinel-s2-l2a-cogs/23/K/PR/2020/12/S2A_23KPR_20201219_0_L2A/B02.tif\n",
      "S2B_23KNR_20201214_0_L2A\n",
      "https://sentinel-cogs.s3.us-west-2.amazonaws.com/sentinel-s2-l2a-cogs/23/K/NR/2020/12/S2B_23KNR_20201214_0_L2A/B04.tif\n",
      "https://sentinel-cogs.s3.us-west-2.amazonaws.com/sentinel-s2-l2a-cogs/23/K/NR/2020/12/S2B_23KNR_20201214_0_L2A/B03.tif\n",
      "https://sentinel-cogs.s3.us-west-2.amazonaws.com/sentinel-s2-l2a-cogs/23/K/NR/2020/12/S2B_23KNR_20201214_0_L2A/B02.tif\n",
      "S2B_23KPR_20201214_0_L2A\n",
      "https://sentinel-cogs.s3.us-west-2.amazonaws.com/sentinel-s2-l2a-cogs/23/K/PR/2020/12/S2B_23KPR_20201214_0_L2A/B04.tif\n",
      "https://sentinel-cogs.s3.us-west-2.amazonaws.com/sentinel-s2-l2a-cogs/23/K/PR/2020/12/S2B_23KPR_20201214_0_L2A/B03.tif\n",
      "https://sentinel-cogs.s3.us-west-2.amazonaws.com/sentinel-s2-l2a-cogs/23/K/PR/2020/12/S2B_23KPR_20201214_0_L2A/B02.tif\n",
      "S2A_23KNR_20201209_0_L2A\n",
      "https://sentinel-cogs.s3.us-west-2.amazonaws.com/sentinel-s2-l2a-cogs/23/K/NR/2020/12/S2A_23KNR_20201209_0_L2A/B04.tif\n",
      "https://sentinel-cogs.s3.us-west-2.amazonaws.com/sentinel-s2-l2a-cogs/23/K/NR/2020/12/S2A_23KNR_20201209_0_L2A/B03.tif\n",
      "https://sentinel-cogs.s3.us-west-2.amazonaws.com/sentinel-s2-l2a-cogs/23/K/NR/2020/12/S2A_23KNR_20201209_0_L2A/B02.tif\n",
      "S2A_23KPR_20201209_0_L2A\n",
      "https://sentinel-cogs.s3.us-west-2.amazonaws.com/sentinel-s2-l2a-cogs/23/K/PR/2020/12/S2A_23KPR_20201209_0_L2A/B04.tif\n",
      "https://sentinel-cogs.s3.us-west-2.amazonaws.com/sentinel-s2-l2a-cogs/23/K/PR/2020/12/S2A_23KPR_20201209_0_L2A/B03.tif\n",
      "https://sentinel-cogs.s3.us-west-2.amazonaws.com/sentinel-s2-l2a-cogs/23/K/PR/2020/12/S2A_23KPR_20201209_0_L2A/B02.tif\n",
      "S2B_23KNR_20201204_0_L2A\n",
      "https://sentinel-cogs.s3.us-west-2.amazonaws.com/sentinel-s2-l2a-cogs/23/K/NR/2020/12/S2B_23KNR_20201204_0_L2A/B04.tif\n",
      "https://sentinel-cogs.s3.us-west-2.amazonaws.com/sentinel-s2-l2a-cogs/23/K/NR/2020/12/S2B_23KNR_20201204_0_L2A/B03.tif\n",
      "https://sentinel-cogs.s3.us-west-2.amazonaws.com/sentinel-s2-l2a-cogs/23/K/NR/2020/12/S2B_23KNR_20201204_0_L2A/B02.tif\n",
      "S2B_23KPR_20201204_0_L2A\n",
      "https://sentinel-cogs.s3.us-west-2.amazonaws.com/sentinel-s2-l2a-cogs/23/K/PR/2020/12/S2B_23KPR_20201204_0_L2A/B04.tif\n",
      "https://sentinel-cogs.s3.us-west-2.amazonaws.com/sentinel-s2-l2a-cogs/23/K/PR/2020/12/S2B_23KPR_20201204_0_L2A/B03.tif\n",
      "https://sentinel-cogs.s3.us-west-2.amazonaws.com/sentinel-s2-l2a-cogs/23/K/PR/2020/12/S2B_23KPR_20201204_0_L2A/B02.tif\n",
      "S2A_23KNR_20201129_0_L2A\n",
      "https://sentinel-cogs.s3.us-west-2.amazonaws.com/sentinel-s2-l2a-cogs/23/K/NR/2020/11/S2A_23KNR_20201129_0_L2A/B04.tif\n",
      "https://sentinel-cogs.s3.us-west-2.amazonaws.com/sentinel-s2-l2a-cogs/23/K/NR/2020/11/S2A_23KNR_20201129_0_L2A/B03.tif\n",
      "https://sentinel-cogs.s3.us-west-2.amazonaws.com/sentinel-s2-l2a-cogs/23/K/NR/2020/11/S2A_23KNR_20201129_0_L2A/B02.tif\n",
      "S2A_23KPR_20201129_0_L2A\n",
      "https://sentinel-cogs.s3.us-west-2.amazonaws.com/sentinel-s2-l2a-cogs/23/K/PR/2020/11/S2A_23KPR_20201129_0_L2A/B04.tif\n",
      "https://sentinel-cogs.s3.us-west-2.amazonaws.com/sentinel-s2-l2a-cogs/23/K/PR/2020/11/S2A_23KPR_20201129_0_L2A/B03.tif\n",
      "https://sentinel-cogs.s3.us-west-2.amazonaws.com/sentinel-s2-l2a-cogs/23/K/PR/2020/11/S2A_23KPR_20201129_0_L2A/B02.tif\n",
      "S2B_23KNR_20201124_0_L2A\n",
      "https://sentinel-cogs.s3.us-west-2.amazonaws.com/sentinel-s2-l2a-cogs/23/K/NR/2020/11/S2B_23KNR_20201124_0_L2A/B04.tif\n",
      "https://sentinel-cogs.s3.us-west-2.amazonaws.com/sentinel-s2-l2a-cogs/23/K/NR/2020/11/S2B_23KNR_20201124_0_L2A/B03.tif\n",
      "https://sentinel-cogs.s3.us-west-2.amazonaws.com/sentinel-s2-l2a-cogs/23/K/NR/2020/11/S2B_23KNR_20201124_0_L2A/B02.tif\n",
      "S2B_23KPR_20201124_0_L2A\n",
      "https://sentinel-cogs.s3.us-west-2.amazonaws.com/sentinel-s2-l2a-cogs/23/K/PR/2020/11/S2B_23KPR_20201124_0_L2A/B04.tif\n",
      "https://sentinel-cogs.s3.us-west-2.amazonaws.com/sentinel-s2-l2a-cogs/23/K/PR/2020/11/S2B_23KPR_20201124_0_L2A/B03.tif\n",
      "https://sentinel-cogs.s3.us-west-2.amazonaws.com/sentinel-s2-l2a-cogs/23/K/PR/2020/11/S2B_23KPR_20201124_0_L2A/B02.tif\n",
      "S2A_23KNR_20201119_0_L2A\n",
      "https://sentinel-cogs.s3.us-west-2.amazonaws.com/sentinel-s2-l2a-cogs/23/K/NR/2020/11/S2A_23KNR_20201119_0_L2A/B04.tif\n",
      "https://sentinel-cogs.s3.us-west-2.amazonaws.com/sentinel-s2-l2a-cogs/23/K/NR/2020/11/S2A_23KNR_20201119_0_L2A/B03.tif\n",
      "https://sentinel-cogs.s3.us-west-2.amazonaws.com/sentinel-s2-l2a-cogs/23/K/NR/2020/11/S2A_23KNR_20201119_0_L2A/B02.tif\n",
      "S2A_23KPR_20201119_0_L2A\n",
      "https://sentinel-cogs.s3.us-west-2.amazonaws.com/sentinel-s2-l2a-cogs/23/K/PR/2020/11/S2A_23KPR_20201119_0_L2A/B04.tif\n",
      "https://sentinel-cogs.s3.us-west-2.amazonaws.com/sentinel-s2-l2a-cogs/23/K/PR/2020/11/S2A_23KPR_20201119_0_L2A/B03.tif\n",
      "https://sentinel-cogs.s3.us-west-2.amazonaws.com/sentinel-s2-l2a-cogs/23/K/PR/2020/11/S2A_23KPR_20201119_0_L2A/B02.tif\n",
      "S2B_23KNR_20201114_0_L2A\n",
      "https://sentinel-cogs.s3.us-west-2.amazonaws.com/sentinel-s2-l2a-cogs/23/K/NR/2020/11/S2B_23KNR_20201114_0_L2A/B04.tif\n",
      "https://sentinel-cogs.s3.us-west-2.amazonaws.com/sentinel-s2-l2a-cogs/23/K/NR/2020/11/S2B_23KNR_20201114_0_L2A/B03.tif\n",
      "https://sentinel-cogs.s3.us-west-2.amazonaws.com/sentinel-s2-l2a-cogs/23/K/NR/2020/11/S2B_23KNR_20201114_0_L2A/B02.tif\n",
      "S2B_23KPR_20201114_0_L2A\n",
      "https://sentinel-cogs.s3.us-west-2.amazonaws.com/sentinel-s2-l2a-cogs/23/K/PR/2020/11/S2B_23KPR_20201114_0_L2A/B04.tif\n",
      "https://sentinel-cogs.s3.us-west-2.amazonaws.com/sentinel-s2-l2a-cogs/23/K/PR/2020/11/S2B_23KPR_20201114_0_L2A/B03.tif\n",
      "https://sentinel-cogs.s3.us-west-2.amazonaws.com/sentinel-s2-l2a-cogs/23/K/PR/2020/11/S2B_23KPR_20201114_0_L2A/B02.tif\n",
      "S2A_23KNR_20201109_0_L2A\n",
      "https://sentinel-cogs.s3.us-west-2.amazonaws.com/sentinel-s2-l2a-cogs/23/K/NR/2020/11/S2A_23KNR_20201109_0_L2A/B04.tif\n",
      "https://sentinel-cogs.s3.us-west-2.amazonaws.com/sentinel-s2-l2a-cogs/23/K/NR/2020/11/S2A_23KNR_20201109_0_L2A/B03.tif\n",
      "https://sentinel-cogs.s3.us-west-2.amazonaws.com/sentinel-s2-l2a-cogs/23/K/NR/2020/11/S2A_23KNR_20201109_0_L2A/B02.tif\n",
      "S2A_23KPR_20201109_0_L2A\n",
      "https://sentinel-cogs.s3.us-west-2.amazonaws.com/sentinel-s2-l2a-cogs/23/K/PR/2020/11/S2A_23KPR_20201109_0_L2A/B04.tif\n",
      "https://sentinel-cogs.s3.us-west-2.amazonaws.com/sentinel-s2-l2a-cogs/23/K/PR/2020/11/S2A_23KPR_20201109_0_L2A/B03.tif\n",
      "https://sentinel-cogs.s3.us-west-2.amazonaws.com/sentinel-s2-l2a-cogs/23/K/PR/2020/11/S2A_23KPR_20201109_0_L2A/B02.tif\n",
      "S2B_23KNR_20201104_0_L2A\n"
     ]
    },
    {
     "name": "stdout",
     "output_type": "stream",
     "text": [
      "https://sentinel-cogs.s3.us-west-2.amazonaws.com/sentinel-s2-l2a-cogs/23/K/NR/2020/11/S2B_23KNR_20201104_0_L2A/B04.tif\n",
      "https://sentinel-cogs.s3.us-west-2.amazonaws.com/sentinel-s2-l2a-cogs/23/K/NR/2020/11/S2B_23KNR_20201104_0_L2A/B03.tif\n",
      "https://sentinel-cogs.s3.us-west-2.amazonaws.com/sentinel-s2-l2a-cogs/23/K/NR/2020/11/S2B_23KNR_20201104_0_L2A/B02.tif\n",
      "S2B_23KPR_20201104_0_L2A\n",
      "https://sentinel-cogs.s3.us-west-2.amazonaws.com/sentinel-s2-l2a-cogs/23/K/PR/2020/11/S2B_23KPR_20201104_0_L2A/B04.tif\n",
      "https://sentinel-cogs.s3.us-west-2.amazonaws.com/sentinel-s2-l2a-cogs/23/K/PR/2020/11/S2B_23KPR_20201104_0_L2A/B03.tif\n",
      "https://sentinel-cogs.s3.us-west-2.amazonaws.com/sentinel-s2-l2a-cogs/23/K/PR/2020/11/S2B_23KPR_20201104_0_L2A/B02.tif\n",
      "S2A_23KNR_20201030_0_L2A\n",
      "https://sentinel-cogs.s3.us-west-2.amazonaws.com/sentinel-s2-l2a-cogs/23/K/NR/2020/10/S2A_23KNR_20201030_0_L2A/B04.tif\n",
      "https://sentinel-cogs.s3.us-west-2.amazonaws.com/sentinel-s2-l2a-cogs/23/K/NR/2020/10/S2A_23KNR_20201030_0_L2A/B03.tif\n",
      "https://sentinel-cogs.s3.us-west-2.amazonaws.com/sentinel-s2-l2a-cogs/23/K/NR/2020/10/S2A_23KNR_20201030_0_L2A/B02.tif\n",
      "S2A_23KPR_20201030_0_L2A\n",
      "https://sentinel-cogs.s3.us-west-2.amazonaws.com/sentinel-s2-l2a-cogs/23/K/PR/2020/10/S2A_23KPR_20201030_0_L2A/B04.tif\n",
      "https://sentinel-cogs.s3.us-west-2.amazonaws.com/sentinel-s2-l2a-cogs/23/K/PR/2020/10/S2A_23KPR_20201030_0_L2A/B03.tif\n",
      "https://sentinel-cogs.s3.us-west-2.amazonaws.com/sentinel-s2-l2a-cogs/23/K/PR/2020/10/S2A_23KPR_20201030_0_L2A/B02.tif\n",
      "S2B_23KNR_20201025_0_L2A\n",
      "https://sentinel-cogs.s3.us-west-2.amazonaws.com/sentinel-s2-l2a-cogs/23/K/NR/2020/10/S2B_23KNR_20201025_0_L2A/B04.tif\n",
      "https://sentinel-cogs.s3.us-west-2.amazonaws.com/sentinel-s2-l2a-cogs/23/K/NR/2020/10/S2B_23KNR_20201025_0_L2A/B03.tif\n",
      "https://sentinel-cogs.s3.us-west-2.amazonaws.com/sentinel-s2-l2a-cogs/23/K/NR/2020/10/S2B_23KNR_20201025_0_L2A/B02.tif\n",
      "S2B_23KPR_20201025_0_L2A\n",
      "https://sentinel-cogs.s3.us-west-2.amazonaws.com/sentinel-s2-l2a-cogs/23/K/PR/2020/10/S2B_23KPR_20201025_0_L2A/B04.tif\n",
      "https://sentinel-cogs.s3.us-west-2.amazonaws.com/sentinel-s2-l2a-cogs/23/K/PR/2020/10/S2B_23KPR_20201025_0_L2A/B03.tif\n",
      "https://sentinel-cogs.s3.us-west-2.amazonaws.com/sentinel-s2-l2a-cogs/23/K/PR/2020/10/S2B_23KPR_20201025_0_L2A/B02.tif\n",
      "S2A_23KNR_20201020_0_L2A\n",
      "https://sentinel-cogs.s3.us-west-2.amazonaws.com/sentinel-s2-l2a-cogs/23/K/NR/2020/10/S2A_23KNR_20201020_0_L2A/B04.tif\n",
      "https://sentinel-cogs.s3.us-west-2.amazonaws.com/sentinel-s2-l2a-cogs/23/K/NR/2020/10/S2A_23KNR_20201020_0_L2A/B03.tif\n",
      "https://sentinel-cogs.s3.us-west-2.amazonaws.com/sentinel-s2-l2a-cogs/23/K/NR/2020/10/S2A_23KNR_20201020_0_L2A/B02.tif\n",
      "S2A_23KPR_20201020_0_L2A\n",
      "https://sentinel-cogs.s3.us-west-2.amazonaws.com/sentinel-s2-l2a-cogs/23/K/PR/2020/10/S2A_23KPR_20201020_0_L2A/B04.tif\n",
      "https://sentinel-cogs.s3.us-west-2.amazonaws.com/sentinel-s2-l2a-cogs/23/K/PR/2020/10/S2A_23KPR_20201020_0_L2A/B03.tif\n",
      "https://sentinel-cogs.s3.us-west-2.amazonaws.com/sentinel-s2-l2a-cogs/23/K/PR/2020/10/S2A_23KPR_20201020_0_L2A/B02.tif\n",
      "S2B_23KNR_20201015_0_L2A\n",
      "https://sentinel-cogs.s3.us-west-2.amazonaws.com/sentinel-s2-l2a-cogs/23/K/NR/2020/10/S2B_23KNR_20201015_0_L2A/B04.tif\n",
      "https://sentinel-cogs.s3.us-west-2.amazonaws.com/sentinel-s2-l2a-cogs/23/K/NR/2020/10/S2B_23KNR_20201015_0_L2A/B03.tif\n",
      "https://sentinel-cogs.s3.us-west-2.amazonaws.com/sentinel-s2-l2a-cogs/23/K/NR/2020/10/S2B_23KNR_20201015_0_L2A/B02.tif\n",
      "S2B_23KPR_20201015_0_L2A\n",
      "https://sentinel-cogs.s3.us-west-2.amazonaws.com/sentinel-s2-l2a-cogs/23/K/PR/2020/10/S2B_23KPR_20201015_0_L2A/B04.tif\n",
      "https://sentinel-cogs.s3.us-west-2.amazonaws.com/sentinel-s2-l2a-cogs/23/K/PR/2020/10/S2B_23KPR_20201015_0_L2A/B03.tif\n",
      "https://sentinel-cogs.s3.us-west-2.amazonaws.com/sentinel-s2-l2a-cogs/23/K/PR/2020/10/S2B_23KPR_20201015_0_L2A/B02.tif\n",
      "S2A_23KNR_20201010_0_L2A\n",
      "https://sentinel-cogs.s3.us-west-2.amazonaws.com/sentinel-s2-l2a-cogs/23/K/NR/2020/10/S2A_23KNR_20201010_0_L2A/B04.tif\n",
      "https://sentinel-cogs.s3.us-west-2.amazonaws.com/sentinel-s2-l2a-cogs/23/K/NR/2020/10/S2A_23KNR_20201010_0_L2A/B03.tif\n",
      "https://sentinel-cogs.s3.us-west-2.amazonaws.com/sentinel-s2-l2a-cogs/23/K/NR/2020/10/S2A_23KNR_20201010_0_L2A/B02.tif\n",
      "S2A_23KPR_20201010_0_L2A\n",
      "https://sentinel-cogs.s3.us-west-2.amazonaws.com/sentinel-s2-l2a-cogs/23/K/PR/2020/10/S2A_23KPR_20201010_0_L2A/B04.tif\n",
      "https://sentinel-cogs.s3.us-west-2.amazonaws.com/sentinel-s2-l2a-cogs/23/K/PR/2020/10/S2A_23KPR_20201010_0_L2A/B03.tif\n",
      "https://sentinel-cogs.s3.us-west-2.amazonaws.com/sentinel-s2-l2a-cogs/23/K/PR/2020/10/S2A_23KPR_20201010_0_L2A/B02.tif\n",
      "S2B_23KNR_20201005_0_L2A\n",
      "https://sentinel-cogs.s3.us-west-2.amazonaws.com/sentinel-s2-l2a-cogs/23/K/NR/2020/10/S2B_23KNR_20201005_0_L2A/B04.tif\n",
      "https://sentinel-cogs.s3.us-west-2.amazonaws.com/sentinel-s2-l2a-cogs/23/K/NR/2020/10/S2B_23KNR_20201005_0_L2A/B03.tif\n",
      "https://sentinel-cogs.s3.us-west-2.amazonaws.com/sentinel-s2-l2a-cogs/23/K/NR/2020/10/S2B_23KNR_20201005_0_L2A/B02.tif\n",
      "S2B_23KPR_20201005_0_L2A\n",
      "https://sentinel-cogs.s3.us-west-2.amazonaws.com/sentinel-s2-l2a-cogs/23/K/PR/2020/10/S2B_23KPR_20201005_0_L2A/B04.tif\n",
      "https://sentinel-cogs.s3.us-west-2.amazonaws.com/sentinel-s2-l2a-cogs/23/K/PR/2020/10/S2B_23KPR_20201005_0_L2A/B03.tif\n",
      "https://sentinel-cogs.s3.us-west-2.amazonaws.com/sentinel-s2-l2a-cogs/23/K/PR/2020/10/S2B_23KPR_20201005_0_L2A/B02.tif\n",
      "S2A_23KNR_20200930_0_L2A\n",
      "https://sentinel-cogs.s3.us-west-2.amazonaws.com/sentinel-s2-l2a-cogs/23/K/NR/2020/9/S2A_23KNR_20200930_0_L2A/B04.tif\n",
      "https://sentinel-cogs.s3.us-west-2.amazonaws.com/sentinel-s2-l2a-cogs/23/K/NR/2020/9/S2A_23KNR_20200930_0_L2A/B03.tif\n",
      "https://sentinel-cogs.s3.us-west-2.amazonaws.com/sentinel-s2-l2a-cogs/23/K/NR/2020/9/S2A_23KNR_20200930_0_L2A/B02.tif\n",
      "S2A_23KPR_20200930_0_L2A\n",
      "https://sentinel-cogs.s3.us-west-2.amazonaws.com/sentinel-s2-l2a-cogs/23/K/PR/2020/9/S2A_23KPR_20200930_0_L2A/B04.tif\n",
      "https://sentinel-cogs.s3.us-west-2.amazonaws.com/sentinel-s2-l2a-cogs/23/K/PR/2020/9/S2A_23KPR_20200930_0_L2A/B03.tif\n",
      "https://sentinel-cogs.s3.us-west-2.amazonaws.com/sentinel-s2-l2a-cogs/23/K/PR/2020/9/S2A_23KPR_20200930_0_L2A/B02.tif\n",
      "S2B_23KNR_20200925_0_L2A\n",
      "https://sentinel-cogs.s3.us-west-2.amazonaws.com/sentinel-s2-l2a-cogs/23/K/NR/2020/9/S2B_23KNR_20200925_0_L2A/B04.tif\n",
      "https://sentinel-cogs.s3.us-west-2.amazonaws.com/sentinel-s2-l2a-cogs/23/K/NR/2020/9/S2B_23KNR_20200925_0_L2A/B03.tif\n",
      "https://sentinel-cogs.s3.us-west-2.amazonaws.com/sentinel-s2-l2a-cogs/23/K/NR/2020/9/S2B_23KNR_20200925_0_L2A/B02.tif\n",
      "S2B_23KPR_20200925_0_L2A\n",
      "https://sentinel-cogs.s3.us-west-2.amazonaws.com/sentinel-s2-l2a-cogs/23/K/PR/2020/9/S2B_23KPR_20200925_0_L2A/B04.tif\n",
      "https://sentinel-cogs.s3.us-west-2.amazonaws.com/sentinel-s2-l2a-cogs/23/K/PR/2020/9/S2B_23KPR_20200925_0_L2A/B03.tif\n",
      "https://sentinel-cogs.s3.us-west-2.amazonaws.com/sentinel-s2-l2a-cogs/23/K/PR/2020/9/S2B_23KPR_20200925_0_L2A/B02.tif\n",
      "S2A_23KNR_20200920_0_L2A\n",
      "https://sentinel-cogs.s3.us-west-2.amazonaws.com/sentinel-s2-l2a-cogs/23/K/NR/2020/9/S2A_23KNR_20200920_0_L2A/B04.tif\n",
      "https://sentinel-cogs.s3.us-west-2.amazonaws.com/sentinel-s2-l2a-cogs/23/K/NR/2020/9/S2A_23KNR_20200920_0_L2A/B03.tif\n",
      "https://sentinel-cogs.s3.us-west-2.amazonaws.com/sentinel-s2-l2a-cogs/23/K/NR/2020/9/S2A_23KNR_20200920_0_L2A/B02.tif\n",
      "S2A_23KPR_20200920_0_L2A\n",
      "https://sentinel-cogs.s3.us-west-2.amazonaws.com/sentinel-s2-l2a-cogs/23/K/PR/2020/9/S2A_23KPR_20200920_0_L2A/B04.tif\n",
      "https://sentinel-cogs.s3.us-west-2.amazonaws.com/sentinel-s2-l2a-cogs/23/K/PR/2020/9/S2A_23KPR_20200920_0_L2A/B03.tif\n",
      "https://sentinel-cogs.s3.us-west-2.amazonaws.com/sentinel-s2-l2a-cogs/23/K/PR/2020/9/S2A_23KPR_20200920_0_L2A/B02.tif\n",
      "S2B_23KNR_20200915_0_L2A\n",
      "https://sentinel-cogs.s3.us-west-2.amazonaws.com/sentinel-s2-l2a-cogs/23/K/NR/2020/9/S2B_23KNR_20200915_0_L2A/B04.tif\n",
      "https://sentinel-cogs.s3.us-west-2.amazonaws.com/sentinel-s2-l2a-cogs/23/K/NR/2020/9/S2B_23KNR_20200915_0_L2A/B03.tif\n",
      "https://sentinel-cogs.s3.us-west-2.amazonaws.com/sentinel-s2-l2a-cogs/23/K/NR/2020/9/S2B_23KNR_20200915_0_L2A/B02.tif\n",
      "S2B_23KPR_20200915_0_L2A\n",
      "https://sentinel-cogs.s3.us-west-2.amazonaws.com/sentinel-s2-l2a-cogs/23/K/PR/2020/9/S2B_23KPR_20200915_0_L2A/B04.tif\n",
      "https://sentinel-cogs.s3.us-west-2.amazonaws.com/sentinel-s2-l2a-cogs/23/K/PR/2020/9/S2B_23KPR_20200915_0_L2A/B03.tif\n"
     ]
    },
    {
     "name": "stdout",
     "output_type": "stream",
     "text": [
      "https://sentinel-cogs.s3.us-west-2.amazonaws.com/sentinel-s2-l2a-cogs/23/K/PR/2020/9/S2B_23KPR_20200915_0_L2A/B02.tif\n",
      "S2A_23KNR_20200910_0_L2A\n",
      "https://sentinel-cogs.s3.us-west-2.amazonaws.com/sentinel-s2-l2a-cogs/23/K/NR/2020/9/S2A_23KNR_20200910_0_L2A/B04.tif\n",
      "https://sentinel-cogs.s3.us-west-2.amazonaws.com/sentinel-s2-l2a-cogs/23/K/NR/2020/9/S2A_23KNR_20200910_0_L2A/B03.tif\n",
      "https://sentinel-cogs.s3.us-west-2.amazonaws.com/sentinel-s2-l2a-cogs/23/K/NR/2020/9/S2A_23KNR_20200910_0_L2A/B02.tif\n",
      "S2A_23KPR_20200910_0_L2A\n",
      "https://sentinel-cogs.s3.us-west-2.amazonaws.com/sentinel-s2-l2a-cogs/23/K/PR/2020/9/S2A_23KPR_20200910_0_L2A/B04.tif\n",
      "https://sentinel-cogs.s3.us-west-2.amazonaws.com/sentinel-s2-l2a-cogs/23/K/PR/2020/9/S2A_23KPR_20200910_0_L2A/B03.tif\n",
      "https://sentinel-cogs.s3.us-west-2.amazonaws.com/sentinel-s2-l2a-cogs/23/K/PR/2020/9/S2A_23KPR_20200910_0_L2A/B02.tif\n",
      "S2B_23KNR_20200905_0_L2A\n",
      "https://sentinel-cogs.s3.us-west-2.amazonaws.com/sentinel-s2-l2a-cogs/23/K/NR/2020/9/S2B_23KNR_20200905_0_L2A/B04.tif\n",
      "https://sentinel-cogs.s3.us-west-2.amazonaws.com/sentinel-s2-l2a-cogs/23/K/NR/2020/9/S2B_23KNR_20200905_0_L2A/B03.tif\n",
      "https://sentinel-cogs.s3.us-west-2.amazonaws.com/sentinel-s2-l2a-cogs/23/K/NR/2020/9/S2B_23KNR_20200905_0_L2A/B02.tif\n",
      "S2B_23KPR_20200905_0_L2A\n",
      "https://sentinel-cogs.s3.us-west-2.amazonaws.com/sentinel-s2-l2a-cogs/23/K/PR/2020/9/S2B_23KPR_20200905_0_L2A/B04.tif\n",
      "https://sentinel-cogs.s3.us-west-2.amazonaws.com/sentinel-s2-l2a-cogs/23/K/PR/2020/9/S2B_23KPR_20200905_0_L2A/B03.tif\n",
      "https://sentinel-cogs.s3.us-west-2.amazonaws.com/sentinel-s2-l2a-cogs/23/K/PR/2020/9/S2B_23KPR_20200905_0_L2A/B02.tif\n",
      "S2A_23KNR_20200831_0_L2A\n",
      "https://sentinel-cogs.s3.us-west-2.amazonaws.com/sentinel-s2-l2a-cogs/23/K/NR/2020/8/S2A_23KNR_20200831_0_L2A/B04.tif\n",
      "https://sentinel-cogs.s3.us-west-2.amazonaws.com/sentinel-s2-l2a-cogs/23/K/NR/2020/8/S2A_23KNR_20200831_0_L2A/B03.tif\n",
      "https://sentinel-cogs.s3.us-west-2.amazonaws.com/sentinel-s2-l2a-cogs/23/K/NR/2020/8/S2A_23KNR_20200831_0_L2A/B02.tif\n",
      "S2A_23KPR_20200831_0_L2A\n",
      "https://sentinel-cogs.s3.us-west-2.amazonaws.com/sentinel-s2-l2a-cogs/23/K/PR/2020/8/S2A_23KPR_20200831_0_L2A/B04.tif\n",
      "https://sentinel-cogs.s3.us-west-2.amazonaws.com/sentinel-s2-l2a-cogs/23/K/PR/2020/8/S2A_23KPR_20200831_0_L2A/B03.tif\n",
      "https://sentinel-cogs.s3.us-west-2.amazonaws.com/sentinel-s2-l2a-cogs/23/K/PR/2020/8/S2A_23KPR_20200831_0_L2A/B02.tif\n",
      "S2B_23KNR_20200826_0_L2A\n",
      "https://sentinel-cogs.s3.us-west-2.amazonaws.com/sentinel-s2-l2a-cogs/23/K/NR/2020/8/S2B_23KNR_20200826_0_L2A/B04.tif\n",
      "https://sentinel-cogs.s3.us-west-2.amazonaws.com/sentinel-s2-l2a-cogs/23/K/NR/2020/8/S2B_23KNR_20200826_0_L2A/B03.tif\n",
      "https://sentinel-cogs.s3.us-west-2.amazonaws.com/sentinel-s2-l2a-cogs/23/K/NR/2020/8/S2B_23KNR_20200826_0_L2A/B02.tif\n",
      "S2B_23KPR_20200826_0_L2A\n",
      "https://sentinel-cogs.s3.us-west-2.amazonaws.com/sentinel-s2-l2a-cogs/23/K/PR/2020/8/S2B_23KPR_20200826_0_L2A/B04.tif\n",
      "https://sentinel-cogs.s3.us-west-2.amazonaws.com/sentinel-s2-l2a-cogs/23/K/PR/2020/8/S2B_23KPR_20200826_0_L2A/B03.tif\n",
      "https://sentinel-cogs.s3.us-west-2.amazonaws.com/sentinel-s2-l2a-cogs/23/K/PR/2020/8/S2B_23KPR_20200826_0_L2A/B02.tif\n",
      "S2A_23KNR_20200821_0_L2A\n",
      "https://sentinel-cogs.s3.us-west-2.amazonaws.com/sentinel-s2-l2a-cogs/23/K/NR/2020/8/S2A_23KNR_20200821_0_L2A/B04.tif\n",
      "https://sentinel-cogs.s3.us-west-2.amazonaws.com/sentinel-s2-l2a-cogs/23/K/NR/2020/8/S2A_23KNR_20200821_0_L2A/B03.tif\n",
      "https://sentinel-cogs.s3.us-west-2.amazonaws.com/sentinel-s2-l2a-cogs/23/K/NR/2020/8/S2A_23KNR_20200821_0_L2A/B02.tif\n",
      "S2A_23KPR_20200821_0_L2A\n",
      "https://sentinel-cogs.s3.us-west-2.amazonaws.com/sentinel-s2-l2a-cogs/23/K/PR/2020/8/S2A_23KPR_20200821_0_L2A/B04.tif\n",
      "https://sentinel-cogs.s3.us-west-2.amazonaws.com/sentinel-s2-l2a-cogs/23/K/PR/2020/8/S2A_23KPR_20200821_0_L2A/B03.tif\n",
      "https://sentinel-cogs.s3.us-west-2.amazonaws.com/sentinel-s2-l2a-cogs/23/K/PR/2020/8/S2A_23KPR_20200821_0_L2A/B02.tif\n",
      "S2B_23KNR_20200816_0_L2A\n",
      "https://sentinel-cogs.s3.us-west-2.amazonaws.com/sentinel-s2-l2a-cogs/23/K/NR/2020/8/S2B_23KNR_20200816_0_L2A/B04.tif\n",
      "https://sentinel-cogs.s3.us-west-2.amazonaws.com/sentinel-s2-l2a-cogs/23/K/NR/2020/8/S2B_23KNR_20200816_0_L2A/B03.tif\n",
      "https://sentinel-cogs.s3.us-west-2.amazonaws.com/sentinel-s2-l2a-cogs/23/K/NR/2020/8/S2B_23KNR_20200816_0_L2A/B02.tif\n",
      "S2B_23KPR_20200816_0_L2A\n",
      "https://sentinel-cogs.s3.us-west-2.amazonaws.com/sentinel-s2-l2a-cogs/23/K/PR/2020/8/S2B_23KPR_20200816_0_L2A/B04.tif\n",
      "https://sentinel-cogs.s3.us-west-2.amazonaws.com/sentinel-s2-l2a-cogs/23/K/PR/2020/8/S2B_23KPR_20200816_0_L2A/B03.tif\n",
      "https://sentinel-cogs.s3.us-west-2.amazonaws.com/sentinel-s2-l2a-cogs/23/K/PR/2020/8/S2B_23KPR_20200816_0_L2A/B02.tif\n",
      "S2A_23KNR_20200811_1_L2A\n",
      "https://sentinel-cogs.s3.us-west-2.amazonaws.com/sentinel-s2-l2a-cogs/23/K/NR/2020/8/S2A_23KNR_20200811_1_L2A/B04.tif\n",
      "https://sentinel-cogs.s3.us-west-2.amazonaws.com/sentinel-s2-l2a-cogs/23/K/NR/2020/8/S2A_23KNR_20200811_1_L2A/B03.tif\n",
      "https://sentinel-cogs.s3.us-west-2.amazonaws.com/sentinel-s2-l2a-cogs/23/K/NR/2020/8/S2A_23KNR_20200811_1_L2A/B02.tif\n",
      "S2A_23KPR_20200811_0_L2A\n",
      "https://sentinel-cogs.s3.us-west-2.amazonaws.com/sentinel-s2-l2a-cogs/23/K/PR/2020/8/S2A_23KPR_20200811_0_L2A/B04.tif\n",
      "https://sentinel-cogs.s3.us-west-2.amazonaws.com/sentinel-s2-l2a-cogs/23/K/PR/2020/8/S2A_23KPR_20200811_0_L2A/B03.tif\n",
      "https://sentinel-cogs.s3.us-west-2.amazonaws.com/sentinel-s2-l2a-cogs/23/K/PR/2020/8/S2A_23KPR_20200811_0_L2A/B02.tif\n",
      "S2B_23KNR_20200806_0_L2A\n",
      "https://sentinel-cogs.s3.us-west-2.amazonaws.com/sentinel-s2-l2a-cogs/23/K/NR/2020/8/S2B_23KNR_20200806_0_L2A/B04.tif\n",
      "https://sentinel-cogs.s3.us-west-2.amazonaws.com/sentinel-s2-l2a-cogs/23/K/NR/2020/8/S2B_23KNR_20200806_0_L2A/B03.tif\n",
      "https://sentinel-cogs.s3.us-west-2.amazonaws.com/sentinel-s2-l2a-cogs/23/K/NR/2020/8/S2B_23KNR_20200806_0_L2A/B02.tif\n",
      "S2B_23KPR_20200806_0_L2A\n",
      "https://sentinel-cogs.s3.us-west-2.amazonaws.com/sentinel-s2-l2a-cogs/23/K/PR/2020/8/S2B_23KPR_20200806_0_L2A/B04.tif\n",
      "https://sentinel-cogs.s3.us-west-2.amazonaws.com/sentinel-s2-l2a-cogs/23/K/PR/2020/8/S2B_23KPR_20200806_0_L2A/B03.tif\n",
      "https://sentinel-cogs.s3.us-west-2.amazonaws.com/sentinel-s2-l2a-cogs/23/K/PR/2020/8/S2B_23KPR_20200806_0_L2A/B02.tif\n",
      "S2A_23KNR_20200801_0_L2A\n",
      "https://sentinel-cogs.s3.us-west-2.amazonaws.com/sentinel-s2-l2a-cogs/23/K/NR/2020/8/S2A_23KNR_20200801_0_L2A/B04.tif\n",
      "https://sentinel-cogs.s3.us-west-2.amazonaws.com/sentinel-s2-l2a-cogs/23/K/NR/2020/8/S2A_23KNR_20200801_0_L2A/B03.tif\n",
      "https://sentinel-cogs.s3.us-west-2.amazonaws.com/sentinel-s2-l2a-cogs/23/K/NR/2020/8/S2A_23KNR_20200801_0_L2A/B02.tif\n",
      "S2A_23KPR_20200801_0_L2A\n",
      "https://sentinel-cogs.s3.us-west-2.amazonaws.com/sentinel-s2-l2a-cogs/23/K/PR/2020/8/S2A_23KPR_20200801_0_L2A/B04.tif\n",
      "https://sentinel-cogs.s3.us-west-2.amazonaws.com/sentinel-s2-l2a-cogs/23/K/PR/2020/8/S2A_23KPR_20200801_0_L2A/B03.tif\n",
      "https://sentinel-cogs.s3.us-west-2.amazonaws.com/sentinel-s2-l2a-cogs/23/K/PR/2020/8/S2A_23KPR_20200801_0_L2A/B02.tif\n",
      "S2B_23KNR_20200727_0_L2A\n",
      "https://sentinel-cogs.s3.us-west-2.amazonaws.com/sentinel-s2-l2a-cogs/23/K/NR/2020/7/S2B_23KNR_20200727_0_L2A/B04.tif\n",
      "https://sentinel-cogs.s3.us-west-2.amazonaws.com/sentinel-s2-l2a-cogs/23/K/NR/2020/7/S2B_23KNR_20200727_0_L2A/B03.tif\n",
      "https://sentinel-cogs.s3.us-west-2.amazonaws.com/sentinel-s2-l2a-cogs/23/K/NR/2020/7/S2B_23KNR_20200727_0_L2A/B02.tif\n",
      "S2B_23KPR_20200727_0_L2A\n",
      "https://sentinel-cogs.s3.us-west-2.amazonaws.com/sentinel-s2-l2a-cogs/23/K/PR/2020/7/S2B_23KPR_20200727_0_L2A/B04.tif\n",
      "https://sentinel-cogs.s3.us-west-2.amazonaws.com/sentinel-s2-l2a-cogs/23/K/PR/2020/7/S2B_23KPR_20200727_0_L2A/B03.tif\n",
      "https://sentinel-cogs.s3.us-west-2.amazonaws.com/sentinel-s2-l2a-cogs/23/K/PR/2020/7/S2B_23KPR_20200727_0_L2A/B02.tif\n",
      "S2A_23KNR_20200722_0_L2A\n",
      "https://sentinel-cogs.s3.us-west-2.amazonaws.com/sentinel-s2-l2a-cogs/23/K/NR/2020/7/S2A_23KNR_20200722_0_L2A/B04.tif\n",
      "https://sentinel-cogs.s3.us-west-2.amazonaws.com/sentinel-s2-l2a-cogs/23/K/NR/2020/7/S2A_23KNR_20200722_0_L2A/B03.tif\n",
      "https://sentinel-cogs.s3.us-west-2.amazonaws.com/sentinel-s2-l2a-cogs/23/K/NR/2020/7/S2A_23KNR_20200722_0_L2A/B02.tif\n",
      "S2A_23KPR_20200722_0_L2A\n",
      "https://sentinel-cogs.s3.us-west-2.amazonaws.com/sentinel-s2-l2a-cogs/23/K/PR/2020/7/S2A_23KPR_20200722_0_L2A/B04.tif\n",
      "https://sentinel-cogs.s3.us-west-2.amazonaws.com/sentinel-s2-l2a-cogs/23/K/PR/2020/7/S2A_23KPR_20200722_0_L2A/B03.tif\n",
      "https://sentinel-cogs.s3.us-west-2.amazonaws.com/sentinel-s2-l2a-cogs/23/K/PR/2020/7/S2A_23KPR_20200722_0_L2A/B02.tif\n",
      "S2B_23KNR_20200717_0_L2A\n",
      "https://sentinel-cogs.s3.us-west-2.amazonaws.com/sentinel-s2-l2a-cogs/23/K/NR/2020/7/S2B_23KNR_20200717_0_L2A/B04.tif\n"
     ]
    },
    {
     "name": "stdout",
     "output_type": "stream",
     "text": [
      "https://sentinel-cogs.s3.us-west-2.amazonaws.com/sentinel-s2-l2a-cogs/23/K/NR/2020/7/S2B_23KNR_20200717_0_L2A/B03.tif\n",
      "https://sentinel-cogs.s3.us-west-2.amazonaws.com/sentinel-s2-l2a-cogs/23/K/NR/2020/7/S2B_23KNR_20200717_0_L2A/B02.tif\n",
      "S2B_23KPR_20200717_0_L2A\n",
      "https://sentinel-cogs.s3.us-west-2.amazonaws.com/sentinel-s2-l2a-cogs/23/K/PR/2020/7/S2B_23KPR_20200717_0_L2A/B04.tif\n",
      "https://sentinel-cogs.s3.us-west-2.amazonaws.com/sentinel-s2-l2a-cogs/23/K/PR/2020/7/S2B_23KPR_20200717_0_L2A/B03.tif\n",
      "https://sentinel-cogs.s3.us-west-2.amazonaws.com/sentinel-s2-l2a-cogs/23/K/PR/2020/7/S2B_23KPR_20200717_0_L2A/B02.tif\n",
      "S2A_23KNR_20200712_0_L2A\n",
      "https://sentinel-cogs.s3.us-west-2.amazonaws.com/sentinel-s2-l2a-cogs/23/K/NR/2020/7/S2A_23KNR_20200712_0_L2A/B04.tif\n",
      "https://sentinel-cogs.s3.us-west-2.amazonaws.com/sentinel-s2-l2a-cogs/23/K/NR/2020/7/S2A_23KNR_20200712_0_L2A/B03.tif\n",
      "https://sentinel-cogs.s3.us-west-2.amazonaws.com/sentinel-s2-l2a-cogs/23/K/NR/2020/7/S2A_23KNR_20200712_0_L2A/B02.tif\n",
      "S2A_23KPR_20200712_0_L2A\n",
      "https://sentinel-cogs.s3.us-west-2.amazonaws.com/sentinel-s2-l2a-cogs/23/K/PR/2020/7/S2A_23KPR_20200712_0_L2A/B04.tif\n",
      "https://sentinel-cogs.s3.us-west-2.amazonaws.com/sentinel-s2-l2a-cogs/23/K/PR/2020/7/S2A_23KPR_20200712_0_L2A/B03.tif\n",
      "https://sentinel-cogs.s3.us-west-2.amazonaws.com/sentinel-s2-l2a-cogs/23/K/PR/2020/7/S2A_23KPR_20200712_0_L2A/B02.tif\n",
      "S2B_23KNR_20200707_0_L2A\n",
      "https://sentinel-cogs.s3.us-west-2.amazonaws.com/sentinel-s2-l2a-cogs/23/K/NR/2020/7/S2B_23KNR_20200707_0_L2A/B04.tif\n",
      "https://sentinel-cogs.s3.us-west-2.amazonaws.com/sentinel-s2-l2a-cogs/23/K/NR/2020/7/S2B_23KNR_20200707_0_L2A/B03.tif\n",
      "https://sentinel-cogs.s3.us-west-2.amazonaws.com/sentinel-s2-l2a-cogs/23/K/NR/2020/7/S2B_23KNR_20200707_0_L2A/B02.tif\n",
      "S2B_23KPR_20200707_0_L2A\n",
      "https://sentinel-cogs.s3.us-west-2.amazonaws.com/sentinel-s2-l2a-cogs/23/K/PR/2020/7/S2B_23KPR_20200707_0_L2A/B04.tif\n",
      "https://sentinel-cogs.s3.us-west-2.amazonaws.com/sentinel-s2-l2a-cogs/23/K/PR/2020/7/S2B_23KPR_20200707_0_L2A/B03.tif\n",
      "https://sentinel-cogs.s3.us-west-2.amazonaws.com/sentinel-s2-l2a-cogs/23/K/PR/2020/7/S2B_23KPR_20200707_0_L2A/B02.tif\n",
      "S2A_23KNR_20200702_0_L2A\n",
      "https://sentinel-cogs.s3.us-west-2.amazonaws.com/sentinel-s2-l2a-cogs/23/K/NR/2020/7/S2A_23KNR_20200702_0_L2A/B04.tif\n",
      "https://sentinel-cogs.s3.us-west-2.amazonaws.com/sentinel-s2-l2a-cogs/23/K/NR/2020/7/S2A_23KNR_20200702_0_L2A/B03.tif\n",
      "https://sentinel-cogs.s3.us-west-2.amazonaws.com/sentinel-s2-l2a-cogs/23/K/NR/2020/7/S2A_23KNR_20200702_0_L2A/B02.tif\n",
      "S2A_23KPR_20200702_0_L2A\n",
      "https://sentinel-cogs.s3.us-west-2.amazonaws.com/sentinel-s2-l2a-cogs/23/K/PR/2020/7/S2A_23KPR_20200702_0_L2A/B04.tif\n",
      "https://sentinel-cogs.s3.us-west-2.amazonaws.com/sentinel-s2-l2a-cogs/23/K/PR/2020/7/S2A_23KPR_20200702_0_L2A/B03.tif\n",
      "https://sentinel-cogs.s3.us-west-2.amazonaws.com/sentinel-s2-l2a-cogs/23/K/PR/2020/7/S2A_23KPR_20200702_0_L2A/B02.tif\n",
      "S2B_23KNR_20200627_0_L2A\n",
      "https://sentinel-cogs.s3.us-west-2.amazonaws.com/sentinel-s2-l2a-cogs/23/K/NR/2020/6/S2B_23KNR_20200627_0_L2A/B04.tif\n",
      "https://sentinel-cogs.s3.us-west-2.amazonaws.com/sentinel-s2-l2a-cogs/23/K/NR/2020/6/S2B_23KNR_20200627_0_L2A/B03.tif\n",
      "https://sentinel-cogs.s3.us-west-2.amazonaws.com/sentinel-s2-l2a-cogs/23/K/NR/2020/6/S2B_23KNR_20200627_0_L2A/B02.tif\n",
      "S2B_23KPR_20200627_0_L2A\n",
      "https://sentinel-cogs.s3.us-west-2.amazonaws.com/sentinel-s2-l2a-cogs/23/K/PR/2020/6/S2B_23KPR_20200627_0_L2A/B04.tif\n",
      "https://sentinel-cogs.s3.us-west-2.amazonaws.com/sentinel-s2-l2a-cogs/23/K/PR/2020/6/S2B_23KPR_20200627_0_L2A/B03.tif\n",
      "https://sentinel-cogs.s3.us-west-2.amazonaws.com/sentinel-s2-l2a-cogs/23/K/PR/2020/6/S2B_23KPR_20200627_0_L2A/B02.tif\n",
      "S2A_23KNR_20200622_0_L2A\n",
      "https://sentinel-cogs.s3.us-west-2.amazonaws.com/sentinel-s2-l2a-cogs/23/K/NR/2020/6/S2A_23KNR_20200622_0_L2A/B04.tif\n",
      "https://sentinel-cogs.s3.us-west-2.amazonaws.com/sentinel-s2-l2a-cogs/23/K/NR/2020/6/S2A_23KNR_20200622_0_L2A/B03.tif\n",
      "https://sentinel-cogs.s3.us-west-2.amazonaws.com/sentinel-s2-l2a-cogs/23/K/NR/2020/6/S2A_23KNR_20200622_0_L2A/B02.tif\n",
      "S2A_23KPR_20200622_0_L2A\n",
      "https://sentinel-cogs.s3.us-west-2.amazonaws.com/sentinel-s2-l2a-cogs/23/K/PR/2020/6/S2A_23KPR_20200622_0_L2A/B04.tif\n",
      "https://sentinel-cogs.s3.us-west-2.amazonaws.com/sentinel-s2-l2a-cogs/23/K/PR/2020/6/S2A_23KPR_20200622_0_L2A/B03.tif\n",
      "https://sentinel-cogs.s3.us-west-2.amazonaws.com/sentinel-s2-l2a-cogs/23/K/PR/2020/6/S2A_23KPR_20200622_0_L2A/B02.tif\n",
      "S2B_23KNR_20200617_0_L2A\n",
      "https://sentinel-cogs.s3.us-west-2.amazonaws.com/sentinel-s2-l2a-cogs/23/K/NR/2020/6/S2B_23KNR_20200617_0_L2A/B04.tif\n",
      "https://sentinel-cogs.s3.us-west-2.amazonaws.com/sentinel-s2-l2a-cogs/23/K/NR/2020/6/S2B_23KNR_20200617_0_L2A/B03.tif\n",
      "https://sentinel-cogs.s3.us-west-2.amazonaws.com/sentinel-s2-l2a-cogs/23/K/NR/2020/6/S2B_23KNR_20200617_0_L2A/B02.tif\n",
      "S2B_23KPR_20200617_0_L2A\n",
      "https://sentinel-cogs.s3.us-west-2.amazonaws.com/sentinel-s2-l2a-cogs/23/K/PR/2020/6/S2B_23KPR_20200617_0_L2A/B04.tif\n",
      "https://sentinel-cogs.s3.us-west-2.amazonaws.com/sentinel-s2-l2a-cogs/23/K/PR/2020/6/S2B_23KPR_20200617_0_L2A/B03.tif\n",
      "https://sentinel-cogs.s3.us-west-2.amazonaws.com/sentinel-s2-l2a-cogs/23/K/PR/2020/6/S2B_23KPR_20200617_0_L2A/B02.tif\n",
      "S2A_23KNR_20200612_0_L2A\n",
      "https://sentinel-cogs.s3.us-west-2.amazonaws.com/sentinel-s2-l2a-cogs/23/K/NR/2020/6/S2A_23KNR_20200612_0_L2A/B04.tif\n",
      "https://sentinel-cogs.s3.us-west-2.amazonaws.com/sentinel-s2-l2a-cogs/23/K/NR/2020/6/S2A_23KNR_20200612_0_L2A/B03.tif\n",
      "https://sentinel-cogs.s3.us-west-2.amazonaws.com/sentinel-s2-l2a-cogs/23/K/NR/2020/6/S2A_23KNR_20200612_0_L2A/B02.tif\n",
      "S2A_23KPR_20200612_0_L2A\n",
      "https://sentinel-cogs.s3.us-west-2.amazonaws.com/sentinel-s2-l2a-cogs/23/K/PR/2020/6/S2A_23KPR_20200612_0_L2A/B04.tif\n",
      "https://sentinel-cogs.s3.us-west-2.amazonaws.com/sentinel-s2-l2a-cogs/23/K/PR/2020/6/S2A_23KPR_20200612_0_L2A/B03.tif\n",
      "https://sentinel-cogs.s3.us-west-2.amazonaws.com/sentinel-s2-l2a-cogs/23/K/PR/2020/6/S2A_23KPR_20200612_0_L2A/B02.tif\n",
      "S2B_23KNR_20200607_0_L2A\n",
      "https://sentinel-cogs.s3.us-west-2.amazonaws.com/sentinel-s2-l2a-cogs/23/K/NR/2020/6/S2B_23KNR_20200607_0_L2A/B04.tif\n",
      "https://sentinel-cogs.s3.us-west-2.amazonaws.com/sentinel-s2-l2a-cogs/23/K/NR/2020/6/S2B_23KNR_20200607_0_L2A/B03.tif\n",
      "https://sentinel-cogs.s3.us-west-2.amazonaws.com/sentinel-s2-l2a-cogs/23/K/NR/2020/6/S2B_23KNR_20200607_0_L2A/B02.tif\n",
      "S2B_23KPR_20200607_0_L2A\n",
      "https://sentinel-cogs.s3.us-west-2.amazonaws.com/sentinel-s2-l2a-cogs/23/K/PR/2020/6/S2B_23KPR_20200607_0_L2A/B04.tif\n",
      "https://sentinel-cogs.s3.us-west-2.amazonaws.com/sentinel-s2-l2a-cogs/23/K/PR/2020/6/S2B_23KPR_20200607_0_L2A/B03.tif\n",
      "https://sentinel-cogs.s3.us-west-2.amazonaws.com/sentinel-s2-l2a-cogs/23/K/PR/2020/6/S2B_23KPR_20200607_0_L2A/B02.tif\n",
      "S2A_23KNR_20200602_0_L2A\n",
      "https://sentinel-cogs.s3.us-west-2.amazonaws.com/sentinel-s2-l2a-cogs/23/K/NR/2020/6/S2A_23KNR_20200602_0_L2A/B04.tif\n",
      "https://sentinel-cogs.s3.us-west-2.amazonaws.com/sentinel-s2-l2a-cogs/23/K/NR/2020/6/S2A_23KNR_20200602_0_L2A/B03.tif\n",
      "https://sentinel-cogs.s3.us-west-2.amazonaws.com/sentinel-s2-l2a-cogs/23/K/NR/2020/6/S2A_23KNR_20200602_0_L2A/B02.tif\n",
      "S2A_23KPR_20200602_0_L2A\n",
      "https://sentinel-cogs.s3.us-west-2.amazonaws.com/sentinel-s2-l2a-cogs/23/K/PR/2020/6/S2A_23KPR_20200602_0_L2A/B04.tif\n",
      "https://sentinel-cogs.s3.us-west-2.amazonaws.com/sentinel-s2-l2a-cogs/23/K/PR/2020/6/S2A_23KPR_20200602_0_L2A/B03.tif\n",
      "https://sentinel-cogs.s3.us-west-2.amazonaws.com/sentinel-s2-l2a-cogs/23/K/PR/2020/6/S2A_23KPR_20200602_0_L2A/B02.tif\n",
      "S2B_23KNR_20200528_0_L2A\n",
      "https://sentinel-cogs.s3.us-west-2.amazonaws.com/sentinel-s2-l2a-cogs/23/K/NR/2020/5/S2B_23KNR_20200528_0_L2A/B04.tif\n",
      "https://sentinel-cogs.s3.us-west-2.amazonaws.com/sentinel-s2-l2a-cogs/23/K/NR/2020/5/S2B_23KNR_20200528_0_L2A/B03.tif\n",
      "https://sentinel-cogs.s3.us-west-2.amazonaws.com/sentinel-s2-l2a-cogs/23/K/NR/2020/5/S2B_23KNR_20200528_0_L2A/B02.tif\n",
      "S2B_23KPR_20200528_0_L2A\n",
      "https://sentinel-cogs.s3.us-west-2.amazonaws.com/sentinel-s2-l2a-cogs/23/K/PR/2020/5/S2B_23KPR_20200528_0_L2A/B04.tif\n",
      "https://sentinel-cogs.s3.us-west-2.amazonaws.com/sentinel-s2-l2a-cogs/23/K/PR/2020/5/S2B_23KPR_20200528_0_L2A/B03.tif\n",
      "https://sentinel-cogs.s3.us-west-2.amazonaws.com/sentinel-s2-l2a-cogs/23/K/PR/2020/5/S2B_23KPR_20200528_0_L2A/B02.tif\n",
      "S2A_23KNR_20200523_0_L2A\n"
     ]
    },
    {
     "name": "stdout",
     "output_type": "stream",
     "text": [
      "https://sentinel-cogs.s3.us-west-2.amazonaws.com/sentinel-s2-l2a-cogs/23/K/NR/2020/5/S2A_23KNR_20200523_0_L2A/B04.tif\n",
      "https://sentinel-cogs.s3.us-west-2.amazonaws.com/sentinel-s2-l2a-cogs/23/K/NR/2020/5/S2A_23KNR_20200523_0_L2A/B03.tif\n",
      "https://sentinel-cogs.s3.us-west-2.amazonaws.com/sentinel-s2-l2a-cogs/23/K/NR/2020/5/S2A_23KNR_20200523_0_L2A/B02.tif\n",
      "S2A_23KPR_20200523_0_L2A\n",
      "https://sentinel-cogs.s3.us-west-2.amazonaws.com/sentinel-s2-l2a-cogs/23/K/PR/2020/5/S2A_23KPR_20200523_0_L2A/B04.tif\n",
      "https://sentinel-cogs.s3.us-west-2.amazonaws.com/sentinel-s2-l2a-cogs/23/K/PR/2020/5/S2A_23KPR_20200523_0_L2A/B03.tif\n",
      "https://sentinel-cogs.s3.us-west-2.amazonaws.com/sentinel-s2-l2a-cogs/23/K/PR/2020/5/S2A_23KPR_20200523_0_L2A/B02.tif\n",
      "S2B_23KNR_20200518_0_L2A\n",
      "https://sentinel-cogs.s3.us-west-2.amazonaws.com/sentinel-s2-l2a-cogs/23/K/NR/2020/5/S2B_23KNR_20200518_0_L2A/B04.tif\n",
      "https://sentinel-cogs.s3.us-west-2.amazonaws.com/sentinel-s2-l2a-cogs/23/K/NR/2020/5/S2B_23KNR_20200518_0_L2A/B03.tif\n",
      "https://sentinel-cogs.s3.us-west-2.amazonaws.com/sentinel-s2-l2a-cogs/23/K/NR/2020/5/S2B_23KNR_20200518_0_L2A/B02.tif\n",
      "S2B_23KPR_20200518_0_L2A\n",
      "https://sentinel-cogs.s3.us-west-2.amazonaws.com/sentinel-s2-l2a-cogs/23/K/PR/2020/5/S2B_23KPR_20200518_0_L2A/B04.tif\n",
      "https://sentinel-cogs.s3.us-west-2.amazonaws.com/sentinel-s2-l2a-cogs/23/K/PR/2020/5/S2B_23KPR_20200518_0_L2A/B03.tif\n",
      "https://sentinel-cogs.s3.us-west-2.amazonaws.com/sentinel-s2-l2a-cogs/23/K/PR/2020/5/S2B_23KPR_20200518_0_L2A/B02.tif\n",
      "S2A_23KNR_20200513_0_L2A\n",
      "https://sentinel-cogs.s3.us-west-2.amazonaws.com/sentinel-s2-l2a-cogs/23/K/NR/2020/5/S2A_23KNR_20200513_0_L2A/B04.tif\n",
      "https://sentinel-cogs.s3.us-west-2.amazonaws.com/sentinel-s2-l2a-cogs/23/K/NR/2020/5/S2A_23KNR_20200513_0_L2A/B03.tif\n",
      "https://sentinel-cogs.s3.us-west-2.amazonaws.com/sentinel-s2-l2a-cogs/23/K/NR/2020/5/S2A_23KNR_20200513_0_L2A/B02.tif\n",
      "S2A_23KPR_20200513_0_L2A\n",
      "https://sentinel-cogs.s3.us-west-2.amazonaws.com/sentinel-s2-l2a-cogs/23/K/PR/2020/5/S2A_23KPR_20200513_0_L2A/B04.tif\n",
      "https://sentinel-cogs.s3.us-west-2.amazonaws.com/sentinel-s2-l2a-cogs/23/K/PR/2020/5/S2A_23KPR_20200513_0_L2A/B03.tif\n",
      "https://sentinel-cogs.s3.us-west-2.amazonaws.com/sentinel-s2-l2a-cogs/23/K/PR/2020/5/S2A_23KPR_20200513_0_L2A/B02.tif\n",
      "S2B_23KNR_20200508_0_L2A\n",
      "https://sentinel-cogs.s3.us-west-2.amazonaws.com/sentinel-s2-l2a-cogs/23/K/NR/2020/5/S2B_23KNR_20200508_0_L2A/B04.tif\n",
      "https://sentinel-cogs.s3.us-west-2.amazonaws.com/sentinel-s2-l2a-cogs/23/K/NR/2020/5/S2B_23KNR_20200508_0_L2A/B03.tif\n",
      "https://sentinel-cogs.s3.us-west-2.amazonaws.com/sentinel-s2-l2a-cogs/23/K/NR/2020/5/S2B_23KNR_20200508_0_L2A/B02.tif\n",
      "S2B_23KPR_20200508_0_L2A\n",
      "https://sentinel-cogs.s3.us-west-2.amazonaws.com/sentinel-s2-l2a-cogs/23/K/PR/2020/5/S2B_23KPR_20200508_0_L2A/B04.tif\n",
      "https://sentinel-cogs.s3.us-west-2.amazonaws.com/sentinel-s2-l2a-cogs/23/K/PR/2020/5/S2B_23KPR_20200508_0_L2A/B03.tif\n",
      "https://sentinel-cogs.s3.us-west-2.amazonaws.com/sentinel-s2-l2a-cogs/23/K/PR/2020/5/S2B_23KPR_20200508_0_L2A/B02.tif\n",
      "S2A_23KNR_20200503_0_L2A\n",
      "https://sentinel-cogs.s3.us-west-2.amazonaws.com/sentinel-s2-l2a-cogs/23/K/NR/2020/5/S2A_23KNR_20200503_0_L2A/B04.tif\n",
      "https://sentinel-cogs.s3.us-west-2.amazonaws.com/sentinel-s2-l2a-cogs/23/K/NR/2020/5/S2A_23KNR_20200503_0_L2A/B03.tif\n",
      "https://sentinel-cogs.s3.us-west-2.amazonaws.com/sentinel-s2-l2a-cogs/23/K/NR/2020/5/S2A_23KNR_20200503_0_L2A/B02.tif\n",
      "S2A_23KPR_20200503_0_L2A\n",
      "https://sentinel-cogs.s3.us-west-2.amazonaws.com/sentinel-s2-l2a-cogs/23/K/PR/2020/5/S2A_23KPR_20200503_0_L2A/B04.tif\n",
      "https://sentinel-cogs.s3.us-west-2.amazonaws.com/sentinel-s2-l2a-cogs/23/K/PR/2020/5/S2A_23KPR_20200503_0_L2A/B03.tif\n",
      "https://sentinel-cogs.s3.us-west-2.amazonaws.com/sentinel-s2-l2a-cogs/23/K/PR/2020/5/S2A_23KPR_20200503_0_L2A/B02.tif\n",
      "S2B_23KNR_20200428_0_L2A\n",
      "https://sentinel-cogs.s3.us-west-2.amazonaws.com/sentinel-s2-l2a-cogs/23/K/NR/2020/4/S2B_23KNR_20200428_0_L2A/B04.tif\n",
      "https://sentinel-cogs.s3.us-west-2.amazonaws.com/sentinel-s2-l2a-cogs/23/K/NR/2020/4/S2B_23KNR_20200428_0_L2A/B03.tif\n",
      "https://sentinel-cogs.s3.us-west-2.amazonaws.com/sentinel-s2-l2a-cogs/23/K/NR/2020/4/S2B_23KNR_20200428_0_L2A/B02.tif\n",
      "S2B_23KPR_20200428_0_L2A\n",
      "https://sentinel-cogs.s3.us-west-2.amazonaws.com/sentinel-s2-l2a-cogs/23/K/PR/2020/4/S2B_23KPR_20200428_0_L2A/B04.tif\n",
      "https://sentinel-cogs.s3.us-west-2.amazonaws.com/sentinel-s2-l2a-cogs/23/K/PR/2020/4/S2B_23KPR_20200428_0_L2A/B03.tif\n",
      "https://sentinel-cogs.s3.us-west-2.amazonaws.com/sentinel-s2-l2a-cogs/23/K/PR/2020/4/S2B_23KPR_20200428_0_L2A/B02.tif\n",
      "S2A_23KNR_20200423_0_L2A\n",
      "https://sentinel-cogs.s3.us-west-2.amazonaws.com/sentinel-s2-l2a-cogs/23/K/NR/2020/4/S2A_23KNR_20200423_0_L2A/B04.tif\n",
      "https://sentinel-cogs.s3.us-west-2.amazonaws.com/sentinel-s2-l2a-cogs/23/K/NR/2020/4/S2A_23KNR_20200423_0_L2A/B03.tif\n",
      "https://sentinel-cogs.s3.us-west-2.amazonaws.com/sentinel-s2-l2a-cogs/23/K/NR/2020/4/S2A_23KNR_20200423_0_L2A/B02.tif\n",
      "S2A_23KPR_20200423_0_L2A\n",
      "https://sentinel-cogs.s3.us-west-2.amazonaws.com/sentinel-s2-l2a-cogs/23/K/PR/2020/4/S2A_23KPR_20200423_0_L2A/B04.tif\n",
      "https://sentinel-cogs.s3.us-west-2.amazonaws.com/sentinel-s2-l2a-cogs/23/K/PR/2020/4/S2A_23KPR_20200423_0_L2A/B03.tif\n",
      "https://sentinel-cogs.s3.us-west-2.amazonaws.com/sentinel-s2-l2a-cogs/23/K/PR/2020/4/S2A_23KPR_20200423_0_L2A/B02.tif\n",
      "S2B_23KNR_20200418_0_L2A\n",
      "https://sentinel-cogs.s3.us-west-2.amazonaws.com/sentinel-s2-l2a-cogs/23/K/NR/2020/4/S2B_23KNR_20200418_0_L2A/B04.tif\n",
      "https://sentinel-cogs.s3.us-west-2.amazonaws.com/sentinel-s2-l2a-cogs/23/K/NR/2020/4/S2B_23KNR_20200418_0_L2A/B03.tif\n",
      "https://sentinel-cogs.s3.us-west-2.amazonaws.com/sentinel-s2-l2a-cogs/23/K/NR/2020/4/S2B_23KNR_20200418_0_L2A/B02.tif\n",
      "S2B_23KPR_20200418_0_L2A\n",
      "https://sentinel-cogs.s3.us-west-2.amazonaws.com/sentinel-s2-l2a-cogs/23/K/PR/2020/4/S2B_23KPR_20200418_0_L2A/B04.tif\n",
      "https://sentinel-cogs.s3.us-west-2.amazonaws.com/sentinel-s2-l2a-cogs/23/K/PR/2020/4/S2B_23KPR_20200418_0_L2A/B03.tif\n",
      "https://sentinel-cogs.s3.us-west-2.amazonaws.com/sentinel-s2-l2a-cogs/23/K/PR/2020/4/S2B_23KPR_20200418_0_L2A/B02.tif\n",
      "S2A_23KNR_20200413_0_L2A\n",
      "https://sentinel-cogs.s3.us-west-2.amazonaws.com/sentinel-s2-l2a-cogs/23/K/NR/2020/4/S2A_23KNR_20200413_0_L2A/B04.tif\n",
      "https://sentinel-cogs.s3.us-west-2.amazonaws.com/sentinel-s2-l2a-cogs/23/K/NR/2020/4/S2A_23KNR_20200413_0_L2A/B03.tif\n",
      "https://sentinel-cogs.s3.us-west-2.amazonaws.com/sentinel-s2-l2a-cogs/23/K/NR/2020/4/S2A_23KNR_20200413_0_L2A/B02.tif\n",
      "S2A_23KPR_20200413_0_L2A\n",
      "https://sentinel-cogs.s3.us-west-2.amazonaws.com/sentinel-s2-l2a-cogs/23/K/PR/2020/4/S2A_23KPR_20200413_0_L2A/B04.tif\n",
      "https://sentinel-cogs.s3.us-west-2.amazonaws.com/sentinel-s2-l2a-cogs/23/K/PR/2020/4/S2A_23KPR_20200413_0_L2A/B03.tif\n",
      "https://sentinel-cogs.s3.us-west-2.amazonaws.com/sentinel-s2-l2a-cogs/23/K/PR/2020/4/S2A_23KPR_20200413_0_L2A/B02.tif\n",
      "S2B_23KNR_20200408_0_L2A\n",
      "https://sentinel-cogs.s3.us-west-2.amazonaws.com/sentinel-s2-l2a-cogs/23/K/NR/2020/4/S2B_23KNR_20200408_0_L2A/B04.tif\n",
      "https://sentinel-cogs.s3.us-west-2.amazonaws.com/sentinel-s2-l2a-cogs/23/K/NR/2020/4/S2B_23KNR_20200408_0_L2A/B03.tif\n",
      "https://sentinel-cogs.s3.us-west-2.amazonaws.com/sentinel-s2-l2a-cogs/23/K/NR/2020/4/S2B_23KNR_20200408_0_L2A/B02.tif\n",
      "S2B_23KPR_20200408_0_L2A\n",
      "https://sentinel-cogs.s3.us-west-2.amazonaws.com/sentinel-s2-l2a-cogs/23/K/PR/2020/4/S2B_23KPR_20200408_0_L2A/B04.tif\n",
      "https://sentinel-cogs.s3.us-west-2.amazonaws.com/sentinel-s2-l2a-cogs/23/K/PR/2020/4/S2B_23KPR_20200408_0_L2A/B03.tif\n",
      "https://sentinel-cogs.s3.us-west-2.amazonaws.com/sentinel-s2-l2a-cogs/23/K/PR/2020/4/S2B_23KPR_20200408_0_L2A/B02.tif\n",
      "S2A_23KNR_20200403_0_L2A\n",
      "https://sentinel-cogs.s3.us-west-2.amazonaws.com/sentinel-s2-l2a-cogs/23/K/NR/2020/4/S2A_23KNR_20200403_0_L2A/B04.tif\n",
      "https://sentinel-cogs.s3.us-west-2.amazonaws.com/sentinel-s2-l2a-cogs/23/K/NR/2020/4/S2A_23KNR_20200403_0_L2A/B03.tif\n",
      "https://sentinel-cogs.s3.us-west-2.amazonaws.com/sentinel-s2-l2a-cogs/23/K/NR/2020/4/S2A_23KNR_20200403_0_L2A/B02.tif\n",
      "S2A_23KPR_20200403_0_L2A\n",
      "https://sentinel-cogs.s3.us-west-2.amazonaws.com/sentinel-s2-l2a-cogs/23/K/PR/2020/4/S2A_23KPR_20200403_0_L2A/B04.tif\n",
      "https://sentinel-cogs.s3.us-west-2.amazonaws.com/sentinel-s2-l2a-cogs/23/K/PR/2020/4/S2A_23KPR_20200403_0_L2A/B03.tif\n",
      "https://sentinel-cogs.s3.us-west-2.amazonaws.com/sentinel-s2-l2a-cogs/23/K/PR/2020/4/S2A_23KPR_20200403_0_L2A/B02.tif\n",
      "S2B_23KNR_20200329_0_L2A\n",
      "https://sentinel-cogs.s3.us-west-2.amazonaws.com/sentinel-s2-l2a-cogs/23/K/NR/2020/3/S2B_23KNR_20200329_0_L2A/B04.tif\n",
      "https://sentinel-cogs.s3.us-west-2.amazonaws.com/sentinel-s2-l2a-cogs/23/K/NR/2020/3/S2B_23KNR_20200329_0_L2A/B03.tif\n",
      "https://sentinel-cogs.s3.us-west-2.amazonaws.com/sentinel-s2-l2a-cogs/23/K/NR/2020/3/S2B_23KNR_20200329_0_L2A/B02.tif\n",
      "S2B_23KPR_20200329_0_L2A\n",
      "https://sentinel-cogs.s3.us-west-2.amazonaws.com/sentinel-s2-l2a-cogs/23/K/PR/2020/3/S2B_23KPR_20200329_0_L2A/B04.tif\n"
     ]
    },
    {
     "name": "stdout",
     "output_type": "stream",
     "text": [
      "https://sentinel-cogs.s3.us-west-2.amazonaws.com/sentinel-s2-l2a-cogs/23/K/PR/2020/3/S2B_23KPR_20200329_0_L2A/B03.tif\n",
      "https://sentinel-cogs.s3.us-west-2.amazonaws.com/sentinel-s2-l2a-cogs/23/K/PR/2020/3/S2B_23KPR_20200329_0_L2A/B02.tif\n",
      "S2A_23KNR_20200324_0_L2A\n",
      "https://sentinel-cogs.s3.us-west-2.amazonaws.com/sentinel-s2-l2a-cogs/23/K/NR/2020/3/S2A_23KNR_20200324_0_L2A/B04.tif\n",
      "https://sentinel-cogs.s3.us-west-2.amazonaws.com/sentinel-s2-l2a-cogs/23/K/NR/2020/3/S2A_23KNR_20200324_0_L2A/B03.tif\n",
      "https://sentinel-cogs.s3.us-west-2.amazonaws.com/sentinel-s2-l2a-cogs/23/K/NR/2020/3/S2A_23KNR_20200324_0_L2A/B02.tif\n",
      "S2A_23KPR_20200324_0_L2A\n",
      "https://sentinel-cogs.s3.us-west-2.amazonaws.com/sentinel-s2-l2a-cogs/23/K/PR/2020/3/S2A_23KPR_20200324_0_L2A/B04.tif\n",
      "https://sentinel-cogs.s3.us-west-2.amazonaws.com/sentinel-s2-l2a-cogs/23/K/PR/2020/3/S2A_23KPR_20200324_0_L2A/B03.tif\n",
      "https://sentinel-cogs.s3.us-west-2.amazonaws.com/sentinel-s2-l2a-cogs/23/K/PR/2020/3/S2A_23KPR_20200324_0_L2A/B02.tif\n",
      "S2B_23KNR_20200319_0_L2A\n",
      "https://sentinel-cogs.s3.us-west-2.amazonaws.com/sentinel-s2-l2a-cogs/23/K/NR/2020/3/S2B_23KNR_20200319_0_L2A/B04.tif\n",
      "https://sentinel-cogs.s3.us-west-2.amazonaws.com/sentinel-s2-l2a-cogs/23/K/NR/2020/3/S2B_23KNR_20200319_0_L2A/B03.tif\n",
      "https://sentinel-cogs.s3.us-west-2.amazonaws.com/sentinel-s2-l2a-cogs/23/K/NR/2020/3/S2B_23KNR_20200319_0_L2A/B02.tif\n",
      "S2B_23KPR_20200319_0_L2A\n",
      "https://sentinel-cogs.s3.us-west-2.amazonaws.com/sentinel-s2-l2a-cogs/23/K/PR/2020/3/S2B_23KPR_20200319_0_L2A/B04.tif\n",
      "https://sentinel-cogs.s3.us-west-2.amazonaws.com/sentinel-s2-l2a-cogs/23/K/PR/2020/3/S2B_23KPR_20200319_0_L2A/B03.tif\n",
      "https://sentinel-cogs.s3.us-west-2.amazonaws.com/sentinel-s2-l2a-cogs/23/K/PR/2020/3/S2B_23KPR_20200319_0_L2A/B02.tif\n",
      "S2A_23KNR_20200314_0_L2A\n",
      "https://sentinel-cogs.s3.us-west-2.amazonaws.com/sentinel-s2-l2a-cogs/23/K/NR/2020/3/S2A_23KNR_20200314_0_L2A/B04.tif\n",
      "https://sentinel-cogs.s3.us-west-2.amazonaws.com/sentinel-s2-l2a-cogs/23/K/NR/2020/3/S2A_23KNR_20200314_0_L2A/B03.tif\n",
      "https://sentinel-cogs.s3.us-west-2.amazonaws.com/sentinel-s2-l2a-cogs/23/K/NR/2020/3/S2A_23KNR_20200314_0_L2A/B02.tif\n",
      "S2A_23KPR_20200314_0_L2A\n",
      "https://sentinel-cogs.s3.us-west-2.amazonaws.com/sentinel-s2-l2a-cogs/23/K/PR/2020/3/S2A_23KPR_20200314_0_L2A/B04.tif\n",
      "https://sentinel-cogs.s3.us-west-2.amazonaws.com/sentinel-s2-l2a-cogs/23/K/PR/2020/3/S2A_23KPR_20200314_0_L2A/B03.tif\n",
      "https://sentinel-cogs.s3.us-west-2.amazonaws.com/sentinel-s2-l2a-cogs/23/K/PR/2020/3/S2A_23KPR_20200314_0_L2A/B02.tif\n",
      "S2B_23KNR_20200309_0_L2A\n",
      "https://sentinel-cogs.s3.us-west-2.amazonaws.com/sentinel-s2-l2a-cogs/23/K/NR/2020/3/S2B_23KNR_20200309_0_L2A/B04.tif\n",
      "https://sentinel-cogs.s3.us-west-2.amazonaws.com/sentinel-s2-l2a-cogs/23/K/NR/2020/3/S2B_23KNR_20200309_0_L2A/B03.tif\n",
      "https://sentinel-cogs.s3.us-west-2.amazonaws.com/sentinel-s2-l2a-cogs/23/K/NR/2020/3/S2B_23KNR_20200309_0_L2A/B02.tif\n",
      "S2B_23KPR_20200309_0_L2A\n",
      "https://sentinel-cogs.s3.us-west-2.amazonaws.com/sentinel-s2-l2a-cogs/23/K/PR/2020/3/S2B_23KPR_20200309_0_L2A/B04.tif\n",
      "https://sentinel-cogs.s3.us-west-2.amazonaws.com/sentinel-s2-l2a-cogs/23/K/PR/2020/3/S2B_23KPR_20200309_0_L2A/B03.tif\n",
      "https://sentinel-cogs.s3.us-west-2.amazonaws.com/sentinel-s2-l2a-cogs/23/K/PR/2020/3/S2B_23KPR_20200309_0_L2A/B02.tif\n",
      "S2A_23KNR_20200304_0_L2A\n",
      "https://sentinel-cogs.s3.us-west-2.amazonaws.com/sentinel-s2-l2a-cogs/23/K/NR/2020/3/S2A_23KNR_20200304_0_L2A/B04.tif\n",
      "https://sentinel-cogs.s3.us-west-2.amazonaws.com/sentinel-s2-l2a-cogs/23/K/NR/2020/3/S2A_23KNR_20200304_0_L2A/B03.tif\n",
      "https://sentinel-cogs.s3.us-west-2.amazonaws.com/sentinel-s2-l2a-cogs/23/K/NR/2020/3/S2A_23KNR_20200304_0_L2A/B02.tif\n",
      "S2A_23KPR_20200304_0_L2A\n",
      "https://sentinel-cogs.s3.us-west-2.amazonaws.com/sentinel-s2-l2a-cogs/23/K/PR/2020/3/S2A_23KPR_20200304_0_L2A/B04.tif\n",
      "https://sentinel-cogs.s3.us-west-2.amazonaws.com/sentinel-s2-l2a-cogs/23/K/PR/2020/3/S2A_23KPR_20200304_0_L2A/B03.tif\n",
      "https://sentinel-cogs.s3.us-west-2.amazonaws.com/sentinel-s2-l2a-cogs/23/K/PR/2020/3/S2A_23KPR_20200304_0_L2A/B02.tif\n",
      "S2B_23KNR_20200228_0_L2A\n",
      "https://sentinel-cogs.s3.us-west-2.amazonaws.com/sentinel-s2-l2a-cogs/23/K/NR/2020/2/S2B_23KNR_20200228_0_L2A/B04.tif\n",
      "https://sentinel-cogs.s3.us-west-2.amazonaws.com/sentinel-s2-l2a-cogs/23/K/NR/2020/2/S2B_23KNR_20200228_0_L2A/B03.tif\n",
      "https://sentinel-cogs.s3.us-west-2.amazonaws.com/sentinel-s2-l2a-cogs/23/K/NR/2020/2/S2B_23KNR_20200228_0_L2A/B02.tif\n",
      "S2B_23KPR_20200228_0_L2A\n",
      "https://sentinel-cogs.s3.us-west-2.amazonaws.com/sentinel-s2-l2a-cogs/23/K/PR/2020/2/S2B_23KPR_20200228_0_L2A/B04.tif\n",
      "https://sentinel-cogs.s3.us-west-2.amazonaws.com/sentinel-s2-l2a-cogs/23/K/PR/2020/2/S2B_23KPR_20200228_0_L2A/B03.tif\n",
      "https://sentinel-cogs.s3.us-west-2.amazonaws.com/sentinel-s2-l2a-cogs/23/K/PR/2020/2/S2B_23KPR_20200228_0_L2A/B02.tif\n",
      "S2A_23KNR_20200223_0_L2A\n",
      "https://sentinel-cogs.s3.us-west-2.amazonaws.com/sentinel-s2-l2a-cogs/23/K/NR/2020/2/S2A_23KNR_20200223_0_L2A/B04.tif\n",
      "https://sentinel-cogs.s3.us-west-2.amazonaws.com/sentinel-s2-l2a-cogs/23/K/NR/2020/2/S2A_23KNR_20200223_0_L2A/B03.tif\n",
      "https://sentinel-cogs.s3.us-west-2.amazonaws.com/sentinel-s2-l2a-cogs/23/K/NR/2020/2/S2A_23KNR_20200223_0_L2A/B02.tif\n",
      "S2A_23KPR_20200223_0_L2A\n",
      "https://sentinel-cogs.s3.us-west-2.amazonaws.com/sentinel-s2-l2a-cogs/23/K/PR/2020/2/S2A_23KPR_20200223_0_L2A/B04.tif\n",
      "https://sentinel-cogs.s3.us-west-2.amazonaws.com/sentinel-s2-l2a-cogs/23/K/PR/2020/2/S2A_23KPR_20200223_0_L2A/B03.tif\n",
      "https://sentinel-cogs.s3.us-west-2.amazonaws.com/sentinel-s2-l2a-cogs/23/K/PR/2020/2/S2A_23KPR_20200223_0_L2A/B02.tif\n",
      "S2B_23KNR_20200218_0_L2A\n",
      "https://sentinel-cogs.s3.us-west-2.amazonaws.com/sentinel-s2-l2a-cogs/23/K/NR/2020/2/S2B_23KNR_20200218_0_L2A/B04.tif\n",
      "https://sentinel-cogs.s3.us-west-2.amazonaws.com/sentinel-s2-l2a-cogs/23/K/NR/2020/2/S2B_23KNR_20200218_0_L2A/B03.tif\n",
      "https://sentinel-cogs.s3.us-west-2.amazonaws.com/sentinel-s2-l2a-cogs/23/K/NR/2020/2/S2B_23KNR_20200218_0_L2A/B02.tif\n",
      "S2B_23KPR_20200218_0_L2A\n",
      "https://sentinel-cogs.s3.us-west-2.amazonaws.com/sentinel-s2-l2a-cogs/23/K/PR/2020/2/S2B_23KPR_20200218_0_L2A/B04.tif\n",
      "https://sentinel-cogs.s3.us-west-2.amazonaws.com/sentinel-s2-l2a-cogs/23/K/PR/2020/2/S2B_23KPR_20200218_0_L2A/B03.tif\n",
      "https://sentinel-cogs.s3.us-west-2.amazonaws.com/sentinel-s2-l2a-cogs/23/K/PR/2020/2/S2B_23KPR_20200218_0_L2A/B02.tif\n",
      "S2A_23KNR_20200213_0_L2A\n",
      "https://sentinel-cogs.s3.us-west-2.amazonaws.com/sentinel-s2-l2a-cogs/23/K/NR/2020/2/S2A_23KNR_20200213_0_L2A/B04.tif\n",
      "https://sentinel-cogs.s3.us-west-2.amazonaws.com/sentinel-s2-l2a-cogs/23/K/NR/2020/2/S2A_23KNR_20200213_0_L2A/B03.tif\n",
      "https://sentinel-cogs.s3.us-west-2.amazonaws.com/sentinel-s2-l2a-cogs/23/K/NR/2020/2/S2A_23KNR_20200213_0_L2A/B02.tif\n",
      "S2A_23KPR_20200213_0_L2A\n",
      "https://sentinel-cogs.s3.us-west-2.amazonaws.com/sentinel-s2-l2a-cogs/23/K/PR/2020/2/S2A_23KPR_20200213_0_L2A/B04.tif\n",
      "https://sentinel-cogs.s3.us-west-2.amazonaws.com/sentinel-s2-l2a-cogs/23/K/PR/2020/2/S2A_23KPR_20200213_0_L2A/B03.tif\n",
      "https://sentinel-cogs.s3.us-west-2.amazonaws.com/sentinel-s2-l2a-cogs/23/K/PR/2020/2/S2A_23KPR_20200213_0_L2A/B02.tif\n",
      "S2B_23KNR_20200208_0_L2A\n",
      "https://sentinel-cogs.s3.us-west-2.amazonaws.com/sentinel-s2-l2a-cogs/23/K/NR/2020/2/S2B_23KNR_20200208_0_L2A/B04.tif\n",
      "https://sentinel-cogs.s3.us-west-2.amazonaws.com/sentinel-s2-l2a-cogs/23/K/NR/2020/2/S2B_23KNR_20200208_0_L2A/B03.tif\n",
      "https://sentinel-cogs.s3.us-west-2.amazonaws.com/sentinel-s2-l2a-cogs/23/K/NR/2020/2/S2B_23KNR_20200208_0_L2A/B02.tif\n",
      "S2B_23KPR_20200208_0_L2A\n",
      "https://sentinel-cogs.s3.us-west-2.amazonaws.com/sentinel-s2-l2a-cogs/23/K/PR/2020/2/S2B_23KPR_20200208_0_L2A/B04.tif\n",
      "https://sentinel-cogs.s3.us-west-2.amazonaws.com/sentinel-s2-l2a-cogs/23/K/PR/2020/2/S2B_23KPR_20200208_0_L2A/B03.tif\n",
      "https://sentinel-cogs.s3.us-west-2.amazonaws.com/sentinel-s2-l2a-cogs/23/K/PR/2020/2/S2B_23KPR_20200208_0_L2A/B02.tif\n",
      "S2A_23KNR_20200203_0_L2A\n",
      "https://sentinel-cogs.s3.us-west-2.amazonaws.com/sentinel-s2-l2a-cogs/23/K/NR/2020/2/S2A_23KNR_20200203_0_L2A/B04.tif\n",
      "https://sentinel-cogs.s3.us-west-2.amazonaws.com/sentinel-s2-l2a-cogs/23/K/NR/2020/2/S2A_23KNR_20200203_0_L2A/B03.tif\n",
      "https://sentinel-cogs.s3.us-west-2.amazonaws.com/sentinel-s2-l2a-cogs/23/K/NR/2020/2/S2A_23KNR_20200203_0_L2A/B02.tif\n",
      "S2A_23KPR_20200203_0_L2A\n",
      "https://sentinel-cogs.s3.us-west-2.amazonaws.com/sentinel-s2-l2a-cogs/23/K/PR/2020/2/S2A_23KPR_20200203_0_L2A/B04.tif\n",
      "https://sentinel-cogs.s3.us-west-2.amazonaws.com/sentinel-s2-l2a-cogs/23/K/PR/2020/2/S2A_23KPR_20200203_0_L2A/B03.tif\n",
      "https://sentinel-cogs.s3.us-west-2.amazonaws.com/sentinel-s2-l2a-cogs/23/K/PR/2020/2/S2A_23KPR_20200203_0_L2A/B02.tif\n",
      "S2B_23KNR_20200129_0_L2A\n",
      "https://sentinel-cogs.s3.us-west-2.amazonaws.com/sentinel-s2-l2a-cogs/23/K/NR/2020/1/S2B_23KNR_20200129_0_L2A/B04.tif\n"
     ]
    },
    {
     "name": "stdout",
     "output_type": "stream",
     "text": [
      "https://sentinel-cogs.s3.us-west-2.amazonaws.com/sentinel-s2-l2a-cogs/23/K/NR/2020/1/S2B_23KNR_20200129_0_L2A/B03.tif\n",
      "https://sentinel-cogs.s3.us-west-2.amazonaws.com/sentinel-s2-l2a-cogs/23/K/NR/2020/1/S2B_23KNR_20200129_0_L2A/B02.tif\n",
      "S2B_23KPR_20200129_0_L2A\n",
      "https://sentinel-cogs.s3.us-west-2.amazonaws.com/sentinel-s2-l2a-cogs/23/K/PR/2020/1/S2B_23KPR_20200129_0_L2A/B04.tif\n",
      "https://sentinel-cogs.s3.us-west-2.amazonaws.com/sentinel-s2-l2a-cogs/23/K/PR/2020/1/S2B_23KPR_20200129_0_L2A/B03.tif\n",
      "https://sentinel-cogs.s3.us-west-2.amazonaws.com/sentinel-s2-l2a-cogs/23/K/PR/2020/1/S2B_23KPR_20200129_0_L2A/B02.tif\n",
      "S2A_23KNR_20200124_0_L2A\n",
      "https://sentinel-cogs.s3.us-west-2.amazonaws.com/sentinel-s2-l2a-cogs/23/K/NR/2020/1/S2A_23KNR_20200124_0_L2A/B04.tif\n",
      "https://sentinel-cogs.s3.us-west-2.amazonaws.com/sentinel-s2-l2a-cogs/23/K/NR/2020/1/S2A_23KNR_20200124_0_L2A/B03.tif\n",
      "https://sentinel-cogs.s3.us-west-2.amazonaws.com/sentinel-s2-l2a-cogs/23/K/NR/2020/1/S2A_23KNR_20200124_0_L2A/B02.tif\n",
      "S2A_23KPR_20200124_0_L2A\n",
      "https://sentinel-cogs.s3.us-west-2.amazonaws.com/sentinel-s2-l2a-cogs/23/K/PR/2020/1/S2A_23KPR_20200124_0_L2A/B04.tif\n",
      "https://sentinel-cogs.s3.us-west-2.amazonaws.com/sentinel-s2-l2a-cogs/23/K/PR/2020/1/S2A_23KPR_20200124_0_L2A/B03.tif\n",
      "https://sentinel-cogs.s3.us-west-2.amazonaws.com/sentinel-s2-l2a-cogs/23/K/PR/2020/1/S2A_23KPR_20200124_0_L2A/B02.tif\n",
      "S2B_23KNR_20200119_0_L2A\n",
      "https://sentinel-cogs.s3.us-west-2.amazonaws.com/sentinel-s2-l2a-cogs/23/K/NR/2020/1/S2B_23KNR_20200119_0_L2A/B04.tif\n",
      "https://sentinel-cogs.s3.us-west-2.amazonaws.com/sentinel-s2-l2a-cogs/23/K/NR/2020/1/S2B_23KNR_20200119_0_L2A/B03.tif\n",
      "https://sentinel-cogs.s3.us-west-2.amazonaws.com/sentinel-s2-l2a-cogs/23/K/NR/2020/1/S2B_23KNR_20200119_0_L2A/B02.tif\n",
      "S2B_23KPR_20200119_0_L2A\n",
      "https://sentinel-cogs.s3.us-west-2.amazonaws.com/sentinel-s2-l2a-cogs/23/K/PR/2020/1/S2B_23KPR_20200119_0_L2A/B04.tif\n",
      "https://sentinel-cogs.s3.us-west-2.amazonaws.com/sentinel-s2-l2a-cogs/23/K/PR/2020/1/S2B_23KPR_20200119_0_L2A/B03.tif\n",
      "https://sentinel-cogs.s3.us-west-2.amazonaws.com/sentinel-s2-l2a-cogs/23/K/PR/2020/1/S2B_23KPR_20200119_0_L2A/B02.tif\n",
      "S2A_23KNR_20200114_0_L2A\n",
      "https://sentinel-cogs.s3.us-west-2.amazonaws.com/sentinel-s2-l2a-cogs/23/K/NR/2020/1/S2A_23KNR_20200114_0_L2A/B04.tif\n",
      "https://sentinel-cogs.s3.us-west-2.amazonaws.com/sentinel-s2-l2a-cogs/23/K/NR/2020/1/S2A_23KNR_20200114_0_L2A/B03.tif\n",
      "https://sentinel-cogs.s3.us-west-2.amazonaws.com/sentinel-s2-l2a-cogs/23/K/NR/2020/1/S2A_23KNR_20200114_0_L2A/B02.tif\n",
      "S2A_23KPR_20200114_0_L2A\n",
      "https://sentinel-cogs.s3.us-west-2.amazonaws.com/sentinel-s2-l2a-cogs/23/K/PR/2020/1/S2A_23KPR_20200114_0_L2A/B04.tif\n",
      "https://sentinel-cogs.s3.us-west-2.amazonaws.com/sentinel-s2-l2a-cogs/23/K/PR/2020/1/S2A_23KPR_20200114_0_L2A/B03.tif\n",
      "https://sentinel-cogs.s3.us-west-2.amazonaws.com/sentinel-s2-l2a-cogs/23/K/PR/2020/1/S2A_23KPR_20200114_0_L2A/B02.tif\n",
      "S2B_23KNR_20200109_0_L2A\n",
      "https://sentinel-cogs.s3.us-west-2.amazonaws.com/sentinel-s2-l2a-cogs/23/K/NR/2020/1/S2B_23KNR_20200109_0_L2A/B04.tif\n",
      "https://sentinel-cogs.s3.us-west-2.amazonaws.com/sentinel-s2-l2a-cogs/23/K/NR/2020/1/S2B_23KNR_20200109_0_L2A/B03.tif\n",
      "https://sentinel-cogs.s3.us-west-2.amazonaws.com/sentinel-s2-l2a-cogs/23/K/NR/2020/1/S2B_23KNR_20200109_0_L2A/B02.tif\n",
      "S2B_23KPR_20200109_0_L2A\n",
      "https://sentinel-cogs.s3.us-west-2.amazonaws.com/sentinel-s2-l2a-cogs/23/K/PR/2020/1/S2B_23KPR_20200109_0_L2A/B04.tif\n",
      "https://sentinel-cogs.s3.us-west-2.amazonaws.com/sentinel-s2-l2a-cogs/23/K/PR/2020/1/S2B_23KPR_20200109_0_L2A/B03.tif\n",
      "https://sentinel-cogs.s3.us-west-2.amazonaws.com/sentinel-s2-l2a-cogs/23/K/PR/2020/1/S2B_23KPR_20200109_0_L2A/B02.tif\n",
      "S2A_23KNR_20200104_0_L2A\n",
      "https://sentinel-cogs.s3.us-west-2.amazonaws.com/sentinel-s2-l2a-cogs/23/K/NR/2020/1/S2A_23KNR_20200104_0_L2A/B04.tif\n",
      "https://sentinel-cogs.s3.us-west-2.amazonaws.com/sentinel-s2-l2a-cogs/23/K/NR/2020/1/S2A_23KNR_20200104_0_L2A/B03.tif\n",
      "https://sentinel-cogs.s3.us-west-2.amazonaws.com/sentinel-s2-l2a-cogs/23/K/NR/2020/1/S2A_23KNR_20200104_0_L2A/B02.tif\n",
      "S2A_23KPR_20200104_0_L2A\n",
      "https://sentinel-cogs.s3.us-west-2.amazonaws.com/sentinel-s2-l2a-cogs/23/K/PR/2020/1/S2A_23KPR_20200104_0_L2A/B04.tif\n",
      "https://sentinel-cogs.s3.us-west-2.amazonaws.com/sentinel-s2-l2a-cogs/23/K/PR/2020/1/S2A_23KPR_20200104_0_L2A/B03.tif\n",
      "https://sentinel-cogs.s3.us-west-2.amazonaws.com/sentinel-s2-l2a-cogs/23/K/PR/2020/1/S2A_23KPR_20200104_0_L2A/B02.tif\n"
     ]
    }
   ],
   "source": [
    "kdf = build_dancecard(ikeys)"
   ]
  },
  {
   "cell_type": "code",
   "execution_count": null,
   "id": "df978e15",
   "metadata": {},
   "outputs": [],
   "source": []
  },
  {
   "cell_type": "code",
   "execution_count": 23,
   "id": "1be034be",
   "metadata": {},
   "outputs": [
    {
     "data": {
      "text/html": [
       "<div>\n",
       "<style scoped>\n",
       "    .dataframe tbody tr th:only-of-type {\n",
       "        vertical-align: middle;\n",
       "    }\n",
       "\n",
       "    .dataframe tbody tr th {\n",
       "        vertical-align: top;\n",
       "    }\n",
       "\n",
       "    .dataframe thead th {\n",
       "        text-align: right;\n",
       "    }\n",
       "</style>\n",
       "<table border=\"1\" class=\"dataframe\">\n",
       "  <thead>\n",
       "    <tr style=\"text-align: right;\">\n",
       "      <th></th>\n",
       "      <th>0</th>\n",
       "      <th>1</th>\n",
       "      <th>2</th>\n",
       "      <th>3</th>\n",
       "    </tr>\n",
       "  </thead>\n",
       "  <tbody>\n",
       "    <tr>\n",
       "      <th>0</th>\n",
       "      <td>S2A_23KNR_20201229_0_L2A</td>\n",
       "      <td>https://sentinel-cogs.s3.us-west-2.amazonaws.c...</td>\n",
       "      <td>https://sentinel-cogs.s3.us-west-2.amazonaws.c...</td>\n",
       "      <td>https://sentinel-cogs.s3.us-west-2.amazonaws.c...</td>\n",
       "    </tr>\n",
       "    <tr>\n",
       "      <th>1</th>\n",
       "      <td>S2A_23KPR_20201229_0_L2A</td>\n",
       "      <td>https://sentinel-cogs.s3.us-west-2.amazonaws.c...</td>\n",
       "      <td>https://sentinel-cogs.s3.us-west-2.amazonaws.c...</td>\n",
       "      <td>https://sentinel-cogs.s3.us-west-2.amazonaws.c...</td>\n",
       "    </tr>\n",
       "    <tr>\n",
       "      <th>2</th>\n",
       "      <td>S2B_23KNR_20201224_0_L2A</td>\n",
       "      <td>https://sentinel-cogs.s3.us-west-2.amazonaws.c...</td>\n",
       "      <td>https://sentinel-cogs.s3.us-west-2.amazonaws.c...</td>\n",
       "      <td>https://sentinel-cogs.s3.us-west-2.amazonaws.c...</td>\n",
       "    </tr>\n",
       "    <tr>\n",
       "      <th>3</th>\n",
       "      <td>S2B_23KPR_20201224_0_L2A</td>\n",
       "      <td>https://sentinel-cogs.s3.us-west-2.amazonaws.c...</td>\n",
       "      <td>https://sentinel-cogs.s3.us-west-2.amazonaws.c...</td>\n",
       "      <td>https://sentinel-cogs.s3.us-west-2.amazonaws.c...</td>\n",
       "    </tr>\n",
       "    <tr>\n",
       "      <th>4</th>\n",
       "      <td>S2A_23KNR_20201219_0_L2A</td>\n",
       "      <td>https://sentinel-cogs.s3.us-west-2.amazonaws.c...</td>\n",
       "      <td>https://sentinel-cogs.s3.us-west-2.amazonaws.c...</td>\n",
       "      <td>https://sentinel-cogs.s3.us-west-2.amazonaws.c...</td>\n",
       "    </tr>\n",
       "    <tr>\n",
       "      <th>...</th>\n",
       "      <td>...</td>\n",
       "      <td>...</td>\n",
       "      <td>...</td>\n",
       "      <td>...</td>\n",
       "    </tr>\n",
       "    <tr>\n",
       "      <th>141</th>\n",
       "      <td>S2A_23KPR_20200114_0_L2A</td>\n",
       "      <td>https://sentinel-cogs.s3.us-west-2.amazonaws.c...</td>\n",
       "      <td>https://sentinel-cogs.s3.us-west-2.amazonaws.c...</td>\n",
       "      <td>https://sentinel-cogs.s3.us-west-2.amazonaws.c...</td>\n",
       "    </tr>\n",
       "    <tr>\n",
       "      <th>142</th>\n",
       "      <td>S2B_23KNR_20200109_0_L2A</td>\n",
       "      <td>https://sentinel-cogs.s3.us-west-2.amazonaws.c...</td>\n",
       "      <td>https://sentinel-cogs.s3.us-west-2.amazonaws.c...</td>\n",
       "      <td>https://sentinel-cogs.s3.us-west-2.amazonaws.c...</td>\n",
       "    </tr>\n",
       "    <tr>\n",
       "      <th>143</th>\n",
       "      <td>S2B_23KPR_20200109_0_L2A</td>\n",
       "      <td>https://sentinel-cogs.s3.us-west-2.amazonaws.c...</td>\n",
       "      <td>https://sentinel-cogs.s3.us-west-2.amazonaws.c...</td>\n",
       "      <td>https://sentinel-cogs.s3.us-west-2.amazonaws.c...</td>\n",
       "    </tr>\n",
       "    <tr>\n",
       "      <th>144</th>\n",
       "      <td>S2A_23KNR_20200104_0_L2A</td>\n",
       "      <td>https://sentinel-cogs.s3.us-west-2.amazonaws.c...</td>\n",
       "      <td>https://sentinel-cogs.s3.us-west-2.amazonaws.c...</td>\n",
       "      <td>https://sentinel-cogs.s3.us-west-2.amazonaws.c...</td>\n",
       "    </tr>\n",
       "    <tr>\n",
       "      <th>145</th>\n",
       "      <td>S2A_23KPR_20200104_0_L2A</td>\n",
       "      <td>https://sentinel-cogs.s3.us-west-2.amazonaws.c...</td>\n",
       "      <td>https://sentinel-cogs.s3.us-west-2.amazonaws.c...</td>\n",
       "      <td>https://sentinel-cogs.s3.us-west-2.amazonaws.c...</td>\n",
       "    </tr>\n",
       "  </tbody>\n",
       "</table>\n",
       "<p>146 rows × 4 columns</p>\n",
       "</div>"
      ],
      "text/plain": [
       "                            0  \\\n",
       "0    S2A_23KNR_20201229_0_L2A   \n",
       "1    S2A_23KPR_20201229_0_L2A   \n",
       "2    S2B_23KNR_20201224_0_L2A   \n",
       "3    S2B_23KPR_20201224_0_L2A   \n",
       "4    S2A_23KNR_20201219_0_L2A   \n",
       "..                        ...   \n",
       "141  S2A_23KPR_20200114_0_L2A   \n",
       "142  S2B_23KNR_20200109_0_L2A   \n",
       "143  S2B_23KPR_20200109_0_L2A   \n",
       "144  S2A_23KNR_20200104_0_L2A   \n",
       "145  S2A_23KPR_20200104_0_L2A   \n",
       "\n",
       "                                                     1  \\\n",
       "0    https://sentinel-cogs.s3.us-west-2.amazonaws.c...   \n",
       "1    https://sentinel-cogs.s3.us-west-2.amazonaws.c...   \n",
       "2    https://sentinel-cogs.s3.us-west-2.amazonaws.c...   \n",
       "3    https://sentinel-cogs.s3.us-west-2.amazonaws.c...   \n",
       "4    https://sentinel-cogs.s3.us-west-2.amazonaws.c...   \n",
       "..                                                 ...   \n",
       "141  https://sentinel-cogs.s3.us-west-2.amazonaws.c...   \n",
       "142  https://sentinel-cogs.s3.us-west-2.amazonaws.c...   \n",
       "143  https://sentinel-cogs.s3.us-west-2.amazonaws.c...   \n",
       "144  https://sentinel-cogs.s3.us-west-2.amazonaws.c...   \n",
       "145  https://sentinel-cogs.s3.us-west-2.amazonaws.c...   \n",
       "\n",
       "                                                     2  \\\n",
       "0    https://sentinel-cogs.s3.us-west-2.amazonaws.c...   \n",
       "1    https://sentinel-cogs.s3.us-west-2.amazonaws.c...   \n",
       "2    https://sentinel-cogs.s3.us-west-2.amazonaws.c...   \n",
       "3    https://sentinel-cogs.s3.us-west-2.amazonaws.c...   \n",
       "4    https://sentinel-cogs.s3.us-west-2.amazonaws.c...   \n",
       "..                                                 ...   \n",
       "141  https://sentinel-cogs.s3.us-west-2.amazonaws.c...   \n",
       "142  https://sentinel-cogs.s3.us-west-2.amazonaws.c...   \n",
       "143  https://sentinel-cogs.s3.us-west-2.amazonaws.c...   \n",
       "144  https://sentinel-cogs.s3.us-west-2.amazonaws.c...   \n",
       "145  https://sentinel-cogs.s3.us-west-2.amazonaws.c...   \n",
       "\n",
       "                                                     3  \n",
       "0    https://sentinel-cogs.s3.us-west-2.amazonaws.c...  \n",
       "1    https://sentinel-cogs.s3.us-west-2.amazonaws.c...  \n",
       "2    https://sentinel-cogs.s3.us-west-2.amazonaws.c...  \n",
       "3    https://sentinel-cogs.s3.us-west-2.amazonaws.c...  \n",
       "4    https://sentinel-cogs.s3.us-west-2.amazonaws.c...  \n",
       "..                                                 ...  \n",
       "141  https://sentinel-cogs.s3.us-west-2.amazonaws.c...  \n",
       "142  https://sentinel-cogs.s3.us-west-2.amazonaws.c...  \n",
       "143  https://sentinel-cogs.s3.us-west-2.amazonaws.c...  \n",
       "144  https://sentinel-cogs.s3.us-west-2.amazonaws.c...  \n",
       "145  https://sentinel-cogs.s3.us-west-2.amazonaws.c...  \n",
       "\n",
       "[146 rows x 4 columns]"
      ]
     },
     "execution_count": 23,
     "metadata": {},
     "output_type": "execute_result"
    }
   ],
   "source": [
    "kdf"
   ]
  },
  {
   "cell_type": "code",
   "execution_count": 24,
   "id": "1a42f4b3",
   "metadata": {},
   "outputs": [],
   "source": [
    "kdf.to_csv('rio2.csv',index=True)"
   ]
  },
  {
   "cell_type": "code",
   "execution_count": 25,
   "id": "1b2a1b10",
   "metadata": {},
   "outputs": [
    {
     "name": "stdout",
     "output_type": "stream",
     "text": [
      "rio2.csv\r\n"
     ]
    }
   ],
   "source": [
    "!ls *.csv"
   ]
  },
  {
   "cell_type": "code",
   "execution_count": 26,
   "id": "09ce977e",
   "metadata": {},
   "outputs": [],
   "source": [
    "def wget_to_s3(s3_obj):\n",
    "    print(\"wget this: %s\",s3_obj)\n",
    "    file_obj_name = s3_obj.split('/')[-2] + '_' + s3_obj.split('/')[-1]\n",
    "    object_path = s3_obj.split('sentinel-s2-l2a-cogs')[-1]\n",
    "    obj_prefix = '/'.join(object_path.split('/')[:-2])\n",
    "    obj_name=obj_prefix + file_obj_name\n",
    "    cmd = 'wget -nv -O- ' + s3_obj + ' | aws s3 cp - s3://dev-et-data/usmart/RIO/sentinel' \n",
    "    print(cmd)\n",
    "    print(obj_name)\n",
    "    cmd = cmd + obj_name\n",
    "    print(cmd)\n",
    "    result = subprocess_cmd(cmd)\n",
    "    print(result)"
   ]
  },
  {
   "cell_type": "code",
   "execution_count": 27,
   "id": "0c3ca9dc",
   "metadata": {},
   "outputs": [
    {
     "data": {
      "text/plain": [
       "'https://sentinel-cogs.s3.us-west-2.amazonaws.com/sentinel-s2-l2a-cogs/23/K/PR/2020/12/S2A_23KPR_20201219_0_L2A/B04.tif'"
      ]
     },
     "execution_count": 27,
     "metadata": {},
     "output_type": "execute_result"
    }
   ],
   "source": [
    "series = kdf.loc[5]\n",
    "series[1]"
   ]
  },
  {
   "cell_type": "code",
   "execution_count": 28,
   "id": "4102318b",
   "metadata": {},
   "outputs": [],
   "source": [
    "import math\n",
    "def xfer_function_caller(row):\n",
    "    start = time.time()\n",
    "    logging.info(\"xfer Thread %s: starting\", row)\n",
    "    series = kdf.loc[row]\n",
    "    for i in range(1,4):\n",
    "        logging.info(\"sending %s\", series[i])\n",
    "        wget_to_s3(series[i])\n",
    "    \n",
    "    #time.sleep(2)\n",
    "    end = time.time()\n",
    "    delta = end - start\n",
    "    logging.info(\"Thread %s: finishing in %d seconds\", row, math.trunc(delta))"
   ]
  },
  {
   "cell_type": "code",
   "execution_count": 29,
   "id": "e4ac5546",
   "metadata": {},
   "outputs": [
    {
     "name": "stderr",
     "output_type": "stream",
     "text": [
      "15:10:30: xfer Thread 8: starting\n",
      "15:10:30: sending https://sentinel-cogs.s3.us-west-2.amazonaws.com/sentinel-s2-l2a-cogs/23/K/NR/2020/12/S2A_23KNR_20201209_0_L2A/B04.tif\n"
     ]
    },
    {
     "name": "stdout",
     "output_type": "stream",
     "text": [
      "wget this: %s https://sentinel-cogs.s3.us-west-2.amazonaws.com/sentinel-s2-l2a-cogs/23/K/NR/2020/12/S2A_23KNR_20201209_0_L2A/B04.tif\n",
      "wget -nv -O- https://sentinel-cogs.s3.us-west-2.amazonaws.com/sentinel-s2-l2a-cogs/23/K/NR/2020/12/S2A_23KNR_20201209_0_L2A/B04.tif | aws s3 cp - s3://dev-et-data/usmart/RIO/sentinel\n",
      "/23/K/NR/2020/12S2A_23KNR_20201209_0_L2A_B04.tif\n",
      "wget -nv -O- https://sentinel-cogs.s3.us-west-2.amazonaws.com/sentinel-s2-l2a-cogs/23/K/NR/2020/12/S2A_23KNR_20201209_0_L2A/B04.tif | aws s3 cp - s3://dev-et-data/usmart/RIO/sentinel/23/K/NR/2020/12S2A_23KNR_20201209_0_L2A_B04.tif\n"
     ]
    },
    {
     "name": "stderr",
     "output_type": "stream",
     "text": [
      "2021-09-11 15:10:33 URL:https://sentinel-cogs.s3.us-west-2.amazonaws.com/sentinel-s2-l2a-cogs/23/K/NR/2020/12/S2A_23KNR_20201209_0_L2A/B04.tif [76911300/76911300] -> \"-\" [1]\n",
      "15:10:34: sending https://sentinel-cogs.s3.us-west-2.amazonaws.com/sentinel-s2-l2a-cogs/23/K/NR/2020/12/S2A_23KNR_20201209_0_L2A/B03.tif\n"
     ]
    },
    {
     "name": "stdout",
     "output_type": "stream",
     "text": [
      "\n",
      "\n",
      "wget this: %s https://sentinel-cogs.s3.us-west-2.amazonaws.com/sentinel-s2-l2a-cogs/23/K/NR/2020/12/S2A_23KNR_20201209_0_L2A/B03.tif\n",
      "wget -nv -O- https://sentinel-cogs.s3.us-west-2.amazonaws.com/sentinel-s2-l2a-cogs/23/K/NR/2020/12/S2A_23KNR_20201209_0_L2A/B03.tif | aws s3 cp - s3://dev-et-data/usmart/RIO/sentinel\n",
      "/23/K/NR/2020/12S2A_23KNR_20201209_0_L2A_B03.tif\n",
      "wget -nv -O- https://sentinel-cogs.s3.us-west-2.amazonaws.com/sentinel-s2-l2a-cogs/23/K/NR/2020/12/S2A_23KNR_20201209_0_L2A/B03.tif | aws s3 cp - s3://dev-et-data/usmart/RIO/sentinel/23/K/NR/2020/12S2A_23KNR_20201209_0_L2A_B03.tif\n"
     ]
    },
    {
     "name": "stderr",
     "output_type": "stream",
     "text": [
      "2021-09-11 15:10:36 URL:https://sentinel-cogs.s3.us-west-2.amazonaws.com/sentinel-s2-l2a-cogs/23/K/NR/2020/12/S2A_23KNR_20201209_0_L2A/B03.tif [76751592/76751592] -> \"-\" [1]\n",
      "15:10:37: sending https://sentinel-cogs.s3.us-west-2.amazonaws.com/sentinel-s2-l2a-cogs/23/K/NR/2020/12/S2A_23KNR_20201209_0_L2A/B02.tif\n"
     ]
    },
    {
     "name": "stdout",
     "output_type": "stream",
     "text": [
      "\n",
      "\n",
      "wget this: %s https://sentinel-cogs.s3.us-west-2.amazonaws.com/sentinel-s2-l2a-cogs/23/K/NR/2020/12/S2A_23KNR_20201209_0_L2A/B02.tif\n",
      "wget -nv -O- https://sentinel-cogs.s3.us-west-2.amazonaws.com/sentinel-s2-l2a-cogs/23/K/NR/2020/12/S2A_23KNR_20201209_0_L2A/B02.tif | aws s3 cp - s3://dev-et-data/usmart/RIO/sentinel\n",
      "/23/K/NR/2020/12S2A_23KNR_20201209_0_L2A_B02.tif\n",
      "wget -nv -O- https://sentinel-cogs.s3.us-west-2.amazonaws.com/sentinel-s2-l2a-cogs/23/K/NR/2020/12/S2A_23KNR_20201209_0_L2A/B02.tif | aws s3 cp - s3://dev-et-data/usmart/RIO/sentinel/23/K/NR/2020/12S2A_23KNR_20201209_0_L2A_B02.tif\n"
     ]
    },
    {
     "name": "stderr",
     "output_type": "stream",
     "text": [
      "2021-09-11 15:10:39 URL:https://sentinel-cogs.s3.us-west-2.amazonaws.com/sentinel-s2-l2a-cogs/23/K/NR/2020/12/S2A_23KNR_20201209_0_L2A/B02.tif [79250361/79250361] -> \"-\" [1]\n",
      "15:10:40: Thread 8: finishing in 9 seconds\n"
     ]
    },
    {
     "name": "stdout",
     "output_type": "stream",
     "text": [
      "\n",
      "\n"
     ]
    }
   ],
   "source": [
    "xfer_function_caller(8)"
   ]
  },
  {
   "cell_type": "code",
   "execution_count": 30,
   "id": "2655e8b7",
   "metadata": {},
   "outputs": [
    {
     "name": "stdout",
     "output_type": "stream",
     "text": [
      "\r\n",
      "Total Objects: 0\r\n",
      "   Total Size: 0\r\n"
     ]
    }
   ],
   "source": [
    "! aws s3 ls dev-et-data/smartTE/sentinel --recur --sum"
   ]
  },
  {
   "cell_type": "code",
   "execution_count": 31,
   "id": "9f79f55a",
   "metadata": {},
   "outputs": [
    {
     "data": {
      "text/plain": [
       "146"
      ]
     },
     "execution_count": 31,
     "metadata": {},
     "output_type": "execute_result"
    }
   ],
   "source": [
    "total_scenes = len(ikeys)\n",
    "total_scenes"
   ]
  },
  {
   "cell_type": "code",
   "execution_count": 32,
   "id": "781fcbc8",
   "metadata": {},
   "outputs": [
    {
     "name": "stderr",
     "output_type": "stream",
     "text": [
      "15:10:41: xfer Thread 0: starting\n",
      "15:10:41: xfer Thread 1: starting\n",
      "15:10:41: xfer Thread 2: starting\n",
      "15:10:41: sending https://sentinel-cogs.s3.us-west-2.amazonaws.com/sentinel-s2-l2a-cogs/23/K/NR/2020/12/S2A_23KNR_20201229_0_L2A/B04.tif\n",
      "15:10:41: xfer Thread 3: starting\n",
      "15:10:41: xfer Thread 4: starting\n",
      "15:10:41: xfer Thread 5: starting\n",
      "15:10:41: sending https://sentinel-cogs.s3.us-west-2.amazonaws.com/sentinel-s2-l2a-cogs/23/K/PR/2020/12/S2A_23KPR_20201229_0_L2A/B04.tif\n",
      "15:10:41: xfer Thread 6: starting\n"
     ]
    },
    {
     "name": "stdout",
     "output_type": "stream",
     "text": [
      "wget this: %s https://sentinel-cogs.s3.us-west-2.amazonaws.com/sentinel-s2-l2a-cogs/23/K/NR/2020/12/S2A_23KNR_20201229_0_L2A/B04.tif\n",
      "wget -nv -O- https://sentinel-cogs.s3.us-west-2.amazonaws.com/sentinel-s2-l2a-cogs/23/K/NR/2020/12/S2A_23KNR_20201229_0_L2A/B04.tif | aws s3 cp - s3://dev-et-data/usmart/RIO/sentinel\n",
      "/23/K/NR/2020/12S2A_23KNR_20201229_0_L2A_B04.tif\n",
      "wget -nv -O- https://sentinel-cogs.s3.us-west-2.amazonaws.com/sentinel-s2-l2a-cogs/23/K/NR/2020/12/S2A_23KNR_20201229_0_L2A/B04.tif | aws s3 cp - s3://dev-et-data/usmart/RIO/sentinel/23/K/NR/2020/12S2A_23KNR_20201229_0_L2A_B04.tif\n",
      "wget this: %s https://sentinel-cogs.s3.us-west-2.amazonaws.com/sentinel-s2-l2a-cogs/23/K/PR/2020/12/S2A_23KPR_20201229_0_L2A/B04.tif\n",
      "wget -nv -O- https://sentinel-cogs.s3.us-west-2.amazonaws.com/sentinel-s2-l2a-cogs/23/K/PR/2020/12/S2A_23KPR_20201229_0_L2A/B04.tif | aws s3 cp - s3://dev-et-data/usmart/RIO/sentinel\n"
     ]
    },
    {
     "name": "stderr",
     "output_type": "stream",
     "text": [
      "15:10:41: sending https://sentinel-cogs.s3.us-west-2.amazonaws.com/sentinel-s2-l2a-cogs/23/K/NR/2020/12/S2B_23KNR_20201224_0_L2A/B04.tif\n",
      "15:10:41: xfer Thread 7: starting\n",
      "15:10:41: xfer Thread 8: starting\n",
      "15:10:41: xfer Thread 9: starting\n",
      "15:10:41: xfer Thread 10: starting\n",
      "15:10:41: xfer Thread 11: starting\n",
      "15:10:41: sending https://sentinel-cogs.s3.us-west-2.amazonaws.com/sentinel-s2-l2a-cogs/23/K/PR/2020/12/S2B_23KPR_20201204_0_L2A/B04.tif\n",
      "15:10:41: xfer Thread 13: starting\n",
      "15:10:41: xfer Thread 14: starting\n"
     ]
    },
    {
     "name": "stdout",
     "output_type": "stream",
     "text": [
      "/23/K/PR/2020/12S2A_23KPR_20201229_0_L2A_B04.tif\n",
      "wget -nv -O- https://sentinel-cogs.s3.us-west-2.amazonaws.com/sentinel-s2-l2a-cogs/23/K/PR/2020/12/S2A_23KPR_20201229_0_L2A/B04.tif | aws s3 cp - s3://dev-et-data/usmart/RIO/sentinel/23/K/PR/2020/12S2A_23KPR_20201229_0_L2A_B04.tif\n",
      "wget this: %s https://sentinel-cogs.s3.us-west-2.amazonaws.com/sentinel-s2-l2a-cogs/23/K/NR/2020/12/S2B_23KNR_20201224_0_L2A/B04.tif\n",
      "wget -nv -O- https://sentinel-cogs.s3.us-west-2.amazonaws.com/sentinel-s2-l2a-cogs/23/K/NR/2020/12/S2B_23KNR_20201224_0_L2A/B04.tif | aws s3 cp - s3://dev-et-data/usmart/RIO/sentinel\n",
      "/23/K/NR/2020/12S2B_23KNR_20201224_0_L2A_B04.tif\n",
      "wget -nv -O- https://sentinel-cogs.s3.us-west-2.amazonaws.com/sentinel-s2-l2a-cogs/23/K/NR/2020/12/S2B_23KNR_20201224_0_L2A/B04.tif | aws s3 cp - s3://dev-et-data/usmart/RIO/sentinel/23/K/NR/2020/12S2B_23KNR_20201224_0_L2A_B04.tif\n",
      "wget this: %s https://sentinel-cogs.s3.us-west-2.amazonaws.com/sentinel-s2-l2a-cogs/23/K/PR/2020/12/S2B_23KPR_20201204_0_L2A/B04.tif\n",
      "wget -nv -O- https://sentinel-cogs.s3.us-west-2.amazonaws.com/sentinel-s2-l2a-cogs/23/K/PR/2020/12/S2B_23KPR_20201204_0_L2A/B04.tif | aws s3 cp - s3://dev-et-data/usmart/RIO/sentinel\n",
      "/23/K/PR/2020/12S2B_23KPR_20201204_0_L2A_B04.tif\n",
      "wget -nv -O- https://sentinel-cogs.s3.us-west-2.amazonaws.com/sentinel-s2-l2a-cogs/23/K/PR/2020/12/S2B_23KPR_20201204_0_L2A/B04.tif | aws s3 cp - s3://dev-et-data/usmart/RIO/sentinel/23/K/PR/2020/12S2B_23KPR_20201204_0_L2A_B04.tif\n"
     ]
    },
    {
     "name": "stderr",
     "output_type": "stream",
     "text": [
      "15:10:41: Initial Threads executor: strted - i think i am waiting before any others\n",
      "15:10:41: sending https://sentinel-cogs.s3.us-west-2.amazonaws.com/sentinel-s2-l2a-cogs/23/K/PR/2020/12/S2B_23KPR_20201224_0_L2A/B04.tif\n",
      "15:10:41: sending https://sentinel-cogs.s3.us-west-2.amazonaws.com/sentinel-s2-l2a-cogs/23/K/NR/2020/12/S2A_23KNR_20201219_0_L2A/B04.tif\n",
      "15:10:41: sending https://sentinel-cogs.s3.us-west-2.amazonaws.com/sentinel-s2-l2a-cogs/23/K/PR/2020/12/S2A_23KPR_20201219_0_L2A/B04.tif\n",
      "15:10:41: sending https://sentinel-cogs.s3.us-west-2.amazonaws.com/sentinel-s2-l2a-cogs/23/K/NR/2020/12/S2B_23KNR_20201214_0_L2A/B04.tif\n",
      "15:10:41: sending https://sentinel-cogs.s3.us-west-2.amazonaws.com/sentinel-s2-l2a-cogs/23/K/PR/2020/12/S2B_23KPR_20201214_0_L2A/B04.tif\n",
      "15:10:41: sending https://sentinel-cogs.s3.us-west-2.amazonaws.com/sentinel-s2-l2a-cogs/23/K/NR/2020/12/S2A_23KNR_20201209_0_L2A/B04.tif\n",
      "15:10:41: sending https://sentinel-cogs.s3.us-west-2.amazonaws.com/sentinel-s2-l2a-cogs/23/K/PR/2020/12/S2A_23KPR_20201209_0_L2A/B04.tif\n",
      "15:10:41: sending https://sentinel-cogs.s3.us-west-2.amazonaws.com/sentinel-s2-l2a-cogs/23/K/NR/2020/12/S2B_23KNR_20201204_0_L2A/B04.tif\n",
      "15:10:41: xfer Thread 12: starting\n",
      "15:10:41: sending https://sentinel-cogs.s3.us-west-2.amazonaws.com/sentinel-s2-l2a-cogs/23/K/PR/2020/11/S2A_23KPR_20201129_0_L2A/B04.tif\n",
      "15:10:41: sending https://sentinel-cogs.s3.us-west-2.amazonaws.com/sentinel-s2-l2a-cogs/23/K/NR/2020/11/S2B_23KNR_20201124_0_L2A/B04.tif\n",
      "15:10:42: sending https://sentinel-cogs.s3.us-west-2.amazonaws.com/sentinel-s2-l2a-cogs/23/K/NR/2020/11/S2A_23KNR_20201129_0_L2A/B04.tif\n"
     ]
    },
    {
     "name": "stdout",
     "output_type": "stream",
     "text": [
      "wget this: %s https://sentinel-cogs.s3.us-west-2.amazonaws.com/sentinel-s2-l2a-cogs/23/K/PR/2020/12/S2B_23KPR_20201224_0_L2A/B04.tif\n",
      "wget -nv -O- https://sentinel-cogs.s3.us-west-2.amazonaws.com/sentinel-s2-l2a-cogs/23/K/PR/2020/12/S2B_23KPR_20201224_0_L2A/B04.tif | aws s3 cp - s3://dev-et-data/usmart/RIO/sentinel\n",
      "/23/K/PR/2020/12S2B_23KPR_20201224_0_L2A_B04.tif\n",
      "wget -nv -O- https://sentinel-cogs.s3.us-west-2.amazonaws.com/sentinel-s2-l2a-cogs/23/K/PR/2020/12/S2B_23KPR_20201224_0_L2A/B04.tif | aws s3 cp - s3://dev-et-data/usmart/RIO/sentinel/23/K/PR/2020/12S2B_23KPR_20201224_0_L2A_B04.tif\n",
      "wget this: %s https://sentinel-cogs.s3.us-west-2.amazonaws.com/sentinel-s2-l2a-cogs/23/K/NR/2020/12/S2A_23KNR_20201219_0_L2A/B04.tif\n",
      "wget -nv -O- https://sentinel-cogs.s3.us-west-2.amazonaws.com/sentinel-s2-l2a-cogs/23/K/NR/2020/12/S2A_23KNR_20201219_0_L2A/B04.tif | aws s3 cp - s3://dev-et-data/usmart/RIO/sentinel\n",
      "/23/K/NR/2020/12S2A_23KNR_20201219_0_L2A_B04.tif\n",
      "wget -nv -O- https://sentinel-cogs.s3.us-west-2.amazonaws.com/sentinel-s2-l2a-cogs/23/K/NR/2020/12/S2A_23KNR_20201219_0_L2A/B04.tif | aws s3 cp - s3://dev-et-data/usmart/RIO/sentinel/23/K/NR/2020/12S2A_23KNR_20201219_0_L2A_B04.tif\n",
      "wget this: %s https://sentinel-cogs.s3.us-west-2.amazonaws.com/sentinel-s2-l2a-cogs/23/K/PR/2020/12/S2A_23KPR_20201219_0_L2A/B04.tif\n",
      "wget -nv -O- https://sentinel-cogs.s3.us-west-2.amazonaws.com/sentinel-s2-l2a-cogs/23/K/PR/2020/12/S2A_23KPR_20201219_0_L2A/B04.tif | aws s3 cp - s3://dev-et-data/usmart/RIO/sentinel\n",
      "/23/K/PR/2020/12S2A_23KPR_20201219_0_L2A_B04.tif\n",
      "wget -nv -O- https://sentinel-cogs.s3.us-west-2.amazonaws.com/sentinel-s2-l2a-cogs/23/K/PR/2020/12/S2A_23KPR_20201219_0_L2A/B04.tif | aws s3 cp - s3://dev-et-data/usmart/RIO/sentinel/23/K/PR/2020/12S2A_23KPR_20201219_0_L2A_B04.tif\n",
      "wget this: %s https://sentinel-cogs.s3.us-west-2.amazonaws.com/sentinel-s2-l2a-cogs/23/K/NR/2020/12/S2B_23KNR_20201214_0_L2A/B04.tif\n",
      "wget -nv -O- https://sentinel-cogs.s3.us-west-2.amazonaws.com/sentinel-s2-l2a-cogs/23/K/NR/2020/12/S2B_23KNR_20201214_0_L2A/B04.tif | aws s3 cp - s3://dev-et-data/usmart/RIO/sentinel\n",
      "/23/K/NR/2020/12S2B_23KNR_20201214_0_L2A_B04.tif\n",
      "wget -nv -O- https://sentinel-cogs.s3.us-west-2.amazonaws.com/sentinel-s2-l2a-cogs/23/K/NR/2020/12/S2B_23KNR_20201214_0_L2A/B04.tif | aws s3 cp - s3://dev-et-data/usmart/RIO/sentinel/23/K/NR/2020/12S2B_23KNR_20201214_0_L2A_B04.tif\n",
      "wget this: %s https://sentinel-cogs.s3.us-west-2.amazonaws.com/sentinel-s2-l2a-cogs/23/K/PR/2020/12/S2B_23KPR_20201214_0_L2A/B04.tif\n",
      "wget -nv -O- https://sentinel-cogs.s3.us-west-2.amazonaws.com/sentinel-s2-l2a-cogs/23/K/PR/2020/12/S2B_23KPR_20201214_0_L2A/B04.tif | aws s3 cp - s3://dev-et-data/usmart/RIO/sentinel\n",
      "/23/K/PR/2020/12S2B_23KPR_20201214_0_L2A_B04.tif\n",
      "wget -nv -O- https://sentinel-cogs.s3.us-west-2.amazonaws.com/sentinel-s2-l2a-cogs/23/K/PR/2020/12/S2B_23KPR_20201214_0_L2A/B04.tif | aws s3 cp - s3://dev-et-data/usmart/RIO/sentinel/23/K/PR/2020/12S2B_23KPR_20201214_0_L2A_B04.tif\n",
      "wget this: %s https://sentinel-cogs.s3.us-west-2.amazonaws.com/sentinel-s2-l2a-cogs/23/K/NR/2020/12/S2A_23KNR_20201209_0_L2A/B04.tif\n",
      "wget -nv -O- https://sentinel-cogs.s3.us-west-2.amazonaws.com/sentinel-s2-l2a-cogs/23/K/NR/2020/12/S2A_23KNR_20201209_0_L2A/B04.tif | aws s3 cp - s3://dev-et-data/usmart/RIO/sentinel\n",
      "/23/K/NR/2020/12S2A_23KNR_20201209_0_L2A_B04.tif\n",
      "wget -nv -O- https://sentinel-cogs.s3.us-west-2.amazonaws.com/sentinel-s2-l2a-cogs/23/K/NR/2020/12/S2A_23KNR_20201209_0_L2A/B04.tif | aws s3 cp - s3://dev-et-data/usmart/RIO/sentinel/23/K/NR/2020/12S2A_23KNR_20201209_0_L2A_B04.tif\n",
      "wget this: %s https://sentinel-cogs.s3.us-west-2.amazonaws.com/sentinel-s2-l2a-cogs/23/K/PR/2020/12/S2A_23KPR_20201209_0_L2A/B04.tif\n",
      "wget -nv -O- https://sentinel-cogs.s3.us-west-2.amazonaws.com/sentinel-s2-l2a-cogs/23/K/PR/2020/12/S2A_23KPR_20201209_0_L2A/B04.tif | aws s3 cp - s3://dev-et-data/usmart/RIO/sentinel\n",
      "/23/K/PR/2020/12S2A_23KPR_20201209_0_L2A_B04.tif\n",
      "wget -nv -O- https://sentinel-cogs.s3.us-west-2.amazonaws.com/sentinel-s2-l2a-cogs/23/K/PR/2020/12/S2A_23KPR_20201209_0_L2A/B04.tif | aws s3 cp - s3://dev-et-data/usmart/RIO/sentinel/23/K/PR/2020/12S2A_23KPR_20201209_0_L2A_B04.tif\n",
      "wget this: %s https://sentinel-cogs.s3.us-west-2.amazonaws.com/sentinel-s2-l2a-cogs/23/K/NR/2020/12/S2B_23KNR_20201204_0_L2A/B04.tif\n",
      "wget -nv -O- https://sentinel-cogs.s3.us-west-2.amazonaws.com/sentinel-s2-l2a-cogs/23/K/NR/2020/12/S2B_23KNR_20201204_0_L2A/B04.tif | aws s3 cp - s3://dev-et-data/usmart/RIO/sentinel\n",
      "/23/K/NR/2020/12S2B_23KNR_20201204_0_L2A_B04.tif\n",
      "wget -nv -O- https://sentinel-cogs.s3.us-west-2.amazonaws.com/sentinel-s2-l2a-cogs/23/K/NR/2020/12/S2B_23KNR_20201204_0_L2A/B04.tif | aws s3 cp - s3://dev-et-data/usmart/RIO/sentinel/23/K/NR/2020/12S2B_23KNR_20201204_0_L2A_B04.tif\n",
      "wget this: %s https://sentinel-cogs.s3.us-west-2.amazonaws.com/sentinel-s2-l2a-cogs/23/K/PR/2020/11/S2A_23KPR_20201129_0_L2A/B04.tif\n",
      "wget -nv -O- https://sentinel-cogs.s3.us-west-2.amazonaws.com/sentinel-s2-l2a-cogs/23/K/PR/2020/11/S2A_23KPR_20201129_0_L2A/B04.tif | aws s3 cp - s3://dev-et-data/usmart/RIO/sentinel\n",
      "/23/K/PR/2020/11S2A_23KPR_20201129_0_L2A_B04.tif\n",
      "wget -nv -O- https://sentinel-cogs.s3.us-west-2.amazonaws.com/sentinel-s2-l2a-cogs/23/K/PR/2020/11/S2A_23KPR_20201129_0_L2A/B04.tif | aws s3 cp - s3://dev-et-data/usmart/RIO/sentinel/23/K/PR/2020/11S2A_23KPR_20201129_0_L2A_B04.tif\n",
      "wget this: %s https://sentinel-cogs.s3.us-west-2.amazonaws.com/sentinel-s2-l2a-cogs/23/K/NR/2020/11/S2B_23KNR_20201124_0_L2A/B04.tif\n",
      "wget -nv -O- https://sentinel-cogs.s3.us-west-2.amazonaws.com/sentinel-s2-l2a-cogs/23/K/NR/2020/11/S2B_23KNR_20201124_0_L2A/B04.tif | aws s3 cp - s3://dev-et-data/usmart/RIO/sentinel\n",
      "/23/K/NR/2020/11S2B_23KNR_20201124_0_L2A_B04.tif\n",
      "wget -nv -O- https://sentinel-cogs.s3.us-west-2.amazonaws.com/sentinel-s2-l2a-cogs/23/K/NR/2020/11/S2B_23KNR_20201124_0_L2A/B04.tif | aws s3 cp - s3://dev-et-data/usmart/RIO/sentinel/23/K/NR/2020/11S2B_23KNR_20201124_0_L2A_B04.tif\n",
      "wget this: %s https://sentinel-cogs.s3.us-west-2.amazonaws.com/sentinel-s2-l2a-cogs/23/K/NR/2020/11/S2A_23KNR_20201129_0_L2A/B04.tif\n",
      "wget -nv -O- https://sentinel-cogs.s3.us-west-2.amazonaws.com/sentinel-s2-l2a-cogs/23/K/NR/2020/11/S2A_23KNR_20201129_0_L2A/B04.tif | aws s3 cp - s3://dev-et-data/usmart/RIO/sentinel\n",
      "/23/K/NR/2020/11S2A_23KNR_20201129_0_L2A_B04.tif\n",
      "wget -nv -O- https://sentinel-cogs.s3.us-west-2.amazonaws.com/sentinel-s2-l2a-cogs/23/K/NR/2020/11/S2A_23KNR_20201129_0_L2A/B04.tif | aws s3 cp - s3://dev-et-data/usmart/RIO/sentinel/23/K/NR/2020/11S2A_23KNR_20201129_0_L2A_B04.tif\n"
     ]
    },
    {
     "name": "stderr",
     "output_type": "stream",
     "text": [
      "2021-09-11 15:10:47 URL:https://sentinel-cogs.s3.us-west-2.amazonaws.com/sentinel-s2-l2a-cogs/23/K/NR/2020/12/S2A_23KNR_20201229_0_L2A/B04.tif [101386453/101386453] -> \"-\" [1]\n",
      "2021-09-11 15:10:47 URL:https://sentinel-cogs.s3.us-west-2.amazonaws.com/sentinel-s2-l2a-cogs/23/K/NR/2020/12/S2B_23KNR_20201224_0_L2A/B04.tif [80015575/80015575] -> \"-\" [1]\n",
      "2021-09-11 15:10:48 URL:https://sentinel-cogs.s3.us-west-2.amazonaws.com/sentinel-s2-l2a-cogs/23/K/NR/2020/12/S2A_23KNR_20201209_0_L2A/B04.tif [76911300/76911300] -> \"-\" [1]\n",
      "15:10:49: sending https://sentinel-cogs.s3.us-west-2.amazonaws.com/sentinel-s2-l2a-cogs/23/K/NR/2020/12/S2B_23KNR_20201224_0_L2A/B03.tif\n",
      "15:10:49: sending https://sentinel-cogs.s3.us-west-2.amazonaws.com/sentinel-s2-l2a-cogs/23/K/NR/2020/12/S2A_23KNR_20201229_0_L2A/B03.tif\n"
     ]
    },
    {
     "name": "stdout",
     "output_type": "stream",
     "text": [
      "\n",
      "\n",
      "wget this: %s https://sentinel-cogs.s3.us-west-2.amazonaws.com/sentinel-s2-l2a-cogs/23/K/NR/2020/12/S2B_23KNR_20201224_0_L2A/B03.tif\n",
      "wget -nv -O- https://sentinel-cogs.s3.us-west-2.amazonaws.com/sentinel-s2-l2a-cogs/23/K/NR/2020/12/S2B_23KNR_20201224_0_L2A/B03.tif | aws s3 cp - s3://dev-et-data/usmart/RIO/sentinel\n",
      "/23/K/NR/2020/12S2B_23KNR_20201224_0_L2A_B03.tif\n",
      "wget -nv -O- https://sentinel-cogs.s3.us-west-2.amazonaws.com/sentinel-s2-l2a-cogs/23/K/NR/2020/12/S2B_23KNR_20201224_0_L2A/B03.tif | aws s3 cp - s3://dev-et-data/usmart/RIO/sentinel/23/K/NR/2020/12S2B_23KNR_20201224_0_L2A_B03.tif\n",
      "\n",
      "\n",
      "wget this: %s https://sentinel-cogs.s3.us-west-2.amazonaws.com/sentinel-s2-l2a-cogs/23/K/NR/2020/12/S2A_23KNR_20201229_0_L2A/B03.tif\n",
      "wget -nv -O- https://sentinel-cogs.s3.us-west-2.amazonaws.com/sentinel-s2-l2a-cogs/23/K/NR/2020/12/S2A_23KNR_20201229_0_L2A/B03.tif | aws s3 cp - s3://dev-et-data/usmart/RIO/sentinel\n",
      "/23/K/NR/2020/12S2A_23KNR_20201229_0_L2A_B03.tif\n",
      "wget -nv -O- https://sentinel-cogs.s3.us-west-2.amazonaws.com/sentinel-s2-l2a-cogs/23/K/NR/2020/12/S2A_23KNR_20201229_0_L2A/B03.tif | aws s3 cp - s3://dev-et-data/usmart/RIO/sentinel/23/K/NR/2020/12S2A_23KNR_20201229_0_L2A_B03.tif\n"
     ]
    },
    {
     "name": "stderr",
     "output_type": "stream",
     "text": [
      "2021-09-11 15:10:49 URL:https://sentinel-cogs.s3.us-west-2.amazonaws.com/sentinel-s2-l2a-cogs/23/K/PR/2020/12/S2B_23KPR_20201224_0_L2A/B04.tif [137802827/137802827] -> \"-\" [1]\n",
      "2021-09-11 15:10:49 URL:https://sentinel-cogs.s3.us-west-2.amazonaws.com/sentinel-s2-l2a-cogs/23/K/NR/2020/11/S2A_23KNR_20201129_0_L2A/B04.tif [131651514/131651514] -> \"-\" [1]\n",
      "2021-09-11 15:10:49 URL:https://sentinel-cogs.s3.us-west-2.amazonaws.com/sentinel-s2-l2a-cogs/23/K/NR/2020/12/S2B_23KNR_20201204_0_L2A/B04.tif [122903194/122903194] -> \"-\" [1]\n",
      "2021-09-11 15:10:50 URL:https://sentinel-cogs.s3.us-west-2.amazonaws.com/sentinel-s2-l2a-cogs/23/K/NR/2020/12/S2B_23KNR_20201214_0_L2A/B04.tif [119016062/119016062] -> \"-\" [1]\n",
      "15:10:50: sending https://sentinel-cogs.s3.us-west-2.amazonaws.com/sentinel-s2-l2a-cogs/23/K/NR/2020/12/S2A_23KNR_20201209_0_L2A/B03.tif\n"
     ]
    },
    {
     "name": "stdout",
     "output_type": "stream",
     "text": [
      "\n",
      "\n",
      "wget this: %s https://sentinel-cogs.s3.us-west-2.amazonaws.com/sentinel-s2-l2a-cogs/23/K/NR/2020/12/S2A_23KNR_20201209_0_L2A/B03.tif\n",
      "wget -nv -O- https://sentinel-cogs.s3.us-west-2.amazonaws.com/sentinel-s2-l2a-cogs/23/K/NR/2020/12/S2A_23KNR_20201209_0_L2A/B03.tif | aws s3 cp - s3://dev-et-data/usmart/RIO/sentinel\n",
      "/23/K/NR/2020/12S2A_23KNR_20201209_0_L2A_B03.tif\n",
      "wget -nv -O- https://sentinel-cogs.s3.us-west-2.amazonaws.com/sentinel-s2-l2a-cogs/23/K/NR/2020/12/S2A_23KNR_20201209_0_L2A/B03.tif | aws s3 cp - s3://dev-et-data/usmart/RIO/sentinel/23/K/NR/2020/12S2A_23KNR_20201209_0_L2A_B03.tif\n"
     ]
    },
    {
     "name": "stderr",
     "output_type": "stream",
     "text": [
      "2021-09-11 15:10:50 URL:https://sentinel-cogs.s3.us-west-2.amazonaws.com/sentinel-s2-l2a-cogs/23/K/NR/2020/11/S2B_23KNR_20201124_0_L2A/B04.tif [131738198/131738198] -> \"-\" [1]\n",
      "2021-09-11 15:10:50 URL:https://sentinel-cogs.s3.us-west-2.amazonaws.com/sentinel-s2-l2a-cogs/23/K/NR/2020/12/S2A_23KNR_20201219_0_L2A/B04.tif [124547565/124547565] -> \"-\" [1]\n",
      "2021-09-11 15:10:50 URL:https://sentinel-cogs.s3.us-west-2.amazonaws.com/sentinel-s2-l2a-cogs/23/K/PR/2020/12/S2A_23KPR_20201209_0_L2A/B04.tif [146579692/146579692] -> \"-\" [1]\n",
      "15:10:50: sending https://sentinel-cogs.s3.us-west-2.amazonaws.com/sentinel-s2-l2a-cogs/23/K/NR/2020/11/S2A_23KNR_20201129_0_L2A/B03.tif\n",
      "15:10:51: sending https://sentinel-cogs.s3.us-west-2.amazonaws.com/sentinel-s2-l2a-cogs/23/K/NR/2020/12/S2B_23KNR_20201204_0_L2A/B03.tif\n"
     ]
    },
    {
     "name": "stdout",
     "output_type": "stream",
     "text": [
      "\n",
      "\n",
      "wget this: %s https://sentinel-cogs.s3.us-west-2.amazonaws.com/sentinel-s2-l2a-cogs/23/K/NR/2020/11/S2A_23KNR_20201129_0_L2A/B03.tif\n",
      "wget -nv -O- https://sentinel-cogs.s3.us-west-2.amazonaws.com/sentinel-s2-l2a-cogs/23/K/NR/2020/11/S2A_23KNR_20201129_0_L2A/B03.tif | aws s3 cp - s3://dev-et-data/usmart/RIO/sentinel\n",
      "/23/K/NR/2020/11S2A_23KNR_20201129_0_L2A_B03.tif\n",
      "wget -nv -O- https://sentinel-cogs.s3.us-west-2.amazonaws.com/sentinel-s2-l2a-cogs/23/K/NR/2020/11/S2A_23KNR_20201129_0_L2A/B03.tif | aws s3 cp - s3://dev-et-data/usmart/RIO/sentinel/23/K/NR/2020/11S2A_23KNR_20201129_0_L2A_B03.tif\n",
      "\n",
      "\n"
     ]
    },
    {
     "name": "stderr",
     "output_type": "stream",
     "text": [
      "15:10:51: sending https://sentinel-cogs.s3.us-west-2.amazonaws.com/sentinel-s2-l2a-cogs/23/K/NR/2020/12/S2B_23KNR_20201214_0_L2A/B03.tif\n",
      "15:10:51: sending https://sentinel-cogs.s3.us-west-2.amazonaws.com/sentinel-s2-l2a-cogs/23/K/NR/2020/11/S2B_23KNR_20201124_0_L2A/B03.tif\n"
     ]
    },
    {
     "name": "stdout",
     "output_type": "stream",
     "text": [
      "wget this: %s https://sentinel-cogs.s3.us-west-2.amazonaws.com/sentinel-s2-l2a-cogs/23/K/NR/2020/12/S2B_23KNR_20201204_0_L2A/B03.tif\n",
      "wget -nv -O- https://sentinel-cogs.s3.us-west-2.amazonaws.com/sentinel-s2-l2a-cogs/23/K/NR/2020/12/S2B_23KNR_20201204_0_L2A/B03.tif | aws s3 cp - s3://dev-et-data/usmart/RIO/sentinel\n",
      "/23/K/NR/2020/12S2B_23KNR_20201204_0_L2A_B03.tif\n",
      "wget -nv -O- https://sentinel-cogs.s3.us-west-2.amazonaws.com/sentinel-s2-l2a-cogs/23/K/NR/2020/12/S2B_23KNR_20201204_0_L2A/B03.tif | aws s3 cp - s3://dev-et-data/usmart/RIO/sentinel/23/K/NR/2020/12S2B_23KNR_20201204_0_L2A_B03.tif\n",
      "\n",
      "\n",
      "wget this: %s https://sentinel-cogs.s3.us-west-2.amazonaws.com/sentinel-s2-l2a-cogs/23/K/NR/2020/12/S2B_23KNR_20201214_0_L2A/B03.tif\n",
      "wget -nv -O- https://sentinel-cogs.s3.us-west-2.amazonaws.com/sentinel-s2-l2a-cogs/23/K/NR/2020/12/S2B_23KNR_20201214_0_L2A/B03.tif | aws s3 cp - s3://dev-et-data/usmart/RIO/sentinel\n",
      "/23/K/NR/2020/12S2B_23KNR_20201214_0_L2A_B03.tif\n",
      "wget -nv -O- https://sentinel-cogs.s3.us-west-2.amazonaws.com/sentinel-s2-l2a-cogs/23/K/NR/2020/12/S2B_23KNR_20201214_0_L2A/B03.tif | aws s3 cp - s3://dev-et-data/usmart/RIO/sentinel/23/K/NR/2020/12S2B_23KNR_20201214_0_L2A_B03.tif\n",
      "\n",
      "\n",
      "wget this: %s https://sentinel-cogs.s3.us-west-2.amazonaws.com/sentinel-s2-l2a-cogs/23/K/NR/2020/11/S2B_23KNR_20201124_0_L2A/B03.tif\n",
      "wget -nv -O- https://sentinel-cogs.s3.us-west-2.amazonaws.com/sentinel-s2-l2a-cogs/23/K/NR/2020/11/S2B_23KNR_20201124_0_L2A/B03.tif | aws s3 cp - s3://dev-et-data/usmart/RIO/sentinel\n",
      "/23/K/NR/2020/11S2B_23KNR_20201124_0_L2A_B03.tif\n",
      "wget -nv -O- https://sentinel-cogs.s3.us-west-2.amazonaws.com/sentinel-s2-l2a-cogs/23/K/NR/2020/11/S2B_23KNR_20201124_0_L2A/B03.tif | aws s3 cp - s3://dev-et-data/usmart/RIO/sentinel/23/K/NR/2020/11S2B_23KNR_20201124_0_L2A_B03.tif\n"
     ]
    },
    {
     "name": "stderr",
     "output_type": "stream",
     "text": [
      "2021-09-11 15:10:51 URL:https://sentinel-cogs.s3.us-west-2.amazonaws.com/sentinel-s2-l2a-cogs/23/K/PR/2020/12/S2B_23KPR_20201214_0_L2A/B04.tif [213709719/213709719] -> \"-\" [1]\n",
      "2021-09-11 15:10:51 URL:https://sentinel-cogs.s3.us-west-2.amazonaws.com/sentinel-s2-l2a-cogs/23/K/PR/2020/12/S2B_23KPR_20201204_0_L2A/B04.tif [214214751/214214751] -> \"-\" [1]\n",
      "15:10:51: sending https://sentinel-cogs.s3.us-west-2.amazonaws.com/sentinel-s2-l2a-cogs/23/K/PR/2020/12/S2A_23KPR_20201209_0_L2A/B03.tif\n",
      "2021-09-11 15:10:51 URL:https://sentinel-cogs.s3.us-west-2.amazonaws.com/sentinel-s2-l2a-cogs/23/K/PR/2020/12/S2A_23KPR_20201229_0_L2A/B04.tif [201317517/201317517] -> \"-\" [1]\n",
      "15:10:51: sending https://sentinel-cogs.s3.us-west-2.amazonaws.com/sentinel-s2-l2a-cogs/23/K/NR/2020/12/S2A_23KNR_20201219_0_L2A/B03.tif\n"
     ]
    },
    {
     "name": "stdout",
     "output_type": "stream",
     "text": [
      "\n",
      "\n",
      "wget this: %s https://sentinel-cogs.s3.us-west-2.amazonaws.com/sentinel-s2-l2a-cogs/23/K/PR/2020/12/S2A_23KPR_20201209_0_L2A/B03.tif\n",
      "wget -nv -O- https://sentinel-cogs.s3.us-west-2.amazonaws.com/sentinel-s2-l2a-cogs/23/K/PR/2020/12/S2A_23KPR_20201209_0_L2A/B03.tif | aws s3 cp - s3://dev-et-data/usmart/RIO/sentinel\n",
      "/23/K/PR/2020/12S2A_23KPR_20201209_0_L2A_B03.tif\n",
      "wget -nv -O- https://sentinel-cogs.s3.us-west-2.amazonaws.com/sentinel-s2-l2a-cogs/23/K/PR/2020/12/S2A_23KPR_20201209_0_L2A/B03.tif | aws s3 cp - s3://dev-et-data/usmart/RIO/sentinel/23/K/PR/2020/12S2A_23KPR_20201209_0_L2A_B03.tif\n",
      "\n",
      "\n",
      "wget this: %s https://sentinel-cogs.s3.us-west-2.amazonaws.com/sentinel-s2-l2a-cogs/23/K/NR/2020/12/S2A_23KNR_20201219_0_L2A/B03.tif\n",
      "wget -nv -O- https://sentinel-cogs.s3.us-west-2.amazonaws.com/sentinel-s2-l2a-cogs/23/K/NR/2020/12/S2A_23KNR_20201219_0_L2A/B03.tif | aws s3 cp - s3://dev-et-data/usmart/RIO/sentinel\n",
      "/23/K/NR/2020/12S2A_23KNR_20201219_0_L2A_B03.tif\n",
      "wget -nv -O- https://sentinel-cogs.s3.us-west-2.amazonaws.com/sentinel-s2-l2a-cogs/23/K/NR/2020/12/S2A_23KNR_20201219_0_L2A/B03.tif | aws s3 cp - s3://dev-et-data/usmart/RIO/sentinel/23/K/NR/2020/12S2A_23KNR_20201219_0_L2A_B03.tif\n"
     ]
    },
    {
     "name": "stderr",
     "output_type": "stream",
     "text": [
      "15:10:52: sending https://sentinel-cogs.s3.us-west-2.amazonaws.com/sentinel-s2-l2a-cogs/23/K/PR/2020/12/S2B_23KPR_20201204_0_L2A/B03.tif\n",
      "15:10:52: sending https://sentinel-cogs.s3.us-west-2.amazonaws.com/sentinel-s2-l2a-cogs/23/K/PR/2020/12/S2A_23KPR_20201229_0_L2A/B03.tif\n"
     ]
    },
    {
     "name": "stdout",
     "output_type": "stream",
     "text": [
      "\n",
      "\n",
      "wget this: %s https://sentinel-cogs.s3.us-west-2.amazonaws.com/sentinel-s2-l2a-cogs/23/K/PR/2020/12/S2B_23KPR_20201204_0_L2A/B03.tif\n",
      "wget -nv -O- https://sentinel-cogs.s3.us-west-2.amazonaws.com/sentinel-s2-l2a-cogs/23/K/PR/2020/12/S2B_23KPR_20201204_0_L2A/B03.tif | aws s3 cp - s3://dev-et-data/usmart/RIO/sentinel\n",
      "/23/K/PR/2020/12S2B_23KPR_20201204_0_L2A_B03.tif\n",
      "wget -nv -O- https://sentinel-cogs.s3.us-west-2.amazonaws.com/sentinel-s2-l2a-cogs/23/K/PR/2020/12/S2B_23KPR_20201204_0_L2A/B03.tif | aws s3 cp - s3://dev-et-data/usmart/RIO/sentinel/23/K/PR/2020/12S2B_23KPR_20201204_0_L2A_B03.tif\n",
      "\n",
      "\n",
      "wget this: %s https://sentinel-cogs.s3.us-west-2.amazonaws.com/sentinel-s2-l2a-cogs/23/K/PR/2020/12/S2A_23KPR_20201229_0_L2A/B03.tif\n",
      "wget -nv -O- https://sentinel-cogs.s3.us-west-2.amazonaws.com/sentinel-s2-l2a-cogs/23/K/PR/2020/12/S2A_23KPR_20201229_0_L2A/B03.tif | aws s3 cp - s3://dev-et-data/usmart/RIO/sentinel\n",
      "/23/K/PR/2020/12S2A_23KPR_20201229_0_L2A_B03.tif\n",
      "wget -nv -O- https://sentinel-cogs.s3.us-west-2.amazonaws.com/sentinel-s2-l2a-cogs/23/K/PR/2020/12/S2A_23KPR_20201229_0_L2A/B03.tif | aws s3 cp - s3://dev-et-data/usmart/RIO/sentinel/23/K/PR/2020/12S2A_23KPR_20201229_0_L2A_B03.tif\n"
     ]
    },
    {
     "name": "stderr",
     "output_type": "stream",
     "text": [
      "15:10:52: sending https://sentinel-cogs.s3.us-west-2.amazonaws.com/sentinel-s2-l2a-cogs/23/K/PR/2020/12/S2B_23KPR_20201214_0_L2A/B03.tif\n",
      "15:10:52: sending https://sentinel-cogs.s3.us-west-2.amazonaws.com/sentinel-s2-l2a-cogs/23/K/PR/2020/12/S2B_23KPR_20201224_0_L2A/B03.tif\n"
     ]
    },
    {
     "name": "stdout",
     "output_type": "stream",
     "text": [
      "\n",
      "\n",
      "wget this: %s https://sentinel-cogs.s3.us-west-2.amazonaws.com/sentinel-s2-l2a-cogs/23/K/PR/2020/12/S2B_23KPR_20201214_0_L2A/B03.tif\n",
      "wget -nv -O- https://sentinel-cogs.s3.us-west-2.amazonaws.com/sentinel-s2-l2a-cogs/23/K/PR/2020/12/S2B_23KPR_20201214_0_L2A/B03.tif | aws s3 cp - s3://dev-et-data/usmart/RIO/sentinel\n",
      "/23/K/PR/2020/12S2B_23KPR_20201214_0_L2A_B03.tif\n",
      "wget -nv -O- https://sentinel-cogs.s3.us-west-2.amazonaws.com/sentinel-s2-l2a-cogs/23/K/PR/2020/12/S2B_23KPR_20201214_0_L2A/B03.tif | aws s3 cp - s3://dev-et-data/usmart/RIO/sentinel/23/K/PR/2020/12S2B_23KPR_20201214_0_L2A_B03.tif\n",
      "\n",
      "\n",
      "wget this: %s https://sentinel-cogs.s3.us-west-2.amazonaws.com/sentinel-s2-l2a-cogs/23/K/PR/2020/12/S2B_23KPR_20201224_0_L2A/B03.tif\n",
      "wget -nv -O- https://sentinel-cogs.s3.us-west-2.amazonaws.com/sentinel-s2-l2a-cogs/23/K/PR/2020/12/S2B_23KPR_20201224_0_L2A/B03.tif | aws s3 cp - s3://dev-et-data/usmart/RIO/sentinel\n",
      "/23/K/PR/2020/12S2B_23KPR_20201224_0_L2A_B03.tif\n",
      "wget -nv -O- https://sentinel-cogs.s3.us-west-2.amazonaws.com/sentinel-s2-l2a-cogs/23/K/PR/2020/12/S2B_23KPR_20201224_0_L2A/B03.tif | aws s3 cp - s3://dev-et-data/usmart/RIO/sentinel/23/K/PR/2020/12S2B_23KPR_20201224_0_L2A_B03.tif\n"
     ]
    },
    {
     "name": "stderr",
     "output_type": "stream",
     "text": [
      "2021-09-11 15:10:53 URL:https://sentinel-cogs.s3.us-west-2.amazonaws.com/sentinel-s2-l2a-cogs/23/K/PR/2020/12/S2A_23KPR_20201219_0_L2A/B04.tif [223435979/223435979] -> \"-\" [1]\n",
      "2021-09-11 15:10:53 URL:https://sentinel-cogs.s3.us-west-2.amazonaws.com/sentinel-s2-l2a-cogs/23/K/PR/2020/11/S2A_23KPR_20201129_0_L2A/B04.tif [232436697/232436697] -> \"-\" [1]\n",
      "15:10:53: sending https://sentinel-cogs.s3.us-west-2.amazonaws.com/sentinel-s2-l2a-cogs/23/K/PR/2020/12/S2A_23KPR_20201219_0_L2A/B03.tif\n"
     ]
    },
    {
     "name": "stdout",
     "output_type": "stream",
     "text": [
      "\n",
      "\n",
      "wget this: %s https://sentinel-cogs.s3.us-west-2.amazonaws.com/sentinel-s2-l2a-cogs/23/K/PR/2020/12/S2A_23KPR_20201219_0_L2A/B03.tif\n",
      "wget -nv -O- https://sentinel-cogs.s3.us-west-2.amazonaws.com/sentinel-s2-l2a-cogs/23/K/PR/2020/12/S2A_23KPR_20201219_0_L2A/B03.tif | aws s3 cp - s3://dev-et-data/usmart/RIO/sentinel\n",
      "/23/K/PR/2020/12S2A_23KPR_20201219_0_L2A_B03.tif\n",
      "wget -nv -O- https://sentinel-cogs.s3.us-west-2.amazonaws.com/sentinel-s2-l2a-cogs/23/K/PR/2020/12/S2A_23KPR_20201219_0_L2A/B03.tif | aws s3 cp - s3://dev-et-data/usmart/RIO/sentinel/23/K/PR/2020/12S2A_23KPR_20201219_0_L2A_B03.tif\n"
     ]
    },
    {
     "name": "stderr",
     "output_type": "stream",
     "text": [
      "15:10:54: sending https://sentinel-cogs.s3.us-west-2.amazonaws.com/sentinel-s2-l2a-cogs/23/K/PR/2020/11/S2A_23KPR_20201129_0_L2A/B03.tif\n"
     ]
    },
    {
     "name": "stdout",
     "output_type": "stream",
     "text": [
      "\n",
      "\n",
      "wget this: %s https://sentinel-cogs.s3.us-west-2.amazonaws.com/sentinel-s2-l2a-cogs/23/K/PR/2020/11/S2A_23KPR_20201129_0_L2A/B03.tif\n",
      "wget -nv -O- https://sentinel-cogs.s3.us-west-2.amazonaws.com/sentinel-s2-l2a-cogs/23/K/PR/2020/11/S2A_23KPR_20201129_0_L2A/B03.tif | aws s3 cp - s3://dev-et-data/usmart/RIO/sentinel\n",
      "/23/K/PR/2020/11S2A_23KPR_20201129_0_L2A_B03.tif\n",
      "wget -nv -O- https://sentinel-cogs.s3.us-west-2.amazonaws.com/sentinel-s2-l2a-cogs/23/K/PR/2020/11/S2A_23KPR_20201129_0_L2A/B03.tif | aws s3 cp - s3://dev-et-data/usmart/RIO/sentinel/23/K/PR/2020/11S2A_23KPR_20201129_0_L2A_B03.tif\n"
     ]
    },
    {
     "name": "stderr",
     "output_type": "stream",
     "text": [
      "2021-09-11 15:10:54 URL:https://sentinel-cogs.s3.us-west-2.amazonaws.com/sentinel-s2-l2a-cogs/23/K/NR/2020/12/S2A_23KNR_20201209_0_L2A/B03.tif [76751592/76751592] -> \"-\" [1]\n",
      "2021-09-11 15:10:55 URL:https://sentinel-cogs.s3.us-west-2.amazonaws.com/sentinel-s2-l2a-cogs/23/K/NR/2020/12/S2B_23KNR_20201224_0_L2A/B03.tif [79523742/79523742] -> \"-\" [1]\n",
      "2021-09-11 15:10:55 URL:https://sentinel-cogs.s3.us-west-2.amazonaws.com/sentinel-s2-l2a-cogs/23/K/NR/2020/12/S2A_23KNR_20201229_0_L2A/B03.tif [101206799/101206799] -> \"-\" [1]\n",
      "15:10:56: sending https://sentinel-cogs.s3.us-west-2.amazonaws.com/sentinel-s2-l2a-cogs/23/K/NR/2020/12/S2A_23KNR_20201209_0_L2A/B02.tif\n"
     ]
    },
    {
     "name": "stdout",
     "output_type": "stream",
     "text": [
      "\n",
      "\n",
      "wget this: %s https://sentinel-cogs.s3.us-west-2.amazonaws.com/sentinel-s2-l2a-cogs/23/K/NR/2020/12/S2A_23KNR_20201209_0_L2A/B02.tif\n",
      "wget -nv -O- https://sentinel-cogs.s3.us-west-2.amazonaws.com/sentinel-s2-l2a-cogs/23/K/NR/2020/12/S2A_23KNR_20201209_0_L2A/B02.tif | aws s3 cp - s3://dev-et-data/usmart/RIO/sentinel\n",
      "/23/K/NR/2020/12S2A_23KNR_20201209_0_L2A_B02.tif\n",
      "wget -nv -O- https://sentinel-cogs.s3.us-west-2.amazonaws.com/sentinel-s2-l2a-cogs/23/K/NR/2020/12/S2A_23KNR_20201209_0_L2A/B02.tif | aws s3 cp - s3://dev-et-data/usmart/RIO/sentinel/23/K/NR/2020/12S2A_23KNR_20201209_0_L2A_B02.tif\n"
     ]
    },
    {
     "name": "stderr",
     "output_type": "stream",
     "text": [
      "15:10:56: sending https://sentinel-cogs.s3.us-west-2.amazonaws.com/sentinel-s2-l2a-cogs/23/K/NR/2020/12/S2B_23KNR_20201224_0_L2A/B02.tif\n"
     ]
    },
    {
     "name": "stdout",
     "output_type": "stream",
     "text": [
      "\n",
      "\n",
      "wget this: %s https://sentinel-cogs.s3.us-west-2.amazonaws.com/sentinel-s2-l2a-cogs/23/K/NR/2020/12/S2B_23KNR_20201224_0_L2A/B02.tif\n",
      "wget -nv -O- https://sentinel-cogs.s3.us-west-2.amazonaws.com/sentinel-s2-l2a-cogs/23/K/NR/2020/12/S2B_23KNR_20201224_0_L2A/B02.tif | aws s3 cp - s3://dev-et-data/usmart/RIO/sentinel\n",
      "/23/K/NR/2020/12S2B_23KNR_20201224_0_L2A_B02.tif\n",
      "wget -nv -O- https://sentinel-cogs.s3.us-west-2.amazonaws.com/sentinel-s2-l2a-cogs/23/K/NR/2020/12/S2B_23KNR_20201224_0_L2A/B02.tif | aws s3 cp - s3://dev-et-data/usmart/RIO/sentinel/23/K/NR/2020/12S2B_23KNR_20201224_0_L2A_B02.tif\n"
     ]
    },
    {
     "name": "stderr",
     "output_type": "stream",
     "text": [
      "15:10:57: sending https://sentinel-cogs.s3.us-west-2.amazonaws.com/sentinel-s2-l2a-cogs/23/K/NR/2020/12/S2A_23KNR_20201229_0_L2A/B02.tif\n"
     ]
    },
    {
     "name": "stdout",
     "output_type": "stream",
     "text": [
      "\n",
      "\n",
      "wget this: %s https://sentinel-cogs.s3.us-west-2.amazonaws.com/sentinel-s2-l2a-cogs/23/K/NR/2020/12/S2A_23KNR_20201229_0_L2A/B02.tif\n",
      "wget -nv -O- https://sentinel-cogs.s3.us-west-2.amazonaws.com/sentinel-s2-l2a-cogs/23/K/NR/2020/12/S2A_23KNR_20201229_0_L2A/B02.tif | aws s3 cp - s3://dev-et-data/usmart/RIO/sentinel\n",
      "/23/K/NR/2020/12S2A_23KNR_20201229_0_L2A_B02.tif\n",
      "wget -nv -O- https://sentinel-cogs.s3.us-west-2.amazonaws.com/sentinel-s2-l2a-cogs/23/K/NR/2020/12/S2A_23KNR_20201229_0_L2A/B02.tif | aws s3 cp - s3://dev-et-data/usmart/RIO/sentinel/23/K/NR/2020/12S2A_23KNR_20201229_0_L2A_B02.tif\n"
     ]
    },
    {
     "name": "stderr",
     "output_type": "stream",
     "text": [
      "2021-09-11 15:10:57 URL:https://sentinel-cogs.s3.us-west-2.amazonaws.com/sentinel-s2-l2a-cogs/23/K/NR/2020/11/S2A_23KNR_20201129_0_L2A/B03.tif [129807345/129807345] -> \"-\" [1]\n",
      "2021-09-11 15:10:57 URL:https://sentinel-cogs.s3.us-west-2.amazonaws.com/sentinel-s2-l2a-cogs/23/K/NR/2020/12/S2B_23KNR_20201214_0_L2A/B03.tif [116794536/116794536] -> \"-\" [1]\n",
      "2021-09-11 15:10:57 URL:https://sentinel-cogs.s3.us-west-2.amazonaws.com/sentinel-s2-l2a-cogs/23/K/NR/2020/12/S2B_23KNR_20201204_0_L2A/B03.tif [120209356/120209356] -> \"-\" [1]\n",
      "2021-09-11 15:10:58 URL:https://sentinel-cogs.s3.us-west-2.amazonaws.com/sentinel-s2-l2a-cogs/23/K/NR/2020/11/S2B_23KNR_20201124_0_L2A/B03.tif [130275328/130275328] -> \"-\" [1]\n",
      "15:10:58: sending https://sentinel-cogs.s3.us-west-2.amazonaws.com/sentinel-s2-l2a-cogs/23/K/NR/2020/11/S2A_23KNR_20201129_0_L2A/B02.tif\n"
     ]
    },
    {
     "name": "stdout",
     "output_type": "stream",
     "text": [
      "\n",
      "\n",
      "wget this: %s https://sentinel-cogs.s3.us-west-2.amazonaws.com/sentinel-s2-l2a-cogs/23/K/NR/2020/11/S2A_23KNR_20201129_0_L2A/B02.tif\n",
      "wget -nv -O- https://sentinel-cogs.s3.us-west-2.amazonaws.com/sentinel-s2-l2a-cogs/23/K/NR/2020/11/S2A_23KNR_20201129_0_L2A/B02.tif | aws s3 cp - s3://dev-et-data/usmart/RIO/sentinel\n",
      "/23/K/NR/2020/11S2A_23KNR_20201129_0_L2A_B02.tif\n",
      "wget -nv -O- https://sentinel-cogs.s3.us-west-2.amazonaws.com/sentinel-s2-l2a-cogs/23/K/NR/2020/11/S2A_23KNR_20201129_0_L2A/B02.tif | aws s3 cp - s3://dev-et-data/usmart/RIO/sentinel/23/K/NR/2020/11S2A_23KNR_20201129_0_L2A_B02.tif\n"
     ]
    },
    {
     "name": "stderr",
     "output_type": "stream",
     "text": [
      "2021-09-11 15:10:58 URL:https://sentinel-cogs.s3.us-west-2.amazonaws.com/sentinel-s2-l2a-cogs/23/K/NR/2020/12/S2A_23KNR_20201219_0_L2A/B03.tif [123360924/123360924] -> \"-\" [1]\n",
      "15:10:58: sending https://sentinel-cogs.s3.us-west-2.amazonaws.com/sentinel-s2-l2a-cogs/23/K/NR/2020/12/S2B_23KNR_20201204_0_L2A/B02.tif\n"
     ]
    },
    {
     "name": "stdout",
     "output_type": "stream",
     "text": [
      "\n",
      "\n",
      "wget this: %s https://sentinel-cogs.s3.us-west-2.amazonaws.com/sentinel-s2-l2a-cogs/23/K/NR/2020/12/S2B_23KNR_20201204_0_L2A/B02.tif\n",
      "wget -nv -O- https://sentinel-cogs.s3.us-west-2.amazonaws.com/sentinel-s2-l2a-cogs/23/K/NR/2020/12/S2B_23KNR_20201204_0_L2A/B02.tif | aws s3 cp - s3://dev-et-data/usmart/RIO/sentinel\n",
      "/23/K/NR/2020/12S2B_23KNR_20201204_0_L2A_B02.tif\n",
      "wget -nv -O- https://sentinel-cogs.s3.us-west-2.amazonaws.com/sentinel-s2-l2a-cogs/23/K/NR/2020/12/S2B_23KNR_20201204_0_L2A/B02.tif | aws s3 cp - s3://dev-et-data/usmart/RIO/sentinel/23/K/NR/2020/12S2B_23KNR_20201204_0_L2A_B02.tif\n"
     ]
    },
    {
     "name": "stderr",
     "output_type": "stream",
     "text": [
      "2021-09-11 15:10:58 URL:https://sentinel-cogs.s3.us-west-2.amazonaws.com/sentinel-s2-l2a-cogs/23/K/PR/2020/12/S2A_23KPR_20201209_0_L2A/B03.tif [147032193/147032193] -> \"-\" [1]\n",
      "15:10:59: sending https://sentinel-cogs.s3.us-west-2.amazonaws.com/sentinel-s2-l2a-cogs/23/K/NR/2020/12/S2B_23KNR_20201214_0_L2A/B02.tif\n",
      "15:10:59: sending https://sentinel-cogs.s3.us-west-2.amazonaws.com/sentinel-s2-l2a-cogs/23/K/NR/2020/11/S2B_23KNR_20201124_0_L2A/B02.tif\n"
     ]
    },
    {
     "name": "stdout",
     "output_type": "stream",
     "text": [
      "\n",
      "\n",
      "wget this: %s https://sentinel-cogs.s3.us-west-2.amazonaws.com/sentinel-s2-l2a-cogs/23/K/NR/2020/12/S2B_23KNR_20201214_0_L2A/B02.tif\n",
      "wget -nv -O- https://sentinel-cogs.s3.us-west-2.amazonaws.com/sentinel-s2-l2a-cogs/23/K/NR/2020/12/S2B_23KNR_20201214_0_L2A/B02.tif | aws s3 cp - s3://dev-et-data/usmart/RIO/sentinel\n",
      "/23/K/NR/2020/12S2B_23KNR_20201214_0_L2A_B02.tif\n",
      "wget -nv -O- https://sentinel-cogs.s3.us-west-2.amazonaws.com/sentinel-s2-l2a-cogs/23/K/NR/2020/12/S2B_23KNR_20201214_0_L2A/B02.tif | aws s3 cp - s3://dev-et-data/usmart/RIO/sentinel/23/K/NR/2020/12S2B_23KNR_20201214_0_L2A_B02.tif\n",
      "\n",
      "\n",
      "wget this: %s https://sentinel-cogs.s3.us-west-2.amazonaws.com/sentinel-s2-l2a-cogs/23/K/NR/2020/11/S2B_23KNR_20201124_0_L2A/B02.tif\n",
      "wget -nv -O- https://sentinel-cogs.s3.us-west-2.amazonaws.com/sentinel-s2-l2a-cogs/23/K/NR/2020/11/S2B_23KNR_20201124_0_L2A/B02.tif | aws s3 cp - s3://dev-et-data/usmart/RIO/sentinel\n",
      "/23/K/NR/2020/11S2B_23KNR_20201124_0_L2A_B02.tif\n",
      "wget -nv -O- https://sentinel-cogs.s3.us-west-2.amazonaws.com/sentinel-s2-l2a-cogs/23/K/NR/2020/11/S2B_23KNR_20201124_0_L2A/B02.tif | aws s3 cp - s3://dev-et-data/usmart/RIO/sentinel/23/K/NR/2020/11S2B_23KNR_20201124_0_L2A_B02.tif\n"
     ]
    },
    {
     "name": "stderr",
     "output_type": "stream",
     "text": [
      "15:10:59: sending https://sentinel-cogs.s3.us-west-2.amazonaws.com/sentinel-s2-l2a-cogs/23/K/NR/2020/12/S2A_23KNR_20201219_0_L2A/B02.tif\n"
     ]
    },
    {
     "name": "stdout",
     "output_type": "stream",
     "text": [
      "\n",
      "\n",
      "wget this: %s https://sentinel-cogs.s3.us-west-2.amazonaws.com/sentinel-s2-l2a-cogs/23/K/NR/2020/12/S2A_23KNR_20201219_0_L2A/B02.tif\n",
      "wget -nv -O- https://sentinel-cogs.s3.us-west-2.amazonaws.com/sentinel-s2-l2a-cogs/23/K/NR/2020/12/S2A_23KNR_20201219_0_L2A/B02.tif | aws s3 cp - s3://dev-et-data/usmart/RIO/sentinel\n",
      "/23/K/NR/2020/12S2A_23KNR_20201219_0_L2A_B02.tif\n",
      "wget -nv -O- https://sentinel-cogs.s3.us-west-2.amazonaws.com/sentinel-s2-l2a-cogs/23/K/NR/2020/12/S2A_23KNR_20201219_0_L2A/B02.tif | aws s3 cp - s3://dev-et-data/usmart/RIO/sentinel/23/K/NR/2020/12S2A_23KNR_20201219_0_L2A_B02.tif\n"
     ]
    },
    {
     "name": "stderr",
     "output_type": "stream",
     "text": [
      "2021-09-11 15:11:00 URL:https://sentinel-cogs.s3.us-west-2.amazonaws.com/sentinel-s2-l2a-cogs/23/K/PR/2020/12/S2B_23KPR_20201224_0_L2A/B03.tif [138370196/138370196] -> \"-\" [1]\n",
      "15:11:00: sending https://sentinel-cogs.s3.us-west-2.amazonaws.com/sentinel-s2-l2a-cogs/23/K/PR/2020/12/S2A_23KPR_20201209_0_L2A/B02.tif\n"
     ]
    },
    {
     "name": "stdout",
     "output_type": "stream",
     "text": [
      "\n",
      "\n",
      "wget this: %s https://sentinel-cogs.s3.us-west-2.amazonaws.com/sentinel-s2-l2a-cogs/23/K/PR/2020/12/S2A_23KPR_20201209_0_L2A/B02.tif\n",
      "wget -nv -O- https://sentinel-cogs.s3.us-west-2.amazonaws.com/sentinel-s2-l2a-cogs/23/K/PR/2020/12/S2A_23KPR_20201209_0_L2A/B02.tif | aws s3 cp - s3://dev-et-data/usmart/RIO/sentinel\n",
      "/23/K/PR/2020/12S2A_23KPR_20201209_0_L2A_B02.tif\n",
      "wget -nv -O- https://sentinel-cogs.s3.us-west-2.amazonaws.com/sentinel-s2-l2a-cogs/23/K/PR/2020/12/S2A_23KPR_20201209_0_L2A/B02.tif | aws s3 cp - s3://dev-et-data/usmart/RIO/sentinel/23/K/PR/2020/12S2A_23KPR_20201209_0_L2A_B02.tif\n"
     ]
    },
    {
     "name": "stderr",
     "output_type": "stream",
     "text": [
      "2021-09-11 15:11:00 URL:https://sentinel-cogs.s3.us-west-2.amazonaws.com/sentinel-s2-l2a-cogs/23/K/PR/2020/12/S2A_23KPR_20201229_0_L2A/B03.tif [200560037/200560037] -> \"-\" [1]\n",
      "2021-09-11 15:11:00 URL:https://sentinel-cogs.s3.us-west-2.amazonaws.com/sentinel-s2-l2a-cogs/23/K/PR/2020/12/S2B_23KPR_20201204_0_L2A/B03.tif [210368147/210368147] -> \"-\" [1]\n",
      "15:11:00: sending https://sentinel-cogs.s3.us-west-2.amazonaws.com/sentinel-s2-l2a-cogs/23/K/PR/2020/12/S2B_23KPR_20201224_0_L2A/B02.tif\n"
     ]
    },
    {
     "name": "stdout",
     "output_type": "stream",
     "text": [
      "\n",
      "\n",
      "wget this: %s https://sentinel-cogs.s3.us-west-2.amazonaws.com/sentinel-s2-l2a-cogs/23/K/PR/2020/12/S2B_23KPR_20201224_0_L2A/B02.tif\n",
      "wget -nv -O- https://sentinel-cogs.s3.us-west-2.amazonaws.com/sentinel-s2-l2a-cogs/23/K/PR/2020/12/S2B_23KPR_20201224_0_L2A/B02.tif | aws s3 cp - s3://dev-et-data/usmart/RIO/sentinel\n",
      "/23/K/PR/2020/12S2B_23KPR_20201224_0_L2A_B02.tif\n",
      "wget -nv -O- https://sentinel-cogs.s3.us-west-2.amazonaws.com/sentinel-s2-l2a-cogs/23/K/PR/2020/12/S2B_23KPR_20201224_0_L2A/B02.tif | aws s3 cp - s3://dev-et-data/usmart/RIO/sentinel/23/K/PR/2020/12S2B_23KPR_20201224_0_L2A_B02.tif\n"
     ]
    },
    {
     "name": "stderr",
     "output_type": "stream",
     "text": [
      "15:11:01: sending https://sentinel-cogs.s3.us-west-2.amazonaws.com/sentinel-s2-l2a-cogs/23/K/PR/2020/12/S2A_23KPR_20201229_0_L2A/B02.tif\n"
     ]
    },
    {
     "name": "stdout",
     "output_type": "stream",
     "text": [
      "\n",
      "\n",
      "wget this: %s https://sentinel-cogs.s3.us-west-2.amazonaws.com/sentinel-s2-l2a-cogs/23/K/PR/2020/12/S2A_23KPR_20201229_0_L2A/B02.tif\n",
      "wget -nv -O- https://sentinel-cogs.s3.us-west-2.amazonaws.com/sentinel-s2-l2a-cogs/23/K/PR/2020/12/S2A_23KPR_20201229_0_L2A/B02.tif | aws s3 cp - s3://dev-et-data/usmart/RIO/sentinel\n",
      "/23/K/PR/2020/12S2A_23KPR_20201229_0_L2A_B02.tif\n",
      "wget -nv -O- https://sentinel-cogs.s3.us-west-2.amazonaws.com/sentinel-s2-l2a-cogs/23/K/PR/2020/12/S2A_23KPR_20201229_0_L2A/B02.tif | aws s3 cp - s3://dev-et-data/usmart/RIO/sentinel/23/K/PR/2020/12S2A_23KPR_20201229_0_L2A_B02.tif\n"
     ]
    },
    {
     "name": "stderr",
     "output_type": "stream",
     "text": [
      "2021-09-11 15:11:01 URL:https://sentinel-cogs.s3.us-west-2.amazonaws.com/sentinel-s2-l2a-cogs/23/K/PR/2020/12/S2B_23KPR_20201214_0_L2A/B03.tif [211106162/211106162] -> \"-\" [1]\n",
      "2021-09-11 15:11:02 URL:https://sentinel-cogs.s3.us-west-2.amazonaws.com/sentinel-s2-l2a-cogs/23/K/NR/2020/12/S2A_23KNR_20201209_0_L2A/B02.tif [79250361/79250361] -> \"-\" [1]\n",
      "2021-09-11 15:11:02 URL:https://sentinel-cogs.s3.us-west-2.amazonaws.com/sentinel-s2-l2a-cogs/23/K/NR/2020/12/S2B_23KNR_20201224_0_L2A/B02.tif [80554205/80554205] -> \"-\" [1]\n",
      "15:11:03: sending https://sentinel-cogs.s3.us-west-2.amazonaws.com/sentinel-s2-l2a-cogs/23/K/PR/2020/12/S2B_23KPR_20201204_0_L2A/B02.tif\n"
     ]
    },
    {
     "name": "stdout",
     "output_type": "stream",
     "text": [
      "\n",
      "\n",
      "wget this: %s https://sentinel-cogs.s3.us-west-2.amazonaws.com/sentinel-s2-l2a-cogs/23/K/PR/2020/12/S2B_23KPR_20201204_0_L2A/B02.tif\n",
      "wget -nv -O- https://sentinel-cogs.s3.us-west-2.amazonaws.com/sentinel-s2-l2a-cogs/23/K/PR/2020/12/S2B_23KPR_20201204_0_L2A/B02.tif | aws s3 cp - s3://dev-et-data/usmart/RIO/sentinel\n",
      "/23/K/PR/2020/12S2B_23KPR_20201204_0_L2A_B02.tif\n",
      "wget -nv -O- https://sentinel-cogs.s3.us-west-2.amazonaws.com/sentinel-s2-l2a-cogs/23/K/PR/2020/12/S2B_23KPR_20201204_0_L2A/B02.tif | aws s3 cp - s3://dev-et-data/usmart/RIO/sentinel/23/K/PR/2020/12S2B_23KPR_20201204_0_L2A_B02.tif\n"
     ]
    },
    {
     "name": "stderr",
     "output_type": "stream",
     "text": [
      "15:11:03: Thread 8: finishing in 21 seconds\n",
      "15:11:03: xfer Thread 15: starting\n",
      "15:11:03: sending https://sentinel-cogs.s3.us-west-2.amazonaws.com/sentinel-s2-l2a-cogs/23/K/PR/2020/11/S2B_23KPR_20201124_0_L2A/B04.tif\n"
     ]
    },
    {
     "name": "stdout",
     "output_type": "stream",
     "text": [
      "\n",
      "\n",
      "wget this: %s https://sentinel-cogs.s3.us-west-2.amazonaws.com/sentinel-s2-l2a-cogs/23/K/PR/2020/11/S2B_23KPR_20201124_0_L2A/B04.tif\n",
      "wget -nv -O- https://sentinel-cogs.s3.us-west-2.amazonaws.com/sentinel-s2-l2a-cogs/23/K/PR/2020/11/S2B_23KPR_20201124_0_L2A/B04.tif | aws s3 cp - s3://dev-et-data/usmart/RIO/sentinel\n",
      "/23/K/PR/2020/11S2B_23KPR_20201124_0_L2A_B04.tif\n",
      "wget -nv -O- https://sentinel-cogs.s3.us-west-2.amazonaws.com/sentinel-s2-l2a-cogs/23/K/PR/2020/11/S2B_23KPR_20201124_0_L2A/B04.tif | aws s3 cp - s3://dev-et-data/usmart/RIO/sentinel/23/K/PR/2020/11S2B_23KPR_20201124_0_L2A_B04.tif\n"
     ]
    },
    {
     "name": "stderr",
     "output_type": "stream",
     "text": [
      "15:11:04: Thread 2: finishing in 22 seconds\n",
      "15:11:04: xfer Thread 16: starting\n",
      "15:11:04: sending https://sentinel-cogs.s3.us-west-2.amazonaws.com/sentinel-s2-l2a-cogs/23/K/NR/2020/11/S2A_23KNR_20201119_0_L2A/B04.tif\n"
     ]
    },
    {
     "name": "stdout",
     "output_type": "stream",
     "text": [
      "\n",
      "\n",
      "wget this: %s https://sentinel-cogs.s3.us-west-2.amazonaws.com/sentinel-s2-l2a-cogs/23/K/NR/2020/11/S2A_23KNR_20201119_0_L2A/B04.tif\n",
      "wget -nv -O- https://sentinel-cogs.s3.us-west-2.amazonaws.com/sentinel-s2-l2a-cogs/23/K/NR/2020/11/S2A_23KNR_20201119_0_L2A/B04.tif | aws s3 cp - s3://dev-et-data/usmart/RIO/sentinel\n",
      "/23/K/NR/2020/11S2A_23KNR_20201119_0_L2A_B04.tif\n",
      "wget -nv -O- https://sentinel-cogs.s3.us-west-2.amazonaws.com/sentinel-s2-l2a-cogs/23/K/NR/2020/11/S2A_23KNR_20201119_0_L2A/B04.tif | aws s3 cp - s3://dev-et-data/usmart/RIO/sentinel/23/K/NR/2020/11S2A_23KNR_20201119_0_L2A_B04.tif\n"
     ]
    },
    {
     "name": "stderr",
     "output_type": "stream",
     "text": [
      "2021-09-11 15:11:04 URL:https://sentinel-cogs.s3.us-west-2.amazonaws.com/sentinel-s2-l2a-cogs/23/K/NR/2020/12/S2A_23KNR_20201229_0_L2A/B02.tif [102948906/102948906] -> \"-\" [1]\n",
      "15:11:04: sending https://sentinel-cogs.s3.us-west-2.amazonaws.com/sentinel-s2-l2a-cogs/23/K/PR/2020/12/S2B_23KPR_20201214_0_L2A/B02.tif\n"
     ]
    },
    {
     "name": "stdout",
     "output_type": "stream",
     "text": [
      "\n",
      "\n",
      "wget this: %s https://sentinel-cogs.s3.us-west-2.amazonaws.com/sentinel-s2-l2a-cogs/23/K/PR/2020/12/S2B_23KPR_20201214_0_L2A/B02.tif\n",
      "wget -nv -O- https://sentinel-cogs.s3.us-west-2.amazonaws.com/sentinel-s2-l2a-cogs/23/K/PR/2020/12/S2B_23KPR_20201214_0_L2A/B02.tif | aws s3 cp - s3://dev-et-data/usmart/RIO/sentinel\n",
      "/23/K/PR/2020/12S2B_23KPR_20201214_0_L2A_B02.tif\n",
      "wget -nv -O- https://sentinel-cogs.s3.us-west-2.amazonaws.com/sentinel-s2-l2a-cogs/23/K/PR/2020/12/S2B_23KPR_20201214_0_L2A/B02.tif | aws s3 cp - s3://dev-et-data/usmart/RIO/sentinel/23/K/PR/2020/12S2B_23KPR_20201214_0_L2A_B02.tif\n"
     ]
    },
    {
     "name": "stderr",
     "output_type": "stream",
     "text": [
      "2021-09-11 15:11:05 URL:https://sentinel-cogs.s3.us-west-2.amazonaws.com/sentinel-s2-l2a-cogs/23/K/NR/2020/11/S2A_23KNR_20201129_0_L2A/B02.tif [127996293/127996293] -> \"-\" [1]\n",
      "2021-09-11 15:11:05 URL:https://sentinel-cogs.s3.us-west-2.amazonaws.com/sentinel-s2-l2a-cogs/23/K/PR/2020/11/S2A_23KPR_20201129_0_L2A/B03.tif [230624392/230624392] -> \"-\" [1]\n",
      "2021-09-11 15:11:05 URL:https://sentinel-cogs.s3.us-west-2.amazonaws.com/sentinel-s2-l2a-cogs/23/K/NR/2020/12/S2B_23KNR_20201204_0_L2A/B02.tif [114835264/114835264] -> \"-\" [1]\n",
      "2021-09-11 15:11:05 URL:https://sentinel-cogs.s3.us-west-2.amazonaws.com/sentinel-s2-l2a-cogs/23/K/PR/2020/12/S2A_23KPR_20201219_0_L2A/B03.tif [222801954/222801954] -> \"-\" [1]\n",
      "2021-09-11 15:11:06 URL:https://sentinel-cogs.s3.us-west-2.amazonaws.com/sentinel-s2-l2a-cogs/23/K/NR/2020/12/S2A_23KNR_20201219_0_L2A/B02.tif [116464890/116464890] -> \"-\" [1]\n",
      "2021-09-11 15:11:06 URL:https://sentinel-cogs.s3.us-west-2.amazonaws.com/sentinel-s2-l2a-cogs/23/K/NR/2020/12/S2B_23KNR_20201214_0_L2A/B02.tif [114187814/114187814] -> \"-\" [1]\n",
      "15:11:06: Thread 12: finishing in 24 seconds\n",
      "15:11:06: xfer Thread 17: starting\n",
      "15:11:06: sending https://sentinel-cogs.s3.us-west-2.amazonaws.com/sentinel-s2-l2a-cogs/23/K/PR/2020/11/S2A_23KPR_20201119_0_L2A/B04.tif\n",
      "15:11:06: Thread 10: finishing in 24 seconds\n",
      "15:11:06: xfer Thread 18: starting\n",
      "15:11:06: sending https://sentinel-cogs.s3.us-west-2.amazonaws.com/sentinel-s2-l2a-cogs/23/K/NR/2020/11/S2B_23KNR_20201114_0_L2A/B04.tif\n",
      "15:11:06: sending https://sentinel-cogs.s3.us-west-2.amazonaws.com/sentinel-s2-l2a-cogs/23/K/PR/2020/11/S2A_23KPR_20201129_0_L2A/B02.tif\n"
     ]
    },
    {
     "name": "stdout",
     "output_type": "stream",
     "text": [
      "\n",
      "\n",
      "wget this: %s https://sentinel-cogs.s3.us-west-2.amazonaws.com/sentinel-s2-l2a-cogs/23/K/PR/2020/11/S2A_23KPR_20201119_0_L2A/B04.tif\n",
      "wget -nv -O- https://sentinel-cogs.s3.us-west-2.amazonaws.com/sentinel-s2-l2a-cogs/23/K/PR/2020/11/S2A_23KPR_20201119_0_L2A/B04.tif | aws s3 cp - s3://dev-et-data/usmart/RIO/sentinel\n",
      "/23/K/PR/2020/11S2A_23KPR_20201119_0_L2A_B04.tif\n",
      "wget -nv -O- https://sentinel-cogs.s3.us-west-2.amazonaws.com/sentinel-s2-l2a-cogs/23/K/PR/2020/11/S2A_23KPR_20201119_0_L2A/B04.tif | aws s3 cp - s3://dev-et-data/usmart/RIO/sentinel/23/K/PR/2020/11S2A_23KPR_20201119_0_L2A_B04.tif\n",
      "\n",
      "\n",
      "wget this: %s https://sentinel-cogs.s3.us-west-2.amazonaws.com/sentinel-s2-l2a-cogs/23/K/NR/2020/11/S2B_23KNR_20201114_0_L2A/B04.tif\n",
      "wget -nv -O- https://sentinel-cogs.s3.us-west-2.amazonaws.com/sentinel-s2-l2a-cogs/23/K/NR/2020/11/S2B_23KNR_20201114_0_L2A/B04.tif | aws s3 cp - s3://dev-et-data/usmart/RIO/sentinel\n",
      "/23/K/NR/2020/11S2B_23KNR_20201114_0_L2A_B04.tif\n",
      "wget -nv -O- https://sentinel-cogs.s3.us-west-2.amazonaws.com/sentinel-s2-l2a-cogs/23/K/NR/2020/11/S2B_23KNR_20201114_0_L2A/B04.tif | aws s3 cp - s3://dev-et-data/usmart/RIO/sentinel/23/K/NR/2020/11S2B_23KNR_20201114_0_L2A_B04.tif\n",
      "\n",
      "\n",
      "wget this: %s https://sentinel-cogs.s3.us-west-2.amazonaws.com/sentinel-s2-l2a-cogs/23/K/PR/2020/11/S2A_23KPR_20201129_0_L2A/B02.tif\n",
      "wget -nv -O- https://sentinel-cogs.s3.us-west-2.amazonaws.com/sentinel-s2-l2a-cogs/23/K/PR/2020/11/S2A_23KPR_20201129_0_L2A/B02.tif | aws s3 cp - s3://dev-et-data/usmart/RIO/sentinel\n",
      "/23/K/PR/2020/11S2A_23KPR_20201129_0_L2A_B02.tif\n",
      "wget -nv -O- https://sentinel-cogs.s3.us-west-2.amazonaws.com/sentinel-s2-l2a-cogs/23/K/PR/2020/11/S2A_23KPR_20201129_0_L2A/B02.tif | aws s3 cp - s3://dev-et-data/usmart/RIO/sentinel/23/K/PR/2020/11S2A_23KPR_20201129_0_L2A_B02.tif\n"
     ]
    },
    {
     "name": "stderr",
     "output_type": "stream",
     "text": [
      "15:11:06: sending https://sentinel-cogs.s3.us-west-2.amazonaws.com/sentinel-s2-l2a-cogs/23/K/PR/2020/12/S2A_23KPR_20201219_0_L2A/B02.tif\n",
      "15:11:06: Thread 4: finishing in 25 seconds\n",
      "15:11:06: xfer Thread 19: starting\n",
      "15:11:06: sending https://sentinel-cogs.s3.us-west-2.amazonaws.com/sentinel-s2-l2a-cogs/23/K/PR/2020/11/S2B_23KPR_20201114_0_L2A/B04.tif\n"
     ]
    },
    {
     "name": "stdout",
     "output_type": "stream",
     "text": [
      "\n",
      "\n",
      "wget this: %s https://sentinel-cogs.s3.us-west-2.amazonaws.com/sentinel-s2-l2a-cogs/23/K/PR/2020/12/S2A_23KPR_20201219_0_L2A/B02.tif\n",
      "wget -nv -O- https://sentinel-cogs.s3.us-west-2.amazonaws.com/sentinel-s2-l2a-cogs/23/K/PR/2020/12/S2A_23KPR_20201219_0_L2A/B02.tif | aws s3 cp - s3://dev-et-data/usmart/RIO/sentinel\n",
      "/23/K/PR/2020/12S2A_23KPR_20201219_0_L2A_B02.tif\n",
      "wget -nv -O- https://sentinel-cogs.s3.us-west-2.amazonaws.com/sentinel-s2-l2a-cogs/23/K/PR/2020/12/S2A_23KPR_20201219_0_L2A/B02.tif | aws s3 cp - s3://dev-et-data/usmart/RIO/sentinel/23/K/PR/2020/12S2A_23KPR_20201219_0_L2A_B02.tif\n",
      "\n",
      "\n",
      "wget this: %s https://sentinel-cogs.s3.us-west-2.amazonaws.com/sentinel-s2-l2a-cogs/23/K/PR/2020/11/S2B_23KPR_20201114_0_L2A/B04.tif\n",
      "wget -nv -O- https://sentinel-cogs.s3.us-west-2.amazonaws.com/sentinel-s2-l2a-cogs/23/K/PR/2020/11/S2B_23KPR_20201114_0_L2A/B04.tif | aws s3 cp - s3://dev-et-data/usmart/RIO/sentinel\n",
      "/23/K/PR/2020/11S2B_23KPR_20201114_0_L2A_B04.tif\n",
      "wget -nv -O- https://sentinel-cogs.s3.us-west-2.amazonaws.com/sentinel-s2-l2a-cogs/23/K/PR/2020/11/S2B_23KPR_20201114_0_L2A/B04.tif | aws s3 cp - s3://dev-et-data/usmart/RIO/sentinel/23/K/PR/2020/11S2B_23KPR_20201114_0_L2A_B04.tif\n"
     ]
    },
    {
     "name": "stderr",
     "output_type": "stream",
     "text": [
      "2021-09-11 15:11:07 URL:https://sentinel-cogs.s3.us-west-2.amazonaws.com/sentinel-s2-l2a-cogs/23/K/NR/2020/11/S2B_23KNR_20201124_0_L2A/B02.tif [129354881/129354881] -> \"-\" [1]\n",
      "15:11:07: Thread 6: finishing in 25 seconds\n",
      "15:11:07: xfer Thread 20: starting\n",
      "15:11:07: sending https://sentinel-cogs.s3.us-west-2.amazonaws.com/sentinel-s2-l2a-cogs/23/K/NR/2020/11/S2A_23KNR_20201109_0_L2A/B04.tif\n"
     ]
    },
    {
     "name": "stdout",
     "output_type": "stream",
     "text": [
      "\n",
      "\n",
      "wget this: %s https://sentinel-cogs.s3.us-west-2.amazonaws.com/sentinel-s2-l2a-cogs/23/K/NR/2020/11/S2A_23KNR_20201109_0_L2A/B04.tif\n",
      "wget -nv -O- https://sentinel-cogs.s3.us-west-2.amazonaws.com/sentinel-s2-l2a-cogs/23/K/NR/2020/11/S2A_23KNR_20201109_0_L2A/B04.tif | aws s3 cp - s3://dev-et-data/usmart/RIO/sentinel\n",
      "/23/K/NR/2020/11S2A_23KNR_20201109_0_L2A_B04.tif\n",
      "wget -nv -O- https://sentinel-cogs.s3.us-west-2.amazonaws.com/sentinel-s2-l2a-cogs/23/K/NR/2020/11/S2A_23KNR_20201109_0_L2A/B04.tif | aws s3 cp - s3://dev-et-data/usmart/RIO/sentinel/23/K/NR/2020/11S2A_23KNR_20201109_0_L2A_B04.tif\n"
     ]
    },
    {
     "name": "stderr",
     "output_type": "stream",
     "text": [
      "2021-09-11 15:11:07 URL:https://sentinel-cogs.s3.us-west-2.amazonaws.com/sentinel-s2-l2a-cogs/23/K/PR/2020/12/S2B_23KPR_20201224_0_L2A/B02.tif [141336950/141336950] -> \"-\" [1]\n",
      "15:11:07: Thread 14: finishing in 25 seconds\n",
      "15:11:07: xfer Thread 21: starting\n",
      "15:11:07: sending https://sentinel-cogs.s3.us-west-2.amazonaws.com/sentinel-s2-l2a-cogs/23/K/PR/2020/11/S2A_23KPR_20201109_0_L2A/B04.tif\n"
     ]
    },
    {
     "name": "stdout",
     "output_type": "stream",
     "text": [
      "\n",
      "\n",
      "wget this: %s https://sentinel-cogs.s3.us-west-2.amazonaws.com/sentinel-s2-l2a-cogs/23/K/PR/2020/11/S2A_23KPR_20201109_0_L2A/B04.tif\n",
      "wget -nv -O- https://sentinel-cogs.s3.us-west-2.amazonaws.com/sentinel-s2-l2a-cogs/23/K/PR/2020/11/S2A_23KPR_20201109_0_L2A/B04.tif | aws s3 cp - s3://dev-et-data/usmart/RIO/sentinel\n",
      "/23/K/PR/2020/11S2A_23KPR_20201109_0_L2A_B04.tif\n",
      "wget -nv -O- https://sentinel-cogs.s3.us-west-2.amazonaws.com/sentinel-s2-l2a-cogs/23/K/PR/2020/11/S2A_23KPR_20201109_0_L2A/B04.tif | aws s3 cp - s3://dev-et-data/usmart/RIO/sentinel/23/K/PR/2020/11S2A_23KPR_20201109_0_L2A_B04.tif\n"
     ]
    },
    {
     "name": "stderr",
     "output_type": "stream",
     "text": [
      "2021-09-11 15:11:07 URL:https://sentinel-cogs.s3.us-west-2.amazonaws.com/sentinel-s2-l2a-cogs/23/K/PR/2020/12/S2A_23KPR_20201209_0_L2A/B02.tif [151994071/151994071] -> \"-\" [1]\n",
      "15:11:08: Thread 3: finishing in 26 seconds\n",
      "15:11:08: xfer Thread 22: starting\n",
      "15:11:08: sending https://sentinel-cogs.s3.us-west-2.amazonaws.com/sentinel-s2-l2a-cogs/23/K/NR/2020/11/S2B_23KNR_20201104_0_L2A/B04.tif\n"
     ]
    },
    {
     "name": "stdout",
     "output_type": "stream",
     "text": [
      "\n",
      "\n",
      "wget this: %s https://sentinel-cogs.s3.us-west-2.amazonaws.com/sentinel-s2-l2a-cogs/23/K/NR/2020/11/S2B_23KNR_20201104_0_L2A/B04.tif\n",
      "wget -nv -O- https://sentinel-cogs.s3.us-west-2.amazonaws.com/sentinel-s2-l2a-cogs/23/K/NR/2020/11/S2B_23KNR_20201104_0_L2A/B04.tif | aws s3 cp - s3://dev-et-data/usmart/RIO/sentinel\n",
      "/23/K/NR/2020/11S2B_23KNR_20201104_0_L2A_B04.tif\n",
      "wget -nv -O- https://sentinel-cogs.s3.us-west-2.amazonaws.com/sentinel-s2-l2a-cogs/23/K/NR/2020/11/S2B_23KNR_20201104_0_L2A/B04.tif | aws s3 cp - s3://dev-et-data/usmart/RIO/sentinel/23/K/NR/2020/11S2B_23KNR_20201104_0_L2A_B04.tif\n"
     ]
    },
    {
     "name": "stderr",
     "output_type": "stream",
     "text": [
      "15:11:08: Thread 9: finishing in 26 seconds\n",
      "15:11:08: xfer Thread 23: starting\n",
      "15:11:08: sending https://sentinel-cogs.s3.us-west-2.amazonaws.com/sentinel-s2-l2a-cogs/23/K/PR/2020/11/S2B_23KPR_20201104_0_L2A/B04.tif\n"
     ]
    },
    {
     "name": "stdout",
     "output_type": "stream",
     "text": [
      "\n",
      "\n",
      "wget this: %s https://sentinel-cogs.s3.us-west-2.amazonaws.com/sentinel-s2-l2a-cogs/23/K/PR/2020/11/S2B_23KPR_20201104_0_L2A/B04.tif\n",
      "wget -nv -O- https://sentinel-cogs.s3.us-west-2.amazonaws.com/sentinel-s2-l2a-cogs/23/K/PR/2020/11/S2B_23KPR_20201104_0_L2A/B04.tif | aws s3 cp - s3://dev-et-data/usmart/RIO/sentinel\n",
      "/23/K/PR/2020/11S2B_23KPR_20201104_0_L2A_B04.tif\n",
      "wget -nv -O- https://sentinel-cogs.s3.us-west-2.amazonaws.com/sentinel-s2-l2a-cogs/23/K/PR/2020/11/S2B_23KPR_20201104_0_L2A/B04.tif | aws s3 cp - s3://dev-et-data/usmart/RIO/sentinel/23/K/PR/2020/11S2B_23KPR_20201104_0_L2A_B04.tif\n"
     ]
    },
    {
     "name": "stderr",
     "output_type": "stream",
     "text": [
      "2021-09-11 15:11:10 URL:https://sentinel-cogs.s3.us-west-2.amazonaws.com/sentinel-s2-l2a-cogs/23/K/PR/2020/12/S2A_23KPR_20201229_0_L2A/B02.tif [202306641/202306641] -> \"-\" [1]\n",
      "2021-09-11 15:11:11 URL:https://sentinel-cogs.s3.us-west-2.amazonaws.com/sentinel-s2-l2a-cogs/23/K/NR/2020/11/S2A_23KNR_20201119_0_L2A/B04.tif [113096505/113096505] -> \"-\" [1]\n",
      "15:11:11: Thread 1: finishing in 29 seconds\n",
      "15:11:11: xfer Thread 24: starting\n",
      "15:11:11: sending https://sentinel-cogs.s3.us-west-2.amazonaws.com/sentinel-s2-l2a-cogs/23/K/NR/2020/10/S2A_23KNR_20201030_0_L2A/B04.tif\n"
     ]
    },
    {
     "name": "stdout",
     "output_type": "stream",
     "text": [
      "\n",
      "\n",
      "wget this: %s https://sentinel-cogs.s3.us-west-2.amazonaws.com/sentinel-s2-l2a-cogs/23/K/NR/2020/10/S2A_23KNR_20201030_0_L2A/B04.tif\n",
      "wget -nv -O- https://sentinel-cogs.s3.us-west-2.amazonaws.com/sentinel-s2-l2a-cogs/23/K/NR/2020/10/S2A_23KNR_20201030_0_L2A/B04.tif | aws s3 cp - s3://dev-et-data/usmart/RIO/sentinel\n",
      "/23/K/NR/2020/10S2A_23KNR_20201030_0_L2A_B04.tif\n",
      "wget -nv -O- https://sentinel-cogs.s3.us-west-2.amazonaws.com/sentinel-s2-l2a-cogs/23/K/NR/2020/10/S2A_23KNR_20201030_0_L2A/B04.tif | aws s3 cp - s3://dev-et-data/usmart/RIO/sentinel/23/K/NR/2020/10S2A_23KNR_20201030_0_L2A_B04.tif\n"
     ]
    },
    {
     "name": "stderr",
     "output_type": "stream",
     "text": [
      "2021-09-11 15:11:12 URL:https://sentinel-cogs.s3.us-west-2.amazonaws.com/sentinel-s2-l2a-cogs/23/K/NR/2020/11/S2B_23KNR_20201114_0_L2A/B04.tif [103005185/103005185] -> \"-\" [1]\n",
      "15:11:12: Thread 0: finishing in 30 seconds\n",
      "15:11:12: xfer Thread 25: starting\n",
      "15:11:12: sending https://sentinel-cogs.s3.us-west-2.amazonaws.com/sentinel-s2-l2a-cogs/23/K/PR/2020/10/S2A_23KPR_20201030_0_L2A/B04.tif\n"
     ]
    },
    {
     "name": "stdout",
     "output_type": "stream",
     "text": [
      "\n",
      "\n",
      "wget this: %s https://sentinel-cogs.s3.us-west-2.amazonaws.com/sentinel-s2-l2a-cogs/23/K/PR/2020/10/S2A_23KPR_20201030_0_L2A/B04.tif\n",
      "wget -nv -O- https://sentinel-cogs.s3.us-west-2.amazonaws.com/sentinel-s2-l2a-cogs/23/K/PR/2020/10/S2A_23KPR_20201030_0_L2A/B04.tif | aws s3 cp - s3://dev-et-data/usmart/RIO/sentinel\n",
      "/23/K/PR/2020/10S2A_23KPR_20201030_0_L2A_B04.tif\n",
      "wget -nv -O- https://sentinel-cogs.s3.us-west-2.amazonaws.com/sentinel-s2-l2a-cogs/23/K/PR/2020/10/S2A_23KPR_20201030_0_L2A/B04.tif | aws s3 cp - s3://dev-et-data/usmart/RIO/sentinel/23/K/PR/2020/10S2A_23KPR_20201030_0_L2A_B04.tif\n"
     ]
    },
    {
     "name": "stderr",
     "output_type": "stream",
     "text": [
      "15:11:13: sending https://sentinel-cogs.s3.us-west-2.amazonaws.com/sentinel-s2-l2a-cogs/23/K/NR/2020/11/S2A_23KNR_20201119_0_L2A/B03.tif\n"
     ]
    },
    {
     "name": "stdout",
     "output_type": "stream",
     "text": [
      "\n",
      "\n",
      "wget this: %s https://sentinel-cogs.s3.us-west-2.amazonaws.com/sentinel-s2-l2a-cogs/23/K/NR/2020/11/S2A_23KNR_20201119_0_L2A/B03.tif\n",
      "wget -nv -O- https://sentinel-cogs.s3.us-west-2.amazonaws.com/sentinel-s2-l2a-cogs/23/K/NR/2020/11/S2A_23KNR_20201119_0_L2A/B03.tif | aws s3 cp - s3://dev-et-data/usmart/RIO/sentinel\n",
      "/23/K/NR/2020/11S2A_23KNR_20201119_0_L2A_B03.tif\n",
      "wget -nv -O- https://sentinel-cogs.s3.us-west-2.amazonaws.com/sentinel-s2-l2a-cogs/23/K/NR/2020/11/S2A_23KNR_20201119_0_L2A/B03.tif | aws s3 cp - s3://dev-et-data/usmart/RIO/sentinel/23/K/NR/2020/11S2A_23KNR_20201119_0_L2A_B03.tif\n"
     ]
    },
    {
     "name": "stderr",
     "output_type": "stream",
     "text": [
      "15:11:13: sending https://sentinel-cogs.s3.us-west-2.amazonaws.com/sentinel-s2-l2a-cogs/23/K/NR/2020/11/S2B_23KNR_20201114_0_L2A/B03.tif\n"
     ]
    },
    {
     "name": "stdout",
     "output_type": "stream",
     "text": [
      "\n",
      "\n",
      "wget this: %s https://sentinel-cogs.s3.us-west-2.amazonaws.com/sentinel-s2-l2a-cogs/23/K/NR/2020/11/S2B_23KNR_20201114_0_L2A/B03.tif\n",
      "wget -nv -O- https://sentinel-cogs.s3.us-west-2.amazonaws.com/sentinel-s2-l2a-cogs/23/K/NR/2020/11/S2B_23KNR_20201114_0_L2A/B03.tif | aws s3 cp - s3://dev-et-data/usmart/RIO/sentinel\n",
      "/23/K/NR/2020/11S2B_23KNR_20201114_0_L2A_B03.tif\n",
      "wget -nv -O- https://sentinel-cogs.s3.us-west-2.amazonaws.com/sentinel-s2-l2a-cogs/23/K/NR/2020/11/S2B_23KNR_20201114_0_L2A/B03.tif | aws s3 cp - s3://dev-et-data/usmart/RIO/sentinel/23/K/NR/2020/11S2B_23KNR_20201114_0_L2A_B03.tif\n"
     ]
    },
    {
     "name": "stderr",
     "output_type": "stream",
     "text": [
      "2021-09-11 15:11:14 URL:https://sentinel-cogs.s3.us-west-2.amazonaws.com/sentinel-s2-l2a-cogs/23/K/NR/2020/11/S2A_23KNR_20201109_0_L2A/B04.tif [123559454/123559454] -> \"-\" [1]\n",
      "2021-09-11 15:11:14 URL:https://sentinel-cogs.s3.us-west-2.amazonaws.com/sentinel-s2-l2a-cogs/23/K/PR/2020/12/S2B_23KPR_20201204_0_L2A/B02.tif [204059626/204059626] -> \"-\" [1]\n",
      "2021-09-11 15:11:14 URL:https://sentinel-cogs.s3.us-west-2.amazonaws.com/sentinel-s2-l2a-cogs/23/K/NR/2020/11/S2B_23KNR_20201104_0_L2A/B04.tif [123976828/123976828] -> \"-\" [1]\n",
      "2021-09-11 15:11:15 URL:https://sentinel-cogs.s3.us-west-2.amazonaws.com/sentinel-s2-l2a-cogs/23/K/PR/2020/12/S2B_23KPR_20201214_0_L2A/B02.tif [198380856/198380856] -> \"-\" [1]\n",
      "2021-09-11 15:11:15 URL:https://sentinel-cogs.s3.us-west-2.amazonaws.com/sentinel-s2-l2a-cogs/23/K/PR/2020/11/S2A_23KPR_20201119_0_L2A/B04.tif [192682899/192682899] -> \"-\" [1]\n",
      "15:11:15: sending https://sentinel-cogs.s3.us-west-2.amazonaws.com/sentinel-s2-l2a-cogs/23/K/NR/2020/11/S2A_23KNR_20201109_0_L2A/B03.tif\n"
     ]
    },
    {
     "name": "stdout",
     "output_type": "stream",
     "text": [
      "\n",
      "\n",
      "wget this: %s https://sentinel-cogs.s3.us-west-2.amazonaws.com/sentinel-s2-l2a-cogs/23/K/NR/2020/11/S2A_23KNR_20201109_0_L2A/B03.tif\n",
      "wget -nv -O- https://sentinel-cogs.s3.us-west-2.amazonaws.com/sentinel-s2-l2a-cogs/23/K/NR/2020/11/S2A_23KNR_20201109_0_L2A/B03.tif | aws s3 cp - s3://dev-et-data/usmart/RIO/sentinel\n",
      "/23/K/NR/2020/11S2A_23KNR_20201109_0_L2A_B03.tif\n",
      "wget -nv -O- https://sentinel-cogs.s3.us-west-2.amazonaws.com/sentinel-s2-l2a-cogs/23/K/NR/2020/11/S2A_23KNR_20201109_0_L2A/B03.tif | aws s3 cp - s3://dev-et-data/usmart/RIO/sentinel/23/K/NR/2020/11S2A_23KNR_20201109_0_L2A_B03.tif\n"
     ]
    },
    {
     "name": "stderr",
     "output_type": "stream",
     "text": [
      "2021-09-11 15:11:15 URL:https://sentinel-cogs.s3.us-west-2.amazonaws.com/sentinel-s2-l2a-cogs/23/K/PR/2020/12/S2A_23KPR_20201219_0_L2A/B02.tif [211452461/211452461] -> \"-\" [1]\n",
      "15:11:15: Thread 11: finishing in 34 seconds\n",
      "15:11:16: Thread 7: finishing in 34 seconds\n",
      "15:11:16: sending https://sentinel-cogs.s3.us-west-2.amazonaws.com/sentinel-s2-l2a-cogs/23/K/NR/2020/11/S2B_23KNR_20201104_0_L2A/B03.tif\n"
     ]
    },
    {
     "name": "stdout",
     "output_type": "stream",
     "text": [
      "\n",
      "\n",
      "\n",
      "\n",
      "\n",
      "\n",
      "wget this: %s https://sentinel-cogs.s3.us-west-2.amazonaws.com/sentinel-s2-l2a-cogs/23/K/NR/2020/11/S2B_23KNR_20201104_0_L2A/B03.tif\n",
      "wget -nv -O- https://sentinel-cogs.s3.us-west-2.amazonaws.com/sentinel-s2-l2a-cogs/23/K/NR/2020/11/S2B_23KNR_20201104_0_L2A/B03.tif | aws s3 cp - s3://dev-et-data/usmart/RIO/sentinel\n",
      "/23/K/NR/2020/11S2B_23KNR_20201104_0_L2A_B03.tif\n",
      "wget -nv -O- https://sentinel-cogs.s3.us-west-2.amazonaws.com/sentinel-s2-l2a-cogs/23/K/NR/2020/11/S2B_23KNR_20201104_0_L2A/B03.tif | aws s3 cp - s3://dev-et-data/usmart/RIO/sentinel/23/K/NR/2020/11S2B_23KNR_20201104_0_L2A_B03.tif\n"
     ]
    },
    {
     "name": "stderr",
     "output_type": "stream",
     "text": [
      "15:11:16: sending https://sentinel-cogs.s3.us-west-2.amazonaws.com/sentinel-s2-l2a-cogs/23/K/PR/2020/11/S2A_23KPR_20201119_0_L2A/B03.tif\n"
     ]
    },
    {
     "name": "stdout",
     "output_type": "stream",
     "text": [
      "\n",
      "\n",
      "wget this: %s https://sentinel-cogs.s3.us-west-2.amazonaws.com/sentinel-s2-l2a-cogs/23/K/PR/2020/11/S2A_23KPR_20201119_0_L2A/B03.tif\n",
      "wget -nv -O- https://sentinel-cogs.s3.us-west-2.amazonaws.com/sentinel-s2-l2a-cogs/23/K/PR/2020/11/S2A_23KPR_20201119_0_L2A/B03.tif | aws s3 cp - s3://dev-et-data/usmart/RIO/sentinel\n",
      "/23/K/PR/2020/11S2A_23KPR_20201119_0_L2A_B03.tif\n",
      "wget -nv -O- https://sentinel-cogs.s3.us-west-2.amazonaws.com/sentinel-s2-l2a-cogs/23/K/PR/2020/11/S2A_23KPR_20201119_0_L2A/B03.tif | aws s3 cp - s3://dev-et-data/usmart/RIO/sentinel/23/K/PR/2020/11S2A_23KPR_20201119_0_L2A_B03.tif\n"
     ]
    },
    {
     "name": "stderr",
     "output_type": "stream",
     "text": [
      "2021-09-11 15:11:16 URL:https://sentinel-cogs.s3.us-west-2.amazonaws.com/sentinel-s2-l2a-cogs/23/K/PR/2020/11/S2A_23KPR_20201129_0_L2A/B02.tif [228064977/228064977] -> \"-\" [1]\n",
      "2021-09-11 15:11:16 URL:https://sentinel-cogs.s3.us-west-2.amazonaws.com/sentinel-s2-l2a-cogs/23/K/PR/2020/11/S2B_23KPR_20201124_0_L2A/B04.tif [233125852/233125852] -> \"-\" [1]\n",
      "15:11:16: Thread 5: finishing in 34 seconds\n"
     ]
    },
    {
     "name": "stdout",
     "output_type": "stream",
     "text": [
      "\n",
      "\n"
     ]
    },
    {
     "name": "stderr",
     "output_type": "stream",
     "text": [
      "2021-09-11 15:11:17 URL:https://sentinel-cogs.s3.us-west-2.amazonaws.com/sentinel-s2-l2a-cogs/23/K/PR/2020/11/S2B_23KPR_20201114_0_L2A/B04.tif [193341002/193341002] -> \"-\" [1]\n",
      "15:11:17: sending https://sentinel-cogs.s3.us-west-2.amazonaws.com/sentinel-s2-l2a-cogs/23/K/PR/2020/11/S2B_23KPR_20201124_0_L2A/B03.tif\n",
      "15:11:17: Thread 13: finishing in 35 seconds\n"
     ]
    },
    {
     "name": "stdout",
     "output_type": "stream",
     "text": [
      "\n",
      "\n",
      "wget this: %s https://sentinel-cogs.s3.us-west-2.amazonaws.com/sentinel-s2-l2a-cogs/23/K/PR/2020/11/S2B_23KPR_20201124_0_L2A/B03.tif\n",
      "wget -nv -O- https://sentinel-cogs.s3.us-west-2.amazonaws.com/sentinel-s2-l2a-cogs/23/K/PR/2020/11/S2B_23KPR_20201124_0_L2A/B03.tif | aws s3 cp - s3://dev-et-data/usmart/RIO/sentinel\n",
      "/23/K/PR/2020/11S2B_23KPR_20201124_0_L2A_B03.tif\n",
      "wget -nv -O- https://sentinel-cogs.s3.us-west-2.amazonaws.com/sentinel-s2-l2a-cogs/23/K/PR/2020/11/S2B_23KPR_20201124_0_L2A/B03.tif | aws s3 cp - s3://dev-et-data/usmart/RIO/sentinel/23/K/PR/2020/11S2B_23KPR_20201124_0_L2A_B03.tif\n",
      "\n",
      "\n"
     ]
    },
    {
     "name": "stderr",
     "output_type": "stream",
     "text": [
      "2021-09-11 15:11:17 URL:https://sentinel-cogs.s3.us-west-2.amazonaws.com/sentinel-s2-l2a-cogs/23/K/PR/2020/11/S2A_23KPR_20201109_0_L2A/B04.tif [217305960/217305960] -> \"-\" [1]\n",
      "15:11:17: sending https://sentinel-cogs.s3.us-west-2.amazonaws.com/sentinel-s2-l2a-cogs/23/K/PR/2020/11/S2B_23KPR_20201114_0_L2A/B03.tif\n"
     ]
    },
    {
     "name": "stdout",
     "output_type": "stream",
     "text": [
      "\n",
      "\n",
      "wget this: %s https://sentinel-cogs.s3.us-west-2.amazonaws.com/sentinel-s2-l2a-cogs/23/K/PR/2020/11/S2B_23KPR_20201114_0_L2A/B03.tif\n",
      "wget -nv -O- https://sentinel-cogs.s3.us-west-2.amazonaws.com/sentinel-s2-l2a-cogs/23/K/PR/2020/11/S2B_23KPR_20201114_0_L2A/B03.tif | aws s3 cp - s3://dev-et-data/usmart/RIO/sentinel\n",
      "/23/K/PR/2020/11S2B_23KPR_20201114_0_L2A_B03.tif\n",
      "wget -nv -O- https://sentinel-cogs.s3.us-west-2.amazonaws.com/sentinel-s2-l2a-cogs/23/K/PR/2020/11/S2B_23KPR_20201114_0_L2A/B03.tif | aws s3 cp - s3://dev-et-data/usmart/RIO/sentinel/23/K/PR/2020/11S2B_23KPR_20201114_0_L2A_B03.tif\n"
     ]
    },
    {
     "name": "stderr",
     "output_type": "stream",
     "text": [
      "15:11:18: sending https://sentinel-cogs.s3.us-west-2.amazonaws.com/sentinel-s2-l2a-cogs/23/K/PR/2020/11/S2A_23KPR_20201109_0_L2A/B03.tif\n"
     ]
    },
    {
     "name": "stdout",
     "output_type": "stream",
     "text": [
      "\n",
      "\n",
      "wget this: %s https://sentinel-cogs.s3.us-west-2.amazonaws.com/sentinel-s2-l2a-cogs/23/K/PR/2020/11/S2A_23KPR_20201109_0_L2A/B03.tif\n",
      "wget -nv -O- https://sentinel-cogs.s3.us-west-2.amazonaws.com/sentinel-s2-l2a-cogs/23/K/PR/2020/11/S2A_23KPR_20201109_0_L2A/B03.tif | aws s3 cp - s3://dev-et-data/usmart/RIO/sentinel\n",
      "/23/K/PR/2020/11S2A_23KPR_20201109_0_L2A_B03.tif\n",
      "wget -nv -O- https://sentinel-cogs.s3.us-west-2.amazonaws.com/sentinel-s2-l2a-cogs/23/K/PR/2020/11/S2A_23KPR_20201109_0_L2A/B03.tif | aws s3 cp - s3://dev-et-data/usmart/RIO/sentinel/23/K/PR/2020/11S2A_23KPR_20201109_0_L2A_B03.tif\n"
     ]
    },
    {
     "name": "stderr",
     "output_type": "stream",
     "text": [
      "2021-09-11 15:11:18 URL:https://sentinel-cogs.s3.us-west-2.amazonaws.com/sentinel-s2-l2a-cogs/23/K/PR/2020/11/S2B_23KPR_20201104_0_L2A/B04.tif [208350622/208350622] -> \"-\" [1]\n",
      "2021-09-11 15:11:19 URL:https://sentinel-cogs.s3.us-west-2.amazonaws.com/sentinel-s2-l2a-cogs/23/K/NR/2020/10/S2A_23KNR_20201030_0_L2A/B04.tif [87110310/87110310] -> \"-\" [1]\n",
      "15:11:20: sending https://sentinel-cogs.s3.us-west-2.amazonaws.com/sentinel-s2-l2a-cogs/23/K/NR/2020/10/S2A_23KNR_20201030_0_L2A/B03.tif\n"
     ]
    },
    {
     "name": "stdout",
     "output_type": "stream",
     "text": [
      "\n",
      "\n",
      "wget this: %s https://sentinel-cogs.s3.us-west-2.amazonaws.com/sentinel-s2-l2a-cogs/23/K/NR/2020/10/S2A_23KNR_20201030_0_L2A/B03.tif\n",
      "wget -nv -O- https://sentinel-cogs.s3.us-west-2.amazonaws.com/sentinel-s2-l2a-cogs/23/K/NR/2020/10/S2A_23KNR_20201030_0_L2A/B03.tif | aws s3 cp - s3://dev-et-data/usmart/RIO/sentinel\n",
      "/23/K/NR/2020/10S2A_23KNR_20201030_0_L2A_B03.tif\n",
      "wget -nv -O- https://sentinel-cogs.s3.us-west-2.amazonaws.com/sentinel-s2-l2a-cogs/23/K/NR/2020/10/S2A_23KNR_20201030_0_L2A/B03.tif | aws s3 cp - s3://dev-et-data/usmart/RIO/sentinel/23/K/NR/2020/10S2A_23KNR_20201030_0_L2A_B03.tif\n"
     ]
    },
    {
     "name": "stderr",
     "output_type": "stream",
     "text": [
      "2021-09-11 15:11:20 URL:https://sentinel-cogs.s3.us-west-2.amazonaws.com/sentinel-s2-l2a-cogs/23/K/NR/2020/11/S2A_23KNR_20201119_0_L2A/B03.tif [112896354/112896354] -> \"-\" [1]\n",
      "2021-09-11 15:11:20 URL:https://sentinel-cogs.s3.us-west-2.amazonaws.com/sentinel-s2-l2a-cogs/23/K/NR/2020/11/S2B_23KNR_20201114_0_L2A/B03.tif [102502968/102502968] -> \"-\" [1]\n",
      "15:11:20: sending https://sentinel-cogs.s3.us-west-2.amazonaws.com/sentinel-s2-l2a-cogs/23/K/PR/2020/11/S2B_23KPR_20201104_0_L2A/B03.tif\n"
     ]
    },
    {
     "name": "stdout",
     "output_type": "stream",
     "text": [
      "\n",
      "\n",
      "wget this: %s https://sentinel-cogs.s3.us-west-2.amazonaws.com/sentinel-s2-l2a-cogs/23/K/PR/2020/11/S2B_23KPR_20201104_0_L2A/B03.tif\n",
      "wget -nv -O- https://sentinel-cogs.s3.us-west-2.amazonaws.com/sentinel-s2-l2a-cogs/23/K/PR/2020/11/S2B_23KPR_20201104_0_L2A/B03.tif | aws s3 cp - s3://dev-et-data/usmart/RIO/sentinel\n",
      "/23/K/PR/2020/11S2B_23KPR_20201104_0_L2A_B03.tif\n",
      "wget -nv -O- https://sentinel-cogs.s3.us-west-2.amazonaws.com/sentinel-s2-l2a-cogs/23/K/PR/2020/11/S2B_23KPR_20201104_0_L2A/B03.tif | aws s3 cp - s3://dev-et-data/usmart/RIO/sentinel/23/K/PR/2020/11S2B_23KPR_20201104_0_L2A_B03.tif\n"
     ]
    },
    {
     "name": "stderr",
     "output_type": "stream",
     "text": [
      "15:11:21: sending https://sentinel-cogs.s3.us-west-2.amazonaws.com/sentinel-s2-l2a-cogs/23/K/NR/2020/11/S2A_23KNR_20201119_0_L2A/B02.tif\n",
      "2021-09-11 15:11:21 URL:https://sentinel-cogs.s3.us-west-2.amazonaws.com/sentinel-s2-l2a-cogs/23/K/PR/2020/10/S2A_23KPR_20201030_0_L2A/B04.tif [151716624/151716624] -> \"-\" [1]\n",
      "2021-09-11 15:11:21 URL:https://sentinel-cogs.s3.us-west-2.amazonaws.com/sentinel-s2-l2a-cogs/23/K/NR/2020/11/S2A_23KNR_20201109_0_L2A/B03.tif [120343187/120343187] -> \"-\" [1]\n",
      "15:11:21: sending https://sentinel-cogs.s3.us-west-2.amazonaws.com/sentinel-s2-l2a-cogs/23/K/NR/2020/11/S2B_23KNR_20201114_0_L2A/B02.tif\n"
     ]
    },
    {
     "name": "stdout",
     "output_type": "stream",
     "text": [
      "\n",
      "\n",
      "wget this: %s https://sentinel-cogs.s3.us-west-2.amazonaws.com/sentinel-s2-l2a-cogs/23/K/NR/2020/11/S2A_23KNR_20201119_0_L2A/B02.tif\n",
      "wget -nv -O- https://sentinel-cogs.s3.us-west-2.amazonaws.com/sentinel-s2-l2a-cogs/23/K/NR/2020/11/S2A_23KNR_20201119_0_L2A/B02.tif | aws s3 cp - s3://dev-et-data/usmart/RIO/sentinel\n",
      "/23/K/NR/2020/11S2A_23KNR_20201119_0_L2A_B02.tif\n",
      "wget -nv -O- https://sentinel-cogs.s3.us-west-2.amazonaws.com/sentinel-s2-l2a-cogs/23/K/NR/2020/11/S2A_23KNR_20201119_0_L2A/B02.tif | aws s3 cp - s3://dev-et-data/usmart/RIO/sentinel/23/K/NR/2020/11S2A_23KNR_20201119_0_L2A_B02.tif\n",
      "\n",
      "\n",
      "wget this: %s https://sentinel-cogs.s3.us-west-2.amazonaws.com/sentinel-s2-l2a-cogs/23/K/NR/2020/11/S2B_23KNR_20201114_0_L2A/B02.tif\n",
      "wget -nv -O- https://sentinel-cogs.s3.us-west-2.amazonaws.com/sentinel-s2-l2a-cogs/23/K/NR/2020/11/S2B_23KNR_20201114_0_L2A/B02.tif | aws s3 cp - s3://dev-et-data/usmart/RIO/sentinel\n",
      "/23/K/NR/2020/11S2B_23KNR_20201114_0_L2A_B02.tif\n",
      "wget -nv -O- https://sentinel-cogs.s3.us-west-2.amazonaws.com/sentinel-s2-l2a-cogs/23/K/NR/2020/11/S2B_23KNR_20201114_0_L2A/B02.tif | aws s3 cp - s3://dev-et-data/usmart/RIO/sentinel/23/K/NR/2020/11S2B_23KNR_20201114_0_L2A_B02.tif\n"
     ]
    },
    {
     "name": "stderr",
     "output_type": "stream",
     "text": [
      "15:11:22: sending https://sentinel-cogs.s3.us-west-2.amazonaws.com/sentinel-s2-l2a-cogs/23/K/NR/2020/11/S2A_23KNR_20201109_0_L2A/B02.tif\n",
      "2021-09-11 15:11:22 URL:https://sentinel-cogs.s3.us-west-2.amazonaws.com/sentinel-s2-l2a-cogs/23/K/NR/2020/11/S2B_23KNR_20201104_0_L2A/B03.tif [122916627/122916627] -> \"-\" [1]\n",
      "15:11:22: sending https://sentinel-cogs.s3.us-west-2.amazonaws.com/sentinel-s2-l2a-cogs/23/K/PR/2020/10/S2A_23KPR_20201030_0_L2A/B03.tif\n"
     ]
    },
    {
     "name": "stdout",
     "output_type": "stream",
     "text": [
      "\n",
      "\n",
      "wget this: %s https://sentinel-cogs.s3.us-west-2.amazonaws.com/sentinel-s2-l2a-cogs/23/K/NR/2020/11/S2A_23KNR_20201109_0_L2A/B02.tif\n",
      "wget -nv -O- https://sentinel-cogs.s3.us-west-2.amazonaws.com/sentinel-s2-l2a-cogs/23/K/NR/2020/11/S2A_23KNR_20201109_0_L2A/B02.tif | aws s3 cp - s3://dev-et-data/usmart/RIO/sentinel\n",
      "/23/K/NR/2020/11S2A_23KNR_20201109_0_L2A_B02.tif\n",
      "wget -nv -O- https://sentinel-cogs.s3.us-west-2.amazonaws.com/sentinel-s2-l2a-cogs/23/K/NR/2020/11/S2A_23KNR_20201109_0_L2A/B02.tif | aws s3 cp - s3://dev-et-data/usmart/RIO/sentinel/23/K/NR/2020/11S2A_23KNR_20201109_0_L2A_B02.tif\n",
      "\n",
      "\n",
      "wget this: %s https://sentinel-cogs.s3.us-west-2.amazonaws.com/sentinel-s2-l2a-cogs/23/K/PR/2020/10/S2A_23KPR_20201030_0_L2A/B03.tif\n",
      "wget -nv -O- https://sentinel-cogs.s3.us-west-2.amazonaws.com/sentinel-s2-l2a-cogs/23/K/PR/2020/10/S2A_23KPR_20201030_0_L2A/B03.tif | aws s3 cp - s3://dev-et-data/usmart/RIO/sentinel\n",
      "/23/K/PR/2020/10S2A_23KPR_20201030_0_L2A_B03.tif\n",
      "wget -nv -O- https://sentinel-cogs.s3.us-west-2.amazonaws.com/sentinel-s2-l2a-cogs/23/K/PR/2020/10/S2A_23KPR_20201030_0_L2A/B03.tif | aws s3 cp - s3://dev-et-data/usmart/RIO/sentinel/23/K/PR/2020/10S2A_23KPR_20201030_0_L2A_B03.tif\n"
     ]
    },
    {
     "name": "stderr",
     "output_type": "stream",
     "text": [
      "15:11:23: sending https://sentinel-cogs.s3.us-west-2.amazonaws.com/sentinel-s2-l2a-cogs/23/K/NR/2020/11/S2B_23KNR_20201104_0_L2A/B02.tif\n"
     ]
    },
    {
     "name": "stdout",
     "output_type": "stream",
     "text": [
      "\n",
      "\n",
      "wget this: %s https://sentinel-cogs.s3.us-west-2.amazonaws.com/sentinel-s2-l2a-cogs/23/K/NR/2020/11/S2B_23KNR_20201104_0_L2A/B02.tif\n",
      "wget -nv -O- https://sentinel-cogs.s3.us-west-2.amazonaws.com/sentinel-s2-l2a-cogs/23/K/NR/2020/11/S2B_23KNR_20201104_0_L2A/B02.tif | aws s3 cp - s3://dev-et-data/usmart/RIO/sentinel\n",
      "/23/K/NR/2020/11S2B_23KNR_20201104_0_L2A_B02.tif\n",
      "wget -nv -O- https://sentinel-cogs.s3.us-west-2.amazonaws.com/sentinel-s2-l2a-cogs/23/K/NR/2020/11/S2B_23KNR_20201104_0_L2A/B02.tif | aws s3 cp - s3://dev-et-data/usmart/RIO/sentinel/23/K/NR/2020/11S2B_23KNR_20201104_0_L2A_B02.tif\n"
     ]
    },
    {
     "name": "stderr",
     "output_type": "stream",
     "text": [
      "2021-09-11 15:11:23 URL:https://sentinel-cogs.s3.us-west-2.amazonaws.com/sentinel-s2-l2a-cogs/23/K/PR/2020/11/S2A_23KPR_20201119_0_L2A/B03.tif [192028644/192028644] -> \"-\" [1]\n",
      "15:11:24: sending https://sentinel-cogs.s3.us-west-2.amazonaws.com/sentinel-s2-l2a-cogs/23/K/PR/2020/11/S2A_23KPR_20201119_0_L2A/B02.tif\n"
     ]
    },
    {
     "name": "stdout",
     "output_type": "stream",
     "text": [
      "\n",
      "\n",
      "wget this: %s https://sentinel-cogs.s3.us-west-2.amazonaws.com/sentinel-s2-l2a-cogs/23/K/PR/2020/11/S2A_23KPR_20201119_0_L2A/B02.tif\n",
      "wget -nv -O- https://sentinel-cogs.s3.us-west-2.amazonaws.com/sentinel-s2-l2a-cogs/23/K/PR/2020/11/S2A_23KPR_20201119_0_L2A/B02.tif | aws s3 cp - s3://dev-et-data/usmart/RIO/sentinel\n",
      "/23/K/PR/2020/11S2A_23KPR_20201119_0_L2A_B02.tif\n",
      "wget -nv -O- https://sentinel-cogs.s3.us-west-2.amazonaws.com/sentinel-s2-l2a-cogs/23/K/PR/2020/11/S2A_23KPR_20201119_0_L2A/B02.tif | aws s3 cp - s3://dev-et-data/usmart/RIO/sentinel/23/K/PR/2020/11S2A_23KPR_20201119_0_L2A_B02.tif\n"
     ]
    },
    {
     "name": "stderr",
     "output_type": "stream",
     "text": [
      "2021-09-11 15:11:24 URL:https://sentinel-cogs.s3.us-west-2.amazonaws.com/sentinel-s2-l2a-cogs/23/K/PR/2020/11/S2B_23KPR_20201114_0_L2A/B03.tif [191646515/191646515] -> \"-\" [1]\n",
      "2021-09-11 15:11:25 URL:https://sentinel-cogs.s3.us-west-2.amazonaws.com/sentinel-s2-l2a-cogs/23/K/NR/2020/10/S2A_23KNR_20201030_0_L2A/B03.tif [87624950/87624950] -> \"-\" [1]\n",
      "15:11:25: sending https://sentinel-cogs.s3.us-west-2.amazonaws.com/sentinel-s2-l2a-cogs/23/K/PR/2020/11/S2B_23KPR_20201114_0_L2A/B02.tif\n",
      "2021-09-11 15:11:25 URL:https://sentinel-cogs.s3.us-west-2.amazonaws.com/sentinel-s2-l2a-cogs/23/K/PR/2020/11/S2B_23KPR_20201124_0_L2A/B03.tif [230885357/230885357] -> \"-\" [1]\n"
     ]
    },
    {
     "name": "stdout",
     "output_type": "stream",
     "text": [
      "\n",
      "\n",
      "wget this: %s https://sentinel-cogs.s3.us-west-2.amazonaws.com/sentinel-s2-l2a-cogs/23/K/PR/2020/11/S2B_23KPR_20201114_0_L2A/B02.tif\n",
      "wget -nv -O- https://sentinel-cogs.s3.us-west-2.amazonaws.com/sentinel-s2-l2a-cogs/23/K/PR/2020/11/S2B_23KPR_20201114_0_L2A/B02.tif | aws s3 cp - s3://dev-et-data/usmart/RIO/sentinel\n",
      "/23/K/PR/2020/11S2B_23KPR_20201114_0_L2A_B02.tif\n",
      "wget -nv -O- https://sentinel-cogs.s3.us-west-2.amazonaws.com/sentinel-s2-l2a-cogs/23/K/PR/2020/11/S2B_23KPR_20201114_0_L2A/B02.tif | aws s3 cp - s3://dev-et-data/usmart/RIO/sentinel/23/K/PR/2020/11S2B_23KPR_20201114_0_L2A_B02.tif\n"
     ]
    },
    {
     "name": "stderr",
     "output_type": "stream",
     "text": [
      "2021-09-11 15:11:26 URL:https://sentinel-cogs.s3.us-west-2.amazonaws.com/sentinel-s2-l2a-cogs/23/K/PR/2020/11/S2A_23KPR_20201109_0_L2A/B03.tif [211685677/211685677] -> \"-\" [1]\n",
      "15:11:26: sending https://sentinel-cogs.s3.us-west-2.amazonaws.com/sentinel-s2-l2a-cogs/23/K/PR/2020/11/S2B_23KPR_20201124_0_L2A/B02.tif\n"
     ]
    },
    {
     "name": "stdout",
     "output_type": "stream",
     "text": [
      "\n",
      "\n",
      "wget this: %s https://sentinel-cogs.s3.us-west-2.amazonaws.com/sentinel-s2-l2a-cogs/23/K/PR/2020/11/S2B_23KPR_20201124_0_L2A/B02.tif\n",
      "wget -nv -O- https://sentinel-cogs.s3.us-west-2.amazonaws.com/sentinel-s2-l2a-cogs/23/K/PR/2020/11/S2B_23KPR_20201124_0_L2A/B02.tif | aws s3 cp - s3://dev-et-data/usmart/RIO/sentinel\n",
      "/23/K/PR/2020/11S2B_23KPR_20201124_0_L2A_B02.tif\n",
      "wget -nv -O- https://sentinel-cogs.s3.us-west-2.amazonaws.com/sentinel-s2-l2a-cogs/23/K/PR/2020/11/S2B_23KPR_20201124_0_L2A/B02.tif | aws s3 cp - s3://dev-et-data/usmart/RIO/sentinel/23/K/PR/2020/11S2B_23KPR_20201124_0_L2A_B02.tif\n"
     ]
    },
    {
     "name": "stderr",
     "output_type": "stream",
     "text": [
      "2021-09-11 15:11:26 URL:https://sentinel-cogs.s3.us-west-2.amazonaws.com/sentinel-s2-l2a-cogs/23/K/NR/2020/11/S2A_23KNR_20201119_0_L2A/B02.tif [113732864/113732864] -> \"-\" [1]\n",
      "15:11:26: sending https://sentinel-cogs.s3.us-west-2.amazonaws.com/sentinel-s2-l2a-cogs/23/K/NR/2020/10/S2A_23KNR_20201030_0_L2A/B02.tif\n"
     ]
    },
    {
     "name": "stdout",
     "output_type": "stream",
     "text": [
      "\n",
      "\n",
      "wget this: %s https://sentinel-cogs.s3.us-west-2.amazonaws.com/sentinel-s2-l2a-cogs/23/K/NR/2020/10/S2A_23KNR_20201030_0_L2A/B02.tif\n",
      "wget -nv -O- https://sentinel-cogs.s3.us-west-2.amazonaws.com/sentinel-s2-l2a-cogs/23/K/NR/2020/10/S2A_23KNR_20201030_0_L2A/B02.tif | aws s3 cp - s3://dev-et-data/usmart/RIO/sentinel\n",
      "/23/K/NR/2020/10S2A_23KNR_20201030_0_L2A_B02.tif\n",
      "wget -nv -O- https://sentinel-cogs.s3.us-west-2.amazonaws.com/sentinel-s2-l2a-cogs/23/K/NR/2020/10/S2A_23KNR_20201030_0_L2A/B02.tif | aws s3 cp - s3://dev-et-data/usmart/RIO/sentinel/23/K/NR/2020/10S2A_23KNR_20201030_0_L2A_B02.tif\n"
     ]
    },
    {
     "name": "stderr",
     "output_type": "stream",
     "text": [
      "15:11:27: sending https://sentinel-cogs.s3.us-west-2.amazonaws.com/sentinel-s2-l2a-cogs/23/K/PR/2020/11/S2A_23KPR_20201109_0_L2A/B02.tif\n"
     ]
    },
    {
     "name": "stdout",
     "output_type": "stream",
     "text": [
      "\n",
      "\n",
      "wget this: %s https://sentinel-cogs.s3.us-west-2.amazonaws.com/sentinel-s2-l2a-cogs/23/K/PR/2020/11/S2A_23KPR_20201109_0_L2A/B02.tif\n",
      "wget -nv -O- https://sentinel-cogs.s3.us-west-2.amazonaws.com/sentinel-s2-l2a-cogs/23/K/PR/2020/11/S2A_23KPR_20201109_0_L2A/B02.tif | aws s3 cp - s3://dev-et-data/usmart/RIO/sentinel\n",
      "/23/K/PR/2020/11S2A_23KPR_20201109_0_L2A_B02.tif\n",
      "wget -nv -O- https://sentinel-cogs.s3.us-west-2.amazonaws.com/sentinel-s2-l2a-cogs/23/K/PR/2020/11/S2A_23KPR_20201109_0_L2A/B02.tif | aws s3 cp - s3://dev-et-data/usmart/RIO/sentinel/23/K/PR/2020/11S2A_23KPR_20201109_0_L2A_B02.tif\n"
     ]
    },
    {
     "name": "stderr",
     "output_type": "stream",
     "text": [
      "2021-09-11 15:11:27 URL:https://sentinel-cogs.s3.us-west-2.amazonaws.com/sentinel-s2-l2a-cogs/23/K/NR/2020/11/S2B_23KNR_20201114_0_L2A/B02.tif [103912994/103912994] -> \"-\" [1]\n",
      "15:11:27: Thread 16: finishing in 23 seconds\n"
     ]
    },
    {
     "name": "stdout",
     "output_type": "stream",
     "text": [
      "\n",
      "\n"
     ]
    },
    {
     "name": "stderr",
     "output_type": "stream",
     "text": [
      "15:11:27: Thread 18: finishing in 21 seconds\n"
     ]
    },
    {
     "name": "stdout",
     "output_type": "stream",
     "text": [
      "\n",
      "\n"
     ]
    },
    {
     "name": "stderr",
     "output_type": "stream",
     "text": [
      "2021-09-11 15:11:28 URL:https://sentinel-cogs.s3.us-west-2.amazonaws.com/sentinel-s2-l2a-cogs/23/K/NR/2020/11/S2A_23KNR_20201109_0_L2A/B02.tif [118925936/118925936] -> \"-\" [1]\n",
      "2021-09-11 15:11:28 URL:https://sentinel-cogs.s3.us-west-2.amazonaws.com/sentinel-s2-l2a-cogs/23/K/NR/2020/11/S2B_23KNR_20201104_0_L2A/B02.tif [122856163/122856163] -> \"-\" [1]\n",
      "15:11:28: Thread 20: finishing in 21 seconds\n"
     ]
    },
    {
     "name": "stdout",
     "output_type": "stream",
     "text": [
      "\n",
      "\n"
     ]
    },
    {
     "name": "stderr",
     "output_type": "stream",
     "text": [
      "15:11:29: Thread 22: finishing in 20 seconds\n"
     ]
    },
    {
     "name": "stdout",
     "output_type": "stream",
     "text": [
      "\n",
      "\n"
     ]
    },
    {
     "name": "stderr",
     "output_type": "stream",
     "text": [
      "2021-09-11 15:11:29 URL:https://sentinel-cogs.s3.us-west-2.amazonaws.com/sentinel-s2-l2a-cogs/23/K/PR/2020/10/S2A_23KPR_20201030_0_L2A/B03.tif [151942587/151942587] -> \"-\" [1]\n",
      "2021-09-11 15:11:29 URL:https://sentinel-cogs.s3.us-west-2.amazonaws.com/sentinel-s2-l2a-cogs/23/K/PR/2020/11/S2B_23KPR_20201104_0_L2A/B03.tif [207112440/207112440] -> \"-\" [1]\n",
      "15:11:29: sending https://sentinel-cogs.s3.us-west-2.amazonaws.com/sentinel-s2-l2a-cogs/23/K/PR/2020/10/S2A_23KPR_20201030_0_L2A/B02.tif\n"
     ]
    },
    {
     "name": "stdout",
     "output_type": "stream",
     "text": [
      "\n",
      "\n",
      "wget this: %s https://sentinel-cogs.s3.us-west-2.amazonaws.com/sentinel-s2-l2a-cogs/23/K/PR/2020/10/S2A_23KPR_20201030_0_L2A/B02.tif\n",
      "wget -nv -O- https://sentinel-cogs.s3.us-west-2.amazonaws.com/sentinel-s2-l2a-cogs/23/K/PR/2020/10/S2A_23KPR_20201030_0_L2A/B02.tif | aws s3 cp - s3://dev-et-data/usmart/RIO/sentinel\n",
      "/23/K/PR/2020/10S2A_23KPR_20201030_0_L2A_B02.tif\n",
      "wget -nv -O- https://sentinel-cogs.s3.us-west-2.amazonaws.com/sentinel-s2-l2a-cogs/23/K/PR/2020/10/S2A_23KPR_20201030_0_L2A/B02.tif | aws s3 cp - s3://dev-et-data/usmart/RIO/sentinel/23/K/PR/2020/10S2A_23KPR_20201030_0_L2A_B02.tif\n"
     ]
    },
    {
     "name": "stderr",
     "output_type": "stream",
     "text": [
      "15:11:30: sending https://sentinel-cogs.s3.us-west-2.amazonaws.com/sentinel-s2-l2a-cogs/23/K/PR/2020/11/S2B_23KPR_20201104_0_L2A/B02.tif\n"
     ]
    },
    {
     "name": "stdout",
     "output_type": "stream",
     "text": [
      "\n",
      "\n",
      "wget this: %s https://sentinel-cogs.s3.us-west-2.amazonaws.com/sentinel-s2-l2a-cogs/23/K/PR/2020/11/S2B_23KPR_20201104_0_L2A/B02.tif\n",
      "wget -nv -O- https://sentinel-cogs.s3.us-west-2.amazonaws.com/sentinel-s2-l2a-cogs/23/K/PR/2020/11/S2B_23KPR_20201104_0_L2A/B02.tif | aws s3 cp - s3://dev-et-data/usmart/RIO/sentinel\n",
      "/23/K/PR/2020/11S2B_23KPR_20201104_0_L2A_B02.tif\n",
      "wget -nv -O- https://sentinel-cogs.s3.us-west-2.amazonaws.com/sentinel-s2-l2a-cogs/23/K/PR/2020/11/S2B_23KPR_20201104_0_L2A/B02.tif | aws s3 cp - s3://dev-et-data/usmart/RIO/sentinel/23/K/PR/2020/11S2B_23KPR_20201104_0_L2A_B02.tif\n"
     ]
    },
    {
     "name": "stderr",
     "output_type": "stream",
     "text": [
      "2021-09-11 15:11:31 URL:https://sentinel-cogs.s3.us-west-2.amazonaws.com/sentinel-s2-l2a-cogs/23/K/PR/2020/11/S2A_23KPR_20201119_0_L2A/B02.tif [193460223/193460223] -> \"-\" [1]\n",
      "2021-09-11 15:11:31 URL:https://sentinel-cogs.s3.us-west-2.amazonaws.com/sentinel-s2-l2a-cogs/23/K/NR/2020/10/S2A_23KNR_20201030_0_L2A/B02.tif [89574137/89574137] -> \"-\" [1]\n",
      "15:11:32: Thread 17: finishing in 25 seconds\n"
     ]
    },
    {
     "name": "stdout",
     "output_type": "stream",
     "text": [
      "\n",
      "\n"
     ]
    },
    {
     "name": "stderr",
     "output_type": "stream",
     "text": [
      "15:11:32: Thread 24: finishing in 20 seconds\n"
     ]
    },
    {
     "name": "stdout",
     "output_type": "stream",
     "text": [
      "\n",
      "\n"
     ]
    },
    {
     "name": "stderr",
     "output_type": "stream",
     "text": [
      "2021-09-11 15:11:33 URL:https://sentinel-cogs.s3.us-west-2.amazonaws.com/sentinel-s2-l2a-cogs/23/K/PR/2020/11/S2B_23KPR_20201114_0_L2A/B02.tif [193363649/193363649] -> \"-\" [1]\n",
      "15:11:34: Thread 19: finishing in 27 seconds\n"
     ]
    },
    {
     "name": "stdout",
     "output_type": "stream",
     "text": [
      "\n",
      "\n"
     ]
    },
    {
     "name": "stderr",
     "output_type": "stream",
     "text": [
      "2021-09-11 15:11:35 URL:https://sentinel-cogs.s3.us-west-2.amazonaws.com/sentinel-s2-l2a-cogs/23/K/PR/2020/11/S2B_23KPR_20201124_0_L2A/B02.tif [229005784/229005784] -> \"-\" [1]\n",
      "2021-09-11 15:11:35 URL:https://sentinel-cogs.s3.us-west-2.amazonaws.com/sentinel-s2-l2a-cogs/23/K/PR/2020/10/S2A_23KPR_20201030_0_L2A/B02.tif [154798591/154798591] -> \"-\" [1]\n",
      "15:11:35: Thread 15: finishing in 31 seconds\n",
      "2021-09-11 15:11:35 URL:https://sentinel-cogs.s3.us-west-2.amazonaws.com/sentinel-s2-l2a-cogs/23/K/PR/2020/11/S2A_23KPR_20201109_0_L2A/B02.tif [208530381/208530381] -> \"-\" [1]\n"
     ]
    },
    {
     "name": "stdout",
     "output_type": "stream",
     "text": [
      "\n",
      "\n"
     ]
    },
    {
     "name": "stderr",
     "output_type": "stream",
     "text": [
      "15:11:35: Thread 25: finishing in 23 seconds\n"
     ]
    },
    {
     "name": "stdout",
     "output_type": "stream",
     "text": [
      "\n",
      "\n"
     ]
    },
    {
     "name": "stderr",
     "output_type": "stream",
     "text": [
      "15:11:36: Thread 21: finishing in 28 seconds\n"
     ]
    },
    {
     "name": "stdout",
     "output_type": "stream",
     "text": [
      "\n",
      "\n"
     ]
    },
    {
     "name": "stderr",
     "output_type": "stream",
     "text": [
      "2021-09-11 15:11:37 URL:https://sentinel-cogs.s3.us-west-2.amazonaws.com/sentinel-s2-l2a-cogs/23/K/PR/2020/11/S2B_23KPR_20201104_0_L2A/B02.tif [207121782/207121782] -> \"-\" [1]\n",
      "15:11:38: Thread 23: finishing in 29 seconds\n"
     ]
    },
    {
     "name": "stdout",
     "output_type": "stream",
     "text": [
      "\n",
      "\n"
     ]
    }
   ],
   "source": [
    "if __name__ == \"__main__\":\n",
    "    format = \"%(asctime)s: %(message)s\"\n",
    "    logging.basicConfig(format=format, level=logging.INFO,\n",
    "                        datefmt=\"%H:%M:%S\")\n",
    "\n",
    "    total_scenes = total_scenes - 120\n",
    "    with concurrent.futures.ThreadPoolExecutor(max_workers=15) as executor:\n",
    "        executor.map(xfer_function_caller, range(total_scenes))\n",
    "        logging.info(\"Initial Threads %s: strted - i think i am waiting before any others\", \"executor\")"
   ]
  },
  {
   "cell_type": "code",
   "execution_count": 33,
   "id": "eedc7df6",
   "metadata": {},
   "outputs": [
    {
     "name": "stdout",
     "output_type": "stream",
     "text": [
      "\r\n",
      "Total Objects: 0\r\n",
      "   Total Size: 0 Bytes\r\n"
     ]
    }
   ],
   "source": [
    "! aws s3 ls dev-et-data/smartTE/sentinel --recur --sum --human"
   ]
  },
  {
   "cell_type": "code",
   "execution_count": 34,
   "id": "85ba3ac3",
   "metadata": {},
   "outputs": [
    {
     "name": "stdout",
     "output_type": "stream",
     "text": [
      "Sat Sep 11 15:11:40 UTC 2021\r\n"
     ]
    }
   ],
   "source": [
    "!date"
   ]
  },
  {
   "cell_type": "code",
   "execution_count": null,
   "id": "b72f45c1",
   "metadata": {},
   "outputs": [],
   "source": []
  }
 ],
 "metadata": {
  "kernelspec": {
   "display_name": "Python 3 (ipykernel)",
   "language": "python",
   "name": "python3"
  },
  "language_info": {
   "codemirror_mode": {
    "name": "ipython",
    "version": 3
   },
   "file_extension": ".py",
   "mimetype": "text/x-python",
   "name": "python",
   "nbconvert_exporter": "python",
   "pygments_lexer": "ipython3",
   "version": "3.8.10"
  }
 },
 "nbformat": 4,
 "nbformat_minor": 5
}
