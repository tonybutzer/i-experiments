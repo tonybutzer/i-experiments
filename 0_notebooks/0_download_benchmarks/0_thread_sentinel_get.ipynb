{
 "cells": [
  {
   "cell_type": "markdown",
   "id": "6dcd5cdd",
   "metadata": {},
   "source": [
    "# https://www.youtube.com/watch?v=LfxhhOMmWqE\n",
    "\n",
    "- scottyhq on stac "
   ]
  },
  {
   "cell_type": "code",
   "execution_count": 1,
   "id": "ae913858",
   "metadata": {},
   "outputs": [],
   "source": [
    "#! pip install sat-search\n",
    "#!pip install intake-stac"
   ]
  },
  {
   "cell_type": "code",
   "execution_count": 2,
   "id": "c12a046c",
   "metadata": {},
   "outputs": [],
   "source": [
    "import time\n",
    "def thread_function(name):\n",
    "    logging.info(\"Thread %s: starting\", name)\n",
    "    time.sleep(2)\n",
    "    logging.info(\"Thread %s: finishing\", name)"
   ]
  },
  {
   "cell_type": "code",
   "execution_count": 3,
   "id": "46c4d3c4",
   "metadata": {},
   "outputs": [
    {
     "name": "stderr",
     "output_type": "stream",
     "text": [
      "03:11:46: Thread 0: starting\n",
      "03:11:46: Thread 1: starting\n",
      "03:11:46: Thread 2: starting\n",
      "03:11:46: Thread 3: starting\n",
      "03:11:46: Thread 4: starting\n",
      "03:11:46: Initial Threads executor: strted - i think i am waiting before any others\n",
      "03:11:48: Thread 0: finishing\n",
      "03:11:48: Thread 5: starting\n",
      "03:11:48: Thread 1: finishing\n",
      "03:11:48: Thread 6: starting\n",
      "03:11:48: Thread 2: finishing\n",
      "03:11:48: Thread 7: starting\n",
      "03:11:48: Thread 4: finishing\n",
      "03:11:48: Thread 3: finishing\n",
      "03:11:48: Thread 8: starting\n",
      "03:11:48: Thread 9: starting\n",
      "03:11:50: Thread 5: finishing\n",
      "03:11:50: Thread 10: starting\n",
      "03:11:50: Thread 6: finishing\n",
      "03:11:50: Thread 11: starting\n",
      "03:11:50: Thread 7: finishing\n",
      "03:11:50: Thread 12: starting\n",
      "03:11:50: Thread 8: finishing\n",
      "03:11:50: Thread 9: finishing\n",
      "03:11:50: Thread 13: starting\n",
      "03:11:52: Thread 10: finishing\n",
      "03:11:52: Thread 11: finishing\n",
      "03:11:52: Thread 12: finishing\n",
      "03:11:52: Thread 13: finishing\n"
     ]
    }
   ],
   "source": [
    "import concurrent.futures\n",
    "import logging\n",
    "\n",
    "# [rest of code]\n",
    "\n",
    "if __name__ == \"__main__\":\n",
    "    format = \"%(asctime)s: %(message)s\"\n",
    "    logging.basicConfig(format=format, level=logging.INFO,\n",
    "                        datefmt=\"%H:%M:%S\")\n",
    "\n",
    "    with concurrent.futures.ThreadPoolExecutor(max_workers=5) as executor:\n",
    "        executor.map(thread_function, range(14))\n",
    "        logging.info(\"Initial Threads %s: strted - i think i am waiting before any others\", \"executor\")\n"
   ]
  },
  {
   "cell_type": "code",
   "execution_count": 4,
   "id": "16ee6fad",
   "metadata": {},
   "outputs": [
    {
     "name": "stderr",
     "output_type": "stream",
     "text": [
      "03:11:52: Thread aaa: starting\n",
      "03:11:54: Thread aaa: finishing\n"
     ]
    }
   ],
   "source": [
    "thread_function('aaa')"
   ]
  },
  {
   "cell_type": "code",
   "execution_count": 5,
   "id": "8187e02a",
   "metadata": {},
   "outputs": [],
   "source": [
    "import subprocess\n",
    "def subprocess_cmd(command):\n",
    "    process = subprocess.Popen(command,stdout=subprocess.PIPE, shell=True)\n",
    "    proc_stdout = process.communicate()[0].strip()\n",
    "    stupidBytesObject = proc_stdout\n",
    "    outStr = (stupidBytesObject.decode(\"utf-8\"))\n",
    "    print(outStr)\n",
    "    return(outStr)"
   ]
  },
  {
   "cell_type": "code",
   "execution_count": 6,
   "id": "58efb46f",
   "metadata": {},
   "outputs": [],
   "source": [
    "#!wget -nv -O- https://sentinel-cogs.s3.us-west-2.amazonaws.com/sentinel-s2-l2a-cogs/23/K/NR/2020/3/S2B_23KNR_20200329_0_L2A/TCI.tif \\\n",
    "#    | aws s3 cp - s3://dev-et-data/tony/S2B_23KNR_20200329_0_L2A_TCI.tif"
   ]
  },
  {
   "cell_type": "code",
   "execution_count": 7,
   "id": "fef986f5",
   "metadata": {},
   "outputs": [],
   "source": [
    "# example"
   ]
  },
  {
   "cell_type": "code",
   "execution_count": 8,
   "id": "d02f9ba6",
   "metadata": {},
   "outputs": [],
   "source": [
    "# !wget https://raw.githubusercontent.com/tonybutzer/stac-deep/main/1_WIP/0-LTWG/ltwg.py"
   ]
  },
  {
   "cell_type": "code",
   "execution_count": 9,
   "id": "aafc62e3",
   "metadata": {},
   "outputs": [
    {
     "name": "stdout",
     "output_type": "stream",
     "text": [
      "Thu Sep 23 03:11:54 UTC 2021\r\n"
     ]
    }
   ],
   "source": [
    "! date"
   ]
  },
  {
   "cell_type": "code",
   "execution_count": 10,
   "id": "19e815e5",
   "metadata": {},
   "outputs": [
    {
     "data": {
      "text/plain": [
       "['yaml_file_cat',\n",
       " 'yaml_files_cat',\n",
       " 'alias',\n",
       " 'catalog',\n",
       " 'csv',\n",
       " 'intake_remote',\n",
       " 'ndzarr',\n",
       " 'numpy',\n",
       " 'textfiles',\n",
       " 'zarr_cat',\n",
       " 'netcdf',\n",
       " 'opendap',\n",
       " 'rasterio',\n",
       " 'remote-xarray',\n",
       " 'xarray_image',\n",
       " 'zarr',\n",
       " 'stac_catalog',\n",
       " 'stac_collection',\n",
       " 'stac_item',\n",
       " 'stac_item_collection']"
      ]
     },
     "execution_count": 10,
     "metadata": {},
     "output_type": "execute_result"
    }
   ],
   "source": [
    "#! cp ../../../usgs-geo-flow/1_Viz_ROI_AOI_Notebooks/rio2_region.geojson .\n",
    "import intake\n",
    "\n",
    "list(intake.registry)"
   ]
  },
  {
   "cell_type": "code",
   "execution_count": 11,
   "id": "8fd7949f",
   "metadata": {},
   "outputs": [],
   "source": [
    "#import intake-stac\n",
    "from satsearch import Search\n",
    "\n",
    "def get_STAC_items(url, collection, dates, bbox):\n",
    "    results = Search.search(url=url,\n",
    "                        collections=[collection], \n",
    "                        datetime=dates,\n",
    "                        bbox=bbox,    \n",
    "                        sortby=['-properties.datetime'])\n",
    "\n",
    "    items = results.items()\n",
    "    print(f'Found {len(items)} Items')\n",
    "    \n",
    "    \n",
    "#     #return intake.open_stac_item_collection(items)\n",
    "#     return intake_stac.catalog.StacItemCollection(items)\n",
    "#     #return intake.stac_item_collection(items)\n",
    "    \n",
    "    return(items)\n"
   ]
  },
  {
   "cell_type": "code",
   "execution_count": 12,
   "id": "e1d0c0cf",
   "metadata": {},
   "outputs": [],
   "source": [
    "import geopandas as gpd\n",
    "\n",
    "#geojson_file='./rio2_region.geojson'\n",
    "\n",
    "geojson_file='./railroad_valley.geojson'\n",
    "\n",
    "aoi = gpd.read_file(geojson_file)"
   ]
  },
  {
   "cell_type": "code",
   "execution_count": 13,
   "id": "c150df90",
   "metadata": {},
   "outputs": [],
   "source": [
    "bbox=aoi['geometry'].values[0].bounds"
   ]
  },
  {
   "cell_type": "code",
   "execution_count": 14,
   "id": "43b399c1",
   "metadata": {
    "scrolled": true
   },
   "outputs": [
    {
     "name": "stdout",
     "output_type": "stream",
     "text": [
      "Found 147 Items\n"
     ]
    }
   ],
   "source": [
    "url='https://earth-search.aws.element84.com/v0'\n",
    "\n",
    "dates = '2020-01-01/2020-12-31' \n",
    "\n",
    "collection = 'sentinel-s2-l2a-cogs' # sentinel-2 w/ atmospheric corrections\n",
    "items_s2 = get_STAC_items(url, collection, dates, bbox)"
   ]
  },
  {
   "cell_type": "code",
   "execution_count": 15,
   "id": "7e1c4151",
   "metadata": {},
   "outputs": [
    {
     "data": {
      "text/plain": [
       "['__class__',\n",
       " '__delattr__',\n",
       " '__dict__',\n",
       " '__dir__',\n",
       " '__doc__',\n",
       " '__eq__',\n",
       " '__format__',\n",
       " '__ge__',\n",
       " '__getattribute__',\n",
       " '__getitem__',\n",
       " '__gt__',\n",
       " '__hash__',\n",
       " '__init__',\n",
       " '__init_subclass__',\n",
       " '__le__',\n",
       " '__len__',\n",
       " '__lt__',\n",
       " '__module__',\n",
       " '__ne__',\n",
       " '__new__',\n",
       " '__reduce__',\n",
       " '__reduce_ex__',\n",
       " '__repr__',\n",
       " '__setattr__',\n",
       " '__sizeof__',\n",
       " '__str__',\n",
       " '__subclasshook__',\n",
       " '__weakref__',\n",
       " '_collections',\n",
       " '_items',\n",
       " 'assets_definition',\n",
       " 'calendar',\n",
       " 'collection',\n",
       " 'dates',\n",
       " 'download',\n",
       " 'download_assets',\n",
       " 'filter',\n",
       " 'geojson',\n",
       " 'load',\n",
       " 'open',\n",
       " 'open_remote',\n",
       " 'properties',\n",
       " 'save',\n",
       " 'summary']"
      ]
     },
     "execution_count": 15,
     "metadata": {},
     "output_type": "execute_result"
    }
   ],
   "source": [
    "dir(items_s2)"
   ]
  },
  {
   "cell_type": "code",
   "execution_count": 16,
   "id": "973d4cab",
   "metadata": {},
   "outputs": [
    {
     "name": "stdout",
     "output_type": "stream",
     "text": [
      "                              2020                              \n",
      "\n",
      "      January               February               March        \n",
      "Mo Tu We Th Fr Sa Su  Mo Tu We Th Fr Sa Su  Mo Tu We Th Fr Sa Su\n",
      "      \u001b[41m 1\u001b[0m  2  3 \u001b[41m 4\u001b[0m  5                  1  2                    \u001b[41m 1\u001b[0m  \n",
      "\u001b[42m 6\u001b[0m  7  8 \u001b[42m 9\u001b[0m 10 \u001b[41m11\u001b[0m 12  \u001b[41m 3\u001b[0m  4 \u001b[42m 5\u001b[0m  6  7 \u001b[42m 8\u001b[0m  9   2  3 \u001b[41m 4\u001b[0m  5 \u001b[42m 6\u001b[0m  7  8  \n",
      "13 \u001b[41m14\u001b[0m 15 \u001b[42m16\u001b[0m 17 18 \u001b[42m19\u001b[0m  \u001b[41m10\u001b[0m 11 12 \u001b[41m13\u001b[0m 14 \u001b[42m15\u001b[0m 16  \u001b[42m 9\u001b[0m 10 \u001b[41m11\u001b[0m 12 13 \u001b[41m14\u001b[0m 15  \n",
      "20 \u001b[41m21\u001b[0m 22 23 \u001b[41m24\u001b[0m 25 \u001b[42m26\u001b[0m  17 \u001b[42m18\u001b[0m 19 \u001b[41m20\u001b[0m 21 22 \u001b[41m23\u001b[0m  \u001b[42m16\u001b[0m 17 18 \u001b[42m19\u001b[0m 20 \u001b[41m21\u001b[0m 22  \n",
      "27 28 \u001b[42m29\u001b[0m 30 31        24 \u001b[42m25\u001b[0m 26 27 \u001b[42m28\u001b[0m 29     23 \u001b[41m24\u001b[0m 25 \u001b[42m26\u001b[0m 27 28 \u001b[42m29\u001b[0m  \n",
      "\n",
      "       April                  May                   June        \n",
      "Mo Tu We Th Fr Sa Su  Mo Tu We Th Fr Sa Su  Mo Tu We Th Fr Sa Su\n",
      "       1  2 \u001b[41m 3\u001b[0m  4 \u001b[42m 5\u001b[0m               1  2 \u001b[41m 3\u001b[0m   1 \u001b[41m 2\u001b[0m  3 \u001b[42m 4\u001b[0m  5  6 \u001b[42m 7\u001b[0m  \n",
      " 6  7 \u001b[42m 8\u001b[0m  9 \u001b[41m10\u001b[0m 11 12   4 \u001b[42m 5\u001b[0m  6  7 \u001b[42m 8\u001b[0m  9 \u001b[41m10\u001b[0m   8 \u001b[41m 9\u001b[0m 10 11 \u001b[41m12\u001b[0m 13 \u001b[42m14\u001b[0m  \n",
      "\u001b[41m13\u001b[0m 14 \u001b[42m15\u001b[0m 16 17 \u001b[42m18\u001b[0m 19  11 12 \u001b[41m13\u001b[0m 14 \u001b[42m15\u001b[0m 16 17  15 16 \u001b[42m17\u001b[0m 18 \u001b[41m19\u001b[0m 20 21  \n",
      "\u001b[41m20\u001b[0m 21 22 \u001b[41m23\u001b[0m 24 \u001b[42m25\u001b[0m 26  \u001b[42m18\u001b[0m 19 \u001b[41m20\u001b[0m 21 22 \u001b[41m23\u001b[0m 24  \u001b[41m22\u001b[0m 23 \u001b[42m24\u001b[0m 25 26 \u001b[42m27\u001b[0m 28  \n",
      "27 \u001b[42m28\u001b[0m 29 \u001b[41m30\u001b[0m           \u001b[42m25\u001b[0m 26 27 \u001b[42m28\u001b[0m 29 \u001b[41m30\u001b[0m 31  \u001b[41m29\u001b[0m 30                 \n",
      "\n",
      "        July                 August              September      \n",
      "Mo Tu We Th Fr Sa Su  Mo Tu We Th Fr Sa Su  Mo Tu We Th Fr Sa Su\n",
      "       1 \u001b[41m 2\u001b[0m  3 \u001b[42m 4\u001b[0m  5                 \u001b[41m 1\u001b[0m  2      1 \u001b[42m 2\u001b[0m  3  4 \u001b[42m 5\u001b[0m  6  \n",
      " 6 \u001b[42m 7\u001b[0m  8 \u001b[41m 9\u001b[0m 10 11 \u001b[41m12\u001b[0m  \u001b[42m 3\u001b[0m  4  5 \u001b[42m 6\u001b[0m  7 \u001b[41m 8\u001b[0m  9  \u001b[41m 7\u001b[0m  8  9 \u001b[41m10\u001b[0m 11 \u001b[42m12\u001b[0m 13  \n",
      "13 \u001b[42m14\u001b[0m 15 16 \u001b[42m17\u001b[0m 18 \u001b[41m19\u001b[0m  10 \u001b[41m11\u001b[0m 12 \u001b[42m13\u001b[0m 14 15 \u001b[42m16\u001b[0m  14 \u001b[42m15\u001b[0m 16 \u001b[41m17\u001b[0m 18 19 \u001b[41m20\u001b[0m  \n",
      "20 21 \u001b[41m22\u001b[0m 23 \u001b[42m24\u001b[0m 25 26  17 \u001b[41m18\u001b[0m 19 20 \u001b[41m21\u001b[0m 22 \u001b[42m23\u001b[0m  21 \u001b[42m22\u001b[0m 23 24 \u001b[42m25\u001b[0m 26 \u001b[41m27\u001b[0m  \n",
      "\u001b[42m27\u001b[0m 28 \u001b[41m29\u001b[0m 30 31        24 25 \u001b[42m26\u001b[0m 27 \u001b[41m28\u001b[0m 29 30  28 29 \u001b[41m30\u001b[0m              \n",
      "\n",
      "      October               November              December      \n",
      "Mo Tu We Th Fr Sa Su  Mo Tu We Th Fr Sa Su  Mo Tu We Th Fr Sa Su\n",
      "          1 \u001b[42m 2\u001b[0m  3  4                    \u001b[42m 1\u001b[0m     \u001b[42m 1\u001b[0m  2  3 \u001b[42m 4\u001b[0m  5 \u001b[41m 6\u001b[0m  \n",
      " 5  6 \u001b[41m 7\u001b[0m  8  9 \u001b[41m10\u001b[0m 11   2  3 \u001b[42m 4\u001b[0m  5 \u001b[41m 6\u001b[0m  7  8   7  8 \u001b[41m 9\u001b[0m 10 \u001b[42m11\u001b[0m 12 13  \n",
      "\u001b[42m12\u001b[0m 13 14 \u001b[42m15\u001b[0m 16 \u001b[41m17\u001b[0m 18  \u001b[41m 9\u001b[0m 10 \u001b[42m11\u001b[0m 12 13 \u001b[42m14\u001b[0m 15  \u001b[42m14\u001b[0m 15 \u001b[41m16\u001b[0m 17 18 \u001b[41m19\u001b[0m 20  \n",
      "19 \u001b[41m20\u001b[0m 21 \u001b[42m22\u001b[0m 23 24 \u001b[42m25\u001b[0m  16 17 18 \u001b[41m19\u001b[0m 20 \u001b[42m21\u001b[0m 22  \u001b[42m21\u001b[0m 22 23 \u001b[42m24\u001b[0m 25 \u001b[41m26\u001b[0m 27  \n",
      "26 \u001b[41m27\u001b[0m 28 29 \u001b[41m30\u001b[0m 31     23 \u001b[42m24\u001b[0m 25 \u001b[41m26\u001b[0m 27 28 \u001b[41m29\u001b[0m  28 \u001b[41m29\u001b[0m 30 \u001b[42m31\u001b[0m           \n",
      "\n",
      "\u001b[41msentinel-2b (1)\u001b[0m\n",
      "\u001b[42msentinel-2a (1)\u001b[0m\n",
      "144 total dates\n"
     ]
    }
   ],
   "source": [
    "print(items_s2.calendar())"
   ]
  },
  {
   "cell_type": "code",
   "execution_count": 17,
   "id": "4b42f6b9",
   "metadata": {},
   "outputs": [],
   "source": [
    "reds = []\n",
    "reds.extend([item.assets[\"B04\"][\"href\"] for item in items_s2])"
   ]
  },
  {
   "cell_type": "code",
   "execution_count": 18,
   "id": "b8780af9",
   "metadata": {},
   "outputs": [
    {
     "data": {
      "text/plain": [
       "['https://sentinel-cogs.s3.us-west-2.amazonaws.com/sentinel-s2-l2a-cogs/11/S/PC/2020/12/S2A_11SPC_20201231_0_L2A/B04.tif',\n",
       " 'https://sentinel-cogs.s3.us-west-2.amazonaws.com/sentinel-s2-l2a-cogs/11/S/PC/2020/12/S2B_11SPC_20201229_0_L2A/B04.tif',\n",
       " 'https://sentinel-cogs.s3.us-west-2.amazonaws.com/sentinel-s2-l2a-cogs/11/S/PC/2020/12/S2B_11SPC_20201226_0_L2A/B04.tif',\n",
       " 'https://sentinel-cogs.s3.us-west-2.amazonaws.com/sentinel-s2-l2a-cogs/11/S/PC/2020/12/S2A_11SPC_20201224_0_L2A/B04.tif',\n",
       " 'https://sentinel-cogs.s3.us-west-2.amazonaws.com/sentinel-s2-l2a-cogs/11/S/PC/2020/12/S2A_11SPC_20201221_0_L2A/B04.tif',\n",
       " 'https://sentinel-cogs.s3.us-west-2.amazonaws.com/sentinel-s2-l2a-cogs/11/S/PC/2020/12/S2B_11SPC_20201219_0_L2A/B04.tif',\n",
       " 'https://sentinel-cogs.s3.us-west-2.amazonaws.com/sentinel-s2-l2a-cogs/11/S/PC/2020/12/S2B_11SPC_20201216_0_L2A/B04.tif',\n",
       " 'https://sentinel-cogs.s3.us-west-2.amazonaws.com/sentinel-s2-l2a-cogs/11/S/PC/2020/12/S2A_11SPC_20201214_0_L2A/B04.tif',\n",
       " 'https://sentinel-cogs.s3.us-west-2.amazonaws.com/sentinel-s2-l2a-cogs/11/S/PC/2020/12/S2A_11SPC_20201211_0_L2A/B04.tif',\n",
       " 'https://sentinel-cogs.s3.us-west-2.amazonaws.com/sentinel-s2-l2a-cogs/11/S/PC/2020/12/S2B_11SPC_20201209_0_L2A/B04.tif',\n",
       " 'https://sentinel-cogs.s3.us-west-2.amazonaws.com/sentinel-s2-l2a-cogs/11/S/PC/2020/12/S2B_11SPC_20201206_0_L2A/B04.tif',\n",
       " 'https://sentinel-cogs.s3.us-west-2.amazonaws.com/sentinel-s2-l2a-cogs/11/S/PC/2020/12/S2A_11SPC_20201204_0_L2A/B04.tif',\n",
       " 'https://sentinel-cogs.s3.us-west-2.amazonaws.com/sentinel-s2-l2a-cogs/11/S/PC/2020/12/S2A_11SPC_20201201_0_L2A/B04.tif',\n",
       " 'https://sentinel-cogs.s3.us-west-2.amazonaws.com/sentinel-s2-l2a-cogs/11/S/PC/2020/11/S2B_11SPC_20201129_0_L2A/B04.tif',\n",
       " 'https://sentinel-cogs.s3.us-west-2.amazonaws.com/sentinel-s2-l2a-cogs/11/S/PC/2020/11/S2B_11SPC_20201126_0_L2A/B04.tif',\n",
       " 'https://sentinel-cogs.s3.us-west-2.amazonaws.com/sentinel-s2-l2a-cogs/11/S/PC/2020/11/S2A_11SPC_20201124_0_L2A/B04.tif',\n",
       " 'https://sentinel-cogs.s3.us-west-2.amazonaws.com/sentinel-s2-l2a-cogs/11/S/PC/2020/11/S2A_11SPC_20201121_0_L2A/B04.tif',\n",
       " 'https://sentinel-cogs.s3.us-west-2.amazonaws.com/sentinel-s2-l2a-cogs/11/S/PC/2020/11/S2B_11SPC_20201119_0_L2A/B04.tif',\n",
       " 'https://sentinel-cogs.s3.us-west-2.amazonaws.com/sentinel-s2-l2a-cogs/11/S/PC/2020/11/S2A_11SPC_20201114_0_L2A/B04.tif',\n",
       " 'https://sentinel-cogs.s3.us-west-2.amazonaws.com/sentinel-s2-l2a-cogs/11/S/PC/2020/11/S2A_11SPC_20201111_0_L2A/B04.tif',\n",
       " 'https://sentinel-cogs.s3.us-west-2.amazonaws.com/sentinel-s2-l2a-cogs/11/S/PC/2020/11/S2B_11SPC_20201109_0_L2A/B04.tif',\n",
       " 'https://sentinel-cogs.s3.us-west-2.amazonaws.com/sentinel-s2-l2a-cogs/11/S/PC/2020/11/S2B_11SPC_20201106_0_L2A/B04.tif',\n",
       " 'https://sentinel-cogs.s3.us-west-2.amazonaws.com/sentinel-s2-l2a-cogs/11/S/PC/2020/11/S2A_11SPC_20201104_0_L2A/B04.tif',\n",
       " 'https://sentinel-cogs.s3.us-west-2.amazonaws.com/sentinel-s2-l2a-cogs/11/S/PC/2020/11/S2A_11SPC_20201101_0_L2A/B04.tif',\n",
       " 'https://sentinel-cogs.s3.us-west-2.amazonaws.com/sentinel-s2-l2a-cogs/11/S/PC/2020/10/S2B_11SPC_20201030_0_L2A/B04.tif',\n",
       " 'https://sentinel-cogs.s3.us-west-2.amazonaws.com/sentinel-s2-l2a-cogs/11/S/PC/2020/10/S2B_11SPC_20201027_0_L2A/B04.tif',\n",
       " 'https://sentinel-cogs.s3.us-west-2.amazonaws.com/sentinel-s2-l2a-cogs/11/S/PC/2020/10/S2A_11SPC_20201025_0_L2A/B04.tif',\n",
       " 'https://sentinel-cogs.s3.us-west-2.amazonaws.com/sentinel-s2-l2a-cogs/11/S/PC/2020/10/S2A_11SPC_20201022_0_L2A/B04.tif',\n",
       " 'https://sentinel-cogs.s3.us-west-2.amazonaws.com/sentinel-s2-l2a-cogs/11/S/PC/2020/10/S2B_11SPC_20201020_0_L2A/B04.tif',\n",
       " 'https://sentinel-cogs.s3.us-west-2.amazonaws.com/sentinel-s2-l2a-cogs/11/S/PC/2020/10/S2B_11SPC_20201017_0_L2A/B04.tif',\n",
       " 'https://sentinel-cogs.s3.us-west-2.amazonaws.com/sentinel-s2-l2a-cogs/11/S/PC/2020/10/S2A_11SPC_20201015_0_L2A/B04.tif',\n",
       " 'https://sentinel-cogs.s3.us-west-2.amazonaws.com/sentinel-s2-l2a-cogs/11/S/PC/2020/10/S2A_11SPC_20201012_0_L2A/B04.tif',\n",
       " 'https://sentinel-cogs.s3.us-west-2.amazonaws.com/sentinel-s2-l2a-cogs/11/S/PC/2020/10/S2B_11SPC_20201010_0_L2A/B04.tif',\n",
       " 'https://sentinel-cogs.s3.us-west-2.amazonaws.com/sentinel-s2-l2a-cogs/11/S/PC/2020/10/S2B_11SPC_20201007_0_L2A/B04.tif',\n",
       " 'https://sentinel-cogs.s3.us-west-2.amazonaws.com/sentinel-s2-l2a-cogs/11/S/PC/2020/10/S2A_11SPC_20201002_0_L2A/B04.tif',\n",
       " 'https://sentinel-cogs.s3.us-west-2.amazonaws.com/sentinel-s2-l2a-cogs/11/S/PC/2020/9/S2B_11SPC_20200930_0_L2A/B04.tif',\n",
       " 'https://sentinel-cogs.s3.us-west-2.amazonaws.com/sentinel-s2-l2a-cogs/11/S/PC/2020/9/S2B_11SPC_20200927_0_L2A/B04.tif',\n",
       " 'https://sentinel-cogs.s3.us-west-2.amazonaws.com/sentinel-s2-l2a-cogs/11/S/PC/2020/9/S2A_11SPC_20200925_0_L2A/B04.tif',\n",
       " 'https://sentinel-cogs.s3.us-west-2.amazonaws.com/sentinel-s2-l2a-cogs/11/S/PC/2020/9/S2A_11SPC_20200922_0_L2A/B04.tif',\n",
       " 'https://sentinel-cogs.s3.us-west-2.amazonaws.com/sentinel-s2-l2a-cogs/11/S/PC/2020/9/S2B_11SPC_20200920_0_L2A/B04.tif',\n",
       " 'https://sentinel-cogs.s3.us-west-2.amazonaws.com/sentinel-s2-l2a-cogs/11/S/PC/2020/9/S2B_11SPC_20200917_0_L2A/B04.tif',\n",
       " 'https://sentinel-cogs.s3.us-west-2.amazonaws.com/sentinel-s2-l2a-cogs/11/S/PC/2020/9/S2A_11SPC_20200915_0_L2A/B04.tif',\n",
       " 'https://sentinel-cogs.s3.us-west-2.amazonaws.com/sentinel-s2-l2a-cogs/11/S/PC/2020/9/S2A_11SPC_20200912_0_L2A/B04.tif',\n",
       " 'https://sentinel-cogs.s3.us-west-2.amazonaws.com/sentinel-s2-l2a-cogs/11/S/PC/2020/9/S2B_11SPC_20200910_0_L2A/B04.tif',\n",
       " 'https://sentinel-cogs.s3.us-west-2.amazonaws.com/sentinel-s2-l2a-cogs/11/S/PC/2020/9/S2B_11SPC_20200907_0_L2A/B04.tif',\n",
       " 'https://sentinel-cogs.s3.us-west-2.amazonaws.com/sentinel-s2-l2a-cogs/11/S/PC/2020/9/S2A_11SPC_20200905_0_L2A/B04.tif',\n",
       " 'https://sentinel-cogs.s3.us-west-2.amazonaws.com/sentinel-s2-l2a-cogs/11/S/PC/2020/9/S2A_11SPC_20200902_0_L2A/B04.tif',\n",
       " 'https://sentinel-cogs.s3.us-west-2.amazonaws.com/sentinel-s2-l2a-cogs/11/S/PC/2020/8/S2B_11SPC_20200831_0_L2A/B04.tif',\n",
       " 'https://sentinel-cogs.s3.us-west-2.amazonaws.com/sentinel-s2-l2a-cogs/11/S/PC/2020/8/S2B_11SPC_20200828_1_L2A/B04.tif',\n",
       " 'https://sentinel-cogs.s3.us-west-2.amazonaws.com/sentinel-s2-l2a-cogs/11/S/PC/2020/8/S2B_11SPC_20200828_0_L2A/B04.tif',\n",
       " 'https://sentinel-cogs.s3.us-west-2.amazonaws.com/sentinel-s2-l2a-cogs/11/S/PC/2020/8/S2A_11SPC_20200826_0_L2A/B04.tif',\n",
       " 'https://sentinel-cogs.s3.us-west-2.amazonaws.com/sentinel-s2-l2a-cogs/11/S/PC/2020/8/S2A_11SPC_20200823_0_L2A/B04.tif',\n",
       " 'https://sentinel-cogs.s3.us-west-2.amazonaws.com/sentinel-s2-l2a-cogs/11/S/PC/2020/8/S2B_11SPC_20200821_0_L2A/B04.tif',\n",
       " 'https://sentinel-cogs.s3.us-west-2.amazonaws.com/sentinel-s2-l2a-cogs/11/S/PC/2020/8/S2B_11SPC_20200818_0_L2A/B04.tif',\n",
       " 'https://sentinel-cogs.s3.us-west-2.amazonaws.com/sentinel-s2-l2a-cogs/11/S/PC/2020/8/S2A_11SPC_20200816_0_L2A/B04.tif',\n",
       " 'https://sentinel-cogs.s3.us-west-2.amazonaws.com/sentinel-s2-l2a-cogs/11/S/PC/2020/8/S2A_11SPC_20200813_0_L2A/B04.tif',\n",
       " 'https://sentinel-cogs.s3.us-west-2.amazonaws.com/sentinel-s2-l2a-cogs/11/S/PC/2020/8/S2B_11SPC_20200811_0_L2A/B04.tif',\n",
       " 'https://sentinel-cogs.s3.us-west-2.amazonaws.com/sentinel-s2-l2a-cogs/11/S/PC/2020/8/S2B_11SPC_20200808_0_L2A/B04.tif',\n",
       " 'https://sentinel-cogs.s3.us-west-2.amazonaws.com/sentinel-s2-l2a-cogs/11/S/PC/2020/8/S2A_11SPC_20200806_0_L2A/B04.tif',\n",
       " 'https://sentinel-cogs.s3.us-west-2.amazonaws.com/sentinel-s2-l2a-cogs/11/S/PC/2020/8/S2A_11SPC_20200803_0_L2A/B04.tif',\n",
       " 'https://sentinel-cogs.s3.us-west-2.amazonaws.com/sentinel-s2-l2a-cogs/11/S/PC/2020/8/S2B_11SPC_20200801_0_L2A/B04.tif',\n",
       " 'https://sentinel-cogs.s3.us-west-2.amazonaws.com/sentinel-s2-l2a-cogs/11/S/PC/2020/7/S2B_11SPC_20200729_0_L2A/B04.tif',\n",
       " 'https://sentinel-cogs.s3.us-west-2.amazonaws.com/sentinel-s2-l2a-cogs/11/S/PC/2020/7/S2A_11SPC_20200727_0_L2A/B04.tif',\n",
       " 'https://sentinel-cogs.s3.us-west-2.amazonaws.com/sentinel-s2-l2a-cogs/11/S/PC/2020/7/S2A_11SPC_20200724_0_L2A/B04.tif',\n",
       " 'https://sentinel-cogs.s3.us-west-2.amazonaws.com/sentinel-s2-l2a-cogs/11/S/PC/2020/7/S2B_11SPC_20200722_0_L2A/B04.tif',\n",
       " 'https://sentinel-cogs.s3.us-west-2.amazonaws.com/sentinel-s2-l2a-cogs/11/S/PC/2020/7/S2B_11SPC_20200719_0_L2A/B04.tif',\n",
       " 'https://sentinel-cogs.s3.us-west-2.amazonaws.com/sentinel-s2-l2a-cogs/11/S/PC/2020/7/S2A_11SPC_20200717_0_L2A/B04.tif',\n",
       " 'https://sentinel-cogs.s3.us-west-2.amazonaws.com/sentinel-s2-l2a-cogs/11/S/PC/2020/7/S2A_11SPC_20200714_0_L2A/B04.tif',\n",
       " 'https://sentinel-cogs.s3.us-west-2.amazonaws.com/sentinel-s2-l2a-cogs/11/S/PC/2020/7/S2B_11SPC_20200712_0_L2A/B04.tif',\n",
       " 'https://sentinel-cogs.s3.us-west-2.amazonaws.com/sentinel-s2-l2a-cogs/11/S/PC/2020/7/S2B_11SPC_20200709_0_L2A/B04.tif',\n",
       " 'https://sentinel-cogs.s3.us-west-2.amazonaws.com/sentinel-s2-l2a-cogs/11/S/PC/2020/7/S2A_11SPC_20200707_0_L2A/B04.tif',\n",
       " 'https://sentinel-cogs.s3.us-west-2.amazonaws.com/sentinel-s2-l2a-cogs/11/S/PC/2020/7/S2A_11SPC_20200707_1_L2A/B04.tif',\n",
       " 'https://sentinel-cogs.s3.us-west-2.amazonaws.com/sentinel-s2-l2a-cogs/11/S/PC/2020/7/S2A_11SPC_20200704_0_L2A/B04.tif',\n",
       " 'https://sentinel-cogs.s3.us-west-2.amazonaws.com/sentinel-s2-l2a-cogs/11/S/PC/2020/7/S2B_11SPC_20200702_0_L2A/B04.tif',\n",
       " 'https://sentinel-cogs.s3.us-west-2.amazonaws.com/sentinel-s2-l2a-cogs/11/S/PC/2020/6/S2B_11SPC_20200629_0_L2A/B04.tif',\n",
       " 'https://sentinel-cogs.s3.us-west-2.amazonaws.com/sentinel-s2-l2a-cogs/11/S/PC/2020/6/S2A_11SPC_20200627_0_L2A/B04.tif',\n",
       " 'https://sentinel-cogs.s3.us-west-2.amazonaws.com/sentinel-s2-l2a-cogs/11/S/PC/2020/6/S2A_11SPC_20200624_0_L2A/B04.tif',\n",
       " 'https://sentinel-cogs.s3.us-west-2.amazonaws.com/sentinel-s2-l2a-cogs/11/S/PC/2020/6/S2B_11SPC_20200622_0_L2A/B04.tif',\n",
       " 'https://sentinel-cogs.s3.us-west-2.amazonaws.com/sentinel-s2-l2a-cogs/11/S/PC/2020/6/S2B_11SPC_20200619_0_L2A/B04.tif',\n",
       " 'https://sentinel-cogs.s3.us-west-2.amazonaws.com/sentinel-s2-l2a-cogs/11/S/PC/2020/6/S2A_11SPC_20200617_0_L2A/B04.tif',\n",
       " 'https://sentinel-cogs.s3.us-west-2.amazonaws.com/sentinel-s2-l2a-cogs/11/S/PC/2020/6/S2A_11SPC_20200614_0_L2A/B04.tif',\n",
       " 'https://sentinel-cogs.s3.us-west-2.amazonaws.com/sentinel-s2-l2a-cogs/11/S/PC/2020/6/S2B_11SPC_20200612_0_L2A/B04.tif',\n",
       " 'https://sentinel-cogs.s3.us-west-2.amazonaws.com/sentinel-s2-l2a-cogs/11/S/PC/2020/6/S2B_11SPC_20200609_0_L2A/B04.tif',\n",
       " 'https://sentinel-cogs.s3.us-west-2.amazonaws.com/sentinel-s2-l2a-cogs/11/S/PC/2020/6/S2A_11SPC_20200607_0_L2A/B04.tif',\n",
       " 'https://sentinel-cogs.s3.us-west-2.amazonaws.com/sentinel-s2-l2a-cogs/11/S/PC/2020/6/S2A_11SPC_20200604_0_L2A/B04.tif',\n",
       " 'https://sentinel-cogs.s3.us-west-2.amazonaws.com/sentinel-s2-l2a-cogs/11/S/PC/2020/6/S2B_11SPC_20200602_0_L2A/B04.tif',\n",
       " 'https://sentinel-cogs.s3.us-west-2.amazonaws.com/sentinel-s2-l2a-cogs/11/S/PC/2020/5/S2B_11SPC_20200530_0_L2A/B04.tif',\n",
       " 'https://sentinel-cogs.s3.us-west-2.amazonaws.com/sentinel-s2-l2a-cogs/11/S/PC/2020/5/S2A_11SPC_20200528_0_L2A/B04.tif',\n",
       " 'https://sentinel-cogs.s3.us-west-2.amazonaws.com/sentinel-s2-l2a-cogs/11/S/PC/2020/5/S2A_11SPC_20200525_0_L2A/B04.tif',\n",
       " 'https://sentinel-cogs.s3.us-west-2.amazonaws.com/sentinel-s2-l2a-cogs/11/S/PC/2020/5/S2B_11SPC_20200523_0_L2A/B04.tif',\n",
       " 'https://sentinel-cogs.s3.us-west-2.amazonaws.com/sentinel-s2-l2a-cogs/11/S/PC/2020/5/S2B_11SPC_20200520_0_L2A/B04.tif',\n",
       " 'https://sentinel-cogs.s3.us-west-2.amazonaws.com/sentinel-s2-l2a-cogs/11/S/PC/2020/5/S2A_11SPC_20200518_0_L2A/B04.tif',\n",
       " 'https://sentinel-cogs.s3.us-west-2.amazonaws.com/sentinel-s2-l2a-cogs/11/S/PC/2020/5/S2A_11SPC_20200515_0_L2A/B04.tif',\n",
       " 'https://sentinel-cogs.s3.us-west-2.amazonaws.com/sentinel-s2-l2a-cogs/11/S/PC/2020/5/S2B_11SPC_20200513_0_L2A/B04.tif',\n",
       " 'https://sentinel-cogs.s3.us-west-2.amazonaws.com/sentinel-s2-l2a-cogs/11/S/PC/2020/5/S2B_11SPC_20200510_0_L2A/B04.tif',\n",
       " 'https://sentinel-cogs.s3.us-west-2.amazonaws.com/sentinel-s2-l2a-cogs/11/S/PC/2020/5/S2A_11SPC_20200508_0_L2A/B04.tif',\n",
       " 'https://sentinel-cogs.s3.us-west-2.amazonaws.com/sentinel-s2-l2a-cogs/11/S/PC/2020/5/S2A_11SPC_20200505_0_L2A/B04.tif',\n",
       " 'https://sentinel-cogs.s3.us-west-2.amazonaws.com/sentinel-s2-l2a-cogs/11/S/PC/2020/5/S2A_11SPC_20200505_1_L2A/B04.tif',\n",
       " 'https://sentinel-cogs.s3.us-west-2.amazonaws.com/sentinel-s2-l2a-cogs/11/S/PC/2020/5/S2B_11SPC_20200503_0_L2A/B04.tif',\n",
       " 'https://sentinel-cogs.s3.us-west-2.amazonaws.com/sentinel-s2-l2a-cogs/11/S/PC/2020/4/S2B_11SPC_20200430_0_L2A/B04.tif',\n",
       " 'https://sentinel-cogs.s3.us-west-2.amazonaws.com/sentinel-s2-l2a-cogs/11/S/PC/2020/4/S2A_11SPC_20200428_0_L2A/B04.tif',\n",
       " 'https://sentinel-cogs.s3.us-west-2.amazonaws.com/sentinel-s2-l2a-cogs/11/S/PC/2020/4/S2A_11SPC_20200425_0_L2A/B04.tif',\n",
       " 'https://sentinel-cogs.s3.us-west-2.amazonaws.com/sentinel-s2-l2a-cogs/11/S/PC/2020/4/S2B_11SPC_20200423_0_L2A/B04.tif',\n",
       " 'https://sentinel-cogs.s3.us-west-2.amazonaws.com/sentinel-s2-l2a-cogs/11/S/PC/2020/4/S2B_11SPC_20200420_0_L2A/B04.tif',\n",
       " 'https://sentinel-cogs.s3.us-west-2.amazonaws.com/sentinel-s2-l2a-cogs/11/S/PC/2020/4/S2A_11SPC_20200418_0_L2A/B04.tif',\n",
       " 'https://sentinel-cogs.s3.us-west-2.amazonaws.com/sentinel-s2-l2a-cogs/11/S/PC/2020/4/S2A_11SPC_20200415_0_L2A/B04.tif',\n",
       " 'https://sentinel-cogs.s3.us-west-2.amazonaws.com/sentinel-s2-l2a-cogs/11/S/PC/2020/4/S2B_11SPC_20200413_0_L2A/B04.tif',\n",
       " 'https://sentinel-cogs.s3.us-west-2.amazonaws.com/sentinel-s2-l2a-cogs/11/S/PC/2020/4/S2B_11SPC_20200410_0_L2A/B04.tif',\n",
       " 'https://sentinel-cogs.s3.us-west-2.amazonaws.com/sentinel-s2-l2a-cogs/11/S/PC/2020/4/S2A_11SPC_20200408_0_L2A/B04.tif',\n",
       " 'https://sentinel-cogs.s3.us-west-2.amazonaws.com/sentinel-s2-l2a-cogs/11/S/PC/2020/4/S2A_11SPC_20200405_0_L2A/B04.tif',\n",
       " 'https://sentinel-cogs.s3.us-west-2.amazonaws.com/sentinel-s2-l2a-cogs/11/S/PC/2020/4/S2B_11SPC_20200403_0_L2A/B04.tif',\n",
       " 'https://sentinel-cogs.s3.us-west-2.amazonaws.com/sentinel-s2-l2a-cogs/11/S/PC/2020/3/S2B_11SPC_20200331_0_L2A/B04.tif',\n",
       " 'https://sentinel-cogs.s3.us-west-2.amazonaws.com/sentinel-s2-l2a-cogs/11/S/PC/2020/3/S2A_11SPC_20200329_0_L2A/B04.tif',\n",
       " 'https://sentinel-cogs.s3.us-west-2.amazonaws.com/sentinel-s2-l2a-cogs/11/S/PC/2020/3/S2A_11SPC_20200326_0_L2A/B04.tif',\n",
       " 'https://sentinel-cogs.s3.us-west-2.amazonaws.com/sentinel-s2-l2a-cogs/11/S/PC/2020/3/S2B_11SPC_20200324_1_L2A/B04.tif',\n",
       " 'https://sentinel-cogs.s3.us-west-2.amazonaws.com/sentinel-s2-l2a-cogs/11/S/PC/2020/3/S2B_11SPC_20200321_0_L2A/B04.tif',\n",
       " 'https://sentinel-cogs.s3.us-west-2.amazonaws.com/sentinel-s2-l2a-cogs/11/S/PC/2020/3/S2A_11SPC_20200319_0_L2A/B04.tif',\n",
       " 'https://sentinel-cogs.s3.us-west-2.amazonaws.com/sentinel-s2-l2a-cogs/11/S/PC/2020/3/S2A_11SPC_20200316_0_L2A/B04.tif',\n",
       " 'https://sentinel-cogs.s3.us-west-2.amazonaws.com/sentinel-s2-l2a-cogs/11/S/PC/2020/3/S2B_11SPC_20200314_0_L2A/B04.tif',\n",
       " 'https://sentinel-cogs.s3.us-west-2.amazonaws.com/sentinel-s2-l2a-cogs/11/S/PC/2020/3/S2B_11SPC_20200311_0_L2A/B04.tif',\n",
       " 'https://sentinel-cogs.s3.us-west-2.amazonaws.com/sentinel-s2-l2a-cogs/11/S/PC/2020/3/S2A_11SPC_20200309_0_L2A/B04.tif',\n",
       " 'https://sentinel-cogs.s3.us-west-2.amazonaws.com/sentinel-s2-l2a-cogs/11/S/PC/2020/3/S2A_11SPC_20200306_0_L2A/B04.tif',\n",
       " 'https://sentinel-cogs.s3.us-west-2.amazonaws.com/sentinel-s2-l2a-cogs/11/S/PC/2020/3/S2B_11SPC_20200304_0_L2A/B04.tif',\n",
       " 'https://sentinel-cogs.s3.us-west-2.amazonaws.com/sentinel-s2-l2a-cogs/11/S/PC/2020/3/S2B_11SPC_20200301_0_L2A/B04.tif',\n",
       " 'https://sentinel-cogs.s3.us-west-2.amazonaws.com/sentinel-s2-l2a-cogs/11/S/PC/2020/2/S2A_11SPC_20200228_0_L2A/B04.tif',\n",
       " 'https://sentinel-cogs.s3.us-west-2.amazonaws.com/sentinel-s2-l2a-cogs/11/S/PC/2020/2/S2A_11SPC_20200225_0_L2A/B04.tif',\n",
       " 'https://sentinel-cogs.s3.us-west-2.amazonaws.com/sentinel-s2-l2a-cogs/11/S/PC/2020/2/S2B_11SPC_20200223_0_L2A/B04.tif',\n",
       " 'https://sentinel-cogs.s3.us-west-2.amazonaws.com/sentinel-s2-l2a-cogs/11/S/PC/2020/2/S2B_11SPC_20200220_0_L2A/B04.tif',\n",
       " 'https://sentinel-cogs.s3.us-west-2.amazonaws.com/sentinel-s2-l2a-cogs/11/S/PC/2020/2/S2A_11SPC_20200218_0_L2A/B04.tif',\n",
       " 'https://sentinel-cogs.s3.us-west-2.amazonaws.com/sentinel-s2-l2a-cogs/11/S/PC/2020/2/S2A_11SPC_20200215_0_L2A/B04.tif',\n",
       " 'https://sentinel-cogs.s3.us-west-2.amazonaws.com/sentinel-s2-l2a-cogs/11/S/PC/2020/2/S2B_11SPC_20200213_0_L2A/B04.tif',\n",
       " 'https://sentinel-cogs.s3.us-west-2.amazonaws.com/sentinel-s2-l2a-cogs/11/S/PC/2020/2/S2B_11SPC_20200210_0_L2A/B04.tif',\n",
       " 'https://sentinel-cogs.s3.us-west-2.amazonaws.com/sentinel-s2-l2a-cogs/11/S/PC/2020/2/S2A_11SPC_20200208_0_L2A/B04.tif',\n",
       " 'https://sentinel-cogs.s3.us-west-2.amazonaws.com/sentinel-s2-l2a-cogs/11/S/PC/2020/2/S2A_11SPC_20200205_0_L2A/B04.tif',\n",
       " 'https://sentinel-cogs.s3.us-west-2.amazonaws.com/sentinel-s2-l2a-cogs/11/S/PC/2020/2/S2B_11SPC_20200203_0_L2A/B04.tif',\n",
       " 'https://sentinel-cogs.s3.us-west-2.amazonaws.com/sentinel-s2-l2a-cogs/11/S/PC/2020/1/S2A_11SPC_20200129_0_L2A/B04.tif',\n",
       " 'https://sentinel-cogs.s3.us-west-2.amazonaws.com/sentinel-s2-l2a-cogs/11/S/PC/2020/1/S2A_11SPC_20200126_0_L2A/B04.tif',\n",
       " 'https://sentinel-cogs.s3.us-west-2.amazonaws.com/sentinel-s2-l2a-cogs/11/S/PC/2020/1/S2B_11SPC_20200124_0_L2A/B04.tif',\n",
       " 'https://sentinel-cogs.s3.us-west-2.amazonaws.com/sentinel-s2-l2a-cogs/11/S/PC/2020/1/S2B_11SPC_20200121_0_L2A/B04.tif',\n",
       " 'https://sentinel-cogs.s3.us-west-2.amazonaws.com/sentinel-s2-l2a-cogs/11/S/PC/2020/1/S2A_11SPC_20200119_0_L2A/B04.tif',\n",
       " 'https://sentinel-cogs.s3.us-west-2.amazonaws.com/sentinel-s2-l2a-cogs/11/S/PC/2020/1/S2A_11SPC_20200116_0_L2A/B04.tif',\n",
       " 'https://sentinel-cogs.s3.us-west-2.amazonaws.com/sentinel-s2-l2a-cogs/11/S/PC/2020/1/S2B_11SPC_20200114_0_L2A/B04.tif',\n",
       " 'https://sentinel-cogs.s3.us-west-2.amazonaws.com/sentinel-s2-l2a-cogs/11/S/PC/2020/1/S2B_11SPC_20200111_0_L2A/B04.tif',\n",
       " 'https://sentinel-cogs.s3.us-west-2.amazonaws.com/sentinel-s2-l2a-cogs/11/S/PC/2020/1/S2A_11SPC_20200109_0_L2A/B04.tif',\n",
       " 'https://sentinel-cogs.s3.us-west-2.amazonaws.com/sentinel-s2-l2a-cogs/11/S/PC/2020/1/S2A_11SPC_20200106_0_L2A/B04.tif',\n",
       " 'https://sentinel-cogs.s3.us-west-2.amazonaws.com/sentinel-s2-l2a-cogs/11/S/PC/2020/1/S2B_11SPC_20200104_0_L2A/B04.tif',\n",
       " 'https://sentinel-cogs.s3.us-west-2.amazonaws.com/sentinel-s2-l2a-cogs/11/S/PC/2020/1/S2B_11SPC_20200101_0_L2A/B04.tif']"
      ]
     },
     "execution_count": 18,
     "metadata": {},
     "output_type": "execute_result"
    }
   ],
   "source": [
    "reds"
   ]
  },
  {
   "cell_type": "code",
   "execution_count": 19,
   "id": "eb3ce9fc",
   "metadata": {},
   "outputs": [],
   "source": [
    "greens=[]\n",
    "greens.extend([item.assets[\"B03\"][\"href\"] for item in items_s2])"
   ]
  },
  {
   "cell_type": "code",
   "execution_count": 20,
   "id": "8fb8e25d",
   "metadata": {},
   "outputs": [],
   "source": [
    "blues=[]\n",
    "blues.extend([item.assets[\"B03\"][\"href\"] for item in items_s2])"
   ]
  },
  {
   "cell_type": "markdown",
   "id": "d9763064",
   "metadata": {},
   "source": [
    "o check the network traffic on your system, i recommend you look into psutil:\n",
    "\n",
    ">>> psutil.net_io_counters(pernic=True)\n",
    "{'lo': iostat(bytes_sent=799953745, bytes_recv=799953745, packets_sent=453698, packets_recv=453698), \n",
    " 'eth0': iostat(bytes_sent=734324837, bytes_recv=4163935363, packets_sent=3605828, packets_recv=4096685)}\n",
    ">>>\n"
   ]
  },
  {
   "cell_type": "code",
   "execution_count": 21,
   "id": "4ec43e6d",
   "metadata": {},
   "outputs": [
    {
     "name": "stdout",
     "output_type": "stream",
     "text": [
      "S2A_11SPC_20201231_0_L2A\n",
      "S2B_11SPC_20201229_0_L2A\n",
      "S2B_11SPC_20201226_0_L2A\n",
      "S2A_11SPC_20201224_0_L2A\n",
      "S2A_11SPC_20201221_0_L2A\n",
      "S2B_11SPC_20201219_0_L2A\n",
      "S2B_11SPC_20201216_0_L2A\n",
      "S2A_11SPC_20201214_0_L2A\n",
      "S2A_11SPC_20201211_0_L2A\n",
      "S2B_11SPC_20201209_0_L2A\n",
      "S2B_11SPC_20201206_0_L2A\n",
      "S2A_11SPC_20201204_0_L2A\n",
      "S2A_11SPC_20201201_0_L2A\n",
      "S2B_11SPC_20201129_0_L2A\n",
      "S2B_11SPC_20201126_0_L2A\n",
      "S2A_11SPC_20201124_0_L2A\n",
      "S2A_11SPC_20201121_0_L2A\n",
      "S2B_11SPC_20201119_0_L2A\n",
      "S2A_11SPC_20201114_0_L2A\n",
      "S2A_11SPC_20201111_0_L2A\n",
      "S2B_11SPC_20201109_0_L2A\n",
      "S2B_11SPC_20201106_0_L2A\n",
      "S2A_11SPC_20201104_0_L2A\n",
      "S2A_11SPC_20201101_0_L2A\n",
      "S2B_11SPC_20201030_0_L2A\n",
      "S2B_11SPC_20201027_0_L2A\n",
      "S2A_11SPC_20201025_0_L2A\n",
      "S2A_11SPC_20201022_0_L2A\n",
      "S2B_11SPC_20201020_0_L2A\n",
      "S2B_11SPC_20201017_0_L2A\n",
      "S2A_11SPC_20201015_0_L2A\n",
      "S2A_11SPC_20201012_0_L2A\n",
      "S2B_11SPC_20201010_0_L2A\n",
      "S2B_11SPC_20201007_0_L2A\n",
      "S2A_11SPC_20201002_0_L2A\n",
      "S2B_11SPC_20200930_0_L2A\n",
      "S2B_11SPC_20200927_0_L2A\n",
      "S2A_11SPC_20200925_0_L2A\n",
      "S2A_11SPC_20200922_0_L2A\n",
      "S2B_11SPC_20200920_0_L2A\n",
      "S2B_11SPC_20200917_0_L2A\n",
      "S2A_11SPC_20200915_0_L2A\n",
      "S2A_11SPC_20200912_0_L2A\n",
      "S2B_11SPC_20200910_0_L2A\n",
      "S2B_11SPC_20200907_0_L2A\n",
      "S2A_11SPC_20200905_0_L2A\n",
      "S2A_11SPC_20200902_0_L2A\n",
      "S2B_11SPC_20200831_0_L2A\n",
      "S2B_11SPC_20200828_1_L2A\n",
      "S2B_11SPC_20200828_0_L2A\n",
      "S2A_11SPC_20200826_0_L2A\n",
      "S2A_11SPC_20200823_0_L2A\n",
      "S2B_11SPC_20200821_0_L2A\n",
      "S2B_11SPC_20200818_0_L2A\n",
      "S2A_11SPC_20200816_0_L2A\n",
      "S2A_11SPC_20200813_0_L2A\n",
      "S2B_11SPC_20200811_0_L2A\n",
      "S2B_11SPC_20200808_0_L2A\n",
      "S2A_11SPC_20200806_0_L2A\n",
      "S2A_11SPC_20200803_0_L2A\n",
      "S2B_11SPC_20200801_0_L2A\n",
      "S2B_11SPC_20200729_0_L2A\n",
      "S2A_11SPC_20200727_0_L2A\n",
      "S2A_11SPC_20200724_0_L2A\n",
      "S2B_11SPC_20200722_0_L2A\n",
      "S2B_11SPC_20200719_0_L2A\n",
      "S2A_11SPC_20200717_0_L2A\n",
      "S2A_11SPC_20200714_0_L2A\n",
      "S2B_11SPC_20200712_0_L2A\n",
      "S2B_11SPC_20200709_0_L2A\n",
      "S2A_11SPC_20200707_0_L2A\n",
      "S2A_11SPC_20200707_1_L2A\n",
      "S2A_11SPC_20200704_0_L2A\n",
      "S2B_11SPC_20200702_0_L2A\n",
      "S2B_11SPC_20200629_0_L2A\n",
      "S2A_11SPC_20200627_0_L2A\n",
      "S2A_11SPC_20200624_0_L2A\n",
      "S2B_11SPC_20200622_0_L2A\n",
      "S2B_11SPC_20200619_0_L2A\n",
      "S2A_11SPC_20200617_0_L2A\n",
      "S2A_11SPC_20200614_0_L2A\n",
      "S2B_11SPC_20200612_0_L2A\n",
      "S2B_11SPC_20200609_0_L2A\n",
      "S2A_11SPC_20200607_0_L2A\n",
      "S2A_11SPC_20200604_0_L2A\n",
      "S2B_11SPC_20200602_0_L2A\n",
      "S2B_11SPC_20200530_0_L2A\n",
      "S2A_11SPC_20200528_0_L2A\n",
      "S2A_11SPC_20200525_0_L2A\n",
      "S2B_11SPC_20200523_0_L2A\n",
      "S2B_11SPC_20200520_0_L2A\n",
      "S2A_11SPC_20200518_0_L2A\n",
      "S2A_11SPC_20200515_0_L2A\n",
      "S2B_11SPC_20200513_0_L2A\n",
      "S2B_11SPC_20200510_0_L2A\n",
      "S2A_11SPC_20200508_0_L2A\n",
      "S2A_11SPC_20200505_0_L2A\n",
      "S2A_11SPC_20200505_1_L2A\n",
      "S2B_11SPC_20200503_0_L2A\n",
      "S2B_11SPC_20200430_0_L2A\n",
      "S2A_11SPC_20200428_0_L2A\n",
      "S2A_11SPC_20200425_0_L2A\n",
      "S2B_11SPC_20200423_0_L2A\n",
      "S2B_11SPC_20200420_0_L2A\n",
      "S2A_11SPC_20200418_0_L2A\n",
      "S2A_11SPC_20200415_0_L2A\n",
      "S2B_11SPC_20200413_0_L2A\n",
      "S2B_11SPC_20200410_0_L2A\n",
      "S2A_11SPC_20200408_0_L2A\n",
      "S2A_11SPC_20200405_0_L2A\n",
      "S2B_11SPC_20200403_0_L2A\n",
      "S2B_11SPC_20200331_0_L2A\n",
      "S2A_11SPC_20200329_0_L2A\n",
      "S2A_11SPC_20200326_0_L2A\n",
      "S2B_11SPC_20200324_1_L2A\n",
      "S2B_11SPC_20200321_0_L2A\n",
      "S2A_11SPC_20200319_0_L2A\n",
      "S2A_11SPC_20200316_0_L2A\n",
      "S2B_11SPC_20200314_0_L2A\n",
      "S2B_11SPC_20200311_0_L2A\n",
      "S2A_11SPC_20200309_0_L2A\n",
      "S2A_11SPC_20200306_0_L2A\n",
      "S2B_11SPC_20200304_0_L2A\n",
      "S2B_11SPC_20200301_0_L2A\n",
      "S2A_11SPC_20200228_0_L2A\n",
      "S2A_11SPC_20200225_0_L2A\n",
      "S2B_11SPC_20200223_0_L2A\n",
      "S2B_11SPC_20200220_0_L2A\n",
      "S2A_11SPC_20200218_0_L2A\n",
      "S2A_11SPC_20200215_0_L2A\n",
      "S2B_11SPC_20200213_0_L2A\n",
      "S2B_11SPC_20200210_0_L2A\n",
      "S2A_11SPC_20200208_0_L2A\n",
      "S2A_11SPC_20200205_0_L2A\n",
      "S2B_11SPC_20200203_0_L2A\n",
      "S2A_11SPC_20200129_0_L2A\n",
      "S2A_11SPC_20200126_0_L2A\n",
      "S2B_11SPC_20200124_0_L2A\n",
      "S2B_11SPC_20200121_0_L2A\n",
      "S2A_11SPC_20200119_0_L2A\n",
      "S2A_11SPC_20200116_0_L2A\n",
      "S2B_11SPC_20200114_0_L2A\n",
      "S2B_11SPC_20200111_0_L2A\n",
      "S2A_11SPC_20200109_0_L2A\n",
      "S2A_11SPC_20200106_0_L2A\n",
      "S2B_11SPC_20200104_0_L2A\n",
      "S2B_11SPC_20200101_0_L2A\n"
     ]
    }
   ],
   "source": [
    "for item in items_s2:\n",
    "    print(item.id)"
   ]
  },
  {
   "cell_type": "code",
   "execution_count": 22,
   "id": "c3d1681a",
   "metadata": {},
   "outputs": [],
   "source": [
    "import pandas as pd\n",
    "def build_dancecard(items_s2):\n",
    "    records = []\n",
    "    for item in items_s2:\n",
    "        key = item.id\n",
    "        record = [key, item.assets[\"B04\"][\"href\"],item.assets[\"B03\"][\"href\"],item.assets[\"B02\"][\"href\"]]\n",
    "        records.append(record)\n",
    "        \n",
    "    rdf = pd.DataFrame(records)\n",
    "    return(rdf)\n",
    "        "
   ]
  },
  {
   "cell_type": "code",
   "execution_count": 23,
   "id": "8680646c",
   "metadata": {},
   "outputs": [],
   "source": [
    "kdf = build_dancecard(items_s2)"
   ]
  },
  {
   "cell_type": "code",
   "execution_count": null,
   "id": "df978e15",
   "metadata": {},
   "outputs": [],
   "source": []
  },
  {
   "cell_type": "code",
   "execution_count": 24,
   "id": "1be034be",
   "metadata": {},
   "outputs": [
    {
     "data": {
      "text/html": [
       "<div>\n",
       "<style scoped>\n",
       "    .dataframe tbody tr th:only-of-type {\n",
       "        vertical-align: middle;\n",
       "    }\n",
       "\n",
       "    .dataframe tbody tr th {\n",
       "        vertical-align: top;\n",
       "    }\n",
       "\n",
       "    .dataframe thead th {\n",
       "        text-align: right;\n",
       "    }\n",
       "</style>\n",
       "<table border=\"1\" class=\"dataframe\">\n",
       "  <thead>\n",
       "    <tr style=\"text-align: right;\">\n",
       "      <th></th>\n",
       "      <th>0</th>\n",
       "      <th>1</th>\n",
       "      <th>2</th>\n",
       "      <th>3</th>\n",
       "    </tr>\n",
       "  </thead>\n",
       "  <tbody>\n",
       "    <tr>\n",
       "      <th>0</th>\n",
       "      <td>S2A_11SPC_20201231_0_L2A</td>\n",
       "      <td>https://sentinel-cogs.s3.us-west-2.amazonaws.c...</td>\n",
       "      <td>https://sentinel-cogs.s3.us-west-2.amazonaws.c...</td>\n",
       "      <td>https://sentinel-cogs.s3.us-west-2.amazonaws.c...</td>\n",
       "    </tr>\n",
       "    <tr>\n",
       "      <th>1</th>\n",
       "      <td>S2B_11SPC_20201229_0_L2A</td>\n",
       "      <td>https://sentinel-cogs.s3.us-west-2.amazonaws.c...</td>\n",
       "      <td>https://sentinel-cogs.s3.us-west-2.amazonaws.c...</td>\n",
       "      <td>https://sentinel-cogs.s3.us-west-2.amazonaws.c...</td>\n",
       "    </tr>\n",
       "    <tr>\n",
       "      <th>2</th>\n",
       "      <td>S2B_11SPC_20201226_0_L2A</td>\n",
       "      <td>https://sentinel-cogs.s3.us-west-2.amazonaws.c...</td>\n",
       "      <td>https://sentinel-cogs.s3.us-west-2.amazonaws.c...</td>\n",
       "      <td>https://sentinel-cogs.s3.us-west-2.amazonaws.c...</td>\n",
       "    </tr>\n",
       "    <tr>\n",
       "      <th>3</th>\n",
       "      <td>S2A_11SPC_20201224_0_L2A</td>\n",
       "      <td>https://sentinel-cogs.s3.us-west-2.amazonaws.c...</td>\n",
       "      <td>https://sentinel-cogs.s3.us-west-2.amazonaws.c...</td>\n",
       "      <td>https://sentinel-cogs.s3.us-west-2.amazonaws.c...</td>\n",
       "    </tr>\n",
       "    <tr>\n",
       "      <th>4</th>\n",
       "      <td>S2A_11SPC_20201221_0_L2A</td>\n",
       "      <td>https://sentinel-cogs.s3.us-west-2.amazonaws.c...</td>\n",
       "      <td>https://sentinel-cogs.s3.us-west-2.amazonaws.c...</td>\n",
       "      <td>https://sentinel-cogs.s3.us-west-2.amazonaws.c...</td>\n",
       "    </tr>\n",
       "    <tr>\n",
       "      <th>...</th>\n",
       "      <td>...</td>\n",
       "      <td>...</td>\n",
       "      <td>...</td>\n",
       "      <td>...</td>\n",
       "    </tr>\n",
       "    <tr>\n",
       "      <th>142</th>\n",
       "      <td>S2B_11SPC_20200111_0_L2A</td>\n",
       "      <td>https://sentinel-cogs.s3.us-west-2.amazonaws.c...</td>\n",
       "      <td>https://sentinel-cogs.s3.us-west-2.amazonaws.c...</td>\n",
       "      <td>https://sentinel-cogs.s3.us-west-2.amazonaws.c...</td>\n",
       "    </tr>\n",
       "    <tr>\n",
       "      <th>143</th>\n",
       "      <td>S2A_11SPC_20200109_0_L2A</td>\n",
       "      <td>https://sentinel-cogs.s3.us-west-2.amazonaws.c...</td>\n",
       "      <td>https://sentinel-cogs.s3.us-west-2.amazonaws.c...</td>\n",
       "      <td>https://sentinel-cogs.s3.us-west-2.amazonaws.c...</td>\n",
       "    </tr>\n",
       "    <tr>\n",
       "      <th>144</th>\n",
       "      <td>S2A_11SPC_20200106_0_L2A</td>\n",
       "      <td>https://sentinel-cogs.s3.us-west-2.amazonaws.c...</td>\n",
       "      <td>https://sentinel-cogs.s3.us-west-2.amazonaws.c...</td>\n",
       "      <td>https://sentinel-cogs.s3.us-west-2.amazonaws.c...</td>\n",
       "    </tr>\n",
       "    <tr>\n",
       "      <th>145</th>\n",
       "      <td>S2B_11SPC_20200104_0_L2A</td>\n",
       "      <td>https://sentinel-cogs.s3.us-west-2.amazonaws.c...</td>\n",
       "      <td>https://sentinel-cogs.s3.us-west-2.amazonaws.c...</td>\n",
       "      <td>https://sentinel-cogs.s3.us-west-2.amazonaws.c...</td>\n",
       "    </tr>\n",
       "    <tr>\n",
       "      <th>146</th>\n",
       "      <td>S2B_11SPC_20200101_0_L2A</td>\n",
       "      <td>https://sentinel-cogs.s3.us-west-2.amazonaws.c...</td>\n",
       "      <td>https://sentinel-cogs.s3.us-west-2.amazonaws.c...</td>\n",
       "      <td>https://sentinel-cogs.s3.us-west-2.amazonaws.c...</td>\n",
       "    </tr>\n",
       "  </tbody>\n",
       "</table>\n",
       "<p>147 rows × 4 columns</p>\n",
       "</div>"
      ],
      "text/plain": [
       "                            0  \\\n",
       "0    S2A_11SPC_20201231_0_L2A   \n",
       "1    S2B_11SPC_20201229_0_L2A   \n",
       "2    S2B_11SPC_20201226_0_L2A   \n",
       "3    S2A_11SPC_20201224_0_L2A   \n",
       "4    S2A_11SPC_20201221_0_L2A   \n",
       "..                        ...   \n",
       "142  S2B_11SPC_20200111_0_L2A   \n",
       "143  S2A_11SPC_20200109_0_L2A   \n",
       "144  S2A_11SPC_20200106_0_L2A   \n",
       "145  S2B_11SPC_20200104_0_L2A   \n",
       "146  S2B_11SPC_20200101_0_L2A   \n",
       "\n",
       "                                                     1  \\\n",
       "0    https://sentinel-cogs.s3.us-west-2.amazonaws.c...   \n",
       "1    https://sentinel-cogs.s3.us-west-2.amazonaws.c...   \n",
       "2    https://sentinel-cogs.s3.us-west-2.amazonaws.c...   \n",
       "3    https://sentinel-cogs.s3.us-west-2.amazonaws.c...   \n",
       "4    https://sentinel-cogs.s3.us-west-2.amazonaws.c...   \n",
       "..                                                 ...   \n",
       "142  https://sentinel-cogs.s3.us-west-2.amazonaws.c...   \n",
       "143  https://sentinel-cogs.s3.us-west-2.amazonaws.c...   \n",
       "144  https://sentinel-cogs.s3.us-west-2.amazonaws.c...   \n",
       "145  https://sentinel-cogs.s3.us-west-2.amazonaws.c...   \n",
       "146  https://sentinel-cogs.s3.us-west-2.amazonaws.c...   \n",
       "\n",
       "                                                     2  \\\n",
       "0    https://sentinel-cogs.s3.us-west-2.amazonaws.c...   \n",
       "1    https://sentinel-cogs.s3.us-west-2.amazonaws.c...   \n",
       "2    https://sentinel-cogs.s3.us-west-2.amazonaws.c...   \n",
       "3    https://sentinel-cogs.s3.us-west-2.amazonaws.c...   \n",
       "4    https://sentinel-cogs.s3.us-west-2.amazonaws.c...   \n",
       "..                                                 ...   \n",
       "142  https://sentinel-cogs.s3.us-west-2.amazonaws.c...   \n",
       "143  https://sentinel-cogs.s3.us-west-2.amazonaws.c...   \n",
       "144  https://sentinel-cogs.s3.us-west-2.amazonaws.c...   \n",
       "145  https://sentinel-cogs.s3.us-west-2.amazonaws.c...   \n",
       "146  https://sentinel-cogs.s3.us-west-2.amazonaws.c...   \n",
       "\n",
       "                                                     3  \n",
       "0    https://sentinel-cogs.s3.us-west-2.amazonaws.c...  \n",
       "1    https://sentinel-cogs.s3.us-west-2.amazonaws.c...  \n",
       "2    https://sentinel-cogs.s3.us-west-2.amazonaws.c...  \n",
       "3    https://sentinel-cogs.s3.us-west-2.amazonaws.c...  \n",
       "4    https://sentinel-cogs.s3.us-west-2.amazonaws.c...  \n",
       "..                                                 ...  \n",
       "142  https://sentinel-cogs.s3.us-west-2.amazonaws.c...  \n",
       "143  https://sentinel-cogs.s3.us-west-2.amazonaws.c...  \n",
       "144  https://sentinel-cogs.s3.us-west-2.amazonaws.c...  \n",
       "145  https://sentinel-cogs.s3.us-west-2.amazonaws.c...  \n",
       "146  https://sentinel-cogs.s3.us-west-2.amazonaws.c...  \n",
       "\n",
       "[147 rows x 4 columns]"
      ]
     },
     "execution_count": 24,
     "metadata": {},
     "output_type": "execute_result"
    }
   ],
   "source": [
    "kdf"
   ]
  },
  {
   "cell_type": "code",
   "execution_count": 25,
   "id": "1a42f4b3",
   "metadata": {},
   "outputs": [],
   "source": [
    "kdf.to_csv('rio2.csv',index=True)"
   ]
  },
  {
   "cell_type": "code",
   "execution_count": 26,
   "id": "1b2a1b10",
   "metadata": {},
   "outputs": [
    {
     "name": "stdout",
     "output_type": "stream",
     "text": [
      "rio2.csv\r\n"
     ]
    }
   ],
   "source": [
    "!ls *.csv"
   ]
  },
  {
   "cell_type": "code",
   "execution_count": 27,
   "id": "09ce977e",
   "metadata": {},
   "outputs": [],
   "source": [
    "def wget_to_s3(s3_obj):\n",
    "    print(\"wget this: %s\",s3_obj)\n",
    "    file_obj_name = s3_obj.split('/')[-2] + '_' + s3_obj.split('/')[-1]\n",
    "    object_path = s3_obj.split('sentinel-s2-l2a-cogs')[-1]\n",
    "    #obj_prefix = '/'.join(object_path.split('/')[:-2])\n",
    "    #obj_name=obj_prefix + file_obj_name\n",
    "    obj_name=file_obj_name\n",
    "    cmd = 'wget -nv -O- ' + s3_obj + ' | aws s3 cp - s3://dev-et-data/usmart/RIO/sentinel-s2-l2a-cogs/' \n",
    "    print(cmd)\n",
    "    print(obj_name)\n",
    "    cmd = cmd + obj_name\n",
    "    print(cmd)\n",
    "    result = subprocess_cmd(cmd)\n",
    "    print(result)"
   ]
  },
  {
   "cell_type": "code",
   "execution_count": 28,
   "id": "0c3ca9dc",
   "metadata": {},
   "outputs": [
    {
     "data": {
      "text/plain": [
       "'https://sentinel-cogs.s3.us-west-2.amazonaws.com/sentinel-s2-l2a-cogs/11/S/PC/2020/12/S2B_11SPC_20201219_0_L2A/B04.tif'"
      ]
     },
     "execution_count": 28,
     "metadata": {},
     "output_type": "execute_result"
    }
   ],
   "source": [
    "series = kdf.loc[5]\n",
    "series[1]"
   ]
  },
  {
   "cell_type": "code",
   "execution_count": 29,
   "id": "4102318b",
   "metadata": {},
   "outputs": [],
   "source": [
    "import math\n",
    "def xfer_function_caller(row):\n",
    "    start = time.time()\n",
    "    logging.info(\"xfer Thread %s: starting\", row)\n",
    "    series = kdf.loc[row]\n",
    "    for i in range(1,4):\n",
    "        logging.info(\"sending %s\", series[i])\n",
    "        wget_to_s3(series[i])\n",
    "    \n",
    "    #time.sleep(2)\n",
    "    end = time.time()\n",
    "    delta = end - start\n",
    "    logging.info(\"Thread %s: finishing in %d seconds\", row, math.trunc(delta))"
   ]
  },
  {
   "cell_type": "code",
   "execution_count": 30,
   "id": "e4ac5546",
   "metadata": {},
   "outputs": [],
   "source": [
    "#xfer_function_caller(8)"
   ]
  },
  {
   "cell_type": "code",
   "execution_count": 31,
   "id": "2655e8b7",
   "metadata": {},
   "outputs": [
    {
     "name": "stdout",
     "output_type": "stream",
     "text": [
      "\r\n",
      "Total Objects: 0\r\n",
      "   Total Size: 0\r\n"
     ]
    }
   ],
   "source": [
    "! aws s3 ls dev-et-data/smartTE/sentinel --recur --sum"
   ]
  },
  {
   "cell_type": "code",
   "execution_count": 32,
   "id": "9f79f55a",
   "metadata": {},
   "outputs": [
    {
     "data": {
      "text/plain": [
       "147"
      ]
     },
     "execution_count": 32,
     "metadata": {},
     "output_type": "execute_result"
    }
   ],
   "source": [
    "total_scenes = len(items_s2)\n",
    "total_scenes"
   ]
  },
  {
   "cell_type": "code",
   "execution_count": 33,
   "id": "781fcbc8",
   "metadata": {},
   "outputs": [
    {
     "name": "stderr",
     "output_type": "stream",
     "text": [
      "03:12:01: xfer Thread 0: starting\n",
      "03:12:01: xfer Thread 1: starting\n",
      "03:12:01: sending https://sentinel-cogs.s3.us-west-2.amazonaws.com/sentinel-s2-l2a-cogs/11/S/PC/2020/12/S2A_11SPC_20201231_0_L2A/B04.tif\n",
      "03:12:01: xfer Thread 2: starting\n",
      "03:12:01: sending https://sentinel-cogs.s3.us-west-2.amazonaws.com/sentinel-s2-l2a-cogs/11/S/PC/2020/12/S2B_11SPC_20201229_0_L2A/B04.tif\n",
      "03:12:01: xfer Thread 3: starting\n"
     ]
    },
    {
     "name": "stdout",
     "output_type": "stream",
     "text": [
      "wget this: %s https://sentinel-cogs.s3.us-west-2.amazonaws.com/sentinel-s2-l2a-cogs/11/S/PC/2020/12/S2A_11SPC_20201231_0_L2A/B04.tif\n",
      "wget -nv -O- https://sentinel-cogs.s3.us-west-2.amazonaws.com/sentinel-s2-l2a-cogs/11/S/PC/2020/12/S2A_11SPC_20201231_0_L2A/B04.tif | aws s3 cp - s3://dev-et-data/usmart/RIO/sentinel-s2-l2a-cogs/\n",
      "S2A_11SPC_20201231_0_L2A_B04.tif\n",
      "wget -nv -O- https://sentinel-cogs.s3.us-west-2.amazonaws.com/sentinel-s2-l2a-cogs/11/S/PC/2020/12/S2A_11SPC_20201231_0_L2A/B04.tif | aws s3 cp - s3://dev-et-data/usmart/RIO/sentinel-s2-l2a-cogs/S2A_11SPC_20201231_0_L2A_B04.tif\n",
      "wget this: %s https://sentinel-cogs.s3.us-west-2.amazonaws.com/sentinel-s2-l2a-cogs/11/S/PC/2020/12/S2B_11SPC_20201229_0_L2A/B04.tif\n",
      "wget -nv -O- https://sentinel-cogs.s3.us-west-2.amazonaws.com/sentinel-s2-l2a-cogs/11/S/PC/2020/12/S2B_11SPC_20201229_0_L2A/B04.tif | aws s3 cp - s3://dev-et-data/usmart/RIO/sentinel-s2-l2a-cogs/\n",
      "S2B_11SPC_20201229_0_L2A_B04.tif\n",
      "wget -nv -O- https://sentinel-cogs.s3.us-west-2.amazonaws.com/sentinel-s2-l2a-cogs/11/S/PC/2020/12/S2B_11SPC_20201229_0_L2A/B04.tif | aws s3 cp - s3://dev-et-data/usmart/RIO/sentinel-s2-l2a-cogs/S2B_11SPC_20201229_0_L2A_B04.tif\n"
     ]
    },
    {
     "name": "stderr",
     "output_type": "stream",
     "text": [
      "03:12:01: xfer Thread 4: starting\n",
      "03:12:01: xfer Thread 5: starting\n",
      "03:12:01: xfer Thread 6: starting\n",
      "03:12:01: xfer Thread 7: starting\n",
      "03:12:01: xfer Thread 8: starting\n",
      "03:12:01: sending https://sentinel-cogs.s3.us-west-2.amazonaws.com/sentinel-s2-l2a-cogs/11/S/PC/2020/12/S2A_11SPC_20201211_0_L2A/B04.tif\n",
      "03:12:01: xfer Thread 10: starting\n",
      "03:12:01: xfer Thread 11: starting\n",
      "03:12:01: sending https://sentinel-cogs.s3.us-west-2.amazonaws.com/sentinel-s2-l2a-cogs/11/S/PC/2020/12/S2B_11SPC_20201226_0_L2A/B04.tif\n",
      "03:12:01: xfer Thread 12: starting\n",
      "03:12:01: xfer Thread 13: starting\n",
      "03:12:01: xfer Thread 14: starting\n"
     ]
    },
    {
     "name": "stdout",
     "output_type": "stream",
     "text": [
      "wget this: %s https://sentinel-cogs.s3.us-west-2.amazonaws.com/sentinel-s2-l2a-cogs/11/S/PC/2020/12/S2A_11SPC_20201211_0_L2A/B04.tif\n",
      "wget -nv -O- https://sentinel-cogs.s3.us-west-2.amazonaws.com/sentinel-s2-l2a-cogs/11/S/PC/2020/12/S2A_11SPC_20201211_0_L2A/B04.tif | aws s3 cp - s3://dev-et-data/usmart/RIO/sentinel-s2-l2a-cogs/\n",
      "S2A_11SPC_20201211_0_L2A_B04.tif\n",
      "wget -nv -O- https://sentinel-cogs.s3.us-west-2.amazonaws.com/sentinel-s2-l2a-cogs/11/S/PC/2020/12/S2A_11SPC_20201211_0_L2A/B04.tif | aws s3 cp - s3://dev-et-data/usmart/RIO/sentinel-s2-l2a-cogs/S2A_11SPC_20201211_0_L2A_B04.tif\n",
      "wget this: %s https://sentinel-cogs.s3.us-west-2.amazonaws.com/sentinel-s2-l2a-cogs/11/S/PC/2020/12/S2B_11SPC_20201226_0_L2A/B04.tif\n",
      "wget -nv -O- https://sentinel-cogs.s3.us-west-2.amazonaws.com/sentinel-s2-l2a-cogs/11/S/PC/2020/12/S2B_11SPC_20201226_0_L2A/B04.tif | aws s3 cp - s3://dev-et-data/usmart/RIO/sentinel-s2-l2a-cogs/\n",
      "S2B_11SPC_20201226_0_L2A_B04.tif\n",
      "wget -nv -O- https://sentinel-cogs.s3.us-west-2.amazonaws.com/sentinel-s2-l2a-cogs/11/S/PC/2020/12/S2B_11SPC_20201226_0_L2A/B04.tif | aws s3 cp - s3://dev-et-data/usmart/RIO/sentinel-s2-l2a-cogs/S2B_11SPC_20201226_0_L2A_B04.tif\n"
     ]
    },
    {
     "name": "stderr",
     "output_type": "stream",
     "text": [
      "03:12:01: sending https://sentinel-cogs.s3.us-west-2.amazonaws.com/sentinel-s2-l2a-cogs/11/S/PC/2020/11/S2B_11SPC_20201126_0_L2A/B04.tif\n",
      "03:12:01: sending https://sentinel-cogs.s3.us-west-2.amazonaws.com/sentinel-s2-l2a-cogs/11/S/PC/2020/12/S2A_11SPC_20201224_0_L2A/B04.tif\n",
      "03:12:01: sending https://sentinel-cogs.s3.us-west-2.amazonaws.com/sentinel-s2-l2a-cogs/11/S/PC/2020/12/S2A_11SPC_20201221_0_L2A/B04.tif\n",
      "03:12:01: sending https://sentinel-cogs.s3.us-west-2.amazonaws.com/sentinel-s2-l2a-cogs/11/S/PC/2020/12/S2B_11SPC_20201219_0_L2A/B04.tif\n",
      "03:12:01: sending https://sentinel-cogs.s3.us-west-2.amazonaws.com/sentinel-s2-l2a-cogs/11/S/PC/2020/12/S2B_11SPC_20201216_0_L2A/B04.tif\n",
      "03:12:01: sending https://sentinel-cogs.s3.us-west-2.amazonaws.com/sentinel-s2-l2a-cogs/11/S/PC/2020/12/S2A_11SPC_20201214_0_L2A/B04.tif\n",
      "03:12:01: xfer Thread 9: starting\n",
      "03:12:01: sending https://sentinel-cogs.s3.us-west-2.amazonaws.com/sentinel-s2-l2a-cogs/11/S/PC/2020/12/S2B_11SPC_20201206_0_L2A/B04.tif\n",
      "03:12:01: sending https://sentinel-cogs.s3.us-west-2.amazonaws.com/sentinel-s2-l2a-cogs/11/S/PC/2020/12/S2A_11SPC_20201204_0_L2A/B04.tif\n",
      "03:12:01: sending https://sentinel-cogs.s3.us-west-2.amazonaws.com/sentinel-s2-l2a-cogs/11/S/PC/2020/12/S2A_11SPC_20201201_0_L2A/B04.tif\n",
      "03:12:01: sending https://sentinel-cogs.s3.us-west-2.amazonaws.com/sentinel-s2-l2a-cogs/11/S/PC/2020/11/S2B_11SPC_20201129_0_L2A/B04.tif\n",
      "03:12:01: Initial Threads executor: strted - i think i am waiting before any others\n",
      "03:12:01: sending https://sentinel-cogs.s3.us-west-2.amazonaws.com/sentinel-s2-l2a-cogs/11/S/PC/2020/12/S2B_11SPC_20201209_0_L2A/B04.tif\n"
     ]
    },
    {
     "name": "stdout",
     "output_type": "stream",
     "text": [
      "wget this: %s https://sentinel-cogs.s3.us-west-2.amazonaws.com/sentinel-s2-l2a-cogs/11/S/PC/2020/11/S2B_11SPC_20201126_0_L2A/B04.tif\n",
      "wget -nv -O- https://sentinel-cogs.s3.us-west-2.amazonaws.com/sentinel-s2-l2a-cogs/11/S/PC/2020/11/S2B_11SPC_20201126_0_L2A/B04.tif | aws s3 cp - s3://dev-et-data/usmart/RIO/sentinel-s2-l2a-cogs/\n",
      "S2B_11SPC_20201126_0_L2A_B04.tif\n",
      "wget -nv -O- https://sentinel-cogs.s3.us-west-2.amazonaws.com/sentinel-s2-l2a-cogs/11/S/PC/2020/11/S2B_11SPC_20201126_0_L2A/B04.tif | aws s3 cp - s3://dev-et-data/usmart/RIO/sentinel-s2-l2a-cogs/S2B_11SPC_20201126_0_L2A_B04.tif\n",
      "wget this: %s https://sentinel-cogs.s3.us-west-2.amazonaws.com/sentinel-s2-l2a-cogs/11/S/PC/2020/12/S2A_11SPC_20201224_0_L2A/B04.tif\n",
      "wget -nv -O- https://sentinel-cogs.s3.us-west-2.amazonaws.com/sentinel-s2-l2a-cogs/11/S/PC/2020/12/S2A_11SPC_20201224_0_L2A/B04.tif | aws s3 cp - s3://dev-et-data/usmart/RIO/sentinel-s2-l2a-cogs/\n",
      "S2A_11SPC_20201224_0_L2A_B04.tif\n",
      "wget -nv -O- https://sentinel-cogs.s3.us-west-2.amazonaws.com/sentinel-s2-l2a-cogs/11/S/PC/2020/12/S2A_11SPC_20201224_0_L2A/B04.tif | aws s3 cp - s3://dev-et-data/usmart/RIO/sentinel-s2-l2a-cogs/S2A_11SPC_20201224_0_L2A_B04.tif\n",
      "wget this: %s https://sentinel-cogs.s3.us-west-2.amazonaws.com/sentinel-s2-l2a-cogs/11/S/PC/2020/12/S2A_11SPC_20201221_0_L2A/B04.tif\n",
      "wget -nv -O- https://sentinel-cogs.s3.us-west-2.amazonaws.com/sentinel-s2-l2a-cogs/11/S/PC/2020/12/S2A_11SPC_20201221_0_L2A/B04.tif | aws s3 cp - s3://dev-et-data/usmart/RIO/sentinel-s2-l2a-cogs/\n",
      "S2A_11SPC_20201221_0_L2A_B04.tif\n",
      "wget -nv -O- https://sentinel-cogs.s3.us-west-2.amazonaws.com/sentinel-s2-l2a-cogs/11/S/PC/2020/12/S2A_11SPC_20201221_0_L2A/B04.tif | aws s3 cp - s3://dev-et-data/usmart/RIO/sentinel-s2-l2a-cogs/S2A_11SPC_20201221_0_L2A_B04.tif\n",
      "wget this: %s https://sentinel-cogs.s3.us-west-2.amazonaws.com/sentinel-s2-l2a-cogs/11/S/PC/2020/12/S2B_11SPC_20201219_0_L2A/B04.tif\n",
      "wget -nv -O- https://sentinel-cogs.s3.us-west-2.amazonaws.com/sentinel-s2-l2a-cogs/11/S/PC/2020/12/S2B_11SPC_20201219_0_L2A/B04.tif | aws s3 cp - s3://dev-et-data/usmart/RIO/sentinel-s2-l2a-cogs/\n",
      "S2B_11SPC_20201219_0_L2A_B04.tif\n",
      "wget -nv -O- https://sentinel-cogs.s3.us-west-2.amazonaws.com/sentinel-s2-l2a-cogs/11/S/PC/2020/12/S2B_11SPC_20201219_0_L2A/B04.tif | aws s3 cp - s3://dev-et-data/usmart/RIO/sentinel-s2-l2a-cogs/S2B_11SPC_20201219_0_L2A_B04.tif\n",
      "wget this: %s https://sentinel-cogs.s3.us-west-2.amazonaws.com/sentinel-s2-l2a-cogs/11/S/PC/2020/12/S2B_11SPC_20201216_0_L2A/B04.tif\n",
      "wget -nv -O- https://sentinel-cogs.s3.us-west-2.amazonaws.com/sentinel-s2-l2a-cogs/11/S/PC/2020/12/S2B_11SPC_20201216_0_L2A/B04.tif | aws s3 cp - s3://dev-et-data/usmart/RIO/sentinel-s2-l2a-cogs/\n",
      "S2B_11SPC_20201216_0_L2A_B04.tif\n",
      "wget -nv -O- https://sentinel-cogs.s3.us-west-2.amazonaws.com/sentinel-s2-l2a-cogs/11/S/PC/2020/12/S2B_11SPC_20201216_0_L2A/B04.tif | aws s3 cp - s3://dev-et-data/usmart/RIO/sentinel-s2-l2a-cogs/S2B_11SPC_20201216_0_L2A_B04.tif\n",
      "wget this: %s https://sentinel-cogs.s3.us-west-2.amazonaws.com/sentinel-s2-l2a-cogs/11/S/PC/2020/12/S2A_11SPC_20201214_0_L2A/B04.tif\n",
      "wget -nv -O- https://sentinel-cogs.s3.us-west-2.amazonaws.com/sentinel-s2-l2a-cogs/11/S/PC/2020/12/S2A_11SPC_20201214_0_L2A/B04.tif | aws s3 cp - s3://dev-et-data/usmart/RIO/sentinel-s2-l2a-cogs/\n",
      "S2A_11SPC_20201214_0_L2A_B04.tif\n",
      "wget -nv -O- https://sentinel-cogs.s3.us-west-2.amazonaws.com/sentinel-s2-l2a-cogs/11/S/PC/2020/12/S2A_11SPC_20201214_0_L2A/B04.tif | aws s3 cp - s3://dev-et-data/usmart/RIO/sentinel-s2-l2a-cogs/S2A_11SPC_20201214_0_L2A_B04.tif\n",
      "wget this: %s https://sentinel-cogs.s3.us-west-2.amazonaws.com/sentinel-s2-l2a-cogs/11/S/PC/2020/12/S2B_11SPC_20201206_0_L2A/B04.tif\n",
      "wget -nv -O- https://sentinel-cogs.s3.us-west-2.amazonaws.com/sentinel-s2-l2a-cogs/11/S/PC/2020/12/S2B_11SPC_20201206_0_L2A/B04.tif | aws s3 cp - s3://dev-et-data/usmart/RIO/sentinel-s2-l2a-cogs/\n",
      "S2B_11SPC_20201206_0_L2A_B04.tif\n",
      "wget -nv -O- https://sentinel-cogs.s3.us-west-2.amazonaws.com/sentinel-s2-l2a-cogs/11/S/PC/2020/12/S2B_11SPC_20201206_0_L2A/B04.tif | aws s3 cp - s3://dev-et-data/usmart/RIO/sentinel-s2-l2a-cogs/S2B_11SPC_20201206_0_L2A_B04.tif\n",
      "wget this: %s https://sentinel-cogs.s3.us-west-2.amazonaws.com/sentinel-s2-l2a-cogs/11/S/PC/2020/12/S2A_11SPC_20201204_0_L2A/B04.tif\n",
      "wget -nv -O- https://sentinel-cogs.s3.us-west-2.amazonaws.com/sentinel-s2-l2a-cogs/11/S/PC/2020/12/S2A_11SPC_20201204_0_L2A/B04.tif | aws s3 cp - s3://dev-et-data/usmart/RIO/sentinel-s2-l2a-cogs/\n",
      "S2A_11SPC_20201204_0_L2A_B04.tif\n",
      "wget -nv -O- https://sentinel-cogs.s3.us-west-2.amazonaws.com/sentinel-s2-l2a-cogs/11/S/PC/2020/12/S2A_11SPC_20201204_0_L2A/B04.tif | aws s3 cp - s3://dev-et-data/usmart/RIO/sentinel-s2-l2a-cogs/S2A_11SPC_20201204_0_L2A_B04.tif\n",
      "wget this: %s https://sentinel-cogs.s3.us-west-2.amazonaws.com/sentinel-s2-l2a-cogs/11/S/PC/2020/12/S2A_11SPC_20201201_0_L2A/B04.tif\n",
      "wget -nv -O- https://sentinel-cogs.s3.us-west-2.amazonaws.com/sentinel-s2-l2a-cogs/11/S/PC/2020/12/S2A_11SPC_20201201_0_L2A/B04.tif | aws s3 cp - s3://dev-et-data/usmart/RIO/sentinel-s2-l2a-cogs/\n",
      "S2A_11SPC_20201201_0_L2A_B04.tif\n",
      "wget -nv -O- https://sentinel-cogs.s3.us-west-2.amazonaws.com/sentinel-s2-l2a-cogs/11/S/PC/2020/12/S2A_11SPC_20201201_0_L2A/B04.tif | aws s3 cp - s3://dev-et-data/usmart/RIO/sentinel-s2-l2a-cogs/S2A_11SPC_20201201_0_L2A_B04.tif\n",
      "wget this: %s https://sentinel-cogs.s3.us-west-2.amazonaws.com/sentinel-s2-l2a-cogs/11/S/PC/2020/11/S2B_11SPC_20201129_0_L2A/B04.tif\n",
      "wget -nv -O- https://sentinel-cogs.s3.us-west-2.amazonaws.com/sentinel-s2-l2a-cogs/11/S/PC/2020/11/S2B_11SPC_20201129_0_L2A/B04.tif | aws s3 cp - s3://dev-et-data/usmart/RIO/sentinel-s2-l2a-cogs/\n",
      "S2B_11SPC_20201129_0_L2A_B04.tif\n",
      "wget -nv -O- https://sentinel-cogs.s3.us-west-2.amazonaws.com/sentinel-s2-l2a-cogs/11/S/PC/2020/11/S2B_11SPC_20201129_0_L2A/B04.tif | aws s3 cp - s3://dev-et-data/usmart/RIO/sentinel-s2-l2a-cogs/S2B_11SPC_20201129_0_L2A_B04.tif\n",
      "wget this: %s https://sentinel-cogs.s3.us-west-2.amazonaws.com/sentinel-s2-l2a-cogs/11/S/PC/2020/12/S2B_11SPC_20201209_0_L2A/B04.tif\n",
      "wget -nv -O- https://sentinel-cogs.s3.us-west-2.amazonaws.com/sentinel-s2-l2a-cogs/11/S/PC/2020/12/S2B_11SPC_20201209_0_L2A/B04.tif | aws s3 cp - s3://dev-et-data/usmart/RIO/sentinel-s2-l2a-cogs/\n",
      "S2B_11SPC_20201209_0_L2A_B04.tif\n",
      "wget -nv -O- https://sentinel-cogs.s3.us-west-2.amazonaws.com/sentinel-s2-l2a-cogs/11/S/PC/2020/12/S2B_11SPC_20201209_0_L2A/B04.tif | aws s3 cp - s3://dev-et-data/usmart/RIO/sentinel-s2-l2a-cogs/S2B_11SPC_20201209_0_L2A_B04.tif\n"
     ]
    },
    {
     "name": "stderr",
     "output_type": "stream",
     "text": [
      "2021-09-23 03:12:09 URL:https://sentinel-cogs.s3.us-west-2.amazonaws.com/sentinel-s2-l2a-cogs/11/S/PC/2020/12/S2A_11SPC_20201214_0_L2A/B04.tif [171272539/171272539] -> \"-\" [1]\n",
      "2021-09-23 03:12:09 URL:https://sentinel-cogs.s3.us-west-2.amazonaws.com/sentinel-s2-l2a-cogs/11/S/PC/2020/12/S2A_11SPC_20201224_0_L2A/B04.tif [159465870/159465870] -> \"-\" [1]\n",
      "2021-09-23 03:12:10 URL:https://sentinel-cogs.s3.us-west-2.amazonaws.com/sentinel-s2-l2a-cogs/11/S/PC/2020/12/S2A_11SPC_20201231_0_L2A/B04.tif [235791257/235791257] -> \"-\" [1]\n",
      "03:12:10: sending https://sentinel-cogs.s3.us-west-2.amazonaws.com/sentinel-s2-l2a-cogs/11/S/PC/2020/12/S2A_11SPC_20201224_0_L2A/B03.tif\n",
      "03:12:10: sending https://sentinel-cogs.s3.us-west-2.amazonaws.com/sentinel-s2-l2a-cogs/11/S/PC/2020/12/S2A_11SPC_20201214_0_L2A/B03.tif\n"
     ]
    },
    {
     "name": "stdout",
     "output_type": "stream",
     "text": [
      "\n",
      "\n",
      "wget this: %s https://sentinel-cogs.s3.us-west-2.amazonaws.com/sentinel-s2-l2a-cogs/11/S/PC/2020/12/S2A_11SPC_20201224_0_L2A/B03.tif\n",
      "wget -nv -O- https://sentinel-cogs.s3.us-west-2.amazonaws.com/sentinel-s2-l2a-cogs/11/S/PC/2020/12/S2A_11SPC_20201224_0_L2A/B03.tif | aws s3 cp - s3://dev-et-data/usmart/RIO/sentinel-s2-l2a-cogs/\n",
      "S2A_11SPC_20201224_0_L2A_B03.tif\n",
      "wget -nv -O- https://sentinel-cogs.s3.us-west-2.amazonaws.com/sentinel-s2-l2a-cogs/11/S/PC/2020/12/S2A_11SPC_20201224_0_L2A/B03.tif | aws s3 cp - s3://dev-et-data/usmart/RIO/sentinel-s2-l2a-cogs/S2A_11SPC_20201224_0_L2A_B03.tif\n",
      "\n",
      "\n",
      "wget this: %s https://sentinel-cogs.s3.us-west-2.amazonaws.com/sentinel-s2-l2a-cogs/11/S/PC/2020/12/S2A_11SPC_20201214_0_L2A/B03.tif\n",
      "wget -nv -O- https://sentinel-cogs.s3.us-west-2.amazonaws.com/sentinel-s2-l2a-cogs/11/S/PC/2020/12/S2A_11SPC_20201214_0_L2A/B03.tif | aws s3 cp - s3://dev-et-data/usmart/RIO/sentinel-s2-l2a-cogs/\n",
      "S2A_11SPC_20201214_0_L2A_B03.tif\n",
      "wget -nv -O- https://sentinel-cogs.s3.us-west-2.amazonaws.com/sentinel-s2-l2a-cogs/11/S/PC/2020/12/S2A_11SPC_20201214_0_L2A/B03.tif | aws s3 cp - s3://dev-et-data/usmart/RIO/sentinel-s2-l2a-cogs/S2A_11SPC_20201214_0_L2A_B03.tif\n"
     ]
    },
    {
     "name": "stderr",
     "output_type": "stream",
     "text": [
      "2021-09-23 03:12:10 URL:https://sentinel-cogs.s3.us-west-2.amazonaws.com/sentinel-s2-l2a-cogs/11/S/PC/2020/12/S2A_11SPC_20201204_0_L2A/B04.tif [172034841/172034841] -> \"-\" [1]\n",
      "2021-09-23 03:12:10 URL:https://sentinel-cogs.s3.us-west-2.amazonaws.com/sentinel-s2-l2a-cogs/11/S/PC/2020/12/S2B_11SPC_20201226_0_L2A/B04.tif [214341094/214341094] -> \"-\" [1]\n",
      "2021-09-23 03:12:10 URL:https://sentinel-cogs.s3.us-west-2.amazonaws.com/sentinel-s2-l2a-cogs/11/S/PC/2020/12/S2A_11SPC_20201221_0_L2A/B04.tif [216238502/216238502] -> \"-\" [1]\n",
      "2021-09-23 03:12:11 URL:https://sentinel-cogs.s3.us-west-2.amazonaws.com/sentinel-s2-l2a-cogs/11/S/PC/2020/12/S2B_11SPC_20201229_0_L2A/B04.tif [183907430/183907430] -> \"-\" [1]\n",
      "2021-09-23 03:12:11 URL:https://sentinel-cogs.s3.us-west-2.amazonaws.com/sentinel-s2-l2a-cogs/11/S/PC/2020/12/S2B_11SPC_20201206_0_L2A/B04.tif [210982200/210982200] -> \"-\" [1]\n",
      "2021-09-23 03:12:11 URL:https://sentinel-cogs.s3.us-west-2.amazonaws.com/sentinel-s2-l2a-cogs/11/S/PC/2020/11/S2B_11SPC_20201129_0_L2A/B04.tif [171983419/171983419] -> \"-\" [1]\n",
      "2021-09-23 03:12:11 URL:https://sentinel-cogs.s3.us-west-2.amazonaws.com/sentinel-s2-l2a-cogs/11/S/PC/2020/11/S2B_11SPC_20201126_0_L2A/B04.tif [213428870/213428870] -> \"-\" [1]\n",
      "03:12:11: sending https://sentinel-cogs.s3.us-west-2.amazonaws.com/sentinel-s2-l2a-cogs/11/S/PC/2020/12/S2A_11SPC_20201231_0_L2A/B03.tif\n",
      "03:12:11: sending https://sentinel-cogs.s3.us-west-2.amazonaws.com/sentinel-s2-l2a-cogs/11/S/PC/2020/12/S2B_11SPC_20201226_0_L2A/B03.tif\n",
      "03:12:11: sending https://sentinel-cogs.s3.us-west-2.amazonaws.com/sentinel-s2-l2a-cogs/11/S/PC/2020/12/S2A_11SPC_20201221_0_L2A/B03.tif\n"
     ]
    },
    {
     "name": "stdout",
     "output_type": "stream",
     "text": [
      "\n",
      "\n",
      "wget this: %s https://sentinel-cogs.s3.us-west-2.amazonaws.com/sentinel-s2-l2a-cogs/11/S/PC/2020/12/S2A_11SPC_20201231_0_L2A/B03.tif\n",
      "wget -nv -O- https://sentinel-cogs.s3.us-west-2.amazonaws.com/sentinel-s2-l2a-cogs/11/S/PC/2020/12/S2A_11SPC_20201231_0_L2A/B03.tif | aws s3 cp - s3://dev-et-data/usmart/RIO/sentinel-s2-l2a-cogs/\n",
      "S2A_11SPC_20201231_0_L2A_B03.tif\n",
      "wget -nv -O- https://sentinel-cogs.s3.us-west-2.amazonaws.com/sentinel-s2-l2a-cogs/11/S/PC/2020/12/S2A_11SPC_20201231_0_L2A/B03.tif | aws s3 cp - s3://dev-et-data/usmart/RIO/sentinel-s2-l2a-cogs/S2A_11SPC_20201231_0_L2A_B03.tif\n",
      "\n",
      "\n",
      "wget this: %s https://sentinel-cogs.s3.us-west-2.amazonaws.com/sentinel-s2-l2a-cogs/11/S/PC/2020/12/S2B_11SPC_20201226_0_L2A/B03.tif\n",
      "wget -nv -O- https://sentinel-cogs.s3.us-west-2.amazonaws.com/sentinel-s2-l2a-cogs/11/S/PC/2020/12/S2B_11SPC_20201226_0_L2A/B03.tif | aws s3 cp - s3://dev-et-data/usmart/RIO/sentinel-s2-l2a-cogs/\n",
      "S2B_11SPC_20201226_0_L2A_B03.tif\n",
      "wget -nv -O- https://sentinel-cogs.s3.us-west-2.amazonaws.com/sentinel-s2-l2a-cogs/11/S/PC/2020/12/S2B_11SPC_20201226_0_L2A/B03.tif | aws s3 cp - s3://dev-et-data/usmart/RIO/sentinel-s2-l2a-cogs/S2B_11SPC_20201226_0_L2A_B03.tif\n",
      "\n",
      "\n",
      "wget this: %s https://sentinel-cogs.s3.us-west-2.amazonaws.com/sentinel-s2-l2a-cogs/11/S/PC/2020/12/S2A_11SPC_20201221_0_L2A/B03.tif\n",
      "wget -nv -O- https://sentinel-cogs.s3.us-west-2.amazonaws.com/sentinel-s2-l2a-cogs/11/S/PC/2020/12/S2A_11SPC_20201221_0_L2A/B03.tif | aws s3 cp - s3://dev-et-data/usmart/RIO/sentinel-s2-l2a-cogs/\n",
      "S2A_11SPC_20201221_0_L2A_B03.tif\n",
      "wget -nv -O- https://sentinel-cogs.s3.us-west-2.amazonaws.com/sentinel-s2-l2a-cogs/11/S/PC/2020/12/S2A_11SPC_20201221_0_L2A/B03.tif | aws s3 cp - s3://dev-et-data/usmart/RIO/sentinel-s2-l2a-cogs/S2A_11SPC_20201221_0_L2A_B03.tif\n"
     ]
    },
    {
     "name": "stderr",
     "output_type": "stream",
     "text": [
      "03:12:11: sending https://sentinel-cogs.s3.us-west-2.amazonaws.com/sentinel-s2-l2a-cogs/11/S/PC/2020/12/S2A_11SPC_20201204_0_L2A/B03.tif\n",
      "2021-09-23 03:12:11 URL:https://sentinel-cogs.s3.us-west-2.amazonaws.com/sentinel-s2-l2a-cogs/11/S/PC/2020/12/S2A_11SPC_20201201_0_L2A/B04.tif [213579405/213579405] -> \"-\" [1]\n",
      "03:12:12: sending https://sentinel-cogs.s3.us-west-2.amazonaws.com/sentinel-s2-l2a-cogs/11/S/PC/2020/12/S2B_11SPC_20201229_0_L2A/B03.tif\n"
     ]
    },
    {
     "name": "stdout",
     "output_type": "stream",
     "text": [
      "\n",
      "\n",
      "wget this: %s https://sentinel-cogs.s3.us-west-2.amazonaws.com/sentinel-s2-l2a-cogs/11/S/PC/2020/12/S2A_11SPC_20201204_0_L2A/B03.tif\n",
      "wget -nv -O- https://sentinel-cogs.s3.us-west-2.amazonaws.com/sentinel-s2-l2a-cogs/11/S/PC/2020/12/S2A_11SPC_20201204_0_L2A/B03.tif | aws s3 cp - s3://dev-et-data/usmart/RIO/sentinel-s2-l2a-cogs/\n",
      "S2A_11SPC_20201204_0_L2A_B03.tif\n",
      "wget -nv -O- https://sentinel-cogs.s3.us-west-2.amazonaws.com/sentinel-s2-l2a-cogs/11/S/PC/2020/12/S2A_11SPC_20201204_0_L2A/B03.tif | aws s3 cp - s3://dev-et-data/usmart/RIO/sentinel-s2-l2a-cogs/S2A_11SPC_20201204_0_L2A_B03.tif\n",
      "\n",
      "\n",
      "wget this: %s https://sentinel-cogs.s3.us-west-2.amazonaws.com/sentinel-s2-l2a-cogs/11/S/PC/2020/12/S2B_11SPC_20201229_0_L2A/B03.tif\n",
      "wget -nv -O- https://sentinel-cogs.s3.us-west-2.amazonaws.com/sentinel-s2-l2a-cogs/11/S/PC/2020/12/S2B_11SPC_20201229_0_L2A/B03.tif | aws s3 cp - s3://dev-et-data/usmart/RIO/sentinel-s2-l2a-cogs/\n",
      "S2B_11SPC_20201229_0_L2A_B03.tif\n",
      "wget -nv -O- https://sentinel-cogs.s3.us-west-2.amazonaws.com/sentinel-s2-l2a-cogs/11/S/PC/2020/12/S2B_11SPC_20201229_0_L2A/B03.tif | aws s3 cp - s3://dev-et-data/usmart/RIO/sentinel-s2-l2a-cogs/S2B_11SPC_20201229_0_L2A_B03.tif\n"
     ]
    },
    {
     "name": "stderr",
     "output_type": "stream",
     "text": [
      "2021-09-23 03:12:12 URL:https://sentinel-cogs.s3.us-west-2.amazonaws.com/sentinel-s2-l2a-cogs/11/S/PC/2020/12/S2A_11SPC_20201211_0_L2A/B04.tif [211631598/211631598] -> \"-\" [1]\n",
      "03:12:12: sending https://sentinel-cogs.s3.us-west-2.amazonaws.com/sentinel-s2-l2a-cogs/11/S/PC/2020/12/S2B_11SPC_20201206_0_L2A/B03.tif\n",
      "03:12:12: sending https://sentinel-cogs.s3.us-west-2.amazonaws.com/sentinel-s2-l2a-cogs/11/S/PC/2020/11/S2B_11SPC_20201126_0_L2A/B03.tif\n"
     ]
    },
    {
     "name": "stdout",
     "output_type": "stream",
     "text": [
      "\n",
      "\n",
      "wget this: %s https://sentinel-cogs.s3.us-west-2.amazonaws.com/sentinel-s2-l2a-cogs/11/S/PC/2020/12/S2B_11SPC_20201206_0_L2A/B03.tif\n",
      "wget -nv -O- https://sentinel-cogs.s3.us-west-2.amazonaws.com/sentinel-s2-l2a-cogs/11/S/PC/2020/12/S2B_11SPC_20201206_0_L2A/B03.tif | aws s3 cp - s3://dev-et-data/usmart/RIO/sentinel-s2-l2a-cogs/\n",
      "S2B_11SPC_20201206_0_L2A_B03.tif\n",
      "wget -nv -O- https://sentinel-cogs.s3.us-west-2.amazonaws.com/sentinel-s2-l2a-cogs/11/S/PC/2020/12/S2B_11SPC_20201206_0_L2A/B03.tif | aws s3 cp - s3://dev-et-data/usmart/RIO/sentinel-s2-l2a-cogs/S2B_11SPC_20201206_0_L2A_B03.tif\n",
      "\n",
      "\n",
      "wget this: %s https://sentinel-cogs.s3.us-west-2.amazonaws.com/sentinel-s2-l2a-cogs/11/S/PC/2020/11/S2B_11SPC_20201126_0_L2A/B03.tif\n",
      "wget -nv -O- https://sentinel-cogs.s3.us-west-2.amazonaws.com/sentinel-s2-l2a-cogs/11/S/PC/2020/11/S2B_11SPC_20201126_0_L2A/B03.tif | aws s3 cp - s3://dev-et-data/usmart/RIO/sentinel-s2-l2a-cogs/\n",
      "S2B_11SPC_20201126_0_L2A_B03.tif\n",
      "wget -nv -O- https://sentinel-cogs.s3.us-west-2.amazonaws.com/sentinel-s2-l2a-cogs/11/S/PC/2020/11/S2B_11SPC_20201126_0_L2A/B03.tif | aws s3 cp - s3://dev-et-data/usmart/RIO/sentinel-s2-l2a-cogs/S2B_11SPC_20201126_0_L2A_B03.tif\n"
     ]
    },
    {
     "name": "stderr",
     "output_type": "stream",
     "text": [
      "03:12:12: sending https://sentinel-cogs.s3.us-west-2.amazonaws.com/sentinel-s2-l2a-cogs/11/S/PC/2020/11/S2B_11SPC_20201129_0_L2A/B03.tif\n",
      "03:12:12: sending https://sentinel-cogs.s3.us-west-2.amazonaws.com/sentinel-s2-l2a-cogs/11/S/PC/2020/12/S2A_11SPC_20201201_0_L2A/B03.tif\n"
     ]
    },
    {
     "name": "stdout",
     "output_type": "stream",
     "text": [
      "\n",
      "\n",
      "\n",
      "\n",
      "wget this: %s https://sentinel-cogs.s3.us-west-2.amazonaws.com/sentinel-s2-l2a-cogs/11/S/PC/2020/11/S2B_11SPC_20201129_0_L2A/B03.tif\n",
      "wget -nv -O- https://sentinel-cogs.s3.us-west-2.amazonaws.com/sentinel-s2-l2a-cogs/11/S/PC/2020/11/S2B_11SPC_20201129_0_L2A/B03.tif | aws s3 cp - s3://dev-et-data/usmart/RIO/sentinel-s2-l2a-cogs/\n",
      "S2B_11SPC_20201129_0_L2A_B03.tif\n",
      "wget -nv -O- https://sentinel-cogs.s3.us-west-2.amazonaws.com/sentinel-s2-l2a-cogs/11/S/PC/2020/11/S2B_11SPC_20201129_0_L2A/B03.tif | aws s3 cp - s3://dev-et-data/usmart/RIO/sentinel-s2-l2a-cogs/S2B_11SPC_20201129_0_L2A_B03.tif\n",
      "wget this: %s https://sentinel-cogs.s3.us-west-2.amazonaws.com/sentinel-s2-l2a-cogs/11/S/PC/2020/12/S2A_11SPC_20201201_0_L2A/B03.tif\n",
      "wget -nv -O- https://sentinel-cogs.s3.us-west-2.amazonaws.com/sentinel-s2-l2a-cogs/11/S/PC/2020/12/S2A_11SPC_20201201_0_L2A/B03.tif | aws s3 cp - s3://dev-et-data/usmart/RIO/sentinel-s2-l2a-cogs/\n",
      "S2A_11SPC_20201201_0_L2A_B03.tif\n",
      "wget -nv -O- https://sentinel-cogs.s3.us-west-2.amazonaws.com/sentinel-s2-l2a-cogs/11/S/PC/2020/12/S2A_11SPC_20201201_0_L2A/B03.tif | aws s3 cp - s3://dev-et-data/usmart/RIO/sentinel-s2-l2a-cogs/S2A_11SPC_20201201_0_L2A_B03.tif\n"
     ]
    },
    {
     "name": "stderr",
     "output_type": "stream",
     "text": [
      "03:12:12: sending https://sentinel-cogs.s3.us-west-2.amazonaws.com/sentinel-s2-l2a-cogs/11/S/PC/2020/12/S2A_11SPC_20201211_0_L2A/B03.tif\n"
     ]
    },
    {
     "name": "stdout",
     "output_type": "stream",
     "text": [
      "\n",
      "\n",
      "wget this: %s https://sentinel-cogs.s3.us-west-2.amazonaws.com/sentinel-s2-l2a-cogs/11/S/PC/2020/12/S2A_11SPC_20201211_0_L2A/B03.tif\n",
      "wget -nv -O- https://sentinel-cogs.s3.us-west-2.amazonaws.com/sentinel-s2-l2a-cogs/11/S/PC/2020/12/S2A_11SPC_20201211_0_L2A/B03.tif | aws s3 cp - s3://dev-et-data/usmart/RIO/sentinel-s2-l2a-cogs/\n",
      "S2A_11SPC_20201211_0_L2A_B03.tif\n",
      "wget -nv -O- https://sentinel-cogs.s3.us-west-2.amazonaws.com/sentinel-s2-l2a-cogs/11/S/PC/2020/12/S2A_11SPC_20201211_0_L2A/B03.tif | aws s3 cp - s3://dev-et-data/usmart/RIO/sentinel-s2-l2a-cogs/S2A_11SPC_20201211_0_L2A_B03.tif\n"
     ]
    },
    {
     "name": "stderr",
     "output_type": "stream",
     "text": [
      "2021-09-23 03:12:12 URL:https://sentinel-cogs.s3.us-west-2.amazonaws.com/sentinel-s2-l2a-cogs/11/S/PC/2020/12/S2B_11SPC_20201219_0_L2A/B04.tif [178270460/178270460] -> \"-\" [1]\n",
      "03:12:13: sending https://sentinel-cogs.s3.us-west-2.amazonaws.com/sentinel-s2-l2a-cogs/11/S/PC/2020/12/S2B_11SPC_20201219_0_L2A/B03.tif\n"
     ]
    },
    {
     "name": "stdout",
     "output_type": "stream",
     "text": [
      "\n",
      "\n",
      "wget this: %s https://sentinel-cogs.s3.us-west-2.amazonaws.com/sentinel-s2-l2a-cogs/11/S/PC/2020/12/S2B_11SPC_20201219_0_L2A/B03.tif\n",
      "wget -nv -O- https://sentinel-cogs.s3.us-west-2.amazonaws.com/sentinel-s2-l2a-cogs/11/S/PC/2020/12/S2B_11SPC_20201219_0_L2A/B03.tif | aws s3 cp - s3://dev-et-data/usmart/RIO/sentinel-s2-l2a-cogs/\n",
      "S2B_11SPC_20201219_0_L2A_B03.tif\n",
      "wget -nv -O- https://sentinel-cogs.s3.us-west-2.amazonaws.com/sentinel-s2-l2a-cogs/11/S/PC/2020/12/S2B_11SPC_20201219_0_L2A/B03.tif | aws s3 cp - s3://dev-et-data/usmart/RIO/sentinel-s2-l2a-cogs/S2B_11SPC_20201219_0_L2A_B03.tif\n"
     ]
    },
    {
     "name": "stderr",
     "output_type": "stream",
     "text": [
      "2021-09-23 03:12:13 URL:https://sentinel-cogs.s3.us-west-2.amazonaws.com/sentinel-s2-l2a-cogs/11/S/PC/2020/12/S2B_11SPC_20201209_0_L2A/B04.tif [171802793/171802793] -> \"-\" [1]\n",
      "2021-09-23 03:12:13 URL:https://sentinel-cogs.s3.us-west-2.amazonaws.com/sentinel-s2-l2a-cogs/11/S/PC/2020/12/S2B_11SPC_20201216_0_L2A/B04.tif [216775786/216775786] -> \"-\" [1]\n",
      "03:12:14: sending https://sentinel-cogs.s3.us-west-2.amazonaws.com/sentinel-s2-l2a-cogs/11/S/PC/2020/12/S2B_11SPC_20201209_0_L2A/B03.tif\n",
      "03:12:14: sending https://sentinel-cogs.s3.us-west-2.amazonaws.com/sentinel-s2-l2a-cogs/11/S/PC/2020/12/S2B_11SPC_20201216_0_L2A/B03.tif\n"
     ]
    },
    {
     "name": "stdout",
     "output_type": "stream",
     "text": [
      "\n",
      "\n",
      "wget this: %s https://sentinel-cogs.s3.us-west-2.amazonaws.com/sentinel-s2-l2a-cogs/11/S/PC/2020/12/S2B_11SPC_20201209_0_L2A/B03.tif\n",
      "wget -nv -O- https://sentinel-cogs.s3.us-west-2.amazonaws.com/sentinel-s2-l2a-cogs/11/S/PC/2020/12/S2B_11SPC_20201209_0_L2A/B03.tif | aws s3 cp - s3://dev-et-data/usmart/RIO/sentinel-s2-l2a-cogs/\n",
      "S2B_11SPC_20201209_0_L2A_B03.tif\n",
      "wget -nv -O- https://sentinel-cogs.s3.us-west-2.amazonaws.com/sentinel-s2-l2a-cogs/11/S/PC/2020/12/S2B_11SPC_20201209_0_L2A/B03.tif | aws s3 cp - s3://dev-et-data/usmart/RIO/sentinel-s2-l2a-cogs/S2B_11SPC_20201209_0_L2A_B03.tif\n",
      "\n",
      "\n",
      "wget this: %s https://sentinel-cogs.s3.us-west-2.amazonaws.com/sentinel-s2-l2a-cogs/11/S/PC/2020/12/S2B_11SPC_20201216_0_L2A/B03.tif\n",
      "wget -nv -O- https://sentinel-cogs.s3.us-west-2.amazonaws.com/sentinel-s2-l2a-cogs/11/S/PC/2020/12/S2B_11SPC_20201216_0_L2A/B03.tif | aws s3 cp - s3://dev-et-data/usmart/RIO/sentinel-s2-l2a-cogs/\n",
      "S2B_11SPC_20201216_0_L2A_B03.tif\n",
      "wget -nv -O- https://sentinel-cogs.s3.us-west-2.amazonaws.com/sentinel-s2-l2a-cogs/11/S/PC/2020/12/S2B_11SPC_20201216_0_L2A/B03.tif | aws s3 cp - s3://dev-et-data/usmart/RIO/sentinel-s2-l2a-cogs/S2B_11SPC_20201216_0_L2A_B03.tif\n"
     ]
    },
    {
     "name": "stderr",
     "output_type": "stream",
     "text": [
      "2021-09-23 03:12:18 URL:https://sentinel-cogs.s3.us-west-2.amazonaws.com/sentinel-s2-l2a-cogs/11/S/PC/2020/12/S2A_11SPC_20201224_0_L2A/B03.tif [159298405/159298405] -> \"-\" [1]\n",
      "2021-09-23 03:12:19 URL:https://sentinel-cogs.s3.us-west-2.amazonaws.com/sentinel-s2-l2a-cogs/11/S/PC/2020/12/S2A_11SPC_20201214_0_L2A/B03.tif [172805680/172805680] -> \"-\" [1]\n",
      "03:12:19: sending https://sentinel-cogs.s3.us-west-2.amazonaws.com/sentinel-s2-l2a-cogs/11/S/PC/2020/12/S2A_11SPC_20201224_0_L2A/B02.tif\n"
     ]
    },
    {
     "name": "stdout",
     "output_type": "stream",
     "text": [
      "\n",
      "\n",
      "wget this: %s https://sentinel-cogs.s3.us-west-2.amazonaws.com/sentinel-s2-l2a-cogs/11/S/PC/2020/12/S2A_11SPC_20201224_0_L2A/B02.tif\n",
      "wget -nv -O- https://sentinel-cogs.s3.us-west-2.amazonaws.com/sentinel-s2-l2a-cogs/11/S/PC/2020/12/S2A_11SPC_20201224_0_L2A/B02.tif | aws s3 cp - s3://dev-et-data/usmart/RIO/sentinel-s2-l2a-cogs/\n",
      "S2A_11SPC_20201224_0_L2A_B02.tif\n",
      "wget -nv -O- https://sentinel-cogs.s3.us-west-2.amazonaws.com/sentinel-s2-l2a-cogs/11/S/PC/2020/12/S2A_11SPC_20201224_0_L2A/B02.tif | aws s3 cp - s3://dev-et-data/usmart/RIO/sentinel-s2-l2a-cogs/S2A_11SPC_20201224_0_L2A_B02.tif\n"
     ]
    },
    {
     "name": "stderr",
     "output_type": "stream",
     "text": [
      "03:12:20: sending https://sentinel-cogs.s3.us-west-2.amazonaws.com/sentinel-s2-l2a-cogs/11/S/PC/2020/12/S2A_11SPC_20201214_0_L2A/B02.tif\n"
     ]
    },
    {
     "name": "stdout",
     "output_type": "stream",
     "text": [
      "\n",
      "\n",
      "wget this: %s https://sentinel-cogs.s3.us-west-2.amazonaws.com/sentinel-s2-l2a-cogs/11/S/PC/2020/12/S2A_11SPC_20201214_0_L2A/B02.tif\n",
      "wget -nv -O- https://sentinel-cogs.s3.us-west-2.amazonaws.com/sentinel-s2-l2a-cogs/11/S/PC/2020/12/S2A_11SPC_20201214_0_L2A/B02.tif | aws s3 cp - s3://dev-et-data/usmart/RIO/sentinel-s2-l2a-cogs/\n",
      "S2A_11SPC_20201214_0_L2A_B02.tif\n",
      "wget -nv -O- https://sentinel-cogs.s3.us-west-2.amazonaws.com/sentinel-s2-l2a-cogs/11/S/PC/2020/12/S2A_11SPC_20201214_0_L2A/B02.tif | aws s3 cp - s3://dev-et-data/usmart/RIO/sentinel-s2-l2a-cogs/S2A_11SPC_20201214_0_L2A_B02.tif\n"
     ]
    },
    {
     "name": "stderr",
     "output_type": "stream",
     "text": [
      "2021-09-23 03:12:21 URL:https://sentinel-cogs.s3.us-west-2.amazonaws.com/sentinel-s2-l2a-cogs/11/S/PC/2020/12/S2B_11SPC_20201226_0_L2A/B03.tif [215393103/215393103] -> \"-\" [1]\n",
      "2021-09-23 03:12:21 URL:https://sentinel-cogs.s3.us-west-2.amazonaws.com/sentinel-s2-l2a-cogs/11/S/PC/2020/12/S2A_11SPC_20201231_0_L2A/B03.tif [240454894/240454894] -> \"-\" [1]\n",
      "2021-09-23 03:12:21 URL:https://sentinel-cogs.s3.us-west-2.amazonaws.com/sentinel-s2-l2a-cogs/11/S/PC/2020/12/S2A_11SPC_20201204_0_L2A/B03.tif [172102934/172102934] -> \"-\" [1]\n",
      "2021-09-23 03:12:22 URL:https://sentinel-cogs.s3.us-west-2.amazonaws.com/sentinel-s2-l2a-cogs/11/S/PC/2020/12/S2B_11SPC_20201206_0_L2A/B03.tif [211022383/211022383] -> \"-\" [1]\n",
      "2021-09-23 03:12:22 URL:https://sentinel-cogs.s3.us-west-2.amazonaws.com/sentinel-s2-l2a-cogs/11/S/PC/2020/12/S2B_11SPC_20201229_0_L2A/B03.tif [190165945/190165945] -> \"-\" [1]\n",
      "03:12:22: sending https://sentinel-cogs.s3.us-west-2.amazonaws.com/sentinel-s2-l2a-cogs/11/S/PC/2020/12/S2B_11SPC_20201226_0_L2A/B02.tif\n",
      "03:12:22: sending https://sentinel-cogs.s3.us-west-2.amazonaws.com/sentinel-s2-l2a-cogs/11/S/PC/2020/12/S2A_11SPC_20201231_0_L2A/B02.tif\n",
      "03:12:22: sending https://sentinel-cogs.s3.us-west-2.amazonaws.com/sentinel-s2-l2a-cogs/11/S/PC/2020/12/S2A_11SPC_20201204_0_L2A/B02.tif\n"
     ]
    },
    {
     "name": "stdout",
     "output_type": "stream",
     "text": [
      "\n",
      "\n",
      "wget this: %s https://sentinel-cogs.s3.us-west-2.amazonaws.com/sentinel-s2-l2a-cogs/11/S/PC/2020/12/S2B_11SPC_20201226_0_L2A/B02.tif\n",
      "wget -nv -O- https://sentinel-cogs.s3.us-west-2.amazonaws.com/sentinel-s2-l2a-cogs/11/S/PC/2020/12/S2B_11SPC_20201226_0_L2A/B02.tif | aws s3 cp - s3://dev-et-data/usmart/RIO/sentinel-s2-l2a-cogs/\n",
      "S2B_11SPC_20201226_0_L2A_B02.tif\n",
      "wget -nv -O- https://sentinel-cogs.s3.us-west-2.amazonaws.com/sentinel-s2-l2a-cogs/11/S/PC/2020/12/S2B_11SPC_20201226_0_L2A/B02.tif | aws s3 cp - s3://dev-et-data/usmart/RIO/sentinel-s2-l2a-cogs/S2B_11SPC_20201226_0_L2A_B02.tif\n",
      "\n",
      "\n",
      "wget this: %s https://sentinel-cogs.s3.us-west-2.amazonaws.com/sentinel-s2-l2a-cogs/11/S/PC/2020/12/S2A_11SPC_20201231_0_L2A/B02.tif\n",
      "wget -nv -O- https://sentinel-cogs.s3.us-west-2.amazonaws.com/sentinel-s2-l2a-cogs/11/S/PC/2020/12/S2A_11SPC_20201231_0_L2A/B02.tif | aws s3 cp - s3://dev-et-data/usmart/RIO/sentinel-s2-l2a-cogs/\n",
      "S2A_11SPC_20201231_0_L2A_B02.tif\n",
      "wget -nv -O- https://sentinel-cogs.s3.us-west-2.amazonaws.com/sentinel-s2-l2a-cogs/11/S/PC/2020/12/S2A_11SPC_20201231_0_L2A/B02.tif | aws s3 cp - s3://dev-et-data/usmart/RIO/sentinel-s2-l2a-cogs/S2A_11SPC_20201231_0_L2A_B02.tif\n",
      "\n",
      "\n",
      "wget this: %s https://sentinel-cogs.s3.us-west-2.amazonaws.com/sentinel-s2-l2a-cogs/11/S/PC/2020/12/S2A_11SPC_20201204_0_L2A/B02.tif\n",
      "wget -nv -O- https://sentinel-cogs.s3.us-west-2.amazonaws.com/sentinel-s2-l2a-cogs/11/S/PC/2020/12/S2A_11SPC_20201204_0_L2A/B02.tif | aws s3 cp - s3://dev-et-data/usmart/RIO/sentinel-s2-l2a-cogs/\n",
      "S2A_11SPC_20201204_0_L2A_B02.tif\n",
      "wget -nv -O- https://sentinel-cogs.s3.us-west-2.amazonaws.com/sentinel-s2-l2a-cogs/11/S/PC/2020/12/S2A_11SPC_20201204_0_L2A/B02.tif | aws s3 cp - s3://dev-et-data/usmart/RIO/sentinel-s2-l2a-cogs/S2A_11SPC_20201204_0_L2A_B02.tif\n"
     ]
    },
    {
     "name": "stderr",
     "output_type": "stream",
     "text": [
      "2021-09-23 03:12:22 URL:https://sentinel-cogs.s3.us-west-2.amazonaws.com/sentinel-s2-l2a-cogs/11/S/PC/2020/12/S2B_11SPC_20201209_0_L2A/B03.tif [171984713/171984713] -> \"-\" [1]\n",
      "2021-09-23 03:12:22 URL:https://sentinel-cogs.s3.us-west-2.amazonaws.com/sentinel-s2-l2a-cogs/11/S/PC/2020/11/S2B_11SPC_20201129_0_L2A/B03.tif [172340204/172340204] -> \"-\" [1]\n",
      "03:12:23: sending https://sentinel-cogs.s3.us-west-2.amazonaws.com/sentinel-s2-l2a-cogs/11/S/PC/2020/12/S2B_11SPC_20201206_0_L2A/B02.tif\n",
      "2021-09-23 03:12:23 URL:https://sentinel-cogs.s3.us-west-2.amazonaws.com/sentinel-s2-l2a-cogs/11/S/PC/2020/12/S2A_11SPC_20201221_0_L2A/B03.tif [218014650/218014650] -> \"-\" [1]\n",
      "2021-09-23 03:12:23 URL:https://sentinel-cogs.s3.us-west-2.amazonaws.com/sentinel-s2-l2a-cogs/11/S/PC/2020/12/S2A_11SPC_20201211_0_L2A/B03.tif [211069103/211069103] -> \"-\" [1]\n",
      "2021-09-23 03:12:23 URL:https://sentinel-cogs.s3.us-west-2.amazonaws.com/sentinel-s2-l2a-cogs/11/S/PC/2020/11/S2B_11SPC_20201126_0_L2A/B03.tif [213147011/213147011] -> \"-\" [1]\n",
      "03:12:23: sending https://sentinel-cogs.s3.us-west-2.amazonaws.com/sentinel-s2-l2a-cogs/11/S/PC/2020/12/S2B_11SPC_20201229_0_L2A/B02.tif\n"
     ]
    },
    {
     "name": "stdout",
     "output_type": "stream",
     "text": [
      "\n",
      "\n",
      "wget this: %s https://sentinel-cogs.s3.us-west-2.amazonaws.com/sentinel-s2-l2a-cogs/11/S/PC/2020/12/S2B_11SPC_20201206_0_L2A/B02.tif\n",
      "wget -nv -O- https://sentinel-cogs.s3.us-west-2.amazonaws.com/sentinel-s2-l2a-cogs/11/S/PC/2020/12/S2B_11SPC_20201206_0_L2A/B02.tif | aws s3 cp - s3://dev-et-data/usmart/RIO/sentinel-s2-l2a-cogs/\n",
      "S2B_11SPC_20201206_0_L2A_B02.tif\n",
      "wget -nv -O- https://sentinel-cogs.s3.us-west-2.amazonaws.com/sentinel-s2-l2a-cogs/11/S/PC/2020/12/S2B_11SPC_20201206_0_L2A/B02.tif | aws s3 cp - s3://dev-et-data/usmart/RIO/sentinel-s2-l2a-cogs/S2B_11SPC_20201206_0_L2A_B02.tif\n",
      "\n",
      "\n",
      "wget this: %s https://sentinel-cogs.s3.us-west-2.amazonaws.com/sentinel-s2-l2a-cogs/11/S/PC/2020/12/S2B_11SPC_20201229_0_L2A/B02.tif\n",
      "wget -nv -O- https://sentinel-cogs.s3.us-west-2.amazonaws.com/sentinel-s2-l2a-cogs/11/S/PC/2020/12/S2B_11SPC_20201229_0_L2A/B02.tif | aws s3 cp - s3://dev-et-data/usmart/RIO/sentinel-s2-l2a-cogs/\n",
      "S2B_11SPC_20201229_0_L2A_B02.tif\n",
      "wget -nv -O- https://sentinel-cogs.s3.us-west-2.amazonaws.com/sentinel-s2-l2a-cogs/11/S/PC/2020/12/S2B_11SPC_20201229_0_L2A/B02.tif | aws s3 cp - s3://dev-et-data/usmart/RIO/sentinel-s2-l2a-cogs/S2B_11SPC_20201229_0_L2A_B02.tif\n"
     ]
    },
    {
     "name": "stderr",
     "output_type": "stream",
     "text": [
      "2021-09-23 03:12:23 URL:https://sentinel-cogs.s3.us-west-2.amazonaws.com/sentinel-s2-l2a-cogs/11/S/PC/2020/12/S2B_11SPC_20201219_0_L2A/B03.tif [180582288/180582288] -> \"-\" [1]\n",
      "03:12:23: sending https://sentinel-cogs.s3.us-west-2.amazonaws.com/sentinel-s2-l2a-cogs/11/S/PC/2020/12/S2B_11SPC_20201209_0_L2A/B02.tif\n",
      "03:12:23: sending https://sentinel-cogs.s3.us-west-2.amazonaws.com/sentinel-s2-l2a-cogs/11/S/PC/2020/11/S2B_11SPC_20201129_0_L2A/B02.tif\n"
     ]
    },
    {
     "name": "stdout",
     "output_type": "stream",
     "text": [
      "\n",
      "\n",
      "wget this: %s https://sentinel-cogs.s3.us-west-2.amazonaws.com/sentinel-s2-l2a-cogs/11/S/PC/2020/12/S2B_11SPC_20201209_0_L2A/B02.tif\n",
      "wget -nv -O- https://sentinel-cogs.s3.us-west-2.amazonaws.com/sentinel-s2-l2a-cogs/11/S/PC/2020/12/S2B_11SPC_20201209_0_L2A/B02.tif | aws s3 cp - s3://dev-et-data/usmart/RIO/sentinel-s2-l2a-cogs/\n",
      "S2B_11SPC_20201209_0_L2A_B02.tif\n",
      "wget -nv -O- https://sentinel-cogs.s3.us-west-2.amazonaws.com/sentinel-s2-l2a-cogs/11/S/PC/2020/12/S2B_11SPC_20201209_0_L2A/B02.tif | aws s3 cp - s3://dev-et-data/usmart/RIO/sentinel-s2-l2a-cogs/S2B_11SPC_20201209_0_L2A_B02.tif\n",
      "\n",
      "\n",
      "wget this: %s https://sentinel-cogs.s3.us-west-2.amazonaws.com/sentinel-s2-l2a-cogs/11/S/PC/2020/11/S2B_11SPC_20201129_0_L2A/B02.tif\n",
      "wget -nv -O- https://sentinel-cogs.s3.us-west-2.amazonaws.com/sentinel-s2-l2a-cogs/11/S/PC/2020/11/S2B_11SPC_20201129_0_L2A/B02.tif | aws s3 cp - s3://dev-et-data/usmart/RIO/sentinel-s2-l2a-cogs/\n",
      "S2B_11SPC_20201129_0_L2A_B02.tif\n",
      "wget -nv -O- https://sentinel-cogs.s3.us-west-2.amazonaws.com/sentinel-s2-l2a-cogs/11/S/PC/2020/11/S2B_11SPC_20201129_0_L2A/B02.tif | aws s3 cp - s3://dev-et-data/usmart/RIO/sentinel-s2-l2a-cogs/S2B_11SPC_20201129_0_L2A_B02.tif\n"
     ]
    },
    {
     "name": "stderr",
     "output_type": "stream",
     "text": [
      "03:12:24: sending https://sentinel-cogs.s3.us-west-2.amazonaws.com/sentinel-s2-l2a-cogs/11/S/PC/2020/11/S2B_11SPC_20201126_0_L2A/B02.tif\n",
      "03:12:24: sending https://sentinel-cogs.s3.us-west-2.amazonaws.com/sentinel-s2-l2a-cogs/11/S/PC/2020/12/S2B_11SPC_20201219_0_L2A/B02.tif\n",
      "03:12:24: sending https://sentinel-cogs.s3.us-west-2.amazonaws.com/sentinel-s2-l2a-cogs/11/S/PC/2020/12/S2A_11SPC_20201221_0_L2A/B02.tif\n",
      "03:12:24: sending https://sentinel-cogs.s3.us-west-2.amazonaws.com/sentinel-s2-l2a-cogs/11/S/PC/2020/12/S2A_11SPC_20201211_0_L2A/B02.tif\n"
     ]
    },
    {
     "name": "stdout",
     "output_type": "stream",
     "text": [
      "\n",
      "\n",
      "wget this: %s https://sentinel-cogs.s3.us-west-2.amazonaws.com/sentinel-s2-l2a-cogs/11/S/PC/2020/11/S2B_11SPC_20201126_0_L2A/B02.tif\n",
      "wget -nv -O- https://sentinel-cogs.s3.us-west-2.amazonaws.com/sentinel-s2-l2a-cogs/11/S/PC/2020/11/S2B_11SPC_20201126_0_L2A/B02.tif | aws s3 cp - s3://dev-et-data/usmart/RIO/sentinel-s2-l2a-cogs/\n",
      "S2B_11SPC_20201126_0_L2A_B02.tif\n",
      "wget -nv -O- https://sentinel-cogs.s3.us-west-2.amazonaws.com/sentinel-s2-l2a-cogs/11/S/PC/2020/11/S2B_11SPC_20201126_0_L2A/B02.tif | aws s3 cp - s3://dev-et-data/usmart/RIO/sentinel-s2-l2a-cogs/S2B_11SPC_20201126_0_L2A_B02.tif\n",
      "\n",
      "\n",
      "wget this: %s https://sentinel-cogs.s3.us-west-2.amazonaws.com/sentinel-s2-l2a-cogs/11/S/PC/2020/12/S2B_11SPC_20201219_0_L2A/B02.tif\n",
      "wget -nv -O- https://sentinel-cogs.s3.us-west-2.amazonaws.com/sentinel-s2-l2a-cogs/11/S/PC/2020/12/S2B_11SPC_20201219_0_L2A/B02.tif | aws s3 cp - s3://dev-et-data/usmart/RIO/sentinel-s2-l2a-cogs/\n",
      "S2B_11SPC_20201219_0_L2A_B02.tif\n",
      "wget -nv -O- https://sentinel-cogs.s3.us-west-2.amazonaws.com/sentinel-s2-l2a-cogs/11/S/PC/2020/12/S2B_11SPC_20201219_0_L2A/B02.tif | aws s3 cp - s3://dev-et-data/usmart/RIO/sentinel-s2-l2a-cogs/S2B_11SPC_20201219_0_L2A_B02.tif\n",
      "\n",
      "\n",
      "wget this: %s https://sentinel-cogs.s3.us-west-2.amazonaws.com/sentinel-s2-l2a-cogs/11/S/PC/2020/12/S2A_11SPC_20201221_0_L2A/B02.tif\n",
      "wget -nv -O- https://sentinel-cogs.s3.us-west-2.amazonaws.com/sentinel-s2-l2a-cogs/11/S/PC/2020/12/S2A_11SPC_20201221_0_L2A/B02.tif | aws s3 cp - s3://dev-et-data/usmart/RIO/sentinel-s2-l2a-cogs/\n",
      "S2A_11SPC_20201221_0_L2A_B02.tif\n",
      "wget -nv -O- https://sentinel-cogs.s3.us-west-2.amazonaws.com/sentinel-s2-l2a-cogs/11/S/PC/2020/12/S2A_11SPC_20201221_0_L2A/B02.tif | aws s3 cp - s3://dev-et-data/usmart/RIO/sentinel-s2-l2a-cogs/S2A_11SPC_20201221_0_L2A_B02.tif\n",
      "\n",
      "\n",
      "wget this: %s https://sentinel-cogs.s3.us-west-2.amazonaws.com/sentinel-s2-l2a-cogs/11/S/PC/2020/12/S2A_11SPC_20201211_0_L2A/B02.tif\n",
      "wget -nv -O- https://sentinel-cogs.s3.us-west-2.amazonaws.com/sentinel-s2-l2a-cogs/11/S/PC/2020/12/S2A_11SPC_20201211_0_L2A/B02.tif | aws s3 cp - s3://dev-et-data/usmart/RIO/sentinel-s2-l2a-cogs/\n",
      "S2A_11SPC_20201211_0_L2A_B02.tif\n",
      "wget -nv -O- https://sentinel-cogs.s3.us-west-2.amazonaws.com/sentinel-s2-l2a-cogs/11/S/PC/2020/12/S2A_11SPC_20201211_0_L2A/B02.tif | aws s3 cp - s3://dev-et-data/usmart/RIO/sentinel-s2-l2a-cogs/S2A_11SPC_20201211_0_L2A_B02.tif\n"
     ]
    },
    {
     "name": "stderr",
     "output_type": "stream",
     "text": [
      "2021-09-23 03:12:24 URL:https://sentinel-cogs.s3.us-west-2.amazonaws.com/sentinel-s2-l2a-cogs/11/S/PC/2020/12/S2A_11SPC_20201201_0_L2A/B03.tif [213147221/213147221] -> \"-\" [1]\n",
      "03:12:25: sending https://sentinel-cogs.s3.us-west-2.amazonaws.com/sentinel-s2-l2a-cogs/11/S/PC/2020/12/S2A_11SPC_20201201_0_L2A/B02.tif\n"
     ]
    },
    {
     "name": "stdout",
     "output_type": "stream",
     "text": [
      "\n",
      "\n",
      "wget this: %s https://sentinel-cogs.s3.us-west-2.amazonaws.com/sentinel-s2-l2a-cogs/11/S/PC/2020/12/S2A_11SPC_20201201_0_L2A/B02.tif\n",
      "wget -nv -O- https://sentinel-cogs.s3.us-west-2.amazonaws.com/sentinel-s2-l2a-cogs/11/S/PC/2020/12/S2A_11SPC_20201201_0_L2A/B02.tif | aws s3 cp - s3://dev-et-data/usmart/RIO/sentinel-s2-l2a-cogs/\n",
      "S2A_11SPC_20201201_0_L2A_B02.tif\n",
      "wget -nv -O- https://sentinel-cogs.s3.us-west-2.amazonaws.com/sentinel-s2-l2a-cogs/11/S/PC/2020/12/S2A_11SPC_20201201_0_L2A/B02.tif | aws s3 cp - s3://dev-et-data/usmart/RIO/sentinel-s2-l2a-cogs/S2A_11SPC_20201201_0_L2A_B02.tif\n"
     ]
    },
    {
     "name": "stderr",
     "output_type": "stream",
     "text": [
      "2021-09-23 03:12:25 URL:https://sentinel-cogs.s3.us-west-2.amazonaws.com/sentinel-s2-l2a-cogs/11/S/PC/2020/12/S2B_11SPC_20201216_0_L2A/B03.tif [218206041/218206041] -> \"-\" [1]\n",
      "03:12:25: sending https://sentinel-cogs.s3.us-west-2.amazonaws.com/sentinel-s2-l2a-cogs/11/S/PC/2020/12/S2B_11SPC_20201216_0_L2A/B02.tif\n"
     ]
    },
    {
     "name": "stdout",
     "output_type": "stream",
     "text": [
      "\n",
      "\n",
      "wget this: %s https://sentinel-cogs.s3.us-west-2.amazonaws.com/sentinel-s2-l2a-cogs/11/S/PC/2020/12/S2B_11SPC_20201216_0_L2A/B02.tif\n",
      "wget -nv -O- https://sentinel-cogs.s3.us-west-2.amazonaws.com/sentinel-s2-l2a-cogs/11/S/PC/2020/12/S2B_11SPC_20201216_0_L2A/B02.tif | aws s3 cp - s3://dev-et-data/usmart/RIO/sentinel-s2-l2a-cogs/\n",
      "S2B_11SPC_20201216_0_L2A_B02.tif\n",
      "wget -nv -O- https://sentinel-cogs.s3.us-west-2.amazonaws.com/sentinel-s2-l2a-cogs/11/S/PC/2020/12/S2B_11SPC_20201216_0_L2A/B02.tif | aws s3 cp - s3://dev-et-data/usmart/RIO/sentinel-s2-l2a-cogs/S2B_11SPC_20201216_0_L2A_B02.tif\n"
     ]
    },
    {
     "name": "stderr",
     "output_type": "stream",
     "text": [
      "2021-09-23 03:12:29 URL:https://sentinel-cogs.s3.us-west-2.amazonaws.com/sentinel-s2-l2a-cogs/11/S/PC/2020/12/S2A_11SPC_20201214_0_L2A/B02.tif [174103453/174103453] -> \"-\" [1]\n",
      "2021-09-23 03:12:30 URL:https://sentinel-cogs.s3.us-west-2.amazonaws.com/sentinel-s2-l2a-cogs/11/S/PC/2020/12/S2A_11SPC_20201224_0_L2A/B02.tif [161216122/161216122] -> \"-\" [1]\n",
      "2021-09-23 03:12:30 URL:https://sentinel-cogs.s3.us-west-2.amazonaws.com/sentinel-s2-l2a-cogs/11/S/PC/2020/12/S2A_11SPC_20201204_0_L2A/B02.tif [170554743/170554743] -> \"-\" [1]\n",
      "03:12:30: Thread 7: finishing in 29 seconds\n",
      "03:12:30: xfer Thread 15: starting\n",
      "03:12:30: sending https://sentinel-cogs.s3.us-west-2.amazonaws.com/sentinel-s2-l2a-cogs/11/S/PC/2020/11/S2A_11SPC_20201124_0_L2A/B04.tif\n"
     ]
    },
    {
     "name": "stdout",
     "output_type": "stream",
     "text": [
      "\n",
      "\n",
      "wget this: %s https://sentinel-cogs.s3.us-west-2.amazonaws.com/sentinel-s2-l2a-cogs/11/S/PC/2020/11/S2A_11SPC_20201124_0_L2A/B04.tif\n",
      "wget -nv -O- https://sentinel-cogs.s3.us-west-2.amazonaws.com/sentinel-s2-l2a-cogs/11/S/PC/2020/11/S2A_11SPC_20201124_0_L2A/B04.tif | aws s3 cp - s3://dev-et-data/usmart/RIO/sentinel-s2-l2a-cogs/\n",
      "S2A_11SPC_20201124_0_L2A_B04.tif\n",
      "wget -nv -O- https://sentinel-cogs.s3.us-west-2.amazonaws.com/sentinel-s2-l2a-cogs/11/S/PC/2020/11/S2A_11SPC_20201124_0_L2A/B04.tif | aws s3 cp - s3://dev-et-data/usmart/RIO/sentinel-s2-l2a-cogs/S2A_11SPC_20201124_0_L2A_B04.tif\n"
     ]
    },
    {
     "name": "stderr",
     "output_type": "stream",
     "text": [
      "03:12:31: Thread 3: finishing in 30 seconds\n",
      "03:12:31: xfer Thread 16: starting\n",
      "03:12:31: sending https://sentinel-cogs.s3.us-west-2.amazonaws.com/sentinel-s2-l2a-cogs/11/S/PC/2020/11/S2A_11SPC_20201121_0_L2A/B04.tif\n"
     ]
    },
    {
     "name": "stdout",
     "output_type": "stream",
     "text": [
      "\n",
      "\n",
      "wget this: %s https://sentinel-cogs.s3.us-west-2.amazonaws.com/sentinel-s2-l2a-cogs/11/S/PC/2020/11/S2A_11SPC_20201121_0_L2A/B04.tif\n",
      "wget -nv -O- https://sentinel-cogs.s3.us-west-2.amazonaws.com/sentinel-s2-l2a-cogs/11/S/PC/2020/11/S2A_11SPC_20201121_0_L2A/B04.tif | aws s3 cp - s3://dev-et-data/usmart/RIO/sentinel-s2-l2a-cogs/\n",
      "S2A_11SPC_20201121_0_L2A_B04.tif\n",
      "wget -nv -O- https://sentinel-cogs.s3.us-west-2.amazonaws.com/sentinel-s2-l2a-cogs/11/S/PC/2020/11/S2A_11SPC_20201121_0_L2A/B04.tif | aws s3 cp - s3://dev-et-data/usmart/RIO/sentinel-s2-l2a-cogs/S2A_11SPC_20201121_0_L2A_B04.tif\n"
     ]
    },
    {
     "name": "stderr",
     "output_type": "stream",
     "text": [
      "2021-09-23 03:12:32 URL:https://sentinel-cogs.s3.us-west-2.amazonaws.com/sentinel-s2-l2a-cogs/11/S/PC/2020/12/S2B_11SPC_20201226_0_L2A/B02.tif [215980116/215980116] -> \"-\" [1]\n",
      "03:12:32: Thread 11: finishing in 31 seconds\n",
      "03:12:32: xfer Thread 17: starting\n",
      "03:12:32: sending https://sentinel-cogs.s3.us-west-2.amazonaws.com/sentinel-s2-l2a-cogs/11/S/PC/2020/11/S2B_11SPC_20201119_0_L2A/B04.tif\n"
     ]
    },
    {
     "name": "stdout",
     "output_type": "stream",
     "text": [
      "\n",
      "\n",
      "wget this: %s https://sentinel-cogs.s3.us-west-2.amazonaws.com/sentinel-s2-l2a-cogs/11/S/PC/2020/11/S2B_11SPC_20201119_0_L2A/B04.tif\n",
      "wget -nv -O- https://sentinel-cogs.s3.us-west-2.amazonaws.com/sentinel-s2-l2a-cogs/11/S/PC/2020/11/S2B_11SPC_20201119_0_L2A/B04.tif | aws s3 cp - s3://dev-et-data/usmart/RIO/sentinel-s2-l2a-cogs/\n",
      "S2B_11SPC_20201119_0_L2A_B04.tif\n",
      "wget -nv -O- https://sentinel-cogs.s3.us-west-2.amazonaws.com/sentinel-s2-l2a-cogs/11/S/PC/2020/11/S2B_11SPC_20201119_0_L2A/B04.tif | aws s3 cp - s3://dev-et-data/usmart/RIO/sentinel-s2-l2a-cogs/S2B_11SPC_20201119_0_L2A_B04.tif\n"
     ]
    },
    {
     "name": "stderr",
     "output_type": "stream",
     "text": [
      "2021-09-23 03:12:32 URL:https://sentinel-cogs.s3.us-west-2.amazonaws.com/sentinel-s2-l2a-cogs/11/S/PC/2020/12/S2B_11SPC_20201209_0_L2A/B02.tif [170924591/170924591] -> \"-\" [1]\n",
      "2021-09-23 03:12:32 URL:https://sentinel-cogs.s3.us-west-2.amazonaws.com/sentinel-s2-l2a-cogs/11/S/PC/2020/12/S2B_11SPC_20201206_0_L2A/B02.tif [210543237/210543237] -> \"-\" [1]\n",
      "2021-09-23 03:12:32 URL:https://sentinel-cogs.s3.us-west-2.amazonaws.com/sentinel-s2-l2a-cogs/11/S/PC/2020/12/S2A_11SPC_20201231_0_L2A/B02.tif [242339482/242339482] -> \"-\" [1]\n",
      "2021-09-23 03:12:33 URL:https://sentinel-cogs.s3.us-west-2.amazonaws.com/sentinel-s2-l2a-cogs/11/S/PC/2020/12/S2B_11SPC_20201219_0_L2A/B02.tif [182080448/182080448] -> \"-\" [1]\n",
      "03:12:33: Thread 2: finishing in 32 seconds\n",
      "03:12:33: xfer Thread 18: starting\n",
      "03:12:33: sending https://sentinel-cogs.s3.us-west-2.amazonaws.com/sentinel-s2-l2a-cogs/11/S/PC/2020/11/S2A_11SPC_20201114_0_L2A/B04.tif\n"
     ]
    },
    {
     "name": "stdout",
     "output_type": "stream",
     "text": [
      "\n",
      "\n",
      "wget this: %s https://sentinel-cogs.s3.us-west-2.amazonaws.com/sentinel-s2-l2a-cogs/11/S/PC/2020/11/S2A_11SPC_20201114_0_L2A/B04.tif\n",
      "wget -nv -O- https://sentinel-cogs.s3.us-west-2.amazonaws.com/sentinel-s2-l2a-cogs/11/S/PC/2020/11/S2A_11SPC_20201114_0_L2A/B04.tif | aws s3 cp - s3://dev-et-data/usmart/RIO/sentinel-s2-l2a-cogs/\n",
      "S2A_11SPC_20201114_0_L2A_B04.tif\n",
      "wget -nv -O- https://sentinel-cogs.s3.us-west-2.amazonaws.com/sentinel-s2-l2a-cogs/11/S/PC/2020/11/S2A_11SPC_20201114_0_L2A/B04.tif | aws s3 cp - s3://dev-et-data/usmart/RIO/sentinel-s2-l2a-cogs/S2A_11SPC_20201114_0_L2A_B04.tif\n"
     ]
    },
    {
     "name": "stderr",
     "output_type": "stream",
     "text": [
      "2021-09-23 03:12:33 URL:https://sentinel-cogs.s3.us-west-2.amazonaws.com/sentinel-s2-l2a-cogs/11/S/PC/2020/12/S2B_11SPC_20201229_0_L2A/B02.tif [192067736/192067736] -> \"-\" [1]\n",
      "03:12:33: Thread 9: finishing in 32 seconds\n",
      "03:12:33: xfer Thread 19: starting\n",
      "03:12:33: sending https://sentinel-cogs.s3.us-west-2.amazonaws.com/sentinel-s2-l2a-cogs/11/S/PC/2020/11/S2A_11SPC_20201111_0_L2A/B04.tif\n",
      "03:12:33: Thread 10: finishing in 32 seconds\n",
      "03:12:33: xfer Thread 20: starting\n",
      "03:12:33: sending https://sentinel-cogs.s3.us-west-2.amazonaws.com/sentinel-s2-l2a-cogs/11/S/PC/2020/11/S2B_11SPC_20201109_0_L2A/B04.tif\n"
     ]
    },
    {
     "name": "stdout",
     "output_type": "stream",
     "text": [
      "\n",
      "\n",
      "wget this: %s https://sentinel-cogs.s3.us-west-2.amazonaws.com/sentinel-s2-l2a-cogs/11/S/PC/2020/11/S2A_11SPC_20201111_0_L2A/B04.tif\n",
      "wget -nv -O- https://sentinel-cogs.s3.us-west-2.amazonaws.com/sentinel-s2-l2a-cogs/11/S/PC/2020/11/S2A_11SPC_20201111_0_L2A/B04.tif | aws s3 cp - s3://dev-et-data/usmart/RIO/sentinel-s2-l2a-cogs/\n",
      "S2A_11SPC_20201111_0_L2A_B04.tif\n",
      "wget -nv -O- https://sentinel-cogs.s3.us-west-2.amazonaws.com/sentinel-s2-l2a-cogs/11/S/PC/2020/11/S2A_11SPC_20201111_0_L2A/B04.tif | aws s3 cp - s3://dev-et-data/usmart/RIO/sentinel-s2-l2a-cogs/S2A_11SPC_20201111_0_L2A_B04.tif\n",
      "\n",
      "\n",
      "wget this: %s https://sentinel-cogs.s3.us-west-2.amazonaws.com/sentinel-s2-l2a-cogs/11/S/PC/2020/11/S2B_11SPC_20201109_0_L2A/B04.tif\n",
      "wget -nv -O- https://sentinel-cogs.s3.us-west-2.amazonaws.com/sentinel-s2-l2a-cogs/11/S/PC/2020/11/S2B_11SPC_20201109_0_L2A/B04.tif | aws s3 cp - s3://dev-et-data/usmart/RIO/sentinel-s2-l2a-cogs/\n",
      "S2B_11SPC_20201109_0_L2A_B04.tif\n",
      "wget -nv -O- https://sentinel-cogs.s3.us-west-2.amazonaws.com/sentinel-s2-l2a-cogs/11/S/PC/2020/11/S2B_11SPC_20201109_0_L2A/B04.tif | aws s3 cp - s3://dev-et-data/usmart/RIO/sentinel-s2-l2a-cogs/S2B_11SPC_20201109_0_L2A_B04.tif\n"
     ]
    },
    {
     "name": "stderr",
     "output_type": "stream",
     "text": [
      "03:12:33: Thread 5: finishing in 32 seconds\n",
      "03:12:33: xfer Thread 21: starting\n",
      "03:12:33: sending https://sentinel-cogs.s3.us-west-2.amazonaws.com/sentinel-s2-l2a-cogs/11/S/PC/2020/11/S2B_11SPC_20201106_0_L2A/B04.tif\n",
      "03:12:33: Thread 1: finishing in 32 seconds\n",
      "03:12:33: xfer Thread 22: starting\n",
      "03:12:33: sending https://sentinel-cogs.s3.us-west-2.amazonaws.com/sentinel-s2-l2a-cogs/11/S/PC/2020/11/S2A_11SPC_20201104_0_L2A/B04.tif\n"
     ]
    },
    {
     "name": "stdout",
     "output_type": "stream",
     "text": [
      "\n",
      "\n",
      "wget this: %s https://sentinel-cogs.s3.us-west-2.amazonaws.com/sentinel-s2-l2a-cogs/11/S/PC/2020/11/S2B_11SPC_20201106_0_L2A/B04.tif\n",
      "wget -nv -O- https://sentinel-cogs.s3.us-west-2.amazonaws.com/sentinel-s2-l2a-cogs/11/S/PC/2020/11/S2B_11SPC_20201106_0_L2A/B04.tif | aws s3 cp - s3://dev-et-data/usmart/RIO/sentinel-s2-l2a-cogs/\n",
      "S2B_11SPC_20201106_0_L2A_B04.tif\n",
      "wget -nv -O- https://sentinel-cogs.s3.us-west-2.amazonaws.com/sentinel-s2-l2a-cogs/11/S/PC/2020/11/S2B_11SPC_20201106_0_L2A/B04.tif | aws s3 cp - s3://dev-et-data/usmart/RIO/sentinel-s2-l2a-cogs/S2B_11SPC_20201106_0_L2A_B04.tif\n",
      "\n",
      "\n",
      "wget this: %s https://sentinel-cogs.s3.us-west-2.amazonaws.com/sentinel-s2-l2a-cogs/11/S/PC/2020/11/S2A_11SPC_20201104_0_L2A/B04.tif\n",
      "wget -nv -O- https://sentinel-cogs.s3.us-west-2.amazonaws.com/sentinel-s2-l2a-cogs/11/S/PC/2020/11/S2A_11SPC_20201104_0_L2A/B04.tif | aws s3 cp - s3://dev-et-data/usmart/RIO/sentinel-s2-l2a-cogs/\n",
      "S2A_11SPC_20201104_0_L2A_B04.tif\n",
      "wget -nv -O- https://sentinel-cogs.s3.us-west-2.amazonaws.com/sentinel-s2-l2a-cogs/11/S/PC/2020/11/S2A_11SPC_20201104_0_L2A/B04.tif | aws s3 cp - s3://dev-et-data/usmart/RIO/sentinel-s2-l2a-cogs/S2A_11SPC_20201104_0_L2A_B04.tif\n"
     ]
    },
    {
     "name": "stderr",
     "output_type": "stream",
     "text": [
      "2021-09-23 03:12:33 URL:https://sentinel-cogs.s3.us-west-2.amazonaws.com/sentinel-s2-l2a-cogs/11/S/PC/2020/12/S2A_11SPC_20201211_0_L2A/B02.tif [208207365/208207365] -> \"-\" [1]\n",
      "2021-09-23 03:12:34 URL:https://sentinel-cogs.s3.us-west-2.amazonaws.com/sentinel-s2-l2a-cogs/11/S/PC/2020/11/S2B_11SPC_20201129_0_L2A/B02.tif [171513993/171513993] -> \"-\" [1]\n",
      "03:12:34: Thread 0: finishing in 33 seconds\n",
      "03:12:34: xfer Thread 23: starting\n",
      "03:12:34: sending https://sentinel-cogs.s3.us-west-2.amazonaws.com/sentinel-s2-l2a-cogs/11/S/PC/2020/11/S2A_11SPC_20201101_0_L2A/B04.tif\n"
     ]
    },
    {
     "name": "stdout",
     "output_type": "stream",
     "text": [
      "\n",
      "\n",
      "wget this: %s https://sentinel-cogs.s3.us-west-2.amazonaws.com/sentinel-s2-l2a-cogs/11/S/PC/2020/11/S2A_11SPC_20201101_0_L2A/B04.tif\n",
      "wget -nv -O- https://sentinel-cogs.s3.us-west-2.amazonaws.com/sentinel-s2-l2a-cogs/11/S/PC/2020/11/S2A_11SPC_20201101_0_L2A/B04.tif | aws s3 cp - s3://dev-et-data/usmart/RIO/sentinel-s2-l2a-cogs/\n",
      "S2A_11SPC_20201101_0_L2A_B04.tif\n",
      "wget -nv -O- https://sentinel-cogs.s3.us-west-2.amazonaws.com/sentinel-s2-l2a-cogs/11/S/PC/2020/11/S2A_11SPC_20201101_0_L2A/B04.tif | aws s3 cp - s3://dev-et-data/usmart/RIO/sentinel-s2-l2a-cogs/S2A_11SPC_20201101_0_L2A_B04.tif\n"
     ]
    },
    {
     "name": "stderr",
     "output_type": "stream",
     "text": [
      "03:12:34: Thread 8: finishing in 33 seconds\n",
      "03:12:34: xfer Thread 24: starting\n",
      "03:12:34: sending https://sentinel-cogs.s3.us-west-2.amazonaws.com/sentinel-s2-l2a-cogs/11/S/PC/2020/10/S2B_11SPC_20201030_0_L2A/B04.tif\n",
      "2021-09-23 03:12:34 URL:https://sentinel-cogs.s3.us-west-2.amazonaws.com/sentinel-s2-l2a-cogs/11/S/PC/2020/11/S2B_11SPC_20201126_0_L2A/B02.tif [212296232/212296232] -> \"-\" [1]\n",
      "03:12:34: Thread 13: finishing in 33 seconds\n",
      "03:12:34: xfer Thread 25: starting\n",
      "03:12:34: sending https://sentinel-cogs.s3.us-west-2.amazonaws.com/sentinel-s2-l2a-cogs/11/S/PC/2020/10/S2B_11SPC_20201027_0_L2A/B04.tif\n"
     ]
    },
    {
     "name": "stdout",
     "output_type": "stream",
     "text": [
      "\n",
      "\n",
      "wget this: %s https://sentinel-cogs.s3.us-west-2.amazonaws.com/sentinel-s2-l2a-cogs/11/S/PC/2020/10/S2B_11SPC_20201030_0_L2A/B04.tif\n",
      "wget -nv -O- https://sentinel-cogs.s3.us-west-2.amazonaws.com/sentinel-s2-l2a-cogs/11/S/PC/2020/10/S2B_11SPC_20201030_0_L2A/B04.tif | aws s3 cp - s3://dev-et-data/usmart/RIO/sentinel-s2-l2a-cogs/\n",
      "S2B_11SPC_20201030_0_L2A_B04.tif\n",
      "wget -nv -O- https://sentinel-cogs.s3.us-west-2.amazonaws.com/sentinel-s2-l2a-cogs/11/S/PC/2020/10/S2B_11SPC_20201030_0_L2A/B04.tif | aws s3 cp - s3://dev-et-data/usmart/RIO/sentinel-s2-l2a-cogs/S2B_11SPC_20201030_0_L2A_B04.tif\n",
      "\n",
      "\n",
      "wget this: %s https://sentinel-cogs.s3.us-west-2.amazonaws.com/sentinel-s2-l2a-cogs/11/S/PC/2020/10/S2B_11SPC_20201027_0_L2A/B04.tif\n",
      "wget -nv -O- https://sentinel-cogs.s3.us-west-2.amazonaws.com/sentinel-s2-l2a-cogs/11/S/PC/2020/10/S2B_11SPC_20201027_0_L2A/B04.tif | aws s3 cp - s3://dev-et-data/usmart/RIO/sentinel-s2-l2a-cogs/\n",
      "S2B_11SPC_20201027_0_L2A_B04.tif\n",
      "wget -nv -O- https://sentinel-cogs.s3.us-west-2.amazonaws.com/sentinel-s2-l2a-cogs/11/S/PC/2020/10/S2B_11SPC_20201027_0_L2A/B04.tif | aws s3 cp - s3://dev-et-data/usmart/RIO/sentinel-s2-l2a-cogs/S2B_11SPC_20201027_0_L2A_B04.tif\n"
     ]
    },
    {
     "name": "stderr",
     "output_type": "stream",
     "text": [
      "2021-09-23 03:12:35 URL:https://sentinel-cogs.s3.us-west-2.amazonaws.com/sentinel-s2-l2a-cogs/11/S/PC/2020/12/S2A_11SPC_20201201_0_L2A/B02.tif [211403945/211403945] -> \"-\" [1]\n",
      "03:12:35: Thread 14: finishing in 34 seconds\n",
      "03:12:35: xfer Thread 26: starting\n",
      "03:12:35: sending https://sentinel-cogs.s3.us-west-2.amazonaws.com/sentinel-s2-l2a-cogs/11/S/PC/2020/10/S2A_11SPC_20201025_0_L2A/B04.tif\n"
     ]
    },
    {
     "name": "stdout",
     "output_type": "stream",
     "text": [
      "\n",
      "\n",
      "wget this: %s https://sentinel-cogs.s3.us-west-2.amazonaws.com/sentinel-s2-l2a-cogs/11/S/PC/2020/10/S2A_11SPC_20201025_0_L2A/B04.tif\n",
      "wget -nv -O- https://sentinel-cogs.s3.us-west-2.amazonaws.com/sentinel-s2-l2a-cogs/11/S/PC/2020/10/S2A_11SPC_20201025_0_L2A/B04.tif | aws s3 cp - s3://dev-et-data/usmart/RIO/sentinel-s2-l2a-cogs/\n",
      "S2A_11SPC_20201025_0_L2A_B04.tif\n",
      "wget -nv -O- https://sentinel-cogs.s3.us-west-2.amazonaws.com/sentinel-s2-l2a-cogs/11/S/PC/2020/10/S2A_11SPC_20201025_0_L2A/B04.tif | aws s3 cp - s3://dev-et-data/usmart/RIO/sentinel-s2-l2a-cogs/S2A_11SPC_20201025_0_L2A_B04.tif\n"
     ]
    },
    {
     "name": "stderr",
     "output_type": "stream",
     "text": [
      "03:12:36: Thread 12: finishing in 34 seconds\n",
      "03:12:36: xfer Thread 27: starting\n",
      "03:12:36: sending https://sentinel-cogs.s3.us-west-2.amazonaws.com/sentinel-s2-l2a-cogs/11/S/PC/2020/10/S2A_11SPC_20201022_0_L2A/B04.tif\n"
     ]
    },
    {
     "name": "stdout",
     "output_type": "stream",
     "text": [
      "\n",
      "\n",
      "wget this: %s https://sentinel-cogs.s3.us-west-2.amazonaws.com/sentinel-s2-l2a-cogs/11/S/PC/2020/10/S2A_11SPC_20201022_0_L2A/B04.tif\n",
      "wget -nv -O- https://sentinel-cogs.s3.us-west-2.amazonaws.com/sentinel-s2-l2a-cogs/11/S/PC/2020/10/S2A_11SPC_20201022_0_L2A/B04.tif | aws s3 cp - s3://dev-et-data/usmart/RIO/sentinel-s2-l2a-cogs/\n",
      "S2A_11SPC_20201022_0_L2A_B04.tif\n",
      "wget -nv -O- https://sentinel-cogs.s3.us-west-2.amazonaws.com/sentinel-s2-l2a-cogs/11/S/PC/2020/10/S2A_11SPC_20201022_0_L2A/B04.tif | aws s3 cp - s3://dev-et-data/usmart/RIO/sentinel-s2-l2a-cogs/S2A_11SPC_20201022_0_L2A_B04.tif\n"
     ]
    },
    {
     "name": "stderr",
     "output_type": "stream",
     "text": [
      "2021-09-23 03:12:36 URL:https://sentinel-cogs.s3.us-west-2.amazonaws.com/sentinel-s2-l2a-cogs/11/S/PC/2020/12/S2A_11SPC_20201221_0_L2A/B02.tif [219132392/219132392] -> \"-\" [1]\n",
      "03:12:37: Thread 4: finishing in 35 seconds\n",
      "03:12:37: xfer Thread 28: starting\n",
      "03:12:37: sending https://sentinel-cogs.s3.us-west-2.amazonaws.com/sentinel-s2-l2a-cogs/11/S/PC/2020/10/S2B_11SPC_20201020_0_L2A/B04.tif\n"
     ]
    },
    {
     "name": "stdout",
     "output_type": "stream",
     "text": [
      "\n",
      "\n",
      "wget this: %s https://sentinel-cogs.s3.us-west-2.amazonaws.com/sentinel-s2-l2a-cogs/11/S/PC/2020/10/S2B_11SPC_20201020_0_L2A/B04.tif\n",
      "wget -nv -O- https://sentinel-cogs.s3.us-west-2.amazonaws.com/sentinel-s2-l2a-cogs/11/S/PC/2020/10/S2B_11SPC_20201020_0_L2A/B04.tif | aws s3 cp - s3://dev-et-data/usmart/RIO/sentinel-s2-l2a-cogs/\n",
      "S2B_11SPC_20201020_0_L2A_B04.tif\n",
      "wget -nv -O- https://sentinel-cogs.s3.us-west-2.amazonaws.com/sentinel-s2-l2a-cogs/11/S/PC/2020/10/S2B_11SPC_20201020_0_L2A/B04.tif | aws s3 cp - s3://dev-et-data/usmart/RIO/sentinel-s2-l2a-cogs/S2B_11SPC_20201020_0_L2A_B04.tif\n"
     ]
    },
    {
     "name": "stderr",
     "output_type": "stream",
     "text": [
      "2021-09-23 03:12:38 URL:https://sentinel-cogs.s3.us-west-2.amazonaws.com/sentinel-s2-l2a-cogs/11/S/PC/2020/12/S2B_11SPC_20201216_0_L2A/B02.tif [220391913/220391913] -> \"-\" [1]\n",
      "2021-09-23 03:12:39 URL:https://sentinel-cogs.s3.us-west-2.amazonaws.com/sentinel-s2-l2a-cogs/11/S/PC/2020/11/S2A_11SPC_20201124_0_L2A/B04.tif [170891381/170891381] -> \"-\" [1]\n",
      "03:12:39: Thread 6: finishing in 38 seconds\n",
      "03:12:39: xfer Thread 29: starting\n",
      "03:12:39: sending https://sentinel-cogs.s3.us-west-2.amazonaws.com/sentinel-s2-l2a-cogs/11/S/PC/2020/10/S2B_11SPC_20201017_0_L2A/B04.tif\n"
     ]
    },
    {
     "name": "stdout",
     "output_type": "stream",
     "text": [
      "\n",
      "\n",
      "wget this: %s https://sentinel-cogs.s3.us-west-2.amazonaws.com/sentinel-s2-l2a-cogs/11/S/PC/2020/10/S2B_11SPC_20201017_0_L2A/B04.tif\n",
      "wget -nv -O- https://sentinel-cogs.s3.us-west-2.amazonaws.com/sentinel-s2-l2a-cogs/11/S/PC/2020/10/S2B_11SPC_20201017_0_L2A/B04.tif | aws s3 cp - s3://dev-et-data/usmart/RIO/sentinel-s2-l2a-cogs/\n",
      "S2B_11SPC_20201017_0_L2A_B04.tif\n",
      "wget -nv -O- https://sentinel-cogs.s3.us-west-2.amazonaws.com/sentinel-s2-l2a-cogs/11/S/PC/2020/10/S2B_11SPC_20201017_0_L2A/B04.tif | aws s3 cp - s3://dev-et-data/usmart/RIO/sentinel-s2-l2a-cogs/S2B_11SPC_20201017_0_L2A_B04.tif\n"
     ]
    },
    {
     "name": "stderr",
     "output_type": "stream",
     "text": [
      "03:12:41: sending https://sentinel-cogs.s3.us-west-2.amazonaws.com/sentinel-s2-l2a-cogs/11/S/PC/2020/11/S2A_11SPC_20201124_0_L2A/B03.tif\n"
     ]
    },
    {
     "name": "stdout",
     "output_type": "stream",
     "text": [
      "\n",
      "\n",
      "wget this: %s https://sentinel-cogs.s3.us-west-2.amazonaws.com/sentinel-s2-l2a-cogs/11/S/PC/2020/11/S2A_11SPC_20201124_0_L2A/B03.tif\n",
      "wget -nv -O- https://sentinel-cogs.s3.us-west-2.amazonaws.com/sentinel-s2-l2a-cogs/11/S/PC/2020/11/S2A_11SPC_20201124_0_L2A/B03.tif | aws s3 cp - s3://dev-et-data/usmart/RIO/sentinel-s2-l2a-cogs/\n",
      "S2A_11SPC_20201124_0_L2A_B03.tif\n",
      "wget -nv -O- https://sentinel-cogs.s3.us-west-2.amazonaws.com/sentinel-s2-l2a-cogs/11/S/PC/2020/11/S2A_11SPC_20201124_0_L2A/B03.tif | aws s3 cp - s3://dev-et-data/usmart/RIO/sentinel-s2-l2a-cogs/S2A_11SPC_20201124_0_L2A_B03.tif\n"
     ]
    },
    {
     "name": "stderr",
     "output_type": "stream",
     "text": [
      "2021-09-23 03:12:41 URL:https://sentinel-cogs.s3.us-west-2.amazonaws.com/sentinel-s2-l2a-cogs/11/S/PC/2020/11/S2B_11SPC_20201109_0_L2A/B04.tif [180303151/180303151] -> \"-\" [1]\n",
      "2021-09-23 03:12:41 URL:https://sentinel-cogs.s3.us-west-2.amazonaws.com/sentinel-s2-l2a-cogs/11/S/PC/2020/11/S2A_11SPC_20201114_0_L2A/B04.tif [174366692/174366692] -> \"-\" [1]\n",
      "2021-09-23 03:12:42 URL:https://sentinel-cogs.s3.us-west-2.amazonaws.com/sentinel-s2-l2a-cogs/11/S/PC/2020/11/S2A_11SPC_20201121_0_L2A/B04.tif [214362147/214362147] -> \"-\" [1]\n",
      "03:12:42: sending https://sentinel-cogs.s3.us-west-2.amazonaws.com/sentinel-s2-l2a-cogs/11/S/PC/2020/11/S2B_11SPC_20201109_0_L2A/B03.tif\n"
     ]
    },
    {
     "name": "stdout",
     "output_type": "stream",
     "text": [
      "\n",
      "\n",
      "wget this: %s https://sentinel-cogs.s3.us-west-2.amazonaws.com/sentinel-s2-l2a-cogs/11/S/PC/2020/11/S2B_11SPC_20201109_0_L2A/B03.tif\n",
      "wget -nv -O- https://sentinel-cogs.s3.us-west-2.amazonaws.com/sentinel-s2-l2a-cogs/11/S/PC/2020/11/S2B_11SPC_20201109_0_L2A/B03.tif | aws s3 cp - s3://dev-et-data/usmart/RIO/sentinel-s2-l2a-cogs/\n",
      "S2B_11SPC_20201109_0_L2A_B03.tif\n",
      "wget -nv -O- https://sentinel-cogs.s3.us-west-2.amazonaws.com/sentinel-s2-l2a-cogs/11/S/PC/2020/11/S2B_11SPC_20201109_0_L2A/B03.tif | aws s3 cp - s3://dev-et-data/usmart/RIO/sentinel-s2-l2a-cogs/S2B_11SPC_20201109_0_L2A_B03.tif\n"
     ]
    },
    {
     "name": "stderr",
     "output_type": "stream",
     "text": [
      "2021-09-23 03:12:42 URL:https://sentinel-cogs.s3.us-west-2.amazonaws.com/sentinel-s2-l2a-cogs/11/S/PC/2020/11/S2B_11SPC_20201119_0_L2A/B04.tif [172028300/172028300] -> \"-\" [1]\n",
      "03:12:42: sending https://sentinel-cogs.s3.us-west-2.amazonaws.com/sentinel-s2-l2a-cogs/11/S/PC/2020/11/S2A_11SPC_20201114_0_L2A/B03.tif\n",
      "03:12:42: sending https://sentinel-cogs.s3.us-west-2.amazonaws.com/sentinel-s2-l2a-cogs/11/S/PC/2020/11/S2A_11SPC_20201121_0_L2A/B03.tif\n"
     ]
    },
    {
     "name": "stdout",
     "output_type": "stream",
     "text": [
      "\n",
      "\n",
      "wget this: %s https://sentinel-cogs.s3.us-west-2.amazonaws.com/sentinel-s2-l2a-cogs/11/S/PC/2020/11/S2A_11SPC_20201114_0_L2A/B03.tif\n",
      "wget -nv -O- https://sentinel-cogs.s3.us-west-2.amazonaws.com/sentinel-s2-l2a-cogs/11/S/PC/2020/11/S2A_11SPC_20201114_0_L2A/B03.tif | aws s3 cp - s3://dev-et-data/usmart/RIO/sentinel-s2-l2a-cogs/\n",
      "S2A_11SPC_20201114_0_L2A_B03.tif\n",
      "wget -nv -O- https://sentinel-cogs.s3.us-west-2.amazonaws.com/sentinel-s2-l2a-cogs/11/S/PC/2020/11/S2A_11SPC_20201114_0_L2A/B03.tif | aws s3 cp - s3://dev-et-data/usmart/RIO/sentinel-s2-l2a-cogs/S2A_11SPC_20201114_0_L2A_B03.tif\n",
      "\n",
      "\n",
      "wget this: %s https://sentinel-cogs.s3.us-west-2.amazonaws.com/sentinel-s2-l2a-cogs/11/S/PC/2020/11/S2A_11SPC_20201121_0_L2A/B03.tif\n",
      "wget -nv -O- https://sentinel-cogs.s3.us-west-2.amazonaws.com/sentinel-s2-l2a-cogs/11/S/PC/2020/11/S2A_11SPC_20201121_0_L2A/B03.tif | aws s3 cp - s3://dev-et-data/usmart/RIO/sentinel-s2-l2a-cogs/\n",
      "S2A_11SPC_20201121_0_L2A_B03.tif\n",
      "wget -nv -O- https://sentinel-cogs.s3.us-west-2.amazonaws.com/sentinel-s2-l2a-cogs/11/S/PC/2020/11/S2A_11SPC_20201121_0_L2A/B03.tif | aws s3 cp - s3://dev-et-data/usmart/RIO/sentinel-s2-l2a-cogs/S2A_11SPC_20201121_0_L2A_B03.tif\n"
     ]
    },
    {
     "name": "stderr",
     "output_type": "stream",
     "text": [
      "2021-09-23 03:12:43 URL:https://sentinel-cogs.s3.us-west-2.amazonaws.com/sentinel-s2-l2a-cogs/11/S/PC/2020/10/S2A_11SPC_20201025_0_L2A/B04.tif [168846734/168846734] -> \"-\" [1]\n",
      "2021-09-23 03:12:43 URL:https://sentinel-cogs.s3.us-west-2.amazonaws.com/sentinel-s2-l2a-cogs/11/S/PC/2020/10/S2B_11SPC_20201030_0_L2A/B04.tif [171795196/171795196] -> \"-\" [1]\n",
      "2021-09-23 03:12:43 URL:https://sentinel-cogs.s3.us-west-2.amazonaws.com/sentinel-s2-l2a-cogs/11/S/PC/2020/11/S2B_11SPC_20201106_0_L2A/B04.tif [194250882/194250882] -> \"-\" [1]\n",
      "2021-09-23 03:12:43 URL:https://sentinel-cogs.s3.us-west-2.amazonaws.com/sentinel-s2-l2a-cogs/11/S/PC/2020/11/S2A_11SPC_20201101_0_L2A/B04.tif [189712339/189712339] -> \"-\" [1]\n",
      "03:12:43: sending https://sentinel-cogs.s3.us-west-2.amazonaws.com/sentinel-s2-l2a-cogs/11/S/PC/2020/11/S2B_11SPC_20201119_0_L2A/B03.tif\n"
     ]
    },
    {
     "name": "stdout",
     "output_type": "stream",
     "text": [
      "\n",
      "\n",
      "wget this: %s https://sentinel-cogs.s3.us-west-2.amazonaws.com/sentinel-s2-l2a-cogs/11/S/PC/2020/11/S2B_11SPC_20201119_0_L2A/B03.tif\n",
      "wget -nv -O- https://sentinel-cogs.s3.us-west-2.amazonaws.com/sentinel-s2-l2a-cogs/11/S/PC/2020/11/S2B_11SPC_20201119_0_L2A/B03.tif | aws s3 cp - s3://dev-et-data/usmart/RIO/sentinel-s2-l2a-cogs/\n",
      "S2B_11SPC_20201119_0_L2A_B03.tif\n",
      "wget -nv -O- https://sentinel-cogs.s3.us-west-2.amazonaws.com/sentinel-s2-l2a-cogs/11/S/PC/2020/11/S2B_11SPC_20201119_0_L2A/B03.tif | aws s3 cp - s3://dev-et-data/usmart/RIO/sentinel-s2-l2a-cogs/S2B_11SPC_20201119_0_L2A_B03.tif\n"
     ]
    },
    {
     "name": "stderr",
     "output_type": "stream",
     "text": [
      "2021-09-23 03:12:43 URL:https://sentinel-cogs.s3.us-west-2.amazonaws.com/sentinel-s2-l2a-cogs/11/S/PC/2020/11/S2A_11SPC_20201104_0_L2A/B04.tif [169675448/169675448] -> \"-\" [1]\n",
      "03:12:44: sending https://sentinel-cogs.s3.us-west-2.amazonaws.com/sentinel-s2-l2a-cogs/11/S/PC/2020/10/S2B_11SPC_20201030_0_L2A/B03.tif\n"
     ]
    },
    {
     "name": "stdout",
     "output_type": "stream",
     "text": [
      "\n",
      "\n",
      "wget this: %s https://sentinel-cogs.s3.us-west-2.amazonaws.com/sentinel-s2-l2a-cogs/11/S/PC/2020/10/S2B_11SPC_20201030_0_L2A/B03.tif\n",
      "wget -nv -O- https://sentinel-cogs.s3.us-west-2.amazonaws.com/sentinel-s2-l2a-cogs/11/S/PC/2020/10/S2B_11SPC_20201030_0_L2A/B03.tif | aws s3 cp - s3://dev-et-data/usmart/RIO/sentinel-s2-l2a-cogs/\n",
      "S2B_11SPC_20201030_0_L2A_B03.tif\n",
      "wget -nv -O- https://sentinel-cogs.s3.us-west-2.amazonaws.com/sentinel-s2-l2a-cogs/11/S/PC/2020/10/S2B_11SPC_20201030_0_L2A/B03.tif | aws s3 cp - s3://dev-et-data/usmart/RIO/sentinel-s2-l2a-cogs/S2B_11SPC_20201030_0_L2A_B03.tif\n"
     ]
    },
    {
     "name": "stderr",
     "output_type": "stream",
     "text": [
      "03:12:44: sending https://sentinel-cogs.s3.us-west-2.amazonaws.com/sentinel-s2-l2a-cogs/11/S/PC/2020/10/S2A_11SPC_20201025_0_L2A/B03.tif\n",
      "03:12:44: sending https://sentinel-cogs.s3.us-west-2.amazonaws.com/sentinel-s2-l2a-cogs/11/S/PC/2020/11/S2A_11SPC_20201101_0_L2A/B03.tif\n"
     ]
    },
    {
     "name": "stdout",
     "output_type": "stream",
     "text": [
      "\n",
      "\n",
      "\n",
      "\n",
      "wget this: %s https://sentinel-cogs.s3.us-west-2.amazonaws.com/sentinel-s2-l2a-cogs/11/S/PC/2020/10/S2A_11SPC_20201025_0_L2A/B03.tif\n",
      "wget -nv -O- https://sentinel-cogs.s3.us-west-2.amazonaws.com/sentinel-s2-l2a-cogs/11/S/PC/2020/10/S2A_11SPC_20201025_0_L2A/B03.tif | aws s3 cp - s3://dev-et-data/usmart/RIO/sentinel-s2-l2a-cogs/\n",
      "S2A_11SPC_20201025_0_L2A_B03.tif\n",
      "wget -nv -O- https://sentinel-cogs.s3.us-west-2.amazonaws.com/sentinel-s2-l2a-cogs/11/S/PC/2020/10/S2A_11SPC_20201025_0_L2A/B03.tif | aws s3 cp - s3://dev-et-data/usmart/RIO/sentinel-s2-l2a-cogs/S2A_11SPC_20201025_0_L2A_B03.tif\n",
      "wget this: %s https://sentinel-cogs.s3.us-west-2.amazonaws.com/sentinel-s2-l2a-cogs/11/S/PC/2020/11/S2A_11SPC_20201101_0_L2A/B03.tif\n",
      "wget -nv -O- https://sentinel-cogs.s3.us-west-2.amazonaws.com/sentinel-s2-l2a-cogs/11/S/PC/2020/11/S2A_11SPC_20201101_0_L2A/B03.tif | aws s3 cp - s3://dev-et-data/usmart/RIO/sentinel-s2-l2a-cogs/\n",
      "S2A_11SPC_20201101_0_L2A_B03.tif\n",
      "wget -nv -O- https://sentinel-cogs.s3.us-west-2.amazonaws.com/sentinel-s2-l2a-cogs/11/S/PC/2020/11/S2A_11SPC_20201101_0_L2A/B03.tif | aws s3 cp - s3://dev-et-data/usmart/RIO/sentinel-s2-l2a-cogs/S2A_11SPC_20201101_0_L2A_B03.tif\n"
     ]
    },
    {
     "name": "stderr",
     "output_type": "stream",
     "text": [
      "03:12:44: sending https://sentinel-cogs.s3.us-west-2.amazonaws.com/sentinel-s2-l2a-cogs/11/S/PC/2020/11/S2A_11SPC_20201104_0_L2A/B03.tif\n",
      "03:12:44: sending https://sentinel-cogs.s3.us-west-2.amazonaws.com/sentinel-s2-l2a-cogs/11/S/PC/2020/11/S2B_11SPC_20201106_0_L2A/B03.tif\n"
     ]
    },
    {
     "name": "stdout",
     "output_type": "stream",
     "text": [
      "\n",
      "\n",
      "wget this: %s https://sentinel-cogs.s3.us-west-2.amazonaws.com/sentinel-s2-l2a-cogs/11/S/PC/2020/11/S2A_11SPC_20201104_0_L2A/B03.tif\n",
      "wget -nv -O- https://sentinel-cogs.s3.us-west-2.amazonaws.com/sentinel-s2-l2a-cogs/11/S/PC/2020/11/S2A_11SPC_20201104_0_L2A/B03.tif | aws s3 cp - s3://dev-et-data/usmart/RIO/sentinel-s2-l2a-cogs/\n",
      "S2A_11SPC_20201104_0_L2A_B03.tif\n",
      "wget -nv -O- https://sentinel-cogs.s3.us-west-2.amazonaws.com/sentinel-s2-l2a-cogs/11/S/PC/2020/11/S2A_11SPC_20201104_0_L2A/B03.tif | aws s3 cp - s3://dev-et-data/usmart/RIO/sentinel-s2-l2a-cogs/S2A_11SPC_20201104_0_L2A_B03.tif\n",
      "\n",
      "\n",
      "wget this: %s https://sentinel-cogs.s3.us-west-2.amazonaws.com/sentinel-s2-l2a-cogs/11/S/PC/2020/11/S2B_11SPC_20201106_0_L2A/B03.tif\n",
      "wget -nv -O- https://sentinel-cogs.s3.us-west-2.amazonaws.com/sentinel-s2-l2a-cogs/11/S/PC/2020/11/S2B_11SPC_20201106_0_L2A/B03.tif | aws s3 cp - s3://dev-et-data/usmart/RIO/sentinel-s2-l2a-cogs/\n",
      "S2B_11SPC_20201106_0_L2A_B03.tif\n",
      "wget -nv -O- https://sentinel-cogs.s3.us-west-2.amazonaws.com/sentinel-s2-l2a-cogs/11/S/PC/2020/11/S2B_11SPC_20201106_0_L2A/B03.tif | aws s3 cp - s3://dev-et-data/usmart/RIO/sentinel-s2-l2a-cogs/S2B_11SPC_20201106_0_L2A_B03.tif\n"
     ]
    },
    {
     "name": "stderr",
     "output_type": "stream",
     "text": [
      "2021-09-23 03:12:44 URL:https://sentinel-cogs.s3.us-west-2.amazonaws.com/sentinel-s2-l2a-cogs/11/S/PC/2020/11/S2A_11SPC_20201111_0_L2A/B04.tif [237011833/237011833] -> \"-\" [1]\n",
      "03:12:45: sending https://sentinel-cogs.s3.us-west-2.amazonaws.com/sentinel-s2-l2a-cogs/11/S/PC/2020/11/S2A_11SPC_20201111_0_L2A/B03.tif\n"
     ]
    },
    {
     "name": "stdout",
     "output_type": "stream",
     "text": [
      "\n",
      "\n",
      "wget this: %s https://sentinel-cogs.s3.us-west-2.amazonaws.com/sentinel-s2-l2a-cogs/11/S/PC/2020/11/S2A_11SPC_20201111_0_L2A/B03.tif\n",
      "wget -nv -O- https://sentinel-cogs.s3.us-west-2.amazonaws.com/sentinel-s2-l2a-cogs/11/S/PC/2020/11/S2A_11SPC_20201111_0_L2A/B03.tif | aws s3 cp - s3://dev-et-data/usmart/RIO/sentinel-s2-l2a-cogs/\n",
      "S2A_11SPC_20201111_0_L2A_B03.tif\n",
      "wget -nv -O- https://sentinel-cogs.s3.us-west-2.amazonaws.com/sentinel-s2-l2a-cogs/11/S/PC/2020/11/S2A_11SPC_20201111_0_L2A/B03.tif | aws s3 cp - s3://dev-et-data/usmart/RIO/sentinel-s2-l2a-cogs/S2A_11SPC_20201111_0_L2A_B03.tif\n"
     ]
    },
    {
     "name": "stderr",
     "output_type": "stream",
     "text": [
      "2021-09-23 03:12:45 URL:https://sentinel-cogs.s3.us-west-2.amazonaws.com/sentinel-s2-l2a-cogs/11/S/PC/2020/10/S2B_11SPC_20201027_0_L2A/B04.tif [211731930/211731930] -> \"-\" [1]\n",
      "03:12:45: sending https://sentinel-cogs.s3.us-west-2.amazonaws.com/sentinel-s2-l2a-cogs/11/S/PC/2020/10/S2B_11SPC_20201027_0_L2A/B03.tif\n"
     ]
    },
    {
     "name": "stdout",
     "output_type": "stream",
     "text": [
      "\n",
      "\n",
      "wget this: %s https://sentinel-cogs.s3.us-west-2.amazonaws.com/sentinel-s2-l2a-cogs/11/S/PC/2020/10/S2B_11SPC_20201027_0_L2A/B03.tif\n",
      "wget -nv -O- https://sentinel-cogs.s3.us-west-2.amazonaws.com/sentinel-s2-l2a-cogs/11/S/PC/2020/10/S2B_11SPC_20201027_0_L2A/B03.tif | aws s3 cp - s3://dev-et-data/usmart/RIO/sentinel-s2-l2a-cogs/\n",
      "S2B_11SPC_20201027_0_L2A_B03.tif\n",
      "wget -nv -O- https://sentinel-cogs.s3.us-west-2.amazonaws.com/sentinel-s2-l2a-cogs/11/S/PC/2020/10/S2B_11SPC_20201027_0_L2A/B03.tif | aws s3 cp - s3://dev-et-data/usmart/RIO/sentinel-s2-l2a-cogs/S2B_11SPC_20201027_0_L2A_B03.tif\n"
     ]
    },
    {
     "name": "stderr",
     "output_type": "stream",
     "text": [
      "2021-09-23 03:12:47 URL:https://sentinel-cogs.s3.us-west-2.amazonaws.com/sentinel-s2-l2a-cogs/11/S/PC/2020/10/S2B_11SPC_20201020_0_L2A/B04.tif [171074076/171074076] -> \"-\" [1]\n",
      "03:12:49: sending https://sentinel-cogs.s3.us-west-2.amazonaws.com/sentinel-s2-l2a-cogs/11/S/PC/2020/10/S2B_11SPC_20201020_0_L2A/B03.tif\n"
     ]
    },
    {
     "name": "stdout",
     "output_type": "stream",
     "text": [
      "\n",
      "\n",
      "wget this: %s https://sentinel-cogs.s3.us-west-2.amazonaws.com/sentinel-s2-l2a-cogs/11/S/PC/2020/10/S2B_11SPC_20201020_0_L2A/B03.tif\n",
      "wget -nv -O- https://sentinel-cogs.s3.us-west-2.amazonaws.com/sentinel-s2-l2a-cogs/11/S/PC/2020/10/S2B_11SPC_20201020_0_L2A/B03.tif | aws s3 cp - s3://dev-et-data/usmart/RIO/sentinel-s2-l2a-cogs/\n",
      "S2B_11SPC_20201020_0_L2A_B03.tif\n",
      "wget -nv -O- https://sentinel-cogs.s3.us-west-2.amazonaws.com/sentinel-s2-l2a-cogs/11/S/PC/2020/10/S2B_11SPC_20201020_0_L2A/B03.tif | aws s3 cp - s3://dev-et-data/usmart/RIO/sentinel-s2-l2a-cogs/S2B_11SPC_20201020_0_L2A_B03.tif\n"
     ]
    },
    {
     "name": "stderr",
     "output_type": "stream",
     "text": [
      "2021-09-23 03:12:50 URL:https://sentinel-cogs.s3.us-west-2.amazonaws.com/sentinel-s2-l2a-cogs/11/S/PC/2020/10/S2A_11SPC_20201022_0_L2A/B04.tif [210726650/210726650] -> \"-\" [1]\n",
      "2021-09-23 03:12:50 URL:https://sentinel-cogs.s3.us-west-2.amazonaws.com/sentinel-s2-l2a-cogs/11/S/PC/2020/10/S2B_11SPC_20201017_0_L2A/B04.tif [211375229/211375229] -> \"-\" [1]\n",
      "2021-09-23 03:12:50 URL:https://sentinel-cogs.s3.us-west-2.amazonaws.com/sentinel-s2-l2a-cogs/11/S/PC/2020/11/S2A_11SPC_20201124_0_L2A/B03.tif [171136275/171136275] -> \"-\" [1]\n",
      "03:12:51: sending https://sentinel-cogs.s3.us-west-2.amazonaws.com/sentinel-s2-l2a-cogs/11/S/PC/2020/10/S2A_11SPC_20201022_0_L2A/B03.tif\n",
      "2021-09-23 03:12:51 URL:https://sentinel-cogs.s3.us-west-2.amazonaws.com/sentinel-s2-l2a-cogs/11/S/PC/2020/11/S2B_11SPC_20201109_0_L2A/B03.tif [182420536/182420536] -> \"-\" [1]\n",
      "03:12:51: sending https://sentinel-cogs.s3.us-west-2.amazonaws.com/sentinel-s2-l2a-cogs/11/S/PC/2020/10/S2B_11SPC_20201017_0_L2A/B03.tif\n"
     ]
    },
    {
     "name": "stdout",
     "output_type": "stream",
     "text": [
      "\n",
      "\n",
      "wget this: %s https://sentinel-cogs.s3.us-west-2.amazonaws.com/sentinel-s2-l2a-cogs/11/S/PC/2020/10/S2A_11SPC_20201022_0_L2A/B03.tif\n",
      "wget -nv -O- https://sentinel-cogs.s3.us-west-2.amazonaws.com/sentinel-s2-l2a-cogs/11/S/PC/2020/10/S2A_11SPC_20201022_0_L2A/B03.tif | aws s3 cp - s3://dev-et-data/usmart/RIO/sentinel-s2-l2a-cogs/\n",
      "S2A_11SPC_20201022_0_L2A_B03.tif\n",
      "wget -nv -O- https://sentinel-cogs.s3.us-west-2.amazonaws.com/sentinel-s2-l2a-cogs/11/S/PC/2020/10/S2A_11SPC_20201022_0_L2A/B03.tif | aws s3 cp - s3://dev-et-data/usmart/RIO/sentinel-s2-l2a-cogs/S2A_11SPC_20201022_0_L2A_B03.tif\n",
      "\n",
      "\n",
      "wget this: %s https://sentinel-cogs.s3.us-west-2.amazonaws.com/sentinel-s2-l2a-cogs/11/S/PC/2020/10/S2B_11SPC_20201017_0_L2A/B03.tif\n",
      "wget -nv -O- https://sentinel-cogs.s3.us-west-2.amazonaws.com/sentinel-s2-l2a-cogs/11/S/PC/2020/10/S2B_11SPC_20201017_0_L2A/B03.tif | aws s3 cp - s3://dev-et-data/usmart/RIO/sentinel-s2-l2a-cogs/\n",
      "S2B_11SPC_20201017_0_L2A_B03.tif\n",
      "wget -nv -O- https://sentinel-cogs.s3.us-west-2.amazonaws.com/sentinel-s2-l2a-cogs/11/S/PC/2020/10/S2B_11SPC_20201017_0_L2A/B03.tif | aws s3 cp - s3://dev-et-data/usmart/RIO/sentinel-s2-l2a-cogs/S2B_11SPC_20201017_0_L2A_B03.tif\n"
     ]
    },
    {
     "name": "stderr",
     "output_type": "stream",
     "text": [
      "03:12:51: sending https://sentinel-cogs.s3.us-west-2.amazonaws.com/sentinel-s2-l2a-cogs/11/S/PC/2020/11/S2A_11SPC_20201124_0_L2A/B02.tif\n"
     ]
    },
    {
     "name": "stdout",
     "output_type": "stream",
     "text": [
      "\n",
      "\n",
      "wget this: %s https://sentinel-cogs.s3.us-west-2.amazonaws.com/sentinel-s2-l2a-cogs/11/S/PC/2020/11/S2A_11SPC_20201124_0_L2A/B02.tif\n",
      "wget -nv -O- https://sentinel-cogs.s3.us-west-2.amazonaws.com/sentinel-s2-l2a-cogs/11/S/PC/2020/11/S2A_11SPC_20201124_0_L2A/B02.tif | aws s3 cp - s3://dev-et-data/usmart/RIO/sentinel-s2-l2a-cogs/\n",
      "S2A_11SPC_20201124_0_L2A_B02.tif\n",
      "wget -nv -O- https://sentinel-cogs.s3.us-west-2.amazonaws.com/sentinel-s2-l2a-cogs/11/S/PC/2020/11/S2A_11SPC_20201124_0_L2A/B02.tif | aws s3 cp - s3://dev-et-data/usmart/RIO/sentinel-s2-l2a-cogs/S2A_11SPC_20201124_0_L2A_B02.tif\n"
     ]
    },
    {
     "name": "stderr",
     "output_type": "stream",
     "text": [
      "03:12:52: sending https://sentinel-cogs.s3.us-west-2.amazonaws.com/sentinel-s2-l2a-cogs/11/S/PC/2020/11/S2B_11SPC_20201109_0_L2A/B02.tif\n"
     ]
    },
    {
     "name": "stdout",
     "output_type": "stream",
     "text": [
      "\n",
      "\n",
      "wget this: %s https://sentinel-cogs.s3.us-west-2.amazonaws.com/sentinel-s2-l2a-cogs/11/S/PC/2020/11/S2B_11SPC_20201109_0_L2A/B02.tif\n",
      "wget -nv -O- https://sentinel-cogs.s3.us-west-2.amazonaws.com/sentinel-s2-l2a-cogs/11/S/PC/2020/11/S2B_11SPC_20201109_0_L2A/B02.tif | aws s3 cp - s3://dev-et-data/usmart/RIO/sentinel-s2-l2a-cogs/\n",
      "S2B_11SPC_20201109_0_L2A_B02.tif\n",
      "wget -nv -O- https://sentinel-cogs.s3.us-west-2.amazonaws.com/sentinel-s2-l2a-cogs/11/S/PC/2020/11/S2B_11SPC_20201109_0_L2A/B02.tif | aws s3 cp - s3://dev-et-data/usmart/RIO/sentinel-s2-l2a-cogs/S2B_11SPC_20201109_0_L2A_B02.tif\n"
     ]
    },
    {
     "name": "stderr",
     "output_type": "stream",
     "text": [
      "2021-09-23 03:12:52 URL:https://sentinel-cogs.s3.us-west-2.amazonaws.com/sentinel-s2-l2a-cogs/11/S/PC/2020/11/S2B_11SPC_20201119_0_L2A/B03.tif [172613644/172613644] -> \"-\" [1]\n",
      "2021-09-23 03:12:52 URL:https://sentinel-cogs.s3.us-west-2.amazonaws.com/sentinel-s2-l2a-cogs/11/S/PC/2020/11/S2A_11SPC_20201114_0_L2A/B03.tif [176751916/176751916] -> \"-\" [1]\n",
      "2021-09-23 03:12:52 URL:https://sentinel-cogs.s3.us-west-2.amazonaws.com/sentinel-s2-l2a-cogs/11/S/PC/2020/10/S2A_11SPC_20201025_0_L2A/B03.tif [168294518/168294518] -> \"-\" [1]\n",
      "2021-09-23 03:12:53 URL:https://sentinel-cogs.s3.us-west-2.amazonaws.com/sentinel-s2-l2a-cogs/11/S/PC/2020/10/S2B_11SPC_20201030_0_L2A/B03.tif [171475236/171475236] -> \"-\" [1]\n",
      "03:12:53: sending https://sentinel-cogs.s3.us-west-2.amazonaws.com/sentinel-s2-l2a-cogs/11/S/PC/2020/11/S2A_11SPC_20201114_0_L2A/B02.tif\n"
     ]
    },
    {
     "name": "stdout",
     "output_type": "stream",
     "text": [
      "\n",
      "\n",
      "wget this: %s https://sentinel-cogs.s3.us-west-2.amazonaws.com/sentinel-s2-l2a-cogs/11/S/PC/2020/11/S2A_11SPC_20201114_0_L2A/B02.tif\n",
      "wget -nv -O- https://sentinel-cogs.s3.us-west-2.amazonaws.com/sentinel-s2-l2a-cogs/11/S/PC/2020/11/S2A_11SPC_20201114_0_L2A/B02.tif | aws s3 cp - s3://dev-et-data/usmart/RIO/sentinel-s2-l2a-cogs/\n",
      "S2A_11SPC_20201114_0_L2A_B02.tif\n",
      "wget -nv -O- https://sentinel-cogs.s3.us-west-2.amazonaws.com/sentinel-s2-l2a-cogs/11/S/PC/2020/11/S2A_11SPC_20201114_0_L2A/B02.tif | aws s3 cp - s3://dev-et-data/usmart/RIO/sentinel-s2-l2a-cogs/S2A_11SPC_20201114_0_L2A_B02.tif\n"
     ]
    },
    {
     "name": "stderr",
     "output_type": "stream",
     "text": [
      "03:12:53: sending https://sentinel-cogs.s3.us-west-2.amazonaws.com/sentinel-s2-l2a-cogs/11/S/PC/2020/11/S2B_11SPC_20201119_0_L2A/B02.tif\n",
      "03:12:53: sending https://sentinel-cogs.s3.us-west-2.amazonaws.com/sentinel-s2-l2a-cogs/11/S/PC/2020/10/S2B_11SPC_20201030_0_L2A/B02.tif\n"
     ]
    },
    {
     "name": "stdout",
     "output_type": "stream",
     "text": [
      "\n",
      "\n",
      "wget this: %s https://sentinel-cogs.s3.us-west-2.amazonaws.com/sentinel-s2-l2a-cogs/11/S/PC/2020/11/S2B_11SPC_20201119_0_L2A/B02.tif\n",
      "wget -nv -O- https://sentinel-cogs.s3.us-west-2.amazonaws.com/sentinel-s2-l2a-cogs/11/S/PC/2020/11/S2B_11SPC_20201119_0_L2A/B02.tif | aws s3 cp - s3://dev-et-data/usmart/RIO/sentinel-s2-l2a-cogs/\n",
      "S2B_11SPC_20201119_0_L2A_B02.tif\n",
      "wget -nv -O- https://sentinel-cogs.s3.us-west-2.amazonaws.com/sentinel-s2-l2a-cogs/11/S/PC/2020/11/S2B_11SPC_20201119_0_L2A/B02.tif | aws s3 cp - s3://dev-et-data/usmart/RIO/sentinel-s2-l2a-cogs/S2B_11SPC_20201119_0_L2A_B02.tif\n",
      "\n",
      "\n",
      "wget this: %s https://sentinel-cogs.s3.us-west-2.amazonaws.com/sentinel-s2-l2a-cogs/11/S/PC/2020/10/S2B_11SPC_20201030_0_L2A/B02.tif\n",
      "wget -nv -O- https://sentinel-cogs.s3.us-west-2.amazonaws.com/sentinel-s2-l2a-cogs/11/S/PC/2020/10/S2B_11SPC_20201030_0_L2A/B02.tif | aws s3 cp - s3://dev-et-data/usmart/RIO/sentinel-s2-l2a-cogs/\n",
      "S2B_11SPC_20201030_0_L2A_B02.tif\n",
      "wget -nv -O- https://sentinel-cogs.s3.us-west-2.amazonaws.com/sentinel-s2-l2a-cogs/11/S/PC/2020/10/S2B_11SPC_20201030_0_L2A/B02.tif | aws s3 cp - s3://dev-et-data/usmart/RIO/sentinel-s2-l2a-cogs/S2B_11SPC_20201030_0_L2A_B02.tif\n"
     ]
    },
    {
     "name": "stderr",
     "output_type": "stream",
     "text": [
      "2021-09-23 03:12:53 URL:https://sentinel-cogs.s3.us-west-2.amazonaws.com/sentinel-s2-l2a-cogs/11/S/PC/2020/11/S2A_11SPC_20201101_0_L2A/B03.tif [189935290/189935290] -> \"-\" [1]\n",
      "03:12:54: sending https://sentinel-cogs.s3.us-west-2.amazonaws.com/sentinel-s2-l2a-cogs/11/S/PC/2020/10/S2A_11SPC_20201025_0_L2A/B02.tif\n",
      "2021-09-23 03:12:54 URL:https://sentinel-cogs.s3.us-west-2.amazonaws.com/sentinel-s2-l2a-cogs/11/S/PC/2020/11/S2A_11SPC_20201121_0_L2A/B03.tif [214196495/214196495] -> \"-\" [1]\n"
     ]
    },
    {
     "name": "stdout",
     "output_type": "stream",
     "text": [
      "\n",
      "\n",
      "wget this: %s https://sentinel-cogs.s3.us-west-2.amazonaws.com/sentinel-s2-l2a-cogs/11/S/PC/2020/10/S2A_11SPC_20201025_0_L2A/B02.tif\n",
      "wget -nv -O- https://sentinel-cogs.s3.us-west-2.amazonaws.com/sentinel-s2-l2a-cogs/11/S/PC/2020/10/S2A_11SPC_20201025_0_L2A/B02.tif | aws s3 cp - s3://dev-et-data/usmart/RIO/sentinel-s2-l2a-cogs/\n",
      "S2A_11SPC_20201025_0_L2A_B02.tif\n",
      "wget -nv -O- https://sentinel-cogs.s3.us-west-2.amazonaws.com/sentinel-s2-l2a-cogs/11/S/PC/2020/10/S2A_11SPC_20201025_0_L2A/B02.tif | aws s3 cp - s3://dev-et-data/usmart/RIO/sentinel-s2-l2a-cogs/S2A_11SPC_20201025_0_L2A_B02.tif\n"
     ]
    },
    {
     "name": "stderr",
     "output_type": "stream",
     "text": [
      "2021-09-23 03:12:54 URL:https://sentinel-cogs.s3.us-west-2.amazonaws.com/sentinel-s2-l2a-cogs/11/S/PC/2020/11/S2A_11SPC_20201104_0_L2A/B03.tif [169648701/169648701] -> \"-\" [1]\n",
      "03:12:54: sending https://sentinel-cogs.s3.us-west-2.amazonaws.com/sentinel-s2-l2a-cogs/11/S/PC/2020/11/S2A_11SPC_20201101_0_L2A/B02.tif\n",
      "03:12:54: sending https://sentinel-cogs.s3.us-west-2.amazonaws.com/sentinel-s2-l2a-cogs/11/S/PC/2020/11/S2A_11SPC_20201121_0_L2A/B02.tif\n"
     ]
    },
    {
     "name": "stdout",
     "output_type": "stream",
     "text": [
      "\n",
      "\n",
      "wget this: %s https://sentinel-cogs.s3.us-west-2.amazonaws.com/sentinel-s2-l2a-cogs/11/S/PC/2020/11/S2A_11SPC_20201101_0_L2A/B02.tif\n",
      "wget -nv -O- https://sentinel-cogs.s3.us-west-2.amazonaws.com/sentinel-s2-l2a-cogs/11/S/PC/2020/11/S2A_11SPC_20201101_0_L2A/B02.tif | aws s3 cp - s3://dev-et-data/usmart/RIO/sentinel-s2-l2a-cogs/\n",
      "S2A_11SPC_20201101_0_L2A_B02.tif\n",
      "wget -nv -O- https://sentinel-cogs.s3.us-west-2.amazonaws.com/sentinel-s2-l2a-cogs/11/S/PC/2020/11/S2A_11SPC_20201101_0_L2A/B02.tif | aws s3 cp - s3://dev-et-data/usmart/RIO/sentinel-s2-l2a-cogs/S2A_11SPC_20201101_0_L2A_B02.tif\n",
      "\n",
      "\n",
      "wget this: %s https://sentinel-cogs.s3.us-west-2.amazonaws.com/sentinel-s2-l2a-cogs/11/S/PC/2020/11/S2A_11SPC_20201121_0_L2A/B02.tif\n",
      "wget -nv -O- https://sentinel-cogs.s3.us-west-2.amazonaws.com/sentinel-s2-l2a-cogs/11/S/PC/2020/11/S2A_11SPC_20201121_0_L2A/B02.tif | aws s3 cp - s3://dev-et-data/usmart/RIO/sentinel-s2-l2a-cogs/\n",
      "S2A_11SPC_20201121_0_L2A_B02.tif\n",
      "wget -nv -O- https://sentinel-cogs.s3.us-west-2.amazonaws.com/sentinel-s2-l2a-cogs/11/S/PC/2020/11/S2A_11SPC_20201121_0_L2A/B02.tif | aws s3 cp - s3://dev-et-data/usmart/RIO/sentinel-s2-l2a-cogs/S2A_11SPC_20201121_0_L2A_B02.tif\n"
     ]
    },
    {
     "name": "stderr",
     "output_type": "stream",
     "text": [
      "03:12:54: sending https://sentinel-cogs.s3.us-west-2.amazonaws.com/sentinel-s2-l2a-cogs/11/S/PC/2020/11/S2A_11SPC_20201104_0_L2A/B02.tif\n"
     ]
    },
    {
     "name": "stdout",
     "output_type": "stream",
     "text": [
      "\n",
      "\n",
      "wget this: %s https://sentinel-cogs.s3.us-west-2.amazonaws.com/sentinel-s2-l2a-cogs/11/S/PC/2020/11/S2A_11SPC_20201104_0_L2A/B02.tif\n",
      "wget -nv -O- https://sentinel-cogs.s3.us-west-2.amazonaws.com/sentinel-s2-l2a-cogs/11/S/PC/2020/11/S2A_11SPC_20201104_0_L2A/B02.tif | aws s3 cp - s3://dev-et-data/usmart/RIO/sentinel-s2-l2a-cogs/\n",
      "S2A_11SPC_20201104_0_L2A_B02.tif\n",
      "wget -nv -O- https://sentinel-cogs.s3.us-west-2.amazonaws.com/sentinel-s2-l2a-cogs/11/S/PC/2020/11/S2A_11SPC_20201104_0_L2A/B02.tif | aws s3 cp - s3://dev-et-data/usmart/RIO/sentinel-s2-l2a-cogs/S2A_11SPC_20201104_0_L2A_B02.tif\n"
     ]
    },
    {
     "name": "stderr",
     "output_type": "stream",
     "text": [
      "2021-09-23 03:12:55 URL:https://sentinel-cogs.s3.us-west-2.amazonaws.com/sentinel-s2-l2a-cogs/11/S/PC/2020/11/S2B_11SPC_20201106_0_L2A/B03.tif [194583775/194583775] -> \"-\" [1]\n",
      "03:12:55: sending https://sentinel-cogs.s3.us-west-2.amazonaws.com/sentinel-s2-l2a-cogs/11/S/PC/2020/11/S2B_11SPC_20201106_0_L2A/B02.tif\n"
     ]
    },
    {
     "name": "stdout",
     "output_type": "stream",
     "text": [
      "\n",
      "\n",
      "wget this: %s https://sentinel-cogs.s3.us-west-2.amazonaws.com/sentinel-s2-l2a-cogs/11/S/PC/2020/11/S2B_11SPC_20201106_0_L2A/B02.tif\n",
      "wget -nv -O- https://sentinel-cogs.s3.us-west-2.amazonaws.com/sentinel-s2-l2a-cogs/11/S/PC/2020/11/S2B_11SPC_20201106_0_L2A/B02.tif | aws s3 cp - s3://dev-et-data/usmart/RIO/sentinel-s2-l2a-cogs/\n",
      "S2B_11SPC_20201106_0_L2A_B02.tif\n",
      "wget -nv -O- https://sentinel-cogs.s3.us-west-2.amazonaws.com/sentinel-s2-l2a-cogs/11/S/PC/2020/11/S2B_11SPC_20201106_0_L2A/B02.tif | aws s3 cp - s3://dev-et-data/usmart/RIO/sentinel-s2-l2a-cogs/S2B_11SPC_20201106_0_L2A_B02.tif\n"
     ]
    },
    {
     "name": "stderr",
     "output_type": "stream",
     "text": [
      "2021-09-23 03:12:56 URL:https://sentinel-cogs.s3.us-west-2.amazonaws.com/sentinel-s2-l2a-cogs/11/S/PC/2020/10/S2B_11SPC_20201027_0_L2A/B03.tif [210491320/210491320] -> \"-\" [1]\n",
      "2021-09-23 03:12:57 URL:https://sentinel-cogs.s3.us-west-2.amazonaws.com/sentinel-s2-l2a-cogs/11/S/PC/2020/11/S2A_11SPC_20201111_0_L2A/B03.tif [239532437/239532437] -> \"-\" [1]\n",
      "03:12:58: sending https://sentinel-cogs.s3.us-west-2.amazonaws.com/sentinel-s2-l2a-cogs/11/S/PC/2020/10/S2B_11SPC_20201027_0_L2A/B02.tif\n"
     ]
    },
    {
     "name": "stdout",
     "output_type": "stream",
     "text": [
      "\n",
      "\n",
      "wget this: %s https://sentinel-cogs.s3.us-west-2.amazonaws.com/sentinel-s2-l2a-cogs/11/S/PC/2020/10/S2B_11SPC_20201027_0_L2A/B02.tif\n",
      "wget -nv -O- https://sentinel-cogs.s3.us-west-2.amazonaws.com/sentinel-s2-l2a-cogs/11/S/PC/2020/10/S2B_11SPC_20201027_0_L2A/B02.tif | aws s3 cp - s3://dev-et-data/usmart/RIO/sentinel-s2-l2a-cogs/\n",
      "S2B_11SPC_20201027_0_L2A_B02.tif\n",
      "wget -nv -O- https://sentinel-cogs.s3.us-west-2.amazonaws.com/sentinel-s2-l2a-cogs/11/S/PC/2020/10/S2B_11SPC_20201027_0_L2A/B02.tif | aws s3 cp - s3://dev-et-data/usmart/RIO/sentinel-s2-l2a-cogs/S2B_11SPC_20201027_0_L2A_B02.tif\n"
     ]
    },
    {
     "name": "stderr",
     "output_type": "stream",
     "text": [
      "03:12:59: sending https://sentinel-cogs.s3.us-west-2.amazonaws.com/sentinel-s2-l2a-cogs/11/S/PC/2020/11/S2A_11SPC_20201111_0_L2A/B02.tif\n"
     ]
    },
    {
     "name": "stdout",
     "output_type": "stream",
     "text": [
      "\n",
      "\n",
      "wget this: %s https://sentinel-cogs.s3.us-west-2.amazonaws.com/sentinel-s2-l2a-cogs/11/S/PC/2020/11/S2A_11SPC_20201111_0_L2A/B02.tif\n",
      "wget -nv -O- https://sentinel-cogs.s3.us-west-2.amazonaws.com/sentinel-s2-l2a-cogs/11/S/PC/2020/11/S2A_11SPC_20201111_0_L2A/B02.tif | aws s3 cp - s3://dev-et-data/usmart/RIO/sentinel-s2-l2a-cogs/\n",
      "S2A_11SPC_20201111_0_L2A_B02.tif\n",
      "wget -nv -O- https://sentinel-cogs.s3.us-west-2.amazonaws.com/sentinel-s2-l2a-cogs/11/S/PC/2020/11/S2A_11SPC_20201111_0_L2A/B02.tif | aws s3 cp - s3://dev-et-data/usmart/RIO/sentinel-s2-l2a-cogs/S2A_11SPC_20201111_0_L2A_B02.tif\n"
     ]
    },
    {
     "name": "stderr",
     "output_type": "stream",
     "text": [
      "2021-09-23 03:13:00 URL:https://sentinel-cogs.s3.us-west-2.amazonaws.com/sentinel-s2-l2a-cogs/11/S/PC/2020/11/S2A_11SPC_20201124_0_L2A/B02.tif [169789591/169789591] -> \"-\" [1]\n",
      "2021-09-23 03:13:00 URL:https://sentinel-cogs.s3.us-west-2.amazonaws.com/sentinel-s2-l2a-cogs/11/S/PC/2020/11/S2B_11SPC_20201109_0_L2A/B02.tif [183988932/183988932] -> \"-\" [1]\n",
      "2021-09-23 03:13:00 URL:https://sentinel-cogs.s3.us-west-2.amazonaws.com/sentinel-s2-l2a-cogs/11/S/PC/2020/10/S2B_11SPC_20201017_0_L2A/B03.tif [210160027/210160027] -> \"-\" [1]\n",
      "2021-09-23 03:13:00 URL:https://sentinel-cogs.s3.us-west-2.amazonaws.com/sentinel-s2-l2a-cogs/11/S/PC/2020/10/S2B_11SPC_20201020_0_L2A/B03.tif [170744956/170744956] -> \"-\" [1]\n",
      "03:13:01: Thread 15: finishing in 30 seconds\n",
      "03:13:01: xfer Thread 30: starting\n",
      "03:13:01: sending https://sentinel-cogs.s3.us-west-2.amazonaws.com/sentinel-s2-l2a-cogs/11/S/PC/2020/10/S2A_11SPC_20201015_0_L2A/B04.tif\n"
     ]
    },
    {
     "name": "stdout",
     "output_type": "stream",
     "text": [
      "\n",
      "\n",
      "wget this: %s https://sentinel-cogs.s3.us-west-2.amazonaws.com/sentinel-s2-l2a-cogs/11/S/PC/2020/10/S2A_11SPC_20201015_0_L2A/B04.tif\n",
      "wget -nv -O- https://sentinel-cogs.s3.us-west-2.amazonaws.com/sentinel-s2-l2a-cogs/11/S/PC/2020/10/S2A_11SPC_20201015_0_L2A/B04.tif | aws s3 cp - s3://dev-et-data/usmart/RIO/sentinel-s2-l2a-cogs/\n",
      "S2A_11SPC_20201015_0_L2A_B04.tif\n",
      "wget -nv -O- https://sentinel-cogs.s3.us-west-2.amazonaws.com/sentinel-s2-l2a-cogs/11/S/PC/2020/10/S2A_11SPC_20201015_0_L2A/B04.tif | aws s3 cp - s3://dev-et-data/usmart/RIO/sentinel-s2-l2a-cogs/S2A_11SPC_20201015_0_L2A_B04.tif\n"
     ]
    },
    {
     "name": "stderr",
     "output_type": "stream",
     "text": [
      "2021-09-23 03:13:01 URL:https://sentinel-cogs.s3.us-west-2.amazonaws.com/sentinel-s2-l2a-cogs/11/S/PC/2020/10/S2A_11SPC_20201022_0_L2A/B03.tif [208925875/208925875] -> \"-\" [1]\n",
      "03:13:01: sending https://sentinel-cogs.s3.us-west-2.amazonaws.com/sentinel-s2-l2a-cogs/11/S/PC/2020/10/S2B_11SPC_20201017_0_L2A/B02.tif\n",
      "03:13:01: Thread 20: finishing in 28 seconds\n",
      "03:13:01: xfer Thread 31: starting\n",
      "03:13:01: sending https://sentinel-cogs.s3.us-west-2.amazonaws.com/sentinel-s2-l2a-cogs/11/S/PC/2020/10/S2A_11SPC_20201012_0_L2A/B04.tif\n",
      "2021-09-23 03:13:01 URL:https://sentinel-cogs.s3.us-west-2.amazonaws.com/sentinel-s2-l2a-cogs/11/S/PC/2020/10/S2A_11SPC_20201025_0_L2A/B02.tif [169378429/169378429] -> \"-\" [1]\n",
      "03:13:01: sending https://sentinel-cogs.s3.us-west-2.amazonaws.com/sentinel-s2-l2a-cogs/11/S/PC/2020/10/S2B_11SPC_20201020_0_L2A/B02.tif\n"
     ]
    },
    {
     "name": "stdout",
     "output_type": "stream",
     "text": [
      "\n",
      "\n",
      "wget this: %s https://sentinel-cogs.s3.us-west-2.amazonaws.com/sentinel-s2-l2a-cogs/11/S/PC/2020/10/S2B_11SPC_20201017_0_L2A/B02.tif\n",
      "wget -nv -O- https://sentinel-cogs.s3.us-west-2.amazonaws.com/sentinel-s2-l2a-cogs/11/S/PC/2020/10/S2B_11SPC_20201017_0_L2A/B02.tif | aws s3 cp - s3://dev-et-data/usmart/RIO/sentinel-s2-l2a-cogs/\n",
      "S2B_11SPC_20201017_0_L2A_B02.tif\n",
      "wget -nv -O- https://sentinel-cogs.s3.us-west-2.amazonaws.com/sentinel-s2-l2a-cogs/11/S/PC/2020/10/S2B_11SPC_20201017_0_L2A/B02.tif | aws s3 cp - s3://dev-et-data/usmart/RIO/sentinel-s2-l2a-cogs/S2B_11SPC_20201017_0_L2A_B02.tif\n",
      "\n",
      "\n",
      "wget this: %s https://sentinel-cogs.s3.us-west-2.amazonaws.com/sentinel-s2-l2a-cogs/11/S/PC/2020/10/S2A_11SPC_20201012_0_L2A/B04.tif\n",
      "wget -nv -O- https://sentinel-cogs.s3.us-west-2.amazonaws.com/sentinel-s2-l2a-cogs/11/S/PC/2020/10/S2A_11SPC_20201012_0_L2A/B04.tif | aws s3 cp - s3://dev-et-data/usmart/RIO/sentinel-s2-l2a-cogs/\n",
      "S2A_11SPC_20201012_0_L2A_B04.tif\n",
      "wget -nv -O- https://sentinel-cogs.s3.us-west-2.amazonaws.com/sentinel-s2-l2a-cogs/11/S/PC/2020/10/S2A_11SPC_20201012_0_L2A/B04.tif | aws s3 cp - s3://dev-et-data/usmart/RIO/sentinel-s2-l2a-cogs/S2A_11SPC_20201012_0_L2A_B04.tif\n",
      "\n",
      "\n",
      "wget this: %s https://sentinel-cogs.s3.us-west-2.amazonaws.com/sentinel-s2-l2a-cogs/11/S/PC/2020/10/S2B_11SPC_20201020_0_L2A/B02.tif\n",
      "wget -nv -O- https://sentinel-cogs.s3.us-west-2.amazonaws.com/sentinel-s2-l2a-cogs/11/S/PC/2020/10/S2B_11SPC_20201020_0_L2A/B02.tif | aws s3 cp - s3://dev-et-data/usmart/RIO/sentinel-s2-l2a-cogs/\n",
      "S2B_11SPC_20201020_0_L2A_B02.tif\n",
      "wget -nv -O- https://sentinel-cogs.s3.us-west-2.amazonaws.com/sentinel-s2-l2a-cogs/11/S/PC/2020/10/S2B_11SPC_20201020_0_L2A/B02.tif | aws s3 cp - s3://dev-et-data/usmart/RIO/sentinel-s2-l2a-cogs/S2B_11SPC_20201020_0_L2A_B02.tif\n"
     ]
    },
    {
     "name": "stderr",
     "output_type": "stream",
     "text": [
      "2021-09-23 03:13:02 URL:https://sentinel-cogs.s3.us-west-2.amazonaws.com/sentinel-s2-l2a-cogs/11/S/PC/2020/11/S2A_11SPC_20201114_0_L2A/B02.tif [179102771/179102771] -> \"-\" [1]\n",
      "03:13:02: Thread 26: finishing in 27 seconds\n",
      "03:13:02: xfer Thread 32: starting\n",
      "03:13:02: sending https://sentinel-cogs.s3.us-west-2.amazonaws.com/sentinel-s2-l2a-cogs/11/S/PC/2020/10/S2B_11SPC_20201010_0_L2A/B04.tif\n",
      "03:13:02: sending https://sentinel-cogs.s3.us-west-2.amazonaws.com/sentinel-s2-l2a-cogs/11/S/PC/2020/10/S2A_11SPC_20201022_0_L2A/B02.tif\n"
     ]
    },
    {
     "name": "stdout",
     "output_type": "stream",
     "text": [
      "\n",
      "\n",
      "wget this: %s https://sentinel-cogs.s3.us-west-2.amazonaws.com/sentinel-s2-l2a-cogs/11/S/PC/2020/10/S2B_11SPC_20201010_0_L2A/B04.tif\n",
      "wget -nv -O- https://sentinel-cogs.s3.us-west-2.amazonaws.com/sentinel-s2-l2a-cogs/11/S/PC/2020/10/S2B_11SPC_20201010_0_L2A/B04.tif | aws s3 cp - s3://dev-et-data/usmart/RIO/sentinel-s2-l2a-cogs/\n",
      "S2B_11SPC_20201010_0_L2A_B04.tif\n",
      "wget -nv -O- https://sentinel-cogs.s3.us-west-2.amazonaws.com/sentinel-s2-l2a-cogs/11/S/PC/2020/10/S2B_11SPC_20201010_0_L2A/B04.tif | aws s3 cp - s3://dev-et-data/usmart/RIO/sentinel-s2-l2a-cogs/S2B_11SPC_20201010_0_L2A_B04.tif\n",
      "\n",
      "\n",
      "wget this: %s https://sentinel-cogs.s3.us-west-2.amazonaws.com/sentinel-s2-l2a-cogs/11/S/PC/2020/10/S2A_11SPC_20201022_0_L2A/B02.tif\n",
      "wget -nv -O- https://sentinel-cogs.s3.us-west-2.amazonaws.com/sentinel-s2-l2a-cogs/11/S/PC/2020/10/S2A_11SPC_20201022_0_L2A/B02.tif | aws s3 cp - s3://dev-et-data/usmart/RIO/sentinel-s2-l2a-cogs/\n",
      "S2A_11SPC_20201022_0_L2A_B02.tif\n",
      "wget -nv -O- https://sentinel-cogs.s3.us-west-2.amazonaws.com/sentinel-s2-l2a-cogs/11/S/PC/2020/10/S2A_11SPC_20201022_0_L2A/B02.tif | aws s3 cp - s3://dev-et-data/usmart/RIO/sentinel-s2-l2a-cogs/S2A_11SPC_20201022_0_L2A_B02.tif\n"
     ]
    },
    {
     "name": "stderr",
     "output_type": "stream",
     "text": [
      "03:13:03: Thread 18: finishing in 29 seconds\n",
      "03:13:03: xfer Thread 33: starting\n",
      "03:13:03: sending https://sentinel-cogs.s3.us-west-2.amazonaws.com/sentinel-s2-l2a-cogs/11/S/PC/2020/10/S2B_11SPC_20201007_0_L2A/B04.tif\n"
     ]
    },
    {
     "name": "stdout",
     "output_type": "stream",
     "text": [
      "\n",
      "\n",
      "wget this: %s https://sentinel-cogs.s3.us-west-2.amazonaws.com/sentinel-s2-l2a-cogs/11/S/PC/2020/10/S2B_11SPC_20201007_0_L2A/B04.tif\n",
      "wget -nv -O- https://sentinel-cogs.s3.us-west-2.amazonaws.com/sentinel-s2-l2a-cogs/11/S/PC/2020/10/S2B_11SPC_20201007_0_L2A/B04.tif | aws s3 cp - s3://dev-et-data/usmart/RIO/sentinel-s2-l2a-cogs/\n",
      "S2B_11SPC_20201007_0_L2A_B04.tif\n",
      "wget -nv -O- https://sentinel-cogs.s3.us-west-2.amazonaws.com/sentinel-s2-l2a-cogs/11/S/PC/2020/10/S2B_11SPC_20201007_0_L2A/B04.tif | aws s3 cp - s3://dev-et-data/usmart/RIO/sentinel-s2-l2a-cogs/S2B_11SPC_20201007_0_L2A_B04.tif\n"
     ]
    },
    {
     "name": "stderr",
     "output_type": "stream",
     "text": [
      "2021-09-23 03:13:03 URL:https://sentinel-cogs.s3.us-west-2.amazonaws.com/sentinel-s2-l2a-cogs/11/S/PC/2020/11/S2B_11SPC_20201119_0_L2A/B02.tif [171767684/171767684] -> \"-\" [1]\n",
      "2021-09-23 03:13:03 URL:https://sentinel-cogs.s3.us-west-2.amazonaws.com/sentinel-s2-l2a-cogs/11/S/PC/2020/10/S2B_11SPC_20201030_0_L2A/B02.tif [171324717/171324717] -> \"-\" [1]\n",
      "03:13:03: Thread 17: finishing in 31 seconds\n",
      "03:13:03: xfer Thread 34: starting\n",
      "03:13:03: sending https://sentinel-cogs.s3.us-west-2.amazonaws.com/sentinel-s2-l2a-cogs/11/S/PC/2020/10/S2A_11SPC_20201002_0_L2A/B04.tif\n"
     ]
    },
    {
     "name": "stdout",
     "output_type": "stream",
     "text": [
      "\n",
      "\n",
      "wget this: %s https://sentinel-cogs.s3.us-west-2.amazonaws.com/sentinel-s2-l2a-cogs/11/S/PC/2020/10/S2A_11SPC_20201002_0_L2A/B04.tif\n",
      "wget -nv -O- https://sentinel-cogs.s3.us-west-2.amazonaws.com/sentinel-s2-l2a-cogs/11/S/PC/2020/10/S2A_11SPC_20201002_0_L2A/B04.tif | aws s3 cp - s3://dev-et-data/usmart/RIO/sentinel-s2-l2a-cogs/\n",
      "S2A_11SPC_20201002_0_L2A_B04.tif\n",
      "wget -nv -O- https://sentinel-cogs.s3.us-west-2.amazonaws.com/sentinel-s2-l2a-cogs/11/S/PC/2020/10/S2A_11SPC_20201002_0_L2A/B04.tif | aws s3 cp - s3://dev-et-data/usmart/RIO/sentinel-s2-l2a-cogs/S2A_11SPC_20201002_0_L2A_B04.tif\n"
     ]
    },
    {
     "name": "stderr",
     "output_type": "stream",
     "text": [
      "03:13:04: Thread 24: finishing in 29 seconds\n",
      "03:13:04: xfer Thread 35: starting\n",
      "03:13:04: sending https://sentinel-cogs.s3.us-west-2.amazonaws.com/sentinel-s2-l2a-cogs/11/S/PC/2020/9/S2B_11SPC_20200930_0_L2A/B04.tif\n"
     ]
    },
    {
     "name": "stdout",
     "output_type": "stream",
     "text": [
      "\n",
      "\n",
      "wget this: %s https://sentinel-cogs.s3.us-west-2.amazonaws.com/sentinel-s2-l2a-cogs/11/S/PC/2020/9/S2B_11SPC_20200930_0_L2A/B04.tif\n",
      "wget -nv -O- https://sentinel-cogs.s3.us-west-2.amazonaws.com/sentinel-s2-l2a-cogs/11/S/PC/2020/9/S2B_11SPC_20200930_0_L2A/B04.tif | aws s3 cp - s3://dev-et-data/usmart/RIO/sentinel-s2-l2a-cogs/\n",
      "S2B_11SPC_20200930_0_L2A_B04.tif\n",
      "wget -nv -O- https://sentinel-cogs.s3.us-west-2.amazonaws.com/sentinel-s2-l2a-cogs/11/S/PC/2020/9/S2B_11SPC_20200930_0_L2A/B04.tif | aws s3 cp - s3://dev-et-data/usmart/RIO/sentinel-s2-l2a-cogs/S2B_11SPC_20200930_0_L2A_B04.tif\n"
     ]
    },
    {
     "name": "stderr",
     "output_type": "stream",
     "text": [
      "2021-09-23 03:13:04 URL:https://sentinel-cogs.s3.us-west-2.amazonaws.com/sentinel-s2-l2a-cogs/11/S/PC/2020/11/S2A_11SPC_20201104_0_L2A/B02.tif [168569645/168569645] -> \"-\" [1]\n",
      "2021-09-23 03:13:05 URL:https://sentinel-cogs.s3.us-west-2.amazonaws.com/sentinel-s2-l2a-cogs/11/S/PC/2020/11/S2A_11SPC_20201121_0_L2A/B02.tif [212930100/212930100] -> \"-\" [1]\n",
      "03:13:05: Thread 22: finishing in 31 seconds\n",
      "03:13:05: xfer Thread 36: starting\n",
      "03:13:05: sending https://sentinel-cogs.s3.us-west-2.amazonaws.com/sentinel-s2-l2a-cogs/11/S/PC/2020/9/S2B_11SPC_20200927_0_L2A/B04.tif\n"
     ]
    },
    {
     "name": "stdout",
     "output_type": "stream",
     "text": [
      "\n",
      "\n",
      "wget this: %s https://sentinel-cogs.s3.us-west-2.amazonaws.com/sentinel-s2-l2a-cogs/11/S/PC/2020/9/S2B_11SPC_20200927_0_L2A/B04.tif\n",
      "wget -nv -O- https://sentinel-cogs.s3.us-west-2.amazonaws.com/sentinel-s2-l2a-cogs/11/S/PC/2020/9/S2B_11SPC_20200927_0_L2A/B04.tif | aws s3 cp - s3://dev-et-data/usmart/RIO/sentinel-s2-l2a-cogs/\n",
      "S2B_11SPC_20200927_0_L2A_B04.tif\n",
      "wget -nv -O- https://sentinel-cogs.s3.us-west-2.amazonaws.com/sentinel-s2-l2a-cogs/11/S/PC/2020/9/S2B_11SPC_20200927_0_L2A/B04.tif | aws s3 cp - s3://dev-et-data/usmart/RIO/sentinel-s2-l2a-cogs/S2B_11SPC_20200927_0_L2A_B04.tif\n"
     ]
    },
    {
     "name": "stderr",
     "output_type": "stream",
     "text": [
      "03:13:06: Thread 16: finishing in 34 seconds\n",
      "03:13:06: xfer Thread 37: starting\n",
      "03:13:06: sending https://sentinel-cogs.s3.us-west-2.amazonaws.com/sentinel-s2-l2a-cogs/11/S/PC/2020/9/S2A_11SPC_20200925_0_L2A/B04.tif\n"
     ]
    },
    {
     "name": "stdout",
     "output_type": "stream",
     "text": [
      "\n",
      "\n",
      "wget this: %s https://sentinel-cogs.s3.us-west-2.amazonaws.com/sentinel-s2-l2a-cogs/11/S/PC/2020/9/S2A_11SPC_20200925_0_L2A/B04.tif\n",
      "wget -nv -O- https://sentinel-cogs.s3.us-west-2.amazonaws.com/sentinel-s2-l2a-cogs/11/S/PC/2020/9/S2A_11SPC_20200925_0_L2A/B04.tif | aws s3 cp - s3://dev-et-data/usmart/RIO/sentinel-s2-l2a-cogs/\n",
      "S2A_11SPC_20200925_0_L2A_B04.tif\n",
      "wget -nv -O- https://sentinel-cogs.s3.us-west-2.amazonaws.com/sentinel-s2-l2a-cogs/11/S/PC/2020/9/S2A_11SPC_20200925_0_L2A/B04.tif | aws s3 cp - s3://dev-et-data/usmart/RIO/sentinel-s2-l2a-cogs/S2A_11SPC_20200925_0_L2A_B04.tif\n"
     ]
    },
    {
     "name": "stderr",
     "output_type": "stream",
     "text": [
      "2021-09-23 03:13:06 URL:https://sentinel-cogs.s3.us-west-2.amazonaws.com/sentinel-s2-l2a-cogs/11/S/PC/2020/11/S2A_11SPC_20201101_0_L2A/B02.tif [191214773/191214773] -> \"-\" [1]\n",
      "2021-09-23 03:13:07 URL:https://sentinel-cogs.s3.us-west-2.amazonaws.com/sentinel-s2-l2a-cogs/11/S/PC/2020/11/S2B_11SPC_20201106_0_L2A/B02.tif [196165640/196165640] -> \"-\" [1]\n",
      "03:13:07: Thread 23: finishing in 33 seconds\n",
      "03:13:07: xfer Thread 38: starting\n",
      "03:13:07: sending https://sentinel-cogs.s3.us-west-2.amazonaws.com/sentinel-s2-l2a-cogs/11/S/PC/2020/9/S2A_11SPC_20200922_0_L2A/B04.tif\n"
     ]
    },
    {
     "name": "stdout",
     "output_type": "stream",
     "text": [
      "\n",
      "\n",
      "wget this: %s https://sentinel-cogs.s3.us-west-2.amazonaws.com/sentinel-s2-l2a-cogs/11/S/PC/2020/9/S2A_11SPC_20200922_0_L2A/B04.tif\n",
      "wget -nv -O- https://sentinel-cogs.s3.us-west-2.amazonaws.com/sentinel-s2-l2a-cogs/11/S/PC/2020/9/S2A_11SPC_20200922_0_L2A/B04.tif | aws s3 cp - s3://dev-et-data/usmart/RIO/sentinel-s2-l2a-cogs/\n",
      "S2A_11SPC_20200922_0_L2A_B04.tif\n",
      "wget -nv -O- https://sentinel-cogs.s3.us-west-2.amazonaws.com/sentinel-s2-l2a-cogs/11/S/PC/2020/9/S2A_11SPC_20200922_0_L2A/B04.tif | aws s3 cp - s3://dev-et-data/usmart/RIO/sentinel-s2-l2a-cogs/S2A_11SPC_20200922_0_L2A_B04.tif\n"
     ]
    },
    {
     "name": "stderr",
     "output_type": "stream",
     "text": [
      "03:13:08: Thread 21: finishing in 34 seconds\n",
      "03:13:08: xfer Thread 39: starting\n",
      "03:13:08: sending https://sentinel-cogs.s3.us-west-2.amazonaws.com/sentinel-s2-l2a-cogs/11/S/PC/2020/9/S2B_11SPC_20200920_0_L2A/B04.tif\n"
     ]
    },
    {
     "name": "stdout",
     "output_type": "stream",
     "text": [
      "\n",
      "\n",
      "wget this: %s https://sentinel-cogs.s3.us-west-2.amazonaws.com/sentinel-s2-l2a-cogs/11/S/PC/2020/9/S2B_11SPC_20200920_0_L2A/B04.tif\n",
      "wget -nv -O- https://sentinel-cogs.s3.us-west-2.amazonaws.com/sentinel-s2-l2a-cogs/11/S/PC/2020/9/S2B_11SPC_20200920_0_L2A/B04.tif | aws s3 cp - s3://dev-et-data/usmart/RIO/sentinel-s2-l2a-cogs/\n",
      "S2B_11SPC_20200920_0_L2A_B04.tif\n",
      "wget -nv -O- https://sentinel-cogs.s3.us-west-2.amazonaws.com/sentinel-s2-l2a-cogs/11/S/PC/2020/9/S2B_11SPC_20200920_0_L2A/B04.tif | aws s3 cp - s3://dev-et-data/usmart/RIO/sentinel-s2-l2a-cogs/S2B_11SPC_20200920_0_L2A_B04.tif\n"
     ]
    },
    {
     "name": "stderr",
     "output_type": "stream",
     "text": [
      "2021-09-23 03:13:10 URL:https://sentinel-cogs.s3.us-west-2.amazonaws.com/sentinel-s2-l2a-cogs/11/S/PC/2020/10/S2A_11SPC_20201015_0_L2A/B04.tif [170302638/170302638] -> \"-\" [1]\n",
      "2021-09-23 03:13:10 URL:https://sentinel-cogs.s3.us-west-2.amazonaws.com/sentinel-s2-l2a-cogs/11/S/PC/2020/11/S2A_11SPC_20201111_0_L2A/B02.tif [242274845/242274845] -> \"-\" [1]\n",
      "2021-09-23 03:13:10 URL:https://sentinel-cogs.s3.us-west-2.amazonaws.com/sentinel-s2-l2a-cogs/11/S/PC/2020/10/S2B_11SPC_20201020_0_L2A/B02.tif [171270080/171270080] -> \"-\" [1]\n",
      "2021-09-23 03:13:11 URL:https://sentinel-cogs.s3.us-west-2.amazonaws.com/sentinel-s2-l2a-cogs/11/S/PC/2020/10/S2B_11SPC_20201017_0_L2A/B02.tif [211255678/211255678] -> \"-\" [1]\n",
      "2021-09-23 03:13:11 URL:https://sentinel-cogs.s3.us-west-2.amazonaws.com/sentinel-s2-l2a-cogs/11/S/PC/2020/10/S2B_11SPC_20201027_0_L2A/B02.tif [211083353/211083353] -> \"-\" [1]\n",
      "03:13:11: sending https://sentinel-cogs.s3.us-west-2.amazonaws.com/sentinel-s2-l2a-cogs/11/S/PC/2020/10/S2A_11SPC_20201015_0_L2A/B03.tif\n"
     ]
    },
    {
     "name": "stdout",
     "output_type": "stream",
     "text": [
      "\n",
      "\n",
      "wget this: %s https://sentinel-cogs.s3.us-west-2.amazonaws.com/sentinel-s2-l2a-cogs/11/S/PC/2020/10/S2A_11SPC_20201015_0_L2A/B03.tif\n",
      "wget -nv -O- https://sentinel-cogs.s3.us-west-2.amazonaws.com/sentinel-s2-l2a-cogs/11/S/PC/2020/10/S2A_11SPC_20201015_0_L2A/B03.tif | aws s3 cp - s3://dev-et-data/usmart/RIO/sentinel-s2-l2a-cogs/\n",
      "S2A_11SPC_20201015_0_L2A_B03.tif\n",
      "wget -nv -O- https://sentinel-cogs.s3.us-west-2.amazonaws.com/sentinel-s2-l2a-cogs/11/S/PC/2020/10/S2A_11SPC_20201015_0_L2A/B03.tif | aws s3 cp - s3://dev-et-data/usmart/RIO/sentinel-s2-l2a-cogs/S2A_11SPC_20201015_0_L2A_B03.tif\n"
     ]
    },
    {
     "name": "stderr",
     "output_type": "stream",
     "text": [
      "03:13:11: Thread 28: finishing in 34 seconds\n",
      "03:13:11: xfer Thread 40: starting\n",
      "03:13:11: sending https://sentinel-cogs.s3.us-west-2.amazonaws.com/sentinel-s2-l2a-cogs/11/S/PC/2020/9/S2B_11SPC_20200917_0_L2A/B04.tif\n",
      "03:13:11: Thread 19: finishing in 37 seconds\n",
      "03:13:11: xfer Thread 41: starting\n",
      "03:13:11: sending https://sentinel-cogs.s3.us-west-2.amazonaws.com/sentinel-s2-l2a-cogs/11/S/PC/2020/9/S2A_11SPC_20200915_0_L2A/B04.tif\n"
     ]
    },
    {
     "name": "stdout",
     "output_type": "stream",
     "text": [
      "\n",
      "\n",
      "wget this: %s https://sentinel-cogs.s3.us-west-2.amazonaws.com/sentinel-s2-l2a-cogs/11/S/PC/2020/9/S2B_11SPC_20200917_0_L2A/B04.tif\n",
      "wget -nv -O- https://sentinel-cogs.s3.us-west-2.amazonaws.com/sentinel-s2-l2a-cogs/11/S/PC/2020/9/S2B_11SPC_20200917_0_L2A/B04.tif | aws s3 cp - s3://dev-et-data/usmart/RIO/sentinel-s2-l2a-cogs/\n",
      "S2B_11SPC_20200917_0_L2A_B04.tif\n",
      "wget -nv -O- https://sentinel-cogs.s3.us-west-2.amazonaws.com/sentinel-s2-l2a-cogs/11/S/PC/2020/9/S2B_11SPC_20200917_0_L2A/B04.tif | aws s3 cp - s3://dev-et-data/usmart/RIO/sentinel-s2-l2a-cogs/S2B_11SPC_20200917_0_L2A_B04.tif\n",
      "\n",
      "\n",
      "wget this: %s https://sentinel-cogs.s3.us-west-2.amazonaws.com/sentinel-s2-l2a-cogs/11/S/PC/2020/9/S2A_11SPC_20200915_0_L2A/B04.tif\n",
      "wget -nv -O- https://sentinel-cogs.s3.us-west-2.amazonaws.com/sentinel-s2-l2a-cogs/11/S/PC/2020/9/S2A_11SPC_20200915_0_L2A/B04.tif | aws s3 cp - s3://dev-et-data/usmart/RIO/sentinel-s2-l2a-cogs/\n",
      "S2A_11SPC_20200915_0_L2A_B04.tif\n",
      "wget -nv -O- https://sentinel-cogs.s3.us-west-2.amazonaws.com/sentinel-s2-l2a-cogs/11/S/PC/2020/9/S2A_11SPC_20200915_0_L2A/B04.tif | aws s3 cp - s3://dev-et-data/usmart/RIO/sentinel-s2-l2a-cogs/S2A_11SPC_20200915_0_L2A_B04.tif\n"
     ]
    },
    {
     "name": "stderr",
     "output_type": "stream",
     "text": [
      "2021-09-23 03:13:11 URL:https://sentinel-cogs.s3.us-west-2.amazonaws.com/sentinel-s2-l2a-cogs/11/S/PC/2020/10/S2A_11SPC_20201012_0_L2A/B04.tif [211836924/211836924] -> \"-\" [1]\n",
      "2021-09-23 03:13:11 URL:https://sentinel-cogs.s3.us-west-2.amazonaws.com/sentinel-s2-l2a-cogs/11/S/PC/2020/10/S2B_11SPC_20201010_0_L2A/B04.tif [162244596/162244596] -> \"-\" [1]\n",
      "2021-09-23 03:13:11 URL:https://sentinel-cogs.s3.us-west-2.amazonaws.com/sentinel-s2-l2a-cogs/11/S/PC/2020/10/S2B_11SPC_20201007_0_L2A/B04.tif [167353475/167353475] -> \"-\" [1]\n",
      "03:13:11: Thread 25: finishing in 37 seconds\n",
      "03:13:11: xfer Thread 42: starting\n",
      "03:13:11: sending https://sentinel-cogs.s3.us-west-2.amazonaws.com/sentinel-s2-l2a-cogs/11/S/PC/2020/9/S2A_11SPC_20200912_0_L2A/B04.tif\n",
      "03:13:11: Thread 29: finishing in 31 seconds\n",
      "03:13:11: xfer Thread 43: starting\n",
      "03:13:11: sending https://sentinel-cogs.s3.us-west-2.amazonaws.com/sentinel-s2-l2a-cogs/11/S/PC/2020/9/S2B_11SPC_20200910_0_L2A/B04.tif\n"
     ]
    },
    {
     "name": "stdout",
     "output_type": "stream",
     "text": [
      "\n",
      "\n",
      "wget this: %s https://sentinel-cogs.s3.us-west-2.amazonaws.com/sentinel-s2-l2a-cogs/11/S/PC/2020/9/S2A_11SPC_20200912_0_L2A/B04.tif\n",
      "wget -nv -O- https://sentinel-cogs.s3.us-west-2.amazonaws.com/sentinel-s2-l2a-cogs/11/S/PC/2020/9/S2A_11SPC_20200912_0_L2A/B04.tif | aws s3 cp - s3://dev-et-data/usmart/RIO/sentinel-s2-l2a-cogs/\n",
      "S2A_11SPC_20200912_0_L2A_B04.tif\n",
      "wget -nv -O- https://sentinel-cogs.s3.us-west-2.amazonaws.com/sentinel-s2-l2a-cogs/11/S/PC/2020/9/S2A_11SPC_20200912_0_L2A/B04.tif | aws s3 cp - s3://dev-et-data/usmart/RIO/sentinel-s2-l2a-cogs/S2A_11SPC_20200912_0_L2A_B04.tif\n",
      "\n",
      "\n",
      "wget this: %s https://sentinel-cogs.s3.us-west-2.amazonaws.com/sentinel-s2-l2a-cogs/11/S/PC/2020/9/S2B_11SPC_20200910_0_L2A/B04.tif\n",
      "wget -nv -O- https://sentinel-cogs.s3.us-west-2.amazonaws.com/sentinel-s2-l2a-cogs/11/S/PC/2020/9/S2B_11SPC_20200910_0_L2A/B04.tif | aws s3 cp - s3://dev-et-data/usmart/RIO/sentinel-s2-l2a-cogs/\n",
      "S2B_11SPC_20200910_0_L2A_B04.tif\n",
      "wget -nv -O- https://sentinel-cogs.s3.us-west-2.amazonaws.com/sentinel-s2-l2a-cogs/11/S/PC/2020/9/S2B_11SPC_20200910_0_L2A/B04.tif | aws s3 cp - s3://dev-et-data/usmart/RIO/sentinel-s2-l2a-cogs/S2B_11SPC_20200910_0_L2A_B04.tif\n"
     ]
    },
    {
     "name": "stderr",
     "output_type": "stream",
     "text": [
      "2021-09-23 03:13:12 URL:https://sentinel-cogs.s3.us-west-2.amazonaws.com/sentinel-s2-l2a-cogs/11/S/PC/2020/10/S2A_11SPC_20201022_0_L2A/B02.tif [210221823/210221823] -> \"-\" [1]\n",
      "03:13:12: sending https://sentinel-cogs.s3.us-west-2.amazonaws.com/sentinel-s2-l2a-cogs/11/S/PC/2020/10/S2B_11SPC_20201007_0_L2A/B03.tif\n",
      "03:13:12: sending https://sentinel-cogs.s3.us-west-2.amazonaws.com/sentinel-s2-l2a-cogs/11/S/PC/2020/10/S2B_11SPC_20201010_0_L2A/B03.tif\n",
      "03:13:12: sending https://sentinel-cogs.s3.us-west-2.amazonaws.com/sentinel-s2-l2a-cogs/11/S/PC/2020/10/S2A_11SPC_20201012_0_L2A/B03.tif\n"
     ]
    },
    {
     "name": "stdout",
     "output_type": "stream",
     "text": [
      "\n",
      "\n",
      "wget this: %s https://sentinel-cogs.s3.us-west-2.amazonaws.com/sentinel-s2-l2a-cogs/11/S/PC/2020/10/S2B_11SPC_20201007_0_L2A/B03.tif\n",
      "wget -nv -O- https://sentinel-cogs.s3.us-west-2.amazonaws.com/sentinel-s2-l2a-cogs/11/S/PC/2020/10/S2B_11SPC_20201007_0_L2A/B03.tif | aws s3 cp - s3://dev-et-data/usmart/RIO/sentinel-s2-l2a-cogs/\n",
      "S2B_11SPC_20201007_0_L2A_B03.tif\n",
      "wget -nv -O- https://sentinel-cogs.s3.us-west-2.amazonaws.com/sentinel-s2-l2a-cogs/11/S/PC/2020/10/S2B_11SPC_20201007_0_L2A/B03.tif | aws s3 cp - s3://dev-et-data/usmart/RIO/sentinel-s2-l2a-cogs/S2B_11SPC_20201007_0_L2A_B03.tif\n",
      "\n",
      "\n",
      "wget this: %s https://sentinel-cogs.s3.us-west-2.amazonaws.com/sentinel-s2-l2a-cogs/11/S/PC/2020/10/S2B_11SPC_20201010_0_L2A/B03.tif\n",
      "wget -nv -O- https://sentinel-cogs.s3.us-west-2.amazonaws.com/sentinel-s2-l2a-cogs/11/S/PC/2020/10/S2B_11SPC_20201010_0_L2A/B03.tif | aws s3 cp - s3://dev-et-data/usmart/RIO/sentinel-s2-l2a-cogs/\n",
      "S2B_11SPC_20201010_0_L2A_B03.tif\n",
      "wget -nv -O- https://sentinel-cogs.s3.us-west-2.amazonaws.com/sentinel-s2-l2a-cogs/11/S/PC/2020/10/S2B_11SPC_20201010_0_L2A/B03.tif | aws s3 cp - s3://dev-et-data/usmart/RIO/sentinel-s2-l2a-cogs/S2B_11SPC_20201010_0_L2A_B03.tif\n",
      "\n",
      "\n",
      "wget this: %s https://sentinel-cogs.s3.us-west-2.amazonaws.com/sentinel-s2-l2a-cogs/11/S/PC/2020/10/S2A_11SPC_20201012_0_L2A/B03.tif\n",
      "wget -nv -O- https://sentinel-cogs.s3.us-west-2.amazonaws.com/sentinel-s2-l2a-cogs/11/S/PC/2020/10/S2A_11SPC_20201012_0_L2A/B03.tif | aws s3 cp - s3://dev-et-data/usmart/RIO/sentinel-s2-l2a-cogs/\n",
      "S2A_11SPC_20201012_0_L2A_B03.tif\n",
      "wget -nv -O- https://sentinel-cogs.s3.us-west-2.amazonaws.com/sentinel-s2-l2a-cogs/11/S/PC/2020/10/S2A_11SPC_20201012_0_L2A/B03.tif | aws s3 cp - s3://dev-et-data/usmart/RIO/sentinel-s2-l2a-cogs/S2A_11SPC_20201012_0_L2A_B03.tif\n"
     ]
    },
    {
     "name": "stderr",
     "output_type": "stream",
     "text": [
      "2021-09-23 03:13:14 URL:https://sentinel-cogs.s3.us-west-2.amazonaws.com/sentinel-s2-l2a-cogs/11/S/PC/2020/9/S2B_11SPC_20200930_0_L2A/B04.tif [170637044/170637044] -> \"-\" [1]\n",
      "2021-09-23 03:13:15 URL:https://sentinel-cogs.s3.us-west-2.amazonaws.com/sentinel-s2-l2a-cogs/11/S/PC/2020/10/S2A_11SPC_20201002_0_L2A/B04.tif [209254388/209254388] -> \"-\" [1]\n",
      "03:13:15: sending https://sentinel-cogs.s3.us-west-2.amazonaws.com/sentinel-s2-l2a-cogs/11/S/PC/2020/9/S2B_11SPC_20200930_0_L2A/B03.tif\n"
     ]
    },
    {
     "name": "stdout",
     "output_type": "stream",
     "text": [
      "\n",
      "\n",
      "wget this: %s https://sentinel-cogs.s3.us-west-2.amazonaws.com/sentinel-s2-l2a-cogs/11/S/PC/2020/9/S2B_11SPC_20200930_0_L2A/B03.tif\n",
      "wget -nv -O- https://sentinel-cogs.s3.us-west-2.amazonaws.com/sentinel-s2-l2a-cogs/11/S/PC/2020/9/S2B_11SPC_20200930_0_L2A/B03.tif | aws s3 cp - s3://dev-et-data/usmart/RIO/sentinel-s2-l2a-cogs/\n",
      "S2B_11SPC_20200930_0_L2A_B03.tif\n",
      "wget -nv -O- https://sentinel-cogs.s3.us-west-2.amazonaws.com/sentinel-s2-l2a-cogs/11/S/PC/2020/9/S2B_11SPC_20200930_0_L2A/B03.tif | aws s3 cp - s3://dev-et-data/usmart/RIO/sentinel-s2-l2a-cogs/S2B_11SPC_20200930_0_L2A_B03.tif\n"
     ]
    },
    {
     "name": "stderr",
     "output_type": "stream",
     "text": [
      "03:13:16: sending https://sentinel-cogs.s3.us-west-2.amazonaws.com/sentinel-s2-l2a-cogs/11/S/PC/2020/10/S2A_11SPC_20201002_0_L2A/B03.tif\n"
     ]
    },
    {
     "name": "stdout",
     "output_type": "stream",
     "text": [
      "\n",
      "\n",
      "wget this: %s https://sentinel-cogs.s3.us-west-2.amazonaws.com/sentinel-s2-l2a-cogs/11/S/PC/2020/10/S2A_11SPC_20201002_0_L2A/B03.tif\n",
      "wget -nv -O- https://sentinel-cogs.s3.us-west-2.amazonaws.com/sentinel-s2-l2a-cogs/11/S/PC/2020/10/S2A_11SPC_20201002_0_L2A/B03.tif | aws s3 cp - s3://dev-et-data/usmart/RIO/sentinel-s2-l2a-cogs/\n",
      "S2A_11SPC_20201002_0_L2A_B03.tif\n",
      "wget -nv -O- https://sentinel-cogs.s3.us-west-2.amazonaws.com/sentinel-s2-l2a-cogs/11/S/PC/2020/10/S2A_11SPC_20201002_0_L2A/B03.tif | aws s3 cp - s3://dev-et-data/usmart/RIO/sentinel-s2-l2a-cogs/S2A_11SPC_20201002_0_L2A_B03.tif\n"
     ]
    },
    {
     "name": "stderr",
     "output_type": "stream",
     "text": [
      "2021-09-23 03:13:16 URL:https://sentinel-cogs.s3.us-west-2.amazonaws.com/sentinel-s2-l2a-cogs/11/S/PC/2020/9/S2A_11SPC_20200925_0_L2A/B04.tif [159000390/159000390] -> \"-\" [1]\n",
      "2021-09-23 03:13:17 URL:https://sentinel-cogs.s3.us-west-2.amazonaws.com/sentinel-s2-l2a-cogs/11/S/PC/2020/9/S2A_11SPC_20200922_0_L2A/B04.tif [186558961/186558961] -> \"-\" [1]\n",
      "03:13:17: Thread 27: finishing in 41 seconds\n",
      "03:13:17: xfer Thread 44: starting\n",
      "03:13:17: sending https://sentinel-cogs.s3.us-west-2.amazonaws.com/sentinel-s2-l2a-cogs/11/S/PC/2020/9/S2B_11SPC_20200907_0_L2A/B04.tif\n"
     ]
    },
    {
     "name": "stdout",
     "output_type": "stream",
     "text": [
      "\n",
      "\n",
      "wget this: %s https://sentinel-cogs.s3.us-west-2.amazonaws.com/sentinel-s2-l2a-cogs/11/S/PC/2020/9/S2B_11SPC_20200907_0_L2A/B04.tif\n",
      "wget -nv -O- https://sentinel-cogs.s3.us-west-2.amazonaws.com/sentinel-s2-l2a-cogs/11/S/PC/2020/9/S2B_11SPC_20200907_0_L2A/B04.tif | aws s3 cp - s3://dev-et-data/usmart/RIO/sentinel-s2-l2a-cogs/\n",
      "S2B_11SPC_20200907_0_L2A_B04.tif\n",
      "wget -nv -O- https://sentinel-cogs.s3.us-west-2.amazonaws.com/sentinel-s2-l2a-cogs/11/S/PC/2020/9/S2B_11SPC_20200907_0_L2A/B04.tif | aws s3 cp - s3://dev-et-data/usmart/RIO/sentinel-s2-l2a-cogs/S2B_11SPC_20200907_0_L2A_B04.tif\n"
     ]
    },
    {
     "name": "stderr",
     "output_type": "stream",
     "text": [
      "2021-09-23 03:13:18 URL:https://sentinel-cogs.s3.us-west-2.amazonaws.com/sentinel-s2-l2a-cogs/11/S/PC/2020/9/S2B_11SPC_20200927_0_L2A/B04.tif [209084137/209084137] -> \"-\" [1]\n",
      "03:13:18: sending https://sentinel-cogs.s3.us-west-2.amazonaws.com/sentinel-s2-l2a-cogs/11/S/PC/2020/9/S2A_11SPC_20200925_0_L2A/B03.tif\n"
     ]
    },
    {
     "name": "stdout",
     "output_type": "stream",
     "text": [
      "\n",
      "\n",
      "wget this: %s https://sentinel-cogs.s3.us-west-2.amazonaws.com/sentinel-s2-l2a-cogs/11/S/PC/2020/9/S2A_11SPC_20200925_0_L2A/B03.tif\n",
      "wget -nv -O- https://sentinel-cogs.s3.us-west-2.amazonaws.com/sentinel-s2-l2a-cogs/11/S/PC/2020/9/S2A_11SPC_20200925_0_L2A/B03.tif | aws s3 cp - s3://dev-et-data/usmart/RIO/sentinel-s2-l2a-cogs/\n",
      "S2A_11SPC_20200925_0_L2A_B03.tif\n",
      "wget -nv -O- https://sentinel-cogs.s3.us-west-2.amazonaws.com/sentinel-s2-l2a-cogs/11/S/PC/2020/9/S2A_11SPC_20200925_0_L2A/B03.tif | aws s3 cp - s3://dev-et-data/usmart/RIO/sentinel-s2-l2a-cogs/S2A_11SPC_20200925_0_L2A_B03.tif\n"
     ]
    },
    {
     "name": "stderr",
     "output_type": "stream",
     "text": [
      "03:13:18: sending https://sentinel-cogs.s3.us-west-2.amazonaws.com/sentinel-s2-l2a-cogs/11/S/PC/2020/9/S2A_11SPC_20200922_0_L2A/B03.tif\n"
     ]
    },
    {
     "name": "stdout",
     "output_type": "stream",
     "text": [
      "\n",
      "\n",
      "wget this: %s https://sentinel-cogs.s3.us-west-2.amazonaws.com/sentinel-s2-l2a-cogs/11/S/PC/2020/9/S2A_11SPC_20200922_0_L2A/B03.tif\n",
      "wget -nv -O- https://sentinel-cogs.s3.us-west-2.amazonaws.com/sentinel-s2-l2a-cogs/11/S/PC/2020/9/S2A_11SPC_20200922_0_L2A/B03.tif | aws s3 cp - s3://dev-et-data/usmart/RIO/sentinel-s2-l2a-cogs/\n",
      "S2A_11SPC_20200922_0_L2A_B03.tif\n",
      "wget -nv -O- https://sentinel-cogs.s3.us-west-2.amazonaws.com/sentinel-s2-l2a-cogs/11/S/PC/2020/9/S2A_11SPC_20200922_0_L2A/B03.tif | aws s3 cp - s3://dev-et-data/usmart/RIO/sentinel-s2-l2a-cogs/S2A_11SPC_20200922_0_L2A_B03.tif\n"
     ]
    },
    {
     "name": "stderr",
     "output_type": "stream",
     "text": [
      "2021-09-23 03:13:18 URL:https://sentinel-cogs.s3.us-west-2.amazonaws.com/sentinel-s2-l2a-cogs/11/S/PC/2020/9/S2B_11SPC_20200920_0_L2A/B04.tif [164917911/164917911] -> \"-\" [1]\n",
      "03:13:18: sending https://sentinel-cogs.s3.us-west-2.amazonaws.com/sentinel-s2-l2a-cogs/11/S/PC/2020/9/S2B_11SPC_20200927_0_L2A/B03.tif\n"
     ]
    },
    {
     "name": "stdout",
     "output_type": "stream",
     "text": [
      "\n",
      "\n",
      "wget this: %s https://sentinel-cogs.s3.us-west-2.amazonaws.com/sentinel-s2-l2a-cogs/11/S/PC/2020/9/S2B_11SPC_20200927_0_L2A/B03.tif\n",
      "wget -nv -O- https://sentinel-cogs.s3.us-west-2.amazonaws.com/sentinel-s2-l2a-cogs/11/S/PC/2020/9/S2B_11SPC_20200927_0_L2A/B03.tif | aws s3 cp - s3://dev-et-data/usmart/RIO/sentinel-s2-l2a-cogs/\n",
      "S2B_11SPC_20200927_0_L2A_B03.tif\n",
      "wget -nv -O- https://sentinel-cogs.s3.us-west-2.amazonaws.com/sentinel-s2-l2a-cogs/11/S/PC/2020/9/S2B_11SPC_20200927_0_L2A/B03.tif | aws s3 cp - s3://dev-et-data/usmart/RIO/sentinel-s2-l2a-cogs/S2B_11SPC_20200927_0_L2A_B03.tif\n"
     ]
    },
    {
     "name": "stderr",
     "output_type": "stream",
     "text": [
      "2021-09-23 03:13:19 URL:https://sentinel-cogs.s3.us-west-2.amazonaws.com/sentinel-s2-l2a-cogs/11/S/PC/2020/10/S2A_11SPC_20201015_0_L2A/B03.tif [169744370/169744370] -> \"-\" [1]\n",
      "2021-09-23 03:13:19 URL:https://sentinel-cogs.s3.us-west-2.amazonaws.com/sentinel-s2-l2a-cogs/11/S/PC/2020/9/S2B_11SPC_20200917_0_L2A/B04.tif [191300233/191300233] -> \"-\" [1]\n",
      "2021-09-23 03:13:20 URL:https://sentinel-cogs.s3.us-west-2.amazonaws.com/sentinel-s2-l2a-cogs/11/S/PC/2020/9/S2A_11SPC_20200915_0_L2A/B04.tif [167632560/167632560] -> \"-\" [1]\n",
      "03:13:20: sending https://sentinel-cogs.s3.us-west-2.amazonaws.com/sentinel-s2-l2a-cogs/11/S/PC/2020/9/S2B_11SPC_20200920_0_L2A/B03.tif\n",
      "03:13:20: sending https://sentinel-cogs.s3.us-west-2.amazonaws.com/sentinel-s2-l2a-cogs/11/S/PC/2020/10/S2A_11SPC_20201015_0_L2A/B02.tif\n",
      "03:13:20: sending https://sentinel-cogs.s3.us-west-2.amazonaws.com/sentinel-s2-l2a-cogs/11/S/PC/2020/9/S2B_11SPC_20200917_0_L2A/B03.tif\n"
     ]
    },
    {
     "name": "stdout",
     "output_type": "stream",
     "text": [
      "\n",
      "\n",
      "wget this: %s https://sentinel-cogs.s3.us-west-2.amazonaws.com/sentinel-s2-l2a-cogs/11/S/PC/2020/9/S2B_11SPC_20200920_0_L2A/B03.tif\n",
      "wget -nv -O- https://sentinel-cogs.s3.us-west-2.amazonaws.com/sentinel-s2-l2a-cogs/11/S/PC/2020/9/S2B_11SPC_20200920_0_L2A/B03.tif | aws s3 cp - s3://dev-et-data/usmart/RIO/sentinel-s2-l2a-cogs/\n",
      "S2B_11SPC_20200920_0_L2A_B03.tif\n",
      "wget -nv -O- https://sentinel-cogs.s3.us-west-2.amazonaws.com/sentinel-s2-l2a-cogs/11/S/PC/2020/9/S2B_11SPC_20200920_0_L2A/B03.tif | aws s3 cp - s3://dev-et-data/usmart/RIO/sentinel-s2-l2a-cogs/S2B_11SPC_20200920_0_L2A_B03.tif\n",
      "\n",
      "\n",
      "wget this: %s https://sentinel-cogs.s3.us-west-2.amazonaws.com/sentinel-s2-l2a-cogs/11/S/PC/2020/10/S2A_11SPC_20201015_0_L2A/B02.tif\n",
      "wget -nv -O- https://sentinel-cogs.s3.us-west-2.amazonaws.com/sentinel-s2-l2a-cogs/11/S/PC/2020/10/S2A_11SPC_20201015_0_L2A/B02.tif | aws s3 cp - s3://dev-et-data/usmart/RIO/sentinel-s2-l2a-cogs/\n",
      "S2A_11SPC_20201015_0_L2A_B02.tif\n",
      "wget -nv -O- https://sentinel-cogs.s3.us-west-2.amazonaws.com/sentinel-s2-l2a-cogs/11/S/PC/2020/10/S2A_11SPC_20201015_0_L2A/B02.tif | aws s3 cp - s3://dev-et-data/usmart/RIO/sentinel-s2-l2a-cogs/S2A_11SPC_20201015_0_L2A_B02.tif\n",
      "\n",
      "\n",
      "wget this: %s https://sentinel-cogs.s3.us-west-2.amazonaws.com/sentinel-s2-l2a-cogs/11/S/PC/2020/9/S2B_11SPC_20200917_0_L2A/B03.tif\n",
      "wget -nv -O- https://sentinel-cogs.s3.us-west-2.amazonaws.com/sentinel-s2-l2a-cogs/11/S/PC/2020/9/S2B_11SPC_20200917_0_L2A/B03.tif | aws s3 cp - s3://dev-et-data/usmart/RIO/sentinel-s2-l2a-cogs/\n",
      "S2B_11SPC_20200917_0_L2A_B03.tif\n",
      "wget -nv -O- https://sentinel-cogs.s3.us-west-2.amazonaws.com/sentinel-s2-l2a-cogs/11/S/PC/2020/9/S2B_11SPC_20200917_0_L2A/B03.tif | aws s3 cp - s3://dev-et-data/usmart/RIO/sentinel-s2-l2a-cogs/S2B_11SPC_20200917_0_L2A_B03.tif\n"
     ]
    },
    {
     "name": "stderr",
     "output_type": "stream",
     "text": [
      "2021-09-23 03:13:21 URL:https://sentinel-cogs.s3.us-west-2.amazonaws.com/sentinel-s2-l2a-cogs/11/S/PC/2020/10/S2B_11SPC_20201007_0_L2A/B03.tif [166890248/166890248] -> \"-\" [1]\n",
      "03:13:21: sending https://sentinel-cogs.s3.us-west-2.amazonaws.com/sentinel-s2-l2a-cogs/11/S/PC/2020/9/S2A_11SPC_20200915_0_L2A/B03.tif\n",
      "2021-09-23 03:13:21 URL:https://sentinel-cogs.s3.us-west-2.amazonaws.com/sentinel-s2-l2a-cogs/11/S/PC/2020/9/S2B_11SPC_20200910_0_L2A/B04.tif [168523298/168523298] -> \"-\" [1]\n"
     ]
    },
    {
     "name": "stdout",
     "output_type": "stream",
     "text": [
      "\n",
      "\n",
      "wget this: %s https://sentinel-cogs.s3.us-west-2.amazonaws.com/sentinel-s2-l2a-cogs/11/S/PC/2020/9/S2A_11SPC_20200915_0_L2A/B03.tif\n",
      "wget -nv -O- https://sentinel-cogs.s3.us-west-2.amazonaws.com/sentinel-s2-l2a-cogs/11/S/PC/2020/9/S2A_11SPC_20200915_0_L2A/B03.tif | aws s3 cp - s3://dev-et-data/usmart/RIO/sentinel-s2-l2a-cogs/\n",
      "S2A_11SPC_20200915_0_L2A_B03.tif\n",
      "wget -nv -O- https://sentinel-cogs.s3.us-west-2.amazonaws.com/sentinel-s2-l2a-cogs/11/S/PC/2020/9/S2A_11SPC_20200915_0_L2A/B03.tif | aws s3 cp - s3://dev-et-data/usmart/RIO/sentinel-s2-l2a-cogs/S2A_11SPC_20200915_0_L2A_B03.tif\n"
     ]
    },
    {
     "name": "stderr",
     "output_type": "stream",
     "text": [
      "2021-09-23 03:13:21 URL:https://sentinel-cogs.s3.us-west-2.amazonaws.com/sentinel-s2-l2a-cogs/11/S/PC/2020/10/S2B_11SPC_20201010_0_L2A/B03.tif [160785563/160785563] -> \"-\" [1]\n",
      "2021-09-23 03:13:21 URL:https://sentinel-cogs.s3.us-west-2.amazonaws.com/sentinel-s2-l2a-cogs/11/S/PC/2020/9/S2A_11SPC_20200912_0_L2A/B04.tif [206300545/206300545] -> \"-\" [1]\n",
      "03:13:21: sending https://sentinel-cogs.s3.us-west-2.amazonaws.com/sentinel-s2-l2a-cogs/11/S/PC/2020/9/S2B_11SPC_20200910_0_L2A/B03.tif\n",
      "03:13:22: sending https://sentinel-cogs.s3.us-west-2.amazonaws.com/sentinel-s2-l2a-cogs/11/S/PC/2020/10/S2B_11SPC_20201010_0_L2A/B02.tif\n"
     ]
    },
    {
     "name": "stdout",
     "output_type": "stream",
     "text": [
      "\n",
      "\n",
      "wget this: %s https://sentinel-cogs.s3.us-west-2.amazonaws.com/sentinel-s2-l2a-cogs/11/S/PC/2020/9/S2B_11SPC_20200910_0_L2A/B03.tif\n",
      "wget -nv -O- https://sentinel-cogs.s3.us-west-2.amazonaws.com/sentinel-s2-l2a-cogs/11/S/PC/2020/9/S2B_11SPC_20200910_0_L2A/B03.tif | aws s3 cp - s3://dev-et-data/usmart/RIO/sentinel-s2-l2a-cogs/\n",
      "S2B_11SPC_20200910_0_L2A_B03.tif\n",
      "wget -nv -O- https://sentinel-cogs.s3.us-west-2.amazonaws.com/sentinel-s2-l2a-cogs/11/S/PC/2020/9/S2B_11SPC_20200910_0_L2A/B03.tif | aws s3 cp - s3://dev-et-data/usmart/RIO/sentinel-s2-l2a-cogs/S2B_11SPC_20200910_0_L2A_B03.tif\n",
      "\n",
      "\n",
      "wget this: %s https://sentinel-cogs.s3.us-west-2.amazonaws.com/sentinel-s2-l2a-cogs/11/S/PC/2020/10/S2B_11SPC_20201010_0_L2A/B02.tif\n",
      "wget -nv -O- https://sentinel-cogs.s3.us-west-2.amazonaws.com/sentinel-s2-l2a-cogs/11/S/PC/2020/10/S2B_11SPC_20201010_0_L2A/B02.tif | aws s3 cp - s3://dev-et-data/usmart/RIO/sentinel-s2-l2a-cogs/\n",
      "S2B_11SPC_20201010_0_L2A_B02.tif\n",
      "wget -nv -O- https://sentinel-cogs.s3.us-west-2.amazonaws.com/sentinel-s2-l2a-cogs/11/S/PC/2020/10/S2B_11SPC_20201010_0_L2A/B02.tif | aws s3 cp - s3://dev-et-data/usmart/RIO/sentinel-s2-l2a-cogs/S2B_11SPC_20201010_0_L2A_B02.tif\n"
     ]
    },
    {
     "name": "stderr",
     "output_type": "stream",
     "text": [
      "2021-09-23 03:13:22 URL:https://sentinel-cogs.s3.us-west-2.amazonaws.com/sentinel-s2-l2a-cogs/11/S/PC/2020/10/S2A_11SPC_20201012_0_L2A/B03.tif [210451799/210451799] -> \"-\" [1]\n",
      "03:13:22: sending https://sentinel-cogs.s3.us-west-2.amazonaws.com/sentinel-s2-l2a-cogs/11/S/PC/2020/9/S2A_11SPC_20200912_0_L2A/B03.tif\n"
     ]
    },
    {
     "name": "stdout",
     "output_type": "stream",
     "text": [
      "\n",
      "\n",
      "wget this: %s https://sentinel-cogs.s3.us-west-2.amazonaws.com/sentinel-s2-l2a-cogs/11/S/PC/2020/9/S2A_11SPC_20200912_0_L2A/B03.tif\n",
      "wget -nv -O- https://sentinel-cogs.s3.us-west-2.amazonaws.com/sentinel-s2-l2a-cogs/11/S/PC/2020/9/S2A_11SPC_20200912_0_L2A/B03.tif | aws s3 cp - s3://dev-et-data/usmart/RIO/sentinel-s2-l2a-cogs/\n",
      "S2A_11SPC_20200912_0_L2A_B03.tif\n",
      "wget -nv -O- https://sentinel-cogs.s3.us-west-2.amazonaws.com/sentinel-s2-l2a-cogs/11/S/PC/2020/9/S2A_11SPC_20200912_0_L2A/B03.tif | aws s3 cp - s3://dev-et-data/usmart/RIO/sentinel-s2-l2a-cogs/S2A_11SPC_20200912_0_L2A_B03.tif\n"
     ]
    },
    {
     "name": "stderr",
     "output_type": "stream",
     "text": [
      "03:13:22: sending https://sentinel-cogs.s3.us-west-2.amazonaws.com/sentinel-s2-l2a-cogs/11/S/PC/2020/10/S2A_11SPC_20201012_0_L2A/B02.tif\n"
     ]
    },
    {
     "name": "stdout",
     "output_type": "stream",
     "text": [
      "\n",
      "\n",
      "wget this: %s https://sentinel-cogs.s3.us-west-2.amazonaws.com/sentinel-s2-l2a-cogs/11/S/PC/2020/10/S2A_11SPC_20201012_0_L2A/B02.tif\n",
      "wget -nv -O- https://sentinel-cogs.s3.us-west-2.amazonaws.com/sentinel-s2-l2a-cogs/11/S/PC/2020/10/S2A_11SPC_20201012_0_L2A/B02.tif | aws s3 cp - s3://dev-et-data/usmart/RIO/sentinel-s2-l2a-cogs/\n",
      "S2A_11SPC_20201012_0_L2A_B02.tif\n",
      "wget -nv -O- https://sentinel-cogs.s3.us-west-2.amazonaws.com/sentinel-s2-l2a-cogs/11/S/PC/2020/10/S2A_11SPC_20201012_0_L2A/B02.tif | aws s3 cp - s3://dev-et-data/usmart/RIO/sentinel-s2-l2a-cogs/S2A_11SPC_20201012_0_L2A_B02.tif\n"
     ]
    },
    {
     "name": "stderr",
     "output_type": "stream",
     "text": [
      "2021-09-23 03:13:24 URL:https://sentinel-cogs.s3.us-west-2.amazonaws.com/sentinel-s2-l2a-cogs/11/S/PC/2020/9/S2B_11SPC_20200930_0_L2A/B03.tif [169933607/169933607] -> \"-\" [1]\n",
      "03:13:24: sending https://sentinel-cogs.s3.us-west-2.amazonaws.com/sentinel-s2-l2a-cogs/11/S/PC/2020/10/S2B_11SPC_20201007_0_L2A/B02.tif\n"
     ]
    },
    {
     "name": "stdout",
     "output_type": "stream",
     "text": [
      "\n",
      "\n",
      "wget this: %s https://sentinel-cogs.s3.us-west-2.amazonaws.com/sentinel-s2-l2a-cogs/11/S/PC/2020/10/S2B_11SPC_20201007_0_L2A/B02.tif\n",
      "wget -nv -O- https://sentinel-cogs.s3.us-west-2.amazonaws.com/sentinel-s2-l2a-cogs/11/S/PC/2020/10/S2B_11SPC_20201007_0_L2A/B02.tif | aws s3 cp - s3://dev-et-data/usmart/RIO/sentinel-s2-l2a-cogs/\n",
      "S2B_11SPC_20201007_0_L2A_B02.tif\n",
      "wget -nv -O- https://sentinel-cogs.s3.us-west-2.amazonaws.com/sentinel-s2-l2a-cogs/11/S/PC/2020/10/S2B_11SPC_20201007_0_L2A/B02.tif | aws s3 cp - s3://dev-et-data/usmart/RIO/sentinel-s2-l2a-cogs/S2B_11SPC_20201007_0_L2A_B02.tif\n"
     ]
    },
    {
     "name": "stderr",
     "output_type": "stream",
     "text": [
      "03:13:25: sending https://sentinel-cogs.s3.us-west-2.amazonaws.com/sentinel-s2-l2a-cogs/11/S/PC/2020/9/S2B_11SPC_20200930_0_L2A/B02.tif\n"
     ]
    },
    {
     "name": "stdout",
     "output_type": "stream",
     "text": [
      "\n",
      "\n",
      "wget this: %s https://sentinel-cogs.s3.us-west-2.amazonaws.com/sentinel-s2-l2a-cogs/11/S/PC/2020/9/S2B_11SPC_20200930_0_L2A/B02.tif\n",
      "wget -nv -O- https://sentinel-cogs.s3.us-west-2.amazonaws.com/sentinel-s2-l2a-cogs/11/S/PC/2020/9/S2B_11SPC_20200930_0_L2A/B02.tif | aws s3 cp - s3://dev-et-data/usmart/RIO/sentinel-s2-l2a-cogs/\n",
      "S2B_11SPC_20200930_0_L2A_B02.tif\n",
      "wget -nv -O- https://sentinel-cogs.s3.us-west-2.amazonaws.com/sentinel-s2-l2a-cogs/11/S/PC/2020/9/S2B_11SPC_20200930_0_L2A/B02.tif | aws s3 cp - s3://dev-et-data/usmart/RIO/sentinel-s2-l2a-cogs/S2B_11SPC_20200930_0_L2A_B02.tif\n"
     ]
    },
    {
     "name": "stderr",
     "output_type": "stream",
     "text": [
      "2021-09-23 03:13:25 URL:https://sentinel-cogs.s3.us-west-2.amazonaws.com/sentinel-s2-l2a-cogs/11/S/PC/2020/9/S2A_11SPC_20200925_0_L2A/B03.tif [154112118/154112118] -> \"-\" [1]\n",
      "2021-09-23 03:13:26 URL:https://sentinel-cogs.s3.us-west-2.amazonaws.com/sentinel-s2-l2a-cogs/11/S/PC/2020/10/S2A_11SPC_20201002_0_L2A/B03.tif [207164923/207164923] -> \"-\" [1]\n",
      "2021-09-23 03:13:26 URL:https://sentinel-cogs.s3.us-west-2.amazonaws.com/sentinel-s2-l2a-cogs/11/S/PC/2020/9/S2A_11SPC_20200922_0_L2A/B03.tif [185114198/185114198] -> \"-\" [1]\n",
      "03:13:26: sending https://sentinel-cogs.s3.us-west-2.amazonaws.com/sentinel-s2-l2a-cogs/11/S/PC/2020/9/S2A_11SPC_20200925_0_L2A/B02.tif\n",
      "2021-09-23 03:13:26 URL:https://sentinel-cogs.s3.us-west-2.amazonaws.com/sentinel-s2-l2a-cogs/11/S/PC/2020/9/S2B_11SPC_20200907_0_L2A/B04.tif [155367235/155367235] -> \"-\" [1]\n"
     ]
    },
    {
     "name": "stdout",
     "output_type": "stream",
     "text": [
      "\n",
      "\n",
      "wget this: %s https://sentinel-cogs.s3.us-west-2.amazonaws.com/sentinel-s2-l2a-cogs/11/S/PC/2020/9/S2A_11SPC_20200925_0_L2A/B02.tif\n",
      "wget -nv -O- https://sentinel-cogs.s3.us-west-2.amazonaws.com/sentinel-s2-l2a-cogs/11/S/PC/2020/9/S2A_11SPC_20200925_0_L2A/B02.tif | aws s3 cp - s3://dev-et-data/usmart/RIO/sentinel-s2-l2a-cogs/\n",
      "S2A_11SPC_20200925_0_L2A_B02.tif\n",
      "wget -nv -O- https://sentinel-cogs.s3.us-west-2.amazonaws.com/sentinel-s2-l2a-cogs/11/S/PC/2020/9/S2A_11SPC_20200925_0_L2A/B02.tif | aws s3 cp - s3://dev-et-data/usmart/RIO/sentinel-s2-l2a-cogs/S2A_11SPC_20200925_0_L2A_B02.tif\n"
     ]
    },
    {
     "name": "stderr",
     "output_type": "stream",
     "text": [
      "03:13:27: sending https://sentinel-cogs.s3.us-west-2.amazonaws.com/sentinel-s2-l2a-cogs/11/S/PC/2020/10/S2A_11SPC_20201002_0_L2A/B02.tif\n"
     ]
    },
    {
     "name": "stdout",
     "output_type": "stream",
     "text": [
      "\n",
      "\n",
      "wget this: %s https://sentinel-cogs.s3.us-west-2.amazonaws.com/sentinel-s2-l2a-cogs/11/S/PC/2020/10/S2A_11SPC_20201002_0_L2A/B02.tif\n",
      "wget -nv -O- https://sentinel-cogs.s3.us-west-2.amazonaws.com/sentinel-s2-l2a-cogs/11/S/PC/2020/10/S2A_11SPC_20201002_0_L2A/B02.tif | aws s3 cp - s3://dev-et-data/usmart/RIO/sentinel-s2-l2a-cogs/\n",
      "S2A_11SPC_20201002_0_L2A_B02.tif\n",
      "wget -nv -O- https://sentinel-cogs.s3.us-west-2.amazonaws.com/sentinel-s2-l2a-cogs/11/S/PC/2020/10/S2A_11SPC_20201002_0_L2A/B02.tif | aws s3 cp - s3://dev-et-data/usmart/RIO/sentinel-s2-l2a-cogs/S2A_11SPC_20201002_0_L2A_B02.tif\n"
     ]
    },
    {
     "name": "stderr",
     "output_type": "stream",
     "text": [
      "03:13:27: sending https://sentinel-cogs.s3.us-west-2.amazonaws.com/sentinel-s2-l2a-cogs/11/S/PC/2020/9/S2B_11SPC_20200907_0_L2A/B03.tif\n",
      "03:13:27: sending https://sentinel-cogs.s3.us-west-2.amazonaws.com/sentinel-s2-l2a-cogs/11/S/PC/2020/9/S2A_11SPC_20200922_0_L2A/B02.tif\n"
     ]
    },
    {
     "name": "stdout",
     "output_type": "stream",
     "text": [
      "\n",
      "\n",
      "wget this: %s https://sentinel-cogs.s3.us-west-2.amazonaws.com/sentinel-s2-l2a-cogs/11/S/PC/2020/9/S2B_11SPC_20200907_0_L2A/B03.tif\n",
      "wget -nv -O- https://sentinel-cogs.s3.us-west-2.amazonaws.com/sentinel-s2-l2a-cogs/11/S/PC/2020/9/S2B_11SPC_20200907_0_L2A/B03.tif | aws s3 cp - s3://dev-et-data/usmart/RIO/sentinel-s2-l2a-cogs/\n",
      "S2B_11SPC_20200907_0_L2A_B03.tif\n",
      "wget -nv -O- https://sentinel-cogs.s3.us-west-2.amazonaws.com/sentinel-s2-l2a-cogs/11/S/PC/2020/9/S2B_11SPC_20200907_0_L2A/B03.tif | aws s3 cp - s3://dev-et-data/usmart/RIO/sentinel-s2-l2a-cogs/S2B_11SPC_20200907_0_L2A_B03.tif\n",
      "\n",
      "\n",
      "wget this: %s https://sentinel-cogs.s3.us-west-2.amazonaws.com/sentinel-s2-l2a-cogs/11/S/PC/2020/9/S2A_11SPC_20200922_0_L2A/B02.tif\n",
      "wget -nv -O- https://sentinel-cogs.s3.us-west-2.amazonaws.com/sentinel-s2-l2a-cogs/11/S/PC/2020/9/S2A_11SPC_20200922_0_L2A/B02.tif | aws s3 cp - s3://dev-et-data/usmart/RIO/sentinel-s2-l2a-cogs/\n",
      "S2A_11SPC_20200922_0_L2A_B02.tif\n",
      "wget -nv -O- https://sentinel-cogs.s3.us-west-2.amazonaws.com/sentinel-s2-l2a-cogs/11/S/PC/2020/9/S2A_11SPC_20200922_0_L2A/B02.tif | aws s3 cp - s3://dev-et-data/usmart/RIO/sentinel-s2-l2a-cogs/S2A_11SPC_20200922_0_L2A_B02.tif\n"
     ]
    },
    {
     "name": "stderr",
     "output_type": "stream",
     "text": [
      "2021-09-23 03:13:28 URL:https://sentinel-cogs.s3.us-west-2.amazonaws.com/sentinel-s2-l2a-cogs/11/S/PC/2020/9/S2B_11SPC_20200920_0_L2A/B03.tif [161441606/161441606] -> \"-\" [1]\n",
      "2021-09-23 03:13:29 URL:https://sentinel-cogs.s3.us-west-2.amazonaws.com/sentinel-s2-l2a-cogs/11/S/PC/2020/9/S2B_11SPC_20200927_0_L2A/B03.tif [207645401/207645401] -> \"-\" [1]\n",
      "03:13:29: sending https://sentinel-cogs.s3.us-west-2.amazonaws.com/sentinel-s2-l2a-cogs/11/S/PC/2020/9/S2B_11SPC_20200920_0_L2A/B02.tif\n"
     ]
    },
    {
     "name": "stdout",
     "output_type": "stream",
     "text": [
      "\n",
      "\n",
      "wget this: %s https://sentinel-cogs.s3.us-west-2.amazonaws.com/sentinel-s2-l2a-cogs/11/S/PC/2020/9/S2B_11SPC_20200920_0_L2A/B02.tif\n",
      "wget -nv -O- https://sentinel-cogs.s3.us-west-2.amazonaws.com/sentinel-s2-l2a-cogs/11/S/PC/2020/9/S2B_11SPC_20200920_0_L2A/B02.tif | aws s3 cp - s3://dev-et-data/usmart/RIO/sentinel-s2-l2a-cogs/\n",
      "S2B_11SPC_20200920_0_L2A_B02.tif\n",
      "wget -nv -O- https://sentinel-cogs.s3.us-west-2.amazonaws.com/sentinel-s2-l2a-cogs/11/S/PC/2020/9/S2B_11SPC_20200920_0_L2A/B02.tif | aws s3 cp - s3://dev-et-data/usmart/RIO/sentinel-s2-l2a-cogs/S2B_11SPC_20200920_0_L2A_B02.tif\n"
     ]
    },
    {
     "name": "stderr",
     "output_type": "stream",
     "text": [
      "2021-09-23 03:13:29 URL:https://sentinel-cogs.s3.us-west-2.amazonaws.com/sentinel-s2-l2a-cogs/11/S/PC/2020/9/S2B_11SPC_20200917_0_L2A/B03.tif [183605739/183605739] -> \"-\" [1]\n",
      "03:13:29: sending https://sentinel-cogs.s3.us-west-2.amazonaws.com/sentinel-s2-l2a-cogs/11/S/PC/2020/9/S2B_11SPC_20200927_0_L2A/B02.tif\n",
      "2021-09-23 03:13:30 URL:https://sentinel-cogs.s3.us-west-2.amazonaws.com/sentinel-s2-l2a-cogs/11/S/PC/2020/9/S2A_11SPC_20200915_0_L2A/B03.tif [166019080/166019080] -> \"-\" [1]\n"
     ]
    },
    {
     "name": "stdout",
     "output_type": "stream",
     "text": [
      "\n",
      "\n",
      "wget this: %s https://sentinel-cogs.s3.us-west-2.amazonaws.com/sentinel-s2-l2a-cogs/11/S/PC/2020/9/S2B_11SPC_20200927_0_L2A/B02.tif\n",
      "wget -nv -O- https://sentinel-cogs.s3.us-west-2.amazonaws.com/sentinel-s2-l2a-cogs/11/S/PC/2020/9/S2B_11SPC_20200927_0_L2A/B02.tif | aws s3 cp - s3://dev-et-data/usmart/RIO/sentinel-s2-l2a-cogs/\n",
      "S2B_11SPC_20200927_0_L2A_B02.tif\n",
      "wget -nv -O- https://sentinel-cogs.s3.us-west-2.amazonaws.com/sentinel-s2-l2a-cogs/11/S/PC/2020/9/S2B_11SPC_20200927_0_L2A/B02.tif | aws s3 cp - s3://dev-et-data/usmart/RIO/sentinel-s2-l2a-cogs/S2B_11SPC_20200927_0_L2A_B02.tif\n"
     ]
    },
    {
     "name": "stderr",
     "output_type": "stream",
     "text": [
      "2021-09-23 03:13:30 URL:https://sentinel-cogs.s3.us-west-2.amazonaws.com/sentinel-s2-l2a-cogs/11/S/PC/2020/10/S2A_11SPC_20201015_0_L2A/B02.tif [170578999/170578999] -> \"-\" [1]\n",
      "2021-09-23 03:13:30 URL:https://sentinel-cogs.s3.us-west-2.amazonaws.com/sentinel-s2-l2a-cogs/11/S/PC/2020/10/S2B_11SPC_20201010_0_L2A/B02.tif [161627728/161627728] -> \"-\" [1]\n",
      "03:13:30: sending https://sentinel-cogs.s3.us-west-2.amazonaws.com/sentinel-s2-l2a-cogs/11/S/PC/2020/9/S2A_11SPC_20200915_0_L2A/B02.tif\n",
      "03:13:31: sending https://sentinel-cogs.s3.us-west-2.amazonaws.com/sentinel-s2-l2a-cogs/11/S/PC/2020/9/S2B_11SPC_20200917_0_L2A/B02.tif\n"
     ]
    },
    {
     "name": "stdout",
     "output_type": "stream",
     "text": [
      "\n",
      "\n",
      "wget this: %s https://sentinel-cogs.s3.us-west-2.amazonaws.com/sentinel-s2-l2a-cogs/11/S/PC/2020/9/S2A_11SPC_20200915_0_L2A/B02.tif\n",
      "wget -nv -O- https://sentinel-cogs.s3.us-west-2.amazonaws.com/sentinel-s2-l2a-cogs/11/S/PC/2020/9/S2A_11SPC_20200915_0_L2A/B02.tif | aws s3 cp - s3://dev-et-data/usmart/RIO/sentinel-s2-l2a-cogs/\n",
      "S2A_11SPC_20200915_0_L2A_B02.tif\n",
      "wget -nv -O- https://sentinel-cogs.s3.us-west-2.amazonaws.com/sentinel-s2-l2a-cogs/11/S/PC/2020/9/S2A_11SPC_20200915_0_L2A/B02.tif | aws s3 cp - s3://dev-et-data/usmart/RIO/sentinel-s2-l2a-cogs/S2A_11SPC_20200915_0_L2A_B02.tif\n",
      "\n",
      "\n",
      "wget this: %s https://sentinel-cogs.s3.us-west-2.amazonaws.com/sentinel-s2-l2a-cogs/11/S/PC/2020/9/S2B_11SPC_20200917_0_L2A/B02.tif\n",
      "wget -nv -O- https://sentinel-cogs.s3.us-west-2.amazonaws.com/sentinel-s2-l2a-cogs/11/S/PC/2020/9/S2B_11SPC_20200917_0_L2A/B02.tif | aws s3 cp - s3://dev-et-data/usmart/RIO/sentinel-s2-l2a-cogs/\n",
      "S2B_11SPC_20200917_0_L2A_B02.tif\n",
      "wget -nv -O- https://sentinel-cogs.s3.us-west-2.amazonaws.com/sentinel-s2-l2a-cogs/11/S/PC/2020/9/S2B_11SPC_20200917_0_L2A/B02.tif | aws s3 cp - s3://dev-et-data/usmart/RIO/sentinel-s2-l2a-cogs/S2B_11SPC_20200917_0_L2A_B02.tif\n"
     ]
    },
    {
     "name": "stderr",
     "output_type": "stream",
     "text": [
      "03:13:31: Thread 32: finishing in 28 seconds\n",
      "03:13:31: xfer Thread 45: starting\n",
      "03:13:31: sending https://sentinel-cogs.s3.us-west-2.amazonaws.com/sentinel-s2-l2a-cogs/11/S/PC/2020/9/S2A_11SPC_20200905_0_L2A/B04.tif\n",
      "03:13:31: Thread 30: finishing in 29 seconds\n",
      "03:13:31: xfer Thread 46: starting\n",
      "03:13:31: sending https://sentinel-cogs.s3.us-west-2.amazonaws.com/sentinel-s2-l2a-cogs/11/S/PC/2020/9/S2A_11SPC_20200902_0_L2A/B04.tif\n"
     ]
    },
    {
     "name": "stdout",
     "output_type": "stream",
     "text": [
      "\n",
      "\n",
      "wget this: %s https://sentinel-cogs.s3.us-west-2.amazonaws.com/sentinel-s2-l2a-cogs/11/S/PC/2020/9/S2A_11SPC_20200905_0_L2A/B04.tif\n",
      "wget -nv -O- https://sentinel-cogs.s3.us-west-2.amazonaws.com/sentinel-s2-l2a-cogs/11/S/PC/2020/9/S2A_11SPC_20200905_0_L2A/B04.tif | aws s3 cp - s3://dev-et-data/usmart/RIO/sentinel-s2-l2a-cogs/\n",
      "S2A_11SPC_20200905_0_L2A_B04.tif\n",
      "wget -nv -O- https://sentinel-cogs.s3.us-west-2.amazonaws.com/sentinel-s2-l2a-cogs/11/S/PC/2020/9/S2A_11SPC_20200905_0_L2A/B04.tif | aws s3 cp - s3://dev-et-data/usmart/RIO/sentinel-s2-l2a-cogs/S2A_11SPC_20200905_0_L2A_B04.tif\n",
      "\n",
      "\n",
      "wget this: %s https://sentinel-cogs.s3.us-west-2.amazonaws.com/sentinel-s2-l2a-cogs/11/S/PC/2020/9/S2A_11SPC_20200902_0_L2A/B04.tif\n",
      "wget -nv -O- https://sentinel-cogs.s3.us-west-2.amazonaws.com/sentinel-s2-l2a-cogs/11/S/PC/2020/9/S2A_11SPC_20200902_0_L2A/B04.tif | aws s3 cp - s3://dev-et-data/usmart/RIO/sentinel-s2-l2a-cogs/\n",
      "S2A_11SPC_20200902_0_L2A_B04.tif\n",
      "wget -nv -O- https://sentinel-cogs.s3.us-west-2.amazonaws.com/sentinel-s2-l2a-cogs/11/S/PC/2020/9/S2A_11SPC_20200902_0_L2A/B04.tif | aws s3 cp - s3://dev-et-data/usmart/RIO/sentinel-s2-l2a-cogs/S2A_11SPC_20200902_0_L2A_B04.tif\n"
     ]
    },
    {
     "name": "stderr",
     "output_type": "stream",
     "text": [
      "2021-09-23 03:13:32 URL:https://sentinel-cogs.s3.us-west-2.amazonaws.com/sentinel-s2-l2a-cogs/11/S/PC/2020/9/S2B_11SPC_20200910_0_L2A/B03.tif [167405373/167405373] -> \"-\" [1]\n",
      "2021-09-23 03:13:33 URL:https://sentinel-cogs.s3.us-west-2.amazonaws.com/sentinel-s2-l2a-cogs/11/S/PC/2020/10/S2B_11SPC_20201007_0_L2A/B02.tif [168072802/168072802] -> \"-\" [1]\n",
      "03:13:33: sending https://sentinel-cogs.s3.us-west-2.amazonaws.com/sentinel-s2-l2a-cogs/11/S/PC/2020/9/S2B_11SPC_20200910_0_L2A/B02.tif\n"
     ]
    },
    {
     "name": "stdout",
     "output_type": "stream",
     "text": [
      "\n",
      "\n",
      "wget this: %s https://sentinel-cogs.s3.us-west-2.amazonaws.com/sentinel-s2-l2a-cogs/11/S/PC/2020/9/S2B_11SPC_20200910_0_L2A/B02.tif\n",
      "wget -nv -O- https://sentinel-cogs.s3.us-west-2.amazonaws.com/sentinel-s2-l2a-cogs/11/S/PC/2020/9/S2B_11SPC_20200910_0_L2A/B02.tif | aws s3 cp - s3://dev-et-data/usmart/RIO/sentinel-s2-l2a-cogs/\n",
      "S2B_11SPC_20200910_0_L2A_B02.tif\n",
      "wget -nv -O- https://sentinel-cogs.s3.us-west-2.amazonaws.com/sentinel-s2-l2a-cogs/11/S/PC/2020/9/S2B_11SPC_20200910_0_L2A/B02.tif | aws s3 cp - s3://dev-et-data/usmart/RIO/sentinel-s2-l2a-cogs/S2B_11SPC_20200910_0_L2A_B02.tif\n"
     ]
    },
    {
     "name": "stderr",
     "output_type": "stream",
     "text": [
      "2021-09-23 03:13:33 URL:https://sentinel-cogs.s3.us-west-2.amazonaws.com/sentinel-s2-l2a-cogs/11/S/PC/2020/9/S2A_11SPC_20200912_0_L2A/B03.tif [204003492/204003492] -> \"-\" [1]\n",
      "03:13:34: Thread 33: finishing in 31 seconds\n",
      "03:13:34: xfer Thread 47: starting\n",
      "03:13:34: sending https://sentinel-cogs.s3.us-west-2.amazonaws.com/sentinel-s2-l2a-cogs/11/S/PC/2020/8/S2B_11SPC_20200831_0_L2A/B04.tif\n"
     ]
    },
    {
     "name": "stdout",
     "output_type": "stream",
     "text": [
      "\n",
      "\n",
      "wget this: %s https://sentinel-cogs.s3.us-west-2.amazonaws.com/sentinel-s2-l2a-cogs/11/S/PC/2020/8/S2B_11SPC_20200831_0_L2A/B04.tif\n",
      "wget -nv -O- https://sentinel-cogs.s3.us-west-2.amazonaws.com/sentinel-s2-l2a-cogs/11/S/PC/2020/8/S2B_11SPC_20200831_0_L2A/B04.tif | aws s3 cp - s3://dev-et-data/usmart/RIO/sentinel-s2-l2a-cogs/\n",
      "S2B_11SPC_20200831_0_L2A_B04.tif\n",
      "wget -nv -O- https://sentinel-cogs.s3.us-west-2.amazonaws.com/sentinel-s2-l2a-cogs/11/S/PC/2020/8/S2B_11SPC_20200831_0_L2A/B04.tif | aws s3 cp - s3://dev-et-data/usmart/RIO/sentinel-s2-l2a-cogs/S2B_11SPC_20200831_0_L2A_B04.tif\n"
     ]
    },
    {
     "name": "stderr",
     "output_type": "stream",
     "text": [
      "2021-09-23 03:13:34 URL:https://sentinel-cogs.s3.us-west-2.amazonaws.com/sentinel-s2-l2a-cogs/11/S/PC/2020/10/S2A_11SPC_20201012_0_L2A/B02.tif [212103410/212103410] -> \"-\" [1]\n",
      "2021-09-23 03:13:34 URL:https://sentinel-cogs.s3.us-west-2.amazonaws.com/sentinel-s2-l2a-cogs/11/S/PC/2020/9/S2A_11SPC_20200925_0_L2A/B02.tif [151560432/151560432] -> \"-\" [1]\n",
      "03:13:34: sending https://sentinel-cogs.s3.us-west-2.amazonaws.com/sentinel-s2-l2a-cogs/11/S/PC/2020/9/S2A_11SPC_20200912_0_L2A/B02.tif\n"
     ]
    },
    {
     "name": "stdout",
     "output_type": "stream",
     "text": [
      "\n",
      "\n",
      "wget this: %s https://sentinel-cogs.s3.us-west-2.amazonaws.com/sentinel-s2-l2a-cogs/11/S/PC/2020/9/S2A_11SPC_20200912_0_L2A/B02.tif\n",
      "wget -nv -O- https://sentinel-cogs.s3.us-west-2.amazonaws.com/sentinel-s2-l2a-cogs/11/S/PC/2020/9/S2A_11SPC_20200912_0_L2A/B02.tif | aws s3 cp - s3://dev-et-data/usmart/RIO/sentinel-s2-l2a-cogs/\n",
      "S2A_11SPC_20200912_0_L2A_B02.tif\n",
      "wget -nv -O- https://sentinel-cogs.s3.us-west-2.amazonaws.com/sentinel-s2-l2a-cogs/11/S/PC/2020/9/S2A_11SPC_20200912_0_L2A/B02.tif | aws s3 cp - s3://dev-et-data/usmart/RIO/sentinel-s2-l2a-cogs/S2A_11SPC_20200912_0_L2A_B02.tif\n"
     ]
    },
    {
     "name": "stderr",
     "output_type": "stream",
     "text": [
      "03:13:35: Thread 31: finishing in 33 seconds\n",
      "03:13:35: xfer Thread 48: starting\n",
      "03:13:35: sending https://sentinel-cogs.s3.us-west-2.amazonaws.com/sentinel-s2-l2a-cogs/11/S/PC/2020/8/S2B_11SPC_20200828_1_L2A/B04.tif\n",
      "03:13:35: Thread 37: finishing in 29 seconds\n",
      "03:13:35: xfer Thread 49: starting\n",
      "03:13:35: sending https://sentinel-cogs.s3.us-west-2.amazonaws.com/sentinel-s2-l2a-cogs/11/S/PC/2020/8/S2B_11SPC_20200828_0_L2A/B04.tif\n"
     ]
    },
    {
     "name": "stdout",
     "output_type": "stream",
     "text": [
      "\n",
      "\n",
      "wget this: %s https://sentinel-cogs.s3.us-west-2.amazonaws.com/sentinel-s2-l2a-cogs/11/S/PC/2020/8/S2B_11SPC_20200828_1_L2A/B04.tif\n",
      "wget -nv -O- https://sentinel-cogs.s3.us-west-2.amazonaws.com/sentinel-s2-l2a-cogs/11/S/PC/2020/8/S2B_11SPC_20200828_1_L2A/B04.tif | aws s3 cp - s3://dev-et-data/usmart/RIO/sentinel-s2-l2a-cogs/\n",
      "S2B_11SPC_20200828_1_L2A_B04.tif\n",
      "wget -nv -O- https://sentinel-cogs.s3.us-west-2.amazonaws.com/sentinel-s2-l2a-cogs/11/S/PC/2020/8/S2B_11SPC_20200828_1_L2A/B04.tif | aws s3 cp - s3://dev-et-data/usmart/RIO/sentinel-s2-l2a-cogs/S2B_11SPC_20200828_1_L2A_B04.tif\n",
      "\n",
      "\n",
      "wget this: %s https://sentinel-cogs.s3.us-west-2.amazonaws.com/sentinel-s2-l2a-cogs/11/S/PC/2020/8/S2B_11SPC_20200828_0_L2A/B04.tif\n",
      "wget -nv -O- https://sentinel-cogs.s3.us-west-2.amazonaws.com/sentinel-s2-l2a-cogs/11/S/PC/2020/8/S2B_11SPC_20200828_0_L2A/B04.tif | aws s3 cp - s3://dev-et-data/usmart/RIO/sentinel-s2-l2a-cogs/\n",
      "S2B_11SPC_20200828_0_L2A_B04.tif\n",
      "wget -nv -O- https://sentinel-cogs.s3.us-west-2.amazonaws.com/sentinel-s2-l2a-cogs/11/S/PC/2020/8/S2B_11SPC_20200828_0_L2A/B04.tif | aws s3 cp - s3://dev-et-data/usmart/RIO/sentinel-s2-l2a-cogs/S2B_11SPC_20200828_0_L2A_B04.tif\n"
     ]
    },
    {
     "name": "stderr",
     "output_type": "stream",
     "text": [
      "2021-09-23 03:13:35 URL:https://sentinel-cogs.s3.us-west-2.amazonaws.com/sentinel-s2-l2a-cogs/11/S/PC/2020/9/S2B_11SPC_20200907_0_L2A/B03.tif [150050751/150050751] -> \"-\" [1]\n",
      "2021-09-23 03:13:36 URL:https://sentinel-cogs.s3.us-west-2.amazonaws.com/sentinel-s2-l2a-cogs/11/S/PC/2020/10/S2A_11SPC_20201002_0_L2A/B02.tif [208511157/208511157] -> \"-\" [1]\n",
      "03:13:36: sending https://sentinel-cogs.s3.us-west-2.amazonaws.com/sentinel-s2-l2a-cogs/11/S/PC/2020/9/S2B_11SPC_20200907_0_L2A/B02.tif\n"
     ]
    },
    {
     "name": "stdout",
     "output_type": "stream",
     "text": [
      "\n",
      "\n",
      "wget this: %s https://sentinel-cogs.s3.us-west-2.amazonaws.com/sentinel-s2-l2a-cogs/11/S/PC/2020/9/S2B_11SPC_20200907_0_L2A/B02.tif\n",
      "wget -nv -O- https://sentinel-cogs.s3.us-west-2.amazonaws.com/sentinel-s2-l2a-cogs/11/S/PC/2020/9/S2B_11SPC_20200907_0_L2A/B02.tif | aws s3 cp - s3://dev-et-data/usmart/RIO/sentinel-s2-l2a-cogs/\n",
      "S2B_11SPC_20200907_0_L2A_B02.tif\n",
      "wget -nv -O- https://sentinel-cogs.s3.us-west-2.amazonaws.com/sentinel-s2-l2a-cogs/11/S/PC/2020/9/S2B_11SPC_20200907_0_L2A/B02.tif | aws s3 cp - s3://dev-et-data/usmart/RIO/sentinel-s2-l2a-cogs/S2B_11SPC_20200907_0_L2A_B02.tif\n"
     ]
    },
    {
     "name": "stderr",
     "output_type": "stream",
     "text": [
      "2021-09-23 03:13:36 URL:https://sentinel-cogs.s3.us-west-2.amazonaws.com/sentinel-s2-l2a-cogs/11/S/PC/2020/9/S2A_11SPC_20200922_0_L2A/B02.tif [186327416/186327416] -> \"-\" [1]\n",
      "2021-09-23 03:13:36 URL:https://sentinel-cogs.s3.us-west-2.amazonaws.com/sentinel-s2-l2a-cogs/11/S/PC/2020/9/S2B_11SPC_20200930_0_L2A/B02.tif [171138068/171138068] -> \"-\" [1]\n",
      "03:13:37: Thread 35: finishing in 33 seconds\n",
      "03:13:37: xfer Thread 50: starting\n",
      "03:13:37: sending https://sentinel-cogs.s3.us-west-2.amazonaws.com/sentinel-s2-l2a-cogs/11/S/PC/2020/8/S2A_11SPC_20200826_0_L2A/B04.tif\n"
     ]
    },
    {
     "name": "stdout",
     "output_type": "stream",
     "text": [
      "\n",
      "\n",
      "wget this: %s https://sentinel-cogs.s3.us-west-2.amazonaws.com/sentinel-s2-l2a-cogs/11/S/PC/2020/8/S2A_11SPC_20200826_0_L2A/B04.tif\n",
      "wget -nv -O- https://sentinel-cogs.s3.us-west-2.amazonaws.com/sentinel-s2-l2a-cogs/11/S/PC/2020/8/S2A_11SPC_20200826_0_L2A/B04.tif | aws s3 cp - s3://dev-et-data/usmart/RIO/sentinel-s2-l2a-cogs/\n",
      "S2A_11SPC_20200826_0_L2A_B04.tif\n",
      "wget -nv -O- https://sentinel-cogs.s3.us-west-2.amazonaws.com/sentinel-s2-l2a-cogs/11/S/PC/2020/8/S2A_11SPC_20200826_0_L2A/B04.tif | aws s3 cp - s3://dev-et-data/usmart/RIO/sentinel-s2-l2a-cogs/S2A_11SPC_20200826_0_L2A_B04.tif\n"
     ]
    },
    {
     "name": "stderr",
     "output_type": "stream",
     "text": [
      "03:13:37: Thread 38: finishing in 30 seconds\n",
      "03:13:37: xfer Thread 51: starting\n",
      "03:13:37: sending https://sentinel-cogs.s3.us-west-2.amazonaws.com/sentinel-s2-l2a-cogs/11/S/PC/2020/8/S2A_11SPC_20200823_0_L2A/B04.tif\n"
     ]
    },
    {
     "name": "stdout",
     "output_type": "stream",
     "text": [
      "\n",
      "\n",
      "wget this: %s https://sentinel-cogs.s3.us-west-2.amazonaws.com/sentinel-s2-l2a-cogs/11/S/PC/2020/8/S2A_11SPC_20200823_0_L2A/B04.tif\n",
      "wget -nv -O- https://sentinel-cogs.s3.us-west-2.amazonaws.com/sentinel-s2-l2a-cogs/11/S/PC/2020/8/S2A_11SPC_20200823_0_L2A/B04.tif | aws s3 cp - s3://dev-et-data/usmart/RIO/sentinel-s2-l2a-cogs/\n",
      "S2A_11SPC_20200823_0_L2A_B04.tif\n",
      "wget -nv -O- https://sentinel-cogs.s3.us-west-2.amazonaws.com/sentinel-s2-l2a-cogs/11/S/PC/2020/8/S2A_11SPC_20200823_0_L2A/B04.tif | aws s3 cp - s3://dev-et-data/usmart/RIO/sentinel-s2-l2a-cogs/S2A_11SPC_20200823_0_L2A_B04.tif\n"
     ]
    },
    {
     "name": "stderr",
     "output_type": "stream",
     "text": [
      "03:13:37: Thread 34: finishing in 34 seconds\n",
      "03:13:37: xfer Thread 52: starting\n",
      "03:13:37: sending https://sentinel-cogs.s3.us-west-2.amazonaws.com/sentinel-s2-l2a-cogs/11/S/PC/2020/8/S2B_11SPC_20200821_0_L2A/B04.tif\n"
     ]
    },
    {
     "name": "stdout",
     "output_type": "stream",
     "text": [
      "\n",
      "\n",
      "wget this: %s https://sentinel-cogs.s3.us-west-2.amazonaws.com/sentinel-s2-l2a-cogs/11/S/PC/2020/8/S2B_11SPC_20200821_0_L2A/B04.tif\n",
      "wget -nv -O- https://sentinel-cogs.s3.us-west-2.amazonaws.com/sentinel-s2-l2a-cogs/11/S/PC/2020/8/S2B_11SPC_20200821_0_L2A/B04.tif | aws s3 cp - s3://dev-et-data/usmart/RIO/sentinel-s2-l2a-cogs/\n",
      "S2B_11SPC_20200821_0_L2A_B04.tif\n",
      "wget -nv -O- https://sentinel-cogs.s3.us-west-2.amazonaws.com/sentinel-s2-l2a-cogs/11/S/PC/2020/8/S2B_11SPC_20200821_0_L2A/B04.tif | aws s3 cp - s3://dev-et-data/usmart/RIO/sentinel-s2-l2a-cogs/S2B_11SPC_20200821_0_L2A_B04.tif\n"
     ]
    },
    {
     "name": "stderr",
     "output_type": "stream",
     "text": [
      "2021-09-23 03:13:38 URL:https://sentinel-cogs.s3.us-west-2.amazonaws.com/sentinel-s2-l2a-cogs/11/S/PC/2020/9/S2B_11SPC_20200920_0_L2A/B02.tif [159574433/159574433] -> \"-\" [1]\n",
      "2021-09-23 03:13:38 URL:https://sentinel-cogs.s3.us-west-2.amazonaws.com/sentinel-s2-l2a-cogs/11/S/PC/2020/9/S2A_11SPC_20200915_0_L2A/B02.tif [166985963/166985963] -> \"-\" [1]\n",
      "03:13:38: Thread 39: finishing in 30 seconds\n",
      "03:13:38: xfer Thread 53: starting\n",
      "03:13:38: sending https://sentinel-cogs.s3.us-west-2.amazonaws.com/sentinel-s2-l2a-cogs/11/S/PC/2020/8/S2B_11SPC_20200818_0_L2A/B04.tif\n"
     ]
    },
    {
     "name": "stdout",
     "output_type": "stream",
     "text": [
      "\n",
      "\n",
      "wget this: %s https://sentinel-cogs.s3.us-west-2.amazonaws.com/sentinel-s2-l2a-cogs/11/S/PC/2020/8/S2B_11SPC_20200818_0_L2A/B04.tif\n",
      "wget -nv -O- https://sentinel-cogs.s3.us-west-2.amazonaws.com/sentinel-s2-l2a-cogs/11/S/PC/2020/8/S2B_11SPC_20200818_0_L2A/B04.tif | aws s3 cp - s3://dev-et-data/usmart/RIO/sentinel-s2-l2a-cogs/\n",
      "S2B_11SPC_20200818_0_L2A_B04.tif\n",
      "wget -nv -O- https://sentinel-cogs.s3.us-west-2.amazonaws.com/sentinel-s2-l2a-cogs/11/S/PC/2020/8/S2B_11SPC_20200818_0_L2A/B04.tif | aws s3 cp - s3://dev-et-data/usmart/RIO/sentinel-s2-l2a-cogs/S2B_11SPC_20200818_0_L2A_B04.tif\n"
     ]
    },
    {
     "name": "stderr",
     "output_type": "stream",
     "text": [
      "03:13:39: Thread 41: finishing in 27 seconds\n",
      "03:13:39: xfer Thread 54: starting\n",
      "03:13:39: sending https://sentinel-cogs.s3.us-west-2.amazonaws.com/sentinel-s2-l2a-cogs/11/S/PC/2020/8/S2A_11SPC_20200816_0_L2A/B04.tif\n"
     ]
    },
    {
     "name": "stdout",
     "output_type": "stream",
     "text": [
      "\n",
      "\n",
      "wget this: %s https://sentinel-cogs.s3.us-west-2.amazonaws.com/sentinel-s2-l2a-cogs/11/S/PC/2020/8/S2A_11SPC_20200816_0_L2A/B04.tif\n",
      "wget -nv -O- https://sentinel-cogs.s3.us-west-2.amazonaws.com/sentinel-s2-l2a-cogs/11/S/PC/2020/8/S2A_11SPC_20200816_0_L2A/B04.tif | aws s3 cp - s3://dev-et-data/usmart/RIO/sentinel-s2-l2a-cogs/\n",
      "S2A_11SPC_20200816_0_L2A_B04.tif\n",
      "wget -nv -O- https://sentinel-cogs.s3.us-west-2.amazonaws.com/sentinel-s2-l2a-cogs/11/S/PC/2020/8/S2A_11SPC_20200816_0_L2A/B04.tif | aws s3 cp - s3://dev-et-data/usmart/RIO/sentinel-s2-l2a-cogs/S2A_11SPC_20200816_0_L2A_B04.tif\n"
     ]
    },
    {
     "name": "stderr",
     "output_type": "stream",
     "text": [
      "2021-09-23 03:13:39 URL:https://sentinel-cogs.s3.us-west-2.amazonaws.com/sentinel-s2-l2a-cogs/11/S/PC/2020/9/S2B_11SPC_20200917_0_L2A/B02.tif [179546131/179546131] -> \"-\" [1]\n",
      "03:13:40: Thread 40: finishing in 28 seconds\n",
      "03:13:40: xfer Thread 55: starting\n",
      "03:13:40: sending https://sentinel-cogs.s3.us-west-2.amazonaws.com/sentinel-s2-l2a-cogs/11/S/PC/2020/8/S2A_11SPC_20200813_0_L2A/B04.tif\n"
     ]
    },
    {
     "name": "stdout",
     "output_type": "stream",
     "text": [
      "\n",
      "\n",
      "wget this: %s https://sentinel-cogs.s3.us-west-2.amazonaws.com/sentinel-s2-l2a-cogs/11/S/PC/2020/8/S2A_11SPC_20200813_0_L2A/B04.tif\n",
      "wget -nv -O- https://sentinel-cogs.s3.us-west-2.amazonaws.com/sentinel-s2-l2a-cogs/11/S/PC/2020/8/S2A_11SPC_20200813_0_L2A/B04.tif | aws s3 cp - s3://dev-et-data/usmart/RIO/sentinel-s2-l2a-cogs/\n",
      "S2A_11SPC_20200813_0_L2A_B04.tif\n",
      "wget -nv -O- https://sentinel-cogs.s3.us-west-2.amazonaws.com/sentinel-s2-l2a-cogs/11/S/PC/2020/8/S2A_11SPC_20200813_0_L2A/B04.tif | aws s3 cp - s3://dev-et-data/usmart/RIO/sentinel-s2-l2a-cogs/S2A_11SPC_20200813_0_L2A_B04.tif\n"
     ]
    },
    {
     "name": "stderr",
     "output_type": "stream",
     "text": [
      "2021-09-23 03:13:40 URL:https://sentinel-cogs.s3.us-west-2.amazonaws.com/sentinel-s2-l2a-cogs/11/S/PC/2020/9/S2A_11SPC_20200905_0_L2A/B04.tif [167577062/167577062] -> \"-\" [1]\n",
      "03:13:41: sending https://sentinel-cogs.s3.us-west-2.amazonaws.com/sentinel-s2-l2a-cogs/11/S/PC/2020/9/S2A_11SPC_20200905_0_L2A/B03.tif\n"
     ]
    },
    {
     "name": "stdout",
     "output_type": "stream",
     "text": [
      "\n",
      "\n",
      "wget this: %s https://sentinel-cogs.s3.us-west-2.amazonaws.com/sentinel-s2-l2a-cogs/11/S/PC/2020/9/S2A_11SPC_20200905_0_L2A/B03.tif\n",
      "wget -nv -O- https://sentinel-cogs.s3.us-west-2.amazonaws.com/sentinel-s2-l2a-cogs/11/S/PC/2020/9/S2A_11SPC_20200905_0_L2A/B03.tif | aws s3 cp - s3://dev-et-data/usmart/RIO/sentinel-s2-l2a-cogs/\n",
      "S2A_11SPC_20200905_0_L2A_B03.tif\n",
      "wget -nv -O- https://sentinel-cogs.s3.us-west-2.amazonaws.com/sentinel-s2-l2a-cogs/11/S/PC/2020/9/S2A_11SPC_20200905_0_L2A/B03.tif | aws s3 cp - s3://dev-et-data/usmart/RIO/sentinel-s2-l2a-cogs/S2A_11SPC_20200905_0_L2A_B03.tif\n"
     ]
    },
    {
     "name": "stderr",
     "output_type": "stream",
     "text": [
      "2021-09-23 03:13:41 URL:https://sentinel-cogs.s3.us-west-2.amazonaws.com/sentinel-s2-l2a-cogs/11/S/PC/2020/9/S2A_11SPC_20200902_0_L2A/B04.tif [208534961/208534961] -> \"-\" [1]\n",
      "2021-09-23 03:13:42 URL:https://sentinel-cogs.s3.us-west-2.amazonaws.com/sentinel-s2-l2a-cogs/11/S/PC/2020/9/S2B_11SPC_20200910_0_L2A/B02.tif [168471578/168471578] -> \"-\" [1]\n",
      "2021-09-23 03:13:42 URL:https://sentinel-cogs.s3.us-west-2.amazonaws.com/sentinel-s2-l2a-cogs/11/S/PC/2020/9/S2B_11SPC_20200927_0_L2A/B02.tif [208631238/208631238] -> \"-\" [1]\n",
      "2021-09-23 03:13:42 URL:https://sentinel-cogs.s3.us-west-2.amazonaws.com/sentinel-s2-l2a-cogs/11/S/PC/2020/8/S2B_11SPC_20200828_1_L2A/B04.tif [132542809/132542809] -> \"-\" [1]\n",
      "2021-09-23 03:13:42 URL:https://sentinel-cogs.s3.us-west-2.amazonaws.com/sentinel-s2-l2a-cogs/11/S/PC/2020/8/S2B_11SPC_20200831_0_L2A/B04.tif [152495908/152495908] -> \"-\" [1]\n",
      "2021-09-23 03:13:42 URL:https://sentinel-cogs.s3.us-west-2.amazonaws.com/sentinel-s2-l2a-cogs/11/S/PC/2020/8/S2B_11SPC_20200828_0_L2A/B04.tif [108279672/108279672] -> \"-\" [1]\n",
      "03:13:42: sending https://sentinel-cogs.s3.us-west-2.amazonaws.com/sentinel-s2-l2a-cogs/11/S/PC/2020/9/S2A_11SPC_20200902_0_L2A/B03.tif\n",
      "03:13:43: Thread 43: finishing in 31 seconds\n",
      "03:13:43: xfer Thread 56: starting\n",
      "03:13:43: sending https://sentinel-cogs.s3.us-west-2.amazonaws.com/sentinel-s2-l2a-cogs/11/S/PC/2020/8/S2B_11SPC_20200811_0_L2A/B04.tif\n"
     ]
    },
    {
     "name": "stdout",
     "output_type": "stream",
     "text": [
      "\n",
      "\n",
      "wget this: %s https://sentinel-cogs.s3.us-west-2.amazonaws.com/sentinel-s2-l2a-cogs/11/S/PC/2020/9/S2A_11SPC_20200902_0_L2A/B03.tif\n",
      "wget -nv -O- https://sentinel-cogs.s3.us-west-2.amazonaws.com/sentinel-s2-l2a-cogs/11/S/PC/2020/9/S2A_11SPC_20200902_0_L2A/B03.tif | aws s3 cp - s3://dev-et-data/usmart/RIO/sentinel-s2-l2a-cogs/\n",
      "S2A_11SPC_20200902_0_L2A_B03.tif\n",
      "wget -nv -O- https://sentinel-cogs.s3.us-west-2.amazonaws.com/sentinel-s2-l2a-cogs/11/S/PC/2020/9/S2A_11SPC_20200902_0_L2A/B03.tif | aws s3 cp - s3://dev-et-data/usmart/RIO/sentinel-s2-l2a-cogs/S2A_11SPC_20200902_0_L2A_B03.tif\n",
      "\n",
      "\n",
      "wget this: %s https://sentinel-cogs.s3.us-west-2.amazonaws.com/sentinel-s2-l2a-cogs/11/S/PC/2020/8/S2B_11SPC_20200811_0_L2A/B04.tif\n",
      "wget -nv -O- https://sentinel-cogs.s3.us-west-2.amazonaws.com/sentinel-s2-l2a-cogs/11/S/PC/2020/8/S2B_11SPC_20200811_0_L2A/B04.tif | aws s3 cp - s3://dev-et-data/usmart/RIO/sentinel-s2-l2a-cogs/\n",
      "S2B_11SPC_20200811_0_L2A_B04.tif\n",
      "wget -nv -O- https://sentinel-cogs.s3.us-west-2.amazonaws.com/sentinel-s2-l2a-cogs/11/S/PC/2020/8/S2B_11SPC_20200811_0_L2A/B04.tif | aws s3 cp - s3://dev-et-data/usmart/RIO/sentinel-s2-l2a-cogs/S2B_11SPC_20200811_0_L2A_B04.tif\n"
     ]
    },
    {
     "name": "stderr",
     "output_type": "stream",
     "text": [
      "03:13:43: sending https://sentinel-cogs.s3.us-west-2.amazonaws.com/sentinel-s2-l2a-cogs/11/S/PC/2020/8/S2B_11SPC_20200828_1_L2A/B03.tif\n",
      "03:13:43: Thread 36: finishing in 37 seconds\n",
      "03:13:43: xfer Thread 57: starting\n",
      "03:13:43: sending https://sentinel-cogs.s3.us-west-2.amazonaws.com/sentinel-s2-l2a-cogs/11/S/PC/2020/8/S2B_11SPC_20200808_0_L2A/B04.tif\n",
      "03:13:43: sending https://sentinel-cogs.s3.us-west-2.amazonaws.com/sentinel-s2-l2a-cogs/11/S/PC/2020/8/S2B_11SPC_20200831_0_L2A/B03.tif\n",
      "03:13:43: sending https://sentinel-cogs.s3.us-west-2.amazonaws.com/sentinel-s2-l2a-cogs/11/S/PC/2020/8/S2B_11SPC_20200828_0_L2A/B03.tif\n"
     ]
    },
    {
     "name": "stdout",
     "output_type": "stream",
     "text": [
      "\n",
      "\n",
      "wget this: %s https://sentinel-cogs.s3.us-west-2.amazonaws.com/sentinel-s2-l2a-cogs/11/S/PC/2020/8/S2B_11SPC_20200828_1_L2A/B03.tif\n",
      "wget -nv -O- https://sentinel-cogs.s3.us-west-2.amazonaws.com/sentinel-s2-l2a-cogs/11/S/PC/2020/8/S2B_11SPC_20200828_1_L2A/B03.tif | aws s3 cp - s3://dev-et-data/usmart/RIO/sentinel-s2-l2a-cogs/\n",
      "S2B_11SPC_20200828_1_L2A_B03.tif\n",
      "wget -nv -O- https://sentinel-cogs.s3.us-west-2.amazonaws.com/sentinel-s2-l2a-cogs/11/S/PC/2020/8/S2B_11SPC_20200828_1_L2A/B03.tif | aws s3 cp - s3://dev-et-data/usmart/RIO/sentinel-s2-l2a-cogs/S2B_11SPC_20200828_1_L2A_B03.tif\n",
      "\n",
      "\n",
      "wget this: %s https://sentinel-cogs.s3.us-west-2.amazonaws.com/sentinel-s2-l2a-cogs/11/S/PC/2020/8/S2B_11SPC_20200808_0_L2A/B04.tif\n",
      "wget -nv -O- https://sentinel-cogs.s3.us-west-2.amazonaws.com/sentinel-s2-l2a-cogs/11/S/PC/2020/8/S2B_11SPC_20200808_0_L2A/B04.tif | aws s3 cp - s3://dev-et-data/usmart/RIO/sentinel-s2-l2a-cogs/\n",
      "S2B_11SPC_20200808_0_L2A_B04.tif\n",
      "wget -nv -O- https://sentinel-cogs.s3.us-west-2.amazonaws.com/sentinel-s2-l2a-cogs/11/S/PC/2020/8/S2B_11SPC_20200808_0_L2A/B04.tif | aws s3 cp - s3://dev-et-data/usmart/RIO/sentinel-s2-l2a-cogs/S2B_11SPC_20200808_0_L2A_B04.tif\n",
      "\n",
      "\n",
      "wget this: %s https://sentinel-cogs.s3.us-west-2.amazonaws.com/sentinel-s2-l2a-cogs/11/S/PC/2020/8/S2B_11SPC_20200831_0_L2A/B03.tif\n",
      "wget -nv -O- https://sentinel-cogs.s3.us-west-2.amazonaws.com/sentinel-s2-l2a-cogs/11/S/PC/2020/8/S2B_11SPC_20200831_0_L2A/B03.tif | aws s3 cp - s3://dev-et-data/usmart/RIO/sentinel-s2-l2a-cogs/\n",
      "S2B_11SPC_20200831_0_L2A_B03.tif\n",
      "wget -nv -O- https://sentinel-cogs.s3.us-west-2.amazonaws.com/sentinel-s2-l2a-cogs/11/S/PC/2020/8/S2B_11SPC_20200831_0_L2A/B03.tif | aws s3 cp - s3://dev-et-data/usmart/RIO/sentinel-s2-l2a-cogs/S2B_11SPC_20200831_0_L2A_B03.tif\n",
      "\n",
      "\n",
      "wget this: %s https://sentinel-cogs.s3.us-west-2.amazonaws.com/sentinel-s2-l2a-cogs/11/S/PC/2020/8/S2B_11SPC_20200828_0_L2A/B03.tif\n",
      "wget -nv -O- https://sentinel-cogs.s3.us-west-2.amazonaws.com/sentinel-s2-l2a-cogs/11/S/PC/2020/8/S2B_11SPC_20200828_0_L2A/B03.tif | aws s3 cp - s3://dev-et-data/usmart/RIO/sentinel-s2-l2a-cogs/\n",
      "S2B_11SPC_20200828_0_L2A_B03.tif\n",
      "wget -nv -O- https://sentinel-cogs.s3.us-west-2.amazonaws.com/sentinel-s2-l2a-cogs/11/S/PC/2020/8/S2B_11SPC_20200828_0_L2A/B03.tif | aws s3 cp - s3://dev-et-data/usmart/RIO/sentinel-s2-l2a-cogs/S2B_11SPC_20200828_0_L2A_B03.tif\n"
     ]
    },
    {
     "name": "stderr",
     "output_type": "stream",
     "text": [
      "2021-09-23 03:13:44 URL:https://sentinel-cogs.s3.us-west-2.amazonaws.com/sentinel-s2-l2a-cogs/11/S/PC/2020/9/S2A_11SPC_20200912_0_L2A/B02.tif [204679137/204679137] -> \"-\" [1]\n",
      "2021-09-23 03:13:45 URL:https://sentinel-cogs.s3.us-west-2.amazonaws.com/sentinel-s2-l2a-cogs/11/S/PC/2020/9/S2B_11SPC_20200907_0_L2A/B02.tif [151818262/151818262] -> \"-\" [1]\n",
      "03:13:45: Thread 42: finishing in 33 seconds\n",
      "03:13:45: xfer Thread 58: starting\n",
      "03:13:45: sending https://sentinel-cogs.s3.us-west-2.amazonaws.com/sentinel-s2-l2a-cogs/11/S/PC/2020/8/S2A_11SPC_20200806_0_L2A/B04.tif\n"
     ]
    },
    {
     "name": "stdout",
     "output_type": "stream",
     "text": [
      "\n",
      "\n",
      "wget this: %s https://sentinel-cogs.s3.us-west-2.amazonaws.com/sentinel-s2-l2a-cogs/11/S/PC/2020/8/S2A_11SPC_20200806_0_L2A/B04.tif\n",
      "wget -nv -O- https://sentinel-cogs.s3.us-west-2.amazonaws.com/sentinel-s2-l2a-cogs/11/S/PC/2020/8/S2A_11SPC_20200806_0_L2A/B04.tif | aws s3 cp - s3://dev-et-data/usmart/RIO/sentinel-s2-l2a-cogs/\n",
      "S2A_11SPC_20200806_0_L2A_B04.tif\n",
      "wget -nv -O- https://sentinel-cogs.s3.us-west-2.amazonaws.com/sentinel-s2-l2a-cogs/11/S/PC/2020/8/S2A_11SPC_20200806_0_L2A/B04.tif | aws s3 cp - s3://dev-et-data/usmart/RIO/sentinel-s2-l2a-cogs/S2A_11SPC_20200806_0_L2A_B04.tif\n"
     ]
    },
    {
     "name": "stderr",
     "output_type": "stream",
     "text": [
      "2021-09-23 03:13:45 URL:https://sentinel-cogs.s3.us-west-2.amazonaws.com/sentinel-s2-l2a-cogs/11/S/PC/2020/8/S2A_11SPC_20200826_0_L2A/B04.tif [165041580/165041580] -> \"-\" [1]\n",
      "03:13:46: Thread 44: finishing in 28 seconds\n",
      "03:13:46: xfer Thread 59: starting\n",
      "03:13:46: sending https://sentinel-cogs.s3.us-west-2.amazonaws.com/sentinel-s2-l2a-cogs/11/S/PC/2020/8/S2A_11SPC_20200803_0_L2A/B04.tif\n"
     ]
    },
    {
     "name": "stdout",
     "output_type": "stream",
     "text": [
      "\n",
      "\n",
      "wget this: %s https://sentinel-cogs.s3.us-west-2.amazonaws.com/sentinel-s2-l2a-cogs/11/S/PC/2020/8/S2A_11SPC_20200803_0_L2A/B04.tif\n",
      "wget -nv -O- https://sentinel-cogs.s3.us-west-2.amazonaws.com/sentinel-s2-l2a-cogs/11/S/PC/2020/8/S2A_11SPC_20200803_0_L2A/B04.tif | aws s3 cp - s3://dev-et-data/usmart/RIO/sentinel-s2-l2a-cogs/\n",
      "S2A_11SPC_20200803_0_L2A_B04.tif\n",
      "wget -nv -O- https://sentinel-cogs.s3.us-west-2.amazonaws.com/sentinel-s2-l2a-cogs/11/S/PC/2020/8/S2A_11SPC_20200803_0_L2A/B04.tif | aws s3 cp - s3://dev-et-data/usmart/RIO/sentinel-s2-l2a-cogs/S2A_11SPC_20200803_0_L2A_B04.tif\n"
     ]
    },
    {
     "name": "stderr",
     "output_type": "stream",
     "text": [
      "2021-09-23 03:13:46 URL:https://sentinel-cogs.s3.us-west-2.amazonaws.com/sentinel-s2-l2a-cogs/11/S/PC/2020/8/S2B_11SPC_20200821_0_L2A/B04.tif [161418091/161418091] -> \"-\" [1]\n",
      "2021-09-23 03:13:46 URL:https://sentinel-cogs.s3.us-west-2.amazonaws.com/sentinel-s2-l2a-cogs/11/S/PC/2020/8/S2A_11SPC_20200823_0_L2A/B04.tif [195907488/195907488] -> \"-\" [1]\n",
      "03:13:47: sending https://sentinel-cogs.s3.us-west-2.amazonaws.com/sentinel-s2-l2a-cogs/11/S/PC/2020/8/S2B_11SPC_20200821_0_L2A/B03.tif\n",
      "03:13:47: sending https://sentinel-cogs.s3.us-west-2.amazonaws.com/sentinel-s2-l2a-cogs/11/S/PC/2020/8/S2A_11SPC_20200823_0_L2A/B03.tif\n"
     ]
    },
    {
     "name": "stdout",
     "output_type": "stream",
     "text": [
      "\n",
      "\n",
      "wget this: %s https://sentinel-cogs.s3.us-west-2.amazonaws.com/sentinel-s2-l2a-cogs/11/S/PC/2020/8/S2B_11SPC_20200821_0_L2A/B03.tif\n",
      "wget -nv -O- https://sentinel-cogs.s3.us-west-2.amazonaws.com/sentinel-s2-l2a-cogs/11/S/PC/2020/8/S2B_11SPC_20200821_0_L2A/B03.tif | aws s3 cp - s3://dev-et-data/usmart/RIO/sentinel-s2-l2a-cogs/\n",
      "S2B_11SPC_20200821_0_L2A_B03.tif\n",
      "wget -nv -O- https://sentinel-cogs.s3.us-west-2.amazonaws.com/sentinel-s2-l2a-cogs/11/S/PC/2020/8/S2B_11SPC_20200821_0_L2A/B03.tif | aws s3 cp - s3://dev-et-data/usmart/RIO/sentinel-s2-l2a-cogs/S2B_11SPC_20200821_0_L2A_B03.tif\n",
      "\n",
      "\n",
      "wget this: %s https://sentinel-cogs.s3.us-west-2.amazonaws.com/sentinel-s2-l2a-cogs/11/S/PC/2020/8/S2A_11SPC_20200823_0_L2A/B03.tif\n",
      "wget -nv -O- https://sentinel-cogs.s3.us-west-2.amazonaws.com/sentinel-s2-l2a-cogs/11/S/PC/2020/8/S2A_11SPC_20200823_0_L2A/B03.tif | aws s3 cp - s3://dev-et-data/usmart/RIO/sentinel-s2-l2a-cogs/\n",
      "S2A_11SPC_20200823_0_L2A_B03.tif\n",
      "wget -nv -O- https://sentinel-cogs.s3.us-west-2.amazonaws.com/sentinel-s2-l2a-cogs/11/S/PC/2020/8/S2A_11SPC_20200823_0_L2A/B03.tif | aws s3 cp - s3://dev-et-data/usmart/RIO/sentinel-s2-l2a-cogs/S2A_11SPC_20200823_0_L2A_B03.tif\n"
     ]
    },
    {
     "name": "stderr",
     "output_type": "stream",
     "text": [
      "2021-09-23 03:13:48 URL:https://sentinel-cogs.s3.us-west-2.amazonaws.com/sentinel-s2-l2a-cogs/11/S/PC/2020/8/S2A_11SPC_20200816_0_L2A/B04.tif [165833706/165833706] -> \"-\" [1]\n",
      "2021-09-23 03:13:49 URL:https://sentinel-cogs.s3.us-west-2.amazonaws.com/sentinel-s2-l2a-cogs/11/S/PC/2020/8/S2B_11SPC_20200818_0_L2A/B04.tif [198826416/198826416] -> \"-\" [1]\n",
      "03:13:49: sending https://sentinel-cogs.s3.us-west-2.amazonaws.com/sentinel-s2-l2a-cogs/11/S/PC/2020/8/S2A_11SPC_20200816_0_L2A/B03.tif\n"
     ]
    },
    {
     "name": "stdout",
     "output_type": "stream",
     "text": [
      "\n",
      "\n",
      "wget this: %s https://sentinel-cogs.s3.us-west-2.amazonaws.com/sentinel-s2-l2a-cogs/11/S/PC/2020/8/S2A_11SPC_20200816_0_L2A/B03.tif\n",
      "wget -nv -O- https://sentinel-cogs.s3.us-west-2.amazonaws.com/sentinel-s2-l2a-cogs/11/S/PC/2020/8/S2A_11SPC_20200816_0_L2A/B03.tif | aws s3 cp - s3://dev-et-data/usmart/RIO/sentinel-s2-l2a-cogs/\n",
      "S2A_11SPC_20200816_0_L2A_B03.tif\n",
      "wget -nv -O- https://sentinel-cogs.s3.us-west-2.amazonaws.com/sentinel-s2-l2a-cogs/11/S/PC/2020/8/S2A_11SPC_20200816_0_L2A/B03.tif | aws s3 cp - s3://dev-et-data/usmart/RIO/sentinel-s2-l2a-cogs/S2A_11SPC_20200816_0_L2A_B03.tif\n"
     ]
    },
    {
     "name": "stderr",
     "output_type": "stream",
     "text": [
      "2021-09-23 03:13:49 URL:https://sentinel-cogs.s3.us-west-2.amazonaws.com/sentinel-s2-l2a-cogs/11/S/PC/2020/9/S2A_11SPC_20200905_0_L2A/B03.tif [166425901/166425901] -> \"-\" [1]\n",
      "2021-09-23 03:13:49 URL:https://sentinel-cogs.s3.us-west-2.amazonaws.com/sentinel-s2-l2a-cogs/11/S/PC/2020/8/S2A_11SPC_20200813_0_L2A/B04.tif [185130604/185130604] -> \"-\" [1]\n",
      "03:13:50: sending https://sentinel-cogs.s3.us-west-2.amazonaws.com/sentinel-s2-l2a-cogs/11/S/PC/2020/8/S2B_11SPC_20200818_0_L2A/B03.tif\n"
     ]
    },
    {
     "name": "stdout",
     "output_type": "stream",
     "text": [
      "\n",
      "\n",
      "wget this: %s https://sentinel-cogs.s3.us-west-2.amazonaws.com/sentinel-s2-l2a-cogs/11/S/PC/2020/8/S2B_11SPC_20200818_0_L2A/B03.tif\n",
      "wget -nv -O- https://sentinel-cogs.s3.us-west-2.amazonaws.com/sentinel-s2-l2a-cogs/11/S/PC/2020/8/S2B_11SPC_20200818_0_L2A/B03.tif | aws s3 cp - s3://dev-et-data/usmart/RIO/sentinel-s2-l2a-cogs/\n",
      "S2B_11SPC_20200818_0_L2A_B03.tif\n",
      "wget -nv -O- https://sentinel-cogs.s3.us-west-2.amazonaws.com/sentinel-s2-l2a-cogs/11/S/PC/2020/8/S2B_11SPC_20200818_0_L2A/B03.tif | aws s3 cp - s3://dev-et-data/usmart/RIO/sentinel-s2-l2a-cogs/S2B_11SPC_20200818_0_L2A_B03.tif\n"
     ]
    },
    {
     "name": "stderr",
     "output_type": "stream",
     "text": [
      "2021-09-23 03:13:50 URL:https://sentinel-cogs.s3.us-west-2.amazonaws.com/sentinel-s2-l2a-cogs/11/S/PC/2020/8/S2B_11SPC_20200828_0_L2A/B03.tif [107150293/107150293] -> \"-\" [1]\n",
      "03:13:50: sending https://sentinel-cogs.s3.us-west-2.amazonaws.com/sentinel-s2-l2a-cogs/11/S/PC/2020/9/S2A_11SPC_20200905_0_L2A/B02.tif\n",
      "03:13:50: sending https://sentinel-cogs.s3.us-west-2.amazonaws.com/sentinel-s2-l2a-cogs/11/S/PC/2020/8/S2A_11SPC_20200813_0_L2A/B03.tif\n"
     ]
    },
    {
     "name": "stdout",
     "output_type": "stream",
     "text": [
      "\n",
      "\n",
      "wget this: %s https://sentinel-cogs.s3.us-west-2.amazonaws.com/sentinel-s2-l2a-cogs/11/S/PC/2020/9/S2A_11SPC_20200905_0_L2A/B02.tif\n",
      "wget -nv -O- https://sentinel-cogs.s3.us-west-2.amazonaws.com/sentinel-s2-l2a-cogs/11/S/PC/2020/9/S2A_11SPC_20200905_0_L2A/B02.tif | aws s3 cp - s3://dev-et-data/usmart/RIO/sentinel-s2-l2a-cogs/\n",
      "S2A_11SPC_20200905_0_L2A_B02.tif\n",
      "wget -nv -O- https://sentinel-cogs.s3.us-west-2.amazonaws.com/sentinel-s2-l2a-cogs/11/S/PC/2020/9/S2A_11SPC_20200905_0_L2A/B02.tif | aws s3 cp - s3://dev-et-data/usmart/RIO/sentinel-s2-l2a-cogs/S2A_11SPC_20200905_0_L2A_B02.tif\n",
      "\n",
      "\n",
      "wget this: %s https://sentinel-cogs.s3.us-west-2.amazonaws.com/sentinel-s2-l2a-cogs/11/S/PC/2020/8/S2A_11SPC_20200813_0_L2A/B03.tif\n",
      "wget -nv -O- https://sentinel-cogs.s3.us-west-2.amazonaws.com/sentinel-s2-l2a-cogs/11/S/PC/2020/8/S2A_11SPC_20200813_0_L2A/B03.tif | aws s3 cp - s3://dev-et-data/usmart/RIO/sentinel-s2-l2a-cogs/\n",
      "S2A_11SPC_20200813_0_L2A_B03.tif\n",
      "wget -nv -O- https://sentinel-cogs.s3.us-west-2.amazonaws.com/sentinel-s2-l2a-cogs/11/S/PC/2020/8/S2A_11SPC_20200813_0_L2A/B03.tif | aws s3 cp - s3://dev-et-data/usmart/RIO/sentinel-s2-l2a-cogs/S2A_11SPC_20200813_0_L2A_B03.tif\n"
     ]
    },
    {
     "name": "stderr",
     "output_type": "stream",
     "text": [
      "2021-09-23 03:13:50 URL:https://sentinel-cogs.s3.us-west-2.amazonaws.com/sentinel-s2-l2a-cogs/11/S/PC/2020/9/S2A_11SPC_20200902_0_L2A/B03.tif [206969945/206969945] -> \"-\" [1]\n",
      "2021-09-23 03:13:51 URL:https://sentinel-cogs.s3.us-west-2.amazonaws.com/sentinel-s2-l2a-cogs/11/S/PC/2020/8/S2B_11SPC_20200831_0_L2A/B03.tif [145691718/145691718] -> \"-\" [1]\n",
      "2021-09-23 03:13:51 URL:https://sentinel-cogs.s3.us-west-2.amazonaws.com/sentinel-s2-l2a-cogs/11/S/PC/2020/8/S2B_11SPC_20200828_1_L2A/B03.tif [130717863/130717863] -> \"-\" [1]\n",
      "03:13:51: sending https://sentinel-cogs.s3.us-west-2.amazonaws.com/sentinel-s2-l2a-cogs/11/S/PC/2020/9/S2A_11SPC_20200902_0_L2A/B02.tif\n"
     ]
    },
    {
     "name": "stdout",
     "output_type": "stream",
     "text": [
      "\n",
      "\n",
      "wget this: %s https://sentinel-cogs.s3.us-west-2.amazonaws.com/sentinel-s2-l2a-cogs/11/S/PC/2020/9/S2A_11SPC_20200902_0_L2A/B02.tif\n",
      "wget -nv -O- https://sentinel-cogs.s3.us-west-2.amazonaws.com/sentinel-s2-l2a-cogs/11/S/PC/2020/9/S2A_11SPC_20200902_0_L2A/B02.tif | aws s3 cp - s3://dev-et-data/usmart/RIO/sentinel-s2-l2a-cogs/\n",
      "S2A_11SPC_20200902_0_L2A_B02.tif\n",
      "wget -nv -O- https://sentinel-cogs.s3.us-west-2.amazonaws.com/sentinel-s2-l2a-cogs/11/S/PC/2020/9/S2A_11SPC_20200902_0_L2A/B02.tif | aws s3 cp - s3://dev-et-data/usmart/RIO/sentinel-s2-l2a-cogs/S2A_11SPC_20200902_0_L2A_B02.tif\n"
     ]
    },
    {
     "name": "stderr",
     "output_type": "stream",
     "text": [
      "2021-09-23 03:13:51 URL:https://sentinel-cogs.s3.us-west-2.amazonaws.com/sentinel-s2-l2a-cogs/11/S/PC/2020/8/S2B_11SPC_20200811_0_L2A/B04.tif [167072130/167072130] -> \"-\" [1]\n",
      "03:13:52: sending https://sentinel-cogs.s3.us-west-2.amazonaws.com/sentinel-s2-l2a-cogs/11/S/PC/2020/8/S2B_11SPC_20200831_0_L2A/B02.tif\n"
     ]
    },
    {
     "name": "stdout",
     "output_type": "stream",
     "text": [
      "\n",
      "\n",
      "wget this: %s https://sentinel-cogs.s3.us-west-2.amazonaws.com/sentinel-s2-l2a-cogs/11/S/PC/2020/8/S2B_11SPC_20200831_0_L2A/B02.tif\n",
      "wget -nv -O- https://sentinel-cogs.s3.us-west-2.amazonaws.com/sentinel-s2-l2a-cogs/11/S/PC/2020/8/S2B_11SPC_20200831_0_L2A/B02.tif | aws s3 cp - s3://dev-et-data/usmart/RIO/sentinel-s2-l2a-cogs/\n",
      "S2B_11SPC_20200831_0_L2A_B02.tif\n",
      "wget -nv -O- https://sentinel-cogs.s3.us-west-2.amazonaws.com/sentinel-s2-l2a-cogs/11/S/PC/2020/8/S2B_11SPC_20200831_0_L2A/B02.tif | aws s3 cp - s3://dev-et-data/usmart/RIO/sentinel-s2-l2a-cogs/S2B_11SPC_20200831_0_L2A_B02.tif\n"
     ]
    },
    {
     "name": "stderr",
     "output_type": "stream",
     "text": [
      "03:13:52: sending https://sentinel-cogs.s3.us-west-2.amazonaws.com/sentinel-s2-l2a-cogs/11/S/PC/2020/8/S2B_11SPC_20200828_1_L2A/B02.tif\n",
      "03:13:52: sending https://sentinel-cogs.s3.us-west-2.amazonaws.com/sentinel-s2-l2a-cogs/11/S/PC/2020/8/S2B_11SPC_20200811_0_L2A/B03.tif\n"
     ]
    },
    {
     "name": "stdout",
     "output_type": "stream",
     "text": [
      "\n",
      "\n",
      "wget this: %s https://sentinel-cogs.s3.us-west-2.amazonaws.com/sentinel-s2-l2a-cogs/11/S/PC/2020/8/S2B_11SPC_20200828_1_L2A/B02.tif\n",
      "wget -nv -O- https://sentinel-cogs.s3.us-west-2.amazonaws.com/sentinel-s2-l2a-cogs/11/S/PC/2020/8/S2B_11SPC_20200828_1_L2A/B02.tif | aws s3 cp - s3://dev-et-data/usmart/RIO/sentinel-s2-l2a-cogs/\n",
      "S2B_11SPC_20200828_1_L2A_B02.tif\n",
      "wget -nv -O- https://sentinel-cogs.s3.us-west-2.amazonaws.com/sentinel-s2-l2a-cogs/11/S/PC/2020/8/S2B_11SPC_20200828_1_L2A/B02.tif | aws s3 cp - s3://dev-et-data/usmart/RIO/sentinel-s2-l2a-cogs/S2B_11SPC_20200828_1_L2A_B02.tif\n",
      "\n",
      "\n",
      "wget this: %s https://sentinel-cogs.s3.us-west-2.amazonaws.com/sentinel-s2-l2a-cogs/11/S/PC/2020/8/S2B_11SPC_20200811_0_L2A/B03.tif\n",
      "wget -nv -O- https://sentinel-cogs.s3.us-west-2.amazonaws.com/sentinel-s2-l2a-cogs/11/S/PC/2020/8/S2B_11SPC_20200811_0_L2A/B03.tif | aws s3 cp - s3://dev-et-data/usmart/RIO/sentinel-s2-l2a-cogs/\n",
      "S2B_11SPC_20200811_0_L2A_B03.tif\n",
      "wget -nv -O- https://sentinel-cogs.s3.us-west-2.amazonaws.com/sentinel-s2-l2a-cogs/11/S/PC/2020/8/S2B_11SPC_20200811_0_L2A/B03.tif | aws s3 cp - s3://dev-et-data/usmart/RIO/sentinel-s2-l2a-cogs/S2B_11SPC_20200811_0_L2A_B03.tif\n"
     ]
    },
    {
     "name": "stderr",
     "output_type": "stream",
     "text": [
      "03:13:53: sending https://sentinel-cogs.s3.us-west-2.amazonaws.com/sentinel-s2-l2a-cogs/11/S/PC/2020/8/S2A_11SPC_20200826_0_L2A/B03.tif\n"
     ]
    },
    {
     "name": "stdout",
     "output_type": "stream",
     "text": [
      "\n",
      "\n",
      "wget this: %s https://sentinel-cogs.s3.us-west-2.amazonaws.com/sentinel-s2-l2a-cogs/11/S/PC/2020/8/S2A_11SPC_20200826_0_L2A/B03.tif\n",
      "wget -nv -O- https://sentinel-cogs.s3.us-west-2.amazonaws.com/sentinel-s2-l2a-cogs/11/S/PC/2020/8/S2A_11SPC_20200826_0_L2A/B03.tif | aws s3 cp - s3://dev-et-data/usmart/RIO/sentinel-s2-l2a-cogs/\n",
      "S2A_11SPC_20200826_0_L2A_B03.tif\n",
      "wget -nv -O- https://sentinel-cogs.s3.us-west-2.amazonaws.com/sentinel-s2-l2a-cogs/11/S/PC/2020/8/S2A_11SPC_20200826_0_L2A/B03.tif | aws s3 cp - s3://dev-et-data/usmart/RIO/sentinel-s2-l2a-cogs/S2A_11SPC_20200826_0_L2A_B03.tif\n"
     ]
    },
    {
     "name": "stderr",
     "output_type": "stream",
     "text": [
      "2021-09-23 03:13:54 URL:https://sentinel-cogs.s3.us-west-2.amazonaws.com/sentinel-s2-l2a-cogs/11/S/PC/2020/8/S2A_11SPC_20200806_0_L2A/B04.tif [166147297/166147297] -> \"-\" [1]\n",
      "03:13:54: sending https://sentinel-cogs.s3.us-west-2.amazonaws.com/sentinel-s2-l2a-cogs/11/S/PC/2020/8/S2B_11SPC_20200828_0_L2A/B02.tif\n"
     ]
    },
    {
     "name": "stdout",
     "output_type": "stream",
     "text": [
      "\n",
      "\n",
      "wget this: %s https://sentinel-cogs.s3.us-west-2.amazonaws.com/sentinel-s2-l2a-cogs/11/S/PC/2020/8/S2B_11SPC_20200828_0_L2A/B02.tif\n",
      "wget -nv -O- https://sentinel-cogs.s3.us-west-2.amazonaws.com/sentinel-s2-l2a-cogs/11/S/PC/2020/8/S2B_11SPC_20200828_0_L2A/B02.tif | aws s3 cp - s3://dev-et-data/usmart/RIO/sentinel-s2-l2a-cogs/\n",
      "S2B_11SPC_20200828_0_L2A_B02.tif\n",
      "wget -nv -O- https://sentinel-cogs.s3.us-west-2.amazonaws.com/sentinel-s2-l2a-cogs/11/S/PC/2020/8/S2B_11SPC_20200828_0_L2A/B02.tif | aws s3 cp - s3://dev-et-data/usmart/RIO/sentinel-s2-l2a-cogs/S2B_11SPC_20200828_0_L2A_B02.tif\n"
     ]
    },
    {
     "name": "stderr",
     "output_type": "stream",
     "text": [
      "2021-09-23 03:13:54 URL:https://sentinel-cogs.s3.us-west-2.amazonaws.com/sentinel-s2-l2a-cogs/11/S/PC/2020/8/S2B_11SPC_20200808_0_L2A/B04.tif [203849971/203849971] -> \"-\" [1]\n",
      "03:13:55: sending https://sentinel-cogs.s3.us-west-2.amazonaws.com/sentinel-s2-l2a-cogs/11/S/PC/2020/8/S2A_11SPC_20200806_0_L2A/B03.tif\n"
     ]
    },
    {
     "name": "stdout",
     "output_type": "stream",
     "text": [
      "\n",
      "\n",
      "wget this: %s https://sentinel-cogs.s3.us-west-2.amazonaws.com/sentinel-s2-l2a-cogs/11/S/PC/2020/8/S2A_11SPC_20200806_0_L2A/B03.tif\n",
      "wget -nv -O- https://sentinel-cogs.s3.us-west-2.amazonaws.com/sentinel-s2-l2a-cogs/11/S/PC/2020/8/S2A_11SPC_20200806_0_L2A/B03.tif | aws s3 cp - s3://dev-et-data/usmart/RIO/sentinel-s2-l2a-cogs/\n",
      "S2A_11SPC_20200806_0_L2A_B03.tif\n",
      "wget -nv -O- https://sentinel-cogs.s3.us-west-2.amazonaws.com/sentinel-s2-l2a-cogs/11/S/PC/2020/8/S2A_11SPC_20200806_0_L2A/B03.tif | aws s3 cp - s3://dev-et-data/usmart/RIO/sentinel-s2-l2a-cogs/S2A_11SPC_20200806_0_L2A_B03.tif\n"
     ]
    },
    {
     "name": "stderr",
     "output_type": "stream",
     "text": [
      "03:13:55: sending https://sentinel-cogs.s3.us-west-2.amazonaws.com/sentinel-s2-l2a-cogs/11/S/PC/2020/8/S2B_11SPC_20200808_0_L2A/B03.tif\n"
     ]
    },
    {
     "name": "stdout",
     "output_type": "stream",
     "text": [
      "\n",
      "\n",
      "wget this: %s https://sentinel-cogs.s3.us-west-2.amazonaws.com/sentinel-s2-l2a-cogs/11/S/PC/2020/8/S2B_11SPC_20200808_0_L2A/B03.tif\n",
      "wget -nv -O- https://sentinel-cogs.s3.us-west-2.amazonaws.com/sentinel-s2-l2a-cogs/11/S/PC/2020/8/S2B_11SPC_20200808_0_L2A/B03.tif | aws s3 cp - s3://dev-et-data/usmart/RIO/sentinel-s2-l2a-cogs/\n",
      "S2B_11SPC_20200808_0_L2A_B03.tif\n",
      "wget -nv -O- https://sentinel-cogs.s3.us-west-2.amazonaws.com/sentinel-s2-l2a-cogs/11/S/PC/2020/8/S2B_11SPC_20200808_0_L2A/B03.tif | aws s3 cp - s3://dev-et-data/usmart/RIO/sentinel-s2-l2a-cogs/S2B_11SPC_20200808_0_L2A_B03.tif\n"
     ]
    },
    {
     "name": "stderr",
     "output_type": "stream",
     "text": [
      "2021-09-23 03:13:56 URL:https://sentinel-cogs.s3.us-west-2.amazonaws.com/sentinel-s2-l2a-cogs/11/S/PC/2020/8/S2A_11SPC_20200823_0_L2A/B03.tif [191938422/191938422] -> \"-\" [1]\n",
      "2021-09-23 03:13:56 URL:https://sentinel-cogs.s3.us-west-2.amazonaws.com/sentinel-s2-l2a-cogs/11/S/PC/2020/8/S2B_11SPC_20200821_0_L2A/B03.tif [156776116/156776116] -> \"-\" [1]\n",
      "2021-09-23 03:13:56 URL:https://sentinel-cogs.s3.us-west-2.amazonaws.com/sentinel-s2-l2a-cogs/11/S/PC/2020/8/S2A_11SPC_20200816_0_L2A/B03.tif [164111419/164111419] -> \"-\" [1]\n",
      "2021-09-23 03:13:57 URL:https://sentinel-cogs.s3.us-west-2.amazonaws.com/sentinel-s2-l2a-cogs/11/S/PC/2020/8/S2A_11SPC_20200803_0_L2A/B04.tif [202930390/202930390] -> \"-\" [1]\n",
      "03:13:57: sending https://sentinel-cogs.s3.us-west-2.amazonaws.com/sentinel-s2-l2a-cogs/11/S/PC/2020/8/S2A_11SPC_20200823_0_L2A/B02.tif\n",
      "03:13:57: sending https://sentinel-cogs.s3.us-west-2.amazonaws.com/sentinel-s2-l2a-cogs/11/S/PC/2020/8/S2A_11SPC_20200816_0_L2A/B02.tif\n",
      "03:13:57: sending https://sentinel-cogs.s3.us-west-2.amazonaws.com/sentinel-s2-l2a-cogs/11/S/PC/2020/8/S2B_11SPC_20200821_0_L2A/B02.tif\n"
     ]
    },
    {
     "name": "stdout",
     "output_type": "stream",
     "text": [
      "\n",
      "\n",
      "wget this: %s https://sentinel-cogs.s3.us-west-2.amazonaws.com/sentinel-s2-l2a-cogs/11/S/PC/2020/8/S2A_11SPC_20200823_0_L2A/B02.tif\n",
      "wget -nv -O- https://sentinel-cogs.s3.us-west-2.amazonaws.com/sentinel-s2-l2a-cogs/11/S/PC/2020/8/S2A_11SPC_20200823_0_L2A/B02.tif | aws s3 cp - s3://dev-et-data/usmart/RIO/sentinel-s2-l2a-cogs/\n",
      "S2A_11SPC_20200823_0_L2A_B02.tif\n",
      "wget -nv -O- https://sentinel-cogs.s3.us-west-2.amazonaws.com/sentinel-s2-l2a-cogs/11/S/PC/2020/8/S2A_11SPC_20200823_0_L2A/B02.tif | aws s3 cp - s3://dev-et-data/usmart/RIO/sentinel-s2-l2a-cogs/S2A_11SPC_20200823_0_L2A_B02.tif\n",
      "\n",
      "\n",
      "wget this: %s https://sentinel-cogs.s3.us-west-2.amazonaws.com/sentinel-s2-l2a-cogs/11/S/PC/2020/8/S2A_11SPC_20200816_0_L2A/B02.tif\n",
      "wget -nv -O- https://sentinel-cogs.s3.us-west-2.amazonaws.com/sentinel-s2-l2a-cogs/11/S/PC/2020/8/S2A_11SPC_20200816_0_L2A/B02.tif | aws s3 cp - s3://dev-et-data/usmart/RIO/sentinel-s2-l2a-cogs/\n",
      "S2A_11SPC_20200816_0_L2A_B02.tif\n",
      "wget -nv -O- https://sentinel-cogs.s3.us-west-2.amazonaws.com/sentinel-s2-l2a-cogs/11/S/PC/2020/8/S2A_11SPC_20200816_0_L2A/B02.tif | aws s3 cp - s3://dev-et-data/usmart/RIO/sentinel-s2-l2a-cogs/S2A_11SPC_20200816_0_L2A_B02.tif\n",
      "\n",
      "\n",
      "wget this: %s https://sentinel-cogs.s3.us-west-2.amazonaws.com/sentinel-s2-l2a-cogs/11/S/PC/2020/8/S2B_11SPC_20200821_0_L2A/B02.tif\n",
      "wget -nv -O- https://sentinel-cogs.s3.us-west-2.amazonaws.com/sentinel-s2-l2a-cogs/11/S/PC/2020/8/S2B_11SPC_20200821_0_L2A/B02.tif | aws s3 cp - s3://dev-et-data/usmart/RIO/sentinel-s2-l2a-cogs/\n",
      "S2B_11SPC_20200821_0_L2A_B02.tif\n",
      "wget -nv -O- https://sentinel-cogs.s3.us-west-2.amazonaws.com/sentinel-s2-l2a-cogs/11/S/PC/2020/8/S2B_11SPC_20200821_0_L2A/B02.tif | aws s3 cp - s3://dev-et-data/usmart/RIO/sentinel-s2-l2a-cogs/S2B_11SPC_20200821_0_L2A_B02.tif\n"
     ]
    },
    {
     "name": "stderr",
     "output_type": "stream",
     "text": [
      "2021-09-23 03:13:57 URL:https://sentinel-cogs.s3.us-west-2.amazonaws.com/sentinel-s2-l2a-cogs/11/S/PC/2020/9/S2A_11SPC_20200905_0_L2A/B02.tif [167941572/167941572] -> \"-\" [1]\n",
      "2021-09-23 03:13:58 URL:https://sentinel-cogs.s3.us-west-2.amazonaws.com/sentinel-s2-l2a-cogs/11/S/PC/2020/8/S2B_11SPC_20200831_0_L2A/B02.tif [141573939/141573939] -> \"-\" [1]\n",
      "03:13:58: sending https://sentinel-cogs.s3.us-west-2.amazonaws.com/sentinel-s2-l2a-cogs/11/S/PC/2020/8/S2A_11SPC_20200803_0_L2A/B03.tif\n"
     ]
    },
    {
     "name": "stdout",
     "output_type": "stream",
     "text": [
      "\n",
      "\n",
      "wget this: %s https://sentinel-cogs.s3.us-west-2.amazonaws.com/sentinel-s2-l2a-cogs/11/S/PC/2020/8/S2A_11SPC_20200803_0_L2A/B03.tif\n",
      "wget -nv -O- https://sentinel-cogs.s3.us-west-2.amazonaws.com/sentinel-s2-l2a-cogs/11/S/PC/2020/8/S2A_11SPC_20200803_0_L2A/B03.tif | aws s3 cp - s3://dev-et-data/usmart/RIO/sentinel-s2-l2a-cogs/\n",
      "S2A_11SPC_20200803_0_L2A_B03.tif\n",
      "wget -nv -O- https://sentinel-cogs.s3.us-west-2.amazonaws.com/sentinel-s2-l2a-cogs/11/S/PC/2020/8/S2A_11SPC_20200803_0_L2A/B03.tif | aws s3 cp - s3://dev-et-data/usmart/RIO/sentinel-s2-l2a-cogs/S2A_11SPC_20200803_0_L2A_B03.tif\n"
     ]
    },
    {
     "name": "stderr",
     "output_type": "stream",
     "text": [
      "03:13:58: Thread 45: finishing in 27 seconds\n",
      "03:13:58: xfer Thread 60: starting\n",
      "03:13:58: sending https://sentinel-cogs.s3.us-west-2.amazonaws.com/sentinel-s2-l2a-cogs/11/S/PC/2020/8/S2B_11SPC_20200801_0_L2A/B04.tif\n",
      "03:13:58: Thread 47: finishing in 24 seconds\n",
      "03:13:58: xfer Thread 61: starting\n",
      "03:13:58: sending https://sentinel-cogs.s3.us-west-2.amazonaws.com/sentinel-s2-l2a-cogs/11/S/PC/2020/7/S2B_11SPC_20200729_0_L2A/B04.tif\n"
     ]
    },
    {
     "name": "stdout",
     "output_type": "stream",
     "text": [
      "\n",
      "\n",
      "wget this: %s https://sentinel-cogs.s3.us-west-2.amazonaws.com/sentinel-s2-l2a-cogs/11/S/PC/2020/8/S2B_11SPC_20200801_0_L2A/B04.tif\n",
      "wget -nv -O- https://sentinel-cogs.s3.us-west-2.amazonaws.com/sentinel-s2-l2a-cogs/11/S/PC/2020/8/S2B_11SPC_20200801_0_L2A/B04.tif | aws s3 cp - s3://dev-et-data/usmart/RIO/sentinel-s2-l2a-cogs/\n",
      "S2B_11SPC_20200801_0_L2A_B04.tif\n",
      "wget -nv -O- https://sentinel-cogs.s3.us-west-2.amazonaws.com/sentinel-s2-l2a-cogs/11/S/PC/2020/8/S2B_11SPC_20200801_0_L2A/B04.tif | aws s3 cp - s3://dev-et-data/usmart/RIO/sentinel-s2-l2a-cogs/S2B_11SPC_20200801_0_L2A_B04.tif\n",
      "\n",
      "\n",
      "wget this: %s https://sentinel-cogs.s3.us-west-2.amazonaws.com/sentinel-s2-l2a-cogs/11/S/PC/2020/7/S2B_11SPC_20200729_0_L2A/B04.tif\n",
      "wget -nv -O- https://sentinel-cogs.s3.us-west-2.amazonaws.com/sentinel-s2-l2a-cogs/11/S/PC/2020/7/S2B_11SPC_20200729_0_L2A/B04.tif | aws s3 cp - s3://dev-et-data/usmart/RIO/sentinel-s2-l2a-cogs/\n",
      "S2B_11SPC_20200729_0_L2A_B04.tif\n",
      "wget -nv -O- https://sentinel-cogs.s3.us-west-2.amazonaws.com/sentinel-s2-l2a-cogs/11/S/PC/2020/7/S2B_11SPC_20200729_0_L2A/B04.tif | aws s3 cp - s3://dev-et-data/usmart/RIO/sentinel-s2-l2a-cogs/S2B_11SPC_20200729_0_L2A_B04.tif\n"
     ]
    },
    {
     "name": "stderr",
     "output_type": "stream",
     "text": [
      "2021-09-23 03:13:59 URL:https://sentinel-cogs.s3.us-west-2.amazonaws.com/sentinel-s2-l2a-cogs/11/S/PC/2020/8/S2B_11SPC_20200818_0_L2A/B03.tif [195151510/195151510] -> \"-\" [1]\n",
      "2021-09-23 03:13:59 URL:https://sentinel-cogs.s3.us-west-2.amazonaws.com/sentinel-s2-l2a-cogs/11/S/PC/2020/8/S2A_11SPC_20200813_0_L2A/B03.tif [183093028/183093028] -> \"-\" [1]\n",
      "2021-09-23 03:13:59 URL:https://sentinel-cogs.s3.us-west-2.amazonaws.com/sentinel-s2-l2a-cogs/11/S/PC/2020/8/S2B_11SPC_20200828_1_L2A/B02.tif [130825891/130825891] -> \"-\" [1]\n",
      "03:13:59: sending https://sentinel-cogs.s3.us-west-2.amazonaws.com/sentinel-s2-l2a-cogs/11/S/PC/2020/8/S2B_11SPC_20200818_0_L2A/B02.tif\n"
     ]
    },
    {
     "name": "stdout",
     "output_type": "stream",
     "text": [
      "\n",
      "\n",
      "wget this: %s https://sentinel-cogs.s3.us-west-2.amazonaws.com/sentinel-s2-l2a-cogs/11/S/PC/2020/8/S2B_11SPC_20200818_0_L2A/B02.tif\n",
      "wget -nv -O- https://sentinel-cogs.s3.us-west-2.amazonaws.com/sentinel-s2-l2a-cogs/11/S/PC/2020/8/S2B_11SPC_20200818_0_L2A/B02.tif | aws s3 cp - s3://dev-et-data/usmart/RIO/sentinel-s2-l2a-cogs/\n",
      "S2B_11SPC_20200818_0_L2A_B02.tif\n",
      "wget -nv -O- https://sentinel-cogs.s3.us-west-2.amazonaws.com/sentinel-s2-l2a-cogs/11/S/PC/2020/8/S2B_11SPC_20200818_0_L2A/B02.tif | aws s3 cp - s3://dev-et-data/usmart/RIO/sentinel-s2-l2a-cogs/S2B_11SPC_20200818_0_L2A_B02.tif\n"
     ]
    },
    {
     "name": "stderr",
     "output_type": "stream",
     "text": [
      "03:14:00: Thread 48: finishing in 24 seconds\n",
      "03:14:00: xfer Thread 62: starting\n",
      "03:14:00: sending https://sentinel-cogs.s3.us-west-2.amazonaws.com/sentinel-s2-l2a-cogs/11/S/PC/2020/7/S2A_11SPC_20200727_0_L2A/B04.tif\n"
     ]
    },
    {
     "name": "stdout",
     "output_type": "stream",
     "text": [
      "\n",
      "\n",
      "wget this: %s https://sentinel-cogs.s3.us-west-2.amazonaws.com/sentinel-s2-l2a-cogs/11/S/PC/2020/7/S2A_11SPC_20200727_0_L2A/B04.tif\n",
      "wget -nv -O- https://sentinel-cogs.s3.us-west-2.amazonaws.com/sentinel-s2-l2a-cogs/11/S/PC/2020/7/S2A_11SPC_20200727_0_L2A/B04.tif | aws s3 cp - s3://dev-et-data/usmart/RIO/sentinel-s2-l2a-cogs/\n",
      "S2A_11SPC_20200727_0_L2A_B04.tif\n",
      "wget -nv -O- https://sentinel-cogs.s3.us-west-2.amazonaws.com/sentinel-s2-l2a-cogs/11/S/PC/2020/7/S2A_11SPC_20200727_0_L2A/B04.tif | aws s3 cp - s3://dev-et-data/usmart/RIO/sentinel-s2-l2a-cogs/S2A_11SPC_20200727_0_L2A_B04.tif\n"
     ]
    },
    {
     "name": "stderr",
     "output_type": "stream",
     "text": [
      "03:14:00: sending https://sentinel-cogs.s3.us-west-2.amazonaws.com/sentinel-s2-l2a-cogs/11/S/PC/2020/8/S2A_11SPC_20200813_0_L2A/B02.tif\n"
     ]
    },
    {
     "name": "stdout",
     "output_type": "stream",
     "text": [
      "\n",
      "\n",
      "wget this: %s https://sentinel-cogs.s3.us-west-2.amazonaws.com/sentinel-s2-l2a-cogs/11/S/PC/2020/8/S2A_11SPC_20200813_0_L2A/B02.tif\n",
      "wget -nv -O- https://sentinel-cogs.s3.us-west-2.amazonaws.com/sentinel-s2-l2a-cogs/11/S/PC/2020/8/S2A_11SPC_20200813_0_L2A/B02.tif | aws s3 cp - s3://dev-et-data/usmart/RIO/sentinel-s2-l2a-cogs/\n",
      "S2A_11SPC_20200813_0_L2A_B02.tif\n",
      "wget -nv -O- https://sentinel-cogs.s3.us-west-2.amazonaws.com/sentinel-s2-l2a-cogs/11/S/PC/2020/8/S2A_11SPC_20200813_0_L2A/B02.tif | aws s3 cp - s3://dev-et-data/usmart/RIO/sentinel-s2-l2a-cogs/S2A_11SPC_20200813_0_L2A_B02.tif\n"
     ]
    },
    {
     "name": "stderr",
     "output_type": "stream",
     "text": [
      "2021-09-23 03:14:01 URL:https://sentinel-cogs.s3.us-west-2.amazonaws.com/sentinel-s2-l2a-cogs/11/S/PC/2020/8/S2B_11SPC_20200811_0_L2A/B03.tif [165488067/165488067] -> \"-\" [1]\n",
      "2021-09-23 03:14:02 URL:https://sentinel-cogs.s3.us-west-2.amazonaws.com/sentinel-s2-l2a-cogs/11/S/PC/2020/8/S2A_11SPC_20200826_0_L2A/B03.tif [163007469/163007469] -> \"-\" [1]\n",
      "2021-09-23 03:14:02 URL:https://sentinel-cogs.s3.us-west-2.amazonaws.com/sentinel-s2-l2a-cogs/11/S/PC/2020/9/S2A_11SPC_20200902_0_L2A/B02.tif [208586941/208586941] -> \"-\" [1]\n",
      "2021-09-23 03:14:02 URL:https://sentinel-cogs.s3.us-west-2.amazonaws.com/sentinel-s2-l2a-cogs/11/S/PC/2020/8/S2B_11SPC_20200828_0_L2A/B02.tif [107068119/107068119] -> \"-\" [1]\n",
      "03:14:02: sending https://sentinel-cogs.s3.us-west-2.amazonaws.com/sentinel-s2-l2a-cogs/11/S/PC/2020/8/S2B_11SPC_20200811_0_L2A/B02.tif\n"
     ]
    },
    {
     "name": "stdout",
     "output_type": "stream",
     "text": [
      "\n",
      "\n",
      "wget this: %s https://sentinel-cogs.s3.us-west-2.amazonaws.com/sentinel-s2-l2a-cogs/11/S/PC/2020/8/S2B_11SPC_20200811_0_L2A/B02.tif\n",
      "wget -nv -O- https://sentinel-cogs.s3.us-west-2.amazonaws.com/sentinel-s2-l2a-cogs/11/S/PC/2020/8/S2B_11SPC_20200811_0_L2A/B02.tif | aws s3 cp - s3://dev-et-data/usmart/RIO/sentinel-s2-l2a-cogs/\n",
      "S2B_11SPC_20200811_0_L2A_B02.tif\n",
      "wget -nv -O- https://sentinel-cogs.s3.us-west-2.amazonaws.com/sentinel-s2-l2a-cogs/11/S/PC/2020/8/S2B_11SPC_20200811_0_L2A/B02.tif | aws s3 cp - s3://dev-et-data/usmart/RIO/sentinel-s2-l2a-cogs/S2B_11SPC_20200811_0_L2A_B02.tif\n"
     ]
    },
    {
     "name": "stderr",
     "output_type": "stream",
     "text": [
      "03:14:03: sending https://sentinel-cogs.s3.us-west-2.amazonaws.com/sentinel-s2-l2a-cogs/11/S/PC/2020/8/S2A_11SPC_20200826_0_L2A/B02.tif\n",
      "03:14:03: Thread 49: finishing in 27 seconds\n",
      "03:14:03: xfer Thread 63: starting\n",
      "03:14:03: sending https://sentinel-cogs.s3.us-west-2.amazonaws.com/sentinel-s2-l2a-cogs/11/S/PC/2020/7/S2A_11SPC_20200724_0_L2A/B04.tif\n",
      "03:14:03: Thread 46: finishing in 32 seconds\n",
      "03:14:03: xfer Thread 64: starting\n",
      "03:14:03: sending https://sentinel-cogs.s3.us-west-2.amazonaws.com/sentinel-s2-l2a-cogs/11/S/PC/2020/7/S2B_11SPC_20200722_0_L2A/B04.tif\n"
     ]
    },
    {
     "name": "stdout",
     "output_type": "stream",
     "text": [
      "\n",
      "\n",
      "wget this: %s https://sentinel-cogs.s3.us-west-2.amazonaws.com/sentinel-s2-l2a-cogs/11/S/PC/2020/8/S2A_11SPC_20200826_0_L2A/B02.tif\n",
      "wget -nv -O- https://sentinel-cogs.s3.us-west-2.amazonaws.com/sentinel-s2-l2a-cogs/11/S/PC/2020/8/S2A_11SPC_20200826_0_L2A/B02.tif | aws s3 cp - s3://dev-et-data/usmart/RIO/sentinel-s2-l2a-cogs/\n",
      "S2A_11SPC_20200826_0_L2A_B02.tif\n",
      "wget -nv -O- https://sentinel-cogs.s3.us-west-2.amazonaws.com/sentinel-s2-l2a-cogs/11/S/PC/2020/8/S2A_11SPC_20200826_0_L2A/B02.tif | aws s3 cp - s3://dev-et-data/usmart/RIO/sentinel-s2-l2a-cogs/S2A_11SPC_20200826_0_L2A_B02.tif\n",
      "\n",
      "\n",
      "wget this: %s https://sentinel-cogs.s3.us-west-2.amazonaws.com/sentinel-s2-l2a-cogs/11/S/PC/2020/7/S2A_11SPC_20200724_0_L2A/B04.tif\n",
      "wget -nv -O- https://sentinel-cogs.s3.us-west-2.amazonaws.com/sentinel-s2-l2a-cogs/11/S/PC/2020/7/S2A_11SPC_20200724_0_L2A/B04.tif | aws s3 cp - s3://dev-et-data/usmart/RIO/sentinel-s2-l2a-cogs/\n",
      "S2A_11SPC_20200724_0_L2A_B04.tif\n",
      "wget -nv -O- https://sentinel-cogs.s3.us-west-2.amazonaws.com/sentinel-s2-l2a-cogs/11/S/PC/2020/7/S2A_11SPC_20200724_0_L2A/B04.tif | aws s3 cp - s3://dev-et-data/usmart/RIO/sentinel-s2-l2a-cogs/S2A_11SPC_20200724_0_L2A_B04.tif\n",
      "\n",
      "\n",
      "wget this: %s https://sentinel-cogs.s3.us-west-2.amazonaws.com/sentinel-s2-l2a-cogs/11/S/PC/2020/7/S2B_11SPC_20200722_0_L2A/B04.tif\n",
      "wget -nv -O- https://sentinel-cogs.s3.us-west-2.amazonaws.com/sentinel-s2-l2a-cogs/11/S/PC/2020/7/S2B_11SPC_20200722_0_L2A/B04.tif | aws s3 cp - s3://dev-et-data/usmart/RIO/sentinel-s2-l2a-cogs/\n",
      "S2B_11SPC_20200722_0_L2A_B04.tif\n",
      "wget -nv -O- https://sentinel-cogs.s3.us-west-2.amazonaws.com/sentinel-s2-l2a-cogs/11/S/PC/2020/7/S2B_11SPC_20200722_0_L2A/B04.tif | aws s3 cp - s3://dev-et-data/usmart/RIO/sentinel-s2-l2a-cogs/S2B_11SPC_20200722_0_L2A_B04.tif\n"
     ]
    },
    {
     "name": "stderr",
     "output_type": "stream",
     "text": [
      "2021-09-23 03:14:03 URL:https://sentinel-cogs.s3.us-west-2.amazonaws.com/sentinel-s2-l2a-cogs/11/S/PC/2020/8/S2A_11SPC_20200806_0_L2A/B03.tif [164541634/164541634] -> \"-\" [1]\n",
      "03:14:04: sending https://sentinel-cogs.s3.us-west-2.amazonaws.com/sentinel-s2-l2a-cogs/11/S/PC/2020/8/S2A_11SPC_20200806_0_L2A/B02.tif\n"
     ]
    },
    {
     "name": "stdout",
     "output_type": "stream",
     "text": [
      "\n",
      "\n",
      "wget this: %s https://sentinel-cogs.s3.us-west-2.amazonaws.com/sentinel-s2-l2a-cogs/11/S/PC/2020/8/S2A_11SPC_20200806_0_L2A/B02.tif\n",
      "wget -nv -O- https://sentinel-cogs.s3.us-west-2.amazonaws.com/sentinel-s2-l2a-cogs/11/S/PC/2020/8/S2A_11SPC_20200806_0_L2A/B02.tif | aws s3 cp - s3://dev-et-data/usmart/RIO/sentinel-s2-l2a-cogs/\n",
      "S2A_11SPC_20200806_0_L2A_B02.tif\n",
      "wget -nv -O- https://sentinel-cogs.s3.us-west-2.amazonaws.com/sentinel-s2-l2a-cogs/11/S/PC/2020/8/S2A_11SPC_20200806_0_L2A/B02.tif | aws s3 cp - s3://dev-et-data/usmart/RIO/sentinel-s2-l2a-cogs/S2A_11SPC_20200806_0_L2A_B02.tif\n"
     ]
    },
    {
     "name": "stderr",
     "output_type": "stream",
     "text": [
      "2021-09-23 03:14:05 URL:https://sentinel-cogs.s3.us-west-2.amazonaws.com/sentinel-s2-l2a-cogs/11/S/PC/2020/8/S2B_11SPC_20200808_0_L2A/B03.tif [201290651/201290651] -> \"-\" [1]\n",
      "2021-09-23 03:14:05 URL:https://sentinel-cogs.s3.us-west-2.amazonaws.com/sentinel-s2-l2a-cogs/11/S/PC/2020/8/S2A_11SPC_20200816_0_L2A/B02.tif [164607974/164607974] -> \"-\" [1]\n",
      "2021-09-23 03:14:06 URL:https://sentinel-cogs.s3.us-west-2.amazonaws.com/sentinel-s2-l2a-cogs/11/S/PC/2020/8/S2A_11SPC_20200823_0_L2A/B02.tif [191113195/191113195] -> \"-\" [1]\n",
      "03:14:06: sending https://sentinel-cogs.s3.us-west-2.amazonaws.com/sentinel-s2-l2a-cogs/11/S/PC/2020/8/S2B_11SPC_20200808_0_L2A/B02.tif\n"
     ]
    },
    {
     "name": "stdout",
     "output_type": "stream",
     "text": [
      "\n",
      "\n",
      "wget this: %s https://sentinel-cogs.s3.us-west-2.amazonaws.com/sentinel-s2-l2a-cogs/11/S/PC/2020/8/S2B_11SPC_20200808_0_L2A/B02.tif\n",
      "wget -nv -O- https://sentinel-cogs.s3.us-west-2.amazonaws.com/sentinel-s2-l2a-cogs/11/S/PC/2020/8/S2B_11SPC_20200808_0_L2A/B02.tif | aws s3 cp - s3://dev-et-data/usmart/RIO/sentinel-s2-l2a-cogs/\n",
      "S2B_11SPC_20200808_0_L2A_B02.tif\n",
      "wget -nv -O- https://sentinel-cogs.s3.us-west-2.amazonaws.com/sentinel-s2-l2a-cogs/11/S/PC/2020/8/S2B_11SPC_20200808_0_L2A/B02.tif | aws s3 cp - s3://dev-et-data/usmart/RIO/sentinel-s2-l2a-cogs/S2B_11SPC_20200808_0_L2A_B02.tif\n"
     ]
    },
    {
     "name": "stderr",
     "output_type": "stream",
     "text": [
      "03:14:06: Thread 51: finishing in 29 seconds\n",
      "03:14:06: xfer Thread 65: starting\n",
      "03:14:06: sending https://sentinel-cogs.s3.us-west-2.amazonaws.com/sentinel-s2-l2a-cogs/11/S/PC/2020/7/S2B_11SPC_20200719_0_L2A/B04.tif\n",
      "03:14:06: Thread 54: finishing in 27 seconds\n",
      "03:14:06: xfer Thread 66: starting\n",
      "03:14:06: sending https://sentinel-cogs.s3.us-west-2.amazonaws.com/sentinel-s2-l2a-cogs/11/S/PC/2020/7/S2A_11SPC_20200717_0_L2A/B04.tif\n"
     ]
    },
    {
     "name": "stdout",
     "output_type": "stream",
     "text": [
      "\n",
      "\n",
      "wget this: %s https://sentinel-cogs.s3.us-west-2.amazonaws.com/sentinel-s2-l2a-cogs/11/S/PC/2020/7/S2B_11SPC_20200719_0_L2A/B04.tif\n",
      "wget -nv -O- https://sentinel-cogs.s3.us-west-2.amazonaws.com/sentinel-s2-l2a-cogs/11/S/PC/2020/7/S2B_11SPC_20200719_0_L2A/B04.tif | aws s3 cp - s3://dev-et-data/usmart/RIO/sentinel-s2-l2a-cogs/\n",
      "S2B_11SPC_20200719_0_L2A_B04.tif\n",
      "wget -nv -O- https://sentinel-cogs.s3.us-west-2.amazonaws.com/sentinel-s2-l2a-cogs/11/S/PC/2020/7/S2B_11SPC_20200719_0_L2A/B04.tif | aws s3 cp - s3://dev-et-data/usmart/RIO/sentinel-s2-l2a-cogs/S2B_11SPC_20200719_0_L2A_B04.tif\n",
      "\n",
      "\n",
      "wget this: %s https://sentinel-cogs.s3.us-west-2.amazonaws.com/sentinel-s2-l2a-cogs/11/S/PC/2020/7/S2A_11SPC_20200717_0_L2A/B04.tif\n",
      "wget -nv -O- https://sentinel-cogs.s3.us-west-2.amazonaws.com/sentinel-s2-l2a-cogs/11/S/PC/2020/7/S2A_11SPC_20200717_0_L2A/B04.tif | aws s3 cp - s3://dev-et-data/usmart/RIO/sentinel-s2-l2a-cogs/\n",
      "S2A_11SPC_20200717_0_L2A_B04.tif\n",
      "wget -nv -O- https://sentinel-cogs.s3.us-west-2.amazonaws.com/sentinel-s2-l2a-cogs/11/S/PC/2020/7/S2A_11SPC_20200717_0_L2A/B04.tif | aws s3 cp - s3://dev-et-data/usmart/RIO/sentinel-s2-l2a-cogs/S2A_11SPC_20200717_0_L2A_B04.tif\n"
     ]
    },
    {
     "name": "stderr",
     "output_type": "stream",
     "text": [
      "2021-09-23 03:14:07 URL:https://sentinel-cogs.s3.us-west-2.amazonaws.com/sentinel-s2-l2a-cogs/11/S/PC/2020/8/S2A_11SPC_20200803_0_L2A/B03.tif [199421898/199421898] -> \"-\" [1]\n",
      "2021-09-23 03:14:07 URL:https://sentinel-cogs.s3.us-west-2.amazonaws.com/sentinel-s2-l2a-cogs/11/S/PC/2020/8/S2B_11SPC_20200821_0_L2A/B02.tif [153939963/153939963] -> \"-\" [1]\n",
      "2021-09-23 03:14:07 URL:https://sentinel-cogs.s3.us-west-2.amazonaws.com/sentinel-s2-l2a-cogs/11/S/PC/2020/8/S2B_11SPC_20200801_0_L2A/B04.tif [169052220/169052220] -> \"-\" [1]\n",
      "03:14:08: sending https://sentinel-cogs.s3.us-west-2.amazonaws.com/sentinel-s2-l2a-cogs/11/S/PC/2020/8/S2A_11SPC_20200803_0_L2A/B02.tif\n"
     ]
    },
    {
     "name": "stdout",
     "output_type": "stream",
     "text": [
      "\n",
      "\n",
      "wget this: %s https://sentinel-cogs.s3.us-west-2.amazonaws.com/sentinel-s2-l2a-cogs/11/S/PC/2020/8/S2A_11SPC_20200803_0_L2A/B02.tif\n",
      "wget -nv -O- https://sentinel-cogs.s3.us-west-2.amazonaws.com/sentinel-s2-l2a-cogs/11/S/PC/2020/8/S2A_11SPC_20200803_0_L2A/B02.tif | aws s3 cp - s3://dev-et-data/usmart/RIO/sentinel-s2-l2a-cogs/\n",
      "S2A_11SPC_20200803_0_L2A_B02.tif\n",
      "wget -nv -O- https://sentinel-cogs.s3.us-west-2.amazonaws.com/sentinel-s2-l2a-cogs/11/S/PC/2020/8/S2A_11SPC_20200803_0_L2A/B02.tif | aws s3 cp - s3://dev-et-data/usmart/RIO/sentinel-s2-l2a-cogs/S2A_11SPC_20200803_0_L2A_B02.tif\n"
     ]
    },
    {
     "name": "stderr",
     "output_type": "stream",
     "text": [
      "2021-09-23 03:14:08 URL:https://sentinel-cogs.s3.us-west-2.amazonaws.com/sentinel-s2-l2a-cogs/11/S/PC/2020/7/S2B_11SPC_20200729_0_L2A/B04.tif [203411276/203411276] -> \"-\" [1]\n",
      "03:14:08: sending https://sentinel-cogs.s3.us-west-2.amazonaws.com/sentinel-s2-l2a-cogs/11/S/PC/2020/8/S2B_11SPC_20200801_0_L2A/B03.tif\n",
      "03:14:08: Thread 52: finishing in 30 seconds\n",
      "03:14:08: xfer Thread 67: starting\n",
      "03:14:08: sending https://sentinel-cogs.s3.us-west-2.amazonaws.com/sentinel-s2-l2a-cogs/11/S/PC/2020/7/S2A_11SPC_20200714_0_L2A/B04.tif\n"
     ]
    },
    {
     "name": "stdout",
     "output_type": "stream",
     "text": [
      "\n",
      "\n",
      "wget this: %s https://sentinel-cogs.s3.us-west-2.amazonaws.com/sentinel-s2-l2a-cogs/11/S/PC/2020/8/S2B_11SPC_20200801_0_L2A/B03.tif\n",
      "wget -nv -O- https://sentinel-cogs.s3.us-west-2.amazonaws.com/sentinel-s2-l2a-cogs/11/S/PC/2020/8/S2B_11SPC_20200801_0_L2A/B03.tif | aws s3 cp - s3://dev-et-data/usmart/RIO/sentinel-s2-l2a-cogs/\n",
      "S2B_11SPC_20200801_0_L2A_B03.tif\n",
      "wget -nv -O- https://sentinel-cogs.s3.us-west-2.amazonaws.com/sentinel-s2-l2a-cogs/11/S/PC/2020/8/S2B_11SPC_20200801_0_L2A/B03.tif | aws s3 cp - s3://dev-et-data/usmart/RIO/sentinel-s2-l2a-cogs/S2B_11SPC_20200801_0_L2A_B03.tif\n",
      "\n",
      "\n",
      "wget this: %s https://sentinel-cogs.s3.us-west-2.amazonaws.com/sentinel-s2-l2a-cogs/11/S/PC/2020/7/S2A_11SPC_20200714_0_L2A/B04.tif\n",
      "wget -nv -O- https://sentinel-cogs.s3.us-west-2.amazonaws.com/sentinel-s2-l2a-cogs/11/S/PC/2020/7/S2A_11SPC_20200714_0_L2A/B04.tif | aws s3 cp - s3://dev-et-data/usmart/RIO/sentinel-s2-l2a-cogs/\n",
      "S2A_11SPC_20200714_0_L2A_B04.tif\n",
      "wget -nv -O- https://sentinel-cogs.s3.us-west-2.amazonaws.com/sentinel-s2-l2a-cogs/11/S/PC/2020/7/S2A_11SPC_20200714_0_L2A/B04.tif | aws s3 cp - s3://dev-et-data/usmart/RIO/sentinel-s2-l2a-cogs/S2A_11SPC_20200714_0_L2A_B04.tif\n"
     ]
    },
    {
     "name": "stderr",
     "output_type": "stream",
     "text": [
      "2021-09-23 03:14:09 URL:https://sentinel-cogs.s3.us-west-2.amazonaws.com/sentinel-s2-l2a-cogs/11/S/PC/2020/7/S2A_11SPC_20200727_0_L2A/B04.tif [168633589/168633589] -> \"-\" [1]\n",
      "03:14:09: sending https://sentinel-cogs.s3.us-west-2.amazonaws.com/sentinel-s2-l2a-cogs/11/S/PC/2020/7/S2B_11SPC_20200729_0_L2A/B03.tif\n"
     ]
    },
    {
     "name": "stdout",
     "output_type": "stream",
     "text": [
      "\n",
      "\n",
      "wget this: %s https://sentinel-cogs.s3.us-west-2.amazonaws.com/sentinel-s2-l2a-cogs/11/S/PC/2020/7/S2B_11SPC_20200729_0_L2A/B03.tif\n",
      "wget -nv -O- https://sentinel-cogs.s3.us-west-2.amazonaws.com/sentinel-s2-l2a-cogs/11/S/PC/2020/7/S2B_11SPC_20200729_0_L2A/B03.tif | aws s3 cp - s3://dev-et-data/usmart/RIO/sentinel-s2-l2a-cogs/\n",
      "S2B_11SPC_20200729_0_L2A_B03.tif\n",
      "wget -nv -O- https://sentinel-cogs.s3.us-west-2.amazonaws.com/sentinel-s2-l2a-cogs/11/S/PC/2020/7/S2B_11SPC_20200729_0_L2A/B03.tif | aws s3 cp - s3://dev-et-data/usmart/RIO/sentinel-s2-l2a-cogs/S2B_11SPC_20200729_0_L2A_B03.tif\n"
     ]
    },
    {
     "name": "stderr",
     "output_type": "stream",
     "text": [
      "03:14:09: sending https://sentinel-cogs.s3.us-west-2.amazonaws.com/sentinel-s2-l2a-cogs/11/S/PC/2020/7/S2A_11SPC_20200727_0_L2A/B03.tif\n"
     ]
    },
    {
     "name": "stdout",
     "output_type": "stream",
     "text": [
      "\n",
      "\n",
      "wget this: %s https://sentinel-cogs.s3.us-west-2.amazonaws.com/sentinel-s2-l2a-cogs/11/S/PC/2020/7/S2A_11SPC_20200727_0_L2A/B03.tif\n",
      "wget -nv -O- https://sentinel-cogs.s3.us-west-2.amazonaws.com/sentinel-s2-l2a-cogs/11/S/PC/2020/7/S2A_11SPC_20200727_0_L2A/B03.tif | aws s3 cp - s3://dev-et-data/usmart/RIO/sentinel-s2-l2a-cogs/\n",
      "S2A_11SPC_20200727_0_L2A_B03.tif\n",
      "wget -nv -O- https://sentinel-cogs.s3.us-west-2.amazonaws.com/sentinel-s2-l2a-cogs/11/S/PC/2020/7/S2A_11SPC_20200727_0_L2A/B03.tif | aws s3 cp - s3://dev-et-data/usmart/RIO/sentinel-s2-l2a-cogs/S2A_11SPC_20200727_0_L2A_B03.tif\n"
     ]
    },
    {
     "name": "stderr",
     "output_type": "stream",
     "text": [
      "2021-09-23 03:14:10 URL:https://sentinel-cogs.s3.us-west-2.amazonaws.com/sentinel-s2-l2a-cogs/11/S/PC/2020/8/S2B_11SPC_20200811_0_L2A/B02.tif [165615057/165615057] -> \"-\" [1]\n",
      "2021-09-23 03:14:11 URL:https://sentinel-cogs.s3.us-west-2.amazonaws.com/sentinel-s2-l2a-cogs/11/S/PC/2020/8/S2B_11SPC_20200818_0_L2A/B02.tif [194208473/194208473] -> \"-\" [1]\n",
      "2021-09-23 03:14:11 URL:https://sentinel-cogs.s3.us-west-2.amazonaws.com/sentinel-s2-l2a-cogs/11/S/PC/2020/8/S2A_11SPC_20200826_0_L2A/B02.tif [163683037/163683037] -> \"-\" [1]\n",
      "03:14:11: Thread 56: finishing in 28 seconds\n",
      "03:14:11: xfer Thread 68: starting\n",
      "03:14:11: sending https://sentinel-cogs.s3.us-west-2.amazonaws.com/sentinel-s2-l2a-cogs/11/S/PC/2020/7/S2B_11SPC_20200712_0_L2A/B04.tif\n"
     ]
    },
    {
     "name": "stdout",
     "output_type": "stream",
     "text": [
      "\n",
      "\n",
      "wget this: %s https://sentinel-cogs.s3.us-west-2.amazonaws.com/sentinel-s2-l2a-cogs/11/S/PC/2020/7/S2B_11SPC_20200712_0_L2A/B04.tif\n",
      "wget -nv -O- https://sentinel-cogs.s3.us-west-2.amazonaws.com/sentinel-s2-l2a-cogs/11/S/PC/2020/7/S2B_11SPC_20200712_0_L2A/B04.tif | aws s3 cp - s3://dev-et-data/usmart/RIO/sentinel-s2-l2a-cogs/\n",
      "S2B_11SPC_20200712_0_L2A_B04.tif\n",
      "wget -nv -O- https://sentinel-cogs.s3.us-west-2.amazonaws.com/sentinel-s2-l2a-cogs/11/S/PC/2020/7/S2B_11SPC_20200712_0_L2A/B04.tif | aws s3 cp - s3://dev-et-data/usmart/RIO/sentinel-s2-l2a-cogs/S2B_11SPC_20200712_0_L2A_B04.tif\n"
     ]
    },
    {
     "name": "stderr",
     "output_type": "stream",
     "text": [
      "2021-09-23 03:14:12 URL:https://sentinel-cogs.s3.us-west-2.amazonaws.com/sentinel-s2-l2a-cogs/11/S/PC/2020/7/S2B_11SPC_20200722_0_L2A/B04.tif [170596404/170596404] -> \"-\" [1]\n",
      "2021-09-23 03:14:12 URL:https://sentinel-cogs.s3.us-west-2.amazonaws.com/sentinel-s2-l2a-cogs/11/S/PC/2020/8/S2A_11SPC_20200813_0_L2A/B02.tif [183989142/183989142] -> \"-\" [1]\n",
      "03:14:12: Thread 53: finishing in 34 seconds\n",
      "03:14:12: Thread 50: finishing in 35 seconds\n",
      "03:14:12: xfer Thread 70: starting\n",
      "03:14:12: xfer Thread 69: starting\n",
      "03:14:12: sending https://sentinel-cogs.s3.us-west-2.amazonaws.com/sentinel-s2-l2a-cogs/11/S/PC/2020/7/S2B_11SPC_20200709_0_L2A/B04.tif\n",
      "03:14:12: sending https://sentinel-cogs.s3.us-west-2.amazonaws.com/sentinel-s2-l2a-cogs/11/S/PC/2020/7/S2A_11SPC_20200707_0_L2A/B04.tif\n",
      "03:14:12: sending https://sentinel-cogs.s3.us-west-2.amazonaws.com/sentinel-s2-l2a-cogs/11/S/PC/2020/7/S2B_11SPC_20200722_0_L2A/B03.tif\n"
     ]
    },
    {
     "name": "stdout",
     "output_type": "stream",
     "text": [
      "\n",
      "\n",
      "\n",
      "\n",
      "wget this: %s https://sentinel-cogs.s3.us-west-2.amazonaws.com/sentinel-s2-l2a-cogs/11/S/PC/2020/7/S2B_11SPC_20200709_0_L2A/B04.tif\n",
      "wget -nv -O- https://sentinel-cogs.s3.us-west-2.amazonaws.com/sentinel-s2-l2a-cogs/11/S/PC/2020/7/S2B_11SPC_20200709_0_L2A/B04.tif | aws s3 cp - s3://dev-et-data/usmart/RIO/sentinel-s2-l2a-cogs/\n",
      "S2B_11SPC_20200709_0_L2A_B04.tif\n",
      "wget -nv -O- https://sentinel-cogs.s3.us-west-2.amazonaws.com/sentinel-s2-l2a-cogs/11/S/PC/2020/7/S2B_11SPC_20200709_0_L2A/B04.tif | aws s3 cp - s3://dev-et-data/usmart/RIO/sentinel-s2-l2a-cogs/S2B_11SPC_20200709_0_L2A_B04.tif\n",
      "wget this: %s https://sentinel-cogs.s3.us-west-2.amazonaws.com/sentinel-s2-l2a-cogs/11/S/PC/2020/7/S2A_11SPC_20200707_0_L2A/B04.tif\n",
      "wget -nv -O- https://sentinel-cogs.s3.us-west-2.amazonaws.com/sentinel-s2-l2a-cogs/11/S/PC/2020/7/S2A_11SPC_20200707_0_L2A/B04.tif | aws s3 cp - s3://dev-et-data/usmart/RIO/sentinel-s2-l2a-cogs/\n",
      "S2A_11SPC_20200707_0_L2A_B04.tif\n",
      "wget -nv -O- https://sentinel-cogs.s3.us-west-2.amazonaws.com/sentinel-s2-l2a-cogs/11/S/PC/2020/7/S2A_11SPC_20200707_0_L2A/B04.tif | aws s3 cp - s3://dev-et-data/usmart/RIO/sentinel-s2-l2a-cogs/S2A_11SPC_20200707_0_L2A_B04.tif\n",
      "\n",
      "\n",
      "wget this: %s https://sentinel-cogs.s3.us-west-2.amazonaws.com/sentinel-s2-l2a-cogs/11/S/PC/2020/7/S2B_11SPC_20200722_0_L2A/B03.tif\n",
      "wget -nv -O- https://sentinel-cogs.s3.us-west-2.amazonaws.com/sentinel-s2-l2a-cogs/11/S/PC/2020/7/S2B_11SPC_20200722_0_L2A/B03.tif | aws s3 cp - s3://dev-et-data/usmart/RIO/sentinel-s2-l2a-cogs/\n",
      "S2B_11SPC_20200722_0_L2A_B03.tif\n",
      "wget -nv -O- https://sentinel-cogs.s3.us-west-2.amazonaws.com/sentinel-s2-l2a-cogs/11/S/PC/2020/7/S2B_11SPC_20200722_0_L2A/B03.tif | aws s3 cp - s3://dev-et-data/usmart/RIO/sentinel-s2-l2a-cogs/S2B_11SPC_20200722_0_L2A_B03.tif\n"
     ]
    },
    {
     "name": "stderr",
     "output_type": "stream",
     "text": [
      "03:14:13: Thread 55: finishing in 33 seconds\n",
      "03:14:13: xfer Thread 71: starting\n",
      "03:14:13: sending https://sentinel-cogs.s3.us-west-2.amazonaws.com/sentinel-s2-l2a-cogs/11/S/PC/2020/7/S2A_11SPC_20200707_1_L2A/B04.tif\n"
     ]
    },
    {
     "name": "stdout",
     "output_type": "stream",
     "text": [
      "\n",
      "\n",
      "wget this: %s https://sentinel-cogs.s3.us-west-2.amazonaws.com/sentinel-s2-l2a-cogs/11/S/PC/2020/7/S2A_11SPC_20200707_1_L2A/B04.tif\n",
      "wget -nv -O- https://sentinel-cogs.s3.us-west-2.amazonaws.com/sentinel-s2-l2a-cogs/11/S/PC/2020/7/S2A_11SPC_20200707_1_L2A/B04.tif | aws s3 cp - s3://dev-et-data/usmart/RIO/sentinel-s2-l2a-cogs/\n",
      "S2A_11SPC_20200707_1_L2A_B04.tif\n",
      "wget -nv -O- https://sentinel-cogs.s3.us-west-2.amazonaws.com/sentinel-s2-l2a-cogs/11/S/PC/2020/7/S2A_11SPC_20200707_1_L2A/B04.tif | aws s3 cp - s3://dev-et-data/usmart/RIO/sentinel-s2-l2a-cogs/S2A_11SPC_20200707_1_L2A_B04.tif\n"
     ]
    },
    {
     "name": "stderr",
     "output_type": "stream",
     "text": [
      "2021-09-23 03:14:13 URL:https://sentinel-cogs.s3.us-west-2.amazonaws.com/sentinel-s2-l2a-cogs/11/S/PC/2020/7/S2A_11SPC_20200724_0_L2A/B04.tif [210706101/210706101] -> \"-\" [1]\n",
      "03:14:14: sending https://sentinel-cogs.s3.us-west-2.amazonaws.com/sentinel-s2-l2a-cogs/11/S/PC/2020/7/S2A_11SPC_20200724_0_L2A/B03.tif\n"
     ]
    },
    {
     "name": "stdout",
     "output_type": "stream",
     "text": [
      "\n",
      "\n",
      "wget this: %s https://sentinel-cogs.s3.us-west-2.amazonaws.com/sentinel-s2-l2a-cogs/11/S/PC/2020/7/S2A_11SPC_20200724_0_L2A/B03.tif\n",
      "wget -nv -O- https://sentinel-cogs.s3.us-west-2.amazonaws.com/sentinel-s2-l2a-cogs/11/S/PC/2020/7/S2A_11SPC_20200724_0_L2A/B03.tif | aws s3 cp - s3://dev-et-data/usmart/RIO/sentinel-s2-l2a-cogs/\n",
      "S2A_11SPC_20200724_0_L2A_B03.tif\n",
      "wget -nv -O- https://sentinel-cogs.s3.us-west-2.amazonaws.com/sentinel-s2-l2a-cogs/11/S/PC/2020/7/S2A_11SPC_20200724_0_L2A/B03.tif | aws s3 cp - s3://dev-et-data/usmart/RIO/sentinel-s2-l2a-cogs/S2A_11SPC_20200724_0_L2A_B03.tif\n"
     ]
    },
    {
     "name": "stderr",
     "output_type": "stream",
     "text": [
      "2021-09-23 03:14:14 URL:https://sentinel-cogs.s3.us-west-2.amazonaws.com/sentinel-s2-l2a-cogs/11/S/PC/2020/8/S2A_11SPC_20200806_0_L2A/B02.tif [165310662/165310662] -> \"-\" [1]\n",
      "2021-09-23 03:14:15 URL:https://sentinel-cogs.s3.us-west-2.amazonaws.com/sentinel-s2-l2a-cogs/11/S/PC/2020/7/S2A_11SPC_20200717_0_L2A/B04.tif [168304136/168304136] -> \"-\" [1]\n",
      "03:14:15: Thread 58: finishing in 30 seconds\n",
      "03:14:15: xfer Thread 72: starting\n",
      "03:14:15: sending https://sentinel-cogs.s3.us-west-2.amazonaws.com/sentinel-s2-l2a-cogs/11/S/PC/2020/7/S2A_11SPC_20200704_0_L2A/B04.tif\n"
     ]
    },
    {
     "name": "stdout",
     "output_type": "stream",
     "text": [
      "\n",
      "\n",
      "wget this: %s https://sentinel-cogs.s3.us-west-2.amazonaws.com/sentinel-s2-l2a-cogs/11/S/PC/2020/7/S2A_11SPC_20200704_0_L2A/B04.tif\n",
      "wget -nv -O- https://sentinel-cogs.s3.us-west-2.amazonaws.com/sentinel-s2-l2a-cogs/11/S/PC/2020/7/S2A_11SPC_20200704_0_L2A/B04.tif | aws s3 cp - s3://dev-et-data/usmart/RIO/sentinel-s2-l2a-cogs/\n",
      "S2A_11SPC_20200704_0_L2A_B04.tif\n",
      "wget -nv -O- https://sentinel-cogs.s3.us-west-2.amazonaws.com/sentinel-s2-l2a-cogs/11/S/PC/2020/7/S2A_11SPC_20200704_0_L2A/B04.tif | aws s3 cp - s3://dev-et-data/usmart/RIO/sentinel-s2-l2a-cogs/S2A_11SPC_20200704_0_L2A_B04.tif\n"
     ]
    },
    {
     "name": "stderr",
     "output_type": "stream",
     "text": [
      "03:14:16: sending https://sentinel-cogs.s3.us-west-2.amazonaws.com/sentinel-s2-l2a-cogs/11/S/PC/2020/7/S2A_11SPC_20200717_0_L2A/B03.tif\n"
     ]
    },
    {
     "name": "stdout",
     "output_type": "stream",
     "text": [
      "\n",
      "\n",
      "wget this: %s https://sentinel-cogs.s3.us-west-2.amazonaws.com/sentinel-s2-l2a-cogs/11/S/PC/2020/7/S2A_11SPC_20200717_0_L2A/B03.tif\n",
      "wget -nv -O- https://sentinel-cogs.s3.us-west-2.amazonaws.com/sentinel-s2-l2a-cogs/11/S/PC/2020/7/S2A_11SPC_20200717_0_L2A/B03.tif | aws s3 cp - s3://dev-et-data/usmart/RIO/sentinel-s2-l2a-cogs/\n",
      "S2A_11SPC_20200717_0_L2A_B03.tif\n",
      "wget -nv -O- https://sentinel-cogs.s3.us-west-2.amazonaws.com/sentinel-s2-l2a-cogs/11/S/PC/2020/7/S2A_11SPC_20200717_0_L2A/B03.tif | aws s3 cp - s3://dev-et-data/usmart/RIO/sentinel-s2-l2a-cogs/S2A_11SPC_20200717_0_L2A_B03.tif\n"
     ]
    },
    {
     "name": "stderr",
     "output_type": "stream",
     "text": [
      "2021-09-23 03:14:16 URL:https://sentinel-cogs.s3.us-west-2.amazonaws.com/sentinel-s2-l2a-cogs/11/S/PC/2020/8/S2B_11SPC_20200808_0_L2A/B02.tif [201468972/201468972] -> \"-\" [1]\n",
      "2021-09-23 03:14:16 URL:https://sentinel-cogs.s3.us-west-2.amazonaws.com/sentinel-s2-l2a-cogs/11/S/PC/2020/7/S2B_11SPC_20200719_0_L2A/B04.tif [203996757/203996757] -> \"-\" [1]\n",
      "2021-09-23 03:14:17 URL:https://sentinel-cogs.s3.us-west-2.amazonaws.com/sentinel-s2-l2a-cogs/11/S/PC/2020/8/S2A_11SPC_20200803_0_L2A/B02.tif [199733097/199733097] -> \"-\" [1]\n",
      "03:14:17: Thread 57: finishing in 34 seconds\n",
      "03:14:17: xfer Thread 73: starting\n",
      "03:14:17: sending https://sentinel-cogs.s3.us-west-2.amazonaws.com/sentinel-s2-l2a-cogs/11/S/PC/2020/7/S2B_11SPC_20200702_0_L2A/B04.tif\n",
      "03:14:17: sending https://sentinel-cogs.s3.us-west-2.amazonaws.com/sentinel-s2-l2a-cogs/11/S/PC/2020/7/S2B_11SPC_20200719_0_L2A/B03.tif\n"
     ]
    },
    {
     "name": "stdout",
     "output_type": "stream",
     "text": [
      "\n",
      "\n",
      "wget this: %s https://sentinel-cogs.s3.us-west-2.amazonaws.com/sentinel-s2-l2a-cogs/11/S/PC/2020/7/S2B_11SPC_20200702_0_L2A/B04.tif\n",
      "wget -nv -O- https://sentinel-cogs.s3.us-west-2.amazonaws.com/sentinel-s2-l2a-cogs/11/S/PC/2020/7/S2B_11SPC_20200702_0_L2A/B04.tif | aws s3 cp - s3://dev-et-data/usmart/RIO/sentinel-s2-l2a-cogs/\n",
      "S2B_11SPC_20200702_0_L2A_B04.tif\n",
      "wget -nv -O- https://sentinel-cogs.s3.us-west-2.amazonaws.com/sentinel-s2-l2a-cogs/11/S/PC/2020/7/S2B_11SPC_20200702_0_L2A/B04.tif | aws s3 cp - s3://dev-et-data/usmart/RIO/sentinel-s2-l2a-cogs/S2B_11SPC_20200702_0_L2A_B04.tif\n",
      "\n",
      "\n",
      "wget this: %s https://sentinel-cogs.s3.us-west-2.amazonaws.com/sentinel-s2-l2a-cogs/11/S/PC/2020/7/S2B_11SPC_20200719_0_L2A/B03.tif\n",
      "wget -nv -O- https://sentinel-cogs.s3.us-west-2.amazonaws.com/sentinel-s2-l2a-cogs/11/S/PC/2020/7/S2B_11SPC_20200719_0_L2A/B03.tif | aws s3 cp - s3://dev-et-data/usmart/RIO/sentinel-s2-l2a-cogs/\n",
      "S2B_11SPC_20200719_0_L2A_B03.tif\n",
      "wget -nv -O- https://sentinel-cogs.s3.us-west-2.amazonaws.com/sentinel-s2-l2a-cogs/11/S/PC/2020/7/S2B_11SPC_20200719_0_L2A/B03.tif | aws s3 cp - s3://dev-et-data/usmart/RIO/sentinel-s2-l2a-cogs/S2B_11SPC_20200719_0_L2A_B03.tif\n"
     ]
    },
    {
     "name": "stderr",
     "output_type": "stream",
     "text": [
      "2021-09-23 03:14:17 URL:https://sentinel-cogs.s3.us-west-2.amazonaws.com/sentinel-s2-l2a-cogs/11/S/PC/2020/8/S2B_11SPC_20200801_0_L2A/B03.tif [167987465/167987465] -> \"-\" [1]\n",
      "03:14:18: Thread 59: finishing in 31 seconds\n",
      "03:14:18: xfer Thread 74: starting\n",
      "03:14:18: sending https://sentinel-cogs.s3.us-west-2.amazonaws.com/sentinel-s2-l2a-cogs/11/S/PC/2020/6/S2B_11SPC_20200629_0_L2A/B04.tif\n"
     ]
    },
    {
     "name": "stdout",
     "output_type": "stream",
     "text": [
      "\n",
      "\n",
      "wget this: %s https://sentinel-cogs.s3.us-west-2.amazonaws.com/sentinel-s2-l2a-cogs/11/S/PC/2020/6/S2B_11SPC_20200629_0_L2A/B04.tif\n",
      "wget -nv -O- https://sentinel-cogs.s3.us-west-2.amazonaws.com/sentinel-s2-l2a-cogs/11/S/PC/2020/6/S2B_11SPC_20200629_0_L2A/B04.tif | aws s3 cp - s3://dev-et-data/usmart/RIO/sentinel-s2-l2a-cogs/\n",
      "S2B_11SPC_20200629_0_L2A_B04.tif\n",
      "wget -nv -O- https://sentinel-cogs.s3.us-west-2.amazonaws.com/sentinel-s2-l2a-cogs/11/S/PC/2020/6/S2B_11SPC_20200629_0_L2A/B04.tif | aws s3 cp - s3://dev-et-data/usmart/RIO/sentinel-s2-l2a-cogs/S2B_11SPC_20200629_0_L2A_B04.tif\n"
     ]
    },
    {
     "name": "stderr",
     "output_type": "stream",
     "text": [
      "03:14:18: sending https://sentinel-cogs.s3.us-west-2.amazonaws.com/sentinel-s2-l2a-cogs/11/S/PC/2020/8/S2B_11SPC_20200801_0_L2A/B02.tif\n"
     ]
    },
    {
     "name": "stdout",
     "output_type": "stream",
     "text": [
      "\n",
      "\n",
      "wget this: %s https://sentinel-cogs.s3.us-west-2.amazonaws.com/sentinel-s2-l2a-cogs/11/S/PC/2020/8/S2B_11SPC_20200801_0_L2A/B02.tif\n",
      "wget -nv -O- https://sentinel-cogs.s3.us-west-2.amazonaws.com/sentinel-s2-l2a-cogs/11/S/PC/2020/8/S2B_11SPC_20200801_0_L2A/B02.tif | aws s3 cp - s3://dev-et-data/usmart/RIO/sentinel-s2-l2a-cogs/\n",
      "S2B_11SPC_20200801_0_L2A_B02.tif\n",
      "wget -nv -O- https://sentinel-cogs.s3.us-west-2.amazonaws.com/sentinel-s2-l2a-cogs/11/S/PC/2020/8/S2B_11SPC_20200801_0_L2A/B02.tif | aws s3 cp - s3://dev-et-data/usmart/RIO/sentinel-s2-l2a-cogs/S2B_11SPC_20200801_0_L2A_B02.tif\n"
     ]
    },
    {
     "name": "stderr",
     "output_type": "stream",
     "text": [
      "2021-09-23 03:14:19 URL:https://sentinel-cogs.s3.us-west-2.amazonaws.com/sentinel-s2-l2a-cogs/11/S/PC/2020/7/S2A_11SPC_20200707_0_L2A/B04.tif [119885016/119885016] -> \"-\" [1]\n",
      "2021-09-23 03:14:19 URL:https://sentinel-cogs.s3.us-west-2.amazonaws.com/sentinel-s2-l2a-cogs/11/S/PC/2020/7/S2A_11SPC_20200727_0_L2A/B03.tif [168559909/168559909] -> \"-\" [1]\n",
      "2021-09-23 03:14:19 URL:https://sentinel-cogs.s3.us-west-2.amazonaws.com/sentinel-s2-l2a-cogs/11/S/PC/2020/7/S2A_11SPC_20200714_0_L2A/B04.tif [203652474/203652474] -> \"-\" [1]\n",
      "2021-09-23 03:14:19 URL:https://sentinel-cogs.s3.us-west-2.amazonaws.com/sentinel-s2-l2a-cogs/11/S/PC/2020/7/S2A_11SPC_20200707_1_L2A/B04.tif [78223966/78223966] -> \"-\" [1]\n",
      "2021-09-23 03:14:19 URL:https://sentinel-cogs.s3.us-west-2.amazonaws.com/sentinel-s2-l2a-cogs/11/S/PC/2020/7/S2B_11SPC_20200729_0_L2A/B03.tif [201242580/201242580] -> \"-\" [1]\n",
      "03:14:20: sending https://sentinel-cogs.s3.us-west-2.amazonaws.com/sentinel-s2-l2a-cogs/11/S/PC/2020/7/S2A_11SPC_20200727_0_L2A/B02.tif\n",
      "03:14:20: sending https://sentinel-cogs.s3.us-west-2.amazonaws.com/sentinel-s2-l2a-cogs/11/S/PC/2020/7/S2A_11SPC_20200714_0_L2A/B03.tif\n"
     ]
    },
    {
     "name": "stdout",
     "output_type": "stream",
     "text": [
      "\n",
      "\n",
      "wget this: %s https://sentinel-cogs.s3.us-west-2.amazonaws.com/sentinel-s2-l2a-cogs/11/S/PC/2020/7/S2A_11SPC_20200727_0_L2A/B02.tif\n",
      "wget -nv -O- https://sentinel-cogs.s3.us-west-2.amazonaws.com/sentinel-s2-l2a-cogs/11/S/PC/2020/7/S2A_11SPC_20200727_0_L2A/B02.tif | aws s3 cp - s3://dev-et-data/usmart/RIO/sentinel-s2-l2a-cogs/\n",
      "S2A_11SPC_20200727_0_L2A_B02.tif\n",
      "wget -nv -O- https://sentinel-cogs.s3.us-west-2.amazonaws.com/sentinel-s2-l2a-cogs/11/S/PC/2020/7/S2A_11SPC_20200727_0_L2A/B02.tif | aws s3 cp - s3://dev-et-data/usmart/RIO/sentinel-s2-l2a-cogs/S2A_11SPC_20200727_0_L2A_B02.tif\n",
      "\n",
      "\n",
      "wget this: %s https://sentinel-cogs.s3.us-west-2.amazonaws.com/sentinel-s2-l2a-cogs/11/S/PC/2020/7/S2A_11SPC_20200714_0_L2A/B03.tif\n",
      "wget -nv -O- https://sentinel-cogs.s3.us-west-2.amazonaws.com/sentinel-s2-l2a-cogs/11/S/PC/2020/7/S2A_11SPC_20200714_0_L2A/B03.tif | aws s3 cp - s3://dev-et-data/usmart/RIO/sentinel-s2-l2a-cogs/\n",
      "S2A_11SPC_20200714_0_L2A_B03.tif\n",
      "wget -nv -O- https://sentinel-cogs.s3.us-west-2.amazonaws.com/sentinel-s2-l2a-cogs/11/S/PC/2020/7/S2A_11SPC_20200714_0_L2A/B03.tif | aws s3 cp - s3://dev-et-data/usmart/RIO/sentinel-s2-l2a-cogs/S2A_11SPC_20200714_0_L2A_B03.tif\n"
     ]
    },
    {
     "name": "stderr",
     "output_type": "stream",
     "text": [
      "03:14:20: sending https://sentinel-cogs.s3.us-west-2.amazonaws.com/sentinel-s2-l2a-cogs/11/S/PC/2020/7/S2A_11SPC_20200707_1_L2A/B03.tif\n",
      "03:14:20: sending https://sentinel-cogs.s3.us-west-2.amazonaws.com/sentinel-s2-l2a-cogs/11/S/PC/2020/7/S2A_11SPC_20200707_0_L2A/B03.tif\n"
     ]
    },
    {
     "name": "stdout",
     "output_type": "stream",
     "text": [
      "\n",
      "\n",
      "wget this: %s https://sentinel-cogs.s3.us-west-2.amazonaws.com/sentinel-s2-l2a-cogs/11/S/PC/2020/7/S2A_11SPC_20200707_1_L2A/B03.tif\n",
      "wget -nv -O- https://sentinel-cogs.s3.us-west-2.amazonaws.com/sentinel-s2-l2a-cogs/11/S/PC/2020/7/S2A_11SPC_20200707_1_L2A/B03.tif | aws s3 cp - s3://dev-et-data/usmart/RIO/sentinel-s2-l2a-cogs/\n",
      "S2A_11SPC_20200707_1_L2A_B03.tif\n",
      "wget -nv -O- https://sentinel-cogs.s3.us-west-2.amazonaws.com/sentinel-s2-l2a-cogs/11/S/PC/2020/7/S2A_11SPC_20200707_1_L2A/B03.tif | aws s3 cp - s3://dev-et-data/usmart/RIO/sentinel-s2-l2a-cogs/S2A_11SPC_20200707_1_L2A_B03.tif\n",
      "\n",
      "\n",
      "wget this: %s https://sentinel-cogs.s3.us-west-2.amazonaws.com/sentinel-s2-l2a-cogs/11/S/PC/2020/7/S2A_11SPC_20200707_0_L2A/B03.tif\n",
      "wget -nv -O- https://sentinel-cogs.s3.us-west-2.amazonaws.com/sentinel-s2-l2a-cogs/11/S/PC/2020/7/S2A_11SPC_20200707_0_L2A/B03.tif | aws s3 cp - s3://dev-et-data/usmart/RIO/sentinel-s2-l2a-cogs/\n",
      "S2A_11SPC_20200707_0_L2A_B03.tif\n",
      "wget -nv -O- https://sentinel-cogs.s3.us-west-2.amazonaws.com/sentinel-s2-l2a-cogs/11/S/PC/2020/7/S2A_11SPC_20200707_0_L2A/B03.tif | aws s3 cp - s3://dev-et-data/usmart/RIO/sentinel-s2-l2a-cogs/S2A_11SPC_20200707_0_L2A_B03.tif\n"
     ]
    },
    {
     "name": "stderr",
     "output_type": "stream",
     "text": [
      "03:14:20: sending https://sentinel-cogs.s3.us-west-2.amazonaws.com/sentinel-s2-l2a-cogs/11/S/PC/2020/7/S2B_11SPC_20200729_0_L2A/B02.tif\n"
     ]
    },
    {
     "name": "stdout",
     "output_type": "stream",
     "text": [
      "\n",
      "\n",
      "wget this: %s https://sentinel-cogs.s3.us-west-2.amazonaws.com/sentinel-s2-l2a-cogs/11/S/PC/2020/7/S2B_11SPC_20200729_0_L2A/B02.tif\n",
      "wget -nv -O- https://sentinel-cogs.s3.us-west-2.amazonaws.com/sentinel-s2-l2a-cogs/11/S/PC/2020/7/S2B_11SPC_20200729_0_L2A/B02.tif | aws s3 cp - s3://dev-et-data/usmart/RIO/sentinel-s2-l2a-cogs/\n",
      "S2B_11SPC_20200729_0_L2A_B02.tif\n",
      "wget -nv -O- https://sentinel-cogs.s3.us-west-2.amazonaws.com/sentinel-s2-l2a-cogs/11/S/PC/2020/7/S2B_11SPC_20200729_0_L2A/B02.tif | aws s3 cp - s3://dev-et-data/usmart/RIO/sentinel-s2-l2a-cogs/S2B_11SPC_20200729_0_L2A_B02.tif\n"
     ]
    },
    {
     "name": "stderr",
     "output_type": "stream",
     "text": [
      "2021-09-23 03:14:21 URL:https://sentinel-cogs.s3.us-west-2.amazonaws.com/sentinel-s2-l2a-cogs/11/S/PC/2020/7/S2B_11SPC_20200709_0_L2A/B04.tif [203472325/203472325] -> \"-\" [1]\n",
      "2021-09-23 03:14:21 URL:https://sentinel-cogs.s3.us-west-2.amazonaws.com/sentinel-s2-l2a-cogs/11/S/PC/2020/7/S2B_11SPC_20200722_0_L2A/B03.tif [170234213/170234213] -> \"-\" [1]\n",
      "2021-09-23 03:14:22 URL:https://sentinel-cogs.s3.us-west-2.amazonaws.com/sentinel-s2-l2a-cogs/11/S/PC/2020/7/S2B_11SPC_20200712_0_L2A/B04.tif [168966293/168966293] -> \"-\" [1]\n",
      "03:14:22: sending https://sentinel-cogs.s3.us-west-2.amazonaws.com/sentinel-s2-l2a-cogs/11/S/PC/2020/7/S2B_11SPC_20200722_0_L2A/B02.tif\n"
     ]
    },
    {
     "name": "stdout",
     "output_type": "stream",
     "text": [
      "\n",
      "\n",
      "wget this: %s https://sentinel-cogs.s3.us-west-2.amazonaws.com/sentinel-s2-l2a-cogs/11/S/PC/2020/7/S2B_11SPC_20200722_0_L2A/B02.tif\n",
      "wget -nv -O- https://sentinel-cogs.s3.us-west-2.amazonaws.com/sentinel-s2-l2a-cogs/11/S/PC/2020/7/S2B_11SPC_20200722_0_L2A/B02.tif | aws s3 cp - s3://dev-et-data/usmart/RIO/sentinel-s2-l2a-cogs/\n",
      "S2B_11SPC_20200722_0_L2A_B02.tif\n",
      "wget -nv -O- https://sentinel-cogs.s3.us-west-2.amazonaws.com/sentinel-s2-l2a-cogs/11/S/PC/2020/7/S2B_11SPC_20200722_0_L2A/B02.tif | aws s3 cp - s3://dev-et-data/usmart/RIO/sentinel-s2-l2a-cogs/S2B_11SPC_20200722_0_L2A_B02.tif\n"
     ]
    },
    {
     "name": "stderr",
     "output_type": "stream",
     "text": [
      "03:14:23: sending https://sentinel-cogs.s3.us-west-2.amazonaws.com/sentinel-s2-l2a-cogs/11/S/PC/2020/7/S2B_11SPC_20200709_0_L2A/B03.tif\n"
     ]
    },
    {
     "name": "stdout",
     "output_type": "stream",
     "text": [
      "\n",
      "\n",
      "wget this: %s https://sentinel-cogs.s3.us-west-2.amazonaws.com/sentinel-s2-l2a-cogs/11/S/PC/2020/7/S2B_11SPC_20200709_0_L2A/B03.tif\n",
      "wget -nv -O- https://sentinel-cogs.s3.us-west-2.amazonaws.com/sentinel-s2-l2a-cogs/11/S/PC/2020/7/S2B_11SPC_20200709_0_L2A/B03.tif | aws s3 cp - s3://dev-et-data/usmart/RIO/sentinel-s2-l2a-cogs/\n",
      "S2B_11SPC_20200709_0_L2A_B03.tif\n",
      "wget -nv -O- https://sentinel-cogs.s3.us-west-2.amazonaws.com/sentinel-s2-l2a-cogs/11/S/PC/2020/7/S2B_11SPC_20200709_0_L2A/B03.tif | aws s3 cp - s3://dev-et-data/usmart/RIO/sentinel-s2-l2a-cogs/S2B_11SPC_20200709_0_L2A_B03.tif\n"
     ]
    },
    {
     "name": "stderr",
     "output_type": "stream",
     "text": [
      "03:14:23: sending https://sentinel-cogs.s3.us-west-2.amazonaws.com/sentinel-s2-l2a-cogs/11/S/PC/2020/7/S2B_11SPC_20200712_0_L2A/B03.tif\n"
     ]
    },
    {
     "name": "stdout",
     "output_type": "stream",
     "text": [
      "\n",
      "\n",
      "wget this: %s https://sentinel-cogs.s3.us-west-2.amazonaws.com/sentinel-s2-l2a-cogs/11/S/PC/2020/7/S2B_11SPC_20200712_0_L2A/B03.tif\n",
      "wget -nv -O- https://sentinel-cogs.s3.us-west-2.amazonaws.com/sentinel-s2-l2a-cogs/11/S/PC/2020/7/S2B_11SPC_20200712_0_L2A/B03.tif | aws s3 cp - s3://dev-et-data/usmart/RIO/sentinel-s2-l2a-cogs/\n",
      "S2B_11SPC_20200712_0_L2A_B03.tif\n",
      "wget -nv -O- https://sentinel-cogs.s3.us-west-2.amazonaws.com/sentinel-s2-l2a-cogs/11/S/PC/2020/7/S2B_11SPC_20200712_0_L2A/B03.tif | aws s3 cp - s3://dev-et-data/usmart/RIO/sentinel-s2-l2a-cogs/S2B_11SPC_20200712_0_L2A_B03.tif\n"
     ]
    },
    {
     "name": "stderr",
     "output_type": "stream",
     "text": [
      "2021-09-23 03:14:24 URL:https://sentinel-cogs.s3.us-west-2.amazonaws.com/sentinel-s2-l2a-cogs/11/S/PC/2020/7/S2A_11SPC_20200724_0_L2A/B03.tif [209227712/209227712] -> \"-\" [1]\n",
      "2021-09-23 03:14:24 URL:https://sentinel-cogs.s3.us-west-2.amazonaws.com/sentinel-s2-l2a-cogs/11/S/PC/2020/7/S2A_11SPC_20200704_0_L2A/B04.tif [204855354/204855354] -> \"-\" [1]\n",
      "2021-09-23 03:14:25 URL:https://sentinel-cogs.s3.us-west-2.amazonaws.com/sentinel-s2-l2a-cogs/11/S/PC/2020/7/S2A_11SPC_20200717_0_L2A/B03.tif [167102630/167102630] -> \"-\" [1]\n",
      "03:14:25: sending https://sentinel-cogs.s3.us-west-2.amazonaws.com/sentinel-s2-l2a-cogs/11/S/PC/2020/7/S2A_11SPC_20200704_0_L2A/B03.tif\n"
     ]
    },
    {
     "name": "stdout",
     "output_type": "stream",
     "text": [
      "\n",
      "\n",
      "wget this: %s https://sentinel-cogs.s3.us-west-2.amazonaws.com/sentinel-s2-l2a-cogs/11/S/PC/2020/7/S2A_11SPC_20200704_0_L2A/B03.tif\n",
      "wget -nv -O- https://sentinel-cogs.s3.us-west-2.amazonaws.com/sentinel-s2-l2a-cogs/11/S/PC/2020/7/S2A_11SPC_20200704_0_L2A/B03.tif | aws s3 cp - s3://dev-et-data/usmart/RIO/sentinel-s2-l2a-cogs/\n",
      "S2A_11SPC_20200704_0_L2A_B03.tif\n",
      "wget -nv -O- https://sentinel-cogs.s3.us-west-2.amazonaws.com/sentinel-s2-l2a-cogs/11/S/PC/2020/7/S2A_11SPC_20200704_0_L2A/B03.tif | aws s3 cp - s3://dev-et-data/usmart/RIO/sentinel-s2-l2a-cogs/S2A_11SPC_20200704_0_L2A_B03.tif\n"
     ]
    },
    {
     "name": "stderr",
     "output_type": "stream",
     "text": [
      "2021-09-23 03:14:25 URL:https://sentinel-cogs.s3.us-west-2.amazonaws.com/sentinel-s2-l2a-cogs/11/S/PC/2020/7/S2A_11SPC_20200707_1_L2A/B03.tif [77409515/77409515] -> \"-\" [1]\n",
      "03:14:26: sending https://sentinel-cogs.s3.us-west-2.amazonaws.com/sentinel-s2-l2a-cogs/11/S/PC/2020/7/S2A_11SPC_20200724_0_L2A/B02.tif\n",
      "03:14:26: sending https://sentinel-cogs.s3.us-west-2.amazonaws.com/sentinel-s2-l2a-cogs/11/S/PC/2020/7/S2A_11SPC_20200717_0_L2A/B02.tif\n"
     ]
    },
    {
     "name": "stdout",
     "output_type": "stream",
     "text": [
      "\n",
      "\n",
      "wget this: %s https://sentinel-cogs.s3.us-west-2.amazonaws.com/sentinel-s2-l2a-cogs/11/S/PC/2020/7/S2A_11SPC_20200724_0_L2A/B02.tif\n",
      "wget -nv -O- https://sentinel-cogs.s3.us-west-2.amazonaws.com/sentinel-s2-l2a-cogs/11/S/PC/2020/7/S2A_11SPC_20200724_0_L2A/B02.tif | aws s3 cp - s3://dev-et-data/usmart/RIO/sentinel-s2-l2a-cogs/\n",
      "S2A_11SPC_20200724_0_L2A_B02.tif\n",
      "wget -nv -O- https://sentinel-cogs.s3.us-west-2.amazonaws.com/sentinel-s2-l2a-cogs/11/S/PC/2020/7/S2A_11SPC_20200724_0_L2A/B02.tif | aws s3 cp - s3://dev-et-data/usmart/RIO/sentinel-s2-l2a-cogs/S2A_11SPC_20200724_0_L2A_B02.tif\n",
      "\n",
      "\n",
      "wget this: %s https://sentinel-cogs.s3.us-west-2.amazonaws.com/sentinel-s2-l2a-cogs/11/S/PC/2020/7/S2A_11SPC_20200717_0_L2A/B02.tif\n",
      "wget -nv -O- https://sentinel-cogs.s3.us-west-2.amazonaws.com/sentinel-s2-l2a-cogs/11/S/PC/2020/7/S2A_11SPC_20200717_0_L2A/B02.tif | aws s3 cp - s3://dev-et-data/usmart/RIO/sentinel-s2-l2a-cogs/\n",
      "S2A_11SPC_20200717_0_L2A_B02.tif\n",
      "wget -nv -O- https://sentinel-cogs.s3.us-west-2.amazonaws.com/sentinel-s2-l2a-cogs/11/S/PC/2020/7/S2A_11SPC_20200717_0_L2A/B02.tif | aws s3 cp - s3://dev-et-data/usmart/RIO/sentinel-s2-l2a-cogs/S2A_11SPC_20200717_0_L2A_B02.tif\n"
     ]
    },
    {
     "name": "stderr",
     "output_type": "stream",
     "text": [
      "2021-09-23 03:14:26 URL:https://sentinel-cogs.s3.us-west-2.amazonaws.com/sentinel-s2-l2a-cogs/11/S/PC/2020/7/S2B_11SPC_20200702_0_L2A/B04.tif [166780122/166780122] -> \"-\" [1]\n",
      "03:14:26: sending https://sentinel-cogs.s3.us-west-2.amazonaws.com/sentinel-s2-l2a-cogs/11/S/PC/2020/7/S2A_11SPC_20200707_1_L2A/B02.tif\n"
     ]
    },
    {
     "name": "stdout",
     "output_type": "stream",
     "text": [
      "\n",
      "\n",
      "wget this: %s https://sentinel-cogs.s3.us-west-2.amazonaws.com/sentinel-s2-l2a-cogs/11/S/PC/2020/7/S2A_11SPC_20200707_1_L2A/B02.tif\n",
      "wget -nv -O- https://sentinel-cogs.s3.us-west-2.amazonaws.com/sentinel-s2-l2a-cogs/11/S/PC/2020/7/S2A_11SPC_20200707_1_L2A/B02.tif | aws s3 cp - s3://dev-et-data/usmart/RIO/sentinel-s2-l2a-cogs/\n",
      "S2A_11SPC_20200707_1_L2A_B02.tif\n",
      "wget -nv -O- https://sentinel-cogs.s3.us-west-2.amazonaws.com/sentinel-s2-l2a-cogs/11/S/PC/2020/7/S2A_11SPC_20200707_1_L2A/B02.tif | aws s3 cp - s3://dev-et-data/usmart/RIO/sentinel-s2-l2a-cogs/S2A_11SPC_20200707_1_L2A_B02.tif\n"
     ]
    },
    {
     "name": "stderr",
     "output_type": "stream",
     "text": [
      "2021-09-23 03:14:27 URL:https://sentinel-cogs.s3.us-west-2.amazonaws.com/sentinel-s2-l2a-cogs/11/S/PC/2020/6/S2B_11SPC_20200629_0_L2A/B04.tif [204420216/204420216] -> \"-\" [1]\n",
      "2021-09-23 03:14:27 URL:https://sentinel-cogs.s3.us-west-2.amazonaws.com/sentinel-s2-l2a-cogs/11/S/PC/2020/7/S2B_11SPC_20200719_0_L2A/B03.tif [201891804/201891804] -> \"-\" [1]\n",
      "03:14:27: sending https://sentinel-cogs.s3.us-west-2.amazonaws.com/sentinel-s2-l2a-cogs/11/S/PC/2020/7/S2B_11SPC_20200702_0_L2A/B03.tif\n"
     ]
    },
    {
     "name": "stdout",
     "output_type": "stream",
     "text": [
      "\n",
      "\n",
      "wget this: %s https://sentinel-cogs.s3.us-west-2.amazonaws.com/sentinel-s2-l2a-cogs/11/S/PC/2020/7/S2B_11SPC_20200702_0_L2A/B03.tif\n",
      "wget -nv -O- https://sentinel-cogs.s3.us-west-2.amazonaws.com/sentinel-s2-l2a-cogs/11/S/PC/2020/7/S2B_11SPC_20200702_0_L2A/B03.tif | aws s3 cp - s3://dev-et-data/usmart/RIO/sentinel-s2-l2a-cogs/\n",
      "S2B_11SPC_20200702_0_L2A_B03.tif\n",
      "wget -nv -O- https://sentinel-cogs.s3.us-west-2.amazonaws.com/sentinel-s2-l2a-cogs/11/S/PC/2020/7/S2B_11SPC_20200702_0_L2A/B03.tif | aws s3 cp - s3://dev-et-data/usmart/RIO/sentinel-s2-l2a-cogs/S2B_11SPC_20200702_0_L2A_B03.tif\n"
     ]
    },
    {
     "name": "stderr",
     "output_type": "stream",
     "text": [
      "2021-09-23 03:14:27 URL:https://sentinel-cogs.s3.us-west-2.amazonaws.com/sentinel-s2-l2a-cogs/11/S/PC/2020/8/S2B_11SPC_20200801_0_L2A/B02.tif [168943345/168943345] -> \"-\" [1]\n",
      "03:14:28: sending https://sentinel-cogs.s3.us-west-2.amazonaws.com/sentinel-s2-l2a-cogs/11/S/PC/2020/6/S2B_11SPC_20200629_0_L2A/B03.tif\n"
     ]
    },
    {
     "name": "stdout",
     "output_type": "stream",
     "text": [
      "\n",
      "\n",
      "wget this: %s https://sentinel-cogs.s3.us-west-2.amazonaws.com/sentinel-s2-l2a-cogs/11/S/PC/2020/6/S2B_11SPC_20200629_0_L2A/B03.tif\n",
      "wget -nv -O- https://sentinel-cogs.s3.us-west-2.amazonaws.com/sentinel-s2-l2a-cogs/11/S/PC/2020/6/S2B_11SPC_20200629_0_L2A/B03.tif | aws s3 cp - s3://dev-et-data/usmart/RIO/sentinel-s2-l2a-cogs/\n",
      "S2B_11SPC_20200629_0_L2A_B03.tif\n",
      "wget -nv -O- https://sentinel-cogs.s3.us-west-2.amazonaws.com/sentinel-s2-l2a-cogs/11/S/PC/2020/6/S2B_11SPC_20200629_0_L2A/B03.tif | aws s3 cp - s3://dev-et-data/usmart/RIO/sentinel-s2-l2a-cogs/S2B_11SPC_20200629_0_L2A_B03.tif\n"
     ]
    },
    {
     "name": "stderr",
     "output_type": "stream",
     "text": [
      "03:14:28: sending https://sentinel-cogs.s3.us-west-2.amazonaws.com/sentinel-s2-l2a-cogs/11/S/PC/2020/7/S2B_11SPC_20200719_0_L2A/B02.tif\n"
     ]
    },
    {
     "name": "stdout",
     "output_type": "stream",
     "text": [
      "\n",
      "\n",
      "wget this: %s https://sentinel-cogs.s3.us-west-2.amazonaws.com/sentinel-s2-l2a-cogs/11/S/PC/2020/7/S2B_11SPC_20200719_0_L2A/B02.tif\n",
      "wget -nv -O- https://sentinel-cogs.s3.us-west-2.amazonaws.com/sentinel-s2-l2a-cogs/11/S/PC/2020/7/S2B_11SPC_20200719_0_L2A/B02.tif | aws s3 cp - s3://dev-et-data/usmart/RIO/sentinel-s2-l2a-cogs/\n",
      "S2B_11SPC_20200719_0_L2A_B02.tif\n",
      "wget -nv -O- https://sentinel-cogs.s3.us-west-2.amazonaws.com/sentinel-s2-l2a-cogs/11/S/PC/2020/7/S2B_11SPC_20200719_0_L2A/B02.tif | aws s3 cp - s3://dev-et-data/usmart/RIO/sentinel-s2-l2a-cogs/S2B_11SPC_20200719_0_L2A_B02.tif\n"
     ]
    },
    {
     "name": "stderr",
     "output_type": "stream",
     "text": [
      "2021-09-23 03:14:28 URL:https://sentinel-cogs.s3.us-west-2.amazonaws.com/sentinel-s2-l2a-cogs/11/S/PC/2020/7/S2A_11SPC_20200707_0_L2A/B03.tif [118633586/118633586] -> \"-\" [1]\n",
      "03:14:28: Thread 60: finishing in 30 seconds\n",
      "03:14:28: xfer Thread 75: starting\n",
      "03:14:28: sending https://sentinel-cogs.s3.us-west-2.amazonaws.com/sentinel-s2-l2a-cogs/11/S/PC/2020/6/S2A_11SPC_20200627_0_L2A/B04.tif\n"
     ]
    },
    {
     "name": "stdout",
     "output_type": "stream",
     "text": [
      "\n",
      "\n",
      "wget this: %s https://sentinel-cogs.s3.us-west-2.amazonaws.com/sentinel-s2-l2a-cogs/11/S/PC/2020/6/S2A_11SPC_20200627_0_L2A/B04.tif\n",
      "wget -nv -O- https://sentinel-cogs.s3.us-west-2.amazonaws.com/sentinel-s2-l2a-cogs/11/S/PC/2020/6/S2A_11SPC_20200627_0_L2A/B04.tif | aws s3 cp - s3://dev-et-data/usmart/RIO/sentinel-s2-l2a-cogs/\n",
      "S2A_11SPC_20200627_0_L2A_B04.tif\n",
      "wget -nv -O- https://sentinel-cogs.s3.us-west-2.amazonaws.com/sentinel-s2-l2a-cogs/11/S/PC/2020/6/S2A_11SPC_20200627_0_L2A/B04.tif | aws s3 cp - s3://dev-et-data/usmart/RIO/sentinel-s2-l2a-cogs/S2A_11SPC_20200627_0_L2A_B04.tif\n"
     ]
    },
    {
     "name": "stderr",
     "output_type": "stream",
     "text": [
      "2021-09-23 03:14:29 URL:https://sentinel-cogs.s3.us-west-2.amazonaws.com/sentinel-s2-l2a-cogs/11/S/PC/2020/7/S2A_11SPC_20200727_0_L2A/B02.tif [169459686/169459686] -> \"-\" [1]\n",
      "2021-09-23 03:14:30 URL:https://sentinel-cogs.s3.us-west-2.amazonaws.com/sentinel-s2-l2a-cogs/11/S/PC/2020/7/S2A_11SPC_20200714_0_L2A/B03.tif [201050543/201050543] -> \"-\" [1]\n",
      "03:14:30: Thread 62: finishing in 29 seconds\n",
      "03:14:30: xfer Thread 76: starting\n",
      "03:14:30: sending https://sentinel-cogs.s3.us-west-2.amazonaws.com/sentinel-s2-l2a-cogs/11/S/PC/2020/6/S2A_11SPC_20200624_0_L2A/B04.tif\n"
     ]
    },
    {
     "name": "stdout",
     "output_type": "stream",
     "text": [
      "\n",
      "\n",
      "wget this: %s https://sentinel-cogs.s3.us-west-2.amazonaws.com/sentinel-s2-l2a-cogs/11/S/PC/2020/6/S2A_11SPC_20200624_0_L2A/B04.tif\n",
      "wget -nv -O- https://sentinel-cogs.s3.us-west-2.amazonaws.com/sentinel-s2-l2a-cogs/11/S/PC/2020/6/S2A_11SPC_20200624_0_L2A/B04.tif | aws s3 cp - s3://dev-et-data/usmart/RIO/sentinel-s2-l2a-cogs/\n",
      "S2A_11SPC_20200624_0_L2A_B04.tif\n",
      "wget -nv -O- https://sentinel-cogs.s3.us-west-2.amazonaws.com/sentinel-s2-l2a-cogs/11/S/PC/2020/6/S2A_11SPC_20200624_0_L2A/B04.tif | aws s3 cp - s3://dev-et-data/usmart/RIO/sentinel-s2-l2a-cogs/S2A_11SPC_20200624_0_L2A_B04.tif\n"
     ]
    },
    {
     "name": "stderr",
     "output_type": "stream",
     "text": [
      "03:14:30: sending https://sentinel-cogs.s3.us-west-2.amazonaws.com/sentinel-s2-l2a-cogs/11/S/PC/2020/7/S2A_11SPC_20200707_0_L2A/B02.tif\n"
     ]
    },
    {
     "name": "stdout",
     "output_type": "stream",
     "text": [
      "\n",
      "\n",
      "wget this: %s https://sentinel-cogs.s3.us-west-2.amazonaws.com/sentinel-s2-l2a-cogs/11/S/PC/2020/7/S2A_11SPC_20200707_0_L2A/B02.tif\n",
      "wget -nv -O- https://sentinel-cogs.s3.us-west-2.amazonaws.com/sentinel-s2-l2a-cogs/11/S/PC/2020/7/S2A_11SPC_20200707_0_L2A/B02.tif | aws s3 cp - s3://dev-et-data/usmart/RIO/sentinel-s2-l2a-cogs/\n",
      "S2A_11SPC_20200707_0_L2A_B02.tif\n",
      "wget -nv -O- https://sentinel-cogs.s3.us-west-2.amazonaws.com/sentinel-s2-l2a-cogs/11/S/PC/2020/7/S2A_11SPC_20200707_0_L2A/B02.tif | aws s3 cp - s3://dev-et-data/usmart/RIO/sentinel-s2-l2a-cogs/S2A_11SPC_20200707_0_L2A_B02.tif\n"
     ]
    },
    {
     "name": "stderr",
     "output_type": "stream",
     "text": [
      "03:14:31: sending https://sentinel-cogs.s3.us-west-2.amazonaws.com/sentinel-s2-l2a-cogs/11/S/PC/2020/7/S2A_11SPC_20200714_0_L2A/B02.tif\n"
     ]
    },
    {
     "name": "stdout",
     "output_type": "stream",
     "text": [
      "\n",
      "\n",
      "wget this: %s https://sentinel-cogs.s3.us-west-2.amazonaws.com/sentinel-s2-l2a-cogs/11/S/PC/2020/7/S2A_11SPC_20200714_0_L2A/B02.tif\n",
      "wget -nv -O- https://sentinel-cogs.s3.us-west-2.amazonaws.com/sentinel-s2-l2a-cogs/11/S/PC/2020/7/S2A_11SPC_20200714_0_L2A/B02.tif | aws s3 cp - s3://dev-et-data/usmart/RIO/sentinel-s2-l2a-cogs/\n",
      "S2A_11SPC_20200714_0_L2A_B02.tif\n",
      "wget -nv -O- https://sentinel-cogs.s3.us-west-2.amazonaws.com/sentinel-s2-l2a-cogs/11/S/PC/2020/7/S2A_11SPC_20200714_0_L2A/B02.tif | aws s3 cp - s3://dev-et-data/usmart/RIO/sentinel-s2-l2a-cogs/S2A_11SPC_20200714_0_L2A_B02.tif\n"
     ]
    },
    {
     "name": "stderr",
     "output_type": "stream",
     "text": [
      "2021-09-23 03:14:31 URL:https://sentinel-cogs.s3.us-west-2.amazonaws.com/sentinel-s2-l2a-cogs/11/S/PC/2020/7/S2B_11SPC_20200729_0_L2A/B02.tif [201540257/201540257] -> \"-\" [1]\n",
      "2021-09-23 03:14:31 URL:https://sentinel-cogs.s3.us-west-2.amazonaws.com/sentinel-s2-l2a-cogs/11/S/PC/2020/7/S2B_11SPC_20200722_0_L2A/B02.tif [170800210/170800210] -> \"-\" [1]\n",
      "2021-09-23 03:14:32 URL:https://sentinel-cogs.s3.us-west-2.amazonaws.com/sentinel-s2-l2a-cogs/11/S/PC/2020/7/S2A_11SPC_20200707_1_L2A/B02.tif [77483860/77483860] -> \"-\" [1]\n",
      "03:14:32: Thread 61: finishing in 33 seconds\n",
      "03:14:32: xfer Thread 77: starting\n",
      "03:14:32: sending https://sentinel-cogs.s3.us-west-2.amazonaws.com/sentinel-s2-l2a-cogs/11/S/PC/2020/6/S2B_11SPC_20200622_0_L2A/B04.tif\n"
     ]
    },
    {
     "name": "stdout",
     "output_type": "stream",
     "text": [
      "\n",
      "\n",
      "wget this: %s https://sentinel-cogs.s3.us-west-2.amazonaws.com/sentinel-s2-l2a-cogs/11/S/PC/2020/6/S2B_11SPC_20200622_0_L2A/B04.tif\n",
      "wget -nv -O- https://sentinel-cogs.s3.us-west-2.amazonaws.com/sentinel-s2-l2a-cogs/11/S/PC/2020/6/S2B_11SPC_20200622_0_L2A/B04.tif | aws s3 cp - s3://dev-et-data/usmart/RIO/sentinel-s2-l2a-cogs/\n",
      "S2B_11SPC_20200622_0_L2A_B04.tif\n",
      "wget -nv -O- https://sentinel-cogs.s3.us-west-2.amazonaws.com/sentinel-s2-l2a-cogs/11/S/PC/2020/6/S2B_11SPC_20200622_0_L2A/B04.tif | aws s3 cp - s3://dev-et-data/usmart/RIO/sentinel-s2-l2a-cogs/S2B_11SPC_20200622_0_L2A_B04.tif\n"
     ]
    },
    {
     "name": "stderr",
     "output_type": "stream",
     "text": [
      "03:14:32: Thread 64: finishing in 29 seconds\n",
      "03:14:32: xfer Thread 78: starting\n",
      "03:14:32: sending https://sentinel-cogs.s3.us-west-2.amazonaws.com/sentinel-s2-l2a-cogs/11/S/PC/2020/6/S2B_11SPC_20200619_0_L2A/B04.tif\n"
     ]
    },
    {
     "name": "stdout",
     "output_type": "stream",
     "text": [
      "\n",
      "\n",
      "wget this: %s https://sentinel-cogs.s3.us-west-2.amazonaws.com/sentinel-s2-l2a-cogs/11/S/PC/2020/6/S2B_11SPC_20200619_0_L2A/B04.tif\n",
      "wget -nv -O- https://sentinel-cogs.s3.us-west-2.amazonaws.com/sentinel-s2-l2a-cogs/11/S/PC/2020/6/S2B_11SPC_20200619_0_L2A/B04.tif | aws s3 cp - s3://dev-et-data/usmart/RIO/sentinel-s2-l2a-cogs/\n",
      "S2B_11SPC_20200619_0_L2A_B04.tif\n",
      "wget -nv -O- https://sentinel-cogs.s3.us-west-2.amazonaws.com/sentinel-s2-l2a-cogs/11/S/PC/2020/6/S2B_11SPC_20200619_0_L2A/B04.tif | aws s3 cp - s3://dev-et-data/usmart/RIO/sentinel-s2-l2a-cogs/S2B_11SPC_20200619_0_L2A_B04.tif\n"
     ]
    },
    {
     "name": "stderr",
     "output_type": "stream",
     "text": [
      "2021-09-23 03:14:32 URL:https://sentinel-cogs.s3.us-west-2.amazonaws.com/sentinel-s2-l2a-cogs/11/S/PC/2020/7/S2B_11SPC_20200709_0_L2A/B03.tif [200974568/200974568] -> \"-\" [1]\n",
      "2021-09-23 03:14:33 URL:https://sentinel-cogs.s3.us-west-2.amazonaws.com/sentinel-s2-l2a-cogs/11/S/PC/2020/7/S2B_11SPC_20200712_0_L2A/B03.tif [167648252/167648252] -> \"-\" [1]\n",
      "03:14:33: Thread 71: finishing in 20 seconds\n",
      "03:14:33: xfer Thread 79: starting\n",
      "03:14:33: sending https://sentinel-cogs.s3.us-west-2.amazonaws.com/sentinel-s2-l2a-cogs/11/S/PC/2020/6/S2A_11SPC_20200617_0_L2A/B04.tif\n"
     ]
    },
    {
     "name": "stdout",
     "output_type": "stream",
     "text": [
      "\n",
      "\n",
      "wget this: %s https://sentinel-cogs.s3.us-west-2.amazonaws.com/sentinel-s2-l2a-cogs/11/S/PC/2020/6/S2A_11SPC_20200617_0_L2A/B04.tif\n",
      "wget -nv -O- https://sentinel-cogs.s3.us-west-2.amazonaws.com/sentinel-s2-l2a-cogs/11/S/PC/2020/6/S2A_11SPC_20200617_0_L2A/B04.tif | aws s3 cp - s3://dev-et-data/usmart/RIO/sentinel-s2-l2a-cogs/\n",
      "S2A_11SPC_20200617_0_L2A_B04.tif\n",
      "wget -nv -O- https://sentinel-cogs.s3.us-west-2.amazonaws.com/sentinel-s2-l2a-cogs/11/S/PC/2020/6/S2A_11SPC_20200617_0_L2A/B04.tif | aws s3 cp - s3://dev-et-data/usmart/RIO/sentinel-s2-l2a-cogs/S2A_11SPC_20200617_0_L2A_B04.tif\n"
     ]
    },
    {
     "name": "stderr",
     "output_type": "stream",
     "text": [
      "03:14:33: sending https://sentinel-cogs.s3.us-west-2.amazonaws.com/sentinel-s2-l2a-cogs/11/S/PC/2020/7/S2B_11SPC_20200709_0_L2A/B02.tif\n"
     ]
    },
    {
     "name": "stdout",
     "output_type": "stream",
     "text": [
      "\n",
      "\n",
      "wget this: %s https://sentinel-cogs.s3.us-west-2.amazonaws.com/sentinel-s2-l2a-cogs/11/S/PC/2020/7/S2B_11SPC_20200709_0_L2A/B02.tif\n",
      "wget -nv -O- https://sentinel-cogs.s3.us-west-2.amazonaws.com/sentinel-s2-l2a-cogs/11/S/PC/2020/7/S2B_11SPC_20200709_0_L2A/B02.tif | aws s3 cp - s3://dev-et-data/usmart/RIO/sentinel-s2-l2a-cogs/\n",
      "S2B_11SPC_20200709_0_L2A_B02.tif\n",
      "wget -nv -O- https://sentinel-cogs.s3.us-west-2.amazonaws.com/sentinel-s2-l2a-cogs/11/S/PC/2020/7/S2B_11SPC_20200709_0_L2A/B02.tif | aws s3 cp - s3://dev-et-data/usmart/RIO/sentinel-s2-l2a-cogs/S2B_11SPC_20200709_0_L2A_B02.tif\n"
     ]
    },
    {
     "name": "stderr",
     "output_type": "stream",
     "text": [
      "03:14:34: sending https://sentinel-cogs.s3.us-west-2.amazonaws.com/sentinel-s2-l2a-cogs/11/S/PC/2020/7/S2B_11SPC_20200712_0_L2A/B02.tif\n"
     ]
    },
    {
     "name": "stdout",
     "output_type": "stream",
     "text": [
      "\n",
      "\n",
      "wget this: %s https://sentinel-cogs.s3.us-west-2.amazonaws.com/sentinel-s2-l2a-cogs/11/S/PC/2020/7/S2B_11SPC_20200712_0_L2A/B02.tif\n",
      "wget -nv -O- https://sentinel-cogs.s3.us-west-2.amazonaws.com/sentinel-s2-l2a-cogs/11/S/PC/2020/7/S2B_11SPC_20200712_0_L2A/B02.tif | aws s3 cp - s3://dev-et-data/usmart/RIO/sentinel-s2-l2a-cogs/\n",
      "S2B_11SPC_20200712_0_L2A_B02.tif\n",
      "wget -nv -O- https://sentinel-cogs.s3.us-west-2.amazonaws.com/sentinel-s2-l2a-cogs/11/S/PC/2020/7/S2B_11SPC_20200712_0_L2A/B02.tif | aws s3 cp - s3://dev-et-data/usmart/RIO/sentinel-s2-l2a-cogs/S2B_11SPC_20200712_0_L2A_B02.tif\n"
     ]
    },
    {
     "name": "stderr",
     "output_type": "stream",
     "text": [
      "2021-09-23 03:14:34 URL:https://sentinel-cogs.s3.us-west-2.amazonaws.com/sentinel-s2-l2a-cogs/11/S/PC/2020/7/S2A_11SPC_20200717_0_L2A/B02.tif [168290935/168290935] -> \"-\" [1]\n",
      "03:14:35: Thread 66: finishing in 28 seconds\n",
      "03:14:35: xfer Thread 80: starting\n",
      "03:14:35: sending https://sentinel-cogs.s3.us-west-2.amazonaws.com/sentinel-s2-l2a-cogs/11/S/PC/2020/6/S2A_11SPC_20200614_0_L2A/B04.tif\n"
     ]
    },
    {
     "name": "stdout",
     "output_type": "stream",
     "text": [
      "\n",
      "\n",
      "wget this: %s https://sentinel-cogs.s3.us-west-2.amazonaws.com/sentinel-s2-l2a-cogs/11/S/PC/2020/6/S2A_11SPC_20200614_0_L2A/B04.tif\n",
      "wget -nv -O- https://sentinel-cogs.s3.us-west-2.amazonaws.com/sentinel-s2-l2a-cogs/11/S/PC/2020/6/S2A_11SPC_20200614_0_L2A/B04.tif | aws s3 cp - s3://dev-et-data/usmart/RIO/sentinel-s2-l2a-cogs/\n",
      "S2A_11SPC_20200614_0_L2A_B04.tif\n",
      "wget -nv -O- https://sentinel-cogs.s3.us-west-2.amazonaws.com/sentinel-s2-l2a-cogs/11/S/PC/2020/6/S2A_11SPC_20200614_0_L2A/B04.tif | aws s3 cp - s3://dev-et-data/usmart/RIO/sentinel-s2-l2a-cogs/S2A_11SPC_20200614_0_L2A_B04.tif\n"
     ]
    },
    {
     "name": "stderr",
     "output_type": "stream",
     "text": [
      "2021-09-23 03:14:35 URL:https://sentinel-cogs.s3.us-west-2.amazonaws.com/sentinel-s2-l2a-cogs/11/S/PC/2020/7/S2A_11SPC_20200724_0_L2A/B02.tif [209403213/209403213] -> \"-\" [1]\n",
      "2021-09-23 03:14:35 URL:https://sentinel-cogs.s3.us-west-2.amazonaws.com/sentinel-s2-l2a-cogs/11/S/PC/2020/7/S2A_11SPC_20200704_0_L2A/B03.tif [202531996/202531996] -> \"-\" [1]\n",
      "2021-09-23 03:14:36 URL:https://sentinel-cogs.s3.us-west-2.amazonaws.com/sentinel-s2-l2a-cogs/11/S/PC/2020/7/S2B_11SPC_20200702_0_L2A/B03.tif [165142908/165142908] -> \"-\" [1]\n",
      "03:14:36: Thread 63: finishing in 33 seconds\n",
      "03:14:36: xfer Thread 81: starting\n",
      "03:14:36: sending https://sentinel-cogs.s3.us-west-2.amazonaws.com/sentinel-s2-l2a-cogs/11/S/PC/2020/6/S2B_11SPC_20200612_0_L2A/B04.tif\n",
      "03:14:36: sending https://sentinel-cogs.s3.us-west-2.amazonaws.com/sentinel-s2-l2a-cogs/11/S/PC/2020/7/S2A_11SPC_20200704_0_L2A/B02.tif\n"
     ]
    },
    {
     "name": "stdout",
     "output_type": "stream",
     "text": [
      "\n",
      "\n",
      "wget this: %s https://sentinel-cogs.s3.us-west-2.amazonaws.com/sentinel-s2-l2a-cogs/11/S/PC/2020/6/S2B_11SPC_20200612_0_L2A/B04.tif\n",
      "wget -nv -O- https://sentinel-cogs.s3.us-west-2.amazonaws.com/sentinel-s2-l2a-cogs/11/S/PC/2020/6/S2B_11SPC_20200612_0_L2A/B04.tif | aws s3 cp - s3://dev-et-data/usmart/RIO/sentinel-s2-l2a-cogs/\n",
      "S2B_11SPC_20200612_0_L2A_B04.tif\n",
      "wget -nv -O- https://sentinel-cogs.s3.us-west-2.amazonaws.com/sentinel-s2-l2a-cogs/11/S/PC/2020/6/S2B_11SPC_20200612_0_L2A/B04.tif | aws s3 cp - s3://dev-et-data/usmart/RIO/sentinel-s2-l2a-cogs/S2B_11SPC_20200612_0_L2A_B04.tif\n",
      "\n",
      "\n",
      "wget this: %s https://sentinel-cogs.s3.us-west-2.amazonaws.com/sentinel-s2-l2a-cogs/11/S/PC/2020/7/S2A_11SPC_20200704_0_L2A/B02.tif\n",
      "wget -nv -O- https://sentinel-cogs.s3.us-west-2.amazonaws.com/sentinel-s2-l2a-cogs/11/S/PC/2020/7/S2A_11SPC_20200704_0_L2A/B02.tif | aws s3 cp - s3://dev-et-data/usmart/RIO/sentinel-s2-l2a-cogs/\n",
      "S2A_11SPC_20200704_0_L2A_B02.tif\n",
      "wget -nv -O- https://sentinel-cogs.s3.us-west-2.amazonaws.com/sentinel-s2-l2a-cogs/11/S/PC/2020/7/S2A_11SPC_20200704_0_L2A/B02.tif | aws s3 cp - s3://dev-et-data/usmart/RIO/sentinel-s2-l2a-cogs/S2A_11SPC_20200704_0_L2A_B02.tif\n"
     ]
    },
    {
     "name": "stderr",
     "output_type": "stream",
     "text": [
      "2021-09-23 03:14:36 URL:https://sentinel-cogs.s3.us-west-2.amazonaws.com/sentinel-s2-l2a-cogs/11/S/PC/2020/6/S2B_11SPC_20200629_0_L2A/B03.tif [202066379/202066379] -> \"-\" [1]\n",
      "03:14:37: sending https://sentinel-cogs.s3.us-west-2.amazonaws.com/sentinel-s2-l2a-cogs/11/S/PC/2020/7/S2B_11SPC_20200702_0_L2A/B02.tif\n"
     ]
    },
    {
     "name": "stdout",
     "output_type": "stream",
     "text": [
      "\n",
      "\n",
      "wget this: %s https://sentinel-cogs.s3.us-west-2.amazonaws.com/sentinel-s2-l2a-cogs/11/S/PC/2020/7/S2B_11SPC_20200702_0_L2A/B02.tif\n",
      "wget -nv -O- https://sentinel-cogs.s3.us-west-2.amazonaws.com/sentinel-s2-l2a-cogs/11/S/PC/2020/7/S2B_11SPC_20200702_0_L2A/B02.tif | aws s3 cp - s3://dev-et-data/usmart/RIO/sentinel-s2-l2a-cogs/\n",
      "S2B_11SPC_20200702_0_L2A_B02.tif\n",
      "wget -nv -O- https://sentinel-cogs.s3.us-west-2.amazonaws.com/sentinel-s2-l2a-cogs/11/S/PC/2020/7/S2B_11SPC_20200702_0_L2A/B02.tif | aws s3 cp - s3://dev-et-data/usmart/RIO/sentinel-s2-l2a-cogs/S2B_11SPC_20200702_0_L2A_B02.tif\n"
     ]
    },
    {
     "name": "stderr",
     "output_type": "stream",
     "text": [
      "2021-09-23 03:14:37 URL:https://sentinel-cogs.s3.us-west-2.amazonaws.com/sentinel-s2-l2a-cogs/11/S/PC/2020/6/S2A_11SPC_20200627_0_L2A/B04.tif [165433504/165433504] -> \"-\" [1]\n",
      "03:14:37: sending https://sentinel-cogs.s3.us-west-2.amazonaws.com/sentinel-s2-l2a-cogs/11/S/PC/2020/6/S2B_11SPC_20200629_0_L2A/B02.tif\n"
     ]
    },
    {
     "name": "stdout",
     "output_type": "stream",
     "text": [
      "\n",
      "\n",
      "wget this: %s https://sentinel-cogs.s3.us-west-2.amazonaws.com/sentinel-s2-l2a-cogs/11/S/PC/2020/6/S2B_11SPC_20200629_0_L2A/B02.tif\n",
      "wget -nv -O- https://sentinel-cogs.s3.us-west-2.amazonaws.com/sentinel-s2-l2a-cogs/11/S/PC/2020/6/S2B_11SPC_20200629_0_L2A/B02.tif | aws s3 cp - s3://dev-et-data/usmart/RIO/sentinel-s2-l2a-cogs/\n",
      "S2B_11SPC_20200629_0_L2A_B02.tif\n",
      "wget -nv -O- https://sentinel-cogs.s3.us-west-2.amazonaws.com/sentinel-s2-l2a-cogs/11/S/PC/2020/6/S2B_11SPC_20200629_0_L2A/B02.tif | aws s3 cp - s3://dev-et-data/usmart/RIO/sentinel-s2-l2a-cogs/S2B_11SPC_20200629_0_L2A_B02.tif\n"
     ]
    },
    {
     "name": "stderr",
     "output_type": "stream",
     "text": [
      "2021-09-23 03:14:38 URL:https://sentinel-cogs.s3.us-west-2.amazonaws.com/sentinel-s2-l2a-cogs/11/S/PC/2020/7/S2A_11SPC_20200707_0_L2A/B02.tif [119052376/119052376] -> \"-\" [1]\n",
      "03:14:38: sending https://sentinel-cogs.s3.us-west-2.amazonaws.com/sentinel-s2-l2a-cogs/11/S/PC/2020/6/S2A_11SPC_20200627_0_L2A/B03.tif\n"
     ]
    },
    {
     "name": "stdout",
     "output_type": "stream",
     "text": [
      "\n",
      "\n",
      "wget this: %s https://sentinel-cogs.s3.us-west-2.amazonaws.com/sentinel-s2-l2a-cogs/11/S/PC/2020/6/S2A_11SPC_20200627_0_L2A/B03.tif\n",
      "wget -nv -O- https://sentinel-cogs.s3.us-west-2.amazonaws.com/sentinel-s2-l2a-cogs/11/S/PC/2020/6/S2A_11SPC_20200627_0_L2A/B03.tif | aws s3 cp - s3://dev-et-data/usmart/RIO/sentinel-s2-l2a-cogs/\n",
      "S2A_11SPC_20200627_0_L2A_B03.tif\n",
      "wget -nv -O- https://sentinel-cogs.s3.us-west-2.amazonaws.com/sentinel-s2-l2a-cogs/11/S/PC/2020/6/S2A_11SPC_20200627_0_L2A/B03.tif | aws s3 cp - s3://dev-et-data/usmart/RIO/sentinel-s2-l2a-cogs/S2A_11SPC_20200627_0_L2A_B03.tif\n"
     ]
    },
    {
     "name": "stderr",
     "output_type": "stream",
     "text": [
      "2021-09-23 03:14:39 URL:https://sentinel-cogs.s3.us-west-2.amazonaws.com/sentinel-s2-l2a-cogs/11/S/PC/2020/7/S2B_11SPC_20200719_0_L2A/B02.tif [202407079/202407079] -> \"-\" [1]\n",
      "03:14:39: Thread 70: finishing in 26 seconds\n",
      "03:14:39: xfer Thread 82: starting\n",
      "03:14:39: sending https://sentinel-cogs.s3.us-west-2.amazonaws.com/sentinel-s2-l2a-cogs/11/S/PC/2020/6/S2B_11SPC_20200609_0_L2A/B04.tif\n",
      "2021-09-23 03:14:39 URL:https://sentinel-cogs.s3.us-west-2.amazonaws.com/sentinel-s2-l2a-cogs/11/S/PC/2020/6/S2A_11SPC_20200624_0_L2A/B04.tif [201294550/201294550] -> \"-\" [1]\n"
     ]
    },
    {
     "name": "stdout",
     "output_type": "stream",
     "text": [
      "\n",
      "\n",
      "wget this: %s https://sentinel-cogs.s3.us-west-2.amazonaws.com/sentinel-s2-l2a-cogs/11/S/PC/2020/6/S2B_11SPC_20200609_0_L2A/B04.tif\n",
      "wget -nv -O- https://sentinel-cogs.s3.us-west-2.amazonaws.com/sentinel-s2-l2a-cogs/11/S/PC/2020/6/S2B_11SPC_20200609_0_L2A/B04.tif | aws s3 cp - s3://dev-et-data/usmart/RIO/sentinel-s2-l2a-cogs/\n",
      "S2B_11SPC_20200609_0_L2A_B04.tif\n",
      "wget -nv -O- https://sentinel-cogs.s3.us-west-2.amazonaws.com/sentinel-s2-l2a-cogs/11/S/PC/2020/6/S2B_11SPC_20200609_0_L2A/B04.tif | aws s3 cp - s3://dev-et-data/usmart/RIO/sentinel-s2-l2a-cogs/S2B_11SPC_20200609_0_L2A_B04.tif\n"
     ]
    },
    {
     "name": "stderr",
     "output_type": "stream",
     "text": [
      "03:14:40: Thread 65: finishing in 33 seconds\n",
      "03:14:40: xfer Thread 83: starting\n",
      "03:14:40: sending https://sentinel-cogs.s3.us-west-2.amazonaws.com/sentinel-s2-l2a-cogs/11/S/PC/2020/6/S2A_11SPC_20200607_0_L2A/B04.tif\n",
      "03:14:40: sending https://sentinel-cogs.s3.us-west-2.amazonaws.com/sentinel-s2-l2a-cogs/11/S/PC/2020/6/S2A_11SPC_20200624_0_L2A/B03.tif\n"
     ]
    },
    {
     "name": "stdout",
     "output_type": "stream",
     "text": [
      "\n",
      "\n",
      "wget this: %s https://sentinel-cogs.s3.us-west-2.amazonaws.com/sentinel-s2-l2a-cogs/11/S/PC/2020/6/S2A_11SPC_20200607_0_L2A/B04.tif\n",
      "wget -nv -O- https://sentinel-cogs.s3.us-west-2.amazonaws.com/sentinel-s2-l2a-cogs/11/S/PC/2020/6/S2A_11SPC_20200607_0_L2A/B04.tif | aws s3 cp - s3://dev-et-data/usmart/RIO/sentinel-s2-l2a-cogs/\n",
      "S2A_11SPC_20200607_0_L2A_B04.tif\n",
      "wget -nv -O- https://sentinel-cogs.s3.us-west-2.amazonaws.com/sentinel-s2-l2a-cogs/11/S/PC/2020/6/S2A_11SPC_20200607_0_L2A/B04.tif | aws s3 cp - s3://dev-et-data/usmart/RIO/sentinel-s2-l2a-cogs/S2A_11SPC_20200607_0_L2A_B04.tif\n",
      "\n",
      "\n",
      "wget this: %s https://sentinel-cogs.s3.us-west-2.amazonaws.com/sentinel-s2-l2a-cogs/11/S/PC/2020/6/S2A_11SPC_20200624_0_L2A/B03.tif\n",
      "wget -nv -O- https://sentinel-cogs.s3.us-west-2.amazonaws.com/sentinel-s2-l2a-cogs/11/S/PC/2020/6/S2A_11SPC_20200624_0_L2A/B03.tif | aws s3 cp - s3://dev-et-data/usmart/RIO/sentinel-s2-l2a-cogs/\n",
      "S2A_11SPC_20200624_0_L2A_B03.tif\n",
      "wget -nv -O- https://sentinel-cogs.s3.us-west-2.amazonaws.com/sentinel-s2-l2a-cogs/11/S/PC/2020/6/S2A_11SPC_20200624_0_L2A/B03.tif | aws s3 cp - s3://dev-et-data/usmart/RIO/sentinel-s2-l2a-cogs/S2A_11SPC_20200624_0_L2A_B03.tif\n"
     ]
    },
    {
     "name": "stderr",
     "output_type": "stream",
     "text": [
      "2021-09-23 03:14:41 URL:https://sentinel-cogs.s3.us-west-2.amazonaws.com/sentinel-s2-l2a-cogs/11/S/PC/2020/7/S2A_11SPC_20200714_0_L2A/B02.tif [201879803/201879803] -> \"-\" [1]\n",
      "2021-09-23 03:14:41 URL:https://sentinel-cogs.s3.us-west-2.amazonaws.com/sentinel-s2-l2a-cogs/11/S/PC/2020/6/S2B_11SPC_20200622_0_L2A/B04.tif [167443224/167443224] -> \"-\" [1]\n",
      "03:14:42: Thread 67: finishing in 33 seconds\n",
      "03:14:42: xfer Thread 84: starting\n",
      "03:14:42: sending https://sentinel-cogs.s3.us-west-2.amazonaws.com/sentinel-s2-l2a-cogs/11/S/PC/2020/6/S2A_11SPC_20200604_0_L2A/B04.tif\n"
     ]
    },
    {
     "name": "stdout",
     "output_type": "stream",
     "text": [
      "\n",
      "\n",
      "wget this: %s https://sentinel-cogs.s3.us-west-2.amazonaws.com/sentinel-s2-l2a-cogs/11/S/PC/2020/6/S2A_11SPC_20200604_0_L2A/B04.tif\n",
      "wget -nv -O- https://sentinel-cogs.s3.us-west-2.amazonaws.com/sentinel-s2-l2a-cogs/11/S/PC/2020/6/S2A_11SPC_20200604_0_L2A/B04.tif | aws s3 cp - s3://dev-et-data/usmart/RIO/sentinel-s2-l2a-cogs/\n",
      "S2A_11SPC_20200604_0_L2A_B04.tif\n",
      "wget -nv -O- https://sentinel-cogs.s3.us-west-2.amazonaws.com/sentinel-s2-l2a-cogs/11/S/PC/2020/6/S2A_11SPC_20200604_0_L2A/B04.tif | aws s3 cp - s3://dev-et-data/usmart/RIO/sentinel-s2-l2a-cogs/S2A_11SPC_20200604_0_L2A_B04.tif\n"
     ]
    },
    {
     "name": "stderr",
     "output_type": "stream",
     "text": [
      "2021-09-23 03:14:42 URL:https://sentinel-cogs.s3.us-west-2.amazonaws.com/sentinel-s2-l2a-cogs/11/S/PC/2020/7/S2B_11SPC_20200712_0_L2A/B02.tif [168147880/168147880] -> \"-\" [1]\n",
      "2021-09-23 03:14:42 URL:https://sentinel-cogs.s3.us-west-2.amazonaws.com/sentinel-s2-l2a-cogs/11/S/PC/2020/6/S2A_11SPC_20200617_0_L2A/B04.tif [165446711/165446711] -> \"-\" [1]\n",
      "2021-09-23 03:14:42 URL:https://sentinel-cogs.s3.us-west-2.amazonaws.com/sentinel-s2-l2a-cogs/11/S/PC/2020/6/S2B_11SPC_20200619_0_L2A/B04.tif [204467387/204467387] -> \"-\" [1]\n",
      "03:14:43: sending https://sentinel-cogs.s3.us-west-2.amazonaws.com/sentinel-s2-l2a-cogs/11/S/PC/2020/6/S2B_11SPC_20200622_0_L2A/B03.tif\n",
      "03:14:43: Thread 68: finishing in 31 seconds\n",
      "03:14:43: xfer Thread 85: starting\n",
      "03:14:43: sending https://sentinel-cogs.s3.us-west-2.amazonaws.com/sentinel-s2-l2a-cogs/11/S/PC/2020/6/S2B_11SPC_20200602_0_L2A/B04.tif\n",
      "2021-09-23 03:14:43 URL:https://sentinel-cogs.s3.us-west-2.amazonaws.com/sentinel-s2-l2a-cogs/11/S/PC/2020/7/S2B_11SPC_20200709_0_L2A/B02.tif [201369222/201369222] -> \"-\" [1]\n",
      "03:14:43: sending https://sentinel-cogs.s3.us-west-2.amazonaws.com/sentinel-s2-l2a-cogs/11/S/PC/2020/6/S2A_11SPC_20200617_0_L2A/B03.tif\n"
     ]
    },
    {
     "name": "stdout",
     "output_type": "stream",
     "text": [
      "\n",
      "\n",
      "wget this: %s https://sentinel-cogs.s3.us-west-2.amazonaws.com/sentinel-s2-l2a-cogs/11/S/PC/2020/6/S2B_11SPC_20200622_0_L2A/B03.tif\n",
      "wget -nv -O- https://sentinel-cogs.s3.us-west-2.amazonaws.com/sentinel-s2-l2a-cogs/11/S/PC/2020/6/S2B_11SPC_20200622_0_L2A/B03.tif | aws s3 cp - s3://dev-et-data/usmart/RIO/sentinel-s2-l2a-cogs/\n",
      "S2B_11SPC_20200622_0_L2A_B03.tif\n",
      "wget -nv -O- https://sentinel-cogs.s3.us-west-2.amazonaws.com/sentinel-s2-l2a-cogs/11/S/PC/2020/6/S2B_11SPC_20200622_0_L2A/B03.tif | aws s3 cp - s3://dev-et-data/usmart/RIO/sentinel-s2-l2a-cogs/S2B_11SPC_20200622_0_L2A_B03.tif\n",
      "\n",
      "\n",
      "wget this: %s https://sentinel-cogs.s3.us-west-2.amazonaws.com/sentinel-s2-l2a-cogs/11/S/PC/2020/6/S2B_11SPC_20200602_0_L2A/B04.tif\n",
      "wget -nv -O- https://sentinel-cogs.s3.us-west-2.amazonaws.com/sentinel-s2-l2a-cogs/11/S/PC/2020/6/S2B_11SPC_20200602_0_L2A/B04.tif | aws s3 cp - s3://dev-et-data/usmart/RIO/sentinel-s2-l2a-cogs/\n",
      "S2B_11SPC_20200602_0_L2A_B04.tif\n",
      "wget -nv -O- https://sentinel-cogs.s3.us-west-2.amazonaws.com/sentinel-s2-l2a-cogs/11/S/PC/2020/6/S2B_11SPC_20200602_0_L2A/B04.tif | aws s3 cp - s3://dev-et-data/usmart/RIO/sentinel-s2-l2a-cogs/S2B_11SPC_20200602_0_L2A_B04.tif\n",
      "\n",
      "\n",
      "wget this: %s https://sentinel-cogs.s3.us-west-2.amazonaws.com/sentinel-s2-l2a-cogs/11/S/PC/2020/6/S2A_11SPC_20200617_0_L2A/B03.tif\n",
      "wget -nv -O- https://sentinel-cogs.s3.us-west-2.amazonaws.com/sentinel-s2-l2a-cogs/11/S/PC/2020/6/S2A_11SPC_20200617_0_L2A/B03.tif | aws s3 cp - s3://dev-et-data/usmart/RIO/sentinel-s2-l2a-cogs/\n",
      "S2A_11SPC_20200617_0_L2A_B03.tif\n",
      "wget -nv -O- https://sentinel-cogs.s3.us-west-2.amazonaws.com/sentinel-s2-l2a-cogs/11/S/PC/2020/6/S2A_11SPC_20200617_0_L2A/B03.tif | aws s3 cp - s3://dev-et-data/usmart/RIO/sentinel-s2-l2a-cogs/S2A_11SPC_20200617_0_L2A_B03.tif\n"
     ]
    },
    {
     "name": "stderr",
     "output_type": "stream",
     "text": [
      "03:14:43: sending https://sentinel-cogs.s3.us-west-2.amazonaws.com/sentinel-s2-l2a-cogs/11/S/PC/2020/6/S2B_11SPC_20200619_0_L2A/B03.tif\n"
     ]
    },
    {
     "name": "stdout",
     "output_type": "stream",
     "text": [
      "\n",
      "\n",
      "wget this: %s https://sentinel-cogs.s3.us-west-2.amazonaws.com/sentinel-s2-l2a-cogs/11/S/PC/2020/6/S2B_11SPC_20200619_0_L2A/B03.tif\n",
      "wget -nv -O- https://sentinel-cogs.s3.us-west-2.amazonaws.com/sentinel-s2-l2a-cogs/11/S/PC/2020/6/S2B_11SPC_20200619_0_L2A/B03.tif | aws s3 cp - s3://dev-et-data/usmart/RIO/sentinel-s2-l2a-cogs/\n",
      "S2B_11SPC_20200619_0_L2A_B03.tif\n",
      "wget -nv -O- https://sentinel-cogs.s3.us-west-2.amazonaws.com/sentinel-s2-l2a-cogs/11/S/PC/2020/6/S2B_11SPC_20200619_0_L2A/B03.tif | aws s3 cp - s3://dev-et-data/usmart/RIO/sentinel-s2-l2a-cogs/S2B_11SPC_20200619_0_L2A_B03.tif\n"
     ]
    },
    {
     "name": "stderr",
     "output_type": "stream",
     "text": [
      "2021-09-23 03:14:43 URL:https://sentinel-cogs.s3.us-west-2.amazonaws.com/sentinel-s2-l2a-cogs/11/S/PC/2020/6/S2B_11SPC_20200612_0_L2A/B04.tif [146671958/146671958] -> \"-\" [1]\n",
      "03:14:44: Thread 69: finishing in 31 seconds\n",
      "03:14:44: xfer Thread 86: starting\n",
      "03:14:44: sending https://sentinel-cogs.s3.us-west-2.amazonaws.com/sentinel-s2-l2a-cogs/11/S/PC/2020/5/S2B_11SPC_20200530_0_L2A/B04.tif\n"
     ]
    },
    {
     "name": "stdout",
     "output_type": "stream",
     "text": [
      "\n",
      "\n",
      "wget this: %s https://sentinel-cogs.s3.us-west-2.amazonaws.com/sentinel-s2-l2a-cogs/11/S/PC/2020/5/S2B_11SPC_20200530_0_L2A/B04.tif\n",
      "wget -nv -O- https://sentinel-cogs.s3.us-west-2.amazonaws.com/sentinel-s2-l2a-cogs/11/S/PC/2020/5/S2B_11SPC_20200530_0_L2A/B04.tif | aws s3 cp - s3://dev-et-data/usmart/RIO/sentinel-s2-l2a-cogs/\n",
      "S2B_11SPC_20200530_0_L2A_B04.tif\n",
      "wget -nv -O- https://sentinel-cogs.s3.us-west-2.amazonaws.com/sentinel-s2-l2a-cogs/11/S/PC/2020/5/S2B_11SPC_20200530_0_L2A/B04.tif | aws s3 cp - s3://dev-et-data/usmart/RIO/sentinel-s2-l2a-cogs/S2B_11SPC_20200530_0_L2A_B04.tif\n"
     ]
    },
    {
     "name": "stderr",
     "output_type": "stream",
     "text": [
      "03:14:44: sending https://sentinel-cogs.s3.us-west-2.amazonaws.com/sentinel-s2-l2a-cogs/11/S/PC/2020/6/S2B_11SPC_20200612_0_L2A/B03.tif\n"
     ]
    },
    {
     "name": "stdout",
     "output_type": "stream",
     "text": [
      "\n",
      "\n",
      "wget this: %s https://sentinel-cogs.s3.us-west-2.amazonaws.com/sentinel-s2-l2a-cogs/11/S/PC/2020/6/S2B_11SPC_20200612_0_L2A/B03.tif\n",
      "wget -nv -O- https://sentinel-cogs.s3.us-west-2.amazonaws.com/sentinel-s2-l2a-cogs/11/S/PC/2020/6/S2B_11SPC_20200612_0_L2A/B03.tif | aws s3 cp - s3://dev-et-data/usmart/RIO/sentinel-s2-l2a-cogs/\n",
      "S2B_11SPC_20200612_0_L2A_B03.tif\n",
      "wget -nv -O- https://sentinel-cogs.s3.us-west-2.amazonaws.com/sentinel-s2-l2a-cogs/11/S/PC/2020/6/S2B_11SPC_20200612_0_L2A/B03.tif | aws s3 cp - s3://dev-et-data/usmart/RIO/sentinel-s2-l2a-cogs/S2B_11SPC_20200612_0_L2A_B03.tif\n"
     ]
    },
    {
     "name": "stderr",
     "output_type": "stream",
     "text": [
      "2021-09-23 03:14:45 URL:https://sentinel-cogs.s3.us-west-2.amazonaws.com/sentinel-s2-l2a-cogs/11/S/PC/2020/7/S2B_11SPC_20200702_0_L2A/B02.tif [165315064/165315064] -> \"-\" [1]\n",
      "03:14:46: Thread 73: finishing in 28 seconds\n",
      "03:14:46: xfer Thread 87: starting\n",
      "03:14:46: sending https://sentinel-cogs.s3.us-west-2.amazonaws.com/sentinel-s2-l2a-cogs/11/S/PC/2020/5/S2A_11SPC_20200528_0_L2A/B04.tif\n"
     ]
    },
    {
     "name": "stdout",
     "output_type": "stream",
     "text": [
      "\n",
      "\n",
      "wget this: %s https://sentinel-cogs.s3.us-west-2.amazonaws.com/sentinel-s2-l2a-cogs/11/S/PC/2020/5/S2A_11SPC_20200528_0_L2A/B04.tif\n",
      "wget -nv -O- https://sentinel-cogs.s3.us-west-2.amazonaws.com/sentinel-s2-l2a-cogs/11/S/PC/2020/5/S2A_11SPC_20200528_0_L2A/B04.tif | aws s3 cp - s3://dev-et-data/usmart/RIO/sentinel-s2-l2a-cogs/\n",
      "S2A_11SPC_20200528_0_L2A_B04.tif\n",
      "wget -nv -O- https://sentinel-cogs.s3.us-west-2.amazonaws.com/sentinel-s2-l2a-cogs/11/S/PC/2020/5/S2A_11SPC_20200528_0_L2A/B04.tif | aws s3 cp - s3://dev-et-data/usmart/RIO/sentinel-s2-l2a-cogs/S2A_11SPC_20200528_0_L2A_B04.tif\n"
     ]
    },
    {
     "name": "stderr",
     "output_type": "stream",
     "text": [
      "2021-09-23 03:14:46 URL:https://sentinel-cogs.s3.us-west-2.amazonaws.com/sentinel-s2-l2a-cogs/11/S/PC/2020/6/S2A_11SPC_20200614_0_L2A/B04.tif [196962179/196962179] -> \"-\" [1]\n",
      "2021-09-23 03:14:46 URL:https://sentinel-cogs.s3.us-west-2.amazonaws.com/sentinel-s2-l2a-cogs/11/S/PC/2020/7/S2A_11SPC_20200704_0_L2A/B02.tif [203733092/203733092] -> \"-\" [1]\n",
      "03:14:47: sending https://sentinel-cogs.s3.us-west-2.amazonaws.com/sentinel-s2-l2a-cogs/11/S/PC/2020/6/S2A_11SPC_20200614_0_L2A/B03.tif\n"
     ]
    },
    {
     "name": "stdout",
     "output_type": "stream",
     "text": [
      "\n",
      "\n",
      "wget this: %s https://sentinel-cogs.s3.us-west-2.amazonaws.com/sentinel-s2-l2a-cogs/11/S/PC/2020/6/S2A_11SPC_20200614_0_L2A/B03.tif\n",
      "wget -nv -O- https://sentinel-cogs.s3.us-west-2.amazonaws.com/sentinel-s2-l2a-cogs/11/S/PC/2020/6/S2A_11SPC_20200614_0_L2A/B03.tif | aws s3 cp - s3://dev-et-data/usmart/RIO/sentinel-s2-l2a-cogs/\n",
      "S2A_11SPC_20200614_0_L2A_B03.tif\n",
      "wget -nv -O- https://sentinel-cogs.s3.us-west-2.amazonaws.com/sentinel-s2-l2a-cogs/11/S/PC/2020/6/S2A_11SPC_20200614_0_L2A/B03.tif | aws s3 cp - s3://dev-et-data/usmart/RIO/sentinel-s2-l2a-cogs/S2A_11SPC_20200614_0_L2A_B03.tif\n"
     ]
    },
    {
     "name": "stderr",
     "output_type": "stream",
     "text": [
      "03:14:47: Thread 72: finishing in 31 seconds\n",
      "03:14:47: xfer Thread 88: starting\n",
      "03:14:47: sending https://sentinel-cogs.s3.us-west-2.amazonaws.com/sentinel-s2-l2a-cogs/11/S/PC/2020/5/S2A_11SPC_20200525_0_L2A/B04.tif\n"
     ]
    },
    {
     "name": "stdout",
     "output_type": "stream",
     "text": [
      "\n",
      "\n",
      "wget this: %s https://sentinel-cogs.s3.us-west-2.amazonaws.com/sentinel-s2-l2a-cogs/11/S/PC/2020/5/S2A_11SPC_20200525_0_L2A/B04.tif\n",
      "wget -nv -O- https://sentinel-cogs.s3.us-west-2.amazonaws.com/sentinel-s2-l2a-cogs/11/S/PC/2020/5/S2A_11SPC_20200525_0_L2A/B04.tif | aws s3 cp - s3://dev-et-data/usmart/RIO/sentinel-s2-l2a-cogs/\n",
      "S2A_11SPC_20200525_0_L2A_B04.tif\n",
      "wget -nv -O- https://sentinel-cogs.s3.us-west-2.amazonaws.com/sentinel-s2-l2a-cogs/11/S/PC/2020/5/S2A_11SPC_20200525_0_L2A/B04.tif | aws s3 cp - s3://dev-et-data/usmart/RIO/sentinel-s2-l2a-cogs/S2A_11SPC_20200525_0_L2A_B04.tif\n"
     ]
    },
    {
     "name": "stderr",
     "output_type": "stream",
     "text": [
      "2021-09-23 03:14:47 URL:https://sentinel-cogs.s3.us-west-2.amazonaws.com/sentinel-s2-l2a-cogs/11/S/PC/2020/6/S2A_11SPC_20200627_0_L2A/B03.tif [163660192/163660192] -> \"-\" [1]\n",
      "2021-09-23 03:14:48 URL:https://sentinel-cogs.s3.us-west-2.amazonaws.com/sentinel-s2-l2a-cogs/11/S/PC/2020/6/S2B_11SPC_20200629_0_L2A/B02.tif [202874915/202874915] -> \"-\" [1]\n",
      "03:14:49: sending https://sentinel-cogs.s3.us-west-2.amazonaws.com/sentinel-s2-l2a-cogs/11/S/PC/2020/6/S2A_11SPC_20200627_0_L2A/B02.tif\n"
     ]
    },
    {
     "name": "stdout",
     "output_type": "stream",
     "text": [
      "\n",
      "\n",
      "wget this: %s https://sentinel-cogs.s3.us-west-2.amazonaws.com/sentinel-s2-l2a-cogs/11/S/PC/2020/6/S2A_11SPC_20200627_0_L2A/B02.tif\n",
      "wget -nv -O- https://sentinel-cogs.s3.us-west-2.amazonaws.com/sentinel-s2-l2a-cogs/11/S/PC/2020/6/S2A_11SPC_20200627_0_L2A/B02.tif | aws s3 cp - s3://dev-et-data/usmart/RIO/sentinel-s2-l2a-cogs/\n",
      "S2A_11SPC_20200627_0_L2A_B02.tif\n",
      "wget -nv -O- https://sentinel-cogs.s3.us-west-2.amazonaws.com/sentinel-s2-l2a-cogs/11/S/PC/2020/6/S2A_11SPC_20200627_0_L2A/B02.tif | aws s3 cp - s3://dev-et-data/usmart/RIO/sentinel-s2-l2a-cogs/S2A_11SPC_20200627_0_L2A_B02.tif\n"
     ]
    },
    {
     "name": "stderr",
     "output_type": "stream",
     "text": [
      "03:14:50: Thread 74: finishing in 31 seconds\n",
      "03:14:50: xfer Thread 89: starting\n",
      "03:14:50: sending https://sentinel-cogs.s3.us-west-2.amazonaws.com/sentinel-s2-l2a-cogs/11/S/PC/2020/5/S2B_11SPC_20200523_0_L2A/B04.tif\n"
     ]
    },
    {
     "name": "stdout",
     "output_type": "stream",
     "text": [
      "\n",
      "\n",
      "wget this: %s https://sentinel-cogs.s3.us-west-2.amazonaws.com/sentinel-s2-l2a-cogs/11/S/PC/2020/5/S2B_11SPC_20200523_0_L2A/B04.tif\n",
      "wget -nv -O- https://sentinel-cogs.s3.us-west-2.amazonaws.com/sentinel-s2-l2a-cogs/11/S/PC/2020/5/S2B_11SPC_20200523_0_L2A/B04.tif | aws s3 cp - s3://dev-et-data/usmart/RIO/sentinel-s2-l2a-cogs/\n",
      "S2B_11SPC_20200523_0_L2A_B04.tif\n",
      "wget -nv -O- https://sentinel-cogs.s3.us-west-2.amazonaws.com/sentinel-s2-l2a-cogs/11/S/PC/2020/5/S2B_11SPC_20200523_0_L2A/B04.tif | aws s3 cp - s3://dev-et-data/usmart/RIO/sentinel-s2-l2a-cogs/S2B_11SPC_20200523_0_L2A_B04.tif\n"
     ]
    },
    {
     "name": "stderr",
     "output_type": "stream",
     "text": [
      "2021-09-23 03:14:50 URL:https://sentinel-cogs.s3.us-west-2.amazonaws.com/sentinel-s2-l2a-cogs/11/S/PC/2020/6/S2A_11SPC_20200624_0_L2A/B03.tif [198899162/198899162] -> \"-\" [1]\n",
      "2021-09-23 03:14:51 URL:https://sentinel-cogs.s3.us-west-2.amazonaws.com/sentinel-s2-l2a-cogs/11/S/PC/2020/6/S2A_11SPC_20200607_0_L2A/B04.tif [166042110/166042110] -> \"-\" [1]\n",
      "2021-09-23 03:14:51 URL:https://sentinel-cogs.s3.us-west-2.amazonaws.com/sentinel-s2-l2a-cogs/11/S/PC/2020/6/S2B_11SPC_20200602_0_L2A/B04.tif [146712141/146712141] -> \"-\" [1]\n",
      "2021-09-23 03:14:51 URL:https://sentinel-cogs.s3.us-west-2.amazonaws.com/sentinel-s2-l2a-cogs/11/S/PC/2020/6/S2A_11SPC_20200617_0_L2A/B03.tif [163847570/163847570] -> \"-\" [1]\n",
      "03:14:52: sending https://sentinel-cogs.s3.us-west-2.amazonaws.com/sentinel-s2-l2a-cogs/11/S/PC/2020/6/S2A_11SPC_20200607_0_L2A/B03.tif\n",
      "03:14:52: sending https://sentinel-cogs.s3.us-west-2.amazonaws.com/sentinel-s2-l2a-cogs/11/S/PC/2020/6/S2A_11SPC_20200624_0_L2A/B02.tif\n"
     ]
    },
    {
     "name": "stdout",
     "output_type": "stream",
     "text": [
      "\n",
      "\n",
      "wget this: %s https://sentinel-cogs.s3.us-west-2.amazonaws.com/sentinel-s2-l2a-cogs/11/S/PC/2020/6/S2A_11SPC_20200607_0_L2A/B03.tif\n",
      "wget -nv -O- https://sentinel-cogs.s3.us-west-2.amazonaws.com/sentinel-s2-l2a-cogs/11/S/PC/2020/6/S2A_11SPC_20200607_0_L2A/B03.tif | aws s3 cp - s3://dev-et-data/usmart/RIO/sentinel-s2-l2a-cogs/\n",
      "S2A_11SPC_20200607_0_L2A_B03.tif\n",
      "wget -nv -O- https://sentinel-cogs.s3.us-west-2.amazonaws.com/sentinel-s2-l2a-cogs/11/S/PC/2020/6/S2A_11SPC_20200607_0_L2A/B03.tif | aws s3 cp - s3://dev-et-data/usmart/RIO/sentinel-s2-l2a-cogs/S2A_11SPC_20200607_0_L2A_B03.tif\n",
      "\n",
      "\n",
      "wget this: %s https://sentinel-cogs.s3.us-west-2.amazonaws.com/sentinel-s2-l2a-cogs/11/S/PC/2020/6/S2A_11SPC_20200624_0_L2A/B02.tif\n",
      "wget -nv -O- https://sentinel-cogs.s3.us-west-2.amazonaws.com/sentinel-s2-l2a-cogs/11/S/PC/2020/6/S2A_11SPC_20200624_0_L2A/B02.tif | aws s3 cp - s3://dev-et-data/usmart/RIO/sentinel-s2-l2a-cogs/\n",
      "S2A_11SPC_20200624_0_L2A_B02.tif\n",
      "wget -nv -O- https://sentinel-cogs.s3.us-west-2.amazonaws.com/sentinel-s2-l2a-cogs/11/S/PC/2020/6/S2A_11SPC_20200624_0_L2A/B02.tif | aws s3 cp - s3://dev-et-data/usmart/RIO/sentinel-s2-l2a-cogs/S2A_11SPC_20200624_0_L2A_B02.tif\n"
     ]
    },
    {
     "name": "stderr",
     "output_type": "stream",
     "text": [
      "2021-09-23 03:14:52 URL:https://sentinel-cogs.s3.us-west-2.amazonaws.com/sentinel-s2-l2a-cogs/11/S/PC/2020/6/S2B_11SPC_20200609_0_L2A/B04.tif [203067734/203067734] -> \"-\" [1]\n",
      "2021-09-23 03:14:52 URL:https://sentinel-cogs.s3.us-west-2.amazonaws.com/sentinel-s2-l2a-cogs/11/S/PC/2020/6/S2A_11SPC_20200604_0_L2A/B04.tif [208090967/208090967] -> \"-\" [1]\n",
      "2021-09-23 03:14:52 URL:https://sentinel-cogs.s3.us-west-2.amazonaws.com/sentinel-s2-l2a-cogs/11/S/PC/2020/6/S2B_11SPC_20200622_0_L2A/B03.tif [166096741/166096741] -> \"-\" [1]\n",
      "03:14:52: sending https://sentinel-cogs.s3.us-west-2.amazonaws.com/sentinel-s2-l2a-cogs/11/S/PC/2020/6/S2B_11SPC_20200602_0_L2A/B03.tif\n",
      "03:14:52: sending https://sentinel-cogs.s3.us-west-2.amazonaws.com/sentinel-s2-l2a-cogs/11/S/PC/2020/6/S2B_11SPC_20200609_0_L2A/B03.tif\n"
     ]
    },
    {
     "name": "stdout",
     "output_type": "stream",
     "text": [
      "\n",
      "\n",
      "wget this: %s https://sentinel-cogs.s3.us-west-2.amazonaws.com/sentinel-s2-l2a-cogs/11/S/PC/2020/6/S2B_11SPC_20200602_0_L2A/B03.tif\n",
      "wget -nv -O- https://sentinel-cogs.s3.us-west-2.amazonaws.com/sentinel-s2-l2a-cogs/11/S/PC/2020/6/S2B_11SPC_20200602_0_L2A/B03.tif | aws s3 cp - s3://dev-et-data/usmart/RIO/sentinel-s2-l2a-cogs/\n",
      "S2B_11SPC_20200602_0_L2A_B03.tif\n",
      "wget -nv -O- https://sentinel-cogs.s3.us-west-2.amazonaws.com/sentinel-s2-l2a-cogs/11/S/PC/2020/6/S2B_11SPC_20200602_0_L2A/B03.tif | aws s3 cp - s3://dev-et-data/usmart/RIO/sentinel-s2-l2a-cogs/S2B_11SPC_20200602_0_L2A_B03.tif\n",
      "\n",
      "\n",
      "wget this: %s https://sentinel-cogs.s3.us-west-2.amazonaws.com/sentinel-s2-l2a-cogs/11/S/PC/2020/6/S2B_11SPC_20200609_0_L2A/B03.tif\n",
      "wget -nv -O- https://sentinel-cogs.s3.us-west-2.amazonaws.com/sentinel-s2-l2a-cogs/11/S/PC/2020/6/S2B_11SPC_20200609_0_L2A/B03.tif | aws s3 cp - s3://dev-et-data/usmart/RIO/sentinel-s2-l2a-cogs/\n",
      "S2B_11SPC_20200609_0_L2A_B03.tif\n",
      "wget -nv -O- https://sentinel-cogs.s3.us-west-2.amazonaws.com/sentinel-s2-l2a-cogs/11/S/PC/2020/6/S2B_11SPC_20200609_0_L2A/B03.tif | aws s3 cp - s3://dev-et-data/usmart/RIO/sentinel-s2-l2a-cogs/S2B_11SPC_20200609_0_L2A_B03.tif\n"
     ]
    },
    {
     "name": "stderr",
     "output_type": "stream",
     "text": [
      "03:14:53: sending https://sentinel-cogs.s3.us-west-2.amazonaws.com/sentinel-s2-l2a-cogs/11/S/PC/2020/6/S2A_11SPC_20200617_0_L2A/B02.tif\n"
     ]
    },
    {
     "name": "stdout",
     "output_type": "stream",
     "text": [
      "\n",
      "\n",
      "wget this: %s https://sentinel-cogs.s3.us-west-2.amazonaws.com/sentinel-s2-l2a-cogs/11/S/PC/2020/6/S2A_11SPC_20200617_0_L2A/B02.tif\n",
      "wget -nv -O- https://sentinel-cogs.s3.us-west-2.amazonaws.com/sentinel-s2-l2a-cogs/11/S/PC/2020/6/S2A_11SPC_20200617_0_L2A/B02.tif | aws s3 cp - s3://dev-et-data/usmart/RIO/sentinel-s2-l2a-cogs/\n",
      "S2A_11SPC_20200617_0_L2A_B02.tif\n",
      "wget -nv -O- https://sentinel-cogs.s3.us-west-2.amazonaws.com/sentinel-s2-l2a-cogs/11/S/PC/2020/6/S2A_11SPC_20200617_0_L2A/B02.tif | aws s3 cp - s3://dev-et-data/usmart/RIO/sentinel-s2-l2a-cogs/S2A_11SPC_20200617_0_L2A_B02.tif\n"
     ]
    },
    {
     "name": "stderr",
     "output_type": "stream",
     "text": [
      "03:14:53: sending https://sentinel-cogs.s3.us-west-2.amazonaws.com/sentinel-s2-l2a-cogs/11/S/PC/2020/6/S2B_11SPC_20200622_0_L2A/B02.tif\n",
      "03:14:53: sending https://sentinel-cogs.s3.us-west-2.amazonaws.com/sentinel-s2-l2a-cogs/11/S/PC/2020/6/S2A_11SPC_20200604_0_L2A/B03.tif\n"
     ]
    },
    {
     "name": "stdout",
     "output_type": "stream",
     "text": [
      "\n",
      "\n",
      "wget this: %s https://sentinel-cogs.s3.us-west-2.amazonaws.com/sentinel-s2-l2a-cogs/11/S/PC/2020/6/S2B_11SPC_20200622_0_L2A/B02.tif\n",
      "wget -nv -O- https://sentinel-cogs.s3.us-west-2.amazonaws.com/sentinel-s2-l2a-cogs/11/S/PC/2020/6/S2B_11SPC_20200622_0_L2A/B02.tif | aws s3 cp - s3://dev-et-data/usmart/RIO/sentinel-s2-l2a-cogs/\n",
      "S2B_11SPC_20200622_0_L2A_B02.tif\n",
      "wget -nv -O- https://sentinel-cogs.s3.us-west-2.amazonaws.com/sentinel-s2-l2a-cogs/11/S/PC/2020/6/S2B_11SPC_20200622_0_L2A/B02.tif | aws s3 cp - s3://dev-et-data/usmart/RIO/sentinel-s2-l2a-cogs/S2B_11SPC_20200622_0_L2A_B02.tif\n",
      "\n",
      "\n",
      "wget this: %s https://sentinel-cogs.s3.us-west-2.amazonaws.com/sentinel-s2-l2a-cogs/11/S/PC/2020/6/S2A_11SPC_20200604_0_L2A/B03.tif\n",
      "wget -nv -O- https://sentinel-cogs.s3.us-west-2.amazonaws.com/sentinel-s2-l2a-cogs/11/S/PC/2020/6/S2A_11SPC_20200604_0_L2A/B03.tif | aws s3 cp - s3://dev-et-data/usmart/RIO/sentinel-s2-l2a-cogs/\n",
      "S2A_11SPC_20200604_0_L2A_B03.tif\n",
      "wget -nv -O- https://sentinel-cogs.s3.us-west-2.amazonaws.com/sentinel-s2-l2a-cogs/11/S/PC/2020/6/S2A_11SPC_20200604_0_L2A/B03.tif | aws s3 cp - s3://dev-et-data/usmart/RIO/sentinel-s2-l2a-cogs/S2A_11SPC_20200604_0_L2A_B03.tif\n"
     ]
    },
    {
     "name": "stderr",
     "output_type": "stream",
     "text": [
      "2021-09-23 03:14:53 URL:https://sentinel-cogs.s3.us-west-2.amazonaws.com/sentinel-s2-l2a-cogs/11/S/PC/2020/5/S2B_11SPC_20200530_0_L2A/B04.tif [201140829/201140829] -> \"-\" [1]\n",
      "2021-09-23 03:14:53 URL:https://sentinel-cogs.s3.us-west-2.amazonaws.com/sentinel-s2-l2a-cogs/11/S/PC/2020/6/S2B_11SPC_20200612_0_L2A/B03.tif [145311248/145311248] -> \"-\" [1]\n",
      "03:14:54: sending https://sentinel-cogs.s3.us-west-2.amazonaws.com/sentinel-s2-l2a-cogs/11/S/PC/2020/5/S2B_11SPC_20200530_0_L2A/B03.tif\n",
      "03:14:54: sending https://sentinel-cogs.s3.us-west-2.amazonaws.com/sentinel-s2-l2a-cogs/11/S/PC/2020/6/S2B_11SPC_20200612_0_L2A/B02.tif\n"
     ]
    },
    {
     "name": "stdout",
     "output_type": "stream",
     "text": [
      "\n",
      "\n",
      "wget this: %s https://sentinel-cogs.s3.us-west-2.amazonaws.com/sentinel-s2-l2a-cogs/11/S/PC/2020/5/S2B_11SPC_20200530_0_L2A/B03.tif\n",
      "wget -nv -O- https://sentinel-cogs.s3.us-west-2.amazonaws.com/sentinel-s2-l2a-cogs/11/S/PC/2020/5/S2B_11SPC_20200530_0_L2A/B03.tif | aws s3 cp - s3://dev-et-data/usmart/RIO/sentinel-s2-l2a-cogs/\n",
      "S2B_11SPC_20200530_0_L2A_B03.tif\n",
      "wget -nv -O- https://sentinel-cogs.s3.us-west-2.amazonaws.com/sentinel-s2-l2a-cogs/11/S/PC/2020/5/S2B_11SPC_20200530_0_L2A/B03.tif | aws s3 cp - s3://dev-et-data/usmart/RIO/sentinel-s2-l2a-cogs/S2B_11SPC_20200530_0_L2A_B03.tif\n",
      "\n",
      "\n",
      "wget this: %s https://sentinel-cogs.s3.us-west-2.amazonaws.com/sentinel-s2-l2a-cogs/11/S/PC/2020/6/S2B_11SPC_20200612_0_L2A/B02.tif\n",
      "wget -nv -O- https://sentinel-cogs.s3.us-west-2.amazonaws.com/sentinel-s2-l2a-cogs/11/S/PC/2020/6/S2B_11SPC_20200612_0_L2A/B02.tif | aws s3 cp - s3://dev-et-data/usmart/RIO/sentinel-s2-l2a-cogs/\n",
      "S2B_11SPC_20200612_0_L2A_B02.tif\n",
      "wget -nv -O- https://sentinel-cogs.s3.us-west-2.amazonaws.com/sentinel-s2-l2a-cogs/11/S/PC/2020/6/S2B_11SPC_20200612_0_L2A/B02.tif | aws s3 cp - s3://dev-et-data/usmart/RIO/sentinel-s2-l2a-cogs/S2B_11SPC_20200612_0_L2A_B02.tif\n"
     ]
    },
    {
     "name": "stderr",
     "output_type": "stream",
     "text": [
      "2021-09-23 03:14:55 URL:https://sentinel-cogs.s3.us-west-2.amazonaws.com/sentinel-s2-l2a-cogs/11/S/PC/2020/6/S2B_11SPC_20200619_0_L2A/B03.tif [202023777/202023777] -> \"-\" [1]\n",
      "03:14:56: sending https://sentinel-cogs.s3.us-west-2.amazonaws.com/sentinel-s2-l2a-cogs/11/S/PC/2020/6/S2B_11SPC_20200619_0_L2A/B02.tif\n"
     ]
    },
    {
     "name": "stdout",
     "output_type": "stream",
     "text": [
      "\n",
      "\n",
      "wget this: %s https://sentinel-cogs.s3.us-west-2.amazonaws.com/sentinel-s2-l2a-cogs/11/S/PC/2020/6/S2B_11SPC_20200619_0_L2A/B02.tif\n",
      "wget -nv -O- https://sentinel-cogs.s3.us-west-2.amazonaws.com/sentinel-s2-l2a-cogs/11/S/PC/2020/6/S2B_11SPC_20200619_0_L2A/B02.tif | aws s3 cp - s3://dev-et-data/usmart/RIO/sentinel-s2-l2a-cogs/\n",
      "S2B_11SPC_20200619_0_L2A_B02.tif\n",
      "wget -nv -O- https://sentinel-cogs.s3.us-west-2.amazonaws.com/sentinel-s2-l2a-cogs/11/S/PC/2020/6/S2B_11SPC_20200619_0_L2A/B02.tif | aws s3 cp - s3://dev-et-data/usmart/RIO/sentinel-s2-l2a-cogs/S2B_11SPC_20200619_0_L2A_B02.tif\n"
     ]
    },
    {
     "name": "stderr",
     "output_type": "stream",
     "text": [
      "2021-09-23 03:14:56 URL:https://sentinel-cogs.s3.us-west-2.amazonaws.com/sentinel-s2-l2a-cogs/11/S/PC/2020/5/S2A_11SPC_20200528_0_L2A/B04.tif [165586790/165586790] -> \"-\" [1]\n",
      "03:14:57: sending https://sentinel-cogs.s3.us-west-2.amazonaws.com/sentinel-s2-l2a-cogs/11/S/PC/2020/5/S2A_11SPC_20200528_0_L2A/B03.tif\n"
     ]
    },
    {
     "name": "stdout",
     "output_type": "stream",
     "text": [
      "\n",
      "\n",
      "wget this: %s https://sentinel-cogs.s3.us-west-2.amazonaws.com/sentinel-s2-l2a-cogs/11/S/PC/2020/5/S2A_11SPC_20200528_0_L2A/B03.tif\n",
      "wget -nv -O- https://sentinel-cogs.s3.us-west-2.amazonaws.com/sentinel-s2-l2a-cogs/11/S/PC/2020/5/S2A_11SPC_20200528_0_L2A/B03.tif | aws s3 cp - s3://dev-et-data/usmart/RIO/sentinel-s2-l2a-cogs/\n",
      "S2A_11SPC_20200528_0_L2A_B03.tif\n",
      "wget -nv -O- https://sentinel-cogs.s3.us-west-2.amazonaws.com/sentinel-s2-l2a-cogs/11/S/PC/2020/5/S2A_11SPC_20200528_0_L2A/B03.tif | aws s3 cp - s3://dev-et-data/usmart/RIO/sentinel-s2-l2a-cogs/S2A_11SPC_20200528_0_L2A_B03.tif\n"
     ]
    },
    {
     "name": "stderr",
     "output_type": "stream",
     "text": [
      "2021-09-23 03:14:58 URL:https://sentinel-cogs.s3.us-west-2.amazonaws.com/sentinel-s2-l2a-cogs/11/S/PC/2020/6/S2A_11SPC_20200614_0_L2A/B03.tif [194146524/194146524] -> \"-\" [1]\n",
      "2021-09-23 03:14:58 URL:https://sentinel-cogs.s3.us-west-2.amazonaws.com/sentinel-s2-l2a-cogs/11/S/PC/2020/5/S2B_11SPC_20200523_0_L2A/B04.tif [167656794/167656794] -> \"-\" [1]\n",
      "2021-09-23 03:14:58 URL:https://sentinel-cogs.s3.us-west-2.amazonaws.com/sentinel-s2-l2a-cogs/11/S/PC/2020/5/S2A_11SPC_20200525_0_L2A/B04.tif [205246188/205246188] -> \"-\" [1]\n",
      "03:14:59: sending https://sentinel-cogs.s3.us-west-2.amazonaws.com/sentinel-s2-l2a-cogs/11/S/PC/2020/5/S2B_11SPC_20200523_0_L2A/B03.tif\n",
      "2021-09-23 03:14:59 URL:https://sentinel-cogs.s3.us-west-2.amazonaws.com/sentinel-s2-l2a-cogs/11/S/PC/2020/6/S2A_11SPC_20200627_0_L2A/B02.tif [164137321/164137321] -> \"-\" [1]\n",
      "03:14:59: sending https://sentinel-cogs.s3.us-west-2.amazonaws.com/sentinel-s2-l2a-cogs/11/S/PC/2020/6/S2A_11SPC_20200614_0_L2A/B02.tif\n",
      "03:14:59: sending https://sentinel-cogs.s3.us-west-2.amazonaws.com/sentinel-s2-l2a-cogs/11/S/PC/2020/5/S2A_11SPC_20200525_0_L2A/B03.tif\n"
     ]
    },
    {
     "name": "stdout",
     "output_type": "stream",
     "text": [
      "\n",
      "\n",
      "wget this: %s https://sentinel-cogs.s3.us-west-2.amazonaws.com/sentinel-s2-l2a-cogs/11/S/PC/2020/5/S2B_11SPC_20200523_0_L2A/B03.tif\n",
      "wget -nv -O- https://sentinel-cogs.s3.us-west-2.amazonaws.com/sentinel-s2-l2a-cogs/11/S/PC/2020/5/S2B_11SPC_20200523_0_L2A/B03.tif | aws s3 cp - s3://dev-et-data/usmart/RIO/sentinel-s2-l2a-cogs/\n",
      "S2B_11SPC_20200523_0_L2A_B03.tif\n",
      "wget -nv -O- https://sentinel-cogs.s3.us-west-2.amazonaws.com/sentinel-s2-l2a-cogs/11/S/PC/2020/5/S2B_11SPC_20200523_0_L2A/B03.tif | aws s3 cp - s3://dev-et-data/usmart/RIO/sentinel-s2-l2a-cogs/S2B_11SPC_20200523_0_L2A_B03.tif\n",
      "\n",
      "\n",
      "wget this: %s https://sentinel-cogs.s3.us-west-2.amazonaws.com/sentinel-s2-l2a-cogs/11/S/PC/2020/6/S2A_11SPC_20200614_0_L2A/B02.tif\n",
      "wget -nv -O- https://sentinel-cogs.s3.us-west-2.amazonaws.com/sentinel-s2-l2a-cogs/11/S/PC/2020/6/S2A_11SPC_20200614_0_L2A/B02.tif | aws s3 cp - s3://dev-et-data/usmart/RIO/sentinel-s2-l2a-cogs/\n",
      "S2A_11SPC_20200614_0_L2A_B02.tif\n",
      "wget -nv -O- https://sentinel-cogs.s3.us-west-2.amazonaws.com/sentinel-s2-l2a-cogs/11/S/PC/2020/6/S2A_11SPC_20200614_0_L2A/B02.tif | aws s3 cp - s3://dev-et-data/usmart/RIO/sentinel-s2-l2a-cogs/S2A_11SPC_20200614_0_L2A_B02.tif\n",
      "\n",
      "\n",
      "wget this: %s https://sentinel-cogs.s3.us-west-2.amazonaws.com/sentinel-s2-l2a-cogs/11/S/PC/2020/5/S2A_11SPC_20200525_0_L2A/B03.tif\n",
      "wget -nv -O- https://sentinel-cogs.s3.us-west-2.amazonaws.com/sentinel-s2-l2a-cogs/11/S/PC/2020/5/S2A_11SPC_20200525_0_L2A/B03.tif | aws s3 cp - s3://dev-et-data/usmart/RIO/sentinel-s2-l2a-cogs/\n",
      "S2A_11SPC_20200525_0_L2A_B03.tif\n",
      "wget -nv -O- https://sentinel-cogs.s3.us-west-2.amazonaws.com/sentinel-s2-l2a-cogs/11/S/PC/2020/5/S2A_11SPC_20200525_0_L2A/B03.tif | aws s3 cp - s3://dev-et-data/usmart/RIO/sentinel-s2-l2a-cogs/S2A_11SPC_20200525_0_L2A_B03.tif\n"
     ]
    },
    {
     "name": "stderr",
     "output_type": "stream",
     "text": [
      "2021-09-23 03:14:59 URL:https://sentinel-cogs.s3.us-west-2.amazonaws.com/sentinel-s2-l2a-cogs/11/S/PC/2020/6/S2B_11SPC_20200602_0_L2A/B03.tif [144473708/144473708] -> \"-\" [1]\n",
      "2021-09-23 03:14:59 URL:https://sentinel-cogs.s3.us-west-2.amazonaws.com/sentinel-s2-l2a-cogs/11/S/PC/2020/6/S2A_11SPC_20200607_0_L2A/B03.tif [164898393/164898393] -> \"-\" [1]\n",
      "03:15:00: Thread 75: finishing in 31 seconds\n",
      "03:15:00: xfer Thread 90: starting\n",
      "03:15:00: sending https://sentinel-cogs.s3.us-west-2.amazonaws.com/sentinel-s2-l2a-cogs/11/S/PC/2020/5/S2B_11SPC_20200520_0_L2A/B04.tif\n"
     ]
    },
    {
     "name": "stdout",
     "output_type": "stream",
     "text": [
      "\n",
      "\n",
      "wget this: %s https://sentinel-cogs.s3.us-west-2.amazonaws.com/sentinel-s2-l2a-cogs/11/S/PC/2020/5/S2B_11SPC_20200520_0_L2A/B04.tif\n",
      "wget -nv -O- https://sentinel-cogs.s3.us-west-2.amazonaws.com/sentinel-s2-l2a-cogs/11/S/PC/2020/5/S2B_11SPC_20200520_0_L2A/B04.tif | aws s3 cp - s3://dev-et-data/usmart/RIO/sentinel-s2-l2a-cogs/\n",
      "S2B_11SPC_20200520_0_L2A_B04.tif\n",
      "wget -nv -O- https://sentinel-cogs.s3.us-west-2.amazonaws.com/sentinel-s2-l2a-cogs/11/S/PC/2020/5/S2B_11SPC_20200520_0_L2A/B04.tif | aws s3 cp - s3://dev-et-data/usmart/RIO/sentinel-s2-l2a-cogs/S2B_11SPC_20200520_0_L2A_B04.tif\n"
     ]
    },
    {
     "name": "stderr",
     "output_type": "stream",
     "text": [
      "03:15:00: sending https://sentinel-cogs.s3.us-west-2.amazonaws.com/sentinel-s2-l2a-cogs/11/S/PC/2020/6/S2B_11SPC_20200602_0_L2A/B02.tif\n"
     ]
    },
    {
     "name": "stdout",
     "output_type": "stream",
     "text": [
      "\n",
      "\n",
      "wget this: %s https://sentinel-cogs.s3.us-west-2.amazonaws.com/sentinel-s2-l2a-cogs/11/S/PC/2020/6/S2B_11SPC_20200602_0_L2A/B02.tif\n",
      "wget -nv -O- https://sentinel-cogs.s3.us-west-2.amazonaws.com/sentinel-s2-l2a-cogs/11/S/PC/2020/6/S2B_11SPC_20200602_0_L2A/B02.tif | aws s3 cp - s3://dev-et-data/usmart/RIO/sentinel-s2-l2a-cogs/\n",
      "S2B_11SPC_20200602_0_L2A_B02.tif\n",
      "wget -nv -O- https://sentinel-cogs.s3.us-west-2.amazonaws.com/sentinel-s2-l2a-cogs/11/S/PC/2020/6/S2B_11SPC_20200602_0_L2A/B02.tif | aws s3 cp - s3://dev-et-data/usmart/RIO/sentinel-s2-l2a-cogs/S2B_11SPC_20200602_0_L2A_B02.tif\n"
     ]
    },
    {
     "name": "stderr",
     "output_type": "stream",
     "text": [
      "03:15:01: sending https://sentinel-cogs.s3.us-west-2.amazonaws.com/sentinel-s2-l2a-cogs/11/S/PC/2020/6/S2A_11SPC_20200607_0_L2A/B02.tif\n"
     ]
    },
    {
     "name": "stdout",
     "output_type": "stream",
     "text": [
      "\n",
      "\n",
      "wget this: %s https://sentinel-cogs.s3.us-west-2.amazonaws.com/sentinel-s2-l2a-cogs/11/S/PC/2020/6/S2A_11SPC_20200607_0_L2A/B02.tif\n",
      "wget -nv -O- https://sentinel-cogs.s3.us-west-2.amazonaws.com/sentinel-s2-l2a-cogs/11/S/PC/2020/6/S2A_11SPC_20200607_0_L2A/B02.tif | aws s3 cp - s3://dev-et-data/usmart/RIO/sentinel-s2-l2a-cogs/\n",
      "S2A_11SPC_20200607_0_L2A_B02.tif\n",
      "wget -nv -O- https://sentinel-cogs.s3.us-west-2.amazonaws.com/sentinel-s2-l2a-cogs/11/S/PC/2020/6/S2A_11SPC_20200607_0_L2A/B02.tif | aws s3 cp - s3://dev-et-data/usmart/RIO/sentinel-s2-l2a-cogs/S2A_11SPC_20200607_0_L2A_B02.tif\n"
     ]
    },
    {
     "name": "stderr",
     "output_type": "stream",
     "text": [
      "2021-09-23 03:15:01 URL:https://sentinel-cogs.s3.us-west-2.amazonaws.com/sentinel-s2-l2a-cogs/11/S/PC/2020/6/S2B_11SPC_20200622_0_L2A/B02.tif [166705979/166705979] -> \"-\" [1]\n",
      "03:15:02: Thread 77: finishing in 29 seconds\n",
      "03:15:02: xfer Thread 91: starting\n",
      "03:15:02: sending https://sentinel-cogs.s3.us-west-2.amazonaws.com/sentinel-s2-l2a-cogs/11/S/PC/2020/5/S2A_11SPC_20200518_0_L2A/B04.tif\n"
     ]
    },
    {
     "name": "stdout",
     "output_type": "stream",
     "text": [
      "\n",
      "\n",
      "wget this: %s https://sentinel-cogs.s3.us-west-2.amazonaws.com/sentinel-s2-l2a-cogs/11/S/PC/2020/5/S2A_11SPC_20200518_0_L2A/B04.tif\n",
      "wget -nv -O- https://sentinel-cogs.s3.us-west-2.amazonaws.com/sentinel-s2-l2a-cogs/11/S/PC/2020/5/S2A_11SPC_20200518_0_L2A/B04.tif | aws s3 cp - s3://dev-et-data/usmart/RIO/sentinel-s2-l2a-cogs/\n",
      "S2A_11SPC_20200518_0_L2A_B04.tif\n",
      "wget -nv -O- https://sentinel-cogs.s3.us-west-2.amazonaws.com/sentinel-s2-l2a-cogs/11/S/PC/2020/5/S2A_11SPC_20200518_0_L2A/B04.tif | aws s3 cp - s3://dev-et-data/usmart/RIO/sentinel-s2-l2a-cogs/S2A_11SPC_20200518_0_L2A_B04.tif\n"
     ]
    },
    {
     "name": "stderr",
     "output_type": "stream",
     "text": [
      "2021-09-23 03:15:03 URL:https://sentinel-cogs.s3.us-west-2.amazonaws.com/sentinel-s2-l2a-cogs/11/S/PC/2020/6/S2A_11SPC_20200624_0_L2A/B02.tif [199829195/199829195] -> \"-\" [1]\n",
      "2021-09-23 03:15:03 URL:https://sentinel-cogs.s3.us-west-2.amazonaws.com/sentinel-s2-l2a-cogs/11/S/PC/2020/6/S2B_11SPC_20200609_0_L2A/B03.tif [200232180/200232180] -> \"-\" [1]\n",
      "2021-09-23 03:15:03 URL:https://sentinel-cogs.s3.us-west-2.amazonaws.com/sentinel-s2-l2a-cogs/11/S/PC/2020/6/S2A_11SPC_20200604_0_L2A/B03.tif [205756009/205756009] -> \"-\" [1]\n",
      "03:15:04: Thread 76: finishing in 33 seconds\n",
      "03:15:04: xfer Thread 92: starting\n",
      "03:15:04: sending https://sentinel-cogs.s3.us-west-2.amazonaws.com/sentinel-s2-l2a-cogs/11/S/PC/2020/5/S2A_11SPC_20200515_0_L2A/B04.tif\n",
      "03:15:04: sending https://sentinel-cogs.s3.us-west-2.amazonaws.com/sentinel-s2-l2a-cogs/11/S/PC/2020/6/S2B_11SPC_20200609_0_L2A/B02.tif\n"
     ]
    },
    {
     "name": "stdout",
     "output_type": "stream",
     "text": [
      "\n",
      "\n",
      "wget this: %s https://sentinel-cogs.s3.us-west-2.amazonaws.com/sentinel-s2-l2a-cogs/11/S/PC/2020/5/S2A_11SPC_20200515_0_L2A/B04.tif\n",
      "wget -nv -O- https://sentinel-cogs.s3.us-west-2.amazonaws.com/sentinel-s2-l2a-cogs/11/S/PC/2020/5/S2A_11SPC_20200515_0_L2A/B04.tif | aws s3 cp - s3://dev-et-data/usmart/RIO/sentinel-s2-l2a-cogs/\n",
      "S2A_11SPC_20200515_0_L2A_B04.tif\n",
      "wget -nv -O- https://sentinel-cogs.s3.us-west-2.amazonaws.com/sentinel-s2-l2a-cogs/11/S/PC/2020/5/S2A_11SPC_20200515_0_L2A/B04.tif | aws s3 cp - s3://dev-et-data/usmart/RIO/sentinel-s2-l2a-cogs/S2A_11SPC_20200515_0_L2A_B04.tif\n",
      "\n",
      "\n",
      "wget this: %s https://sentinel-cogs.s3.us-west-2.amazonaws.com/sentinel-s2-l2a-cogs/11/S/PC/2020/6/S2B_11SPC_20200609_0_L2A/B02.tif\n",
      "wget -nv -O- https://sentinel-cogs.s3.us-west-2.amazonaws.com/sentinel-s2-l2a-cogs/11/S/PC/2020/6/S2B_11SPC_20200609_0_L2A/B02.tif | aws s3 cp - s3://dev-et-data/usmart/RIO/sentinel-s2-l2a-cogs/\n",
      "S2B_11SPC_20200609_0_L2A_B02.tif\n",
      "wget -nv -O- https://sentinel-cogs.s3.us-west-2.amazonaws.com/sentinel-s2-l2a-cogs/11/S/PC/2020/6/S2B_11SPC_20200609_0_L2A/B02.tif | aws s3 cp - s3://dev-et-data/usmart/RIO/sentinel-s2-l2a-cogs/S2B_11SPC_20200609_0_L2A_B02.tif\n"
     ]
    },
    {
     "name": "stderr",
     "output_type": "stream",
     "text": [
      "2021-09-23 03:15:04 URL:https://sentinel-cogs.s3.us-west-2.amazonaws.com/sentinel-s2-l2a-cogs/11/S/PC/2020/6/S2B_11SPC_20200612_0_L2A/B02.tif [146207485/146207485] -> \"-\" [1]\n",
      "03:15:04: sending https://sentinel-cogs.s3.us-west-2.amazonaws.com/sentinel-s2-l2a-cogs/11/S/PC/2020/6/S2A_11SPC_20200604_0_L2A/B02.tif\n",
      "2021-09-23 03:15:04 URL:https://sentinel-cogs.s3.us-west-2.amazonaws.com/sentinel-s2-l2a-cogs/11/S/PC/2020/6/S2A_11SPC_20200617_0_L2A/B02.tif [164709019/164709019] -> \"-\" [1]\n"
     ]
    },
    {
     "name": "stdout",
     "output_type": "stream",
     "text": [
      "\n",
      "\n",
      "wget this: %s https://sentinel-cogs.s3.us-west-2.amazonaws.com/sentinel-s2-l2a-cogs/11/S/PC/2020/6/S2A_11SPC_20200604_0_L2A/B02.tif\n",
      "wget -nv -O- https://sentinel-cogs.s3.us-west-2.amazonaws.com/sentinel-s2-l2a-cogs/11/S/PC/2020/6/S2A_11SPC_20200604_0_L2A/B02.tif | aws s3 cp - s3://dev-et-data/usmart/RIO/sentinel-s2-l2a-cogs/\n",
      "S2A_11SPC_20200604_0_L2A_B02.tif\n",
      "wget -nv -O- https://sentinel-cogs.s3.us-west-2.amazonaws.com/sentinel-s2-l2a-cogs/11/S/PC/2020/6/S2A_11SPC_20200604_0_L2A/B02.tif | aws s3 cp - s3://dev-et-data/usmart/RIO/sentinel-s2-l2a-cogs/S2A_11SPC_20200604_0_L2A_B02.tif\n"
     ]
    },
    {
     "name": "stderr",
     "output_type": "stream",
     "text": [
      "03:15:05: Thread 79: finishing in 32 seconds\n",
      "03:15:05: xfer Thread 93: starting\n",
      "03:15:05: sending https://sentinel-cogs.s3.us-west-2.amazonaws.com/sentinel-s2-l2a-cogs/11/S/PC/2020/5/S2B_11SPC_20200513_0_L2A/B04.tif\n"
     ]
    },
    {
     "name": "stdout",
     "output_type": "stream",
     "text": [
      "\n",
      "\n",
      "wget this: %s https://sentinel-cogs.s3.us-west-2.amazonaws.com/sentinel-s2-l2a-cogs/11/S/PC/2020/5/S2B_11SPC_20200513_0_L2A/B04.tif\n",
      "wget -nv -O- https://sentinel-cogs.s3.us-west-2.amazonaws.com/sentinel-s2-l2a-cogs/11/S/PC/2020/5/S2B_11SPC_20200513_0_L2A/B04.tif | aws s3 cp - s3://dev-et-data/usmart/RIO/sentinel-s2-l2a-cogs/\n",
      "S2B_11SPC_20200513_0_L2A_B04.tif\n",
      "wget -nv -O- https://sentinel-cogs.s3.us-west-2.amazonaws.com/sentinel-s2-l2a-cogs/11/S/PC/2020/5/S2B_11SPC_20200513_0_L2A/B04.tif | aws s3 cp - s3://dev-et-data/usmart/RIO/sentinel-s2-l2a-cogs/S2B_11SPC_20200513_0_L2A_B04.tif\n"
     ]
    },
    {
     "name": "stderr",
     "output_type": "stream",
     "text": [
      "03:15:05: Thread 81: finishing in 29 seconds\n",
      "03:15:05: xfer Thread 94: starting\n",
      "03:15:05: sending https://sentinel-cogs.s3.us-west-2.amazonaws.com/sentinel-s2-l2a-cogs/11/S/PC/2020/5/S2B_11SPC_20200510_0_L2A/B04.tif\n"
     ]
    },
    {
     "name": "stdout",
     "output_type": "stream",
     "text": [
      "\n",
      "\n",
      "wget this: %s https://sentinel-cogs.s3.us-west-2.amazonaws.com/sentinel-s2-l2a-cogs/11/S/PC/2020/5/S2B_11SPC_20200510_0_L2A/B04.tif\n",
      "wget -nv -O- https://sentinel-cogs.s3.us-west-2.amazonaws.com/sentinel-s2-l2a-cogs/11/S/PC/2020/5/S2B_11SPC_20200510_0_L2A/B04.tif | aws s3 cp - s3://dev-et-data/usmart/RIO/sentinel-s2-l2a-cogs/\n",
      "S2B_11SPC_20200510_0_L2A_B04.tif\n",
      "wget -nv -O- https://sentinel-cogs.s3.us-west-2.amazonaws.com/sentinel-s2-l2a-cogs/11/S/PC/2020/5/S2B_11SPC_20200510_0_L2A/B04.tif | aws s3 cp - s3://dev-et-data/usmart/RIO/sentinel-s2-l2a-cogs/S2B_11SPC_20200510_0_L2A_B04.tif\n"
     ]
    },
    {
     "name": "stderr",
     "output_type": "stream",
     "text": [
      "2021-09-23 03:15:06 URL:https://sentinel-cogs.s3.us-west-2.amazonaws.com/sentinel-s2-l2a-cogs/11/S/PC/2020/5/S2B_11SPC_20200530_0_L2A/B03.tif [199154348/199154348] -> \"-\" [1]\n",
      "2021-09-23 03:15:07 URL:https://sentinel-cogs.s3.us-west-2.amazonaws.com/sentinel-s2-l2a-cogs/11/S/PC/2020/6/S2B_11SPC_20200619_0_L2A/B02.tif [202840486/202840486] -> \"-\" [1]\n",
      "03:15:07: sending https://sentinel-cogs.s3.us-west-2.amazonaws.com/sentinel-s2-l2a-cogs/11/S/PC/2020/5/S2B_11SPC_20200530_0_L2A/B02.tif\n"
     ]
    },
    {
     "name": "stdout",
     "output_type": "stream",
     "text": [
      "\n",
      "\n",
      "wget this: %s https://sentinel-cogs.s3.us-west-2.amazonaws.com/sentinel-s2-l2a-cogs/11/S/PC/2020/5/S2B_11SPC_20200530_0_L2A/B02.tif\n",
      "wget -nv -O- https://sentinel-cogs.s3.us-west-2.amazonaws.com/sentinel-s2-l2a-cogs/11/S/PC/2020/5/S2B_11SPC_20200530_0_L2A/B02.tif | aws s3 cp - s3://dev-et-data/usmart/RIO/sentinel-s2-l2a-cogs/\n",
      "S2B_11SPC_20200530_0_L2A_B02.tif\n",
      "wget -nv -O- https://sentinel-cogs.s3.us-west-2.amazonaws.com/sentinel-s2-l2a-cogs/11/S/PC/2020/5/S2B_11SPC_20200530_0_L2A/B02.tif | aws s3 cp - s3://dev-et-data/usmart/RIO/sentinel-s2-l2a-cogs/S2B_11SPC_20200530_0_L2A_B02.tif\n"
     ]
    },
    {
     "name": "stderr",
     "output_type": "stream",
     "text": [
      "2021-09-23 03:15:07 URL:https://sentinel-cogs.s3.us-west-2.amazonaws.com/sentinel-s2-l2a-cogs/11/S/PC/2020/5/S2B_11SPC_20200523_0_L2A/B03.tif [166526101/166526101] -> \"-\" [1]\n",
      "03:15:08: Thread 78: finishing in 35 seconds\n",
      "03:15:08: xfer Thread 95: starting\n",
      "03:15:08: sending https://sentinel-cogs.s3.us-west-2.amazonaws.com/sentinel-s2-l2a-cogs/11/S/PC/2020/5/S2A_11SPC_20200508_0_L2A/B04.tif\n"
     ]
    },
    {
     "name": "stdout",
     "output_type": "stream",
     "text": [
      "\n",
      "\n",
      "wget this: %s https://sentinel-cogs.s3.us-west-2.amazonaws.com/sentinel-s2-l2a-cogs/11/S/PC/2020/5/S2A_11SPC_20200508_0_L2A/B04.tif\n",
      "wget -nv -O- https://sentinel-cogs.s3.us-west-2.amazonaws.com/sentinel-s2-l2a-cogs/11/S/PC/2020/5/S2A_11SPC_20200508_0_L2A/B04.tif | aws s3 cp - s3://dev-et-data/usmart/RIO/sentinel-s2-l2a-cogs/\n",
      "S2A_11SPC_20200508_0_L2A_B04.tif\n",
      "wget -nv -O- https://sentinel-cogs.s3.us-west-2.amazonaws.com/sentinel-s2-l2a-cogs/11/S/PC/2020/5/S2A_11SPC_20200508_0_L2A/B04.tif | aws s3 cp - s3://dev-et-data/usmart/RIO/sentinel-s2-l2a-cogs/S2A_11SPC_20200508_0_L2A_B04.tif\n"
     ]
    },
    {
     "name": "stderr",
     "output_type": "stream",
     "text": [
      "03:15:09: sending https://sentinel-cogs.s3.us-west-2.amazonaws.com/sentinel-s2-l2a-cogs/11/S/PC/2020/5/S2B_11SPC_20200523_0_L2A/B02.tif\n"
     ]
    },
    {
     "name": "stdout",
     "output_type": "stream",
     "text": [
      "\n",
      "\n",
      "wget this: %s https://sentinel-cogs.s3.us-west-2.amazonaws.com/sentinel-s2-l2a-cogs/11/S/PC/2020/5/S2B_11SPC_20200523_0_L2A/B02.tif\n",
      "wget -nv -O- https://sentinel-cogs.s3.us-west-2.amazonaws.com/sentinel-s2-l2a-cogs/11/S/PC/2020/5/S2B_11SPC_20200523_0_L2A/B02.tif | aws s3 cp - s3://dev-et-data/usmart/RIO/sentinel-s2-l2a-cogs/\n",
      "S2B_11SPC_20200523_0_L2A_B02.tif\n",
      "wget -nv -O- https://sentinel-cogs.s3.us-west-2.amazonaws.com/sentinel-s2-l2a-cogs/11/S/PC/2020/5/S2B_11SPC_20200523_0_L2A/B02.tif | aws s3 cp - s3://dev-et-data/usmart/RIO/sentinel-s2-l2a-cogs/S2B_11SPC_20200523_0_L2A_B02.tif\n"
     ]
    },
    {
     "name": "stderr",
     "output_type": "stream",
     "text": [
      "2021-09-23 03:15:09 URL:https://sentinel-cogs.s3.us-west-2.amazonaws.com/sentinel-s2-l2a-cogs/11/S/PC/2020/5/S2A_11SPC_20200528_0_L2A/B03.tif [164250074/164250074] -> \"-\" [1]\n",
      "2021-09-23 03:15:09 URL:https://sentinel-cogs.s3.us-west-2.amazonaws.com/sentinel-s2-l2a-cogs/11/S/PC/2020/6/S2B_11SPC_20200602_0_L2A/B02.tif [144191095/144191095] -> \"-\" [1]\n",
      "2021-09-23 03:15:09 URL:https://sentinel-cogs.s3.us-west-2.amazonaws.com/sentinel-s2-l2a-cogs/11/S/PC/2020/5/S2A_11SPC_20200525_0_L2A/B03.tif [202490243/202490243] -> \"-\" [1]\n",
      "2021-09-23 03:15:10 URL:https://sentinel-cogs.s3.us-west-2.amazonaws.com/sentinel-s2-l2a-cogs/11/S/PC/2020/6/S2A_11SPC_20200607_0_L2A/B02.tif [166183251/166183251] -> \"-\" [1]\n",
      "03:15:10: sending https://sentinel-cogs.s3.us-west-2.amazonaws.com/sentinel-s2-l2a-cogs/11/S/PC/2020/5/S2A_11SPC_20200528_0_L2A/B02.tif\n",
      "03:15:10: Thread 85: finishing in 26 seconds\n",
      "03:15:10: xfer Thread 96: starting\n",
      "03:15:10: sending https://sentinel-cogs.s3.us-west-2.amazonaws.com/sentinel-s2-l2a-cogs/11/S/PC/2020/5/S2A_11SPC_20200505_0_L2A/B04.tif\n",
      "03:15:10: sending https://sentinel-cogs.s3.us-west-2.amazonaws.com/sentinel-s2-l2a-cogs/11/S/PC/2020/5/S2A_11SPC_20200525_0_L2A/B02.tif\n"
     ]
    },
    {
     "name": "stdout",
     "output_type": "stream",
     "text": [
      "\n",
      "\n",
      "wget this: %s https://sentinel-cogs.s3.us-west-2.amazonaws.com/sentinel-s2-l2a-cogs/11/S/PC/2020/5/S2A_11SPC_20200528_0_L2A/B02.tif\n",
      "wget -nv -O- https://sentinel-cogs.s3.us-west-2.amazonaws.com/sentinel-s2-l2a-cogs/11/S/PC/2020/5/S2A_11SPC_20200528_0_L2A/B02.tif | aws s3 cp - s3://dev-et-data/usmart/RIO/sentinel-s2-l2a-cogs/\n",
      "S2A_11SPC_20200528_0_L2A_B02.tif\n",
      "wget -nv -O- https://sentinel-cogs.s3.us-west-2.amazonaws.com/sentinel-s2-l2a-cogs/11/S/PC/2020/5/S2A_11SPC_20200528_0_L2A/B02.tif | aws s3 cp - s3://dev-et-data/usmart/RIO/sentinel-s2-l2a-cogs/S2A_11SPC_20200528_0_L2A_B02.tif\n",
      "\n",
      "\n",
      "wget this: %s https://sentinel-cogs.s3.us-west-2.amazonaws.com/sentinel-s2-l2a-cogs/11/S/PC/2020/5/S2A_11SPC_20200505_0_L2A/B04.tif\n",
      "wget -nv -O- https://sentinel-cogs.s3.us-west-2.amazonaws.com/sentinel-s2-l2a-cogs/11/S/PC/2020/5/S2A_11SPC_20200505_0_L2A/B04.tif | aws s3 cp - s3://dev-et-data/usmart/RIO/sentinel-s2-l2a-cogs/\n",
      "S2A_11SPC_20200505_0_L2A_B04.tif\n",
      "wget -nv -O- https://sentinel-cogs.s3.us-west-2.amazonaws.com/sentinel-s2-l2a-cogs/11/S/PC/2020/5/S2A_11SPC_20200505_0_L2A/B04.tif | aws s3 cp - s3://dev-et-data/usmart/RIO/sentinel-s2-l2a-cogs/S2A_11SPC_20200505_0_L2A_B04.tif\n",
      "\n",
      "\n",
      "wget this: %s https://sentinel-cogs.s3.us-west-2.amazonaws.com/sentinel-s2-l2a-cogs/11/S/PC/2020/5/S2A_11SPC_20200525_0_L2A/B02.tif\n",
      "wget -nv -O- https://sentinel-cogs.s3.us-west-2.amazonaws.com/sentinel-s2-l2a-cogs/11/S/PC/2020/5/S2A_11SPC_20200525_0_L2A/B02.tif | aws s3 cp - s3://dev-et-data/usmart/RIO/sentinel-s2-l2a-cogs/\n",
      "S2A_11SPC_20200525_0_L2A_B02.tif\n",
      "wget -nv -O- https://sentinel-cogs.s3.us-west-2.amazonaws.com/sentinel-s2-l2a-cogs/11/S/PC/2020/5/S2A_11SPC_20200525_0_L2A/B02.tif | aws s3 cp - s3://dev-et-data/usmart/RIO/sentinel-s2-l2a-cogs/S2A_11SPC_20200525_0_L2A_B02.tif\n"
     ]
    },
    {
     "name": "stderr",
     "output_type": "stream",
     "text": [
      "03:15:11: Thread 83: finishing in 30 seconds\n",
      "03:15:11: xfer Thread 97: starting\n",
      "03:15:11: sending https://sentinel-cogs.s3.us-west-2.amazonaws.com/sentinel-s2-l2a-cogs/11/S/PC/2020/5/S2A_11SPC_20200505_1_L2A/B04.tif\n"
     ]
    },
    {
     "name": "stdout",
     "output_type": "stream",
     "text": [
      "\n",
      "\n",
      "wget this: %s https://sentinel-cogs.s3.us-west-2.amazonaws.com/sentinel-s2-l2a-cogs/11/S/PC/2020/5/S2A_11SPC_20200505_1_L2A/B04.tif\n",
      "wget -nv -O- https://sentinel-cogs.s3.us-west-2.amazonaws.com/sentinel-s2-l2a-cogs/11/S/PC/2020/5/S2A_11SPC_20200505_1_L2A/B04.tif | aws s3 cp - s3://dev-et-data/usmart/RIO/sentinel-s2-l2a-cogs/\n",
      "S2A_11SPC_20200505_1_L2A_B04.tif\n",
      "wget -nv -O- https://sentinel-cogs.s3.us-west-2.amazonaws.com/sentinel-s2-l2a-cogs/11/S/PC/2020/5/S2A_11SPC_20200505_1_L2A/B04.tif | aws s3 cp - s3://dev-et-data/usmart/RIO/sentinel-s2-l2a-cogs/S2A_11SPC_20200505_1_L2A_B04.tif\n"
     ]
    },
    {
     "name": "stderr",
     "output_type": "stream",
     "text": [
      "2021-09-23 03:15:11 URL:https://sentinel-cogs.s3.us-west-2.amazonaws.com/sentinel-s2-l2a-cogs/11/S/PC/2020/6/S2A_11SPC_20200614_0_L2A/B02.tif [195393019/195393019] -> \"-\" [1]\n",
      "2021-09-23 03:15:11 URL:https://sentinel-cogs.s3.us-west-2.amazonaws.com/sentinel-s2-l2a-cogs/11/S/PC/2020/5/S2B_11SPC_20200520_0_L2A/B04.tif [184695003/184695003] -> \"-\" [1]\n",
      "03:15:12: Thread 80: finishing in 37 seconds\n",
      "03:15:12: xfer Thread 98: starting\n",
      "03:15:12: sending https://sentinel-cogs.s3.us-west-2.amazonaws.com/sentinel-s2-l2a-cogs/11/S/PC/2020/5/S2B_11SPC_20200503_0_L2A/B04.tif\n"
     ]
    },
    {
     "name": "stdout",
     "output_type": "stream",
     "text": [
      "\n",
      "\n",
      "wget this: %s https://sentinel-cogs.s3.us-west-2.amazonaws.com/sentinel-s2-l2a-cogs/11/S/PC/2020/5/S2B_11SPC_20200503_0_L2A/B04.tif\n",
      "wget -nv -O- https://sentinel-cogs.s3.us-west-2.amazonaws.com/sentinel-s2-l2a-cogs/11/S/PC/2020/5/S2B_11SPC_20200503_0_L2A/B04.tif | aws s3 cp - s3://dev-et-data/usmart/RIO/sentinel-s2-l2a-cogs/\n",
      "S2B_11SPC_20200503_0_L2A_B04.tif\n",
      "wget -nv -O- https://sentinel-cogs.s3.us-west-2.amazonaws.com/sentinel-s2-l2a-cogs/11/S/PC/2020/5/S2B_11SPC_20200503_0_L2A/B04.tif | aws s3 cp - s3://dev-et-data/usmart/RIO/sentinel-s2-l2a-cogs/S2B_11SPC_20200503_0_L2A_B04.tif\n"
     ]
    },
    {
     "name": "stderr",
     "output_type": "stream",
     "text": [
      "2021-09-23 03:15:12 URL:https://sentinel-cogs.s3.us-west-2.amazonaws.com/sentinel-s2-l2a-cogs/11/S/PC/2020/5/S2A_11SPC_20200518_0_L2A/B04.tif [144093418/144093418] -> \"-\" [1]\n",
      "03:15:13: sending https://sentinel-cogs.s3.us-west-2.amazonaws.com/sentinel-s2-l2a-cogs/11/S/PC/2020/5/S2B_11SPC_20200520_0_L2A/B03.tif\n"
     ]
    },
    {
     "name": "stdout",
     "output_type": "stream",
     "text": [
      "\n",
      "\n",
      "wget this: %s https://sentinel-cogs.s3.us-west-2.amazonaws.com/sentinel-s2-l2a-cogs/11/S/PC/2020/5/S2B_11SPC_20200520_0_L2A/B03.tif\n",
      "wget -nv -O- https://sentinel-cogs.s3.us-west-2.amazonaws.com/sentinel-s2-l2a-cogs/11/S/PC/2020/5/S2B_11SPC_20200520_0_L2A/B03.tif | aws s3 cp - s3://dev-et-data/usmart/RIO/sentinel-s2-l2a-cogs/\n",
      "S2B_11SPC_20200520_0_L2A_B03.tif\n",
      "wget -nv -O- https://sentinel-cogs.s3.us-west-2.amazonaws.com/sentinel-s2-l2a-cogs/11/S/PC/2020/5/S2B_11SPC_20200520_0_L2A/B03.tif | aws s3 cp - s3://dev-et-data/usmart/RIO/sentinel-s2-l2a-cogs/S2B_11SPC_20200520_0_L2A_B03.tif\n"
     ]
    },
    {
     "name": "stderr",
     "output_type": "stream",
     "text": [
      "03:15:13: sending https://sentinel-cogs.s3.us-west-2.amazonaws.com/sentinel-s2-l2a-cogs/11/S/PC/2020/5/S2A_11SPC_20200518_0_L2A/B03.tif\n"
     ]
    },
    {
     "name": "stdout",
     "output_type": "stream",
     "text": [
      "\n",
      "\n",
      "wget this: %s https://sentinel-cogs.s3.us-west-2.amazonaws.com/sentinel-s2-l2a-cogs/11/S/PC/2020/5/S2A_11SPC_20200518_0_L2A/B03.tif\n",
      "wget -nv -O- https://sentinel-cogs.s3.us-west-2.amazonaws.com/sentinel-s2-l2a-cogs/11/S/PC/2020/5/S2A_11SPC_20200518_0_L2A/B03.tif | aws s3 cp - s3://dev-et-data/usmart/RIO/sentinel-s2-l2a-cogs/\n",
      "S2A_11SPC_20200518_0_L2A_B03.tif\n",
      "wget -nv -O- https://sentinel-cogs.s3.us-west-2.amazonaws.com/sentinel-s2-l2a-cogs/11/S/PC/2020/5/S2A_11SPC_20200518_0_L2A/B03.tif | aws s3 cp - s3://dev-et-data/usmart/RIO/sentinel-s2-l2a-cogs/S2A_11SPC_20200518_0_L2A_B03.tif\n"
     ]
    },
    {
     "name": "stderr",
     "output_type": "stream",
     "text": [
      "2021-09-23 03:15:14 URL:https://sentinel-cogs.s3.us-west-2.amazonaws.com/sentinel-s2-l2a-cogs/11/S/PC/2020/5/S2B_11SPC_20200513_0_L2A/B04.tif [160363913/160363913] -> \"-\" [1]\n",
      "2021-09-23 03:15:14 URL:https://sentinel-cogs.s3.us-west-2.amazonaws.com/sentinel-s2-l2a-cogs/11/S/PC/2020/6/S2B_11SPC_20200609_0_L2A/B02.tif [200652549/200652549] -> \"-\" [1]\n",
      "2021-09-23 03:15:15 URL:https://sentinel-cogs.s3.us-west-2.amazonaws.com/sentinel-s2-l2a-cogs/11/S/PC/2020/5/S2A_11SPC_20200515_0_L2A/B04.tif [206526954/206526954] -> \"-\" [1]\n",
      "2021-09-23 03:15:15 URL:https://sentinel-cogs.s3.us-west-2.amazonaws.com/sentinel-s2-l2a-cogs/11/S/PC/2020/6/S2A_11SPC_20200604_0_L2A/B02.tif [206085579/206085579] -> \"-\" [1]\n",
      "03:15:15: sending https://sentinel-cogs.s3.us-west-2.amazonaws.com/sentinel-s2-l2a-cogs/11/S/PC/2020/5/S2B_11SPC_20200513_0_L2A/B03.tif\n"
     ]
    },
    {
     "name": "stdout",
     "output_type": "stream",
     "text": [
      "\n",
      "\n",
      "wget this: %s https://sentinel-cogs.s3.us-west-2.amazonaws.com/sentinel-s2-l2a-cogs/11/S/PC/2020/5/S2B_11SPC_20200513_0_L2A/B03.tif\n",
      "wget -nv -O- https://sentinel-cogs.s3.us-west-2.amazonaws.com/sentinel-s2-l2a-cogs/11/S/PC/2020/5/S2B_11SPC_20200513_0_L2A/B03.tif | aws s3 cp - s3://dev-et-data/usmart/RIO/sentinel-s2-l2a-cogs/\n",
      "S2B_11SPC_20200513_0_L2A_B03.tif\n",
      "wget -nv -O- https://sentinel-cogs.s3.us-west-2.amazonaws.com/sentinel-s2-l2a-cogs/11/S/PC/2020/5/S2B_11SPC_20200513_0_L2A/B03.tif | aws s3 cp - s3://dev-et-data/usmart/RIO/sentinel-s2-l2a-cogs/S2B_11SPC_20200513_0_L2A_B03.tif\n"
     ]
    },
    {
     "name": "stderr",
     "output_type": "stream",
     "text": [
      "03:15:15: Thread 82: finishing in 36 seconds\n",
      "03:15:15: xfer Thread 99: starting\n",
      "03:15:15: sending https://sentinel-cogs.s3.us-west-2.amazonaws.com/sentinel-s2-l2a-cogs/11/S/PC/2020/4/S2B_11SPC_20200430_0_L2A/B04.tif\n",
      "03:15:15: Thread 84: finishing in 33 seconds\n",
      "03:15:15: xfer Thread 100: starting\n",
      "03:15:15: sending https://sentinel-cogs.s3.us-west-2.amazonaws.com/sentinel-s2-l2a-cogs/11/S/PC/2020/4/S2A_11SPC_20200428_0_L2A/B04.tif\n",
      "03:15:15: sending https://sentinel-cogs.s3.us-west-2.amazonaws.com/sentinel-s2-l2a-cogs/11/S/PC/2020/5/S2A_11SPC_20200515_0_L2A/B03.tif\n"
     ]
    },
    {
     "name": "stdout",
     "output_type": "stream",
     "text": [
      "\n",
      "\n",
      "wget this: %s https://sentinel-cogs.s3.us-west-2.amazonaws.com/sentinel-s2-l2a-cogs/11/S/PC/2020/4/S2B_11SPC_20200430_0_L2A/B04.tif\n",
      "wget -nv -O- https://sentinel-cogs.s3.us-west-2.amazonaws.com/sentinel-s2-l2a-cogs/11/S/PC/2020/4/S2B_11SPC_20200430_0_L2A/B04.tif | aws s3 cp - s3://dev-et-data/usmart/RIO/sentinel-s2-l2a-cogs/\n",
      "S2B_11SPC_20200430_0_L2A_B04.tif\n",
      "wget -nv -O- https://sentinel-cogs.s3.us-west-2.amazonaws.com/sentinel-s2-l2a-cogs/11/S/PC/2020/4/S2B_11SPC_20200430_0_L2A/B04.tif | aws s3 cp - s3://dev-et-data/usmart/RIO/sentinel-s2-l2a-cogs/S2B_11SPC_20200430_0_L2A_B04.tif\n",
      "\n",
      "\n",
      "wget this: %s https://sentinel-cogs.s3.us-west-2.amazonaws.com/sentinel-s2-l2a-cogs/11/S/PC/2020/4/S2A_11SPC_20200428_0_L2A/B04.tif\n",
      "wget -nv -O- https://sentinel-cogs.s3.us-west-2.amazonaws.com/sentinel-s2-l2a-cogs/11/S/PC/2020/4/S2A_11SPC_20200428_0_L2A/B04.tif | aws s3 cp - s3://dev-et-data/usmart/RIO/sentinel-s2-l2a-cogs/\n",
      "S2A_11SPC_20200428_0_L2A_B04.tif\n",
      "wget -nv -O- https://sentinel-cogs.s3.us-west-2.amazonaws.com/sentinel-s2-l2a-cogs/11/S/PC/2020/4/S2A_11SPC_20200428_0_L2A/B04.tif | aws s3 cp - s3://dev-et-data/usmart/RIO/sentinel-s2-l2a-cogs/S2A_11SPC_20200428_0_L2A_B04.tif\n",
      "\n",
      "\n",
      "wget this: %s https://sentinel-cogs.s3.us-west-2.amazonaws.com/sentinel-s2-l2a-cogs/11/S/PC/2020/5/S2A_11SPC_20200515_0_L2A/B03.tif\n",
      "wget -nv -O- https://sentinel-cogs.s3.us-west-2.amazonaws.com/sentinel-s2-l2a-cogs/11/S/PC/2020/5/S2A_11SPC_20200515_0_L2A/B03.tif | aws s3 cp - s3://dev-et-data/usmart/RIO/sentinel-s2-l2a-cogs/\n",
      "S2A_11SPC_20200515_0_L2A_B03.tif\n",
      "wget -nv -O- https://sentinel-cogs.s3.us-west-2.amazonaws.com/sentinel-s2-l2a-cogs/11/S/PC/2020/5/S2A_11SPC_20200515_0_L2A/B03.tif | aws s3 cp - s3://dev-et-data/usmart/RIO/sentinel-s2-l2a-cogs/S2A_11SPC_20200515_0_L2A_B03.tif\n"
     ]
    },
    {
     "name": "stderr",
     "output_type": "stream",
     "text": [
      "2021-09-23 03:15:16 URL:https://sentinel-cogs.s3.us-west-2.amazonaws.com/sentinel-s2-l2a-cogs/11/S/PC/2020/5/S2B_11SPC_20200530_0_L2A/B02.tif [199507965/199507965] -> \"-\" [1]\n",
      "03:15:17: Thread 86: finishing in 32 seconds\n",
      "03:15:17: xfer Thread 101: starting\n",
      "03:15:17: sending https://sentinel-cogs.s3.us-west-2.amazonaws.com/sentinel-s2-l2a-cogs/11/S/PC/2020/4/S2A_11SPC_20200425_0_L2A/B04.tif\n"
     ]
    },
    {
     "name": "stdout",
     "output_type": "stream",
     "text": [
      "\n",
      "\n",
      "wget this: %s https://sentinel-cogs.s3.us-west-2.amazonaws.com/sentinel-s2-l2a-cogs/11/S/PC/2020/4/S2A_11SPC_20200425_0_L2A/B04.tif\n",
      "wget -nv -O- https://sentinel-cogs.s3.us-west-2.amazonaws.com/sentinel-s2-l2a-cogs/11/S/PC/2020/4/S2A_11SPC_20200425_0_L2A/B04.tif | aws s3 cp - s3://dev-et-data/usmart/RIO/sentinel-s2-l2a-cogs/\n",
      "S2A_11SPC_20200425_0_L2A_B04.tif\n",
      "wget -nv -O- https://sentinel-cogs.s3.us-west-2.amazonaws.com/sentinel-s2-l2a-cogs/11/S/PC/2020/4/S2A_11SPC_20200425_0_L2A/B04.tif | aws s3 cp - s3://dev-et-data/usmart/RIO/sentinel-s2-l2a-cogs/S2A_11SPC_20200425_0_L2A_B04.tif\n"
     ]
    },
    {
     "name": "stderr",
     "output_type": "stream",
     "text": [
      "2021-09-23 03:15:17 URL:https://sentinel-cogs.s3.us-west-2.amazonaws.com/sentinel-s2-l2a-cogs/11/S/PC/2020/5/S2A_11SPC_20200505_1_L2A/B04.tif [87636252/87636252] -> \"-\" [1]\n",
      "2021-09-23 03:15:17 URL:https://sentinel-cogs.s3.us-west-2.amazonaws.com/sentinel-s2-l2a-cogs/11/S/PC/2020/5/S2B_11SPC_20200510_0_L2A/B04.tif [205260011/205260011] -> \"-\" [1]\n",
      "2021-09-23 03:15:17 URL:https://sentinel-cogs.s3.us-west-2.amazonaws.com/sentinel-s2-l2a-cogs/11/S/PC/2020/5/S2A_11SPC_20200508_0_L2A/B04.tif [165629353/165629353] -> \"-\" [1]\n",
      "03:15:18: sending https://sentinel-cogs.s3.us-west-2.amazonaws.com/sentinel-s2-l2a-cogs/11/S/PC/2020/5/S2A_11SPC_20200505_1_L2A/B03.tif\n",
      "03:15:18: sending https://sentinel-cogs.s3.us-west-2.amazonaws.com/sentinel-s2-l2a-cogs/11/S/PC/2020/5/S2B_11SPC_20200510_0_L2A/B03.tif\n"
     ]
    },
    {
     "name": "stdout",
     "output_type": "stream",
     "text": [
      "\n",
      "\n",
      "wget this: %s https://sentinel-cogs.s3.us-west-2.amazonaws.com/sentinel-s2-l2a-cogs/11/S/PC/2020/5/S2A_11SPC_20200505_1_L2A/B03.tif\n",
      "wget -nv -O- https://sentinel-cogs.s3.us-west-2.amazonaws.com/sentinel-s2-l2a-cogs/11/S/PC/2020/5/S2A_11SPC_20200505_1_L2A/B03.tif | aws s3 cp - s3://dev-et-data/usmart/RIO/sentinel-s2-l2a-cogs/\n",
      "S2A_11SPC_20200505_1_L2A_B03.tif\n",
      "wget -nv -O- https://sentinel-cogs.s3.us-west-2.amazonaws.com/sentinel-s2-l2a-cogs/11/S/PC/2020/5/S2A_11SPC_20200505_1_L2A/B03.tif | aws s3 cp - s3://dev-et-data/usmart/RIO/sentinel-s2-l2a-cogs/S2A_11SPC_20200505_1_L2A_B03.tif\n",
      "\n",
      "\n",
      "wget this: %s https://sentinel-cogs.s3.us-west-2.amazonaws.com/sentinel-s2-l2a-cogs/11/S/PC/2020/5/S2B_11SPC_20200510_0_L2A/B03.tif\n",
      "wget -nv -O- https://sentinel-cogs.s3.us-west-2.amazonaws.com/sentinel-s2-l2a-cogs/11/S/PC/2020/5/S2B_11SPC_20200510_0_L2A/B03.tif | aws s3 cp - s3://dev-et-data/usmart/RIO/sentinel-s2-l2a-cogs/\n",
      "S2B_11SPC_20200510_0_L2A_B03.tif\n",
      "wget -nv -O- https://sentinel-cogs.s3.us-west-2.amazonaws.com/sentinel-s2-l2a-cogs/11/S/PC/2020/5/S2B_11SPC_20200510_0_L2A/B03.tif | aws s3 cp - s3://dev-et-data/usmart/RIO/sentinel-s2-l2a-cogs/S2B_11SPC_20200510_0_L2A_B03.tif\n"
     ]
    },
    {
     "name": "stderr",
     "output_type": "stream",
     "text": [
      "2021-09-23 03:15:18 URL:https://sentinel-cogs.s3.us-west-2.amazonaws.com/sentinel-s2-l2a-cogs/11/S/PC/2020/5/S2B_11SPC_20200523_0_L2A/B02.tif [167763043/167763043] -> \"-\" [1]\n",
      "03:15:18: sending https://sentinel-cogs.s3.us-west-2.amazonaws.com/sentinel-s2-l2a-cogs/11/S/PC/2020/5/S2A_11SPC_20200508_0_L2A/B03.tif\n"
     ]
    },
    {
     "name": "stdout",
     "output_type": "stream",
     "text": [
      "\n",
      "\n",
      "wget this: %s https://sentinel-cogs.s3.us-west-2.amazonaws.com/sentinel-s2-l2a-cogs/11/S/PC/2020/5/S2A_11SPC_20200508_0_L2A/B03.tif\n",
      "wget -nv -O- https://sentinel-cogs.s3.us-west-2.amazonaws.com/sentinel-s2-l2a-cogs/11/S/PC/2020/5/S2A_11SPC_20200508_0_L2A/B03.tif | aws s3 cp - s3://dev-et-data/usmart/RIO/sentinel-s2-l2a-cogs/\n",
      "S2A_11SPC_20200508_0_L2A_B03.tif\n",
      "wget -nv -O- https://sentinel-cogs.s3.us-west-2.amazonaws.com/sentinel-s2-l2a-cogs/11/S/PC/2020/5/S2A_11SPC_20200508_0_L2A/B03.tif | aws s3 cp - s3://dev-et-data/usmart/RIO/sentinel-s2-l2a-cogs/S2A_11SPC_20200508_0_L2A_B03.tif\n"
     ]
    },
    {
     "name": "stderr",
     "output_type": "stream",
     "text": [
      "03:15:19: Thread 89: finishing in 29 seconds\n",
      "03:15:19: xfer Thread 102: starting\n",
      "03:15:19: sending https://sentinel-cogs.s3.us-west-2.amazonaws.com/sentinel-s2-l2a-cogs/11/S/PC/2020/4/S2B_11SPC_20200423_0_L2A/B04.tif\n"
     ]
    },
    {
     "name": "stdout",
     "output_type": "stream",
     "text": [
      "\n",
      "\n",
      "wget this: %s https://sentinel-cogs.s3.us-west-2.amazonaws.com/sentinel-s2-l2a-cogs/11/S/PC/2020/4/S2B_11SPC_20200423_0_L2A/B04.tif\n",
      "wget -nv -O- https://sentinel-cogs.s3.us-west-2.amazonaws.com/sentinel-s2-l2a-cogs/11/S/PC/2020/4/S2B_11SPC_20200423_0_L2A/B04.tif | aws s3 cp - s3://dev-et-data/usmart/RIO/sentinel-s2-l2a-cogs/\n",
      "S2B_11SPC_20200423_0_L2A_B04.tif\n",
      "wget -nv -O- https://sentinel-cogs.s3.us-west-2.amazonaws.com/sentinel-s2-l2a-cogs/11/S/PC/2020/4/S2B_11SPC_20200423_0_L2A/B04.tif | aws s3 cp - s3://dev-et-data/usmart/RIO/sentinel-s2-l2a-cogs/S2B_11SPC_20200423_0_L2A_B04.tif\n"
     ]
    },
    {
     "name": "stderr",
     "output_type": "stream",
     "text": [
      "2021-09-23 03:15:20 URL:https://sentinel-cogs.s3.us-west-2.amazonaws.com/sentinel-s2-l2a-cogs/11/S/PC/2020/5/S2A_11SPC_20200525_0_L2A/B02.tif [203689552/203689552] -> \"-\" [1]\n",
      "2021-09-23 03:15:21 URL:https://sentinel-cogs.s3.us-west-2.amazonaws.com/sentinel-s2-l2a-cogs/11/S/PC/2020/5/S2A_11SPC_20200505_0_L2A/B04.tif [156046604/156046604] -> \"-\" [1]\n",
      "03:15:21: Thread 88: finishing in 33 seconds\n",
      "03:15:21: xfer Thread 103: starting\n",
      "03:15:21: sending https://sentinel-cogs.s3.us-west-2.amazonaws.com/sentinel-s2-l2a-cogs/11/S/PC/2020/4/S2B_11SPC_20200420_0_L2A/B04.tif\n"
     ]
    },
    {
     "name": "stdout",
     "output_type": "stream",
     "text": [
      "\n",
      "\n",
      "wget this: %s https://sentinel-cogs.s3.us-west-2.amazonaws.com/sentinel-s2-l2a-cogs/11/S/PC/2020/4/S2B_11SPC_20200420_0_L2A/B04.tif\n",
      "wget -nv -O- https://sentinel-cogs.s3.us-west-2.amazonaws.com/sentinel-s2-l2a-cogs/11/S/PC/2020/4/S2B_11SPC_20200420_0_L2A/B04.tif | aws s3 cp - s3://dev-et-data/usmart/RIO/sentinel-s2-l2a-cogs/\n",
      "S2B_11SPC_20200420_0_L2A_B04.tif\n",
      "wget -nv -O- https://sentinel-cogs.s3.us-west-2.amazonaws.com/sentinel-s2-l2a-cogs/11/S/PC/2020/4/S2B_11SPC_20200420_0_L2A/B04.tif | aws s3 cp - s3://dev-et-data/usmart/RIO/sentinel-s2-l2a-cogs/S2B_11SPC_20200420_0_L2A_B04.tif\n"
     ]
    },
    {
     "name": "stderr",
     "output_type": "stream",
     "text": [
      "2021-09-23 03:15:21 URL:https://sentinel-cogs.s3.us-west-2.amazonaws.com/sentinel-s2-l2a-cogs/11/S/PC/2020/5/S2A_11SPC_20200528_0_L2A/B02.tif [165341389/165341389] -> \"-\" [1]\n",
      "2021-09-23 03:15:22 URL:https://sentinel-cogs.s3.us-west-2.amazonaws.com/sentinel-s2-l2a-cogs/11/S/PC/2020/5/S2A_11SPC_20200518_0_L2A/B03.tif [143998231/143998231] -> \"-\" [1]\n",
      "03:15:22: sending https://sentinel-cogs.s3.us-west-2.amazonaws.com/sentinel-s2-l2a-cogs/11/S/PC/2020/5/S2A_11SPC_20200505_0_L2A/B03.tif\n"
     ]
    },
    {
     "name": "stdout",
     "output_type": "stream",
     "text": [
      "\n",
      "\n",
      "wget this: %s https://sentinel-cogs.s3.us-west-2.amazonaws.com/sentinel-s2-l2a-cogs/11/S/PC/2020/5/S2A_11SPC_20200505_0_L2A/B03.tif\n",
      "wget -nv -O- https://sentinel-cogs.s3.us-west-2.amazonaws.com/sentinel-s2-l2a-cogs/11/S/PC/2020/5/S2A_11SPC_20200505_0_L2A/B03.tif | aws s3 cp - s3://dev-et-data/usmart/RIO/sentinel-s2-l2a-cogs/\n",
      "S2A_11SPC_20200505_0_L2A_B03.tif\n",
      "wget -nv -O- https://sentinel-cogs.s3.us-west-2.amazonaws.com/sentinel-s2-l2a-cogs/11/S/PC/2020/5/S2A_11SPC_20200505_0_L2A/B03.tif | aws s3 cp - s3://dev-et-data/usmart/RIO/sentinel-s2-l2a-cogs/S2A_11SPC_20200505_0_L2A_B03.tif\n"
     ]
    },
    {
     "name": "stderr",
     "output_type": "stream",
     "text": [
      "2021-09-23 03:15:22 URL:https://sentinel-cogs.s3.us-west-2.amazonaws.com/sentinel-s2-l2a-cogs/11/S/PC/2020/5/S2B_11SPC_20200520_0_L2A/B03.tif [184469321/184469321] -> \"-\" [1]\n",
      "03:15:22: Thread 87: finishing in 36 seconds\n",
      "03:15:22: xfer Thread 104: starting\n",
      "03:15:22: sending https://sentinel-cogs.s3.us-west-2.amazonaws.com/sentinel-s2-l2a-cogs/11/S/PC/2020/4/S2A_11SPC_20200418_0_L2A/B04.tif\n"
     ]
    },
    {
     "name": "stdout",
     "output_type": "stream",
     "text": [
      "\n",
      "\n",
      "wget this: %s https://sentinel-cogs.s3.us-west-2.amazonaws.com/sentinel-s2-l2a-cogs/11/S/PC/2020/4/S2A_11SPC_20200418_0_L2A/B04.tif\n",
      "wget -nv -O- https://sentinel-cogs.s3.us-west-2.amazonaws.com/sentinel-s2-l2a-cogs/11/S/PC/2020/4/S2A_11SPC_20200418_0_L2A/B04.tif | aws s3 cp - s3://dev-et-data/usmart/RIO/sentinel-s2-l2a-cogs/\n",
      "S2A_11SPC_20200418_0_L2A_B04.tif\n",
      "wget -nv -O- https://sentinel-cogs.s3.us-west-2.amazonaws.com/sentinel-s2-l2a-cogs/11/S/PC/2020/4/S2A_11SPC_20200418_0_L2A/B04.tif | aws s3 cp - s3://dev-et-data/usmart/RIO/sentinel-s2-l2a-cogs/S2A_11SPC_20200418_0_L2A_B04.tif\n"
     ]
    },
    {
     "name": "stderr",
     "output_type": "stream",
     "text": [
      "03:15:23: sending https://sentinel-cogs.s3.us-west-2.amazonaws.com/sentinel-s2-l2a-cogs/11/S/PC/2020/5/S2A_11SPC_20200518_0_L2A/B02.tif\n"
     ]
    },
    {
     "name": "stdout",
     "output_type": "stream",
     "text": [
      "\n",
      "\n",
      "wget this: %s https://sentinel-cogs.s3.us-west-2.amazonaws.com/sentinel-s2-l2a-cogs/11/S/PC/2020/5/S2A_11SPC_20200518_0_L2A/B02.tif\n",
      "wget -nv -O- https://sentinel-cogs.s3.us-west-2.amazonaws.com/sentinel-s2-l2a-cogs/11/S/PC/2020/5/S2A_11SPC_20200518_0_L2A/B02.tif | aws s3 cp - s3://dev-et-data/usmart/RIO/sentinel-s2-l2a-cogs/\n",
      "S2A_11SPC_20200518_0_L2A_B02.tif\n",
      "wget -nv -O- https://sentinel-cogs.s3.us-west-2.amazonaws.com/sentinel-s2-l2a-cogs/11/S/PC/2020/5/S2A_11SPC_20200518_0_L2A/B02.tif | aws s3 cp - s3://dev-et-data/usmart/RIO/sentinel-s2-l2a-cogs/S2A_11SPC_20200518_0_L2A_B02.tif\n"
     ]
    },
    {
     "name": "stderr",
     "output_type": "stream",
     "text": [
      "03:15:23: sending https://sentinel-cogs.s3.us-west-2.amazonaws.com/sentinel-s2-l2a-cogs/11/S/PC/2020/5/S2B_11SPC_20200520_0_L2A/B02.tif\n"
     ]
    },
    {
     "name": "stdout",
     "output_type": "stream",
     "text": [
      "\n",
      "\n",
      "wget this: %s https://sentinel-cogs.s3.us-west-2.amazonaws.com/sentinel-s2-l2a-cogs/11/S/PC/2020/5/S2B_11SPC_20200520_0_L2A/B02.tif\n",
      "wget -nv -O- https://sentinel-cogs.s3.us-west-2.amazonaws.com/sentinel-s2-l2a-cogs/11/S/PC/2020/5/S2B_11SPC_20200520_0_L2A/B02.tif | aws s3 cp - s3://dev-et-data/usmart/RIO/sentinel-s2-l2a-cogs/\n",
      "S2B_11SPC_20200520_0_L2A_B02.tif\n",
      "wget -nv -O- https://sentinel-cogs.s3.us-west-2.amazonaws.com/sentinel-s2-l2a-cogs/11/S/PC/2020/5/S2B_11SPC_20200520_0_L2A/B02.tif | aws s3 cp - s3://dev-et-data/usmart/RIO/sentinel-s2-l2a-cogs/S2B_11SPC_20200520_0_L2A_B02.tif\n"
     ]
    },
    {
     "name": "stderr",
     "output_type": "stream",
     "text": [
      "2021-09-23 03:15:23 URL:https://sentinel-cogs.s3.us-west-2.amazonaws.com/sentinel-s2-l2a-cogs/11/S/PC/2020/5/S2B_11SPC_20200503_0_L2A/B04.tif [168090422/168090422] -> \"-\" [1]\n",
      "2021-09-23 03:15:24 URL:https://sentinel-cogs.s3.us-west-2.amazonaws.com/sentinel-s2-l2a-cogs/11/S/PC/2020/4/S2A_11SPC_20200428_0_L2A/B04.tif [166452671/166452671] -> \"-\" [1]\n",
      "2021-09-23 03:15:25 URL:https://sentinel-cogs.s3.us-west-2.amazonaws.com/sentinel-s2-l2a-cogs/11/S/PC/2020/5/S2B_11SPC_20200513_0_L2A/B03.tif [158453403/158453403] -> \"-\" [1]\n",
      "2021-09-23 03:15:25 URL:https://sentinel-cogs.s3.us-west-2.amazonaws.com/sentinel-s2-l2a-cogs/11/S/PC/2020/5/S2A_11SPC_20200505_1_L2A/B03.tif [86853147/86853147] -> \"-\" [1]\n",
      "03:15:25: sending https://sentinel-cogs.s3.us-west-2.amazonaws.com/sentinel-s2-l2a-cogs/11/S/PC/2020/5/S2B_11SPC_20200503_0_L2A/B03.tif\n",
      "03:15:25: sending https://sentinel-cogs.s3.us-west-2.amazonaws.com/sentinel-s2-l2a-cogs/11/S/PC/2020/4/S2A_11SPC_20200428_0_L2A/B03.tif\n"
     ]
    },
    {
     "name": "stdout",
     "output_type": "stream",
     "text": [
      "\n",
      "\n",
      "wget this: %s https://sentinel-cogs.s3.us-west-2.amazonaws.com/sentinel-s2-l2a-cogs/11/S/PC/2020/5/S2B_11SPC_20200503_0_L2A/B03.tif\n",
      "wget -nv -O- https://sentinel-cogs.s3.us-west-2.amazonaws.com/sentinel-s2-l2a-cogs/11/S/PC/2020/5/S2B_11SPC_20200503_0_L2A/B03.tif | aws s3 cp - s3://dev-et-data/usmart/RIO/sentinel-s2-l2a-cogs/\n",
      "S2B_11SPC_20200503_0_L2A_B03.tif\n",
      "wget -nv -O- https://sentinel-cogs.s3.us-west-2.amazonaws.com/sentinel-s2-l2a-cogs/11/S/PC/2020/5/S2B_11SPC_20200503_0_L2A/B03.tif | aws s3 cp - s3://dev-et-data/usmart/RIO/sentinel-s2-l2a-cogs/S2B_11SPC_20200503_0_L2A_B03.tif\n",
      "\n",
      "\n",
      "wget this: %s https://sentinel-cogs.s3.us-west-2.amazonaws.com/sentinel-s2-l2a-cogs/11/S/PC/2020/4/S2A_11SPC_20200428_0_L2A/B03.tif\n",
      "wget -nv -O- https://sentinel-cogs.s3.us-west-2.amazonaws.com/sentinel-s2-l2a-cogs/11/S/PC/2020/4/S2A_11SPC_20200428_0_L2A/B03.tif | aws s3 cp - s3://dev-et-data/usmart/RIO/sentinel-s2-l2a-cogs/\n",
      "S2A_11SPC_20200428_0_L2A_B03.tif\n",
      "wget -nv -O- https://sentinel-cogs.s3.us-west-2.amazonaws.com/sentinel-s2-l2a-cogs/11/S/PC/2020/4/S2A_11SPC_20200428_0_L2A/B03.tif | aws s3 cp - s3://dev-et-data/usmart/RIO/sentinel-s2-l2a-cogs/S2A_11SPC_20200428_0_L2A_B03.tif\n"
     ]
    },
    {
     "name": "stderr",
     "output_type": "stream",
     "text": [
      "2021-09-23 03:15:25 URL:https://sentinel-cogs.s3.us-west-2.amazonaws.com/sentinel-s2-l2a-cogs/11/S/PC/2020/4/S2B_11SPC_20200430_0_L2A/B04.tif [205561758/205561758] -> \"-\" [1]\n",
      "03:15:26: sending https://sentinel-cogs.s3.us-west-2.amazonaws.com/sentinel-s2-l2a-cogs/11/S/PC/2020/5/S2A_11SPC_20200505_1_L2A/B02.tif\n",
      "03:15:26: sending https://sentinel-cogs.s3.us-west-2.amazonaws.com/sentinel-s2-l2a-cogs/11/S/PC/2020/5/S2B_11SPC_20200513_0_L2A/B02.tif\n"
     ]
    },
    {
     "name": "stdout",
     "output_type": "stream",
     "text": [
      "\n",
      "\n",
      "wget this: %s https://sentinel-cogs.s3.us-west-2.amazonaws.com/sentinel-s2-l2a-cogs/11/S/PC/2020/5/S2A_11SPC_20200505_1_L2A/B02.tif\n",
      "wget -nv -O- https://sentinel-cogs.s3.us-west-2.amazonaws.com/sentinel-s2-l2a-cogs/11/S/PC/2020/5/S2A_11SPC_20200505_1_L2A/B02.tif | aws s3 cp - s3://dev-et-data/usmart/RIO/sentinel-s2-l2a-cogs/\n",
      "S2A_11SPC_20200505_1_L2A_B02.tif\n",
      "wget -nv -O- https://sentinel-cogs.s3.us-west-2.amazonaws.com/sentinel-s2-l2a-cogs/11/S/PC/2020/5/S2A_11SPC_20200505_1_L2A/B02.tif | aws s3 cp - s3://dev-et-data/usmart/RIO/sentinel-s2-l2a-cogs/S2A_11SPC_20200505_1_L2A_B02.tif\n",
      "\n",
      "\n",
      "wget this: %s https://sentinel-cogs.s3.us-west-2.amazonaws.com/sentinel-s2-l2a-cogs/11/S/PC/2020/5/S2B_11SPC_20200513_0_L2A/B02.tif\n",
      "wget -nv -O- https://sentinel-cogs.s3.us-west-2.amazonaws.com/sentinel-s2-l2a-cogs/11/S/PC/2020/5/S2B_11SPC_20200513_0_L2A/B02.tif | aws s3 cp - s3://dev-et-data/usmart/RIO/sentinel-s2-l2a-cogs/\n",
      "S2B_11SPC_20200513_0_L2A_B02.tif\n",
      "wget -nv -O- https://sentinel-cogs.s3.us-west-2.amazonaws.com/sentinel-s2-l2a-cogs/11/S/PC/2020/5/S2B_11SPC_20200513_0_L2A/B02.tif | aws s3 cp - s3://dev-et-data/usmart/RIO/sentinel-s2-l2a-cogs/S2B_11SPC_20200513_0_L2A_B02.tif\n"
     ]
    },
    {
     "name": "stderr",
     "output_type": "stream",
     "text": [
      "2021-09-23 03:15:26 URL:https://sentinel-cogs.s3.us-west-2.amazonaws.com/sentinel-s2-l2a-cogs/11/S/PC/2020/5/S2A_11SPC_20200515_0_L2A/B03.tif [203955528/203955528] -> \"-\" [1]\n",
      "03:15:26: sending https://sentinel-cogs.s3.us-west-2.amazonaws.com/sentinel-s2-l2a-cogs/11/S/PC/2020/4/S2B_11SPC_20200430_0_L2A/B03.tif\n",
      "03:15:26: sending https://sentinel-cogs.s3.us-west-2.amazonaws.com/sentinel-s2-l2a-cogs/11/S/PC/2020/5/S2A_11SPC_20200515_0_L2A/B02.tif\n"
     ]
    },
    {
     "name": "stdout",
     "output_type": "stream",
     "text": [
      "\n",
      "\n",
      "wget this: %s https://sentinel-cogs.s3.us-west-2.amazonaws.com/sentinel-s2-l2a-cogs/11/S/PC/2020/4/S2B_11SPC_20200430_0_L2A/B03.tif\n",
      "wget -nv -O- https://sentinel-cogs.s3.us-west-2.amazonaws.com/sentinel-s2-l2a-cogs/11/S/PC/2020/4/S2B_11SPC_20200430_0_L2A/B03.tif | aws s3 cp - s3://dev-et-data/usmart/RIO/sentinel-s2-l2a-cogs/\n",
      "S2B_11SPC_20200430_0_L2A_B03.tif\n",
      "wget -nv -O- https://sentinel-cogs.s3.us-west-2.amazonaws.com/sentinel-s2-l2a-cogs/11/S/PC/2020/4/S2B_11SPC_20200430_0_L2A/B03.tif | aws s3 cp - s3://dev-et-data/usmart/RIO/sentinel-s2-l2a-cogs/S2B_11SPC_20200430_0_L2A_B03.tif\n",
      "\n",
      "\n",
      "wget this: %s https://sentinel-cogs.s3.us-west-2.amazonaws.com/sentinel-s2-l2a-cogs/11/S/PC/2020/5/S2A_11SPC_20200515_0_L2A/B02.tif\n",
      "wget -nv -O- https://sentinel-cogs.s3.us-west-2.amazonaws.com/sentinel-s2-l2a-cogs/11/S/PC/2020/5/S2A_11SPC_20200515_0_L2A/B02.tif | aws s3 cp - s3://dev-et-data/usmart/RIO/sentinel-s2-l2a-cogs/\n",
      "S2A_11SPC_20200515_0_L2A_B02.tif\n",
      "wget -nv -O- https://sentinel-cogs.s3.us-west-2.amazonaws.com/sentinel-s2-l2a-cogs/11/S/PC/2020/5/S2A_11SPC_20200515_0_L2A/B02.tif | aws s3 cp - s3://dev-et-data/usmart/RIO/sentinel-s2-l2a-cogs/S2A_11SPC_20200515_0_L2A_B02.tif\n"
     ]
    },
    {
     "name": "stderr",
     "output_type": "stream",
     "text": [
      "2021-09-23 03:15:27 URL:https://sentinel-cogs.s3.us-west-2.amazonaws.com/sentinel-s2-l2a-cogs/11/S/PC/2020/5/S2A_11SPC_20200508_0_L2A/B03.tif [163964733/163964733] -> \"-\" [1]\n",
      "2021-09-23 03:15:27 URL:https://sentinel-cogs.s3.us-west-2.amazonaws.com/sentinel-s2-l2a-cogs/11/S/PC/2020/4/S2A_11SPC_20200425_0_L2A/B04.tif [193315046/193315046] -> \"-\" [1]\n",
      "03:15:28: sending https://sentinel-cogs.s3.us-west-2.amazonaws.com/sentinel-s2-l2a-cogs/11/S/PC/2020/5/S2A_11SPC_20200508_0_L2A/B02.tif\n"
     ]
    },
    {
     "name": "stdout",
     "output_type": "stream",
     "text": [
      "\n",
      "\n",
      "wget this: %s https://sentinel-cogs.s3.us-west-2.amazonaws.com/sentinel-s2-l2a-cogs/11/S/PC/2020/5/S2A_11SPC_20200508_0_L2A/B02.tif\n",
      "wget -nv -O- https://sentinel-cogs.s3.us-west-2.amazonaws.com/sentinel-s2-l2a-cogs/11/S/PC/2020/5/S2A_11SPC_20200508_0_L2A/B02.tif | aws s3 cp - s3://dev-et-data/usmart/RIO/sentinel-s2-l2a-cogs/\n",
      "S2A_11SPC_20200508_0_L2A_B02.tif\n",
      "wget -nv -O- https://sentinel-cogs.s3.us-west-2.amazonaws.com/sentinel-s2-l2a-cogs/11/S/PC/2020/5/S2A_11SPC_20200508_0_L2A/B02.tif | aws s3 cp - s3://dev-et-data/usmart/RIO/sentinel-s2-l2a-cogs/S2A_11SPC_20200508_0_L2A_B02.tif\n"
     ]
    },
    {
     "name": "stderr",
     "output_type": "stream",
     "text": [
      "03:15:29: sending https://sentinel-cogs.s3.us-west-2.amazonaws.com/sentinel-s2-l2a-cogs/11/S/PC/2020/4/S2A_11SPC_20200425_0_L2A/B03.tif\n"
     ]
    },
    {
     "name": "stdout",
     "output_type": "stream",
     "text": [
      "\n",
      "\n",
      "wget this: %s https://sentinel-cogs.s3.us-west-2.amazonaws.com/sentinel-s2-l2a-cogs/11/S/PC/2020/4/S2A_11SPC_20200425_0_L2A/B03.tif\n",
      "wget -nv -O- https://sentinel-cogs.s3.us-west-2.amazonaws.com/sentinel-s2-l2a-cogs/11/S/PC/2020/4/S2A_11SPC_20200425_0_L2A/B03.tif | aws s3 cp - s3://dev-et-data/usmart/RIO/sentinel-s2-l2a-cogs/\n",
      "S2A_11SPC_20200425_0_L2A_B03.tif\n",
      "wget -nv -O- https://sentinel-cogs.s3.us-west-2.amazonaws.com/sentinel-s2-l2a-cogs/11/S/PC/2020/4/S2A_11SPC_20200425_0_L2A/B03.tif | aws s3 cp - s3://dev-et-data/usmart/RIO/sentinel-s2-l2a-cogs/S2A_11SPC_20200425_0_L2A_B03.tif\n"
     ]
    },
    {
     "name": "stderr",
     "output_type": "stream",
     "text": [
      "2021-09-23 03:15:29 URL:https://sentinel-cogs.s3.us-west-2.amazonaws.com/sentinel-s2-l2a-cogs/11/S/PC/2020/5/S2B_11SPC_20200510_0_L2A/B03.tif [203577007/203577007] -> \"-\" [1]\n",
      "2021-09-23 03:15:30 URL:https://sentinel-cogs.s3.us-west-2.amazonaws.com/sentinel-s2-l2a-cogs/11/S/PC/2020/4/S2B_11SPC_20200423_0_L2A/B04.tif [173041733/173041733] -> \"-\" [1]\n",
      "03:15:30: sending https://sentinel-cogs.s3.us-west-2.amazonaws.com/sentinel-s2-l2a-cogs/11/S/PC/2020/4/S2B_11SPC_20200423_0_L2A/B03.tif\n"
     ]
    },
    {
     "name": "stdout",
     "output_type": "stream",
     "text": [
      "\n",
      "\n",
      "wget this: %s https://sentinel-cogs.s3.us-west-2.amazonaws.com/sentinel-s2-l2a-cogs/11/S/PC/2020/4/S2B_11SPC_20200423_0_L2A/B03.tif\n",
      "wget -nv -O- https://sentinel-cogs.s3.us-west-2.amazonaws.com/sentinel-s2-l2a-cogs/11/S/PC/2020/4/S2B_11SPC_20200423_0_L2A/B03.tif | aws s3 cp - s3://dev-et-data/usmart/RIO/sentinel-s2-l2a-cogs/\n",
      "S2B_11SPC_20200423_0_L2A_B03.tif\n",
      "wget -nv -O- https://sentinel-cogs.s3.us-west-2.amazonaws.com/sentinel-s2-l2a-cogs/11/S/PC/2020/4/S2B_11SPC_20200423_0_L2A/B03.tif | aws s3 cp - s3://dev-et-data/usmart/RIO/sentinel-s2-l2a-cogs/S2B_11SPC_20200423_0_L2A_B03.tif\n"
     ]
    },
    {
     "name": "stderr",
     "output_type": "stream",
     "text": [
      "2021-09-23 03:15:31 URL:https://sentinel-cogs.s3.us-west-2.amazonaws.com/sentinel-s2-l2a-cogs/11/S/PC/2020/5/S2A_11SPC_20200505_0_L2A/B03.tif [154088220/154088220] -> \"-\" [1]\n",
      "03:15:32: sending https://sentinel-cogs.s3.us-west-2.amazonaws.com/sentinel-s2-l2a-cogs/11/S/PC/2020/5/S2A_11SPC_20200505_0_L2A/B02.tif\n"
     ]
    },
    {
     "name": "stdout",
     "output_type": "stream",
     "text": [
      "\n",
      "\n",
      "wget this: %s https://sentinel-cogs.s3.us-west-2.amazonaws.com/sentinel-s2-l2a-cogs/11/S/PC/2020/5/S2A_11SPC_20200505_0_L2A/B02.tif\n",
      "wget -nv -O- https://sentinel-cogs.s3.us-west-2.amazonaws.com/sentinel-s2-l2a-cogs/11/S/PC/2020/5/S2A_11SPC_20200505_0_L2A/B02.tif | aws s3 cp - s3://dev-et-data/usmart/RIO/sentinel-s2-l2a-cogs/\n",
      "S2A_11SPC_20200505_0_L2A_B02.tif\n",
      "wget -nv -O- https://sentinel-cogs.s3.us-west-2.amazonaws.com/sentinel-s2-l2a-cogs/11/S/PC/2020/5/S2A_11SPC_20200505_0_L2A/B02.tif | aws s3 cp - s3://dev-et-data/usmart/RIO/sentinel-s2-l2a-cogs/S2A_11SPC_20200505_0_L2A_B02.tif\n"
     ]
    },
    {
     "name": "stderr",
     "output_type": "stream",
     "text": [
      "2021-09-23 03:15:32 URL:https://sentinel-cogs.s3.us-west-2.amazonaws.com/sentinel-s2-l2a-cogs/11/S/PC/2020/5/S2A_11SPC_20200505_1_L2A/B02.tif [87490549/87490549] -> \"-\" [1]\n",
      "2021-09-23 03:15:32 URL:https://sentinel-cogs.s3.us-west-2.amazonaws.com/sentinel-s2-l2a-cogs/11/S/PC/2020/4/S2B_11SPC_20200420_0_L2A/B04.tif [202317183/202317183] -> \"-\" [1]\n",
      "03:15:32: Thread 97: finishing in 21 seconds\n",
      "03:15:32: xfer Thread 105: starting\n",
      "03:15:32: sending https://sentinel-cogs.s3.us-west-2.amazonaws.com/sentinel-s2-l2a-cogs/11/S/PC/2020/4/S2A_11SPC_20200415_0_L2A/B04.tif\n"
     ]
    },
    {
     "name": "stdout",
     "output_type": "stream",
     "text": [
      "\n",
      "\n",
      "wget this: %s https://sentinel-cogs.s3.us-west-2.amazonaws.com/sentinel-s2-l2a-cogs/11/S/PC/2020/4/S2A_11SPC_20200415_0_L2A/B04.tif\n",
      "wget -nv -O- https://sentinel-cogs.s3.us-west-2.amazonaws.com/sentinel-s2-l2a-cogs/11/S/PC/2020/4/S2A_11SPC_20200415_0_L2A/B04.tif | aws s3 cp - s3://dev-et-data/usmart/RIO/sentinel-s2-l2a-cogs/\n",
      "S2A_11SPC_20200415_0_L2A_B04.tif\n",
      "wget -nv -O- https://sentinel-cogs.s3.us-west-2.amazonaws.com/sentinel-s2-l2a-cogs/11/S/PC/2020/4/S2A_11SPC_20200415_0_L2A/B04.tif | aws s3 cp - s3://dev-et-data/usmart/RIO/sentinel-s2-l2a-cogs/S2A_11SPC_20200415_0_L2A_B04.tif\n"
     ]
    },
    {
     "name": "stderr",
     "output_type": "stream",
     "text": [
      "2021-09-23 03:15:32 URL:https://sentinel-cogs.s3.us-west-2.amazonaws.com/sentinel-s2-l2a-cogs/11/S/PC/2020/4/S2A_11SPC_20200418_0_L2A/B04.tif [161364355/161364355] -> \"-\" [1]\n",
      "03:15:33: sending https://sentinel-cogs.s3.us-west-2.amazonaws.com/sentinel-s2-l2a-cogs/11/S/PC/2020/4/S2B_11SPC_20200420_0_L2A/B03.tif\n"
     ]
    },
    {
     "name": "stdout",
     "output_type": "stream",
     "text": [
      "\n",
      "\n",
      "wget this: %s https://sentinel-cogs.s3.us-west-2.amazonaws.com/sentinel-s2-l2a-cogs/11/S/PC/2020/4/S2B_11SPC_20200420_0_L2A/B03.tif\n",
      "wget -nv -O- https://sentinel-cogs.s3.us-west-2.amazonaws.com/sentinel-s2-l2a-cogs/11/S/PC/2020/4/S2B_11SPC_20200420_0_L2A/B03.tif | aws s3 cp - s3://dev-et-data/usmart/RIO/sentinel-s2-l2a-cogs/\n",
      "S2B_11SPC_20200420_0_L2A_B03.tif\n",
      "wget -nv -O- https://sentinel-cogs.s3.us-west-2.amazonaws.com/sentinel-s2-l2a-cogs/11/S/PC/2020/4/S2B_11SPC_20200420_0_L2A/B03.tif | aws s3 cp - s3://dev-et-data/usmart/RIO/sentinel-s2-l2a-cogs/S2B_11SPC_20200420_0_L2A_B03.tif\n"
     ]
    },
    {
     "name": "stderr",
     "output_type": "stream",
     "text": [
      "2021-09-23 03:15:33 URL:https://sentinel-cogs.s3.us-west-2.amazonaws.com/sentinel-s2-l2a-cogs/11/S/PC/2020/5/S2A_11SPC_20200518_0_L2A/B02.tif [145981586/145981586] -> \"-\" [1]\n",
      "2021-09-23 03:15:33 URL:https://sentinel-cogs.s3.us-west-2.amazonaws.com/sentinel-s2-l2a-cogs/11/S/PC/2020/5/S2B_11SPC_20200520_0_L2A/B02.tif [186218334/186218334] -> \"-\" [1]\n",
      "2021-09-23 03:15:33 URL:https://sentinel-cogs.s3.us-west-2.amazonaws.com/sentinel-s2-l2a-cogs/11/S/PC/2020/4/S2A_11SPC_20200428_0_L2A/B03.tif [165093553/165093553] -> \"-\" [1]\n",
      "03:15:33: sending https://sentinel-cogs.s3.us-west-2.amazonaws.com/sentinel-s2-l2a-cogs/11/S/PC/2020/4/S2A_11SPC_20200418_0_L2A/B03.tif\n"
     ]
    },
    {
     "name": "stdout",
     "output_type": "stream",
     "text": [
      "\n",
      "\n",
      "wget this: %s https://sentinel-cogs.s3.us-west-2.amazonaws.com/sentinel-s2-l2a-cogs/11/S/PC/2020/4/S2A_11SPC_20200418_0_L2A/B03.tif\n",
      "wget -nv -O- https://sentinel-cogs.s3.us-west-2.amazonaws.com/sentinel-s2-l2a-cogs/11/S/PC/2020/4/S2A_11SPC_20200418_0_L2A/B03.tif | aws s3 cp - s3://dev-et-data/usmart/RIO/sentinel-s2-l2a-cogs/\n",
      "S2A_11SPC_20200418_0_L2A_B03.tif\n",
      "wget -nv -O- https://sentinel-cogs.s3.us-west-2.amazonaws.com/sentinel-s2-l2a-cogs/11/S/PC/2020/4/S2A_11SPC_20200418_0_L2A/B03.tif | aws s3 cp - s3://dev-et-data/usmart/RIO/sentinel-s2-l2a-cogs/S2A_11SPC_20200418_0_L2A_B03.tif\n"
     ]
    },
    {
     "name": "stderr",
     "output_type": "stream",
     "text": [
      "03:15:34: Thread 91: finishing in 31 seconds\n",
      "03:15:34: xfer Thread 106: starting\n",
      "03:15:34: sending https://sentinel-cogs.s3.us-west-2.amazonaws.com/sentinel-s2-l2a-cogs/11/S/PC/2020/4/S2B_11SPC_20200413_0_L2A/B04.tif\n"
     ]
    },
    {
     "name": "stdout",
     "output_type": "stream",
     "text": [
      "\n",
      "\n",
      "wget this: %s https://sentinel-cogs.s3.us-west-2.amazonaws.com/sentinel-s2-l2a-cogs/11/S/PC/2020/4/S2B_11SPC_20200413_0_L2A/B04.tif\n",
      "wget -nv -O- https://sentinel-cogs.s3.us-west-2.amazonaws.com/sentinel-s2-l2a-cogs/11/S/PC/2020/4/S2B_11SPC_20200413_0_L2A/B04.tif | aws s3 cp - s3://dev-et-data/usmart/RIO/sentinel-s2-l2a-cogs/\n",
      "S2B_11SPC_20200413_0_L2A_B04.tif\n",
      "wget -nv -O- https://sentinel-cogs.s3.us-west-2.amazonaws.com/sentinel-s2-l2a-cogs/11/S/PC/2020/4/S2B_11SPC_20200413_0_L2A/B04.tif | aws s3 cp - s3://dev-et-data/usmart/RIO/sentinel-s2-l2a-cogs/S2B_11SPC_20200413_0_L2A_B04.tif\n"
     ]
    },
    {
     "name": "stderr",
     "output_type": "stream",
     "text": [
      "03:15:34: Thread 90: finishing in 33 seconds\n",
      "03:15:34: xfer Thread 107: starting\n",
      "03:15:34: sending https://sentinel-cogs.s3.us-west-2.amazonaws.com/sentinel-s2-l2a-cogs/11/S/PC/2020/4/S2B_11SPC_20200410_0_L2A/B04.tif\n",
      "03:15:34: sending https://sentinel-cogs.s3.us-west-2.amazonaws.com/sentinel-s2-l2a-cogs/11/S/PC/2020/4/S2A_11SPC_20200428_0_L2A/B02.tif\n"
     ]
    },
    {
     "name": "stdout",
     "output_type": "stream",
     "text": [
      "\n",
      "\n",
      "wget this: %s https://sentinel-cogs.s3.us-west-2.amazonaws.com/sentinel-s2-l2a-cogs/11/S/PC/2020/4/S2B_11SPC_20200410_0_L2A/B04.tif\n",
      "wget -nv -O- https://sentinel-cogs.s3.us-west-2.amazonaws.com/sentinel-s2-l2a-cogs/11/S/PC/2020/4/S2B_11SPC_20200410_0_L2A/B04.tif | aws s3 cp - s3://dev-et-data/usmart/RIO/sentinel-s2-l2a-cogs/\n",
      "S2B_11SPC_20200410_0_L2A_B04.tif\n",
      "wget -nv -O- https://sentinel-cogs.s3.us-west-2.amazonaws.com/sentinel-s2-l2a-cogs/11/S/PC/2020/4/S2B_11SPC_20200410_0_L2A/B04.tif | aws s3 cp - s3://dev-et-data/usmart/RIO/sentinel-s2-l2a-cogs/S2B_11SPC_20200410_0_L2A_B04.tif\n",
      "\n",
      "\n",
      "wget this: %s https://sentinel-cogs.s3.us-west-2.amazonaws.com/sentinel-s2-l2a-cogs/11/S/PC/2020/4/S2A_11SPC_20200428_0_L2A/B02.tif\n",
      "wget -nv -O- https://sentinel-cogs.s3.us-west-2.amazonaws.com/sentinel-s2-l2a-cogs/11/S/PC/2020/4/S2A_11SPC_20200428_0_L2A/B02.tif | aws s3 cp - s3://dev-et-data/usmart/RIO/sentinel-s2-l2a-cogs/\n",
      "S2A_11SPC_20200428_0_L2A_B02.tif\n",
      "wget -nv -O- https://sentinel-cogs.s3.us-west-2.amazonaws.com/sentinel-s2-l2a-cogs/11/S/PC/2020/4/S2A_11SPC_20200428_0_L2A/B02.tif | aws s3 cp - s3://dev-et-data/usmart/RIO/sentinel-s2-l2a-cogs/S2A_11SPC_20200428_0_L2A_B02.tif\n"
     ]
    },
    {
     "name": "stderr",
     "output_type": "stream",
     "text": [
      "2021-09-23 03:15:34 URL:https://sentinel-cogs.s3.us-west-2.amazonaws.com/sentinel-s2-l2a-cogs/11/S/PC/2020/5/S2B_11SPC_20200513_0_L2A/B02.tif [158787515/158787515] -> \"-\" [1]\n",
      "2021-09-23 03:15:34 URL:https://sentinel-cogs.s3.us-west-2.amazonaws.com/sentinel-s2-l2a-cogs/11/S/PC/2020/5/S2B_11SPC_20200503_0_L2A/B03.tif [166799599/166799599] -> \"-\" [1]\n",
      "03:15:35: Thread 93: finishing in 29 seconds\n",
      "03:15:35: xfer Thread 108: starting\n",
      "03:15:35: sending https://sentinel-cogs.s3.us-west-2.amazonaws.com/sentinel-s2-l2a-cogs/11/S/PC/2020/4/S2A_11SPC_20200408_0_L2A/B04.tif\n",
      "03:15:35: sending https://sentinel-cogs.s3.us-west-2.amazonaws.com/sentinel-s2-l2a-cogs/11/S/PC/2020/5/S2B_11SPC_20200503_0_L2A/B02.tif\n"
     ]
    },
    {
     "name": "stdout",
     "output_type": "stream",
     "text": [
      "\n",
      "\n",
      "wget this: %s https://sentinel-cogs.s3.us-west-2.amazonaws.com/sentinel-s2-l2a-cogs/11/S/PC/2020/4/S2A_11SPC_20200408_0_L2A/B04.tif\n",
      "wget -nv -O- https://sentinel-cogs.s3.us-west-2.amazonaws.com/sentinel-s2-l2a-cogs/11/S/PC/2020/4/S2A_11SPC_20200408_0_L2A/B04.tif | aws s3 cp - s3://dev-et-data/usmart/RIO/sentinel-s2-l2a-cogs/\n",
      "S2A_11SPC_20200408_0_L2A_B04.tif\n",
      "wget -nv -O- https://sentinel-cogs.s3.us-west-2.amazonaws.com/sentinel-s2-l2a-cogs/11/S/PC/2020/4/S2A_11SPC_20200408_0_L2A/B04.tif | aws s3 cp - s3://dev-et-data/usmart/RIO/sentinel-s2-l2a-cogs/S2A_11SPC_20200408_0_L2A_B04.tif\n",
      "\n",
      "\n",
      "wget this: %s https://sentinel-cogs.s3.us-west-2.amazonaws.com/sentinel-s2-l2a-cogs/11/S/PC/2020/5/S2B_11SPC_20200503_0_L2A/B02.tif\n",
      "wget -nv -O- https://sentinel-cogs.s3.us-west-2.amazonaws.com/sentinel-s2-l2a-cogs/11/S/PC/2020/5/S2B_11SPC_20200503_0_L2A/B02.tif | aws s3 cp - s3://dev-et-data/usmart/RIO/sentinel-s2-l2a-cogs/\n",
      "S2B_11SPC_20200503_0_L2A_B02.tif\n",
      "wget -nv -O- https://sentinel-cogs.s3.us-west-2.amazonaws.com/sentinel-s2-l2a-cogs/11/S/PC/2020/5/S2B_11SPC_20200503_0_L2A/B02.tif | aws s3 cp - s3://dev-et-data/usmart/RIO/sentinel-s2-l2a-cogs/S2B_11SPC_20200503_0_L2A_B02.tif\n"
     ]
    },
    {
     "name": "stderr",
     "output_type": "stream",
     "text": [
      "2021-09-23 03:15:35 URL:https://sentinel-cogs.s3.us-west-2.amazonaws.com/sentinel-s2-l2a-cogs/11/S/PC/2020/4/S2B_11SPC_20200430_0_L2A/B03.tif [203344602/203344602] -> \"-\" [1]\n",
      "03:15:36: sending https://sentinel-cogs.s3.us-west-2.amazonaws.com/sentinel-s2-l2a-cogs/11/S/PC/2020/4/S2B_11SPC_20200430_0_L2A/B02.tif\n"
     ]
    },
    {
     "name": "stdout",
     "output_type": "stream",
     "text": [
      "\n",
      "\n",
      "wget this: %s https://sentinel-cogs.s3.us-west-2.amazonaws.com/sentinel-s2-l2a-cogs/11/S/PC/2020/4/S2B_11SPC_20200430_0_L2A/B02.tif\n",
      "wget -nv -O- https://sentinel-cogs.s3.us-west-2.amazonaws.com/sentinel-s2-l2a-cogs/11/S/PC/2020/4/S2B_11SPC_20200430_0_L2A/B02.tif | aws s3 cp - s3://dev-et-data/usmart/RIO/sentinel-s2-l2a-cogs/\n",
      "S2B_11SPC_20200430_0_L2A_B02.tif\n",
      "wget -nv -O- https://sentinel-cogs.s3.us-west-2.amazonaws.com/sentinel-s2-l2a-cogs/11/S/PC/2020/4/S2B_11SPC_20200430_0_L2A/B02.tif | aws s3 cp - s3://dev-et-data/usmart/RIO/sentinel-s2-l2a-cogs/S2B_11SPC_20200430_0_L2A_B02.tif\n"
     ]
    },
    {
     "name": "stderr",
     "output_type": "stream",
     "text": [
      "03:15:36: sending https://sentinel-cogs.s3.us-west-2.amazonaws.com/sentinel-s2-l2a-cogs/11/S/PC/2020/5/S2B_11SPC_20200510_0_L2A/B02.tif\n"
     ]
    },
    {
     "name": "stdout",
     "output_type": "stream",
     "text": [
      "\n",
      "\n",
      "wget this: %s https://sentinel-cogs.s3.us-west-2.amazonaws.com/sentinel-s2-l2a-cogs/11/S/PC/2020/5/S2B_11SPC_20200510_0_L2A/B02.tif\n",
      "wget -nv -O- https://sentinel-cogs.s3.us-west-2.amazonaws.com/sentinel-s2-l2a-cogs/11/S/PC/2020/5/S2B_11SPC_20200510_0_L2A/B02.tif | aws s3 cp - s3://dev-et-data/usmart/RIO/sentinel-s2-l2a-cogs/\n",
      "S2B_11SPC_20200510_0_L2A_B02.tif\n",
      "wget -nv -O- https://sentinel-cogs.s3.us-west-2.amazonaws.com/sentinel-s2-l2a-cogs/11/S/PC/2020/5/S2B_11SPC_20200510_0_L2A/B02.tif | aws s3 cp - s3://dev-et-data/usmart/RIO/sentinel-s2-l2a-cogs/S2B_11SPC_20200510_0_L2A_B02.tif\n"
     ]
    },
    {
     "name": "stderr",
     "output_type": "stream",
     "text": [
      "2021-09-23 03:15:37 URL:https://sentinel-cogs.s3.us-west-2.amazonaws.com/sentinel-s2-l2a-cogs/11/S/PC/2020/5/S2A_11SPC_20200508_0_L2A/B02.tif [165200878/165200878] -> \"-\" [1]\n",
      "03:15:37: Thread 95: finishing in 29 seconds\n",
      "03:15:37: xfer Thread 109: starting\n",
      "03:15:37: sending https://sentinel-cogs.s3.us-west-2.amazonaws.com/sentinel-s2-l2a-cogs/11/S/PC/2020/4/S2A_11SPC_20200405_0_L2A/B04.tif\n"
     ]
    },
    {
     "name": "stdout",
     "output_type": "stream",
     "text": [
      "\n",
      "\n",
      "wget this: %s https://sentinel-cogs.s3.us-west-2.amazonaws.com/sentinel-s2-l2a-cogs/11/S/PC/2020/4/S2A_11SPC_20200405_0_L2A/B04.tif\n",
      "wget -nv -O- https://sentinel-cogs.s3.us-west-2.amazonaws.com/sentinel-s2-l2a-cogs/11/S/PC/2020/4/S2A_11SPC_20200405_0_L2A/B04.tif | aws s3 cp - s3://dev-et-data/usmart/RIO/sentinel-s2-l2a-cogs/\n",
      "S2A_11SPC_20200405_0_L2A_B04.tif\n",
      "wget -nv -O- https://sentinel-cogs.s3.us-west-2.amazonaws.com/sentinel-s2-l2a-cogs/11/S/PC/2020/4/S2A_11SPC_20200405_0_L2A/B04.tif | aws s3 cp - s3://dev-et-data/usmart/RIO/sentinel-s2-l2a-cogs/S2A_11SPC_20200405_0_L2A_B04.tif\n"
     ]
    },
    {
     "name": "stderr",
     "output_type": "stream",
     "text": [
      "2021-09-23 03:15:38 URL:https://sentinel-cogs.s3.us-west-2.amazonaws.com/sentinel-s2-l2a-cogs/11/S/PC/2020/5/S2A_11SPC_20200515_0_L2A/B02.tif [204949749/204949749] -> \"-\" [1]\n",
      "03:15:38: Thread 92: finishing in 34 seconds\n",
      "03:15:38: xfer Thread 110: starting\n",
      "03:15:38: sending https://sentinel-cogs.s3.us-west-2.amazonaws.com/sentinel-s2-l2a-cogs/11/S/PC/2020/4/S2B_11SPC_20200403_0_L2A/B04.tif\n"
     ]
    },
    {
     "name": "stdout",
     "output_type": "stream",
     "text": [
      "\n",
      "\n",
      "wget this: %s https://sentinel-cogs.s3.us-west-2.amazonaws.com/sentinel-s2-l2a-cogs/11/S/PC/2020/4/S2B_11SPC_20200403_0_L2A/B04.tif\n",
      "wget -nv -O- https://sentinel-cogs.s3.us-west-2.amazonaws.com/sentinel-s2-l2a-cogs/11/S/PC/2020/4/S2B_11SPC_20200403_0_L2A/B04.tif | aws s3 cp - s3://dev-et-data/usmart/RIO/sentinel-s2-l2a-cogs/\n",
      "S2B_11SPC_20200403_0_L2A_B04.tif\n",
      "wget -nv -O- https://sentinel-cogs.s3.us-west-2.amazonaws.com/sentinel-s2-l2a-cogs/11/S/PC/2020/4/S2B_11SPC_20200403_0_L2A/B04.tif | aws s3 cp - s3://dev-et-data/usmart/RIO/sentinel-s2-l2a-cogs/S2B_11SPC_20200403_0_L2A_B04.tif\n"
     ]
    },
    {
     "name": "stderr",
     "output_type": "stream",
     "text": [
      "2021-09-23 03:15:40 URL:https://sentinel-cogs.s3.us-west-2.amazonaws.com/sentinel-s2-l2a-cogs/11/S/PC/2020/4/S2B_11SPC_20200423_0_L2A/B03.tif [172387336/172387336] -> \"-\" [1]\n",
      "2021-09-23 03:15:40 URL:https://sentinel-cogs.s3.us-west-2.amazonaws.com/sentinel-s2-l2a-cogs/11/S/PC/2020/5/S2A_11SPC_20200505_0_L2A/B02.tif [155573368/155573368] -> \"-\" [1]\n",
      "2021-09-23 03:15:41 URL:https://sentinel-cogs.s3.us-west-2.amazonaws.com/sentinel-s2-l2a-cogs/11/S/PC/2020/4/S2A_11SPC_20200425_0_L2A/B03.tif [191075945/191075945] -> \"-\" [1]\n",
      "03:15:41: sending https://sentinel-cogs.s3.us-west-2.amazonaws.com/sentinel-s2-l2a-cogs/11/S/PC/2020/4/S2B_11SPC_20200423_0_L2A/B02.tif\n",
      "03:15:41: Thread 96: finishing in 30 seconds\n",
      "03:15:41: xfer Thread 111: starting\n",
      "03:15:41: sending https://sentinel-cogs.s3.us-west-2.amazonaws.com/sentinel-s2-l2a-cogs/11/S/PC/2020/3/S2B_11SPC_20200331_0_L2A/B04.tif\n"
     ]
    },
    {
     "name": "stdout",
     "output_type": "stream",
     "text": [
      "\n",
      "\n",
      "wget this: %s https://sentinel-cogs.s3.us-west-2.amazonaws.com/sentinel-s2-l2a-cogs/11/S/PC/2020/4/S2B_11SPC_20200423_0_L2A/B02.tif\n",
      "wget -nv -O- https://sentinel-cogs.s3.us-west-2.amazonaws.com/sentinel-s2-l2a-cogs/11/S/PC/2020/4/S2B_11SPC_20200423_0_L2A/B02.tif | aws s3 cp - s3://dev-et-data/usmart/RIO/sentinel-s2-l2a-cogs/\n",
      "S2B_11SPC_20200423_0_L2A_B02.tif\n",
      "wget -nv -O- https://sentinel-cogs.s3.us-west-2.amazonaws.com/sentinel-s2-l2a-cogs/11/S/PC/2020/4/S2B_11SPC_20200423_0_L2A/B02.tif | aws s3 cp - s3://dev-et-data/usmart/RIO/sentinel-s2-l2a-cogs/S2B_11SPC_20200423_0_L2A_B02.tif\n",
      "\n",
      "\n",
      "wget this: %s https://sentinel-cogs.s3.us-west-2.amazonaws.com/sentinel-s2-l2a-cogs/11/S/PC/2020/3/S2B_11SPC_20200331_0_L2A/B04.tif\n",
      "wget -nv -O- https://sentinel-cogs.s3.us-west-2.amazonaws.com/sentinel-s2-l2a-cogs/11/S/PC/2020/3/S2B_11SPC_20200331_0_L2A/B04.tif | aws s3 cp - s3://dev-et-data/usmart/RIO/sentinel-s2-l2a-cogs/\n",
      "S2B_11SPC_20200331_0_L2A_B04.tif\n",
      "wget -nv -O- https://sentinel-cogs.s3.us-west-2.amazonaws.com/sentinel-s2-l2a-cogs/11/S/PC/2020/3/S2B_11SPC_20200331_0_L2A/B04.tif | aws s3 cp - s3://dev-et-data/usmart/RIO/sentinel-s2-l2a-cogs/S2B_11SPC_20200331_0_L2A_B04.tif\n"
     ]
    },
    {
     "name": "stderr",
     "output_type": "stream",
     "text": [
      "2021-09-23 03:15:41 URL:https://sentinel-cogs.s3.us-west-2.amazonaws.com/sentinel-s2-l2a-cogs/11/S/PC/2020/4/S2A_11SPC_20200418_0_L2A/B03.tif [161333255/161333255] -> \"-\" [1]\n",
      "2021-09-23 03:15:42 URL:https://sentinel-cogs.s3.us-west-2.amazonaws.com/sentinel-s2-l2a-cogs/11/S/PC/2020/4/S2B_11SPC_20200420_0_L2A/B03.tif [201827021/201827021] -> \"-\" [1]\n",
      "2021-09-23 03:15:42 URL:https://sentinel-cogs.s3.us-west-2.amazonaws.com/sentinel-s2-l2a-cogs/11/S/PC/2020/4/S2B_11SPC_20200413_0_L2A/B04.tif [171933490/171933490] -> \"-\" [1]\n",
      "03:15:42: sending https://sentinel-cogs.s3.us-west-2.amazonaws.com/sentinel-s2-l2a-cogs/11/S/PC/2020/4/S2A_11SPC_20200425_0_L2A/B02.tif\n"
     ]
    },
    {
     "name": "stdout",
     "output_type": "stream",
     "text": [
      "\n",
      "\n",
      "wget this: %s https://sentinel-cogs.s3.us-west-2.amazonaws.com/sentinel-s2-l2a-cogs/11/S/PC/2020/4/S2A_11SPC_20200425_0_L2A/B02.tif\n",
      "wget -nv -O- https://sentinel-cogs.s3.us-west-2.amazonaws.com/sentinel-s2-l2a-cogs/11/S/PC/2020/4/S2A_11SPC_20200425_0_L2A/B02.tif | aws s3 cp - s3://dev-et-data/usmart/RIO/sentinel-s2-l2a-cogs/\n",
      "S2A_11SPC_20200425_0_L2A_B02.tif\n",
      "wget -nv -O- https://sentinel-cogs.s3.us-west-2.amazonaws.com/sentinel-s2-l2a-cogs/11/S/PC/2020/4/S2A_11SPC_20200425_0_L2A/B02.tif | aws s3 cp - s3://dev-et-data/usmart/RIO/sentinel-s2-l2a-cogs/S2A_11SPC_20200425_0_L2A_B02.tif\n"
     ]
    },
    {
     "name": "stderr",
     "output_type": "stream",
     "text": [
      "2021-09-23 03:15:42 URL:https://sentinel-cogs.s3.us-west-2.amazonaws.com/sentinel-s2-l2a-cogs/11/S/PC/2020/4/S2A_11SPC_20200428_0_L2A/B02.tif [166610410/166610410] -> \"-\" [1]\n",
      "2021-09-23 03:15:42 URL:https://sentinel-cogs.s3.us-west-2.amazonaws.com/sentinel-s2-l2a-cogs/11/S/PC/2020/4/S2A_11SPC_20200408_0_L2A/B04.tif [137387103/137387103] -> \"-\" [1]\n",
      "03:15:42: sending https://sentinel-cogs.s3.us-west-2.amazonaws.com/sentinel-s2-l2a-cogs/11/S/PC/2020/4/S2B_11SPC_20200420_0_L2A/B02.tif\n",
      "03:15:42: sending https://sentinel-cogs.s3.us-west-2.amazonaws.com/sentinel-s2-l2a-cogs/11/S/PC/2020/4/S2A_11SPC_20200418_0_L2A/B02.tif\n"
     ]
    },
    {
     "name": "stdout",
     "output_type": "stream",
     "text": [
      "\n",
      "\n",
      "wget this: %s https://sentinel-cogs.s3.us-west-2.amazonaws.com/sentinel-s2-l2a-cogs/11/S/PC/2020/4/S2B_11SPC_20200420_0_L2A/B02.tif\n",
      "wget -nv -O- https://sentinel-cogs.s3.us-west-2.amazonaws.com/sentinel-s2-l2a-cogs/11/S/PC/2020/4/S2B_11SPC_20200420_0_L2A/B02.tif | aws s3 cp - s3://dev-et-data/usmart/RIO/sentinel-s2-l2a-cogs/\n",
      "S2B_11SPC_20200420_0_L2A_B02.tif\n",
      "wget -nv -O- https://sentinel-cogs.s3.us-west-2.amazonaws.com/sentinel-s2-l2a-cogs/11/S/PC/2020/4/S2B_11SPC_20200420_0_L2A/B02.tif | aws s3 cp - s3://dev-et-data/usmart/RIO/sentinel-s2-l2a-cogs/S2B_11SPC_20200420_0_L2A_B02.tif\n",
      "\n",
      "\n",
      "wget this: %s https://sentinel-cogs.s3.us-west-2.amazonaws.com/sentinel-s2-l2a-cogs/11/S/PC/2020/4/S2A_11SPC_20200418_0_L2A/B02.tif\n",
      "wget -nv -O- https://sentinel-cogs.s3.us-west-2.amazonaws.com/sentinel-s2-l2a-cogs/11/S/PC/2020/4/S2A_11SPC_20200418_0_L2A/B02.tif | aws s3 cp - s3://dev-et-data/usmart/RIO/sentinel-s2-l2a-cogs/\n",
      "S2A_11SPC_20200418_0_L2A_B02.tif\n",
      "wget -nv -O- https://sentinel-cogs.s3.us-west-2.amazonaws.com/sentinel-s2-l2a-cogs/11/S/PC/2020/4/S2A_11SPC_20200418_0_L2A/B02.tif | aws s3 cp - s3://dev-et-data/usmart/RIO/sentinel-s2-l2a-cogs/S2A_11SPC_20200418_0_L2A_B02.tif\n"
     ]
    },
    {
     "name": "stderr",
     "output_type": "stream",
     "text": [
      "03:15:43: sending https://sentinel-cogs.s3.us-west-2.amazonaws.com/sentinel-s2-l2a-cogs/11/S/PC/2020/4/S2B_11SPC_20200413_0_L2A/B03.tif\n",
      "2021-09-23 03:15:43 URL:https://sentinel-cogs.s3.us-west-2.amazonaws.com/sentinel-s2-l2a-cogs/11/S/PC/2020/4/S2A_11SPC_20200415_0_L2A/B04.tif [208271164/208271164] -> \"-\" [1]\n",
      "03:15:43: sending https://sentinel-cogs.s3.us-west-2.amazonaws.com/sentinel-s2-l2a-cogs/11/S/PC/2020/4/S2A_11SPC_20200408_0_L2A/B03.tif\n"
     ]
    },
    {
     "name": "stdout",
     "output_type": "stream",
     "text": [
      "\n",
      "\n",
      "wget this: %s https://sentinel-cogs.s3.us-west-2.amazonaws.com/sentinel-s2-l2a-cogs/11/S/PC/2020/4/S2B_11SPC_20200413_0_L2A/B03.tif\n",
      "wget -nv -O- https://sentinel-cogs.s3.us-west-2.amazonaws.com/sentinel-s2-l2a-cogs/11/S/PC/2020/4/S2B_11SPC_20200413_0_L2A/B03.tif | aws s3 cp - s3://dev-et-data/usmart/RIO/sentinel-s2-l2a-cogs/\n",
      "S2B_11SPC_20200413_0_L2A_B03.tif\n",
      "wget -nv -O- https://sentinel-cogs.s3.us-west-2.amazonaws.com/sentinel-s2-l2a-cogs/11/S/PC/2020/4/S2B_11SPC_20200413_0_L2A/B03.tif | aws s3 cp - s3://dev-et-data/usmart/RIO/sentinel-s2-l2a-cogs/S2B_11SPC_20200413_0_L2A_B03.tif\n",
      "\n",
      "\n",
      "wget this: %s https://sentinel-cogs.s3.us-west-2.amazonaws.com/sentinel-s2-l2a-cogs/11/S/PC/2020/4/S2A_11SPC_20200408_0_L2A/B03.tif\n",
      "wget -nv -O- https://sentinel-cogs.s3.us-west-2.amazonaws.com/sentinel-s2-l2a-cogs/11/S/PC/2020/4/S2A_11SPC_20200408_0_L2A/B03.tif | aws s3 cp - s3://dev-et-data/usmart/RIO/sentinel-s2-l2a-cogs/\n",
      "S2A_11SPC_20200408_0_L2A_B03.tif\n",
      "wget -nv -O- https://sentinel-cogs.s3.us-west-2.amazonaws.com/sentinel-s2-l2a-cogs/11/S/PC/2020/4/S2A_11SPC_20200408_0_L2A/B03.tif | aws s3 cp - s3://dev-et-data/usmart/RIO/sentinel-s2-l2a-cogs/S2A_11SPC_20200408_0_L2A_B03.tif\n"
     ]
    },
    {
     "name": "stderr",
     "output_type": "stream",
     "text": [
      "2021-09-23 03:15:43 URL:https://sentinel-cogs.s3.us-west-2.amazonaws.com/sentinel-s2-l2a-cogs/11/S/PC/2020/5/S2B_11SPC_20200503_0_L2A/B02.tif [168016645/168016645] -> \"-\" [1]\n",
      "03:15:43: Thread 100: finishing in 27 seconds\n",
      "03:15:43: xfer Thread 112: starting\n",
      "03:15:43: sending https://sentinel-cogs.s3.us-west-2.amazonaws.com/sentinel-s2-l2a-cogs/11/S/PC/2020/3/S2A_11SPC_20200329_0_L2A/B04.tif\n"
     ]
    },
    {
     "name": "stdout",
     "output_type": "stream",
     "text": [
      "\n",
      "\n",
      "wget this: %s https://sentinel-cogs.s3.us-west-2.amazonaws.com/sentinel-s2-l2a-cogs/11/S/PC/2020/3/S2A_11SPC_20200329_0_L2A/B04.tif\n",
      "wget -nv -O- https://sentinel-cogs.s3.us-west-2.amazonaws.com/sentinel-s2-l2a-cogs/11/S/PC/2020/3/S2A_11SPC_20200329_0_L2A/B04.tif | aws s3 cp - s3://dev-et-data/usmart/RIO/sentinel-s2-l2a-cogs/\n",
      "S2A_11SPC_20200329_0_L2A_B04.tif\n",
      "wget -nv -O- https://sentinel-cogs.s3.us-west-2.amazonaws.com/sentinel-s2-l2a-cogs/11/S/PC/2020/3/S2A_11SPC_20200329_0_L2A/B04.tif | aws s3 cp - s3://dev-et-data/usmart/RIO/sentinel-s2-l2a-cogs/S2A_11SPC_20200329_0_L2A_B04.tif\n"
     ]
    },
    {
     "name": "stderr",
     "output_type": "stream",
     "text": [
      "2021-09-23 03:15:44 URL:https://sentinel-cogs.s3.us-west-2.amazonaws.com/sentinel-s2-l2a-cogs/11/S/PC/2020/4/S2B_11SPC_20200410_0_L2A/B04.tif [204843954/204843954] -> \"-\" [1]\n",
      "03:15:44: sending https://sentinel-cogs.s3.us-west-2.amazonaws.com/sentinel-s2-l2a-cogs/11/S/PC/2020/4/S2A_11SPC_20200415_0_L2A/B03.tif\n"
     ]
    },
    {
     "name": "stdout",
     "output_type": "stream",
     "text": [
      "\n",
      "\n",
      "wget this: %s https://sentinel-cogs.s3.us-west-2.amazonaws.com/sentinel-s2-l2a-cogs/11/S/PC/2020/4/S2A_11SPC_20200415_0_L2A/B03.tif\n",
      "wget -nv -O- https://sentinel-cogs.s3.us-west-2.amazonaws.com/sentinel-s2-l2a-cogs/11/S/PC/2020/4/S2A_11SPC_20200415_0_L2A/B03.tif | aws s3 cp - s3://dev-et-data/usmart/RIO/sentinel-s2-l2a-cogs/\n",
      "S2A_11SPC_20200415_0_L2A_B03.tif\n",
      "wget -nv -O- https://sentinel-cogs.s3.us-west-2.amazonaws.com/sentinel-s2-l2a-cogs/11/S/PC/2020/4/S2A_11SPC_20200415_0_L2A/B03.tif | aws s3 cp - s3://dev-et-data/usmart/RIO/sentinel-s2-l2a-cogs/S2A_11SPC_20200415_0_L2A_B03.tif\n"
     ]
    },
    {
     "name": "stderr",
     "output_type": "stream",
     "text": [
      "03:15:44: Thread 98: finishing in 31 seconds\n",
      "03:15:44: xfer Thread 113: starting\n",
      "03:15:44: sending https://sentinel-cogs.s3.us-west-2.amazonaws.com/sentinel-s2-l2a-cogs/11/S/PC/2020/3/S2A_11SPC_20200326_0_L2A/B04.tif\n"
     ]
    },
    {
     "name": "stdout",
     "output_type": "stream",
     "text": [
      "\n",
      "\n",
      "wget this: %s https://sentinel-cogs.s3.us-west-2.amazonaws.com/sentinel-s2-l2a-cogs/11/S/PC/2020/3/S2A_11SPC_20200326_0_L2A/B04.tif\n",
      "wget -nv -O- https://sentinel-cogs.s3.us-west-2.amazonaws.com/sentinel-s2-l2a-cogs/11/S/PC/2020/3/S2A_11SPC_20200326_0_L2A/B04.tif | aws s3 cp - s3://dev-et-data/usmart/RIO/sentinel-s2-l2a-cogs/\n",
      "S2A_11SPC_20200326_0_L2A_B04.tif\n",
      "wget -nv -O- https://sentinel-cogs.s3.us-west-2.amazonaws.com/sentinel-s2-l2a-cogs/11/S/PC/2020/3/S2A_11SPC_20200326_0_L2A/B04.tif | aws s3 cp - s3://dev-et-data/usmart/RIO/sentinel-s2-l2a-cogs/S2A_11SPC_20200326_0_L2A_B04.tif\n"
     ]
    },
    {
     "name": "stderr",
     "output_type": "stream",
     "text": [
      "03:15:44: sending https://sentinel-cogs.s3.us-west-2.amazonaws.com/sentinel-s2-l2a-cogs/11/S/PC/2020/4/S2B_11SPC_20200410_0_L2A/B03.tif\n"
     ]
    },
    {
     "name": "stdout",
     "output_type": "stream",
     "text": [
      "\n",
      "\n",
      "wget this: %s https://sentinel-cogs.s3.us-west-2.amazonaws.com/sentinel-s2-l2a-cogs/11/S/PC/2020/4/S2B_11SPC_20200410_0_L2A/B03.tif\n",
      "wget -nv -O- https://sentinel-cogs.s3.us-west-2.amazonaws.com/sentinel-s2-l2a-cogs/11/S/PC/2020/4/S2B_11SPC_20200410_0_L2A/B03.tif | aws s3 cp - s3://dev-et-data/usmart/RIO/sentinel-s2-l2a-cogs/\n",
      "S2B_11SPC_20200410_0_L2A_B03.tif\n",
      "wget -nv -O- https://sentinel-cogs.s3.us-west-2.amazonaws.com/sentinel-s2-l2a-cogs/11/S/PC/2020/4/S2B_11SPC_20200410_0_L2A/B03.tif | aws s3 cp - s3://dev-et-data/usmart/RIO/sentinel-s2-l2a-cogs/S2B_11SPC_20200410_0_L2A_B03.tif\n"
     ]
    },
    {
     "name": "stderr",
     "output_type": "stream",
     "text": [
      "2021-09-23 03:15:45 URL:https://sentinel-cogs.s3.us-west-2.amazonaws.com/sentinel-s2-l2a-cogs/11/S/PC/2020/4/S2B_11SPC_20200430_0_L2A/B02.tif [204380571/204380571] -> \"-\" [1]\n",
      "03:15:46: Thread 99: finishing in 31 seconds\n",
      "03:15:46: xfer Thread 114: starting\n",
      "03:15:46: sending https://sentinel-cogs.s3.us-west-2.amazonaws.com/sentinel-s2-l2a-cogs/11/S/PC/2020/3/S2B_11SPC_20200324_1_L2A/B04.tif\n"
     ]
    },
    {
     "name": "stdout",
     "output_type": "stream",
     "text": [
      "\n",
      "\n",
      "wget this: %s https://sentinel-cogs.s3.us-west-2.amazonaws.com/sentinel-s2-l2a-cogs/11/S/PC/2020/3/S2B_11SPC_20200324_1_L2A/B04.tif\n",
      "wget -nv -O- https://sentinel-cogs.s3.us-west-2.amazonaws.com/sentinel-s2-l2a-cogs/11/S/PC/2020/3/S2B_11SPC_20200324_1_L2A/B04.tif | aws s3 cp - s3://dev-et-data/usmart/RIO/sentinel-s2-l2a-cogs/\n",
      "S2B_11SPC_20200324_1_L2A_B04.tif\n",
      "wget -nv -O- https://sentinel-cogs.s3.us-west-2.amazonaws.com/sentinel-s2-l2a-cogs/11/S/PC/2020/3/S2B_11SPC_20200324_1_L2A/B04.tif | aws s3 cp - s3://dev-et-data/usmart/RIO/sentinel-s2-l2a-cogs/S2B_11SPC_20200324_1_L2A_B04.tif\n"
     ]
    },
    {
     "name": "stderr",
     "output_type": "stream",
     "text": [
      "2021-09-23 03:15:48 URL:https://sentinel-cogs.s3.us-west-2.amazonaws.com/sentinel-s2-l2a-cogs/11/S/PC/2020/4/S2B_11SPC_20200403_0_L2A/B04.tif [160511011/160511011] -> \"-\" [1]\n",
      "2021-09-23 03:15:49 URL:https://sentinel-cogs.s3.us-west-2.amazonaws.com/sentinel-s2-l2a-cogs/11/S/PC/2020/5/S2B_11SPC_20200510_0_L2A/B02.tif [204002823/204002823] -> \"-\" [1]\n",
      "2021-09-23 03:15:50 URL:https://sentinel-cogs.s3.us-west-2.amazonaws.com/sentinel-s2-l2a-cogs/11/S/PC/2020/4/S2A_11SPC_20200405_0_L2A/B04.tif [214321343/214321343] -> \"-\" [1]\n",
      "03:15:50: sending https://sentinel-cogs.s3.us-west-2.amazonaws.com/sentinel-s2-l2a-cogs/11/S/PC/2020/4/S2B_11SPC_20200403_0_L2A/B03.tif\n"
     ]
    },
    {
     "name": "stdout",
     "output_type": "stream",
     "text": [
      "\n",
      "\n",
      "wget this: %s https://sentinel-cogs.s3.us-west-2.amazonaws.com/sentinel-s2-l2a-cogs/11/S/PC/2020/4/S2B_11SPC_20200403_0_L2A/B03.tif\n",
      "wget -nv -O- https://sentinel-cogs.s3.us-west-2.amazonaws.com/sentinel-s2-l2a-cogs/11/S/PC/2020/4/S2B_11SPC_20200403_0_L2A/B03.tif | aws s3 cp - s3://dev-et-data/usmart/RIO/sentinel-s2-l2a-cogs/\n",
      "S2B_11SPC_20200403_0_L2A_B03.tif\n",
      "wget -nv -O- https://sentinel-cogs.s3.us-west-2.amazonaws.com/sentinel-s2-l2a-cogs/11/S/PC/2020/4/S2B_11SPC_20200403_0_L2A/B03.tif | aws s3 cp - s3://dev-et-data/usmart/RIO/sentinel-s2-l2a-cogs/S2B_11SPC_20200403_0_L2A_B03.tif\n"
     ]
    },
    {
     "name": "stderr",
     "output_type": "stream",
     "text": [
      "2021-09-23 03:15:50 URL:https://sentinel-cogs.s3.us-west-2.amazonaws.com/sentinel-s2-l2a-cogs/11/S/PC/2020/4/S2A_11SPC_20200418_0_L2A/B02.tif [162494286/162494286] -> \"-\" [1]\n",
      "03:15:50: sending https://sentinel-cogs.s3.us-west-2.amazonaws.com/sentinel-s2-l2a-cogs/11/S/PC/2020/4/S2A_11SPC_20200405_0_L2A/B03.tif\n"
     ]
    },
    {
     "name": "stdout",
     "output_type": "stream",
     "text": [
      "\n",
      "\n",
      "wget this: %s https://sentinel-cogs.s3.us-west-2.amazonaws.com/sentinel-s2-l2a-cogs/11/S/PC/2020/4/S2A_11SPC_20200405_0_L2A/B03.tif\n",
      "wget -nv -O- https://sentinel-cogs.s3.us-west-2.amazonaws.com/sentinel-s2-l2a-cogs/11/S/PC/2020/4/S2A_11SPC_20200405_0_L2A/B03.tif | aws s3 cp - s3://dev-et-data/usmart/RIO/sentinel-s2-l2a-cogs/\n",
      "S2A_11SPC_20200405_0_L2A_B03.tif\n",
      "wget -nv -O- https://sentinel-cogs.s3.us-west-2.amazonaws.com/sentinel-s2-l2a-cogs/11/S/PC/2020/4/S2A_11SPC_20200405_0_L2A/B03.tif | aws s3 cp - s3://dev-et-data/usmart/RIO/sentinel-s2-l2a-cogs/S2A_11SPC_20200405_0_L2A_B03.tif\n"
     ]
    },
    {
     "name": "stderr",
     "output_type": "stream",
     "text": [
      "03:15:50: Thread 94: finishing in 45 seconds\n",
      "03:15:50: xfer Thread 115: starting\n",
      "03:15:50: sending https://sentinel-cogs.s3.us-west-2.amazonaws.com/sentinel-s2-l2a-cogs/11/S/PC/2020/3/S2B_11SPC_20200321_0_L2A/B04.tif\n"
     ]
    },
    {
     "name": "stdout",
     "output_type": "stream",
     "text": [
      "\n",
      "\n",
      "wget this: %s https://sentinel-cogs.s3.us-west-2.amazonaws.com/sentinel-s2-l2a-cogs/11/S/PC/2020/3/S2B_11SPC_20200321_0_L2A/B04.tif\n",
      "wget -nv -O- https://sentinel-cogs.s3.us-west-2.amazonaws.com/sentinel-s2-l2a-cogs/11/S/PC/2020/3/S2B_11SPC_20200321_0_L2A/B04.tif | aws s3 cp - s3://dev-et-data/usmart/RIO/sentinel-s2-l2a-cogs/\n",
      "S2B_11SPC_20200321_0_L2A_B04.tif\n",
      "wget -nv -O- https://sentinel-cogs.s3.us-west-2.amazonaws.com/sentinel-s2-l2a-cogs/11/S/PC/2020/3/S2B_11SPC_20200321_0_L2A/B04.tif | aws s3 cp - s3://dev-et-data/usmart/RIO/sentinel-s2-l2a-cogs/S2B_11SPC_20200321_0_L2A_B04.tif\n"
     ]
    },
    {
     "name": "stderr",
     "output_type": "stream",
     "text": [
      "2021-09-23 03:15:51 URL:https://sentinel-cogs.s3.us-west-2.amazonaws.com/sentinel-s2-l2a-cogs/11/S/PC/2020/4/S2B_11SPC_20200420_0_L2A/B02.tif [203031118/203031118] -> \"-\" [1]\n",
      "2021-09-23 03:15:51 URL:https://sentinel-cogs.s3.us-west-2.amazonaws.com/sentinel-s2-l2a-cogs/11/S/PC/2020/4/S2A_11SPC_20200408_0_L2A/B03.tif [138414134/138414134] -> \"-\" [1]\n",
      "2021-09-23 03:15:51 URL:https://sentinel-cogs.s3.us-west-2.amazonaws.com/sentinel-s2-l2a-cogs/11/S/PC/2020/4/S2A_11SPC_20200425_0_L2A/B02.tif [192899027/192899027] -> \"-\" [1]\n",
      "03:15:51: Thread 104: finishing in 28 seconds\n",
      "03:15:51: xfer Thread 116: starting\n",
      "03:15:51: sending https://sentinel-cogs.s3.us-west-2.amazonaws.com/sentinel-s2-l2a-cogs/11/S/PC/2020/3/S2A_11SPC_20200319_0_L2A/B04.tif\n"
     ]
    },
    {
     "name": "stdout",
     "output_type": "stream",
     "text": [
      "\n",
      "\n",
      "wget this: %s https://sentinel-cogs.s3.us-west-2.amazonaws.com/sentinel-s2-l2a-cogs/11/S/PC/2020/3/S2A_11SPC_20200319_0_L2A/B04.tif\n",
      "wget -nv -O- https://sentinel-cogs.s3.us-west-2.amazonaws.com/sentinel-s2-l2a-cogs/11/S/PC/2020/3/S2A_11SPC_20200319_0_L2A/B04.tif | aws s3 cp - s3://dev-et-data/usmart/RIO/sentinel-s2-l2a-cogs/\n",
      "S2A_11SPC_20200319_0_L2A_B04.tif\n",
      "wget -nv -O- https://sentinel-cogs.s3.us-west-2.amazonaws.com/sentinel-s2-l2a-cogs/11/S/PC/2020/3/S2A_11SPC_20200319_0_L2A/B04.tif | aws s3 cp - s3://dev-et-data/usmart/RIO/sentinel-s2-l2a-cogs/S2A_11SPC_20200319_0_L2A_B04.tif\n"
     ]
    },
    {
     "name": "stderr",
     "output_type": "stream",
     "text": [
      "2021-09-23 03:15:51 URL:https://sentinel-cogs.s3.us-west-2.amazonaws.com/sentinel-s2-l2a-cogs/11/S/PC/2020/3/S2B_11SPC_20200331_0_L2A/B04.tif [208368767/208368767] -> \"-\" [1]\n",
      "2021-09-23 03:15:51 URL:https://sentinel-cogs.s3.us-west-2.amazonaws.com/sentinel-s2-l2a-cogs/11/S/PC/2020/4/S2B_11SPC_20200413_0_L2A/B03.tif [171835330/171835330] -> \"-\" [1]\n",
      "03:15:52: Thread 103: finishing in 30 seconds\n",
      "03:15:52: xfer Thread 117: starting\n",
      "03:15:52: sending https://sentinel-cogs.s3.us-west-2.amazonaws.com/sentinel-s2-l2a-cogs/11/S/PC/2020/3/S2A_11SPC_20200316_0_L2A/B04.tif\n",
      "2021-09-23 03:15:52 URL:https://sentinel-cogs.s3.us-west-2.amazonaws.com/sentinel-s2-l2a-cogs/11/S/PC/2020/4/S2B_11SPC_20200423_0_L2A/B02.tif [173694835/173694835] -> \"-\" [1]\n",
      "03:15:52: sending https://sentinel-cogs.s3.us-west-2.amazonaws.com/sentinel-s2-l2a-cogs/11/S/PC/2020/4/S2A_11SPC_20200408_0_L2A/B02.tif\n",
      "03:15:52: Thread 101: finishing in 34 seconds\n",
      "03:15:52: xfer Thread 118: starting\n",
      "03:15:52: sending https://sentinel-cogs.s3.us-west-2.amazonaws.com/sentinel-s2-l2a-cogs/11/S/PC/2020/3/S2B_11SPC_20200314_0_L2A/B04.tif\n"
     ]
    },
    {
     "name": "stdout",
     "output_type": "stream",
     "text": [
      "\n",
      "\n",
      "wget this: %s https://sentinel-cogs.s3.us-west-2.amazonaws.com/sentinel-s2-l2a-cogs/11/S/PC/2020/3/S2A_11SPC_20200316_0_L2A/B04.tif\n",
      "wget -nv -O- https://sentinel-cogs.s3.us-west-2.amazonaws.com/sentinel-s2-l2a-cogs/11/S/PC/2020/3/S2A_11SPC_20200316_0_L2A/B04.tif | aws s3 cp - s3://dev-et-data/usmart/RIO/sentinel-s2-l2a-cogs/\n",
      "S2A_11SPC_20200316_0_L2A_B04.tif\n",
      "wget -nv -O- https://sentinel-cogs.s3.us-west-2.amazonaws.com/sentinel-s2-l2a-cogs/11/S/PC/2020/3/S2A_11SPC_20200316_0_L2A/B04.tif | aws s3 cp - s3://dev-et-data/usmart/RIO/sentinel-s2-l2a-cogs/S2A_11SPC_20200316_0_L2A_B04.tif\n",
      "\n",
      "\n",
      "wget this: %s https://sentinel-cogs.s3.us-west-2.amazonaws.com/sentinel-s2-l2a-cogs/11/S/PC/2020/4/S2A_11SPC_20200408_0_L2A/B02.tif\n",
      "wget -nv -O- https://sentinel-cogs.s3.us-west-2.amazonaws.com/sentinel-s2-l2a-cogs/11/S/PC/2020/4/S2A_11SPC_20200408_0_L2A/B02.tif | aws s3 cp - s3://dev-et-data/usmart/RIO/sentinel-s2-l2a-cogs/\n",
      "S2A_11SPC_20200408_0_L2A_B02.tif\n",
      "wget -nv -O- https://sentinel-cogs.s3.us-west-2.amazonaws.com/sentinel-s2-l2a-cogs/11/S/PC/2020/4/S2A_11SPC_20200408_0_L2A/B02.tif | aws s3 cp - s3://dev-et-data/usmart/RIO/sentinel-s2-l2a-cogs/S2A_11SPC_20200408_0_L2A_B02.tif\n",
      "\n",
      "\n",
      "wget this: %s https://sentinel-cogs.s3.us-west-2.amazonaws.com/sentinel-s2-l2a-cogs/11/S/PC/2020/3/S2B_11SPC_20200314_0_L2A/B04.tif\n",
      "wget -nv -O- https://sentinel-cogs.s3.us-west-2.amazonaws.com/sentinel-s2-l2a-cogs/11/S/PC/2020/3/S2B_11SPC_20200314_0_L2A/B04.tif | aws s3 cp - s3://dev-et-data/usmart/RIO/sentinel-s2-l2a-cogs/\n",
      "S2B_11SPC_20200314_0_L2A_B04.tif\n",
      "wget -nv -O- https://sentinel-cogs.s3.us-west-2.amazonaws.com/sentinel-s2-l2a-cogs/11/S/PC/2020/3/S2B_11SPC_20200314_0_L2A/B04.tif | aws s3 cp - s3://dev-et-data/usmart/RIO/sentinel-s2-l2a-cogs/S2B_11SPC_20200314_0_L2A_B04.tif\n"
     ]
    },
    {
     "name": "stderr",
     "output_type": "stream",
     "text": [
      "03:15:52: sending https://sentinel-cogs.s3.us-west-2.amazonaws.com/sentinel-s2-l2a-cogs/11/S/PC/2020/4/S2B_11SPC_20200413_0_L2A/B02.tif\n"
     ]
    },
    {
     "name": "stdout",
     "output_type": "stream",
     "text": [
      "\n",
      "\n",
      "wget this: %s https://sentinel-cogs.s3.us-west-2.amazonaws.com/sentinel-s2-l2a-cogs/11/S/PC/2020/4/S2B_11SPC_20200413_0_L2A/B02.tif\n",
      "wget -nv -O- https://sentinel-cogs.s3.us-west-2.amazonaws.com/sentinel-s2-l2a-cogs/11/S/PC/2020/4/S2B_11SPC_20200413_0_L2A/B02.tif | aws s3 cp - s3://dev-et-data/usmart/RIO/sentinel-s2-l2a-cogs/\n",
      "S2B_11SPC_20200413_0_L2A_B02.tif\n",
      "wget -nv -O- https://sentinel-cogs.s3.us-west-2.amazonaws.com/sentinel-s2-l2a-cogs/11/S/PC/2020/4/S2B_11SPC_20200413_0_L2A/B02.tif | aws s3 cp - s3://dev-et-data/usmart/RIO/sentinel-s2-l2a-cogs/S2B_11SPC_20200413_0_L2A_B02.tif\n"
     ]
    },
    {
     "name": "stderr",
     "output_type": "stream",
     "text": [
      "03:15:53: sending https://sentinel-cogs.s3.us-west-2.amazonaws.com/sentinel-s2-l2a-cogs/11/S/PC/2020/3/S2B_11SPC_20200331_0_L2A/B03.tif\n"
     ]
    },
    {
     "name": "stdout",
     "output_type": "stream",
     "text": [
      "\n",
      "\n",
      "wget this: %s https://sentinel-cogs.s3.us-west-2.amazonaws.com/sentinel-s2-l2a-cogs/11/S/PC/2020/3/S2B_11SPC_20200331_0_L2A/B03.tif\n",
      "wget -nv -O- https://sentinel-cogs.s3.us-west-2.amazonaws.com/sentinel-s2-l2a-cogs/11/S/PC/2020/3/S2B_11SPC_20200331_0_L2A/B03.tif | aws s3 cp - s3://dev-et-data/usmart/RIO/sentinel-s2-l2a-cogs/\n",
      "S2B_11SPC_20200331_0_L2A_B03.tif\n",
      "wget -nv -O- https://sentinel-cogs.s3.us-west-2.amazonaws.com/sentinel-s2-l2a-cogs/11/S/PC/2020/3/S2B_11SPC_20200331_0_L2A/B03.tif | aws s3 cp - s3://dev-et-data/usmart/RIO/sentinel-s2-l2a-cogs/S2B_11SPC_20200331_0_L2A_B03.tif\n"
     ]
    },
    {
     "name": "stderr",
     "output_type": "stream",
     "text": [
      "2021-09-23 03:15:53 URL:https://sentinel-cogs.s3.us-west-2.amazonaws.com/sentinel-s2-l2a-cogs/11/S/PC/2020/3/S2A_11SPC_20200326_0_L2A/B04.tif [182250663/182250663] -> \"-\" [1]\n",
      "2021-09-23 03:15:53 URL:https://sentinel-cogs.s3.us-west-2.amazonaws.com/sentinel-s2-l2a-cogs/11/S/PC/2020/3/S2A_11SPC_20200329_0_L2A/B04.tif [134753873/134753873] -> \"-\" [1]\n",
      "03:15:53: Thread 102: finishing in 34 seconds\n",
      "03:15:53: xfer Thread 119: starting\n",
      "03:15:53: sending https://sentinel-cogs.s3.us-west-2.amazonaws.com/sentinel-s2-l2a-cogs/11/S/PC/2020/3/S2B_11SPC_20200311_0_L2A/B04.tif\n"
     ]
    },
    {
     "name": "stdout",
     "output_type": "stream",
     "text": [
      "\n",
      "\n",
      "wget this: %s https://sentinel-cogs.s3.us-west-2.amazonaws.com/sentinel-s2-l2a-cogs/11/S/PC/2020/3/S2B_11SPC_20200311_0_L2A/B04.tif\n",
      "wget -nv -O- https://sentinel-cogs.s3.us-west-2.amazonaws.com/sentinel-s2-l2a-cogs/11/S/PC/2020/3/S2B_11SPC_20200311_0_L2A/B04.tif | aws s3 cp - s3://dev-et-data/usmart/RIO/sentinel-s2-l2a-cogs/\n",
      "S2B_11SPC_20200311_0_L2A_B04.tif\n",
      "wget -nv -O- https://sentinel-cogs.s3.us-west-2.amazonaws.com/sentinel-s2-l2a-cogs/11/S/PC/2020/3/S2B_11SPC_20200311_0_L2A/B04.tif | aws s3 cp - s3://dev-et-data/usmart/RIO/sentinel-s2-l2a-cogs/S2B_11SPC_20200311_0_L2A_B04.tif\n"
     ]
    },
    {
     "name": "stderr",
     "output_type": "stream",
     "text": [
      "03:15:54: sending https://sentinel-cogs.s3.us-west-2.amazonaws.com/sentinel-s2-l2a-cogs/11/S/PC/2020/3/S2A_11SPC_20200326_0_L2A/B03.tif\n",
      "03:15:54: sending https://sentinel-cogs.s3.us-west-2.amazonaws.com/sentinel-s2-l2a-cogs/11/S/PC/2020/3/S2A_11SPC_20200329_0_L2A/B03.tif\n"
     ]
    },
    {
     "name": "stdout",
     "output_type": "stream",
     "text": [
      "\n",
      "\n",
      "wget this: %s https://sentinel-cogs.s3.us-west-2.amazonaws.com/sentinel-s2-l2a-cogs/11/S/PC/2020/3/S2A_11SPC_20200326_0_L2A/B03.tif\n",
      "wget -nv -O- https://sentinel-cogs.s3.us-west-2.amazonaws.com/sentinel-s2-l2a-cogs/11/S/PC/2020/3/S2A_11SPC_20200326_0_L2A/B03.tif | aws s3 cp - s3://dev-et-data/usmart/RIO/sentinel-s2-l2a-cogs/\n",
      "S2A_11SPC_20200326_0_L2A_B03.tif\n",
      "wget -nv -O- https://sentinel-cogs.s3.us-west-2.amazonaws.com/sentinel-s2-l2a-cogs/11/S/PC/2020/3/S2A_11SPC_20200326_0_L2A/B03.tif | aws s3 cp - s3://dev-et-data/usmart/RIO/sentinel-s2-l2a-cogs/S2A_11SPC_20200326_0_L2A_B03.tif\n",
      "\n",
      "\n",
      "wget this: %s https://sentinel-cogs.s3.us-west-2.amazonaws.com/sentinel-s2-l2a-cogs/11/S/PC/2020/3/S2A_11SPC_20200329_0_L2A/B03.tif\n",
      "wget -nv -O- https://sentinel-cogs.s3.us-west-2.amazonaws.com/sentinel-s2-l2a-cogs/11/S/PC/2020/3/S2A_11SPC_20200329_0_L2A/B03.tif | aws s3 cp - s3://dev-et-data/usmart/RIO/sentinel-s2-l2a-cogs/\n",
      "S2A_11SPC_20200329_0_L2A_B03.tif\n",
      "wget -nv -O- https://sentinel-cogs.s3.us-west-2.amazonaws.com/sentinel-s2-l2a-cogs/11/S/PC/2020/3/S2A_11SPC_20200329_0_L2A/B03.tif | aws s3 cp - s3://dev-et-data/usmart/RIO/sentinel-s2-l2a-cogs/S2A_11SPC_20200329_0_L2A_B03.tif\n"
     ]
    },
    {
     "name": "stderr",
     "output_type": "stream",
     "text": [
      "2021-09-23 03:15:56 URL:https://sentinel-cogs.s3.us-west-2.amazonaws.com/sentinel-s2-l2a-cogs/11/S/PC/2020/4/S2B_11SPC_20200410_0_L2A/B03.tif [205502693/205502693] -> \"-\" [1]\n",
      "2021-09-23 03:15:57 URL:https://sentinel-cogs.s3.us-west-2.amazonaws.com/sentinel-s2-l2a-cogs/11/S/PC/2020/4/S2A_11SPC_20200415_0_L2A/B03.tif [206940670/206940670] -> \"-\" [1]\n",
      "03:15:57: sending https://sentinel-cogs.s3.us-west-2.amazonaws.com/sentinel-s2-l2a-cogs/11/S/PC/2020/4/S2B_11SPC_20200410_0_L2A/B02.tif\n"
     ]
    },
    {
     "name": "stdout",
     "output_type": "stream",
     "text": [
      "\n",
      "\n",
      "wget this: %s https://sentinel-cogs.s3.us-west-2.amazonaws.com/sentinel-s2-l2a-cogs/11/S/PC/2020/4/S2B_11SPC_20200410_0_L2A/B02.tif\n",
      "wget -nv -O- https://sentinel-cogs.s3.us-west-2.amazonaws.com/sentinel-s2-l2a-cogs/11/S/PC/2020/4/S2B_11SPC_20200410_0_L2A/B02.tif | aws s3 cp - s3://dev-et-data/usmart/RIO/sentinel-s2-l2a-cogs/\n",
      "S2B_11SPC_20200410_0_L2A_B02.tif\n",
      "wget -nv -O- https://sentinel-cogs.s3.us-west-2.amazonaws.com/sentinel-s2-l2a-cogs/11/S/PC/2020/4/S2B_11SPC_20200410_0_L2A/B02.tif | aws s3 cp - s3://dev-et-data/usmart/RIO/sentinel-s2-l2a-cogs/S2B_11SPC_20200410_0_L2A_B02.tif\n"
     ]
    },
    {
     "name": "stderr",
     "output_type": "stream",
     "text": [
      "2021-09-23 03:15:58 URL:https://sentinel-cogs.s3.us-west-2.amazonaws.com/sentinel-s2-l2a-cogs/11/S/PC/2020/3/S2B_11SPC_20200324_1_L2A/B04.tif [169787202/169787202] -> \"-\" [1]\n",
      "03:15:58: sending https://sentinel-cogs.s3.us-west-2.amazonaws.com/sentinel-s2-l2a-cogs/11/S/PC/2020/4/S2A_11SPC_20200415_0_L2A/B02.tif\n"
     ]
    },
    {
     "name": "stdout",
     "output_type": "stream",
     "text": [
      "\n",
      "\n",
      "wget this: %s https://sentinel-cogs.s3.us-west-2.amazonaws.com/sentinel-s2-l2a-cogs/11/S/PC/2020/4/S2A_11SPC_20200415_0_L2A/B02.tif\n",
      "wget -nv -O- https://sentinel-cogs.s3.us-west-2.amazonaws.com/sentinel-s2-l2a-cogs/11/S/PC/2020/4/S2A_11SPC_20200415_0_L2A/B02.tif | aws s3 cp - s3://dev-et-data/usmart/RIO/sentinel-s2-l2a-cogs/\n",
      "S2A_11SPC_20200415_0_L2A_B02.tif\n",
      "wget -nv -O- https://sentinel-cogs.s3.us-west-2.amazonaws.com/sentinel-s2-l2a-cogs/11/S/PC/2020/4/S2A_11SPC_20200415_0_L2A/B02.tif | aws s3 cp - s3://dev-et-data/usmart/RIO/sentinel-s2-l2a-cogs/S2A_11SPC_20200415_0_L2A_B02.tif\n"
     ]
    },
    {
     "name": "stderr",
     "output_type": "stream",
     "text": [
      "2021-09-23 03:15:58 URL:https://sentinel-cogs.s3.us-west-2.amazonaws.com/sentinel-s2-l2a-cogs/11/S/PC/2020/4/S2B_11SPC_20200403_0_L2A/B03.tif [159919019/159919019] -> \"-\" [1]\n",
      "2021-09-23 03:15:59 URL:https://sentinel-cogs.s3.us-west-2.amazonaws.com/sentinel-s2-l2a-cogs/11/S/PC/2020/3/S2A_11SPC_20200319_0_L2A/B04.tif [159313691/159313691] -> \"-\" [1]\n",
      "03:15:59: sending https://sentinel-cogs.s3.us-west-2.amazonaws.com/sentinel-s2-l2a-cogs/11/S/PC/2020/3/S2B_11SPC_20200324_1_L2A/B03.tif\n"
     ]
    },
    {
     "name": "stdout",
     "output_type": "stream",
     "text": [
      "\n",
      "\n",
      "wget this: %s https://sentinel-cogs.s3.us-west-2.amazonaws.com/sentinel-s2-l2a-cogs/11/S/PC/2020/3/S2B_11SPC_20200324_1_L2A/B03.tif\n",
      "wget -nv -O- https://sentinel-cogs.s3.us-west-2.amazonaws.com/sentinel-s2-l2a-cogs/11/S/PC/2020/3/S2B_11SPC_20200324_1_L2A/B03.tif | aws s3 cp - s3://dev-et-data/usmart/RIO/sentinel-s2-l2a-cogs/\n",
      "S2B_11SPC_20200324_1_L2A_B03.tif\n",
      "wget -nv -O- https://sentinel-cogs.s3.us-west-2.amazonaws.com/sentinel-s2-l2a-cogs/11/S/PC/2020/3/S2B_11SPC_20200324_1_L2A/B03.tif | aws s3 cp - s3://dev-et-data/usmart/RIO/sentinel-s2-l2a-cogs/S2B_11SPC_20200324_1_L2A_B03.tif\n"
     ]
    },
    {
     "name": "stderr",
     "output_type": "stream",
     "text": [
      "2021-09-23 03:15:59 URL:https://sentinel-cogs.s3.us-west-2.amazonaws.com/sentinel-s2-l2a-cogs/11/S/PC/2020/4/S2A_11SPC_20200408_0_L2A/B02.tif [141444159/141444159] -> \"-\" [1]\n",
      "03:16:00: Thread 108: finishing in 24 seconds\n",
      "03:16:00: xfer Thread 120: starting\n",
      "03:16:00: sending https://sentinel-cogs.s3.us-west-2.amazonaws.com/sentinel-s2-l2a-cogs/11/S/PC/2020/3/S2A_11SPC_20200309_0_L2A/B04.tif\n",
      "03:16:00: sending https://sentinel-cogs.s3.us-west-2.amazonaws.com/sentinel-s2-l2a-cogs/11/S/PC/2020/3/S2A_11SPC_20200319_0_L2A/B03.tif\n",
      "03:16:00: sending https://sentinel-cogs.s3.us-west-2.amazonaws.com/sentinel-s2-l2a-cogs/11/S/PC/2020/4/S2B_11SPC_20200403_0_L2A/B02.tif\n"
     ]
    },
    {
     "name": "stdout",
     "output_type": "stream",
     "text": [
      "\n",
      "\n",
      "wget this: %s https://sentinel-cogs.s3.us-west-2.amazonaws.com/sentinel-s2-l2a-cogs/11/S/PC/2020/3/S2A_11SPC_20200309_0_L2A/B04.tif\n",
      "wget -nv -O- https://sentinel-cogs.s3.us-west-2.amazonaws.com/sentinel-s2-l2a-cogs/11/S/PC/2020/3/S2A_11SPC_20200309_0_L2A/B04.tif | aws s3 cp - s3://dev-et-data/usmart/RIO/sentinel-s2-l2a-cogs/\n",
      "S2A_11SPC_20200309_0_L2A_B04.tif\n",
      "wget -nv -O- https://sentinel-cogs.s3.us-west-2.amazonaws.com/sentinel-s2-l2a-cogs/11/S/PC/2020/3/S2A_11SPC_20200309_0_L2A/B04.tif | aws s3 cp - s3://dev-et-data/usmart/RIO/sentinel-s2-l2a-cogs/S2A_11SPC_20200309_0_L2A_B04.tif\n",
      "\n",
      "\n",
      "wget this: %s https://sentinel-cogs.s3.us-west-2.amazonaws.com/sentinel-s2-l2a-cogs/11/S/PC/2020/3/S2A_11SPC_20200319_0_L2A/B03.tif\n",
      "wget -nv -O- https://sentinel-cogs.s3.us-west-2.amazonaws.com/sentinel-s2-l2a-cogs/11/S/PC/2020/3/S2A_11SPC_20200319_0_L2A/B03.tif | aws s3 cp - s3://dev-et-data/usmart/RIO/sentinel-s2-l2a-cogs/\n",
      "S2A_11SPC_20200319_0_L2A_B03.tif\n",
      "wget -nv -O- https://sentinel-cogs.s3.us-west-2.amazonaws.com/sentinel-s2-l2a-cogs/11/S/PC/2020/3/S2A_11SPC_20200319_0_L2A/B03.tif | aws s3 cp - s3://dev-et-data/usmart/RIO/sentinel-s2-l2a-cogs/S2A_11SPC_20200319_0_L2A_B03.tif\n",
      "\n",
      "\n",
      "wget this: %s https://sentinel-cogs.s3.us-west-2.amazonaws.com/sentinel-s2-l2a-cogs/11/S/PC/2020/4/S2B_11SPC_20200403_0_L2A/B02.tif\n",
      "wget -nv -O- https://sentinel-cogs.s3.us-west-2.amazonaws.com/sentinel-s2-l2a-cogs/11/S/PC/2020/4/S2B_11SPC_20200403_0_L2A/B02.tif | aws s3 cp - s3://dev-et-data/usmart/RIO/sentinel-s2-l2a-cogs/\n",
      "S2B_11SPC_20200403_0_L2A_B02.tif\n",
      "wget -nv -O- https://sentinel-cogs.s3.us-west-2.amazonaws.com/sentinel-s2-l2a-cogs/11/S/PC/2020/4/S2B_11SPC_20200403_0_L2A/B02.tif | aws s3 cp - s3://dev-et-data/usmart/RIO/sentinel-s2-l2a-cogs/S2B_11SPC_20200403_0_L2A_B02.tif\n"
     ]
    },
    {
     "name": "stderr",
     "output_type": "stream",
     "text": [
      "2021-09-23 03:16:00 URL:https://sentinel-cogs.s3.us-west-2.amazonaws.com/sentinel-s2-l2a-cogs/11/S/PC/2020/4/S2B_11SPC_20200413_0_L2A/B02.tif [173030724/173030724] -> \"-\" [1]\n",
      "2021-09-23 03:16:00 URL:https://sentinel-cogs.s3.us-west-2.amazonaws.com/sentinel-s2-l2a-cogs/11/S/PC/2020/3/S2B_11SPC_20200321_0_L2A/B04.tif [208658612/208658612] -> \"-\" [1]\n",
      "2021-09-23 03:16:00 URL:https://sentinel-cogs.s3.us-west-2.amazonaws.com/sentinel-s2-l2a-cogs/11/S/PC/2020/3/S2B_11SPC_20200314_0_L2A/B04.tif [165660154/165660154] -> \"-\" [1]\n",
      "2021-09-23 03:16:00 URL:https://sentinel-cogs.s3.us-west-2.amazonaws.com/sentinel-s2-l2a-cogs/11/S/PC/2020/4/S2A_11SPC_20200405_0_L2A/B03.tif [213750926/213750926] -> \"-\" [1]\n",
      "2021-09-23 03:16:01 URL:https://sentinel-cogs.s3.us-west-2.amazonaws.com/sentinel-s2-l2a-cogs/11/S/PC/2020/3/S2A_11SPC_20200316_0_L2A/B04.tif [185458809/185458809] -> \"-\" [1]\n",
      "03:16:01: sending https://sentinel-cogs.s3.us-west-2.amazonaws.com/sentinel-s2-l2a-cogs/11/S/PC/2020/4/S2A_11SPC_20200405_0_L2A/B02.tif\n",
      "03:16:01: sending https://sentinel-cogs.s3.us-west-2.amazonaws.com/sentinel-s2-l2a-cogs/11/S/PC/2020/3/S2B_11SPC_20200314_0_L2A/B03.tif\n",
      "03:16:01: Thread 106: finishing in 27 seconds\n",
      "03:16:01: xfer Thread 121: starting\n",
      "03:16:01: sending https://sentinel-cogs.s3.us-west-2.amazonaws.com/sentinel-s2-l2a-cogs/11/S/PC/2020/3/S2A_11SPC_20200306_0_L2A/B04.tif\n",
      "03:16:01: sending https://sentinel-cogs.s3.us-west-2.amazonaws.com/sentinel-s2-l2a-cogs/11/S/PC/2020/3/S2B_11SPC_20200321_0_L2A/B03.tif\n"
     ]
    },
    {
     "name": "stdout",
     "output_type": "stream",
     "text": [
      "\n",
      "\n",
      "wget this: %s https://sentinel-cogs.s3.us-west-2.amazonaws.com/sentinel-s2-l2a-cogs/11/S/PC/2020/4/S2A_11SPC_20200405_0_L2A/B02.tif\n",
      "wget -nv -O- https://sentinel-cogs.s3.us-west-2.amazonaws.com/sentinel-s2-l2a-cogs/11/S/PC/2020/4/S2A_11SPC_20200405_0_L2A/B02.tif | aws s3 cp - s3://dev-et-data/usmart/RIO/sentinel-s2-l2a-cogs/\n",
      "S2A_11SPC_20200405_0_L2A_B02.tif\n",
      "wget -nv -O- https://sentinel-cogs.s3.us-west-2.amazonaws.com/sentinel-s2-l2a-cogs/11/S/PC/2020/4/S2A_11SPC_20200405_0_L2A/B02.tif | aws s3 cp - s3://dev-et-data/usmart/RIO/sentinel-s2-l2a-cogs/S2A_11SPC_20200405_0_L2A_B02.tif\n",
      "\n",
      "\n",
      "\n",
      "\n",
      "wget this: %s https://sentinel-cogs.s3.us-west-2.amazonaws.com/sentinel-s2-l2a-cogs/11/S/PC/2020/3/S2B_11SPC_20200314_0_L2A/B03.tif\n",
      "wget -nv -O- https://sentinel-cogs.s3.us-west-2.amazonaws.com/sentinel-s2-l2a-cogs/11/S/PC/2020/3/S2B_11SPC_20200314_0_L2A/B03.tif | aws s3 cp - s3://dev-et-data/usmart/RIO/sentinel-s2-l2a-cogs/\n",
      "S2B_11SPC_20200314_0_L2A_B03.tif\n",
      "wget -nv -O- https://sentinel-cogs.s3.us-west-2.amazonaws.com/sentinel-s2-l2a-cogs/11/S/PC/2020/3/S2B_11SPC_20200314_0_L2A/B03.tif | aws s3 cp - s3://dev-et-data/usmart/RIO/sentinel-s2-l2a-cogs/S2B_11SPC_20200314_0_L2A_B03.tif\n",
      "\n",
      "\n",
      "wget this: %s https://sentinel-cogs.s3.us-west-2.amazonaws.com/sentinel-s2-l2a-cogs/11/S/PC/2020/3/S2A_11SPC_20200306_0_L2A/B04.tif\n",
      "wget -nv -O- https://sentinel-cogs.s3.us-west-2.amazonaws.com/sentinel-s2-l2a-cogs/11/S/PC/2020/3/S2A_11SPC_20200306_0_L2A/B04.tif | aws s3 cp - s3://dev-et-data/usmart/RIO/sentinel-s2-l2a-cogs/\n",
      "S2A_11SPC_20200306_0_L2A_B04.tif\n",
      "wget -nv -O- https://sentinel-cogs.s3.us-west-2.amazonaws.com/sentinel-s2-l2a-cogs/11/S/PC/2020/3/S2A_11SPC_20200306_0_L2A/B04.tif | aws s3 cp - s3://dev-et-data/usmart/RIO/sentinel-s2-l2a-cogs/S2A_11SPC_20200306_0_L2A_B04.tif\n",
      "wget this: %s https://sentinel-cogs.s3.us-west-2.amazonaws.com/sentinel-s2-l2a-cogs/11/S/PC/2020/3/S2B_11SPC_20200321_0_L2A/B03.tif\n",
      "wget -nv -O- https://sentinel-cogs.s3.us-west-2.amazonaws.com/sentinel-s2-l2a-cogs/11/S/PC/2020/3/S2B_11SPC_20200321_0_L2A/B03.tif | aws s3 cp - s3://dev-et-data/usmart/RIO/sentinel-s2-l2a-cogs/\n",
      "S2B_11SPC_20200321_0_L2A_B03.tif\n",
      "wget -nv -O- https://sentinel-cogs.s3.us-west-2.amazonaws.com/sentinel-s2-l2a-cogs/11/S/PC/2020/3/S2B_11SPC_20200321_0_L2A/B03.tif | aws s3 cp - s3://dev-et-data/usmart/RIO/sentinel-s2-l2a-cogs/S2B_11SPC_20200321_0_L2A_B03.tif\n"
     ]
    },
    {
     "name": "stderr",
     "output_type": "stream",
     "text": [
      "03:16:02: sending https://sentinel-cogs.s3.us-west-2.amazonaws.com/sentinel-s2-l2a-cogs/11/S/PC/2020/3/S2A_11SPC_20200316_0_L2A/B03.tif\n"
     ]
    },
    {
     "name": "stdout",
     "output_type": "stream",
     "text": [
      "\n",
      "\n",
      "wget this: %s https://sentinel-cogs.s3.us-west-2.amazonaws.com/sentinel-s2-l2a-cogs/11/S/PC/2020/3/S2A_11SPC_20200316_0_L2A/B03.tif\n",
      "wget -nv -O- https://sentinel-cogs.s3.us-west-2.amazonaws.com/sentinel-s2-l2a-cogs/11/S/PC/2020/3/S2A_11SPC_20200316_0_L2A/B03.tif | aws s3 cp - s3://dev-et-data/usmart/RIO/sentinel-s2-l2a-cogs/\n",
      "S2A_11SPC_20200316_0_L2A_B03.tif\n",
      "wget -nv -O- https://sentinel-cogs.s3.us-west-2.amazonaws.com/sentinel-s2-l2a-cogs/11/S/PC/2020/3/S2A_11SPC_20200316_0_L2A/B03.tif | aws s3 cp - s3://dev-et-data/usmart/RIO/sentinel-s2-l2a-cogs/S2A_11SPC_20200316_0_L2A_B03.tif\n"
     ]
    },
    {
     "name": "stderr",
     "output_type": "stream",
     "text": [
      "2021-09-23 03:16:03 URL:https://sentinel-cogs.s3.us-west-2.amazonaws.com/sentinel-s2-l2a-cogs/11/S/PC/2020/3/S2B_11SPC_20200331_0_L2A/B03.tif [207696397/207696397] -> \"-\" [1]\n",
      "2021-09-23 03:16:03 URL:https://sentinel-cogs.s3.us-west-2.amazonaws.com/sentinel-s2-l2a-cogs/11/S/PC/2020/3/S2A_11SPC_20200329_0_L2A/B03.tif [135692481/135692481] -> \"-\" [1]\n",
      "2021-09-23 03:16:03 URL:https://sentinel-cogs.s3.us-west-2.amazonaws.com/sentinel-s2-l2a-cogs/11/S/PC/2020/3/S2B_11SPC_20200311_0_L2A/B04.tif [215669701/215669701] -> \"-\" [1]\n",
      "2021-09-23 03:16:04 URL:https://sentinel-cogs.s3.us-west-2.amazonaws.com/sentinel-s2-l2a-cogs/11/S/PC/2020/3/S2A_11SPC_20200326_0_L2A/B03.tif [183907544/183907544] -> \"-\" [1]\n",
      "03:16:04: sending https://sentinel-cogs.s3.us-west-2.amazonaws.com/sentinel-s2-l2a-cogs/11/S/PC/2020/3/S2A_11SPC_20200329_0_L2A/B02.tif\n",
      "03:16:04: sending https://sentinel-cogs.s3.us-west-2.amazonaws.com/sentinel-s2-l2a-cogs/11/S/PC/2020/3/S2B_11SPC_20200331_0_L2A/B02.tif\n"
     ]
    },
    {
     "name": "stdout",
     "output_type": "stream",
     "text": [
      "\n",
      "\n",
      "wget this: %s https://sentinel-cogs.s3.us-west-2.amazonaws.com/sentinel-s2-l2a-cogs/11/S/PC/2020/3/S2A_11SPC_20200329_0_L2A/B02.tif\n",
      "wget -nv -O- https://sentinel-cogs.s3.us-west-2.amazonaws.com/sentinel-s2-l2a-cogs/11/S/PC/2020/3/S2A_11SPC_20200329_0_L2A/B02.tif | aws s3 cp - s3://dev-et-data/usmart/RIO/sentinel-s2-l2a-cogs/\n",
      "S2A_11SPC_20200329_0_L2A_B02.tif\n",
      "wget -nv -O- https://sentinel-cogs.s3.us-west-2.amazonaws.com/sentinel-s2-l2a-cogs/11/S/PC/2020/3/S2A_11SPC_20200329_0_L2A/B02.tif | aws s3 cp - s3://dev-et-data/usmart/RIO/sentinel-s2-l2a-cogs/S2A_11SPC_20200329_0_L2A_B02.tif\n",
      "\n",
      "\n",
      "wget this: %s https://sentinel-cogs.s3.us-west-2.amazonaws.com/sentinel-s2-l2a-cogs/11/S/PC/2020/3/S2B_11SPC_20200331_0_L2A/B02.tif\n",
      "wget -nv -O- https://sentinel-cogs.s3.us-west-2.amazonaws.com/sentinel-s2-l2a-cogs/11/S/PC/2020/3/S2B_11SPC_20200331_0_L2A/B02.tif | aws s3 cp - s3://dev-et-data/usmart/RIO/sentinel-s2-l2a-cogs/\n",
      "S2B_11SPC_20200331_0_L2A_B02.tif\n",
      "wget -nv -O- https://sentinel-cogs.s3.us-west-2.amazonaws.com/sentinel-s2-l2a-cogs/11/S/PC/2020/3/S2B_11SPC_20200331_0_L2A/B02.tif | aws s3 cp - s3://dev-et-data/usmart/RIO/sentinel-s2-l2a-cogs/S2B_11SPC_20200331_0_L2A_B02.tif\n"
     ]
    },
    {
     "name": "stderr",
     "output_type": "stream",
     "text": [
      "03:16:04: sending https://sentinel-cogs.s3.us-west-2.amazonaws.com/sentinel-s2-l2a-cogs/11/S/PC/2020/3/S2B_11SPC_20200311_0_L2A/B03.tif\n"
     ]
    },
    {
     "name": "stdout",
     "output_type": "stream",
     "text": [
      "\n",
      "\n",
      "wget this: %s https://sentinel-cogs.s3.us-west-2.amazonaws.com/sentinel-s2-l2a-cogs/11/S/PC/2020/3/S2B_11SPC_20200311_0_L2A/B03.tif\n",
      "wget -nv -O- https://sentinel-cogs.s3.us-west-2.amazonaws.com/sentinel-s2-l2a-cogs/11/S/PC/2020/3/S2B_11SPC_20200311_0_L2A/B03.tif | aws s3 cp - s3://dev-et-data/usmart/RIO/sentinel-s2-l2a-cogs/\n",
      "S2B_11SPC_20200311_0_L2A_B03.tif\n",
      "wget -nv -O- https://sentinel-cogs.s3.us-west-2.amazonaws.com/sentinel-s2-l2a-cogs/11/S/PC/2020/3/S2B_11SPC_20200311_0_L2A/B03.tif | aws s3 cp - s3://dev-et-data/usmart/RIO/sentinel-s2-l2a-cogs/S2B_11SPC_20200311_0_L2A_B03.tif\n"
     ]
    },
    {
     "name": "stderr",
     "output_type": "stream",
     "text": [
      "03:16:05: sending https://sentinel-cogs.s3.us-west-2.amazonaws.com/sentinel-s2-l2a-cogs/11/S/PC/2020/3/S2A_11SPC_20200326_0_L2A/B02.tif\n"
     ]
    },
    {
     "name": "stdout",
     "output_type": "stream",
     "text": [
      "\n",
      "\n",
      "wget this: %s https://sentinel-cogs.s3.us-west-2.amazonaws.com/sentinel-s2-l2a-cogs/11/S/PC/2020/3/S2A_11SPC_20200326_0_L2A/B02.tif\n",
      "wget -nv -O- https://sentinel-cogs.s3.us-west-2.amazonaws.com/sentinel-s2-l2a-cogs/11/S/PC/2020/3/S2A_11SPC_20200326_0_L2A/B02.tif | aws s3 cp - s3://dev-et-data/usmart/RIO/sentinel-s2-l2a-cogs/\n",
      "S2A_11SPC_20200326_0_L2A_B02.tif\n",
      "wget -nv -O- https://sentinel-cogs.s3.us-west-2.amazonaws.com/sentinel-s2-l2a-cogs/11/S/PC/2020/3/S2A_11SPC_20200326_0_L2A/B02.tif | aws s3 cp - s3://dev-et-data/usmart/RIO/sentinel-s2-l2a-cogs/S2A_11SPC_20200326_0_L2A_B02.tif\n"
     ]
    },
    {
     "name": "stderr",
     "output_type": "stream",
     "text": [
      "2021-09-23 03:16:06 URL:https://sentinel-cogs.s3.us-west-2.amazonaws.com/sentinel-s2-l2a-cogs/11/S/PC/2020/4/S2B_11SPC_20200410_0_L2A/B02.tif [208208864/208208864] -> \"-\" [1]\n",
      "2021-09-23 03:16:07 URL:https://sentinel-cogs.s3.us-west-2.amazonaws.com/sentinel-s2-l2a-cogs/11/S/PC/2020/3/S2B_11SPC_20200324_1_L2A/B03.tif [170265467/170265467] -> \"-\" [1]\n",
      "2021-09-23 03:16:07 URL:https://sentinel-cogs.s3.us-west-2.amazonaws.com/sentinel-s2-l2a-cogs/11/S/PC/2020/3/S2A_11SPC_20200319_0_L2A/B03.tif [159365514/159365514] -> \"-\" [1]\n",
      "2021-09-23 03:16:07 URL:https://sentinel-cogs.s3.us-west-2.amazonaws.com/sentinel-s2-l2a-cogs/11/S/PC/2020/4/S2A_11SPC_20200415_0_L2A/B02.tif [209195583/209195583] -> \"-\" [1]\n",
      "03:16:08: sending https://sentinel-cogs.s3.us-west-2.amazonaws.com/sentinel-s2-l2a-cogs/11/S/PC/2020/3/S2B_11SPC_20200324_1_L2A/B02.tif\n",
      "03:16:08: sending https://sentinel-cogs.s3.us-west-2.amazonaws.com/sentinel-s2-l2a-cogs/11/S/PC/2020/3/S2A_11SPC_20200319_0_L2A/B02.tif\n"
     ]
    },
    {
     "name": "stdout",
     "output_type": "stream",
     "text": [
      "\n",
      "\n",
      "wget this: %s https://sentinel-cogs.s3.us-west-2.amazonaws.com/sentinel-s2-l2a-cogs/11/S/PC/2020/3/S2B_11SPC_20200324_1_L2A/B02.tif\n",
      "wget -nv -O- https://sentinel-cogs.s3.us-west-2.amazonaws.com/sentinel-s2-l2a-cogs/11/S/PC/2020/3/S2B_11SPC_20200324_1_L2A/B02.tif | aws s3 cp - s3://dev-et-data/usmart/RIO/sentinel-s2-l2a-cogs/\n",
      "S2B_11SPC_20200324_1_L2A_B02.tif\n",
      "wget -nv -O- https://sentinel-cogs.s3.us-west-2.amazonaws.com/sentinel-s2-l2a-cogs/11/S/PC/2020/3/S2B_11SPC_20200324_1_L2A/B02.tif | aws s3 cp - s3://dev-et-data/usmart/RIO/sentinel-s2-l2a-cogs/S2B_11SPC_20200324_1_L2A_B02.tif\n",
      "\n",
      "\n",
      "wget this: %s https://sentinel-cogs.s3.us-west-2.amazonaws.com/sentinel-s2-l2a-cogs/11/S/PC/2020/3/S2A_11SPC_20200319_0_L2A/B02.tif\n",
      "wget -nv -O- https://sentinel-cogs.s3.us-west-2.amazonaws.com/sentinel-s2-l2a-cogs/11/S/PC/2020/3/S2A_11SPC_20200319_0_L2A/B02.tif | aws s3 cp - s3://dev-et-data/usmart/RIO/sentinel-s2-l2a-cogs/\n",
      "S2A_11SPC_20200319_0_L2A_B02.tif\n",
      "wget -nv -O- https://sentinel-cogs.s3.us-west-2.amazonaws.com/sentinel-s2-l2a-cogs/11/S/PC/2020/3/S2A_11SPC_20200319_0_L2A/B02.tif | aws s3 cp - s3://dev-et-data/usmart/RIO/sentinel-s2-l2a-cogs/S2A_11SPC_20200319_0_L2A_B02.tif\n"
     ]
    },
    {
     "name": "stderr",
     "output_type": "stream",
     "text": [
      "2021-09-23 03:16:08 URL:https://sentinel-cogs.s3.us-west-2.amazonaws.com/sentinel-s2-l2a-cogs/11/S/PC/2020/3/S2A_11SPC_20200309_0_L2A/B04.tif [124203307/124203307] -> \"-\" [1]\n",
      "03:16:08: Thread 105: finishing in 35 seconds\n",
      "03:16:08: xfer Thread 122: starting\n",
      "03:16:08: sending https://sentinel-cogs.s3.us-west-2.amazonaws.com/sentinel-s2-l2a-cogs/11/S/PC/2020/3/S2B_11SPC_20200304_0_L2A/B04.tif\n"
     ]
    },
    {
     "name": "stdout",
     "output_type": "stream",
     "text": [
      "\n",
      "\n",
      "wget this: %s https://sentinel-cogs.s3.us-west-2.amazonaws.com/sentinel-s2-l2a-cogs/11/S/PC/2020/3/S2B_11SPC_20200304_0_L2A/B04.tif\n",
      "wget -nv -O- https://sentinel-cogs.s3.us-west-2.amazonaws.com/sentinel-s2-l2a-cogs/11/S/PC/2020/3/S2B_11SPC_20200304_0_L2A/B04.tif | aws s3 cp - s3://dev-et-data/usmart/RIO/sentinel-s2-l2a-cogs/\n",
      "S2B_11SPC_20200304_0_L2A_B04.tif\n",
      "wget -nv -O- https://sentinel-cogs.s3.us-west-2.amazonaws.com/sentinel-s2-l2a-cogs/11/S/PC/2020/3/S2B_11SPC_20200304_0_L2A/B04.tif | aws s3 cp - s3://dev-et-data/usmart/RIO/sentinel-s2-l2a-cogs/S2B_11SPC_20200304_0_L2A_B04.tif\n"
     ]
    },
    {
     "name": "stderr",
     "output_type": "stream",
     "text": [
      "03:16:09: sending https://sentinel-cogs.s3.us-west-2.amazonaws.com/sentinel-s2-l2a-cogs/11/S/PC/2020/3/S2A_11SPC_20200309_0_L2A/B03.tif\n"
     ]
    },
    {
     "name": "stdout",
     "output_type": "stream",
     "text": [
      "\n",
      "\n",
      "wget this: %s https://sentinel-cogs.s3.us-west-2.amazonaws.com/sentinel-s2-l2a-cogs/11/S/PC/2020/3/S2A_11SPC_20200309_0_L2A/B03.tif\n",
      "wget -nv -O- https://sentinel-cogs.s3.us-west-2.amazonaws.com/sentinel-s2-l2a-cogs/11/S/PC/2020/3/S2A_11SPC_20200309_0_L2A/B03.tif | aws s3 cp - s3://dev-et-data/usmart/RIO/sentinel-s2-l2a-cogs/\n",
      "S2A_11SPC_20200309_0_L2A_B03.tif\n",
      "wget -nv -O- https://sentinel-cogs.s3.us-west-2.amazonaws.com/sentinel-s2-l2a-cogs/11/S/PC/2020/3/S2A_11SPC_20200309_0_L2A/B03.tif | aws s3 cp - s3://dev-et-data/usmart/RIO/sentinel-s2-l2a-cogs/S2A_11SPC_20200309_0_L2A_B03.tif\n"
     ]
    },
    {
     "name": "stderr",
     "output_type": "stream",
     "text": [
      "2021-09-23 03:16:09 URL:https://sentinel-cogs.s3.us-west-2.amazonaws.com/sentinel-s2-l2a-cogs/11/S/PC/2020/3/S2A_11SPC_20200306_0_L2A/B04.tif [189968741/189968741] -> \"-\" [1]\n",
      "2021-09-23 03:16:09 URL:https://sentinel-cogs.s3.us-west-2.amazonaws.com/sentinel-s2-l2a-cogs/11/S/PC/2020/4/S2B_11SPC_20200403_0_L2A/B02.tif [160680373/160680373] -> \"-\" [1]\n",
      "03:16:09: Thread 107: finishing in 35 seconds\n",
      "03:16:09: xfer Thread 123: starting\n",
      "03:16:09: sending https://sentinel-cogs.s3.us-west-2.amazonaws.com/sentinel-s2-l2a-cogs/11/S/PC/2020/3/S2B_11SPC_20200301_0_L2A/B04.tif\n"
     ]
    },
    {
     "name": "stdout",
     "output_type": "stream",
     "text": [
      "\n",
      "\n",
      "wget this: %s https://sentinel-cogs.s3.us-west-2.amazonaws.com/sentinel-s2-l2a-cogs/11/S/PC/2020/3/S2B_11SPC_20200301_0_L2A/B04.tif\n",
      "wget -nv -O- https://sentinel-cogs.s3.us-west-2.amazonaws.com/sentinel-s2-l2a-cogs/11/S/PC/2020/3/S2B_11SPC_20200301_0_L2A/B04.tif | aws s3 cp - s3://dev-et-data/usmart/RIO/sentinel-s2-l2a-cogs/\n",
      "S2B_11SPC_20200301_0_L2A_B04.tif\n",
      "wget -nv -O- https://sentinel-cogs.s3.us-west-2.amazonaws.com/sentinel-s2-l2a-cogs/11/S/PC/2020/3/S2B_11SPC_20200301_0_L2A/B04.tif | aws s3 cp - s3://dev-et-data/usmart/RIO/sentinel-s2-l2a-cogs/S2B_11SPC_20200301_0_L2A_B04.tif\n"
     ]
    },
    {
     "name": "stderr",
     "output_type": "stream",
     "text": [
      "03:16:10: Thread 110: finishing in 31 seconds\n",
      "03:16:10: xfer Thread 124: starting\n",
      "03:16:10: sending https://sentinel-cogs.s3.us-west-2.amazonaws.com/sentinel-s2-l2a-cogs/11/S/PC/2020/2/S2A_11SPC_20200228_0_L2A/B04.tif\n",
      "03:16:10: sending https://sentinel-cogs.s3.us-west-2.amazonaws.com/sentinel-s2-l2a-cogs/11/S/PC/2020/3/S2A_11SPC_20200306_0_L2A/B03.tif\n"
     ]
    },
    {
     "name": "stdout",
     "output_type": "stream",
     "text": [
      "\n",
      "\n",
      "wget this: %s https://sentinel-cogs.s3.us-west-2.amazonaws.com/sentinel-s2-l2a-cogs/11/S/PC/2020/2/S2A_11SPC_20200228_0_L2A/B04.tif\n",
      "wget -nv -O- https://sentinel-cogs.s3.us-west-2.amazonaws.com/sentinel-s2-l2a-cogs/11/S/PC/2020/2/S2A_11SPC_20200228_0_L2A/B04.tif | aws s3 cp - s3://dev-et-data/usmart/RIO/sentinel-s2-l2a-cogs/\n",
      "S2A_11SPC_20200228_0_L2A_B04.tif\n",
      "wget -nv -O- https://sentinel-cogs.s3.us-west-2.amazonaws.com/sentinel-s2-l2a-cogs/11/S/PC/2020/2/S2A_11SPC_20200228_0_L2A/B04.tif | aws s3 cp - s3://dev-et-data/usmart/RIO/sentinel-s2-l2a-cogs/S2A_11SPC_20200228_0_L2A_B04.tif\n",
      "\n",
      "\n",
      "wget this: %s https://sentinel-cogs.s3.us-west-2.amazonaws.com/sentinel-s2-l2a-cogs/11/S/PC/2020/3/S2A_11SPC_20200306_0_L2A/B03.tif\n",
      "wget -nv -O- https://sentinel-cogs.s3.us-west-2.amazonaws.com/sentinel-s2-l2a-cogs/11/S/PC/2020/3/S2A_11SPC_20200306_0_L2A/B03.tif | aws s3 cp - s3://dev-et-data/usmart/RIO/sentinel-s2-l2a-cogs/\n",
      "S2A_11SPC_20200306_0_L2A_B03.tif\n",
      "wget -nv -O- https://sentinel-cogs.s3.us-west-2.amazonaws.com/sentinel-s2-l2a-cogs/11/S/PC/2020/3/S2A_11SPC_20200306_0_L2A/B03.tif | aws s3 cp - s3://dev-et-data/usmart/RIO/sentinel-s2-l2a-cogs/S2A_11SPC_20200306_0_L2A_B03.tif\n"
     ]
    },
    {
     "name": "stderr",
     "output_type": "stream",
     "text": [
      "2021-09-23 03:16:10 URL:https://sentinel-cogs.s3.us-west-2.amazonaws.com/sentinel-s2-l2a-cogs/11/S/PC/2020/3/S2B_11SPC_20200314_0_L2A/B03.tif [165721550/165721550] -> \"-\" [1]\n",
      "03:16:11: sending https://sentinel-cogs.s3.us-west-2.amazonaws.com/sentinel-s2-l2a-cogs/11/S/PC/2020/3/S2B_11SPC_20200314_0_L2A/B02.tif\n"
     ]
    },
    {
     "name": "stdout",
     "output_type": "stream",
     "text": [
      "\n",
      "\n",
      "wget this: %s https://sentinel-cogs.s3.us-west-2.amazonaws.com/sentinel-s2-l2a-cogs/11/S/PC/2020/3/S2B_11SPC_20200314_0_L2A/B02.tif\n",
      "wget -nv -O- https://sentinel-cogs.s3.us-west-2.amazonaws.com/sentinel-s2-l2a-cogs/11/S/PC/2020/3/S2B_11SPC_20200314_0_L2A/B02.tif | aws s3 cp - s3://dev-et-data/usmart/RIO/sentinel-s2-l2a-cogs/\n",
      "S2B_11SPC_20200314_0_L2A_B02.tif\n",
      "wget -nv -O- https://sentinel-cogs.s3.us-west-2.amazonaws.com/sentinel-s2-l2a-cogs/11/S/PC/2020/3/S2B_11SPC_20200314_0_L2A/B02.tif | aws s3 cp - s3://dev-et-data/usmart/RIO/sentinel-s2-l2a-cogs/S2B_11SPC_20200314_0_L2A_B02.tif\n"
     ]
    },
    {
     "name": "stderr",
     "output_type": "stream",
     "text": [
      "2021-09-23 03:16:11 URL:https://sentinel-cogs.s3.us-west-2.amazonaws.com/sentinel-s2-l2a-cogs/11/S/PC/2020/3/S2A_11SPC_20200316_0_L2A/B03.tif [186508555/186508555] -> \"-\" [1]\n",
      "2021-09-23 03:16:12 URL:https://sentinel-cogs.s3.us-west-2.amazonaws.com/sentinel-s2-l2a-cogs/11/S/PC/2020/4/S2A_11SPC_20200405_0_L2A/B02.tif [214843576/214843576] -> \"-\" [1]\n",
      "2021-09-23 03:16:12 URL:https://sentinel-cogs.s3.us-west-2.amazonaws.com/sentinel-s2-l2a-cogs/11/S/PC/2020/3/S2B_11SPC_20200321_0_L2A/B03.tif [209137939/209137939] -> \"-\" [1]\n",
      "2021-09-23 03:16:12 URL:https://sentinel-cogs.s3.us-west-2.amazonaws.com/sentinel-s2-l2a-cogs/11/S/PC/2020/3/S2A_11SPC_20200329_0_L2A/B02.tif [138254355/138254355] -> \"-\" [1]\n",
      "03:16:12: Thread 109: finishing in 34 seconds\n",
      "03:16:12: xfer Thread 125: starting\n",
      "03:16:12: sending https://sentinel-cogs.s3.us-west-2.amazonaws.com/sentinel-s2-l2a-cogs/11/S/PC/2020/2/S2A_11SPC_20200225_0_L2A/B04.tif\n",
      "03:16:12: sending https://sentinel-cogs.s3.us-west-2.amazonaws.com/sentinel-s2-l2a-cogs/11/S/PC/2020/3/S2A_11SPC_20200316_0_L2A/B02.tif\n"
     ]
    },
    {
     "name": "stdout",
     "output_type": "stream",
     "text": [
      "\n",
      "\n",
      "wget this: %s https://sentinel-cogs.s3.us-west-2.amazonaws.com/sentinel-s2-l2a-cogs/11/S/PC/2020/2/S2A_11SPC_20200225_0_L2A/B04.tif\n",
      "wget -nv -O- https://sentinel-cogs.s3.us-west-2.amazonaws.com/sentinel-s2-l2a-cogs/11/S/PC/2020/2/S2A_11SPC_20200225_0_L2A/B04.tif | aws s3 cp - s3://dev-et-data/usmart/RIO/sentinel-s2-l2a-cogs/\n",
      "S2A_11SPC_20200225_0_L2A_B04.tif\n",
      "wget -nv -O- https://sentinel-cogs.s3.us-west-2.amazonaws.com/sentinel-s2-l2a-cogs/11/S/PC/2020/2/S2A_11SPC_20200225_0_L2A/B04.tif | aws s3 cp - s3://dev-et-data/usmart/RIO/sentinel-s2-l2a-cogs/S2A_11SPC_20200225_0_L2A_B04.tif\n",
      "\n",
      "\n",
      "wget this: %s https://sentinel-cogs.s3.us-west-2.amazonaws.com/sentinel-s2-l2a-cogs/11/S/PC/2020/3/S2A_11SPC_20200316_0_L2A/B02.tif\n",
      "wget -nv -O- https://sentinel-cogs.s3.us-west-2.amazonaws.com/sentinel-s2-l2a-cogs/11/S/PC/2020/3/S2A_11SPC_20200316_0_L2A/B02.tif | aws s3 cp - s3://dev-et-data/usmart/RIO/sentinel-s2-l2a-cogs/\n",
      "S2A_11SPC_20200316_0_L2A_B02.tif\n",
      "wget -nv -O- https://sentinel-cogs.s3.us-west-2.amazonaws.com/sentinel-s2-l2a-cogs/11/S/PC/2020/3/S2A_11SPC_20200316_0_L2A/B02.tif | aws s3 cp - s3://dev-et-data/usmart/RIO/sentinel-s2-l2a-cogs/S2A_11SPC_20200316_0_L2A_B02.tif\n"
     ]
    },
    {
     "name": "stderr",
     "output_type": "stream",
     "text": [
      "03:16:13: sending https://sentinel-cogs.s3.us-west-2.amazonaws.com/sentinel-s2-l2a-cogs/11/S/PC/2020/3/S2B_11SPC_20200321_0_L2A/B02.tif\n"
     ]
    },
    {
     "name": "stdout",
     "output_type": "stream",
     "text": [
      "\n",
      "\n",
      "wget this: %s https://sentinel-cogs.s3.us-west-2.amazonaws.com/sentinel-s2-l2a-cogs/11/S/PC/2020/3/S2B_11SPC_20200321_0_L2A/B02.tif\n",
      "wget -nv -O- https://sentinel-cogs.s3.us-west-2.amazonaws.com/sentinel-s2-l2a-cogs/11/S/PC/2020/3/S2B_11SPC_20200321_0_L2A/B02.tif | aws s3 cp - s3://dev-et-data/usmart/RIO/sentinel-s2-l2a-cogs/\n",
      "S2B_11SPC_20200321_0_L2A_B02.tif\n",
      "wget -nv -O- https://sentinel-cogs.s3.us-west-2.amazonaws.com/sentinel-s2-l2a-cogs/11/S/PC/2020/3/S2B_11SPC_20200321_0_L2A/B02.tif | aws s3 cp - s3://dev-et-data/usmart/RIO/sentinel-s2-l2a-cogs/S2B_11SPC_20200321_0_L2A_B02.tif\n"
     ]
    },
    {
     "name": "stderr",
     "output_type": "stream",
     "text": [
      "03:16:13: Thread 112: finishing in 30 seconds\n",
      "03:16:13: xfer Thread 126: starting\n",
      "03:16:13: sending https://sentinel-cogs.s3.us-west-2.amazonaws.com/sentinel-s2-l2a-cogs/11/S/PC/2020/2/S2B_11SPC_20200223_0_L2A/B04.tif\n"
     ]
    },
    {
     "name": "stdout",
     "output_type": "stream",
     "text": [
      "\n",
      "\n",
      "wget this: %s https://sentinel-cogs.s3.us-west-2.amazonaws.com/sentinel-s2-l2a-cogs/11/S/PC/2020/2/S2B_11SPC_20200223_0_L2A/B04.tif\n",
      "wget -nv -O- https://sentinel-cogs.s3.us-west-2.amazonaws.com/sentinel-s2-l2a-cogs/11/S/PC/2020/2/S2B_11SPC_20200223_0_L2A/B04.tif | aws s3 cp - s3://dev-et-data/usmart/RIO/sentinel-s2-l2a-cogs/\n",
      "S2B_11SPC_20200223_0_L2A_B04.tif\n",
      "wget -nv -O- https://sentinel-cogs.s3.us-west-2.amazonaws.com/sentinel-s2-l2a-cogs/11/S/PC/2020/2/S2B_11SPC_20200223_0_L2A/B04.tif | aws s3 cp - s3://dev-et-data/usmart/RIO/sentinel-s2-l2a-cogs/S2B_11SPC_20200223_0_L2A_B04.tif\n"
     ]
    },
    {
     "name": "stderr",
     "output_type": "stream",
     "text": [
      "2021-09-23 03:16:15 URL:https://sentinel-cogs.s3.us-west-2.amazonaws.com/sentinel-s2-l2a-cogs/11/S/PC/2020/3/S2A_11SPC_20200326_0_L2A/B02.tif [186431269/186431269] -> \"-\" [1]\n",
      "2021-09-23 03:16:15 URL:https://sentinel-cogs.s3.us-west-2.amazonaws.com/sentinel-s2-l2a-cogs/11/S/PC/2020/3/S2A_11SPC_20200319_0_L2A/B02.tif [160608758/160608758] -> \"-\" [1]\n",
      "2021-09-23 03:16:16 URL:https://sentinel-cogs.s3.us-west-2.amazonaws.com/sentinel-s2-l2a-cogs/11/S/PC/2020/3/S2B_11SPC_20200331_0_L2A/B02.tif [208963245/208963245] -> \"-\" [1]\n",
      "03:16:16: Thread 113: finishing in 31 seconds\n",
      "03:16:16: xfer Thread 127: starting\n",
      "03:16:16: sending https://sentinel-cogs.s3.us-west-2.amazonaws.com/sentinel-s2-l2a-cogs/11/S/PC/2020/2/S2B_11SPC_20200220_0_L2A/B04.tif\n"
     ]
    },
    {
     "name": "stdout",
     "output_type": "stream",
     "text": [
      "\n",
      "\n",
      "wget this: %s https://sentinel-cogs.s3.us-west-2.amazonaws.com/sentinel-s2-l2a-cogs/11/S/PC/2020/2/S2B_11SPC_20200220_0_L2A/B04.tif\n",
      "wget -nv -O- https://sentinel-cogs.s3.us-west-2.amazonaws.com/sentinel-s2-l2a-cogs/11/S/PC/2020/2/S2B_11SPC_20200220_0_L2A/B04.tif | aws s3 cp - s3://dev-et-data/usmart/RIO/sentinel-s2-l2a-cogs/\n",
      "S2B_11SPC_20200220_0_L2A_B04.tif\n",
      "wget -nv -O- https://sentinel-cogs.s3.us-west-2.amazonaws.com/sentinel-s2-l2a-cogs/11/S/PC/2020/2/S2B_11SPC_20200220_0_L2A/B04.tif | aws s3 cp - s3://dev-et-data/usmart/RIO/sentinel-s2-l2a-cogs/S2B_11SPC_20200220_0_L2A_B04.tif\n"
     ]
    },
    {
     "name": "stderr",
     "output_type": "stream",
     "text": [
      "03:16:16: Thread 116: finishing in 25 seconds\n",
      "03:16:16: xfer Thread 128: starting\n",
      "03:16:16: sending https://sentinel-cogs.s3.us-west-2.amazonaws.com/sentinel-s2-l2a-cogs/11/S/PC/2020/2/S2A_11SPC_20200218_0_L2A/B04.tif\n"
     ]
    },
    {
     "name": "stdout",
     "output_type": "stream",
     "text": [
      "\n",
      "\n",
      "wget this: %s https://sentinel-cogs.s3.us-west-2.amazonaws.com/sentinel-s2-l2a-cogs/11/S/PC/2020/2/S2A_11SPC_20200218_0_L2A/B04.tif\n",
      "wget -nv -O- https://sentinel-cogs.s3.us-west-2.amazonaws.com/sentinel-s2-l2a-cogs/11/S/PC/2020/2/S2A_11SPC_20200218_0_L2A/B04.tif | aws s3 cp - s3://dev-et-data/usmart/RIO/sentinel-s2-l2a-cogs/\n",
      "S2A_11SPC_20200218_0_L2A_B04.tif\n",
      "wget -nv -O- https://sentinel-cogs.s3.us-west-2.amazonaws.com/sentinel-s2-l2a-cogs/11/S/PC/2020/2/S2A_11SPC_20200218_0_L2A/B04.tif | aws s3 cp - s3://dev-et-data/usmart/RIO/sentinel-s2-l2a-cogs/S2A_11SPC_20200218_0_L2A_B04.tif\n"
     ]
    },
    {
     "name": "stderr",
     "output_type": "stream",
     "text": [
      "2021-09-23 03:16:17 URL:https://sentinel-cogs.s3.us-west-2.amazonaws.com/sentinel-s2-l2a-cogs/11/S/PC/2020/3/S2B_11SPC_20200324_1_L2A/B02.tif [171119200/171119200] -> \"-\" [1]\n",
      "2021-09-23 03:16:17 URL:https://sentinel-cogs.s3.us-west-2.amazonaws.com/sentinel-s2-l2a-cogs/11/S/PC/2020/3/S2B_11SPC_20200311_0_L2A/B03.tif [216379739/216379739] -> \"-\" [1]\n",
      "2021-09-23 03:16:17 URL:https://sentinel-cogs.s3.us-west-2.amazonaws.com/sentinel-s2-l2a-cogs/11/S/PC/2020/3/S2B_11SPC_20200304_0_L2A/B04.tif [173932319/173932319] -> \"-\" [1]\n",
      "03:16:17: Thread 111: finishing in 35 seconds\n",
      "03:16:17: xfer Thread 129: starting\n",
      "03:16:17: sending https://sentinel-cogs.s3.us-west-2.amazonaws.com/sentinel-s2-l2a-cogs/11/S/PC/2020/2/S2A_11SPC_20200215_0_L2A/B04.tif\n"
     ]
    },
    {
     "name": "stdout",
     "output_type": "stream",
     "text": [
      "\n",
      "\n",
      "wget this: %s https://sentinel-cogs.s3.us-west-2.amazonaws.com/sentinel-s2-l2a-cogs/11/S/PC/2020/2/S2A_11SPC_20200215_0_L2A/B04.tif\n",
      "wget -nv -O- https://sentinel-cogs.s3.us-west-2.amazonaws.com/sentinel-s2-l2a-cogs/11/S/PC/2020/2/S2A_11SPC_20200215_0_L2A/B04.tif | aws s3 cp - s3://dev-et-data/usmart/RIO/sentinel-s2-l2a-cogs/\n",
      "S2A_11SPC_20200215_0_L2A_B04.tif\n",
      "wget -nv -O- https://sentinel-cogs.s3.us-west-2.amazonaws.com/sentinel-s2-l2a-cogs/11/S/PC/2020/2/S2A_11SPC_20200215_0_L2A/B04.tif | aws s3 cp - s3://dev-et-data/usmart/RIO/sentinel-s2-l2a-cogs/S2A_11SPC_20200215_0_L2A_B04.tif\n"
     ]
    },
    {
     "name": "stderr",
     "output_type": "stream",
     "text": [
      "2021-09-23 03:16:17 URL:https://sentinel-cogs.s3.us-west-2.amazonaws.com/sentinel-s2-l2a-cogs/11/S/PC/2020/3/S2A_11SPC_20200309_0_L2A/B03.tif [124809389/124809389] -> \"-\" [1]\n",
      "03:16:17: sending https://sentinel-cogs.s3.us-west-2.amazonaws.com/sentinel-s2-l2a-cogs/11/S/PC/2020/3/S2B_11SPC_20200311_0_L2A/B02.tif\n"
     ]
    },
    {
     "name": "stdout",
     "output_type": "stream",
     "text": [
      "\n",
      "\n",
      "wget this: %s https://sentinel-cogs.s3.us-west-2.amazonaws.com/sentinel-s2-l2a-cogs/11/S/PC/2020/3/S2B_11SPC_20200311_0_L2A/B02.tif\n",
      "wget -nv -O- https://sentinel-cogs.s3.us-west-2.amazonaws.com/sentinel-s2-l2a-cogs/11/S/PC/2020/3/S2B_11SPC_20200311_0_L2A/B02.tif | aws s3 cp - s3://dev-et-data/usmart/RIO/sentinel-s2-l2a-cogs/\n",
      "S2B_11SPC_20200311_0_L2A_B02.tif\n",
      "wget -nv -O- https://sentinel-cogs.s3.us-west-2.amazonaws.com/sentinel-s2-l2a-cogs/11/S/PC/2020/3/S2B_11SPC_20200311_0_L2A/B02.tif | aws s3 cp - s3://dev-et-data/usmart/RIO/sentinel-s2-l2a-cogs/S2B_11SPC_20200311_0_L2A_B02.tif\n"
     ]
    },
    {
     "name": "stderr",
     "output_type": "stream",
     "text": [
      "03:16:18: Thread 114: finishing in 31 seconds\n",
      "03:16:18: xfer Thread 130: starting\n",
      "03:16:18: sending https://sentinel-cogs.s3.us-west-2.amazonaws.com/sentinel-s2-l2a-cogs/11/S/PC/2020/2/S2B_11SPC_20200213_0_L2A/B04.tif\n",
      "2021-09-23 03:16:18 URL:https://sentinel-cogs.s3.us-west-2.amazonaws.com/sentinel-s2-l2a-cogs/11/S/PC/2020/3/S2B_11SPC_20200301_0_L2A/B04.tif [175063034/175063034] -> \"-\" [1]\n",
      "03:16:18: sending https://sentinel-cogs.s3.us-west-2.amazonaws.com/sentinel-s2-l2a-cogs/11/S/PC/2020/3/S2B_11SPC_20200304_0_L2A/B03.tif\n"
     ]
    },
    {
     "name": "stdout",
     "output_type": "stream",
     "text": [
      "\n",
      "\n",
      "wget this: %s https://sentinel-cogs.s3.us-west-2.amazonaws.com/sentinel-s2-l2a-cogs/11/S/PC/2020/2/S2B_11SPC_20200213_0_L2A/B04.tif\n",
      "wget -nv -O- https://sentinel-cogs.s3.us-west-2.amazonaws.com/sentinel-s2-l2a-cogs/11/S/PC/2020/2/S2B_11SPC_20200213_0_L2A/B04.tif | aws s3 cp - s3://dev-et-data/usmart/RIO/sentinel-s2-l2a-cogs/\n",
      "S2B_11SPC_20200213_0_L2A_B04.tif\n",
      "wget -nv -O- https://sentinel-cogs.s3.us-west-2.amazonaws.com/sentinel-s2-l2a-cogs/11/S/PC/2020/2/S2B_11SPC_20200213_0_L2A/B04.tif | aws s3 cp - s3://dev-et-data/usmart/RIO/sentinel-s2-l2a-cogs/S2B_11SPC_20200213_0_L2A_B04.tif\n",
      "\n",
      "\n",
      "wget this: %s https://sentinel-cogs.s3.us-west-2.amazonaws.com/sentinel-s2-l2a-cogs/11/S/PC/2020/3/S2B_11SPC_20200304_0_L2A/B03.tif\n",
      "wget -nv -O- https://sentinel-cogs.s3.us-west-2.amazonaws.com/sentinel-s2-l2a-cogs/11/S/PC/2020/3/S2B_11SPC_20200304_0_L2A/B03.tif | aws s3 cp - s3://dev-et-data/usmart/RIO/sentinel-s2-l2a-cogs/\n",
      "S2B_11SPC_20200304_0_L2A_B03.tif\n",
      "wget -nv -O- https://sentinel-cogs.s3.us-west-2.amazonaws.com/sentinel-s2-l2a-cogs/11/S/PC/2020/3/S2B_11SPC_20200304_0_L2A/B03.tif | aws s3 cp - s3://dev-et-data/usmart/RIO/sentinel-s2-l2a-cogs/S2B_11SPC_20200304_0_L2A_B03.tif\n"
     ]
    },
    {
     "name": "stderr",
     "output_type": "stream",
     "text": [
      "03:16:18: sending https://sentinel-cogs.s3.us-west-2.amazonaws.com/sentinel-s2-l2a-cogs/11/S/PC/2020/3/S2A_11SPC_20200309_0_L2A/B02.tif\n"
     ]
    },
    {
     "name": "stdout",
     "output_type": "stream",
     "text": [
      "\n",
      "\n",
      "wget this: %s https://sentinel-cogs.s3.us-west-2.amazonaws.com/sentinel-s2-l2a-cogs/11/S/PC/2020/3/S2A_11SPC_20200309_0_L2A/B02.tif\n",
      "wget -nv -O- https://sentinel-cogs.s3.us-west-2.amazonaws.com/sentinel-s2-l2a-cogs/11/S/PC/2020/3/S2A_11SPC_20200309_0_L2A/B02.tif | aws s3 cp - s3://dev-et-data/usmart/RIO/sentinel-s2-l2a-cogs/\n",
      "S2A_11SPC_20200309_0_L2A_B02.tif\n",
      "wget -nv -O- https://sentinel-cogs.s3.us-west-2.amazonaws.com/sentinel-s2-l2a-cogs/11/S/PC/2020/3/S2A_11SPC_20200309_0_L2A/B02.tif | aws s3 cp - s3://dev-et-data/usmart/RIO/sentinel-s2-l2a-cogs/S2A_11SPC_20200309_0_L2A_B02.tif\n"
     ]
    },
    {
     "name": "stderr",
     "output_type": "stream",
     "text": [
      "2021-09-23 03:16:18 URL:https://sentinel-cogs.s3.us-west-2.amazonaws.com/sentinel-s2-l2a-cogs/11/S/PC/2020/2/S2A_11SPC_20200228_0_L2A/B04.tif [148714724/148714724] -> \"-\" [1]\n",
      "03:16:19: sending https://sentinel-cogs.s3.us-west-2.amazonaws.com/sentinel-s2-l2a-cogs/11/S/PC/2020/3/S2B_11SPC_20200301_0_L2A/B03.tif\n"
     ]
    },
    {
     "name": "stdout",
     "output_type": "stream",
     "text": [
      "\n",
      "\n",
      "wget this: %s https://sentinel-cogs.s3.us-west-2.amazonaws.com/sentinel-s2-l2a-cogs/11/S/PC/2020/3/S2B_11SPC_20200301_0_L2A/B03.tif\n",
      "wget -nv -O- https://sentinel-cogs.s3.us-west-2.amazonaws.com/sentinel-s2-l2a-cogs/11/S/PC/2020/3/S2B_11SPC_20200301_0_L2A/B03.tif | aws s3 cp - s3://dev-et-data/usmart/RIO/sentinel-s2-l2a-cogs/\n",
      "S2B_11SPC_20200301_0_L2A_B03.tif\n",
      "wget -nv -O- https://sentinel-cogs.s3.us-west-2.amazonaws.com/sentinel-s2-l2a-cogs/11/S/PC/2020/3/S2B_11SPC_20200301_0_L2A/B03.tif | aws s3 cp - s3://dev-et-data/usmart/RIO/sentinel-s2-l2a-cogs/S2B_11SPC_20200301_0_L2A_B03.tif\n"
     ]
    },
    {
     "name": "stderr",
     "output_type": "stream",
     "text": [
      "2021-09-23 03:16:20 URL:https://sentinel-cogs.s3.us-west-2.amazonaws.com/sentinel-s2-l2a-cogs/11/S/PC/2020/3/S2B_11SPC_20200314_0_L2A/B02.tif [166172595/166172595] -> \"-\" [1]\n",
      "2021-09-23 03:16:20 URL:https://sentinel-cogs.s3.us-west-2.amazonaws.com/sentinel-s2-l2a-cogs/11/S/PC/2020/3/S2A_11SPC_20200306_0_L2A/B03.tif [188544155/188544155] -> \"-\" [1]\n",
      "03:16:20: Thread 118: finishing in 28 seconds\n",
      "03:16:20: xfer Thread 131: starting\n",
      "03:16:20: sending https://sentinel-cogs.s3.us-west-2.amazonaws.com/sentinel-s2-l2a-cogs/11/S/PC/2020/2/S2B_11SPC_20200210_0_L2A/B04.tif\n",
      "03:16:20: sending https://sentinel-cogs.s3.us-west-2.amazonaws.com/sentinel-s2-l2a-cogs/11/S/PC/2020/3/S2A_11SPC_20200306_0_L2A/B02.tif\n"
     ]
    },
    {
     "name": "stdout",
     "output_type": "stream",
     "text": [
      "\n",
      "\n",
      "wget this: %s https://sentinel-cogs.s3.us-west-2.amazonaws.com/sentinel-s2-l2a-cogs/11/S/PC/2020/2/S2B_11SPC_20200210_0_L2A/B04.tif\n",
      "wget -nv -O- https://sentinel-cogs.s3.us-west-2.amazonaws.com/sentinel-s2-l2a-cogs/11/S/PC/2020/2/S2B_11SPC_20200210_0_L2A/B04.tif | aws s3 cp - s3://dev-et-data/usmart/RIO/sentinel-s2-l2a-cogs/\n",
      "S2B_11SPC_20200210_0_L2A_B04.tif\n",
      "wget -nv -O- https://sentinel-cogs.s3.us-west-2.amazonaws.com/sentinel-s2-l2a-cogs/11/S/PC/2020/2/S2B_11SPC_20200210_0_L2A/B04.tif | aws s3 cp - s3://dev-et-data/usmart/RIO/sentinel-s2-l2a-cogs/S2B_11SPC_20200210_0_L2A_B04.tif\n",
      "\n",
      "\n",
      "wget this: %s https://sentinel-cogs.s3.us-west-2.amazonaws.com/sentinel-s2-l2a-cogs/11/S/PC/2020/3/S2A_11SPC_20200306_0_L2A/B02.tif\n",
      "wget -nv -O- https://sentinel-cogs.s3.us-west-2.amazonaws.com/sentinel-s2-l2a-cogs/11/S/PC/2020/3/S2A_11SPC_20200306_0_L2A/B02.tif | aws s3 cp - s3://dev-et-data/usmart/RIO/sentinel-s2-l2a-cogs/\n",
      "S2A_11SPC_20200306_0_L2A_B02.tif\n",
      "wget -nv -O- https://sentinel-cogs.s3.us-west-2.amazonaws.com/sentinel-s2-l2a-cogs/11/S/PC/2020/3/S2A_11SPC_20200306_0_L2A/B02.tif | aws s3 cp - s3://dev-et-data/usmart/RIO/sentinel-s2-l2a-cogs/S2A_11SPC_20200306_0_L2A_B02.tif\n"
     ]
    },
    {
     "name": "stderr",
     "output_type": "stream",
     "text": [
      "2021-09-23 03:16:23 URL:https://sentinel-cogs.s3.us-west-2.amazonaws.com/sentinel-s2-l2a-cogs/11/S/PC/2020/3/S2A_11SPC_20200316_0_L2A/B02.tif [189066227/189066227] -> \"-\" [1]\n",
      "2021-09-23 03:16:23 URL:https://sentinel-cogs.s3.us-west-2.amazonaws.com/sentinel-s2-l2a-cogs/11/S/PC/2020/2/S2A_11SPC_20200225_0_L2A/B04.tif [212406525/212406525] -> \"-\" [1]\n",
      "2021-09-23 03:16:23 URL:https://sentinel-cogs.s3.us-west-2.amazonaws.com/sentinel-s2-l2a-cogs/11/S/PC/2020/2/S2B_11SPC_20200223_0_L2A/B04.tif [175312999/175312999] -> \"-\" [1]\n",
      "03:16:23: Thread 117: finishing in 31 seconds\n",
      "03:16:23: xfer Thread 132: starting\n",
      "03:16:23: sending https://sentinel-cogs.s3.us-west-2.amazonaws.com/sentinel-s2-l2a-cogs/11/S/PC/2020/2/S2A_11SPC_20200208_0_L2A/B04.tif\n",
      "03:16:23: sending https://sentinel-cogs.s3.us-west-2.amazonaws.com/sentinel-s2-l2a-cogs/11/S/PC/2020/2/S2A_11SPC_20200228_0_L2A/B03.tif\n"
     ]
    },
    {
     "name": "stdout",
     "output_type": "stream",
     "text": [
      "\n",
      "\n",
      "wget this: %s https://sentinel-cogs.s3.us-west-2.amazonaws.com/sentinel-s2-l2a-cogs/11/S/PC/2020/2/S2A_11SPC_20200208_0_L2A/B04.tif\n",
      "wget -nv -O- https://sentinel-cogs.s3.us-west-2.amazonaws.com/sentinel-s2-l2a-cogs/11/S/PC/2020/2/S2A_11SPC_20200208_0_L2A/B04.tif | aws s3 cp - s3://dev-et-data/usmart/RIO/sentinel-s2-l2a-cogs/\n",
      "S2A_11SPC_20200208_0_L2A_B04.tif\n",
      "wget -nv -O- https://sentinel-cogs.s3.us-west-2.amazonaws.com/sentinel-s2-l2a-cogs/11/S/PC/2020/2/S2A_11SPC_20200208_0_L2A/B04.tif | aws s3 cp - s3://dev-et-data/usmart/RIO/sentinel-s2-l2a-cogs/S2A_11SPC_20200208_0_L2A_B04.tif\n",
      "\n",
      "\n",
      "wget this: %s https://sentinel-cogs.s3.us-west-2.amazonaws.com/sentinel-s2-l2a-cogs/11/S/PC/2020/2/S2A_11SPC_20200228_0_L2A/B03.tif\n",
      "wget -nv -O- https://sentinel-cogs.s3.us-west-2.amazonaws.com/sentinel-s2-l2a-cogs/11/S/PC/2020/2/S2A_11SPC_20200228_0_L2A/B03.tif | aws s3 cp - s3://dev-et-data/usmart/RIO/sentinel-s2-l2a-cogs/\n",
      "S2A_11SPC_20200228_0_L2A_B03.tif\n",
      "wget -nv -O- https://sentinel-cogs.s3.us-west-2.amazonaws.com/sentinel-s2-l2a-cogs/11/S/PC/2020/2/S2A_11SPC_20200228_0_L2A/B03.tif | aws s3 cp - s3://dev-et-data/usmart/RIO/sentinel-s2-l2a-cogs/S2A_11SPC_20200228_0_L2A_B03.tif\n"
     ]
    },
    {
     "name": "stderr",
     "output_type": "stream",
     "text": [
      "2021-09-23 03:16:24 URL:https://sentinel-cogs.s3.us-west-2.amazonaws.com/sentinel-s2-l2a-cogs/11/S/PC/2020/3/S2B_11SPC_20200321_0_L2A/B02.tif [211441833/211441833] -> \"-\" [1]\n",
      "03:16:24: sending https://sentinel-cogs.s3.us-west-2.amazonaws.com/sentinel-s2-l2a-cogs/11/S/PC/2020/2/S2B_11SPC_20200223_0_L2A/B03.tif\n"
     ]
    },
    {
     "name": "stdout",
     "output_type": "stream",
     "text": [
      "\n",
      "\n",
      "wget this: %s https://sentinel-cogs.s3.us-west-2.amazonaws.com/sentinel-s2-l2a-cogs/11/S/PC/2020/2/S2B_11SPC_20200223_0_L2A/B03.tif\n",
      "wget -nv -O- https://sentinel-cogs.s3.us-west-2.amazonaws.com/sentinel-s2-l2a-cogs/11/S/PC/2020/2/S2B_11SPC_20200223_0_L2A/B03.tif | aws s3 cp - s3://dev-et-data/usmart/RIO/sentinel-s2-l2a-cogs/\n",
      "S2B_11SPC_20200223_0_L2A_B03.tif\n",
      "wget -nv -O- https://sentinel-cogs.s3.us-west-2.amazonaws.com/sentinel-s2-l2a-cogs/11/S/PC/2020/2/S2B_11SPC_20200223_0_L2A/B03.tif | aws s3 cp - s3://dev-et-data/usmart/RIO/sentinel-s2-l2a-cogs/S2B_11SPC_20200223_0_L2A_B03.tif\n"
     ]
    },
    {
     "name": "stderr",
     "output_type": "stream",
     "text": [
      "2021-09-23 03:16:24 URL:https://sentinel-cogs.s3.us-west-2.amazonaws.com/sentinel-s2-l2a-cogs/11/S/PC/2020/2/S2A_11SPC_20200218_0_L2A/B04.tif [174131783/174131783] -> \"-\" [1]\n",
      "03:16:25: Thread 115: finishing in 34 seconds\n",
      "03:16:25: xfer Thread 133: starting\n",
      "03:16:25: sending https://sentinel-cogs.s3.us-west-2.amazonaws.com/sentinel-s2-l2a-cogs/11/S/PC/2020/2/S2A_11SPC_20200205_0_L2A/B04.tif\n"
     ]
    },
    {
     "name": "stdout",
     "output_type": "stream",
     "text": [
      "\n",
      "\n",
      "wget this: %s https://sentinel-cogs.s3.us-west-2.amazonaws.com/sentinel-s2-l2a-cogs/11/S/PC/2020/2/S2A_11SPC_20200205_0_L2A/B04.tif\n",
      "wget -nv -O- https://sentinel-cogs.s3.us-west-2.amazonaws.com/sentinel-s2-l2a-cogs/11/S/PC/2020/2/S2A_11SPC_20200205_0_L2A/B04.tif | aws s3 cp - s3://dev-et-data/usmart/RIO/sentinel-s2-l2a-cogs/\n",
      "S2A_11SPC_20200205_0_L2A_B04.tif\n",
      "wget -nv -O- https://sentinel-cogs.s3.us-west-2.amazonaws.com/sentinel-s2-l2a-cogs/11/S/PC/2020/2/S2A_11SPC_20200205_0_L2A/B04.tif | aws s3 cp - s3://dev-et-data/usmart/RIO/sentinel-s2-l2a-cogs/S2A_11SPC_20200205_0_L2A_B04.tif\n"
     ]
    },
    {
     "name": "stderr",
     "output_type": "stream",
     "text": [
      "2021-09-23 03:16:25 URL:https://sentinel-cogs.s3.us-west-2.amazonaws.com/sentinel-s2-l2a-cogs/11/S/PC/2020/3/S2A_11SPC_20200309_0_L2A/B02.tif [128011766/128011766] -> \"-\" [1]\n",
      "03:16:25: sending https://sentinel-cogs.s3.us-west-2.amazonaws.com/sentinel-s2-l2a-cogs/11/S/PC/2020/2/S2A_11SPC_20200218_0_L2A/B03.tif\n"
     ]
    },
    {
     "name": "stdout",
     "output_type": "stream",
     "text": [
      "\n",
      "\n",
      "wget this: %s https://sentinel-cogs.s3.us-west-2.amazonaws.com/sentinel-s2-l2a-cogs/11/S/PC/2020/2/S2A_11SPC_20200218_0_L2A/B03.tif\n",
      "wget -nv -O- https://sentinel-cogs.s3.us-west-2.amazonaws.com/sentinel-s2-l2a-cogs/11/S/PC/2020/2/S2A_11SPC_20200218_0_L2A/B03.tif | aws s3 cp - s3://dev-et-data/usmart/RIO/sentinel-s2-l2a-cogs/\n",
      "S2A_11SPC_20200218_0_L2A_B03.tif\n",
      "wget -nv -O- https://sentinel-cogs.s3.us-west-2.amazonaws.com/sentinel-s2-l2a-cogs/11/S/PC/2020/2/S2A_11SPC_20200218_0_L2A/B03.tif | aws s3 cp - s3://dev-et-data/usmart/RIO/sentinel-s2-l2a-cogs/S2A_11SPC_20200218_0_L2A_B03.tif\n"
     ]
    },
    {
     "name": "stderr",
     "output_type": "stream",
     "text": [
      "03:16:26: Thread 120: finishing in 26 seconds\n",
      "03:16:26: xfer Thread 134: starting\n",
      "03:16:26: sending https://sentinel-cogs.s3.us-west-2.amazonaws.com/sentinel-s2-l2a-cogs/11/S/PC/2020/2/S2B_11SPC_20200203_0_L2A/B04.tif\n"
     ]
    },
    {
     "name": "stdout",
     "output_type": "stream",
     "text": [
      "\n",
      "\n",
      "wget this: %s https://sentinel-cogs.s3.us-west-2.amazonaws.com/sentinel-s2-l2a-cogs/11/S/PC/2020/2/S2B_11SPC_20200203_0_L2A/B04.tif\n",
      "wget -nv -O- https://sentinel-cogs.s3.us-west-2.amazonaws.com/sentinel-s2-l2a-cogs/11/S/PC/2020/2/S2B_11SPC_20200203_0_L2A/B04.tif | aws s3 cp - s3://dev-et-data/usmart/RIO/sentinel-s2-l2a-cogs/\n",
      "S2B_11SPC_20200203_0_L2A_B04.tif\n",
      "wget -nv -O- https://sentinel-cogs.s3.us-west-2.amazonaws.com/sentinel-s2-l2a-cogs/11/S/PC/2020/2/S2B_11SPC_20200203_0_L2A/B04.tif | aws s3 cp - s3://dev-et-data/usmart/RIO/sentinel-s2-l2a-cogs/S2B_11SPC_20200203_0_L2A_B04.tif\n"
     ]
    },
    {
     "name": "stderr",
     "output_type": "stream",
     "text": [
      "2021-09-23 03:16:26 URL:https://sentinel-cogs.s3.us-west-2.amazonaws.com/sentinel-s2-l2a-cogs/11/S/PC/2020/2/S2A_11SPC_20200215_0_L2A/B04.tif [183584063/183584063] -> \"-\" [1]\n",
      "03:16:27: sending https://sentinel-cogs.s3.us-west-2.amazonaws.com/sentinel-s2-l2a-cogs/11/S/PC/2020/2/S2A_11SPC_20200215_0_L2A/B03.tif\n"
     ]
    },
    {
     "name": "stdout",
     "output_type": "stream",
     "text": [
      "\n",
      "\n",
      "wget this: %s https://sentinel-cogs.s3.us-west-2.amazonaws.com/sentinel-s2-l2a-cogs/11/S/PC/2020/2/S2A_11SPC_20200215_0_L2A/B03.tif\n",
      "wget -nv -O- https://sentinel-cogs.s3.us-west-2.amazonaws.com/sentinel-s2-l2a-cogs/11/S/PC/2020/2/S2A_11SPC_20200215_0_L2A/B03.tif | aws s3 cp - s3://dev-et-data/usmart/RIO/sentinel-s2-l2a-cogs/\n",
      "S2A_11SPC_20200215_0_L2A_B03.tif\n",
      "wget -nv -O- https://sentinel-cogs.s3.us-west-2.amazonaws.com/sentinel-s2-l2a-cogs/11/S/PC/2020/2/S2A_11SPC_20200215_0_L2A/B03.tif | aws s3 cp - s3://dev-et-data/usmart/RIO/sentinel-s2-l2a-cogs/S2A_11SPC_20200215_0_L2A_B03.tif\n"
     ]
    },
    {
     "name": "stderr",
     "output_type": "stream",
     "text": [
      "2021-09-23 03:16:27 URL:https://sentinel-cogs.s3.us-west-2.amazonaws.com/sentinel-s2-l2a-cogs/11/S/PC/2020/3/S2B_11SPC_20200311_0_L2A/B02.tif [217247333/217247333] -> \"-\" [1]\n",
      "2021-09-23 03:16:27 URL:https://sentinel-cogs.s3.us-west-2.amazonaws.com/sentinel-s2-l2a-cogs/11/S/PC/2020/2/S2B_11SPC_20200220_0_L2A/B04.tif [212522164/212522164] -> \"-\" [1]\n",
      "2021-09-23 03:16:28 URL:https://sentinel-cogs.s3.us-west-2.amazonaws.com/sentinel-s2-l2a-cogs/11/S/PC/2020/3/S2B_11SPC_20200304_0_L2A/B03.tif [175272802/175272802] -> \"-\" [1]\n",
      "03:16:28: sending https://sentinel-cogs.s3.us-west-2.amazonaws.com/sentinel-s2-l2a-cogs/11/S/PC/2020/2/S2B_11SPC_20200220_0_L2A/B03.tif\n"
     ]
    },
    {
     "name": "stdout",
     "output_type": "stream",
     "text": [
      "\n",
      "\n",
      "wget this: %s https://sentinel-cogs.s3.us-west-2.amazonaws.com/sentinel-s2-l2a-cogs/11/S/PC/2020/2/S2B_11SPC_20200220_0_L2A/B03.tif\n",
      "wget -nv -O- https://sentinel-cogs.s3.us-west-2.amazonaws.com/sentinel-s2-l2a-cogs/11/S/PC/2020/2/S2B_11SPC_20200220_0_L2A/B03.tif | aws s3 cp - s3://dev-et-data/usmart/RIO/sentinel-s2-l2a-cogs/\n",
      "S2B_11SPC_20200220_0_L2A_B03.tif\n",
      "wget -nv -O- https://sentinel-cogs.s3.us-west-2.amazonaws.com/sentinel-s2-l2a-cogs/11/S/PC/2020/2/S2B_11SPC_20200220_0_L2A/B03.tif | aws s3 cp - s3://dev-et-data/usmart/RIO/sentinel-s2-l2a-cogs/S2B_11SPC_20200220_0_L2A_B03.tif\n"
     ]
    },
    {
     "name": "stderr",
     "output_type": "stream",
     "text": [
      "03:16:28: sending https://sentinel-cogs.s3.us-west-2.amazonaws.com/sentinel-s2-l2a-cogs/11/S/PC/2020/3/S2B_11SPC_20200304_0_L2A/B02.tif\n"
     ]
    },
    {
     "name": "stdout",
     "output_type": "stream",
     "text": [
      "\n",
      "\n",
      "wget this: %s https://sentinel-cogs.s3.us-west-2.amazonaws.com/sentinel-s2-l2a-cogs/11/S/PC/2020/3/S2B_11SPC_20200304_0_L2A/B02.tif\n",
      "wget -nv -O- https://sentinel-cogs.s3.us-west-2.amazonaws.com/sentinel-s2-l2a-cogs/11/S/PC/2020/3/S2B_11SPC_20200304_0_L2A/B02.tif | aws s3 cp - s3://dev-et-data/usmart/RIO/sentinel-s2-l2a-cogs/\n",
      "S2B_11SPC_20200304_0_L2A_B02.tif\n",
      "wget -nv -O- https://sentinel-cogs.s3.us-west-2.amazonaws.com/sentinel-s2-l2a-cogs/11/S/PC/2020/3/S2B_11SPC_20200304_0_L2A/B02.tif | aws s3 cp - s3://dev-et-data/usmart/RIO/sentinel-s2-l2a-cogs/S2B_11SPC_20200304_0_L2A_B02.tif\n"
     ]
    },
    {
     "name": "stderr",
     "output_type": "stream",
     "text": [
      "2021-09-23 03:16:28 URL:https://sentinel-cogs.s3.us-west-2.amazonaws.com/sentinel-s2-l2a-cogs/11/S/PC/2020/2/S2B_11SPC_20200213_0_L2A/B04.tif [177358677/177358677] -> \"-\" [1]\n",
      "03:16:29: sending https://sentinel-cogs.s3.us-west-2.amazonaws.com/sentinel-s2-l2a-cogs/11/S/PC/2020/2/S2B_11SPC_20200213_0_L2A/B03.tif\n"
     ]
    },
    {
     "name": "stdout",
     "output_type": "stream",
     "text": [
      "\n",
      "\n",
      "wget this: %s https://sentinel-cogs.s3.us-west-2.amazonaws.com/sentinel-s2-l2a-cogs/11/S/PC/2020/2/S2B_11SPC_20200213_0_L2A/B03.tif\n",
      "wget -nv -O- https://sentinel-cogs.s3.us-west-2.amazonaws.com/sentinel-s2-l2a-cogs/11/S/PC/2020/2/S2B_11SPC_20200213_0_L2A/B03.tif | aws s3 cp - s3://dev-et-data/usmart/RIO/sentinel-s2-l2a-cogs/\n",
      "S2B_11SPC_20200213_0_L2A_B03.tif\n",
      "wget -nv -O- https://sentinel-cogs.s3.us-west-2.amazonaws.com/sentinel-s2-l2a-cogs/11/S/PC/2020/2/S2B_11SPC_20200213_0_L2A/B03.tif | aws s3 cp - s3://dev-et-data/usmart/RIO/sentinel-s2-l2a-cogs/S2B_11SPC_20200213_0_L2A_B03.tif\n"
     ]
    },
    {
     "name": "stderr",
     "output_type": "stream",
     "text": [
      "03:16:30: sending https://sentinel-cogs.s3.us-west-2.amazonaws.com/sentinel-s2-l2a-cogs/11/S/PC/2020/2/S2A_11SPC_20200225_0_L2A/B03.tif\n"
     ]
    },
    {
     "name": "stdout",
     "output_type": "stream",
     "text": [
      "\n",
      "\n",
      "wget this: %s https://sentinel-cogs.s3.us-west-2.amazonaws.com/sentinel-s2-l2a-cogs/11/S/PC/2020/2/S2A_11SPC_20200225_0_L2A/B03.tif\n",
      "wget -nv -O- https://sentinel-cogs.s3.us-west-2.amazonaws.com/sentinel-s2-l2a-cogs/11/S/PC/2020/2/S2A_11SPC_20200225_0_L2A/B03.tif | aws s3 cp - s3://dev-et-data/usmart/RIO/sentinel-s2-l2a-cogs/\n",
      "S2A_11SPC_20200225_0_L2A_B03.tif\n",
      "wget -nv -O- https://sentinel-cogs.s3.us-west-2.amazonaws.com/sentinel-s2-l2a-cogs/11/S/PC/2020/2/S2A_11SPC_20200225_0_L2A/B03.tif | aws s3 cp - s3://dev-et-data/usmart/RIO/sentinel-s2-l2a-cogs/S2A_11SPC_20200225_0_L2A_B03.tif\n"
     ]
    },
    {
     "name": "stderr",
     "output_type": "stream",
     "text": [
      "2021-09-23 03:16:30 URL:https://sentinel-cogs.s3.us-west-2.amazonaws.com/sentinel-s2-l2a-cogs/11/S/PC/2020/3/S2A_11SPC_20200306_0_L2A/B02.tif [189257108/189257108] -> \"-\" [1]\n",
      "2021-09-23 03:16:30 URL:https://sentinel-cogs.s3.us-west-2.amazonaws.com/sentinel-s2-l2a-cogs/11/S/PC/2020/3/S2B_11SPC_20200301_0_L2A/B03.tif [176498138/176498138] -> \"-\" [1]\n",
      "2021-09-23 03:16:30 URL:https://sentinel-cogs.s3.us-west-2.amazonaws.com/sentinel-s2-l2a-cogs/11/S/PC/2020/2/S2A_11SPC_20200228_0_L2A/B03.tif [148857277/148857277] -> \"-\" [1]\n",
      "2021-09-23 03:16:31 URL:https://sentinel-cogs.s3.us-west-2.amazonaws.com/sentinel-s2-l2a-cogs/11/S/PC/2020/2/S2B_11SPC_20200210_0_L2A/B04.tif [214342225/214342225] -> \"-\" [1]\n",
      "03:16:31: Thread 119: finishing in 37 seconds\n",
      "03:16:31: xfer Thread 135: starting\n",
      "03:16:31: sending https://sentinel-cogs.s3.us-west-2.amazonaws.com/sentinel-s2-l2a-cogs/11/S/PC/2020/1/S2A_11SPC_20200129_0_L2A/B04.tif\n"
     ]
    },
    {
     "name": "stdout",
     "output_type": "stream",
     "text": [
      "\n",
      "\n",
      "wget this: %s https://sentinel-cogs.s3.us-west-2.amazonaws.com/sentinel-s2-l2a-cogs/11/S/PC/2020/1/S2A_11SPC_20200129_0_L2A/B04.tif\n",
      "wget -nv -O- https://sentinel-cogs.s3.us-west-2.amazonaws.com/sentinel-s2-l2a-cogs/11/S/PC/2020/1/S2A_11SPC_20200129_0_L2A/B04.tif | aws s3 cp - s3://dev-et-data/usmart/RIO/sentinel-s2-l2a-cogs/\n",
      "S2A_11SPC_20200129_0_L2A_B04.tif\n",
      "wget -nv -O- https://sentinel-cogs.s3.us-west-2.amazonaws.com/sentinel-s2-l2a-cogs/11/S/PC/2020/1/S2A_11SPC_20200129_0_L2A/B04.tif | aws s3 cp - s3://dev-et-data/usmart/RIO/sentinel-s2-l2a-cogs/S2A_11SPC_20200129_0_L2A_B04.tif\n"
     ]
    },
    {
     "name": "stderr",
     "output_type": "stream",
     "text": [
      "03:16:31: Thread 121: finishing in 30 seconds\n",
      "03:16:31: xfer Thread 136: starting\n",
      "03:16:31: sending https://sentinel-cogs.s3.us-west-2.amazonaws.com/sentinel-s2-l2a-cogs/11/S/PC/2020/1/S2A_11SPC_20200126_0_L2A/B04.tif\n",
      "03:16:31: sending https://sentinel-cogs.s3.us-west-2.amazonaws.com/sentinel-s2-l2a-cogs/11/S/PC/2020/3/S2B_11SPC_20200301_0_L2A/B02.tif\n"
     ]
    },
    {
     "name": "stdout",
     "output_type": "stream",
     "text": [
      "\n",
      "\n",
      "\n",
      "\n",
      "wget this: %s https://sentinel-cogs.s3.us-west-2.amazonaws.com/sentinel-s2-l2a-cogs/11/S/PC/2020/1/S2A_11SPC_20200126_0_L2A/B04.tif\n",
      "wget -nv -O- https://sentinel-cogs.s3.us-west-2.amazonaws.com/sentinel-s2-l2a-cogs/11/S/PC/2020/1/S2A_11SPC_20200126_0_L2A/B04.tif | aws s3 cp - s3://dev-et-data/usmart/RIO/sentinel-s2-l2a-cogs/\n",
      "S2A_11SPC_20200126_0_L2A_B04.tif\n",
      "wget -nv -O- https://sentinel-cogs.s3.us-west-2.amazonaws.com/sentinel-s2-l2a-cogs/11/S/PC/2020/1/S2A_11SPC_20200126_0_L2A/B04.tif | aws s3 cp - s3://dev-et-data/usmart/RIO/sentinel-s2-l2a-cogs/S2A_11SPC_20200126_0_L2A_B04.tif\n",
      "wget this: %s https://sentinel-cogs.s3.us-west-2.amazonaws.com/sentinel-s2-l2a-cogs/11/S/PC/2020/3/S2B_11SPC_20200301_0_L2A/B02.tif\n",
      "wget -nv -O- https://sentinel-cogs.s3.us-west-2.amazonaws.com/sentinel-s2-l2a-cogs/11/S/PC/2020/3/S2B_11SPC_20200301_0_L2A/B02.tif | aws s3 cp - s3://dev-et-data/usmart/RIO/sentinel-s2-l2a-cogs/\n",
      "S2B_11SPC_20200301_0_L2A_B02.tif\n",
      "wget -nv -O- https://sentinel-cogs.s3.us-west-2.amazonaws.com/sentinel-s2-l2a-cogs/11/S/PC/2020/3/S2B_11SPC_20200301_0_L2A/B02.tif | aws s3 cp - s3://dev-et-data/usmart/RIO/sentinel-s2-l2a-cogs/S2B_11SPC_20200301_0_L2A_B02.tif\n"
     ]
    },
    {
     "name": "stderr",
     "output_type": "stream",
     "text": [
      "2021-09-23 03:16:31 URL:https://sentinel-cogs.s3.us-west-2.amazonaws.com/sentinel-s2-l2a-cogs/11/S/PC/2020/2/S2A_11SPC_20200208_0_L2A/B04.tif [179794124/179794124] -> \"-\" [1]\n",
      "03:16:31: sending https://sentinel-cogs.s3.us-west-2.amazonaws.com/sentinel-s2-l2a-cogs/11/S/PC/2020/2/S2A_11SPC_20200228_0_L2A/B02.tif\n"
     ]
    },
    {
     "name": "stdout",
     "output_type": "stream",
     "text": [
      "\n",
      "\n",
      "wget this: %s https://sentinel-cogs.s3.us-west-2.amazonaws.com/sentinel-s2-l2a-cogs/11/S/PC/2020/2/S2A_11SPC_20200228_0_L2A/B02.tif\n",
      "wget -nv -O- https://sentinel-cogs.s3.us-west-2.amazonaws.com/sentinel-s2-l2a-cogs/11/S/PC/2020/2/S2A_11SPC_20200228_0_L2A/B02.tif | aws s3 cp - s3://dev-et-data/usmart/RIO/sentinel-s2-l2a-cogs/\n",
      "S2A_11SPC_20200228_0_L2A_B02.tif\n",
      "wget -nv -O- https://sentinel-cogs.s3.us-west-2.amazonaws.com/sentinel-s2-l2a-cogs/11/S/PC/2020/2/S2A_11SPC_20200228_0_L2A/B02.tif | aws s3 cp - s3://dev-et-data/usmart/RIO/sentinel-s2-l2a-cogs/S2A_11SPC_20200228_0_L2A_B02.tif\n"
     ]
    },
    {
     "name": "stderr",
     "output_type": "stream",
     "text": [
      "03:16:32: sending https://sentinel-cogs.s3.us-west-2.amazonaws.com/sentinel-s2-l2a-cogs/11/S/PC/2020/2/S2B_11SPC_20200210_0_L2A/B03.tif\n",
      "03:16:32: sending https://sentinel-cogs.s3.us-west-2.amazonaws.com/sentinel-s2-l2a-cogs/11/S/PC/2020/2/S2A_11SPC_20200208_0_L2A/B03.tif\n"
     ]
    },
    {
     "name": "stdout",
     "output_type": "stream",
     "text": [
      "\n",
      "\n",
      "wget this: %s https://sentinel-cogs.s3.us-west-2.amazonaws.com/sentinel-s2-l2a-cogs/11/S/PC/2020/2/S2B_11SPC_20200210_0_L2A/B03.tif\n",
      "wget -nv -O- https://sentinel-cogs.s3.us-west-2.amazonaws.com/sentinel-s2-l2a-cogs/11/S/PC/2020/2/S2B_11SPC_20200210_0_L2A/B03.tif | aws s3 cp - s3://dev-et-data/usmart/RIO/sentinel-s2-l2a-cogs/\n",
      "S2B_11SPC_20200210_0_L2A_B03.tif\n",
      "wget -nv -O- https://sentinel-cogs.s3.us-west-2.amazonaws.com/sentinel-s2-l2a-cogs/11/S/PC/2020/2/S2B_11SPC_20200210_0_L2A/B03.tif | aws s3 cp - s3://dev-et-data/usmart/RIO/sentinel-s2-l2a-cogs/S2B_11SPC_20200210_0_L2A_B03.tif\n",
      "\n",
      "\n",
      "wget this: %s https://sentinel-cogs.s3.us-west-2.amazonaws.com/sentinel-s2-l2a-cogs/11/S/PC/2020/2/S2A_11SPC_20200208_0_L2A/B03.tif\n",
      "wget -nv -O- https://sentinel-cogs.s3.us-west-2.amazonaws.com/sentinel-s2-l2a-cogs/11/S/PC/2020/2/S2A_11SPC_20200208_0_L2A/B03.tif | aws s3 cp - s3://dev-et-data/usmart/RIO/sentinel-s2-l2a-cogs/\n",
      "S2A_11SPC_20200208_0_L2A_B03.tif\n",
      "wget -nv -O- https://sentinel-cogs.s3.us-west-2.amazonaws.com/sentinel-s2-l2a-cogs/11/S/PC/2020/2/S2A_11SPC_20200208_0_L2A/B03.tif | aws s3 cp - s3://dev-et-data/usmart/RIO/sentinel-s2-l2a-cogs/S2A_11SPC_20200208_0_L2A_B03.tif\n"
     ]
    },
    {
     "name": "stderr",
     "output_type": "stream",
     "text": [
      "2021-09-23 03:16:32 URL:https://sentinel-cogs.s3.us-west-2.amazonaws.com/sentinel-s2-l2a-cogs/11/S/PC/2020/2/S2B_11SPC_20200223_0_L2A/B03.tif [177183309/177183309] -> \"-\" [1]\n",
      "2021-09-23 03:16:33 URL:https://sentinel-cogs.s3.us-west-2.amazonaws.com/sentinel-s2-l2a-cogs/11/S/PC/2020/2/S2A_11SPC_20200218_0_L2A/B03.tif [175128198/175128198] -> \"-\" [1]\n",
      "03:16:33: sending https://sentinel-cogs.s3.us-west-2.amazonaws.com/sentinel-s2-l2a-cogs/11/S/PC/2020/2/S2B_11SPC_20200223_0_L2A/B02.tif\n"
     ]
    },
    {
     "name": "stdout",
     "output_type": "stream",
     "text": [
      "\n",
      "\n",
      "wget this: %s https://sentinel-cogs.s3.us-west-2.amazonaws.com/sentinel-s2-l2a-cogs/11/S/PC/2020/2/S2B_11SPC_20200223_0_L2A/B02.tif\n",
      "wget -nv -O- https://sentinel-cogs.s3.us-west-2.amazonaws.com/sentinel-s2-l2a-cogs/11/S/PC/2020/2/S2B_11SPC_20200223_0_L2A/B02.tif | aws s3 cp - s3://dev-et-data/usmart/RIO/sentinel-s2-l2a-cogs/\n",
      "S2B_11SPC_20200223_0_L2A_B02.tif\n",
      "wget -nv -O- https://sentinel-cogs.s3.us-west-2.amazonaws.com/sentinel-s2-l2a-cogs/11/S/PC/2020/2/S2B_11SPC_20200223_0_L2A/B02.tif | aws s3 cp - s3://dev-et-data/usmart/RIO/sentinel-s2-l2a-cogs/S2B_11SPC_20200223_0_L2A_B02.tif\n"
     ]
    },
    {
     "name": "stderr",
     "output_type": "stream",
     "text": [
      "03:16:34: sending https://sentinel-cogs.s3.us-west-2.amazonaws.com/sentinel-s2-l2a-cogs/11/S/PC/2020/2/S2A_11SPC_20200218_0_L2A/B02.tif\n"
     ]
    },
    {
     "name": "stdout",
     "output_type": "stream",
     "text": [
      "\n",
      "\n",
      "wget this: %s https://sentinel-cogs.s3.us-west-2.amazonaws.com/sentinel-s2-l2a-cogs/11/S/PC/2020/2/S2A_11SPC_20200218_0_L2A/B02.tif\n",
      "wget -nv -O- https://sentinel-cogs.s3.us-west-2.amazonaws.com/sentinel-s2-l2a-cogs/11/S/PC/2020/2/S2A_11SPC_20200218_0_L2A/B02.tif | aws s3 cp - s3://dev-et-data/usmart/RIO/sentinel-s2-l2a-cogs/\n",
      "S2A_11SPC_20200218_0_L2A_B02.tif\n",
      "wget -nv -O- https://sentinel-cogs.s3.us-west-2.amazonaws.com/sentinel-s2-l2a-cogs/11/S/PC/2020/2/S2A_11SPC_20200218_0_L2A/B02.tif | aws s3 cp - s3://dev-et-data/usmart/RIO/sentinel-s2-l2a-cogs/S2A_11SPC_20200218_0_L2A_B02.tif\n"
     ]
    },
    {
     "name": "stderr",
     "output_type": "stream",
     "text": [
      "2021-09-23 03:16:34 URL:https://sentinel-cogs.s3.us-west-2.amazonaws.com/sentinel-s2-l2a-cogs/11/S/PC/2020/2/S2B_11SPC_20200203_0_L2A/B04.tif [170417020/170417020] -> \"-\" [1]\n",
      "03:16:35: sending https://sentinel-cogs.s3.us-west-2.amazonaws.com/sentinel-s2-l2a-cogs/11/S/PC/2020/2/S2B_11SPC_20200203_0_L2A/B03.tif\n"
     ]
    },
    {
     "name": "stdout",
     "output_type": "stream",
     "text": [
      "\n",
      "\n",
      "wget this: %s https://sentinel-cogs.s3.us-west-2.amazonaws.com/sentinel-s2-l2a-cogs/11/S/PC/2020/2/S2B_11SPC_20200203_0_L2A/B03.tif\n",
      "wget -nv -O- https://sentinel-cogs.s3.us-west-2.amazonaws.com/sentinel-s2-l2a-cogs/11/S/PC/2020/2/S2B_11SPC_20200203_0_L2A/B03.tif | aws s3 cp - s3://dev-et-data/usmart/RIO/sentinel-s2-l2a-cogs/\n",
      "S2B_11SPC_20200203_0_L2A_B03.tif\n",
      "wget -nv -O- https://sentinel-cogs.s3.us-west-2.amazonaws.com/sentinel-s2-l2a-cogs/11/S/PC/2020/2/S2B_11SPC_20200203_0_L2A/B03.tif | aws s3 cp - s3://dev-et-data/usmart/RIO/sentinel-s2-l2a-cogs/S2B_11SPC_20200203_0_L2A_B03.tif\n"
     ]
    },
    {
     "name": "stderr",
     "output_type": "stream",
     "text": [
      "2021-09-23 03:16:35 URL:https://sentinel-cogs.s3.us-west-2.amazonaws.com/sentinel-s2-l2a-cogs/11/S/PC/2020/2/S2A_11SPC_20200205_0_L2A/B04.tif [211812950/211812950] -> \"-\" [1]\n",
      "2021-09-23 03:16:36 URL:https://sentinel-cogs.s3.us-west-2.amazonaws.com/sentinel-s2-l2a-cogs/11/S/PC/2020/2/S2A_11SPC_20200215_0_L2A/B03.tif [183415973/183415973] -> \"-\" [1]\n",
      "03:16:36: sending https://sentinel-cogs.s3.us-west-2.amazonaws.com/sentinel-s2-l2a-cogs/11/S/PC/2020/2/S2A_11SPC_20200205_0_L2A/B03.tif\n"
     ]
    },
    {
     "name": "stdout",
     "output_type": "stream",
     "text": [
      "\n",
      "\n",
      "wget this: %s https://sentinel-cogs.s3.us-west-2.amazonaws.com/sentinel-s2-l2a-cogs/11/S/PC/2020/2/S2A_11SPC_20200205_0_L2A/B03.tif\n",
      "wget -nv -O- https://sentinel-cogs.s3.us-west-2.amazonaws.com/sentinel-s2-l2a-cogs/11/S/PC/2020/2/S2A_11SPC_20200205_0_L2A/B03.tif | aws s3 cp - s3://dev-et-data/usmart/RIO/sentinel-s2-l2a-cogs/\n",
      "S2A_11SPC_20200205_0_L2A_B03.tif\n",
      "wget -nv -O- https://sentinel-cogs.s3.us-west-2.amazonaws.com/sentinel-s2-l2a-cogs/11/S/PC/2020/2/S2A_11SPC_20200205_0_L2A/B03.tif | aws s3 cp - s3://dev-et-data/usmart/RIO/sentinel-s2-l2a-cogs/S2A_11SPC_20200205_0_L2A_B03.tif\n"
     ]
    },
    {
     "name": "stderr",
     "output_type": "stream",
     "text": [
      "03:16:37: sending https://sentinel-cogs.s3.us-west-2.amazonaws.com/sentinel-s2-l2a-cogs/11/S/PC/2020/2/S2A_11SPC_20200215_0_L2A/B02.tif\n"
     ]
    },
    {
     "name": "stdout",
     "output_type": "stream",
     "text": [
      "\n",
      "\n",
      "wget this: %s https://sentinel-cogs.s3.us-west-2.amazonaws.com/sentinel-s2-l2a-cogs/11/S/PC/2020/2/S2A_11SPC_20200215_0_L2A/B02.tif\n",
      "wget -nv -O- https://sentinel-cogs.s3.us-west-2.amazonaws.com/sentinel-s2-l2a-cogs/11/S/PC/2020/2/S2A_11SPC_20200215_0_L2A/B02.tif | aws s3 cp - s3://dev-et-data/usmart/RIO/sentinel-s2-l2a-cogs/\n",
      "S2A_11SPC_20200215_0_L2A_B02.tif\n",
      "wget -nv -O- https://sentinel-cogs.s3.us-west-2.amazonaws.com/sentinel-s2-l2a-cogs/11/S/PC/2020/2/S2A_11SPC_20200215_0_L2A/B02.tif | aws s3 cp - s3://dev-et-data/usmart/RIO/sentinel-s2-l2a-cogs/S2A_11SPC_20200215_0_L2A_B02.tif\n"
     ]
    },
    {
     "name": "stderr",
     "output_type": "stream",
     "text": [
      "2021-09-23 03:16:37 URL:https://sentinel-cogs.s3.us-west-2.amazonaws.com/sentinel-s2-l2a-cogs/11/S/PC/2020/2/S2B_11SPC_20200220_0_L2A/B03.tif [212903415/212903415] -> \"-\" [1]\n",
      "2021-09-23 03:16:38 URL:https://sentinel-cogs.s3.us-west-2.amazonaws.com/sentinel-s2-l2a-cogs/11/S/PC/2020/3/S2B_11SPC_20200304_0_L2A/B02.tif [176597346/176597346] -> \"-\" [1]\n",
      "03:16:38: sending https://sentinel-cogs.s3.us-west-2.amazonaws.com/sentinel-s2-l2a-cogs/11/S/PC/2020/2/S2B_11SPC_20200220_0_L2A/B02.tif\n"
     ]
    },
    {
     "name": "stdout",
     "output_type": "stream",
     "text": [
      "\n",
      "\n",
      "wget this: %s https://sentinel-cogs.s3.us-west-2.amazonaws.com/sentinel-s2-l2a-cogs/11/S/PC/2020/2/S2B_11SPC_20200220_0_L2A/B02.tif\n",
      "wget -nv -O- https://sentinel-cogs.s3.us-west-2.amazonaws.com/sentinel-s2-l2a-cogs/11/S/PC/2020/2/S2B_11SPC_20200220_0_L2A/B02.tif | aws s3 cp - s3://dev-et-data/usmart/RIO/sentinel-s2-l2a-cogs/\n",
      "S2B_11SPC_20200220_0_L2A_B02.tif\n",
      "wget -nv -O- https://sentinel-cogs.s3.us-west-2.amazonaws.com/sentinel-s2-l2a-cogs/11/S/PC/2020/2/S2B_11SPC_20200220_0_L2A/B02.tif | aws s3 cp - s3://dev-et-data/usmart/RIO/sentinel-s2-l2a-cogs/S2B_11SPC_20200220_0_L2A_B02.tif\n"
     ]
    },
    {
     "name": "stderr",
     "output_type": "stream",
     "text": [
      "03:16:39: Thread 122: finishing in 30 seconds\n",
      "03:16:39: xfer Thread 137: starting\n",
      "03:16:39: sending https://sentinel-cogs.s3.us-west-2.amazonaws.com/sentinel-s2-l2a-cogs/11/S/PC/2020/1/S2B_11SPC_20200124_0_L2A/B04.tif\n"
     ]
    },
    {
     "name": "stdout",
     "output_type": "stream",
     "text": [
      "\n",
      "\n",
      "wget this: %s https://sentinel-cogs.s3.us-west-2.amazonaws.com/sentinel-s2-l2a-cogs/11/S/PC/2020/1/S2B_11SPC_20200124_0_L2A/B04.tif\n",
      "wget -nv -O- https://sentinel-cogs.s3.us-west-2.amazonaws.com/sentinel-s2-l2a-cogs/11/S/PC/2020/1/S2B_11SPC_20200124_0_L2A/B04.tif | aws s3 cp - s3://dev-et-data/usmart/RIO/sentinel-s2-l2a-cogs/\n",
      "S2B_11SPC_20200124_0_L2A_B04.tif\n",
      "wget -nv -O- https://sentinel-cogs.s3.us-west-2.amazonaws.com/sentinel-s2-l2a-cogs/11/S/PC/2020/1/S2B_11SPC_20200124_0_L2A/B04.tif | aws s3 cp - s3://dev-et-data/usmart/RIO/sentinel-s2-l2a-cogs/S2B_11SPC_20200124_0_L2A_B04.tif\n"
     ]
    },
    {
     "name": "stderr",
     "output_type": "stream",
     "text": [
      "2021-09-23 03:16:39 URL:https://sentinel-cogs.s3.us-west-2.amazonaws.com/sentinel-s2-l2a-cogs/11/S/PC/2020/2/S2A_11SPC_20200228_0_L2A/B02.tif [150468020/150468020] -> \"-\" [1]\n",
      "03:16:40: Thread 124: finishing in 30 seconds\n",
      "03:16:40: xfer Thread 138: starting\n",
      "03:16:40: sending https://sentinel-cogs.s3.us-west-2.amazonaws.com/sentinel-s2-l2a-cogs/11/S/PC/2020/1/S2B_11SPC_20200121_0_L2A/B04.tif\n"
     ]
    },
    {
     "name": "stdout",
     "output_type": "stream",
     "text": [
      "\n",
      "\n",
      "wget this: %s https://sentinel-cogs.s3.us-west-2.amazonaws.com/sentinel-s2-l2a-cogs/11/S/PC/2020/1/S2B_11SPC_20200121_0_L2A/B04.tif\n",
      "wget -nv -O- https://sentinel-cogs.s3.us-west-2.amazonaws.com/sentinel-s2-l2a-cogs/11/S/PC/2020/1/S2B_11SPC_20200121_0_L2A/B04.tif | aws s3 cp - s3://dev-et-data/usmart/RIO/sentinel-s2-l2a-cogs/\n",
      "S2B_11SPC_20200121_0_L2A_B04.tif\n",
      "wget -nv -O- https://sentinel-cogs.s3.us-west-2.amazonaws.com/sentinel-s2-l2a-cogs/11/S/PC/2020/1/S2B_11SPC_20200121_0_L2A/B04.tif | aws s3 cp - s3://dev-et-data/usmart/RIO/sentinel-s2-l2a-cogs/S2B_11SPC_20200121_0_L2A_B04.tif\n"
     ]
    },
    {
     "name": "stderr",
     "output_type": "stream",
     "text": [
      "2021-09-23 03:16:40 URL:https://sentinel-cogs.s3.us-west-2.amazonaws.com/sentinel-s2-l2a-cogs/11/S/PC/2020/1/S2A_11SPC_20200126_0_L2A/B04.tif [208752332/208752332] -> \"-\" [1]\n",
      "2021-09-23 03:16:41 URL:https://sentinel-cogs.s3.us-west-2.amazonaws.com/sentinel-s2-l2a-cogs/11/S/PC/2020/2/S2B_11SPC_20200213_0_L2A/B03.tif [179209400/179209400] -> \"-\" [1]\n",
      "2021-09-23 03:16:41 URL:https://sentinel-cogs.s3.us-west-2.amazonaws.com/sentinel-s2-l2a-cogs/11/S/PC/2020/2/S2A_11SPC_20200225_0_L2A/B03.tif [212848287/212848287] -> \"-\" [1]\n",
      "2021-09-23 03:16:41 URL:https://sentinel-cogs.s3.us-west-2.amazonaws.com/sentinel-s2-l2a-cogs/11/S/PC/2020/1/S2A_11SPC_20200129_0_L2A/B04.tif [177552951/177552951] -> \"-\" [1]\n",
      "03:16:41: sending https://sentinel-cogs.s3.us-west-2.amazonaws.com/sentinel-s2-l2a-cogs/11/S/PC/2020/1/S2A_11SPC_20200126_0_L2A/B03.tif\n"
     ]
    },
    {
     "name": "stdout",
     "output_type": "stream",
     "text": [
      "\n",
      "\n",
      "wget this: %s https://sentinel-cogs.s3.us-west-2.amazonaws.com/sentinel-s2-l2a-cogs/11/S/PC/2020/1/S2A_11SPC_20200126_0_L2A/B03.tif\n",
      "wget -nv -O- https://sentinel-cogs.s3.us-west-2.amazonaws.com/sentinel-s2-l2a-cogs/11/S/PC/2020/1/S2A_11SPC_20200126_0_L2A/B03.tif | aws s3 cp - s3://dev-et-data/usmart/RIO/sentinel-s2-l2a-cogs/\n",
      "S2A_11SPC_20200126_0_L2A_B03.tif\n",
      "wget -nv -O- https://sentinel-cogs.s3.us-west-2.amazonaws.com/sentinel-s2-l2a-cogs/11/S/PC/2020/1/S2A_11SPC_20200126_0_L2A/B03.tif | aws s3 cp - s3://dev-et-data/usmart/RIO/sentinel-s2-l2a-cogs/S2A_11SPC_20200126_0_L2A_B03.tif\n"
     ]
    },
    {
     "name": "stderr",
     "output_type": "stream",
     "text": [
      "03:16:42: sending https://sentinel-cogs.s3.us-west-2.amazonaws.com/sentinel-s2-l2a-cogs/11/S/PC/2020/2/S2A_11SPC_20200225_0_L2A/B02.tif\n",
      "03:16:42: sending https://sentinel-cogs.s3.us-west-2.amazonaws.com/sentinel-s2-l2a-cogs/11/S/PC/2020/2/S2B_11SPC_20200213_0_L2A/B02.tif\n"
     ]
    },
    {
     "name": "stdout",
     "output_type": "stream",
     "text": [
      "\n",
      "\n",
      "wget this: %s https://sentinel-cogs.s3.us-west-2.amazonaws.com/sentinel-s2-l2a-cogs/11/S/PC/2020/2/S2A_11SPC_20200225_0_L2A/B02.tif\n",
      "wget -nv -O- https://sentinel-cogs.s3.us-west-2.amazonaws.com/sentinel-s2-l2a-cogs/11/S/PC/2020/2/S2A_11SPC_20200225_0_L2A/B02.tif | aws s3 cp - s3://dev-et-data/usmart/RIO/sentinel-s2-l2a-cogs/\n",
      "S2A_11SPC_20200225_0_L2A_B02.tif\n",
      "wget -nv -O- https://sentinel-cogs.s3.us-west-2.amazonaws.com/sentinel-s2-l2a-cogs/11/S/PC/2020/2/S2A_11SPC_20200225_0_L2A/B02.tif | aws s3 cp - s3://dev-et-data/usmart/RIO/sentinel-s2-l2a-cogs/S2A_11SPC_20200225_0_L2A_B02.tif\n",
      "\n",
      "\n",
      "wget this: %s https://sentinel-cogs.s3.us-west-2.amazonaws.com/sentinel-s2-l2a-cogs/11/S/PC/2020/2/S2B_11SPC_20200213_0_L2A/B02.tif\n",
      "wget -nv -O- https://sentinel-cogs.s3.us-west-2.amazonaws.com/sentinel-s2-l2a-cogs/11/S/PC/2020/2/S2B_11SPC_20200213_0_L2A/B02.tif | aws s3 cp - s3://dev-et-data/usmart/RIO/sentinel-s2-l2a-cogs/\n",
      "S2B_11SPC_20200213_0_L2A_B02.tif\n",
      "wget -nv -O- https://sentinel-cogs.s3.us-west-2.amazonaws.com/sentinel-s2-l2a-cogs/11/S/PC/2020/2/S2B_11SPC_20200213_0_L2A/B02.tif | aws s3 cp - s3://dev-et-data/usmart/RIO/sentinel-s2-l2a-cogs/S2B_11SPC_20200213_0_L2A_B02.tif\n"
     ]
    },
    {
     "name": "stderr",
     "output_type": "stream",
     "text": [
      "03:16:42: sending https://sentinel-cogs.s3.us-west-2.amazonaws.com/sentinel-s2-l2a-cogs/11/S/PC/2020/1/S2A_11SPC_20200129_0_L2A/B03.tif\n"
     ]
    },
    {
     "name": "stdout",
     "output_type": "stream",
     "text": [
      "\n",
      "\n",
      "wget this: %s https://sentinel-cogs.s3.us-west-2.amazonaws.com/sentinel-s2-l2a-cogs/11/S/PC/2020/1/S2A_11SPC_20200129_0_L2A/B03.tif\n",
      "wget -nv -O- https://sentinel-cogs.s3.us-west-2.amazonaws.com/sentinel-s2-l2a-cogs/11/S/PC/2020/1/S2A_11SPC_20200129_0_L2A/B03.tif | aws s3 cp - s3://dev-et-data/usmart/RIO/sentinel-s2-l2a-cogs/\n",
      "S2A_11SPC_20200129_0_L2A_B03.tif\n",
      "wget -nv -O- https://sentinel-cogs.s3.us-west-2.amazonaws.com/sentinel-s2-l2a-cogs/11/S/PC/2020/1/S2A_11SPC_20200129_0_L2A/B03.tif | aws s3 cp - s3://dev-et-data/usmart/RIO/sentinel-s2-l2a-cogs/S2A_11SPC_20200129_0_L2A_B03.tif\n"
     ]
    },
    {
     "name": "stderr",
     "output_type": "stream",
     "text": [
      "2021-09-23 03:16:42 URL:https://sentinel-cogs.s3.us-west-2.amazonaws.com/sentinel-s2-l2a-cogs/11/S/PC/2020/2/S2B_11SPC_20200223_0_L2A/B02.tif [178453888/178453888] -> \"-\" [1]\n",
      "2021-09-23 03:16:43 URL:https://sentinel-cogs.s3.us-west-2.amazonaws.com/sentinel-s2-l2a-cogs/11/S/PC/2020/2/S2B_11SPC_20200210_0_L2A/B03.tif [215643559/215643559] -> \"-\" [1]\n",
      "03:16:43: Thread 126: finishing in 29 seconds\n",
      "2021-09-23 03:16:43 URL:https://sentinel-cogs.s3.us-west-2.amazonaws.com/sentinel-s2-l2a-cogs/11/S/PC/2020/2/S2A_11SPC_20200208_0_L2A/B03.tif [181611911/181611911] -> \"-\" [1]\n",
      "03:16:43: xfer Thread 139: starting\n",
      "03:16:43: sending https://sentinel-cogs.s3.us-west-2.amazonaws.com/sentinel-s2-l2a-cogs/11/S/PC/2020/1/S2A_11SPC_20200119_0_L2A/B04.tif\n"
     ]
    },
    {
     "name": "stdout",
     "output_type": "stream",
     "text": [
      "\n",
      "\n",
      "wget this: %s https://sentinel-cogs.s3.us-west-2.amazonaws.com/sentinel-s2-l2a-cogs/11/S/PC/2020/1/S2A_11SPC_20200119_0_L2A/B04.tif\n",
      "wget -nv -O- https://sentinel-cogs.s3.us-west-2.amazonaws.com/sentinel-s2-l2a-cogs/11/S/PC/2020/1/S2A_11SPC_20200119_0_L2A/B04.tif | aws s3 cp - s3://dev-et-data/usmart/RIO/sentinel-s2-l2a-cogs/\n",
      "S2A_11SPC_20200119_0_L2A_B04.tif\n",
      "wget -nv -O- https://sentinel-cogs.s3.us-west-2.amazonaws.com/sentinel-s2-l2a-cogs/11/S/PC/2020/1/S2A_11SPC_20200119_0_L2A/B04.tif | aws s3 cp - s3://dev-et-data/usmart/RIO/sentinel-s2-l2a-cogs/S2A_11SPC_20200119_0_L2A_B04.tif\n"
     ]
    },
    {
     "name": "stderr",
     "output_type": "stream",
     "text": [
      "2021-09-23 03:16:43 URL:https://sentinel-cogs.s3.us-west-2.amazonaws.com/sentinel-s2-l2a-cogs/11/S/PC/2020/3/S2B_11SPC_20200301_0_L2A/B02.tif [178367060/178367060] -> \"-\" [1]\n",
      "2021-09-23 03:16:43 URL:https://sentinel-cogs.s3.us-west-2.amazonaws.com/sentinel-s2-l2a-cogs/11/S/PC/2020/2/S2B_11SPC_20200203_0_L2A/B03.tif [171593748/171593748] -> \"-\" [1]\n",
      "2021-09-23 03:16:43 URL:https://sentinel-cogs.s3.us-west-2.amazonaws.com/sentinel-s2-l2a-cogs/11/S/PC/2020/2/S2A_11SPC_20200218_0_L2A/B02.tif [176892777/176892777] -> \"-\" [1]\n",
      "03:16:44: sending https://sentinel-cogs.s3.us-west-2.amazonaws.com/sentinel-s2-l2a-cogs/11/S/PC/2020/2/S2A_11SPC_20200208_0_L2A/B02.tif\n",
      "03:16:44: sending https://sentinel-cogs.s3.us-west-2.amazonaws.com/sentinel-s2-l2a-cogs/11/S/PC/2020/2/S2B_11SPC_20200210_0_L2A/B02.tif\n"
     ]
    },
    {
     "name": "stdout",
     "output_type": "stream",
     "text": [
      "\n",
      "\n",
      "wget this: %s https://sentinel-cogs.s3.us-west-2.amazonaws.com/sentinel-s2-l2a-cogs/11/S/PC/2020/2/S2A_11SPC_20200208_0_L2A/B02.tif\n",
      "wget -nv -O- https://sentinel-cogs.s3.us-west-2.amazonaws.com/sentinel-s2-l2a-cogs/11/S/PC/2020/2/S2A_11SPC_20200208_0_L2A/B02.tif | aws s3 cp - s3://dev-et-data/usmart/RIO/sentinel-s2-l2a-cogs/\n",
      "S2A_11SPC_20200208_0_L2A_B02.tif\n",
      "wget -nv -O- https://sentinel-cogs.s3.us-west-2.amazonaws.com/sentinel-s2-l2a-cogs/11/S/PC/2020/2/S2A_11SPC_20200208_0_L2A/B02.tif | aws s3 cp - s3://dev-et-data/usmart/RIO/sentinel-s2-l2a-cogs/S2A_11SPC_20200208_0_L2A_B02.tif\n",
      "\n",
      "\n",
      "wget this: %s https://sentinel-cogs.s3.us-west-2.amazonaws.com/sentinel-s2-l2a-cogs/11/S/PC/2020/2/S2B_11SPC_20200210_0_L2A/B02.tif\n",
      "wget -nv -O- https://sentinel-cogs.s3.us-west-2.amazonaws.com/sentinel-s2-l2a-cogs/11/S/PC/2020/2/S2B_11SPC_20200210_0_L2A/B02.tif | aws s3 cp - s3://dev-et-data/usmart/RIO/sentinel-s2-l2a-cogs/\n",
      "S2B_11SPC_20200210_0_L2A_B02.tif\n",
      "wget -nv -O- https://sentinel-cogs.s3.us-west-2.amazonaws.com/sentinel-s2-l2a-cogs/11/S/PC/2020/2/S2B_11SPC_20200210_0_L2A/B02.tif | aws s3 cp - s3://dev-et-data/usmart/RIO/sentinel-s2-l2a-cogs/S2B_11SPC_20200210_0_L2A_B02.tif\n"
     ]
    },
    {
     "name": "stderr",
     "output_type": "stream",
     "text": [
      "03:16:44: Thread 123: finishing in 34 seconds\n",
      "03:16:44: xfer Thread 140: starting\n",
      "03:16:44: sending https://sentinel-cogs.s3.us-west-2.amazonaws.com/sentinel-s2-l2a-cogs/11/S/PC/2020/1/S2A_11SPC_20200116_0_L2A/B04.tif\n",
      "03:16:44: Thread 128: finishing in 27 seconds\n",
      "03:16:44: xfer Thread 141: starting\n",
      "03:16:44: sending https://sentinel-cogs.s3.us-west-2.amazonaws.com/sentinel-s2-l2a-cogs/11/S/PC/2020/1/S2B_11SPC_20200114_0_L2A/B04.tif\n",
      "03:16:44: sending https://sentinel-cogs.s3.us-west-2.amazonaws.com/sentinel-s2-l2a-cogs/11/S/PC/2020/2/S2B_11SPC_20200203_0_L2A/B02.tif\n"
     ]
    },
    {
     "name": "stdout",
     "output_type": "stream",
     "text": [
      "\n",
      "\n",
      "wget this: %s https://sentinel-cogs.s3.us-west-2.amazonaws.com/sentinel-s2-l2a-cogs/11/S/PC/2020/1/S2A_11SPC_20200116_0_L2A/B04.tif\n",
      "wget -nv -O- https://sentinel-cogs.s3.us-west-2.amazonaws.com/sentinel-s2-l2a-cogs/11/S/PC/2020/1/S2A_11SPC_20200116_0_L2A/B04.tif | aws s3 cp - s3://dev-et-data/usmart/RIO/sentinel-s2-l2a-cogs/\n",
      "S2A_11SPC_20200116_0_L2A_B04.tif\n",
      "wget -nv -O- https://sentinel-cogs.s3.us-west-2.amazonaws.com/sentinel-s2-l2a-cogs/11/S/PC/2020/1/S2A_11SPC_20200116_0_L2A/B04.tif | aws s3 cp - s3://dev-et-data/usmart/RIO/sentinel-s2-l2a-cogs/S2A_11SPC_20200116_0_L2A_B04.tif\n",
      "\n",
      "\n",
      "wget this: %s https://sentinel-cogs.s3.us-west-2.amazonaws.com/sentinel-s2-l2a-cogs/11/S/PC/2020/1/S2B_11SPC_20200114_0_L2A/B04.tif\n",
      "wget -nv -O- https://sentinel-cogs.s3.us-west-2.amazonaws.com/sentinel-s2-l2a-cogs/11/S/PC/2020/1/S2B_11SPC_20200114_0_L2A/B04.tif | aws s3 cp - s3://dev-et-data/usmart/RIO/sentinel-s2-l2a-cogs/\n",
      "S2B_11SPC_20200114_0_L2A_B04.tif\n",
      "wget -nv -O- https://sentinel-cogs.s3.us-west-2.amazonaws.com/sentinel-s2-l2a-cogs/11/S/PC/2020/1/S2B_11SPC_20200114_0_L2A/B04.tif | aws s3 cp - s3://dev-et-data/usmart/RIO/sentinel-s2-l2a-cogs/S2B_11SPC_20200114_0_L2A_B04.tif\n",
      "\n",
      "\n",
      "wget this: %s https://sentinel-cogs.s3.us-west-2.amazonaws.com/sentinel-s2-l2a-cogs/11/S/PC/2020/2/S2B_11SPC_20200203_0_L2A/B02.tif\n",
      "wget -nv -O- https://sentinel-cogs.s3.us-west-2.amazonaws.com/sentinel-s2-l2a-cogs/11/S/PC/2020/2/S2B_11SPC_20200203_0_L2A/B02.tif | aws s3 cp - s3://dev-et-data/usmart/RIO/sentinel-s2-l2a-cogs/\n",
      "S2B_11SPC_20200203_0_L2A_B02.tif\n",
      "wget -nv -O- https://sentinel-cogs.s3.us-west-2.amazonaws.com/sentinel-s2-l2a-cogs/11/S/PC/2020/2/S2B_11SPC_20200203_0_L2A/B02.tif | aws s3 cp - s3://dev-et-data/usmart/RIO/sentinel-s2-l2a-cogs/S2B_11SPC_20200203_0_L2A_B02.tif\n"
     ]
    },
    {
     "name": "stderr",
     "output_type": "stream",
     "text": [
      "2021-09-23 03:16:48 URL:https://sentinel-cogs.s3.us-west-2.amazonaws.com/sentinel-s2-l2a-cogs/11/S/PC/2020/2/S2A_11SPC_20200215_0_L2A/B02.tif [185623334/185623334] -> \"-\" [1]\n",
      "2021-09-23 03:16:48 URL:https://sentinel-cogs.s3.us-west-2.amazonaws.com/sentinel-s2-l2a-cogs/11/S/PC/2020/1/S2B_11SPC_20200124_0_L2A/B04.tif [178911160/178911160] -> \"-\" [1]\n",
      "03:16:48: Thread 129: finishing in 31 seconds\n",
      "03:16:48: xfer Thread 142: starting\n",
      "03:16:48: sending https://sentinel-cogs.s3.us-west-2.amazonaws.com/sentinel-s2-l2a-cogs/11/S/PC/2020/1/S2B_11SPC_20200111_0_L2A/B04.tif\n"
     ]
    },
    {
     "name": "stdout",
     "output_type": "stream",
     "text": [
      "\n",
      "\n",
      "wget this: %s https://sentinel-cogs.s3.us-west-2.amazonaws.com/sentinel-s2-l2a-cogs/11/S/PC/2020/1/S2B_11SPC_20200111_0_L2A/B04.tif\n",
      "wget -nv -O- https://sentinel-cogs.s3.us-west-2.amazonaws.com/sentinel-s2-l2a-cogs/11/S/PC/2020/1/S2B_11SPC_20200111_0_L2A/B04.tif | aws s3 cp - s3://dev-et-data/usmart/RIO/sentinel-s2-l2a-cogs/\n",
      "S2B_11SPC_20200111_0_L2A_B04.tif\n",
      "wget -nv -O- https://sentinel-cogs.s3.us-west-2.amazonaws.com/sentinel-s2-l2a-cogs/11/S/PC/2020/1/S2B_11SPC_20200111_0_L2A/B04.tif | aws s3 cp - s3://dev-et-data/usmart/RIO/sentinel-s2-l2a-cogs/S2B_11SPC_20200111_0_L2A_B04.tif\n"
     ]
    },
    {
     "name": "stderr",
     "output_type": "stream",
     "text": [
      "2021-09-23 03:16:48 URL:https://sentinel-cogs.s3.us-west-2.amazonaws.com/sentinel-s2-l2a-cogs/11/S/PC/2020/2/S2A_11SPC_20200205_0_L2A/B03.tif [213192914/213192914] -> \"-\" [1]\n",
      "03:16:49: sending https://sentinel-cogs.s3.us-west-2.amazonaws.com/sentinel-s2-l2a-cogs/11/S/PC/2020/1/S2B_11SPC_20200124_0_L2A/B03.tif\n"
     ]
    },
    {
     "name": "stdout",
     "output_type": "stream",
     "text": [
      "\n",
      "\n",
      "wget this: %s https://sentinel-cogs.s3.us-west-2.amazonaws.com/sentinel-s2-l2a-cogs/11/S/PC/2020/1/S2B_11SPC_20200124_0_L2A/B03.tif\n",
      "wget -nv -O- https://sentinel-cogs.s3.us-west-2.amazonaws.com/sentinel-s2-l2a-cogs/11/S/PC/2020/1/S2B_11SPC_20200124_0_L2A/B03.tif | aws s3 cp - s3://dev-et-data/usmart/RIO/sentinel-s2-l2a-cogs/\n",
      "S2B_11SPC_20200124_0_L2A_B03.tif\n",
      "wget -nv -O- https://sentinel-cogs.s3.us-west-2.amazonaws.com/sentinel-s2-l2a-cogs/11/S/PC/2020/1/S2B_11SPC_20200124_0_L2A/B03.tif | aws s3 cp - s3://dev-et-data/usmart/RIO/sentinel-s2-l2a-cogs/S2B_11SPC_20200124_0_L2A_B03.tif\n"
     ]
    },
    {
     "name": "stderr",
     "output_type": "stream",
     "text": [
      "2021-09-23 03:16:49 URL:https://sentinel-cogs.s3.us-west-2.amazonaws.com/sentinel-s2-l2a-cogs/11/S/PC/2020/2/S2B_11SPC_20200220_0_L2A/B02.tif [214670606/214670606] -> \"-\" [1]\n",
      "2021-09-23 03:16:49 URL:https://sentinel-cogs.s3.us-west-2.amazonaws.com/sentinel-s2-l2a-cogs/11/S/PC/2020/1/S2B_11SPC_20200121_0_L2A/B04.tif [210121586/210121586] -> \"-\" [1]\n",
      "03:16:49: sending https://sentinel-cogs.s3.us-west-2.amazonaws.com/sentinel-s2-l2a-cogs/11/S/PC/2020/2/S2A_11SPC_20200205_0_L2A/B02.tif\n"
     ]
    },
    {
     "name": "stdout",
     "output_type": "stream",
     "text": [
      "\n",
      "\n",
      "wget this: %s https://sentinel-cogs.s3.us-west-2.amazonaws.com/sentinel-s2-l2a-cogs/11/S/PC/2020/2/S2A_11SPC_20200205_0_L2A/B02.tif\n",
      "wget -nv -O- https://sentinel-cogs.s3.us-west-2.amazonaws.com/sentinel-s2-l2a-cogs/11/S/PC/2020/2/S2A_11SPC_20200205_0_L2A/B02.tif | aws s3 cp - s3://dev-et-data/usmart/RIO/sentinel-s2-l2a-cogs/\n",
      "S2A_11SPC_20200205_0_L2A_B02.tif\n",
      "wget -nv -O- https://sentinel-cogs.s3.us-west-2.amazonaws.com/sentinel-s2-l2a-cogs/11/S/PC/2020/2/S2A_11SPC_20200205_0_L2A/B02.tif | aws s3 cp - s3://dev-et-data/usmart/RIO/sentinel-s2-l2a-cogs/S2A_11SPC_20200205_0_L2A_B02.tif\n"
     ]
    },
    {
     "name": "stderr",
     "output_type": "stream",
     "text": [
      "03:16:50: Thread 127: finishing in 33 seconds\n",
      "03:16:50: xfer Thread 143: starting\n",
      "03:16:50: sending https://sentinel-cogs.s3.us-west-2.amazonaws.com/sentinel-s2-l2a-cogs/11/S/PC/2020/1/S2A_11SPC_20200109_0_L2A/B04.tif\n",
      "03:16:50: sending https://sentinel-cogs.s3.us-west-2.amazonaws.com/sentinel-s2-l2a-cogs/11/S/PC/2020/1/S2B_11SPC_20200121_0_L2A/B03.tif\n"
     ]
    },
    {
     "name": "stdout",
     "output_type": "stream",
     "text": [
      "\n",
      "\n",
      "wget this: %s https://sentinel-cogs.s3.us-west-2.amazonaws.com/sentinel-s2-l2a-cogs/11/S/PC/2020/1/S2A_11SPC_20200109_0_L2A/B04.tif\n",
      "wget -nv -O- https://sentinel-cogs.s3.us-west-2.amazonaws.com/sentinel-s2-l2a-cogs/11/S/PC/2020/1/S2A_11SPC_20200109_0_L2A/B04.tif | aws s3 cp - s3://dev-et-data/usmart/RIO/sentinel-s2-l2a-cogs/\n",
      "S2A_11SPC_20200109_0_L2A_B04.tif\n",
      "wget -nv -O- https://sentinel-cogs.s3.us-west-2.amazonaws.com/sentinel-s2-l2a-cogs/11/S/PC/2020/1/S2A_11SPC_20200109_0_L2A/B04.tif | aws s3 cp - s3://dev-et-data/usmart/RIO/sentinel-s2-l2a-cogs/S2A_11SPC_20200109_0_L2A_B04.tif\n",
      "\n",
      "\n",
      "wget this: %s https://sentinel-cogs.s3.us-west-2.amazonaws.com/sentinel-s2-l2a-cogs/11/S/PC/2020/1/S2B_11SPC_20200121_0_L2A/B03.tif\n",
      "wget -nv -O- https://sentinel-cogs.s3.us-west-2.amazonaws.com/sentinel-s2-l2a-cogs/11/S/PC/2020/1/S2B_11SPC_20200121_0_L2A/B03.tif | aws s3 cp - s3://dev-et-data/usmart/RIO/sentinel-s2-l2a-cogs/\n",
      "S2B_11SPC_20200121_0_L2A_B03.tif\n",
      "wget -nv -O- https://sentinel-cogs.s3.us-west-2.amazonaws.com/sentinel-s2-l2a-cogs/11/S/PC/2020/1/S2B_11SPC_20200121_0_L2A/B03.tif | aws s3 cp - s3://dev-et-data/usmart/RIO/sentinel-s2-l2a-cogs/S2B_11SPC_20200121_0_L2A_B03.tif\n"
     ]
    },
    {
     "name": "stderr",
     "output_type": "stream",
     "text": [
      "2021-09-23 03:16:50 URL:https://sentinel-cogs.s3.us-west-2.amazonaws.com/sentinel-s2-l2a-cogs/11/S/PC/2020/2/S2B_11SPC_20200213_0_L2A/B02.tif [180238086/180238086] -> \"-\" [1]\n",
      "2021-09-23 03:16:51 URL:https://sentinel-cogs.s3.us-west-2.amazonaws.com/sentinel-s2-l2a-cogs/11/S/PC/2020/1/S2A_11SPC_20200119_0_L2A/B04.tif [154136928/154136928] -> \"-\" [1]\n",
      "2021-09-23 03:16:51 URL:https://sentinel-cogs.s3.us-west-2.amazonaws.com/sentinel-s2-l2a-cogs/11/S/PC/2020/1/S2A_11SPC_20200126_0_L2A/B03.tif [211507782/211507782] -> \"-\" [1]\n",
      "03:16:51: Thread 130: finishing in 33 seconds\n",
      "03:16:51: xfer Thread 144: starting\n",
      "03:16:51: sending https://sentinel-cogs.s3.us-west-2.amazonaws.com/sentinel-s2-l2a-cogs/11/S/PC/2020/1/S2A_11SPC_20200106_0_L2A/B04.tif\n"
     ]
    },
    {
     "name": "stdout",
     "output_type": "stream",
     "text": [
      "\n",
      "\n",
      "wget this: %s https://sentinel-cogs.s3.us-west-2.amazonaws.com/sentinel-s2-l2a-cogs/11/S/PC/2020/1/S2A_11SPC_20200106_0_L2A/B04.tif\n",
      "wget -nv -O- https://sentinel-cogs.s3.us-west-2.amazonaws.com/sentinel-s2-l2a-cogs/11/S/PC/2020/1/S2A_11SPC_20200106_0_L2A/B04.tif | aws s3 cp - s3://dev-et-data/usmart/RIO/sentinel-s2-l2a-cogs/\n",
      "S2A_11SPC_20200106_0_L2A_B04.tif\n",
      "wget -nv -O- https://sentinel-cogs.s3.us-west-2.amazonaws.com/sentinel-s2-l2a-cogs/11/S/PC/2020/1/S2A_11SPC_20200106_0_L2A/B04.tif | aws s3 cp - s3://dev-et-data/usmart/RIO/sentinel-s2-l2a-cogs/S2A_11SPC_20200106_0_L2A_B04.tif\n"
     ]
    },
    {
     "name": "stderr",
     "output_type": "stream",
     "text": [
      "03:16:52: sending https://sentinel-cogs.s3.us-west-2.amazonaws.com/sentinel-s2-l2a-cogs/11/S/PC/2020/1/S2A_11SPC_20200119_0_L2A/B03.tif\n",
      "03:16:52: sending https://sentinel-cogs.s3.us-west-2.amazonaws.com/sentinel-s2-l2a-cogs/11/S/PC/2020/1/S2A_11SPC_20200126_0_L2A/B02.tif\n"
     ]
    },
    {
     "name": "stdout",
     "output_type": "stream",
     "text": [
      "\n",
      "\n",
      "wget this: %s https://sentinel-cogs.s3.us-west-2.amazonaws.com/sentinel-s2-l2a-cogs/11/S/PC/2020/1/S2A_11SPC_20200119_0_L2A/B03.tif\n",
      "wget -nv -O- https://sentinel-cogs.s3.us-west-2.amazonaws.com/sentinel-s2-l2a-cogs/11/S/PC/2020/1/S2A_11SPC_20200119_0_L2A/B03.tif | aws s3 cp - s3://dev-et-data/usmart/RIO/sentinel-s2-l2a-cogs/\n",
      "S2A_11SPC_20200119_0_L2A_B03.tif\n",
      "wget -nv -O- https://sentinel-cogs.s3.us-west-2.amazonaws.com/sentinel-s2-l2a-cogs/11/S/PC/2020/1/S2A_11SPC_20200119_0_L2A/B03.tif | aws s3 cp - s3://dev-et-data/usmart/RIO/sentinel-s2-l2a-cogs/S2A_11SPC_20200119_0_L2A_B03.tif\n",
      "\n",
      "\n",
      "wget this: %s https://sentinel-cogs.s3.us-west-2.amazonaws.com/sentinel-s2-l2a-cogs/11/S/PC/2020/1/S2A_11SPC_20200126_0_L2A/B02.tif\n",
      "wget -nv -O- https://sentinel-cogs.s3.us-west-2.amazonaws.com/sentinel-s2-l2a-cogs/11/S/PC/2020/1/S2A_11SPC_20200126_0_L2A/B02.tif | aws s3 cp - s3://dev-et-data/usmart/RIO/sentinel-s2-l2a-cogs/\n",
      "S2A_11SPC_20200126_0_L2A_B02.tif\n",
      "wget -nv -O- https://sentinel-cogs.s3.us-west-2.amazonaws.com/sentinel-s2-l2a-cogs/11/S/PC/2020/1/S2A_11SPC_20200126_0_L2A/B02.tif | aws s3 cp - s3://dev-et-data/usmart/RIO/sentinel-s2-l2a-cogs/S2A_11SPC_20200126_0_L2A_B02.tif\n"
     ]
    },
    {
     "name": "stderr",
     "output_type": "stream",
     "text": [
      "2021-09-23 03:16:52 URL:https://sentinel-cogs.s3.us-west-2.amazonaws.com/sentinel-s2-l2a-cogs/11/S/PC/2020/1/S2A_11SPC_20200129_0_L2A/B03.tif [179022351/179022351] -> \"-\" [1]\n",
      "2021-09-23 03:16:53 URL:https://sentinel-cogs.s3.us-west-2.amazonaws.com/sentinel-s2-l2a-cogs/11/S/PC/2020/2/S2A_11SPC_20200208_0_L2A/B02.tif [182661023/182661023] -> \"-\" [1]\n",
      "2021-09-23 03:16:53 URL:https://sentinel-cogs.s3.us-west-2.amazonaws.com/sentinel-s2-l2a-cogs/11/S/PC/2020/2/S2A_11SPC_20200225_0_L2A/B02.tif [215288677/215288677] -> \"-\" [1]\n",
      "03:16:53: sending https://sentinel-cogs.s3.us-west-2.amazonaws.com/sentinel-s2-l2a-cogs/11/S/PC/2020/1/S2A_11SPC_20200129_0_L2A/B02.tif\n"
     ]
    },
    {
     "name": "stdout",
     "output_type": "stream",
     "text": [
      "\n",
      "\n",
      "wget this: %s https://sentinel-cogs.s3.us-west-2.amazonaws.com/sentinel-s2-l2a-cogs/11/S/PC/2020/1/S2A_11SPC_20200129_0_L2A/B02.tif\n",
      "wget -nv -O- https://sentinel-cogs.s3.us-west-2.amazonaws.com/sentinel-s2-l2a-cogs/11/S/PC/2020/1/S2A_11SPC_20200129_0_L2A/B02.tif | aws s3 cp - s3://dev-et-data/usmart/RIO/sentinel-s2-l2a-cogs/\n",
      "S2A_11SPC_20200129_0_L2A_B02.tif\n",
      "wget -nv -O- https://sentinel-cogs.s3.us-west-2.amazonaws.com/sentinel-s2-l2a-cogs/11/S/PC/2020/1/S2A_11SPC_20200129_0_L2A/B02.tif | aws s3 cp - s3://dev-et-data/usmart/RIO/sentinel-s2-l2a-cogs/S2A_11SPC_20200129_0_L2A_B02.tif\n"
     ]
    },
    {
     "name": "stderr",
     "output_type": "stream",
     "text": [
      "03:16:54: Thread 132: finishing in 30 seconds\n",
      "03:16:54: xfer Thread 145: starting\n",
      "03:16:54: sending https://sentinel-cogs.s3.us-west-2.amazonaws.com/sentinel-s2-l2a-cogs/11/S/PC/2020/1/S2B_11SPC_20200104_0_L2A/B04.tif\n"
     ]
    },
    {
     "name": "stdout",
     "output_type": "stream",
     "text": [
      "\n",
      "\n",
      "wget this: %s https://sentinel-cogs.s3.us-west-2.amazonaws.com/sentinel-s2-l2a-cogs/11/S/PC/2020/1/S2B_11SPC_20200104_0_L2A/B04.tif\n",
      "wget -nv -O- https://sentinel-cogs.s3.us-west-2.amazonaws.com/sentinel-s2-l2a-cogs/11/S/PC/2020/1/S2B_11SPC_20200104_0_L2A/B04.tif | aws s3 cp - s3://dev-et-data/usmart/RIO/sentinel-s2-l2a-cogs/\n",
      "S2B_11SPC_20200104_0_L2A_B04.tif\n",
      "wget -nv -O- https://sentinel-cogs.s3.us-west-2.amazonaws.com/sentinel-s2-l2a-cogs/11/S/PC/2020/1/S2B_11SPC_20200104_0_L2A/B04.tif | aws s3 cp - s3://dev-et-data/usmart/RIO/sentinel-s2-l2a-cogs/S2B_11SPC_20200104_0_L2A_B04.tif\n"
     ]
    },
    {
     "name": "stderr",
     "output_type": "stream",
     "text": [
      "03:16:54: Thread 125: finishing in 41 seconds\n",
      "03:16:54: xfer Thread 146: starting\n",
      "03:16:54: sending https://sentinel-cogs.s3.us-west-2.amazonaws.com/sentinel-s2-l2a-cogs/11/S/PC/2020/1/S2B_11SPC_20200101_0_L2A/B04.tif\n"
     ]
    },
    {
     "name": "stdout",
     "output_type": "stream",
     "text": [
      "\n",
      "\n",
      "wget this: %s https://sentinel-cogs.s3.us-west-2.amazonaws.com/sentinel-s2-l2a-cogs/11/S/PC/2020/1/S2B_11SPC_20200101_0_L2A/B04.tif\n",
      "wget -nv -O- https://sentinel-cogs.s3.us-west-2.amazonaws.com/sentinel-s2-l2a-cogs/11/S/PC/2020/1/S2B_11SPC_20200101_0_L2A/B04.tif | aws s3 cp - s3://dev-et-data/usmart/RIO/sentinel-s2-l2a-cogs/\n",
      "S2B_11SPC_20200101_0_L2A_B04.tif\n",
      "wget -nv -O- https://sentinel-cogs.s3.us-west-2.amazonaws.com/sentinel-s2-l2a-cogs/11/S/PC/2020/1/S2B_11SPC_20200101_0_L2A/B04.tif | aws s3 cp - s3://dev-et-data/usmart/RIO/sentinel-s2-l2a-cogs/S2B_11SPC_20200101_0_L2A_B04.tif\n"
     ]
    },
    {
     "name": "stderr",
     "output_type": "stream",
     "text": [
      "2021-09-23 03:16:55 URL:https://sentinel-cogs.s3.us-west-2.amazonaws.com/sentinel-s2-l2a-cogs/11/S/PC/2020/2/S2B_11SPC_20200203_0_L2A/B02.tif [173260738/173260738] -> \"-\" [1]\n",
      "2021-09-23 03:16:55 URL:https://sentinel-cogs.s3.us-west-2.amazonaws.com/sentinel-s2-l2a-cogs/11/S/PC/2020/2/S2B_11SPC_20200210_0_L2A/B02.tif [217358048/217358048] -> \"-\" [1]\n",
      "2021-09-23 03:16:55 URL:https://sentinel-cogs.s3.us-west-2.amazonaws.com/sentinel-s2-l2a-cogs/11/S/PC/2020/1/S2B_11SPC_20200114_0_L2A/B04.tif [179703553/179703553] -> \"-\" [1]\n",
      "2021-09-23 03:16:55 URL:https://sentinel-cogs.s3.us-west-2.amazonaws.com/sentinel-s2-l2a-cogs/11/S/PC/2020/1/S2A_11SPC_20200116_0_L2A/B04.tif [202240749/202240749] -> \"-\" [1]\n",
      "03:16:55: Thread 134: finishing in 29 seconds\n"
     ]
    },
    {
     "name": "stdout",
     "output_type": "stream",
     "text": [
      "\n",
      "\n"
     ]
    },
    {
     "name": "stderr",
     "output_type": "stream",
     "text": [
      "03:16:56: Thread 131: finishing in 35 seconds\n"
     ]
    },
    {
     "name": "stdout",
     "output_type": "stream",
     "text": [
      "\n",
      "\n"
     ]
    },
    {
     "name": "stderr",
     "output_type": "stream",
     "text": [
      "03:16:56: sending https://sentinel-cogs.s3.us-west-2.amazonaws.com/sentinel-s2-l2a-cogs/11/S/PC/2020/1/S2B_11SPC_20200114_0_L2A/B03.tif\n",
      "03:16:56: sending https://sentinel-cogs.s3.us-west-2.amazonaws.com/sentinel-s2-l2a-cogs/11/S/PC/2020/1/S2A_11SPC_20200116_0_L2A/B03.tif\n"
     ]
    },
    {
     "name": "stdout",
     "output_type": "stream",
     "text": [
      "\n",
      "\n",
      "wget this: %s https://sentinel-cogs.s3.us-west-2.amazonaws.com/sentinel-s2-l2a-cogs/11/S/PC/2020/1/S2B_11SPC_20200114_0_L2A/B03.tif\n",
      "wget -nv -O- https://sentinel-cogs.s3.us-west-2.amazonaws.com/sentinel-s2-l2a-cogs/11/S/PC/2020/1/S2B_11SPC_20200114_0_L2A/B03.tif | aws s3 cp - s3://dev-et-data/usmart/RIO/sentinel-s2-l2a-cogs/\n",
      "S2B_11SPC_20200114_0_L2A_B03.tif\n",
      "wget -nv -O- https://sentinel-cogs.s3.us-west-2.amazonaws.com/sentinel-s2-l2a-cogs/11/S/PC/2020/1/S2B_11SPC_20200114_0_L2A/B03.tif | aws s3 cp - s3://dev-et-data/usmart/RIO/sentinel-s2-l2a-cogs/S2B_11SPC_20200114_0_L2A_B03.tif\n",
      "\n",
      "\n",
      "wget this: %s https://sentinel-cogs.s3.us-west-2.amazonaws.com/sentinel-s2-l2a-cogs/11/S/PC/2020/1/S2A_11SPC_20200116_0_L2A/B03.tif\n",
      "wget -nv -O- https://sentinel-cogs.s3.us-west-2.amazonaws.com/sentinel-s2-l2a-cogs/11/S/PC/2020/1/S2A_11SPC_20200116_0_L2A/B03.tif | aws s3 cp - s3://dev-et-data/usmart/RIO/sentinel-s2-l2a-cogs/\n",
      "S2A_11SPC_20200116_0_L2A_B03.tif\n",
      "wget -nv -O- https://sentinel-cogs.s3.us-west-2.amazonaws.com/sentinel-s2-l2a-cogs/11/S/PC/2020/1/S2A_11SPC_20200116_0_L2A/B03.tif | aws s3 cp - s3://dev-et-data/usmart/RIO/sentinel-s2-l2a-cogs/S2A_11SPC_20200116_0_L2A_B03.tif\n"
     ]
    },
    {
     "name": "stderr",
     "output_type": "stream",
     "text": [
      "2021-09-23 03:16:57 URL:https://sentinel-cogs.s3.us-west-2.amazonaws.com/sentinel-s2-l2a-cogs/11/S/PC/2020/1/S2B_11SPC_20200124_0_L2A/B03.tif [180874636/180874636] -> \"-\" [1]\n",
      "03:16:58: sending https://sentinel-cogs.s3.us-west-2.amazonaws.com/sentinel-s2-l2a-cogs/11/S/PC/2020/1/S2B_11SPC_20200124_0_L2A/B02.tif\n"
     ]
    },
    {
     "name": "stdout",
     "output_type": "stream",
     "text": [
      "\n",
      "\n",
      "wget this: %s https://sentinel-cogs.s3.us-west-2.amazonaws.com/sentinel-s2-l2a-cogs/11/S/PC/2020/1/S2B_11SPC_20200124_0_L2A/B02.tif\n",
      "wget -nv -O- https://sentinel-cogs.s3.us-west-2.amazonaws.com/sentinel-s2-l2a-cogs/11/S/PC/2020/1/S2B_11SPC_20200124_0_L2A/B02.tif | aws s3 cp - s3://dev-et-data/usmart/RIO/sentinel-s2-l2a-cogs/\n",
      "S2B_11SPC_20200124_0_L2A_B02.tif\n",
      "wget -nv -O- https://sentinel-cogs.s3.us-west-2.amazonaws.com/sentinel-s2-l2a-cogs/11/S/PC/2020/1/S2B_11SPC_20200124_0_L2A/B02.tif | aws s3 cp - s3://dev-et-data/usmart/RIO/sentinel-s2-l2a-cogs/S2B_11SPC_20200124_0_L2A_B02.tif\n"
     ]
    },
    {
     "name": "stderr",
     "output_type": "stream",
     "text": [
      "2021-09-23 03:16:58 URL:https://sentinel-cogs.s3.us-west-2.amazonaws.com/sentinel-s2-l2a-cogs/11/S/PC/2020/1/S2A_11SPC_20200109_0_L2A/B04.tif [180093051/180093051] -> \"-\" [1]\n",
      "2021-09-23 03:16:59 URL:https://sentinel-cogs.s3.us-west-2.amazonaws.com/sentinel-s2-l2a-cogs/11/S/PC/2020/1/S2B_11SPC_20200111_0_L2A/B04.tif [214811540/214811540] -> \"-\" [1]\n",
      "03:16:59: sending https://sentinel-cogs.s3.us-west-2.amazonaws.com/sentinel-s2-l2a-cogs/11/S/PC/2020/1/S2A_11SPC_20200109_0_L2A/B03.tif\n"
     ]
    },
    {
     "name": "stdout",
     "output_type": "stream",
     "text": [
      "\n",
      "\n",
      "wget this: %s https://sentinel-cogs.s3.us-west-2.amazonaws.com/sentinel-s2-l2a-cogs/11/S/PC/2020/1/S2A_11SPC_20200109_0_L2A/B03.tif\n",
      "wget -nv -O- https://sentinel-cogs.s3.us-west-2.amazonaws.com/sentinel-s2-l2a-cogs/11/S/PC/2020/1/S2A_11SPC_20200109_0_L2A/B03.tif | aws s3 cp - s3://dev-et-data/usmart/RIO/sentinel-s2-l2a-cogs/\n",
      "S2A_11SPC_20200109_0_L2A_B03.tif\n",
      "wget -nv -O- https://sentinel-cogs.s3.us-west-2.amazonaws.com/sentinel-s2-l2a-cogs/11/S/PC/2020/1/S2A_11SPC_20200109_0_L2A/B03.tif | aws s3 cp - s3://dev-et-data/usmart/RIO/sentinel-s2-l2a-cogs/S2A_11SPC_20200109_0_L2A_B03.tif\n"
     ]
    },
    {
     "name": "stderr",
     "output_type": "stream",
     "text": [
      "03:17:00: sending https://sentinel-cogs.s3.us-west-2.amazonaws.com/sentinel-s2-l2a-cogs/11/S/PC/2020/1/S2B_11SPC_20200111_0_L2A/B03.tif\n"
     ]
    },
    {
     "name": "stdout",
     "output_type": "stream",
     "text": [
      "\n",
      "\n",
      "wget this: %s https://sentinel-cogs.s3.us-west-2.amazonaws.com/sentinel-s2-l2a-cogs/11/S/PC/2020/1/S2B_11SPC_20200111_0_L2A/B03.tif\n",
      "wget -nv -O- https://sentinel-cogs.s3.us-west-2.amazonaws.com/sentinel-s2-l2a-cogs/11/S/PC/2020/1/S2B_11SPC_20200111_0_L2A/B03.tif | aws s3 cp - s3://dev-et-data/usmart/RIO/sentinel-s2-l2a-cogs/\n",
      "S2B_11SPC_20200111_0_L2A_B03.tif\n",
      "wget -nv -O- https://sentinel-cogs.s3.us-west-2.amazonaws.com/sentinel-s2-l2a-cogs/11/S/PC/2020/1/S2B_11SPC_20200111_0_L2A/B03.tif | aws s3 cp - s3://dev-et-data/usmart/RIO/sentinel-s2-l2a-cogs/S2B_11SPC_20200111_0_L2A_B03.tif\n"
     ]
    },
    {
     "name": "stderr",
     "output_type": "stream",
     "text": [
      "2021-09-23 03:17:00 URL:https://sentinel-cogs.s3.us-west-2.amazonaws.com/sentinel-s2-l2a-cogs/11/S/PC/2020/2/S2A_11SPC_20200205_0_L2A/B02.tif [215663076/215663076] -> \"-\" [1]\n",
      "2021-09-23 03:17:00 URL:https://sentinel-cogs.s3.us-west-2.amazonaws.com/sentinel-s2-l2a-cogs/11/S/PC/2020/1/S2B_11SPC_20200121_0_L2A/B03.tif [211398439/211398439] -> \"-\" [1]\n",
      "03:17:01: Thread 133: finishing in 35 seconds\n"
     ]
    },
    {
     "name": "stdout",
     "output_type": "stream",
     "text": [
      "\n",
      "\n"
     ]
    },
    {
     "name": "stderr",
     "output_type": "stream",
     "text": [
      "2021-09-23 03:17:01 URL:https://sentinel-cogs.s3.us-west-2.amazonaws.com/sentinel-s2-l2a-cogs/11/S/PC/2020/1/S2A_11SPC_20200119_0_L2A/B03.tif [155616639/155616639] -> \"-\" [1]\n",
      "03:17:02: sending https://sentinel-cogs.s3.us-west-2.amazonaws.com/sentinel-s2-l2a-cogs/11/S/PC/2020/1/S2A_11SPC_20200119_0_L2A/B02.tif\n"
     ]
    },
    {
     "name": "stdout",
     "output_type": "stream",
     "text": [
      "\n",
      "\n",
      "wget this: %s https://sentinel-cogs.s3.us-west-2.amazonaws.com/sentinel-s2-l2a-cogs/11/S/PC/2020/1/S2A_11SPC_20200119_0_L2A/B02.tif\n",
      "wget -nv -O- https://sentinel-cogs.s3.us-west-2.amazonaws.com/sentinel-s2-l2a-cogs/11/S/PC/2020/1/S2A_11SPC_20200119_0_L2A/B02.tif | aws s3 cp - s3://dev-et-data/usmart/RIO/sentinel-s2-l2a-cogs/\n",
      "S2A_11SPC_20200119_0_L2A_B02.tif\n",
      "wget -nv -O- https://sentinel-cogs.s3.us-west-2.amazonaws.com/sentinel-s2-l2a-cogs/11/S/PC/2020/1/S2A_11SPC_20200119_0_L2A/B02.tif | aws s3 cp - s3://dev-et-data/usmart/RIO/sentinel-s2-l2a-cogs/S2A_11SPC_20200119_0_L2A_B02.tif\n"
     ]
    },
    {
     "name": "stderr",
     "output_type": "stream",
     "text": [
      "2021-09-23 03:17:02 URL:https://sentinel-cogs.s3.us-west-2.amazonaws.com/sentinel-s2-l2a-cogs/11/S/PC/2020/1/S2A_11SPC_20200126_0_L2A/B02.tif [215034718/215034718] -> \"-\" [1]\n",
      "2021-09-23 03:17:02 URL:https://sentinel-cogs.s3.us-west-2.amazonaws.com/sentinel-s2-l2a-cogs/11/S/PC/2020/1/S2A_11SPC_20200106_0_L2A/B04.tif [220730096/220730096] -> \"-\" [1]\n",
      "2021-09-23 03:17:03 URL:https://sentinel-cogs.s3.us-west-2.amazonaws.com/sentinel-s2-l2a-cogs/11/S/PC/2020/1/S2A_11SPC_20200129_0_L2A/B02.tif [179805250/179805250] -> \"-\" [1]\n",
      "03:17:03: sending https://sentinel-cogs.s3.us-west-2.amazonaws.com/sentinel-s2-l2a-cogs/11/S/PC/2020/1/S2A_11SPC_20200106_0_L2A/B03.tif\n",
      "03:17:03: Thread 136: finishing in 31 seconds\n"
     ]
    },
    {
     "name": "stdout",
     "output_type": "stream",
     "text": [
      "\n",
      "\n",
      "wget this: %s https://sentinel-cogs.s3.us-west-2.amazonaws.com/sentinel-s2-l2a-cogs/11/S/PC/2020/1/S2A_11SPC_20200106_0_L2A/B03.tif\n",
      "wget -nv -O- https://sentinel-cogs.s3.us-west-2.amazonaws.com/sentinel-s2-l2a-cogs/11/S/PC/2020/1/S2A_11SPC_20200106_0_L2A/B03.tif | aws s3 cp - s3://dev-et-data/usmart/RIO/sentinel-s2-l2a-cogs/\n",
      "S2A_11SPC_20200106_0_L2A_B03.tif\n",
      "wget -nv -O- https://sentinel-cogs.s3.us-west-2.amazonaws.com/sentinel-s2-l2a-cogs/11/S/PC/2020/1/S2A_11SPC_20200106_0_L2A/B03.tif | aws s3 cp - s3://dev-et-data/usmart/RIO/sentinel-s2-l2a-cogs/S2A_11SPC_20200106_0_L2A_B03.tif\n",
      "\n",
      "\n"
     ]
    },
    {
     "name": "stderr",
     "output_type": "stream",
     "text": [
      "03:17:03: Thread 135: finishing in 32 seconds\n"
     ]
    },
    {
     "name": "stdout",
     "output_type": "stream",
     "text": [
      "\n",
      "\n"
     ]
    },
    {
     "name": "stderr",
     "output_type": "stream",
     "text": [
      "2021-09-23 03:17:03 URL:https://sentinel-cogs.s3.us-west-2.amazonaws.com/sentinel-s2-l2a-cogs/11/S/PC/2020/1/S2B_11SPC_20200104_0_L2A/B04.tif [171962769/171962769] -> \"-\" [1]\n",
      "03:17:04: sending https://sentinel-cogs.s3.us-west-2.amazonaws.com/sentinel-s2-l2a-cogs/11/S/PC/2020/1/S2B_11SPC_20200104_0_L2A/B03.tif\n"
     ]
    },
    {
     "name": "stdout",
     "output_type": "stream",
     "text": [
      "\n",
      "\n",
      "wget this: %s https://sentinel-cogs.s3.us-west-2.amazonaws.com/sentinel-s2-l2a-cogs/11/S/PC/2020/1/S2B_11SPC_20200104_0_L2A/B03.tif\n",
      "wget -nv -O- https://sentinel-cogs.s3.us-west-2.amazonaws.com/sentinel-s2-l2a-cogs/11/S/PC/2020/1/S2B_11SPC_20200104_0_L2A/B03.tif | aws s3 cp - s3://dev-et-data/usmart/RIO/sentinel-s2-l2a-cogs/\n",
      "S2B_11SPC_20200104_0_L2A_B03.tif\n",
      "wget -nv -O- https://sentinel-cogs.s3.us-west-2.amazonaws.com/sentinel-s2-l2a-cogs/11/S/PC/2020/1/S2B_11SPC_20200104_0_L2A/B03.tif | aws s3 cp - s3://dev-et-data/usmart/RIO/sentinel-s2-l2a-cogs/S2B_11SPC_20200104_0_L2A_B03.tif\n"
     ]
    },
    {
     "name": "stderr",
     "output_type": "stream",
     "text": [
      "2021-09-23 03:17:05 URL:https://sentinel-cogs.s3.us-west-2.amazonaws.com/sentinel-s2-l2a-cogs/11/S/PC/2020/1/S2B_11SPC_20200101_0_L2A/B04.tif [210302364/210302364] -> \"-\" [1]\n",
      "03:17:06: sending https://sentinel-cogs.s3.us-west-2.amazonaws.com/sentinel-s2-l2a-cogs/11/S/PC/2020/1/S2B_11SPC_20200101_0_L2A/B03.tif\n"
     ]
    },
    {
     "name": "stdout",
     "output_type": "stream",
     "text": [
      "\n",
      "\n",
      "wget this: %s https://sentinel-cogs.s3.us-west-2.amazonaws.com/sentinel-s2-l2a-cogs/11/S/PC/2020/1/S2B_11SPC_20200101_0_L2A/B03.tif\n",
      "wget -nv -O- https://sentinel-cogs.s3.us-west-2.amazonaws.com/sentinel-s2-l2a-cogs/11/S/PC/2020/1/S2B_11SPC_20200101_0_L2A/B03.tif | aws s3 cp - s3://dev-et-data/usmart/RIO/sentinel-s2-l2a-cogs/\n",
      "S2B_11SPC_20200101_0_L2A_B03.tif\n",
      "wget -nv -O- https://sentinel-cogs.s3.us-west-2.amazonaws.com/sentinel-s2-l2a-cogs/11/S/PC/2020/1/S2B_11SPC_20200101_0_L2A/B03.tif | aws s3 cp - s3://dev-et-data/usmart/RIO/sentinel-s2-l2a-cogs/S2B_11SPC_20200101_0_L2A_B03.tif\n"
     ]
    },
    {
     "name": "stderr",
     "output_type": "stream",
     "text": [
      "2021-09-23 03:17:06 URL:https://sentinel-cogs.s3.us-west-2.amazonaws.com/sentinel-s2-l2a-cogs/11/S/PC/2020/1/S2A_11SPC_20200116_0_L2A/B03.tif [204620104/204620104] -> \"-\" [1]\n",
      "2021-09-23 03:17:06 URL:https://sentinel-cogs.s3.us-west-2.amazonaws.com/sentinel-s2-l2a-cogs/11/S/PC/2020/1/S2B_11SPC_20200114_0_L2A/B03.tif [182544938/182544938] -> \"-\" [1]\n",
      "03:17:06: sending https://sentinel-cogs.s3.us-west-2.amazonaws.com/sentinel-s2-l2a-cogs/11/S/PC/2020/1/S2B_11SPC_20200121_0_L2A/B02.tif\n",
      "03:17:06: sending https://sentinel-cogs.s3.us-west-2.amazonaws.com/sentinel-s2-l2a-cogs/11/S/PC/2020/1/S2A_11SPC_20200116_0_L2A/B02.tif\n"
     ]
    },
    {
     "name": "stdout",
     "output_type": "stream",
     "text": [
      "\n",
      "\n",
      "wget this: %s https://sentinel-cogs.s3.us-west-2.amazonaws.com/sentinel-s2-l2a-cogs/11/S/PC/2020/1/S2B_11SPC_20200121_0_L2A/B02.tif\n",
      "wget -nv -O- https://sentinel-cogs.s3.us-west-2.amazonaws.com/sentinel-s2-l2a-cogs/11/S/PC/2020/1/S2B_11SPC_20200121_0_L2A/B02.tif | aws s3 cp - s3://dev-et-data/usmart/RIO/sentinel-s2-l2a-cogs/\n",
      "S2B_11SPC_20200121_0_L2A_B02.tif\n",
      "wget -nv -O- https://sentinel-cogs.s3.us-west-2.amazonaws.com/sentinel-s2-l2a-cogs/11/S/PC/2020/1/S2B_11SPC_20200121_0_L2A/B02.tif | aws s3 cp - s3://dev-et-data/usmart/RIO/sentinel-s2-l2a-cogs/S2B_11SPC_20200121_0_L2A_B02.tif\n",
      "\n",
      "\n",
      "wget this: %s https://sentinel-cogs.s3.us-west-2.amazonaws.com/sentinel-s2-l2a-cogs/11/S/PC/2020/1/S2A_11SPC_20200116_0_L2A/B02.tif\n",
      "wget -nv -O- https://sentinel-cogs.s3.us-west-2.amazonaws.com/sentinel-s2-l2a-cogs/11/S/PC/2020/1/S2A_11SPC_20200116_0_L2A/B02.tif | aws s3 cp - s3://dev-et-data/usmart/RIO/sentinel-s2-l2a-cogs/\n",
      "S2A_11SPC_20200116_0_L2A_B02.tif\n",
      "wget -nv -O- https://sentinel-cogs.s3.us-west-2.amazonaws.com/sentinel-s2-l2a-cogs/11/S/PC/2020/1/S2A_11SPC_20200116_0_L2A/B02.tif | aws s3 cp - s3://dev-et-data/usmart/RIO/sentinel-s2-l2a-cogs/S2A_11SPC_20200116_0_L2A_B02.tif\n"
     ]
    },
    {
     "name": "stderr",
     "output_type": "stream",
     "text": [
      "03:17:06: sending https://sentinel-cogs.s3.us-west-2.amazonaws.com/sentinel-s2-l2a-cogs/11/S/PC/2020/1/S2B_11SPC_20200114_0_L2A/B02.tif\n"
     ]
    },
    {
     "name": "stdout",
     "output_type": "stream",
     "text": [
      "\n",
      "\n",
      "wget this: %s https://sentinel-cogs.s3.us-west-2.amazonaws.com/sentinel-s2-l2a-cogs/11/S/PC/2020/1/S2B_11SPC_20200114_0_L2A/B02.tif\n",
      "wget -nv -O- https://sentinel-cogs.s3.us-west-2.amazonaws.com/sentinel-s2-l2a-cogs/11/S/PC/2020/1/S2B_11SPC_20200114_0_L2A/B02.tif | aws s3 cp - s3://dev-et-data/usmart/RIO/sentinel-s2-l2a-cogs/\n",
      "S2B_11SPC_20200114_0_L2A_B02.tif\n",
      "wget -nv -O- https://sentinel-cogs.s3.us-west-2.amazonaws.com/sentinel-s2-l2a-cogs/11/S/PC/2020/1/S2B_11SPC_20200114_0_L2A/B02.tif | aws s3 cp - s3://dev-et-data/usmart/RIO/sentinel-s2-l2a-cogs/S2B_11SPC_20200114_0_L2A_B02.tif\n"
     ]
    },
    {
     "name": "stderr",
     "output_type": "stream",
     "text": [
      "2021-09-23 03:17:07 URL:https://sentinel-cogs.s3.us-west-2.amazonaws.com/sentinel-s2-l2a-cogs/11/S/PC/2020/1/S2B_11SPC_20200124_0_L2A/B02.tif [181726571/181726571] -> \"-\" [1]\n",
      "2021-09-23 03:17:07 URL:https://sentinel-cogs.s3.us-west-2.amazonaws.com/sentinel-s2-l2a-cogs/11/S/PC/2020/1/S2A_11SPC_20200119_0_L2A/B02.tif [158610788/158610788] -> \"-\" [1]\n",
      "03:17:07: Thread 137: finishing in 28 seconds\n"
     ]
    },
    {
     "name": "stdout",
     "output_type": "stream",
     "text": [
      "\n",
      "\n"
     ]
    },
    {
     "name": "stderr",
     "output_type": "stream",
     "text": [
      "2021-09-23 03:17:07 URL:https://sentinel-cogs.s3.us-west-2.amazonaws.com/sentinel-s2-l2a-cogs/11/S/PC/2020/1/S2A_11SPC_20200109_0_L2A/B03.tif [182982246/182982246] -> \"-\" [1]\n",
      "03:17:08: Thread 139: finishing in 24 seconds\n"
     ]
    },
    {
     "name": "stdout",
     "output_type": "stream",
     "text": [
      "\n",
      "\n"
     ]
    },
    {
     "name": "stderr",
     "output_type": "stream",
     "text": [
      "03:17:08: sending https://sentinel-cogs.s3.us-west-2.amazonaws.com/sentinel-s2-l2a-cogs/11/S/PC/2020/1/S2A_11SPC_20200109_0_L2A/B02.tif\n"
     ]
    },
    {
     "name": "stdout",
     "output_type": "stream",
     "text": [
      "\n",
      "\n",
      "wget this: %s https://sentinel-cogs.s3.us-west-2.amazonaws.com/sentinel-s2-l2a-cogs/11/S/PC/2020/1/S2A_11SPC_20200109_0_L2A/B02.tif\n",
      "wget -nv -O- https://sentinel-cogs.s3.us-west-2.amazonaws.com/sentinel-s2-l2a-cogs/11/S/PC/2020/1/S2A_11SPC_20200109_0_L2A/B02.tif | aws s3 cp - s3://dev-et-data/usmart/RIO/sentinel-s2-l2a-cogs/\n",
      "S2A_11SPC_20200109_0_L2A_B02.tif\n",
      "wget -nv -O- https://sentinel-cogs.s3.us-west-2.amazonaws.com/sentinel-s2-l2a-cogs/11/S/PC/2020/1/S2A_11SPC_20200109_0_L2A/B02.tif | aws s3 cp - s3://dev-et-data/usmart/RIO/sentinel-s2-l2a-cogs/S2A_11SPC_20200109_0_L2A_B02.tif\n"
     ]
    },
    {
     "name": "stderr",
     "output_type": "stream",
     "text": [
      "2021-09-23 03:17:08 URL:https://sentinel-cogs.s3.us-west-2.amazonaws.com/sentinel-s2-l2a-cogs/11/S/PC/2020/1/S2B_11SPC_20200111_0_L2A/B03.tif [217996281/217996281] -> \"-\" [1]\n",
      "03:17:09: sending https://sentinel-cogs.s3.us-west-2.amazonaws.com/sentinel-s2-l2a-cogs/11/S/PC/2020/1/S2B_11SPC_20200111_0_L2A/B02.tif\n"
     ]
    },
    {
     "name": "stdout",
     "output_type": "stream",
     "text": [
      "\n",
      "\n",
      "wget this: %s https://sentinel-cogs.s3.us-west-2.amazonaws.com/sentinel-s2-l2a-cogs/11/S/PC/2020/1/S2B_11SPC_20200111_0_L2A/B02.tif\n",
      "wget -nv -O- https://sentinel-cogs.s3.us-west-2.amazonaws.com/sentinel-s2-l2a-cogs/11/S/PC/2020/1/S2B_11SPC_20200111_0_L2A/B02.tif | aws s3 cp - s3://dev-et-data/usmart/RIO/sentinel-s2-l2a-cogs/\n",
      "S2B_11SPC_20200111_0_L2A_B02.tif\n",
      "wget -nv -O- https://sentinel-cogs.s3.us-west-2.amazonaws.com/sentinel-s2-l2a-cogs/11/S/PC/2020/1/S2B_11SPC_20200111_0_L2A/B02.tif | aws s3 cp - s3://dev-et-data/usmart/RIO/sentinel-s2-l2a-cogs/S2B_11SPC_20200111_0_L2A_B02.tif\n"
     ]
    },
    {
     "name": "stderr",
     "output_type": "stream",
     "text": [
      "2021-09-23 03:17:11 URL:https://sentinel-cogs.s3.us-west-2.amazonaws.com/sentinel-s2-l2a-cogs/11/S/PC/2020/1/S2B_11SPC_20200104_0_L2A/B03.tif [174351846/174351846] -> \"-\" [1]\n",
      "03:17:11: sending https://sentinel-cogs.s3.us-west-2.amazonaws.com/sentinel-s2-l2a-cogs/11/S/PC/2020/1/S2B_11SPC_20200104_0_L2A/B02.tif\n"
     ]
    },
    {
     "name": "stdout",
     "output_type": "stream",
     "text": [
      "\n",
      "\n",
      "wget this: %s https://sentinel-cogs.s3.us-west-2.amazonaws.com/sentinel-s2-l2a-cogs/11/S/PC/2020/1/S2B_11SPC_20200104_0_L2A/B02.tif\n",
      "wget -nv -O- https://sentinel-cogs.s3.us-west-2.amazonaws.com/sentinel-s2-l2a-cogs/11/S/PC/2020/1/S2B_11SPC_20200104_0_L2A/B02.tif | aws s3 cp - s3://dev-et-data/usmart/RIO/sentinel-s2-l2a-cogs/\n",
      "S2B_11SPC_20200104_0_L2A_B02.tif\n",
      "wget -nv -O- https://sentinel-cogs.s3.us-west-2.amazonaws.com/sentinel-s2-l2a-cogs/11/S/PC/2020/1/S2B_11SPC_20200104_0_L2A/B02.tif | aws s3 cp - s3://dev-et-data/usmart/RIO/sentinel-s2-l2a-cogs/S2B_11SPC_20200104_0_L2A_B02.tif\n"
     ]
    },
    {
     "name": "stderr",
     "output_type": "stream",
     "text": [
      "2021-09-23 03:17:12 URL:https://sentinel-cogs.s3.us-west-2.amazonaws.com/sentinel-s2-l2a-cogs/11/S/PC/2020/1/S2A_11SPC_20200106_0_L2A/B03.tif [225238106/225238106] -> \"-\" [1]\n",
      "03:17:13: sending https://sentinel-cogs.s3.us-west-2.amazonaws.com/sentinel-s2-l2a-cogs/11/S/PC/2020/1/S2A_11SPC_20200106_0_L2A/B02.tif\n"
     ]
    },
    {
     "name": "stdout",
     "output_type": "stream",
     "text": [
      "\n",
      "\n",
      "wget this: %s https://sentinel-cogs.s3.us-west-2.amazonaws.com/sentinel-s2-l2a-cogs/11/S/PC/2020/1/S2A_11SPC_20200106_0_L2A/B02.tif\n",
      "wget -nv -O- https://sentinel-cogs.s3.us-west-2.amazonaws.com/sentinel-s2-l2a-cogs/11/S/PC/2020/1/S2A_11SPC_20200106_0_L2A/B02.tif | aws s3 cp - s3://dev-et-data/usmart/RIO/sentinel-s2-l2a-cogs/\n",
      "S2A_11SPC_20200106_0_L2A_B02.tif\n",
      "wget -nv -O- https://sentinel-cogs.s3.us-west-2.amazonaws.com/sentinel-s2-l2a-cogs/11/S/PC/2020/1/S2A_11SPC_20200106_0_L2A/B02.tif | aws s3 cp - s3://dev-et-data/usmart/RIO/sentinel-s2-l2a-cogs/S2A_11SPC_20200106_0_L2A_B02.tif\n"
     ]
    },
    {
     "name": "stderr",
     "output_type": "stream",
     "text": [
      "2021-09-23 03:17:13 URL:https://sentinel-cogs.s3.us-west-2.amazonaws.com/sentinel-s2-l2a-cogs/11/S/PC/2020/1/S2B_11SPC_20200121_0_L2A/B02.tif [213493633/213493633] -> \"-\" [1]\n",
      "03:17:14: Thread 138: finishing in 33 seconds\n"
     ]
    },
    {
     "name": "stdout",
     "output_type": "stream",
     "text": [
      "\n",
      "\n"
     ]
    },
    {
     "name": "stderr",
     "output_type": "stream",
     "text": [
      "2021-09-23 03:17:14 URL:https://sentinel-cogs.s3.us-west-2.amazonaws.com/sentinel-s2-l2a-cogs/11/S/PC/2020/1/S2B_11SPC_20200114_0_L2A/B02.tif [184758209/184758209] -> \"-\" [1]\n",
      "2021-09-23 03:17:14 URL:https://sentinel-cogs.s3.us-west-2.amazonaws.com/sentinel-s2-l2a-cogs/11/S/PC/2020/1/S2A_11SPC_20200116_0_L2A/B02.tif [208038142/208038142] -> \"-\" [1]\n",
      "03:17:14: Thread 141: finishing in 30 seconds\n"
     ]
    },
    {
     "name": "stdout",
     "output_type": "stream",
     "text": [
      "\n",
      "\n"
     ]
    },
    {
     "name": "stderr",
     "output_type": "stream",
     "text": [
      "2021-09-23 03:17:14 URL:https://sentinel-cogs.s3.us-west-2.amazonaws.com/sentinel-s2-l2a-cogs/11/S/PC/2020/1/S2B_11SPC_20200101_0_L2A/B03.tif [213135166/213135166] -> \"-\" [1]\n",
      "2021-09-23 03:17:15 URL:https://sentinel-cogs.s3.us-west-2.amazonaws.com/sentinel-s2-l2a-cogs/11/S/PC/2020/1/S2A_11SPC_20200109_0_L2A/B02.tif [185458206/185458206] -> \"-\" [1]\n",
      "03:17:15: Thread 140: finishing in 30 seconds\n"
     ]
    },
    {
     "name": "stdout",
     "output_type": "stream",
     "text": [
      "\n",
      "\n"
     ]
    },
    {
     "name": "stderr",
     "output_type": "stream",
     "text": [
      "03:17:15: Thread 143: finishing in 25 seconds\n"
     ]
    },
    {
     "name": "stdout",
     "output_type": "stream",
     "text": [
      "\n",
      "\n"
     ]
    },
    {
     "name": "stderr",
     "output_type": "stream",
     "text": [
      "03:17:16: sending https://sentinel-cogs.s3.us-west-2.amazonaws.com/sentinel-s2-l2a-cogs/11/S/PC/2020/1/S2B_11SPC_20200101_0_L2A/B02.tif\n"
     ]
    },
    {
     "name": "stdout",
     "output_type": "stream",
     "text": [
      "\n",
      "\n",
      "wget this: %s https://sentinel-cogs.s3.us-west-2.amazonaws.com/sentinel-s2-l2a-cogs/11/S/PC/2020/1/S2B_11SPC_20200101_0_L2A/B02.tif\n",
      "wget -nv -O- https://sentinel-cogs.s3.us-west-2.amazonaws.com/sentinel-s2-l2a-cogs/11/S/PC/2020/1/S2B_11SPC_20200101_0_L2A/B02.tif | aws s3 cp - s3://dev-et-data/usmart/RIO/sentinel-s2-l2a-cogs/\n",
      "S2B_11SPC_20200101_0_L2A_B02.tif\n",
      "wget -nv -O- https://sentinel-cogs.s3.us-west-2.amazonaws.com/sentinel-s2-l2a-cogs/11/S/PC/2020/1/S2B_11SPC_20200101_0_L2A/B02.tif | aws s3 cp - s3://dev-et-data/usmart/RIO/sentinel-s2-l2a-cogs/S2B_11SPC_20200101_0_L2A_B02.tif\n"
     ]
    },
    {
     "name": "stderr",
     "output_type": "stream",
     "text": [
      "2021-09-23 03:17:17 URL:https://sentinel-cogs.s3.us-west-2.amazonaws.com/sentinel-s2-l2a-cogs/11/S/PC/2020/1/S2B_11SPC_20200111_0_L2A/B02.tif [220785960/220785960] -> \"-\" [1]\n",
      "03:17:17: Thread 142: finishing in 29 seconds\n"
     ]
    },
    {
     "name": "stdout",
     "output_type": "stream",
     "text": [
      "\n",
      "\n"
     ]
    },
    {
     "name": "stderr",
     "output_type": "stream",
     "text": [
      "2021-09-23 03:17:18 URL:https://sentinel-cogs.s3.us-west-2.amazonaws.com/sentinel-s2-l2a-cogs/11/S/PC/2020/1/S2B_11SPC_20200104_0_L2A/B02.tif [176658344/176658344] -> \"-\" [1]\n",
      "03:17:18: Thread 145: finishing in 24 seconds\n"
     ]
    },
    {
     "name": "stdout",
     "output_type": "stream",
     "text": [
      "\n",
      "\n"
     ]
    },
    {
     "name": "stderr",
     "output_type": "stream",
     "text": [
      "2021-09-23 03:17:20 URL:https://sentinel-cogs.s3.us-west-2.amazonaws.com/sentinel-s2-l2a-cogs/11/S/PC/2020/1/S2A_11SPC_20200106_0_L2A/B02.tif [228640327/228640327] -> \"-\" [1]\n",
      "03:17:21: Thread 144: finishing in 29 seconds\n"
     ]
    },
    {
     "name": "stdout",
     "output_type": "stream",
     "text": [
      "\n",
      "\n"
     ]
    },
    {
     "name": "stderr",
     "output_type": "stream",
     "text": [
      "2021-09-23 03:17:23 URL:https://sentinel-cogs.s3.us-west-2.amazonaws.com/sentinel-s2-l2a-cogs/11/S/PC/2020/1/S2B_11SPC_20200101_0_L2A/B02.tif [214193942/214193942] -> \"-\" [1]\n",
      "03:17:23: Thread 146: finishing in 29 seconds\n"
     ]
    },
    {
     "name": "stdout",
     "output_type": "stream",
     "text": [
      "\n",
      "\n"
     ]
    }
   ],
   "source": [
    "if __name__ == \"__main__\":\n",
    "    format = \"%(asctime)s: %(message)s\"\n",
    "    logging.basicConfig(format=format, level=logging.INFO,\n",
    "                        datefmt=\"%H:%M:%S\")\n",
    "\n",
    "    #total_scenes = total_scenes - 120 # test fewer sometimes\n",
    "    with concurrent.futures.ThreadPoolExecutor(max_workers=15) as executor:\n",
    "        executor.map(xfer_function_caller, range(total_scenes))\n",
    "        logging.info(\"Initial Threads %s: strted - i think i am waiting before any others\", \"executor\")"
   ]
  },
  {
   "cell_type": "code",
   "execution_count": 34,
   "id": "eedc7df6",
   "metadata": {},
   "outputs": [
    {
     "name": "stdout",
     "output_type": "stream",
     "text": [
      "2021-09-23 03:17:15  218.0 MiB usmart/RIO/sentinel-s2-l2a-cogs/S2A_11SPC_20200106_0_L2A_B02.tif\n",
      "2021-09-23 03:17:06  214.8 MiB usmart/RIO/sentinel-s2-l2a-cogs/S2A_11SPC_20200106_0_L2A_B03.tif\n",
      "2021-09-23 03:16:57  210.5 MiB usmart/RIO/sentinel-s2-l2a-cogs/S2A_11SPC_20200106_0_L2A_B04.tif\n",
      "2021-09-23 03:17:10  176.9 MiB usmart/RIO/sentinel-s2-l2a-cogs/S2A_11SPC_20200109_0_L2A_B02.tif\n",
      "2021-09-23 03:17:03  174.5 MiB usmart/RIO/sentinel-s2-l2a-cogs/S2A_11SPC_20200109_0_L2A_B03.tif\n",
      "2021-09-23 03:16:55  171.8 MiB usmart/RIO/sentinel-s2-l2a-cogs/S2A_11SPC_20200109_0_L2A_B04.tif\n",
      "2021-09-23 03:17:09  198.4 MiB usmart/RIO/sentinel-s2-l2a-cogs/S2A_11SPC_20200116_0_L2A_B02.tif\n",
      "2021-09-23 03:17:01  195.1 MiB usmart/RIO/sentinel-s2-l2a-cogs/S2A_11SPC_20200116_0_L2A_B03.tif\n",
      "2021-09-23 03:16:51  192.9 MiB usmart/RIO/sentinel-s2-l2a-cogs/S2A_11SPC_20200116_0_L2A_B04.tif\n",
      "2021-09-23 03:17:04  151.3 MiB usmart/RIO/sentinel-s2-l2a-cogs/S2A_11SPC_20200119_0_L2A_B02.tif\n",
      "2021-09-23 03:16:58  148.4 MiB usmart/RIO/sentinel-s2-l2a-cogs/S2A_11SPC_20200119_0_L2A_B03.tif\n",
      "2021-09-23 03:16:48  147.0 MiB usmart/RIO/sentinel-s2-l2a-cogs/S2A_11SPC_20200119_0_L2A_B04.tif\n",
      "2021-09-23 03:16:57  205.1 MiB usmart/RIO/sentinel-s2-l2a-cogs/S2A_11SPC_20200126_0_L2A_B02.tif\n",
      "2021-09-23 03:16:45  201.7 MiB usmart/RIO/sentinel-s2-l2a-cogs/S2A_11SPC_20200126_0_L2A_B03.tif\n",
      "2021-09-23 03:16:36  199.1 MiB usmart/RIO/sentinel-s2-l2a-cogs/S2A_11SPC_20200126_0_L2A_B04.tif\n",
      "2021-09-23 03:16:58  171.5 MiB usmart/RIO/sentinel-s2-l2a-cogs/S2A_11SPC_20200129_0_L2A_B02.tif\n",
      "2021-09-23 03:16:47  170.7 MiB usmart/RIO/sentinel-s2-l2a-cogs/S2A_11SPC_20200129_0_L2A_B03.tif\n",
      "2021-09-23 03:16:35  169.3 MiB usmart/RIO/sentinel-s2-l2a-cogs/S2A_11SPC_20200129_0_L2A_B04.tif\n",
      "2021-09-23 03:16:55  205.7 MiB usmart/RIO/sentinel-s2-l2a-cogs/S2A_11SPC_20200205_0_L2A_B02.tif\n",
      "2021-09-23 03:16:43  203.3 MiB usmart/RIO/sentinel-s2-l2a-cogs/S2A_11SPC_20200205_0_L2A_B03.tif\n",
      "2021-09-23 03:16:31  202.0 MiB usmart/RIO/sentinel-s2-l2a-cogs/S2A_11SPC_20200205_0_L2A_B04.tif\n",
      "2021-09-23 03:16:49  174.2 MiB usmart/RIO/sentinel-s2-l2a-cogs/S2A_11SPC_20200208_0_L2A_B02.tif\n",
      "2021-09-23 03:16:38  173.2 MiB usmart/RIO/sentinel-s2-l2a-cogs/S2A_11SPC_20200208_0_L2A_B03.tif\n",
      "2021-09-23 03:16:28  171.5 MiB usmart/RIO/sentinel-s2-l2a-cogs/S2A_11SPC_20200208_0_L2A_B04.tif\n",
      "2021-09-23 03:16:43  177.0 MiB usmart/RIO/sentinel-s2-l2a-cogs/S2A_11SPC_20200215_0_L2A_B02.tif\n",
      "2021-09-23 03:16:31  174.9 MiB usmart/RIO/sentinel-s2-l2a-cogs/S2A_11SPC_20200215_0_L2A_B03.tif\n",
      "2021-09-23 03:16:21  175.1 MiB usmart/RIO/sentinel-s2-l2a-cogs/S2A_11SPC_20200215_0_L2A_B04.tif\n",
      "2021-09-23 03:16:39  168.7 MiB usmart/RIO/sentinel-s2-l2a-cogs/S2A_11SPC_20200218_0_L2A_B02.tif\n",
      "2021-09-23 03:16:29  167.0 MiB usmart/RIO/sentinel-s2-l2a-cogs/S2A_11SPC_20200218_0_L2A_B03.tif\n",
      "2021-09-23 03:16:21  166.1 MiB usmart/RIO/sentinel-s2-l2a-cogs/S2A_11SPC_20200218_0_L2A_B04.tif\n",
      "2021-09-23 03:16:47  205.3 MiB usmart/RIO/sentinel-s2-l2a-cogs/S2A_11SPC_20200225_0_L2A_B02.tif\n",
      "2021-09-23 03:16:35  203.0 MiB usmart/RIO/sentinel-s2-l2a-cogs/S2A_11SPC_20200225_0_L2A_B03.tif\n",
      "2021-09-23 03:16:19  202.6 MiB usmart/RIO/sentinel-s2-l2a-cogs/S2A_11SPC_20200225_0_L2A_B04.tif\n",
      "2021-09-23 03:16:36  143.5 MiB usmart/RIO/sentinel-s2-l2a-cogs/S2A_11SPC_20200228_0_L2A_B02.tif\n",
      "2021-09-23 03:16:28  142.0 MiB usmart/RIO/sentinel-s2-l2a-cogs/S2A_11SPC_20200228_0_L2A_B03.tif\n",
      "2021-09-23 03:16:15  141.8 MiB usmart/RIO/sentinel-s2-l2a-cogs/S2A_11SPC_20200228_0_L2A_B04.tif\n",
      "2021-09-23 03:16:26  180.5 MiB usmart/RIO/sentinel-s2-l2a-cogs/S2A_11SPC_20200306_0_L2A_B02.tif\n",
      "2021-09-23 03:16:15  179.8 MiB usmart/RIO/sentinel-s2-l2a-cogs/S2A_11SPC_20200306_0_L2A_B03.tif\n",
      "2021-09-23 03:16:05  181.2 MiB usmart/RIO/sentinel-s2-l2a-cogs/S2A_11SPC_20200306_0_L2A_B04.tif\n",
      "2021-09-23 03:16:23  122.1 MiB usmart/RIO/sentinel-s2-l2a-cogs/S2A_11SPC_20200309_0_L2A_B02.tif\n",
      "2021-09-23 03:16:15  119.0 MiB usmart/RIO/sentinel-s2-l2a-cogs/S2A_11SPC_20200309_0_L2A_B03.tif\n",
      "2021-09-23 03:16:05  118.4 MiB usmart/RIO/sentinel-s2-l2a-cogs/S2A_11SPC_20200309_0_L2A_B04.tif\n",
      "2021-09-23 03:16:18  180.3 MiB usmart/RIO/sentinel-s2-l2a-cogs/S2A_11SPC_20200316_0_L2A_B02.tif\n",
      "2021-09-23 03:16:08  177.9 MiB usmart/RIO/sentinel-s2-l2a-cogs/S2A_11SPC_20200316_0_L2A_B03.tif\n",
      "2021-09-23 03:15:57  176.9 MiB usmart/RIO/sentinel-s2-l2a-cogs/S2A_11SPC_20200316_0_L2A_B04.tif\n",
      "2021-09-23 03:16:12  153.2 MiB usmart/RIO/sentinel-s2-l2a-cogs/S2A_11SPC_20200319_0_L2A_B02.tif\n",
      "2021-09-23 03:16:04  152.0 MiB usmart/RIO/sentinel-s2-l2a-cogs/S2A_11SPC_20200319_0_L2A_B03.tif\n",
      "2021-09-23 03:15:55  151.9 MiB usmart/RIO/sentinel-s2-l2a-cogs/S2A_11SPC_20200319_0_L2A_B04.tif\n",
      "2021-09-23 03:16:11  177.8 MiB usmart/RIO/sentinel-s2-l2a-cogs/S2A_11SPC_20200326_0_L2A_B02.tif\n",
      "2021-09-23 03:16:00  175.4 MiB usmart/RIO/sentinel-s2-l2a-cogs/S2A_11SPC_20200326_0_L2A_B03.tif\n",
      "2021-09-23 03:15:48  173.8 MiB usmart/RIO/sentinel-s2-l2a-cogs/S2A_11SPC_20200326_0_L2A_B04.tif\n",
      "2021-09-23 03:16:09  131.8 MiB usmart/RIO/sentinel-s2-l2a-cogs/S2A_11SPC_20200329_0_L2A_B02.tif\n",
      "2021-09-23 03:16:00  129.4 MiB usmart/RIO/sentinel-s2-l2a-cogs/S2A_11SPC_20200329_0_L2A_B03.tif\n",
      "2021-09-23 03:15:50  128.5 MiB usmart/RIO/sentinel-s2-l2a-cogs/S2A_11SPC_20200329_0_L2A_B04.tif\n",
      "2021-09-23 03:16:06  204.9 MiB usmart/RIO/sentinel-s2-l2a-cogs/S2A_11SPC_20200405_0_L2A_B02.tif\n",
      "2021-09-23 03:15:55  203.8 MiB usmart/RIO/sentinel-s2-l2a-cogs/S2A_11SPC_20200405_0_L2A_B03.tif\n",
      "2021-09-23 03:15:44  204.4 MiB usmart/RIO/sentinel-s2-l2a-cogs/S2A_11SPC_20200405_0_L2A_B04.tif\n",
      "2021-09-23 03:15:56  134.9 MiB usmart/RIO/sentinel-s2-l2a-cogs/S2A_11SPC_20200408_0_L2A_B02.tif\n",
      "2021-09-23 03:15:48  132.0 MiB usmart/RIO/sentinel-s2-l2a-cogs/S2A_11SPC_20200408_0_L2A_B03.tif\n",
      "2021-09-23 03:15:40  131.0 MiB usmart/RIO/sentinel-s2-l2a-cogs/S2A_11SPC_20200408_0_L2A_B04.tif\n",
      "2021-09-23 03:16:03  199.5 MiB usmart/RIO/sentinel-s2-l2a-cogs/S2A_11SPC_20200415_0_L2A_B02.tif\n",
      "2021-09-23 03:15:51  197.4 MiB usmart/RIO/sentinel-s2-l2a-cogs/S2A_11SPC_20200415_0_L2A_B03.tif\n",
      "2021-09-23 03:15:37  198.6 MiB usmart/RIO/sentinel-s2-l2a-cogs/S2A_11SPC_20200415_0_L2A_B04.tif\n",
      "2021-09-23 03:15:47  155.0 MiB usmart/RIO/sentinel-s2-l2a-cogs/S2A_11SPC_20200418_0_L2A_B02.tif\n",
      "2021-09-23 03:15:38  153.9 MiB usmart/RIO/sentinel-s2-l2a-cogs/S2A_11SPC_20200418_0_L2A_B03.tif\n",
      "2021-09-23 03:15:28  153.9 MiB usmart/RIO/sentinel-s2-l2a-cogs/S2A_11SPC_20200418_0_L2A_B04.tif\n",
      "2021-09-23 03:15:46  184.0 MiB usmart/RIO/sentinel-s2-l2a-cogs/S2A_11SPC_20200425_0_L2A_B02.tif\n",
      "2021-09-23 03:15:35  182.2 MiB usmart/RIO/sentinel-s2-l2a-cogs/S2A_11SPC_20200425_0_L2A_B03.tif\n",
      "2021-09-23 03:15:23  184.4 MiB usmart/RIO/sentinel-s2-l2a-cogs/S2A_11SPC_20200425_0_L2A_B04.tif\n",
      "2021-09-23 03:15:39  158.9 MiB usmart/RIO/sentinel-s2-l2a-cogs/S2A_11SPC_20200428_0_L2A_B02.tif\n",
      "2021-09-23 03:15:30  157.4 MiB usmart/RIO/sentinel-s2-l2a-cogs/S2A_11SPC_20200428_0_L2A_B03.tif\n",
      "2021-09-23 03:15:20  158.7 MiB usmart/RIO/sentinel-s2-l2a-cogs/S2A_11SPC_20200428_0_L2A_B04.tif\n",
      "2021-09-23 03:15:36  148.4 MiB usmart/RIO/sentinel-s2-l2a-cogs/S2A_11SPC_20200505_0_L2A_B02.tif\n",
      "2021-09-23 03:15:27  146.9 MiB usmart/RIO/sentinel-s2-l2a-cogs/S2A_11SPC_20200505_0_L2A_B03.tif\n",
      "2021-09-23 03:15:17  148.8 MiB usmart/RIO/sentinel-s2-l2a-cogs/S2A_11SPC_20200505_0_L2A_B04.tif\n",
      "2021-09-23 03:15:30   83.4 MiB usmart/RIO/sentinel-s2-l2a-cogs/S2A_11SPC_20200505_1_L2A_B02.tif\n",
      "2021-09-23 03:15:23   82.8 MiB usmart/RIO/sentinel-s2-l2a-cogs/S2A_11SPC_20200505_1_L2A_B03.tif\n",
      "2021-09-23 03:15:16   83.6 MiB usmart/RIO/sentinel-s2-l2a-cogs/S2A_11SPC_20200505_1_L2A_B04.tif\n",
      "2021-09-23 03:15:33  157.5 MiB usmart/RIO/sentinel-s2-l2a-cogs/S2A_11SPC_20200508_0_L2A_B02.tif\n",
      "2021-09-23 03:15:24  156.4 MiB usmart/RIO/sentinel-s2-l2a-cogs/S2A_11SPC_20200508_0_L2A_B03.tif\n",
      "2021-09-23 03:15:14  158.0 MiB usmart/RIO/sentinel-s2-l2a-cogs/S2A_11SPC_20200508_0_L2A_B04.tif\n",
      "2021-09-23 03:15:33  195.5 MiB usmart/RIO/sentinel-s2-l2a-cogs/S2A_11SPC_20200515_0_L2A_B02.tif\n",
      "2021-09-23 03:15:21  194.5 MiB usmart/RIO/sentinel-s2-l2a-cogs/S2A_11SPC_20200515_0_L2A_B03.tif\n",
      "2021-09-23 03:15:10  197.0 MiB usmart/RIO/sentinel-s2-l2a-cogs/S2A_11SPC_20200515_0_L2A_B04.tif\n",
      "2021-09-23 03:15:29  139.2 MiB usmart/RIO/sentinel-s2-l2a-cogs/S2A_11SPC_20200518_0_L2A_B02.tif\n",
      "2021-09-23 03:15:19  137.3 MiB usmart/RIO/sentinel-s2-l2a-cogs/S2A_11SPC_20200518_0_L2A_B03.tif\n",
      "2021-09-23 03:15:09  137.4 MiB usmart/RIO/sentinel-s2-l2a-cogs/S2A_11SPC_20200518_0_L2A_B04.tif\n",
      "2021-09-23 03:15:16  194.3 MiB usmart/RIO/sentinel-s2-l2a-cogs/S2A_11SPC_20200525_0_L2A_B02.tif\n",
      "2021-09-23 03:15:05  193.1 MiB usmart/RIO/sentinel-s2-l2a-cogs/S2A_11SPC_20200525_0_L2A_B03.tif\n",
      "2021-09-23 03:14:53  195.7 MiB usmart/RIO/sentinel-s2-l2a-cogs/S2A_11SPC_20200525_0_L2A_B04.tif\n",
      "2021-09-23 03:15:18  157.7 MiB usmart/RIO/sentinel-s2-l2a-cogs/S2A_11SPC_20200528_0_L2A_B02.tif\n",
      "2021-09-23 03:15:05  156.6 MiB usmart/RIO/sentinel-s2-l2a-cogs/S2A_11SPC_20200528_0_L2A_B03.tif\n",
      "2021-09-23 03:14:52  157.9 MiB usmart/RIO/sentinel-s2-l2a-cogs/S2A_11SPC_20200528_0_L2A_B04.tif\n",
      "2021-09-23 03:15:09  196.5 MiB usmart/RIO/sentinel-s2-l2a-cogs/S2A_11SPC_20200604_0_L2A_B02.tif\n",
      "2021-09-23 03:14:59  196.2 MiB usmart/RIO/sentinel-s2-l2a-cogs/S2A_11SPC_20200604_0_L2A_B03.tif\n",
      "2021-09-23 03:14:46  198.5 MiB usmart/RIO/sentinel-s2-l2a-cogs/S2A_11SPC_20200604_0_L2A_B04.tif\n",
      "2021-09-23 03:15:06  158.5 MiB usmart/RIO/sentinel-s2-l2a-cogs/S2A_11SPC_20200607_0_L2A_B02.tif\n",
      "2021-09-23 03:14:57  157.3 MiB usmart/RIO/sentinel-s2-l2a-cogs/S2A_11SPC_20200607_0_L2A_B03.tif\n",
      "2021-09-23 03:14:46  158.4 MiB usmart/RIO/sentinel-s2-l2a-cogs/S2A_11SPC_20200607_0_L2A_B04.tif\n",
      "2021-09-23 03:15:06  186.3 MiB usmart/RIO/sentinel-s2-l2a-cogs/S2A_11SPC_20200614_0_L2A_B02.tif\n",
      "2021-09-23 03:14:53  185.2 MiB usmart/RIO/sentinel-s2-l2a-cogs/S2A_11SPC_20200614_0_L2A_B03.tif\n",
      "2021-09-23 03:14:41  187.8 MiB usmart/RIO/sentinel-s2-l2a-cogs/S2A_11SPC_20200614_0_L2A_B04.tif\n",
      "2021-09-23 03:15:00  157.1 MiB usmart/RIO/sentinel-s2-l2a-cogs/S2A_11SPC_20200617_0_L2A_B02.tif\n",
      "2021-09-23 03:14:48  156.3 MiB usmart/RIO/sentinel-s2-l2a-cogs/S2A_11SPC_20200617_0_L2A_B03.tif\n",
      "2021-09-23 03:14:39  157.8 MiB usmart/RIO/sentinel-s2-l2a-cogs/S2A_11SPC_20200617_0_L2A_B04.tif\n",
      "2021-09-23 03:14:57  190.6 MiB usmart/RIO/sentinel-s2-l2a-cogs/S2A_11SPC_20200624_0_L2A_B02.tif\n",
      "2021-09-23 03:14:46  189.7 MiB usmart/RIO/sentinel-s2-l2a-cogs/S2A_11SPC_20200624_0_L2A_B03.tif\n",
      "2021-09-23 03:14:34  192.0 MiB usmart/RIO/sentinel-s2-l2a-cogs/S2A_11SPC_20200624_0_L2A_B04.tif\n",
      "2021-09-23 03:14:55  156.5 MiB usmart/RIO/sentinel-s2-l2a-cogs/S2A_11SPC_20200627_0_L2A_B02.tif\n",
      "2021-09-23 03:14:45  156.1 MiB usmart/RIO/sentinel-s2-l2a-cogs/S2A_11SPC_20200627_0_L2A_B03.tif\n",
      "2021-09-23 03:14:34  157.8 MiB usmart/RIO/sentinel-s2-l2a-cogs/S2A_11SPC_20200627_0_L2A_B04.tif\n",
      "2021-09-23 03:14:41  194.3 MiB usmart/RIO/sentinel-s2-l2a-cogs/S2A_11SPC_20200704_0_L2A_B02.tif\n",
      "2021-09-23 03:14:30  193.1 MiB usmart/RIO/sentinel-s2-l2a-cogs/S2A_11SPC_20200704_0_L2A_B03.tif\n",
      "2021-09-23 03:14:20  195.4 MiB usmart/RIO/sentinel-s2-l2a-cogs/S2A_11SPC_20200704_0_L2A_B04.tif\n",
      "2021-09-23 03:14:36  113.5 MiB usmart/RIO/sentinel-s2-l2a-cogs/S2A_11SPC_20200707_0_L2A_B02.tif\n",
      "2021-09-23 03:14:26  113.1 MiB usmart/RIO/sentinel-s2-l2a-cogs/S2A_11SPC_20200707_0_L2A_B03.tif\n",
      "2021-09-23 03:14:16  114.3 MiB usmart/RIO/sentinel-s2-l2a-cogs/S2A_11SPC_20200707_0_L2A_B04.tif\n",
      "2021-09-23 03:14:31   73.9 MiB usmart/RIO/sentinel-s2-l2a-cogs/S2A_11SPC_20200707_1_L2A_B02.tif\n",
      "2021-09-23 03:14:24   73.8 MiB usmart/RIO/sentinel-s2-l2a-cogs/S2A_11SPC_20200707_1_L2A_B03.tif\n",
      "2021-09-23 03:14:18   74.6 MiB usmart/RIO/sentinel-s2-l2a-cogs/S2A_11SPC_20200707_1_L2A_B04.tif\n",
      "2021-09-23 03:14:36  192.5 MiB usmart/RIO/sentinel-s2-l2a-cogs/S2A_11SPC_20200714_0_L2A_B02.tif\n",
      "2021-09-23 03:14:25  191.7 MiB usmart/RIO/sentinel-s2-l2a-cogs/S2A_11SPC_20200714_0_L2A_B03.tif\n",
      "2021-09-23 03:14:14  194.2 MiB usmart/RIO/sentinel-s2-l2a-cogs/S2A_11SPC_20200714_0_L2A_B04.tif\n",
      "2021-09-23 03:14:30  160.5 MiB usmart/RIO/sentinel-s2-l2a-cogs/S2A_11SPC_20200717_0_L2A_B02.tif\n",
      "2021-09-23 03:14:21  159.4 MiB usmart/RIO/sentinel-s2-l2a-cogs/S2A_11SPC_20200717_0_L2A_B03.tif\n",
      "2021-09-23 03:14:11  160.5 MiB usmart/RIO/sentinel-s2-l2a-cogs/S2A_11SPC_20200717_0_L2A_B04.tif\n",
      "2021-09-23 03:14:30  199.7 MiB usmart/RIO/sentinel-s2-l2a-cogs/S2A_11SPC_20200724_0_L2A_B02.tif\n",
      "2021-09-23 03:14:19  199.5 MiB usmart/RIO/sentinel-s2-l2a-cogs/S2A_11SPC_20200724_0_L2A_B03.tif\n",
      "2021-09-23 03:14:07  200.9 MiB usmart/RIO/sentinel-s2-l2a-cogs/S2A_11SPC_20200724_0_L2A_B04.tif\n",
      "2021-09-23 03:14:25  161.6 MiB usmart/RIO/sentinel-s2-l2a-cogs/S2A_11SPC_20200727_0_L2A_B02.tif\n",
      "2021-09-23 03:14:14  160.8 MiB usmart/RIO/sentinel-s2-l2a-cogs/S2A_11SPC_20200727_0_L2A_B03.tif\n",
      "2021-09-23 03:14:04  160.8 MiB usmart/RIO/sentinel-s2-l2a-cogs/S2A_11SPC_20200727_0_L2A_B04.tif\n",
      "2021-09-23 03:14:12  190.5 MiB usmart/RIO/sentinel-s2-l2a-cogs/S2A_11SPC_20200803_0_L2A_B02.tif\n",
      "2021-09-23 03:14:02  190.2 MiB usmart/RIO/sentinel-s2-l2a-cogs/S2A_11SPC_20200803_0_L2A_B03.tif\n",
      "2021-09-23 03:13:52  193.5 MiB usmart/RIO/sentinel-s2-l2a-cogs/S2A_11SPC_20200803_0_L2A_B04.tif\n",
      "2021-09-23 03:14:10  157.7 MiB usmart/RIO/sentinel-s2-l2a-cogs/S2A_11SPC_20200806_0_L2A_B02.tif\n",
      "2021-09-23 03:14:00  156.9 MiB usmart/RIO/sentinel-s2-l2a-cogs/S2A_11SPC_20200806_0_L2A_B03.tif\n",
      "2021-09-23 03:13:50  158.5 MiB usmart/RIO/sentinel-s2-l2a-cogs/S2A_11SPC_20200806_0_L2A_B04.tif\n",
      "2021-09-23 03:14:07  175.5 MiB usmart/RIO/sentinel-s2-l2a-cogs/S2A_11SPC_20200813_0_L2A_B02.tif\n",
      "2021-09-23 03:13:54  174.6 MiB usmart/RIO/sentinel-s2-l2a-cogs/S2A_11SPC_20200813_0_L2A_B03.tif\n",
      "2021-09-23 03:13:45  176.6 MiB usmart/RIO/sentinel-s2-l2a-cogs/S2A_11SPC_20200813_0_L2A_B04.tif\n",
      "2021-09-23 03:14:02  157.0 MiB usmart/RIO/sentinel-s2-l2a-cogs/S2A_11SPC_20200816_0_L2A_B02.tif\n",
      "2021-09-23 03:13:53  156.5 MiB usmart/RIO/sentinel-s2-l2a-cogs/S2A_11SPC_20200816_0_L2A_B03.tif\n",
      "2021-09-23 03:13:45  158.2 MiB usmart/RIO/sentinel-s2-l2a-cogs/S2A_11SPC_20200816_0_L2A_B04.tif\n",
      "2021-09-23 03:14:01  182.3 MiB usmart/RIO/sentinel-s2-l2a-cogs/S2A_11SPC_20200823_0_L2A_B02.tif\n",
      "2021-09-23 03:13:52  183.0 MiB usmart/RIO/sentinel-s2-l2a-cogs/S2A_11SPC_20200823_0_L2A_B03.tif\n",
      "2021-09-23 03:13:42  186.8 MiB usmart/RIO/sentinel-s2-l2a-cogs/S2A_11SPC_20200823_0_L2A_B04.tif\n",
      "2021-09-23 03:14:08  156.1 MiB usmart/RIO/sentinel-s2-l2a-cogs/S2A_11SPC_20200826_0_L2A_B02.tif\n",
      "2021-09-23 03:13:58  155.5 MiB usmart/RIO/sentinel-s2-l2a-cogs/S2A_11SPC_20200826_0_L2A_B03.tif\n",
      "2021-09-23 03:13:42  157.4 MiB usmart/RIO/sentinel-s2-l2a-cogs/S2A_11SPC_20200826_0_L2A_B04.tif\n",
      "2021-09-23 03:13:57  198.9 MiB usmart/RIO/sentinel-s2-l2a-cogs/S2A_11SPC_20200902_0_L2A_B02.tif\n",
      "2021-09-23 03:13:47  197.4 MiB usmart/RIO/sentinel-s2-l2a-cogs/S2A_11SPC_20200902_0_L2A_B03.tif\n",
      "2021-09-23 03:13:36  198.9 MiB usmart/RIO/sentinel-s2-l2a-cogs/S2A_11SPC_20200902_0_L2A_B04.tif\n",
      "2021-09-23 03:13:54  160.2 MiB usmart/RIO/sentinel-s2-l2a-cogs/S2A_11SPC_20200905_0_L2A_B02.tif\n",
      "2021-09-23 03:13:46  158.7 MiB usmart/RIO/sentinel-s2-l2a-cogs/S2A_11SPC_20200905_0_L2A_B03.tif\n",
      "2021-09-23 03:13:36  159.8 MiB usmart/RIO/sentinel-s2-l2a-cogs/S2A_11SPC_20200905_0_L2A_B04.tif\n",
      "2021-09-23 03:13:40  195.2 MiB usmart/RIO/sentinel-s2-l2a-cogs/S2A_11SPC_20200912_0_L2A_B02.tif\n",
      "2021-09-23 03:13:28  194.6 MiB usmart/RIO/sentinel-s2-l2a-cogs/S2A_11SPC_20200912_0_L2A_B03.tif\n",
      "2021-09-23 03:13:15  196.7 MiB usmart/RIO/sentinel-s2-l2a-cogs/S2A_11SPC_20200912_0_L2A_B04.tif\n",
      "2021-09-23 03:13:34  159.3 MiB usmart/RIO/sentinel-s2-l2a-cogs/S2A_11SPC_20200915_0_L2A_B02.tif\n",
      "2021-09-23 03:13:25  158.3 MiB usmart/RIO/sentinel-s2-l2a-cogs/S2A_11SPC_20200915_0_L2A_B03.tif\n",
      "2021-09-23 03:13:16  159.9 MiB usmart/RIO/sentinel-s2-l2a-cogs/S2A_11SPC_20200915_0_L2A_B04.tif\n",
      "2021-09-23 03:13:32  177.7 MiB usmart/RIO/sentinel-s2-l2a-cogs/S2A_11SPC_20200922_0_L2A_B02.tif\n",
      "2021-09-23 03:13:22  176.5 MiB usmart/RIO/sentinel-s2-l2a-cogs/S2A_11SPC_20200922_0_L2A_B03.tif\n",
      "2021-09-23 03:13:13  177.9 MiB usmart/RIO/sentinel-s2-l2a-cogs/S2A_11SPC_20200922_0_L2A_B04.tif\n",
      "2021-09-23 03:13:31  144.5 MiB usmart/RIO/sentinel-s2-l2a-cogs/S2A_11SPC_20200925_0_L2A_B02.tif\n",
      "2021-09-23 03:13:22  147.0 MiB usmart/RIO/sentinel-s2-l2a-cogs/S2A_11SPC_20200925_0_L2A_B03.tif\n",
      "2021-09-23 03:13:12  151.6 MiB usmart/RIO/sentinel-s2-l2a-cogs/S2A_11SPC_20200925_0_L2A_B04.tif\n",
      "2021-09-23 03:13:31  198.9 MiB usmart/RIO/sentinel-s2-l2a-cogs/S2A_11SPC_20201002_0_L2A_B02.tif\n",
      "2021-09-23 03:13:21  197.6 MiB usmart/RIO/sentinel-s2-l2a-cogs/S2A_11SPC_20201002_0_L2A_B03.tif\n",
      "2021-09-23 03:13:09  199.6 MiB usmart/RIO/sentinel-s2-l2a-cogs/S2A_11SPC_20201002_0_L2A_B04.tif\n",
      "2021-09-23 03:13:28  202.3 MiB usmart/RIO/sentinel-s2-l2a-cogs/S2A_11SPC_20201012_0_L2A_B02.tif\n",
      "2021-09-23 03:13:17  200.7 MiB usmart/RIO/sentinel-s2-l2a-cogs/S2A_11SPC_20201012_0_L2A_B03.tif\n",
      "2021-09-23 03:13:06  202.0 MiB usmart/RIO/sentinel-s2-l2a-cogs/S2A_11SPC_20201012_0_L2A_B04.tif\n",
      "2021-09-23 03:13:25  162.7 MiB usmart/RIO/sentinel-s2-l2a-cogs/S2A_11SPC_20201015_0_L2A_B02.tif\n",
      "2021-09-23 03:13:15  161.9 MiB usmart/RIO/sentinel-s2-l2a-cogs/S2A_11SPC_20201015_0_L2A_B03.tif\n",
      "2021-09-23 03:13:05  162.4 MiB usmart/RIO/sentinel-s2-l2a-cogs/S2A_11SPC_20201015_0_L2A_B04.tif\n",
      "2021-09-23 03:13:07  200.5 MiB usmart/RIO/sentinel-s2-l2a-cogs/S2A_11SPC_20201022_0_L2A_B02.tif\n",
      "2021-09-23 03:12:56  199.2 MiB usmart/RIO/sentinel-s2-l2a-cogs/S2A_11SPC_20201022_0_L2A_B03.tif\n",
      "2021-09-23 03:12:44  201.0 MiB usmart/RIO/sentinel-s2-l2a-cogs/S2A_11SPC_20201022_0_L2A_B04.tif\n",
      "2021-09-23 03:12:58  161.5 MiB usmart/RIO/sentinel-s2-l2a-cogs/S2A_11SPC_20201025_0_L2A_B02.tif\n",
      "2021-09-23 03:12:49  160.5 MiB usmart/RIO/sentinel-s2-l2a-cogs/S2A_11SPC_20201025_0_L2A_B03.tif\n",
      "2021-09-23 03:12:38  161.0 MiB usmart/RIO/sentinel-s2-l2a-cogs/S2A_11SPC_20201025_0_L2A_B04.tif\n",
      "2021-09-23 03:13:01  182.4 MiB usmart/RIO/sentinel-s2-l2a-cogs/S2A_11SPC_20201101_0_L2A_B02.tif\n",
      "2021-09-23 03:12:49  181.1 MiB usmart/RIO/sentinel-s2-l2a-cogs/S2A_11SPC_20201101_0_L2A_B03.tif\n",
      "2021-09-23 03:12:38  180.9 MiB usmart/RIO/sentinel-s2-l2a-cogs/S2A_11SPC_20201101_0_L2A_B04.tif\n",
      "2021-09-23 03:13:01  160.8 MiB usmart/RIO/sentinel-s2-l2a-cogs/S2A_11SPC_20201104_0_L2A_B02.tif\n",
      "2021-09-23 03:12:49  161.8 MiB usmart/RIO/sentinel-s2-l2a-cogs/S2A_11SPC_20201104_0_L2A_B03.tif\n",
      "2021-09-23 03:12:38  161.8 MiB usmart/RIO/sentinel-s2-l2a-cogs/S2A_11SPC_20201104_0_L2A_B04.tif\n",
      "2021-09-23 03:13:05  231.1 MiB usmart/RIO/sentinel-s2-l2a-cogs/S2A_11SPC_20201111_0_L2A_B02.tif\n",
      "2021-09-23 03:12:51  228.4 MiB usmart/RIO/sentinel-s2-l2a-cogs/S2A_11SPC_20201111_0_L2A_B03.tif\n",
      "2021-09-23 03:12:38  226.0 MiB usmart/RIO/sentinel-s2-l2a-cogs/S2A_11SPC_20201111_0_L2A_B04.tif\n",
      "2021-09-23 03:12:57  170.8 MiB usmart/RIO/sentinel-s2-l2a-cogs/S2A_11SPC_20201114_0_L2A_B02.tif\n",
      "2021-09-23 03:12:48  168.6 MiB usmart/RIO/sentinel-s2-l2a-cogs/S2A_11SPC_20201114_0_L2A_B03.tif\n",
      "2021-09-23 03:12:37  166.3 MiB usmart/RIO/sentinel-s2-l2a-cogs/S2A_11SPC_20201114_0_L2A_B04.tif\n",
      "2021-09-23 03:13:00  203.1 MiB usmart/RIO/sentinel-s2-l2a-cogs/S2A_11SPC_20201121_0_L2A_B02.tif\n",
      "2021-09-23 03:12:48  204.3 MiB usmart/RIO/sentinel-s2-l2a-cogs/S2A_11SPC_20201121_0_L2A_B03.tif\n",
      "2021-09-23 03:12:36  204.4 MiB usmart/RIO/sentinel-s2-l2a-cogs/S2A_11SPC_20201121_0_L2A_B04.tif\n"
     ]
    },
    {
     "name": "stdout",
     "output_type": "stream",
     "text": [
      "2021-09-23 03:12:56  161.9 MiB usmart/RIO/sentinel-s2-l2a-cogs/S2A_11SPC_20201124_0_L2A_B02.tif\r\n",
      "2021-09-23 03:12:46  163.2 MiB usmart/RIO/sentinel-s2-l2a-cogs/S2A_11SPC_20201124_0_L2A_B03.tif\r\n",
      "2021-09-23 03:12:35  163.0 MiB usmart/RIO/sentinel-s2-l2a-cogs/S2A_11SPC_20201124_0_L2A_B04.tif\r\n",
      "2021-09-23 03:12:29  201.6 MiB usmart/RIO/sentinel-s2-l2a-cogs/S2A_11SPC_20201201_0_L2A_B02.tif\r\n",
      "2021-09-23 03:12:18  203.3 MiB usmart/RIO/sentinel-s2-l2a-cogs/S2A_11SPC_20201201_0_L2A_B03.tif\r\n",
      "2021-09-23 03:12:04  203.7 MiB usmart/RIO/sentinel-s2-l2a-cogs/S2A_11SPC_20201201_0_L2A_B04.tif\r\n",
      "2021-09-23 03:12:26  162.7 MiB usmart/RIO/sentinel-s2-l2a-cogs/S2A_11SPC_20201204_0_L2A_B02.tif\r\n",
      "2021-09-23 03:12:15  164.1 MiB usmart/RIO/sentinel-s2-l2a-cogs/S2A_11SPC_20201204_0_L2A_B03.tif\r\n",
      "2021-09-23 03:12:04  164.1 MiB usmart/RIO/sentinel-s2-l2a-cogs/S2A_11SPC_20201204_0_L2A_B04.tif\r\n",
      "2021-09-23 03:12:28  198.6 MiB usmart/RIO/sentinel-s2-l2a-cogs/S2A_11SPC_20201211_0_L2A_B02.tif\r\n",
      "2021-09-23 03:12:17  201.3 MiB usmart/RIO/sentinel-s2-l2a-cogs/S2A_11SPC_20201211_0_L2A_B03.tif\r\n",
      "2021-09-23 03:12:04  201.8 MiB usmart/RIO/sentinel-s2-l2a-cogs/S2A_11SPC_20201211_0_L2A_B04.tif\r\n",
      "2021-09-23 03:12:25  166.0 MiB usmart/RIO/sentinel-s2-l2a-cogs/S2A_11SPC_20201214_0_L2A_B02.tif\r\n",
      "2021-09-23 03:12:14  164.8 MiB usmart/RIO/sentinel-s2-l2a-cogs/S2A_11SPC_20201214_0_L2A_B03.tif\r\n",
      "2021-09-23 03:12:05  163.3 MiB usmart/RIO/sentinel-s2-l2a-cogs/S2A_11SPC_20201214_0_L2A_B04.tif\r\n",
      "2021-09-23 03:12:30  209.0 MiB usmart/RIO/sentinel-s2-l2a-cogs/S2A_11SPC_20201221_0_L2A_B02.tif\r\n",
      "2021-09-23 03:12:15  207.9 MiB usmart/RIO/sentinel-s2-l2a-cogs/S2A_11SPC_20201221_0_L2A_B03.tif\r\n",
      "2021-09-23 03:12:04  206.2 MiB usmart/RIO/sentinel-s2-l2a-cogs/S2A_11SPC_20201221_0_L2A_B04.tif\r\n",
      "2021-09-23 03:12:25  153.7 MiB usmart/RIO/sentinel-s2-l2a-cogs/S2A_11SPC_20201224_0_L2A_B02.tif\r\n",
      "2021-09-23 03:12:14  151.9 MiB usmart/RIO/sentinel-s2-l2a-cogs/S2A_11SPC_20201224_0_L2A_B03.tif\r\n",
      "2021-09-23 03:12:06  152.1 MiB usmart/RIO/sentinel-s2-l2a-cogs/S2A_11SPC_20201224_0_L2A_B04.tif\r\n",
      "2021-09-23 03:12:26  231.1 MiB usmart/RIO/sentinel-s2-l2a-cogs/S2A_11SPC_20201231_0_L2A_B02.tif\r\n",
      "2021-09-23 03:12:16  229.3 MiB usmart/RIO/sentinel-s2-l2a-cogs/S2A_11SPC_20201231_0_L2A_B03.tif\r\n",
      "2021-09-23 03:12:04  224.9 MiB usmart/RIO/sentinel-s2-l2a-cogs/S2A_11SPC_20201231_0_L2A_B04.tif\r\n",
      "2021-09-23 03:17:18  204.3 MiB usmart/RIO/sentinel-s2-l2a-cogs/S2B_11SPC_20200101_0_L2A_B02.tif\r\n",
      "2021-09-23 03:17:08  203.3 MiB usmart/RIO/sentinel-s2-l2a-cogs/S2B_11SPC_20200101_0_L2A_B03.tif\r\n",
      "2021-09-23 03:17:00  200.6 MiB usmart/RIO/sentinel-s2-l2a-cogs/S2B_11SPC_20200101_0_L2A_B04.tif\r\n",
      "2021-09-23 03:17:14  168.5 MiB usmart/RIO/sentinel-s2-l2a-cogs/S2B_11SPC_20200104_0_L2A_B02.tif\r\n",
      "2021-09-23 03:17:06  166.3 MiB usmart/RIO/sentinel-s2-l2a-cogs/S2B_11SPC_20200104_0_L2A_B03.tif\r\n",
      "2021-09-23 03:16:59  164.0 MiB usmart/RIO/sentinel-s2-l2a-cogs/S2B_11SPC_20200104_0_L2A_B04.tif\r\n",
      "2021-09-23 03:17:11  210.6 MiB usmart/RIO/sentinel-s2-l2a-cogs/S2B_11SPC_20200111_0_L2A_B02.tif\r\n",
      "2021-09-23 03:17:03  207.9 MiB usmart/RIO/sentinel-s2-l2a-cogs/S2B_11SPC_20200111_0_L2A_B03.tif\r\n",
      "2021-09-23 03:16:54  204.9 MiB usmart/RIO/sentinel-s2-l2a-cogs/S2B_11SPC_20200111_0_L2A_B04.tif\r\n",
      "2021-09-23 03:17:09  176.2 MiB usmart/RIO/sentinel-s2-l2a-cogs/S2B_11SPC_20200114_0_L2A_B02.tif\r\n",
      "2021-09-23 03:17:02  174.1 MiB usmart/RIO/sentinel-s2-l2a-cogs/S2B_11SPC_20200114_0_L2A_B03.tif\r\n",
      "2021-09-23 03:16:51  171.4 MiB usmart/RIO/sentinel-s2-l2a-cogs/S2B_11SPC_20200114_0_L2A_B04.tif\r\n",
      "2021-09-23 03:17:08  203.6 MiB usmart/RIO/sentinel-s2-l2a-cogs/S2B_11SPC_20200121_0_L2A_B02.tif\r\n",
      "2021-09-23 03:16:56  201.6 MiB usmart/RIO/sentinel-s2-l2a-cogs/S2B_11SPC_20200121_0_L2A_B03.tif\r\n",
      "2021-09-23 03:16:45  200.4 MiB usmart/RIO/sentinel-s2-l2a-cogs/S2B_11SPC_20200121_0_L2A_B04.tif\r\n",
      "2021-09-23 03:17:03  173.3 MiB usmart/RIO/sentinel-s2-l2a-cogs/S2B_11SPC_20200124_0_L2A_B02.tif\r\n",
      "2021-09-23 03:16:54  172.5 MiB usmart/RIO/sentinel-s2-l2a-cogs/S2B_11SPC_20200124_0_L2A_B03.tif\r\n",
      "2021-09-23 03:16:43  170.6 MiB usmart/RIO/sentinel-s2-l2a-cogs/S2B_11SPC_20200124_0_L2A_B04.tif\r\n",
      "2021-09-23 03:16:50  165.2 MiB usmart/RIO/sentinel-s2-l2a-cogs/S2B_11SPC_20200203_0_L2A_B02.tif\r\n",
      "2021-09-23 03:16:40  163.6 MiB usmart/RIO/sentinel-s2-l2a-cogs/S2B_11SPC_20200203_0_L2A_B03.tif\r\n",
      "2021-09-23 03:16:31  162.5 MiB usmart/RIO/sentinel-s2-l2a-cogs/S2B_11SPC_20200203_0_L2A_B04.tif\r\n",
      "2021-09-23 03:16:50  207.3 MiB usmart/RIO/sentinel-s2-l2a-cogs/S2B_11SPC_20200210_0_L2A_B02.tif\r\n",
      "2021-09-23 03:16:37  205.7 MiB usmart/RIO/sentinel-s2-l2a-cogs/S2B_11SPC_20200210_0_L2A_B03.tif\r\n",
      "2021-09-23 03:16:26  204.4 MiB usmart/RIO/sentinel-s2-l2a-cogs/S2B_11SPC_20200210_0_L2A_B04.tif\r\n",
      "2021-09-23 03:16:46  171.9 MiB usmart/RIO/sentinel-s2-l2a-cogs/S2B_11SPC_20200213_0_L2A_B02.tif\r\n",
      "2021-09-23 03:16:36  170.9 MiB usmart/RIO/sentinel-s2-l2a-cogs/S2B_11SPC_20200213_0_L2A_B03.tif\r\n",
      "2021-09-23 03:16:25  169.1 MiB usmart/RIO/sentinel-s2-l2a-cogs/S2B_11SPC_20200213_0_L2A_B04.tif\r\n",
      "2021-09-23 03:16:44  204.7 MiB usmart/RIO/sentinel-s2-l2a-cogs/S2B_11SPC_20200220_0_L2A_B02.tif\r\n",
      "2021-09-23 03:16:33  203.0 MiB usmart/RIO/sentinel-s2-l2a-cogs/S2B_11SPC_20200220_0_L2A_B03.tif\r\n",
      "2021-09-23 03:16:22  202.7 MiB usmart/RIO/sentinel-s2-l2a-cogs/S2B_11SPC_20200220_0_L2A_B04.tif\r\n",
      "2021-09-23 03:16:37  170.2 MiB usmart/RIO/sentinel-s2-l2a-cogs/S2B_11SPC_20200223_0_L2A_B02.tif\r\n",
      "2021-09-23 03:16:28  169.0 MiB usmart/RIO/sentinel-s2-l2a-cogs/S2B_11SPC_20200223_0_L2A_B03.tif\r\n",
      "2021-09-23 03:16:19  167.2 MiB usmart/RIO/sentinel-s2-l2a-cogs/S2B_11SPC_20200223_0_L2A_B04.tif\r\n",
      "2021-09-23 03:16:38  170.1 MiB usmart/RIO/sentinel-s2-l2a-cogs/S2B_11SPC_20200301_0_L2A_B02.tif\r\n",
      "2021-09-23 03:16:26  168.3 MiB usmart/RIO/sentinel-s2-l2a-cogs/S2B_11SPC_20200301_0_L2A_B03.tif\r\n",
      "2021-09-23 03:16:14  167.0 MiB usmart/RIO/sentinel-s2-l2a-cogs/S2B_11SPC_20200301_0_L2A_B04.tif\r\n",
      "2021-09-23 03:16:33  168.4 MiB usmart/RIO/sentinel-s2-l2a-cogs/S2B_11SPC_20200304_0_L2A_B02.tif\r\n",
      "2021-09-23 03:16:23  167.2 MiB usmart/RIO/sentinel-s2-l2a-cogs/S2B_11SPC_20200304_0_L2A_B03.tif\r\n",
      "2021-09-23 03:16:13  165.9 MiB usmart/RIO/sentinel-s2-l2a-cogs/S2B_11SPC_20200304_0_L2A_B04.tif\r\n",
      "2021-09-23 03:16:22  207.2 MiB usmart/RIO/sentinel-s2-l2a-cogs/S2B_11SPC_20200311_0_L2A_B02.tif\r\n",
      "2021-09-23 03:16:11  206.4 MiB usmart/RIO/sentinel-s2-l2a-cogs/S2B_11SPC_20200311_0_L2A_B03.tif\r\n",
      "2021-09-23 03:15:57  205.7 MiB usmart/RIO/sentinel-s2-l2a-cogs/S2B_11SPC_20200311_0_L2A_B04.tif\r\n",
      "2021-09-23 03:16:16  158.5 MiB usmart/RIO/sentinel-s2-l2a-cogs/S2B_11SPC_20200314_0_L2A_B02.tif\r\n",
      "2021-09-23 03:16:06  158.0 MiB usmart/RIO/sentinel-s2-l2a-cogs/S2B_11SPC_20200314_0_L2A_B03.tif\r\n",
      "2021-09-23 03:15:56  158.0 MiB usmart/RIO/sentinel-s2-l2a-cogs/S2B_11SPC_20200314_0_L2A_B04.tif\r\n",
      "2021-09-23 03:16:19  201.6 MiB usmart/RIO/sentinel-s2-l2a-cogs/S2B_11SPC_20200321_0_L2A_B02.tif\r\n",
      "2021-09-23 03:16:07  199.4 MiB usmart/RIO/sentinel-s2-l2a-cogs/S2B_11SPC_20200321_0_L2A_B03.tif\r\n",
      "2021-09-23 03:15:54  199.0 MiB usmart/RIO/sentinel-s2-l2a-cogs/S2B_11SPC_20200321_0_L2A_B04.tif\r\n",
      "2021-09-23 03:16:13  163.2 MiB usmart/RIO/sentinel-s2-l2a-cogs/S2B_11SPC_20200324_1_L2A_B02.tif\r\n",
      "2021-09-23 03:16:03  162.4 MiB usmart/RIO/sentinel-s2-l2a-cogs/S2B_11SPC_20200324_1_L2A_B03.tif\r\n",
      "2021-09-23 03:15:53  161.9 MiB usmart/RIO/sentinel-s2-l2a-cogs/S2B_11SPC_20200324_1_L2A_B04.tif\r\n",
      "2021-09-23 03:16:10  199.3 MiB usmart/RIO/sentinel-s2-l2a-cogs/S2B_11SPC_20200331_0_L2A_B02.tif\r\n",
      "2021-09-23 03:15:57  198.1 MiB usmart/RIO/sentinel-s2-l2a-cogs/S2B_11SPC_20200331_0_L2A_B03.tif\r\n",
      "2021-09-23 03:15:45  198.7 MiB usmart/RIO/sentinel-s2-l2a-cogs/S2B_11SPC_20200331_0_L2A_B04.tif\r\n",
      "2021-09-23 03:16:05  153.2 MiB usmart/RIO/sentinel-s2-l2a-cogs/S2B_11SPC_20200403_0_L2A_B02.tif\r\n",
      "2021-09-23 03:15:54  152.5 MiB usmart/RIO/sentinel-s2-l2a-cogs/S2B_11SPC_20200403_0_L2A_B03.tif\r\n",
      "2021-09-23 03:15:44  153.1 MiB usmart/RIO/sentinel-s2-l2a-cogs/S2B_11SPC_20200403_0_L2A_B04.tif\r\n",
      "2021-09-23 03:16:02  198.6 MiB usmart/RIO/sentinel-s2-l2a-cogs/S2B_11SPC_20200410_0_L2A_B02.tif\r\n",
      "2021-09-23 03:15:51  196.0 MiB usmart/RIO/sentinel-s2-l2a-cogs/S2B_11SPC_20200410_0_L2A_B03.tif\r\n",
      "2021-09-23 03:15:39  195.4 MiB usmart/RIO/sentinel-s2-l2a-cogs/S2B_11SPC_20200410_0_L2A_B04.tif\r\n",
      "2021-09-23 03:15:57  165.0 MiB usmart/RIO/sentinel-s2-l2a-cogs/S2B_11SPC_20200413_0_L2A_B02.tif\r\n",
      "2021-09-23 03:15:48  163.9 MiB usmart/RIO/sentinel-s2-l2a-cogs/S2B_11SPC_20200413_0_L2A_B03.tif\r\n",
      "2021-09-23 03:15:38  164.0 MiB usmart/RIO/sentinel-s2-l2a-cogs/S2B_11SPC_20200413_0_L2A_B04.tif\r\n",
      "2021-09-23 03:15:47  193.6 MiB usmart/RIO/sentinel-s2-l2a-cogs/S2B_11SPC_20200420_0_L2A_B02.tif\r\n",
      "2021-09-23 03:15:37  192.5 MiB usmart/RIO/sentinel-s2-l2a-cogs/S2B_11SPC_20200420_0_L2A_B03.tif\r\n",
      "2021-09-23 03:15:27  192.9 MiB usmart/RIO/sentinel-s2-l2a-cogs/S2B_11SPC_20200420_0_L2A_B04.tif\r\n",
      "2021-09-23 03:15:46  165.6 MiB usmart/RIO/sentinel-s2-l2a-cogs/S2B_11SPC_20200423_0_L2A_B02.tif\r\n",
      "2021-09-23 03:15:35  164.4 MiB usmart/RIO/sentinel-s2-l2a-cogs/S2B_11SPC_20200423_0_L2A_B03.tif\r\n",
      "2021-09-23 03:15:26  165.0 MiB usmart/RIO/sentinel-s2-l2a-cogs/S2B_11SPC_20200423_0_L2A_B04.tif\r\n",
      "2021-09-23 03:15:41  194.9 MiB usmart/RIO/sentinel-s2-l2a-cogs/S2B_11SPC_20200430_0_L2A_B02.tif\r\n",
      "2021-09-23 03:15:31  193.9 MiB usmart/RIO/sentinel-s2-l2a-cogs/S2B_11SPC_20200430_0_L2A_B03.tif\r\n",
      "2021-09-23 03:15:19  196.0 MiB usmart/RIO/sentinel-s2-l2a-cogs/S2B_11SPC_20200430_0_L2A_B04.tif\r\n",
      "2021-09-23 03:15:40  160.2 MiB usmart/RIO/sentinel-s2-l2a-cogs/S2B_11SPC_20200503_0_L2A_B02.tif\r\n",
      "2021-09-23 03:15:31  159.1 MiB usmart/RIO/sentinel-s2-l2a-cogs/S2B_11SPC_20200503_0_L2A_B03.tif\r\n",
      "2021-09-23 03:15:19  160.3 MiB usmart/RIO/sentinel-s2-l2a-cogs/S2B_11SPC_20200503_0_L2A_B04.tif\r\n",
      "2021-09-23 03:15:44  194.6 MiB usmart/RIO/sentinel-s2-l2a-cogs/S2B_11SPC_20200510_0_L2A_B02.tif\r\n",
      "2021-09-23 03:15:24  194.1 MiB usmart/RIO/sentinel-s2-l2a-cogs/S2B_11SPC_20200510_0_L2A_B03.tif\r\n",
      "2021-09-23 03:15:12  195.8 MiB usmart/RIO/sentinel-s2-l2a-cogs/S2B_11SPC_20200510_0_L2A_B04.tif\r\n",
      "2021-09-23 03:15:31  151.4 MiB usmart/RIO/sentinel-s2-l2a-cogs/S2B_11SPC_20200513_0_L2A_B02.tif\r\n",
      "2021-09-23 03:15:21  151.1 MiB usmart/RIO/sentinel-s2-l2a-cogs/S2B_11SPC_20200513_0_L2A_B03.tif\r\n",
      "2021-09-23 03:15:10  152.9 MiB usmart/RIO/sentinel-s2-l2a-cogs/S2B_11SPC_20200513_0_L2A_B04.tif\r\n",
      "2021-09-23 03:15:29  177.6 MiB usmart/RIO/sentinel-s2-l2a-cogs/S2B_11SPC_20200520_0_L2A_B02.tif\r\n",
      "2021-09-23 03:15:17  175.9 MiB usmart/RIO/sentinel-s2-l2a-cogs/S2B_11SPC_20200520_0_L2A_B03.tif\r\n",
      "2021-09-23 03:15:06  176.1 MiB usmart/RIO/sentinel-s2-l2a-cogs/S2B_11SPC_20200520_0_L2A_B04.tif\r\n",
      "2021-09-23 03:15:14  160.0 MiB usmart/RIO/sentinel-s2-l2a-cogs/S2B_11SPC_20200523_0_L2A_B02.tif\r\n",
      "2021-09-23 03:15:03  158.8 MiB usmart/RIO/sentinel-s2-l2a-cogs/S2B_11SPC_20200523_0_L2A_B03.tif\r\n",
      "2021-09-23 03:14:55  159.9 MiB usmart/RIO/sentinel-s2-l2a-cogs/S2B_11SPC_20200523_0_L2A_B04.tif\r\n",
      "2021-09-23 03:15:12  190.3 MiB usmart/RIO/sentinel-s2-l2a-cogs/S2B_11SPC_20200530_0_L2A_B02.tif\r\n",
      "2021-09-23 03:15:01  189.9 MiB usmart/RIO/sentinel-s2-l2a-cogs/S2B_11SPC_20200530_0_L2A_B03.tif\r\n",
      "2021-09-23 03:14:48  191.8 MiB usmart/RIO/sentinel-s2-l2a-cogs/S2B_11SPC_20200530_0_L2A_B04.tif\r\n",
      "2021-09-23 03:15:06  137.5 MiB usmart/RIO/sentinel-s2-l2a-cogs/S2B_11SPC_20200602_0_L2A_B02.tif\r\n",
      "2021-09-23 03:14:57  137.8 MiB usmart/RIO/sentinel-s2-l2a-cogs/S2B_11SPC_20200602_0_L2A_B03.tif\r\n",
      "2021-09-23 03:14:49  139.9 MiB usmart/RIO/sentinel-s2-l2a-cogs/S2B_11SPC_20200602_0_L2A_B04.tif\r\n",
      "2021-09-23 03:15:09  191.4 MiB usmart/RIO/sentinel-s2-l2a-cogs/S2B_11SPC_20200609_0_L2A_B02.tif\r\n",
      "2021-09-23 03:14:58  191.0 MiB usmart/RIO/sentinel-s2-l2a-cogs/S2B_11SPC_20200609_0_L2A_B03.tif\r\n",
      "2021-09-23 03:14:46  193.7 MiB usmart/RIO/sentinel-s2-l2a-cogs/S2B_11SPC_20200609_0_L2A_B04.tif\r\n",
      "2021-09-23 03:15:01  139.4 MiB usmart/RIO/sentinel-s2-l2a-cogs/S2B_11SPC_20200612_0_L2A_B02.tif\r\n",
      "2021-09-23 03:14:50  138.6 MiB usmart/RIO/sentinel-s2-l2a-cogs/S2B_11SPC_20200612_0_L2A_B03.tif\r\n",
      "2021-09-23 03:14:41  139.9 MiB usmart/RIO/sentinel-s2-l2a-cogs/S2B_11SPC_20200612_0_L2A_B04.tif\r\n",
      "2021-09-23 03:15:02  193.4 MiB usmart/RIO/sentinel-s2-l2a-cogs/S2B_11SPC_20200619_0_L2A_B02.tif\r\n",
      "2021-09-23 03:14:50  192.7 MiB usmart/RIO/sentinel-s2-l2a-cogs/S2B_11SPC_20200619_0_L2A_B03.tif\r\n",
      "2021-09-23 03:14:37  195.0 MiB usmart/RIO/sentinel-s2-l2a-cogs/S2B_11SPC_20200619_0_L2A_B04.tif\r\n",
      "2021-09-23 03:14:57  159.0 MiB usmart/RIO/sentinel-s2-l2a-cogs/S2B_11SPC_20200622_0_L2A_B02.tif\r\n",
      "2021-09-23 03:14:49  158.4 MiB usmart/RIO/sentinel-s2-l2a-cogs/S2B_11SPC_20200622_0_L2A_B03.tif\r\n",
      "2021-09-23 03:14:38  159.7 MiB usmart/RIO/sentinel-s2-l2a-cogs/S2B_11SPC_20200622_0_L2A_B04.tif\r\n",
      "2021-09-23 03:14:43  193.5 MiB usmart/RIO/sentinel-s2-l2a-cogs/S2B_11SPC_20200629_0_L2A_B02.tif\r\n",
      "2021-09-23 03:14:32  192.7 MiB usmart/RIO/sentinel-s2-l2a-cogs/S2B_11SPC_20200629_0_L2A_B03.tif\r\n",
      "2021-09-23 03:14:22  195.0 MiB usmart/RIO/sentinel-s2-l2a-cogs/S2B_11SPC_20200629_0_L2A_B04.tif\r\n",
      "2021-09-23 03:14:42  157.7 MiB usmart/RIO/sentinel-s2-l2a-cogs/S2B_11SPC_20200702_0_L2A_B02.tif\r\n",
      "2021-09-23 03:14:32  157.5 MiB usmart/RIO/sentinel-s2-l2a-cogs/S2B_11SPC_20200702_0_L2A_B03.tif\r\n",
      "2021-09-23 03:14:22  159.1 MiB usmart/RIO/sentinel-s2-l2a-cogs/S2B_11SPC_20200702_0_L2A_B04.tif\r\n",
      "2021-09-23 03:14:38  192.0 MiB usmart/RIO/sentinel-s2-l2a-cogs/S2B_11SPC_20200709_0_L2A_B02.tif\r\n",
      "2021-09-23 03:14:28  191.7 MiB usmart/RIO/sentinel-s2-l2a-cogs/S2B_11SPC_20200709_0_L2A_B03.tif\r\n",
      "2021-09-23 03:14:17  194.0 MiB usmart/RIO/sentinel-s2-l2a-cogs/S2B_11SPC_20200709_0_L2A_B04.tif\r\n",
      "2021-09-23 03:14:38  160.4 MiB usmart/RIO/sentinel-s2-l2a-cogs/S2B_11SPC_20200712_0_L2A_B02.tif\r\n",
      "2021-09-23 03:14:29  159.9 MiB usmart/RIO/sentinel-s2-l2a-cogs/S2B_11SPC_20200712_0_L2A_B03.tif\r\n",
      "2021-09-23 03:14:18  161.1 MiB usmart/RIO/sentinel-s2-l2a-cogs/S2B_11SPC_20200712_0_L2A_B04.tif\r\n",
      "2021-09-23 03:14:34  193.0 MiB usmart/RIO/sentinel-s2-l2a-cogs/S2B_11SPC_20200719_0_L2A_B02.tif\r\n",
      "2021-09-23 03:14:22  192.5 MiB usmart/RIO/sentinel-s2-l2a-cogs/S2B_11SPC_20200719_0_L2A_B03.tif\r\n",
      "2021-09-23 03:14:11  194.5 MiB usmart/RIO/sentinel-s2-l2a-cogs/S2B_11SPC_20200719_0_L2A_B04.tif\r\n",
      "2021-09-23 03:14:27  162.9 MiB usmart/RIO/sentinel-s2-l2a-cogs/S2B_11SPC_20200722_0_L2A_B02.tif\r\n",
      "2021-09-23 03:14:18  162.3 MiB usmart/RIO/sentinel-s2-l2a-cogs/S2B_11SPC_20200722_0_L2A_B03.tif\r\n",
      "2021-09-23 03:14:07  162.7 MiB usmart/RIO/sentinel-s2-l2a-cogs/S2B_11SPC_20200722_0_L2A_B04.tif\r\n",
      "2021-09-23 03:14:27  192.2 MiB usmart/RIO/sentinel-s2-l2a-cogs/S2B_11SPC_20200729_0_L2A_B02.tif\r\n",
      "2021-09-23 03:14:15  191.9 MiB usmart/RIO/sentinel-s2-l2a-cogs/S2B_11SPC_20200729_0_L2A_B03.tif\r\n",
      "2021-09-23 03:14:03  194.0 MiB usmart/RIO/sentinel-s2-l2a-cogs/S2B_11SPC_20200729_0_L2A_B04.tif\r\n",
      "2021-09-23 03:14:23  161.1 MiB usmart/RIO/sentinel-s2-l2a-cogs/S2B_11SPC_20200801_0_L2A_B02.tif\r\n",
      "2021-09-23 03:14:13  160.2 MiB usmart/RIO/sentinel-s2-l2a-cogs/S2B_11SPC_20200801_0_L2A_B03.tif\r\n",
      "2021-09-23 03:14:03  161.2 MiB usmart/RIO/sentinel-s2-l2a-cogs/S2B_11SPC_20200801_0_L2A_B04.tif\r\n",
      "2021-09-23 03:14:11  192.1 MiB usmart/RIO/sentinel-s2-l2a-cogs/S2B_11SPC_20200808_0_L2A_B02.tif\r\n",
      "2021-09-23 03:14:00  192.0 MiB usmart/RIO/sentinel-s2-l2a-cogs/S2B_11SPC_20200808_0_L2A_B03.tif\r\n",
      "2021-09-23 03:13:48  194.4 MiB usmart/RIO/sentinel-s2-l2a-cogs/S2B_11SPC_20200808_0_L2A_B04.tif\r\n",
      "2021-09-23 03:14:07  157.9 MiB usmart/RIO/sentinel-s2-l2a-cogs/S2B_11SPC_20200811_0_L2A_B02.tif\r\n",
      "2021-09-23 03:13:57  157.8 MiB usmart/RIO/sentinel-s2-l2a-cogs/S2B_11SPC_20200811_0_L2A_B03.tif\r\n",
      "2021-09-23 03:13:48  159.3 MiB usmart/RIO/sentinel-s2-l2a-cogs/S2B_11SPC_20200811_0_L2A_B04.tif\r\n",
      "2021-09-23 03:14:06  185.2 MiB usmart/RIO/sentinel-s2-l2a-cogs/S2B_11SPC_20200818_0_L2A_B02.tif\r\n",
      "2021-09-23 03:13:54  186.1 MiB usmart/RIO/sentinel-s2-l2a-cogs/S2B_11SPC_20200818_0_L2A_B03.tif\r\n",
      "2021-09-23 03:13:44  189.6 MiB usmart/RIO/sentinel-s2-l2a-cogs/S2B_11SPC_20200818_0_L2A_B04.tif\r\n",
      "2021-09-23 03:14:04  146.8 MiB usmart/RIO/sentinel-s2-l2a-cogs/S2B_11SPC_20200821_0_L2A_B02.tif\r\n",
      "2021-09-23 03:13:52  149.5 MiB usmart/RIO/sentinel-s2-l2a-cogs/S2B_11SPC_20200821_0_L2A_B03.tif\r\n",
      "2021-09-23 03:13:43  153.9 MiB usmart/RIO/sentinel-s2-l2a-cogs/S2B_11SPC_20200821_0_L2A_B04.tif\r\n",
      "2021-09-23 03:14:00  102.1 MiB usmart/RIO/sentinel-s2-l2a-cogs/S2B_11SPC_20200828_0_L2A_B02.tif\r\n",
      "2021-09-23 03:13:48  102.2 MiB usmart/RIO/sentinel-s2-l2a-cogs/S2B_11SPC_20200828_0_L2A_B03.tif\r\n",
      "2021-09-23 03:13:41  103.3 MiB usmart/RIO/sentinel-s2-l2a-cogs/S2B_11SPC_20200828_0_L2A_B04.tif\r\n",
      "2021-09-23 03:13:57  124.8 MiB usmart/RIO/sentinel-s2-l2a-cogs/S2B_11SPC_20200828_1_L2A_B02.tif\r\n",
      "2021-09-23 03:13:48  124.7 MiB usmart/RIO/sentinel-s2-l2a-cogs/S2B_11SPC_20200828_1_L2A_B03.tif\r\n",
      "2021-09-23 03:13:40  126.4 MiB usmart/RIO/sentinel-s2-l2a-cogs/S2B_11SPC_20200828_1_L2A_B04.tif\r\n",
      "2021-09-23 03:13:55  135.0 MiB usmart/RIO/sentinel-s2-l2a-cogs/S2B_11SPC_20200831_0_L2A_B02.tif\r\n",
      "2021-09-23 03:13:48  138.9 MiB usmart/RIO/sentinel-s2-l2a-cogs/S2B_11SPC_20200831_0_L2A_B03.tif\r\n",
      "2021-09-23 03:13:39  145.4 MiB usmart/RIO/sentinel-s2-l2a-cogs/S2B_11SPC_20200831_0_L2A_B04.tif\r\n",
      "2021-09-23 03:13:41  144.8 MiB usmart/RIO/sentinel-s2-l2a-cogs/S2B_11SPC_20200907_0_L2A_B02.tif\r\n",
      "2021-09-23 03:13:33  143.1 MiB usmart/RIO/sentinel-s2-l2a-cogs/S2B_11SPC_20200907_0_L2A_B03.tif\r\n",
      "2021-09-23 03:13:23  148.2 MiB usmart/RIO/sentinel-s2-l2a-cogs/S2B_11SPC_20200907_0_L2A_B04.tif\r\n",
      "2021-09-23 03:13:38  160.7 MiB usmart/RIO/sentinel-s2-l2a-cogs/S2B_11SPC_20200910_0_L2A_B02.tif\r\n"
     ]
    },
    {
     "name": "stdout",
     "output_type": "stream",
     "text": [
      "2021-09-23 03:13:28  159.7 MiB usmart/RIO/sentinel-s2-l2a-cogs/S2B_11SPC_20200910_0_L2A_B03.tif\r\n",
      "2021-09-23 03:13:17  160.7 MiB usmart/RIO/sentinel-s2-l2a-cogs/S2B_11SPC_20200910_0_L2A_B04.tif\r\n",
      "2021-09-23 03:13:35  171.2 MiB usmart/RIO/sentinel-s2-l2a-cogs/S2B_11SPC_20200917_0_L2A_B02.tif\r\n",
      "2021-09-23 03:13:25  175.1 MiB usmart/RIO/sentinel-s2-l2a-cogs/S2B_11SPC_20200917_0_L2A_B03.tif\r\n",
      "2021-09-23 03:13:15  182.4 MiB usmart/RIO/sentinel-s2-l2a-cogs/S2B_11SPC_20200917_0_L2A_B04.tif\r\n",
      "2021-09-23 03:13:34  152.2 MiB usmart/RIO/sentinel-s2-l2a-cogs/S2B_11SPC_20200920_0_L2A_B02.tif\r\n",
      "2021-09-23 03:13:25  154.0 MiB usmart/RIO/sentinel-s2-l2a-cogs/S2B_11SPC_20200920_0_L2A_B03.tif\r\n",
      "2021-09-23 03:13:14  157.3 MiB usmart/RIO/sentinel-s2-l2a-cogs/S2B_11SPC_20200920_0_L2A_B04.tif\r\n",
      "2021-09-23 03:13:37  199.0 MiB usmart/RIO/sentinel-s2-l2a-cogs/S2B_11SPC_20200927_0_L2A_B02.tif\r\n",
      "2021-09-23 03:13:24  198.0 MiB usmart/RIO/sentinel-s2-l2a-cogs/S2B_11SPC_20200927_0_L2A_B03.tif\r\n",
      "2021-09-23 03:13:13  199.4 MiB usmart/RIO/sentinel-s2-l2a-cogs/S2B_11SPC_20200927_0_L2A_B04.tif\r\n",
      "2021-09-23 03:13:32  163.2 MiB usmart/RIO/sentinel-s2-l2a-cogs/S2B_11SPC_20200930_0_L2A_B02.tif\r\n",
      "2021-09-23 03:13:21  162.1 MiB usmart/RIO/sentinel-s2-l2a-cogs/S2B_11SPC_20200930_0_L2A_B03.tif\r\n",
      "2021-09-23 03:13:11  162.7 MiB usmart/RIO/sentinel-s2-l2a-cogs/S2B_11SPC_20200930_0_L2A_B04.tif\r\n",
      "2021-09-23 03:13:29  160.3 MiB usmart/RIO/sentinel-s2-l2a-cogs/S2B_11SPC_20201007_0_L2A_B02.tif\r\n",
      "2021-09-23 03:13:17  159.2 MiB usmart/RIO/sentinel-s2-l2a-cogs/S2B_11SPC_20201007_0_L2A_B03.tif\r\n",
      "2021-09-23 03:13:07  159.6 MiB usmart/RIO/sentinel-s2-l2a-cogs/S2B_11SPC_20201007_0_L2A_B04.tif\r\n",
      "2021-09-23 03:13:26  154.1 MiB usmart/RIO/sentinel-s2-l2a-cogs/S2B_11SPC_20201010_0_L2A_B02.tif\r\n",
      "2021-09-23 03:13:16  153.3 MiB usmart/RIO/sentinel-s2-l2a-cogs/S2B_11SPC_20201010_0_L2A_B03.tif\r\n",
      "2021-09-23 03:13:07  154.7 MiB usmart/RIO/sentinel-s2-l2a-cogs/S2B_11SPC_20201010_0_L2A_B04.tif\r\n",
      "2021-09-23 03:13:06  201.5 MiB usmart/RIO/sentinel-s2-l2a-cogs/S2B_11SPC_20201017_0_L2A_B02.tif\r\n",
      "2021-09-23 03:12:55  200.4 MiB usmart/RIO/sentinel-s2-l2a-cogs/S2B_11SPC_20201017_0_L2A_B03.tif\r\n",
      "2021-09-23 03:12:45  201.6 MiB usmart/RIO/sentinel-s2-l2a-cogs/S2B_11SPC_20201017_0_L2A_B04.tif\r\n",
      "2021-09-23 03:13:06  163.3 MiB usmart/RIO/sentinel-s2-l2a-cogs/S2B_11SPC_20201020_0_L2A_B02.tif\r\n",
      "2021-09-23 03:12:55  162.8 MiB usmart/RIO/sentinel-s2-l2a-cogs/S2B_11SPC_20201020_0_L2A_B03.tif\r\n",
      "2021-09-23 03:12:44  163.1 MiB usmart/RIO/sentinel-s2-l2a-cogs/S2B_11SPC_20201020_0_L2A_B04.tif\r\n",
      "2021-09-23 03:13:05  201.3 MiB usmart/RIO/sentinel-s2-l2a-cogs/S2B_11SPC_20201027_0_L2A_B02.tif\r\n",
      "2021-09-23 03:12:51  200.7 MiB usmart/RIO/sentinel-s2-l2a-cogs/S2B_11SPC_20201027_0_L2A_B03.tif\r\n",
      "2021-09-23 03:12:40  201.9 MiB usmart/RIO/sentinel-s2-l2a-cogs/S2B_11SPC_20201027_0_L2A_B04.tif\r\n",
      "2021-09-23 03:12:59  163.4 MiB usmart/RIO/sentinel-s2-l2a-cogs/S2B_11SPC_20201030_0_L2A_B02.tif\r\n",
      "2021-09-23 03:12:49  163.5 MiB usmart/RIO/sentinel-s2-l2a-cogs/S2B_11SPC_20201030_0_L2A_B03.tif\r\n",
      "2021-09-23 03:12:39  163.8 MiB usmart/RIO/sentinel-s2-l2a-cogs/S2B_11SPC_20201030_0_L2A_B04.tif\r\n",
      "2021-09-23 03:13:02  187.1 MiB usmart/RIO/sentinel-s2-l2a-cogs/S2B_11SPC_20201106_0_L2A_B02.tif\r\n",
      "2021-09-23 03:12:49  185.6 MiB usmart/RIO/sentinel-s2-l2a-cogs/S2B_11SPC_20201106_0_L2A_B03.tif\r\n",
      "2021-09-23 03:12:39  185.3 MiB usmart/RIO/sentinel-s2-l2a-cogs/S2B_11SPC_20201106_0_L2A_B04.tif\r\n",
      "2021-09-23 03:12:56  175.5 MiB usmart/RIO/sentinel-s2-l2a-cogs/S2B_11SPC_20201109_0_L2A_B02.tif\r\n",
      "2021-09-23 03:12:46  174.0 MiB usmart/RIO/sentinel-s2-l2a-cogs/S2B_11SPC_20201109_0_L2A_B03.tif\r\n",
      "2021-09-23 03:12:37  172.0 MiB usmart/RIO/sentinel-s2-l2a-cogs/S2B_11SPC_20201109_0_L2A_B04.tif\r\n",
      "2021-09-23 03:12:59  163.8 MiB usmart/RIO/sentinel-s2-l2a-cogs/S2B_11SPC_20201119_0_L2A_B02.tif\r\n",
      "2021-09-23 03:12:47  164.6 MiB usmart/RIO/sentinel-s2-l2a-cogs/S2B_11SPC_20201119_0_L2A_B03.tif\r\n",
      "2021-09-23 03:12:37  164.1 MiB usmart/RIO/sentinel-s2-l2a-cogs/S2B_11SPC_20201119_0_L2A_B04.tif\r\n",
      "2021-09-23 03:12:28  202.5 MiB usmart/RIO/sentinel-s2-l2a-cogs/S2B_11SPC_20201126_0_L2A_B02.tif\r\n",
      "2021-09-23 03:12:17  203.3 MiB usmart/RIO/sentinel-s2-l2a-cogs/S2B_11SPC_20201126_0_L2A_B03.tif\r\n",
      "2021-09-23 03:12:05  203.5 MiB usmart/RIO/sentinel-s2-l2a-cogs/S2B_11SPC_20201126_0_L2A_B04.tif\r\n",
      "2021-09-23 03:12:29  163.6 MiB usmart/RIO/sentinel-s2-l2a-cogs/S2B_11SPC_20201129_0_L2A_B02.tif\r\n",
      "2021-09-23 03:12:18  164.4 MiB usmart/RIO/sentinel-s2-l2a-cogs/S2B_11SPC_20201129_0_L2A_B03.tif\r\n",
      "2021-09-23 03:12:05  164.0 MiB usmart/RIO/sentinel-s2-l2a-cogs/S2B_11SPC_20201129_0_L2A_B04.tif\r\n",
      "2021-09-23 03:12:27  200.8 MiB usmart/RIO/sentinel-s2-l2a-cogs/S2B_11SPC_20201206_0_L2A_B02.tif\r\n",
      "2021-09-23 03:12:16  201.2 MiB usmart/RIO/sentinel-s2-l2a-cogs/S2B_11SPC_20201206_0_L2A_B03.tif\r\n",
      "2021-09-23 03:12:04  201.2 MiB usmart/RIO/sentinel-s2-l2a-cogs/S2B_11SPC_20201206_0_L2A_B04.tif\r\n",
      "2021-09-23 03:12:28  163.0 MiB usmart/RIO/sentinel-s2-l2a-cogs/S2B_11SPC_20201209_0_L2A_B02.tif\r\n",
      "2021-09-23 03:12:18  164.0 MiB usmart/RIO/sentinel-s2-l2a-cogs/S2B_11SPC_20201209_0_L2A_B03.tif\r\n",
      "2021-09-23 03:12:06  163.8 MiB usmart/RIO/sentinel-s2-l2a-cogs/S2B_11SPC_20201209_0_L2A_B04.tif\r\n",
      "2021-09-23 03:12:32  210.2 MiB usmart/RIO/sentinel-s2-l2a-cogs/S2B_11SPC_20201216_0_L2A_B02.tif\r\n",
      "2021-09-23 03:12:20  208.1 MiB usmart/RIO/sentinel-s2-l2a-cogs/S2B_11SPC_20201216_0_L2A_B03.tif\r\n",
      "2021-09-23 03:12:07  206.7 MiB usmart/RIO/sentinel-s2-l2a-cogs/S2B_11SPC_20201216_0_L2A_B04.tif\r\n",
      "2021-09-23 03:12:28  173.6 MiB usmart/RIO/sentinel-s2-l2a-cogs/S2B_11SPC_20201219_0_L2A_B02.tif\r\n",
      "2021-09-23 03:12:18  172.2 MiB usmart/RIO/sentinel-s2-l2a-cogs/S2B_11SPC_20201219_0_L2A_B03.tif\r\n",
      "2021-09-23 03:12:08  170.0 MiB usmart/RIO/sentinel-s2-l2a-cogs/S2B_11SPC_20201219_0_L2A_B04.tif\r\n",
      "2021-09-23 03:12:26  206.0 MiB usmart/RIO/sentinel-s2-l2a-cogs/S2B_11SPC_20201226_0_L2A_B02.tif\r\n",
      "2021-09-23 03:12:15  205.4 MiB usmart/RIO/sentinel-s2-l2a-cogs/S2B_11SPC_20201226_0_L2A_B03.tif\r\n",
      "2021-09-23 03:12:05  204.4 MiB usmart/RIO/sentinel-s2-l2a-cogs/S2B_11SPC_20201226_0_L2A_B04.tif\r\n",
      "2021-09-23 03:12:28  183.2 MiB usmart/RIO/sentinel-s2-l2a-cogs/S2B_11SPC_20201229_0_L2A_B02.tif\r\n",
      "2021-09-23 03:12:16  181.4 MiB usmart/RIO/sentinel-s2-l2a-cogs/S2B_11SPC_20201229_0_L2A_B03.tif\r\n",
      "2021-09-23 03:12:04  175.4 MiB usmart/RIO/sentinel-s2-l2a-cogs/S2B_11SPC_20201229_0_L2A_B04.tif\r\n",
      "\r\n",
      "Total Objects: 441\r\n",
      "   Total Size: 74.8 GiB\r\n"
     ]
    }
   ],
   "source": [
    "! aws s3 ls dev-et-data/usmart --recur --sum --human"
   ]
  },
  {
   "cell_type": "code",
   "execution_count": 35,
   "id": "85ba3ac3",
   "metadata": {},
   "outputs": [
    {
     "name": "stdout",
     "output_type": "stream",
     "text": [
      "Thu Sep 23 03:17:25 UTC 2021\r\n"
     ]
    }
   ],
   "source": [
    "!date"
   ]
  },
  {
   "cell_type": "code",
   "execution_count": null,
   "id": "b72f45c1",
   "metadata": {},
   "outputs": [],
   "source": []
  }
 ],
 "metadata": {
  "kernelspec": {
   "display_name": "Python 3 (ipykernel)",
   "language": "python",
   "name": "python3"
  },
  "language_info": {
   "codemirror_mode": {
    "name": "ipython",
    "version": 3
   },
   "file_extension": ".py",
   "mimetype": "text/x-python",
   "name": "python",
   "nbconvert_exporter": "python",
   "pygments_lexer": "ipython3",
   "version": "3.9.7"
  }
 },
 "nbformat": 4,
 "nbformat_minor": 5
}
