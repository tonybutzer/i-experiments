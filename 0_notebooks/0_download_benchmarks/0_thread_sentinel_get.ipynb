{
 "cells": [
  {
   "cell_type": "markdown",
   "id": "6dcd5cdd",
   "metadata": {},
   "source": [
    "# https://www.youtube.com/watch?v=LfxhhOMmWqE\n",
    "\n",
    "- scottyhq on stac "
   ]
  },
  {
   "cell_type": "code",
   "execution_count": 1,
   "id": "ae913858",
   "metadata": {},
   "outputs": [],
   "source": [
    "#! pip install sat-search\n",
    "#!pip install intake-stac"
   ]
  },
  {
   "cell_type": "code",
   "execution_count": 2,
   "id": "c12a046c",
   "metadata": {},
   "outputs": [],
   "source": [
    "import time\n",
    "def thread_function(name):\n",
    "    logging.info(\"Thread %s: starting\", name)\n",
    "    time.sleep(2)\n",
    "    logging.info(\"Thread %s: finishing\", name)"
   ]
  },
  {
   "cell_type": "code",
   "execution_count": 3,
   "id": "46c4d3c4",
   "metadata": {},
   "outputs": [
    {
     "name": "stderr",
     "output_type": "stream",
     "text": [
      "16:15:59: Thread 0: starting\n",
      "16:15:59: Thread 1: starting\n",
      "16:15:59: Thread 2: starting\n",
      "16:15:59: Thread 3: starting\n",
      "16:15:59: Thread 4: starting\n",
      "16:15:59: Initial Threads executor: strted - i think i am waiting before any others\n",
      "16:16:01: Thread 0: finishing\n",
      "16:16:01: Thread 5: starting\n",
      "16:16:01: Thread 1: finishing\n",
      "16:16:01: Thread 6: starting\n",
      "16:16:01: Thread 2: finishing\n",
      "16:16:01: Thread 7: starting\n",
      "16:16:01: Thread 4: finishing\n",
      "16:16:01: Thread 8: starting\n",
      "16:16:01: Thread 3: finishing\n",
      "16:16:01: Thread 9: starting\n",
      "16:16:03: Thread 5: finishing\n",
      "16:16:03: Thread 10: starting\n",
      "16:16:03: Thread 6: finishing\n",
      "16:16:03: Thread 11: starting\n",
      "16:16:03: Thread 7: finishing\n",
      "16:16:03: Thread 12: starting\n",
      "16:16:03: Thread 8: finishing\n",
      "16:16:03: Thread 13: starting\n",
      "16:16:03: Thread 9: finishing\n",
      "16:16:05: Thread 10: finishing\n",
      "16:16:05: Thread 11: finishing\n",
      "16:16:05: Thread 12: finishing\n",
      "16:16:05: Thread 13: finishing\n"
     ]
    }
   ],
   "source": [
    "import concurrent.futures\n",
    "import logging\n",
    "\n",
    "# [rest of code]\n",
    "\n",
    "if __name__ == \"__main__\":\n",
    "    format = \"%(asctime)s: %(message)s\"\n",
    "    logging.basicConfig(format=format, level=logging.INFO,\n",
    "                        datefmt=\"%H:%M:%S\")\n",
    "\n",
    "    with concurrent.futures.ThreadPoolExecutor(max_workers=5) as executor:\n",
    "        executor.map(thread_function, range(14))\n",
    "        logging.info(\"Initial Threads %s: strted - i think i am waiting before any others\", \"executor\")\n"
   ]
  },
  {
   "cell_type": "code",
   "execution_count": 4,
   "id": "16ee6fad",
   "metadata": {},
   "outputs": [
    {
     "name": "stderr",
     "output_type": "stream",
     "text": [
      "16:16:05: Thread aaa: starting\n",
      "16:16:07: Thread aaa: finishing\n"
     ]
    }
   ],
   "source": [
    "thread_function('aaa')"
   ]
  },
  {
   "cell_type": "code",
   "execution_count": 5,
   "id": "8187e02a",
   "metadata": {},
   "outputs": [],
   "source": [
    "import subprocess\n",
    "def subprocess_cmd(command):\n",
    "    process = subprocess.Popen(command,stdout=subprocess.PIPE, shell=True)\n",
    "    proc_stdout = process.communicate()[0].strip()\n",
    "    stupidBytesObject = proc_stdout\n",
    "    outStr = (stupidBytesObject.decode(\"utf-8\"))\n",
    "    print(outStr)\n",
    "    return(outStr)"
   ]
  },
  {
   "cell_type": "code",
   "execution_count": 6,
   "id": "58efb46f",
   "metadata": {},
   "outputs": [],
   "source": [
    "#!wget -nv -O- https://sentinel-cogs.s3.us-west-2.amazonaws.com/sentinel-s2-l2a-cogs/23/K/NR/2020/3/S2B_23KNR_20200329_0_L2A/TCI.tif \\\n",
    "#    | aws s3 cp - s3://dev-et-data/tony/S2B_23KNR_20200329_0_L2A_TCI.tif"
   ]
  },
  {
   "cell_type": "code",
   "execution_count": 7,
   "id": "fef986f5",
   "metadata": {},
   "outputs": [],
   "source": [
    "# example"
   ]
  },
  {
   "cell_type": "code",
   "execution_count": 8,
   "id": "d02f9ba6",
   "metadata": {},
   "outputs": [],
   "source": [
    "# !wget https://raw.githubusercontent.com/tonybutzer/stac-deep/main/1_WIP/0-LTWG/ltwg.py"
   ]
  },
  {
   "cell_type": "code",
   "execution_count": 9,
   "id": "aafc62e3",
   "metadata": {},
   "outputs": [
    {
     "name": "stdout",
     "output_type": "stream",
     "text": [
      "Mon Sep 13 16:16:07 UTC 2021\r\n"
     ]
    }
   ],
   "source": [
    "! date"
   ]
  },
  {
   "cell_type": "code",
   "execution_count": 10,
   "id": "19e815e5",
   "metadata": {},
   "outputs": [
    {
     "data": {
      "text/plain": [
       "['yaml_file_cat',\n",
       " 'yaml_files_cat',\n",
       " 'alias',\n",
       " 'catalog',\n",
       " 'csv',\n",
       " 'intake_remote',\n",
       " 'ndzarr',\n",
       " 'numpy',\n",
       " 'textfiles',\n",
       " 'zarr_cat',\n",
       " 'netcdf',\n",
       " 'opendap',\n",
       " 'rasterio',\n",
       " 'remote-xarray',\n",
       " 'xarray_image',\n",
       " 'zarr',\n",
       " 'stac_catalog',\n",
       " 'stac_collection',\n",
       " 'stac_item',\n",
       " 'stac_item_collection']"
      ]
     },
     "execution_count": 10,
     "metadata": {},
     "output_type": "execute_result"
    }
   ],
   "source": [
    "#! cp ../../../usgs-geo-flow/1_Viz_ROI_AOI_Notebooks/rio2_region.geojson .\n",
    "import intake\n",
    "\n",
    "list(intake.registry)"
   ]
  },
  {
   "cell_type": "code",
   "execution_count": 11,
   "id": "8fd7949f",
   "metadata": {},
   "outputs": [],
   "source": [
    "#import intake-stac\n",
    "from satsearch import Search\n",
    "\n",
    "def get_STAC_items(url, collection, dates, bbox):\n",
    "    results = Search.search(url=url,\n",
    "                        collections=[collection], \n",
    "                        datetime=dates,\n",
    "                        bbox=bbox,    \n",
    "                        sortby=['-properties.datetime'])\n",
    "\n",
    "    items = results.items()\n",
    "    print(f'Found {len(items)} Items')\n",
    "    \n",
    "    \n",
    "#     #return intake.open_stac_item_collection(items)\n",
    "#     return intake_stac.catalog.StacItemCollection(items)\n",
    "#     #return intake.stac_item_collection(items)\n",
    "    \n",
    "    return(items)\n"
   ]
  },
  {
   "cell_type": "code",
   "execution_count": 12,
   "id": "e1d0c0cf",
   "metadata": {},
   "outputs": [],
   "source": [
    "import geopandas as gpd\n",
    "\n",
    "geojson_file='./rio2_region.geojson'\n",
    "aoi = gpd.read_file(geojson_file)"
   ]
  },
  {
   "cell_type": "code",
   "execution_count": 13,
   "id": "c150df90",
   "metadata": {},
   "outputs": [],
   "source": [
    "bbox=aoi['geometry'].values[0].bounds"
   ]
  },
  {
   "cell_type": "code",
   "execution_count": 14,
   "id": "43b399c1",
   "metadata": {
    "scrolled": true
   },
   "outputs": [
    {
     "name": "stdout",
     "output_type": "stream",
     "text": [
      "Found 146 Items\n"
     ]
    }
   ],
   "source": [
    "url='https://earth-search.aws.element84.com/v0'\n",
    "\n",
    "dates = '2020-01-01/2020-12-31' \n",
    "\n",
    "collection = 'sentinel-s2-l2a-cogs' # sentinel-2 w/ atmospheric corrections\n",
    "items_s2 = get_STAC_items(url, collection, dates, bbox)"
   ]
  },
  {
   "cell_type": "code",
   "execution_count": 15,
   "id": "7e1c4151",
   "metadata": {},
   "outputs": [
    {
     "data": {
      "text/plain": [
       "['__class__',\n",
       " '__delattr__',\n",
       " '__dict__',\n",
       " '__dir__',\n",
       " '__doc__',\n",
       " '__eq__',\n",
       " '__format__',\n",
       " '__ge__',\n",
       " '__getattribute__',\n",
       " '__getitem__',\n",
       " '__gt__',\n",
       " '__hash__',\n",
       " '__init__',\n",
       " '__init_subclass__',\n",
       " '__le__',\n",
       " '__len__',\n",
       " '__lt__',\n",
       " '__module__',\n",
       " '__ne__',\n",
       " '__new__',\n",
       " '__reduce__',\n",
       " '__reduce_ex__',\n",
       " '__repr__',\n",
       " '__setattr__',\n",
       " '__sizeof__',\n",
       " '__str__',\n",
       " '__subclasshook__',\n",
       " '__weakref__',\n",
       " '_collections',\n",
       " '_items',\n",
       " 'assets_definition',\n",
       " 'calendar',\n",
       " 'collection',\n",
       " 'dates',\n",
       " 'download',\n",
       " 'download_assets',\n",
       " 'filter',\n",
       " 'geojson',\n",
       " 'load',\n",
       " 'open',\n",
       " 'open_remote',\n",
       " 'properties',\n",
       " 'save',\n",
       " 'summary']"
      ]
     },
     "execution_count": 15,
     "metadata": {},
     "output_type": "execute_result"
    }
   ],
   "source": [
    "dir(items_s2)"
   ]
  },
  {
   "cell_type": "code",
   "execution_count": 16,
   "id": "973d4cab",
   "metadata": {},
   "outputs": [
    {
     "name": "stdout",
     "output_type": "stream",
     "text": [
      "                              2020                              \n",
      "\n",
      "      January               February               March        \n",
      "Mo Tu We Th Fr Sa Su  Mo Tu We Th Fr Sa Su  Mo Tu We Th Fr Sa Su\n",
      "       1  2  3 \u001b[42m 4\u001b[0m  5                  1  2                     1  \n",
      " 6  7  8 \u001b[41m 9\u001b[0m 10 11 12  \u001b[42m 3\u001b[0m  4  5  6  7 \u001b[41m 8\u001b[0m  9   2  3 \u001b[42m 4\u001b[0m  5  6  7  8  \n",
      "13 \u001b[42m14\u001b[0m 15 16 17 18 \u001b[41m19\u001b[0m  10 11 12 \u001b[42m13\u001b[0m 14 15 16  \u001b[41m 9\u001b[0m 10 11 12 13 \u001b[42m14\u001b[0m 15  \n",
      "20 21 22 23 \u001b[42m24\u001b[0m 25 26  17 \u001b[41m18\u001b[0m 19 20 21 22 \u001b[42m23\u001b[0m  16 17 18 \u001b[41m19\u001b[0m 20 21 22  \n",
      "27 28 \u001b[41m29\u001b[0m 30 31        24 25 26 27 \u001b[41m28\u001b[0m 29     23 \u001b[42m24\u001b[0m 25 26 27 28 \u001b[41m29\u001b[0m  \n",
      "\n",
      "       April                  May                   June        \n",
      "Mo Tu We Th Fr Sa Su  Mo Tu We Th Fr Sa Su  Mo Tu We Th Fr Sa Su\n",
      "       1  2 \u001b[42m 3\u001b[0m  4  5               1  2 \u001b[42m 3\u001b[0m   1 \u001b[42m 2\u001b[0m  3  4  5  6 \u001b[41m 7\u001b[0m  \n",
      " 6  7 \u001b[41m 8\u001b[0m  9 10 11 12   4  5  6  7 \u001b[41m 8\u001b[0m  9 10   8  9 10 11 \u001b[42m12\u001b[0m 13 14  \n",
      "\u001b[42m13\u001b[0m 14 15 16 17 \u001b[41m18\u001b[0m 19  11 12 \u001b[42m13\u001b[0m 14 15 16 17  15 16 \u001b[41m17\u001b[0m 18 19 20 21  \n",
      "20 21 22 \u001b[42m23\u001b[0m 24 25 26  \u001b[41m18\u001b[0m 19 20 21 22 \u001b[42m23\u001b[0m 24  \u001b[42m22\u001b[0m 23 24 25 26 \u001b[41m27\u001b[0m 28  \n",
      "27 \u001b[41m28\u001b[0m 29 30           25 26 27 \u001b[41m28\u001b[0m 29 30 31  29 30                 \n",
      "\n",
      "        July                 August              September      \n",
      "Mo Tu We Th Fr Sa Su  Mo Tu We Th Fr Sa Su  Mo Tu We Th Fr Sa Su\n",
      "       1 \u001b[42m 2\u001b[0m  3  4  5                 \u001b[42m 1\u001b[0m  2      1  2  3  4 \u001b[41m 5\u001b[0m  6  \n",
      " 6 \u001b[41m 7\u001b[0m  8  9 10 11 \u001b[42m12\u001b[0m   3  4  5 \u001b[41m 6\u001b[0m  7  8  9   7  8  9 \u001b[42m10\u001b[0m 11 12 13  \n",
      "13 14 15 16 \u001b[41m17\u001b[0m 18 19  10 \u001b[42m11\u001b[0m 12 13 14 15 \u001b[41m16\u001b[0m  14 \u001b[41m15\u001b[0m 16 17 18 19 \u001b[42m20\u001b[0m  \n",
      "20 21 \u001b[42m22\u001b[0m 23 24 25 26  17 18 19 20 \u001b[42m21\u001b[0m 22 23  21 22 23 24 \u001b[41m25\u001b[0m 26 27  \n",
      "\u001b[41m27\u001b[0m 28 29 30 31        24 25 \u001b[41m26\u001b[0m 27 28 29 30  28 29 \u001b[42m30\u001b[0m              \n",
      "\n",
      "      October               November              December      \n",
      "Mo Tu We Th Fr Sa Su  Mo Tu We Th Fr Sa Su  Mo Tu We Th Fr Sa Su\n",
      "          1  2  3  4                     1      1  2  3 \u001b[41m 4\u001b[0m  5  6  \n",
      "\u001b[41m 5\u001b[0m  6  7  8  9 \u001b[42m10\u001b[0m 11   2  3 \u001b[41m 4\u001b[0m  5  6  7  8   7  8 \u001b[42m 9\u001b[0m 10 11 12 13  \n",
      "12 13 14 \u001b[41m15\u001b[0m 16 17 18  \u001b[42m 9\u001b[0m 10 11 12 13 \u001b[41m14\u001b[0m 15  \u001b[41m14\u001b[0m 15 16 17 18 \u001b[42m19\u001b[0m 20  \n",
      "19 \u001b[42m20\u001b[0m 21 22 23 24 \u001b[41m25\u001b[0m  16 17 18 \u001b[42m19\u001b[0m 20 21 22  21 22 23 \u001b[41m24\u001b[0m 25 26 27  \n",
      "26 27 28 29 \u001b[42m30\u001b[0m 31     23 \u001b[41m24\u001b[0m 25 26 27 28 \u001b[42m29\u001b[0m  28 \u001b[42m29\u001b[0m 30 31           \n",
      "\n",
      "\u001b[41msentinel-2b (1)\u001b[0m\n",
      "\u001b[42msentinel-2a (1)\u001b[0m\n",
      "73 total dates\n"
     ]
    }
   ],
   "source": [
    "print(items_s2.calendar())"
   ]
  },
  {
   "cell_type": "code",
   "execution_count": 17,
   "id": "4b42f6b9",
   "metadata": {},
   "outputs": [],
   "source": [
    "reds = []\n",
    "reds.extend([item.assets[\"B04\"][\"href\"] for item in items_s2])"
   ]
  },
  {
   "cell_type": "code",
   "execution_count": 18,
   "id": "b8780af9",
   "metadata": {},
   "outputs": [
    {
     "data": {
      "text/plain": [
       "['https://sentinel-cogs.s3.us-west-2.amazonaws.com/sentinel-s2-l2a-cogs/23/K/NR/2020/12/S2A_23KNR_20201229_0_L2A/B04.tif',\n",
       " 'https://sentinel-cogs.s3.us-west-2.amazonaws.com/sentinel-s2-l2a-cogs/23/K/PR/2020/12/S2A_23KPR_20201229_0_L2A/B04.tif',\n",
       " 'https://sentinel-cogs.s3.us-west-2.amazonaws.com/sentinel-s2-l2a-cogs/23/K/NR/2020/12/S2B_23KNR_20201224_0_L2A/B04.tif',\n",
       " 'https://sentinel-cogs.s3.us-west-2.amazonaws.com/sentinel-s2-l2a-cogs/23/K/PR/2020/12/S2B_23KPR_20201224_0_L2A/B04.tif',\n",
       " 'https://sentinel-cogs.s3.us-west-2.amazonaws.com/sentinel-s2-l2a-cogs/23/K/NR/2020/12/S2A_23KNR_20201219_0_L2A/B04.tif',\n",
       " 'https://sentinel-cogs.s3.us-west-2.amazonaws.com/sentinel-s2-l2a-cogs/23/K/PR/2020/12/S2A_23KPR_20201219_0_L2A/B04.tif',\n",
       " 'https://sentinel-cogs.s3.us-west-2.amazonaws.com/sentinel-s2-l2a-cogs/23/K/NR/2020/12/S2B_23KNR_20201214_0_L2A/B04.tif',\n",
       " 'https://sentinel-cogs.s3.us-west-2.amazonaws.com/sentinel-s2-l2a-cogs/23/K/PR/2020/12/S2B_23KPR_20201214_0_L2A/B04.tif',\n",
       " 'https://sentinel-cogs.s3.us-west-2.amazonaws.com/sentinel-s2-l2a-cogs/23/K/NR/2020/12/S2A_23KNR_20201209_0_L2A/B04.tif',\n",
       " 'https://sentinel-cogs.s3.us-west-2.amazonaws.com/sentinel-s2-l2a-cogs/23/K/PR/2020/12/S2A_23KPR_20201209_0_L2A/B04.tif',\n",
       " 'https://sentinel-cogs.s3.us-west-2.amazonaws.com/sentinel-s2-l2a-cogs/23/K/NR/2020/12/S2B_23KNR_20201204_0_L2A/B04.tif',\n",
       " 'https://sentinel-cogs.s3.us-west-2.amazonaws.com/sentinel-s2-l2a-cogs/23/K/PR/2020/12/S2B_23KPR_20201204_0_L2A/B04.tif',\n",
       " 'https://sentinel-cogs.s3.us-west-2.amazonaws.com/sentinel-s2-l2a-cogs/23/K/NR/2020/11/S2A_23KNR_20201129_0_L2A/B04.tif',\n",
       " 'https://sentinel-cogs.s3.us-west-2.amazonaws.com/sentinel-s2-l2a-cogs/23/K/PR/2020/11/S2A_23KPR_20201129_0_L2A/B04.tif',\n",
       " 'https://sentinel-cogs.s3.us-west-2.amazonaws.com/sentinel-s2-l2a-cogs/23/K/NR/2020/11/S2B_23KNR_20201124_0_L2A/B04.tif',\n",
       " 'https://sentinel-cogs.s3.us-west-2.amazonaws.com/sentinel-s2-l2a-cogs/23/K/PR/2020/11/S2B_23KPR_20201124_0_L2A/B04.tif',\n",
       " 'https://sentinel-cogs.s3.us-west-2.amazonaws.com/sentinel-s2-l2a-cogs/23/K/NR/2020/11/S2A_23KNR_20201119_0_L2A/B04.tif',\n",
       " 'https://sentinel-cogs.s3.us-west-2.amazonaws.com/sentinel-s2-l2a-cogs/23/K/PR/2020/11/S2A_23KPR_20201119_0_L2A/B04.tif',\n",
       " 'https://sentinel-cogs.s3.us-west-2.amazonaws.com/sentinel-s2-l2a-cogs/23/K/NR/2020/11/S2B_23KNR_20201114_0_L2A/B04.tif',\n",
       " 'https://sentinel-cogs.s3.us-west-2.amazonaws.com/sentinel-s2-l2a-cogs/23/K/PR/2020/11/S2B_23KPR_20201114_0_L2A/B04.tif',\n",
       " 'https://sentinel-cogs.s3.us-west-2.amazonaws.com/sentinel-s2-l2a-cogs/23/K/NR/2020/11/S2A_23KNR_20201109_0_L2A/B04.tif',\n",
       " 'https://sentinel-cogs.s3.us-west-2.amazonaws.com/sentinel-s2-l2a-cogs/23/K/PR/2020/11/S2A_23KPR_20201109_0_L2A/B04.tif',\n",
       " 'https://sentinel-cogs.s3.us-west-2.amazonaws.com/sentinel-s2-l2a-cogs/23/K/NR/2020/11/S2B_23KNR_20201104_0_L2A/B04.tif',\n",
       " 'https://sentinel-cogs.s3.us-west-2.amazonaws.com/sentinel-s2-l2a-cogs/23/K/PR/2020/11/S2B_23KPR_20201104_0_L2A/B04.tif',\n",
       " 'https://sentinel-cogs.s3.us-west-2.amazonaws.com/sentinel-s2-l2a-cogs/23/K/NR/2020/10/S2A_23KNR_20201030_0_L2A/B04.tif',\n",
       " 'https://sentinel-cogs.s3.us-west-2.amazonaws.com/sentinel-s2-l2a-cogs/23/K/PR/2020/10/S2A_23KPR_20201030_0_L2A/B04.tif',\n",
       " 'https://sentinel-cogs.s3.us-west-2.amazonaws.com/sentinel-s2-l2a-cogs/23/K/NR/2020/10/S2B_23KNR_20201025_0_L2A/B04.tif',\n",
       " 'https://sentinel-cogs.s3.us-west-2.amazonaws.com/sentinel-s2-l2a-cogs/23/K/PR/2020/10/S2B_23KPR_20201025_0_L2A/B04.tif',\n",
       " 'https://sentinel-cogs.s3.us-west-2.amazonaws.com/sentinel-s2-l2a-cogs/23/K/NR/2020/10/S2A_23KNR_20201020_0_L2A/B04.tif',\n",
       " 'https://sentinel-cogs.s3.us-west-2.amazonaws.com/sentinel-s2-l2a-cogs/23/K/PR/2020/10/S2A_23KPR_20201020_0_L2A/B04.tif',\n",
       " 'https://sentinel-cogs.s3.us-west-2.amazonaws.com/sentinel-s2-l2a-cogs/23/K/NR/2020/10/S2B_23KNR_20201015_0_L2A/B04.tif',\n",
       " 'https://sentinel-cogs.s3.us-west-2.amazonaws.com/sentinel-s2-l2a-cogs/23/K/PR/2020/10/S2B_23KPR_20201015_0_L2A/B04.tif',\n",
       " 'https://sentinel-cogs.s3.us-west-2.amazonaws.com/sentinel-s2-l2a-cogs/23/K/NR/2020/10/S2A_23KNR_20201010_0_L2A/B04.tif',\n",
       " 'https://sentinel-cogs.s3.us-west-2.amazonaws.com/sentinel-s2-l2a-cogs/23/K/PR/2020/10/S2A_23KPR_20201010_0_L2A/B04.tif',\n",
       " 'https://sentinel-cogs.s3.us-west-2.amazonaws.com/sentinel-s2-l2a-cogs/23/K/NR/2020/10/S2B_23KNR_20201005_0_L2A/B04.tif',\n",
       " 'https://sentinel-cogs.s3.us-west-2.amazonaws.com/sentinel-s2-l2a-cogs/23/K/PR/2020/10/S2B_23KPR_20201005_0_L2A/B04.tif',\n",
       " 'https://sentinel-cogs.s3.us-west-2.amazonaws.com/sentinel-s2-l2a-cogs/23/K/NR/2020/9/S2A_23KNR_20200930_0_L2A/B04.tif',\n",
       " 'https://sentinel-cogs.s3.us-west-2.amazonaws.com/sentinel-s2-l2a-cogs/23/K/PR/2020/9/S2A_23KPR_20200930_0_L2A/B04.tif',\n",
       " 'https://sentinel-cogs.s3.us-west-2.amazonaws.com/sentinel-s2-l2a-cogs/23/K/NR/2020/9/S2B_23KNR_20200925_0_L2A/B04.tif',\n",
       " 'https://sentinel-cogs.s3.us-west-2.amazonaws.com/sentinel-s2-l2a-cogs/23/K/PR/2020/9/S2B_23KPR_20200925_0_L2A/B04.tif',\n",
       " 'https://sentinel-cogs.s3.us-west-2.amazonaws.com/sentinel-s2-l2a-cogs/23/K/NR/2020/9/S2A_23KNR_20200920_0_L2A/B04.tif',\n",
       " 'https://sentinel-cogs.s3.us-west-2.amazonaws.com/sentinel-s2-l2a-cogs/23/K/PR/2020/9/S2A_23KPR_20200920_0_L2A/B04.tif',\n",
       " 'https://sentinel-cogs.s3.us-west-2.amazonaws.com/sentinel-s2-l2a-cogs/23/K/NR/2020/9/S2B_23KNR_20200915_0_L2A/B04.tif',\n",
       " 'https://sentinel-cogs.s3.us-west-2.amazonaws.com/sentinel-s2-l2a-cogs/23/K/PR/2020/9/S2B_23KPR_20200915_0_L2A/B04.tif',\n",
       " 'https://sentinel-cogs.s3.us-west-2.amazonaws.com/sentinel-s2-l2a-cogs/23/K/NR/2020/9/S2A_23KNR_20200910_0_L2A/B04.tif',\n",
       " 'https://sentinel-cogs.s3.us-west-2.amazonaws.com/sentinel-s2-l2a-cogs/23/K/PR/2020/9/S2A_23KPR_20200910_0_L2A/B04.tif',\n",
       " 'https://sentinel-cogs.s3.us-west-2.amazonaws.com/sentinel-s2-l2a-cogs/23/K/NR/2020/9/S2B_23KNR_20200905_0_L2A/B04.tif',\n",
       " 'https://sentinel-cogs.s3.us-west-2.amazonaws.com/sentinel-s2-l2a-cogs/23/K/PR/2020/9/S2B_23KPR_20200905_0_L2A/B04.tif',\n",
       " 'https://sentinel-cogs.s3.us-west-2.amazonaws.com/sentinel-s2-l2a-cogs/23/K/NR/2020/8/S2A_23KNR_20200831_0_L2A/B04.tif',\n",
       " 'https://sentinel-cogs.s3.us-west-2.amazonaws.com/sentinel-s2-l2a-cogs/23/K/PR/2020/8/S2A_23KPR_20200831_0_L2A/B04.tif',\n",
       " 'https://sentinel-cogs.s3.us-west-2.amazonaws.com/sentinel-s2-l2a-cogs/23/K/NR/2020/8/S2B_23KNR_20200826_0_L2A/B04.tif',\n",
       " 'https://sentinel-cogs.s3.us-west-2.amazonaws.com/sentinel-s2-l2a-cogs/23/K/PR/2020/8/S2B_23KPR_20200826_0_L2A/B04.tif',\n",
       " 'https://sentinel-cogs.s3.us-west-2.amazonaws.com/sentinel-s2-l2a-cogs/23/K/NR/2020/8/S2A_23KNR_20200821_0_L2A/B04.tif',\n",
       " 'https://sentinel-cogs.s3.us-west-2.amazonaws.com/sentinel-s2-l2a-cogs/23/K/PR/2020/8/S2A_23KPR_20200821_0_L2A/B04.tif',\n",
       " 'https://sentinel-cogs.s3.us-west-2.amazonaws.com/sentinel-s2-l2a-cogs/23/K/NR/2020/8/S2B_23KNR_20200816_0_L2A/B04.tif',\n",
       " 'https://sentinel-cogs.s3.us-west-2.amazonaws.com/sentinel-s2-l2a-cogs/23/K/PR/2020/8/S2B_23KPR_20200816_0_L2A/B04.tif',\n",
       " 'https://sentinel-cogs.s3.us-west-2.amazonaws.com/sentinel-s2-l2a-cogs/23/K/NR/2020/8/S2A_23KNR_20200811_1_L2A/B04.tif',\n",
       " 'https://sentinel-cogs.s3.us-west-2.amazonaws.com/sentinel-s2-l2a-cogs/23/K/PR/2020/8/S2A_23KPR_20200811_0_L2A/B04.tif',\n",
       " 'https://sentinel-cogs.s3.us-west-2.amazonaws.com/sentinel-s2-l2a-cogs/23/K/NR/2020/8/S2B_23KNR_20200806_0_L2A/B04.tif',\n",
       " 'https://sentinel-cogs.s3.us-west-2.amazonaws.com/sentinel-s2-l2a-cogs/23/K/PR/2020/8/S2B_23KPR_20200806_0_L2A/B04.tif',\n",
       " 'https://sentinel-cogs.s3.us-west-2.amazonaws.com/sentinel-s2-l2a-cogs/23/K/NR/2020/8/S2A_23KNR_20200801_0_L2A/B04.tif',\n",
       " 'https://sentinel-cogs.s3.us-west-2.amazonaws.com/sentinel-s2-l2a-cogs/23/K/PR/2020/8/S2A_23KPR_20200801_0_L2A/B04.tif',\n",
       " 'https://sentinel-cogs.s3.us-west-2.amazonaws.com/sentinel-s2-l2a-cogs/23/K/NR/2020/7/S2B_23KNR_20200727_0_L2A/B04.tif',\n",
       " 'https://sentinel-cogs.s3.us-west-2.amazonaws.com/sentinel-s2-l2a-cogs/23/K/PR/2020/7/S2B_23KPR_20200727_0_L2A/B04.tif',\n",
       " 'https://sentinel-cogs.s3.us-west-2.amazonaws.com/sentinel-s2-l2a-cogs/23/K/NR/2020/7/S2A_23KNR_20200722_0_L2A/B04.tif',\n",
       " 'https://sentinel-cogs.s3.us-west-2.amazonaws.com/sentinel-s2-l2a-cogs/23/K/PR/2020/7/S2A_23KPR_20200722_0_L2A/B04.tif',\n",
       " 'https://sentinel-cogs.s3.us-west-2.amazonaws.com/sentinel-s2-l2a-cogs/23/K/NR/2020/7/S2B_23KNR_20200717_0_L2A/B04.tif',\n",
       " 'https://sentinel-cogs.s3.us-west-2.amazonaws.com/sentinel-s2-l2a-cogs/23/K/PR/2020/7/S2B_23KPR_20200717_0_L2A/B04.tif',\n",
       " 'https://sentinel-cogs.s3.us-west-2.amazonaws.com/sentinel-s2-l2a-cogs/23/K/NR/2020/7/S2A_23KNR_20200712_0_L2A/B04.tif',\n",
       " 'https://sentinel-cogs.s3.us-west-2.amazonaws.com/sentinel-s2-l2a-cogs/23/K/PR/2020/7/S2A_23KPR_20200712_0_L2A/B04.tif',\n",
       " 'https://sentinel-cogs.s3.us-west-2.amazonaws.com/sentinel-s2-l2a-cogs/23/K/NR/2020/7/S2B_23KNR_20200707_0_L2A/B04.tif',\n",
       " 'https://sentinel-cogs.s3.us-west-2.amazonaws.com/sentinel-s2-l2a-cogs/23/K/PR/2020/7/S2B_23KPR_20200707_0_L2A/B04.tif',\n",
       " 'https://sentinel-cogs.s3.us-west-2.amazonaws.com/sentinel-s2-l2a-cogs/23/K/NR/2020/7/S2A_23KNR_20200702_0_L2A/B04.tif',\n",
       " 'https://sentinel-cogs.s3.us-west-2.amazonaws.com/sentinel-s2-l2a-cogs/23/K/PR/2020/7/S2A_23KPR_20200702_0_L2A/B04.tif',\n",
       " 'https://sentinel-cogs.s3.us-west-2.amazonaws.com/sentinel-s2-l2a-cogs/23/K/NR/2020/6/S2B_23KNR_20200627_0_L2A/B04.tif',\n",
       " 'https://sentinel-cogs.s3.us-west-2.amazonaws.com/sentinel-s2-l2a-cogs/23/K/PR/2020/6/S2B_23KPR_20200627_0_L2A/B04.tif',\n",
       " 'https://sentinel-cogs.s3.us-west-2.amazonaws.com/sentinel-s2-l2a-cogs/23/K/NR/2020/6/S2A_23KNR_20200622_0_L2A/B04.tif',\n",
       " 'https://sentinel-cogs.s3.us-west-2.amazonaws.com/sentinel-s2-l2a-cogs/23/K/PR/2020/6/S2A_23KPR_20200622_0_L2A/B04.tif',\n",
       " 'https://sentinel-cogs.s3.us-west-2.amazonaws.com/sentinel-s2-l2a-cogs/23/K/NR/2020/6/S2B_23KNR_20200617_0_L2A/B04.tif',\n",
       " 'https://sentinel-cogs.s3.us-west-2.amazonaws.com/sentinel-s2-l2a-cogs/23/K/PR/2020/6/S2B_23KPR_20200617_0_L2A/B04.tif',\n",
       " 'https://sentinel-cogs.s3.us-west-2.amazonaws.com/sentinel-s2-l2a-cogs/23/K/NR/2020/6/S2A_23KNR_20200612_0_L2A/B04.tif',\n",
       " 'https://sentinel-cogs.s3.us-west-2.amazonaws.com/sentinel-s2-l2a-cogs/23/K/PR/2020/6/S2A_23KPR_20200612_0_L2A/B04.tif',\n",
       " 'https://sentinel-cogs.s3.us-west-2.amazonaws.com/sentinel-s2-l2a-cogs/23/K/NR/2020/6/S2B_23KNR_20200607_0_L2A/B04.tif',\n",
       " 'https://sentinel-cogs.s3.us-west-2.amazonaws.com/sentinel-s2-l2a-cogs/23/K/PR/2020/6/S2B_23KPR_20200607_0_L2A/B04.tif',\n",
       " 'https://sentinel-cogs.s3.us-west-2.amazonaws.com/sentinel-s2-l2a-cogs/23/K/NR/2020/6/S2A_23KNR_20200602_0_L2A/B04.tif',\n",
       " 'https://sentinel-cogs.s3.us-west-2.amazonaws.com/sentinel-s2-l2a-cogs/23/K/PR/2020/6/S2A_23KPR_20200602_0_L2A/B04.tif',\n",
       " 'https://sentinel-cogs.s3.us-west-2.amazonaws.com/sentinel-s2-l2a-cogs/23/K/NR/2020/5/S2B_23KNR_20200528_0_L2A/B04.tif',\n",
       " 'https://sentinel-cogs.s3.us-west-2.amazonaws.com/sentinel-s2-l2a-cogs/23/K/PR/2020/5/S2B_23KPR_20200528_0_L2A/B04.tif',\n",
       " 'https://sentinel-cogs.s3.us-west-2.amazonaws.com/sentinel-s2-l2a-cogs/23/K/NR/2020/5/S2A_23KNR_20200523_0_L2A/B04.tif',\n",
       " 'https://sentinel-cogs.s3.us-west-2.amazonaws.com/sentinel-s2-l2a-cogs/23/K/PR/2020/5/S2A_23KPR_20200523_0_L2A/B04.tif',\n",
       " 'https://sentinel-cogs.s3.us-west-2.amazonaws.com/sentinel-s2-l2a-cogs/23/K/NR/2020/5/S2B_23KNR_20200518_0_L2A/B04.tif',\n",
       " 'https://sentinel-cogs.s3.us-west-2.amazonaws.com/sentinel-s2-l2a-cogs/23/K/PR/2020/5/S2B_23KPR_20200518_0_L2A/B04.tif',\n",
       " 'https://sentinel-cogs.s3.us-west-2.amazonaws.com/sentinel-s2-l2a-cogs/23/K/NR/2020/5/S2A_23KNR_20200513_0_L2A/B04.tif',\n",
       " 'https://sentinel-cogs.s3.us-west-2.amazonaws.com/sentinel-s2-l2a-cogs/23/K/PR/2020/5/S2A_23KPR_20200513_0_L2A/B04.tif',\n",
       " 'https://sentinel-cogs.s3.us-west-2.amazonaws.com/sentinel-s2-l2a-cogs/23/K/NR/2020/5/S2B_23KNR_20200508_0_L2A/B04.tif',\n",
       " 'https://sentinel-cogs.s3.us-west-2.amazonaws.com/sentinel-s2-l2a-cogs/23/K/PR/2020/5/S2B_23KPR_20200508_0_L2A/B04.tif',\n",
       " 'https://sentinel-cogs.s3.us-west-2.amazonaws.com/sentinel-s2-l2a-cogs/23/K/NR/2020/5/S2A_23KNR_20200503_0_L2A/B04.tif',\n",
       " 'https://sentinel-cogs.s3.us-west-2.amazonaws.com/sentinel-s2-l2a-cogs/23/K/PR/2020/5/S2A_23KPR_20200503_0_L2A/B04.tif',\n",
       " 'https://sentinel-cogs.s3.us-west-2.amazonaws.com/sentinel-s2-l2a-cogs/23/K/NR/2020/4/S2B_23KNR_20200428_0_L2A/B04.tif',\n",
       " 'https://sentinel-cogs.s3.us-west-2.amazonaws.com/sentinel-s2-l2a-cogs/23/K/PR/2020/4/S2B_23KPR_20200428_0_L2A/B04.tif',\n",
       " 'https://sentinel-cogs.s3.us-west-2.amazonaws.com/sentinel-s2-l2a-cogs/23/K/NR/2020/4/S2A_23KNR_20200423_0_L2A/B04.tif',\n",
       " 'https://sentinel-cogs.s3.us-west-2.amazonaws.com/sentinel-s2-l2a-cogs/23/K/PR/2020/4/S2A_23KPR_20200423_0_L2A/B04.tif',\n",
       " 'https://sentinel-cogs.s3.us-west-2.amazonaws.com/sentinel-s2-l2a-cogs/23/K/NR/2020/4/S2B_23KNR_20200418_0_L2A/B04.tif',\n",
       " 'https://sentinel-cogs.s3.us-west-2.amazonaws.com/sentinel-s2-l2a-cogs/23/K/PR/2020/4/S2B_23KPR_20200418_0_L2A/B04.tif',\n",
       " 'https://sentinel-cogs.s3.us-west-2.amazonaws.com/sentinel-s2-l2a-cogs/23/K/NR/2020/4/S2A_23KNR_20200413_0_L2A/B04.tif',\n",
       " 'https://sentinel-cogs.s3.us-west-2.amazonaws.com/sentinel-s2-l2a-cogs/23/K/PR/2020/4/S2A_23KPR_20200413_0_L2A/B04.tif',\n",
       " 'https://sentinel-cogs.s3.us-west-2.amazonaws.com/sentinel-s2-l2a-cogs/23/K/NR/2020/4/S2B_23KNR_20200408_0_L2A/B04.tif',\n",
       " 'https://sentinel-cogs.s3.us-west-2.amazonaws.com/sentinel-s2-l2a-cogs/23/K/PR/2020/4/S2B_23KPR_20200408_0_L2A/B04.tif',\n",
       " 'https://sentinel-cogs.s3.us-west-2.amazonaws.com/sentinel-s2-l2a-cogs/23/K/NR/2020/4/S2A_23KNR_20200403_0_L2A/B04.tif',\n",
       " 'https://sentinel-cogs.s3.us-west-2.amazonaws.com/sentinel-s2-l2a-cogs/23/K/PR/2020/4/S2A_23KPR_20200403_0_L2A/B04.tif',\n",
       " 'https://sentinel-cogs.s3.us-west-2.amazonaws.com/sentinel-s2-l2a-cogs/23/K/NR/2020/3/S2B_23KNR_20200329_0_L2A/B04.tif',\n",
       " 'https://sentinel-cogs.s3.us-west-2.amazonaws.com/sentinel-s2-l2a-cogs/23/K/PR/2020/3/S2B_23KPR_20200329_0_L2A/B04.tif',\n",
       " 'https://sentinel-cogs.s3.us-west-2.amazonaws.com/sentinel-s2-l2a-cogs/23/K/NR/2020/3/S2A_23KNR_20200324_0_L2A/B04.tif',\n",
       " 'https://sentinel-cogs.s3.us-west-2.amazonaws.com/sentinel-s2-l2a-cogs/23/K/PR/2020/3/S2A_23KPR_20200324_0_L2A/B04.tif',\n",
       " 'https://sentinel-cogs.s3.us-west-2.amazonaws.com/sentinel-s2-l2a-cogs/23/K/NR/2020/3/S2B_23KNR_20200319_0_L2A/B04.tif',\n",
       " 'https://sentinel-cogs.s3.us-west-2.amazonaws.com/sentinel-s2-l2a-cogs/23/K/PR/2020/3/S2B_23KPR_20200319_0_L2A/B04.tif',\n",
       " 'https://sentinel-cogs.s3.us-west-2.amazonaws.com/sentinel-s2-l2a-cogs/23/K/NR/2020/3/S2A_23KNR_20200314_0_L2A/B04.tif',\n",
       " 'https://sentinel-cogs.s3.us-west-2.amazonaws.com/sentinel-s2-l2a-cogs/23/K/PR/2020/3/S2A_23KPR_20200314_0_L2A/B04.tif',\n",
       " 'https://sentinel-cogs.s3.us-west-2.amazonaws.com/sentinel-s2-l2a-cogs/23/K/NR/2020/3/S2B_23KNR_20200309_0_L2A/B04.tif',\n",
       " 'https://sentinel-cogs.s3.us-west-2.amazonaws.com/sentinel-s2-l2a-cogs/23/K/PR/2020/3/S2B_23KPR_20200309_0_L2A/B04.tif',\n",
       " 'https://sentinel-cogs.s3.us-west-2.amazonaws.com/sentinel-s2-l2a-cogs/23/K/NR/2020/3/S2A_23KNR_20200304_0_L2A/B04.tif',\n",
       " 'https://sentinel-cogs.s3.us-west-2.amazonaws.com/sentinel-s2-l2a-cogs/23/K/PR/2020/3/S2A_23KPR_20200304_0_L2A/B04.tif',\n",
       " 'https://sentinel-cogs.s3.us-west-2.amazonaws.com/sentinel-s2-l2a-cogs/23/K/NR/2020/2/S2B_23KNR_20200228_0_L2A/B04.tif',\n",
       " 'https://sentinel-cogs.s3.us-west-2.amazonaws.com/sentinel-s2-l2a-cogs/23/K/PR/2020/2/S2B_23KPR_20200228_0_L2A/B04.tif',\n",
       " 'https://sentinel-cogs.s3.us-west-2.amazonaws.com/sentinel-s2-l2a-cogs/23/K/NR/2020/2/S2A_23KNR_20200223_0_L2A/B04.tif',\n",
       " 'https://sentinel-cogs.s3.us-west-2.amazonaws.com/sentinel-s2-l2a-cogs/23/K/PR/2020/2/S2A_23KPR_20200223_0_L2A/B04.tif',\n",
       " 'https://sentinel-cogs.s3.us-west-2.amazonaws.com/sentinel-s2-l2a-cogs/23/K/NR/2020/2/S2B_23KNR_20200218_0_L2A/B04.tif',\n",
       " 'https://sentinel-cogs.s3.us-west-2.amazonaws.com/sentinel-s2-l2a-cogs/23/K/PR/2020/2/S2B_23KPR_20200218_0_L2A/B04.tif',\n",
       " 'https://sentinel-cogs.s3.us-west-2.amazonaws.com/sentinel-s2-l2a-cogs/23/K/NR/2020/2/S2A_23KNR_20200213_0_L2A/B04.tif',\n",
       " 'https://sentinel-cogs.s3.us-west-2.amazonaws.com/sentinel-s2-l2a-cogs/23/K/PR/2020/2/S2A_23KPR_20200213_0_L2A/B04.tif',\n",
       " 'https://sentinel-cogs.s3.us-west-2.amazonaws.com/sentinel-s2-l2a-cogs/23/K/NR/2020/2/S2B_23KNR_20200208_0_L2A/B04.tif',\n",
       " 'https://sentinel-cogs.s3.us-west-2.amazonaws.com/sentinel-s2-l2a-cogs/23/K/PR/2020/2/S2B_23KPR_20200208_0_L2A/B04.tif',\n",
       " 'https://sentinel-cogs.s3.us-west-2.amazonaws.com/sentinel-s2-l2a-cogs/23/K/NR/2020/2/S2A_23KNR_20200203_0_L2A/B04.tif',\n",
       " 'https://sentinel-cogs.s3.us-west-2.amazonaws.com/sentinel-s2-l2a-cogs/23/K/PR/2020/2/S2A_23KPR_20200203_0_L2A/B04.tif',\n",
       " 'https://sentinel-cogs.s3.us-west-2.amazonaws.com/sentinel-s2-l2a-cogs/23/K/NR/2020/1/S2B_23KNR_20200129_0_L2A/B04.tif',\n",
       " 'https://sentinel-cogs.s3.us-west-2.amazonaws.com/sentinel-s2-l2a-cogs/23/K/PR/2020/1/S2B_23KPR_20200129_0_L2A/B04.tif',\n",
       " 'https://sentinel-cogs.s3.us-west-2.amazonaws.com/sentinel-s2-l2a-cogs/23/K/NR/2020/1/S2A_23KNR_20200124_0_L2A/B04.tif',\n",
       " 'https://sentinel-cogs.s3.us-west-2.amazonaws.com/sentinel-s2-l2a-cogs/23/K/PR/2020/1/S2A_23KPR_20200124_0_L2A/B04.tif',\n",
       " 'https://sentinel-cogs.s3.us-west-2.amazonaws.com/sentinel-s2-l2a-cogs/23/K/NR/2020/1/S2B_23KNR_20200119_0_L2A/B04.tif',\n",
       " 'https://sentinel-cogs.s3.us-west-2.amazonaws.com/sentinel-s2-l2a-cogs/23/K/PR/2020/1/S2B_23KPR_20200119_0_L2A/B04.tif',\n",
       " 'https://sentinel-cogs.s3.us-west-2.amazonaws.com/sentinel-s2-l2a-cogs/23/K/NR/2020/1/S2A_23KNR_20200114_0_L2A/B04.tif',\n",
       " 'https://sentinel-cogs.s3.us-west-2.amazonaws.com/sentinel-s2-l2a-cogs/23/K/PR/2020/1/S2A_23KPR_20200114_0_L2A/B04.tif',\n",
       " 'https://sentinel-cogs.s3.us-west-2.amazonaws.com/sentinel-s2-l2a-cogs/23/K/NR/2020/1/S2B_23KNR_20200109_0_L2A/B04.tif',\n",
       " 'https://sentinel-cogs.s3.us-west-2.amazonaws.com/sentinel-s2-l2a-cogs/23/K/PR/2020/1/S2B_23KPR_20200109_0_L2A/B04.tif',\n",
       " 'https://sentinel-cogs.s3.us-west-2.amazonaws.com/sentinel-s2-l2a-cogs/23/K/NR/2020/1/S2A_23KNR_20200104_0_L2A/B04.tif',\n",
       " 'https://sentinel-cogs.s3.us-west-2.amazonaws.com/sentinel-s2-l2a-cogs/23/K/PR/2020/1/S2A_23KPR_20200104_0_L2A/B04.tif']"
      ]
     },
     "execution_count": 18,
     "metadata": {},
     "output_type": "execute_result"
    }
   ],
   "source": [
    "reds"
   ]
  },
  {
   "cell_type": "code",
   "execution_count": 19,
   "id": "eb3ce9fc",
   "metadata": {},
   "outputs": [],
   "source": [
    "greens=[]\n",
    "greens.extend([item.assets[\"B03\"][\"href\"] for item in items_s2])"
   ]
  },
  {
   "cell_type": "code",
   "execution_count": 20,
   "id": "8fb8e25d",
   "metadata": {},
   "outputs": [],
   "source": [
    "blues=[]\n",
    "blues.extend([item.assets[\"B03\"][\"href\"] for item in items_s2])"
   ]
  },
  {
   "cell_type": "markdown",
   "id": "d9763064",
   "metadata": {},
   "source": [
    "o check the network traffic on your system, i recommend you look into psutil:\n",
    "\n",
    ">>> psutil.net_io_counters(pernic=True)\n",
    "{'lo': iostat(bytes_sent=799953745, bytes_recv=799953745, packets_sent=453698, packets_recv=453698), \n",
    " 'eth0': iostat(bytes_sent=734324837, bytes_recv=4163935363, packets_sent=3605828, packets_recv=4096685)}\n",
    ">>>\n"
   ]
  },
  {
   "cell_type": "code",
   "execution_count": 21,
   "id": "4ec43e6d",
   "metadata": {},
   "outputs": [
    {
     "name": "stdout",
     "output_type": "stream",
     "text": [
      "S2A_23KNR_20201229_0_L2A\n",
      "S2A_23KPR_20201229_0_L2A\n",
      "S2B_23KNR_20201224_0_L2A\n",
      "S2B_23KPR_20201224_0_L2A\n",
      "S2A_23KNR_20201219_0_L2A\n",
      "S2A_23KPR_20201219_0_L2A\n",
      "S2B_23KNR_20201214_0_L2A\n",
      "S2B_23KPR_20201214_0_L2A\n",
      "S2A_23KNR_20201209_0_L2A\n",
      "S2A_23KPR_20201209_0_L2A\n",
      "S2B_23KNR_20201204_0_L2A\n",
      "S2B_23KPR_20201204_0_L2A\n",
      "S2A_23KNR_20201129_0_L2A\n",
      "S2A_23KPR_20201129_0_L2A\n",
      "S2B_23KNR_20201124_0_L2A\n",
      "S2B_23KPR_20201124_0_L2A\n",
      "S2A_23KNR_20201119_0_L2A\n",
      "S2A_23KPR_20201119_0_L2A\n",
      "S2B_23KNR_20201114_0_L2A\n",
      "S2B_23KPR_20201114_0_L2A\n",
      "S2A_23KNR_20201109_0_L2A\n",
      "S2A_23KPR_20201109_0_L2A\n",
      "S2B_23KNR_20201104_0_L2A\n",
      "S2B_23KPR_20201104_0_L2A\n",
      "S2A_23KNR_20201030_0_L2A\n",
      "S2A_23KPR_20201030_0_L2A\n",
      "S2B_23KNR_20201025_0_L2A\n",
      "S2B_23KPR_20201025_0_L2A\n",
      "S2A_23KNR_20201020_0_L2A\n",
      "S2A_23KPR_20201020_0_L2A\n",
      "S2B_23KNR_20201015_0_L2A\n",
      "S2B_23KPR_20201015_0_L2A\n",
      "S2A_23KNR_20201010_0_L2A\n",
      "S2A_23KPR_20201010_0_L2A\n",
      "S2B_23KNR_20201005_0_L2A\n",
      "S2B_23KPR_20201005_0_L2A\n",
      "S2A_23KNR_20200930_0_L2A\n",
      "S2A_23KPR_20200930_0_L2A\n",
      "S2B_23KNR_20200925_0_L2A\n",
      "S2B_23KPR_20200925_0_L2A\n",
      "S2A_23KNR_20200920_0_L2A\n",
      "S2A_23KPR_20200920_0_L2A\n",
      "S2B_23KNR_20200915_0_L2A\n",
      "S2B_23KPR_20200915_0_L2A\n",
      "S2A_23KNR_20200910_0_L2A\n",
      "S2A_23KPR_20200910_0_L2A\n",
      "S2B_23KNR_20200905_0_L2A\n",
      "S2B_23KPR_20200905_0_L2A\n",
      "S2A_23KNR_20200831_0_L2A\n",
      "S2A_23KPR_20200831_0_L2A\n",
      "S2B_23KNR_20200826_0_L2A\n",
      "S2B_23KPR_20200826_0_L2A\n",
      "S2A_23KNR_20200821_0_L2A\n",
      "S2A_23KPR_20200821_0_L2A\n",
      "S2B_23KNR_20200816_0_L2A\n",
      "S2B_23KPR_20200816_0_L2A\n",
      "S2A_23KNR_20200811_1_L2A\n",
      "S2A_23KPR_20200811_0_L2A\n",
      "S2B_23KNR_20200806_0_L2A\n",
      "S2B_23KPR_20200806_0_L2A\n",
      "S2A_23KNR_20200801_0_L2A\n",
      "S2A_23KPR_20200801_0_L2A\n",
      "S2B_23KNR_20200727_0_L2A\n",
      "S2B_23KPR_20200727_0_L2A\n",
      "S2A_23KNR_20200722_0_L2A\n",
      "S2A_23KPR_20200722_0_L2A\n",
      "S2B_23KNR_20200717_0_L2A\n",
      "S2B_23KPR_20200717_0_L2A\n",
      "S2A_23KNR_20200712_0_L2A\n",
      "S2A_23KPR_20200712_0_L2A\n",
      "S2B_23KNR_20200707_0_L2A\n",
      "S2B_23KPR_20200707_0_L2A\n",
      "S2A_23KNR_20200702_0_L2A\n",
      "S2A_23KPR_20200702_0_L2A\n",
      "S2B_23KNR_20200627_0_L2A\n",
      "S2B_23KPR_20200627_0_L2A\n",
      "S2A_23KNR_20200622_0_L2A\n",
      "S2A_23KPR_20200622_0_L2A\n",
      "S2B_23KNR_20200617_0_L2A\n",
      "S2B_23KPR_20200617_0_L2A\n",
      "S2A_23KNR_20200612_0_L2A\n",
      "S2A_23KPR_20200612_0_L2A\n",
      "S2B_23KNR_20200607_0_L2A\n",
      "S2B_23KPR_20200607_0_L2A\n",
      "S2A_23KNR_20200602_0_L2A\n",
      "S2A_23KPR_20200602_0_L2A\n",
      "S2B_23KNR_20200528_0_L2A\n",
      "S2B_23KPR_20200528_0_L2A\n",
      "S2A_23KNR_20200523_0_L2A\n",
      "S2A_23KPR_20200523_0_L2A\n",
      "S2B_23KNR_20200518_0_L2A\n",
      "S2B_23KPR_20200518_0_L2A\n",
      "S2A_23KNR_20200513_0_L2A\n",
      "S2A_23KPR_20200513_0_L2A\n",
      "S2B_23KNR_20200508_0_L2A\n",
      "S2B_23KPR_20200508_0_L2A\n",
      "S2A_23KNR_20200503_0_L2A\n",
      "S2A_23KPR_20200503_0_L2A\n",
      "S2B_23KNR_20200428_0_L2A\n",
      "S2B_23KPR_20200428_0_L2A\n",
      "S2A_23KNR_20200423_0_L2A\n",
      "S2A_23KPR_20200423_0_L2A\n",
      "S2B_23KNR_20200418_0_L2A\n",
      "S2B_23KPR_20200418_0_L2A\n",
      "S2A_23KNR_20200413_0_L2A\n",
      "S2A_23KPR_20200413_0_L2A\n",
      "S2B_23KNR_20200408_0_L2A\n",
      "S2B_23KPR_20200408_0_L2A\n",
      "S2A_23KNR_20200403_0_L2A\n",
      "S2A_23KPR_20200403_0_L2A\n",
      "S2B_23KNR_20200329_0_L2A\n",
      "S2B_23KPR_20200329_0_L2A\n",
      "S2A_23KNR_20200324_0_L2A\n",
      "S2A_23KPR_20200324_0_L2A\n",
      "S2B_23KNR_20200319_0_L2A\n",
      "S2B_23KPR_20200319_0_L2A\n",
      "S2A_23KNR_20200314_0_L2A\n",
      "S2A_23KPR_20200314_0_L2A\n",
      "S2B_23KNR_20200309_0_L2A\n",
      "S2B_23KPR_20200309_0_L2A\n",
      "S2A_23KNR_20200304_0_L2A\n",
      "S2A_23KPR_20200304_0_L2A\n",
      "S2B_23KNR_20200228_0_L2A\n",
      "S2B_23KPR_20200228_0_L2A\n",
      "S2A_23KNR_20200223_0_L2A\n",
      "S2A_23KPR_20200223_0_L2A\n",
      "S2B_23KNR_20200218_0_L2A\n",
      "S2B_23KPR_20200218_0_L2A\n",
      "S2A_23KNR_20200213_0_L2A\n",
      "S2A_23KPR_20200213_0_L2A\n",
      "S2B_23KNR_20200208_0_L2A\n",
      "S2B_23KPR_20200208_0_L2A\n",
      "S2A_23KNR_20200203_0_L2A\n",
      "S2A_23KPR_20200203_0_L2A\n",
      "S2B_23KNR_20200129_0_L2A\n",
      "S2B_23KPR_20200129_0_L2A\n",
      "S2A_23KNR_20200124_0_L2A\n",
      "S2A_23KPR_20200124_0_L2A\n",
      "S2B_23KNR_20200119_0_L2A\n",
      "S2B_23KPR_20200119_0_L2A\n",
      "S2A_23KNR_20200114_0_L2A\n",
      "S2A_23KPR_20200114_0_L2A\n",
      "S2B_23KNR_20200109_0_L2A\n",
      "S2B_23KPR_20200109_0_L2A\n",
      "S2A_23KNR_20200104_0_L2A\n",
      "S2A_23KPR_20200104_0_L2A\n"
     ]
    }
   ],
   "source": [
    "for item in items_s2:\n",
    "    print(item.id)"
   ]
  },
  {
   "cell_type": "code",
   "execution_count": 22,
   "id": "c3d1681a",
   "metadata": {},
   "outputs": [],
   "source": [
    "import pandas as pd\n",
    "def build_dancecard(items_s2):\n",
    "    records = []\n",
    "    for item in items_s2:\n",
    "        key = item.id\n",
    "        record = [key, item.assets[\"B04\"][\"href\"],item.assets[\"B03\"][\"href\"],item.assets[\"B02\"][\"href\"]]\n",
    "        records.append(record)\n",
    "        \n",
    "    rdf = pd.DataFrame(records)\n",
    "    return(rdf)\n",
    "        "
   ]
  },
  {
   "cell_type": "code",
   "execution_count": 23,
   "id": "8680646c",
   "metadata": {},
   "outputs": [],
   "source": [
    "kdf = build_dancecard(items_s2)"
   ]
  },
  {
   "cell_type": "code",
   "execution_count": null,
   "id": "df978e15",
   "metadata": {},
   "outputs": [],
   "source": []
  },
  {
   "cell_type": "code",
   "execution_count": 24,
   "id": "1be034be",
   "metadata": {},
   "outputs": [
    {
     "data": {
      "text/html": [
       "<div>\n",
       "<style scoped>\n",
       "    .dataframe tbody tr th:only-of-type {\n",
       "        vertical-align: middle;\n",
       "    }\n",
       "\n",
       "    .dataframe tbody tr th {\n",
       "        vertical-align: top;\n",
       "    }\n",
       "\n",
       "    .dataframe thead th {\n",
       "        text-align: right;\n",
       "    }\n",
       "</style>\n",
       "<table border=\"1\" class=\"dataframe\">\n",
       "  <thead>\n",
       "    <tr style=\"text-align: right;\">\n",
       "      <th></th>\n",
       "      <th>0</th>\n",
       "      <th>1</th>\n",
       "      <th>2</th>\n",
       "      <th>3</th>\n",
       "    </tr>\n",
       "  </thead>\n",
       "  <tbody>\n",
       "    <tr>\n",
       "      <th>0</th>\n",
       "      <td>S2A_23KNR_20201229_0_L2A</td>\n",
       "      <td>https://sentinel-cogs.s3.us-west-2.amazonaws.c...</td>\n",
       "      <td>https://sentinel-cogs.s3.us-west-2.amazonaws.c...</td>\n",
       "      <td>https://sentinel-cogs.s3.us-west-2.amazonaws.c...</td>\n",
       "    </tr>\n",
       "    <tr>\n",
       "      <th>1</th>\n",
       "      <td>S2A_23KPR_20201229_0_L2A</td>\n",
       "      <td>https://sentinel-cogs.s3.us-west-2.amazonaws.c...</td>\n",
       "      <td>https://sentinel-cogs.s3.us-west-2.amazonaws.c...</td>\n",
       "      <td>https://sentinel-cogs.s3.us-west-2.amazonaws.c...</td>\n",
       "    </tr>\n",
       "    <tr>\n",
       "      <th>2</th>\n",
       "      <td>S2B_23KNR_20201224_0_L2A</td>\n",
       "      <td>https://sentinel-cogs.s3.us-west-2.amazonaws.c...</td>\n",
       "      <td>https://sentinel-cogs.s3.us-west-2.amazonaws.c...</td>\n",
       "      <td>https://sentinel-cogs.s3.us-west-2.amazonaws.c...</td>\n",
       "    </tr>\n",
       "    <tr>\n",
       "      <th>3</th>\n",
       "      <td>S2B_23KPR_20201224_0_L2A</td>\n",
       "      <td>https://sentinel-cogs.s3.us-west-2.amazonaws.c...</td>\n",
       "      <td>https://sentinel-cogs.s3.us-west-2.amazonaws.c...</td>\n",
       "      <td>https://sentinel-cogs.s3.us-west-2.amazonaws.c...</td>\n",
       "    </tr>\n",
       "    <tr>\n",
       "      <th>4</th>\n",
       "      <td>S2A_23KNR_20201219_0_L2A</td>\n",
       "      <td>https://sentinel-cogs.s3.us-west-2.amazonaws.c...</td>\n",
       "      <td>https://sentinel-cogs.s3.us-west-2.amazonaws.c...</td>\n",
       "      <td>https://sentinel-cogs.s3.us-west-2.amazonaws.c...</td>\n",
       "    </tr>\n",
       "    <tr>\n",
       "      <th>...</th>\n",
       "      <td>...</td>\n",
       "      <td>...</td>\n",
       "      <td>...</td>\n",
       "      <td>...</td>\n",
       "    </tr>\n",
       "    <tr>\n",
       "      <th>141</th>\n",
       "      <td>S2A_23KPR_20200114_0_L2A</td>\n",
       "      <td>https://sentinel-cogs.s3.us-west-2.amazonaws.c...</td>\n",
       "      <td>https://sentinel-cogs.s3.us-west-2.amazonaws.c...</td>\n",
       "      <td>https://sentinel-cogs.s3.us-west-2.amazonaws.c...</td>\n",
       "    </tr>\n",
       "    <tr>\n",
       "      <th>142</th>\n",
       "      <td>S2B_23KNR_20200109_0_L2A</td>\n",
       "      <td>https://sentinel-cogs.s3.us-west-2.amazonaws.c...</td>\n",
       "      <td>https://sentinel-cogs.s3.us-west-2.amazonaws.c...</td>\n",
       "      <td>https://sentinel-cogs.s3.us-west-2.amazonaws.c...</td>\n",
       "    </tr>\n",
       "    <tr>\n",
       "      <th>143</th>\n",
       "      <td>S2B_23KPR_20200109_0_L2A</td>\n",
       "      <td>https://sentinel-cogs.s3.us-west-2.amazonaws.c...</td>\n",
       "      <td>https://sentinel-cogs.s3.us-west-2.amazonaws.c...</td>\n",
       "      <td>https://sentinel-cogs.s3.us-west-2.amazonaws.c...</td>\n",
       "    </tr>\n",
       "    <tr>\n",
       "      <th>144</th>\n",
       "      <td>S2A_23KNR_20200104_0_L2A</td>\n",
       "      <td>https://sentinel-cogs.s3.us-west-2.amazonaws.c...</td>\n",
       "      <td>https://sentinel-cogs.s3.us-west-2.amazonaws.c...</td>\n",
       "      <td>https://sentinel-cogs.s3.us-west-2.amazonaws.c...</td>\n",
       "    </tr>\n",
       "    <tr>\n",
       "      <th>145</th>\n",
       "      <td>S2A_23KPR_20200104_0_L2A</td>\n",
       "      <td>https://sentinel-cogs.s3.us-west-2.amazonaws.c...</td>\n",
       "      <td>https://sentinel-cogs.s3.us-west-2.amazonaws.c...</td>\n",
       "      <td>https://sentinel-cogs.s3.us-west-2.amazonaws.c...</td>\n",
       "    </tr>\n",
       "  </tbody>\n",
       "</table>\n",
       "<p>146 rows × 4 columns</p>\n",
       "</div>"
      ],
      "text/plain": [
       "                            0  \\\n",
       "0    S2A_23KNR_20201229_0_L2A   \n",
       "1    S2A_23KPR_20201229_0_L2A   \n",
       "2    S2B_23KNR_20201224_0_L2A   \n",
       "3    S2B_23KPR_20201224_0_L2A   \n",
       "4    S2A_23KNR_20201219_0_L2A   \n",
       "..                        ...   \n",
       "141  S2A_23KPR_20200114_0_L2A   \n",
       "142  S2B_23KNR_20200109_0_L2A   \n",
       "143  S2B_23KPR_20200109_0_L2A   \n",
       "144  S2A_23KNR_20200104_0_L2A   \n",
       "145  S2A_23KPR_20200104_0_L2A   \n",
       "\n",
       "                                                     1  \\\n",
       "0    https://sentinel-cogs.s3.us-west-2.amazonaws.c...   \n",
       "1    https://sentinel-cogs.s3.us-west-2.amazonaws.c...   \n",
       "2    https://sentinel-cogs.s3.us-west-2.amazonaws.c...   \n",
       "3    https://sentinel-cogs.s3.us-west-2.amazonaws.c...   \n",
       "4    https://sentinel-cogs.s3.us-west-2.amazonaws.c...   \n",
       "..                                                 ...   \n",
       "141  https://sentinel-cogs.s3.us-west-2.amazonaws.c...   \n",
       "142  https://sentinel-cogs.s3.us-west-2.amazonaws.c...   \n",
       "143  https://sentinel-cogs.s3.us-west-2.amazonaws.c...   \n",
       "144  https://sentinel-cogs.s3.us-west-2.amazonaws.c...   \n",
       "145  https://sentinel-cogs.s3.us-west-2.amazonaws.c...   \n",
       "\n",
       "                                                     2  \\\n",
       "0    https://sentinel-cogs.s3.us-west-2.amazonaws.c...   \n",
       "1    https://sentinel-cogs.s3.us-west-2.amazonaws.c...   \n",
       "2    https://sentinel-cogs.s3.us-west-2.amazonaws.c...   \n",
       "3    https://sentinel-cogs.s3.us-west-2.amazonaws.c...   \n",
       "4    https://sentinel-cogs.s3.us-west-2.amazonaws.c...   \n",
       "..                                                 ...   \n",
       "141  https://sentinel-cogs.s3.us-west-2.amazonaws.c...   \n",
       "142  https://sentinel-cogs.s3.us-west-2.amazonaws.c...   \n",
       "143  https://sentinel-cogs.s3.us-west-2.amazonaws.c...   \n",
       "144  https://sentinel-cogs.s3.us-west-2.amazonaws.c...   \n",
       "145  https://sentinel-cogs.s3.us-west-2.amazonaws.c...   \n",
       "\n",
       "                                                     3  \n",
       "0    https://sentinel-cogs.s3.us-west-2.amazonaws.c...  \n",
       "1    https://sentinel-cogs.s3.us-west-2.amazonaws.c...  \n",
       "2    https://sentinel-cogs.s3.us-west-2.amazonaws.c...  \n",
       "3    https://sentinel-cogs.s3.us-west-2.amazonaws.c...  \n",
       "4    https://sentinel-cogs.s3.us-west-2.amazonaws.c...  \n",
       "..                                                 ...  \n",
       "141  https://sentinel-cogs.s3.us-west-2.amazonaws.c...  \n",
       "142  https://sentinel-cogs.s3.us-west-2.amazonaws.c...  \n",
       "143  https://sentinel-cogs.s3.us-west-2.amazonaws.c...  \n",
       "144  https://sentinel-cogs.s3.us-west-2.amazonaws.c...  \n",
       "145  https://sentinel-cogs.s3.us-west-2.amazonaws.c...  \n",
       "\n",
       "[146 rows x 4 columns]"
      ]
     },
     "execution_count": 24,
     "metadata": {},
     "output_type": "execute_result"
    }
   ],
   "source": [
    "kdf"
   ]
  },
  {
   "cell_type": "code",
   "execution_count": 25,
   "id": "1a42f4b3",
   "metadata": {},
   "outputs": [],
   "source": [
    "kdf.to_csv('rio2.csv',index=True)"
   ]
  },
  {
   "cell_type": "code",
   "execution_count": 26,
   "id": "1b2a1b10",
   "metadata": {},
   "outputs": [
    {
     "name": "stdout",
     "output_type": "stream",
     "text": [
      "rio2.csv\r\n"
     ]
    }
   ],
   "source": [
    "!ls *.csv"
   ]
  },
  {
   "cell_type": "code",
   "execution_count": 27,
   "id": "09ce977e",
   "metadata": {},
   "outputs": [],
   "source": [
    "def wget_to_s3(s3_obj):\n",
    "    print(\"wget this: %s\",s3_obj)\n",
    "    file_obj_name = s3_obj.split('/')[-2] + '_' + s3_obj.split('/')[-1]\n",
    "    object_path = s3_obj.split('sentinel-s2-l2a-cogs')[-1]\n",
    "    #obj_prefix = '/'.join(object_path.split('/')[:-2])\n",
    "    #obj_name=obj_prefix + file_obj_name\n",
    "    obj_name=file_obj_name\n",
    "    cmd = 'wget -nv -O- ' + s3_obj + ' | aws s3 cp - s3://dev-et-data/usmart/RIO/sentinel-s2-l2a-cogs/' \n",
    "    print(cmd)\n",
    "    print(obj_name)\n",
    "    cmd = cmd + obj_name\n",
    "    print(cmd)\n",
    "    result = subprocess_cmd(cmd)\n",
    "    print(result)"
   ]
  },
  {
   "cell_type": "code",
   "execution_count": 28,
   "id": "0c3ca9dc",
   "metadata": {},
   "outputs": [
    {
     "data": {
      "text/plain": [
       "'https://sentinel-cogs.s3.us-west-2.amazonaws.com/sentinel-s2-l2a-cogs/23/K/PR/2020/12/S2A_23KPR_20201219_0_L2A/B04.tif'"
      ]
     },
     "execution_count": 28,
     "metadata": {},
     "output_type": "execute_result"
    }
   ],
   "source": [
    "series = kdf.loc[5]\n",
    "series[1]"
   ]
  },
  {
   "cell_type": "code",
   "execution_count": 29,
   "id": "4102318b",
   "metadata": {},
   "outputs": [],
   "source": [
    "import math\n",
    "def xfer_function_caller(row):\n",
    "    start = time.time()\n",
    "    logging.info(\"xfer Thread %s: starting\", row)\n",
    "    series = kdf.loc[row]\n",
    "    for i in range(1,4):\n",
    "        logging.info(\"sending %s\", series[i])\n",
    "        wget_to_s3(series[i])\n",
    "    \n",
    "    #time.sleep(2)\n",
    "    end = time.time()\n",
    "    delta = end - start\n",
    "    logging.info(\"Thread %s: finishing in %d seconds\", row, math.trunc(delta))"
   ]
  },
  {
   "cell_type": "code",
   "execution_count": 30,
   "id": "e4ac5546",
   "metadata": {},
   "outputs": [
    {
     "name": "stderr",
     "output_type": "stream",
     "text": [
      "16:16:11: xfer Thread 8: starting\n",
      "16:16:11: sending https://sentinel-cogs.s3.us-west-2.amazonaws.com/sentinel-s2-l2a-cogs/23/K/NR/2020/12/S2A_23KNR_20201209_0_L2A/B04.tif\n"
     ]
    },
    {
     "name": "stdout",
     "output_type": "stream",
     "text": [
      "wget this: %s https://sentinel-cogs.s3.us-west-2.amazonaws.com/sentinel-s2-l2a-cogs/23/K/NR/2020/12/S2A_23KNR_20201209_0_L2A/B04.tif\n",
      "wget -nv -O- https://sentinel-cogs.s3.us-west-2.amazonaws.com/sentinel-s2-l2a-cogs/23/K/NR/2020/12/S2A_23KNR_20201209_0_L2A/B04.tif | aws s3 cp - s3://dev-et-data/usmart/RIO/sentinel-s2-l2a-cogs/\n",
      "S2A_23KNR_20201209_0_L2A_B04.tif\n",
      "wget -nv -O- https://sentinel-cogs.s3.us-west-2.amazonaws.com/sentinel-s2-l2a-cogs/23/K/NR/2020/12/S2A_23KNR_20201209_0_L2A/B04.tif | aws s3 cp - s3://dev-et-data/usmart/RIO/sentinel-s2-l2a-cogs/S2A_23KNR_20201209_0_L2A_B04.tif\n"
     ]
    },
    {
     "name": "stderr",
     "output_type": "stream",
     "text": [
      "2021-09-13 16:16:13 URL:https://sentinel-cogs.s3.us-west-2.amazonaws.com/sentinel-s2-l2a-cogs/23/K/NR/2020/12/S2A_23KNR_20201209_0_L2A/B04.tif [76911300/76911300] -> \"-\" [1]\n",
      "16:16:13: sending https://sentinel-cogs.s3.us-west-2.amazonaws.com/sentinel-s2-l2a-cogs/23/K/NR/2020/12/S2A_23KNR_20201209_0_L2A/B03.tif\n"
     ]
    },
    {
     "name": "stdout",
     "output_type": "stream",
     "text": [
      "\n",
      "\n",
      "wget this: %s https://sentinel-cogs.s3.us-west-2.amazonaws.com/sentinel-s2-l2a-cogs/23/K/NR/2020/12/S2A_23KNR_20201209_0_L2A/B03.tif\n",
      "wget -nv -O- https://sentinel-cogs.s3.us-west-2.amazonaws.com/sentinel-s2-l2a-cogs/23/K/NR/2020/12/S2A_23KNR_20201209_0_L2A/B03.tif | aws s3 cp - s3://dev-et-data/usmart/RIO/sentinel-s2-l2a-cogs/\n",
      "S2A_23KNR_20201209_0_L2A_B03.tif\n",
      "wget -nv -O- https://sentinel-cogs.s3.us-west-2.amazonaws.com/sentinel-s2-l2a-cogs/23/K/NR/2020/12/S2A_23KNR_20201209_0_L2A/B03.tif | aws s3 cp - s3://dev-et-data/usmart/RIO/sentinel-s2-l2a-cogs/S2A_23KNR_20201209_0_L2A_B03.tif\n"
     ]
    },
    {
     "name": "stderr",
     "output_type": "stream",
     "text": [
      "2021-09-13 16:16:16 URL:https://sentinel-cogs.s3.us-west-2.amazonaws.com/sentinel-s2-l2a-cogs/23/K/NR/2020/12/S2A_23KNR_20201209_0_L2A/B03.tif [76751592/76751592] -> \"-\" [1]\n",
      "16:16:16: sending https://sentinel-cogs.s3.us-west-2.amazonaws.com/sentinel-s2-l2a-cogs/23/K/NR/2020/12/S2A_23KNR_20201209_0_L2A/B02.tif\n"
     ]
    },
    {
     "name": "stdout",
     "output_type": "stream",
     "text": [
      "\n",
      "\n",
      "wget this: %s https://sentinel-cogs.s3.us-west-2.amazonaws.com/sentinel-s2-l2a-cogs/23/K/NR/2020/12/S2A_23KNR_20201209_0_L2A/B02.tif\n",
      "wget -nv -O- https://sentinel-cogs.s3.us-west-2.amazonaws.com/sentinel-s2-l2a-cogs/23/K/NR/2020/12/S2A_23KNR_20201209_0_L2A/B02.tif | aws s3 cp - s3://dev-et-data/usmart/RIO/sentinel-s2-l2a-cogs/\n",
      "S2A_23KNR_20201209_0_L2A_B02.tif\n",
      "wget -nv -O- https://sentinel-cogs.s3.us-west-2.amazonaws.com/sentinel-s2-l2a-cogs/23/K/NR/2020/12/S2A_23KNR_20201209_0_L2A/B02.tif | aws s3 cp - s3://dev-et-data/usmart/RIO/sentinel-s2-l2a-cogs/S2A_23KNR_20201209_0_L2A_B02.tif\n"
     ]
    },
    {
     "name": "stderr",
     "output_type": "stream",
     "text": [
      "2021-09-13 16:16:19 URL:https://sentinel-cogs.s3.us-west-2.amazonaws.com/sentinel-s2-l2a-cogs/23/K/NR/2020/12/S2A_23KNR_20201209_0_L2A/B02.tif [79250361/79250361] -> \"-\" [1]\n",
      "16:16:20: Thread 8: finishing in 9 seconds\n"
     ]
    },
    {
     "name": "stdout",
     "output_type": "stream",
     "text": [
      "\n",
      "\n"
     ]
    }
   ],
   "source": [
    "#xfer_function_caller(8)"
   ]
  },
  {
   "cell_type": "code",
   "execution_count": 31,
   "id": "2655e8b7",
   "metadata": {},
   "outputs": [
    {
     "name": "stdout",
     "output_type": "stream",
     "text": [
      "\r\n",
      "Total Objects: 0\r\n",
      "   Total Size: 0\r\n"
     ]
    }
   ],
   "source": [
    "! aws s3 ls dev-et-data/smartTE/sentinel --recur --sum"
   ]
  },
  {
   "cell_type": "code",
   "execution_count": 33,
   "id": "9f79f55a",
   "metadata": {},
   "outputs": [
    {
     "data": {
      "text/plain": [
       "146"
      ]
     },
     "execution_count": 33,
     "metadata": {},
     "output_type": "execute_result"
    }
   ],
   "source": [
    "total_scenes = len(items_s2)\n",
    "total_scenes"
   ]
  },
  {
   "cell_type": "code",
   "execution_count": 34,
   "id": "781fcbc8",
   "metadata": {},
   "outputs": [
    {
     "name": "stderr",
     "output_type": "stream",
     "text": [
      "16:16:40: xfer Thread 0: starting\n",
      "16:16:40: xfer Thread 1: starting\n",
      "16:16:40: xfer Thread 2: starting\n",
      "16:16:40: sending https://sentinel-cogs.s3.us-west-2.amazonaws.com/sentinel-s2-l2a-cogs/23/K/NR/2020/12/S2A_23KNR_20201229_0_L2A/B04.tif\n",
      "16:16:40: xfer Thread 3: starting\n",
      "16:16:40: sending https://sentinel-cogs.s3.us-west-2.amazonaws.com/sentinel-s2-l2a-cogs/23/K/PR/2020/12/S2A_23KPR_20201229_0_L2A/B04.tif\n",
      "16:16:40: xfer Thread 4: starting\n",
      "16:16:40: xfer Thread 5: starting\n",
      "16:16:40: sending https://sentinel-cogs.s3.us-west-2.amazonaws.com/sentinel-s2-l2a-cogs/23/K/PR/2020/12/S2A_23KPR_20201219_0_L2A/B04.tif\n",
      "16:16:40: xfer Thread 7: starting\n",
      "16:16:40: sending https://sentinel-cogs.s3.us-west-2.amazonaws.com/sentinel-s2-l2a-cogs/23/K/NR/2020/12/S2B_23KNR_20201224_0_L2A/B04.tif\n",
      "16:16:40: xfer Thread 8: starting\n",
      "16:16:40: sending https://sentinel-cogs.s3.us-west-2.amazonaws.com/sentinel-s2-l2a-cogs/23/K/NR/2020/12/S2A_23KNR_20201209_0_L2A/B04.tif\n",
      "16:16:40: sending https://sentinel-cogs.s3.us-west-2.amazonaws.com/sentinel-s2-l2a-cogs/23/K/PR/2020/12/S2B_23KPR_20201224_0_L2A/B04.tif\n",
      "16:16:40: xfer Thread 10: starting\n",
      "16:16:40: xfer Thread 11: starting\n",
      "16:16:40: xfer Thread 12: starting\n",
      "16:16:40: sending https://sentinel-cogs.s3.us-west-2.amazonaws.com/sentinel-s2-l2a-cogs/23/K/NR/2020/12/S2A_23KNR_20201219_0_L2A/B04.tif\n",
      "16:16:40: xfer Thread 13: starting\n",
      "16:16:40: xfer Thread 14: starting\n",
      "16:16:40: Initial Threads executor: strted - i think i am waiting before any others\n",
      "16:16:40: xfer Thread 6: starting\n",
      "16:16:40: sending https://sentinel-cogs.s3.us-west-2.amazonaws.com/sentinel-s2-l2a-cogs/23/K/NR/2020/12/S2B_23KNR_20201214_0_L2A/B04.tif\n",
      "16:16:40: xfer Thread 9: starting\n",
      "16:16:40: sending https://sentinel-cogs.s3.us-west-2.amazonaws.com/sentinel-s2-l2a-cogs/23/K/PR/2020/12/S2A_23KPR_20201209_0_L2A/B04.tif\n",
      "16:16:40: sending https://sentinel-cogs.s3.us-west-2.amazonaws.com/sentinel-s2-l2a-cogs/23/K/PR/2020/12/S2B_23KPR_20201204_0_L2A/B04.tif\n",
      "16:16:40: sending https://sentinel-cogs.s3.us-west-2.amazonaws.com/sentinel-s2-l2a-cogs/23/K/NR/2020/11/S2A_23KNR_20201129_0_L2A/B04.tif\n",
      "16:16:40: sending https://sentinel-cogs.s3.us-west-2.amazonaws.com/sentinel-s2-l2a-cogs/23/K/PR/2020/11/S2A_23KPR_20201129_0_L2A/B04.tif\n",
      "16:16:40: sending https://sentinel-cogs.s3.us-west-2.amazonaws.com/sentinel-s2-l2a-cogs/23/K/NR/2020/11/S2B_23KNR_20201124_0_L2A/B04.tif\n",
      "16:16:40: sending https://sentinel-cogs.s3.us-west-2.amazonaws.com/sentinel-s2-l2a-cogs/23/K/PR/2020/12/S2B_23KPR_20201214_0_L2A/B04.tif\n",
      "16:16:40: sending https://sentinel-cogs.s3.us-west-2.amazonaws.com/sentinel-s2-l2a-cogs/23/K/NR/2020/12/S2B_23KNR_20201204_0_L2A/B04.tif\n"
     ]
    },
    {
     "name": "stdout",
     "output_type": "stream",
     "text": [
      "wget this: %s https://sentinel-cogs.s3.us-west-2.amazonaws.com/sentinel-s2-l2a-cogs/23/K/NR/2020/12/S2A_23KNR_20201229_0_L2A/B04.tif\n",
      "wget -nv -O- https://sentinel-cogs.s3.us-west-2.amazonaws.com/sentinel-s2-l2a-cogs/23/K/NR/2020/12/S2A_23KNR_20201229_0_L2A/B04.tif | aws s3 cp - s3://dev-et-data/usmart/RIO/sentinel-s2-l2a-cogs/\n",
      "S2A_23KNR_20201229_0_L2A_B04.tif\n",
      "wget -nv -O- https://sentinel-cogs.s3.us-west-2.amazonaws.com/sentinel-s2-l2a-cogs/23/K/NR/2020/12/S2A_23KNR_20201229_0_L2A/B04.tif | aws s3 cp - s3://dev-et-data/usmart/RIO/sentinel-s2-l2a-cogs/S2A_23KNR_20201229_0_L2A_B04.tif\n",
      "wget this: %s https://sentinel-cogs.s3.us-west-2.amazonaws.com/sentinel-s2-l2a-cogs/23/K/PR/2020/12/S2A_23KPR_20201229_0_L2A/B04.tif\n",
      "wget -nv -O- https://sentinel-cogs.s3.us-west-2.amazonaws.com/sentinel-s2-l2a-cogs/23/K/PR/2020/12/S2A_23KPR_20201229_0_L2A/B04.tif | aws s3 cp - s3://dev-et-data/usmart/RIO/sentinel-s2-l2a-cogs/\n",
      "S2A_23KPR_20201229_0_L2A_B04.tif\n",
      "wget -nv -O- https://sentinel-cogs.s3.us-west-2.amazonaws.com/sentinel-s2-l2a-cogs/23/K/PR/2020/12/S2A_23KPR_20201229_0_L2A/B04.tif | aws s3 cp - s3://dev-et-data/usmart/RIO/sentinel-s2-l2a-cogs/S2A_23KPR_20201229_0_L2A_B04.tif\n",
      "wget this: %s https://sentinel-cogs.s3.us-west-2.amazonaws.com/sentinel-s2-l2a-cogs/23/K/PR/2020/12/S2A_23KPR_20201219_0_L2A/B04.tif\n",
      "wget -nv -O- https://sentinel-cogs.s3.us-west-2.amazonaws.com/sentinel-s2-l2a-cogs/23/K/PR/2020/12/S2A_23KPR_20201219_0_L2A/B04.tif | aws s3 cp - s3://dev-et-data/usmart/RIO/sentinel-s2-l2a-cogs/\n",
      "S2A_23KPR_20201219_0_L2A_B04.tif\n",
      "wget -nv -O- https://sentinel-cogs.s3.us-west-2.amazonaws.com/sentinel-s2-l2a-cogs/23/K/PR/2020/12/S2A_23KPR_20201219_0_L2A/B04.tif | aws s3 cp - s3://dev-et-data/usmart/RIO/sentinel-s2-l2a-cogs/S2A_23KPR_20201219_0_L2A_B04.tif\n",
      "wget this: %s https://sentinel-cogs.s3.us-west-2.amazonaws.com/sentinel-s2-l2a-cogs/23/K/NR/2020/12/S2B_23KNR_20201224_0_L2A/B04.tif\n",
      "wget -nv -O- https://sentinel-cogs.s3.us-west-2.amazonaws.com/sentinel-s2-l2a-cogs/23/K/NR/2020/12/S2B_23KNR_20201224_0_L2A/B04.tif | aws s3 cp - s3://dev-et-data/usmart/RIO/sentinel-s2-l2a-cogs/\n",
      "S2B_23KNR_20201224_0_L2A_B04.tif\n",
      "wget -nv -O- https://sentinel-cogs.s3.us-west-2.amazonaws.com/sentinel-s2-l2a-cogs/23/K/NR/2020/12/S2B_23KNR_20201224_0_L2A/B04.tif | aws s3 cp - s3://dev-et-data/usmart/RIO/sentinel-s2-l2a-cogs/S2B_23KNR_20201224_0_L2A_B04.tif\n",
      "wget this: %s https://sentinel-cogs.s3.us-west-2.amazonaws.com/sentinel-s2-l2a-cogs/23/K/NR/2020/12/S2A_23KNR_20201209_0_L2A/B04.tif\n",
      "wget -nv -O- https://sentinel-cogs.s3.us-west-2.amazonaws.com/sentinel-s2-l2a-cogs/23/K/NR/2020/12/S2A_23KNR_20201209_0_L2A/B04.tif | aws s3 cp - s3://dev-et-data/usmart/RIO/sentinel-s2-l2a-cogs/\n",
      "S2A_23KNR_20201209_0_L2A_B04.tif\n",
      "wget -nv -O- https://sentinel-cogs.s3.us-west-2.amazonaws.com/sentinel-s2-l2a-cogs/23/K/NR/2020/12/S2A_23KNR_20201209_0_L2A/B04.tif | aws s3 cp - s3://dev-et-data/usmart/RIO/sentinel-s2-l2a-cogs/S2A_23KNR_20201209_0_L2A_B04.tif\n",
      "wget this: %s https://sentinel-cogs.s3.us-west-2.amazonaws.com/sentinel-s2-l2a-cogs/23/K/PR/2020/12/S2B_23KPR_20201224_0_L2A/B04.tif\n",
      "wget -nv -O- https://sentinel-cogs.s3.us-west-2.amazonaws.com/sentinel-s2-l2a-cogs/23/K/PR/2020/12/S2B_23KPR_20201224_0_L2A/B04.tif | aws s3 cp - s3://dev-et-data/usmart/RIO/sentinel-s2-l2a-cogs/\n",
      "S2B_23KPR_20201224_0_L2A_B04.tif\n",
      "wget -nv -O- https://sentinel-cogs.s3.us-west-2.amazonaws.com/sentinel-s2-l2a-cogs/23/K/PR/2020/12/S2B_23KPR_20201224_0_L2A/B04.tif | aws s3 cp - s3://dev-et-data/usmart/RIO/sentinel-s2-l2a-cogs/S2B_23KPR_20201224_0_L2A_B04.tif\n",
      "wget this: %s https://sentinel-cogs.s3.us-west-2.amazonaws.com/sentinel-s2-l2a-cogs/23/K/NR/2020/12/S2A_23KNR_20201219_0_L2A/B04.tif\n",
      "wget -nv -O- https://sentinel-cogs.s3.us-west-2.amazonaws.com/sentinel-s2-l2a-cogs/23/K/NR/2020/12/S2A_23KNR_20201219_0_L2A/B04.tif | aws s3 cp - s3://dev-et-data/usmart/RIO/sentinel-s2-l2a-cogs/\n",
      "S2A_23KNR_20201219_0_L2A_B04.tif\n",
      "wget -nv -O- https://sentinel-cogs.s3.us-west-2.amazonaws.com/sentinel-s2-l2a-cogs/23/K/NR/2020/12/S2A_23KNR_20201219_0_L2A/B04.tif | aws s3 cp - s3://dev-et-data/usmart/RIO/sentinel-s2-l2a-cogs/S2A_23KNR_20201219_0_L2A_B04.tif\n",
      "wget this: %s https://sentinel-cogs.s3.us-west-2.amazonaws.com/sentinel-s2-l2a-cogs/23/K/NR/2020/12/S2B_23KNR_20201214_0_L2A/B04.tif\n",
      "wget -nv -O- https://sentinel-cogs.s3.us-west-2.amazonaws.com/sentinel-s2-l2a-cogs/23/K/NR/2020/12/S2B_23KNR_20201214_0_L2A/B04.tif | aws s3 cp - s3://dev-et-data/usmart/RIO/sentinel-s2-l2a-cogs/\n",
      "S2B_23KNR_20201214_0_L2A_B04.tif\n",
      "wget -nv -O- https://sentinel-cogs.s3.us-west-2.amazonaws.com/sentinel-s2-l2a-cogs/23/K/NR/2020/12/S2B_23KNR_20201214_0_L2A/B04.tif | aws s3 cp - s3://dev-et-data/usmart/RIO/sentinel-s2-l2a-cogs/S2B_23KNR_20201214_0_L2A_B04.tif\n",
      "wget this: %s https://sentinel-cogs.s3.us-west-2.amazonaws.com/sentinel-s2-l2a-cogs/23/K/PR/2020/12/S2A_23KPR_20201209_0_L2A/B04.tif\n",
      "wget -nv -O- https://sentinel-cogs.s3.us-west-2.amazonaws.com/sentinel-s2-l2a-cogs/23/K/PR/2020/12/S2A_23KPR_20201209_0_L2A/B04.tif | aws s3 cp - s3://dev-et-data/usmart/RIO/sentinel-s2-l2a-cogs/\n",
      "S2A_23KPR_20201209_0_L2A_B04.tif\n",
      "wget -nv -O- https://sentinel-cogs.s3.us-west-2.amazonaws.com/sentinel-s2-l2a-cogs/23/K/PR/2020/12/S2A_23KPR_20201209_0_L2A/B04.tif | aws s3 cp - s3://dev-et-data/usmart/RIO/sentinel-s2-l2a-cogs/S2A_23KPR_20201209_0_L2A_B04.tif\n",
      "wget this: %s https://sentinel-cogs.s3.us-west-2.amazonaws.com/sentinel-s2-l2a-cogs/23/K/PR/2020/12/S2B_23KPR_20201204_0_L2A/B04.tif\n",
      "wget -nv -O- https://sentinel-cogs.s3.us-west-2.amazonaws.com/sentinel-s2-l2a-cogs/23/K/PR/2020/12/S2B_23KPR_20201204_0_L2A/B04.tif | aws s3 cp - s3://dev-et-data/usmart/RIO/sentinel-s2-l2a-cogs/\n",
      "S2B_23KPR_20201204_0_L2A_B04.tif\n",
      "wget -nv -O- https://sentinel-cogs.s3.us-west-2.amazonaws.com/sentinel-s2-l2a-cogs/23/K/PR/2020/12/S2B_23KPR_20201204_0_L2A/B04.tif | aws s3 cp - s3://dev-et-data/usmart/RIO/sentinel-s2-l2a-cogs/S2B_23KPR_20201204_0_L2A_B04.tif\n",
      "wget this: %s https://sentinel-cogs.s3.us-west-2.amazonaws.com/sentinel-s2-l2a-cogs/23/K/NR/2020/11/S2A_23KNR_20201129_0_L2A/B04.tif\n",
      "wget -nv -O- https://sentinel-cogs.s3.us-west-2.amazonaws.com/sentinel-s2-l2a-cogs/23/K/NR/2020/11/S2A_23KNR_20201129_0_L2A/B04.tif | aws s3 cp - s3://dev-et-data/usmart/RIO/sentinel-s2-l2a-cogs/\n",
      "S2A_23KNR_20201129_0_L2A_B04.tif\n",
      "wget -nv -O- https://sentinel-cogs.s3.us-west-2.amazonaws.com/sentinel-s2-l2a-cogs/23/K/NR/2020/11/S2A_23KNR_20201129_0_L2A/B04.tif | aws s3 cp - s3://dev-et-data/usmart/RIO/sentinel-s2-l2a-cogs/S2A_23KNR_20201129_0_L2A_B04.tif\n",
      "wget this: %s https://sentinel-cogs.s3.us-west-2.amazonaws.com/sentinel-s2-l2a-cogs/23/K/PR/2020/11/S2A_23KPR_20201129_0_L2A/B04.tif\n",
      "wget -nv -O- https://sentinel-cogs.s3.us-west-2.amazonaws.com/sentinel-s2-l2a-cogs/23/K/PR/2020/11/S2A_23KPR_20201129_0_L2A/B04.tif | aws s3 cp - s3://dev-et-data/usmart/RIO/sentinel-s2-l2a-cogs/\n",
      "S2A_23KPR_20201129_0_L2A_B04.tif\n",
      "wget -nv -O- https://sentinel-cogs.s3.us-west-2.amazonaws.com/sentinel-s2-l2a-cogs/23/K/PR/2020/11/S2A_23KPR_20201129_0_L2A/B04.tif | aws s3 cp - s3://dev-et-data/usmart/RIO/sentinel-s2-l2a-cogs/S2A_23KPR_20201129_0_L2A_B04.tif\n",
      "wget this: %s https://sentinel-cogs.s3.us-west-2.amazonaws.com/sentinel-s2-l2a-cogs/23/K/NR/2020/11/S2B_23KNR_20201124_0_L2A/B04.tif\n",
      "wget -nv -O- https://sentinel-cogs.s3.us-west-2.amazonaws.com/sentinel-s2-l2a-cogs/23/K/NR/2020/11/S2B_23KNR_20201124_0_L2A/B04.tif | aws s3 cp - s3://dev-et-data/usmart/RIO/sentinel-s2-l2a-cogs/\n",
      "S2B_23KNR_20201124_0_L2A_B04.tif\n",
      "wget -nv -O- https://sentinel-cogs.s3.us-west-2.amazonaws.com/sentinel-s2-l2a-cogs/23/K/NR/2020/11/S2B_23KNR_20201124_0_L2A/B04.tif | aws s3 cp - s3://dev-et-data/usmart/RIO/sentinel-s2-l2a-cogs/S2B_23KNR_20201124_0_L2A_B04.tif\n",
      "wget this: %s https://sentinel-cogs.s3.us-west-2.amazonaws.com/sentinel-s2-l2a-cogs/23/K/PR/2020/12/S2B_23KPR_20201214_0_L2A/B04.tif\n",
      "wget -nv -O- https://sentinel-cogs.s3.us-west-2.amazonaws.com/sentinel-s2-l2a-cogs/23/K/PR/2020/12/S2B_23KPR_20201214_0_L2A/B04.tif | aws s3 cp - s3://dev-et-data/usmart/RIO/sentinel-s2-l2a-cogs/\n",
      "S2B_23KPR_20201214_0_L2A_B04.tif\n",
      "wget -nv -O- https://sentinel-cogs.s3.us-west-2.amazonaws.com/sentinel-s2-l2a-cogs/23/K/PR/2020/12/S2B_23KPR_20201214_0_L2A/B04.tif | aws s3 cp - s3://dev-et-data/usmart/RIO/sentinel-s2-l2a-cogs/S2B_23KPR_20201214_0_L2A_B04.tif\n",
      "wget this: %s https://sentinel-cogs.s3.us-west-2.amazonaws.com/sentinel-s2-l2a-cogs/23/K/NR/2020/12/S2B_23KNR_20201204_0_L2A/B04.tif\n",
      "wget -nv -O- https://sentinel-cogs.s3.us-west-2.amazonaws.com/sentinel-s2-l2a-cogs/23/K/NR/2020/12/S2B_23KNR_20201204_0_L2A/B04.tif | aws s3 cp - s3://dev-et-data/usmart/RIO/sentinel-s2-l2a-cogs/\n",
      "S2B_23KNR_20201204_0_L2A_B04.tif\n",
      "wget -nv -O- https://sentinel-cogs.s3.us-west-2.amazonaws.com/sentinel-s2-l2a-cogs/23/K/NR/2020/12/S2B_23KNR_20201204_0_L2A/B04.tif | aws s3 cp - s3://dev-et-data/usmart/RIO/sentinel-s2-l2a-cogs/S2B_23KNR_20201204_0_L2A_B04.tif\n"
     ]
    },
    {
     "name": "stderr",
     "output_type": "stream",
     "text": [
      "2021-09-13 16:16:44 URL:https://sentinel-cogs.s3.us-west-2.amazonaws.com/sentinel-s2-l2a-cogs/23/K/NR/2020/12/S2B_23KNR_20201224_0_L2A/B04.tif [80015575/80015575] -> \"-\" [1]\n",
      "2021-09-13 16:16:45 URL:https://sentinel-cogs.s3.us-west-2.amazonaws.com/sentinel-s2-l2a-cogs/23/K/NR/2020/12/S2A_23KNR_20201229_0_L2A/B04.tif [101386453/101386453] -> \"-\" [1]\n",
      "16:16:46: sending https://sentinel-cogs.s3.us-west-2.amazonaws.com/sentinel-s2-l2a-cogs/23/K/NR/2020/12/S2B_23KNR_20201224_0_L2A/B03.tif\n"
     ]
    },
    {
     "name": "stdout",
     "output_type": "stream",
     "text": [
      "\n",
      "\n",
      "wget this: %s https://sentinel-cogs.s3.us-west-2.amazonaws.com/sentinel-s2-l2a-cogs/23/K/NR/2020/12/S2B_23KNR_20201224_0_L2A/B03.tif\n",
      "wget -nv -O- https://sentinel-cogs.s3.us-west-2.amazonaws.com/sentinel-s2-l2a-cogs/23/K/NR/2020/12/S2B_23KNR_20201224_0_L2A/B03.tif | aws s3 cp - s3://dev-et-data/usmart/RIO/sentinel-s2-l2a-cogs/\n",
      "S2B_23KNR_20201224_0_L2A_B03.tif\n",
      "wget -nv -O- https://sentinel-cogs.s3.us-west-2.amazonaws.com/sentinel-s2-l2a-cogs/23/K/NR/2020/12/S2B_23KNR_20201224_0_L2A/B03.tif | aws s3 cp - s3://dev-et-data/usmart/RIO/sentinel-s2-l2a-cogs/S2B_23KNR_20201224_0_L2A_B03.tif\n"
     ]
    },
    {
     "name": "stderr",
     "output_type": "stream",
     "text": [
      "16:16:46: sending https://sentinel-cogs.s3.us-west-2.amazonaws.com/sentinel-s2-l2a-cogs/23/K/NR/2020/12/S2A_23KNR_20201229_0_L2A/B03.tif\n"
     ]
    },
    {
     "name": "stdout",
     "output_type": "stream",
     "text": [
      "\n",
      "\n",
      "wget this: %s https://sentinel-cogs.s3.us-west-2.amazonaws.com/sentinel-s2-l2a-cogs/23/K/NR/2020/12/S2A_23KNR_20201229_0_L2A/B03.tif\n",
      "wget -nv -O- https://sentinel-cogs.s3.us-west-2.amazonaws.com/sentinel-s2-l2a-cogs/23/K/NR/2020/12/S2A_23KNR_20201229_0_L2A/B03.tif | aws s3 cp - s3://dev-et-data/usmart/RIO/sentinel-s2-l2a-cogs/\n",
      "S2A_23KNR_20201229_0_L2A_B03.tif\n",
      "wget -nv -O- https://sentinel-cogs.s3.us-west-2.amazonaws.com/sentinel-s2-l2a-cogs/23/K/NR/2020/12/S2A_23KNR_20201229_0_L2A/B03.tif | aws s3 cp - s3://dev-et-data/usmart/RIO/sentinel-s2-l2a-cogs/S2A_23KNR_20201229_0_L2A_B03.tif\n"
     ]
    },
    {
     "name": "stderr",
     "output_type": "stream",
     "text": [
      "2021-09-13 16:16:47 URL:https://sentinel-cogs.s3.us-west-2.amazonaws.com/sentinel-s2-l2a-cogs/23/K/NR/2020/12/S2A_23KNR_20201209_0_L2A/B04.tif [76911300/76911300] -> \"-\" [1]\n",
      "2021-09-13 16:16:47 URL:https://sentinel-cogs.s3.us-west-2.amazonaws.com/sentinel-s2-l2a-cogs/23/K/NR/2020/11/S2B_23KNR_20201124_0_L2A/B04.tif [131738198/131738198] -> \"-\" [1]\n",
      "2021-09-13 16:16:47 URL:https://sentinel-cogs.s3.us-west-2.amazonaws.com/sentinel-s2-l2a-cogs/23/K/NR/2020/12/S2B_23KNR_20201204_0_L2A/B04.tif [122903194/122903194] -> \"-\" [1]\n",
      "2021-09-13 16:16:47 URL:https://sentinel-cogs.s3.us-west-2.amazonaws.com/sentinel-s2-l2a-cogs/23/K/PR/2020/12/S2B_23KPR_20201224_0_L2A/B04.tif [137802827/137802827] -> \"-\" [1]\n",
      "2021-09-13 16:16:48 URL:https://sentinel-cogs.s3.us-west-2.amazonaws.com/sentinel-s2-l2a-cogs/23/K/NR/2020/11/S2A_23KNR_20201129_0_L2A/B04.tif [131651514/131651514] -> \"-\" [1]\n",
      "16:16:48: sending https://sentinel-cogs.s3.us-west-2.amazonaws.com/sentinel-s2-l2a-cogs/23/K/NR/2020/11/S2B_23KNR_20201124_0_L2A/B03.tif\n",
      "2021-09-13 16:16:48 URL:https://sentinel-cogs.s3.us-west-2.amazonaws.com/sentinel-s2-l2a-cogs/23/K/NR/2020/12/S2B_23KNR_20201214_0_L2A/B04.tif [119016062/119016062] -> \"-\" [1]\n",
      "16:16:48: sending https://sentinel-cogs.s3.us-west-2.amazonaws.com/sentinel-s2-l2a-cogs/23/K/NR/2020/12/S2A_23KNR_20201209_0_L2A/B03.tif\n",
      "2021-09-13 16:16:48 URL:https://sentinel-cogs.s3.us-west-2.amazonaws.com/sentinel-s2-l2a-cogs/23/K/PR/2020/12/S2A_23KPR_20201229_0_L2A/B04.tif [201317517/201317517] -> \"-\" [1]\n"
     ]
    },
    {
     "name": "stdout",
     "output_type": "stream",
     "text": [
      "\n",
      "\n",
      "wget this: %s https://sentinel-cogs.s3.us-west-2.amazonaws.com/sentinel-s2-l2a-cogs/23/K/NR/2020/11/S2B_23KNR_20201124_0_L2A/B03.tif\n",
      "wget -nv -O- https://sentinel-cogs.s3.us-west-2.amazonaws.com/sentinel-s2-l2a-cogs/23/K/NR/2020/11/S2B_23KNR_20201124_0_L2A/B03.tif | aws s3 cp - s3://dev-et-data/usmart/RIO/sentinel-s2-l2a-cogs/\n",
      "S2B_23KNR_20201124_0_L2A_B03.tif\n",
      "wget -nv -O- https://sentinel-cogs.s3.us-west-2.amazonaws.com/sentinel-s2-l2a-cogs/23/K/NR/2020/11/S2B_23KNR_20201124_0_L2A/B03.tif | aws s3 cp - s3://dev-et-data/usmart/RIO/sentinel-s2-l2a-cogs/S2B_23KNR_20201124_0_L2A_B03.tif\n",
      "\n",
      "\n",
      "wget this: %s https://sentinel-cogs.s3.us-west-2.amazonaws.com/sentinel-s2-l2a-cogs/23/K/NR/2020/12/S2A_23KNR_20201209_0_L2A/B03.tif\n",
      "wget -nv -O- https://sentinel-cogs.s3.us-west-2.amazonaws.com/sentinel-s2-l2a-cogs/23/K/NR/2020/12/S2A_23KNR_20201209_0_L2A/B03.tif | aws s3 cp - s3://dev-et-data/usmart/RIO/sentinel-s2-l2a-cogs/\n",
      "S2A_23KNR_20201209_0_L2A_B03.tif\n",
      "wget -nv -O- https://sentinel-cogs.s3.us-west-2.amazonaws.com/sentinel-s2-l2a-cogs/23/K/NR/2020/12/S2A_23KNR_20201209_0_L2A/B03.tif | aws s3 cp - s3://dev-et-data/usmart/RIO/sentinel-s2-l2a-cogs/S2A_23KNR_20201209_0_L2A_B03.tif\n"
     ]
    },
    {
     "name": "stderr",
     "output_type": "stream",
     "text": [
      "2021-09-13 16:16:48 URL:https://sentinel-cogs.s3.us-west-2.amazonaws.com/sentinel-s2-l2a-cogs/23/K/NR/2020/12/S2A_23KNR_20201219_0_L2A/B04.tif [124547565/124547565] -> \"-\" [1]\n",
      "16:16:48: sending https://sentinel-cogs.s3.us-west-2.amazonaws.com/sentinel-s2-l2a-cogs/23/K/NR/2020/12/S2B_23KNR_20201204_0_L2A/B03.tif\n",
      "16:16:48: sending https://sentinel-cogs.s3.us-west-2.amazonaws.com/sentinel-s2-l2a-cogs/23/K/PR/2020/12/S2B_23KPR_20201224_0_L2A/B03.tif\n"
     ]
    },
    {
     "name": "stdout",
     "output_type": "stream",
     "text": [
      "\n",
      "\n",
      "wget this: %s https://sentinel-cogs.s3.us-west-2.amazonaws.com/sentinel-s2-l2a-cogs/23/K/NR/2020/12/S2B_23KNR_20201204_0_L2A/B03.tif\n",
      "wget -nv -O- https://sentinel-cogs.s3.us-west-2.amazonaws.com/sentinel-s2-l2a-cogs/23/K/NR/2020/12/S2B_23KNR_20201204_0_L2A/B03.tif | aws s3 cp - s3://dev-et-data/usmart/RIO/sentinel-s2-l2a-cogs/\n",
      "S2B_23KNR_20201204_0_L2A_B03.tif\n",
      "wget -nv -O- https://sentinel-cogs.s3.us-west-2.amazonaws.com/sentinel-s2-l2a-cogs/23/K/NR/2020/12/S2B_23KNR_20201204_0_L2A/B03.tif | aws s3 cp - s3://dev-et-data/usmart/RIO/sentinel-s2-l2a-cogs/S2B_23KNR_20201204_0_L2A_B03.tif\n",
      "\n",
      "\n",
      "wget this: %s https://sentinel-cogs.s3.us-west-2.amazonaws.com/sentinel-s2-l2a-cogs/23/K/PR/2020/12/S2B_23KPR_20201224_0_L2A/B03.tif\n",
      "wget -nv -O- https://sentinel-cogs.s3.us-west-2.amazonaws.com/sentinel-s2-l2a-cogs/23/K/PR/2020/12/S2B_23KPR_20201224_0_L2A/B03.tif | aws s3 cp - s3://dev-et-data/usmart/RIO/sentinel-s2-l2a-cogs/\n",
      "S2B_23KPR_20201224_0_L2A_B03.tif\n",
      "wget -nv -O- https://sentinel-cogs.s3.us-west-2.amazonaws.com/sentinel-s2-l2a-cogs/23/K/PR/2020/12/S2B_23KPR_20201224_0_L2A/B03.tif | aws s3 cp - s3://dev-et-data/usmart/RIO/sentinel-s2-l2a-cogs/S2B_23KPR_20201224_0_L2A_B03.tif\n"
     ]
    },
    {
     "name": "stderr",
     "output_type": "stream",
     "text": [
      "16:16:49: sending https://sentinel-cogs.s3.us-west-2.amazonaws.com/sentinel-s2-l2a-cogs/23/K/NR/2020/11/S2A_23KNR_20201129_0_L2A/B03.tif\n",
      "2021-09-13 16:16:49 URL:https://sentinel-cogs.s3.us-west-2.amazonaws.com/sentinel-s2-l2a-cogs/23/K/PR/2020/12/S2B_23KPR_20201214_0_L2A/B04.tif [213709719/213709719] -> \"-\" [1]\n",
      "16:16:49: sending https://sentinel-cogs.s3.us-west-2.amazonaws.com/sentinel-s2-l2a-cogs/23/K/NR/2020/12/S2B_23KNR_20201214_0_L2A/B03.tif\n"
     ]
    },
    {
     "name": "stdout",
     "output_type": "stream",
     "text": [
      "\n",
      "\n",
      "wget this: %s https://sentinel-cogs.s3.us-west-2.amazonaws.com/sentinel-s2-l2a-cogs/23/K/NR/2020/11/S2A_23KNR_20201129_0_L2A/B03.tif\n",
      "wget -nv -O- https://sentinel-cogs.s3.us-west-2.amazonaws.com/sentinel-s2-l2a-cogs/23/K/NR/2020/11/S2A_23KNR_20201129_0_L2A/B03.tif | aws s3 cp - s3://dev-et-data/usmart/RIO/sentinel-s2-l2a-cogs/\n",
      "S2A_23KNR_20201129_0_L2A_B03.tif\n",
      "wget -nv -O- https://sentinel-cogs.s3.us-west-2.amazonaws.com/sentinel-s2-l2a-cogs/23/K/NR/2020/11/S2A_23KNR_20201129_0_L2A/B03.tif | aws s3 cp - s3://dev-et-data/usmart/RIO/sentinel-s2-l2a-cogs/S2A_23KNR_20201129_0_L2A_B03.tif\n",
      "\n",
      "\n",
      "wget this: %s https://sentinel-cogs.s3.us-west-2.amazonaws.com/sentinel-s2-l2a-cogs/23/K/NR/2020/12/S2B_23KNR_20201214_0_L2A/B03.tif\n",
      "wget -nv -O- https://sentinel-cogs.s3.us-west-2.amazonaws.com/sentinel-s2-l2a-cogs/23/K/NR/2020/12/S2B_23KNR_20201214_0_L2A/B03.tif | aws s3 cp - s3://dev-et-data/usmart/RIO/sentinel-s2-l2a-cogs/\n",
      "S2B_23KNR_20201214_0_L2A_B03.tif\n",
      "wget -nv -O- https://sentinel-cogs.s3.us-west-2.amazonaws.com/sentinel-s2-l2a-cogs/23/K/NR/2020/12/S2B_23KNR_20201214_0_L2A/B03.tif | aws s3 cp - s3://dev-et-data/usmart/RIO/sentinel-s2-l2a-cogs/S2B_23KNR_20201214_0_L2A_B03.tif\n"
     ]
    },
    {
     "name": "stderr",
     "output_type": "stream",
     "text": [
      "2021-09-13 16:16:49 URL:https://sentinel-cogs.s3.us-west-2.amazonaws.com/sentinel-s2-l2a-cogs/23/K/PR/2020/12/S2A_23KPR_20201209_0_L2A/B04.tif [146579692/146579692] -> \"-\" [1]\n",
      "16:16:49: sending https://sentinel-cogs.s3.us-west-2.amazonaws.com/sentinel-s2-l2a-cogs/23/K/PR/2020/12/S2A_23KPR_20201229_0_L2A/B03.tif\n",
      "16:16:49: sending https://sentinel-cogs.s3.us-west-2.amazonaws.com/sentinel-s2-l2a-cogs/23/K/NR/2020/12/S2A_23KNR_20201219_0_L2A/B03.tif\n"
     ]
    },
    {
     "name": "stdout",
     "output_type": "stream",
     "text": [
      "\n",
      "\n",
      "wget this: %s https://sentinel-cogs.s3.us-west-2.amazonaws.com/sentinel-s2-l2a-cogs/23/K/PR/2020/12/S2A_23KPR_20201229_0_L2A/B03.tif\n",
      "wget -nv -O- https://sentinel-cogs.s3.us-west-2.amazonaws.com/sentinel-s2-l2a-cogs/23/K/PR/2020/12/S2A_23KPR_20201229_0_L2A/B03.tif | aws s3 cp - s3://dev-et-data/usmart/RIO/sentinel-s2-l2a-cogs/\n",
      "S2A_23KPR_20201229_0_L2A_B03.tif\n",
      "wget -nv -O- https://sentinel-cogs.s3.us-west-2.amazonaws.com/sentinel-s2-l2a-cogs/23/K/PR/2020/12/S2A_23KPR_20201229_0_L2A/B03.tif | aws s3 cp - s3://dev-et-data/usmart/RIO/sentinel-s2-l2a-cogs/S2A_23KPR_20201229_0_L2A_B03.tif\n",
      "\n",
      "\n",
      "wget this: %s https://sentinel-cogs.s3.us-west-2.amazonaws.com/sentinel-s2-l2a-cogs/23/K/NR/2020/12/S2A_23KNR_20201219_0_L2A/B03.tif\n",
      "wget -nv -O- https://sentinel-cogs.s3.us-west-2.amazonaws.com/sentinel-s2-l2a-cogs/23/K/NR/2020/12/S2A_23KNR_20201219_0_L2A/B03.tif | aws s3 cp - s3://dev-et-data/usmart/RIO/sentinel-s2-l2a-cogs/\n",
      "S2A_23KNR_20201219_0_L2A_B03.tif\n",
      "wget -nv -O- https://sentinel-cogs.s3.us-west-2.amazonaws.com/sentinel-s2-l2a-cogs/23/K/NR/2020/12/S2A_23KNR_20201219_0_L2A/B03.tif | aws s3 cp - s3://dev-et-data/usmart/RIO/sentinel-s2-l2a-cogs/S2A_23KNR_20201219_0_L2A_B03.tif\n"
     ]
    },
    {
     "name": "stderr",
     "output_type": "stream",
     "text": [
      "2021-09-13 16:16:49 URL:https://sentinel-cogs.s3.us-west-2.amazonaws.com/sentinel-s2-l2a-cogs/23/K/PR/2020/12/S2A_23KPR_20201219_0_L2A/B04.tif [223435979/223435979] -> \"-\" [1]\n",
      "16:16:49: sending https://sentinel-cogs.s3.us-west-2.amazonaws.com/sentinel-s2-l2a-cogs/23/K/PR/2020/12/S2B_23KPR_20201214_0_L2A/B03.tif\n",
      "16:16:50: sending https://sentinel-cogs.s3.us-west-2.amazonaws.com/sentinel-s2-l2a-cogs/23/K/PR/2020/12/S2A_23KPR_20201209_0_L2A/B03.tif\n"
     ]
    },
    {
     "name": "stdout",
     "output_type": "stream",
     "text": [
      "\n",
      "\n",
      "wget this: %s https://sentinel-cogs.s3.us-west-2.amazonaws.com/sentinel-s2-l2a-cogs/23/K/PR/2020/12/S2B_23KPR_20201214_0_L2A/B03.tif\n",
      "wget -nv -O- https://sentinel-cogs.s3.us-west-2.amazonaws.com/sentinel-s2-l2a-cogs/23/K/PR/2020/12/S2B_23KPR_20201214_0_L2A/B03.tif | aws s3 cp - s3://dev-et-data/usmart/RIO/sentinel-s2-l2a-cogs/\n",
      "S2B_23KPR_20201214_0_L2A_B03.tif\n",
      "wget -nv -O- https://sentinel-cogs.s3.us-west-2.amazonaws.com/sentinel-s2-l2a-cogs/23/K/PR/2020/12/S2B_23KPR_20201214_0_L2A/B03.tif | aws s3 cp - s3://dev-et-data/usmart/RIO/sentinel-s2-l2a-cogs/S2B_23KPR_20201214_0_L2A_B03.tif\n",
      "\n",
      "\n",
      "wget this: %s https://sentinel-cogs.s3.us-west-2.amazonaws.com/sentinel-s2-l2a-cogs/23/K/PR/2020/12/S2A_23KPR_20201209_0_L2A/B03.tif\n",
      "wget -nv -O- https://sentinel-cogs.s3.us-west-2.amazonaws.com/sentinel-s2-l2a-cogs/23/K/PR/2020/12/S2A_23KPR_20201209_0_L2A/B03.tif | aws s3 cp - s3://dev-et-data/usmart/RIO/sentinel-s2-l2a-cogs/\n",
      "S2A_23KPR_20201209_0_L2A_B03.tif\n",
      "wget -nv -O- https://sentinel-cogs.s3.us-west-2.amazonaws.com/sentinel-s2-l2a-cogs/23/K/PR/2020/12/S2A_23KPR_20201209_0_L2A/B03.tif | aws s3 cp - s3://dev-et-data/usmart/RIO/sentinel-s2-l2a-cogs/S2A_23KPR_20201209_0_L2A_B03.tif\n"
     ]
    },
    {
     "name": "stderr",
     "output_type": "stream",
     "text": [
      "16:16:50: sending https://sentinel-cogs.s3.us-west-2.amazonaws.com/sentinel-s2-l2a-cogs/23/K/PR/2020/12/S2A_23KPR_20201219_0_L2A/B03.tif\n"
     ]
    },
    {
     "name": "stdout",
     "output_type": "stream",
     "text": [
      "\n",
      "\n",
      "wget this: %s https://sentinel-cogs.s3.us-west-2.amazonaws.com/sentinel-s2-l2a-cogs/23/K/PR/2020/12/S2A_23KPR_20201219_0_L2A/B03.tif\n",
      "wget -nv -O- https://sentinel-cogs.s3.us-west-2.amazonaws.com/sentinel-s2-l2a-cogs/23/K/PR/2020/12/S2A_23KPR_20201219_0_L2A/B03.tif | aws s3 cp - s3://dev-et-data/usmart/RIO/sentinel-s2-l2a-cogs/\n",
      "S2A_23KPR_20201219_0_L2A_B03.tif\n",
      "wget -nv -O- https://sentinel-cogs.s3.us-west-2.amazonaws.com/sentinel-s2-l2a-cogs/23/K/PR/2020/12/S2A_23KPR_20201219_0_L2A/B03.tif | aws s3 cp - s3://dev-et-data/usmart/RIO/sentinel-s2-l2a-cogs/S2A_23KPR_20201219_0_L2A_B03.tif\n"
     ]
    },
    {
     "name": "stderr",
     "output_type": "stream",
     "text": [
      "2021-09-13 16:16:50 URL:https://sentinel-cogs.s3.us-west-2.amazonaws.com/sentinel-s2-l2a-cogs/23/K/PR/2020/12/S2B_23KPR_20201204_0_L2A/B04.tif [214214751/214214751] -> \"-\" [1]\n",
      "2021-09-13 16:16:51 URL:https://sentinel-cogs.s3.us-west-2.amazonaws.com/sentinel-s2-l2a-cogs/23/K/PR/2020/11/S2A_23KPR_20201129_0_L2A/B04.tif [232436697/232436697] -> \"-\" [1]\n",
      "16:16:51: sending https://sentinel-cogs.s3.us-west-2.amazonaws.com/sentinel-s2-l2a-cogs/23/K/PR/2020/12/S2B_23KPR_20201204_0_L2A/B03.tif\n"
     ]
    },
    {
     "name": "stdout",
     "output_type": "stream",
     "text": [
      "\n",
      "\n",
      "wget this: %s https://sentinel-cogs.s3.us-west-2.amazonaws.com/sentinel-s2-l2a-cogs/23/K/PR/2020/12/S2B_23KPR_20201204_0_L2A/B03.tif\n",
      "wget -nv -O- https://sentinel-cogs.s3.us-west-2.amazonaws.com/sentinel-s2-l2a-cogs/23/K/PR/2020/12/S2B_23KPR_20201204_0_L2A/B03.tif | aws s3 cp - s3://dev-et-data/usmart/RIO/sentinel-s2-l2a-cogs/\n",
      "S2B_23KPR_20201204_0_L2A_B03.tif\n",
      "wget -nv -O- https://sentinel-cogs.s3.us-west-2.amazonaws.com/sentinel-s2-l2a-cogs/23/K/PR/2020/12/S2B_23KPR_20201204_0_L2A/B03.tif | aws s3 cp - s3://dev-et-data/usmart/RIO/sentinel-s2-l2a-cogs/S2B_23KPR_20201204_0_L2A_B03.tif\n"
     ]
    },
    {
     "name": "stderr",
     "output_type": "stream",
     "text": [
      "16:16:51: sending https://sentinel-cogs.s3.us-west-2.amazonaws.com/sentinel-s2-l2a-cogs/23/K/PR/2020/11/S2A_23KPR_20201129_0_L2A/B03.tif\n"
     ]
    },
    {
     "name": "stdout",
     "output_type": "stream",
     "text": [
      "\n",
      "\n",
      "wget this: %s https://sentinel-cogs.s3.us-west-2.amazonaws.com/sentinel-s2-l2a-cogs/23/K/PR/2020/11/S2A_23KPR_20201129_0_L2A/B03.tif\n",
      "wget -nv -O- https://sentinel-cogs.s3.us-west-2.amazonaws.com/sentinel-s2-l2a-cogs/23/K/PR/2020/11/S2A_23KPR_20201129_0_L2A/B03.tif | aws s3 cp - s3://dev-et-data/usmart/RIO/sentinel-s2-l2a-cogs/\n",
      "S2A_23KPR_20201129_0_L2A_B03.tif\n",
      "wget -nv -O- https://sentinel-cogs.s3.us-west-2.amazonaws.com/sentinel-s2-l2a-cogs/23/K/PR/2020/11/S2A_23KPR_20201129_0_L2A/B03.tif | aws s3 cp - s3://dev-et-data/usmart/RIO/sentinel-s2-l2a-cogs/S2A_23KPR_20201129_0_L2A_B03.tif\n"
     ]
    },
    {
     "name": "stderr",
     "output_type": "stream",
     "text": [
      "2021-09-13 16:16:52 URL:https://sentinel-cogs.s3.us-west-2.amazonaws.com/sentinel-s2-l2a-cogs/23/K/NR/2020/12/S2B_23KNR_20201224_0_L2A/B03.tif [79523742/79523742] -> \"-\" [1]\n",
      "2021-09-13 16:16:52 URL:https://sentinel-cogs.s3.us-west-2.amazonaws.com/sentinel-s2-l2a-cogs/23/K/NR/2020/12/S2A_23KNR_20201209_0_L2A/B03.tif [76751592/76751592] -> \"-\" [1]\n",
      "2021-09-13 16:16:53 URL:https://sentinel-cogs.s3.us-west-2.amazonaws.com/sentinel-s2-l2a-cogs/23/K/NR/2020/12/S2A_23KNR_20201229_0_L2A/B03.tif [101206799/101206799] -> \"-\" [1]\n",
      "16:16:53: sending https://sentinel-cogs.s3.us-west-2.amazonaws.com/sentinel-s2-l2a-cogs/23/K/NR/2020/12/S2A_23KNR_20201209_0_L2A/B02.tif\n"
     ]
    },
    {
     "name": "stdout",
     "output_type": "stream",
     "text": [
      "\n",
      "\n",
      "wget this: %s https://sentinel-cogs.s3.us-west-2.amazonaws.com/sentinel-s2-l2a-cogs/23/K/NR/2020/12/S2A_23KNR_20201209_0_L2A/B02.tif\n",
      "wget -nv -O- https://sentinel-cogs.s3.us-west-2.amazonaws.com/sentinel-s2-l2a-cogs/23/K/NR/2020/12/S2A_23KNR_20201209_0_L2A/B02.tif | aws s3 cp - s3://dev-et-data/usmart/RIO/sentinel-s2-l2a-cogs/\n",
      "S2A_23KNR_20201209_0_L2A_B02.tif\n",
      "wget -nv -O- https://sentinel-cogs.s3.us-west-2.amazonaws.com/sentinel-s2-l2a-cogs/23/K/NR/2020/12/S2A_23KNR_20201209_0_L2A/B02.tif | aws s3 cp - s3://dev-et-data/usmart/RIO/sentinel-s2-l2a-cogs/S2A_23KNR_20201209_0_L2A_B02.tif\n"
     ]
    },
    {
     "name": "stderr",
     "output_type": "stream",
     "text": [
      "16:16:54: sending https://sentinel-cogs.s3.us-west-2.amazonaws.com/sentinel-s2-l2a-cogs/23/K/NR/2020/12/S2A_23KNR_20201229_0_L2A/B02.tif\n"
     ]
    },
    {
     "name": "stdout",
     "output_type": "stream",
     "text": [
      "\n",
      "\n",
      "wget this: %s https://sentinel-cogs.s3.us-west-2.amazonaws.com/sentinel-s2-l2a-cogs/23/K/NR/2020/12/S2A_23KNR_20201229_0_L2A/B02.tif\n",
      "wget -nv -O- https://sentinel-cogs.s3.us-west-2.amazonaws.com/sentinel-s2-l2a-cogs/23/K/NR/2020/12/S2A_23KNR_20201229_0_L2A/B02.tif | aws s3 cp - s3://dev-et-data/usmart/RIO/sentinel-s2-l2a-cogs/\n",
      "S2A_23KNR_20201229_0_L2A_B02.tif\n",
      "wget -nv -O- https://sentinel-cogs.s3.us-west-2.amazonaws.com/sentinel-s2-l2a-cogs/23/K/NR/2020/12/S2A_23KNR_20201229_0_L2A/B02.tif | aws s3 cp - s3://dev-et-data/usmart/RIO/sentinel-s2-l2a-cogs/S2A_23KNR_20201229_0_L2A_B02.tif\n"
     ]
    },
    {
     "name": "stderr",
     "output_type": "stream",
     "text": [
      "16:16:54: sending https://sentinel-cogs.s3.us-west-2.amazonaws.com/sentinel-s2-l2a-cogs/23/K/NR/2020/12/S2B_23KNR_20201224_0_L2A/B02.tif\n"
     ]
    },
    {
     "name": "stdout",
     "output_type": "stream",
     "text": [
      "\n",
      "\n",
      "wget this: %s https://sentinel-cogs.s3.us-west-2.amazonaws.com/sentinel-s2-l2a-cogs/23/K/NR/2020/12/S2B_23KNR_20201224_0_L2A/B02.tif\n",
      "wget -nv -O- https://sentinel-cogs.s3.us-west-2.amazonaws.com/sentinel-s2-l2a-cogs/23/K/NR/2020/12/S2B_23KNR_20201224_0_L2A/B02.tif | aws s3 cp - s3://dev-et-data/usmart/RIO/sentinel-s2-l2a-cogs/\n",
      "S2B_23KNR_20201224_0_L2A_B02.tif\n",
      "wget -nv -O- https://sentinel-cogs.s3.us-west-2.amazonaws.com/sentinel-s2-l2a-cogs/23/K/NR/2020/12/S2B_23KNR_20201224_0_L2A/B02.tif | aws s3 cp - s3://dev-et-data/usmart/RIO/sentinel-s2-l2a-cogs/S2B_23KNR_20201224_0_L2A_B02.tif\n"
     ]
    },
    {
     "name": "stderr",
     "output_type": "stream",
     "text": [
      "2021-09-13 16:16:55 URL:https://sentinel-cogs.s3.us-west-2.amazonaws.com/sentinel-s2-l2a-cogs/23/K/NR/2020/11/S2B_23KNR_20201124_0_L2A/B03.tif [130275328/130275328] -> \"-\" [1]\n",
      "2021-09-13 16:16:55 URL:https://sentinel-cogs.s3.us-west-2.amazonaws.com/sentinel-s2-l2a-cogs/23/K/NR/2020/12/S2B_23KNR_20201204_0_L2A/B03.tif [120209356/120209356] -> \"-\" [1]\n",
      "2021-09-13 16:16:55 URL:https://sentinel-cogs.s3.us-west-2.amazonaws.com/sentinel-s2-l2a-cogs/23/K/NR/2020/12/S2B_23KNR_20201214_0_L2A/B03.tif [116794536/116794536] -> \"-\" [1]\n",
      "16:16:56: sending https://sentinel-cogs.s3.us-west-2.amazonaws.com/sentinel-s2-l2a-cogs/23/K/NR/2020/12/S2B_23KNR_20201204_0_L2A/B02.tif\n",
      "16:16:56: sending https://sentinel-cogs.s3.us-west-2.amazonaws.com/sentinel-s2-l2a-cogs/23/K/NR/2020/11/S2B_23KNR_20201124_0_L2A/B02.tif\n"
     ]
    },
    {
     "name": "stdout",
     "output_type": "stream",
     "text": [
      "\n",
      "\n",
      "wget this: %s https://sentinel-cogs.s3.us-west-2.amazonaws.com/sentinel-s2-l2a-cogs/23/K/NR/2020/12/S2B_23KNR_20201204_0_L2A/B02.tif\n",
      "wget -nv -O- https://sentinel-cogs.s3.us-west-2.amazonaws.com/sentinel-s2-l2a-cogs/23/K/NR/2020/12/S2B_23KNR_20201204_0_L2A/B02.tif | aws s3 cp - s3://dev-et-data/usmart/RIO/sentinel-s2-l2a-cogs/\n",
      "S2B_23KNR_20201204_0_L2A_B02.tif\n",
      "wget -nv -O- https://sentinel-cogs.s3.us-west-2.amazonaws.com/sentinel-s2-l2a-cogs/23/K/NR/2020/12/S2B_23KNR_20201204_0_L2A/B02.tif | aws s3 cp - s3://dev-et-data/usmart/RIO/sentinel-s2-l2a-cogs/S2B_23KNR_20201204_0_L2A_B02.tif\n",
      "\n",
      "\n",
      "wget this: %s https://sentinel-cogs.s3.us-west-2.amazonaws.com/sentinel-s2-l2a-cogs/23/K/NR/2020/11/S2B_23KNR_20201124_0_L2A/B02.tif\n",
      "wget -nv -O- https://sentinel-cogs.s3.us-west-2.amazonaws.com/sentinel-s2-l2a-cogs/23/K/NR/2020/11/S2B_23KNR_20201124_0_L2A/B02.tif | aws s3 cp - s3://dev-et-data/usmart/RIO/sentinel-s2-l2a-cogs/\n",
      "S2B_23KNR_20201124_0_L2A_B02.tif\n",
      "wget -nv -O- https://sentinel-cogs.s3.us-west-2.amazonaws.com/sentinel-s2-l2a-cogs/23/K/NR/2020/11/S2B_23KNR_20201124_0_L2A/B02.tif | aws s3 cp - s3://dev-et-data/usmart/RIO/sentinel-s2-l2a-cogs/S2B_23KNR_20201124_0_L2A_B02.tif\n"
     ]
    },
    {
     "name": "stderr",
     "output_type": "stream",
     "text": [
      "2021-09-13 16:16:56 URL:https://sentinel-cogs.s3.us-west-2.amazonaws.com/sentinel-s2-l2a-cogs/23/K/PR/2020/12/S2B_23KPR_20201224_0_L2A/B03.tif [138370196/138370196] -> \"-\" [1]\n",
      "16:16:56: sending https://sentinel-cogs.s3.us-west-2.amazonaws.com/sentinel-s2-l2a-cogs/23/K/NR/2020/12/S2B_23KNR_20201214_0_L2A/B02.tif\n"
     ]
    },
    {
     "name": "stdout",
     "output_type": "stream",
     "text": [
      "\n",
      "\n",
      "wget this: %s https://sentinel-cogs.s3.us-west-2.amazonaws.com/sentinel-s2-l2a-cogs/23/K/NR/2020/12/S2B_23KNR_20201214_0_L2A/B02.tif\n",
      "wget -nv -O- https://sentinel-cogs.s3.us-west-2.amazonaws.com/sentinel-s2-l2a-cogs/23/K/NR/2020/12/S2B_23KNR_20201214_0_L2A/B02.tif | aws s3 cp - s3://dev-et-data/usmart/RIO/sentinel-s2-l2a-cogs/\n",
      "S2B_23KNR_20201214_0_L2A_B02.tif\n",
      "wget -nv -O- https://sentinel-cogs.s3.us-west-2.amazonaws.com/sentinel-s2-l2a-cogs/23/K/NR/2020/12/S2B_23KNR_20201214_0_L2A/B02.tif | aws s3 cp - s3://dev-et-data/usmart/RIO/sentinel-s2-l2a-cogs/S2B_23KNR_20201214_0_L2A_B02.tif\n"
     ]
    },
    {
     "name": "stderr",
     "output_type": "stream",
     "text": [
      "2021-09-13 16:16:56 URL:https://sentinel-cogs.s3.us-west-2.amazonaws.com/sentinel-s2-l2a-cogs/23/K/NR/2020/11/S2A_23KNR_20201129_0_L2A/B03.tif [129807345/129807345] -> \"-\" [1]\n",
      "2021-09-13 16:16:56 URL:https://sentinel-cogs.s3.us-west-2.amazonaws.com/sentinel-s2-l2a-cogs/23/K/NR/2020/12/S2A_23KNR_20201219_0_L2A/B03.tif [123360924/123360924] -> \"-\" [1]\n",
      "16:16:56: sending https://sentinel-cogs.s3.us-west-2.amazonaws.com/sentinel-s2-l2a-cogs/23/K/PR/2020/12/S2B_23KPR_20201224_0_L2A/B02.tif\n"
     ]
    },
    {
     "name": "stdout",
     "output_type": "stream",
     "text": [
      "\n",
      "\n",
      "wget this: %s https://sentinel-cogs.s3.us-west-2.amazonaws.com/sentinel-s2-l2a-cogs/23/K/PR/2020/12/S2B_23KPR_20201224_0_L2A/B02.tif\n",
      "wget -nv -O- https://sentinel-cogs.s3.us-west-2.amazonaws.com/sentinel-s2-l2a-cogs/23/K/PR/2020/12/S2B_23KPR_20201224_0_L2A/B02.tif | aws s3 cp - s3://dev-et-data/usmart/RIO/sentinel-s2-l2a-cogs/\n",
      "S2B_23KPR_20201224_0_L2A_B02.tif\n",
      "wget -nv -O- https://sentinel-cogs.s3.us-west-2.amazonaws.com/sentinel-s2-l2a-cogs/23/K/PR/2020/12/S2B_23KPR_20201224_0_L2A/B02.tif | aws s3 cp - s3://dev-et-data/usmart/RIO/sentinel-s2-l2a-cogs/S2B_23KPR_20201224_0_L2A_B02.tif\n"
     ]
    },
    {
     "name": "stderr",
     "output_type": "stream",
     "text": [
      "16:16:57: sending https://sentinel-cogs.s3.us-west-2.amazonaws.com/sentinel-s2-l2a-cogs/23/K/NR/2020/11/S2A_23KNR_20201129_0_L2A/B02.tif\n"
     ]
    },
    {
     "name": "stdout",
     "output_type": "stream",
     "text": [
      "\n",
      "\n",
      "wget this: %s https://sentinel-cogs.s3.us-west-2.amazonaws.com/sentinel-s2-l2a-cogs/23/K/NR/2020/11/S2A_23KNR_20201129_0_L2A/B02.tif\n",
      "wget -nv -O- https://sentinel-cogs.s3.us-west-2.amazonaws.com/sentinel-s2-l2a-cogs/23/K/NR/2020/11/S2A_23KNR_20201129_0_L2A/B02.tif | aws s3 cp - s3://dev-et-data/usmart/RIO/sentinel-s2-l2a-cogs/\n",
      "S2A_23KNR_20201129_0_L2A_B02.tif\n",
      "wget -nv -O- https://sentinel-cogs.s3.us-west-2.amazonaws.com/sentinel-s2-l2a-cogs/23/K/NR/2020/11/S2A_23KNR_20201129_0_L2A/B02.tif | aws s3 cp - s3://dev-et-data/usmart/RIO/sentinel-s2-l2a-cogs/S2A_23KNR_20201129_0_L2A_B02.tif\n"
     ]
    },
    {
     "name": "stderr",
     "output_type": "stream",
     "text": [
      "16:16:57: sending https://sentinel-cogs.s3.us-west-2.amazonaws.com/sentinel-s2-l2a-cogs/23/K/NR/2020/12/S2A_23KNR_20201219_0_L2A/B02.tif\n"
     ]
    },
    {
     "name": "stdout",
     "output_type": "stream",
     "text": [
      "\n",
      "\n",
      "wget this: %s https://sentinel-cogs.s3.us-west-2.amazonaws.com/sentinel-s2-l2a-cogs/23/K/NR/2020/12/S2A_23KNR_20201219_0_L2A/B02.tif\n",
      "wget -nv -O- https://sentinel-cogs.s3.us-west-2.amazonaws.com/sentinel-s2-l2a-cogs/23/K/NR/2020/12/S2A_23KNR_20201219_0_L2A/B02.tif | aws s3 cp - s3://dev-et-data/usmart/RIO/sentinel-s2-l2a-cogs/\n",
      "S2A_23KNR_20201219_0_L2A_B02.tif\n",
      "wget -nv -O- https://sentinel-cogs.s3.us-west-2.amazonaws.com/sentinel-s2-l2a-cogs/23/K/NR/2020/12/S2A_23KNR_20201219_0_L2A/B02.tif | aws s3 cp - s3://dev-et-data/usmart/RIO/sentinel-s2-l2a-cogs/S2A_23KNR_20201219_0_L2A_B02.tif\n"
     ]
    },
    {
     "name": "stderr",
     "output_type": "stream",
     "text": [
      "2021-09-13 16:16:58 URL:https://sentinel-cogs.s3.us-west-2.amazonaws.com/sentinel-s2-l2a-cogs/23/K/PR/2020/12/S2A_23KPR_20201209_0_L2A/B03.tif [147032193/147032193] -> \"-\" [1]\n",
      "2021-09-13 16:16:58 URL:https://sentinel-cogs.s3.us-west-2.amazonaws.com/sentinel-s2-l2a-cogs/23/K/PR/2020/12/S2B_23KPR_20201214_0_L2A/B03.tif [211106162/211106162] -> \"-\" [1]\n",
      "2021-09-13 16:16:59 URL:https://sentinel-cogs.s3.us-west-2.amazonaws.com/sentinel-s2-l2a-cogs/23/K/PR/2020/12/S2A_23KPR_20201229_0_L2A/B03.tif [200560037/200560037] -> \"-\" [1]\n",
      "16:16:59: sending https://sentinel-cogs.s3.us-west-2.amazonaws.com/sentinel-s2-l2a-cogs/23/K/PR/2020/12/S2A_23KPR_20201209_0_L2A/B02.tif\n",
      "16:16:59: sending https://sentinel-cogs.s3.us-west-2.amazonaws.com/sentinel-s2-l2a-cogs/23/K/PR/2020/12/S2B_23KPR_20201214_0_L2A/B02.tif\n"
     ]
    },
    {
     "name": "stdout",
     "output_type": "stream",
     "text": [
      "\n",
      "\n",
      "wget this: %s https://sentinel-cogs.s3.us-west-2.amazonaws.com/sentinel-s2-l2a-cogs/23/K/PR/2020/12/S2A_23KPR_20201209_0_L2A/B02.tif\n",
      "wget -nv -O- https://sentinel-cogs.s3.us-west-2.amazonaws.com/sentinel-s2-l2a-cogs/23/K/PR/2020/12/S2A_23KPR_20201209_0_L2A/B02.tif | aws s3 cp - s3://dev-et-data/usmart/RIO/sentinel-s2-l2a-cogs/\n",
      "S2A_23KPR_20201209_0_L2A_B02.tif\n",
      "wget -nv -O- https://sentinel-cogs.s3.us-west-2.amazonaws.com/sentinel-s2-l2a-cogs/23/K/PR/2020/12/S2A_23KPR_20201209_0_L2A/B02.tif | aws s3 cp - s3://dev-et-data/usmart/RIO/sentinel-s2-l2a-cogs/S2A_23KPR_20201209_0_L2A_B02.tif\n",
      "\n",
      "\n",
      "wget this: %s https://sentinel-cogs.s3.us-west-2.amazonaws.com/sentinel-s2-l2a-cogs/23/K/PR/2020/12/S2B_23KPR_20201214_0_L2A/B02.tif\n",
      "wget -nv -O- https://sentinel-cogs.s3.us-west-2.amazonaws.com/sentinel-s2-l2a-cogs/23/K/PR/2020/12/S2B_23KPR_20201214_0_L2A/B02.tif | aws s3 cp - s3://dev-et-data/usmart/RIO/sentinel-s2-l2a-cogs/\n",
      "S2B_23KPR_20201214_0_L2A_B02.tif\n",
      "wget -nv -O- https://sentinel-cogs.s3.us-west-2.amazonaws.com/sentinel-s2-l2a-cogs/23/K/PR/2020/12/S2B_23KPR_20201214_0_L2A/B02.tif | aws s3 cp - s3://dev-et-data/usmart/RIO/sentinel-s2-l2a-cogs/S2B_23KPR_20201214_0_L2A_B02.tif\n"
     ]
    },
    {
     "name": "stderr",
     "output_type": "stream",
     "text": [
      "2021-09-13 16:16:59 URL:https://sentinel-cogs.s3.us-west-2.amazonaws.com/sentinel-s2-l2a-cogs/23/K/NR/2020/12/S2B_23KNR_20201224_0_L2A/B02.tif [80554205/80554205] -> \"-\" [1]\n",
      "2021-09-13 16:17:00 URL:https://sentinel-cogs.s3.us-west-2.amazonaws.com/sentinel-s2-l2a-cogs/23/K/NR/2020/12/S2A_23KNR_20201209_0_L2A/B02.tif [79250361/79250361] -> \"-\" [1]\n",
      "16:17:00: sending https://sentinel-cogs.s3.us-west-2.amazonaws.com/sentinel-s2-l2a-cogs/23/K/PR/2020/12/S2A_23KPR_20201229_0_L2A/B02.tif\n"
     ]
    },
    {
     "name": "stdout",
     "output_type": "stream",
     "text": [
      "\n",
      "\n",
      "wget this: %s https://sentinel-cogs.s3.us-west-2.amazonaws.com/sentinel-s2-l2a-cogs/23/K/PR/2020/12/S2A_23KPR_20201229_0_L2A/B02.tif\n",
      "wget -nv -O- https://sentinel-cogs.s3.us-west-2.amazonaws.com/sentinel-s2-l2a-cogs/23/K/PR/2020/12/S2A_23KPR_20201229_0_L2A/B02.tif | aws s3 cp - s3://dev-et-data/usmart/RIO/sentinel-s2-l2a-cogs/\n",
      "S2A_23KPR_20201229_0_L2A_B02.tif\n",
      "wget -nv -O- https://sentinel-cogs.s3.us-west-2.amazonaws.com/sentinel-s2-l2a-cogs/23/K/PR/2020/12/S2A_23KPR_20201229_0_L2A/B02.tif | aws s3 cp - s3://dev-et-data/usmart/RIO/sentinel-s2-l2a-cogs/S2A_23KPR_20201229_0_L2A_B02.tif\n"
     ]
    },
    {
     "name": "stderr",
     "output_type": "stream",
     "text": [
      "2021-09-13 16:17:00 URL:https://sentinel-cogs.s3.us-west-2.amazonaws.com/sentinel-s2-l2a-cogs/23/K/PR/2020/12/S2B_23KPR_20201204_0_L2A/B03.tif [210368147/210368147] -> \"-\" [1]\n",
      "16:17:00: Thread 2: finishing in 20 seconds\n",
      "16:17:00: xfer Thread 15: starting\n",
      "16:17:00: sending https://sentinel-cogs.s3.us-west-2.amazonaws.com/sentinel-s2-l2a-cogs/23/K/PR/2020/11/S2B_23KPR_20201124_0_L2A/B04.tif\n"
     ]
    },
    {
     "name": "stdout",
     "output_type": "stream",
     "text": [
      "\n",
      "\n",
      "wget this: %s https://sentinel-cogs.s3.us-west-2.amazonaws.com/sentinel-s2-l2a-cogs/23/K/PR/2020/11/S2B_23KPR_20201124_0_L2A/B04.tif\n",
      "wget -nv -O- https://sentinel-cogs.s3.us-west-2.amazonaws.com/sentinel-s2-l2a-cogs/23/K/PR/2020/11/S2B_23KPR_20201124_0_L2A/B04.tif | aws s3 cp - s3://dev-et-data/usmart/RIO/sentinel-s2-l2a-cogs/\n",
      "S2B_23KPR_20201124_0_L2A_B04.tif\n",
      "wget -nv -O- https://sentinel-cogs.s3.us-west-2.amazonaws.com/sentinel-s2-l2a-cogs/23/K/PR/2020/11/S2B_23KPR_20201124_0_L2A/B04.tif | aws s3 cp - s3://dev-et-data/usmart/RIO/sentinel-s2-l2a-cogs/S2B_23KPR_20201124_0_L2A_B04.tif\n"
     ]
    },
    {
     "name": "stderr",
     "output_type": "stream",
     "text": [
      "2021-09-13 16:17:00 URL:https://sentinel-cogs.s3.us-west-2.amazonaws.com/sentinel-s2-l2a-cogs/23/K/NR/2020/12/S2A_23KNR_20201229_0_L2A/B02.tif [102948906/102948906] -> \"-\" [1]\n",
      "16:17:01: Thread 8: finishing in 20 seconds\n",
      "16:17:01: xfer Thread 16: starting\n",
      "16:17:01: sending https://sentinel-cogs.s3.us-west-2.amazonaws.com/sentinel-s2-l2a-cogs/23/K/NR/2020/11/S2A_23KNR_20201119_0_L2A/B04.tif\n"
     ]
    },
    {
     "name": "stdout",
     "output_type": "stream",
     "text": [
      "\n",
      "\n",
      "wget this: %s https://sentinel-cogs.s3.us-west-2.amazonaws.com/sentinel-s2-l2a-cogs/23/K/NR/2020/11/S2A_23KNR_20201119_0_L2A/B04.tif\n",
      "wget -nv -O- https://sentinel-cogs.s3.us-west-2.amazonaws.com/sentinel-s2-l2a-cogs/23/K/NR/2020/11/S2A_23KNR_20201119_0_L2A/B04.tif | aws s3 cp - s3://dev-et-data/usmart/RIO/sentinel-s2-l2a-cogs/\n",
      "S2A_23KNR_20201119_0_L2A_B04.tif\n",
      "wget -nv -O- https://sentinel-cogs.s3.us-west-2.amazonaws.com/sentinel-s2-l2a-cogs/23/K/NR/2020/11/S2A_23KNR_20201119_0_L2A/B04.tif | aws s3 cp - s3://dev-et-data/usmart/RIO/sentinel-s2-l2a-cogs/S2A_23KNR_20201119_0_L2A_B04.tif\n"
     ]
    },
    {
     "name": "stderr",
     "output_type": "stream",
     "text": [
      "16:17:01: sending https://sentinel-cogs.s3.us-west-2.amazonaws.com/sentinel-s2-l2a-cogs/23/K/PR/2020/12/S2B_23KPR_20201204_0_L2A/B02.tif\n",
      "2021-09-13 16:17:01 URL:https://sentinel-cogs.s3.us-west-2.amazonaws.com/sentinel-s2-l2a-cogs/23/K/PR/2020/12/S2A_23KPR_20201219_0_L2A/B03.tif [222801954/222801954] -> \"-\" [1]\n",
      "16:17:01: Thread 0: finishing in 21 seconds\n",
      "16:17:01: xfer Thread 17: starting\n",
      "16:17:01: sending https://sentinel-cogs.s3.us-west-2.amazonaws.com/sentinel-s2-l2a-cogs/23/K/PR/2020/11/S2A_23KPR_20201119_0_L2A/B04.tif\n"
     ]
    },
    {
     "name": "stdout",
     "output_type": "stream",
     "text": [
      "\n",
      "\n",
      "wget this: %s https://sentinel-cogs.s3.us-west-2.amazonaws.com/sentinel-s2-l2a-cogs/23/K/PR/2020/12/S2B_23KPR_20201204_0_L2A/B02.tif\n",
      "wget -nv -O- https://sentinel-cogs.s3.us-west-2.amazonaws.com/sentinel-s2-l2a-cogs/23/K/PR/2020/12/S2B_23KPR_20201204_0_L2A/B02.tif | aws s3 cp - s3://dev-et-data/usmart/RIO/sentinel-s2-l2a-cogs/\n",
      "S2B_23KPR_20201204_0_L2A_B02.tif\n",
      "wget -nv -O- https://sentinel-cogs.s3.us-west-2.amazonaws.com/sentinel-s2-l2a-cogs/23/K/PR/2020/12/S2B_23KPR_20201204_0_L2A/B02.tif | aws s3 cp - s3://dev-et-data/usmart/RIO/sentinel-s2-l2a-cogs/S2B_23KPR_20201204_0_L2A_B02.tif\n",
      "\n",
      "\n",
      "wget this: %s https://sentinel-cogs.s3.us-west-2.amazonaws.com/sentinel-s2-l2a-cogs/23/K/PR/2020/11/S2A_23KPR_20201119_0_L2A/B04.tif\n",
      "wget -nv -O- https://sentinel-cogs.s3.us-west-2.amazonaws.com/sentinel-s2-l2a-cogs/23/K/PR/2020/11/S2A_23KPR_20201119_0_L2A/B04.tif | aws s3 cp - s3://dev-et-data/usmart/RIO/sentinel-s2-l2a-cogs/\n",
      "S2A_23KPR_20201119_0_L2A_B04.tif\n",
      "wget -nv -O- https://sentinel-cogs.s3.us-west-2.amazonaws.com/sentinel-s2-l2a-cogs/23/K/PR/2020/11/S2A_23KPR_20201119_0_L2A/B04.tif | aws s3 cp - s3://dev-et-data/usmart/RIO/sentinel-s2-l2a-cogs/S2A_23KPR_20201119_0_L2A_B04.tif\n"
     ]
    },
    {
     "name": "stderr",
     "output_type": "stream",
     "text": [
      "16:17:02: sending https://sentinel-cogs.s3.us-west-2.amazonaws.com/sentinel-s2-l2a-cogs/23/K/PR/2020/12/S2A_23KPR_20201219_0_L2A/B02.tif\n"
     ]
    },
    {
     "name": "stdout",
     "output_type": "stream",
     "text": [
      "\n",
      "\n",
      "wget this: %s https://sentinel-cogs.s3.us-west-2.amazonaws.com/sentinel-s2-l2a-cogs/23/K/PR/2020/12/S2A_23KPR_20201219_0_L2A/B02.tif\n",
      "wget -nv -O- https://sentinel-cogs.s3.us-west-2.amazonaws.com/sentinel-s2-l2a-cogs/23/K/PR/2020/12/S2A_23KPR_20201219_0_L2A/B02.tif | aws s3 cp - s3://dev-et-data/usmart/RIO/sentinel-s2-l2a-cogs/\n",
      "S2A_23KPR_20201219_0_L2A_B02.tif\n",
      "wget -nv -O- https://sentinel-cogs.s3.us-west-2.amazonaws.com/sentinel-s2-l2a-cogs/23/K/PR/2020/12/S2A_23KPR_20201219_0_L2A/B02.tif | aws s3 cp - s3://dev-et-data/usmart/RIO/sentinel-s2-l2a-cogs/S2A_23KPR_20201219_0_L2A_B02.tif\n"
     ]
    },
    {
     "name": "stderr",
     "output_type": "stream",
     "text": [
      "2021-09-13 16:17:03 URL:https://sentinel-cogs.s3.us-west-2.amazonaws.com/sentinel-s2-l2a-cogs/23/K/NR/2020/12/S2B_23KNR_20201214_0_L2A/B02.tif [114187814/114187814] -> \"-\" [1]\n",
      "16:17:03: Thread 6: finishing in 23 seconds\n",
      "16:17:03: xfer Thread 18: starting\n",
      "16:17:03: sending https://sentinel-cogs.s3.us-west-2.amazonaws.com/sentinel-s2-l2a-cogs/23/K/NR/2020/11/S2B_23KNR_20201114_0_L2A/B04.tif\n"
     ]
    },
    {
     "name": "stdout",
     "output_type": "stream",
     "text": [
      "\n",
      "\n",
      "wget this: %s https://sentinel-cogs.s3.us-west-2.amazonaws.com/sentinel-s2-l2a-cogs/23/K/NR/2020/11/S2B_23KNR_20201114_0_L2A/B04.tif\n",
      "wget -nv -O- https://sentinel-cogs.s3.us-west-2.amazonaws.com/sentinel-s2-l2a-cogs/23/K/NR/2020/11/S2B_23KNR_20201114_0_L2A/B04.tif | aws s3 cp - s3://dev-et-data/usmart/RIO/sentinel-s2-l2a-cogs/\n",
      "S2B_23KNR_20201114_0_L2A_B04.tif\n",
      "wget -nv -O- https://sentinel-cogs.s3.us-west-2.amazonaws.com/sentinel-s2-l2a-cogs/23/K/NR/2020/11/S2B_23KNR_20201114_0_L2A/B04.tif | aws s3 cp - s3://dev-et-data/usmart/RIO/sentinel-s2-l2a-cogs/S2B_23KNR_20201114_0_L2A_B04.tif\n"
     ]
    },
    {
     "name": "stderr",
     "output_type": "stream",
     "text": [
      "2021-09-13 16:17:03 URL:https://sentinel-cogs.s3.us-west-2.amazonaws.com/sentinel-s2-l2a-cogs/23/K/NR/2020/12/S2B_23KNR_20201204_0_L2A/B02.tif [114835264/114835264] -> \"-\" [1]\n",
      "2021-09-13 16:17:04 URL:https://sentinel-cogs.s3.us-west-2.amazonaws.com/sentinel-s2-l2a-cogs/23/K/PR/2020/11/S2A_23KPR_20201129_0_L2A/B03.tif [230624392/230624392] -> \"-\" [1]\n",
      "2021-09-13 16:17:04 URL:https://sentinel-cogs.s3.us-west-2.amazonaws.com/sentinel-s2-l2a-cogs/23/K/NR/2020/11/S2B_23KNR_20201124_0_L2A/B02.tif [129354881/129354881] -> \"-\" [1]\n",
      "16:17:04: Thread 10: finishing in 24 seconds\n",
      "16:17:04: xfer Thread 19: starting\n",
      "16:17:04: sending https://sentinel-cogs.s3.us-west-2.amazonaws.com/sentinel-s2-l2a-cogs/23/K/PR/2020/11/S2B_23KPR_20201114_0_L2A/B04.tif\n"
     ]
    },
    {
     "name": "stdout",
     "output_type": "stream",
     "text": [
      "\n",
      "\n",
      "wget this: %s https://sentinel-cogs.s3.us-west-2.amazonaws.com/sentinel-s2-l2a-cogs/23/K/PR/2020/11/S2B_23KPR_20201114_0_L2A/B04.tif\n",
      "wget -nv -O- https://sentinel-cogs.s3.us-west-2.amazonaws.com/sentinel-s2-l2a-cogs/23/K/PR/2020/11/S2B_23KPR_20201114_0_L2A/B04.tif | aws s3 cp - s3://dev-et-data/usmart/RIO/sentinel-s2-l2a-cogs/\n",
      "S2B_23KPR_20201114_0_L2A_B04.tif\n",
      "wget -nv -O- https://sentinel-cogs.s3.us-west-2.amazonaws.com/sentinel-s2-l2a-cogs/23/K/PR/2020/11/S2B_23KPR_20201114_0_L2A/B04.tif | aws s3 cp - s3://dev-et-data/usmart/RIO/sentinel-s2-l2a-cogs/S2B_23KPR_20201114_0_L2A_B04.tif\n"
     ]
    },
    {
     "name": "stderr",
     "output_type": "stream",
     "text": [
      "2021-09-13 16:17:04 URL:https://sentinel-cogs.s3.us-west-2.amazonaws.com/sentinel-s2-l2a-cogs/23/K/NR/2020/12/S2A_23KNR_20201219_0_L2A/B02.tif [116464890/116464890] -> \"-\" [1]\n",
      "2021-09-13 16:17:04 URL:https://sentinel-cogs.s3.us-west-2.amazonaws.com/sentinel-s2-l2a-cogs/23/K/NR/2020/11/S2A_23KNR_20201129_0_L2A/B02.tif [127996293/127996293] -> \"-\" [1]\n",
      "2021-09-13 16:17:04 URL:https://sentinel-cogs.s3.us-west-2.amazonaws.com/sentinel-s2-l2a-cogs/23/K/PR/2020/12/S2B_23KPR_20201224_0_L2A/B02.tif [141336950/141336950] -> \"-\" [1]\n",
      "16:17:04: sending https://sentinel-cogs.s3.us-west-2.amazonaws.com/sentinel-s2-l2a-cogs/23/K/PR/2020/11/S2A_23KPR_20201129_0_L2A/B02.tif\n",
      "16:17:04: Thread 14: finishing in 24 seconds\n",
      "16:17:05: xfer Thread 20: starting\n",
      "16:17:05: sending https://sentinel-cogs.s3.us-west-2.amazonaws.com/sentinel-s2-l2a-cogs/23/K/NR/2020/11/S2A_23KNR_20201109_0_L2A/B04.tif\n"
     ]
    },
    {
     "name": "stdout",
     "output_type": "stream",
     "text": [
      "\n",
      "\n",
      "wget this: %s https://sentinel-cogs.s3.us-west-2.amazonaws.com/sentinel-s2-l2a-cogs/23/K/PR/2020/11/S2A_23KPR_20201129_0_L2A/B02.tif\n",
      "wget -nv -O- https://sentinel-cogs.s3.us-west-2.amazonaws.com/sentinel-s2-l2a-cogs/23/K/PR/2020/11/S2A_23KPR_20201129_0_L2A/B02.tif | aws s3 cp - s3://dev-et-data/usmart/RIO/sentinel-s2-l2a-cogs/\n",
      "S2A_23KPR_20201129_0_L2A_B02.tif\n",
      "wget -nv -O- https://sentinel-cogs.s3.us-west-2.amazonaws.com/sentinel-s2-l2a-cogs/23/K/PR/2020/11/S2A_23KPR_20201129_0_L2A/B02.tif | aws s3 cp - s3://dev-et-data/usmart/RIO/sentinel-s2-l2a-cogs/S2A_23KPR_20201129_0_L2A_B02.tif\n",
      "\n",
      "\n",
      "wget this: %s https://sentinel-cogs.s3.us-west-2.amazonaws.com/sentinel-s2-l2a-cogs/23/K/NR/2020/11/S2A_23KNR_20201109_0_L2A/B04.tif\n",
      "wget -nv -O- https://sentinel-cogs.s3.us-west-2.amazonaws.com/sentinel-s2-l2a-cogs/23/K/NR/2020/11/S2A_23KNR_20201109_0_L2A/B04.tif | aws s3 cp - s3://dev-et-data/usmart/RIO/sentinel-s2-l2a-cogs/\n",
      "S2A_23KNR_20201109_0_L2A_B04.tif\n",
      "wget -nv -O- https://sentinel-cogs.s3.us-west-2.amazonaws.com/sentinel-s2-l2a-cogs/23/K/NR/2020/11/S2A_23KNR_20201109_0_L2A/B04.tif | aws s3 cp - s3://dev-et-data/usmart/RIO/sentinel-s2-l2a-cogs/S2A_23KNR_20201109_0_L2A_B04.tif\n"
     ]
    },
    {
     "name": "stderr",
     "output_type": "stream",
     "text": [
      "16:17:05: Thread 4: finishing in 25 seconds\n",
      "16:17:05: xfer Thread 21: starting\n",
      "16:17:05: sending https://sentinel-cogs.s3.us-west-2.amazonaws.com/sentinel-s2-l2a-cogs/23/K/PR/2020/11/S2A_23KPR_20201109_0_L2A/B04.tif\n"
     ]
    },
    {
     "name": "stdout",
     "output_type": "stream",
     "text": [
      "\n",
      "\n",
      "wget this: %s https://sentinel-cogs.s3.us-west-2.amazonaws.com/sentinel-s2-l2a-cogs/23/K/PR/2020/11/S2A_23KPR_20201109_0_L2A/B04.tif\n",
      "wget -nv -O- https://sentinel-cogs.s3.us-west-2.amazonaws.com/sentinel-s2-l2a-cogs/23/K/PR/2020/11/S2A_23KPR_20201109_0_L2A/B04.tif | aws s3 cp - s3://dev-et-data/usmart/RIO/sentinel-s2-l2a-cogs/\n",
      "S2A_23KPR_20201109_0_L2A_B04.tif\n",
      "wget -nv -O- https://sentinel-cogs.s3.us-west-2.amazonaws.com/sentinel-s2-l2a-cogs/23/K/PR/2020/11/S2A_23KPR_20201109_0_L2A/B04.tif | aws s3 cp - s3://dev-et-data/usmart/RIO/sentinel-s2-l2a-cogs/S2A_23KPR_20201109_0_L2A_B04.tif\n"
     ]
    },
    {
     "name": "stderr",
     "output_type": "stream",
     "text": [
      "16:17:05: Thread 3: finishing in 25 seconds\n",
      "16:17:05: xfer Thread 22: starting\n",
      "16:17:05: sending https://sentinel-cogs.s3.us-west-2.amazonaws.com/sentinel-s2-l2a-cogs/23/K/NR/2020/11/S2B_23KNR_20201104_0_L2A/B04.tif\n",
      "16:17:05: Thread 12: finishing in 25 seconds\n",
      "16:17:05: xfer Thread 23: starting\n",
      "16:17:05: sending https://sentinel-cogs.s3.us-west-2.amazonaws.com/sentinel-s2-l2a-cogs/23/K/PR/2020/11/S2B_23KPR_20201104_0_L2A/B04.tif\n"
     ]
    },
    {
     "name": "stdout",
     "output_type": "stream",
     "text": [
      "\n",
      "\n",
      "wget this: %s https://sentinel-cogs.s3.us-west-2.amazonaws.com/sentinel-s2-l2a-cogs/23/K/NR/2020/11/S2B_23KNR_20201104_0_L2A/B04.tif\n",
      "wget -nv -O- https://sentinel-cogs.s3.us-west-2.amazonaws.com/sentinel-s2-l2a-cogs/23/K/NR/2020/11/S2B_23KNR_20201104_0_L2A/B04.tif | aws s3 cp - s3://dev-et-data/usmart/RIO/sentinel-s2-l2a-cogs/\n",
      "S2B_23KNR_20201104_0_L2A_B04.tif\n",
      "wget -nv -O- https://sentinel-cogs.s3.us-west-2.amazonaws.com/sentinel-s2-l2a-cogs/23/K/NR/2020/11/S2B_23KNR_20201104_0_L2A/B04.tif | aws s3 cp - s3://dev-et-data/usmart/RIO/sentinel-s2-l2a-cogs/S2B_23KNR_20201104_0_L2A_B04.tif\n",
      "\n",
      "\n",
      "wget this: %s https://sentinel-cogs.s3.us-west-2.amazonaws.com/sentinel-s2-l2a-cogs/23/K/PR/2020/11/S2B_23KPR_20201104_0_L2A/B04.tif\n",
      "wget -nv -O- https://sentinel-cogs.s3.us-west-2.amazonaws.com/sentinel-s2-l2a-cogs/23/K/PR/2020/11/S2B_23KPR_20201104_0_L2A/B04.tif | aws s3 cp - s3://dev-et-data/usmart/RIO/sentinel-s2-l2a-cogs/\n",
      "S2B_23KPR_20201104_0_L2A_B04.tif\n",
      "wget -nv -O- https://sentinel-cogs.s3.us-west-2.amazonaws.com/sentinel-s2-l2a-cogs/23/K/PR/2020/11/S2B_23KPR_20201104_0_L2A/B04.tif | aws s3 cp - s3://dev-et-data/usmart/RIO/sentinel-s2-l2a-cogs/S2B_23KPR_20201104_0_L2A_B04.tif\n"
     ]
    },
    {
     "name": "stderr",
     "output_type": "stream",
     "text": [
      "2021-09-13 16:17:07 URL:https://sentinel-cogs.s3.us-west-2.amazonaws.com/sentinel-s2-l2a-cogs/23/K/PR/2020/12/S2A_23KPR_20201209_0_L2A/B02.tif [151994071/151994071] -> \"-\" [1]\n",
      "2021-09-13 16:17:08 URL:https://sentinel-cogs.s3.us-west-2.amazonaws.com/sentinel-s2-l2a-cogs/23/K/NR/2020/11/S2A_23KNR_20201119_0_L2A/B04.tif [113096505/113096505] -> \"-\" [1]\n",
      "16:17:08: Thread 9: finishing in 28 seconds\n",
      "16:17:08: xfer Thread 24: starting\n",
      "16:17:08: sending https://sentinel-cogs.s3.us-west-2.amazonaws.com/sentinel-s2-l2a-cogs/23/K/NR/2020/10/S2A_23KNR_20201030_0_L2A/B04.tif\n"
     ]
    },
    {
     "name": "stdout",
     "output_type": "stream",
     "text": [
      "\n",
      "\n",
      "wget this: %s https://sentinel-cogs.s3.us-west-2.amazonaws.com/sentinel-s2-l2a-cogs/23/K/NR/2020/10/S2A_23KNR_20201030_0_L2A/B04.tif\n",
      "wget -nv -O- https://sentinel-cogs.s3.us-west-2.amazonaws.com/sentinel-s2-l2a-cogs/23/K/NR/2020/10/S2A_23KNR_20201030_0_L2A/B04.tif | aws s3 cp - s3://dev-et-data/usmart/RIO/sentinel-s2-l2a-cogs/\n",
      "S2A_23KNR_20201030_0_L2A_B04.tif\n",
      "wget -nv -O- https://sentinel-cogs.s3.us-west-2.amazonaws.com/sentinel-s2-l2a-cogs/23/K/NR/2020/10/S2A_23KNR_20201030_0_L2A/B04.tif | aws s3 cp - s3://dev-et-data/usmart/RIO/sentinel-s2-l2a-cogs/S2A_23KNR_20201030_0_L2A_B04.tif\n"
     ]
    },
    {
     "name": "stderr",
     "output_type": "stream",
     "text": [
      "2021-09-13 16:17:08 URL:https://sentinel-cogs.s3.us-west-2.amazonaws.com/sentinel-s2-l2a-cogs/23/K/PR/2020/12/S2A_23KPR_20201229_0_L2A/B02.tif [202306641/202306641] -> \"-\" [1]\n",
      "16:17:09: sending https://sentinel-cogs.s3.us-west-2.amazonaws.com/sentinel-s2-l2a-cogs/23/K/NR/2020/11/S2A_23KNR_20201119_0_L2A/B03.tif\n"
     ]
    },
    {
     "name": "stdout",
     "output_type": "stream",
     "text": [
      "\n",
      "\n",
      "wget this: %s https://sentinel-cogs.s3.us-west-2.amazonaws.com/sentinel-s2-l2a-cogs/23/K/NR/2020/11/S2A_23KNR_20201119_0_L2A/B03.tif\n",
      "wget -nv -O- https://sentinel-cogs.s3.us-west-2.amazonaws.com/sentinel-s2-l2a-cogs/23/K/NR/2020/11/S2A_23KNR_20201119_0_L2A/B03.tif | aws s3 cp - s3://dev-et-data/usmart/RIO/sentinel-s2-l2a-cogs/\n",
      "S2A_23KNR_20201119_0_L2A_B03.tif\n",
      "wget -nv -O- https://sentinel-cogs.s3.us-west-2.amazonaws.com/sentinel-s2-l2a-cogs/23/K/NR/2020/11/S2A_23KNR_20201119_0_L2A/B03.tif | aws s3 cp - s3://dev-et-data/usmart/RIO/sentinel-s2-l2a-cogs/S2A_23KNR_20201119_0_L2A_B03.tif\n"
     ]
    },
    {
     "name": "stderr",
     "output_type": "stream",
     "text": [
      "16:17:09: Thread 1: finishing in 29 seconds\n",
      "16:17:09: xfer Thread 25: starting\n",
      "16:17:09: sending https://sentinel-cogs.s3.us-west-2.amazonaws.com/sentinel-s2-l2a-cogs/23/K/PR/2020/10/S2A_23KPR_20201030_0_L2A/B04.tif\n"
     ]
    },
    {
     "name": "stdout",
     "output_type": "stream",
     "text": [
      "\n",
      "\n",
      "wget this: %s https://sentinel-cogs.s3.us-west-2.amazonaws.com/sentinel-s2-l2a-cogs/23/K/PR/2020/10/S2A_23KPR_20201030_0_L2A/B04.tif\n",
      "wget -nv -O- https://sentinel-cogs.s3.us-west-2.amazonaws.com/sentinel-s2-l2a-cogs/23/K/PR/2020/10/S2A_23KPR_20201030_0_L2A/B04.tif | aws s3 cp - s3://dev-et-data/usmart/RIO/sentinel-s2-l2a-cogs/\n",
      "S2A_23KPR_20201030_0_L2A_B04.tif\n",
      "wget -nv -O- https://sentinel-cogs.s3.us-west-2.amazonaws.com/sentinel-s2-l2a-cogs/23/K/PR/2020/10/S2A_23KPR_20201030_0_L2A/B04.tif | aws s3 cp - s3://dev-et-data/usmart/RIO/sentinel-s2-l2a-cogs/S2A_23KPR_20201030_0_L2A_B04.tif\n"
     ]
    },
    {
     "name": "stderr",
     "output_type": "stream",
     "text": [
      "2021-09-13 16:17:09 URL:https://sentinel-cogs.s3.us-west-2.amazonaws.com/sentinel-s2-l2a-cogs/23/K/NR/2020/11/S2B_23KNR_20201114_0_L2A/B04.tif [103005185/103005185] -> \"-\" [1]\n",
      "2021-09-13 16:17:10 URL:https://sentinel-cogs.s3.us-west-2.amazonaws.com/sentinel-s2-l2a-cogs/23/K/PR/2020/12/S2B_23KPR_20201204_0_L2A/B02.tif [204059626/204059626] -> \"-\" [1]\n",
      "16:17:10: sending https://sentinel-cogs.s3.us-west-2.amazonaws.com/sentinel-s2-l2a-cogs/23/K/NR/2020/11/S2B_23KNR_20201114_0_L2A/B03.tif\n"
     ]
    },
    {
     "name": "stdout",
     "output_type": "stream",
     "text": [
      "\n",
      "\n",
      "wget this: %s https://sentinel-cogs.s3.us-west-2.amazonaws.com/sentinel-s2-l2a-cogs/23/K/NR/2020/11/S2B_23KNR_20201114_0_L2A/B03.tif\n",
      "wget -nv -O- https://sentinel-cogs.s3.us-west-2.amazonaws.com/sentinel-s2-l2a-cogs/23/K/NR/2020/11/S2B_23KNR_20201114_0_L2A/B03.tif | aws s3 cp - s3://dev-et-data/usmart/RIO/sentinel-s2-l2a-cogs/\n",
      "S2B_23KNR_20201114_0_L2A_B03.tif\n",
      "wget -nv -O- https://sentinel-cogs.s3.us-west-2.amazonaws.com/sentinel-s2-l2a-cogs/23/K/NR/2020/11/S2B_23KNR_20201114_0_L2A/B03.tif | aws s3 cp - s3://dev-et-data/usmart/RIO/sentinel-s2-l2a-cogs/S2B_23KNR_20201114_0_L2A_B03.tif\n"
     ]
    },
    {
     "name": "stderr",
     "output_type": "stream",
     "text": [
      "2021-09-13 16:17:11 URL:https://sentinel-cogs.s3.us-west-2.amazonaws.com/sentinel-s2-l2a-cogs/23/K/PR/2020/12/S2B_23KPR_20201214_0_L2A/B02.tif [198380856/198380856] -> \"-\" [1]\n",
      "2021-09-13 16:17:11 URL:https://sentinel-cogs.s3.us-west-2.amazonaws.com/sentinel-s2-l2a-cogs/23/K/PR/2020/11/S2A_23KPR_20201119_0_L2A/B04.tif [192682899/192682899] -> \"-\" [1]\n",
      "16:17:11: Thread 11: finishing in 31 seconds\n",
      "2021-09-13 16:17:11 URL:https://sentinel-cogs.s3.us-west-2.amazonaws.com/sentinel-s2-l2a-cogs/23/K/PR/2020/12/S2A_23KPR_20201219_0_L2A/B02.tif [211452461/211452461] -> \"-\" [1]\n",
      "16:17:11: xfer Thread 26: starting\n",
      "16:17:11: sending https://sentinel-cogs.s3.us-west-2.amazonaws.com/sentinel-s2-l2a-cogs/23/K/NR/2020/10/S2B_23KNR_20201025_0_L2A/B04.tif\n"
     ]
    },
    {
     "name": "stdout",
     "output_type": "stream",
     "text": [
      "\n",
      "\n",
      "wget this: %s https://sentinel-cogs.s3.us-west-2.amazonaws.com/sentinel-s2-l2a-cogs/23/K/NR/2020/10/S2B_23KNR_20201025_0_L2A/B04.tif\n",
      "wget -nv -O- https://sentinel-cogs.s3.us-west-2.amazonaws.com/sentinel-s2-l2a-cogs/23/K/NR/2020/10/S2B_23KNR_20201025_0_L2A/B04.tif | aws s3 cp - s3://dev-et-data/usmart/RIO/sentinel-s2-l2a-cogs/\n",
      "S2B_23KNR_20201025_0_L2A_B04.tif\n",
      "wget -nv -O- https://sentinel-cogs.s3.us-west-2.amazonaws.com/sentinel-s2-l2a-cogs/23/K/NR/2020/10/S2B_23KNR_20201025_0_L2A/B04.tif | aws s3 cp - s3://dev-et-data/usmart/RIO/sentinel-s2-l2a-cogs/S2B_23KNR_20201025_0_L2A_B04.tif\n"
     ]
    },
    {
     "name": "stderr",
     "output_type": "stream",
     "text": [
      "16:17:12: Thread 7: finishing in 32 seconds\n",
      "16:17:12: xfer Thread 27: starting\n",
      "16:17:12: sending https://sentinel-cogs.s3.us-west-2.amazonaws.com/sentinel-s2-l2a-cogs/23/K/PR/2020/10/S2B_23KPR_20201025_0_L2A/B04.tif\n",
      "16:17:12: Thread 5: finishing in 32 seconds\n",
      "16:17:12: xfer Thread 28: starting\n",
      "16:17:12: sending https://sentinel-cogs.s3.us-west-2.amazonaws.com/sentinel-s2-l2a-cogs/23/K/NR/2020/10/S2A_23KNR_20201020_0_L2A/B04.tif\n"
     ]
    },
    {
     "name": "stdout",
     "output_type": "stream",
     "text": [
      "\n",
      "\n",
      "wget this: %s https://sentinel-cogs.s3.us-west-2.amazonaws.com/sentinel-s2-l2a-cogs/23/K/PR/2020/10/S2B_23KPR_20201025_0_L2A/B04.tif\n",
      "wget -nv -O- https://sentinel-cogs.s3.us-west-2.amazonaws.com/sentinel-s2-l2a-cogs/23/K/PR/2020/10/S2B_23KPR_20201025_0_L2A/B04.tif | aws s3 cp - s3://dev-et-data/usmart/RIO/sentinel-s2-l2a-cogs/\n",
      "S2B_23KPR_20201025_0_L2A_B04.tif\n",
      "wget -nv -O- https://sentinel-cogs.s3.us-west-2.amazonaws.com/sentinel-s2-l2a-cogs/23/K/PR/2020/10/S2B_23KPR_20201025_0_L2A/B04.tif | aws s3 cp - s3://dev-et-data/usmart/RIO/sentinel-s2-l2a-cogs/S2B_23KPR_20201025_0_L2A_B04.tif\n",
      "\n",
      "\n",
      "wget this: %s https://sentinel-cogs.s3.us-west-2.amazonaws.com/sentinel-s2-l2a-cogs/23/K/NR/2020/10/S2A_23KNR_20201020_0_L2A/B04.tif\n",
      "wget -nv -O- https://sentinel-cogs.s3.us-west-2.amazonaws.com/sentinel-s2-l2a-cogs/23/K/NR/2020/10/S2A_23KNR_20201020_0_L2A/B04.tif | aws s3 cp - s3://dev-et-data/usmart/RIO/sentinel-s2-l2a-cogs/\n",
      "S2A_23KNR_20201020_0_L2A_B04.tif\n",
      "wget -nv -O- https://sentinel-cogs.s3.us-west-2.amazonaws.com/sentinel-s2-l2a-cogs/23/K/NR/2020/10/S2A_23KNR_20201020_0_L2A/B04.tif | aws s3 cp - s3://dev-et-data/usmart/RIO/sentinel-s2-l2a-cogs/S2A_23KNR_20201020_0_L2A_B04.tif\n"
     ]
    },
    {
     "name": "stderr",
     "output_type": "stream",
     "text": [
      "16:17:12: sending https://sentinel-cogs.s3.us-west-2.amazonaws.com/sentinel-s2-l2a-cogs/23/K/PR/2020/11/S2A_23KPR_20201119_0_L2A/B03.tif\n",
      "2021-09-13 16:17:12 URL:https://sentinel-cogs.s3.us-west-2.amazonaws.com/sentinel-s2-l2a-cogs/23/K/NR/2020/11/S2A_23KNR_20201109_0_L2A/B04.tif [123559454/123559454] -> \"-\" [1]\n"
     ]
    },
    {
     "name": "stdout",
     "output_type": "stream",
     "text": [
      "\n",
      "\n",
      "wget this: %s https://sentinel-cogs.s3.us-west-2.amazonaws.com/sentinel-s2-l2a-cogs/23/K/PR/2020/11/S2A_23KPR_20201119_0_L2A/B03.tif\n",
      "wget -nv -O- https://sentinel-cogs.s3.us-west-2.amazonaws.com/sentinel-s2-l2a-cogs/23/K/PR/2020/11/S2A_23KPR_20201119_0_L2A/B03.tif | aws s3 cp - s3://dev-et-data/usmart/RIO/sentinel-s2-l2a-cogs/\n",
      "S2A_23KPR_20201119_0_L2A_B03.tif\n",
      "wget -nv -O- https://sentinel-cogs.s3.us-west-2.amazonaws.com/sentinel-s2-l2a-cogs/23/K/PR/2020/11/S2A_23KPR_20201119_0_L2A/B03.tif | aws s3 cp - s3://dev-et-data/usmart/RIO/sentinel-s2-l2a-cogs/S2A_23KPR_20201119_0_L2A_B03.tif\n"
     ]
    },
    {
     "name": "stderr",
     "output_type": "stream",
     "text": [
      "2021-09-13 16:17:12 URL:https://sentinel-cogs.s3.us-west-2.amazonaws.com/sentinel-s2-l2a-cogs/23/K/PR/2020/11/S2B_23KPR_20201124_0_L2A/B04.tif [233125852/233125852] -> \"-\" [1]\n",
      "16:17:13: sending https://sentinel-cogs.s3.us-west-2.amazonaws.com/sentinel-s2-l2a-cogs/23/K/NR/2020/11/S2A_23KNR_20201109_0_L2A/B03.tif\n",
      "16:17:13: sending https://sentinel-cogs.s3.us-west-2.amazonaws.com/sentinel-s2-l2a-cogs/23/K/PR/2020/11/S2B_23KPR_20201124_0_L2A/B03.tif\n"
     ]
    },
    {
     "name": "stdout",
     "output_type": "stream",
     "text": [
      "\n",
      "\n",
      "wget this: %s https://sentinel-cogs.s3.us-west-2.amazonaws.com/sentinel-s2-l2a-cogs/23/K/NR/2020/11/S2A_23KNR_20201109_0_L2A/B03.tif\n",
      "wget -nv -O- https://sentinel-cogs.s3.us-west-2.amazonaws.com/sentinel-s2-l2a-cogs/23/K/NR/2020/11/S2A_23KNR_20201109_0_L2A/B03.tif | aws s3 cp - s3://dev-et-data/usmart/RIO/sentinel-s2-l2a-cogs/\n",
      "S2A_23KNR_20201109_0_L2A_B03.tif\n",
      "wget -nv -O- https://sentinel-cogs.s3.us-west-2.amazonaws.com/sentinel-s2-l2a-cogs/23/K/NR/2020/11/S2A_23KNR_20201109_0_L2A/B03.tif | aws s3 cp - s3://dev-et-data/usmart/RIO/sentinel-s2-l2a-cogs/S2A_23KNR_20201109_0_L2A_B03.tif\n",
      "\n",
      "\n",
      "wget this: %s https://sentinel-cogs.s3.us-west-2.amazonaws.com/sentinel-s2-l2a-cogs/23/K/PR/2020/11/S2B_23KPR_20201124_0_L2A/B03.tif\n",
      "wget -nv -O- https://sentinel-cogs.s3.us-west-2.amazonaws.com/sentinel-s2-l2a-cogs/23/K/PR/2020/11/S2B_23KPR_20201124_0_L2A/B03.tif | aws s3 cp - s3://dev-et-data/usmart/RIO/sentinel-s2-l2a-cogs/\n",
      "S2B_23KPR_20201124_0_L2A_B03.tif\n",
      "wget -nv -O- https://sentinel-cogs.s3.us-west-2.amazonaws.com/sentinel-s2-l2a-cogs/23/K/PR/2020/11/S2B_23KPR_20201124_0_L2A/B03.tif | aws s3 cp - s3://dev-et-data/usmart/RIO/sentinel-s2-l2a-cogs/S2B_23KPR_20201124_0_L2A_B03.tif\n"
     ]
    },
    {
     "name": "stderr",
     "output_type": "stream",
     "text": [
      "2021-09-13 16:17:14 URL:https://sentinel-cogs.s3.us-west-2.amazonaws.com/sentinel-s2-l2a-cogs/23/K/NR/2020/11/S2B_23KNR_20201104_0_L2A/B04.tif [123976828/123976828] -> \"-\" [1]\n",
      "2021-09-13 16:17:14 URL:https://sentinel-cogs.s3.us-west-2.amazonaws.com/sentinel-s2-l2a-cogs/23/K/PR/2020/11/S2B_23KPR_20201114_0_L2A/B04.tif [193341002/193341002] -> \"-\" [1]\n",
      "16:17:14: sending https://sentinel-cogs.s3.us-west-2.amazonaws.com/sentinel-s2-l2a-cogs/23/K/NR/2020/11/S2B_23KNR_20201104_0_L2A/B03.tif\n"
     ]
    },
    {
     "name": "stdout",
     "output_type": "stream",
     "text": [
      "\n",
      "\n",
      "wget this: %s https://sentinel-cogs.s3.us-west-2.amazonaws.com/sentinel-s2-l2a-cogs/23/K/NR/2020/11/S2B_23KNR_20201104_0_L2A/B03.tif\n",
      "wget -nv -O- https://sentinel-cogs.s3.us-west-2.amazonaws.com/sentinel-s2-l2a-cogs/23/K/NR/2020/11/S2B_23KNR_20201104_0_L2A/B03.tif | aws s3 cp - s3://dev-et-data/usmart/RIO/sentinel-s2-l2a-cogs/\n",
      "S2B_23KNR_20201104_0_L2A_B03.tif\n",
      "wget -nv -O- https://sentinel-cogs.s3.us-west-2.amazonaws.com/sentinel-s2-l2a-cogs/23/K/NR/2020/11/S2B_23KNR_20201104_0_L2A/B03.tif | aws s3 cp - s3://dev-et-data/usmart/RIO/sentinel-s2-l2a-cogs/S2B_23KNR_20201104_0_L2A_B03.tif\n"
     ]
    },
    {
     "name": "stderr",
     "output_type": "stream",
     "text": [
      "2021-09-13 16:17:15 URL:https://sentinel-cogs.s3.us-west-2.amazonaws.com/sentinel-s2-l2a-cogs/23/K/PR/2020/11/S2B_23KPR_20201104_0_L2A/B04.tif [208350622/208350622] -> \"-\" [1]\n",
      "16:17:15: sending https://sentinel-cogs.s3.us-west-2.amazonaws.com/sentinel-s2-l2a-cogs/23/K/PR/2020/11/S2B_23KPR_20201114_0_L2A/B03.tif\n"
     ]
    },
    {
     "name": "stdout",
     "output_type": "stream",
     "text": [
      "\n",
      "\n",
      "wget this: %s https://sentinel-cogs.s3.us-west-2.amazonaws.com/sentinel-s2-l2a-cogs/23/K/PR/2020/11/S2B_23KPR_20201114_0_L2A/B03.tif\n",
      "wget -nv -O- https://sentinel-cogs.s3.us-west-2.amazonaws.com/sentinel-s2-l2a-cogs/23/K/PR/2020/11/S2B_23KPR_20201114_0_L2A/B03.tif | aws s3 cp - s3://dev-et-data/usmart/RIO/sentinel-s2-l2a-cogs/\n",
      "S2B_23KPR_20201114_0_L2A_B03.tif\n",
      "wget -nv -O- https://sentinel-cogs.s3.us-west-2.amazonaws.com/sentinel-s2-l2a-cogs/23/K/PR/2020/11/S2B_23KPR_20201114_0_L2A/B03.tif | aws s3 cp - s3://dev-et-data/usmart/RIO/sentinel-s2-l2a-cogs/S2B_23KPR_20201114_0_L2A_B03.tif\n"
     ]
    },
    {
     "name": "stderr",
     "output_type": "stream",
     "text": [
      "16:17:15: sending https://sentinel-cogs.s3.us-west-2.amazonaws.com/sentinel-s2-l2a-cogs/23/K/PR/2020/11/S2B_23KPR_20201104_0_L2A/B03.tif\n"
     ]
    },
    {
     "name": "stdout",
     "output_type": "stream",
     "text": [
      "\n",
      "\n",
      "wget this: %s https://sentinel-cogs.s3.us-west-2.amazonaws.com/sentinel-s2-l2a-cogs/23/K/PR/2020/11/S2B_23KPR_20201104_0_L2A/B03.tif\n",
      "wget -nv -O- https://sentinel-cogs.s3.us-west-2.amazonaws.com/sentinel-s2-l2a-cogs/23/K/PR/2020/11/S2B_23KPR_20201104_0_L2A/B03.tif | aws s3 cp - s3://dev-et-data/usmart/RIO/sentinel-s2-l2a-cogs/\n",
      "S2B_23KPR_20201104_0_L2A_B03.tif\n",
      "wget -nv -O- https://sentinel-cogs.s3.us-west-2.amazonaws.com/sentinel-s2-l2a-cogs/23/K/PR/2020/11/S2B_23KPR_20201104_0_L2A/B03.tif | aws s3 cp - s3://dev-et-data/usmart/RIO/sentinel-s2-l2a-cogs/S2B_23KPR_20201104_0_L2A_B03.tif\n"
     ]
    },
    {
     "name": "stderr",
     "output_type": "stream",
     "text": [
      "2021-09-13 16:17:15 URL:https://sentinel-cogs.s3.us-west-2.amazonaws.com/sentinel-s2-l2a-cogs/23/K/NR/2020/10/S2A_23KNR_20201030_0_L2A/B04.tif [87110310/87110310] -> \"-\" [1]\n",
      "2021-09-13 16:17:15 URL:https://sentinel-cogs.s3.us-west-2.amazonaws.com/sentinel-s2-l2a-cogs/23/K/PR/2020/11/S2A_23KPR_20201109_0_L2A/B04.tif [217305960/217305960] -> \"-\" [1]\n",
      "2021-09-13 16:17:16 URL:https://sentinel-cogs.s3.us-west-2.amazonaws.com/sentinel-s2-l2a-cogs/23/K/NR/2020/11/S2A_23KNR_20201119_0_L2A/B03.tif [112896354/112896354] -> \"-\" [1]\n",
      "16:17:16: sending https://sentinel-cogs.s3.us-west-2.amazonaws.com/sentinel-s2-l2a-cogs/23/K/PR/2020/11/S2A_23KPR_20201109_0_L2A/B03.tif\n"
     ]
    },
    {
     "name": "stdout",
     "output_type": "stream",
     "text": [
      "\n",
      "\n",
      "wget this: %s https://sentinel-cogs.s3.us-west-2.amazonaws.com/sentinel-s2-l2a-cogs/23/K/PR/2020/11/S2A_23KPR_20201109_0_L2A/B03.tif\n",
      "wget -nv -O- https://sentinel-cogs.s3.us-west-2.amazonaws.com/sentinel-s2-l2a-cogs/23/K/PR/2020/11/S2A_23KPR_20201109_0_L2A/B03.tif | aws s3 cp - s3://dev-et-data/usmart/RIO/sentinel-s2-l2a-cogs/\n",
      "S2A_23KPR_20201109_0_L2A_B03.tif\n",
      "wget -nv -O- https://sentinel-cogs.s3.us-west-2.amazonaws.com/sentinel-s2-l2a-cogs/23/K/PR/2020/11/S2A_23KPR_20201109_0_L2A/B03.tif | aws s3 cp - s3://dev-et-data/usmart/RIO/sentinel-s2-l2a-cogs/S2A_23KPR_20201109_0_L2A_B03.tif\n"
     ]
    },
    {
     "name": "stderr",
     "output_type": "stream",
     "text": [
      "2021-09-13 16:17:16 URL:https://sentinel-cogs.s3.us-west-2.amazonaws.com/sentinel-s2-l2a-cogs/23/K/PR/2020/11/S2A_23KPR_20201129_0_L2A/B02.tif [228064977/228064977] -> \"-\" [1]\n",
      "16:17:17: sending https://sentinel-cogs.s3.us-west-2.amazonaws.com/sentinel-s2-l2a-cogs/23/K/NR/2020/10/S2A_23KNR_20201030_0_L2A/B03.tif\n",
      "16:17:17: sending https://sentinel-cogs.s3.us-west-2.amazonaws.com/sentinel-s2-l2a-cogs/23/K/NR/2020/11/S2A_23KNR_20201119_0_L2A/B02.tif\n"
     ]
    },
    {
     "name": "stdout",
     "output_type": "stream",
     "text": [
      "\n",
      "\n",
      "wget this: %s https://sentinel-cogs.s3.us-west-2.amazonaws.com/sentinel-s2-l2a-cogs/23/K/NR/2020/10/S2A_23KNR_20201030_0_L2A/B03.tif\n",
      "wget -nv -O- https://sentinel-cogs.s3.us-west-2.amazonaws.com/sentinel-s2-l2a-cogs/23/K/NR/2020/10/S2A_23KNR_20201030_0_L2A/B03.tif | aws s3 cp - s3://dev-et-data/usmart/RIO/sentinel-s2-l2a-cogs/\n",
      "S2A_23KNR_20201030_0_L2A_B03.tif\n",
      "wget -nv -O- https://sentinel-cogs.s3.us-west-2.amazonaws.com/sentinel-s2-l2a-cogs/23/K/NR/2020/10/S2A_23KNR_20201030_0_L2A/B03.tif | aws s3 cp - s3://dev-et-data/usmart/RIO/sentinel-s2-l2a-cogs/S2A_23KNR_20201030_0_L2A_B03.tif\n",
      "\n",
      "\n",
      "wget this: %s https://sentinel-cogs.s3.us-west-2.amazonaws.com/sentinel-s2-l2a-cogs/23/K/NR/2020/11/S2A_23KNR_20201119_0_L2A/B02.tif\n",
      "wget -nv -O- https://sentinel-cogs.s3.us-west-2.amazonaws.com/sentinel-s2-l2a-cogs/23/K/NR/2020/11/S2A_23KNR_20201119_0_L2A/B02.tif | aws s3 cp - s3://dev-et-data/usmart/RIO/sentinel-s2-l2a-cogs/\n",
      "S2A_23KNR_20201119_0_L2A_B02.tif\n",
      "wget -nv -O- https://sentinel-cogs.s3.us-west-2.amazonaws.com/sentinel-s2-l2a-cogs/23/K/NR/2020/11/S2A_23KNR_20201119_0_L2A/B02.tif | aws s3 cp - s3://dev-et-data/usmart/RIO/sentinel-s2-l2a-cogs/S2A_23KNR_20201119_0_L2A_B02.tif\n"
     ]
    },
    {
     "name": "stderr",
     "output_type": "stream",
     "text": [
      "2021-09-13 16:17:17 URL:https://sentinel-cogs.s3.us-west-2.amazonaws.com/sentinel-s2-l2a-cogs/23/K/NR/2020/11/S2B_23KNR_20201114_0_L2A/B03.tif [102502968/102502968] -> \"-\" [1]\n",
      "16:17:17: Thread 13: finishing in 37 seconds\n",
      "16:17:17: xfer Thread 29: starting\n",
      "16:17:17: sending https://sentinel-cogs.s3.us-west-2.amazonaws.com/sentinel-s2-l2a-cogs/23/K/PR/2020/10/S2A_23KPR_20201020_0_L2A/B04.tif\n"
     ]
    },
    {
     "name": "stdout",
     "output_type": "stream",
     "text": [
      "\n",
      "\n",
      "wget this: %s https://sentinel-cogs.s3.us-west-2.amazonaws.com/sentinel-s2-l2a-cogs/23/K/PR/2020/10/S2A_23KPR_20201020_0_L2A/B04.tif\n",
      "wget -nv -O- https://sentinel-cogs.s3.us-west-2.amazonaws.com/sentinel-s2-l2a-cogs/23/K/PR/2020/10/S2A_23KPR_20201020_0_L2A/B04.tif | aws s3 cp - s3://dev-et-data/usmart/RIO/sentinel-s2-l2a-cogs/\n",
      "S2A_23KPR_20201020_0_L2A_B04.tif\n",
      "wget -nv -O- https://sentinel-cogs.s3.us-west-2.amazonaws.com/sentinel-s2-l2a-cogs/23/K/PR/2020/10/S2A_23KPR_20201020_0_L2A/B04.tif | aws s3 cp - s3://dev-et-data/usmart/RIO/sentinel-s2-l2a-cogs/S2A_23KPR_20201020_0_L2A_B04.tif\n"
     ]
    },
    {
     "name": "stderr",
     "output_type": "stream",
     "text": [
      "2021-09-13 16:17:17 URL:https://sentinel-cogs.s3.us-west-2.amazonaws.com/sentinel-s2-l2a-cogs/23/K/PR/2020/10/S2A_23KPR_20201030_0_L2A/B04.tif [151716624/151716624] -> \"-\" [1]\n",
      "16:17:18: sending https://sentinel-cogs.s3.us-west-2.amazonaws.com/sentinel-s2-l2a-cogs/23/K/NR/2020/11/S2B_23KNR_20201114_0_L2A/B02.tif\n"
     ]
    },
    {
     "name": "stdout",
     "output_type": "stream",
     "text": [
      "\n",
      "\n",
      "wget this: %s https://sentinel-cogs.s3.us-west-2.amazonaws.com/sentinel-s2-l2a-cogs/23/K/NR/2020/11/S2B_23KNR_20201114_0_L2A/B02.tif\n",
      "wget -nv -O- https://sentinel-cogs.s3.us-west-2.amazonaws.com/sentinel-s2-l2a-cogs/23/K/NR/2020/11/S2B_23KNR_20201114_0_L2A/B02.tif | aws s3 cp - s3://dev-et-data/usmart/RIO/sentinel-s2-l2a-cogs/\n",
      "S2B_23KNR_20201114_0_L2A_B02.tif\n",
      "wget -nv -O- https://sentinel-cogs.s3.us-west-2.amazonaws.com/sentinel-s2-l2a-cogs/23/K/NR/2020/11/S2B_23KNR_20201114_0_L2A/B02.tif | aws s3 cp - s3://dev-et-data/usmart/RIO/sentinel-s2-l2a-cogs/S2B_23KNR_20201114_0_L2A_B02.tif\n"
     ]
    },
    {
     "name": "stderr",
     "output_type": "stream",
     "text": [
      "2021-09-13 16:17:18 URL:https://sentinel-cogs.s3.us-west-2.amazonaws.com/sentinel-s2-l2a-cogs/23/K/NR/2020/10/S2A_23KNR_20201020_0_L2A/B04.tif [113690263/113690263] -> \"-\" [1]\n",
      "2021-09-13 16:17:18 URL:https://sentinel-cogs.s3.us-west-2.amazonaws.com/sentinel-s2-l2a-cogs/23/K/NR/2020/10/S2B_23KNR_20201025_0_L2A/B04.tif [107141852/107141852] -> \"-\" [1]\n",
      "16:17:19: sending https://sentinel-cogs.s3.us-west-2.amazonaws.com/sentinel-s2-l2a-cogs/23/K/PR/2020/10/S2A_23KPR_20201030_0_L2A/B03.tif\n"
     ]
    },
    {
     "name": "stdout",
     "output_type": "stream",
     "text": [
      "\n",
      "\n",
      "wget this: %s https://sentinel-cogs.s3.us-west-2.amazonaws.com/sentinel-s2-l2a-cogs/23/K/PR/2020/10/S2A_23KPR_20201030_0_L2A/B03.tif\n",
      "wget -nv -O- https://sentinel-cogs.s3.us-west-2.amazonaws.com/sentinel-s2-l2a-cogs/23/K/PR/2020/10/S2A_23KPR_20201030_0_L2A/B03.tif | aws s3 cp - s3://dev-et-data/usmart/RIO/sentinel-s2-l2a-cogs/\n",
      "S2A_23KPR_20201030_0_L2A_B03.tif\n",
      "wget -nv -O- https://sentinel-cogs.s3.us-west-2.amazonaws.com/sentinel-s2-l2a-cogs/23/K/PR/2020/10/S2A_23KPR_20201030_0_L2A/B03.tif | aws s3 cp - s3://dev-et-data/usmart/RIO/sentinel-s2-l2a-cogs/S2A_23KPR_20201030_0_L2A_B03.tif\n"
     ]
    },
    {
     "name": "stderr",
     "output_type": "stream",
     "text": [
      "16:17:19: sending https://sentinel-cogs.s3.us-west-2.amazonaws.com/sentinel-s2-l2a-cogs/23/K/NR/2020/10/S2A_23KNR_20201020_0_L2A/B03.tif\n"
     ]
    },
    {
     "name": "stdout",
     "output_type": "stream",
     "text": [
      "\n",
      "\n",
      "wget this: %s https://sentinel-cogs.s3.us-west-2.amazonaws.com/sentinel-s2-l2a-cogs/23/K/NR/2020/10/S2A_23KNR_20201020_0_L2A/B03.tif\n",
      "wget -nv -O- https://sentinel-cogs.s3.us-west-2.amazonaws.com/sentinel-s2-l2a-cogs/23/K/NR/2020/10/S2A_23KNR_20201020_0_L2A/B03.tif | aws s3 cp - s3://dev-et-data/usmart/RIO/sentinel-s2-l2a-cogs/\n",
      "S2A_23KNR_20201020_0_L2A_B03.tif\n",
      "wget -nv -O- https://sentinel-cogs.s3.us-west-2.amazonaws.com/sentinel-s2-l2a-cogs/23/K/NR/2020/10/S2A_23KNR_20201020_0_L2A/B03.tif | aws s3 cp - s3://dev-et-data/usmart/RIO/sentinel-s2-l2a-cogs/S2A_23KNR_20201020_0_L2A_B03.tif\n"
     ]
    },
    {
     "name": "stderr",
     "output_type": "stream",
     "text": [
      "16:17:20: sending https://sentinel-cogs.s3.us-west-2.amazonaws.com/sentinel-s2-l2a-cogs/23/K/NR/2020/10/S2B_23KNR_20201025_0_L2A/B03.tif\n"
     ]
    },
    {
     "name": "stdout",
     "output_type": "stream",
     "text": [
      "\n",
      "\n",
      "wget this: %s https://sentinel-cogs.s3.us-west-2.amazonaws.com/sentinel-s2-l2a-cogs/23/K/NR/2020/10/S2B_23KNR_20201025_0_L2A/B03.tif\n",
      "wget -nv -O- https://sentinel-cogs.s3.us-west-2.amazonaws.com/sentinel-s2-l2a-cogs/23/K/NR/2020/10/S2B_23KNR_20201025_0_L2A/B03.tif | aws s3 cp - s3://dev-et-data/usmart/RIO/sentinel-s2-l2a-cogs/\n",
      "S2B_23KNR_20201025_0_L2A_B03.tif\n",
      "wget -nv -O- https://sentinel-cogs.s3.us-west-2.amazonaws.com/sentinel-s2-l2a-cogs/23/K/NR/2020/10/S2B_23KNR_20201025_0_L2A/B03.tif | aws s3 cp - s3://dev-et-data/usmart/RIO/sentinel-s2-l2a-cogs/S2B_23KNR_20201025_0_L2A_B03.tif\n"
     ]
    },
    {
     "name": "stderr",
     "output_type": "stream",
     "text": [
      "2021-09-13 16:17:20 URL:https://sentinel-cogs.s3.us-west-2.amazonaws.com/sentinel-s2-l2a-cogs/23/K/NR/2020/11/S2B_23KNR_20201104_0_L2A/B03.tif [122916627/122916627] -> \"-\" [1]\n",
      "2021-09-13 16:17:21 URL:https://sentinel-cogs.s3.us-west-2.amazonaws.com/sentinel-s2-l2a-cogs/23/K/PR/2020/11/S2A_23KPR_20201119_0_L2A/B03.tif [192028644/192028644] -> \"-\" [1]\n",
      "2021-09-13 16:17:21 URL:https://sentinel-cogs.s3.us-west-2.amazonaws.com/sentinel-s2-l2a-cogs/23/K/NR/2020/11/S2A_23KNR_20201109_0_L2A/B03.tif [120343187/120343187] -> \"-\" [1]\n",
      "16:17:21: sending https://sentinel-cogs.s3.us-west-2.amazonaws.com/sentinel-s2-l2a-cogs/23/K/PR/2020/11/S2A_23KPR_20201119_0_L2A/B02.tif\n",
      "16:17:22: sending https://sentinel-cogs.s3.us-west-2.amazonaws.com/sentinel-s2-l2a-cogs/23/K/NR/2020/11/S2A_23KNR_20201109_0_L2A/B02.tif\n"
     ]
    },
    {
     "name": "stdout",
     "output_type": "stream",
     "text": [
      "\n",
      "\n",
      "wget this: %s https://sentinel-cogs.s3.us-west-2.amazonaws.com/sentinel-s2-l2a-cogs/23/K/PR/2020/11/S2A_23KPR_20201119_0_L2A/B02.tif\n",
      "wget -nv -O- https://sentinel-cogs.s3.us-west-2.amazonaws.com/sentinel-s2-l2a-cogs/23/K/PR/2020/11/S2A_23KPR_20201119_0_L2A/B02.tif | aws s3 cp - s3://dev-et-data/usmart/RIO/sentinel-s2-l2a-cogs/\n",
      "S2A_23KPR_20201119_0_L2A_B02.tif\n",
      "wget -nv -O- https://sentinel-cogs.s3.us-west-2.amazonaws.com/sentinel-s2-l2a-cogs/23/K/PR/2020/11/S2A_23KPR_20201119_0_L2A/B02.tif | aws s3 cp - s3://dev-et-data/usmart/RIO/sentinel-s2-l2a-cogs/S2A_23KPR_20201119_0_L2A_B02.tif\n",
      "\n",
      "\n",
      "wget this: %s https://sentinel-cogs.s3.us-west-2.amazonaws.com/sentinel-s2-l2a-cogs/23/K/NR/2020/11/S2A_23KNR_20201109_0_L2A/B02.tif\n",
      "wget -nv -O- https://sentinel-cogs.s3.us-west-2.amazonaws.com/sentinel-s2-l2a-cogs/23/K/NR/2020/11/S2A_23KNR_20201109_0_L2A/B02.tif | aws s3 cp - s3://dev-et-data/usmart/RIO/sentinel-s2-l2a-cogs/\n",
      "S2A_23KNR_20201109_0_L2A_B02.tif\n",
      "wget -nv -O- https://sentinel-cogs.s3.us-west-2.amazonaws.com/sentinel-s2-l2a-cogs/23/K/NR/2020/11/S2A_23KNR_20201109_0_L2A/B02.tif | aws s3 cp - s3://dev-et-data/usmart/RIO/sentinel-s2-l2a-cogs/S2A_23KNR_20201109_0_L2A_B02.tif\n"
     ]
    },
    {
     "name": "stderr",
     "output_type": "stream",
     "text": [
      "2021-09-13 16:17:22 URL:https://sentinel-cogs.s3.us-west-2.amazonaws.com/sentinel-s2-l2a-cogs/23/K/PR/2020/10/S2B_23KPR_20201025_0_L2A/B04.tif [196747420/196747420] -> \"-\" [1]\n",
      "16:17:23: sending https://sentinel-cogs.s3.us-west-2.amazonaws.com/sentinel-s2-l2a-cogs/23/K/NR/2020/11/S2B_23KNR_20201104_0_L2A/B02.tif\n"
     ]
    },
    {
     "name": "stdout",
     "output_type": "stream",
     "text": [
      "\n",
      "\n",
      "wget this: %s https://sentinel-cogs.s3.us-west-2.amazonaws.com/sentinel-s2-l2a-cogs/23/K/NR/2020/11/S2B_23KNR_20201104_0_L2A/B02.tif\n",
      "wget -nv -O- https://sentinel-cogs.s3.us-west-2.amazonaws.com/sentinel-s2-l2a-cogs/23/K/NR/2020/11/S2B_23KNR_20201104_0_L2A/B02.tif | aws s3 cp - s3://dev-et-data/usmart/RIO/sentinel-s2-l2a-cogs/\n",
      "S2B_23KNR_20201104_0_L2A_B02.tif\n",
      "wget -nv -O- https://sentinel-cogs.s3.us-west-2.amazonaws.com/sentinel-s2-l2a-cogs/23/K/NR/2020/11/S2B_23KNR_20201104_0_L2A/B02.tif | aws s3 cp - s3://dev-et-data/usmart/RIO/sentinel-s2-l2a-cogs/S2B_23KNR_20201104_0_L2A_B02.tif\n"
     ]
    },
    {
     "name": "stderr",
     "output_type": "stream",
     "text": [
      "16:17:23: sending https://sentinel-cogs.s3.us-west-2.amazonaws.com/sentinel-s2-l2a-cogs/23/K/PR/2020/10/S2B_23KPR_20201025_0_L2A/B03.tif\n"
     ]
    },
    {
     "name": "stdout",
     "output_type": "stream",
     "text": [
      "\n",
      "\n",
      "wget this: %s https://sentinel-cogs.s3.us-west-2.amazonaws.com/sentinel-s2-l2a-cogs/23/K/PR/2020/10/S2B_23KPR_20201025_0_L2A/B03.tif\n",
      "wget -nv -O- https://sentinel-cogs.s3.us-west-2.amazonaws.com/sentinel-s2-l2a-cogs/23/K/PR/2020/10/S2B_23KPR_20201025_0_L2A/B03.tif | aws s3 cp - s3://dev-et-data/usmart/RIO/sentinel-s2-l2a-cogs/\n",
      "S2B_23KPR_20201025_0_L2A_B03.tif\n",
      "wget -nv -O- https://sentinel-cogs.s3.us-west-2.amazonaws.com/sentinel-s2-l2a-cogs/23/K/PR/2020/10/S2B_23KPR_20201025_0_L2A/B03.tif | aws s3 cp - s3://dev-et-data/usmart/RIO/sentinel-s2-l2a-cogs/S2B_23KPR_20201025_0_L2A_B03.tif\n"
     ]
    },
    {
     "name": "stderr",
     "output_type": "stream",
     "text": [
      "2021-09-13 16:17:23 URL:https://sentinel-cogs.s3.us-west-2.amazonaws.com/sentinel-s2-l2a-cogs/23/K/NR/2020/10/S2A_23KNR_20201030_0_L2A/B03.tif [87624950/87624950] -> \"-\" [1]\n",
      "2021-09-13 16:17:24 URL:https://sentinel-cogs.s3.us-west-2.amazonaws.com/sentinel-s2-l2a-cogs/23/K/NR/2020/11/S2A_23KNR_20201119_0_L2A/B02.tif [113732864/113732864] -> \"-\" [1]\n",
      "16:17:24: sending https://sentinel-cogs.s3.us-west-2.amazonaws.com/sentinel-s2-l2a-cogs/23/K/NR/2020/10/S2A_23KNR_20201030_0_L2A/B02.tif\n",
      "2021-09-13 16:17:24 URL:https://sentinel-cogs.s3.us-west-2.amazonaws.com/sentinel-s2-l2a-cogs/23/K/PR/2020/11/S2B_23KPR_20201114_0_L2A/B03.tif [191646515/191646515] -> \"-\" [1]\n"
     ]
    },
    {
     "name": "stdout",
     "output_type": "stream",
     "text": [
      "\n",
      "\n",
      "wget this: %s https://sentinel-cogs.s3.us-west-2.amazonaws.com/sentinel-s2-l2a-cogs/23/K/NR/2020/10/S2A_23KNR_20201030_0_L2A/B02.tif\n",
      "wget -nv -O- https://sentinel-cogs.s3.us-west-2.amazonaws.com/sentinel-s2-l2a-cogs/23/K/NR/2020/10/S2A_23KNR_20201030_0_L2A/B02.tif | aws s3 cp - s3://dev-et-data/usmart/RIO/sentinel-s2-l2a-cogs/\n",
      "S2A_23KNR_20201030_0_L2A_B02.tif\n",
      "wget -nv -O- https://sentinel-cogs.s3.us-west-2.amazonaws.com/sentinel-s2-l2a-cogs/23/K/NR/2020/10/S2A_23KNR_20201030_0_L2A/B02.tif | aws s3 cp - s3://dev-et-data/usmart/RIO/sentinel-s2-l2a-cogs/S2A_23KNR_20201030_0_L2A_B02.tif\n"
     ]
    },
    {
     "name": "stderr",
     "output_type": "stream",
     "text": [
      "2021-09-13 16:17:25 URL:https://sentinel-cogs.s3.us-west-2.amazonaws.com/sentinel-s2-l2a-cogs/23/K/NR/2020/11/S2B_23KNR_20201114_0_L2A/B02.tif [103912994/103912994] -> \"-\" [1]\n",
      "16:17:25: Thread 16: finishing in 24 seconds\n",
      "16:17:25: xfer Thread 30: starting\n",
      "16:17:25: sending https://sentinel-cogs.s3.us-west-2.amazonaws.com/sentinel-s2-l2a-cogs/23/K/NR/2020/10/S2B_23KNR_20201015_0_L2A/B04.tif\n",
      "16:17:25: sending https://sentinel-cogs.s3.us-west-2.amazonaws.com/sentinel-s2-l2a-cogs/23/K/PR/2020/11/S2B_23KPR_20201114_0_L2A/B02.tif\n"
     ]
    },
    {
     "name": "stdout",
     "output_type": "stream",
     "text": [
      "\n",
      "\n",
      "wget this: %s https://sentinel-cogs.s3.us-west-2.amazonaws.com/sentinel-s2-l2a-cogs/23/K/NR/2020/10/S2B_23KNR_20201015_0_L2A/B04.tif\n",
      "wget -nv -O- https://sentinel-cogs.s3.us-west-2.amazonaws.com/sentinel-s2-l2a-cogs/23/K/NR/2020/10/S2B_23KNR_20201015_0_L2A/B04.tif | aws s3 cp - s3://dev-et-data/usmart/RIO/sentinel-s2-l2a-cogs/\n",
      "S2B_23KNR_20201015_0_L2A_B04.tif\n",
      "wget -nv -O- https://sentinel-cogs.s3.us-west-2.amazonaws.com/sentinel-s2-l2a-cogs/23/K/NR/2020/10/S2B_23KNR_20201015_0_L2A/B04.tif | aws s3 cp - s3://dev-et-data/usmart/RIO/sentinel-s2-l2a-cogs/S2B_23KNR_20201015_0_L2A_B04.tif\n",
      "\n",
      "\n",
      "wget this: %s https://sentinel-cogs.s3.us-west-2.amazonaws.com/sentinel-s2-l2a-cogs/23/K/PR/2020/11/S2B_23KPR_20201114_0_L2A/B02.tif\n",
      "wget -nv -O- https://sentinel-cogs.s3.us-west-2.amazonaws.com/sentinel-s2-l2a-cogs/23/K/PR/2020/11/S2B_23KPR_20201114_0_L2A/B02.tif | aws s3 cp - s3://dev-et-data/usmart/RIO/sentinel-s2-l2a-cogs/\n",
      "S2B_23KPR_20201114_0_L2A_B02.tif\n",
      "wget -nv -O- https://sentinel-cogs.s3.us-west-2.amazonaws.com/sentinel-s2-l2a-cogs/23/K/PR/2020/11/S2B_23KPR_20201114_0_L2A/B02.tif | aws s3 cp - s3://dev-et-data/usmart/RIO/sentinel-s2-l2a-cogs/S2B_23KPR_20201114_0_L2A_B02.tif\n"
     ]
    },
    {
     "name": "stderr",
     "output_type": "stream",
     "text": [
      "2021-09-13 16:17:26 URL:https://sentinel-cogs.s3.us-west-2.amazonaws.com/sentinel-s2-l2a-cogs/23/K/PR/2020/11/S2B_23KPR_20201124_0_L2A/B03.tif [230885357/230885357] -> \"-\" [1]\n",
      "2021-09-13 16:17:26 URL:https://sentinel-cogs.s3.us-west-2.amazonaws.com/sentinel-s2-l2a-cogs/23/K/PR/2020/10/S2A_23KPR_20201020_0_L2A/B04.tif [189372230/189372230] -> \"-\" [1]\n",
      "2021-09-13 16:17:26 URL:https://sentinel-cogs.s3.us-west-2.amazonaws.com/sentinel-s2-l2a-cogs/23/K/NR/2020/10/S2B_23KNR_20201025_0_L2A/B03.tif [106756643/106756643] -> \"-\" [1]\n",
      "2021-09-13 16:17:26 URL:https://sentinel-cogs.s3.us-west-2.amazonaws.com/sentinel-s2-l2a-cogs/23/K/NR/2020/10/S2A_23KNR_20201020_0_L2A/B03.tif [112685818/112685818] -> \"-\" [1]\n",
      "16:17:26: Thread 18: finishing in 23 seconds\n",
      "16:17:26: xfer Thread 31: starting\n",
      "16:17:26: sending https://sentinel-cogs.s3.us-west-2.amazonaws.com/sentinel-s2-l2a-cogs/23/K/PR/2020/10/S2B_23KPR_20201015_0_L2A/B04.tif\n",
      "2021-09-13 16:17:26 URL:https://sentinel-cogs.s3.us-west-2.amazonaws.com/sentinel-s2-l2a-cogs/23/K/PR/2020/11/S2B_23KPR_20201104_0_L2A/B03.tif [207112440/207112440] -> \"-\" [1]\n",
      "16:17:26: sending https://sentinel-cogs.s3.us-west-2.amazonaws.com/sentinel-s2-l2a-cogs/23/K/PR/2020/11/S2B_23KPR_20201124_0_L2A/B02.tif\n"
     ]
    },
    {
     "name": "stdout",
     "output_type": "stream",
     "text": [
      "\n",
      "\n",
      "wget this: %s https://sentinel-cogs.s3.us-west-2.amazonaws.com/sentinel-s2-l2a-cogs/23/K/PR/2020/10/S2B_23KPR_20201015_0_L2A/B04.tif\n",
      "wget -nv -O- https://sentinel-cogs.s3.us-west-2.amazonaws.com/sentinel-s2-l2a-cogs/23/K/PR/2020/10/S2B_23KPR_20201015_0_L2A/B04.tif | aws s3 cp - s3://dev-et-data/usmart/RIO/sentinel-s2-l2a-cogs/\n",
      "S2B_23KPR_20201015_0_L2A_B04.tif\n",
      "wget -nv -O- https://sentinel-cogs.s3.us-west-2.amazonaws.com/sentinel-s2-l2a-cogs/23/K/PR/2020/10/S2B_23KPR_20201015_0_L2A/B04.tif | aws s3 cp - s3://dev-et-data/usmart/RIO/sentinel-s2-l2a-cogs/S2B_23KPR_20201015_0_L2A_B04.tif\n",
      "\n",
      "\n",
      "wget this: %s https://sentinel-cogs.s3.us-west-2.amazonaws.com/sentinel-s2-l2a-cogs/23/K/PR/2020/11/S2B_23KPR_20201124_0_L2A/B02.tif\n",
      "wget -nv -O- https://sentinel-cogs.s3.us-west-2.amazonaws.com/sentinel-s2-l2a-cogs/23/K/PR/2020/11/S2B_23KPR_20201124_0_L2A/B02.tif | aws s3 cp - s3://dev-et-data/usmart/RIO/sentinel-s2-l2a-cogs/\n",
      "S2B_23KPR_20201124_0_L2A_B02.tif\n",
      "wget -nv -O- https://sentinel-cogs.s3.us-west-2.amazonaws.com/sentinel-s2-l2a-cogs/23/K/PR/2020/11/S2B_23KPR_20201124_0_L2A/B02.tif | aws s3 cp - s3://dev-et-data/usmart/RIO/sentinel-s2-l2a-cogs/S2B_23KPR_20201124_0_L2A_B02.tif\n"
     ]
    },
    {
     "name": "stderr",
     "output_type": "stream",
     "text": [
      "2021-09-13 16:17:26 URL:https://sentinel-cogs.s3.us-west-2.amazonaws.com/sentinel-s2-l2a-cogs/23/K/PR/2020/10/S2A_23KPR_20201030_0_L2A/B03.tif [151942587/151942587] -> \"-\" [1]\n",
      "16:17:27: sending https://sentinel-cogs.s3.us-west-2.amazonaws.com/sentinel-s2-l2a-cogs/23/K/PR/2020/10/S2A_23KPR_20201020_0_L2A/B03.tif\n",
      "16:17:27: sending https://sentinel-cogs.s3.us-west-2.amazonaws.com/sentinel-s2-l2a-cogs/23/K/PR/2020/11/S2B_23KPR_20201104_0_L2A/B02.tif\n"
     ]
    },
    {
     "name": "stdout",
     "output_type": "stream",
     "text": [
      "\n",
      "\n",
      "wget this: %s https://sentinel-cogs.s3.us-west-2.amazonaws.com/sentinel-s2-l2a-cogs/23/K/PR/2020/10/S2A_23KPR_20201020_0_L2A/B03.tif\n",
      "wget -nv -O- https://sentinel-cogs.s3.us-west-2.amazonaws.com/sentinel-s2-l2a-cogs/23/K/PR/2020/10/S2A_23KPR_20201020_0_L2A/B03.tif | aws s3 cp - s3://dev-et-data/usmart/RIO/sentinel-s2-l2a-cogs/\n",
      "S2A_23KPR_20201020_0_L2A_B03.tif\n",
      "wget -nv -O- https://sentinel-cogs.s3.us-west-2.amazonaws.com/sentinel-s2-l2a-cogs/23/K/PR/2020/10/S2A_23KPR_20201020_0_L2A/B03.tif | aws s3 cp - s3://dev-et-data/usmart/RIO/sentinel-s2-l2a-cogs/S2A_23KPR_20201020_0_L2A_B03.tif\n",
      "\n",
      "\n",
      "wget this: %s https://sentinel-cogs.s3.us-west-2.amazonaws.com/sentinel-s2-l2a-cogs/23/K/PR/2020/11/S2B_23KPR_20201104_0_L2A/B02.tif\n",
      "wget -nv -O- https://sentinel-cogs.s3.us-west-2.amazonaws.com/sentinel-s2-l2a-cogs/23/K/PR/2020/11/S2B_23KPR_20201104_0_L2A/B02.tif | aws s3 cp - s3://dev-et-data/usmart/RIO/sentinel-s2-l2a-cogs/\n",
      "S2B_23KPR_20201104_0_L2A_B02.tif\n",
      "wget -nv -O- https://sentinel-cogs.s3.us-west-2.amazonaws.com/sentinel-s2-l2a-cogs/23/K/PR/2020/11/S2B_23KPR_20201104_0_L2A/B02.tif | aws s3 cp - s3://dev-et-data/usmart/RIO/sentinel-s2-l2a-cogs/S2B_23KPR_20201104_0_L2A_B02.tif\n"
     ]
    },
    {
     "name": "stderr",
     "output_type": "stream",
     "text": [
      "2021-09-13 16:17:27 URL:https://sentinel-cogs.s3.us-west-2.amazonaws.com/sentinel-s2-l2a-cogs/23/K/PR/2020/11/S2A_23KPR_20201109_0_L2A/B03.tif [211685677/211685677] -> \"-\" [1]\n",
      "16:17:27: sending https://sentinel-cogs.s3.us-west-2.amazonaws.com/sentinel-s2-l2a-cogs/23/K/NR/2020/10/S2A_23KNR_20201020_0_L2A/B02.tif\n"
     ]
    },
    {
     "name": "stdout",
     "output_type": "stream",
     "text": [
      "\n",
      "\n",
      "wget this: %s https://sentinel-cogs.s3.us-west-2.amazonaws.com/sentinel-s2-l2a-cogs/23/K/NR/2020/10/S2A_23KNR_20201020_0_L2A/B02.tif\n",
      "wget -nv -O- https://sentinel-cogs.s3.us-west-2.amazonaws.com/sentinel-s2-l2a-cogs/23/K/NR/2020/10/S2A_23KNR_20201020_0_L2A/B02.tif | aws s3 cp - s3://dev-et-data/usmart/RIO/sentinel-s2-l2a-cogs/\n",
      "S2A_23KNR_20201020_0_L2A_B02.tif\n",
      "wget -nv -O- https://sentinel-cogs.s3.us-west-2.amazonaws.com/sentinel-s2-l2a-cogs/23/K/NR/2020/10/S2A_23KNR_20201020_0_L2A/B02.tif | aws s3 cp - s3://dev-et-data/usmart/RIO/sentinel-s2-l2a-cogs/S2A_23KNR_20201020_0_L2A_B02.tif\n"
     ]
    },
    {
     "name": "stderr",
     "output_type": "stream",
     "text": [
      "16:17:27: sending https://sentinel-cogs.s3.us-west-2.amazonaws.com/sentinel-s2-l2a-cogs/23/K/NR/2020/10/S2B_23KNR_20201025_0_L2A/B02.tif\n",
      "16:17:27: sending https://sentinel-cogs.s3.us-west-2.amazonaws.com/sentinel-s2-l2a-cogs/23/K/PR/2020/10/S2A_23KPR_20201030_0_L2A/B02.tif\n"
     ]
    },
    {
     "name": "stdout",
     "output_type": "stream",
     "text": [
      "\n",
      "\n",
      "wget this: %s https://sentinel-cogs.s3.us-west-2.amazonaws.com/sentinel-s2-l2a-cogs/23/K/NR/2020/10/S2B_23KNR_20201025_0_L2A/B02.tif\n",
      "wget -nv -O- https://sentinel-cogs.s3.us-west-2.amazonaws.com/sentinel-s2-l2a-cogs/23/K/NR/2020/10/S2B_23KNR_20201025_0_L2A/B02.tif | aws s3 cp - s3://dev-et-data/usmart/RIO/sentinel-s2-l2a-cogs/\n",
      "S2B_23KNR_20201025_0_L2A_B02.tif\n",
      "wget -nv -O- https://sentinel-cogs.s3.us-west-2.amazonaws.com/sentinel-s2-l2a-cogs/23/K/NR/2020/10/S2B_23KNR_20201025_0_L2A/B02.tif | aws s3 cp - s3://dev-et-data/usmart/RIO/sentinel-s2-l2a-cogs/S2B_23KNR_20201025_0_L2A_B02.tif\n",
      "\n",
      "\n",
      "wget this: %s https://sentinel-cogs.s3.us-west-2.amazonaws.com/sentinel-s2-l2a-cogs/23/K/PR/2020/10/S2A_23KPR_20201030_0_L2A/B02.tif\n",
      "wget -nv -O- https://sentinel-cogs.s3.us-west-2.amazonaws.com/sentinel-s2-l2a-cogs/23/K/PR/2020/10/S2A_23KPR_20201030_0_L2A/B02.tif | aws s3 cp - s3://dev-et-data/usmart/RIO/sentinel-s2-l2a-cogs/\n",
      "S2A_23KPR_20201030_0_L2A_B02.tif\n",
      "wget -nv -O- https://sentinel-cogs.s3.us-west-2.amazonaws.com/sentinel-s2-l2a-cogs/23/K/PR/2020/10/S2A_23KPR_20201030_0_L2A/B02.tif | aws s3 cp - s3://dev-et-data/usmart/RIO/sentinel-s2-l2a-cogs/S2A_23KPR_20201030_0_L2A_B02.tif\n"
     ]
    },
    {
     "name": "stderr",
     "output_type": "stream",
     "text": [
      "16:17:28: sending https://sentinel-cogs.s3.us-west-2.amazonaws.com/sentinel-s2-l2a-cogs/23/K/PR/2020/11/S2A_23KPR_20201109_0_L2A/B02.tif\n"
     ]
    },
    {
     "name": "stdout",
     "output_type": "stream",
     "text": [
      "\n",
      "\n",
      "wget this: %s https://sentinel-cogs.s3.us-west-2.amazonaws.com/sentinel-s2-l2a-cogs/23/K/PR/2020/11/S2A_23KPR_20201109_0_L2A/B02.tif\n",
      "wget -nv -O- https://sentinel-cogs.s3.us-west-2.amazonaws.com/sentinel-s2-l2a-cogs/23/K/PR/2020/11/S2A_23KPR_20201109_0_L2A/B02.tif | aws s3 cp - s3://dev-et-data/usmart/RIO/sentinel-s2-l2a-cogs/\n",
      "S2A_23KPR_20201109_0_L2A_B02.tif\n",
      "wget -nv -O- https://sentinel-cogs.s3.us-west-2.amazonaws.com/sentinel-s2-l2a-cogs/23/K/PR/2020/11/S2A_23KPR_20201109_0_L2A/B02.tif | aws s3 cp - s3://dev-et-data/usmart/RIO/sentinel-s2-l2a-cogs/S2A_23KPR_20201109_0_L2A_B02.tif\n"
     ]
    },
    {
     "name": "stderr",
     "output_type": "stream",
     "text": [
      "2021-09-13 16:17:29 URL:https://sentinel-cogs.s3.us-west-2.amazonaws.com/sentinel-s2-l2a-cogs/23/K/NR/2020/10/S2A_23KNR_20201030_0_L2A/B02.tif [89574137/89574137] -> \"-\" [1]\n",
      "2021-09-13 16:17:29 URL:https://sentinel-cogs.s3.us-west-2.amazonaws.com/sentinel-s2-l2a-cogs/23/K/NR/2020/11/S2B_23KNR_20201104_0_L2A/B02.tif [122856163/122856163] -> \"-\" [1]\n",
      "16:17:29: Thread 24: finishing in 21 seconds\n",
      "16:17:29: xfer Thread 32: starting\n",
      "16:17:29: sending https://sentinel-cogs.s3.us-west-2.amazonaws.com/sentinel-s2-l2a-cogs/23/K/NR/2020/10/S2A_23KNR_20201010_0_L2A/B04.tif\n"
     ]
    },
    {
     "name": "stdout",
     "output_type": "stream",
     "text": [
      "\n",
      "\n",
      "wget this: %s https://sentinel-cogs.s3.us-west-2.amazonaws.com/sentinel-s2-l2a-cogs/23/K/NR/2020/10/S2A_23KNR_20201010_0_L2A/B04.tif\n",
      "wget -nv -O- https://sentinel-cogs.s3.us-west-2.amazonaws.com/sentinel-s2-l2a-cogs/23/K/NR/2020/10/S2A_23KNR_20201010_0_L2A/B04.tif | aws s3 cp - s3://dev-et-data/usmart/RIO/sentinel-s2-l2a-cogs/\n",
      "S2A_23KNR_20201010_0_L2A_B04.tif\n",
      "wget -nv -O- https://sentinel-cogs.s3.us-west-2.amazonaws.com/sentinel-s2-l2a-cogs/23/K/NR/2020/10/S2A_23KNR_20201010_0_L2A/B04.tif | aws s3 cp - s3://dev-et-data/usmart/RIO/sentinel-s2-l2a-cogs/S2A_23KNR_20201010_0_L2A_B04.tif\n"
     ]
    },
    {
     "name": "stderr",
     "output_type": "stream",
     "text": [
      "16:17:30: Thread 22: finishing in 24 seconds\n",
      "16:17:30: xfer Thread 33: starting\n",
      "16:17:30: sending https://sentinel-cogs.s3.us-west-2.amazonaws.com/sentinel-s2-l2a-cogs/23/K/PR/2020/10/S2A_23KPR_20201010_0_L2A/B04.tif\n"
     ]
    },
    {
     "name": "stdout",
     "output_type": "stream",
     "text": [
      "\n",
      "\n",
      "wget this: %s https://sentinel-cogs.s3.us-west-2.amazonaws.com/sentinel-s2-l2a-cogs/23/K/PR/2020/10/S2A_23KPR_20201010_0_L2A/B04.tif\n",
      "wget -nv -O- https://sentinel-cogs.s3.us-west-2.amazonaws.com/sentinel-s2-l2a-cogs/23/K/PR/2020/10/S2A_23KPR_20201010_0_L2A/B04.tif | aws s3 cp - s3://dev-et-data/usmart/RIO/sentinel-s2-l2a-cogs/\n",
      "S2A_23KPR_20201010_0_L2A_B04.tif\n",
      "wget -nv -O- https://sentinel-cogs.s3.us-west-2.amazonaws.com/sentinel-s2-l2a-cogs/23/K/PR/2020/10/S2A_23KPR_20201010_0_L2A/B04.tif | aws s3 cp - s3://dev-et-data/usmart/RIO/sentinel-s2-l2a-cogs/S2A_23KPR_20201010_0_L2A_B04.tif\n"
     ]
    },
    {
     "name": "stderr",
     "output_type": "stream",
     "text": [
      "2021-09-13 16:17:30 URL:https://sentinel-cogs.s3.us-west-2.amazonaws.com/sentinel-s2-l2a-cogs/23/K/PR/2020/11/S2A_23KPR_20201119_0_L2A/B02.tif [193460223/193460223] -> \"-\" [1]\n",
      "2021-09-13 16:17:30 URL:https://sentinel-cogs.s3.us-west-2.amazonaws.com/sentinel-s2-l2a-cogs/23/K/NR/2020/11/S2A_23KNR_20201109_0_L2A/B02.tif [118925936/118925936] -> \"-\" [1]\n",
      "2021-09-13 16:17:31 URL:https://sentinel-cogs.s3.us-west-2.amazonaws.com/sentinel-s2-l2a-cogs/23/K/NR/2020/10/S2B_23KNR_20201015_0_L2A/B04.tif [90684684/90684684] -> \"-\" [1]\n",
      "16:17:31: Thread 17: finishing in 30 seconds\n",
      "16:17:31: xfer Thread 34: starting\n",
      "16:17:31: sending https://sentinel-cogs.s3.us-west-2.amazonaws.com/sentinel-s2-l2a-cogs/23/K/NR/2020/10/S2B_23KNR_20201005_0_L2A/B04.tif\n"
     ]
    },
    {
     "name": "stdout",
     "output_type": "stream",
     "text": [
      "\n",
      "\n",
      "wget this: %s https://sentinel-cogs.s3.us-west-2.amazonaws.com/sentinel-s2-l2a-cogs/23/K/NR/2020/10/S2B_23KNR_20201005_0_L2A/B04.tif\n",
      "wget -nv -O- https://sentinel-cogs.s3.us-west-2.amazonaws.com/sentinel-s2-l2a-cogs/23/K/NR/2020/10/S2B_23KNR_20201005_0_L2A/B04.tif | aws s3 cp - s3://dev-et-data/usmart/RIO/sentinel-s2-l2a-cogs/\n",
      "S2B_23KNR_20201005_0_L2A_B04.tif\n",
      "wget -nv -O- https://sentinel-cogs.s3.us-west-2.amazonaws.com/sentinel-s2-l2a-cogs/23/K/NR/2020/10/S2B_23KNR_20201005_0_L2A/B04.tif | aws s3 cp - s3://dev-et-data/usmart/RIO/sentinel-s2-l2a-cogs/S2B_23KNR_20201005_0_L2A_B04.tif\n"
     ]
    },
    {
     "name": "stderr",
     "output_type": "stream",
     "text": [
      "16:17:32: Thread 20: finishing in 27 seconds\n",
      "16:17:32: xfer Thread 35: starting\n",
      "16:17:32: sending https://sentinel-cogs.s3.us-west-2.amazonaws.com/sentinel-s2-l2a-cogs/23/K/PR/2020/10/S2B_23KPR_20201005_0_L2A/B04.tif\n",
      "16:17:32: sending https://sentinel-cogs.s3.us-west-2.amazonaws.com/sentinel-s2-l2a-cogs/23/K/NR/2020/10/S2B_23KNR_20201015_0_L2A/B03.tif\n"
     ]
    },
    {
     "name": "stdout",
     "output_type": "stream",
     "text": [
      "\n",
      "\n",
      "wget this: %s https://sentinel-cogs.s3.us-west-2.amazonaws.com/sentinel-s2-l2a-cogs/23/K/PR/2020/10/S2B_23KPR_20201005_0_L2A/B04.tif\n",
      "wget -nv -O- https://sentinel-cogs.s3.us-west-2.amazonaws.com/sentinel-s2-l2a-cogs/23/K/PR/2020/10/S2B_23KPR_20201005_0_L2A/B04.tif | aws s3 cp - s3://dev-et-data/usmart/RIO/sentinel-s2-l2a-cogs/\n",
      "S2B_23KPR_20201005_0_L2A_B04.tif\n",
      "wget -nv -O- https://sentinel-cogs.s3.us-west-2.amazonaws.com/sentinel-s2-l2a-cogs/23/K/PR/2020/10/S2B_23KPR_20201005_0_L2A/B04.tif | aws s3 cp - s3://dev-et-data/usmart/RIO/sentinel-s2-l2a-cogs/S2B_23KPR_20201005_0_L2A_B04.tif\n",
      "\n",
      "\n",
      "wget this: %s https://sentinel-cogs.s3.us-west-2.amazonaws.com/sentinel-s2-l2a-cogs/23/K/NR/2020/10/S2B_23KNR_20201015_0_L2A/B03.tif\n",
      "wget -nv -O- https://sentinel-cogs.s3.us-west-2.amazonaws.com/sentinel-s2-l2a-cogs/23/K/NR/2020/10/S2B_23KNR_20201015_0_L2A/B03.tif | aws s3 cp - s3://dev-et-data/usmart/RIO/sentinel-s2-l2a-cogs/\n",
      "S2B_23KNR_20201015_0_L2A_B03.tif\n",
      "wget -nv -O- https://sentinel-cogs.s3.us-west-2.amazonaws.com/sentinel-s2-l2a-cogs/23/K/NR/2020/10/S2B_23KNR_20201015_0_L2A/B03.tif | aws s3 cp - s3://dev-et-data/usmart/RIO/sentinel-s2-l2a-cogs/S2B_23KNR_20201015_0_L2A_B03.tif\n"
     ]
    },
    {
     "name": "stderr",
     "output_type": "stream",
     "text": [
      "2021-09-13 16:17:33 URL:https://sentinel-cogs.s3.us-west-2.amazonaws.com/sentinel-s2-l2a-cogs/23/K/NR/2020/10/S2A_23KNR_20201020_0_L2A/B02.tif [113482804/113482804] -> \"-\" [1]\n",
      "2021-09-13 16:17:33 URL:https://sentinel-cogs.s3.us-west-2.amazonaws.com/sentinel-s2-l2a-cogs/23/K/PR/2020/10/S2B_23KPR_20201025_0_L2A/B03.tif [195881858/195881858] -> \"-\" [1]\n",
      "2021-09-13 16:17:34 URL:https://sentinel-cogs.s3.us-west-2.amazonaws.com/sentinel-s2-l2a-cogs/23/K/NR/2020/10/S2B_23KNR_20201025_0_L2A/B02.tif [107356648/107356648] -> \"-\" [1]\n",
      "16:17:34: Thread 28: finishing in 21 seconds\n",
      "16:17:34: xfer Thread 36: starting\n",
      "16:17:34: sending https://sentinel-cogs.s3.us-west-2.amazonaws.com/sentinel-s2-l2a-cogs/23/K/NR/2020/9/S2A_23KNR_20200930_0_L2A/B04.tif\n"
     ]
    },
    {
     "name": "stdout",
     "output_type": "stream",
     "text": [
      "\n",
      "\n",
      "wget this: %s https://sentinel-cogs.s3.us-west-2.amazonaws.com/sentinel-s2-l2a-cogs/23/K/NR/2020/9/S2A_23KNR_20200930_0_L2A/B04.tif\n",
      "wget -nv -O- https://sentinel-cogs.s3.us-west-2.amazonaws.com/sentinel-s2-l2a-cogs/23/K/NR/2020/9/S2A_23KNR_20200930_0_L2A/B04.tif | aws s3 cp - s3://dev-et-data/usmart/RIO/sentinel-s2-l2a-cogs/\n",
      "S2A_23KNR_20200930_0_L2A_B04.tif\n",
      "wget -nv -O- https://sentinel-cogs.s3.us-west-2.amazonaws.com/sentinel-s2-l2a-cogs/23/K/NR/2020/9/S2A_23KNR_20200930_0_L2A/B04.tif | aws s3 cp - s3://dev-et-data/usmart/RIO/sentinel-s2-l2a-cogs/S2A_23KNR_20200930_0_L2A_B04.tif\n"
     ]
    },
    {
     "name": "stderr",
     "output_type": "stream",
     "text": [
      "16:17:35: Thread 26: finishing in 23 seconds\n",
      "16:17:35: xfer Thread 37: starting\n",
      "16:17:35: sending https://sentinel-cogs.s3.us-west-2.amazonaws.com/sentinel-s2-l2a-cogs/23/K/PR/2020/9/S2A_23KPR_20200930_0_L2A/B04.tif\n"
     ]
    },
    {
     "name": "stdout",
     "output_type": "stream",
     "text": [
      "\n",
      "\n",
      "wget this: %s https://sentinel-cogs.s3.us-west-2.amazonaws.com/sentinel-s2-l2a-cogs/23/K/PR/2020/9/S2A_23KPR_20200930_0_L2A/B04.tif\n",
      "wget -nv -O- https://sentinel-cogs.s3.us-west-2.amazonaws.com/sentinel-s2-l2a-cogs/23/K/PR/2020/9/S2A_23KPR_20200930_0_L2A/B04.tif | aws s3 cp - s3://dev-et-data/usmart/RIO/sentinel-s2-l2a-cogs/\n",
      "S2A_23KPR_20200930_0_L2A_B04.tif\n",
      "wget -nv -O- https://sentinel-cogs.s3.us-west-2.amazonaws.com/sentinel-s2-l2a-cogs/23/K/PR/2020/9/S2A_23KPR_20200930_0_L2A/B04.tif | aws s3 cp - s3://dev-et-data/usmart/RIO/sentinel-s2-l2a-cogs/S2A_23KPR_20200930_0_L2A_B04.tif\n"
     ]
    },
    {
     "name": "stderr",
     "output_type": "stream",
     "text": [
      "2021-09-13 16:17:35 URL:https://sentinel-cogs.s3.us-west-2.amazonaws.com/sentinel-s2-l2a-cogs/23/K/PR/2020/11/S2B_23KPR_20201114_0_L2A/B02.tif [193363649/193363649] -> \"-\" [1]\n",
      "2021-09-13 16:17:35 URL:https://sentinel-cogs.s3.us-west-2.amazonaws.com/sentinel-s2-l2a-cogs/23/K/PR/2020/10/S2B_23KPR_20201015_0_L2A/B04.tif [170984735/170984735] -> \"-\" [1]\n",
      "16:17:35: sending https://sentinel-cogs.s3.us-west-2.amazonaws.com/sentinel-s2-l2a-cogs/23/K/PR/2020/10/S2B_23KPR_20201015_0_L2A/B03.tif\n",
      "16:17:35: Thread 19: finishing in 31 seconds\n",
      "16:17:35: xfer Thread 38: starting\n",
      "16:17:35: sending https://sentinel-cogs.s3.us-west-2.amazonaws.com/sentinel-s2-l2a-cogs/23/K/NR/2020/9/S2B_23KNR_20200925_0_L2A/B04.tif\n"
     ]
    },
    {
     "name": "stdout",
     "output_type": "stream",
     "text": [
      "\n",
      "\n",
      "wget this: %s https://sentinel-cogs.s3.us-west-2.amazonaws.com/sentinel-s2-l2a-cogs/23/K/PR/2020/10/S2B_23KPR_20201015_0_L2A/B03.tif\n",
      "wget -nv -O- https://sentinel-cogs.s3.us-west-2.amazonaws.com/sentinel-s2-l2a-cogs/23/K/PR/2020/10/S2B_23KPR_20201015_0_L2A/B03.tif | aws s3 cp - s3://dev-et-data/usmart/RIO/sentinel-s2-l2a-cogs/\n",
      "S2B_23KPR_20201015_0_L2A_B03.tif\n",
      "wget -nv -O- https://sentinel-cogs.s3.us-west-2.amazonaws.com/sentinel-s2-l2a-cogs/23/K/PR/2020/10/S2B_23KPR_20201015_0_L2A/B03.tif | aws s3 cp - s3://dev-et-data/usmart/RIO/sentinel-s2-l2a-cogs/S2B_23KPR_20201015_0_L2A_B03.tif\n",
      "\n",
      "\n",
      "wget this: %s https://sentinel-cogs.s3.us-west-2.amazonaws.com/sentinel-s2-l2a-cogs/23/K/NR/2020/9/S2B_23KNR_20200925_0_L2A/B04.tif\n",
      "wget -nv -O- https://sentinel-cogs.s3.us-west-2.amazonaws.com/sentinel-s2-l2a-cogs/23/K/NR/2020/9/S2B_23KNR_20200925_0_L2A/B04.tif | aws s3 cp - s3://dev-et-data/usmart/RIO/sentinel-s2-l2a-cogs/\n",
      "S2B_23KNR_20200925_0_L2A_B04.tif\n",
      "wget -nv -O- https://sentinel-cogs.s3.us-west-2.amazonaws.com/sentinel-s2-l2a-cogs/23/K/NR/2020/9/S2B_23KNR_20200925_0_L2A/B04.tif | aws s3 cp - s3://dev-et-data/usmart/RIO/sentinel-s2-l2a-cogs/S2B_23KNR_20200925_0_L2A_B04.tif\n"
     ]
    },
    {
     "name": "stderr",
     "output_type": "stream",
     "text": [
      "2021-09-13 16:17:36 URL:https://sentinel-cogs.s3.us-west-2.amazonaws.com/sentinel-s2-l2a-cogs/23/K/PR/2020/10/S2A_23KPR_20201020_0_L2A/B03.tif [188145298/188145298] -> \"-\" [1]\n",
      "2021-09-13 16:17:36 URL:https://sentinel-cogs.s3.us-west-2.amazonaws.com/sentinel-s2-l2a-cogs/23/K/PR/2020/11/S2B_23KPR_20201104_0_L2A/B02.tif [207121782/207121782] -> \"-\" [1]\n",
      "16:17:36: sending https://sentinel-cogs.s3.us-west-2.amazonaws.com/sentinel-s2-l2a-cogs/23/K/PR/2020/10/S2A_23KPR_20201020_0_L2A/B02.tif\n"
     ]
    },
    {
     "name": "stdout",
     "output_type": "stream",
     "text": [
      "\n",
      "\n",
      "wget this: %s https://sentinel-cogs.s3.us-west-2.amazonaws.com/sentinel-s2-l2a-cogs/23/K/PR/2020/10/S2A_23KPR_20201020_0_L2A/B02.tif\n",
      "wget -nv -O- https://sentinel-cogs.s3.us-west-2.amazonaws.com/sentinel-s2-l2a-cogs/23/K/PR/2020/10/S2A_23KPR_20201020_0_L2A/B02.tif | aws s3 cp - s3://dev-et-data/usmart/RIO/sentinel-s2-l2a-cogs/\n",
      "S2A_23KPR_20201020_0_L2A_B02.tif\n",
      "wget -nv -O- https://sentinel-cogs.s3.us-west-2.amazonaws.com/sentinel-s2-l2a-cogs/23/K/PR/2020/10/S2A_23KPR_20201020_0_L2A/B02.tif | aws s3 cp - s3://dev-et-data/usmart/RIO/sentinel-s2-l2a-cogs/S2A_23KPR_20201020_0_L2A_B02.tif\n"
     ]
    },
    {
     "name": "stderr",
     "output_type": "stream",
     "text": [
      "2021-09-13 16:17:36 URL:https://sentinel-cogs.s3.us-west-2.amazonaws.com/sentinel-s2-l2a-cogs/23/K/PR/2020/10/S2A_23KPR_20201030_0_L2A/B02.tif [154798591/154798591] -> \"-\" [1]\n",
      "16:17:37: Thread 25: finishing in 27 seconds\n",
      "16:17:37: xfer Thread 39: starting\n",
      "16:17:37: sending https://sentinel-cogs.s3.us-west-2.amazonaws.com/sentinel-s2-l2a-cogs/23/K/PR/2020/9/S2B_23KPR_20200925_0_L2A/B04.tif\n"
     ]
    },
    {
     "name": "stdout",
     "output_type": "stream",
     "text": [
      "\n",
      "\n",
      "wget this: %s https://sentinel-cogs.s3.us-west-2.amazonaws.com/sentinel-s2-l2a-cogs/23/K/PR/2020/9/S2B_23KPR_20200925_0_L2A/B04.tif\n",
      "wget -nv -O- https://sentinel-cogs.s3.us-west-2.amazonaws.com/sentinel-s2-l2a-cogs/23/K/PR/2020/9/S2B_23KPR_20200925_0_L2A/B04.tif | aws s3 cp - s3://dev-et-data/usmart/RIO/sentinel-s2-l2a-cogs/\n",
      "S2B_23KPR_20200925_0_L2A_B04.tif\n",
      "wget -nv -O- https://sentinel-cogs.s3.us-west-2.amazonaws.com/sentinel-s2-l2a-cogs/23/K/PR/2020/9/S2B_23KPR_20200925_0_L2A/B04.tif | aws s3 cp - s3://dev-et-data/usmart/RIO/sentinel-s2-l2a-cogs/S2B_23KPR_20200925_0_L2A_B04.tif\n"
     ]
    },
    {
     "name": "stderr",
     "output_type": "stream",
     "text": [
      "2021-09-13 16:17:37 URL:https://sentinel-cogs.s3.us-west-2.amazonaws.com/sentinel-s2-l2a-cogs/23/K/PR/2020/11/S2B_23KPR_20201124_0_L2A/B02.tif [229005784/229005784] -> \"-\" [1]\n",
      "2021-09-13 16:17:38 URL:https://sentinel-cogs.s3.us-west-2.amazonaws.com/sentinel-s2-l2a-cogs/23/K/NR/2020/10/S2A_23KNR_20201010_0_L2A/B04.tif [106357598/106357598] -> \"-\" [1]\n",
      "16:17:38: Thread 15: finishing in 37 seconds\n",
      "16:17:38: xfer Thread 40: starting\n",
      "16:17:38: sending https://sentinel-cogs.s3.us-west-2.amazonaws.com/sentinel-s2-l2a-cogs/23/K/NR/2020/9/S2A_23KNR_20200920_0_L2A/B04.tif\n",
      "16:17:38: sending https://sentinel-cogs.s3.us-west-2.amazonaws.com/sentinel-s2-l2a-cogs/23/K/PR/2020/10/S2B_23KPR_20201025_0_L2A/B02.tif\n",
      "2021-09-13 16:17:38 URL:https://sentinel-cogs.s3.us-west-2.amazonaws.com/sentinel-s2-l2a-cogs/23/K/NR/2020/10/S2B_23KNR_20201005_0_L2A/B04.tif [118753827/118753827] -> \"-\" [1]\n"
     ]
    },
    {
     "name": "stdout",
     "output_type": "stream",
     "text": [
      "\n",
      "\n",
      "wget this: %s https://sentinel-cogs.s3.us-west-2.amazonaws.com/sentinel-s2-l2a-cogs/23/K/NR/2020/9/S2A_23KNR_20200920_0_L2A/B04.tif\n",
      "wget -nv -O- https://sentinel-cogs.s3.us-west-2.amazonaws.com/sentinel-s2-l2a-cogs/23/K/NR/2020/9/S2A_23KNR_20200920_0_L2A/B04.tif | aws s3 cp - s3://dev-et-data/usmart/RIO/sentinel-s2-l2a-cogs/\n",
      "S2A_23KNR_20200920_0_L2A_B04.tif\n",
      "wget -nv -O- https://sentinel-cogs.s3.us-west-2.amazonaws.com/sentinel-s2-l2a-cogs/23/K/NR/2020/9/S2A_23KNR_20200920_0_L2A/B04.tif | aws s3 cp - s3://dev-et-data/usmart/RIO/sentinel-s2-l2a-cogs/S2A_23KNR_20200920_0_L2A_B04.tif\n",
      "\n",
      "\n",
      "wget this: %s https://sentinel-cogs.s3.us-west-2.amazonaws.com/sentinel-s2-l2a-cogs/23/K/PR/2020/10/S2B_23KPR_20201025_0_L2A/B02.tif\n",
      "wget -nv -O- https://sentinel-cogs.s3.us-west-2.amazonaws.com/sentinel-s2-l2a-cogs/23/K/PR/2020/10/S2B_23KPR_20201025_0_L2A/B02.tif | aws s3 cp - s3://dev-et-data/usmart/RIO/sentinel-s2-l2a-cogs/\n",
      "S2B_23KPR_20201025_0_L2A_B02.tif\n",
      "wget -nv -O- https://sentinel-cogs.s3.us-west-2.amazonaws.com/sentinel-s2-l2a-cogs/23/K/PR/2020/10/S2B_23KPR_20201025_0_L2A/B02.tif | aws s3 cp - s3://dev-et-data/usmart/RIO/sentinel-s2-l2a-cogs/S2B_23KPR_20201025_0_L2A_B02.tif\n"
     ]
    },
    {
     "name": "stderr",
     "output_type": "stream",
     "text": [
      "2021-09-13 16:17:39 URL:https://sentinel-cogs.s3.us-west-2.amazonaws.com/sentinel-s2-l2a-cogs/23/K/PR/2020/11/S2A_23KPR_20201109_0_L2A/B02.tif [208530381/208530381] -> \"-\" [1]\n",
      "16:17:39: Thread 23: finishing in 33 seconds\n",
      "16:17:39: xfer Thread 41: starting\n",
      "16:17:39: sending https://sentinel-cogs.s3.us-west-2.amazonaws.com/sentinel-s2-l2a-cogs/23/K/PR/2020/9/S2A_23KPR_20200920_0_L2A/B04.tif\n"
     ]
    },
    {
     "name": "stdout",
     "output_type": "stream",
     "text": [
      "\n",
      "\n",
      "wget this: %s https://sentinel-cogs.s3.us-west-2.amazonaws.com/sentinel-s2-l2a-cogs/23/K/PR/2020/9/S2A_23KPR_20200920_0_L2A/B04.tif\n",
      "wget -nv -O- https://sentinel-cogs.s3.us-west-2.amazonaws.com/sentinel-s2-l2a-cogs/23/K/PR/2020/9/S2A_23KPR_20200920_0_L2A/B04.tif | aws s3 cp - s3://dev-et-data/usmart/RIO/sentinel-s2-l2a-cogs/\n",
      "S2A_23KPR_20200920_0_L2A_B04.tif\n",
      "wget -nv -O- https://sentinel-cogs.s3.us-west-2.amazonaws.com/sentinel-s2-l2a-cogs/23/K/PR/2020/9/S2A_23KPR_20200920_0_L2A/B04.tif | aws s3 cp - s3://dev-et-data/usmart/RIO/sentinel-s2-l2a-cogs/S2A_23KPR_20200920_0_L2A_B04.tif\n"
     ]
    },
    {
     "name": "stderr",
     "output_type": "stream",
     "text": [
      "16:17:39: sending https://sentinel-cogs.s3.us-west-2.amazonaws.com/sentinel-s2-l2a-cogs/23/K/NR/2020/10/S2A_23KNR_20201010_0_L2A/B03.tif\n"
     ]
    },
    {
     "name": "stdout",
     "output_type": "stream",
     "text": [
      "\n",
      "\n",
      "wget this: %s https://sentinel-cogs.s3.us-west-2.amazonaws.com/sentinel-s2-l2a-cogs/23/K/NR/2020/10/S2A_23KNR_20201010_0_L2A/B03.tif\n",
      "wget -nv -O- https://sentinel-cogs.s3.us-west-2.amazonaws.com/sentinel-s2-l2a-cogs/23/K/NR/2020/10/S2A_23KNR_20201010_0_L2A/B03.tif | aws s3 cp - s3://dev-et-data/usmart/RIO/sentinel-s2-l2a-cogs/\n",
      "S2A_23KNR_20201010_0_L2A_B03.tif\n",
      "wget -nv -O- https://sentinel-cogs.s3.us-west-2.amazonaws.com/sentinel-s2-l2a-cogs/23/K/NR/2020/10/S2A_23KNR_20201010_0_L2A/B03.tif | aws s3 cp - s3://dev-et-data/usmart/RIO/sentinel-s2-l2a-cogs/S2A_23KNR_20201010_0_L2A_B03.tif\n"
     ]
    },
    {
     "name": "stderr",
     "output_type": "stream",
     "text": [
      "2021-09-13 16:17:39 URL:https://sentinel-cogs.s3.us-west-2.amazonaws.com/sentinel-s2-l2a-cogs/23/K/NR/2020/10/S2B_23KNR_20201015_0_L2A/B03.tif [89540540/89540540] -> \"-\" [1]\n",
      "16:17:39: Thread 21: finishing in 34 seconds\n",
      "16:17:39: xfer Thread 42: starting\n",
      "16:17:39: sending https://sentinel-cogs.s3.us-west-2.amazonaws.com/sentinel-s2-l2a-cogs/23/K/NR/2020/9/S2B_23KNR_20200915_0_L2A/B04.tif\n"
     ]
    },
    {
     "name": "stdout",
     "output_type": "stream",
     "text": [
      "\n",
      "\n",
      "wget this: %s https://sentinel-cogs.s3.us-west-2.amazonaws.com/sentinel-s2-l2a-cogs/23/K/NR/2020/9/S2B_23KNR_20200915_0_L2A/B04.tif\n",
      "wget -nv -O- https://sentinel-cogs.s3.us-west-2.amazonaws.com/sentinel-s2-l2a-cogs/23/K/NR/2020/9/S2B_23KNR_20200915_0_L2A/B04.tif | aws s3 cp - s3://dev-et-data/usmart/RIO/sentinel-s2-l2a-cogs/\n",
      "S2B_23KNR_20200915_0_L2A_B04.tif\n",
      "wget -nv -O- https://sentinel-cogs.s3.us-west-2.amazonaws.com/sentinel-s2-l2a-cogs/23/K/NR/2020/9/S2B_23KNR_20200915_0_L2A/B04.tif | aws s3 cp - s3://dev-et-data/usmart/RIO/sentinel-s2-l2a-cogs/S2B_23KNR_20200915_0_L2A_B04.tif\n"
     ]
    },
    {
     "name": "stderr",
     "output_type": "stream",
     "text": [
      "2021-09-13 16:17:40 URL:https://sentinel-cogs.s3.us-west-2.amazonaws.com/sentinel-s2-l2a-cogs/23/K/PR/2020/10/S2A_23KPR_20201010_0_L2A/B04.tif [170541866/170541866] -> \"-\" [1]\n",
      "16:17:40: sending https://sentinel-cogs.s3.us-west-2.amazonaws.com/sentinel-s2-l2a-cogs/23/K/NR/2020/10/S2B_23KNR_20201015_0_L2A/B02.tif\n",
      "16:17:40: sending https://sentinel-cogs.s3.us-west-2.amazonaws.com/sentinel-s2-l2a-cogs/23/K/NR/2020/10/S2B_23KNR_20201005_0_L2A/B03.tif\n"
     ]
    },
    {
     "name": "stdout",
     "output_type": "stream",
     "text": [
      "\n",
      "\n",
      "wget this: %s https://sentinel-cogs.s3.us-west-2.amazonaws.com/sentinel-s2-l2a-cogs/23/K/NR/2020/10/S2B_23KNR_20201015_0_L2A/B02.tif\n",
      "wget -nv -O- https://sentinel-cogs.s3.us-west-2.amazonaws.com/sentinel-s2-l2a-cogs/23/K/NR/2020/10/S2B_23KNR_20201015_0_L2A/B02.tif | aws s3 cp - s3://dev-et-data/usmart/RIO/sentinel-s2-l2a-cogs/\n",
      "S2B_23KNR_20201015_0_L2A_B02.tif\n",
      "wget -nv -O- https://sentinel-cogs.s3.us-west-2.amazonaws.com/sentinel-s2-l2a-cogs/23/K/NR/2020/10/S2B_23KNR_20201015_0_L2A/B02.tif | aws s3 cp - s3://dev-et-data/usmart/RIO/sentinel-s2-l2a-cogs/S2B_23KNR_20201015_0_L2A_B02.tif\n",
      "\n",
      "\n",
      "wget this: %s https://sentinel-cogs.s3.us-west-2.amazonaws.com/sentinel-s2-l2a-cogs/23/K/NR/2020/10/S2B_23KNR_20201005_0_L2A/B03.tif\n",
      "wget -nv -O- https://sentinel-cogs.s3.us-west-2.amazonaws.com/sentinel-s2-l2a-cogs/23/K/NR/2020/10/S2B_23KNR_20201005_0_L2A/B03.tif | aws s3 cp - s3://dev-et-data/usmart/RIO/sentinel-s2-l2a-cogs/\n",
      "S2B_23KNR_20201005_0_L2A_B03.tif\n",
      "wget -nv -O- https://sentinel-cogs.s3.us-west-2.amazonaws.com/sentinel-s2-l2a-cogs/23/K/NR/2020/10/S2B_23KNR_20201005_0_L2A/B03.tif | aws s3 cp - s3://dev-et-data/usmart/RIO/sentinel-s2-l2a-cogs/S2B_23KNR_20201005_0_L2A_B03.tif\n"
     ]
    },
    {
     "name": "stderr",
     "output_type": "stream",
     "text": [
      "2021-09-13 16:17:40 URL:https://sentinel-cogs.s3.us-west-2.amazonaws.com/sentinel-s2-l2a-cogs/23/K/NR/2020/9/S2A_23KNR_20200930_0_L2A/B04.tif [126422317/126422317] -> \"-\" [1]\n",
      "2021-09-13 16:17:41 URL:https://sentinel-cogs.s3.us-west-2.amazonaws.com/sentinel-s2-l2a-cogs/23/K/PR/2020/10/S2B_23KPR_20201005_0_L2A/B04.tif [185505523/185505523] -> \"-\" [1]\n",
      "16:17:41: sending https://sentinel-cogs.s3.us-west-2.amazonaws.com/sentinel-s2-l2a-cogs/23/K/PR/2020/10/S2A_23KPR_20201010_0_L2A/B03.tif\n",
      "16:17:41: sending https://sentinel-cogs.s3.us-west-2.amazonaws.com/sentinel-s2-l2a-cogs/23/K/NR/2020/9/S2A_23KNR_20200930_0_L2A/B03.tif\n"
     ]
    },
    {
     "name": "stdout",
     "output_type": "stream",
     "text": [
      "\n",
      "\n",
      "wget this: %s https://sentinel-cogs.s3.us-west-2.amazonaws.com/sentinel-s2-l2a-cogs/23/K/PR/2020/10/S2A_23KPR_20201010_0_L2A/B03.tif\n",
      "wget -nv -O- https://sentinel-cogs.s3.us-west-2.amazonaws.com/sentinel-s2-l2a-cogs/23/K/PR/2020/10/S2A_23KPR_20201010_0_L2A/B03.tif | aws s3 cp - s3://dev-et-data/usmart/RIO/sentinel-s2-l2a-cogs/\n",
      "S2A_23KPR_20201010_0_L2A_B03.tif\n",
      "wget -nv -O- https://sentinel-cogs.s3.us-west-2.amazonaws.com/sentinel-s2-l2a-cogs/23/K/PR/2020/10/S2A_23KPR_20201010_0_L2A/B03.tif | aws s3 cp - s3://dev-et-data/usmart/RIO/sentinel-s2-l2a-cogs/S2A_23KPR_20201010_0_L2A_B03.tif\n",
      "\n",
      "\n",
      "wget this: %s https://sentinel-cogs.s3.us-west-2.amazonaws.com/sentinel-s2-l2a-cogs/23/K/NR/2020/9/S2A_23KNR_20200930_0_L2A/B03.tif\n",
      "wget -nv -O- https://sentinel-cogs.s3.us-west-2.amazonaws.com/sentinel-s2-l2a-cogs/23/K/NR/2020/9/S2A_23KNR_20200930_0_L2A/B03.tif | aws s3 cp - s3://dev-et-data/usmart/RIO/sentinel-s2-l2a-cogs/\n",
      "S2A_23KNR_20200930_0_L2A_B03.tif\n",
      "wget -nv -O- https://sentinel-cogs.s3.us-west-2.amazonaws.com/sentinel-s2-l2a-cogs/23/K/NR/2020/9/S2A_23KNR_20200930_0_L2A/B03.tif | aws s3 cp - s3://dev-et-data/usmart/RIO/sentinel-s2-l2a-cogs/S2A_23KNR_20200930_0_L2A_B03.tif\n"
     ]
    },
    {
     "name": "stderr",
     "output_type": "stream",
     "text": [
      "16:17:41: sending https://sentinel-cogs.s3.us-west-2.amazonaws.com/sentinel-s2-l2a-cogs/23/K/PR/2020/10/S2B_23KPR_20201005_0_L2A/B03.tif\n"
     ]
    },
    {
     "name": "stdout",
     "output_type": "stream",
     "text": [
      "\n",
      "\n",
      "wget this: %s https://sentinel-cogs.s3.us-west-2.amazonaws.com/sentinel-s2-l2a-cogs/23/K/PR/2020/10/S2B_23KPR_20201005_0_L2A/B03.tif\n",
      "wget -nv -O- https://sentinel-cogs.s3.us-west-2.amazonaws.com/sentinel-s2-l2a-cogs/23/K/PR/2020/10/S2B_23KPR_20201005_0_L2A/B03.tif | aws s3 cp - s3://dev-et-data/usmart/RIO/sentinel-s2-l2a-cogs/\n",
      "S2B_23KPR_20201005_0_L2A_B03.tif\n",
      "wget -nv -O- https://sentinel-cogs.s3.us-west-2.amazonaws.com/sentinel-s2-l2a-cogs/23/K/PR/2020/10/S2B_23KPR_20201005_0_L2A/B03.tif | aws s3 cp - s3://dev-et-data/usmart/RIO/sentinel-s2-l2a-cogs/S2B_23KPR_20201005_0_L2A_B03.tif\n"
     ]
    },
    {
     "name": "stderr",
     "output_type": "stream",
     "text": [
      "2021-09-13 16:17:42 URL:https://sentinel-cogs.s3.us-west-2.amazonaws.com/sentinel-s2-l2a-cogs/23/K/NR/2020/9/S2B_23KNR_20200925_0_L2A/B04.tif [127404701/127404701] -> \"-\" [1]\n",
      "16:17:43: sending https://sentinel-cogs.s3.us-west-2.amazonaws.com/sentinel-s2-l2a-cogs/23/K/NR/2020/9/S2B_23KNR_20200925_0_L2A/B03.tif\n"
     ]
    },
    {
     "name": "stdout",
     "output_type": "stream",
     "text": [
      "\n",
      "\n",
      "wget this: %s https://sentinel-cogs.s3.us-west-2.amazonaws.com/sentinel-s2-l2a-cogs/23/K/NR/2020/9/S2B_23KNR_20200925_0_L2A/B03.tif\n",
      "wget -nv -O- https://sentinel-cogs.s3.us-west-2.amazonaws.com/sentinel-s2-l2a-cogs/23/K/NR/2020/9/S2B_23KNR_20200925_0_L2A/B03.tif | aws s3 cp - s3://dev-et-data/usmart/RIO/sentinel-s2-l2a-cogs/\n",
      "S2B_23KNR_20200925_0_L2A_B03.tif\n",
      "wget -nv -O- https://sentinel-cogs.s3.us-west-2.amazonaws.com/sentinel-s2-l2a-cogs/23/K/NR/2020/9/S2B_23KNR_20200925_0_L2A/B03.tif | aws s3 cp - s3://dev-et-data/usmart/RIO/sentinel-s2-l2a-cogs/S2B_23KNR_20200925_0_L2A_B03.tif\n"
     ]
    },
    {
     "name": "stderr",
     "output_type": "stream",
     "text": [
      "2021-09-13 16:17:44 URL:https://sentinel-cogs.s3.us-west-2.amazonaws.com/sentinel-s2-l2a-cogs/23/K/PR/2020/10/S2B_23KPR_20201015_0_L2A/B03.tif [168360972/168360972] -> \"-\" [1]\n",
      "2021-09-13 16:17:44 URL:https://sentinel-cogs.s3.us-west-2.amazonaws.com/sentinel-s2-l2a-cogs/23/K/NR/2020/9/S2A_23KNR_20200920_0_L2A/B04.tif [88889594/88889594] -> \"-\" [1]\n",
      "2021-09-13 16:17:44 URL:https://sentinel-cogs.s3.us-west-2.amazonaws.com/sentinel-s2-l2a-cogs/23/K/PR/2020/10/S2A_23KPR_20201020_0_L2A/B02.tif [187412204/187412204] -> \"-\" [1]\n",
      "16:17:45: sending https://sentinel-cogs.s3.us-west-2.amazonaws.com/sentinel-s2-l2a-cogs/23/K/NR/2020/9/S2A_23KNR_20200920_0_L2A/B03.tif\n"
     ]
    },
    {
     "name": "stdout",
     "output_type": "stream",
     "text": [
      "\n",
      "\n",
      "wget this: %s https://sentinel-cogs.s3.us-west-2.amazonaws.com/sentinel-s2-l2a-cogs/23/K/NR/2020/9/S2A_23KNR_20200920_0_L2A/B03.tif\n",
      "wget -nv -O- https://sentinel-cogs.s3.us-west-2.amazonaws.com/sentinel-s2-l2a-cogs/23/K/NR/2020/9/S2A_23KNR_20200920_0_L2A/B03.tif | aws s3 cp - s3://dev-et-data/usmart/RIO/sentinel-s2-l2a-cogs/\n",
      "S2A_23KNR_20200920_0_L2A_B03.tif\n",
      "wget -nv -O- https://sentinel-cogs.s3.us-west-2.amazonaws.com/sentinel-s2-l2a-cogs/23/K/NR/2020/9/S2A_23KNR_20200920_0_L2A/B03.tif | aws s3 cp - s3://dev-et-data/usmart/RIO/sentinel-s2-l2a-cogs/S2A_23KNR_20200920_0_L2A_B03.tif\n"
     ]
    },
    {
     "name": "stderr",
     "output_type": "stream",
     "text": [
      "2021-09-13 16:17:45 URL:https://sentinel-cogs.s3.us-west-2.amazonaws.com/sentinel-s2-l2a-cogs/23/K/PR/2020/9/S2A_23KPR_20200930_0_L2A/B04.tif [222380888/222380888] -> \"-\" [1]\n",
      "2021-09-13 16:17:45 URL:https://sentinel-cogs.s3.us-west-2.amazonaws.com/sentinel-s2-l2a-cogs/23/K/NR/2020/10/S2B_23KNR_20201015_0_L2A/B02.tif [89653744/89653744] -> \"-\" [1]\n",
      "16:17:45: sending https://sentinel-cogs.s3.us-west-2.amazonaws.com/sentinel-s2-l2a-cogs/23/K/PR/2020/10/S2B_23KPR_20201015_0_L2A/B02.tif\n"
     ]
    },
    {
     "name": "stdout",
     "output_type": "stream",
     "text": [
      "\n",
      "\n",
      "wget this: %s https://sentinel-cogs.s3.us-west-2.amazonaws.com/sentinel-s2-l2a-cogs/23/K/PR/2020/10/S2B_23KPR_20201015_0_L2A/B02.tif\n",
      "wget -nv -O- https://sentinel-cogs.s3.us-west-2.amazonaws.com/sentinel-s2-l2a-cogs/23/K/PR/2020/10/S2B_23KPR_20201015_0_L2A/B02.tif | aws s3 cp - s3://dev-et-data/usmart/RIO/sentinel-s2-l2a-cogs/\n",
      "S2B_23KPR_20201015_0_L2A_B02.tif\n",
      "wget -nv -O- https://sentinel-cogs.s3.us-west-2.amazonaws.com/sentinel-s2-l2a-cogs/23/K/PR/2020/10/S2B_23KPR_20201015_0_L2A/B02.tif | aws s3 cp - s3://dev-et-data/usmart/RIO/sentinel-s2-l2a-cogs/S2B_23KPR_20201015_0_L2A_B02.tif\n"
     ]
    },
    {
     "name": "stderr",
     "output_type": "stream",
     "text": [
      "2021-09-13 16:17:45 URL:https://sentinel-cogs.s3.us-west-2.amazonaws.com/sentinel-s2-l2a-cogs/23/K/NR/2020/10/S2A_23KNR_20201010_0_L2A/B03.tif [105510740/105510740] -> \"-\" [1]\n",
      "16:17:45: Thread 29: finishing in 28 seconds\n",
      "16:17:45: xfer Thread 43: starting\n",
      "16:17:46: sending https://sentinel-cogs.s3.us-west-2.amazonaws.com/sentinel-s2-l2a-cogs/23/K/PR/2020/9/S2B_23KPR_20200915_0_L2A/B04.tif\n"
     ]
    },
    {
     "name": "stdout",
     "output_type": "stream",
     "text": [
      "\n",
      "\n",
      "wget this: %s https://sentinel-cogs.s3.us-west-2.amazonaws.com/sentinel-s2-l2a-cogs/23/K/PR/2020/9/S2B_23KPR_20200915_0_L2A/B04.tif\n",
      "wget -nv -O- https://sentinel-cogs.s3.us-west-2.amazonaws.com/sentinel-s2-l2a-cogs/23/K/PR/2020/9/S2B_23KPR_20200915_0_L2A/B04.tif | aws s3 cp - s3://dev-et-data/usmart/RIO/sentinel-s2-l2a-cogs/\n",
      "S2B_23KPR_20200915_0_L2A_B04.tif\n",
      "wget -nv -O- https://sentinel-cogs.s3.us-west-2.amazonaws.com/sentinel-s2-l2a-cogs/23/K/PR/2020/9/S2B_23KPR_20200915_0_L2A/B04.tif | aws s3 cp - s3://dev-et-data/usmart/RIO/sentinel-s2-l2a-cogs/S2B_23KPR_20200915_0_L2A_B04.tif\n"
     ]
    },
    {
     "name": "stderr",
     "output_type": "stream",
     "text": [
      "16:17:46: Thread 30: finishing in 20 seconds\n",
      "16:17:46: xfer Thread 44: starting\n",
      "16:17:46: sending https://sentinel-cogs.s3.us-west-2.amazonaws.com/sentinel-s2-l2a-cogs/23/K/NR/2020/9/S2A_23KNR_20200910_0_L2A/B04.tif\n",
      "16:17:46: sending https://sentinel-cogs.s3.us-west-2.amazonaws.com/sentinel-s2-l2a-cogs/23/K/PR/2020/9/S2A_23KPR_20200930_0_L2A/B03.tif\n"
     ]
    },
    {
     "name": "stdout",
     "output_type": "stream",
     "text": [
      "\n",
      "\n",
      "wget this: %s https://sentinel-cogs.s3.us-west-2.amazonaws.com/sentinel-s2-l2a-cogs/23/K/NR/2020/9/S2A_23KNR_20200910_0_L2A/B04.tif\n",
      "wget -nv -O- https://sentinel-cogs.s3.us-west-2.amazonaws.com/sentinel-s2-l2a-cogs/23/K/NR/2020/9/S2A_23KNR_20200910_0_L2A/B04.tif | aws s3 cp - s3://dev-et-data/usmart/RIO/sentinel-s2-l2a-cogs/\n",
      "S2A_23KNR_20200910_0_L2A_B04.tif\n",
      "wget -nv -O- https://sentinel-cogs.s3.us-west-2.amazonaws.com/sentinel-s2-l2a-cogs/23/K/NR/2020/9/S2A_23KNR_20200910_0_L2A/B04.tif | aws s3 cp - s3://dev-et-data/usmart/RIO/sentinel-s2-l2a-cogs/S2A_23KNR_20200910_0_L2A_B04.tif\n",
      "\n",
      "\n",
      "wget this: %s https://sentinel-cogs.s3.us-west-2.amazonaws.com/sentinel-s2-l2a-cogs/23/K/PR/2020/9/S2A_23KPR_20200930_0_L2A/B03.tif\n",
      "wget -nv -O- https://sentinel-cogs.s3.us-west-2.amazonaws.com/sentinel-s2-l2a-cogs/23/K/PR/2020/9/S2A_23KPR_20200930_0_L2A/B03.tif | aws s3 cp - s3://dev-et-data/usmart/RIO/sentinel-s2-l2a-cogs/\n",
      "S2A_23KPR_20200930_0_L2A_B03.tif\n",
      "wget -nv -O- https://sentinel-cogs.s3.us-west-2.amazonaws.com/sentinel-s2-l2a-cogs/23/K/PR/2020/9/S2A_23KPR_20200930_0_L2A/B03.tif | aws s3 cp - s3://dev-et-data/usmart/RIO/sentinel-s2-l2a-cogs/S2A_23KPR_20200930_0_L2A_B03.tif\n"
     ]
    },
    {
     "name": "stderr",
     "output_type": "stream",
     "text": [
      "16:17:46: sending https://sentinel-cogs.s3.us-west-2.amazonaws.com/sentinel-s2-l2a-cogs/23/K/NR/2020/10/S2A_23KNR_20201010_0_L2A/B02.tif\n"
     ]
    },
    {
     "name": "stdout",
     "output_type": "stream",
     "text": [
      "\n",
      "\n",
      "wget this: %s https://sentinel-cogs.s3.us-west-2.amazonaws.com/sentinel-s2-l2a-cogs/23/K/NR/2020/10/S2A_23KNR_20201010_0_L2A/B02.tif\n",
      "wget -nv -O- https://sentinel-cogs.s3.us-west-2.amazonaws.com/sentinel-s2-l2a-cogs/23/K/NR/2020/10/S2A_23KNR_20201010_0_L2A/B02.tif | aws s3 cp - s3://dev-et-data/usmart/RIO/sentinel-s2-l2a-cogs/\n",
      "S2A_23KNR_20201010_0_L2A_B02.tif\n",
      "wget -nv -O- https://sentinel-cogs.s3.us-west-2.amazonaws.com/sentinel-s2-l2a-cogs/23/K/NR/2020/10/S2A_23KNR_20201010_0_L2A/B02.tif | aws s3 cp - s3://dev-et-data/usmart/RIO/sentinel-s2-l2a-cogs/S2A_23KNR_20201010_0_L2A_B02.tif\n"
     ]
    },
    {
     "name": "stderr",
     "output_type": "stream",
     "text": [
      "2021-09-13 16:17:47 URL:https://sentinel-cogs.s3.us-west-2.amazonaws.com/sentinel-s2-l2a-cogs/23/K/NR/2020/9/S2B_23KNR_20200915_0_L2A/B04.tif [115408425/115408425] -> \"-\" [1]\n",
      "2021-09-13 16:17:48 URL:https://sentinel-cogs.s3.us-west-2.amazonaws.com/sentinel-s2-l2a-cogs/23/K/NR/2020/10/S2B_23KNR_20201005_0_L2A/B03.tif [117445513/117445513] -> \"-\" [1]\n",
      "2021-09-13 16:17:48 URL:https://sentinel-cogs.s3.us-west-2.amazonaws.com/sentinel-s2-l2a-cogs/23/K/PR/2020/9/S2A_23KPR_20200920_0_L2A/B04.tif [188470546/188470546] -> \"-\" [1]\n",
      "2021-09-13 16:17:48 URL:https://sentinel-cogs.s3.us-west-2.amazonaws.com/sentinel-s2-l2a-cogs/23/K/PR/2020/10/S2B_23KPR_20201025_0_L2A/B02.tif [197505965/197505965] -> \"-\" [1]\n",
      "2021-09-13 16:17:48 URL:https://sentinel-cogs.s3.us-west-2.amazonaws.com/sentinel-s2-l2a-cogs/23/K/PR/2020/9/S2B_23KPR_20200925_0_L2A/B04.tif [228449938/228449938] -> \"-\" [1]\n",
      "16:17:48: sending https://sentinel-cogs.s3.us-west-2.amazonaws.com/sentinel-s2-l2a-cogs/23/K/NR/2020/9/S2B_23KNR_20200915_0_L2A/B03.tif\n",
      "16:17:48: Thread 27: finishing in 36 seconds\n",
      "16:17:48: xfer Thread 45: starting\n",
      "16:17:48: sending https://sentinel-cogs.s3.us-west-2.amazonaws.com/sentinel-s2-l2a-cogs/23/K/PR/2020/9/S2A_23KPR_20200910_0_L2A/B04.tif\n"
     ]
    },
    {
     "name": "stdout",
     "output_type": "stream",
     "text": [
      "\n",
      "\n",
      "wget this: %s https://sentinel-cogs.s3.us-west-2.amazonaws.com/sentinel-s2-l2a-cogs/23/K/NR/2020/9/S2B_23KNR_20200915_0_L2A/B03.tif\n",
      "wget -nv -O- https://sentinel-cogs.s3.us-west-2.amazonaws.com/sentinel-s2-l2a-cogs/23/K/NR/2020/9/S2B_23KNR_20200915_0_L2A/B03.tif | aws s3 cp - s3://dev-et-data/usmart/RIO/sentinel-s2-l2a-cogs/\n",
      "S2B_23KNR_20200915_0_L2A_B03.tif\n",
      "wget -nv -O- https://sentinel-cogs.s3.us-west-2.amazonaws.com/sentinel-s2-l2a-cogs/23/K/NR/2020/9/S2B_23KNR_20200915_0_L2A/B03.tif | aws s3 cp - s3://dev-et-data/usmart/RIO/sentinel-s2-l2a-cogs/S2B_23KNR_20200915_0_L2A_B03.tif\n",
      "\n",
      "\n",
      "wget this: %s https://sentinel-cogs.s3.us-west-2.amazonaws.com/sentinel-s2-l2a-cogs/23/K/PR/2020/9/S2A_23KPR_20200910_0_L2A/B04.tif\n",
      "wget -nv -O- https://sentinel-cogs.s3.us-west-2.amazonaws.com/sentinel-s2-l2a-cogs/23/K/PR/2020/9/S2A_23KPR_20200910_0_L2A/B04.tif | aws s3 cp - s3://dev-et-data/usmart/RIO/sentinel-s2-l2a-cogs/\n",
      "S2A_23KPR_20200910_0_L2A_B04.tif\n",
      "wget -nv -O- https://sentinel-cogs.s3.us-west-2.amazonaws.com/sentinel-s2-l2a-cogs/23/K/PR/2020/9/S2A_23KPR_20200910_0_L2A/B04.tif | aws s3 cp - s3://dev-et-data/usmart/RIO/sentinel-s2-l2a-cogs/S2A_23KPR_20200910_0_L2A_B04.tif\n"
     ]
    },
    {
     "name": "stderr",
     "output_type": "stream",
     "text": [
      "16:17:48: sending https://sentinel-cogs.s3.us-west-2.amazonaws.com/sentinel-s2-l2a-cogs/23/K/NR/2020/10/S2B_23KNR_20201005_0_L2A/B02.tif\n",
      "16:17:49: sending https://sentinel-cogs.s3.us-west-2.amazonaws.com/sentinel-s2-l2a-cogs/23/K/PR/2020/9/S2A_23KPR_20200920_0_L2A/B03.tif\n"
     ]
    },
    {
     "name": "stdout",
     "output_type": "stream",
     "text": [
      "\n",
      "\n",
      "wget this: %s https://sentinel-cogs.s3.us-west-2.amazonaws.com/sentinel-s2-l2a-cogs/23/K/NR/2020/10/S2B_23KNR_20201005_0_L2A/B02.tif\n",
      "wget -nv -O- https://sentinel-cogs.s3.us-west-2.amazonaws.com/sentinel-s2-l2a-cogs/23/K/NR/2020/10/S2B_23KNR_20201005_0_L2A/B02.tif | aws s3 cp - s3://dev-et-data/usmart/RIO/sentinel-s2-l2a-cogs/\n",
      "S2B_23KNR_20201005_0_L2A_B02.tif\n",
      "wget -nv -O- https://sentinel-cogs.s3.us-west-2.amazonaws.com/sentinel-s2-l2a-cogs/23/K/NR/2020/10/S2B_23KNR_20201005_0_L2A/B02.tif | aws s3 cp - s3://dev-et-data/usmart/RIO/sentinel-s2-l2a-cogs/S2B_23KNR_20201005_0_L2A_B02.tif\n",
      "\n",
      "\n",
      "wget this: %s https://sentinel-cogs.s3.us-west-2.amazonaws.com/sentinel-s2-l2a-cogs/23/K/PR/2020/9/S2A_23KPR_20200920_0_L2A/B03.tif\n",
      "wget -nv -O- https://sentinel-cogs.s3.us-west-2.amazonaws.com/sentinel-s2-l2a-cogs/23/K/PR/2020/9/S2A_23KPR_20200920_0_L2A/B03.tif | aws s3 cp - s3://dev-et-data/usmart/RIO/sentinel-s2-l2a-cogs/\n",
      "S2A_23KPR_20200920_0_L2A_B03.tif\n",
      "wget -nv -O- https://sentinel-cogs.s3.us-west-2.amazonaws.com/sentinel-s2-l2a-cogs/23/K/PR/2020/9/S2A_23KPR_20200920_0_L2A/B03.tif | aws s3 cp - s3://dev-et-data/usmart/RIO/sentinel-s2-l2a-cogs/S2A_23KPR_20200920_0_L2A_B03.tif\n"
     ]
    },
    {
     "name": "stderr",
     "output_type": "stream",
     "text": [
      "2021-09-13 16:17:49 URL:https://sentinel-cogs.s3.us-west-2.amazonaws.com/sentinel-s2-l2a-cogs/23/K/NR/2020/9/S2A_23KNR_20200930_0_L2A/B03.tif [120724997/120724997] -> \"-\" [1]\n",
      "16:17:49: sending https://sentinel-cogs.s3.us-west-2.amazonaws.com/sentinel-s2-l2a-cogs/23/K/PR/2020/9/S2B_23KPR_20200925_0_L2A/B03.tif\n"
     ]
    },
    {
     "name": "stdout",
     "output_type": "stream",
     "text": [
      "\n",
      "\n",
      "wget this: %s https://sentinel-cogs.s3.us-west-2.amazonaws.com/sentinel-s2-l2a-cogs/23/K/PR/2020/9/S2B_23KPR_20200925_0_L2A/B03.tif\n",
      "wget -nv -O- https://sentinel-cogs.s3.us-west-2.amazonaws.com/sentinel-s2-l2a-cogs/23/K/PR/2020/9/S2B_23KPR_20200925_0_L2A/B03.tif | aws s3 cp - s3://dev-et-data/usmart/RIO/sentinel-s2-l2a-cogs/\n",
      "S2B_23KPR_20200925_0_L2A_B03.tif\n",
      "wget -nv -O- https://sentinel-cogs.s3.us-west-2.amazonaws.com/sentinel-s2-l2a-cogs/23/K/PR/2020/9/S2B_23KPR_20200925_0_L2A/B03.tif | aws s3 cp - s3://dev-et-data/usmart/RIO/sentinel-s2-l2a-cogs/S2B_23KPR_20200925_0_L2A_B03.tif\n"
     ]
    },
    {
     "name": "stderr",
     "output_type": "stream",
     "text": [
      "16:17:50: sending https://sentinel-cogs.s3.us-west-2.amazonaws.com/sentinel-s2-l2a-cogs/23/K/NR/2020/9/S2A_23KNR_20200930_0_L2A/B02.tif\n"
     ]
    },
    {
     "name": "stdout",
     "output_type": "stream",
     "text": [
      "\n",
      "\n",
      "wget this: %s https://sentinel-cogs.s3.us-west-2.amazonaws.com/sentinel-s2-l2a-cogs/23/K/NR/2020/9/S2A_23KNR_20200930_0_L2A/B02.tif\n",
      "wget -nv -O- https://sentinel-cogs.s3.us-west-2.amazonaws.com/sentinel-s2-l2a-cogs/23/K/NR/2020/9/S2A_23KNR_20200930_0_L2A/B02.tif | aws s3 cp - s3://dev-et-data/usmart/RIO/sentinel-s2-l2a-cogs/\n",
      "S2A_23KNR_20200930_0_L2A_B02.tif\n",
      "wget -nv -O- https://sentinel-cogs.s3.us-west-2.amazonaws.com/sentinel-s2-l2a-cogs/23/K/NR/2020/9/S2A_23KNR_20200930_0_L2A/B02.tif | aws s3 cp - s3://dev-et-data/usmart/RIO/sentinel-s2-l2a-cogs/S2A_23KNR_20200930_0_L2A_B02.tif\n"
     ]
    },
    {
     "name": "stderr",
     "output_type": "stream",
     "text": [
      "2021-09-13 16:17:50 URL:https://sentinel-cogs.s3.us-west-2.amazonaws.com/sentinel-s2-l2a-cogs/23/K/PR/2020/10/S2A_23KPR_20201010_0_L2A/B03.tif [170876651/170876651] -> \"-\" [1]\n",
      "2021-09-13 16:17:50 URL:https://sentinel-cogs.s3.us-west-2.amazonaws.com/sentinel-s2-l2a-cogs/23/K/NR/2020/9/S2B_23KNR_20200925_0_L2A/B03.tif [123879985/123879985] -> \"-\" [1]\n",
      "16:17:51: sending https://sentinel-cogs.s3.us-west-2.amazonaws.com/sentinel-s2-l2a-cogs/23/K/NR/2020/9/S2B_23KNR_20200925_0_L2A/B02.tif\n",
      "16:17:51: sending https://sentinel-cogs.s3.us-west-2.amazonaws.com/sentinel-s2-l2a-cogs/23/K/PR/2020/10/S2A_23KPR_20201010_0_L2A/B02.tif\n"
     ]
    },
    {
     "name": "stdout",
     "output_type": "stream",
     "text": [
      "\n",
      "\n",
      "wget this: %s https://sentinel-cogs.s3.us-west-2.amazonaws.com/sentinel-s2-l2a-cogs/23/K/NR/2020/9/S2B_23KNR_20200925_0_L2A/B02.tif\n",
      "wget -nv -O- https://sentinel-cogs.s3.us-west-2.amazonaws.com/sentinel-s2-l2a-cogs/23/K/NR/2020/9/S2B_23KNR_20200925_0_L2A/B02.tif | aws s3 cp - s3://dev-et-data/usmart/RIO/sentinel-s2-l2a-cogs/\n",
      "S2B_23KNR_20200925_0_L2A_B02.tif\n",
      "wget -nv -O- https://sentinel-cogs.s3.us-west-2.amazonaws.com/sentinel-s2-l2a-cogs/23/K/NR/2020/9/S2B_23KNR_20200925_0_L2A/B02.tif | aws s3 cp - s3://dev-et-data/usmart/RIO/sentinel-s2-l2a-cogs/S2B_23KNR_20200925_0_L2A_B02.tif\n",
      "\n",
      "\n",
      "wget this: %s https://sentinel-cogs.s3.us-west-2.amazonaws.com/sentinel-s2-l2a-cogs/23/K/PR/2020/10/S2A_23KPR_20201010_0_L2A/B02.tif\n",
      "wget -nv -O- https://sentinel-cogs.s3.us-west-2.amazonaws.com/sentinel-s2-l2a-cogs/23/K/PR/2020/10/S2A_23KPR_20201010_0_L2A/B02.tif | aws s3 cp - s3://dev-et-data/usmart/RIO/sentinel-s2-l2a-cogs/\n",
      "S2A_23KPR_20201010_0_L2A_B02.tif\n",
      "wget -nv -O- https://sentinel-cogs.s3.us-west-2.amazonaws.com/sentinel-s2-l2a-cogs/23/K/PR/2020/10/S2A_23KPR_20201010_0_L2A/B02.tif | aws s3 cp - s3://dev-et-data/usmart/RIO/sentinel-s2-l2a-cogs/S2A_23KPR_20201010_0_L2A_B02.tif\n"
     ]
    },
    {
     "name": "stderr",
     "output_type": "stream",
     "text": [
      "2021-09-13 16:17:51 URL:https://sentinel-cogs.s3.us-west-2.amazonaws.com/sentinel-s2-l2a-cogs/23/K/NR/2020/9/S2A_23KNR_20200920_0_L2A/B03.tif [88987649/88987649] -> \"-\" [1]\n",
      "2021-09-13 16:17:52 URL:https://sentinel-cogs.s3.us-west-2.amazonaws.com/sentinel-s2-l2a-cogs/23/K/PR/2020/10/S2B_23KPR_20201005_0_L2A/B03.tif [183054528/183054528] -> \"-\" [1]\n",
      "2021-09-13 16:17:52 URL:https://sentinel-cogs.s3.us-west-2.amazonaws.com/sentinel-s2-l2a-cogs/23/K/NR/2020/10/S2A_23KNR_20201010_0_L2A/B02.tif [105915189/105915189] -> \"-\" [1]\n",
      "16:17:52: sending https://sentinel-cogs.s3.us-west-2.amazonaws.com/sentinel-s2-l2a-cogs/23/K/NR/2020/9/S2A_23KNR_20200920_0_L2A/B02.tif\n"
     ]
    },
    {
     "name": "stdout",
     "output_type": "stream",
     "text": [
      "\n",
      "\n",
      "wget this: %s https://sentinel-cogs.s3.us-west-2.amazonaws.com/sentinel-s2-l2a-cogs/23/K/NR/2020/9/S2A_23KNR_20200920_0_L2A/B02.tif\n",
      "wget -nv -O- https://sentinel-cogs.s3.us-west-2.amazonaws.com/sentinel-s2-l2a-cogs/23/K/NR/2020/9/S2A_23KNR_20200920_0_L2A/B02.tif | aws s3 cp - s3://dev-et-data/usmart/RIO/sentinel-s2-l2a-cogs/\n",
      "S2A_23KNR_20200920_0_L2A_B02.tif\n",
      "wget -nv -O- https://sentinel-cogs.s3.us-west-2.amazonaws.com/sentinel-s2-l2a-cogs/23/K/NR/2020/9/S2A_23KNR_20200920_0_L2A/B02.tif | aws s3 cp - s3://dev-et-data/usmart/RIO/sentinel-s2-l2a-cogs/S2A_23KNR_20200920_0_L2A_B02.tif\n"
     ]
    },
    {
     "name": "stderr",
     "output_type": "stream",
     "text": [
      "16:17:53: sending https://sentinel-cogs.s3.us-west-2.amazonaws.com/sentinel-s2-l2a-cogs/23/K/PR/2020/10/S2B_23KPR_20201005_0_L2A/B02.tif\n",
      "16:17:53: Thread 32: finishing in 23 seconds\n",
      "16:17:53: xfer Thread 46: starting\n",
      "16:17:53: sending https://sentinel-cogs.s3.us-west-2.amazonaws.com/sentinel-s2-l2a-cogs/23/K/NR/2020/9/S2B_23KNR_20200905_0_L2A/B04.tif\n"
     ]
    },
    {
     "name": "stdout",
     "output_type": "stream",
     "text": [
      "\n",
      "\n",
      "wget this: %s https://sentinel-cogs.s3.us-west-2.amazonaws.com/sentinel-s2-l2a-cogs/23/K/PR/2020/10/S2B_23KPR_20201005_0_L2A/B02.tif\n",
      "wget -nv -O- https://sentinel-cogs.s3.us-west-2.amazonaws.com/sentinel-s2-l2a-cogs/23/K/PR/2020/10/S2B_23KPR_20201005_0_L2A/B02.tif | aws s3 cp - s3://dev-et-data/usmart/RIO/sentinel-s2-l2a-cogs/\n",
      "S2B_23KPR_20201005_0_L2A_B02.tif\n",
      "wget -nv -O- https://sentinel-cogs.s3.us-west-2.amazonaws.com/sentinel-s2-l2a-cogs/23/K/PR/2020/10/S2B_23KPR_20201005_0_L2A/B02.tif | aws s3 cp - s3://dev-et-data/usmart/RIO/sentinel-s2-l2a-cogs/S2B_23KPR_20201005_0_L2A_B02.tif\n",
      "\n",
      "\n",
      "wget this: %s https://sentinel-cogs.s3.us-west-2.amazonaws.com/sentinel-s2-l2a-cogs/23/K/NR/2020/9/S2B_23KNR_20200905_0_L2A/B04.tif\n",
      "wget -nv -O- https://sentinel-cogs.s3.us-west-2.amazonaws.com/sentinel-s2-l2a-cogs/23/K/NR/2020/9/S2B_23KNR_20200905_0_L2A/B04.tif | aws s3 cp - s3://dev-et-data/usmart/RIO/sentinel-s2-l2a-cogs/\n",
      "S2B_23KNR_20200905_0_L2A_B04.tif\n",
      "wget -nv -O- https://sentinel-cogs.s3.us-west-2.amazonaws.com/sentinel-s2-l2a-cogs/23/K/NR/2020/9/S2B_23KNR_20200905_0_L2A/B04.tif | aws s3 cp - s3://dev-et-data/usmart/RIO/sentinel-s2-l2a-cogs/S2B_23KNR_20200905_0_L2A_B04.tif\n"
     ]
    },
    {
     "name": "stderr",
     "output_type": "stream",
     "text": [
      "2021-09-13 16:17:53 URL:https://sentinel-cogs.s3.us-west-2.amazonaws.com/sentinel-s2-l2a-cogs/23/K/PR/2020/10/S2B_23KPR_20201015_0_L2A/B02.tif [167643582/167643582] -> \"-\" [1]\n",
      "2021-09-13 16:17:53 URL:https://sentinel-cogs.s3.us-west-2.amazonaws.com/sentinel-s2-l2a-cogs/23/K/NR/2020/9/S2A_23KNR_20200910_0_L2A/B04.tif [123881808/123881808] -> \"-\" [1]\n",
      "16:17:54: Thread 31: finishing in 27 seconds\n",
      "16:17:54: xfer Thread 47: starting\n",
      "16:17:54: sending https://sentinel-cogs.s3.us-west-2.amazonaws.com/sentinel-s2-l2a-cogs/23/K/PR/2020/9/S2B_23KPR_20200905_0_L2A/B04.tif\n"
     ]
    },
    {
     "name": "stdout",
     "output_type": "stream",
     "text": [
      "\n",
      "\n",
      "wget this: %s https://sentinel-cogs.s3.us-west-2.amazonaws.com/sentinel-s2-l2a-cogs/23/K/PR/2020/9/S2B_23KPR_20200905_0_L2A/B04.tif\n",
      "wget -nv -O- https://sentinel-cogs.s3.us-west-2.amazonaws.com/sentinel-s2-l2a-cogs/23/K/PR/2020/9/S2B_23KPR_20200905_0_L2A/B04.tif | aws s3 cp - s3://dev-et-data/usmart/RIO/sentinel-s2-l2a-cogs/\n",
      "S2B_23KPR_20200905_0_L2A_B04.tif\n",
      "wget -nv -O- https://sentinel-cogs.s3.us-west-2.amazonaws.com/sentinel-s2-l2a-cogs/23/K/PR/2020/9/S2B_23KPR_20200905_0_L2A/B04.tif | aws s3 cp - s3://dev-et-data/usmart/RIO/sentinel-s2-l2a-cogs/S2B_23KPR_20200905_0_L2A_B04.tif\n"
     ]
    },
    {
     "name": "stderr",
     "output_type": "stream",
     "text": [
      "16:17:54: sending https://sentinel-cogs.s3.us-west-2.amazonaws.com/sentinel-s2-l2a-cogs/23/K/NR/2020/9/S2A_23KNR_20200910_0_L2A/B03.tif\n"
     ]
    },
    {
     "name": "stdout",
     "output_type": "stream",
     "text": [
      "\n",
      "\n",
      "wget this: %s https://sentinel-cogs.s3.us-west-2.amazonaws.com/sentinel-s2-l2a-cogs/23/K/NR/2020/9/S2A_23KNR_20200910_0_L2A/B03.tif\n",
      "wget -nv -O- https://sentinel-cogs.s3.us-west-2.amazonaws.com/sentinel-s2-l2a-cogs/23/K/NR/2020/9/S2A_23KNR_20200910_0_L2A/B03.tif | aws s3 cp - s3://dev-et-data/usmart/RIO/sentinel-s2-l2a-cogs/\n",
      "S2A_23KNR_20200910_0_L2A_B03.tif\n",
      "wget -nv -O- https://sentinel-cogs.s3.us-west-2.amazonaws.com/sentinel-s2-l2a-cogs/23/K/NR/2020/9/S2A_23KNR_20200910_0_L2A/B03.tif | aws s3 cp - s3://dev-et-data/usmart/RIO/sentinel-s2-l2a-cogs/S2A_23KNR_20200910_0_L2A_B03.tif\n"
     ]
    },
    {
     "name": "stderr",
     "output_type": "stream",
     "text": [
      "2021-09-13 16:17:55 URL:https://sentinel-cogs.s3.us-west-2.amazonaws.com/sentinel-s2-l2a-cogs/23/K/NR/2020/9/S2B_23KNR_20200915_0_L2A/B03.tif [114692005/114692005] -> \"-\" [1]\n",
      "2021-09-13 16:17:56 URL:https://sentinel-cogs.s3.us-west-2.amazonaws.com/sentinel-s2-l2a-cogs/23/K/PR/2020/9/S2B_23KPR_20200915_0_L2A/B04.tif [217420842/217420842] -> \"-\" [1]\n",
      "16:17:56: sending https://sentinel-cogs.s3.us-west-2.amazonaws.com/sentinel-s2-l2a-cogs/23/K/NR/2020/9/S2B_23KNR_20200915_0_L2A/B02.tif\n"
     ]
    },
    {
     "name": "stdout",
     "output_type": "stream",
     "text": [
      "\n",
      "\n",
      "wget this: %s https://sentinel-cogs.s3.us-west-2.amazonaws.com/sentinel-s2-l2a-cogs/23/K/NR/2020/9/S2B_23KNR_20200915_0_L2A/B02.tif\n",
      "wget -nv -O- https://sentinel-cogs.s3.us-west-2.amazonaws.com/sentinel-s2-l2a-cogs/23/K/NR/2020/9/S2B_23KNR_20200915_0_L2A/B02.tif | aws s3 cp - s3://dev-et-data/usmart/RIO/sentinel-s2-l2a-cogs/\n",
      "S2B_23KNR_20200915_0_L2A_B02.tif\n",
      "wget -nv -O- https://sentinel-cogs.s3.us-west-2.amazonaws.com/sentinel-s2-l2a-cogs/23/K/NR/2020/9/S2B_23KNR_20200915_0_L2A/B02.tif | aws s3 cp - s3://dev-et-data/usmart/RIO/sentinel-s2-l2a-cogs/S2B_23KNR_20200915_0_L2A_B02.tif\n"
     ]
    },
    {
     "name": "stderr",
     "output_type": "stream",
     "text": [
      "2021-09-13 16:17:56 URL:https://sentinel-cogs.s3.us-west-2.amazonaws.com/sentinel-s2-l2a-cogs/23/K/NR/2020/9/S2A_23KNR_20200930_0_L2A/B02.tif [115797320/115797320] -> \"-\" [1]\n",
      "16:17:56: sending https://sentinel-cogs.s3.us-west-2.amazonaws.com/sentinel-s2-l2a-cogs/23/K/PR/2020/9/S2B_23KPR_20200915_0_L2A/B03.tif\n"
     ]
    },
    {
     "name": "stdout",
     "output_type": "stream",
     "text": [
      "\n",
      "\n",
      "wget this: %s https://sentinel-cogs.s3.us-west-2.amazonaws.com/sentinel-s2-l2a-cogs/23/K/PR/2020/9/S2B_23KPR_20200915_0_L2A/B03.tif\n",
      "wget -nv -O- https://sentinel-cogs.s3.us-west-2.amazonaws.com/sentinel-s2-l2a-cogs/23/K/PR/2020/9/S2B_23KPR_20200915_0_L2A/B03.tif | aws s3 cp - s3://dev-et-data/usmart/RIO/sentinel-s2-l2a-cogs/\n",
      "S2B_23KPR_20200915_0_L2A_B03.tif\n",
      "wget -nv -O- https://sentinel-cogs.s3.us-west-2.amazonaws.com/sentinel-s2-l2a-cogs/23/K/PR/2020/9/S2B_23KPR_20200915_0_L2A/B03.tif | aws s3 cp - s3://dev-et-data/usmart/RIO/sentinel-s2-l2a-cogs/S2B_23KPR_20200915_0_L2A_B03.tif\n"
     ]
    },
    {
     "name": "stderr",
     "output_type": "stream",
     "text": [
      "2021-09-13 16:17:57 URL:https://sentinel-cogs.s3.us-west-2.amazonaws.com/sentinel-s2-l2a-cogs/23/K/PR/2020/9/S2A_23KPR_20200930_0_L2A/B03.tif [213987819/213987819] -> \"-\" [1]\n",
      "2021-09-13 16:17:57 URL:https://sentinel-cogs.s3.us-west-2.amazonaws.com/sentinel-s2-l2a-cogs/23/K/NR/2020/10/S2B_23KNR_20201005_0_L2A/B02.tif [117194768/117194768] -> \"-\" [1]\n",
      "16:17:57: Thread 36: finishing in 22 seconds\n",
      "16:17:57: xfer Thread 48: starting\n",
      "16:17:57: sending https://sentinel-cogs.s3.us-west-2.amazonaws.com/sentinel-s2-l2a-cogs/23/K/NR/2020/8/S2A_23KNR_20200831_0_L2A/B04.tif\n"
     ]
    },
    {
     "name": "stdout",
     "output_type": "stream",
     "text": [
      "\n",
      "\n",
      "wget this: %s https://sentinel-cogs.s3.us-west-2.amazonaws.com/sentinel-s2-l2a-cogs/23/K/NR/2020/8/S2A_23KNR_20200831_0_L2A/B04.tif\n",
      "wget -nv -O- https://sentinel-cogs.s3.us-west-2.amazonaws.com/sentinel-s2-l2a-cogs/23/K/NR/2020/8/S2A_23KNR_20200831_0_L2A/B04.tif | aws s3 cp - s3://dev-et-data/usmart/RIO/sentinel-s2-l2a-cogs/\n",
      "S2A_23KNR_20200831_0_L2A_B04.tif\n",
      "wget -nv -O- https://sentinel-cogs.s3.us-west-2.amazonaws.com/sentinel-s2-l2a-cogs/23/K/NR/2020/8/S2A_23KNR_20200831_0_L2A/B04.tif | aws s3 cp - s3://dev-et-data/usmart/RIO/sentinel-s2-l2a-cogs/S2A_23KNR_20200831_0_L2A_B04.tif\n"
     ]
    },
    {
     "name": "stderr",
     "output_type": "stream",
     "text": [
      "16:17:57: Thread 34: finishing in 25 seconds\n",
      "16:17:57: xfer Thread 49: starting\n",
      "16:17:57: sending https://sentinel-cogs.s3.us-west-2.amazonaws.com/sentinel-s2-l2a-cogs/23/K/PR/2020/8/S2A_23KPR_20200831_0_L2A/B04.tif\n",
      "16:17:57: sending https://sentinel-cogs.s3.us-west-2.amazonaws.com/sentinel-s2-l2a-cogs/23/K/PR/2020/9/S2A_23KPR_20200930_0_L2A/B02.tif\n"
     ]
    },
    {
     "name": "stdout",
     "output_type": "stream",
     "text": [
      "\n",
      "\n",
      "wget this: %s https://sentinel-cogs.s3.us-west-2.amazonaws.com/sentinel-s2-l2a-cogs/23/K/PR/2020/8/S2A_23KPR_20200831_0_L2A/B04.tif\n",
      "wget -nv -O- https://sentinel-cogs.s3.us-west-2.amazonaws.com/sentinel-s2-l2a-cogs/23/K/PR/2020/8/S2A_23KPR_20200831_0_L2A/B04.tif | aws s3 cp - s3://dev-et-data/usmart/RIO/sentinel-s2-l2a-cogs/\n",
      "S2A_23KPR_20200831_0_L2A_B04.tif\n",
      "wget -nv -O- https://sentinel-cogs.s3.us-west-2.amazonaws.com/sentinel-s2-l2a-cogs/23/K/PR/2020/8/S2A_23KPR_20200831_0_L2A/B04.tif | aws s3 cp - s3://dev-et-data/usmart/RIO/sentinel-s2-l2a-cogs/S2A_23KPR_20200831_0_L2A_B04.tif\n",
      "\n",
      "\n",
      "wget this: %s https://sentinel-cogs.s3.us-west-2.amazonaws.com/sentinel-s2-l2a-cogs/23/K/PR/2020/9/S2A_23KPR_20200930_0_L2A/B02.tif\n",
      "wget -nv -O- https://sentinel-cogs.s3.us-west-2.amazonaws.com/sentinel-s2-l2a-cogs/23/K/PR/2020/9/S2A_23KPR_20200930_0_L2A/B02.tif | aws s3 cp - s3://dev-et-data/usmart/RIO/sentinel-s2-l2a-cogs/\n",
      "S2A_23KPR_20200930_0_L2A_B02.tif\n",
      "wget -nv -O- https://sentinel-cogs.s3.us-west-2.amazonaws.com/sentinel-s2-l2a-cogs/23/K/PR/2020/9/S2A_23KPR_20200930_0_L2A/B02.tif | aws s3 cp - s3://dev-et-data/usmart/RIO/sentinel-s2-l2a-cogs/S2A_23KPR_20200930_0_L2A_B02.tif\n"
     ]
    },
    {
     "name": "stderr",
     "output_type": "stream",
     "text": [
      "2021-09-13 16:17:58 URL:https://sentinel-cogs.s3.us-west-2.amazonaws.com/sentinel-s2-l2a-cogs/23/K/PR/2020/9/S2A_23KPR_20200920_0_L2A/B03.tif [187848827/187848827] -> \"-\" [1]\n",
      "2021-09-13 16:17:59 URL:https://sentinel-cogs.s3.us-west-2.amazonaws.com/sentinel-s2-l2a-cogs/23/K/PR/2020/9/S2A_23KPR_20200910_0_L2A/B04.tif [222080195/222080195] -> \"-\" [1]\n",
      "2021-09-13 16:17:59 URL:https://sentinel-cogs.s3.us-west-2.amazonaws.com/sentinel-s2-l2a-cogs/23/K/PR/2020/9/S2B_23KPR_20200925_0_L2A/B03.tif [226509591/226509591] -> \"-\" [1]\n",
      "16:17:59: sending https://sentinel-cogs.s3.us-west-2.amazonaws.com/sentinel-s2-l2a-cogs/23/K/PR/2020/9/S2A_23KPR_20200920_0_L2A/B02.tif\n"
     ]
    },
    {
     "name": "stdout",
     "output_type": "stream",
     "text": [
      "\n",
      "\n",
      "wget this: %s https://sentinel-cogs.s3.us-west-2.amazonaws.com/sentinel-s2-l2a-cogs/23/K/PR/2020/9/S2A_23KPR_20200920_0_L2A/B02.tif\n",
      "wget -nv -O- https://sentinel-cogs.s3.us-west-2.amazonaws.com/sentinel-s2-l2a-cogs/23/K/PR/2020/9/S2A_23KPR_20200920_0_L2A/B02.tif | aws s3 cp - s3://dev-et-data/usmart/RIO/sentinel-s2-l2a-cogs/\n",
      "S2A_23KPR_20200920_0_L2A_B02.tif\n",
      "wget -nv -O- https://sentinel-cogs.s3.us-west-2.amazonaws.com/sentinel-s2-l2a-cogs/23/K/PR/2020/9/S2A_23KPR_20200920_0_L2A/B02.tif | aws s3 cp - s3://dev-et-data/usmart/RIO/sentinel-s2-l2a-cogs/S2A_23KPR_20200920_0_L2A_B02.tif\n"
     ]
    },
    {
     "name": "stderr",
     "output_type": "stream",
     "text": [
      "2021-09-13 16:17:59 URL:https://sentinel-cogs.s3.us-west-2.amazonaws.com/sentinel-s2-l2a-cogs/23/K/NR/2020/9/S2B_23KNR_20200925_0_L2A/B02.tif [119859527/119859527] -> \"-\" [1]\n",
      "2021-09-13 16:18:00 URL:https://sentinel-cogs.s3.us-west-2.amazonaws.com/sentinel-s2-l2a-cogs/23/K/NR/2020/9/S2A_23KNR_20200920_0_L2A/B02.tif [90224256/90224256] -> \"-\" [1]\n",
      "16:18:00: sending https://sentinel-cogs.s3.us-west-2.amazonaws.com/sentinel-s2-l2a-cogs/23/K/PR/2020/9/S2A_23KPR_20200910_0_L2A/B03.tif\n"
     ]
    },
    {
     "name": "stdout",
     "output_type": "stream",
     "text": [
      "\n",
      "\n",
      "wget this: %s https://sentinel-cogs.s3.us-west-2.amazonaws.com/sentinel-s2-l2a-cogs/23/K/PR/2020/9/S2A_23KPR_20200910_0_L2A/B03.tif\n",
      "wget -nv -O- https://sentinel-cogs.s3.us-west-2.amazonaws.com/sentinel-s2-l2a-cogs/23/K/PR/2020/9/S2A_23KPR_20200910_0_L2A/B03.tif | aws s3 cp - s3://dev-et-data/usmart/RIO/sentinel-s2-l2a-cogs/\n",
      "S2A_23KPR_20200910_0_L2A_B03.tif\n",
      "wget -nv -O- https://sentinel-cogs.s3.us-west-2.amazonaws.com/sentinel-s2-l2a-cogs/23/K/PR/2020/9/S2A_23KPR_20200910_0_L2A/B03.tif | aws s3 cp - s3://dev-et-data/usmart/RIO/sentinel-s2-l2a-cogs/S2A_23KPR_20200910_0_L2A_B03.tif\n"
     ]
    },
    {
     "name": "stderr",
     "output_type": "stream",
     "text": [
      "16:18:00: Thread 38: finishing in 24 seconds\n",
      "16:18:00: xfer Thread 50: starting\n",
      "16:18:00: sending https://sentinel-cogs.s3.us-west-2.amazonaws.com/sentinel-s2-l2a-cogs/23/K/NR/2020/8/S2B_23KNR_20200826_0_L2A/B04.tif\n",
      "16:18:00: sending https://sentinel-cogs.s3.us-west-2.amazonaws.com/sentinel-s2-l2a-cogs/23/K/PR/2020/9/S2B_23KPR_20200925_0_L2A/B02.tif\n"
     ]
    },
    {
     "name": "stdout",
     "output_type": "stream",
     "text": [
      "\n",
      "\n",
      "wget this: %s https://sentinel-cogs.s3.us-west-2.amazonaws.com/sentinel-s2-l2a-cogs/23/K/NR/2020/8/S2B_23KNR_20200826_0_L2A/B04.tif\n",
      "wget -nv -O- https://sentinel-cogs.s3.us-west-2.amazonaws.com/sentinel-s2-l2a-cogs/23/K/NR/2020/8/S2B_23KNR_20200826_0_L2A/B04.tif | aws s3 cp - s3://dev-et-data/usmart/RIO/sentinel-s2-l2a-cogs/\n",
      "S2B_23KNR_20200826_0_L2A_B04.tif\n",
      "wget -nv -O- https://sentinel-cogs.s3.us-west-2.amazonaws.com/sentinel-s2-l2a-cogs/23/K/NR/2020/8/S2B_23KNR_20200826_0_L2A/B04.tif | aws s3 cp - s3://dev-et-data/usmart/RIO/sentinel-s2-l2a-cogs/S2B_23KNR_20200826_0_L2A_B04.tif\n",
      "\n",
      "\n",
      "wget this: %s https://sentinel-cogs.s3.us-west-2.amazonaws.com/sentinel-s2-l2a-cogs/23/K/PR/2020/9/S2B_23KPR_20200925_0_L2A/B02.tif\n",
      "wget -nv -O- https://sentinel-cogs.s3.us-west-2.amazonaws.com/sentinel-s2-l2a-cogs/23/K/PR/2020/9/S2B_23KPR_20200925_0_L2A/B02.tif | aws s3 cp - s3://dev-et-data/usmart/RIO/sentinel-s2-l2a-cogs/\n",
      "S2B_23KPR_20200925_0_L2A_B02.tif\n",
      "wget -nv -O- https://sentinel-cogs.s3.us-west-2.amazonaws.com/sentinel-s2-l2a-cogs/23/K/PR/2020/9/S2B_23KPR_20200925_0_L2A/B02.tif | aws s3 cp - s3://dev-et-data/usmart/RIO/sentinel-s2-l2a-cogs/S2B_23KPR_20200925_0_L2A_B02.tif\n"
     ]
    },
    {
     "name": "stderr",
     "output_type": "stream",
     "text": [
      "2021-09-13 16:18:00 URL:https://sentinel-cogs.s3.us-west-2.amazonaws.com/sentinel-s2-l2a-cogs/23/K/PR/2020/10/S2A_23KPR_20201010_0_L2A/B02.tif [172702980/172702980] -> \"-\" [1]\n",
      "2021-09-13 16:18:00 URL:https://sentinel-cogs.s3.us-west-2.amazonaws.com/sentinel-s2-l2a-cogs/23/K/NR/2020/9/S2A_23KNR_20200910_0_L2A/B03.tif [119364323/119364323] -> \"-\" [1]\n",
      "16:18:00: Thread 40: finishing in 22 seconds\n",
      "16:18:00: xfer Thread 51: starting\n",
      "16:18:00: sending https://sentinel-cogs.s3.us-west-2.amazonaws.com/sentinel-s2-l2a-cogs/23/K/PR/2020/8/S2B_23KPR_20200826_0_L2A/B04.tif\n"
     ]
    },
    {
     "name": "stdout",
     "output_type": "stream",
     "text": [
      "\n",
      "\n",
      "wget this: %s https://sentinel-cogs.s3.us-west-2.amazonaws.com/sentinel-s2-l2a-cogs/23/K/PR/2020/8/S2B_23KPR_20200826_0_L2A/B04.tif\n",
      "wget -nv -O- https://sentinel-cogs.s3.us-west-2.amazonaws.com/sentinel-s2-l2a-cogs/23/K/PR/2020/8/S2B_23KPR_20200826_0_L2A/B04.tif | aws s3 cp - s3://dev-et-data/usmart/RIO/sentinel-s2-l2a-cogs/\n",
      "S2B_23KPR_20200826_0_L2A_B04.tif\n",
      "wget -nv -O- https://sentinel-cogs.s3.us-west-2.amazonaws.com/sentinel-s2-l2a-cogs/23/K/PR/2020/8/S2B_23KPR_20200826_0_L2A/B04.tif | aws s3 cp - s3://dev-et-data/usmart/RIO/sentinel-s2-l2a-cogs/S2B_23KPR_20200826_0_L2A_B04.tif\n"
     ]
    },
    {
     "name": "stderr",
     "output_type": "stream",
     "text": [
      "16:18:01: Thread 33: finishing in 30 seconds\n",
      "16:18:01: xfer Thread 52: starting\n",
      "16:18:01: sending https://sentinel-cogs.s3.us-west-2.amazonaws.com/sentinel-s2-l2a-cogs/23/K/NR/2020/8/S2A_23KNR_20200821_0_L2A/B04.tif\n"
     ]
    },
    {
     "name": "stdout",
     "output_type": "stream",
     "text": [
      "\n",
      "\n",
      "wget this: %s https://sentinel-cogs.s3.us-west-2.amazonaws.com/sentinel-s2-l2a-cogs/23/K/NR/2020/8/S2A_23KNR_20200821_0_L2A/B04.tif\n",
      "wget -nv -O- https://sentinel-cogs.s3.us-west-2.amazonaws.com/sentinel-s2-l2a-cogs/23/K/NR/2020/8/S2A_23KNR_20200821_0_L2A/B04.tif | aws s3 cp - s3://dev-et-data/usmart/RIO/sentinel-s2-l2a-cogs/\n",
      "S2A_23KNR_20200821_0_L2A_B04.tif\n",
      "wget -nv -O- https://sentinel-cogs.s3.us-west-2.amazonaws.com/sentinel-s2-l2a-cogs/23/K/NR/2020/8/S2A_23KNR_20200821_0_L2A/B04.tif | aws s3 cp - s3://dev-et-data/usmart/RIO/sentinel-s2-l2a-cogs/S2A_23KNR_20200821_0_L2A_B04.tif\n"
     ]
    },
    {
     "name": "stderr",
     "output_type": "stream",
     "text": [
      "2021-09-13 16:18:02 URL:https://sentinel-cogs.s3.us-west-2.amazonaws.com/sentinel-s2-l2a-cogs/23/K/NR/2020/9/S2B_23KNR_20200915_0_L2A/B02.tif [114510247/114510247] -> \"-\" [1]\n",
      "2021-09-13 16:18:02 URL:https://sentinel-cogs.s3.us-west-2.amazonaws.com/sentinel-s2-l2a-cogs/23/K/NR/2020/9/S2B_23KNR_20200905_0_L2A/B04.tif [127851467/127851467] -> \"-\" [1]\n",
      "16:18:02: Thread 42: finishing in 22 seconds\n",
      "16:18:02: xfer Thread 53: starting\n",
      "16:18:02: sending https://sentinel-cogs.s3.us-west-2.amazonaws.com/sentinel-s2-l2a-cogs/23/K/PR/2020/8/S2A_23KPR_20200821_0_L2A/B04.tif\n"
     ]
    },
    {
     "name": "stdout",
     "output_type": "stream",
     "text": [
      "\n",
      "\n",
      "wget this: %s https://sentinel-cogs.s3.us-west-2.amazonaws.com/sentinel-s2-l2a-cogs/23/K/PR/2020/8/S2A_23KPR_20200821_0_L2A/B04.tif\n",
      "wget -nv -O- https://sentinel-cogs.s3.us-west-2.amazonaws.com/sentinel-s2-l2a-cogs/23/K/PR/2020/8/S2A_23KPR_20200821_0_L2A/B04.tif | aws s3 cp - s3://dev-et-data/usmart/RIO/sentinel-s2-l2a-cogs/\n",
      "S2A_23KPR_20200821_0_L2A_B04.tif\n",
      "wget -nv -O- https://sentinel-cogs.s3.us-west-2.amazonaws.com/sentinel-s2-l2a-cogs/23/K/PR/2020/8/S2A_23KPR_20200821_0_L2A/B04.tif | aws s3 cp - s3://dev-et-data/usmart/RIO/sentinel-s2-l2a-cogs/S2A_23KPR_20200821_0_L2A_B04.tif\n"
     ]
    },
    {
     "name": "stderr",
     "output_type": "stream",
     "text": [
      "2021-09-13 16:18:02 URL:https://sentinel-cogs.s3.us-west-2.amazonaws.com/sentinel-s2-l2a-cogs/23/K/PR/2020/10/S2B_23KPR_20201005_0_L2A/B02.tif [182359777/182359777] -> \"-\" [1]\n",
      "16:18:03: sending https://sentinel-cogs.s3.us-west-2.amazonaws.com/sentinel-s2-l2a-cogs/23/K/NR/2020/9/S2B_23KNR_20200905_0_L2A/B03.tif\n"
     ]
    },
    {
     "name": "stdout",
     "output_type": "stream",
     "text": [
      "\n",
      "\n",
      "wget this: %s https://sentinel-cogs.s3.us-west-2.amazonaws.com/sentinel-s2-l2a-cogs/23/K/NR/2020/9/S2B_23KNR_20200905_0_L2A/B03.tif\n",
      "wget -nv -O- https://sentinel-cogs.s3.us-west-2.amazonaws.com/sentinel-s2-l2a-cogs/23/K/NR/2020/9/S2B_23KNR_20200905_0_L2A/B03.tif | aws s3 cp - s3://dev-et-data/usmart/RIO/sentinel-s2-l2a-cogs/\n",
      "S2B_23KNR_20200905_0_L2A_B03.tif\n",
      "wget -nv -O- https://sentinel-cogs.s3.us-west-2.amazonaws.com/sentinel-s2-l2a-cogs/23/K/NR/2020/9/S2B_23KNR_20200905_0_L2A/B03.tif | aws s3 cp - s3://dev-et-data/usmart/RIO/sentinel-s2-l2a-cogs/S2B_23KNR_20200905_0_L2A_B03.tif\n"
     ]
    },
    {
     "name": "stderr",
     "output_type": "stream",
     "text": [
      "16:18:03: Thread 35: finishing in 31 seconds\n",
      "16:18:03: xfer Thread 54: starting\n",
      "16:18:03: sending https://sentinel-cogs.s3.us-west-2.amazonaws.com/sentinel-s2-l2a-cogs/23/K/NR/2020/8/S2B_23KNR_20200816_0_L2A/B04.tif\n"
     ]
    },
    {
     "name": "stdout",
     "output_type": "stream",
     "text": [
      "\n",
      "\n",
      "wget this: %s https://sentinel-cogs.s3.us-west-2.amazonaws.com/sentinel-s2-l2a-cogs/23/K/NR/2020/8/S2B_23KNR_20200816_0_L2A/B04.tif\n",
      "wget -nv -O- https://sentinel-cogs.s3.us-west-2.amazonaws.com/sentinel-s2-l2a-cogs/23/K/NR/2020/8/S2B_23KNR_20200816_0_L2A/B04.tif | aws s3 cp - s3://dev-et-data/usmart/RIO/sentinel-s2-l2a-cogs/\n",
      "S2B_23KNR_20200816_0_L2A_B04.tif\n",
      "wget -nv -O- https://sentinel-cogs.s3.us-west-2.amazonaws.com/sentinel-s2-l2a-cogs/23/K/NR/2020/8/S2B_23KNR_20200816_0_L2A/B04.tif | aws s3 cp - s3://dev-et-data/usmart/RIO/sentinel-s2-l2a-cogs/S2B_23KNR_20200816_0_L2A_B04.tif\n"
     ]
    },
    {
     "name": "stderr",
     "output_type": "stream",
     "text": [
      "2021-09-13 16:18:04 URL:https://sentinel-cogs.s3.us-west-2.amazonaws.com/sentinel-s2-l2a-cogs/23/K/NR/2020/8/S2A_23KNR_20200831_0_L2A/B04.tif [121595283/121595283] -> \"-\" [1]\n",
      "2021-09-13 16:18:04 URL:https://sentinel-cogs.s3.us-west-2.amazonaws.com/sentinel-s2-l2a-cogs/23/K/PR/2020/9/S2B_23KPR_20200905_0_L2A/B04.tif [227463339/227463339] -> \"-\" [1]\n",
      "16:18:05: sending https://sentinel-cogs.s3.us-west-2.amazonaws.com/sentinel-s2-l2a-cogs/23/K/NR/2020/8/S2A_23KNR_20200831_0_L2A/B03.tif\n"
     ]
    },
    {
     "name": "stdout",
     "output_type": "stream",
     "text": [
      "\n",
      "\n",
      "wget this: %s https://sentinel-cogs.s3.us-west-2.amazonaws.com/sentinel-s2-l2a-cogs/23/K/NR/2020/8/S2A_23KNR_20200831_0_L2A/B03.tif\n",
      "wget -nv -O- https://sentinel-cogs.s3.us-west-2.amazonaws.com/sentinel-s2-l2a-cogs/23/K/NR/2020/8/S2A_23KNR_20200831_0_L2A/B03.tif | aws s3 cp - s3://dev-et-data/usmart/RIO/sentinel-s2-l2a-cogs/\n",
      "S2A_23KNR_20200831_0_L2A_B03.tif\n",
      "wget -nv -O- https://sentinel-cogs.s3.us-west-2.amazonaws.com/sentinel-s2-l2a-cogs/23/K/NR/2020/8/S2A_23KNR_20200831_0_L2A/B03.tif | aws s3 cp - s3://dev-et-data/usmart/RIO/sentinel-s2-l2a-cogs/S2A_23KNR_20200831_0_L2A_B03.tif\n"
     ]
    },
    {
     "name": "stderr",
     "output_type": "stream",
     "text": [
      "16:18:05: sending https://sentinel-cogs.s3.us-west-2.amazonaws.com/sentinel-s2-l2a-cogs/23/K/PR/2020/9/S2B_23KPR_20200905_0_L2A/B03.tif\n"
     ]
    },
    {
     "name": "stdout",
     "output_type": "stream",
     "text": [
      "\n",
      "\n",
      "wget this: %s https://sentinel-cogs.s3.us-west-2.amazonaws.com/sentinel-s2-l2a-cogs/23/K/PR/2020/9/S2B_23KPR_20200905_0_L2A/B03.tif\n",
      "wget -nv -O- https://sentinel-cogs.s3.us-west-2.amazonaws.com/sentinel-s2-l2a-cogs/23/K/PR/2020/9/S2B_23KPR_20200905_0_L2A/B03.tif | aws s3 cp - s3://dev-et-data/usmart/RIO/sentinel-s2-l2a-cogs/\n",
      "S2B_23KPR_20200905_0_L2A_B03.tif\n",
      "wget -nv -O- https://sentinel-cogs.s3.us-west-2.amazonaws.com/sentinel-s2-l2a-cogs/23/K/PR/2020/9/S2B_23KPR_20200905_0_L2A/B03.tif | aws s3 cp - s3://dev-et-data/usmart/RIO/sentinel-s2-l2a-cogs/S2B_23KPR_20200905_0_L2A_B03.tif\n"
     ]
    },
    {
     "name": "stderr",
     "output_type": "stream",
     "text": [
      "2021-09-13 16:18:06 URL:https://sentinel-cogs.s3.us-west-2.amazonaws.com/sentinel-s2-l2a-cogs/23/K/PR/2020/9/S2B_23KPR_20200915_0_L2A/B03.tif [214989681/214989681] -> \"-\" [1]\n",
      "2021-09-13 16:18:07 URL:https://sentinel-cogs.s3.us-west-2.amazonaws.com/sentinel-s2-l2a-cogs/23/K/NR/2020/8/S2A_23KNR_20200821_0_L2A/B04.tif [102665507/102665507] -> \"-\" [1]\n",
      "2021-09-13 16:18:07 URL:https://sentinel-cogs.s3.us-west-2.amazonaws.com/sentinel-s2-l2a-cogs/23/K/NR/2020/8/S2B_23KNR_20200826_0_L2A/B04.tif [126819481/126819481] -> \"-\" [1]\n",
      "16:18:07: sending https://sentinel-cogs.s3.us-west-2.amazonaws.com/sentinel-s2-l2a-cogs/23/K/PR/2020/9/S2B_23KPR_20200915_0_L2A/B02.tif\n"
     ]
    },
    {
     "name": "stdout",
     "output_type": "stream",
     "text": [
      "\n",
      "\n",
      "wget this: %s https://sentinel-cogs.s3.us-west-2.amazonaws.com/sentinel-s2-l2a-cogs/23/K/PR/2020/9/S2B_23KPR_20200915_0_L2A/B02.tif\n",
      "wget -nv -O- https://sentinel-cogs.s3.us-west-2.amazonaws.com/sentinel-s2-l2a-cogs/23/K/PR/2020/9/S2B_23KPR_20200915_0_L2A/B02.tif | aws s3 cp - s3://dev-et-data/usmart/RIO/sentinel-s2-l2a-cogs/\n",
      "S2B_23KPR_20200915_0_L2A_B02.tif\n",
      "wget -nv -O- https://sentinel-cogs.s3.us-west-2.amazonaws.com/sentinel-s2-l2a-cogs/23/K/PR/2020/9/S2B_23KPR_20200915_0_L2A/B02.tif | aws s3 cp - s3://dev-et-data/usmart/RIO/sentinel-s2-l2a-cogs/S2B_23KPR_20200915_0_L2A_B02.tif\n"
     ]
    },
    {
     "name": "stderr",
     "output_type": "stream",
     "text": [
      "2021-09-13 16:18:07 URL:https://sentinel-cogs.s3.us-west-2.amazonaws.com/sentinel-s2-l2a-cogs/23/K/PR/2020/9/S2A_23KPR_20200930_0_L2A/B02.tif [204632214/204632214] -> \"-\" [1]\n",
      "16:18:08: sending https://sentinel-cogs.s3.us-west-2.amazonaws.com/sentinel-s2-l2a-cogs/23/K/NR/2020/8/S2A_23KNR_20200821_0_L2A/B03.tif\n",
      "16:18:08: sending https://sentinel-cogs.s3.us-west-2.amazonaws.com/sentinel-s2-l2a-cogs/23/K/NR/2020/8/S2B_23KNR_20200826_0_L2A/B03.tif\n"
     ]
    },
    {
     "name": "stdout",
     "output_type": "stream",
     "text": [
      "\n",
      "\n",
      "wget this: %s https://sentinel-cogs.s3.us-west-2.amazonaws.com/sentinel-s2-l2a-cogs/23/K/NR/2020/8/S2A_23KNR_20200821_0_L2A/B03.tif\n",
      "wget -nv -O- https://sentinel-cogs.s3.us-west-2.amazonaws.com/sentinel-s2-l2a-cogs/23/K/NR/2020/8/S2A_23KNR_20200821_0_L2A/B03.tif | aws s3 cp - s3://dev-et-data/usmart/RIO/sentinel-s2-l2a-cogs/\n",
      "S2A_23KNR_20200821_0_L2A_B03.tif\n",
      "wget -nv -O- https://sentinel-cogs.s3.us-west-2.amazonaws.com/sentinel-s2-l2a-cogs/23/K/NR/2020/8/S2A_23KNR_20200821_0_L2A/B03.tif | aws s3 cp - s3://dev-et-data/usmart/RIO/sentinel-s2-l2a-cogs/S2A_23KNR_20200821_0_L2A_B03.tif\n",
      "\n",
      "\n",
      "wget this: %s https://sentinel-cogs.s3.us-west-2.amazonaws.com/sentinel-s2-l2a-cogs/23/K/NR/2020/8/S2B_23KNR_20200826_0_L2A/B03.tif\n",
      "wget -nv -O- https://sentinel-cogs.s3.us-west-2.amazonaws.com/sentinel-s2-l2a-cogs/23/K/NR/2020/8/S2B_23KNR_20200826_0_L2A/B03.tif | aws s3 cp - s3://dev-et-data/usmart/RIO/sentinel-s2-l2a-cogs/\n",
      "S2B_23KNR_20200826_0_L2A_B03.tif\n",
      "wget -nv -O- https://sentinel-cogs.s3.us-west-2.amazonaws.com/sentinel-s2-l2a-cogs/23/K/NR/2020/8/S2B_23KNR_20200826_0_L2A/B03.tif | aws s3 cp - s3://dev-et-data/usmart/RIO/sentinel-s2-l2a-cogs/S2B_23KNR_20200826_0_L2A_B03.tif\n"
     ]
    },
    {
     "name": "stderr",
     "output_type": "stream",
     "text": [
      "16:18:08: sending https://sentinel-cogs.s3.us-west-2.amazonaws.com/sentinel-s2-l2a-cogs/23/K/NR/2020/9/S2A_23KNR_20200910_0_L2A/B02.tif\n"
     ]
    },
    {
     "name": "stdout",
     "output_type": "stream",
     "text": [
      "\n",
      "\n",
      "wget this: %s https://sentinel-cogs.s3.us-west-2.amazonaws.com/sentinel-s2-l2a-cogs/23/K/NR/2020/9/S2A_23KNR_20200910_0_L2A/B02.tif\n",
      "wget -nv -O- https://sentinel-cogs.s3.us-west-2.amazonaws.com/sentinel-s2-l2a-cogs/23/K/NR/2020/9/S2A_23KNR_20200910_0_L2A/B02.tif | aws s3 cp - s3://dev-et-data/usmart/RIO/sentinel-s2-l2a-cogs/\n",
      "S2A_23KNR_20200910_0_L2A_B02.tif\n",
      "wget -nv -O- https://sentinel-cogs.s3.us-west-2.amazonaws.com/sentinel-s2-l2a-cogs/23/K/NR/2020/9/S2A_23KNR_20200910_0_L2A/B02.tif | aws s3 cp - s3://dev-et-data/usmart/RIO/sentinel-s2-l2a-cogs/S2A_23KNR_20200910_0_L2A_B02.tif\n"
     ]
    },
    {
     "name": "stderr",
     "output_type": "stream",
     "text": [
      "2021-09-13 16:18:08 URL:https://sentinel-cogs.s3.us-west-2.amazonaws.com/sentinel-s2-l2a-cogs/23/K/PR/2020/8/S2A_23KPR_20200831_0_L2A/B04.tif [222241805/222241805] -> \"-\" [1]\n",
      "16:18:08: Thread 37: finishing in 33 seconds\n",
      "16:18:08: xfer Thread 55: starting\n",
      "16:18:08: sending https://sentinel-cogs.s3.us-west-2.amazonaws.com/sentinel-s2-l2a-cogs/23/K/PR/2020/8/S2B_23KPR_20200816_0_L2A/B04.tif\n"
     ]
    },
    {
     "name": "stdout",
     "output_type": "stream",
     "text": [
      "\n",
      "\n",
      "wget this: %s https://sentinel-cogs.s3.us-west-2.amazonaws.com/sentinel-s2-l2a-cogs/23/K/PR/2020/8/S2B_23KPR_20200816_0_L2A/B04.tif\n",
      "wget -nv -O- https://sentinel-cogs.s3.us-west-2.amazonaws.com/sentinel-s2-l2a-cogs/23/K/PR/2020/8/S2B_23KPR_20200816_0_L2A/B04.tif | aws s3 cp - s3://dev-et-data/usmart/RIO/sentinel-s2-l2a-cogs/\n",
      "S2B_23KPR_20200816_0_L2A_B04.tif\n",
      "wget -nv -O- https://sentinel-cogs.s3.us-west-2.amazonaws.com/sentinel-s2-l2a-cogs/23/K/PR/2020/8/S2B_23KPR_20200816_0_L2A/B04.tif | aws s3 cp - s3://dev-et-data/usmart/RIO/sentinel-s2-l2a-cogs/S2B_23KPR_20200816_0_L2A_B04.tif\n"
     ]
    },
    {
     "name": "stderr",
     "output_type": "stream",
     "text": [
      "16:18:09: sending https://sentinel-cogs.s3.us-west-2.amazonaws.com/sentinel-s2-l2a-cogs/23/K/PR/2020/8/S2A_23KPR_20200831_0_L2A/B03.tif\n"
     ]
    },
    {
     "name": "stdout",
     "output_type": "stream",
     "text": [
      "\n",
      "\n",
      "wget this: %s https://sentinel-cogs.s3.us-west-2.amazonaws.com/sentinel-s2-l2a-cogs/23/K/PR/2020/8/S2A_23KPR_20200831_0_L2A/B03.tif\n",
      "wget -nv -O- https://sentinel-cogs.s3.us-west-2.amazonaws.com/sentinel-s2-l2a-cogs/23/K/PR/2020/8/S2A_23KPR_20200831_0_L2A/B03.tif | aws s3 cp - s3://dev-et-data/usmart/RIO/sentinel-s2-l2a-cogs/\n",
      "S2A_23KPR_20200831_0_L2A_B03.tif\n",
      "wget -nv -O- https://sentinel-cogs.s3.us-west-2.amazonaws.com/sentinel-s2-l2a-cogs/23/K/PR/2020/8/S2A_23KPR_20200831_0_L2A/B03.tif | aws s3 cp - s3://dev-et-data/usmart/RIO/sentinel-s2-l2a-cogs/S2A_23KPR_20200831_0_L2A_B03.tif\n"
     ]
    },
    {
     "name": "stderr",
     "output_type": "stream",
     "text": [
      "2021-09-13 16:18:09 URL:https://sentinel-cogs.s3.us-west-2.amazonaws.com/sentinel-s2-l2a-cogs/23/K/PR/2020/9/S2A_23KPR_20200920_0_L2A/B02.tif [188489301/188489301] -> \"-\" [1]\n",
      "2021-09-13 16:18:09 URL:https://sentinel-cogs.s3.us-west-2.amazonaws.com/sentinel-s2-l2a-cogs/23/K/PR/2020/9/S2A_23KPR_20200910_0_L2A/B03.tif [214993921/214993921] -> \"-\" [1]\n",
      "2021-09-13 16:18:10 URL:https://sentinel-cogs.s3.us-west-2.amazonaws.com/sentinel-s2-l2a-cogs/23/K/PR/2020/9/S2B_23KPR_20200925_0_L2A/B02.tif [222455431/222455431] -> \"-\" [1]\n",
      "16:18:10: Thread 41: finishing in 31 seconds\n",
      "16:18:10: xfer Thread 56: starting\n",
      "16:18:10: sending https://sentinel-cogs.s3.us-west-2.amazonaws.com/sentinel-s2-l2a-cogs/23/K/NR/2020/8/S2A_23KNR_20200811_1_L2A/B04.tif\n"
     ]
    },
    {
     "name": "stdout",
     "output_type": "stream",
     "text": [
      "\n",
      "\n",
      "wget this: %s https://sentinel-cogs.s3.us-west-2.amazonaws.com/sentinel-s2-l2a-cogs/23/K/NR/2020/8/S2A_23KNR_20200811_1_L2A/B04.tif\n",
      "wget -nv -O- https://sentinel-cogs.s3.us-west-2.amazonaws.com/sentinel-s2-l2a-cogs/23/K/NR/2020/8/S2A_23KNR_20200811_1_L2A/B04.tif | aws s3 cp - s3://dev-et-data/usmart/RIO/sentinel-s2-l2a-cogs/\n",
      "S2A_23KNR_20200811_1_L2A_B04.tif\n",
      "wget -nv -O- https://sentinel-cogs.s3.us-west-2.amazonaws.com/sentinel-s2-l2a-cogs/23/K/NR/2020/8/S2A_23KNR_20200811_1_L2A/B04.tif | aws s3 cp - s3://dev-et-data/usmart/RIO/sentinel-s2-l2a-cogs/S2A_23KNR_20200811_1_L2A_B04.tif\n"
     ]
    },
    {
     "name": "stderr",
     "output_type": "stream",
     "text": [
      "2021-09-13 16:18:10 URL:https://sentinel-cogs.s3.us-west-2.amazonaws.com/sentinel-s2-l2a-cogs/23/K/NR/2020/9/S2B_23KNR_20200905_0_L2A/B03.tif [125207144/125207144] -> \"-\" [1]\n",
      "2021-09-13 16:18:11 URL:https://sentinel-cogs.s3.us-west-2.amazonaws.com/sentinel-s2-l2a-cogs/23/K/PR/2020/8/S2B_23KPR_20200826_0_L2A/B04.tif [225882821/225882821] -> \"-\" [1]\n",
      "16:18:11: sending https://sentinel-cogs.s3.us-west-2.amazonaws.com/sentinel-s2-l2a-cogs/23/K/PR/2020/9/S2A_23KPR_20200910_0_L2A/B02.tif\n"
     ]
    },
    {
     "name": "stdout",
     "output_type": "stream",
     "text": [
      "\n",
      "\n",
      "wget this: %s https://sentinel-cogs.s3.us-west-2.amazonaws.com/sentinel-s2-l2a-cogs/23/K/PR/2020/9/S2A_23KPR_20200910_0_L2A/B02.tif\n",
      "wget -nv -O- https://sentinel-cogs.s3.us-west-2.amazonaws.com/sentinel-s2-l2a-cogs/23/K/PR/2020/9/S2A_23KPR_20200910_0_L2A/B02.tif | aws s3 cp - s3://dev-et-data/usmart/RIO/sentinel-s2-l2a-cogs/\n",
      "S2A_23KPR_20200910_0_L2A_B02.tif\n",
      "wget -nv -O- https://sentinel-cogs.s3.us-west-2.amazonaws.com/sentinel-s2-l2a-cogs/23/K/PR/2020/9/S2A_23KPR_20200910_0_L2A/B02.tif | aws s3 cp - s3://dev-et-data/usmart/RIO/sentinel-s2-l2a-cogs/S2A_23KPR_20200910_0_L2A_B02.tif\n"
     ]
    },
    {
     "name": "stderr",
     "output_type": "stream",
     "text": [
      "16:18:11: Thread 39: finishing in 33 seconds\n",
      "16:18:11: xfer Thread 57: starting\n",
      "16:18:11: sending https://sentinel-cogs.s3.us-west-2.amazonaws.com/sentinel-s2-l2a-cogs/23/K/PR/2020/8/S2A_23KPR_20200811_0_L2A/B04.tif\n"
     ]
    },
    {
     "name": "stdout",
     "output_type": "stream",
     "text": [
      "\n",
      "\n",
      "wget this: %s https://sentinel-cogs.s3.us-west-2.amazonaws.com/sentinel-s2-l2a-cogs/23/K/PR/2020/8/S2A_23KPR_20200811_0_L2A/B04.tif\n",
      "wget -nv -O- https://sentinel-cogs.s3.us-west-2.amazonaws.com/sentinel-s2-l2a-cogs/23/K/PR/2020/8/S2A_23KPR_20200811_0_L2A/B04.tif | aws s3 cp - s3://dev-et-data/usmart/RIO/sentinel-s2-l2a-cogs/\n",
      "S2A_23KPR_20200811_0_L2A_B04.tif\n",
      "wget -nv -O- https://sentinel-cogs.s3.us-west-2.amazonaws.com/sentinel-s2-l2a-cogs/23/K/PR/2020/8/S2A_23KPR_20200811_0_L2A/B04.tif | aws s3 cp - s3://dev-et-data/usmart/RIO/sentinel-s2-l2a-cogs/S2A_23KPR_20200811_0_L2A_B04.tif\n"
     ]
    },
    {
     "name": "stderr",
     "output_type": "stream",
     "text": [
      "16:18:11: sending https://sentinel-cogs.s3.us-west-2.amazonaws.com/sentinel-s2-l2a-cogs/23/K/NR/2020/9/S2B_23KNR_20200905_0_L2A/B02.tif\n",
      "2021-09-13 16:18:11 URL:https://sentinel-cogs.s3.us-west-2.amazonaws.com/sentinel-s2-l2a-cogs/23/K/NR/2020/8/S2B_23KNR_20200816_0_L2A/B04.tif [95331403/95331403] -> \"-\" [1]\n",
      "16:18:11: sending https://sentinel-cogs.s3.us-west-2.amazonaws.com/sentinel-s2-l2a-cogs/23/K/PR/2020/8/S2B_23KPR_20200826_0_L2A/B03.tif\n"
     ]
    },
    {
     "name": "stdout",
     "output_type": "stream",
     "text": [
      "\n",
      "\n",
      "wget this: %s https://sentinel-cogs.s3.us-west-2.amazonaws.com/sentinel-s2-l2a-cogs/23/K/NR/2020/9/S2B_23KNR_20200905_0_L2A/B02.tif\n",
      "wget -nv -O- https://sentinel-cogs.s3.us-west-2.amazonaws.com/sentinel-s2-l2a-cogs/23/K/NR/2020/9/S2B_23KNR_20200905_0_L2A/B02.tif | aws s3 cp - s3://dev-et-data/usmart/RIO/sentinel-s2-l2a-cogs/\n",
      "S2B_23KNR_20200905_0_L2A_B02.tif\n",
      "wget -nv -O- https://sentinel-cogs.s3.us-west-2.amazonaws.com/sentinel-s2-l2a-cogs/23/K/NR/2020/9/S2B_23KNR_20200905_0_L2A/B02.tif | aws s3 cp - s3://dev-et-data/usmart/RIO/sentinel-s2-l2a-cogs/S2B_23KNR_20200905_0_L2A_B02.tif\n",
      "\n",
      "\n",
      "wget this: %s https://sentinel-cogs.s3.us-west-2.amazonaws.com/sentinel-s2-l2a-cogs/23/K/PR/2020/8/S2B_23KPR_20200826_0_L2A/B03.tif\n",
      "wget -nv -O- https://sentinel-cogs.s3.us-west-2.amazonaws.com/sentinel-s2-l2a-cogs/23/K/PR/2020/8/S2B_23KPR_20200826_0_L2A/B03.tif | aws s3 cp - s3://dev-et-data/usmart/RIO/sentinel-s2-l2a-cogs/\n",
      "S2B_23KPR_20200826_0_L2A_B03.tif\n",
      "wget -nv -O- https://sentinel-cogs.s3.us-west-2.amazonaws.com/sentinel-s2-l2a-cogs/23/K/PR/2020/8/S2B_23KPR_20200826_0_L2A/B03.tif | aws s3 cp - s3://dev-et-data/usmart/RIO/sentinel-s2-l2a-cogs/S2B_23KPR_20200826_0_L2A_B03.tif\n"
     ]
    },
    {
     "name": "stderr",
     "output_type": "stream",
     "text": [
      "2021-09-13 16:18:12 URL:https://sentinel-cogs.s3.us-west-2.amazonaws.com/sentinel-s2-l2a-cogs/23/K/PR/2020/8/S2A_23KPR_20200821_0_L2A/B04.tif [184866705/184866705] -> \"-\" [1]\n",
      "16:18:12: sending https://sentinel-cogs.s3.us-west-2.amazonaws.com/sentinel-s2-l2a-cogs/23/K/NR/2020/8/S2B_23KNR_20200816_0_L2A/B03.tif\n"
     ]
    },
    {
     "name": "stdout",
     "output_type": "stream",
     "text": [
      "\n",
      "\n",
      "wget this: %s https://sentinel-cogs.s3.us-west-2.amazonaws.com/sentinel-s2-l2a-cogs/23/K/NR/2020/8/S2B_23KNR_20200816_0_L2A/B03.tif\n",
      "wget -nv -O- https://sentinel-cogs.s3.us-west-2.amazonaws.com/sentinel-s2-l2a-cogs/23/K/NR/2020/8/S2B_23KNR_20200816_0_L2A/B03.tif | aws s3 cp - s3://dev-et-data/usmart/RIO/sentinel-s2-l2a-cogs/\n",
      "S2B_23KNR_20200816_0_L2A_B03.tif\n",
      "wget -nv -O- https://sentinel-cogs.s3.us-west-2.amazonaws.com/sentinel-s2-l2a-cogs/23/K/NR/2020/8/S2B_23KNR_20200816_0_L2A/B03.tif | aws s3 cp - s3://dev-et-data/usmart/RIO/sentinel-s2-l2a-cogs/S2B_23KNR_20200816_0_L2A_B03.tif\n"
     ]
    },
    {
     "name": "stderr",
     "output_type": "stream",
     "text": [
      "16:18:13: sending https://sentinel-cogs.s3.us-west-2.amazonaws.com/sentinel-s2-l2a-cogs/23/K/PR/2020/8/S2A_23KPR_20200821_0_L2A/B03.tif\n"
     ]
    },
    {
     "name": "stdout",
     "output_type": "stream",
     "text": [
      "\n",
      "\n",
      "wget this: %s https://sentinel-cogs.s3.us-west-2.amazonaws.com/sentinel-s2-l2a-cogs/23/K/PR/2020/8/S2A_23KPR_20200821_0_L2A/B03.tif\n",
      "wget -nv -O- https://sentinel-cogs.s3.us-west-2.amazonaws.com/sentinel-s2-l2a-cogs/23/K/PR/2020/8/S2A_23KPR_20200821_0_L2A/B03.tif | aws s3 cp - s3://dev-et-data/usmart/RIO/sentinel-s2-l2a-cogs/\n",
      "S2A_23KPR_20200821_0_L2A_B03.tif\n",
      "wget -nv -O- https://sentinel-cogs.s3.us-west-2.amazonaws.com/sentinel-s2-l2a-cogs/23/K/PR/2020/8/S2A_23KPR_20200821_0_L2A/B03.tif | aws s3 cp - s3://dev-et-data/usmart/RIO/sentinel-s2-l2a-cogs/S2A_23KPR_20200821_0_L2A_B03.tif\n"
     ]
    },
    {
     "name": "stderr",
     "output_type": "stream",
     "text": [
      "2021-09-13 16:18:13 URL:https://sentinel-cogs.s3.us-west-2.amazonaws.com/sentinel-s2-l2a-cogs/23/K/NR/2020/8/S2A_23KNR_20200831_0_L2A/B03.tif [119889099/119889099] -> \"-\" [1]\n",
      "16:18:14: sending https://sentinel-cogs.s3.us-west-2.amazonaws.com/sentinel-s2-l2a-cogs/23/K/NR/2020/8/S2A_23KNR_20200831_0_L2A/B02.tif\n"
     ]
    },
    {
     "name": "stdout",
     "output_type": "stream",
     "text": [
      "\n",
      "\n",
      "wget this: %s https://sentinel-cogs.s3.us-west-2.amazonaws.com/sentinel-s2-l2a-cogs/23/K/NR/2020/8/S2A_23KNR_20200831_0_L2A/B02.tif\n",
      "wget -nv -O- https://sentinel-cogs.s3.us-west-2.amazonaws.com/sentinel-s2-l2a-cogs/23/K/NR/2020/8/S2A_23KNR_20200831_0_L2A/B02.tif | aws s3 cp - s3://dev-et-data/usmart/RIO/sentinel-s2-l2a-cogs/\n",
      "S2A_23KNR_20200831_0_L2A_B02.tif\n",
      "wget -nv -O- https://sentinel-cogs.s3.us-west-2.amazonaws.com/sentinel-s2-l2a-cogs/23/K/NR/2020/8/S2A_23KNR_20200831_0_L2A/B02.tif | aws s3 cp - s3://dev-et-data/usmart/RIO/sentinel-s2-l2a-cogs/S2A_23KNR_20200831_0_L2A_B02.tif\n"
     ]
    },
    {
     "name": "stderr",
     "output_type": "stream",
     "text": [
      "2021-09-13 16:18:14 URL:https://sentinel-cogs.s3.us-west-2.amazonaws.com/sentinel-s2-l2a-cogs/23/K/NR/2020/8/S2A_23KNR_20200821_0_L2A/B03.tif [102705102/102705102] -> \"-\" [1]\n",
      "2021-09-13 16:18:15 URL:https://sentinel-cogs.s3.us-west-2.amazonaws.com/sentinel-s2-l2a-cogs/23/K/NR/2020/9/S2A_23KNR_20200910_0_L2A/B02.tif [116568576/116568576] -> \"-\" [1]\n",
      "2021-09-13 16:18:15 URL:https://sentinel-cogs.s3.us-west-2.amazonaws.com/sentinel-s2-l2a-cogs/23/K/PR/2020/9/S2B_23KPR_20200905_0_L2A/B03.tif [221447609/221447609] -> \"-\" [1]\n",
      "16:18:15: sending https://sentinel-cogs.s3.us-west-2.amazonaws.com/sentinel-s2-l2a-cogs/23/K/NR/2020/8/S2A_23KNR_20200821_0_L2A/B02.tif\n"
     ]
    },
    {
     "name": "stdout",
     "output_type": "stream",
     "text": [
      "\n",
      "\n",
      "wget this: %s https://sentinel-cogs.s3.us-west-2.amazonaws.com/sentinel-s2-l2a-cogs/23/K/NR/2020/8/S2A_23KNR_20200821_0_L2A/B02.tif\n",
      "wget -nv -O- https://sentinel-cogs.s3.us-west-2.amazonaws.com/sentinel-s2-l2a-cogs/23/K/NR/2020/8/S2A_23KNR_20200821_0_L2A/B02.tif | aws s3 cp - s3://dev-et-data/usmart/RIO/sentinel-s2-l2a-cogs/\n",
      "S2A_23KNR_20200821_0_L2A_B02.tif\n",
      "wget -nv -O- https://sentinel-cogs.s3.us-west-2.amazonaws.com/sentinel-s2-l2a-cogs/23/K/NR/2020/8/S2A_23KNR_20200821_0_L2A/B02.tif | aws s3 cp - s3://dev-et-data/usmart/RIO/sentinel-s2-l2a-cogs/S2A_23KNR_20200821_0_L2A_B02.tif\n"
     ]
    },
    {
     "name": "stderr",
     "output_type": "stream",
     "text": [
      "2021-09-13 16:18:15 URL:https://sentinel-cogs.s3.us-west-2.amazonaws.com/sentinel-s2-l2a-cogs/23/K/NR/2020/8/S2B_23KNR_20200826_0_L2A/B03.tif [124988271/124988271] -> \"-\" [1]\n",
      "16:18:16: Thread 44: finishing in 30 seconds\n",
      "16:18:16: xfer Thread 58: starting\n",
      "16:18:16: sending https://sentinel-cogs.s3.us-west-2.amazonaws.com/sentinel-s2-l2a-cogs/23/K/NR/2020/8/S2B_23KNR_20200806_0_L2A/B04.tif\n",
      "16:18:16: sending https://sentinel-cogs.s3.us-west-2.amazonaws.com/sentinel-s2-l2a-cogs/23/K/PR/2020/9/S2B_23KPR_20200905_0_L2A/B02.tif\n"
     ]
    },
    {
     "name": "stdout",
     "output_type": "stream",
     "text": [
      "\n",
      "\n",
      "wget this: %s https://sentinel-cogs.s3.us-west-2.amazonaws.com/sentinel-s2-l2a-cogs/23/K/NR/2020/8/S2B_23KNR_20200806_0_L2A/B04.tif\n",
      "wget -nv -O- https://sentinel-cogs.s3.us-west-2.amazonaws.com/sentinel-s2-l2a-cogs/23/K/NR/2020/8/S2B_23KNR_20200806_0_L2A/B04.tif | aws s3 cp - s3://dev-et-data/usmart/RIO/sentinel-s2-l2a-cogs/\n",
      "S2B_23KNR_20200806_0_L2A_B04.tif\n",
      "wget -nv -O- https://sentinel-cogs.s3.us-west-2.amazonaws.com/sentinel-s2-l2a-cogs/23/K/NR/2020/8/S2B_23KNR_20200806_0_L2A/B04.tif | aws s3 cp - s3://dev-et-data/usmart/RIO/sentinel-s2-l2a-cogs/S2B_23KNR_20200806_0_L2A_B04.tif\n",
      "\n",
      "\n",
      "wget this: %s https://sentinel-cogs.s3.us-west-2.amazonaws.com/sentinel-s2-l2a-cogs/23/K/PR/2020/9/S2B_23KPR_20200905_0_L2A/B02.tif\n",
      "wget -nv -O- https://sentinel-cogs.s3.us-west-2.amazonaws.com/sentinel-s2-l2a-cogs/23/K/PR/2020/9/S2B_23KPR_20200905_0_L2A/B02.tif | aws s3 cp - s3://dev-et-data/usmart/RIO/sentinel-s2-l2a-cogs/\n",
      "S2B_23KPR_20200905_0_L2A_B02.tif\n",
      "wget -nv -O- https://sentinel-cogs.s3.us-west-2.amazonaws.com/sentinel-s2-l2a-cogs/23/K/PR/2020/9/S2B_23KPR_20200905_0_L2A/B02.tif | aws s3 cp - s3://dev-et-data/usmart/RIO/sentinel-s2-l2a-cogs/S2B_23KPR_20200905_0_L2A_B02.tif\n"
     ]
    },
    {
     "name": "stderr",
     "output_type": "stream",
     "text": [
      "16:18:16: sending https://sentinel-cogs.s3.us-west-2.amazonaws.com/sentinel-s2-l2a-cogs/23/K/NR/2020/8/S2B_23KNR_20200826_0_L2A/B02.tif\n"
     ]
    },
    {
     "name": "stdout",
     "output_type": "stream",
     "text": [
      "\n",
      "\n",
      "wget this: %s https://sentinel-cogs.s3.us-west-2.amazonaws.com/sentinel-s2-l2a-cogs/23/K/NR/2020/8/S2B_23KNR_20200826_0_L2A/B02.tif\n",
      "wget -nv -O- https://sentinel-cogs.s3.us-west-2.amazonaws.com/sentinel-s2-l2a-cogs/23/K/NR/2020/8/S2B_23KNR_20200826_0_L2A/B02.tif | aws s3 cp - s3://dev-et-data/usmart/RIO/sentinel-s2-l2a-cogs/\n",
      "S2B_23KNR_20200826_0_L2A_B02.tif\n",
      "wget -nv -O- https://sentinel-cogs.s3.us-west-2.amazonaws.com/sentinel-s2-l2a-cogs/23/K/NR/2020/8/S2B_23KNR_20200826_0_L2A/B02.tif | aws s3 cp - s3://dev-et-data/usmart/RIO/sentinel-s2-l2a-cogs/S2B_23KNR_20200826_0_L2A_B02.tif\n"
     ]
    },
    {
     "name": "stderr",
     "output_type": "stream",
     "text": [
      "2021-09-13 16:18:17 URL:https://sentinel-cogs.s3.us-west-2.amazonaws.com/sentinel-s2-l2a-cogs/23/K/NR/2020/8/S2A_23KNR_20200811_1_L2A/B04.tif [104993109/104993109] -> \"-\" [1]\n",
      "2021-09-13 16:18:17 URL:https://sentinel-cogs.s3.us-west-2.amazonaws.com/sentinel-s2-l2a-cogs/23/K/PR/2020/9/S2B_23KPR_20200915_0_L2A/B02.tif [214105444/214105444] -> \"-\" [1]\n",
      "2021-09-13 16:18:17 URL:https://sentinel-cogs.s3.us-west-2.amazonaws.com/sentinel-s2-l2a-cogs/23/K/NR/2020/9/S2B_23KNR_20200905_0_L2A/B02.tif [121807677/121807677] -> \"-\" [1]\n",
      "16:18:17: sending https://sentinel-cogs.s3.us-west-2.amazonaws.com/sentinel-s2-l2a-cogs/23/K/NR/2020/8/S2A_23KNR_20200811_1_L2A/B03.tif\n",
      "16:18:17: Thread 43: finishing in 31 seconds\n",
      "16:18:17: xfer Thread 59: starting\n",
      "16:18:17: sending https://sentinel-cogs.s3.us-west-2.amazonaws.com/sentinel-s2-l2a-cogs/23/K/PR/2020/8/S2B_23KPR_20200806_0_L2A/B04.tif\n"
     ]
    },
    {
     "name": "stdout",
     "output_type": "stream",
     "text": [
      "\n",
      "\n",
      "wget this: %s https://sentinel-cogs.s3.us-west-2.amazonaws.com/sentinel-s2-l2a-cogs/23/K/NR/2020/8/S2A_23KNR_20200811_1_L2A/B03.tif\n",
      "wget -nv -O- https://sentinel-cogs.s3.us-west-2.amazonaws.com/sentinel-s2-l2a-cogs/23/K/NR/2020/8/S2A_23KNR_20200811_1_L2A/B03.tif | aws s3 cp - s3://dev-et-data/usmart/RIO/sentinel-s2-l2a-cogs/\n",
      "S2A_23KNR_20200811_1_L2A_B03.tif\n",
      "wget -nv -O- https://sentinel-cogs.s3.us-west-2.amazonaws.com/sentinel-s2-l2a-cogs/23/K/NR/2020/8/S2A_23KNR_20200811_1_L2A/B03.tif | aws s3 cp - s3://dev-et-data/usmart/RIO/sentinel-s2-l2a-cogs/S2A_23KNR_20200811_1_L2A_B03.tif\n",
      "\n",
      "\n",
      "wget this: %s https://sentinel-cogs.s3.us-west-2.amazonaws.com/sentinel-s2-l2a-cogs/23/K/PR/2020/8/S2B_23KPR_20200806_0_L2A/B04.tif\n",
      "wget -nv -O- https://sentinel-cogs.s3.us-west-2.amazonaws.com/sentinel-s2-l2a-cogs/23/K/PR/2020/8/S2B_23KPR_20200806_0_L2A/B04.tif | aws s3 cp - s3://dev-et-data/usmart/RIO/sentinel-s2-l2a-cogs/\n",
      "S2B_23KPR_20200806_0_L2A_B04.tif\n",
      "wget -nv -O- https://sentinel-cogs.s3.us-west-2.amazonaws.com/sentinel-s2-l2a-cogs/23/K/PR/2020/8/S2B_23KPR_20200806_0_L2A/B04.tif | aws s3 cp - s3://dev-et-data/usmart/RIO/sentinel-s2-l2a-cogs/S2B_23KPR_20200806_0_L2A_B04.tif\n"
     ]
    },
    {
     "name": "stderr",
     "output_type": "stream",
     "text": [
      "2021-09-13 16:18:18 URL:https://sentinel-cogs.s3.us-west-2.amazonaws.com/sentinel-s2-l2a-cogs/23/K/PR/2020/8/S2B_23KPR_20200816_0_L2A/B04.tif [196450076/196450076] -> \"-\" [1]\n",
      "16:18:18: Thread 46: finishing in 25 seconds\n",
      "16:18:18: xfer Thread 60: starting\n",
      "16:18:18: sending https://sentinel-cogs.s3.us-west-2.amazonaws.com/sentinel-s2-l2a-cogs/23/K/NR/2020/8/S2A_23KNR_20200801_0_L2A/B04.tif\n"
     ]
    },
    {
     "name": "stdout",
     "output_type": "stream",
     "text": [
      "\n",
      "\n",
      "wget this: %s https://sentinel-cogs.s3.us-west-2.amazonaws.com/sentinel-s2-l2a-cogs/23/K/NR/2020/8/S2A_23KNR_20200801_0_L2A/B04.tif\n",
      "wget -nv -O- https://sentinel-cogs.s3.us-west-2.amazonaws.com/sentinel-s2-l2a-cogs/23/K/NR/2020/8/S2A_23KNR_20200801_0_L2A/B04.tif | aws s3 cp - s3://dev-et-data/usmart/RIO/sentinel-s2-l2a-cogs/\n",
      "S2A_23KNR_20200801_0_L2A_B04.tif\n",
      "wget -nv -O- https://sentinel-cogs.s3.us-west-2.amazonaws.com/sentinel-s2-l2a-cogs/23/K/NR/2020/8/S2A_23KNR_20200801_0_L2A/B04.tif | aws s3 cp - s3://dev-et-data/usmart/RIO/sentinel-s2-l2a-cogs/S2A_23KNR_20200801_0_L2A_B04.tif\n"
     ]
    },
    {
     "name": "stderr",
     "output_type": "stream",
     "text": [
      "2021-09-13 16:18:19 URL:https://sentinel-cogs.s3.us-west-2.amazonaws.com/sentinel-s2-l2a-cogs/23/K/PR/2020/8/S2A_23KPR_20200811_0_L2A/B04.tif [145374051/145374051] -> \"-\" [1]\n",
      "16:18:19: sending https://sentinel-cogs.s3.us-west-2.amazonaws.com/sentinel-s2-l2a-cogs/23/K/PR/2020/8/S2B_23KPR_20200816_0_L2A/B03.tif\n"
     ]
    },
    {
     "name": "stdout",
     "output_type": "stream",
     "text": [
      "\n",
      "\n",
      "wget this: %s https://sentinel-cogs.s3.us-west-2.amazonaws.com/sentinel-s2-l2a-cogs/23/K/PR/2020/8/S2B_23KPR_20200816_0_L2A/B03.tif\n",
      "wget -nv -O- https://sentinel-cogs.s3.us-west-2.amazonaws.com/sentinel-s2-l2a-cogs/23/K/PR/2020/8/S2B_23KPR_20200816_0_L2A/B03.tif | aws s3 cp - s3://dev-et-data/usmart/RIO/sentinel-s2-l2a-cogs/\n",
      "S2B_23KPR_20200816_0_L2A_B03.tif\n",
      "wget -nv -O- https://sentinel-cogs.s3.us-west-2.amazonaws.com/sentinel-s2-l2a-cogs/23/K/PR/2020/8/S2B_23KPR_20200816_0_L2A/B03.tif | aws s3 cp - s3://dev-et-data/usmart/RIO/sentinel-s2-l2a-cogs/S2B_23KPR_20200816_0_L2A_B03.tif\n"
     ]
    },
    {
     "name": "stderr",
     "output_type": "stream",
     "text": [
      "16:18:20: sending https://sentinel-cogs.s3.us-west-2.amazonaws.com/sentinel-s2-l2a-cogs/23/K/PR/2020/8/S2A_23KPR_20200811_0_L2A/B03.tif\n"
     ]
    },
    {
     "name": "stdout",
     "output_type": "stream",
     "text": [
      "\n",
      "\n",
      "wget this: %s https://sentinel-cogs.s3.us-west-2.amazonaws.com/sentinel-s2-l2a-cogs/23/K/PR/2020/8/S2A_23KPR_20200811_0_L2A/B03.tif\n",
      "wget -nv -O- https://sentinel-cogs.s3.us-west-2.amazonaws.com/sentinel-s2-l2a-cogs/23/K/PR/2020/8/S2A_23KPR_20200811_0_L2A/B03.tif | aws s3 cp - s3://dev-et-data/usmart/RIO/sentinel-s2-l2a-cogs/\n",
      "S2A_23KPR_20200811_0_L2A_B03.tif\n",
      "wget -nv -O- https://sentinel-cogs.s3.us-west-2.amazonaws.com/sentinel-s2-l2a-cogs/23/K/PR/2020/8/S2A_23KPR_20200811_0_L2A/B03.tif | aws s3 cp - s3://dev-et-data/usmart/RIO/sentinel-s2-l2a-cogs/S2A_23KPR_20200811_0_L2A_B03.tif\n"
     ]
    },
    {
     "name": "stderr",
     "output_type": "stream",
     "text": [
      "2021-09-13 16:18:20 URL:https://sentinel-cogs.s3.us-west-2.amazonaws.com/sentinel-s2-l2a-cogs/23/K/PR/2020/9/S2A_23KPR_20200910_0_L2A/B02.tif [209913551/209913551] -> \"-\" [1]\n",
      "2021-09-13 16:18:20 URL:https://sentinel-cogs.s3.us-west-2.amazonaws.com/sentinel-s2-l2a-cogs/23/K/NR/2020/8/S2B_23KNR_20200816_0_L2A/B03.tif [95466660/95466660] -> \"-\" [1]\n",
      "2021-09-13 16:18:20 URL:https://sentinel-cogs.s3.us-west-2.amazonaws.com/sentinel-s2-l2a-cogs/23/K/PR/2020/8/S2A_23KPR_20200831_0_L2A/B03.tif [217751434/217751434] -> \"-\" [1]\n",
      "16:18:21: sending https://sentinel-cogs.s3.us-west-2.amazonaws.com/sentinel-s2-l2a-cogs/23/K/NR/2020/8/S2B_23KNR_20200816_0_L2A/B02.tif\n"
     ]
    },
    {
     "name": "stdout",
     "output_type": "stream",
     "text": [
      "\n",
      "\n",
      "wget this: %s https://sentinel-cogs.s3.us-west-2.amazonaws.com/sentinel-s2-l2a-cogs/23/K/NR/2020/8/S2B_23KNR_20200816_0_L2A/B02.tif\n",
      "wget -nv -O- https://sentinel-cogs.s3.us-west-2.amazonaws.com/sentinel-s2-l2a-cogs/23/K/NR/2020/8/S2B_23KNR_20200816_0_L2A/B02.tif | aws s3 cp - s3://dev-et-data/usmart/RIO/sentinel-s2-l2a-cogs/\n",
      "S2B_23KNR_20200816_0_L2A_B02.tif\n",
      "wget -nv -O- https://sentinel-cogs.s3.us-west-2.amazonaws.com/sentinel-s2-l2a-cogs/23/K/NR/2020/8/S2B_23KNR_20200816_0_L2A/B02.tif | aws s3 cp - s3://dev-et-data/usmart/RIO/sentinel-s2-l2a-cogs/S2B_23KNR_20200816_0_L2A_B02.tif\n"
     ]
    },
    {
     "name": "stderr",
     "output_type": "stream",
     "text": [
      "2021-09-13 16:18:21 URL:https://sentinel-cogs.s3.us-west-2.amazonaws.com/sentinel-s2-l2a-cogs/23/K/NR/2020/8/S2A_23KNR_20200831_0_L2A/B02.tif [117573887/117573887] -> \"-\" [1]\n",
      "16:18:21: Thread 45: finishing in 32 seconds\n",
      "16:18:21: xfer Thread 61: starting\n",
      "16:18:21: sending https://sentinel-cogs.s3.us-west-2.amazonaws.com/sentinel-s2-l2a-cogs/23/K/PR/2020/8/S2A_23KPR_20200801_0_L2A/B04.tif\n"
     ]
    },
    {
     "name": "stdout",
     "output_type": "stream",
     "text": [
      "\n",
      "\n",
      "wget this: %s https://sentinel-cogs.s3.us-west-2.amazonaws.com/sentinel-s2-l2a-cogs/23/K/PR/2020/8/S2A_23KPR_20200801_0_L2A/B04.tif\n",
      "wget -nv -O- https://sentinel-cogs.s3.us-west-2.amazonaws.com/sentinel-s2-l2a-cogs/23/K/PR/2020/8/S2A_23KPR_20200801_0_L2A/B04.tif | aws s3 cp - s3://dev-et-data/usmart/RIO/sentinel-s2-l2a-cogs/\n",
      "S2A_23KPR_20200801_0_L2A_B04.tif\n",
      "wget -nv -O- https://sentinel-cogs.s3.us-west-2.amazonaws.com/sentinel-s2-l2a-cogs/23/K/PR/2020/8/S2A_23KPR_20200801_0_L2A/B04.tif | aws s3 cp - s3://dev-et-data/usmart/RIO/sentinel-s2-l2a-cogs/S2A_23KPR_20200801_0_L2A_B04.tif\n"
     ]
    },
    {
     "name": "stderr",
     "output_type": "stream",
     "text": [
      "16:18:21: sending https://sentinel-cogs.s3.us-west-2.amazonaws.com/sentinel-s2-l2a-cogs/23/K/PR/2020/8/S2A_23KPR_20200831_0_L2A/B02.tif\n"
     ]
    },
    {
     "name": "stdout",
     "output_type": "stream",
     "text": [
      "\n",
      "\n",
      "wget this: %s https://sentinel-cogs.s3.us-west-2.amazonaws.com/sentinel-s2-l2a-cogs/23/K/PR/2020/8/S2A_23KPR_20200831_0_L2A/B02.tif\n",
      "wget -nv -O- https://sentinel-cogs.s3.us-west-2.amazonaws.com/sentinel-s2-l2a-cogs/23/K/PR/2020/8/S2A_23KPR_20200831_0_L2A/B02.tif | aws s3 cp - s3://dev-et-data/usmart/RIO/sentinel-s2-l2a-cogs/\n",
      "S2A_23KPR_20200831_0_L2A_B02.tif\n",
      "wget -nv -O- https://sentinel-cogs.s3.us-west-2.amazonaws.com/sentinel-s2-l2a-cogs/23/K/PR/2020/8/S2A_23KPR_20200831_0_L2A/B02.tif | aws s3 cp - s3://dev-et-data/usmart/RIO/sentinel-s2-l2a-cogs/S2A_23KPR_20200831_0_L2A_B02.tif\n"
     ]
    },
    {
     "name": "stderr",
     "output_type": "stream",
     "text": [
      "2021-09-13 16:18:22 URL:https://sentinel-cogs.s3.us-west-2.amazonaws.com/sentinel-s2-l2a-cogs/23/K/NR/2020/8/S2A_23KNR_20200821_0_L2A/B02.tif [103278366/103278366] -> \"-\" [1]\n",
      "2021-09-13 16:18:22 URL:https://sentinel-cogs.s3.us-west-2.amazonaws.com/sentinel-s2-l2a-cogs/23/K/PR/2020/8/S2B_23KPR_20200826_0_L2A/B03.tif [223074376/223074376] -> \"-\" [1]\n",
      "16:18:23: Thread 52: finishing in 21 seconds\n",
      "16:18:23: xfer Thread 62: starting\n",
      "16:18:23: sending https://sentinel-cogs.s3.us-west-2.amazonaws.com/sentinel-s2-l2a-cogs/23/K/NR/2020/7/S2B_23KNR_20200727_0_L2A/B04.tif\n"
     ]
    },
    {
     "name": "stdout",
     "output_type": "stream",
     "text": [
      "\n",
      "\n",
      "wget this: %s https://sentinel-cogs.s3.us-west-2.amazonaws.com/sentinel-s2-l2a-cogs/23/K/NR/2020/7/S2B_23KNR_20200727_0_L2A/B04.tif\n",
      "wget -nv -O- https://sentinel-cogs.s3.us-west-2.amazonaws.com/sentinel-s2-l2a-cogs/23/K/NR/2020/7/S2B_23KNR_20200727_0_L2A/B04.tif | aws s3 cp - s3://dev-et-data/usmart/RIO/sentinel-s2-l2a-cogs/\n",
      "S2B_23KNR_20200727_0_L2A_B04.tif\n",
      "wget -nv -O- https://sentinel-cogs.s3.us-west-2.amazonaws.com/sentinel-s2-l2a-cogs/23/K/NR/2020/7/S2B_23KNR_20200727_0_L2A/B04.tif | aws s3 cp - s3://dev-et-data/usmart/RIO/sentinel-s2-l2a-cogs/S2B_23KNR_20200727_0_L2A_B04.tif\n"
     ]
    },
    {
     "name": "stderr",
     "output_type": "stream",
     "text": [
      "2021-09-13 16:18:23 URL:https://sentinel-cogs.s3.us-west-2.amazonaws.com/sentinel-s2-l2a-cogs/23/K/PR/2020/8/S2A_23KPR_20200821_0_L2A/B03.tif [184413945/184413945] -> \"-\" [1]\n",
      "2021-09-13 16:18:23 URL:https://sentinel-cogs.s3.us-west-2.amazonaws.com/sentinel-s2-l2a-cogs/23/K/NR/2020/8/S2B_23KNR_20200826_0_L2A/B02.tif [122337091/122337091] -> \"-\" [1]\n",
      "2021-09-13 16:18:23 URL:https://sentinel-cogs.s3.us-west-2.amazonaws.com/sentinel-s2-l2a-cogs/23/K/NR/2020/8/S2B_23KNR_20200806_0_L2A/B04.tif [127275047/127275047] -> \"-\" [1]\n",
      "16:18:23: sending https://sentinel-cogs.s3.us-west-2.amazonaws.com/sentinel-s2-l2a-cogs/23/K/PR/2020/8/S2B_23KPR_20200826_0_L2A/B02.tif\n",
      "16:18:24: sending https://sentinel-cogs.s3.us-west-2.amazonaws.com/sentinel-s2-l2a-cogs/23/K/PR/2020/8/S2A_23KPR_20200821_0_L2A/B02.tif\n"
     ]
    },
    {
     "name": "stdout",
     "output_type": "stream",
     "text": [
      "\n",
      "\n",
      "wget this: %s https://sentinel-cogs.s3.us-west-2.amazonaws.com/sentinel-s2-l2a-cogs/23/K/PR/2020/8/S2B_23KPR_20200826_0_L2A/B02.tif\n",
      "wget -nv -O- https://sentinel-cogs.s3.us-west-2.amazonaws.com/sentinel-s2-l2a-cogs/23/K/PR/2020/8/S2B_23KPR_20200826_0_L2A/B02.tif | aws s3 cp - s3://dev-et-data/usmart/RIO/sentinel-s2-l2a-cogs/\n",
      "S2B_23KPR_20200826_0_L2A_B02.tif\n",
      "wget -nv -O- https://sentinel-cogs.s3.us-west-2.amazonaws.com/sentinel-s2-l2a-cogs/23/K/PR/2020/8/S2B_23KPR_20200826_0_L2A/B02.tif | aws s3 cp - s3://dev-et-data/usmart/RIO/sentinel-s2-l2a-cogs/S2B_23KPR_20200826_0_L2A_B02.tif\n",
      "\n",
      "\n",
      "wget this: %s https://sentinel-cogs.s3.us-west-2.amazonaws.com/sentinel-s2-l2a-cogs/23/K/PR/2020/8/S2A_23KPR_20200821_0_L2A/B02.tif\n",
      "wget -nv -O- https://sentinel-cogs.s3.us-west-2.amazonaws.com/sentinel-s2-l2a-cogs/23/K/PR/2020/8/S2A_23KPR_20200821_0_L2A/B02.tif | aws s3 cp - s3://dev-et-data/usmart/RIO/sentinel-s2-l2a-cogs/\n",
      "S2A_23KPR_20200821_0_L2A_B02.tif\n",
      "wget -nv -O- https://sentinel-cogs.s3.us-west-2.amazonaws.com/sentinel-s2-l2a-cogs/23/K/PR/2020/8/S2A_23KPR_20200821_0_L2A/B02.tif | aws s3 cp - s3://dev-et-data/usmart/RIO/sentinel-s2-l2a-cogs/S2A_23KPR_20200821_0_L2A_B02.tif\n"
     ]
    },
    {
     "name": "stderr",
     "output_type": "stream",
     "text": [
      "16:18:24: sending https://sentinel-cogs.s3.us-west-2.amazonaws.com/sentinel-s2-l2a-cogs/23/K/NR/2020/8/S2B_23KNR_20200806_0_L2A/B03.tif\n",
      "16:18:24: Thread 50: finishing in 24 seconds\n",
      "16:18:24: xfer Thread 63: starting\n",
      "16:18:24: sending https://sentinel-cogs.s3.us-west-2.amazonaws.com/sentinel-s2-l2a-cogs/23/K/PR/2020/7/S2B_23KPR_20200727_0_L2A/B04.tif\n"
     ]
    },
    {
     "name": "stdout",
     "output_type": "stream",
     "text": [
      "\n",
      "\n",
      "wget this: %s https://sentinel-cogs.s3.us-west-2.amazonaws.com/sentinel-s2-l2a-cogs/23/K/NR/2020/8/S2B_23KNR_20200806_0_L2A/B03.tif\n",
      "wget -nv -O- https://sentinel-cogs.s3.us-west-2.amazonaws.com/sentinel-s2-l2a-cogs/23/K/NR/2020/8/S2B_23KNR_20200806_0_L2A/B03.tif | aws s3 cp - s3://dev-et-data/usmart/RIO/sentinel-s2-l2a-cogs/\n",
      "S2B_23KNR_20200806_0_L2A_B03.tif\n",
      "wget -nv -O- https://sentinel-cogs.s3.us-west-2.amazonaws.com/sentinel-s2-l2a-cogs/23/K/NR/2020/8/S2B_23KNR_20200806_0_L2A/B03.tif | aws s3 cp - s3://dev-et-data/usmart/RIO/sentinel-s2-l2a-cogs/S2B_23KNR_20200806_0_L2A_B03.tif\n",
      "\n",
      "\n",
      "wget this: %s https://sentinel-cogs.s3.us-west-2.amazonaws.com/sentinel-s2-l2a-cogs/23/K/PR/2020/7/S2B_23KPR_20200727_0_L2A/B04.tif\n",
      "wget -nv -O- https://sentinel-cogs.s3.us-west-2.amazonaws.com/sentinel-s2-l2a-cogs/23/K/PR/2020/7/S2B_23KPR_20200727_0_L2A/B04.tif | aws s3 cp - s3://dev-et-data/usmart/RIO/sentinel-s2-l2a-cogs/\n",
      "S2B_23KPR_20200727_0_L2A_B04.tif\n",
      "wget -nv -O- https://sentinel-cogs.s3.us-west-2.amazonaws.com/sentinel-s2-l2a-cogs/23/K/PR/2020/7/S2B_23KPR_20200727_0_L2A/B04.tif | aws s3 cp - s3://dev-et-data/usmart/RIO/sentinel-s2-l2a-cogs/S2B_23KPR_20200727_0_L2A_B04.tif\n"
     ]
    },
    {
     "name": "stderr",
     "output_type": "stream",
     "text": [
      "2021-09-13 16:18:24 URL:https://sentinel-cogs.s3.us-west-2.amazonaws.com/sentinel-s2-l2a-cogs/23/K/NR/2020/8/S2A_23KNR_20200801_0_L2A/B04.tif [130213236/130213236] -> \"-\" [1]\n",
      "2021-09-13 16:18:25 URL:https://sentinel-cogs.s3.us-west-2.amazonaws.com/sentinel-s2-l2a-cogs/23/K/NR/2020/8/S2A_23KNR_20200811_1_L2A/B03.tif [102904925/102904925] -> \"-\" [1]\n",
      "16:18:26: sending https://sentinel-cogs.s3.us-west-2.amazonaws.com/sentinel-s2-l2a-cogs/23/K/NR/2020/8/S2A_23KNR_20200801_0_L2A/B03.tif\n"
     ]
    },
    {
     "name": "stdout",
     "output_type": "stream",
     "text": [
      "\n",
      "\n",
      "wget this: %s https://sentinel-cogs.s3.us-west-2.amazonaws.com/sentinel-s2-l2a-cogs/23/K/NR/2020/8/S2A_23KNR_20200801_0_L2A/B03.tif\n",
      "wget -nv -O- https://sentinel-cogs.s3.us-west-2.amazonaws.com/sentinel-s2-l2a-cogs/23/K/NR/2020/8/S2A_23KNR_20200801_0_L2A/B03.tif | aws s3 cp - s3://dev-et-data/usmart/RIO/sentinel-s2-l2a-cogs/\n",
      "S2A_23KNR_20200801_0_L2A_B03.tif\n",
      "wget -nv -O- https://sentinel-cogs.s3.us-west-2.amazonaws.com/sentinel-s2-l2a-cogs/23/K/NR/2020/8/S2A_23KNR_20200801_0_L2A/B03.tif | aws s3 cp - s3://dev-et-data/usmart/RIO/sentinel-s2-l2a-cogs/S2A_23KNR_20200801_0_L2A_B03.tif\n"
     ]
    },
    {
     "name": "stderr",
     "output_type": "stream",
     "text": [
      "16:18:26: sending https://sentinel-cogs.s3.us-west-2.amazonaws.com/sentinel-s2-l2a-cogs/23/K/NR/2020/8/S2A_23KNR_20200811_1_L2A/B02.tif\n"
     ]
    },
    {
     "name": "stdout",
     "output_type": "stream",
     "text": [
      "\n",
      "\n",
      "wget this: %s https://sentinel-cogs.s3.us-west-2.amazonaws.com/sentinel-s2-l2a-cogs/23/K/NR/2020/8/S2A_23KNR_20200811_1_L2A/B02.tif\n",
      "wget -nv -O- https://sentinel-cogs.s3.us-west-2.amazonaws.com/sentinel-s2-l2a-cogs/23/K/NR/2020/8/S2A_23KNR_20200811_1_L2A/B02.tif | aws s3 cp - s3://dev-et-data/usmart/RIO/sentinel-s2-l2a-cogs/\n",
      "S2A_23KNR_20200811_1_L2A_B02.tif\n",
      "wget -nv -O- https://sentinel-cogs.s3.us-west-2.amazonaws.com/sentinel-s2-l2a-cogs/23/K/NR/2020/8/S2A_23KNR_20200811_1_L2A/B02.tif | aws s3 cp - s3://dev-et-data/usmart/RIO/sentinel-s2-l2a-cogs/S2A_23KNR_20200811_1_L2A_B02.tif\n"
     ]
    },
    {
     "name": "stderr",
     "output_type": "stream",
     "text": [
      "2021-09-13 16:18:26 URL:https://sentinel-cogs.s3.us-west-2.amazonaws.com/sentinel-s2-l2a-cogs/23/K/PR/2020/9/S2B_23KPR_20200905_0_L2A/B02.tif [213596946/213596946] -> \"-\" [1]\n",
      "2021-09-13 16:18:27 URL:https://sentinel-cogs.s3.us-west-2.amazonaws.com/sentinel-s2-l2a-cogs/23/K/NR/2020/8/S2B_23KNR_20200816_0_L2A/B02.tif [97258308/97258308] -> \"-\" [1]\n",
      "16:18:27: Thread 47: finishing in 32 seconds\n",
      "16:18:27: xfer Thread 64: starting\n",
      "16:18:27: sending https://sentinel-cogs.s3.us-west-2.amazonaws.com/sentinel-s2-l2a-cogs/23/K/NR/2020/7/S2A_23KNR_20200722_0_L2A/B04.tif\n"
     ]
    },
    {
     "name": "stdout",
     "output_type": "stream",
     "text": [
      "\n",
      "\n",
      "wget this: %s https://sentinel-cogs.s3.us-west-2.amazonaws.com/sentinel-s2-l2a-cogs/23/K/NR/2020/7/S2A_23KNR_20200722_0_L2A/B04.tif\n",
      "wget -nv -O- https://sentinel-cogs.s3.us-west-2.amazonaws.com/sentinel-s2-l2a-cogs/23/K/NR/2020/7/S2A_23KNR_20200722_0_L2A/B04.tif | aws s3 cp - s3://dev-et-data/usmart/RIO/sentinel-s2-l2a-cogs/\n",
      "S2A_23KNR_20200722_0_L2A_B04.tif\n",
      "wget -nv -O- https://sentinel-cogs.s3.us-west-2.amazonaws.com/sentinel-s2-l2a-cogs/23/K/NR/2020/7/S2A_23KNR_20200722_0_L2A/B04.tif | aws s3 cp - s3://dev-et-data/usmart/RIO/sentinel-s2-l2a-cogs/S2A_23KNR_20200722_0_L2A_B04.tif\n"
     ]
    },
    {
     "name": "stderr",
     "output_type": "stream",
     "text": [
      "16:18:27: Thread 54: finishing in 24 seconds\n",
      "16:18:27: xfer Thread 65: starting\n",
      "16:18:27: sending https://sentinel-cogs.s3.us-west-2.amazonaws.com/sentinel-s2-l2a-cogs/23/K/PR/2020/7/S2A_23KPR_20200722_0_L2A/B04.tif\n"
     ]
    },
    {
     "name": "stdout",
     "output_type": "stream",
     "text": [
      "\n",
      "\n",
      "wget this: %s https://sentinel-cogs.s3.us-west-2.amazonaws.com/sentinel-s2-l2a-cogs/23/K/PR/2020/7/S2A_23KPR_20200722_0_L2A/B04.tif\n",
      "wget -nv -O- https://sentinel-cogs.s3.us-west-2.amazonaws.com/sentinel-s2-l2a-cogs/23/K/PR/2020/7/S2A_23KPR_20200722_0_L2A/B04.tif | aws s3 cp - s3://dev-et-data/usmart/RIO/sentinel-s2-l2a-cogs/\n",
      "S2A_23KPR_20200722_0_L2A_B04.tif\n",
      "wget -nv -O- https://sentinel-cogs.s3.us-west-2.amazonaws.com/sentinel-s2-l2a-cogs/23/K/PR/2020/7/S2A_23KPR_20200722_0_L2A/B04.tif | aws s3 cp - s3://dev-et-data/usmart/RIO/sentinel-s2-l2a-cogs/S2A_23KPR_20200722_0_L2A_B04.tif\n"
     ]
    },
    {
     "name": "stderr",
     "output_type": "stream",
     "text": [
      "2021-09-13 16:18:27 URL:https://sentinel-cogs.s3.us-west-2.amazonaws.com/sentinel-s2-l2a-cogs/23/K/PR/2020/8/S2B_23KPR_20200816_0_L2A/B03.tif [192024514/192024514] -> \"-\" [1]\n",
      "16:18:28: sending https://sentinel-cogs.s3.us-west-2.amazonaws.com/sentinel-s2-l2a-cogs/23/K/PR/2020/8/S2B_23KPR_20200816_0_L2A/B02.tif\n"
     ]
    },
    {
     "name": "stdout",
     "output_type": "stream",
     "text": [
      "\n",
      "\n",
      "wget this: %s https://sentinel-cogs.s3.us-west-2.amazonaws.com/sentinel-s2-l2a-cogs/23/K/PR/2020/8/S2B_23KPR_20200816_0_L2A/B02.tif\n",
      "wget -nv -O- https://sentinel-cogs.s3.us-west-2.amazonaws.com/sentinel-s2-l2a-cogs/23/K/PR/2020/8/S2B_23KPR_20200816_0_L2A/B02.tif | aws s3 cp - s3://dev-et-data/usmart/RIO/sentinel-s2-l2a-cogs/\n",
      "S2B_23KPR_20200816_0_L2A_B02.tif\n",
      "wget -nv -O- https://sentinel-cogs.s3.us-west-2.amazonaws.com/sentinel-s2-l2a-cogs/23/K/PR/2020/8/S2B_23KPR_20200816_0_L2A/B02.tif | aws s3 cp - s3://dev-et-data/usmart/RIO/sentinel-s2-l2a-cogs/S2B_23KPR_20200816_0_L2A_B02.tif\n"
     ]
    },
    {
     "name": "stderr",
     "output_type": "stream",
     "text": [
      "2021-09-13 16:18:28 URL:https://sentinel-cogs.s3.us-west-2.amazonaws.com/sentinel-s2-l2a-cogs/23/K/PR/2020/8/S2A_23KPR_20200811_0_L2A/B03.tif [143053944/143053944] -> \"-\" [1]\n",
      "16:18:29: Thread 48: finishing in 31 seconds\n",
      "16:18:29: xfer Thread 66: starting\n",
      "16:18:29: sending https://sentinel-cogs.s3.us-west-2.amazonaws.com/sentinel-s2-l2a-cogs/23/K/NR/2020/7/S2B_23KNR_20200717_0_L2A/B04.tif\n"
     ]
    },
    {
     "name": "stdout",
     "output_type": "stream",
     "text": [
      "\n",
      "\n",
      "wget this: %s https://sentinel-cogs.s3.us-west-2.amazonaws.com/sentinel-s2-l2a-cogs/23/K/NR/2020/7/S2B_23KNR_20200717_0_L2A/B04.tif\n",
      "wget -nv -O- https://sentinel-cogs.s3.us-west-2.amazonaws.com/sentinel-s2-l2a-cogs/23/K/NR/2020/7/S2B_23KNR_20200717_0_L2A/B04.tif | aws s3 cp - s3://dev-et-data/usmart/RIO/sentinel-s2-l2a-cogs/\n",
      "S2B_23KNR_20200717_0_L2A_B04.tif\n",
      "wget -nv -O- https://sentinel-cogs.s3.us-west-2.amazonaws.com/sentinel-s2-l2a-cogs/23/K/NR/2020/7/S2B_23KNR_20200717_0_L2A/B04.tif | aws s3 cp - s3://dev-et-data/usmart/RIO/sentinel-s2-l2a-cogs/S2B_23KNR_20200717_0_L2A_B04.tif\n"
     ]
    },
    {
     "name": "stderr",
     "output_type": "stream",
     "text": [
      "2021-09-13 16:18:29 URL:https://sentinel-cogs.s3.us-west-2.amazonaws.com/sentinel-s2-l2a-cogs/23/K/PR/2020/8/S2B_23KPR_20200806_0_L2A/B04.tif [224336812/224336812] -> \"-\" [1]\n",
      "16:18:30: sending https://sentinel-cogs.s3.us-west-2.amazonaws.com/sentinel-s2-l2a-cogs/23/K/PR/2020/8/S2B_23KPR_20200806_0_L2A/B03.tif\n",
      "16:18:30: sending https://sentinel-cogs.s3.us-west-2.amazonaws.com/sentinel-s2-l2a-cogs/23/K/PR/2020/8/S2A_23KPR_20200811_0_L2A/B02.tif\n"
     ]
    },
    {
     "name": "stdout",
     "output_type": "stream",
     "text": [
      "\n",
      "\n",
      "wget this: %s https://sentinel-cogs.s3.us-west-2.amazonaws.com/sentinel-s2-l2a-cogs/23/K/PR/2020/8/S2B_23KPR_20200806_0_L2A/B03.tif\n",
      "wget -nv -O- https://sentinel-cogs.s3.us-west-2.amazonaws.com/sentinel-s2-l2a-cogs/23/K/PR/2020/8/S2B_23KPR_20200806_0_L2A/B03.tif | aws s3 cp - s3://dev-et-data/usmart/RIO/sentinel-s2-l2a-cogs/\n",
      "S2B_23KPR_20200806_0_L2A_B03.tif\n",
      "wget -nv -O- https://sentinel-cogs.s3.us-west-2.amazonaws.com/sentinel-s2-l2a-cogs/23/K/PR/2020/8/S2B_23KPR_20200806_0_L2A/B03.tif | aws s3 cp - s3://dev-et-data/usmart/RIO/sentinel-s2-l2a-cogs/S2B_23KPR_20200806_0_L2A_B03.tif\n",
      "\n",
      "\n",
      "wget this: %s https://sentinel-cogs.s3.us-west-2.amazonaws.com/sentinel-s2-l2a-cogs/23/K/PR/2020/8/S2A_23KPR_20200811_0_L2A/B02.tif\n",
      "wget -nv -O- https://sentinel-cogs.s3.us-west-2.amazonaws.com/sentinel-s2-l2a-cogs/23/K/PR/2020/8/S2A_23KPR_20200811_0_L2A/B02.tif | aws s3 cp - s3://dev-et-data/usmart/RIO/sentinel-s2-l2a-cogs/\n",
      "S2A_23KPR_20200811_0_L2A_B02.tif\n",
      "wget -nv -O- https://sentinel-cogs.s3.us-west-2.amazonaws.com/sentinel-s2-l2a-cogs/23/K/PR/2020/8/S2A_23KPR_20200811_0_L2A/B02.tif | aws s3 cp - s3://dev-et-data/usmart/RIO/sentinel-s2-l2a-cogs/S2A_23KPR_20200811_0_L2A_B02.tif\n"
     ]
    },
    {
     "name": "stderr",
     "output_type": "stream",
     "text": [
      "2021-09-13 16:18:30 URL:https://sentinel-cogs.s3.us-west-2.amazonaws.com/sentinel-s2-l2a-cogs/23/K/NR/2020/7/S2B_23KNR_20200727_0_L2A/B04.tif [128691653/128691653] -> \"-\" [1]\n",
      "16:18:31: sending https://sentinel-cogs.s3.us-west-2.amazonaws.com/sentinel-s2-l2a-cogs/23/K/NR/2020/7/S2B_23KNR_20200727_0_L2A/B03.tif\n"
     ]
    },
    {
     "name": "stdout",
     "output_type": "stream",
     "text": [
      "\n",
      "\n",
      "wget this: %s https://sentinel-cogs.s3.us-west-2.amazonaws.com/sentinel-s2-l2a-cogs/23/K/NR/2020/7/S2B_23KNR_20200727_0_L2A/B03.tif\n",
      "wget -nv -O- https://sentinel-cogs.s3.us-west-2.amazonaws.com/sentinel-s2-l2a-cogs/23/K/NR/2020/7/S2B_23KNR_20200727_0_L2A/B03.tif | aws s3 cp - s3://dev-et-data/usmart/RIO/sentinel-s2-l2a-cogs/\n",
      "S2B_23KNR_20200727_0_L2A_B03.tif\n",
      "wget -nv -O- https://sentinel-cogs.s3.us-west-2.amazonaws.com/sentinel-s2-l2a-cogs/23/K/NR/2020/7/S2B_23KNR_20200727_0_L2A/B03.tif | aws s3 cp - s3://dev-et-data/usmart/RIO/sentinel-s2-l2a-cogs/S2B_23KNR_20200727_0_L2A_B03.tif\n"
     ]
    },
    {
     "name": "stderr",
     "output_type": "stream",
     "text": [
      "2021-09-13 16:18:31 URL:https://sentinel-cogs.s3.us-west-2.amazonaws.com/sentinel-s2-l2a-cogs/23/K/PR/2020/8/S2A_23KPR_20200831_0_L2A/B02.tif [212172858/212172858] -> \"-\" [1]\n",
      "2021-09-13 16:18:31 URL:https://sentinel-cogs.s3.us-west-2.amazonaws.com/sentinel-s2-l2a-cogs/23/K/NR/2020/8/S2B_23KNR_20200806_0_L2A/B03.tif [124828023/124828023] -> \"-\" [1]\n",
      "2021-09-13 16:18:32 URL:https://sentinel-cogs.s3.us-west-2.amazonaws.com/sentinel-s2-l2a-cogs/23/K/PR/2020/8/S2A_23KPR_20200801_0_L2A/B04.tif [213624171/213624171] -> \"-\" [1]\n",
      "16:18:32: Thread 49: finishing in 34 seconds\n",
      "16:18:32: xfer Thread 67: starting\n",
      "16:18:32: sending https://sentinel-cogs.s3.us-west-2.amazonaws.com/sentinel-s2-l2a-cogs/23/K/PR/2020/7/S2B_23KPR_20200717_0_L2A/B04.tif\n"
     ]
    },
    {
     "name": "stdout",
     "output_type": "stream",
     "text": [
      "\n",
      "\n",
      "wget this: %s https://sentinel-cogs.s3.us-west-2.amazonaws.com/sentinel-s2-l2a-cogs/23/K/PR/2020/7/S2B_23KPR_20200717_0_L2A/B04.tif\n",
      "wget -nv -O- https://sentinel-cogs.s3.us-west-2.amazonaws.com/sentinel-s2-l2a-cogs/23/K/PR/2020/7/S2B_23KPR_20200717_0_L2A/B04.tif | aws s3 cp - s3://dev-et-data/usmart/RIO/sentinel-s2-l2a-cogs/\n",
      "S2B_23KPR_20200717_0_L2A_B04.tif\n",
      "wget -nv -O- https://sentinel-cogs.s3.us-west-2.amazonaws.com/sentinel-s2-l2a-cogs/23/K/PR/2020/7/S2B_23KPR_20200717_0_L2A/B04.tif | aws s3 cp - s3://dev-et-data/usmart/RIO/sentinel-s2-l2a-cogs/S2B_23KPR_20200717_0_L2A_B04.tif\n"
     ]
    },
    {
     "name": "stderr",
     "output_type": "stream",
     "text": [
      "16:18:32: sending https://sentinel-cogs.s3.us-west-2.amazonaws.com/sentinel-s2-l2a-cogs/23/K/PR/2020/8/S2A_23KPR_20200801_0_L2A/B03.tif\n",
      "16:18:32: sending https://sentinel-cogs.s3.us-west-2.amazonaws.com/sentinel-s2-l2a-cogs/23/K/NR/2020/8/S2B_23KNR_20200806_0_L2A/B02.tif\n"
     ]
    },
    {
     "name": "stdout",
     "output_type": "stream",
     "text": [
      "\n",
      "\n",
      "\n",
      "\n",
      "wget this: %s https://sentinel-cogs.s3.us-west-2.amazonaws.com/sentinel-s2-l2a-cogs/23/K/PR/2020/8/S2A_23KPR_20200801_0_L2A/B03.tif\n",
      "wget -nv -O- https://sentinel-cogs.s3.us-west-2.amazonaws.com/sentinel-s2-l2a-cogs/23/K/PR/2020/8/S2A_23KPR_20200801_0_L2A/B03.tif | aws s3 cp - s3://dev-et-data/usmart/RIO/sentinel-s2-l2a-cogs/\n",
      "S2A_23KPR_20200801_0_L2A_B03.tif\n",
      "wget -nv -O- https://sentinel-cogs.s3.us-west-2.amazonaws.com/sentinel-s2-l2a-cogs/23/K/PR/2020/8/S2A_23KPR_20200801_0_L2A/B03.tif | aws s3 cp - s3://dev-et-data/usmart/RIO/sentinel-s2-l2a-cogs/S2A_23KPR_20200801_0_L2A_B03.tif\n",
      "wget this: %s https://sentinel-cogs.s3.us-west-2.amazonaws.com/sentinel-s2-l2a-cogs/23/K/NR/2020/8/S2B_23KNR_20200806_0_L2A/B02.tif\n",
      "wget -nv -O- https://sentinel-cogs.s3.us-west-2.amazonaws.com/sentinel-s2-l2a-cogs/23/K/NR/2020/8/S2B_23KNR_20200806_0_L2A/B02.tif | aws s3 cp - s3://dev-et-data/usmart/RIO/sentinel-s2-l2a-cogs/\n",
      "S2B_23KNR_20200806_0_L2A_B02.tif\n",
      "wget -nv -O- https://sentinel-cogs.s3.us-west-2.amazonaws.com/sentinel-s2-l2a-cogs/23/K/NR/2020/8/S2B_23KNR_20200806_0_L2A/B02.tif | aws s3 cp - s3://dev-et-data/usmart/RIO/sentinel-s2-l2a-cogs/S2B_23KNR_20200806_0_L2A_B02.tif\n"
     ]
    },
    {
     "name": "stderr",
     "output_type": "stream",
     "text": [
      "2021-09-13 16:18:32 URL:https://sentinel-cogs.s3.us-west-2.amazonaws.com/sentinel-s2-l2a-cogs/23/K/NR/2020/8/S2A_23KNR_20200801_0_L2A/B03.tif [129421678/129421678] -> \"-\" [1]\n",
      "2021-09-13 16:18:32 URL:https://sentinel-cogs.s3.us-west-2.amazonaws.com/sentinel-s2-l2a-cogs/23/K/NR/2020/8/S2A_23KNR_20200811_1_L2A/B02.tif [97955052/97955052] -> \"-\" [1]\n",
      "2021-09-13 16:18:32 URL:https://sentinel-cogs.s3.us-west-2.amazonaws.com/sentinel-s2-l2a-cogs/23/K/PR/2020/8/S2A_23KPR_20200821_0_L2A/B02.tif [184747717/184747717] -> \"-\" [1]\n",
      "16:18:33: Thread 56: finishing in 22 seconds\n",
      "16:18:33: xfer Thread 68: starting\n",
      "16:18:33: sending https://sentinel-cogs.s3.us-west-2.amazonaws.com/sentinel-s2-l2a-cogs/23/K/NR/2020/7/S2A_23KNR_20200712_0_L2A/B04.tif\n",
      "16:18:33: sending https://sentinel-cogs.s3.us-west-2.amazonaws.com/sentinel-s2-l2a-cogs/23/K/NR/2020/8/S2A_23KNR_20200801_0_L2A/B02.tif\n",
      "16:18:33: Thread 53: finishing in 30 seconds\n",
      "16:18:33: xfer Thread 69: starting\n",
      "16:18:33: sending https://sentinel-cogs.s3.us-west-2.amazonaws.com/sentinel-s2-l2a-cogs/23/K/PR/2020/7/S2A_23KPR_20200712_0_L2A/B04.tif\n"
     ]
    },
    {
     "name": "stdout",
     "output_type": "stream",
     "text": [
      "\n",
      "\n",
      "wget this: %s https://sentinel-cogs.s3.us-west-2.amazonaws.com/sentinel-s2-l2a-cogs/23/K/NR/2020/7/S2A_23KNR_20200712_0_L2A/B04.tif\n",
      "wget -nv -O- https://sentinel-cogs.s3.us-west-2.amazonaws.com/sentinel-s2-l2a-cogs/23/K/NR/2020/7/S2A_23KNR_20200712_0_L2A/B04.tif | aws s3 cp - s3://dev-et-data/usmart/RIO/sentinel-s2-l2a-cogs/\n",
      "S2A_23KNR_20200712_0_L2A_B04.tif\n",
      "wget -nv -O- https://sentinel-cogs.s3.us-west-2.amazonaws.com/sentinel-s2-l2a-cogs/23/K/NR/2020/7/S2A_23KNR_20200712_0_L2A/B04.tif | aws s3 cp - s3://dev-et-data/usmart/RIO/sentinel-s2-l2a-cogs/S2A_23KNR_20200712_0_L2A_B04.tif\n",
      "\n",
      "\n",
      "wget this: %s https://sentinel-cogs.s3.us-west-2.amazonaws.com/sentinel-s2-l2a-cogs/23/K/NR/2020/8/S2A_23KNR_20200801_0_L2A/B02.tif\n",
      "wget -nv -O- https://sentinel-cogs.s3.us-west-2.amazonaws.com/sentinel-s2-l2a-cogs/23/K/NR/2020/8/S2A_23KNR_20200801_0_L2A/B02.tif | aws s3 cp - s3://dev-et-data/usmart/RIO/sentinel-s2-l2a-cogs/\n",
      "S2A_23KNR_20200801_0_L2A_B02.tif\n",
      "wget -nv -O- https://sentinel-cogs.s3.us-west-2.amazonaws.com/sentinel-s2-l2a-cogs/23/K/NR/2020/8/S2A_23KNR_20200801_0_L2A/B02.tif | aws s3 cp - s3://dev-et-data/usmart/RIO/sentinel-s2-l2a-cogs/S2A_23KNR_20200801_0_L2A_B02.tif\n",
      "\n",
      "\n",
      "wget this: %s https://sentinel-cogs.s3.us-west-2.amazonaws.com/sentinel-s2-l2a-cogs/23/K/PR/2020/7/S2A_23KPR_20200712_0_L2A/B04.tif\n",
      "wget -nv -O- https://sentinel-cogs.s3.us-west-2.amazonaws.com/sentinel-s2-l2a-cogs/23/K/PR/2020/7/S2A_23KPR_20200712_0_L2A/B04.tif | aws s3 cp - s3://dev-et-data/usmart/RIO/sentinel-s2-l2a-cogs/\n",
      "S2A_23KPR_20200712_0_L2A_B04.tif\n",
      "wget -nv -O- https://sentinel-cogs.s3.us-west-2.amazonaws.com/sentinel-s2-l2a-cogs/23/K/PR/2020/7/S2A_23KPR_20200712_0_L2A/B04.tif | aws s3 cp - s3://dev-et-data/usmart/RIO/sentinel-s2-l2a-cogs/S2A_23KPR_20200712_0_L2A_B04.tif\n"
     ]
    },
    {
     "name": "stderr",
     "output_type": "stream",
     "text": [
      "2021-09-13 16:18:34 URL:https://sentinel-cogs.s3.us-west-2.amazonaws.com/sentinel-s2-l2a-cogs/23/K/PR/2020/8/S2B_23KPR_20200826_0_L2A/B02.tif [219643151/219643151] -> \"-\" [1]\n",
      "2021-09-13 16:18:34 URL:https://sentinel-cogs.s3.us-west-2.amazonaws.com/sentinel-s2-l2a-cogs/23/K/NR/2020/7/S2A_23KNR_20200722_0_L2A/B04.tif [127224325/127224325] -> \"-\" [1]\n",
      "16:18:35: Thread 51: finishing in 34 seconds\n",
      "16:18:35: xfer Thread 70: starting\n",
      "16:18:35: sending https://sentinel-cogs.s3.us-west-2.amazonaws.com/sentinel-s2-l2a-cogs/23/K/NR/2020/7/S2B_23KNR_20200707_0_L2A/B04.tif\n"
     ]
    },
    {
     "name": "stdout",
     "output_type": "stream",
     "text": [
      "\n",
      "\n",
      "wget this: %s https://sentinel-cogs.s3.us-west-2.amazonaws.com/sentinel-s2-l2a-cogs/23/K/NR/2020/7/S2B_23KNR_20200707_0_L2A/B04.tif\n",
      "wget -nv -O- https://sentinel-cogs.s3.us-west-2.amazonaws.com/sentinel-s2-l2a-cogs/23/K/NR/2020/7/S2B_23KNR_20200707_0_L2A/B04.tif | aws s3 cp - s3://dev-et-data/usmart/RIO/sentinel-s2-l2a-cogs/\n",
      "S2B_23KNR_20200707_0_L2A_B04.tif\n",
      "wget -nv -O- https://sentinel-cogs.s3.us-west-2.amazonaws.com/sentinel-s2-l2a-cogs/23/K/NR/2020/7/S2B_23KNR_20200707_0_L2A/B04.tif | aws s3 cp - s3://dev-et-data/usmart/RIO/sentinel-s2-l2a-cogs/S2B_23KNR_20200707_0_L2A_B04.tif\n"
     ]
    },
    {
     "name": "stderr",
     "output_type": "stream",
     "text": [
      "2021-09-13 16:18:35 URL:https://sentinel-cogs.s3.us-west-2.amazonaws.com/sentinel-s2-l2a-cogs/23/K/PR/2020/7/S2B_23KPR_20200727_0_L2A/B04.tif [229257840/229257840] -> \"-\" [1]\n",
      "16:18:35: sending https://sentinel-cogs.s3.us-west-2.amazonaws.com/sentinel-s2-l2a-cogs/23/K/NR/2020/7/S2A_23KNR_20200722_0_L2A/B03.tif\n",
      "2021-09-13 16:18:35 URL:https://sentinel-cogs.s3.us-west-2.amazonaws.com/sentinel-s2-l2a-cogs/23/K/NR/2020/7/S2B_23KNR_20200717_0_L2A/B04.tif [125974989/125974989] -> \"-\" [1]\n"
     ]
    },
    {
     "name": "stdout",
     "output_type": "stream",
     "text": [
      "\n",
      "\n",
      "wget this: %s https://sentinel-cogs.s3.us-west-2.amazonaws.com/sentinel-s2-l2a-cogs/23/K/NR/2020/7/S2A_23KNR_20200722_0_L2A/B03.tif\n",
      "wget -nv -O- https://sentinel-cogs.s3.us-west-2.amazonaws.com/sentinel-s2-l2a-cogs/23/K/NR/2020/7/S2A_23KNR_20200722_0_L2A/B03.tif | aws s3 cp - s3://dev-et-data/usmart/RIO/sentinel-s2-l2a-cogs/\n",
      "S2A_23KNR_20200722_0_L2A_B03.tif\n",
      "wget -nv -O- https://sentinel-cogs.s3.us-west-2.amazonaws.com/sentinel-s2-l2a-cogs/23/K/NR/2020/7/S2A_23KNR_20200722_0_L2A/B03.tif | aws s3 cp - s3://dev-et-data/usmart/RIO/sentinel-s2-l2a-cogs/S2A_23KNR_20200722_0_L2A_B03.tif\n"
     ]
    },
    {
     "name": "stderr",
     "output_type": "stream",
     "text": [
      "16:18:36: sending https://sentinel-cogs.s3.us-west-2.amazonaws.com/sentinel-s2-l2a-cogs/23/K/PR/2020/7/S2B_23KPR_20200727_0_L2A/B03.tif\n",
      "16:18:36: sending https://sentinel-cogs.s3.us-west-2.amazonaws.com/sentinel-s2-l2a-cogs/23/K/NR/2020/7/S2B_23KNR_20200717_0_L2A/B03.tif\n"
     ]
    },
    {
     "name": "stdout",
     "output_type": "stream",
     "text": [
      "\n",
      "\n",
      "\n",
      "\n",
      "wget this: %s https://sentinel-cogs.s3.us-west-2.amazonaws.com/sentinel-s2-l2a-cogs/23/K/PR/2020/7/S2B_23KPR_20200727_0_L2A/B03.tif\n",
      "wget -nv -O- https://sentinel-cogs.s3.us-west-2.amazonaws.com/sentinel-s2-l2a-cogs/23/K/PR/2020/7/S2B_23KPR_20200727_0_L2A/B03.tif | aws s3 cp - s3://dev-et-data/usmart/RIO/sentinel-s2-l2a-cogs/\n",
      "S2B_23KPR_20200727_0_L2A_B03.tif\n",
      "wget -nv -O- https://sentinel-cogs.s3.us-west-2.amazonaws.com/sentinel-s2-l2a-cogs/23/K/PR/2020/7/S2B_23KPR_20200727_0_L2A/B03.tif | aws s3 cp - s3://dev-et-data/usmart/RIO/sentinel-s2-l2a-cogs/S2B_23KPR_20200727_0_L2A_B03.tif\n",
      "wget this: %s https://sentinel-cogs.s3.us-west-2.amazonaws.com/sentinel-s2-l2a-cogs/23/K/NR/2020/7/S2B_23KNR_20200717_0_L2A/B03.tif\n",
      "wget -nv -O- https://sentinel-cogs.s3.us-west-2.amazonaws.com/sentinel-s2-l2a-cogs/23/K/NR/2020/7/S2B_23KNR_20200717_0_L2A/B03.tif | aws s3 cp - s3://dev-et-data/usmart/RIO/sentinel-s2-l2a-cogs/\n",
      "S2B_23KNR_20200717_0_L2A_B03.tif\n",
      "wget -nv -O- https://sentinel-cogs.s3.us-west-2.amazonaws.com/sentinel-s2-l2a-cogs/23/K/NR/2020/7/S2B_23KNR_20200717_0_L2A/B03.tif | aws s3 cp - s3://dev-et-data/usmart/RIO/sentinel-s2-l2a-cogs/S2B_23KNR_20200717_0_L2A_B03.tif\n"
     ]
    },
    {
     "name": "stderr",
     "output_type": "stream",
     "text": [
      "2021-09-13 16:18:37 URL:https://sentinel-cogs.s3.us-west-2.amazonaws.com/sentinel-s2-l2a-cogs/23/K/PR/2020/8/S2B_23KPR_20200816_0_L2A/B02.tif [190379438/190379438] -> \"-\" [1]\n",
      "2021-09-13 16:18:38 URL:https://sentinel-cogs.s3.us-west-2.amazonaws.com/sentinel-s2-l2a-cogs/23/K/PR/2020/7/S2A_23KPR_20200722_0_L2A/B04.tif [226215068/226215068] -> \"-\" [1]\n",
      "2021-09-13 16:18:38 URL:https://sentinel-cogs.s3.us-west-2.amazonaws.com/sentinel-s2-l2a-cogs/23/K/PR/2020/8/S2A_23KPR_20200811_0_L2A/B02.tif [136154505/136154505] -> \"-\" [1]\n",
      "16:18:38: Thread 55: finishing in 30 seconds\n",
      "16:18:38: xfer Thread 71: starting\n",
      "16:18:38: sending https://sentinel-cogs.s3.us-west-2.amazonaws.com/sentinel-s2-l2a-cogs/23/K/PR/2020/7/S2B_23KPR_20200707_0_L2A/B04.tif\n",
      "16:18:38: sending https://sentinel-cogs.s3.us-west-2.amazonaws.com/sentinel-s2-l2a-cogs/23/K/PR/2020/7/S2A_23KPR_20200722_0_L2A/B03.tif\n"
     ]
    },
    {
     "name": "stdout",
     "output_type": "stream",
     "text": [
      "\n",
      "\n",
      "wget this: %s https://sentinel-cogs.s3.us-west-2.amazonaws.com/sentinel-s2-l2a-cogs/23/K/PR/2020/7/S2B_23KPR_20200707_0_L2A/B04.tif\n",
      "wget -nv -O- https://sentinel-cogs.s3.us-west-2.amazonaws.com/sentinel-s2-l2a-cogs/23/K/PR/2020/7/S2B_23KPR_20200707_0_L2A/B04.tif | aws s3 cp - s3://dev-et-data/usmart/RIO/sentinel-s2-l2a-cogs/\n",
      "S2B_23KPR_20200707_0_L2A_B04.tif\n",
      "wget -nv -O- https://sentinel-cogs.s3.us-west-2.amazonaws.com/sentinel-s2-l2a-cogs/23/K/PR/2020/7/S2B_23KPR_20200707_0_L2A/B04.tif | aws s3 cp - s3://dev-et-data/usmart/RIO/sentinel-s2-l2a-cogs/S2B_23KPR_20200707_0_L2A_B04.tif\n",
      "\n",
      "\n",
      "wget this: %s https://sentinel-cogs.s3.us-west-2.amazonaws.com/sentinel-s2-l2a-cogs/23/K/PR/2020/7/S2A_23KPR_20200722_0_L2A/B03.tif\n",
      "wget -nv -O- https://sentinel-cogs.s3.us-west-2.amazonaws.com/sentinel-s2-l2a-cogs/23/K/PR/2020/7/S2A_23KPR_20200722_0_L2A/B03.tif | aws s3 cp - s3://dev-et-data/usmart/RIO/sentinel-s2-l2a-cogs/\n",
      "S2A_23KPR_20200722_0_L2A_B03.tif\n",
      "wget -nv -O- https://sentinel-cogs.s3.us-west-2.amazonaws.com/sentinel-s2-l2a-cogs/23/K/PR/2020/7/S2A_23KPR_20200722_0_L2A/B03.tif | aws s3 cp - s3://dev-et-data/usmart/RIO/sentinel-s2-l2a-cogs/S2A_23KPR_20200722_0_L2A_B03.tif\n"
     ]
    },
    {
     "name": "stderr",
     "output_type": "stream",
     "text": [
      "2021-09-13 16:18:39 URL:https://sentinel-cogs.s3.us-west-2.amazonaws.com/sentinel-s2-l2a-cogs/23/K/NR/2020/8/S2B_23KNR_20200806_0_L2A/B02.tif [119326090/119326090] -> \"-\" [1]\n",
      "2021-09-13 16:18:40 URL:https://sentinel-cogs.s3.us-west-2.amazonaws.com/sentinel-s2-l2a-cogs/23/K/NR/2020/7/S2B_23KNR_20200727_0_L2A/B03.tif [127051691/127051691] -> \"-\" [1]\n",
      "2021-09-13 16:18:40 URL:https://sentinel-cogs.s3.us-west-2.amazonaws.com/sentinel-s2-l2a-cogs/23/K/NR/2020/7/S2A_23KNR_20200712_0_L2A/B04.tif [120077317/120077317] -> \"-\" [1]\n",
      "16:18:40: Thread 57: finishing in 29 seconds\n",
      "16:18:40: xfer Thread 72: starting\n",
      "2021-09-13 16:18:40 URL:https://sentinel-cogs.s3.us-west-2.amazonaws.com/sentinel-s2-l2a-cogs/23/K/PR/2020/8/S2B_23KPR_20200806_0_L2A/B03.tif [223038160/223038160] -> \"-\" [1]\n",
      "16:18:40: sending https://sentinel-cogs.s3.us-west-2.amazonaws.com/sentinel-s2-l2a-cogs/23/K/NR/2020/7/S2A_23KNR_20200702_0_L2A/B04.tif\n",
      "16:18:40: Thread 58: finishing in 24 seconds\n",
      "16:18:40: xfer Thread 73: starting\n",
      "16:18:40: sending https://sentinel-cogs.s3.us-west-2.amazonaws.com/sentinel-s2-l2a-cogs/23/K/PR/2020/7/S2A_23KPR_20200702_0_L2A/B04.tif\n"
     ]
    },
    {
     "name": "stdout",
     "output_type": "stream",
     "text": [
      "\n",
      "\n",
      "wget this: %s https://sentinel-cogs.s3.us-west-2.amazonaws.com/sentinel-s2-l2a-cogs/23/K/NR/2020/7/S2A_23KNR_20200702_0_L2A/B04.tif\n",
      "wget -nv -O- https://sentinel-cogs.s3.us-west-2.amazonaws.com/sentinel-s2-l2a-cogs/23/K/NR/2020/7/S2A_23KNR_20200702_0_L2A/B04.tif | aws s3 cp - s3://dev-et-data/usmart/RIO/sentinel-s2-l2a-cogs/\n",
      "S2A_23KNR_20200702_0_L2A_B04.tif\n",
      "wget -nv -O- https://sentinel-cogs.s3.us-west-2.amazonaws.com/sentinel-s2-l2a-cogs/23/K/NR/2020/7/S2A_23KNR_20200702_0_L2A/B04.tif | aws s3 cp - s3://dev-et-data/usmart/RIO/sentinel-s2-l2a-cogs/S2A_23KNR_20200702_0_L2A_B04.tif\n",
      "\n",
      "\n",
      "wget this: %s https://sentinel-cogs.s3.us-west-2.amazonaws.com/sentinel-s2-l2a-cogs/23/K/PR/2020/7/S2A_23KPR_20200702_0_L2A/B04.tif\n",
      "wget -nv -O- https://sentinel-cogs.s3.us-west-2.amazonaws.com/sentinel-s2-l2a-cogs/23/K/PR/2020/7/S2A_23KPR_20200702_0_L2A/B04.tif | aws s3 cp - s3://dev-et-data/usmart/RIO/sentinel-s2-l2a-cogs/\n",
      "S2A_23KPR_20200702_0_L2A_B04.tif\n",
      "wget -nv -O- https://sentinel-cogs.s3.us-west-2.amazonaws.com/sentinel-s2-l2a-cogs/23/K/PR/2020/7/S2A_23KPR_20200702_0_L2A/B04.tif | aws s3 cp - s3://dev-et-data/usmart/RIO/sentinel-s2-l2a-cogs/S2A_23KPR_20200702_0_L2A_B04.tif\n"
     ]
    },
    {
     "name": "stderr",
     "output_type": "stream",
     "text": [
      "2021-09-13 16:18:41 URL:https://sentinel-cogs.s3.us-west-2.amazonaws.com/sentinel-s2-l2a-cogs/23/K/NR/2020/8/S2A_23KNR_20200801_0_L2A/B02.tif [128475492/128475492] -> \"-\" [1]\n",
      "16:18:41: sending https://sentinel-cogs.s3.us-west-2.amazonaws.com/sentinel-s2-l2a-cogs/23/K/NR/2020/7/S2B_23KNR_20200727_0_L2A/B02.tif\n",
      "16:18:41: sending https://sentinel-cogs.s3.us-west-2.amazonaws.com/sentinel-s2-l2a-cogs/23/K/PR/2020/8/S2B_23KPR_20200806_0_L2A/B02.tif\n"
     ]
    },
    {
     "name": "stdout",
     "output_type": "stream",
     "text": [
      "\n",
      "\n",
      "wget this: %s https://sentinel-cogs.s3.us-west-2.amazonaws.com/sentinel-s2-l2a-cogs/23/K/NR/2020/7/S2B_23KNR_20200727_0_L2A/B02.tif\n",
      "wget -nv -O- https://sentinel-cogs.s3.us-west-2.amazonaws.com/sentinel-s2-l2a-cogs/23/K/NR/2020/7/S2B_23KNR_20200727_0_L2A/B02.tif | aws s3 cp - s3://dev-et-data/usmart/RIO/sentinel-s2-l2a-cogs/\n",
      "S2B_23KNR_20200727_0_L2A_B02.tif\n",
      "wget -nv -O- https://sentinel-cogs.s3.us-west-2.amazonaws.com/sentinel-s2-l2a-cogs/23/K/NR/2020/7/S2B_23KNR_20200727_0_L2A/B02.tif | aws s3 cp - s3://dev-et-data/usmart/RIO/sentinel-s2-l2a-cogs/S2B_23KNR_20200727_0_L2A_B02.tif\n",
      "\n",
      "\n",
      "wget this: %s https://sentinel-cogs.s3.us-west-2.amazonaws.com/sentinel-s2-l2a-cogs/23/K/PR/2020/8/S2B_23KPR_20200806_0_L2A/B02.tif\n",
      "wget -nv -O- https://sentinel-cogs.s3.us-west-2.amazonaws.com/sentinel-s2-l2a-cogs/23/K/PR/2020/8/S2B_23KPR_20200806_0_L2A/B02.tif | aws s3 cp - s3://dev-et-data/usmart/RIO/sentinel-s2-l2a-cogs/\n",
      "S2B_23KPR_20200806_0_L2A_B02.tif\n",
      "wget -nv -O- https://sentinel-cogs.s3.us-west-2.amazonaws.com/sentinel-s2-l2a-cogs/23/K/PR/2020/8/S2B_23KPR_20200806_0_L2A/B02.tif | aws s3 cp - s3://dev-et-data/usmart/RIO/sentinel-s2-l2a-cogs/S2B_23KPR_20200806_0_L2A_B02.tif\n"
     ]
    },
    {
     "name": "stderr",
     "output_type": "stream",
     "text": [
      "16:18:41: Thread 60: finishing in 23 seconds\n",
      "16:18:41: xfer Thread 74: starting\n",
      "16:18:41: sending https://sentinel-cogs.s3.us-west-2.amazonaws.com/sentinel-s2-l2a-cogs/23/K/NR/2020/6/S2B_23KNR_20200627_0_L2A/B04.tif\n"
     ]
    },
    {
     "name": "stdout",
     "output_type": "stream",
     "text": [
      "\n",
      "\n",
      "wget this: %s https://sentinel-cogs.s3.us-west-2.amazonaws.com/sentinel-s2-l2a-cogs/23/K/NR/2020/6/S2B_23KNR_20200627_0_L2A/B04.tif\n",
      "wget -nv -O- https://sentinel-cogs.s3.us-west-2.amazonaws.com/sentinel-s2-l2a-cogs/23/K/NR/2020/6/S2B_23KNR_20200627_0_L2A/B04.tif | aws s3 cp - s3://dev-et-data/usmart/RIO/sentinel-s2-l2a-cogs/\n",
      "S2B_23KNR_20200627_0_L2A_B04.tif\n",
      "wget -nv -O- https://sentinel-cogs.s3.us-west-2.amazonaws.com/sentinel-s2-l2a-cogs/23/K/NR/2020/6/S2B_23KNR_20200627_0_L2A/B04.tif | aws s3 cp - s3://dev-et-data/usmart/RIO/sentinel-s2-l2a-cogs/S2B_23KNR_20200627_0_L2A_B04.tif\n"
     ]
    },
    {
     "name": "stderr",
     "output_type": "stream",
     "text": [
      "2021-09-13 16:18:41 URL:https://sentinel-cogs.s3.us-west-2.amazonaws.com/sentinel-s2-l2a-cogs/23/K/NR/2020/7/S2B_23KNR_20200707_0_L2A/B04.tif [124829447/124829447] -> \"-\" [1]\n",
      "2021-09-13 16:18:41 URL:https://sentinel-cogs.s3.us-west-2.amazonaws.com/sentinel-s2-l2a-cogs/23/K/PR/2020/7/S2B_23KPR_20200717_0_L2A/B04.tif [226924156/226924156] -> \"-\" [1]\n",
      "16:18:42: sending https://sentinel-cogs.s3.us-west-2.amazonaws.com/sentinel-s2-l2a-cogs/23/K/NR/2020/7/S2A_23KNR_20200712_0_L2A/B03.tif\n"
     ]
    },
    {
     "name": "stdout",
     "output_type": "stream",
     "text": [
      "\n",
      "\n",
      "wget this: %s https://sentinel-cogs.s3.us-west-2.amazonaws.com/sentinel-s2-l2a-cogs/23/K/NR/2020/7/S2A_23KNR_20200712_0_L2A/B03.tif\n",
      "wget -nv -O- https://sentinel-cogs.s3.us-west-2.amazonaws.com/sentinel-s2-l2a-cogs/23/K/NR/2020/7/S2A_23KNR_20200712_0_L2A/B03.tif | aws s3 cp - s3://dev-et-data/usmart/RIO/sentinel-s2-l2a-cogs/\n",
      "S2A_23KNR_20200712_0_L2A_B03.tif\n",
      "wget -nv -O- https://sentinel-cogs.s3.us-west-2.amazonaws.com/sentinel-s2-l2a-cogs/23/K/NR/2020/7/S2A_23KNR_20200712_0_L2A/B03.tif | aws s3 cp - s3://dev-et-data/usmart/RIO/sentinel-s2-l2a-cogs/S2A_23KNR_20200712_0_L2A_B03.tif\n"
     ]
    },
    {
     "name": "stderr",
     "output_type": "stream",
     "text": [
      "16:18:42: sending https://sentinel-cogs.s3.us-west-2.amazonaws.com/sentinel-s2-l2a-cogs/23/K/PR/2020/7/S2B_23KPR_20200717_0_L2A/B03.tif\n",
      "16:18:42: sending https://sentinel-cogs.s3.us-west-2.amazonaws.com/sentinel-s2-l2a-cogs/23/K/NR/2020/7/S2B_23KNR_20200707_0_L2A/B03.tif\n"
     ]
    },
    {
     "name": "stdout",
     "output_type": "stream",
     "text": [
      "\n",
      "\n",
      "wget this: %s https://sentinel-cogs.s3.us-west-2.amazonaws.com/sentinel-s2-l2a-cogs/23/K/PR/2020/7/S2B_23KPR_20200717_0_L2A/B03.tif\n",
      "wget -nv -O- https://sentinel-cogs.s3.us-west-2.amazonaws.com/sentinel-s2-l2a-cogs/23/K/PR/2020/7/S2B_23KPR_20200717_0_L2A/B03.tif | aws s3 cp - s3://dev-et-data/usmart/RIO/sentinel-s2-l2a-cogs/\n",
      "S2B_23KPR_20200717_0_L2A_B03.tif\n",
      "wget -nv -O- https://sentinel-cogs.s3.us-west-2.amazonaws.com/sentinel-s2-l2a-cogs/23/K/PR/2020/7/S2B_23KPR_20200717_0_L2A/B03.tif | aws s3 cp - s3://dev-et-data/usmart/RIO/sentinel-s2-l2a-cogs/S2B_23KPR_20200717_0_L2A_B03.tif\n",
      "\n",
      "\n",
      "wget this: %s https://sentinel-cogs.s3.us-west-2.amazonaws.com/sentinel-s2-l2a-cogs/23/K/NR/2020/7/S2B_23KNR_20200707_0_L2A/B03.tif\n",
      "wget -nv -O- https://sentinel-cogs.s3.us-west-2.amazonaws.com/sentinel-s2-l2a-cogs/23/K/NR/2020/7/S2B_23KNR_20200707_0_L2A/B03.tif | aws s3 cp - s3://dev-et-data/usmart/RIO/sentinel-s2-l2a-cogs/\n",
      "S2B_23KNR_20200707_0_L2A_B03.tif\n",
      "wget -nv -O- https://sentinel-cogs.s3.us-west-2.amazonaws.com/sentinel-s2-l2a-cogs/23/K/NR/2020/7/S2B_23KNR_20200707_0_L2A/B03.tif | aws s3 cp - s3://dev-et-data/usmart/RIO/sentinel-s2-l2a-cogs/S2B_23KNR_20200707_0_L2A_B03.tif\n"
     ]
    },
    {
     "name": "stderr",
     "output_type": "stream",
     "text": [
      "2021-09-13 16:18:42 URL:https://sentinel-cogs.s3.us-west-2.amazonaws.com/sentinel-s2-l2a-cogs/23/K/PR/2020/8/S2A_23KPR_20200801_0_L2A/B03.tif [213032113/213032113] -> \"-\" [1]\n",
      "16:18:43: sending https://sentinel-cogs.s3.us-west-2.amazonaws.com/sentinel-s2-l2a-cogs/23/K/PR/2020/8/S2A_23KPR_20200801_0_L2A/B02.tif\n"
     ]
    },
    {
     "name": "stdout",
     "output_type": "stream",
     "text": [
      "\n",
      "\n",
      "wget this: %s https://sentinel-cogs.s3.us-west-2.amazonaws.com/sentinel-s2-l2a-cogs/23/K/PR/2020/8/S2A_23KPR_20200801_0_L2A/B02.tif\n",
      "wget -nv -O- https://sentinel-cogs.s3.us-west-2.amazonaws.com/sentinel-s2-l2a-cogs/23/K/PR/2020/8/S2A_23KPR_20200801_0_L2A/B02.tif | aws s3 cp - s3://dev-et-data/usmart/RIO/sentinel-s2-l2a-cogs/\n",
      "S2A_23KPR_20200801_0_L2A_B02.tif\n",
      "wget -nv -O- https://sentinel-cogs.s3.us-west-2.amazonaws.com/sentinel-s2-l2a-cogs/23/K/PR/2020/8/S2A_23KPR_20200801_0_L2A/B02.tif | aws s3 cp - s3://dev-et-data/usmart/RIO/sentinel-s2-l2a-cogs/S2A_23KPR_20200801_0_L2A_B02.tif\n"
     ]
    },
    {
     "name": "stderr",
     "output_type": "stream",
     "text": [
      "2021-09-13 16:18:43 URL:https://sentinel-cogs.s3.us-west-2.amazonaws.com/sentinel-s2-l2a-cogs/23/K/NR/2020/7/S2A_23KNR_20200722_0_L2A/B03.tif [124564653/124564653] -> \"-\" [1]\n",
      "2021-09-13 16:18:43 URL:https://sentinel-cogs.s3.us-west-2.amazonaws.com/sentinel-s2-l2a-cogs/23/K/NR/2020/7/S2B_23KNR_20200717_0_L2A/B03.tif [124823314/124823314] -> \"-\" [1]\n",
      "2021-09-13 16:18:44 URL:https://sentinel-cogs.s3.us-west-2.amazonaws.com/sentinel-s2-l2a-cogs/23/K/PR/2020/7/S2A_23KPR_20200712_0_L2A/B04.tif [219930308/219930308] -> \"-\" [1]\n",
      "16:18:44: sending https://sentinel-cogs.s3.us-west-2.amazonaws.com/sentinel-s2-l2a-cogs/23/K/NR/2020/7/S2A_23KNR_20200722_0_L2A/B02.tif\n",
      "16:18:45: sending https://sentinel-cogs.s3.us-west-2.amazonaws.com/sentinel-s2-l2a-cogs/23/K/NR/2020/7/S2B_23KNR_20200717_0_L2A/B02.tif\n"
     ]
    },
    {
     "name": "stdout",
     "output_type": "stream",
     "text": [
      "\n",
      "\n",
      "wget this: %s https://sentinel-cogs.s3.us-west-2.amazonaws.com/sentinel-s2-l2a-cogs/23/K/NR/2020/7/S2A_23KNR_20200722_0_L2A/B02.tif\n",
      "wget -nv -O- https://sentinel-cogs.s3.us-west-2.amazonaws.com/sentinel-s2-l2a-cogs/23/K/NR/2020/7/S2A_23KNR_20200722_0_L2A/B02.tif | aws s3 cp - s3://dev-et-data/usmart/RIO/sentinel-s2-l2a-cogs/\n",
      "S2A_23KNR_20200722_0_L2A_B02.tif\n",
      "wget -nv -O- https://sentinel-cogs.s3.us-west-2.amazonaws.com/sentinel-s2-l2a-cogs/23/K/NR/2020/7/S2A_23KNR_20200722_0_L2A/B02.tif | aws s3 cp - s3://dev-et-data/usmart/RIO/sentinel-s2-l2a-cogs/S2A_23KNR_20200722_0_L2A_B02.tif\n",
      "\n",
      "\n",
      "wget this: %s https://sentinel-cogs.s3.us-west-2.amazonaws.com/sentinel-s2-l2a-cogs/23/K/NR/2020/7/S2B_23KNR_20200717_0_L2A/B02.tif\n",
      "wget -nv -O- https://sentinel-cogs.s3.us-west-2.amazonaws.com/sentinel-s2-l2a-cogs/23/K/NR/2020/7/S2B_23KNR_20200717_0_L2A/B02.tif | aws s3 cp - s3://dev-et-data/usmart/RIO/sentinel-s2-l2a-cogs/\n",
      "S2B_23KNR_20200717_0_L2A_B02.tif\n",
      "wget -nv -O- https://sentinel-cogs.s3.us-west-2.amazonaws.com/sentinel-s2-l2a-cogs/23/K/NR/2020/7/S2B_23KNR_20200717_0_L2A/B02.tif | aws s3 cp - s3://dev-et-data/usmart/RIO/sentinel-s2-l2a-cogs/S2B_23KNR_20200717_0_L2A_B02.tif\n"
     ]
    },
    {
     "name": "stderr",
     "output_type": "stream",
     "text": [
      "16:18:45: sending https://sentinel-cogs.s3.us-west-2.amazonaws.com/sentinel-s2-l2a-cogs/23/K/PR/2020/7/S2A_23KPR_20200712_0_L2A/B03.tif\n"
     ]
    },
    {
     "name": "stdout",
     "output_type": "stream",
     "text": [
      "\n",
      "\n",
      "wget this: %s https://sentinel-cogs.s3.us-west-2.amazonaws.com/sentinel-s2-l2a-cogs/23/K/PR/2020/7/S2A_23KPR_20200712_0_L2A/B03.tif\n",
      "wget -nv -O- https://sentinel-cogs.s3.us-west-2.amazonaws.com/sentinel-s2-l2a-cogs/23/K/PR/2020/7/S2A_23KPR_20200712_0_L2A/B03.tif | aws s3 cp - s3://dev-et-data/usmart/RIO/sentinel-s2-l2a-cogs/\n",
      "S2A_23KPR_20200712_0_L2A_B03.tif\n",
      "wget -nv -O- https://sentinel-cogs.s3.us-west-2.amazonaws.com/sentinel-s2-l2a-cogs/23/K/PR/2020/7/S2A_23KPR_20200712_0_L2A/B03.tif | aws s3 cp - s3://dev-et-data/usmart/RIO/sentinel-s2-l2a-cogs/S2A_23KPR_20200712_0_L2A_B03.tif\n"
     ]
    },
    {
     "name": "stderr",
     "output_type": "stream",
     "text": [
      "2021-09-13 16:18:47 URL:https://sentinel-cogs.s3.us-west-2.amazonaws.com/sentinel-s2-l2a-cogs/23/K/PR/2020/7/S2B_23KPR_20200727_0_L2A/B03.tif [228446434/228446434] -> \"-\" [1]\n",
      "2021-09-13 16:18:47 URL:https://sentinel-cogs.s3.us-west-2.amazonaws.com/sentinel-s2-l2a-cogs/23/K/NR/2020/7/S2B_23KNR_20200727_0_L2A/B02.tif [123623234/123623234] -> \"-\" [1]\n",
      "2021-09-13 16:18:48 URL:https://sentinel-cogs.s3.us-west-2.amazonaws.com/sentinel-s2-l2a-cogs/23/K/NR/2020/7/S2A_23KNR_20200702_0_L2A/B04.tif [129630181/129630181] -> \"-\" [1]\n",
      "16:18:48: sending https://sentinel-cogs.s3.us-west-2.amazonaws.com/sentinel-s2-l2a-cogs/23/K/PR/2020/7/S2B_23KPR_20200727_0_L2A/B02.tif\n"
     ]
    },
    {
     "name": "stdout",
     "output_type": "stream",
     "text": [
      "\n",
      "\n",
      "wget this: %s https://sentinel-cogs.s3.us-west-2.amazonaws.com/sentinel-s2-l2a-cogs/23/K/PR/2020/7/S2B_23KPR_20200727_0_L2A/B02.tif\n",
      "wget -nv -O- https://sentinel-cogs.s3.us-west-2.amazonaws.com/sentinel-s2-l2a-cogs/23/K/PR/2020/7/S2B_23KPR_20200727_0_L2A/B02.tif | aws s3 cp - s3://dev-et-data/usmart/RIO/sentinel-s2-l2a-cogs/\n",
      "S2B_23KPR_20200727_0_L2A_B02.tif\n",
      "wget -nv -O- https://sentinel-cogs.s3.us-west-2.amazonaws.com/sentinel-s2-l2a-cogs/23/K/PR/2020/7/S2B_23KPR_20200727_0_L2A/B02.tif | aws s3 cp - s3://dev-et-data/usmart/RIO/sentinel-s2-l2a-cogs/S2B_23KPR_20200727_0_L2A_B02.tif\n"
     ]
    },
    {
     "name": "stderr",
     "output_type": "stream",
     "text": [
      "16:18:48: Thread 62: finishing in 25 seconds\n",
      "16:18:48: xfer Thread 75: starting\n",
      "16:18:48: sending https://sentinel-cogs.s3.us-west-2.amazonaws.com/sentinel-s2-l2a-cogs/23/K/PR/2020/6/S2B_23KPR_20200627_0_L2A/B04.tif\n"
     ]
    },
    {
     "name": "stdout",
     "output_type": "stream",
     "text": [
      "\n",
      "\n",
      "wget this: %s https://sentinel-cogs.s3.us-west-2.amazonaws.com/sentinel-s2-l2a-cogs/23/K/PR/2020/6/S2B_23KPR_20200627_0_L2A/B04.tif\n",
      "wget -nv -O- https://sentinel-cogs.s3.us-west-2.amazonaws.com/sentinel-s2-l2a-cogs/23/K/PR/2020/6/S2B_23KPR_20200627_0_L2A/B04.tif | aws s3 cp - s3://dev-et-data/usmart/RIO/sentinel-s2-l2a-cogs/\n",
      "S2B_23KPR_20200627_0_L2A_B04.tif\n",
      "wget -nv -O- https://sentinel-cogs.s3.us-west-2.amazonaws.com/sentinel-s2-l2a-cogs/23/K/PR/2020/6/S2B_23KPR_20200627_0_L2A/B04.tif | aws s3 cp - s3://dev-et-data/usmart/RIO/sentinel-s2-l2a-cogs/S2B_23KPR_20200627_0_L2A_B04.tif\n"
     ]
    },
    {
     "name": "stderr",
     "output_type": "stream",
     "text": [
      "2021-09-13 16:18:48 URL:https://sentinel-cogs.s3.us-west-2.amazonaws.com/sentinel-s2-l2a-cogs/23/K/PR/2020/7/S2A_23KPR_20200722_0_L2A/B03.tif [222232691/222232691] -> \"-\" [1]\n",
      "2021-09-13 16:18:48 URL:https://sentinel-cogs.s3.us-west-2.amazonaws.com/sentinel-s2-l2a-cogs/23/K/NR/2020/6/S2B_23KNR_20200627_0_L2A/B04.tif [119654356/119654356] -> \"-\" [1]\n",
      "16:18:49: sending https://sentinel-cogs.s3.us-west-2.amazonaws.com/sentinel-s2-l2a-cogs/23/K/NR/2020/7/S2A_23KNR_20200702_0_L2A/B03.tif\n"
     ]
    },
    {
     "name": "stdout",
     "output_type": "stream",
     "text": [
      "\n",
      "\n",
      "wget this: %s https://sentinel-cogs.s3.us-west-2.amazonaws.com/sentinel-s2-l2a-cogs/23/K/NR/2020/7/S2A_23KNR_20200702_0_L2A/B03.tif\n",
      "wget -nv -O- https://sentinel-cogs.s3.us-west-2.amazonaws.com/sentinel-s2-l2a-cogs/23/K/NR/2020/7/S2A_23KNR_20200702_0_L2A/B03.tif | aws s3 cp - s3://dev-et-data/usmart/RIO/sentinel-s2-l2a-cogs/\n",
      "S2A_23KNR_20200702_0_L2A_B03.tif\n",
      "wget -nv -O- https://sentinel-cogs.s3.us-west-2.amazonaws.com/sentinel-s2-l2a-cogs/23/K/NR/2020/7/S2A_23KNR_20200702_0_L2A/B03.tif | aws s3 cp - s3://dev-et-data/usmart/RIO/sentinel-s2-l2a-cogs/S2A_23KNR_20200702_0_L2A_B03.tif\n"
     ]
    },
    {
     "name": "stderr",
     "output_type": "stream",
     "text": [
      "2021-09-13 16:18:49 URL:https://sentinel-cogs.s3.us-west-2.amazonaws.com/sentinel-s2-l2a-cogs/23/K/NR/2020/7/S2A_23KNR_20200712_0_L2A/B03.tif [118039722/118039722] -> \"-\" [1]\n",
      "2021-09-13 16:18:49 URL:https://sentinel-cogs.s3.us-west-2.amazonaws.com/sentinel-s2-l2a-cogs/23/K/PR/2020/7/S2B_23KPR_20200707_0_L2A/B04.tif [223540777/223540777] -> \"-\" [1]\n",
      "16:18:49: sending https://sentinel-cogs.s3.us-west-2.amazonaws.com/sentinel-s2-l2a-cogs/23/K/PR/2020/7/S2A_23KPR_20200722_0_L2A/B02.tif\n",
      "16:18:49: sending https://sentinel-cogs.s3.us-west-2.amazonaws.com/sentinel-s2-l2a-cogs/23/K/NR/2020/6/S2B_23KNR_20200627_0_L2A/B03.tif\n"
     ]
    },
    {
     "name": "stdout",
     "output_type": "stream",
     "text": [
      "\n",
      "\n",
      "wget this: %s https://sentinel-cogs.s3.us-west-2.amazonaws.com/sentinel-s2-l2a-cogs/23/K/PR/2020/7/S2A_23KPR_20200722_0_L2A/B02.tif\n",
      "wget -nv -O- https://sentinel-cogs.s3.us-west-2.amazonaws.com/sentinel-s2-l2a-cogs/23/K/PR/2020/7/S2A_23KPR_20200722_0_L2A/B02.tif | aws s3 cp - s3://dev-et-data/usmart/RIO/sentinel-s2-l2a-cogs/\n",
      "S2A_23KPR_20200722_0_L2A_B02.tif\n",
      "wget -nv -O- https://sentinel-cogs.s3.us-west-2.amazonaws.com/sentinel-s2-l2a-cogs/23/K/PR/2020/7/S2A_23KPR_20200722_0_L2A/B02.tif | aws s3 cp - s3://dev-et-data/usmart/RIO/sentinel-s2-l2a-cogs/S2A_23KPR_20200722_0_L2A_B02.tif\n",
      "\n",
      "\n",
      "wget this: %s https://sentinel-cogs.s3.us-west-2.amazonaws.com/sentinel-s2-l2a-cogs/23/K/NR/2020/6/S2B_23KNR_20200627_0_L2A/B03.tif\n",
      "wget -nv -O- https://sentinel-cogs.s3.us-west-2.amazonaws.com/sentinel-s2-l2a-cogs/23/K/NR/2020/6/S2B_23KNR_20200627_0_L2A/B03.tif | aws s3 cp - s3://dev-et-data/usmart/RIO/sentinel-s2-l2a-cogs/\n",
      "S2B_23KNR_20200627_0_L2A_B03.tif\n",
      "wget -nv -O- https://sentinel-cogs.s3.us-west-2.amazonaws.com/sentinel-s2-l2a-cogs/23/K/NR/2020/6/S2B_23KNR_20200627_0_L2A/B03.tif | aws s3 cp - s3://dev-et-data/usmart/RIO/sentinel-s2-l2a-cogs/S2B_23KNR_20200627_0_L2A_B03.tif\n"
     ]
    },
    {
     "name": "stderr",
     "output_type": "stream",
     "text": [
      "16:18:50: sending https://sentinel-cogs.s3.us-west-2.amazonaws.com/sentinel-s2-l2a-cogs/23/K/PR/2020/7/S2B_23KPR_20200707_0_L2A/B03.tif\n"
     ]
    },
    {
     "name": "stdout",
     "output_type": "stream",
     "text": [
      "\n",
      "\n",
      "wget this: %s https://sentinel-cogs.s3.us-west-2.amazonaws.com/sentinel-s2-l2a-cogs/23/K/PR/2020/7/S2B_23KPR_20200707_0_L2A/B03.tif\n",
      "wget -nv -O- https://sentinel-cogs.s3.us-west-2.amazonaws.com/sentinel-s2-l2a-cogs/23/K/PR/2020/7/S2B_23KPR_20200707_0_L2A/B03.tif | aws s3 cp - s3://dev-et-data/usmart/RIO/sentinel-s2-l2a-cogs/\n",
      "S2B_23KPR_20200707_0_L2A_B03.tif\n",
      "wget -nv -O- https://sentinel-cogs.s3.us-west-2.amazonaws.com/sentinel-s2-l2a-cogs/23/K/PR/2020/7/S2B_23KPR_20200707_0_L2A/B03.tif | aws s3 cp - s3://dev-et-data/usmart/RIO/sentinel-s2-l2a-cogs/S2B_23KPR_20200707_0_L2A_B03.tif\n"
     ]
    },
    {
     "name": "stderr",
     "output_type": "stream",
     "text": [
      "2021-09-13 16:18:51 URL:https://sentinel-cogs.s3.us-west-2.amazonaws.com/sentinel-s2-l2a-cogs/23/K/NR/2020/7/S2B_23KNR_20200707_0_L2A/B03.tif [122526613/122526613] -> \"-\" [1]\n",
      "2021-09-13 16:18:51 URL:https://sentinel-cogs.s3.us-west-2.amazonaws.com/sentinel-s2-l2a-cogs/23/K/NR/2020/7/S2A_23KNR_20200722_0_L2A/B02.tif [118031161/118031161] -> \"-\" [1]\n",
      "2021-09-13 16:18:52 URL:https://sentinel-cogs.s3.us-west-2.amazonaws.com/sentinel-s2-l2a-cogs/23/K/PR/2020/7/S2A_23KPR_20200702_0_L2A/B04.tif [230852562/230852562] -> \"-\" [1]\n",
      "16:18:52: sending https://sentinel-cogs.s3.us-west-2.amazonaws.com/sentinel-s2-l2a-cogs/23/K/NR/2020/7/S2B_23KNR_20200707_0_L2A/B02.tif\n",
      "2021-09-13 16:18:52 URL:https://sentinel-cogs.s3.us-west-2.amazonaws.com/sentinel-s2-l2a-cogs/23/K/NR/2020/7/S2B_23KNR_20200717_0_L2A/B02.tif [121420705/121420705] -> \"-\" [1]\n",
      "16:18:52: Thread 64: finishing in 25 seconds\n",
      "16:18:52: xfer Thread 76: starting\n",
      "16:18:52: sending https://sentinel-cogs.s3.us-west-2.amazonaws.com/sentinel-s2-l2a-cogs/23/K/NR/2020/6/S2A_23KNR_20200622_0_L2A/B04.tif\n"
     ]
    },
    {
     "name": "stdout",
     "output_type": "stream",
     "text": [
      "\n",
      "\n",
      "wget this: %s https://sentinel-cogs.s3.us-west-2.amazonaws.com/sentinel-s2-l2a-cogs/23/K/NR/2020/7/S2B_23KNR_20200707_0_L2A/B02.tif\n",
      "wget -nv -O- https://sentinel-cogs.s3.us-west-2.amazonaws.com/sentinel-s2-l2a-cogs/23/K/NR/2020/7/S2B_23KNR_20200707_0_L2A/B02.tif | aws s3 cp - s3://dev-et-data/usmart/RIO/sentinel-s2-l2a-cogs/\n",
      "S2B_23KNR_20200707_0_L2A_B02.tif\n",
      "wget -nv -O- https://sentinel-cogs.s3.us-west-2.amazonaws.com/sentinel-s2-l2a-cogs/23/K/NR/2020/7/S2B_23KNR_20200707_0_L2A/B02.tif | aws s3 cp - s3://dev-et-data/usmart/RIO/sentinel-s2-l2a-cogs/S2B_23KNR_20200707_0_L2A_B02.tif\n",
      "\n",
      "\n",
      "wget this: %s https://sentinel-cogs.s3.us-west-2.amazonaws.com/sentinel-s2-l2a-cogs/23/K/NR/2020/6/S2A_23KNR_20200622_0_L2A/B04.tif\n",
      "wget -nv -O- https://sentinel-cogs.s3.us-west-2.amazonaws.com/sentinel-s2-l2a-cogs/23/K/NR/2020/6/S2A_23KNR_20200622_0_L2A/B04.tif | aws s3 cp - s3://dev-et-data/usmart/RIO/sentinel-s2-l2a-cogs/\n",
      "S2A_23KNR_20200622_0_L2A_B04.tif\n",
      "wget -nv -O- https://sentinel-cogs.s3.us-west-2.amazonaws.com/sentinel-s2-l2a-cogs/23/K/NR/2020/6/S2A_23KNR_20200622_0_L2A/B04.tif | aws s3 cp - s3://dev-et-data/usmart/RIO/sentinel-s2-l2a-cogs/S2A_23KNR_20200622_0_L2A_B04.tif\n"
     ]
    },
    {
     "name": "stderr",
     "output_type": "stream",
     "text": [
      "16:18:52: sending https://sentinel-cogs.s3.us-west-2.amazonaws.com/sentinel-s2-l2a-cogs/23/K/PR/2020/7/S2A_23KPR_20200702_0_L2A/B03.tif\n"
     ]
    },
    {
     "name": "stdout",
     "output_type": "stream",
     "text": [
      "\n",
      "\n",
      "wget this: %s https://sentinel-cogs.s3.us-west-2.amazonaws.com/sentinel-s2-l2a-cogs/23/K/PR/2020/7/S2A_23KPR_20200702_0_L2A/B03.tif\n",
      "wget -nv -O- https://sentinel-cogs.s3.us-west-2.amazonaws.com/sentinel-s2-l2a-cogs/23/K/PR/2020/7/S2A_23KPR_20200702_0_L2A/B03.tif | aws s3 cp - s3://dev-et-data/usmart/RIO/sentinel-s2-l2a-cogs/\n",
      "S2A_23KPR_20200702_0_L2A_B03.tif\n",
      "wget -nv -O- https://sentinel-cogs.s3.us-west-2.amazonaws.com/sentinel-s2-l2a-cogs/23/K/PR/2020/7/S2A_23KPR_20200702_0_L2A/B03.tif | aws s3 cp - s3://dev-et-data/usmart/RIO/sentinel-s2-l2a-cogs/S2A_23KPR_20200702_0_L2A_B03.tif\n"
     ]
    },
    {
     "name": "stderr",
     "output_type": "stream",
     "text": [
      "16:18:53: sending https://sentinel-cogs.s3.us-west-2.amazonaws.com/sentinel-s2-l2a-cogs/23/K/NR/2020/7/S2A_23KNR_20200712_0_L2A/B02.tif\n",
      "2021-09-13 16:18:53 URL:https://sentinel-cogs.s3.us-west-2.amazonaws.com/sentinel-s2-l2a-cogs/23/K/PR/2020/8/S2B_23KPR_20200806_0_L2A/B02.tif [218038011/218038011] -> \"-\" [1]\n",
      "16:18:53: Thread 66: finishing in 24 seconds\n",
      "16:18:53: xfer Thread 77: starting\n",
      "16:18:53: sending https://sentinel-cogs.s3.us-west-2.amazonaws.com/sentinel-s2-l2a-cogs/23/K/PR/2020/6/S2A_23KPR_20200622_0_L2A/B04.tif\n"
     ]
    },
    {
     "name": "stdout",
     "output_type": "stream",
     "text": [
      "\n",
      "\n",
      "wget this: %s https://sentinel-cogs.s3.us-west-2.amazonaws.com/sentinel-s2-l2a-cogs/23/K/NR/2020/7/S2A_23KNR_20200712_0_L2A/B02.tif\n",
      "wget -nv -O- https://sentinel-cogs.s3.us-west-2.amazonaws.com/sentinel-s2-l2a-cogs/23/K/NR/2020/7/S2A_23KNR_20200712_0_L2A/B02.tif | aws s3 cp - s3://dev-et-data/usmart/RIO/sentinel-s2-l2a-cogs/\n",
      "S2A_23KNR_20200712_0_L2A_B02.tif\n",
      "wget -nv -O- https://sentinel-cogs.s3.us-west-2.amazonaws.com/sentinel-s2-l2a-cogs/23/K/NR/2020/7/S2A_23KNR_20200712_0_L2A/B02.tif | aws s3 cp - s3://dev-et-data/usmart/RIO/sentinel-s2-l2a-cogs/S2A_23KNR_20200712_0_L2A_B02.tif\n",
      "\n",
      "\n",
      "wget this: %s https://sentinel-cogs.s3.us-west-2.amazonaws.com/sentinel-s2-l2a-cogs/23/K/PR/2020/6/S2A_23KPR_20200622_0_L2A/B04.tif\n",
      "wget -nv -O- https://sentinel-cogs.s3.us-west-2.amazonaws.com/sentinel-s2-l2a-cogs/23/K/PR/2020/6/S2A_23KPR_20200622_0_L2A/B04.tif | aws s3 cp - s3://dev-et-data/usmart/RIO/sentinel-s2-l2a-cogs/\n",
      "S2A_23KPR_20200622_0_L2A_B04.tif\n",
      "wget -nv -O- https://sentinel-cogs.s3.us-west-2.amazonaws.com/sentinel-s2-l2a-cogs/23/K/PR/2020/6/S2A_23KPR_20200622_0_L2A/B04.tif | aws s3 cp - s3://dev-et-data/usmart/RIO/sentinel-s2-l2a-cogs/S2A_23KPR_20200622_0_L2A_B04.tif\n"
     ]
    },
    {
     "name": "stderr",
     "output_type": "stream",
     "text": [
      "2021-09-13 16:18:53 URL:https://sentinel-cogs.s3.us-west-2.amazonaws.com/sentinel-s2-l2a-cogs/23/K/PR/2020/7/S2B_23KPR_20200717_0_L2A/B03.tif [225411543/225411543] -> \"-\" [1]\n",
      "2021-09-13 16:18:54 URL:https://sentinel-cogs.s3.us-west-2.amazonaws.com/sentinel-s2-l2a-cogs/23/K/PR/2020/8/S2A_23KPR_20200801_0_L2A/B02.tif [213363210/213363210] -> \"-\" [1]\n",
      "16:18:54: Thread 59: finishing in 36 seconds\n",
      "16:18:54: xfer Thread 78: starting\n",
      "16:18:54: sending https://sentinel-cogs.s3.us-west-2.amazonaws.com/sentinel-s2-l2a-cogs/23/K/NR/2020/6/S2B_23KNR_20200617_0_L2A/B04.tif\n"
     ]
    },
    {
     "name": "stdout",
     "output_type": "stream",
     "text": [
      "\n",
      "\n",
      "wget this: %s https://sentinel-cogs.s3.us-west-2.amazonaws.com/sentinel-s2-l2a-cogs/23/K/NR/2020/6/S2B_23KNR_20200617_0_L2A/B04.tif\n",
      "wget -nv -O- https://sentinel-cogs.s3.us-west-2.amazonaws.com/sentinel-s2-l2a-cogs/23/K/NR/2020/6/S2B_23KNR_20200617_0_L2A/B04.tif | aws s3 cp - s3://dev-et-data/usmart/RIO/sentinel-s2-l2a-cogs/\n",
      "S2B_23KNR_20200617_0_L2A_B04.tif\n",
      "wget -nv -O- https://sentinel-cogs.s3.us-west-2.amazonaws.com/sentinel-s2-l2a-cogs/23/K/NR/2020/6/S2B_23KNR_20200617_0_L2A/B04.tif | aws s3 cp - s3://dev-et-data/usmart/RIO/sentinel-s2-l2a-cogs/S2B_23KNR_20200617_0_L2A_B04.tif\n"
     ]
    },
    {
     "name": "stderr",
     "output_type": "stream",
     "text": [
      "16:18:54: Thread 61: finishing in 33 seconds\n",
      "16:18:54: xfer Thread 79: starting\n",
      "16:18:54: sending https://sentinel-cogs.s3.us-west-2.amazonaws.com/sentinel-s2-l2a-cogs/23/K/PR/2020/6/S2B_23KPR_20200617_0_L2A/B04.tif\n",
      "16:18:54: sending https://sentinel-cogs.s3.us-west-2.amazonaws.com/sentinel-s2-l2a-cogs/23/K/PR/2020/7/S2B_23KPR_20200717_0_L2A/B02.tif\n"
     ]
    },
    {
     "name": "stdout",
     "output_type": "stream",
     "text": [
      "\n",
      "\n",
      "wget this: %s https://sentinel-cogs.s3.us-west-2.amazonaws.com/sentinel-s2-l2a-cogs/23/K/PR/2020/6/S2B_23KPR_20200617_0_L2A/B04.tif\n",
      "wget -nv -O- https://sentinel-cogs.s3.us-west-2.amazonaws.com/sentinel-s2-l2a-cogs/23/K/PR/2020/6/S2B_23KPR_20200617_0_L2A/B04.tif | aws s3 cp - s3://dev-et-data/usmart/RIO/sentinel-s2-l2a-cogs/\n",
      "S2B_23KPR_20200617_0_L2A_B04.tif\n",
      "wget -nv -O- https://sentinel-cogs.s3.us-west-2.amazonaws.com/sentinel-s2-l2a-cogs/23/K/PR/2020/6/S2B_23KPR_20200617_0_L2A/B04.tif | aws s3 cp - s3://dev-et-data/usmart/RIO/sentinel-s2-l2a-cogs/S2B_23KPR_20200617_0_L2A_B04.tif\n",
      "\n",
      "\n",
      "wget this: %s https://sentinel-cogs.s3.us-west-2.amazonaws.com/sentinel-s2-l2a-cogs/23/K/PR/2020/7/S2B_23KPR_20200717_0_L2A/B02.tif\n",
      "wget -nv -O- https://sentinel-cogs.s3.us-west-2.amazonaws.com/sentinel-s2-l2a-cogs/23/K/PR/2020/7/S2B_23KPR_20200717_0_L2A/B02.tif | aws s3 cp - s3://dev-et-data/usmart/RIO/sentinel-s2-l2a-cogs/\n",
      "S2B_23KPR_20200717_0_L2A_B02.tif\n",
      "wget -nv -O- https://sentinel-cogs.s3.us-west-2.amazonaws.com/sentinel-s2-l2a-cogs/23/K/PR/2020/7/S2B_23KPR_20200717_0_L2A/B02.tif | aws s3 cp - s3://dev-et-data/usmart/RIO/sentinel-s2-l2a-cogs/S2B_23KPR_20200717_0_L2A_B02.tif\n"
     ]
    },
    {
     "name": "stderr",
     "output_type": "stream",
     "text": [
      "2021-09-13 16:18:55 URL:https://sentinel-cogs.s3.us-west-2.amazonaws.com/sentinel-s2-l2a-cogs/23/K/NR/2020/7/S2A_23KNR_20200702_0_L2A/B03.tif [128368492/128368492] -> \"-\" [1]\n",
      "16:18:56: sending https://sentinel-cogs.s3.us-west-2.amazonaws.com/sentinel-s2-l2a-cogs/23/K/NR/2020/7/S2A_23KNR_20200702_0_L2A/B02.tif\n"
     ]
    },
    {
     "name": "stdout",
     "output_type": "stream",
     "text": [
      "\n",
      "\n",
      "wget this: %s https://sentinel-cogs.s3.us-west-2.amazonaws.com/sentinel-s2-l2a-cogs/23/K/NR/2020/7/S2A_23KNR_20200702_0_L2A/B02.tif\n",
      "wget -nv -O- https://sentinel-cogs.s3.us-west-2.amazonaws.com/sentinel-s2-l2a-cogs/23/K/NR/2020/7/S2A_23KNR_20200702_0_L2A/B02.tif | aws s3 cp - s3://dev-et-data/usmart/RIO/sentinel-s2-l2a-cogs/\n",
      "S2A_23KNR_20200702_0_L2A_B02.tif\n",
      "wget -nv -O- https://sentinel-cogs.s3.us-west-2.amazonaws.com/sentinel-s2-l2a-cogs/23/K/NR/2020/7/S2A_23KNR_20200702_0_L2A/B02.tif | aws s3 cp - s3://dev-et-data/usmart/RIO/sentinel-s2-l2a-cogs/S2A_23KNR_20200702_0_L2A_B02.tif\n"
     ]
    },
    {
     "name": "stderr",
     "output_type": "stream",
     "text": [
      "2021-09-13 16:18:56 URL:https://sentinel-cogs.s3.us-west-2.amazonaws.com/sentinel-s2-l2a-cogs/23/K/NR/2020/6/S2B_23KNR_20200627_0_L2A/B03.tif [118974218/118974218] -> \"-\" [1]\n",
      "2021-09-13 16:18:56 URL:https://sentinel-cogs.s3.us-west-2.amazonaws.com/sentinel-s2-l2a-cogs/23/K/PR/2020/7/S2A_23KPR_20200712_0_L2A/B03.tif [216153015/216153015] -> \"-\" [1]\n",
      "16:18:57: sending https://sentinel-cogs.s3.us-west-2.amazonaws.com/sentinel-s2-l2a-cogs/23/K/NR/2020/6/S2B_23KNR_20200627_0_L2A/B02.tif\n",
      "16:18:57: sending https://sentinel-cogs.s3.us-west-2.amazonaws.com/sentinel-s2-l2a-cogs/23/K/PR/2020/7/S2A_23KPR_20200712_0_L2A/B02.tif\n"
     ]
    },
    {
     "name": "stdout",
     "output_type": "stream",
     "text": [
      "\n",
      "\n",
      "wget this: %s https://sentinel-cogs.s3.us-west-2.amazonaws.com/sentinel-s2-l2a-cogs/23/K/NR/2020/6/S2B_23KNR_20200627_0_L2A/B02.tif\n",
      "wget -nv -O- https://sentinel-cogs.s3.us-west-2.amazonaws.com/sentinel-s2-l2a-cogs/23/K/NR/2020/6/S2B_23KNR_20200627_0_L2A/B02.tif | aws s3 cp - s3://dev-et-data/usmart/RIO/sentinel-s2-l2a-cogs/\n",
      "S2B_23KNR_20200627_0_L2A_B02.tif\n",
      "wget -nv -O- https://sentinel-cogs.s3.us-west-2.amazonaws.com/sentinel-s2-l2a-cogs/23/K/NR/2020/6/S2B_23KNR_20200627_0_L2A/B02.tif | aws s3 cp - s3://dev-et-data/usmart/RIO/sentinel-s2-l2a-cogs/S2B_23KNR_20200627_0_L2A_B02.tif\n",
      "\n",
      "\n",
      "wget this: %s https://sentinel-cogs.s3.us-west-2.amazonaws.com/sentinel-s2-l2a-cogs/23/K/PR/2020/7/S2A_23KPR_20200712_0_L2A/B02.tif\n",
      "wget -nv -O- https://sentinel-cogs.s3.us-west-2.amazonaws.com/sentinel-s2-l2a-cogs/23/K/PR/2020/7/S2A_23KPR_20200712_0_L2A/B02.tif | aws s3 cp - s3://dev-et-data/usmart/RIO/sentinel-s2-l2a-cogs/\n",
      "S2A_23KPR_20200712_0_L2A_B02.tif\n",
      "wget -nv -O- https://sentinel-cogs.s3.us-west-2.amazonaws.com/sentinel-s2-l2a-cogs/23/K/PR/2020/7/S2A_23KPR_20200712_0_L2A/B02.tif | aws s3 cp - s3://dev-et-data/usmart/RIO/sentinel-s2-l2a-cogs/S2A_23KPR_20200712_0_L2A_B02.tif\n"
     ]
    },
    {
     "name": "stderr",
     "output_type": "stream",
     "text": [
      "2021-09-13 16:18:59 URL:https://sentinel-cogs.s3.us-west-2.amazonaws.com/sentinel-s2-l2a-cogs/23/K/PR/2020/6/S2B_23KPR_20200627_0_L2A/B04.tif [222605127/222605127] -> \"-\" [1]\n",
      "2021-09-13 16:18:59 URL:https://sentinel-cogs.s3.us-west-2.amazonaws.com/sentinel-s2-l2a-cogs/23/K/NR/2020/7/S2B_23KNR_20200707_0_L2A/B02.tif [115723791/115723791] -> \"-\" [1]\n",
      "2021-09-13 16:18:59 URL:https://sentinel-cogs.s3.us-west-2.amazonaws.com/sentinel-s2-l2a-cogs/23/K/PR/2020/7/S2B_23KPR_20200707_0_L2A/B03.tif [220243513/220243513] -> \"-\" [1]\n",
      "2021-09-13 16:18:59 URL:https://sentinel-cogs.s3.us-west-2.amazonaws.com/sentinel-s2-l2a-cogs/23/K/PR/2020/7/S2B_23KPR_20200727_0_L2A/B02.tif [224757719/224757719] -> \"-\" [1]\n",
      "2021-09-13 16:18:59 URL:https://sentinel-cogs.s3.us-west-2.amazonaws.com/sentinel-s2-l2a-cogs/23/K/NR/2020/6/S2A_23KNR_20200622_0_L2A/B04.tif [126787448/126787448] -> \"-\" [1]\n",
      "16:18:59: sending https://sentinel-cogs.s3.us-west-2.amazonaws.com/sentinel-s2-l2a-cogs/23/K/PR/2020/6/S2B_23KPR_20200627_0_L2A/B03.tif\n"
     ]
    },
    {
     "name": "stdout",
     "output_type": "stream",
     "text": [
      "\n",
      "\n",
      "wget this: %s https://sentinel-cogs.s3.us-west-2.amazonaws.com/sentinel-s2-l2a-cogs/23/K/PR/2020/6/S2B_23KPR_20200627_0_L2A/B03.tif\n",
      "wget -nv -O- https://sentinel-cogs.s3.us-west-2.amazonaws.com/sentinel-s2-l2a-cogs/23/K/PR/2020/6/S2B_23KPR_20200627_0_L2A/B03.tif | aws s3 cp - s3://dev-et-data/usmart/RIO/sentinel-s2-l2a-cogs/\n",
      "S2B_23KPR_20200627_0_L2A_B03.tif\n",
      "wget -nv -O- https://sentinel-cogs.s3.us-west-2.amazonaws.com/sentinel-s2-l2a-cogs/23/K/PR/2020/6/S2B_23KPR_20200627_0_L2A/B03.tif | aws s3 cp - s3://dev-et-data/usmart/RIO/sentinel-s2-l2a-cogs/S2B_23KPR_20200627_0_L2A_B03.tif\n"
     ]
    },
    {
     "name": "stderr",
     "output_type": "stream",
     "text": [
      "2021-09-13 16:18:59 URL:https://sentinel-cogs.s3.us-west-2.amazonaws.com/sentinel-s2-l2a-cogs/23/K/PR/2020/7/S2A_23KPR_20200722_0_L2A/B02.tif [210430410/210430410] -> \"-\" [1]\n",
      "16:19:00: Thread 70: finishing in 24 seconds\n",
      "16:19:00: xfer Thread 80: starting\n",
      "16:19:00: sending https://sentinel-cogs.s3.us-west-2.amazonaws.com/sentinel-s2-l2a-cogs/23/K/NR/2020/6/S2A_23KNR_20200612_0_L2A/B04.tif\n",
      "16:19:00: sending https://sentinel-cogs.s3.us-west-2.amazonaws.com/sentinel-s2-l2a-cogs/23/K/PR/2020/7/S2B_23KPR_20200707_0_L2A/B02.tif\n"
     ]
    },
    {
     "name": "stdout",
     "output_type": "stream",
     "text": [
      "\n",
      "\n",
      "wget this: %s https://sentinel-cogs.s3.us-west-2.amazonaws.com/sentinel-s2-l2a-cogs/23/K/NR/2020/6/S2A_23KNR_20200612_0_L2A/B04.tif\n",
      "wget -nv -O- https://sentinel-cogs.s3.us-west-2.amazonaws.com/sentinel-s2-l2a-cogs/23/K/NR/2020/6/S2A_23KNR_20200612_0_L2A/B04.tif | aws s3 cp - s3://dev-et-data/usmart/RIO/sentinel-s2-l2a-cogs/\n",
      "S2A_23KNR_20200612_0_L2A_B04.tif\n",
      "wget -nv -O- https://sentinel-cogs.s3.us-west-2.amazonaws.com/sentinel-s2-l2a-cogs/23/K/NR/2020/6/S2A_23KNR_20200612_0_L2A/B04.tif | aws s3 cp - s3://dev-et-data/usmart/RIO/sentinel-s2-l2a-cogs/S2A_23KNR_20200612_0_L2A_B04.tif\n",
      "\n",
      "\n",
      "wget this: %s https://sentinel-cogs.s3.us-west-2.amazonaws.com/sentinel-s2-l2a-cogs/23/K/PR/2020/7/S2B_23KPR_20200707_0_L2A/B02.tif\n",
      "wget -nv -O- https://sentinel-cogs.s3.us-west-2.amazonaws.com/sentinel-s2-l2a-cogs/23/K/PR/2020/7/S2B_23KPR_20200707_0_L2A/B02.tif | aws s3 cp - s3://dev-et-data/usmart/RIO/sentinel-s2-l2a-cogs/\n",
      "S2B_23KPR_20200707_0_L2A_B02.tif\n",
      "wget -nv -O- https://sentinel-cogs.s3.us-west-2.amazonaws.com/sentinel-s2-l2a-cogs/23/K/PR/2020/7/S2B_23KPR_20200707_0_L2A/B02.tif | aws s3 cp - s3://dev-et-data/usmart/RIO/sentinel-s2-l2a-cogs/S2B_23KPR_20200707_0_L2A_B02.tif\n"
     ]
    },
    {
     "name": "stderr",
     "output_type": "stream",
     "text": [
      "16:19:00: Thread 65: finishing in 32 seconds\n",
      "16:19:00: xfer Thread 81: starting\n",
      "16:19:00: sending https://sentinel-cogs.s3.us-west-2.amazonaws.com/sentinel-s2-l2a-cogs/23/K/PR/2020/6/S2A_23KPR_20200612_0_L2A/B04.tif\n"
     ]
    },
    {
     "name": "stdout",
     "output_type": "stream",
     "text": [
      "\n",
      "\n",
      "wget this: %s https://sentinel-cogs.s3.us-west-2.amazonaws.com/sentinel-s2-l2a-cogs/23/K/PR/2020/6/S2A_23KPR_20200612_0_L2A/B04.tif\n",
      "wget -nv -O- https://sentinel-cogs.s3.us-west-2.amazonaws.com/sentinel-s2-l2a-cogs/23/K/PR/2020/6/S2A_23KPR_20200612_0_L2A/B04.tif | aws s3 cp - s3://dev-et-data/usmart/RIO/sentinel-s2-l2a-cogs/\n",
      "S2A_23KPR_20200612_0_L2A_B04.tif\n",
      "wget -nv -O- https://sentinel-cogs.s3.us-west-2.amazonaws.com/sentinel-s2-l2a-cogs/23/K/PR/2020/6/S2A_23KPR_20200612_0_L2A/B04.tif | aws s3 cp - s3://dev-et-data/usmart/RIO/sentinel-s2-l2a-cogs/S2A_23KPR_20200612_0_L2A_B04.tif\n"
     ]
    },
    {
     "name": "stderr",
     "output_type": "stream",
     "text": [
      "16:19:01: Thread 63: finishing in 36 seconds\n",
      "16:19:01: xfer Thread 82: starting\n",
      "16:19:01: sending https://sentinel-cogs.s3.us-west-2.amazonaws.com/sentinel-s2-l2a-cogs/23/K/NR/2020/6/S2B_23KNR_20200607_0_L2A/B04.tif\n",
      "16:19:01: sending https://sentinel-cogs.s3.us-west-2.amazonaws.com/sentinel-s2-l2a-cogs/23/K/NR/2020/6/S2A_23KNR_20200622_0_L2A/B03.tif\n"
     ]
    },
    {
     "name": "stdout",
     "output_type": "stream",
     "text": [
      "\n",
      "\n",
      "wget this: %s https://sentinel-cogs.s3.us-west-2.amazonaws.com/sentinel-s2-l2a-cogs/23/K/NR/2020/6/S2B_23KNR_20200607_0_L2A/B04.tif\n",
      "wget -nv -O- https://sentinel-cogs.s3.us-west-2.amazonaws.com/sentinel-s2-l2a-cogs/23/K/NR/2020/6/S2B_23KNR_20200607_0_L2A/B04.tif | aws s3 cp - s3://dev-et-data/usmart/RIO/sentinel-s2-l2a-cogs/\n",
      "S2B_23KNR_20200607_0_L2A_B04.tif\n",
      "wget -nv -O- https://sentinel-cogs.s3.us-west-2.amazonaws.com/sentinel-s2-l2a-cogs/23/K/NR/2020/6/S2B_23KNR_20200607_0_L2A/B04.tif | aws s3 cp - s3://dev-et-data/usmart/RIO/sentinel-s2-l2a-cogs/S2B_23KNR_20200607_0_L2A_B04.tif\n",
      "\n",
      "\n",
      "wget this: %s https://sentinel-cogs.s3.us-west-2.amazonaws.com/sentinel-s2-l2a-cogs/23/K/NR/2020/6/S2A_23KNR_20200622_0_L2A/B03.tif\n",
      "wget -nv -O- https://sentinel-cogs.s3.us-west-2.amazonaws.com/sentinel-s2-l2a-cogs/23/K/NR/2020/6/S2A_23KNR_20200622_0_L2A/B03.tif | aws s3 cp - s3://dev-et-data/usmart/RIO/sentinel-s2-l2a-cogs/\n",
      "S2A_23KNR_20200622_0_L2A_B03.tif\n",
      "wget -nv -O- https://sentinel-cogs.s3.us-west-2.amazonaws.com/sentinel-s2-l2a-cogs/23/K/NR/2020/6/S2A_23KNR_20200622_0_L2A/B03.tif | aws s3 cp - s3://dev-et-data/usmart/RIO/sentinel-s2-l2a-cogs/S2A_23KNR_20200622_0_L2A_B03.tif\n"
     ]
    },
    {
     "name": "stderr",
     "output_type": "stream",
     "text": [
      "2021-09-13 16:19:01 URL:https://sentinel-cogs.s3.us-west-2.amazonaws.com/sentinel-s2-l2a-cogs/23/K/NR/2020/7/S2A_23KNR_20200712_0_L2A/B02.tif [113631269/113631269] -> \"-\" [1]\n",
      "2021-09-13 16:19:01 URL:https://sentinel-cogs.s3.us-west-2.amazonaws.com/sentinel-s2-l2a-cogs/23/K/NR/2020/6/S2B_23KNR_20200617_0_L2A/B04.tif [118794957/118794957] -> \"-\" [1]\n",
      "16:19:01: Thread 68: finishing in 28 seconds\n",
      "16:19:01: xfer Thread 83: starting\n",
      "16:19:01: sending https://sentinel-cogs.s3.us-west-2.amazonaws.com/sentinel-s2-l2a-cogs/23/K/PR/2020/6/S2B_23KPR_20200607_0_L2A/B04.tif\n"
     ]
    },
    {
     "name": "stdout",
     "output_type": "stream",
     "text": [
      "\n",
      "\n",
      "wget this: %s https://sentinel-cogs.s3.us-west-2.amazonaws.com/sentinel-s2-l2a-cogs/23/K/PR/2020/6/S2B_23KPR_20200607_0_L2A/B04.tif\n",
      "wget -nv -O- https://sentinel-cogs.s3.us-west-2.amazonaws.com/sentinel-s2-l2a-cogs/23/K/PR/2020/6/S2B_23KPR_20200607_0_L2A/B04.tif | aws s3 cp - s3://dev-et-data/usmart/RIO/sentinel-s2-l2a-cogs/\n",
      "S2B_23KPR_20200607_0_L2A_B04.tif\n",
      "wget -nv -O- https://sentinel-cogs.s3.us-west-2.amazonaws.com/sentinel-s2-l2a-cogs/23/K/PR/2020/6/S2B_23KPR_20200607_0_L2A/B04.tif | aws s3 cp - s3://dev-et-data/usmart/RIO/sentinel-s2-l2a-cogs/S2B_23KPR_20200607_0_L2A_B04.tif\n"
     ]
    },
    {
     "name": "stderr",
     "output_type": "stream",
     "text": [
      "16:19:02: sending https://sentinel-cogs.s3.us-west-2.amazonaws.com/sentinel-s2-l2a-cogs/23/K/NR/2020/6/S2B_23KNR_20200617_0_L2A/B03.tif\n"
     ]
    },
    {
     "name": "stdout",
     "output_type": "stream",
     "text": [
      "\n",
      "\n",
      "wget this: %s https://sentinel-cogs.s3.us-west-2.amazonaws.com/sentinel-s2-l2a-cogs/23/K/NR/2020/6/S2B_23KNR_20200617_0_L2A/B03.tif\n",
      "wget -nv -O- https://sentinel-cogs.s3.us-west-2.amazonaws.com/sentinel-s2-l2a-cogs/23/K/NR/2020/6/S2B_23KNR_20200617_0_L2A/B03.tif | aws s3 cp - s3://dev-et-data/usmart/RIO/sentinel-s2-l2a-cogs/\n",
      "S2B_23KNR_20200617_0_L2A_B03.tif\n",
      "wget -nv -O- https://sentinel-cogs.s3.us-west-2.amazonaws.com/sentinel-s2-l2a-cogs/23/K/NR/2020/6/S2B_23KNR_20200617_0_L2A/B03.tif | aws s3 cp - s3://dev-et-data/usmart/RIO/sentinel-s2-l2a-cogs/S2B_23KNR_20200617_0_L2A_B03.tif\n"
     ]
    },
    {
     "name": "stderr",
     "output_type": "stream",
     "text": [
      "2021-09-13 16:19:03 URL:https://sentinel-cogs.s3.us-west-2.amazonaws.com/sentinel-s2-l2a-cogs/23/K/NR/2020/7/S2A_23KNR_20200702_0_L2A/B02.tif [124678710/124678710] -> \"-\" [1]\n",
      "2021-09-13 16:19:03 URL:https://sentinel-cogs.s3.us-west-2.amazonaws.com/sentinel-s2-l2a-cogs/23/K/PR/2020/6/S2A_23KPR_20200622_0_L2A/B04.tif [222987980/222987980] -> \"-\" [1]\n",
      "2021-09-13 16:19:03 URL:https://sentinel-cogs.s3.us-west-2.amazonaws.com/sentinel-s2-l2a-cogs/23/K/PR/2020/7/S2A_23KPR_20200702_0_L2A/B03.tif [228855427/228855427] -> \"-\" [1]\n",
      "16:19:04: Thread 72: finishing in 23 seconds\n",
      "16:19:04: xfer Thread 84: starting\n",
      "16:19:04: sending https://sentinel-cogs.s3.us-west-2.amazonaws.com/sentinel-s2-l2a-cogs/23/K/NR/2020/6/S2A_23KNR_20200602_0_L2A/B04.tif\n"
     ]
    },
    {
     "name": "stdout",
     "output_type": "stream",
     "text": [
      "\n",
      "\n",
      "wget this: %s https://sentinel-cogs.s3.us-west-2.amazonaws.com/sentinel-s2-l2a-cogs/23/K/NR/2020/6/S2A_23KNR_20200602_0_L2A/B04.tif\n",
      "wget -nv -O- https://sentinel-cogs.s3.us-west-2.amazonaws.com/sentinel-s2-l2a-cogs/23/K/NR/2020/6/S2A_23KNR_20200602_0_L2A/B04.tif | aws s3 cp - s3://dev-et-data/usmart/RIO/sentinel-s2-l2a-cogs/\n",
      "S2A_23KNR_20200602_0_L2A_B04.tif\n",
      "wget -nv -O- https://sentinel-cogs.s3.us-west-2.amazonaws.com/sentinel-s2-l2a-cogs/23/K/NR/2020/6/S2A_23KNR_20200602_0_L2A/B04.tif | aws s3 cp - s3://dev-et-data/usmart/RIO/sentinel-s2-l2a-cogs/S2A_23KNR_20200602_0_L2A_B04.tif\n"
     ]
    },
    {
     "name": "stderr",
     "output_type": "stream",
     "text": [
      "16:19:04: sending https://sentinel-cogs.s3.us-west-2.amazonaws.com/sentinel-s2-l2a-cogs/23/K/PR/2020/6/S2A_23KPR_20200622_0_L2A/B03.tif\n"
     ]
    },
    {
     "name": "stdout",
     "output_type": "stream",
     "text": [
      "\n",
      "\n",
      "wget this: %s https://sentinel-cogs.s3.us-west-2.amazonaws.com/sentinel-s2-l2a-cogs/23/K/PR/2020/6/S2A_23KPR_20200622_0_L2A/B03.tif\n",
      "wget -nv -O- https://sentinel-cogs.s3.us-west-2.amazonaws.com/sentinel-s2-l2a-cogs/23/K/PR/2020/6/S2A_23KPR_20200622_0_L2A/B03.tif | aws s3 cp - s3://dev-et-data/usmart/RIO/sentinel-s2-l2a-cogs/\n",
      "S2A_23KPR_20200622_0_L2A_B03.tif\n",
      "wget -nv -O- https://sentinel-cogs.s3.us-west-2.amazonaws.com/sentinel-s2-l2a-cogs/23/K/PR/2020/6/S2A_23KPR_20200622_0_L2A/B03.tif | aws s3 cp - s3://dev-et-data/usmart/RIO/sentinel-s2-l2a-cogs/S2A_23KPR_20200622_0_L2A_B03.tif\n"
     ]
    },
    {
     "name": "stderr",
     "output_type": "stream",
     "text": [
      "2021-09-13 16:19:04 URL:https://sentinel-cogs.s3.us-west-2.amazonaws.com/sentinel-s2-l2a-cogs/23/K/PR/2020/7/S2B_23KPR_20200717_0_L2A/B02.tif [219011453/219011453] -> \"-\" [1]\n",
      "16:19:04: sending https://sentinel-cogs.s3.us-west-2.amazonaws.com/sentinel-s2-l2a-cogs/23/K/PR/2020/7/S2A_23KPR_20200702_0_L2A/B02.tif\n"
     ]
    },
    {
     "name": "stdout",
     "output_type": "stream",
     "text": [
      "\n",
      "\n",
      "wget this: %s https://sentinel-cogs.s3.us-west-2.amazonaws.com/sentinel-s2-l2a-cogs/23/K/PR/2020/7/S2A_23KPR_20200702_0_L2A/B02.tif\n",
      "wget -nv -O- https://sentinel-cogs.s3.us-west-2.amazonaws.com/sentinel-s2-l2a-cogs/23/K/PR/2020/7/S2A_23KPR_20200702_0_L2A/B02.tif | aws s3 cp - s3://dev-et-data/usmart/RIO/sentinel-s2-l2a-cogs/\n",
      "S2A_23KPR_20200702_0_L2A_B02.tif\n",
      "wget -nv -O- https://sentinel-cogs.s3.us-west-2.amazonaws.com/sentinel-s2-l2a-cogs/23/K/PR/2020/7/S2A_23KPR_20200702_0_L2A/B02.tif | aws s3 cp - s3://dev-et-data/usmart/RIO/sentinel-s2-l2a-cogs/S2A_23KPR_20200702_0_L2A_B02.tif\n"
     ]
    },
    {
     "name": "stderr",
     "output_type": "stream",
     "text": [
      "2021-09-13 16:19:04 URL:https://sentinel-cogs.s3.us-west-2.amazonaws.com/sentinel-s2-l2a-cogs/23/K/NR/2020/6/S2B_23KNR_20200627_0_L2A/B02.tif [117242955/117242955] -> \"-\" [1]\n",
      "16:19:05: Thread 67: finishing in 32 seconds\n",
      "16:19:05: xfer Thread 85: starting\n",
      "16:19:05: sending https://sentinel-cogs.s3.us-west-2.amazonaws.com/sentinel-s2-l2a-cogs/23/K/PR/2020/6/S2A_23KPR_20200602_0_L2A/B04.tif\n",
      "16:19:05: Thread 74: finishing in 23 seconds\n",
      "16:19:05: xfer Thread 86: starting\n",
      "16:19:05: sending https://sentinel-cogs.s3.us-west-2.amazonaws.com/sentinel-s2-l2a-cogs/23/K/NR/2020/5/S2B_23KNR_20200528_0_L2A/B04.tif\n"
     ]
    },
    {
     "name": "stdout",
     "output_type": "stream",
     "text": [
      "\n",
      "\n",
      "wget this: %s https://sentinel-cogs.s3.us-west-2.amazonaws.com/sentinel-s2-l2a-cogs/23/K/PR/2020/6/S2A_23KPR_20200602_0_L2A/B04.tif\n",
      "wget -nv -O- https://sentinel-cogs.s3.us-west-2.amazonaws.com/sentinel-s2-l2a-cogs/23/K/PR/2020/6/S2A_23KPR_20200602_0_L2A/B04.tif | aws s3 cp - s3://dev-et-data/usmart/RIO/sentinel-s2-l2a-cogs/\n",
      "S2A_23KPR_20200602_0_L2A_B04.tif\n",
      "wget -nv -O- https://sentinel-cogs.s3.us-west-2.amazonaws.com/sentinel-s2-l2a-cogs/23/K/PR/2020/6/S2A_23KPR_20200602_0_L2A/B04.tif | aws s3 cp - s3://dev-et-data/usmart/RIO/sentinel-s2-l2a-cogs/S2A_23KPR_20200602_0_L2A_B04.tif\n",
      "\n",
      "\n",
      "wget this: %s https://sentinel-cogs.s3.us-west-2.amazonaws.com/sentinel-s2-l2a-cogs/23/K/NR/2020/5/S2B_23KNR_20200528_0_L2A/B04.tif\n",
      "wget -nv -O- https://sentinel-cogs.s3.us-west-2.amazonaws.com/sentinel-s2-l2a-cogs/23/K/NR/2020/5/S2B_23KNR_20200528_0_L2A/B04.tif | aws s3 cp - s3://dev-et-data/usmart/RIO/sentinel-s2-l2a-cogs/\n",
      "S2B_23KNR_20200528_0_L2A_B04.tif\n",
      "wget -nv -O- https://sentinel-cogs.s3.us-west-2.amazonaws.com/sentinel-s2-l2a-cogs/23/K/NR/2020/5/S2B_23KNR_20200528_0_L2A/B04.tif | aws s3 cp - s3://dev-et-data/usmart/RIO/sentinel-s2-l2a-cogs/S2B_23KNR_20200528_0_L2A_B04.tif\n"
     ]
    },
    {
     "name": "stderr",
     "output_type": "stream",
     "text": [
      "2021-09-13 16:19:05 URL:https://sentinel-cogs.s3.us-west-2.amazonaws.com/sentinel-s2-l2a-cogs/23/K/PR/2020/6/S2B_23KPR_20200617_0_L2A/B04.tif [216958422/216958422] -> \"-\" [1]\n",
      "16:19:06: sending https://sentinel-cogs.s3.us-west-2.amazonaws.com/sentinel-s2-l2a-cogs/23/K/PR/2020/6/S2B_23KPR_20200617_0_L2A/B03.tif\n"
     ]
    },
    {
     "name": "stdout",
     "output_type": "stream",
     "text": [
      "\n",
      "\n",
      "wget this: %s https://sentinel-cogs.s3.us-west-2.amazonaws.com/sentinel-s2-l2a-cogs/23/K/PR/2020/6/S2B_23KPR_20200617_0_L2A/B03.tif\n",
      "wget -nv -O- https://sentinel-cogs.s3.us-west-2.amazonaws.com/sentinel-s2-l2a-cogs/23/K/PR/2020/6/S2B_23KPR_20200617_0_L2A/B03.tif | aws s3 cp - s3://dev-et-data/usmart/RIO/sentinel-s2-l2a-cogs/\n",
      "S2B_23KPR_20200617_0_L2A_B03.tif\n",
      "wget -nv -O- https://sentinel-cogs.s3.us-west-2.amazonaws.com/sentinel-s2-l2a-cogs/23/K/PR/2020/6/S2B_23KPR_20200617_0_L2A/B03.tif | aws s3 cp - s3://dev-et-data/usmart/RIO/sentinel-s2-l2a-cogs/S2B_23KPR_20200617_0_L2A_B03.tif\n"
     ]
    },
    {
     "name": "stderr",
     "output_type": "stream",
     "text": [
      "2021-09-13 16:19:07 URL:https://sentinel-cogs.s3.us-west-2.amazonaws.com/sentinel-s2-l2a-cogs/23/K/PR/2020/7/S2A_23KPR_20200712_0_L2A/B02.tif [207409856/207409856] -> \"-\" [1]\n",
      "2021-09-13 16:19:07 URL:https://sentinel-cogs.s3.us-west-2.amazonaws.com/sentinel-s2-l2a-cogs/23/K/NR/2020/6/S2B_23KNR_20200607_0_L2A/B04.tif [83094932/83094932] -> \"-\" [1]\n",
      "2021-09-13 16:19:08 URL:https://sentinel-cogs.s3.us-west-2.amazonaws.com/sentinel-s2-l2a-cogs/23/K/NR/2020/6/S2A_23KNR_20200622_0_L2A/B03.tif [125509174/125509174] -> \"-\" [1]\n",
      "16:19:08: Thread 69: finishing in 34 seconds\n",
      "16:19:08: xfer Thread 87: starting\n",
      "16:19:08: sending https://sentinel-cogs.s3.us-west-2.amazonaws.com/sentinel-s2-l2a-cogs/23/K/PR/2020/5/S2B_23KPR_20200528_0_L2A/B04.tif\n"
     ]
    },
    {
     "name": "stdout",
     "output_type": "stream",
     "text": [
      "\n",
      "\n",
      "wget this: %s https://sentinel-cogs.s3.us-west-2.amazonaws.com/sentinel-s2-l2a-cogs/23/K/PR/2020/5/S2B_23KPR_20200528_0_L2A/B04.tif\n",
      "wget -nv -O- https://sentinel-cogs.s3.us-west-2.amazonaws.com/sentinel-s2-l2a-cogs/23/K/PR/2020/5/S2B_23KPR_20200528_0_L2A/B04.tif | aws s3 cp - s3://dev-et-data/usmart/RIO/sentinel-s2-l2a-cogs/\n",
      "S2B_23KPR_20200528_0_L2A_B04.tif\n",
      "wget -nv -O- https://sentinel-cogs.s3.us-west-2.amazonaws.com/sentinel-s2-l2a-cogs/23/K/PR/2020/5/S2B_23KPR_20200528_0_L2A/B04.tif | aws s3 cp - s3://dev-et-data/usmart/RIO/sentinel-s2-l2a-cogs/S2B_23KPR_20200528_0_L2A_B04.tif\n"
     ]
    },
    {
     "name": "stderr",
     "output_type": "stream",
     "text": [
      "2021-09-13 16:19:08 URL:https://sentinel-cogs.s3.us-west-2.amazonaws.com/sentinel-s2-l2a-cogs/23/K/NR/2020/6/S2B_23KNR_20200617_0_L2A/B03.tif [119053455/119053455] -> \"-\" [1]\n",
      "16:19:08: sending https://sentinel-cogs.s3.us-west-2.amazonaws.com/sentinel-s2-l2a-cogs/23/K/NR/2020/6/S2B_23KNR_20200607_0_L2A/B03.tif\n",
      "16:19:08: sending https://sentinel-cogs.s3.us-west-2.amazonaws.com/sentinel-s2-l2a-cogs/23/K/NR/2020/6/S2A_23KNR_20200622_0_L2A/B02.tif\n"
     ]
    },
    {
     "name": "stdout",
     "output_type": "stream",
     "text": [
      "\n",
      "\n",
      "wget this: %s https://sentinel-cogs.s3.us-west-2.amazonaws.com/sentinel-s2-l2a-cogs/23/K/NR/2020/6/S2B_23KNR_20200607_0_L2A/B03.tif\n",
      "wget -nv -O- https://sentinel-cogs.s3.us-west-2.amazonaws.com/sentinel-s2-l2a-cogs/23/K/NR/2020/6/S2B_23KNR_20200607_0_L2A/B03.tif | aws s3 cp - s3://dev-et-data/usmart/RIO/sentinel-s2-l2a-cogs/\n",
      "S2B_23KNR_20200607_0_L2A_B03.tif\n",
      "wget -nv -O- https://sentinel-cogs.s3.us-west-2.amazonaws.com/sentinel-s2-l2a-cogs/23/K/NR/2020/6/S2B_23KNR_20200607_0_L2A/B03.tif | aws s3 cp - s3://dev-et-data/usmart/RIO/sentinel-s2-l2a-cogs/S2B_23KNR_20200607_0_L2A_B03.tif\n",
      "\n",
      "\n",
      "wget this: %s https://sentinel-cogs.s3.us-west-2.amazonaws.com/sentinel-s2-l2a-cogs/23/K/NR/2020/6/S2A_23KNR_20200622_0_L2A/B02.tif\n",
      "wget -nv -O- https://sentinel-cogs.s3.us-west-2.amazonaws.com/sentinel-s2-l2a-cogs/23/K/NR/2020/6/S2A_23KNR_20200622_0_L2A/B02.tif | aws s3 cp - s3://dev-et-data/usmart/RIO/sentinel-s2-l2a-cogs/\n",
      "S2A_23KNR_20200622_0_L2A_B02.tif\n",
      "wget -nv -O- https://sentinel-cogs.s3.us-west-2.amazonaws.com/sentinel-s2-l2a-cogs/23/K/NR/2020/6/S2A_23KNR_20200622_0_L2A/B02.tif | aws s3 cp - s3://dev-et-data/usmart/RIO/sentinel-s2-l2a-cogs/S2A_23KNR_20200622_0_L2A_B02.tif\n"
     ]
    },
    {
     "name": "stderr",
     "output_type": "stream",
     "text": [
      "2021-09-13 16:19:08 URL:https://sentinel-cogs.s3.us-west-2.amazonaws.com/sentinel-s2-l2a-cogs/23/K/NR/2020/6/S2A_23KNR_20200612_0_L2A/B04.tif [120933352/120933352] -> \"-\" [1]\n",
      "16:19:09: sending https://sentinel-cogs.s3.us-west-2.amazonaws.com/sentinel-s2-l2a-cogs/23/K/NR/2020/6/S2B_23KNR_20200617_0_L2A/B02.tif\n"
     ]
    },
    {
     "name": "stdout",
     "output_type": "stream",
     "text": [
      "\n",
      "\n",
      "wget this: %s https://sentinel-cogs.s3.us-west-2.amazonaws.com/sentinel-s2-l2a-cogs/23/K/NR/2020/6/S2B_23KNR_20200617_0_L2A/B02.tif\n",
      "wget -nv -O- https://sentinel-cogs.s3.us-west-2.amazonaws.com/sentinel-s2-l2a-cogs/23/K/NR/2020/6/S2B_23KNR_20200617_0_L2A/B02.tif | aws s3 cp - s3://dev-et-data/usmart/RIO/sentinel-s2-l2a-cogs/\n",
      "S2B_23KNR_20200617_0_L2A_B02.tif\n",
      "wget -nv -O- https://sentinel-cogs.s3.us-west-2.amazonaws.com/sentinel-s2-l2a-cogs/23/K/NR/2020/6/S2B_23KNR_20200617_0_L2A/B02.tif | aws s3 cp - s3://dev-et-data/usmart/RIO/sentinel-s2-l2a-cogs/S2B_23KNR_20200617_0_L2A_B02.tif\n"
     ]
    },
    {
     "name": "stderr",
     "output_type": "stream",
     "text": [
      "2021-09-13 16:19:09 URL:https://sentinel-cogs.s3.us-west-2.amazonaws.com/sentinel-s2-l2a-cogs/23/K/PR/2020/6/S2B_23KPR_20200627_0_L2A/B03.tif [220178465/220178465] -> \"-\" [1]\n",
      "2021-09-13 16:19:09 URL:https://sentinel-cogs.s3.us-west-2.amazonaws.com/sentinel-s2-l2a-cogs/23/K/PR/2020/6/S2B_23KPR_20200607_0_L2A/B04.tif [143699990/143699990] -> \"-\" [1]\n",
      "16:19:10: sending https://sentinel-cogs.s3.us-west-2.amazonaws.com/sentinel-s2-l2a-cogs/23/K/NR/2020/6/S2A_23KNR_20200612_0_L2A/B03.tif\n"
     ]
    },
    {
     "name": "stdout",
     "output_type": "stream",
     "text": [
      "\n",
      "\n",
      "wget this: %s https://sentinel-cogs.s3.us-west-2.amazonaws.com/sentinel-s2-l2a-cogs/23/K/NR/2020/6/S2A_23KNR_20200612_0_L2A/B03.tif\n",
      "wget -nv -O- https://sentinel-cogs.s3.us-west-2.amazonaws.com/sentinel-s2-l2a-cogs/23/K/NR/2020/6/S2A_23KNR_20200612_0_L2A/B03.tif | aws s3 cp - s3://dev-et-data/usmart/RIO/sentinel-s2-l2a-cogs/\n",
      "S2A_23KNR_20200612_0_L2A_B03.tif\n",
      "wget -nv -O- https://sentinel-cogs.s3.us-west-2.amazonaws.com/sentinel-s2-l2a-cogs/23/K/NR/2020/6/S2A_23KNR_20200612_0_L2A/B03.tif | aws s3 cp - s3://dev-et-data/usmart/RIO/sentinel-s2-l2a-cogs/S2A_23KNR_20200612_0_L2A_B03.tif\n"
     ]
    },
    {
     "name": "stderr",
     "output_type": "stream",
     "text": [
      "16:19:10: sending https://sentinel-cogs.s3.us-west-2.amazonaws.com/sentinel-s2-l2a-cogs/23/K/PR/2020/6/S2B_23KPR_20200627_0_L2A/B02.tif\n",
      "16:19:10: sending https://sentinel-cogs.s3.us-west-2.amazonaws.com/sentinel-s2-l2a-cogs/23/K/PR/2020/6/S2B_23KPR_20200607_0_L2A/B03.tif\n"
     ]
    },
    {
     "name": "stdout",
     "output_type": "stream",
     "text": [
      "\n",
      "\n",
      "wget this: %s https://sentinel-cogs.s3.us-west-2.amazonaws.com/sentinel-s2-l2a-cogs/23/K/PR/2020/6/S2B_23KPR_20200627_0_L2A/B02.tif\n",
      "wget -nv -O- https://sentinel-cogs.s3.us-west-2.amazonaws.com/sentinel-s2-l2a-cogs/23/K/PR/2020/6/S2B_23KPR_20200627_0_L2A/B02.tif | aws s3 cp - s3://dev-et-data/usmart/RIO/sentinel-s2-l2a-cogs/\n",
      "S2B_23KPR_20200627_0_L2A_B02.tif\n",
      "wget -nv -O- https://sentinel-cogs.s3.us-west-2.amazonaws.com/sentinel-s2-l2a-cogs/23/K/PR/2020/6/S2B_23KPR_20200627_0_L2A/B02.tif | aws s3 cp - s3://dev-et-data/usmart/RIO/sentinel-s2-l2a-cogs/S2B_23KPR_20200627_0_L2A_B02.tif\n",
      "\n",
      "\n",
      "wget this: %s https://sentinel-cogs.s3.us-west-2.amazonaws.com/sentinel-s2-l2a-cogs/23/K/PR/2020/6/S2B_23KPR_20200607_0_L2A/B03.tif\n",
      "wget -nv -O- https://sentinel-cogs.s3.us-west-2.amazonaws.com/sentinel-s2-l2a-cogs/23/K/PR/2020/6/S2B_23KPR_20200607_0_L2A/B03.tif | aws s3 cp - s3://dev-et-data/usmart/RIO/sentinel-s2-l2a-cogs/\n",
      "S2B_23KPR_20200607_0_L2A_B03.tif\n",
      "wget -nv -O- https://sentinel-cogs.s3.us-west-2.amazonaws.com/sentinel-s2-l2a-cogs/23/K/PR/2020/6/S2B_23KPR_20200607_0_L2A/B03.tif | aws s3 cp - s3://dev-et-data/usmart/RIO/sentinel-s2-l2a-cogs/S2B_23KPR_20200607_0_L2A_B03.tif\n"
     ]
    },
    {
     "name": "stderr",
     "output_type": "stream",
     "text": [
      "2021-09-13 16:19:11 URL:https://sentinel-cogs.s3.us-west-2.amazonaws.com/sentinel-s2-l2a-cogs/23/K/PR/2020/7/S2B_23KPR_20200707_0_L2A/B02.tif [208173429/208173429] -> \"-\" [1]\n",
      "2021-09-13 16:19:11 URL:https://sentinel-cogs.s3.us-west-2.amazonaws.com/sentinel-s2-l2a-cogs/23/K/PR/2020/6/S2A_23KPR_20200612_0_L2A/B04.tif [209411561/209411561] -> \"-\" [1]\n",
      "2021-09-13 16:19:12 URL:https://sentinel-cogs.s3.us-west-2.amazonaws.com/sentinel-s2-l2a-cogs/23/K/NR/2020/6/S2A_23KNR_20200602_0_L2A/B04.tif [127747069/127747069] -> \"-\" [1]\n",
      "16:19:12: sending https://sentinel-cogs.s3.us-west-2.amazonaws.com/sentinel-s2-l2a-cogs/23/K/PR/2020/6/S2A_23KPR_20200612_0_L2A/B03.tif\n",
      "16:19:12: Thread 71: finishing in 34 seconds\n",
      "16:19:12: xfer Thread 88: starting\n",
      "16:19:12: sending https://sentinel-cogs.s3.us-west-2.amazonaws.com/sentinel-s2-l2a-cogs/23/K/NR/2020/5/S2A_23KNR_20200523_0_L2A/B04.tif\n"
     ]
    },
    {
     "name": "stdout",
     "output_type": "stream",
     "text": [
      "\n",
      "\n",
      "wget this: %s https://sentinel-cogs.s3.us-west-2.amazonaws.com/sentinel-s2-l2a-cogs/23/K/PR/2020/6/S2A_23KPR_20200612_0_L2A/B03.tif\n",
      "wget -nv -O- https://sentinel-cogs.s3.us-west-2.amazonaws.com/sentinel-s2-l2a-cogs/23/K/PR/2020/6/S2A_23KPR_20200612_0_L2A/B03.tif | aws s3 cp - s3://dev-et-data/usmart/RIO/sentinel-s2-l2a-cogs/\n",
      "S2A_23KPR_20200612_0_L2A_B03.tif\n",
      "wget -nv -O- https://sentinel-cogs.s3.us-west-2.amazonaws.com/sentinel-s2-l2a-cogs/23/K/PR/2020/6/S2A_23KPR_20200612_0_L2A/B03.tif | aws s3 cp - s3://dev-et-data/usmart/RIO/sentinel-s2-l2a-cogs/S2A_23KPR_20200612_0_L2A_B03.tif\n",
      "\n",
      "\n",
      "wget this: %s https://sentinel-cogs.s3.us-west-2.amazonaws.com/sentinel-s2-l2a-cogs/23/K/NR/2020/5/S2A_23KNR_20200523_0_L2A/B04.tif\n",
      "wget -nv -O- https://sentinel-cogs.s3.us-west-2.amazonaws.com/sentinel-s2-l2a-cogs/23/K/NR/2020/5/S2A_23KNR_20200523_0_L2A/B04.tif | aws s3 cp - s3://dev-et-data/usmart/RIO/sentinel-s2-l2a-cogs/\n",
      "S2A_23KNR_20200523_0_L2A_B04.tif\n",
      "wget -nv -O- https://sentinel-cogs.s3.us-west-2.amazonaws.com/sentinel-s2-l2a-cogs/23/K/NR/2020/5/S2A_23KNR_20200523_0_L2A/B04.tif | aws s3 cp - s3://dev-et-data/usmart/RIO/sentinel-s2-l2a-cogs/S2A_23KNR_20200523_0_L2A_B04.tif\n"
     ]
    },
    {
     "name": "stderr",
     "output_type": "stream",
     "text": [
      "2021-09-13 16:19:13 URL:https://sentinel-cogs.s3.us-west-2.amazonaws.com/sentinel-s2-l2a-cogs/23/K/NR/2020/5/S2B_23KNR_20200528_0_L2A/B04.tif [126375932/126375932] -> \"-\" [1]\n",
      "16:19:13: sending https://sentinel-cogs.s3.us-west-2.amazonaws.com/sentinel-s2-l2a-cogs/23/K/NR/2020/6/S2A_23KNR_20200602_0_L2A/B03.tif\n"
     ]
    },
    {
     "name": "stdout",
     "output_type": "stream",
     "text": [
      "\n",
      "\n",
      "wget this: %s https://sentinel-cogs.s3.us-west-2.amazonaws.com/sentinel-s2-l2a-cogs/23/K/NR/2020/6/S2A_23KNR_20200602_0_L2A/B03.tif\n",
      "wget -nv -O- https://sentinel-cogs.s3.us-west-2.amazonaws.com/sentinel-s2-l2a-cogs/23/K/NR/2020/6/S2A_23KNR_20200602_0_L2A/B03.tif | aws s3 cp - s3://dev-et-data/usmart/RIO/sentinel-s2-l2a-cogs/\n",
      "S2A_23KNR_20200602_0_L2A_B03.tif\n",
      "wget -nv -O- https://sentinel-cogs.s3.us-west-2.amazonaws.com/sentinel-s2-l2a-cogs/23/K/NR/2020/6/S2A_23KNR_20200602_0_L2A/B03.tif | aws s3 cp - s3://dev-et-data/usmart/RIO/sentinel-s2-l2a-cogs/S2A_23KNR_20200602_0_L2A_B03.tif\n"
     ]
    },
    {
     "name": "stderr",
     "output_type": "stream",
     "text": [
      "2021-09-13 16:19:14 URL:https://sentinel-cogs.s3.us-west-2.amazonaws.com/sentinel-s2-l2a-cogs/23/K/PR/2020/6/S2A_23KPR_20200622_0_L2A/B03.tif [221605064/221605064] -> \"-\" [1]\n",
      "16:19:14: sending https://sentinel-cogs.s3.us-west-2.amazonaws.com/sentinel-s2-l2a-cogs/23/K/NR/2020/5/S2B_23KNR_20200528_0_L2A/B03.tif\n",
      "2021-09-13 16:19:14 URL:https://sentinel-cogs.s3.us-west-2.amazonaws.com/sentinel-s2-l2a-cogs/23/K/NR/2020/6/S2B_23KNR_20200607_0_L2A/B03.tif [83472645/83472645] -> \"-\" [1]\n"
     ]
    },
    {
     "name": "stdout",
     "output_type": "stream",
     "text": [
      "\n",
      "\n",
      "wget this: %s https://sentinel-cogs.s3.us-west-2.amazonaws.com/sentinel-s2-l2a-cogs/23/K/NR/2020/5/S2B_23KNR_20200528_0_L2A/B03.tif\n",
      "wget -nv -O- https://sentinel-cogs.s3.us-west-2.amazonaws.com/sentinel-s2-l2a-cogs/23/K/NR/2020/5/S2B_23KNR_20200528_0_L2A/B03.tif | aws s3 cp - s3://dev-et-data/usmart/RIO/sentinel-s2-l2a-cogs/\n",
      "S2B_23KNR_20200528_0_L2A_B03.tif\n",
      "wget -nv -O- https://sentinel-cogs.s3.us-west-2.amazonaws.com/sentinel-s2-l2a-cogs/23/K/NR/2020/5/S2B_23KNR_20200528_0_L2A/B03.tif | aws s3 cp - s3://dev-et-data/usmart/RIO/sentinel-s2-l2a-cogs/S2B_23KNR_20200528_0_L2A_B03.tif\n"
     ]
    },
    {
     "name": "stderr",
     "output_type": "stream",
     "text": [
      "16:19:15: sending https://sentinel-cogs.s3.us-west-2.amazonaws.com/sentinel-s2-l2a-cogs/23/K/PR/2020/6/S2A_23KPR_20200622_0_L2A/B02.tif\n"
     ]
    },
    {
     "name": "stdout",
     "output_type": "stream",
     "text": [
      "\n",
      "\n",
      "wget this: %s https://sentinel-cogs.s3.us-west-2.amazonaws.com/sentinel-s2-l2a-cogs/23/K/PR/2020/6/S2A_23KPR_20200622_0_L2A/B02.tif\n",
      "wget -nv -O- https://sentinel-cogs.s3.us-west-2.amazonaws.com/sentinel-s2-l2a-cogs/23/K/PR/2020/6/S2A_23KPR_20200622_0_L2A/B02.tif | aws s3 cp - s3://dev-et-data/usmart/RIO/sentinel-s2-l2a-cogs/\n",
      "S2A_23KPR_20200622_0_L2A_B02.tif\n",
      "wget -nv -O- https://sentinel-cogs.s3.us-west-2.amazonaws.com/sentinel-s2-l2a-cogs/23/K/PR/2020/6/S2A_23KPR_20200622_0_L2A/B02.tif | aws s3 cp - s3://dev-et-data/usmart/RIO/sentinel-s2-l2a-cogs/S2A_23KPR_20200622_0_L2A_B02.tif\n"
     ]
    },
    {
     "name": "stderr",
     "output_type": "stream",
     "text": [
      "2021-09-13 16:19:15 URL:https://sentinel-cogs.s3.us-west-2.amazonaws.com/sentinel-s2-l2a-cogs/23/K/PR/2020/6/S2A_23KPR_20200602_0_L2A/B04.tif [221951376/221951376] -> \"-\" [1]\n",
      "16:19:15: sending https://sentinel-cogs.s3.us-west-2.amazonaws.com/sentinel-s2-l2a-cogs/23/K/NR/2020/6/S2B_23KNR_20200607_0_L2A/B02.tif\n"
     ]
    },
    {
     "name": "stdout",
     "output_type": "stream",
     "text": [
      "\n",
      "\n",
      "wget this: %s https://sentinel-cogs.s3.us-west-2.amazonaws.com/sentinel-s2-l2a-cogs/23/K/NR/2020/6/S2B_23KNR_20200607_0_L2A/B02.tif\n",
      "wget -nv -O- https://sentinel-cogs.s3.us-west-2.amazonaws.com/sentinel-s2-l2a-cogs/23/K/NR/2020/6/S2B_23KNR_20200607_0_L2A/B02.tif | aws s3 cp - s3://dev-et-data/usmart/RIO/sentinel-s2-l2a-cogs/\n",
      "S2B_23KNR_20200607_0_L2A_B02.tif\n",
      "wget -nv -O- https://sentinel-cogs.s3.us-west-2.amazonaws.com/sentinel-s2-l2a-cogs/23/K/NR/2020/6/S2B_23KNR_20200607_0_L2A/B02.tif | aws s3 cp - s3://dev-et-data/usmart/RIO/sentinel-s2-l2a-cogs/S2B_23KNR_20200607_0_L2A_B02.tif\n"
     ]
    },
    {
     "name": "stderr",
     "output_type": "stream",
     "text": [
      "16:19:16: sending https://sentinel-cogs.s3.us-west-2.amazonaws.com/sentinel-s2-l2a-cogs/23/K/PR/2020/6/S2A_23KPR_20200602_0_L2A/B03.tif\n"
     ]
    },
    {
     "name": "stdout",
     "output_type": "stream",
     "text": [
      "\n",
      "\n",
      "wget this: %s https://sentinel-cogs.s3.us-west-2.amazonaws.com/sentinel-s2-l2a-cogs/23/K/PR/2020/6/S2A_23KPR_20200602_0_L2A/B03.tif\n",
      "wget -nv -O- https://sentinel-cogs.s3.us-west-2.amazonaws.com/sentinel-s2-l2a-cogs/23/K/PR/2020/6/S2A_23KPR_20200602_0_L2A/B03.tif | aws s3 cp - s3://dev-et-data/usmart/RIO/sentinel-s2-l2a-cogs/\n",
      "S2A_23KPR_20200602_0_L2A_B03.tif\n",
      "wget -nv -O- https://sentinel-cogs.s3.us-west-2.amazonaws.com/sentinel-s2-l2a-cogs/23/K/PR/2020/6/S2A_23KPR_20200602_0_L2A/B03.tif | aws s3 cp - s3://dev-et-data/usmart/RIO/sentinel-s2-l2a-cogs/S2A_23KPR_20200602_0_L2A_B03.tif\n"
     ]
    },
    {
     "name": "stderr",
     "output_type": "stream",
     "text": [
      "2021-09-13 16:19:16 URL:https://sentinel-cogs.s3.us-west-2.amazonaws.com/sentinel-s2-l2a-cogs/23/K/PR/2020/7/S2A_23KPR_20200702_0_L2A/B02.tif [223331186/223331186] -> \"-\" [1]\n",
      "2021-09-13 16:19:17 URL:https://sentinel-cogs.s3.us-west-2.amazonaws.com/sentinel-s2-l2a-cogs/23/K/NR/2020/6/S2A_23KNR_20200612_0_L2A/B03.tif [119293108/119293108] -> \"-\" [1]\n",
      "16:19:17: Thread 73: finishing in 36 seconds\n",
      "2021-09-13 16:19:17 URL:https://sentinel-cogs.s3.us-west-2.amazonaws.com/sentinel-s2-l2a-cogs/23/K/PR/2020/6/S2B_23KPR_20200617_0_L2A/B03.tif [216942905/216942905] -> \"-\" [1]\n",
      "16:19:17: xfer Thread 89: starting\n",
      "16:19:17: sending https://sentinel-cogs.s3.us-west-2.amazonaws.com/sentinel-s2-l2a-cogs/23/K/PR/2020/5/S2A_23KPR_20200523_0_L2A/B04.tif\n",
      "2021-09-13 16:19:17 URL:https://sentinel-cogs.s3.us-west-2.amazonaws.com/sentinel-s2-l2a-cogs/23/K/NR/2020/6/S2A_23KNR_20200622_0_L2A/B02.tif [118114415/118114415] -> \"-\" [1]\n"
     ]
    },
    {
     "name": "stdout",
     "output_type": "stream",
     "text": [
      "\n",
      "\n",
      "wget this: %s https://sentinel-cogs.s3.us-west-2.amazonaws.com/sentinel-s2-l2a-cogs/23/K/PR/2020/5/S2A_23KPR_20200523_0_L2A/B04.tif\n",
      "wget -nv -O- https://sentinel-cogs.s3.us-west-2.amazonaws.com/sentinel-s2-l2a-cogs/23/K/PR/2020/5/S2A_23KPR_20200523_0_L2A/B04.tif | aws s3 cp - s3://dev-et-data/usmart/RIO/sentinel-s2-l2a-cogs/\n",
      "S2A_23KPR_20200523_0_L2A_B04.tif\n",
      "wget -nv -O- https://sentinel-cogs.s3.us-west-2.amazonaws.com/sentinel-s2-l2a-cogs/23/K/PR/2020/5/S2A_23KPR_20200523_0_L2A/B04.tif | aws s3 cp - s3://dev-et-data/usmart/RIO/sentinel-s2-l2a-cogs/S2A_23KPR_20200523_0_L2A_B04.tif\n"
     ]
    },
    {
     "name": "stderr",
     "output_type": "stream",
     "text": [
      "2021-09-13 16:19:17 URL:https://sentinel-cogs.s3.us-west-2.amazonaws.com/sentinel-s2-l2a-cogs/23/K/NR/2020/6/S2B_23KNR_20200617_0_L2A/B02.tif [119605169/119605169] -> \"-\" [1]\n",
      "16:19:18: sending https://sentinel-cogs.s3.us-west-2.amazonaws.com/sentinel-s2-l2a-cogs/23/K/NR/2020/6/S2A_23KNR_20200612_0_L2A/B02.tif\n"
     ]
    },
    {
     "name": "stdout",
     "output_type": "stream",
     "text": [
      "\n",
      "\n",
      "wget this: %s https://sentinel-cogs.s3.us-west-2.amazonaws.com/sentinel-s2-l2a-cogs/23/K/NR/2020/6/S2A_23KNR_20200612_0_L2A/B02.tif\n",
      "wget -nv -O- https://sentinel-cogs.s3.us-west-2.amazonaws.com/sentinel-s2-l2a-cogs/23/K/NR/2020/6/S2A_23KNR_20200612_0_L2A/B02.tif | aws s3 cp - s3://dev-et-data/usmart/RIO/sentinel-s2-l2a-cogs/\n",
      "S2A_23KNR_20200612_0_L2A_B02.tif\n",
      "wget -nv -O- https://sentinel-cogs.s3.us-west-2.amazonaws.com/sentinel-s2-l2a-cogs/23/K/NR/2020/6/S2A_23KNR_20200612_0_L2A/B02.tif | aws s3 cp - s3://dev-et-data/usmart/RIO/sentinel-s2-l2a-cogs/S2A_23KNR_20200612_0_L2A_B02.tif\n"
     ]
    },
    {
     "name": "stderr",
     "output_type": "stream",
     "text": [
      "2021-09-13 16:19:18 URL:https://sentinel-cogs.s3.us-west-2.amazonaws.com/sentinel-s2-l2a-cogs/23/K/PR/2020/6/S2B_23KPR_20200607_0_L2A/B03.tif [145299869/145299869] -> \"-\" [1]\n",
      "16:19:18: sending https://sentinel-cogs.s3.us-west-2.amazonaws.com/sentinel-s2-l2a-cogs/23/K/PR/2020/6/S2B_23KPR_20200617_0_L2A/B02.tif\n",
      "16:19:18: Thread 76: finishing in 26 seconds\n",
      "16:19:18: xfer Thread 90: starting\n",
      "16:19:18: sending https://sentinel-cogs.s3.us-west-2.amazonaws.com/sentinel-s2-l2a-cogs/23/K/NR/2020/5/S2B_23KNR_20200518_0_L2A/B04.tif\n",
      "16:19:18: Thread 78: finishing in 24 seconds\n",
      "16:19:18: xfer Thread 91: starting\n",
      "16:19:18: sending https://sentinel-cogs.s3.us-west-2.amazonaws.com/sentinel-s2-l2a-cogs/23/K/PR/2020/5/S2B_23KPR_20200518_0_L2A/B04.tif\n"
     ]
    },
    {
     "name": "stdout",
     "output_type": "stream",
     "text": [
      "\n",
      "\n",
      "wget this: %s https://sentinel-cogs.s3.us-west-2.amazonaws.com/sentinel-s2-l2a-cogs/23/K/PR/2020/6/S2B_23KPR_20200617_0_L2A/B02.tif\n",
      "wget -nv -O- https://sentinel-cogs.s3.us-west-2.amazonaws.com/sentinel-s2-l2a-cogs/23/K/PR/2020/6/S2B_23KPR_20200617_0_L2A/B02.tif | aws s3 cp - s3://dev-et-data/usmart/RIO/sentinel-s2-l2a-cogs/\n",
      "S2B_23KPR_20200617_0_L2A_B02.tif\n",
      "wget -nv -O- https://sentinel-cogs.s3.us-west-2.amazonaws.com/sentinel-s2-l2a-cogs/23/K/PR/2020/6/S2B_23KPR_20200617_0_L2A/B02.tif | aws s3 cp - s3://dev-et-data/usmart/RIO/sentinel-s2-l2a-cogs/S2B_23KPR_20200617_0_L2A_B02.tif\n",
      "\n",
      "\n",
      "wget this: %s https://sentinel-cogs.s3.us-west-2.amazonaws.com/sentinel-s2-l2a-cogs/23/K/NR/2020/5/S2B_23KNR_20200518_0_L2A/B04.tif\n",
      "wget -nv -O- https://sentinel-cogs.s3.us-west-2.amazonaws.com/sentinel-s2-l2a-cogs/23/K/NR/2020/5/S2B_23KNR_20200518_0_L2A/B04.tif | aws s3 cp - s3://dev-et-data/usmart/RIO/sentinel-s2-l2a-cogs/\n",
      "S2B_23KNR_20200518_0_L2A_B04.tif\n",
      "wget -nv -O- https://sentinel-cogs.s3.us-west-2.amazonaws.com/sentinel-s2-l2a-cogs/23/K/NR/2020/5/S2B_23KNR_20200518_0_L2A/B04.tif | aws s3 cp - s3://dev-et-data/usmart/RIO/sentinel-s2-l2a-cogs/S2B_23KNR_20200518_0_L2A_B04.tif\n",
      "\n",
      "\n",
      "wget this: %s https://sentinel-cogs.s3.us-west-2.amazonaws.com/sentinel-s2-l2a-cogs/23/K/PR/2020/5/S2B_23KPR_20200518_0_L2A/B04.tif\n",
      "wget -nv -O- https://sentinel-cogs.s3.us-west-2.amazonaws.com/sentinel-s2-l2a-cogs/23/K/PR/2020/5/S2B_23KPR_20200518_0_L2A/B04.tif | aws s3 cp - s3://dev-et-data/usmart/RIO/sentinel-s2-l2a-cogs/\n",
      "S2B_23KPR_20200518_0_L2A_B04.tif\n",
      "wget -nv -O- https://sentinel-cogs.s3.us-west-2.amazonaws.com/sentinel-s2-l2a-cogs/23/K/PR/2020/5/S2B_23KPR_20200518_0_L2A/B04.tif | aws s3 cp - s3://dev-et-data/usmart/RIO/sentinel-s2-l2a-cogs/S2B_23KPR_20200518_0_L2A_B04.tif\n"
     ]
    },
    {
     "name": "stderr",
     "output_type": "stream",
     "text": [
      "2021-09-13 16:19:18 URL:https://sentinel-cogs.s3.us-west-2.amazonaws.com/sentinel-s2-l2a-cogs/23/K/PR/2020/5/S2B_23KPR_20200528_0_L2A/B04.tif [226423843/226423843] -> \"-\" [1]\n",
      "16:19:19: sending https://sentinel-cogs.s3.us-west-2.amazonaws.com/sentinel-s2-l2a-cogs/23/K/PR/2020/6/S2B_23KPR_20200607_0_L2A/B02.tif\n",
      "16:19:19: sending https://sentinel-cogs.s3.us-west-2.amazonaws.com/sentinel-s2-l2a-cogs/23/K/PR/2020/5/S2B_23KPR_20200528_0_L2A/B03.tif\n"
     ]
    },
    {
     "name": "stdout",
     "output_type": "stream",
     "text": [
      "\n",
      "\n",
      "wget this: %s https://sentinel-cogs.s3.us-west-2.amazonaws.com/sentinel-s2-l2a-cogs/23/K/PR/2020/6/S2B_23KPR_20200607_0_L2A/B02.tif\n",
      "wget -nv -O- https://sentinel-cogs.s3.us-west-2.amazonaws.com/sentinel-s2-l2a-cogs/23/K/PR/2020/6/S2B_23KPR_20200607_0_L2A/B02.tif | aws s3 cp - s3://dev-et-data/usmart/RIO/sentinel-s2-l2a-cogs/\n",
      "S2B_23KPR_20200607_0_L2A_B02.tif\n",
      "wget -nv -O- https://sentinel-cogs.s3.us-west-2.amazonaws.com/sentinel-s2-l2a-cogs/23/K/PR/2020/6/S2B_23KPR_20200607_0_L2A/B02.tif | aws s3 cp - s3://dev-et-data/usmart/RIO/sentinel-s2-l2a-cogs/S2B_23KPR_20200607_0_L2A_B02.tif\n",
      "\n",
      "\n",
      "wget this: %s https://sentinel-cogs.s3.us-west-2.amazonaws.com/sentinel-s2-l2a-cogs/23/K/PR/2020/5/S2B_23KPR_20200528_0_L2A/B03.tif\n",
      "wget -nv -O- https://sentinel-cogs.s3.us-west-2.amazonaws.com/sentinel-s2-l2a-cogs/23/K/PR/2020/5/S2B_23KPR_20200528_0_L2A/B03.tif | aws s3 cp - s3://dev-et-data/usmart/RIO/sentinel-s2-l2a-cogs/\n",
      "S2B_23KPR_20200528_0_L2A_B03.tif\n",
      "wget -nv -O- https://sentinel-cogs.s3.us-west-2.amazonaws.com/sentinel-s2-l2a-cogs/23/K/PR/2020/5/S2B_23KPR_20200528_0_L2A/B03.tif | aws s3 cp - s3://dev-et-data/usmart/RIO/sentinel-s2-l2a-cogs/S2B_23KPR_20200528_0_L2A_B03.tif\n"
     ]
    },
    {
     "name": "stderr",
     "output_type": "stream",
     "text": [
      "2021-09-13 16:19:19 URL:https://sentinel-cogs.s3.us-west-2.amazonaws.com/sentinel-s2-l2a-cogs/23/K/NR/2020/5/S2A_23KNR_20200523_0_L2A/B04.tif [98524555/98524555] -> \"-\" [1]\n",
      "2021-09-13 16:19:20 URL:https://sentinel-cogs.s3.us-west-2.amazonaws.com/sentinel-s2-l2a-cogs/23/K/PR/2020/6/S2B_23KPR_20200627_0_L2A/B02.tif [211788281/211788281] -> \"-\" [1]\n",
      "2021-09-13 16:19:20 URL:https://sentinel-cogs.s3.us-west-2.amazonaws.com/sentinel-s2-l2a-cogs/23/K/NR/2020/6/S2A_23KNR_20200602_0_L2A/B03.tif [126792963/126792963] -> \"-\" [1]\n",
      "16:19:20: sending https://sentinel-cogs.s3.us-west-2.amazonaws.com/sentinel-s2-l2a-cogs/23/K/NR/2020/5/S2A_23KNR_20200523_0_L2A/B03.tif\n"
     ]
    },
    {
     "name": "stdout",
     "output_type": "stream",
     "text": [
      "\n",
      "\n",
      "wget this: %s https://sentinel-cogs.s3.us-west-2.amazonaws.com/sentinel-s2-l2a-cogs/23/K/NR/2020/5/S2A_23KNR_20200523_0_L2A/B03.tif\n",
      "wget -nv -O- https://sentinel-cogs.s3.us-west-2.amazonaws.com/sentinel-s2-l2a-cogs/23/K/NR/2020/5/S2A_23KNR_20200523_0_L2A/B03.tif | aws s3 cp - s3://dev-et-data/usmart/RIO/sentinel-s2-l2a-cogs/\n",
      "S2A_23KNR_20200523_0_L2A_B03.tif\n",
      "wget -nv -O- https://sentinel-cogs.s3.us-west-2.amazonaws.com/sentinel-s2-l2a-cogs/23/K/NR/2020/5/S2A_23KNR_20200523_0_L2A/B03.tif | aws s3 cp - s3://dev-et-data/usmart/RIO/sentinel-s2-l2a-cogs/S2A_23KNR_20200523_0_L2A_B03.tif\n"
     ]
    },
    {
     "name": "stderr",
     "output_type": "stream",
     "text": [
      "16:19:21: sending https://sentinel-cogs.s3.us-west-2.amazonaws.com/sentinel-s2-l2a-cogs/23/K/NR/2020/6/S2A_23KNR_20200602_0_L2A/B02.tif\n"
     ]
    },
    {
     "name": "stdout",
     "output_type": "stream",
     "text": [
      "\n",
      "\n",
      "wget this: %s https://sentinel-cogs.s3.us-west-2.amazonaws.com/sentinel-s2-l2a-cogs/23/K/NR/2020/6/S2A_23KNR_20200602_0_L2A/B02.tif\n",
      "wget -nv -O- https://sentinel-cogs.s3.us-west-2.amazonaws.com/sentinel-s2-l2a-cogs/23/K/NR/2020/6/S2A_23KNR_20200602_0_L2A/B02.tif | aws s3 cp - s3://dev-et-data/usmart/RIO/sentinel-s2-l2a-cogs/\n",
      "S2A_23KNR_20200602_0_L2A_B02.tif\n",
      "wget -nv -O- https://sentinel-cogs.s3.us-west-2.amazonaws.com/sentinel-s2-l2a-cogs/23/K/NR/2020/6/S2A_23KNR_20200602_0_L2A/B02.tif | aws s3 cp - s3://dev-et-data/usmart/RIO/sentinel-s2-l2a-cogs/S2A_23KNR_20200602_0_L2A_B02.tif\n"
     ]
    },
    {
     "name": "stderr",
     "output_type": "stream",
     "text": [
      "16:19:21: Thread 75: finishing in 32 seconds\n",
      "16:19:21: xfer Thread 92: starting\n",
      "16:19:21: sending https://sentinel-cogs.s3.us-west-2.amazonaws.com/sentinel-s2-l2a-cogs/23/K/NR/2020/5/S2A_23KNR_20200513_0_L2A/B04.tif\n"
     ]
    },
    {
     "name": "stdout",
     "output_type": "stream",
     "text": [
      "\n",
      "\n",
      "wget this: %s https://sentinel-cogs.s3.us-west-2.amazonaws.com/sentinel-s2-l2a-cogs/23/K/NR/2020/5/S2A_23KNR_20200513_0_L2A/B04.tif\n",
      "wget -nv -O- https://sentinel-cogs.s3.us-west-2.amazonaws.com/sentinel-s2-l2a-cogs/23/K/NR/2020/5/S2A_23KNR_20200513_0_L2A/B04.tif | aws s3 cp - s3://dev-et-data/usmart/RIO/sentinel-s2-l2a-cogs/\n",
      "S2A_23KNR_20200513_0_L2A_B04.tif\n",
      "wget -nv -O- https://sentinel-cogs.s3.us-west-2.amazonaws.com/sentinel-s2-l2a-cogs/23/K/NR/2020/5/S2A_23KNR_20200513_0_L2A/B04.tif | aws s3 cp - s3://dev-et-data/usmart/RIO/sentinel-s2-l2a-cogs/S2A_23KNR_20200513_0_L2A_B04.tif\n"
     ]
    },
    {
     "name": "stderr",
     "output_type": "stream",
     "text": [
      "2021-09-13 16:19:21 URL:https://sentinel-cogs.s3.us-west-2.amazonaws.com/sentinel-s2-l2a-cogs/23/K/NR/2020/6/S2B_23KNR_20200607_0_L2A/B02.tif [85273247/85273247] -> \"-\" [1]\n",
      "16:19:22: Thread 82: finishing in 21 seconds\n",
      "16:19:22: xfer Thread 93: starting\n",
      "16:19:22: sending https://sentinel-cogs.s3.us-west-2.amazonaws.com/sentinel-s2-l2a-cogs/23/K/PR/2020/5/S2A_23KPR_20200513_0_L2A/B04.tif\n"
     ]
    },
    {
     "name": "stdout",
     "output_type": "stream",
     "text": [
      "\n",
      "\n",
      "wget this: %s https://sentinel-cogs.s3.us-west-2.amazonaws.com/sentinel-s2-l2a-cogs/23/K/PR/2020/5/S2A_23KPR_20200513_0_L2A/B04.tif\n",
      "wget -nv -O- https://sentinel-cogs.s3.us-west-2.amazonaws.com/sentinel-s2-l2a-cogs/23/K/PR/2020/5/S2A_23KPR_20200513_0_L2A/B04.tif | aws s3 cp - s3://dev-et-data/usmart/RIO/sentinel-s2-l2a-cogs/\n",
      "S2A_23KPR_20200513_0_L2A_B04.tif\n",
      "wget -nv -O- https://sentinel-cogs.s3.us-west-2.amazonaws.com/sentinel-s2-l2a-cogs/23/K/PR/2020/5/S2A_23KPR_20200513_0_L2A/B04.tif | aws s3 cp - s3://dev-et-data/usmart/RIO/sentinel-s2-l2a-cogs/S2A_23KPR_20200513_0_L2A_B04.tif\n"
     ]
    },
    {
     "name": "stderr",
     "output_type": "stream",
     "text": [
      "2021-09-13 16:19:22 URL:https://sentinel-cogs.s3.us-west-2.amazonaws.com/sentinel-s2-l2a-cogs/23/K/PR/2020/6/S2A_23KPR_20200612_0_L2A/B03.tif [206446266/206446266] -> \"-\" [1]\n",
      "2021-09-13 16:19:23 URL:https://sentinel-cogs.s3.us-west-2.amazonaws.com/sentinel-s2-l2a-cogs/23/K/NR/2020/5/S2B_23KNR_20200528_0_L2A/B03.tif [125860112/125860112] -> \"-\" [1]\n",
      "16:19:23: sending https://sentinel-cogs.s3.us-west-2.amazonaws.com/sentinel-s2-l2a-cogs/23/K/PR/2020/6/S2A_23KPR_20200612_0_L2A/B02.tif\n"
     ]
    },
    {
     "name": "stdout",
     "output_type": "stream",
     "text": [
      "\n",
      "\n",
      "wget this: %s https://sentinel-cogs.s3.us-west-2.amazonaws.com/sentinel-s2-l2a-cogs/23/K/PR/2020/6/S2A_23KPR_20200612_0_L2A/B02.tif\n",
      "wget -nv -O- https://sentinel-cogs.s3.us-west-2.amazonaws.com/sentinel-s2-l2a-cogs/23/K/PR/2020/6/S2A_23KPR_20200612_0_L2A/B02.tif | aws s3 cp - s3://dev-et-data/usmart/RIO/sentinel-s2-l2a-cogs/\n",
      "S2A_23KPR_20200612_0_L2A_B02.tif\n",
      "wget -nv -O- https://sentinel-cogs.s3.us-west-2.amazonaws.com/sentinel-s2-l2a-cogs/23/K/PR/2020/6/S2A_23KPR_20200612_0_L2A/B02.tif | aws s3 cp - s3://dev-et-data/usmart/RIO/sentinel-s2-l2a-cogs/S2A_23KPR_20200612_0_L2A_B02.tif\n"
     ]
    },
    {
     "name": "stderr",
     "output_type": "stream",
     "text": [
      "16:19:24: sending https://sentinel-cogs.s3.us-west-2.amazonaws.com/sentinel-s2-l2a-cogs/23/K/NR/2020/5/S2B_23KNR_20200528_0_L2A/B02.tif\n"
     ]
    },
    {
     "name": "stdout",
     "output_type": "stream",
     "text": [
      "\n",
      "\n",
      "wget this: %s https://sentinel-cogs.s3.us-west-2.amazonaws.com/sentinel-s2-l2a-cogs/23/K/NR/2020/5/S2B_23KNR_20200528_0_L2A/B02.tif\n",
      "wget -nv -O- https://sentinel-cogs.s3.us-west-2.amazonaws.com/sentinel-s2-l2a-cogs/23/K/NR/2020/5/S2B_23KNR_20200528_0_L2A/B02.tif | aws s3 cp - s3://dev-et-data/usmart/RIO/sentinel-s2-l2a-cogs/\n",
      "S2B_23KNR_20200528_0_L2A_B02.tif\n",
      "wget -nv -O- https://sentinel-cogs.s3.us-west-2.amazonaws.com/sentinel-s2-l2a-cogs/23/K/NR/2020/5/S2B_23KNR_20200528_0_L2A/B02.tif | aws s3 cp - s3://dev-et-data/usmart/RIO/sentinel-s2-l2a-cogs/S2B_23KNR_20200528_0_L2A_B02.tif\n"
     ]
    },
    {
     "name": "stderr",
     "output_type": "stream",
     "text": [
      "2021-09-13 16:19:24 URL:https://sentinel-cogs.s3.us-west-2.amazonaws.com/sentinel-s2-l2a-cogs/23/K/NR/2020/6/S2A_23KNR_20200612_0_L2A/B02.tif [114222219/114222219] -> \"-\" [1]\n",
      "16:19:25: Thread 80: finishing in 25 seconds\n",
      "16:19:25: xfer Thread 94: starting\n",
      "16:19:25: sending https://sentinel-cogs.s3.us-west-2.amazonaws.com/sentinel-s2-l2a-cogs/23/K/NR/2020/5/S2B_23KNR_20200508_0_L2A/B04.tif\n"
     ]
    },
    {
     "name": "stdout",
     "output_type": "stream",
     "text": [
      "\n",
      "\n",
      "wget this: %s https://sentinel-cogs.s3.us-west-2.amazonaws.com/sentinel-s2-l2a-cogs/23/K/NR/2020/5/S2B_23KNR_20200508_0_L2A/B04.tif\n",
      "wget -nv -O- https://sentinel-cogs.s3.us-west-2.amazonaws.com/sentinel-s2-l2a-cogs/23/K/NR/2020/5/S2B_23KNR_20200508_0_L2A/B04.tif | aws s3 cp - s3://dev-et-data/usmart/RIO/sentinel-s2-l2a-cogs/\n",
      "S2B_23KNR_20200508_0_L2A_B04.tif\n",
      "wget -nv -O- https://sentinel-cogs.s3.us-west-2.amazonaws.com/sentinel-s2-l2a-cogs/23/K/NR/2020/5/S2B_23KNR_20200508_0_L2A/B04.tif | aws s3 cp - s3://dev-et-data/usmart/RIO/sentinel-s2-l2a-cogs/S2B_23KNR_20200508_0_L2A_B04.tif\n"
     ]
    },
    {
     "name": "stderr",
     "output_type": "stream",
     "text": [
      "2021-09-13 16:19:26 URL:https://sentinel-cogs.s3.us-west-2.amazonaws.com/sentinel-s2-l2a-cogs/23/K/NR/2020/5/S2B_23KNR_20200518_0_L2A/B04.tif [125234066/125234066] -> \"-\" [1]\n",
      "2021-09-13 16:19:26 URL:https://sentinel-cogs.s3.us-west-2.amazonaws.com/sentinel-s2-l2a-cogs/23/K/PR/2020/6/S2A_23KPR_20200622_0_L2A/B02.tif [207789280/207789280] -> \"-\" [1]\n",
      "2021-09-13 16:19:26 URL:https://sentinel-cogs.s3.us-west-2.amazonaws.com/sentinel-s2-l2a-cogs/23/K/NR/2020/5/S2A_23KNR_20200523_0_L2A/B03.tif [98127358/98127358] -> \"-\" [1]\n",
      "16:19:27: sending https://sentinel-cogs.s3.us-west-2.amazonaws.com/sentinel-s2-l2a-cogs/23/K/NR/2020/5/S2B_23KNR_20200518_0_L2A/B03.tif\n"
     ]
    },
    {
     "name": "stdout",
     "output_type": "stream",
     "text": [
      "\n",
      "\n",
      "wget this: %s https://sentinel-cogs.s3.us-west-2.amazonaws.com/sentinel-s2-l2a-cogs/23/K/NR/2020/5/S2B_23KNR_20200518_0_L2A/B03.tif\n",
      "wget -nv -O- https://sentinel-cogs.s3.us-west-2.amazonaws.com/sentinel-s2-l2a-cogs/23/K/NR/2020/5/S2B_23KNR_20200518_0_L2A/B03.tif | aws s3 cp - s3://dev-et-data/usmart/RIO/sentinel-s2-l2a-cogs/\n",
      "S2B_23KNR_20200518_0_L2A_B03.tif\n",
      "wget -nv -O- https://sentinel-cogs.s3.us-west-2.amazonaws.com/sentinel-s2-l2a-cogs/23/K/NR/2020/5/S2B_23KNR_20200518_0_L2A/B03.tif | aws s3 cp - s3://dev-et-data/usmart/RIO/sentinel-s2-l2a-cogs/S2B_23KNR_20200518_0_L2A_B03.tif\n"
     ]
    },
    {
     "name": "stderr",
     "output_type": "stream",
     "text": [
      "2021-09-13 16:19:27 URL:https://sentinel-cogs.s3.us-west-2.amazonaws.com/sentinel-s2-l2a-cogs/23/K/PR/2020/5/S2A_23KPR_20200523_0_L2A/B04.tif [204086592/204086592] -> \"-\" [1]\n",
      "2021-09-13 16:19:27 URL:https://sentinel-cogs.s3.us-west-2.amazonaws.com/sentinel-s2-l2a-cogs/23/K/PR/2020/6/S2A_23KPR_20200602_0_L2A/B03.tif [221110929/221110929] -> \"-\" [1]\n",
      "2021-09-13 16:19:27 URL:https://sentinel-cogs.s3.us-west-2.amazonaws.com/sentinel-s2-l2a-cogs/23/K/PR/2020/5/S2B_23KPR_20200518_0_L2A/B04.tif [228849587/228849587] -> \"-\" [1]\n",
      "2021-09-13 16:19:27 URL:https://sentinel-cogs.s3.us-west-2.amazonaws.com/sentinel-s2-l2a-cogs/23/K/NR/2020/6/S2A_23KNR_20200602_0_L2A/B02.tif [118784961/118784961] -> \"-\" [1]\n",
      "2021-09-13 16:19:27 URL:https://sentinel-cogs.s3.us-west-2.amazonaws.com/sentinel-s2-l2a-cogs/23/K/PR/2020/6/S2B_23KPR_20200607_0_L2A/B02.tif [149529133/149529133] -> \"-\" [1]\n",
      "16:19:28: Thread 77: finishing in 34 seconds\n",
      "16:19:28: xfer Thread 95: starting\n",
      "16:19:28: sending https://sentinel-cogs.s3.us-west-2.amazonaws.com/sentinel-s2-l2a-cogs/23/K/PR/2020/5/S2B_23KPR_20200508_0_L2A/B04.tif\n",
      "16:19:28: sending https://sentinel-cogs.s3.us-west-2.amazonaws.com/sentinel-s2-l2a-cogs/23/K/NR/2020/5/S2A_23KNR_20200523_0_L2A/B02.tif\n"
     ]
    },
    {
     "name": "stdout",
     "output_type": "stream",
     "text": [
      "\n",
      "\n",
      "\n",
      "\n",
      "wget this: %s https://sentinel-cogs.s3.us-west-2.amazonaws.com/sentinel-s2-l2a-cogs/23/K/PR/2020/5/S2B_23KPR_20200508_0_L2A/B04.tif\n",
      "wget -nv -O- https://sentinel-cogs.s3.us-west-2.amazonaws.com/sentinel-s2-l2a-cogs/23/K/PR/2020/5/S2B_23KPR_20200508_0_L2A/B04.tif | aws s3 cp - s3://dev-et-data/usmart/RIO/sentinel-s2-l2a-cogs/\n",
      "S2B_23KPR_20200508_0_L2A_B04.tif\n",
      "wget -nv -O- https://sentinel-cogs.s3.us-west-2.amazonaws.com/sentinel-s2-l2a-cogs/23/K/PR/2020/5/S2B_23KPR_20200508_0_L2A/B04.tif | aws s3 cp - s3://dev-et-data/usmart/RIO/sentinel-s2-l2a-cogs/S2B_23KPR_20200508_0_L2A_B04.tif\n",
      "wget this: %s https://sentinel-cogs.s3.us-west-2.amazonaws.com/sentinel-s2-l2a-cogs/23/K/NR/2020/5/S2A_23KNR_20200523_0_L2A/B02.tif\n",
      "wget -nv -O- https://sentinel-cogs.s3.us-west-2.amazonaws.com/sentinel-s2-l2a-cogs/23/K/NR/2020/5/S2A_23KNR_20200523_0_L2A/B02.tif | aws s3 cp - s3://dev-et-data/usmart/RIO/sentinel-s2-l2a-cogs/\n",
      "S2A_23KNR_20200523_0_L2A_B02.tif\n",
      "wget -nv -O- https://sentinel-cogs.s3.us-west-2.amazonaws.com/sentinel-s2-l2a-cogs/23/K/NR/2020/5/S2A_23KNR_20200523_0_L2A/B02.tif | aws s3 cp - s3://dev-et-data/usmart/RIO/sentinel-s2-l2a-cogs/S2A_23KNR_20200523_0_L2A_B02.tif\n"
     ]
    },
    {
     "name": "stderr",
     "output_type": "stream",
     "text": [
      "16:19:28: sending https://sentinel-cogs.s3.us-west-2.amazonaws.com/sentinel-s2-l2a-cogs/23/K/PR/2020/6/S2A_23KPR_20200602_0_L2A/B02.tif\n",
      "16:19:28: sending https://sentinel-cogs.s3.us-west-2.amazonaws.com/sentinel-s2-l2a-cogs/23/K/PR/2020/5/S2A_23KPR_20200523_0_L2A/B03.tif\n",
      "16:19:28: Thread 84: finishing in 24 seconds\n",
      "16:19:28: xfer Thread 96: starting\n",
      "16:19:28: sending https://sentinel-cogs.s3.us-west-2.amazonaws.com/sentinel-s2-l2a-cogs/23/K/NR/2020/5/S2A_23KNR_20200503_0_L2A/B04.tif\n"
     ]
    },
    {
     "name": "stdout",
     "output_type": "stream",
     "text": [
      "\n",
      "\n",
      "wget this: %s https://sentinel-cogs.s3.us-west-2.amazonaws.com/sentinel-s2-l2a-cogs/23/K/PR/2020/6/S2A_23KPR_20200602_0_L2A/B02.tif\n",
      "wget -nv -O- https://sentinel-cogs.s3.us-west-2.amazonaws.com/sentinel-s2-l2a-cogs/23/K/PR/2020/6/S2A_23KPR_20200602_0_L2A/B02.tif | aws s3 cp - s3://dev-et-data/usmart/RIO/sentinel-s2-l2a-cogs/\n",
      "S2A_23KPR_20200602_0_L2A_B02.tif\n",
      "wget -nv -O- https://sentinel-cogs.s3.us-west-2.amazonaws.com/sentinel-s2-l2a-cogs/23/K/PR/2020/6/S2A_23KPR_20200602_0_L2A/B02.tif | aws s3 cp - s3://dev-et-data/usmart/RIO/sentinel-s2-l2a-cogs/S2A_23KPR_20200602_0_L2A_B02.tif\n",
      "\n",
      "\n",
      "wget this: %s https://sentinel-cogs.s3.us-west-2.amazonaws.com/sentinel-s2-l2a-cogs/23/K/PR/2020/5/S2A_23KPR_20200523_0_L2A/B03.tif\n",
      "wget -nv -O- https://sentinel-cogs.s3.us-west-2.amazonaws.com/sentinel-s2-l2a-cogs/23/K/PR/2020/5/S2A_23KPR_20200523_0_L2A/B03.tif | aws s3 cp - s3://dev-et-data/usmart/RIO/sentinel-s2-l2a-cogs/\n",
      "S2A_23KPR_20200523_0_L2A_B03.tif\n",
      "wget -nv -O- https://sentinel-cogs.s3.us-west-2.amazonaws.com/sentinel-s2-l2a-cogs/23/K/PR/2020/5/S2A_23KPR_20200523_0_L2A/B03.tif | aws s3 cp - s3://dev-et-data/usmart/RIO/sentinel-s2-l2a-cogs/S2A_23KPR_20200523_0_L2A_B03.tif\n",
      "\n",
      "\n",
      "wget this: %s https://sentinel-cogs.s3.us-west-2.amazonaws.com/sentinel-s2-l2a-cogs/23/K/NR/2020/5/S2A_23KNR_20200503_0_L2A/B04.tif\n",
      "wget -nv -O- https://sentinel-cogs.s3.us-west-2.amazonaws.com/sentinel-s2-l2a-cogs/23/K/NR/2020/5/S2A_23KNR_20200503_0_L2A/B04.tif | aws s3 cp - s3://dev-et-data/usmart/RIO/sentinel-s2-l2a-cogs/\n",
      "S2A_23KNR_20200503_0_L2A_B04.tif\n",
      "wget -nv -O- https://sentinel-cogs.s3.us-west-2.amazonaws.com/sentinel-s2-l2a-cogs/23/K/NR/2020/5/S2A_23KNR_20200503_0_L2A/B04.tif | aws s3 cp - s3://dev-et-data/usmart/RIO/sentinel-s2-l2a-cogs/S2A_23KNR_20200503_0_L2A_B04.tif\n"
     ]
    },
    {
     "name": "stderr",
     "output_type": "stream",
     "text": [
      "16:19:28: Thread 83: finishing in 26 seconds\n",
      "16:19:28: xfer Thread 97: starting\n",
      "16:19:28: sending https://sentinel-cogs.s3.us-west-2.amazonaws.com/sentinel-s2-l2a-cogs/23/K/PR/2020/5/S2A_23KPR_20200503_0_L2A/B04.tif\n",
      "16:19:28: sending https://sentinel-cogs.s3.us-west-2.amazonaws.com/sentinel-s2-l2a-cogs/23/K/PR/2020/5/S2B_23KPR_20200518_0_L2A/B03.tif\n"
     ]
    },
    {
     "name": "stdout",
     "output_type": "stream",
     "text": [
      "\n",
      "\n",
      "wget this: %s https://sentinel-cogs.s3.us-west-2.amazonaws.com/sentinel-s2-l2a-cogs/23/K/PR/2020/5/S2A_23KPR_20200503_0_L2A/B04.tif\n",
      "wget -nv -O- https://sentinel-cogs.s3.us-west-2.amazonaws.com/sentinel-s2-l2a-cogs/23/K/PR/2020/5/S2A_23KPR_20200503_0_L2A/B04.tif | aws s3 cp - s3://dev-et-data/usmart/RIO/sentinel-s2-l2a-cogs/\n",
      "S2A_23KPR_20200503_0_L2A_B04.tif\n",
      "wget -nv -O- https://sentinel-cogs.s3.us-west-2.amazonaws.com/sentinel-s2-l2a-cogs/23/K/PR/2020/5/S2A_23KPR_20200503_0_L2A/B04.tif | aws s3 cp - s3://dev-et-data/usmart/RIO/sentinel-s2-l2a-cogs/S2A_23KPR_20200503_0_L2A_B04.tif\n",
      "\n",
      "\n",
      "wget this: %s https://sentinel-cogs.s3.us-west-2.amazonaws.com/sentinel-s2-l2a-cogs/23/K/PR/2020/5/S2B_23KPR_20200518_0_L2A/B03.tif\n",
      "wget -nv -O- https://sentinel-cogs.s3.us-west-2.amazonaws.com/sentinel-s2-l2a-cogs/23/K/PR/2020/5/S2B_23KPR_20200518_0_L2A/B03.tif | aws s3 cp - s3://dev-et-data/usmart/RIO/sentinel-s2-l2a-cogs/\n",
      "S2B_23KPR_20200518_0_L2A_B03.tif\n",
      "wget -nv -O- https://sentinel-cogs.s3.us-west-2.amazonaws.com/sentinel-s2-l2a-cogs/23/K/PR/2020/5/S2B_23KPR_20200518_0_L2A/B03.tif | aws s3 cp - s3://dev-et-data/usmart/RIO/sentinel-s2-l2a-cogs/S2B_23KPR_20200518_0_L2A_B03.tif\n"
     ]
    },
    {
     "name": "stderr",
     "output_type": "stream",
     "text": [
      "2021-09-13 16:19:29 URL:https://sentinel-cogs.s3.us-west-2.amazonaws.com/sentinel-s2-l2a-cogs/23/K/PR/2020/6/S2B_23KPR_20200617_0_L2A/B02.tif [216919871/216919871] -> \"-\" [1]\n",
      "16:19:29: Thread 79: finishing in 35 seconds\n",
      "16:19:29: xfer Thread 98: starting\n",
      "16:19:29: sending https://sentinel-cogs.s3.us-west-2.amazonaws.com/sentinel-s2-l2a-cogs/23/K/NR/2020/4/S2B_23KNR_20200428_0_L2A/B04.tif\n"
     ]
    },
    {
     "name": "stdout",
     "output_type": "stream",
     "text": [
      "\n",
      "\n",
      "wget this: %s https://sentinel-cogs.s3.us-west-2.amazonaws.com/sentinel-s2-l2a-cogs/23/K/NR/2020/4/S2B_23KNR_20200428_0_L2A/B04.tif\n",
      "wget -nv -O- https://sentinel-cogs.s3.us-west-2.amazonaws.com/sentinel-s2-l2a-cogs/23/K/NR/2020/4/S2B_23KNR_20200428_0_L2A/B04.tif | aws s3 cp - s3://dev-et-data/usmart/RIO/sentinel-s2-l2a-cogs/\n",
      "S2B_23KNR_20200428_0_L2A_B04.tif\n",
      "wget -nv -O- https://sentinel-cogs.s3.us-west-2.amazonaws.com/sentinel-s2-l2a-cogs/23/K/NR/2020/4/S2B_23KNR_20200428_0_L2A/B04.tif | aws s3 cp - s3://dev-et-data/usmart/RIO/sentinel-s2-l2a-cogs/S2B_23KNR_20200428_0_L2A_B04.tif\n"
     ]
    },
    {
     "name": "stderr",
     "output_type": "stream",
     "text": [
      "2021-09-13 16:19:29 URL:https://sentinel-cogs.s3.us-west-2.amazonaws.com/sentinel-s2-l2a-cogs/23/K/NR/2020/5/S2A_23KNR_20200513_0_L2A/B04.tif [125774878/125774878] -> \"-\" [1]\n",
      "16:19:30: sending https://sentinel-cogs.s3.us-west-2.amazonaws.com/sentinel-s2-l2a-cogs/23/K/NR/2020/5/S2A_23KNR_20200513_0_L2A/B03.tif\n"
     ]
    },
    {
     "name": "stdout",
     "output_type": "stream",
     "text": [
      "\n",
      "\n",
      "wget this: %s https://sentinel-cogs.s3.us-west-2.amazonaws.com/sentinel-s2-l2a-cogs/23/K/NR/2020/5/S2A_23KNR_20200513_0_L2A/B03.tif\n",
      "wget -nv -O- https://sentinel-cogs.s3.us-west-2.amazonaws.com/sentinel-s2-l2a-cogs/23/K/NR/2020/5/S2A_23KNR_20200513_0_L2A/B03.tif | aws s3 cp - s3://dev-et-data/usmart/RIO/sentinel-s2-l2a-cogs/\n",
      "S2A_23KNR_20200513_0_L2A_B03.tif\n",
      "wget -nv -O- https://sentinel-cogs.s3.us-west-2.amazonaws.com/sentinel-s2-l2a-cogs/23/K/NR/2020/5/S2A_23KNR_20200513_0_L2A/B03.tif | aws s3 cp - s3://dev-et-data/usmart/RIO/sentinel-s2-l2a-cogs/S2A_23KNR_20200513_0_L2A_B03.tif\n"
     ]
    },
    {
     "name": "stderr",
     "output_type": "stream",
     "text": [
      "2021-09-13 16:19:30 URL:https://sentinel-cogs.s3.us-west-2.amazonaws.com/sentinel-s2-l2a-cogs/23/K/PR/2020/5/S2B_23KPR_20200528_0_L2A/B03.tif [226057225/226057225] -> \"-\" [1]\n",
      "2021-09-13 16:19:31 URL:https://sentinel-cogs.s3.us-west-2.amazonaws.com/sentinel-s2-l2a-cogs/23/K/NR/2020/5/S2B_23KNR_20200528_0_L2A/B02.tif [119172015/119172015] -> \"-\" [1]\n",
      "16:19:31: sending https://sentinel-cogs.s3.us-west-2.amazonaws.com/sentinel-s2-l2a-cogs/23/K/PR/2020/5/S2B_23KPR_20200528_0_L2A/B02.tif\n"
     ]
    },
    {
     "name": "stdout",
     "output_type": "stream",
     "text": [
      "\n",
      "\n",
      "wget this: %s https://sentinel-cogs.s3.us-west-2.amazonaws.com/sentinel-s2-l2a-cogs/23/K/PR/2020/5/S2B_23KPR_20200528_0_L2A/B02.tif\n",
      "wget -nv -O- https://sentinel-cogs.s3.us-west-2.amazonaws.com/sentinel-s2-l2a-cogs/23/K/PR/2020/5/S2B_23KPR_20200528_0_L2A/B02.tif | aws s3 cp - s3://dev-et-data/usmart/RIO/sentinel-s2-l2a-cogs/\n",
      "S2B_23KPR_20200528_0_L2A_B02.tif\n",
      "wget -nv -O- https://sentinel-cogs.s3.us-west-2.amazonaws.com/sentinel-s2-l2a-cogs/23/K/PR/2020/5/S2B_23KPR_20200528_0_L2A/B02.tif | aws s3 cp - s3://dev-et-data/usmart/RIO/sentinel-s2-l2a-cogs/S2B_23KPR_20200528_0_L2A_B02.tif\n"
     ]
    },
    {
     "name": "stderr",
     "output_type": "stream",
     "text": [
      "16:19:32: Thread 86: finishing in 27 seconds\n",
      "16:19:32: xfer Thread 99: starting\n",
      "16:19:32: sending https://sentinel-cogs.s3.us-west-2.amazonaws.com/sentinel-s2-l2a-cogs/23/K/PR/2020/4/S2B_23KPR_20200428_0_L2A/B04.tif\n"
     ]
    },
    {
     "name": "stdout",
     "output_type": "stream",
     "text": [
      "\n",
      "\n",
      "wget this: %s https://sentinel-cogs.s3.us-west-2.amazonaws.com/sentinel-s2-l2a-cogs/23/K/PR/2020/4/S2B_23KPR_20200428_0_L2A/B04.tif\n",
      "wget -nv -O- https://sentinel-cogs.s3.us-west-2.amazonaws.com/sentinel-s2-l2a-cogs/23/K/PR/2020/4/S2B_23KPR_20200428_0_L2A/B04.tif | aws s3 cp - s3://dev-et-data/usmart/RIO/sentinel-s2-l2a-cogs/\n",
      "S2B_23KPR_20200428_0_L2A_B04.tif\n",
      "wget -nv -O- https://sentinel-cogs.s3.us-west-2.amazonaws.com/sentinel-s2-l2a-cogs/23/K/PR/2020/4/S2B_23KPR_20200428_0_L2A/B04.tif | aws s3 cp - s3://dev-et-data/usmart/RIO/sentinel-s2-l2a-cogs/S2B_23KPR_20200428_0_L2A_B04.tif\n"
     ]
    },
    {
     "name": "stderr",
     "output_type": "stream",
     "text": [
      "2021-09-13 16:19:33 URL:https://sentinel-cogs.s3.us-west-2.amazonaws.com/sentinel-s2-l2a-cogs/23/K/NR/2020/5/S2B_23KNR_20200508_0_L2A/B04.tif [128883755/128883755] -> \"-\" [1]\n",
      "2021-09-13 16:19:33 URL:https://sentinel-cogs.s3.us-west-2.amazonaws.com/sentinel-s2-l2a-cogs/23/K/NR/2020/5/S2A_23KNR_20200523_0_L2A/B02.tif [99065127/99065127] -> \"-\" [1]\n",
      "16:19:34: sending https://sentinel-cogs.s3.us-west-2.amazonaws.com/sentinel-s2-l2a-cogs/23/K/NR/2020/5/S2B_23KNR_20200508_0_L2A/B03.tif\n"
     ]
    },
    {
     "name": "stdout",
     "output_type": "stream",
     "text": [
      "\n",
      "\n",
      "wget this: %s https://sentinel-cogs.s3.us-west-2.amazonaws.com/sentinel-s2-l2a-cogs/23/K/NR/2020/5/S2B_23KNR_20200508_0_L2A/B03.tif\n",
      "wget -nv -O- https://sentinel-cogs.s3.us-west-2.amazonaws.com/sentinel-s2-l2a-cogs/23/K/NR/2020/5/S2B_23KNR_20200508_0_L2A/B03.tif | aws s3 cp - s3://dev-et-data/usmart/RIO/sentinel-s2-l2a-cogs/\n",
      "S2B_23KNR_20200508_0_L2A_B03.tif\n",
      "wget -nv -O- https://sentinel-cogs.s3.us-west-2.amazonaws.com/sentinel-s2-l2a-cogs/23/K/NR/2020/5/S2B_23KNR_20200508_0_L2A/B03.tif | aws s3 cp - s3://dev-et-data/usmart/RIO/sentinel-s2-l2a-cogs/S2B_23KNR_20200508_0_L2A_B03.tif\n"
     ]
    },
    {
     "name": "stderr",
     "output_type": "stream",
     "text": [
      "2021-09-13 16:19:34 URL:https://sentinel-cogs.s3.us-west-2.amazonaws.com/sentinel-s2-l2a-cogs/23/K/PR/2020/5/S2A_23KPR_20200513_0_L2A/B04.tif [221966188/221966188] -> \"-\" [1]\n",
      "2021-09-13 16:19:34 URL:https://sentinel-cogs.s3.us-west-2.amazonaws.com/sentinel-s2-l2a-cogs/23/K/NR/2020/5/S2A_23KNR_20200503_0_L2A/B04.tif [124531626/124531626] -> \"-\" [1]\n",
      "16:19:34: Thread 88: finishing in 21 seconds\n",
      "16:19:34: xfer Thread 100: starting\n",
      "16:19:34: sending https://sentinel-cogs.s3.us-west-2.amazonaws.com/sentinel-s2-l2a-cogs/23/K/NR/2020/4/S2A_23KNR_20200423_0_L2A/B04.tif\n"
     ]
    },
    {
     "name": "stdout",
     "output_type": "stream",
     "text": [
      "\n",
      "\n",
      "wget this: %s https://sentinel-cogs.s3.us-west-2.amazonaws.com/sentinel-s2-l2a-cogs/23/K/NR/2020/4/S2A_23KNR_20200423_0_L2A/B04.tif\n",
      "wget -nv -O- https://sentinel-cogs.s3.us-west-2.amazonaws.com/sentinel-s2-l2a-cogs/23/K/NR/2020/4/S2A_23KNR_20200423_0_L2A/B04.tif | aws s3 cp - s3://dev-et-data/usmart/RIO/sentinel-s2-l2a-cogs/\n",
      "S2A_23KNR_20200423_0_L2A_B04.tif\n",
      "wget -nv -O- https://sentinel-cogs.s3.us-west-2.amazonaws.com/sentinel-s2-l2a-cogs/23/K/NR/2020/4/S2A_23KNR_20200423_0_L2A/B04.tif | aws s3 cp - s3://dev-et-data/usmart/RIO/sentinel-s2-l2a-cogs/S2A_23KNR_20200423_0_L2A_B04.tif\n"
     ]
    },
    {
     "name": "stderr",
     "output_type": "stream",
     "text": [
      "2021-09-13 16:19:34 URL:https://sentinel-cogs.s3.us-west-2.amazonaws.com/sentinel-s2-l2a-cogs/23/K/PR/2020/6/S2A_23KPR_20200612_0_L2A/B02.tif [199014665/199014665] -> \"-\" [1]\n",
      "2021-09-13 16:19:35 URL:https://sentinel-cogs.s3.us-west-2.amazonaws.com/sentinel-s2-l2a-cogs/23/K/NR/2020/5/S2B_23KNR_20200518_0_L2A/B03.tif [125513642/125513642] -> \"-\" [1]\n",
      "16:19:35: sending https://sentinel-cogs.s3.us-west-2.amazonaws.com/sentinel-s2-l2a-cogs/23/K/PR/2020/5/S2A_23KPR_20200513_0_L2A/B03.tif\n"
     ]
    },
    {
     "name": "stdout",
     "output_type": "stream",
     "text": [
      "\n",
      "\n",
      "wget this: %s https://sentinel-cogs.s3.us-west-2.amazonaws.com/sentinel-s2-l2a-cogs/23/K/PR/2020/5/S2A_23KPR_20200513_0_L2A/B03.tif\n",
      "wget -nv -O- https://sentinel-cogs.s3.us-west-2.amazonaws.com/sentinel-s2-l2a-cogs/23/K/PR/2020/5/S2A_23KPR_20200513_0_L2A/B03.tif | aws s3 cp - s3://dev-et-data/usmart/RIO/sentinel-s2-l2a-cogs/\n",
      "S2A_23KPR_20200513_0_L2A_B03.tif\n",
      "wget -nv -O- https://sentinel-cogs.s3.us-west-2.amazonaws.com/sentinel-s2-l2a-cogs/23/K/PR/2020/5/S2A_23KPR_20200513_0_L2A/B03.tif | aws s3 cp - s3://dev-et-data/usmart/RIO/sentinel-s2-l2a-cogs/S2A_23KPR_20200513_0_L2A_B03.tif\n"
     ]
    },
    {
     "name": "stderr",
     "output_type": "stream",
     "text": [
      "16:19:35: sending https://sentinel-cogs.s3.us-west-2.amazonaws.com/sentinel-s2-l2a-cogs/23/K/NR/2020/5/S2A_23KNR_20200503_0_L2A/B03.tif\n",
      "16:19:35: Thread 81: finishing in 35 seconds\n",
      "16:19:35: xfer Thread 101: starting\n",
      "16:19:35: sending https://sentinel-cogs.s3.us-west-2.amazonaws.com/sentinel-s2-l2a-cogs/23/K/PR/2020/4/S2A_23KPR_20200423_0_L2A/B04.tif\n"
     ]
    },
    {
     "name": "stdout",
     "output_type": "stream",
     "text": [
      "\n",
      "\n",
      "wget this: %s https://sentinel-cogs.s3.us-west-2.amazonaws.com/sentinel-s2-l2a-cogs/23/K/NR/2020/5/S2A_23KNR_20200503_0_L2A/B03.tif\n",
      "wget -nv -O- https://sentinel-cogs.s3.us-west-2.amazonaws.com/sentinel-s2-l2a-cogs/23/K/NR/2020/5/S2A_23KNR_20200503_0_L2A/B03.tif | aws s3 cp - s3://dev-et-data/usmart/RIO/sentinel-s2-l2a-cogs/\n",
      "S2A_23KNR_20200503_0_L2A_B03.tif\n",
      "wget -nv -O- https://sentinel-cogs.s3.us-west-2.amazonaws.com/sentinel-s2-l2a-cogs/23/K/NR/2020/5/S2A_23KNR_20200503_0_L2A/B03.tif | aws s3 cp - s3://dev-et-data/usmart/RIO/sentinel-s2-l2a-cogs/S2A_23KNR_20200503_0_L2A_B03.tif\n",
      "\n",
      "\n",
      "wget this: %s https://sentinel-cogs.s3.us-west-2.amazonaws.com/sentinel-s2-l2a-cogs/23/K/PR/2020/4/S2A_23KPR_20200423_0_L2A/B04.tif\n",
      "wget -nv -O- https://sentinel-cogs.s3.us-west-2.amazonaws.com/sentinel-s2-l2a-cogs/23/K/PR/2020/4/S2A_23KPR_20200423_0_L2A/B04.tif | aws s3 cp - s3://dev-et-data/usmart/RIO/sentinel-s2-l2a-cogs/\n",
      "S2A_23KPR_20200423_0_L2A_B04.tif\n",
      "wget -nv -O- https://sentinel-cogs.s3.us-west-2.amazonaws.com/sentinel-s2-l2a-cogs/23/K/PR/2020/4/S2A_23KPR_20200423_0_L2A/B04.tif | aws s3 cp - s3://dev-et-data/usmart/RIO/sentinel-s2-l2a-cogs/S2A_23KPR_20200423_0_L2A_B04.tif\n"
     ]
    },
    {
     "name": "stderr",
     "output_type": "stream",
     "text": [
      "16:19:36: sending https://sentinel-cogs.s3.us-west-2.amazonaws.com/sentinel-s2-l2a-cogs/23/K/NR/2020/5/S2B_23KNR_20200518_0_L2A/B02.tif\n"
     ]
    },
    {
     "name": "stdout",
     "output_type": "stream",
     "text": [
      "\n",
      "\n",
      "wget this: %s https://sentinel-cogs.s3.us-west-2.amazonaws.com/sentinel-s2-l2a-cogs/23/K/NR/2020/5/S2B_23KNR_20200518_0_L2A/B02.tif\n",
      "wget -nv -O- https://sentinel-cogs.s3.us-west-2.amazonaws.com/sentinel-s2-l2a-cogs/23/K/NR/2020/5/S2B_23KNR_20200518_0_L2A/B02.tif | aws s3 cp - s3://dev-et-data/usmart/RIO/sentinel-s2-l2a-cogs/\n",
      "S2B_23KNR_20200518_0_L2A_B02.tif\n",
      "wget -nv -O- https://sentinel-cogs.s3.us-west-2.amazonaws.com/sentinel-s2-l2a-cogs/23/K/NR/2020/5/S2B_23KNR_20200518_0_L2A/B02.tif | aws s3 cp - s3://dev-et-data/usmart/RIO/sentinel-s2-l2a-cogs/S2B_23KNR_20200518_0_L2A_B02.tif\n"
     ]
    },
    {
     "name": "stderr",
     "output_type": "stream",
     "text": [
      "2021-09-13 16:19:37 URL:https://sentinel-cogs.s3.us-west-2.amazonaws.com/sentinel-s2-l2a-cogs/23/K/PR/2020/6/S2A_23KPR_20200602_0_L2A/B02.tif [206967024/206967024] -> \"-\" [1]\n",
      "2021-09-13 16:19:37 URL:https://sentinel-cogs.s3.us-west-2.amazonaws.com/sentinel-s2-l2a-cogs/23/K/NR/2020/4/S2B_23KNR_20200428_0_L2A/B04.tif [123399169/123399169] -> \"-\" [1]\n",
      "2021-09-13 16:19:37 URL:https://sentinel-cogs.s3.us-west-2.amazonaws.com/sentinel-s2-l2a-cogs/23/K/PR/2020/5/S2A_23KPR_20200523_0_L2A/B03.tif [203575940/203575940] -> \"-\" [1]\n",
      "2021-09-13 16:19:37 URL:https://sentinel-cogs.s3.us-west-2.amazonaws.com/sentinel-s2-l2a-cogs/23/K/NR/2020/5/S2A_23KNR_20200513_0_L2A/B03.tif [125263173/125263173] -> \"-\" [1]\n",
      "16:19:38: Thread 85: finishing in 33 seconds\n",
      "16:19:38: xfer Thread 102: starting\n",
      "16:19:38: sending https://sentinel-cogs.s3.us-west-2.amazonaws.com/sentinel-s2-l2a-cogs/23/K/NR/2020/4/S2B_23KNR_20200418_0_L2A/B04.tif\n"
     ]
    },
    {
     "name": "stdout",
     "output_type": "stream",
     "text": [
      "\n",
      "\n",
      "wget this: %s https://sentinel-cogs.s3.us-west-2.amazonaws.com/sentinel-s2-l2a-cogs/23/K/NR/2020/4/S2B_23KNR_20200418_0_L2A/B04.tif\n",
      "wget -nv -O- https://sentinel-cogs.s3.us-west-2.amazonaws.com/sentinel-s2-l2a-cogs/23/K/NR/2020/4/S2B_23KNR_20200418_0_L2A/B04.tif | aws s3 cp - s3://dev-et-data/usmart/RIO/sentinel-s2-l2a-cogs/\n",
      "S2B_23KNR_20200418_0_L2A_B04.tif\n",
      "wget -nv -O- https://sentinel-cogs.s3.us-west-2.amazonaws.com/sentinel-s2-l2a-cogs/23/K/NR/2020/4/S2B_23KNR_20200418_0_L2A/B04.tif | aws s3 cp - s3://dev-et-data/usmart/RIO/sentinel-s2-l2a-cogs/S2B_23KNR_20200418_0_L2A_B04.tif\n"
     ]
    },
    {
     "name": "stderr",
     "output_type": "stream",
     "text": [
      "2021-09-13 16:19:38 URL:https://sentinel-cogs.s3.us-west-2.amazonaws.com/sentinel-s2-l2a-cogs/23/K/PR/2020/5/S2B_23KPR_20200508_0_L2A/B04.tif [226108221/226108221] -> \"-\" [1]\n",
      "2021-09-13 16:19:38 URL:https://sentinel-cogs.s3.us-west-2.amazonaws.com/sentinel-s2-l2a-cogs/23/K/PR/2020/5/S2A_23KPR_20200503_0_L2A/B04.tif [219059778/219059778] -> \"-\" [1]\n",
      "16:19:38: sending https://sentinel-cogs.s3.us-west-2.amazonaws.com/sentinel-s2-l2a-cogs/23/K/NR/2020/5/S2A_23KNR_20200513_0_L2A/B02.tif\n",
      "16:19:38: sending https://sentinel-cogs.s3.us-west-2.amazonaws.com/sentinel-s2-l2a-cogs/23/K/NR/2020/4/S2B_23KNR_20200428_0_L2A/B03.tif\n"
     ]
    },
    {
     "name": "stdout",
     "output_type": "stream",
     "text": [
      "\n",
      "\n",
      "wget this: %s https://sentinel-cogs.s3.us-west-2.amazonaws.com/sentinel-s2-l2a-cogs/23/K/NR/2020/5/S2A_23KNR_20200513_0_L2A/B02.tif\n",
      "wget -nv -O- https://sentinel-cogs.s3.us-west-2.amazonaws.com/sentinel-s2-l2a-cogs/23/K/NR/2020/5/S2A_23KNR_20200513_0_L2A/B02.tif | aws s3 cp - s3://dev-et-data/usmart/RIO/sentinel-s2-l2a-cogs/\n",
      "S2A_23KNR_20200513_0_L2A_B02.tif\n",
      "wget -nv -O- https://sentinel-cogs.s3.us-west-2.amazonaws.com/sentinel-s2-l2a-cogs/23/K/NR/2020/5/S2A_23KNR_20200513_0_L2A/B02.tif | aws s3 cp - s3://dev-et-data/usmart/RIO/sentinel-s2-l2a-cogs/S2A_23KNR_20200513_0_L2A_B02.tif\n",
      "\n",
      "\n",
      "wget this: %s https://sentinel-cogs.s3.us-west-2.amazonaws.com/sentinel-s2-l2a-cogs/23/K/NR/2020/4/S2B_23KNR_20200428_0_L2A/B03.tif\n",
      "wget -nv -O- https://sentinel-cogs.s3.us-west-2.amazonaws.com/sentinel-s2-l2a-cogs/23/K/NR/2020/4/S2B_23KNR_20200428_0_L2A/B03.tif | aws s3 cp - s3://dev-et-data/usmart/RIO/sentinel-s2-l2a-cogs/\n",
      "S2B_23KNR_20200428_0_L2A_B03.tif\n",
      "wget -nv -O- https://sentinel-cogs.s3.us-west-2.amazonaws.com/sentinel-s2-l2a-cogs/23/K/NR/2020/4/S2B_23KNR_20200428_0_L2A/B03.tif | aws s3 cp - s3://dev-et-data/usmart/RIO/sentinel-s2-l2a-cogs/S2B_23KNR_20200428_0_L2A_B03.tif\n"
     ]
    },
    {
     "name": "stderr",
     "output_type": "stream",
     "text": [
      "16:19:39: sending https://sentinel-cogs.s3.us-west-2.amazonaws.com/sentinel-s2-l2a-cogs/23/K/PR/2020/5/S2B_23KPR_20200508_0_L2A/B03.tif\n",
      "16:19:39: sending https://sentinel-cogs.s3.us-west-2.amazonaws.com/sentinel-s2-l2a-cogs/23/K/PR/2020/5/S2A_23KPR_20200523_0_L2A/B02.tif\n"
     ]
    },
    {
     "name": "stdout",
     "output_type": "stream",
     "text": [
      "\n",
      "\n",
      "wget this: %s https://sentinel-cogs.s3.us-west-2.amazonaws.com/sentinel-s2-l2a-cogs/23/K/PR/2020/5/S2B_23KPR_20200508_0_L2A/B03.tif\n",
      "wget -nv -O- https://sentinel-cogs.s3.us-west-2.amazonaws.com/sentinel-s2-l2a-cogs/23/K/PR/2020/5/S2B_23KPR_20200508_0_L2A/B03.tif | aws s3 cp - s3://dev-et-data/usmart/RIO/sentinel-s2-l2a-cogs/\n",
      "S2B_23KPR_20200508_0_L2A_B03.tif\n",
      "wget -nv -O- https://sentinel-cogs.s3.us-west-2.amazonaws.com/sentinel-s2-l2a-cogs/23/K/PR/2020/5/S2B_23KPR_20200508_0_L2A/B03.tif | aws s3 cp - s3://dev-et-data/usmart/RIO/sentinel-s2-l2a-cogs/S2B_23KPR_20200508_0_L2A_B03.tif\n",
      "\n",
      "\n",
      "wget this: %s https://sentinel-cogs.s3.us-west-2.amazonaws.com/sentinel-s2-l2a-cogs/23/K/PR/2020/5/S2A_23KPR_20200523_0_L2A/B02.tif\n",
      "wget -nv -O- https://sentinel-cogs.s3.us-west-2.amazonaws.com/sentinel-s2-l2a-cogs/23/K/PR/2020/5/S2A_23KPR_20200523_0_L2A/B02.tif | aws s3 cp - s3://dev-et-data/usmart/RIO/sentinel-s2-l2a-cogs/\n",
      "S2A_23KPR_20200523_0_L2A_B02.tif\n",
      "wget -nv -O- https://sentinel-cogs.s3.us-west-2.amazonaws.com/sentinel-s2-l2a-cogs/23/K/PR/2020/5/S2A_23KPR_20200523_0_L2A/B02.tif | aws s3 cp - s3://dev-et-data/usmart/RIO/sentinel-s2-l2a-cogs/S2A_23KPR_20200523_0_L2A_B02.tif\n"
     ]
    },
    {
     "name": "stderr",
     "output_type": "stream",
     "text": [
      "16:19:39: sending https://sentinel-cogs.s3.us-west-2.amazonaws.com/sentinel-s2-l2a-cogs/23/K/PR/2020/5/S2A_23KPR_20200503_0_L2A/B03.tif\n"
     ]
    },
    {
     "name": "stdout",
     "output_type": "stream",
     "text": [
      "\n",
      "\n",
      "wget this: %s https://sentinel-cogs.s3.us-west-2.amazonaws.com/sentinel-s2-l2a-cogs/23/K/PR/2020/5/S2A_23KPR_20200503_0_L2A/B03.tif\n",
      "wget -nv -O- https://sentinel-cogs.s3.us-west-2.amazonaws.com/sentinel-s2-l2a-cogs/23/K/PR/2020/5/S2A_23KPR_20200503_0_L2A/B03.tif | aws s3 cp - s3://dev-et-data/usmart/RIO/sentinel-s2-l2a-cogs/\n",
      "S2A_23KPR_20200503_0_L2A_B03.tif\n",
      "wget -nv -O- https://sentinel-cogs.s3.us-west-2.amazonaws.com/sentinel-s2-l2a-cogs/23/K/PR/2020/5/S2A_23KPR_20200503_0_L2A/B03.tif | aws s3 cp - s3://dev-et-data/usmart/RIO/sentinel-s2-l2a-cogs/S2A_23KPR_20200503_0_L2A_B03.tif\n"
     ]
    },
    {
     "name": "stderr",
     "output_type": "stream",
     "text": [
      "2021-09-13 16:19:40 URL:https://sentinel-cogs.s3.us-west-2.amazonaws.com/sentinel-s2-l2a-cogs/23/K/NR/2020/5/S2B_23KNR_20200508_0_L2A/B03.tif [128760125/128760125] -> \"-\" [1]\n",
      "16:19:41: sending https://sentinel-cogs.s3.us-west-2.amazonaws.com/sentinel-s2-l2a-cogs/23/K/NR/2020/5/S2B_23KNR_20200508_0_L2A/B02.tif\n"
     ]
    },
    {
     "name": "stdout",
     "output_type": "stream",
     "text": [
      "\n",
      "\n",
      "wget this: %s https://sentinel-cogs.s3.us-west-2.amazonaws.com/sentinel-s2-l2a-cogs/23/K/NR/2020/5/S2B_23KNR_20200508_0_L2A/B02.tif\n",
      "wget -nv -O- https://sentinel-cogs.s3.us-west-2.amazonaws.com/sentinel-s2-l2a-cogs/23/K/NR/2020/5/S2B_23KNR_20200508_0_L2A/B02.tif | aws s3 cp - s3://dev-et-data/usmart/RIO/sentinel-s2-l2a-cogs/\n",
      "S2B_23KNR_20200508_0_L2A_B02.tif\n",
      "wget -nv -O- https://sentinel-cogs.s3.us-west-2.amazonaws.com/sentinel-s2-l2a-cogs/23/K/NR/2020/5/S2B_23KNR_20200508_0_L2A/B02.tif | aws s3 cp - s3://dev-et-data/usmart/RIO/sentinel-s2-l2a-cogs/S2B_23KNR_20200508_0_L2A_B02.tif\n"
     ]
    },
    {
     "name": "stderr",
     "output_type": "stream",
     "text": [
      "2021-09-13 16:19:41 URL:https://sentinel-cogs.s3.us-west-2.amazonaws.com/sentinel-s2-l2a-cogs/23/K/NR/2020/4/S2A_23KNR_20200423_0_L2A/B04.tif [132445115/132445115] -> \"-\" [1]\n",
      "2021-09-13 16:19:41 URL:https://sentinel-cogs.s3.us-west-2.amazonaws.com/sentinel-s2-l2a-cogs/23/K/PR/2020/5/S2B_23KPR_20200518_0_L2A/B03.tif [229283452/229283452] -> \"-\" [1]\n",
      "2021-09-13 16:19:42 URL:https://sentinel-cogs.s3.us-west-2.amazonaws.com/sentinel-s2-l2a-cogs/23/K/PR/2020/5/S2B_23KPR_20200528_0_L2A/B02.tif [219178795/219178795] -> \"-\" [1]\n",
      "16:19:42: sending https://sentinel-cogs.s3.us-west-2.amazonaws.com/sentinel-s2-l2a-cogs/23/K/PR/2020/5/S2B_23KPR_20200518_0_L2A/B02.tif\n",
      "16:19:42: sending https://sentinel-cogs.s3.us-west-2.amazonaws.com/sentinel-s2-l2a-cogs/23/K/NR/2020/4/S2A_23KNR_20200423_0_L2A/B03.tif\n"
     ]
    },
    {
     "name": "stdout",
     "output_type": "stream",
     "text": [
      "\n",
      "\n",
      "wget this: %s https://sentinel-cogs.s3.us-west-2.amazonaws.com/sentinel-s2-l2a-cogs/23/K/PR/2020/5/S2B_23KPR_20200518_0_L2A/B02.tif\n",
      "wget -nv -O- https://sentinel-cogs.s3.us-west-2.amazonaws.com/sentinel-s2-l2a-cogs/23/K/PR/2020/5/S2B_23KPR_20200518_0_L2A/B02.tif | aws s3 cp - s3://dev-et-data/usmart/RIO/sentinel-s2-l2a-cogs/\n",
      "S2B_23KPR_20200518_0_L2A_B02.tif\n",
      "wget -nv -O- https://sentinel-cogs.s3.us-west-2.amazonaws.com/sentinel-s2-l2a-cogs/23/K/PR/2020/5/S2B_23KPR_20200518_0_L2A/B02.tif | aws s3 cp - s3://dev-et-data/usmart/RIO/sentinel-s2-l2a-cogs/S2B_23KPR_20200518_0_L2A_B02.tif\n",
      "\n",
      "\n",
      "wget this: %s https://sentinel-cogs.s3.us-west-2.amazonaws.com/sentinel-s2-l2a-cogs/23/K/NR/2020/4/S2A_23KNR_20200423_0_L2A/B03.tif\n",
      "wget -nv -O- https://sentinel-cogs.s3.us-west-2.amazonaws.com/sentinel-s2-l2a-cogs/23/K/NR/2020/4/S2A_23KNR_20200423_0_L2A/B03.tif | aws s3 cp - s3://dev-et-data/usmart/RIO/sentinel-s2-l2a-cogs/\n",
      "S2A_23KNR_20200423_0_L2A_B03.tif\n",
      "wget -nv -O- https://sentinel-cogs.s3.us-west-2.amazonaws.com/sentinel-s2-l2a-cogs/23/K/NR/2020/4/S2A_23KNR_20200423_0_L2A/B03.tif | aws s3 cp - s3://dev-et-data/usmart/RIO/sentinel-s2-l2a-cogs/S2A_23KNR_20200423_0_L2A_B03.tif\n"
     ]
    },
    {
     "name": "stderr",
     "output_type": "stream",
     "text": [
      "2021-09-13 16:19:43 URL:https://sentinel-cogs.s3.us-west-2.amazonaws.com/sentinel-s2-l2a-cogs/23/K/NR/2020/5/S2B_23KNR_20200518_0_L2A/B02.tif [124577623/124577623] -> \"-\" [1]\n",
      "16:19:43: Thread 87: finishing in 34 seconds\n",
      "16:19:43: xfer Thread 103: starting\n",
      "16:19:43: sending https://sentinel-cogs.s3.us-west-2.amazonaws.com/sentinel-s2-l2a-cogs/23/K/PR/2020/4/S2B_23KPR_20200418_0_L2A/B04.tif\n"
     ]
    },
    {
     "name": "stdout",
     "output_type": "stream",
     "text": [
      "\n",
      "\n",
      "wget this: %s https://sentinel-cogs.s3.us-west-2.amazonaws.com/sentinel-s2-l2a-cogs/23/K/PR/2020/4/S2B_23KPR_20200418_0_L2A/B04.tif\n",
      "wget -nv -O- https://sentinel-cogs.s3.us-west-2.amazonaws.com/sentinel-s2-l2a-cogs/23/K/PR/2020/4/S2B_23KPR_20200418_0_L2A/B04.tif | aws s3 cp - s3://dev-et-data/usmart/RIO/sentinel-s2-l2a-cogs/\n",
      "S2B_23KPR_20200418_0_L2A_B04.tif\n",
      "wget -nv -O- https://sentinel-cogs.s3.us-west-2.amazonaws.com/sentinel-s2-l2a-cogs/23/K/PR/2020/4/S2B_23KPR_20200418_0_L2A/B04.tif | aws s3 cp - s3://dev-et-data/usmart/RIO/sentinel-s2-l2a-cogs/S2B_23KPR_20200418_0_L2A_B04.tif\n"
     ]
    },
    {
     "name": "stderr",
     "output_type": "stream",
     "text": [
      "2021-09-13 16:19:43 URL:https://sentinel-cogs.s3.us-west-2.amazonaws.com/sentinel-s2-l2a-cogs/23/K/PR/2020/4/S2B_23KPR_20200428_0_L2A/B04.tif [221278608/221278608] -> \"-\" [1]\n",
      "2021-09-13 16:19:44 URL:https://sentinel-cogs.s3.us-west-2.amazonaws.com/sentinel-s2-l2a-cogs/23/K/NR/2020/5/S2A_23KNR_20200503_0_L2A/B03.tif [124420449/124420449] -> \"-\" [1]\n",
      "16:19:44: Thread 90: finishing in 25 seconds\n",
      "16:19:44: xfer Thread 104: starting\n",
      "16:19:44: sending https://sentinel-cogs.s3.us-west-2.amazonaws.com/sentinel-s2-l2a-cogs/23/K/NR/2020/4/S2A_23KNR_20200413_0_L2A/B04.tif\n"
     ]
    },
    {
     "name": "stdout",
     "output_type": "stream",
     "text": [
      "\n",
      "\n",
      "wget this: %s https://sentinel-cogs.s3.us-west-2.amazonaws.com/sentinel-s2-l2a-cogs/23/K/NR/2020/4/S2A_23KNR_20200413_0_L2A/B04.tif\n",
      "wget -nv -O- https://sentinel-cogs.s3.us-west-2.amazonaws.com/sentinel-s2-l2a-cogs/23/K/NR/2020/4/S2A_23KNR_20200413_0_L2A/B04.tif | aws s3 cp - s3://dev-et-data/usmart/RIO/sentinel-s2-l2a-cogs/\n",
      "S2A_23KNR_20200413_0_L2A_B04.tif\n",
      "wget -nv -O- https://sentinel-cogs.s3.us-west-2.amazonaws.com/sentinel-s2-l2a-cogs/23/K/NR/2020/4/S2A_23KNR_20200413_0_L2A/B04.tif | aws s3 cp - s3://dev-et-data/usmart/RIO/sentinel-s2-l2a-cogs/S2A_23KNR_20200413_0_L2A_B04.tif\n"
     ]
    },
    {
     "name": "stderr",
     "output_type": "stream",
     "text": [
      "16:19:44: sending https://sentinel-cogs.s3.us-west-2.amazonaws.com/sentinel-s2-l2a-cogs/23/K/PR/2020/4/S2B_23KPR_20200428_0_L2A/B03.tif\n"
     ]
    },
    {
     "name": "stdout",
     "output_type": "stream",
     "text": [
      "\n",
      "\n",
      "wget this: %s https://sentinel-cogs.s3.us-west-2.amazonaws.com/sentinel-s2-l2a-cogs/23/K/PR/2020/4/S2B_23KPR_20200428_0_L2A/B03.tif\n",
      "wget -nv -O- https://sentinel-cogs.s3.us-west-2.amazonaws.com/sentinel-s2-l2a-cogs/23/K/PR/2020/4/S2B_23KPR_20200428_0_L2A/B03.tif | aws s3 cp - s3://dev-et-data/usmart/RIO/sentinel-s2-l2a-cogs/\n",
      "S2B_23KPR_20200428_0_L2A_B03.tif\n",
      "wget -nv -O- https://sentinel-cogs.s3.us-west-2.amazonaws.com/sentinel-s2-l2a-cogs/23/K/PR/2020/4/S2B_23KPR_20200428_0_L2A/B03.tif | aws s3 cp - s3://dev-et-data/usmart/RIO/sentinel-s2-l2a-cogs/S2B_23KPR_20200428_0_L2A_B03.tif\n"
     ]
    },
    {
     "name": "stderr",
     "output_type": "stream",
     "text": [
      "16:19:45: sending https://sentinel-cogs.s3.us-west-2.amazonaws.com/sentinel-s2-l2a-cogs/23/K/NR/2020/5/S2A_23KNR_20200503_0_L2A/B02.tif\n"
     ]
    },
    {
     "name": "stdout",
     "output_type": "stream",
     "text": [
      "\n",
      "\n",
      "wget this: %s https://sentinel-cogs.s3.us-west-2.amazonaws.com/sentinel-s2-l2a-cogs/23/K/NR/2020/5/S2A_23KNR_20200503_0_L2A/B02.tif\n",
      "wget -nv -O- https://sentinel-cogs.s3.us-west-2.amazonaws.com/sentinel-s2-l2a-cogs/23/K/NR/2020/5/S2A_23KNR_20200503_0_L2A/B02.tif | aws s3 cp - s3://dev-et-data/usmart/RIO/sentinel-s2-l2a-cogs/\n",
      "S2A_23KNR_20200503_0_L2A_B02.tif\n",
      "wget -nv -O- https://sentinel-cogs.s3.us-west-2.amazonaws.com/sentinel-s2-l2a-cogs/23/K/NR/2020/5/S2A_23KNR_20200503_0_L2A/B02.tif | aws s3 cp - s3://dev-et-data/usmart/RIO/sentinel-s2-l2a-cogs/S2A_23KNR_20200503_0_L2A_B02.tif\n"
     ]
    },
    {
     "name": "stderr",
     "output_type": "stream",
     "text": [
      "2021-09-13 16:19:46 URL:https://sentinel-cogs.s3.us-west-2.amazonaws.com/sentinel-s2-l2a-cogs/23/K/PR/2020/5/S2A_23KPR_20200513_0_L2A/B03.tif [221203751/221203751] -> \"-\" [1]\n",
      "2021-09-13 16:19:46 URL:https://sentinel-cogs.s3.us-west-2.amazonaws.com/sentinel-s2-l2a-cogs/23/K/NR/2020/4/S2B_23KNR_20200418_0_L2A/B04.tif [122641066/122641066] -> \"-\" [1]\n",
      "2021-09-13 16:19:46 URL:https://sentinel-cogs.s3.us-west-2.amazonaws.com/sentinel-s2-l2a-cogs/23/K/PR/2020/4/S2A_23KPR_20200423_0_L2A/B04.tif [230646651/230646651] -> \"-\" [1]\n",
      "2021-09-13 16:19:46 URL:https://sentinel-cogs.s3.us-west-2.amazonaws.com/sentinel-s2-l2a-cogs/23/K/NR/2020/4/S2B_23KNR_20200428_0_L2A/B03.tif [123065946/123065946] -> \"-\" [1]\n",
      "16:19:46: sending https://sentinel-cogs.s3.us-west-2.amazonaws.com/sentinel-s2-l2a-cogs/23/K/NR/2020/4/S2B_23KNR_20200418_0_L2A/B03.tif\n",
      "16:19:46: sending https://sentinel-cogs.s3.us-west-2.amazonaws.com/sentinel-s2-l2a-cogs/23/K/PR/2020/5/S2A_23KPR_20200513_0_L2A/B02.tif\n",
      "16:19:47: sending https://sentinel-cogs.s3.us-west-2.amazonaws.com/sentinel-s2-l2a-cogs/23/K/PR/2020/4/S2A_23KPR_20200423_0_L2A/B03.tif\n"
     ]
    },
    {
     "name": "stdout",
     "output_type": "stream",
     "text": [
      "\n",
      "\n",
      "wget this: %s https://sentinel-cogs.s3.us-west-2.amazonaws.com/sentinel-s2-l2a-cogs/23/K/NR/2020/4/S2B_23KNR_20200418_0_L2A/B03.tif\n",
      "wget -nv -O- https://sentinel-cogs.s3.us-west-2.amazonaws.com/sentinel-s2-l2a-cogs/23/K/NR/2020/4/S2B_23KNR_20200418_0_L2A/B03.tif | aws s3 cp - s3://dev-et-data/usmart/RIO/sentinel-s2-l2a-cogs/\n",
      "S2B_23KNR_20200418_0_L2A_B03.tif\n",
      "wget -nv -O- https://sentinel-cogs.s3.us-west-2.amazonaws.com/sentinel-s2-l2a-cogs/23/K/NR/2020/4/S2B_23KNR_20200418_0_L2A/B03.tif | aws s3 cp - s3://dev-et-data/usmart/RIO/sentinel-s2-l2a-cogs/S2B_23KNR_20200418_0_L2A_B03.tif\n",
      "\n",
      "\n",
      "wget this: %s https://sentinel-cogs.s3.us-west-2.amazonaws.com/sentinel-s2-l2a-cogs/23/K/PR/2020/5/S2A_23KPR_20200513_0_L2A/B02.tif\n",
      "wget -nv -O- https://sentinel-cogs.s3.us-west-2.amazonaws.com/sentinel-s2-l2a-cogs/23/K/PR/2020/5/S2A_23KPR_20200513_0_L2A/B02.tif | aws s3 cp - s3://dev-et-data/usmart/RIO/sentinel-s2-l2a-cogs/\n",
      "S2A_23KPR_20200513_0_L2A_B02.tif\n",
      "wget -nv -O- https://sentinel-cogs.s3.us-west-2.amazonaws.com/sentinel-s2-l2a-cogs/23/K/PR/2020/5/S2A_23KPR_20200513_0_L2A/B02.tif | aws s3 cp - s3://dev-et-data/usmart/RIO/sentinel-s2-l2a-cogs/S2A_23KPR_20200513_0_L2A_B02.tif\n",
      "\n",
      "\n",
      "wget this: %s https://sentinel-cogs.s3.us-west-2.amazonaws.com/sentinel-s2-l2a-cogs/23/K/PR/2020/4/S2A_23KPR_20200423_0_L2A/B03.tif\n",
      "wget -nv -O- https://sentinel-cogs.s3.us-west-2.amazonaws.com/sentinel-s2-l2a-cogs/23/K/PR/2020/4/S2A_23KPR_20200423_0_L2A/B03.tif | aws s3 cp - s3://dev-et-data/usmart/RIO/sentinel-s2-l2a-cogs/\n",
      "S2A_23KPR_20200423_0_L2A_B03.tif\n",
      "wget -nv -O- https://sentinel-cogs.s3.us-west-2.amazonaws.com/sentinel-s2-l2a-cogs/23/K/PR/2020/4/S2A_23KPR_20200423_0_L2A/B03.tif | aws s3 cp - s3://dev-et-data/usmart/RIO/sentinel-s2-l2a-cogs/S2A_23KPR_20200423_0_L2A_B03.tif\n"
     ]
    },
    {
     "name": "stderr",
     "output_type": "stream",
     "text": [
      "16:19:47: sending https://sentinel-cogs.s3.us-west-2.amazonaws.com/sentinel-s2-l2a-cogs/23/K/NR/2020/4/S2B_23KNR_20200428_0_L2A/B02.tif\n"
     ]
    },
    {
     "name": "stdout",
     "output_type": "stream",
     "text": [
      "\n",
      "\n",
      "wget this: %s https://sentinel-cogs.s3.us-west-2.amazonaws.com/sentinel-s2-l2a-cogs/23/K/NR/2020/4/S2B_23KNR_20200428_0_L2A/B02.tif\n",
      "wget -nv -O- https://sentinel-cogs.s3.us-west-2.amazonaws.com/sentinel-s2-l2a-cogs/23/K/NR/2020/4/S2B_23KNR_20200428_0_L2A/B02.tif | aws s3 cp - s3://dev-et-data/usmart/RIO/sentinel-s2-l2a-cogs/\n",
      "S2B_23KNR_20200428_0_L2A_B02.tif\n",
      "wget -nv -O- https://sentinel-cogs.s3.us-west-2.amazonaws.com/sentinel-s2-l2a-cogs/23/K/NR/2020/4/S2B_23KNR_20200428_0_L2A/B02.tif | aws s3 cp - s3://dev-et-data/usmart/RIO/sentinel-s2-l2a-cogs/S2B_23KNR_20200428_0_L2A_B02.tif\n"
     ]
    },
    {
     "name": "stderr",
     "output_type": "stream",
     "text": [
      "2021-09-13 16:19:47 URL:https://sentinel-cogs.s3.us-west-2.amazonaws.com/sentinel-s2-l2a-cogs/23/K/NR/2020/5/S2A_23KNR_20200513_0_L2A/B02.tif [117210171/117210171] -> \"-\" [1]\n",
      "2021-09-13 16:19:48 URL:https://sentinel-cogs.s3.us-west-2.amazonaws.com/sentinel-s2-l2a-cogs/23/K/PR/2020/5/S2A_23KPR_20200523_0_L2A/B02.tif [202790165/202790165] -> \"-\" [1]\n",
      "2021-09-13 16:19:49 URL:https://sentinel-cogs.s3.us-west-2.amazonaws.com/sentinel-s2-l2a-cogs/23/K/NR/2020/5/S2B_23KNR_20200508_0_L2A/B02.tif [128409076/128409076] -> \"-\" [1]\n",
      "16:19:49: Thread 89: finishing in 32 seconds\n",
      "16:19:49: xfer Thread 105: starting\n",
      "16:19:49: sending https://sentinel-cogs.s3.us-west-2.amazonaws.com/sentinel-s2-l2a-cogs/23/K/PR/2020/4/S2A_23KPR_20200413_0_L2A/B04.tif\n"
     ]
    },
    {
     "name": "stdout",
     "output_type": "stream",
     "text": [
      "\n",
      "\n",
      "wget this: %s https://sentinel-cogs.s3.us-west-2.amazonaws.com/sentinel-s2-l2a-cogs/23/K/PR/2020/4/S2A_23KPR_20200413_0_L2A/B04.tif\n",
      "wget -nv -O- https://sentinel-cogs.s3.us-west-2.amazonaws.com/sentinel-s2-l2a-cogs/23/K/PR/2020/4/S2A_23KPR_20200413_0_L2A/B04.tif | aws s3 cp - s3://dev-et-data/usmart/RIO/sentinel-s2-l2a-cogs/\n",
      "S2A_23KPR_20200413_0_L2A_B04.tif\n",
      "wget -nv -O- https://sentinel-cogs.s3.us-west-2.amazonaws.com/sentinel-s2-l2a-cogs/23/K/PR/2020/4/S2A_23KPR_20200413_0_L2A/B04.tif | aws s3 cp - s3://dev-et-data/usmart/RIO/sentinel-s2-l2a-cogs/S2A_23KPR_20200413_0_L2A_B04.tif\n"
     ]
    },
    {
     "name": "stderr",
     "output_type": "stream",
     "text": [
      "2021-09-13 16:19:49 URL:https://sentinel-cogs.s3.us-west-2.amazonaws.com/sentinel-s2-l2a-cogs/23/K/PR/2020/5/S2A_23KPR_20200503_0_L2A/B03.tif [218079852/218079852] -> \"-\" [1]\n",
      "16:19:50: Thread 94: finishing in 24 seconds\n",
      "16:19:50: xfer Thread 106: starting\n",
      "16:19:50: sending https://sentinel-cogs.s3.us-west-2.amazonaws.com/sentinel-s2-l2a-cogs/23/K/NR/2020/4/S2B_23KNR_20200408_0_L2A/B04.tif\n",
      "16:19:50: sending https://sentinel-cogs.s3.us-west-2.amazonaws.com/sentinel-s2-l2a-cogs/23/K/PR/2020/5/S2A_23KPR_20200503_0_L2A/B02.tif\n"
     ]
    },
    {
     "name": "stdout",
     "output_type": "stream",
     "text": [
      "\n",
      "\n",
      "wget this: %s https://sentinel-cogs.s3.us-west-2.amazonaws.com/sentinel-s2-l2a-cogs/23/K/NR/2020/4/S2B_23KNR_20200408_0_L2A/B04.tif\n",
      "wget -nv -O- https://sentinel-cogs.s3.us-west-2.amazonaws.com/sentinel-s2-l2a-cogs/23/K/NR/2020/4/S2B_23KNR_20200408_0_L2A/B04.tif | aws s3 cp - s3://dev-et-data/usmart/RIO/sentinel-s2-l2a-cogs/\n",
      "S2B_23KNR_20200408_0_L2A_B04.tif\n",
      "wget -nv -O- https://sentinel-cogs.s3.us-west-2.amazonaws.com/sentinel-s2-l2a-cogs/23/K/NR/2020/4/S2B_23KNR_20200408_0_L2A/B04.tif | aws s3 cp - s3://dev-et-data/usmart/RIO/sentinel-s2-l2a-cogs/S2B_23KNR_20200408_0_L2A_B04.tif\n",
      "\n",
      "\n",
      "wget this: %s https://sentinel-cogs.s3.us-west-2.amazonaws.com/sentinel-s2-l2a-cogs/23/K/PR/2020/5/S2A_23KPR_20200503_0_L2A/B02.tif\n",
      "wget -nv -O- https://sentinel-cogs.s3.us-west-2.amazonaws.com/sentinel-s2-l2a-cogs/23/K/PR/2020/5/S2A_23KPR_20200503_0_L2A/B02.tif | aws s3 cp - s3://dev-et-data/usmart/RIO/sentinel-s2-l2a-cogs/\n",
      "S2A_23KPR_20200503_0_L2A_B02.tif\n",
      "wget -nv -O- https://sentinel-cogs.s3.us-west-2.amazonaws.com/sentinel-s2-l2a-cogs/23/K/PR/2020/5/S2A_23KPR_20200503_0_L2A/B02.tif | aws s3 cp - s3://dev-et-data/usmart/RIO/sentinel-s2-l2a-cogs/S2A_23KPR_20200503_0_L2A_B02.tif\n"
     ]
    },
    {
     "name": "stderr",
     "output_type": "stream",
     "text": [
      "2021-09-13 16:19:50 URL:https://sentinel-cogs.s3.us-west-2.amazonaws.com/sentinel-s2-l2a-cogs/23/K/PR/2020/5/S2B_23KPR_20200508_0_L2A/B03.tif [226730653/226730653] -> \"-\" [1]\n",
      "2021-09-13 16:19:50 URL:https://sentinel-cogs.s3.us-west-2.amazonaws.com/sentinel-s2-l2a-cogs/23/K/NR/2020/4/S2A_23KNR_20200423_0_L2A/B03.tif [132195038/132195038] -> \"-\" [1]\n",
      "16:19:51: sending https://sentinel-cogs.s3.us-west-2.amazonaws.com/sentinel-s2-l2a-cogs/23/K/PR/2020/5/S2B_23KPR_20200508_0_L2A/B02.tif\n",
      "16:19:51: sending https://sentinel-cogs.s3.us-west-2.amazonaws.com/sentinel-s2-l2a-cogs/23/K/NR/2020/4/S2A_23KNR_20200423_0_L2A/B02.tif\n"
     ]
    },
    {
     "name": "stdout",
     "output_type": "stream",
     "text": [
      "\n",
      "\n",
      "wget this: %s https://sentinel-cogs.s3.us-west-2.amazonaws.com/sentinel-s2-l2a-cogs/23/K/PR/2020/5/S2B_23KPR_20200508_0_L2A/B02.tif\n",
      "wget -nv -O- https://sentinel-cogs.s3.us-west-2.amazonaws.com/sentinel-s2-l2a-cogs/23/K/PR/2020/5/S2B_23KPR_20200508_0_L2A/B02.tif | aws s3 cp - s3://dev-et-data/usmart/RIO/sentinel-s2-l2a-cogs/\n",
      "S2B_23KPR_20200508_0_L2A_B02.tif\n",
      "wget -nv -O- https://sentinel-cogs.s3.us-west-2.amazonaws.com/sentinel-s2-l2a-cogs/23/K/PR/2020/5/S2B_23KPR_20200508_0_L2A/B02.tif | aws s3 cp - s3://dev-et-data/usmart/RIO/sentinel-s2-l2a-cogs/S2B_23KPR_20200508_0_L2A_B02.tif\n",
      "\n",
      "\n",
      "wget this: %s https://sentinel-cogs.s3.us-west-2.amazonaws.com/sentinel-s2-l2a-cogs/23/K/NR/2020/4/S2A_23KNR_20200423_0_L2A/B02.tif\n",
      "wget -nv -O- https://sentinel-cogs.s3.us-west-2.amazonaws.com/sentinel-s2-l2a-cogs/23/K/NR/2020/4/S2A_23KNR_20200423_0_L2A/B02.tif | aws s3 cp - s3://dev-et-data/usmart/RIO/sentinel-s2-l2a-cogs/\n",
      "S2A_23KNR_20200423_0_L2A_B02.tif\n",
      "wget -nv -O- https://sentinel-cogs.s3.us-west-2.amazonaws.com/sentinel-s2-l2a-cogs/23/K/NR/2020/4/S2A_23KNR_20200423_0_L2A/B02.tif | aws s3 cp - s3://dev-et-data/usmart/RIO/sentinel-s2-l2a-cogs/S2A_23KNR_20200423_0_L2A_B02.tif\n"
     ]
    },
    {
     "name": "stderr",
     "output_type": "stream",
     "text": [
      "2021-09-13 16:19:52 URL:https://sentinel-cogs.s3.us-west-2.amazonaws.com/sentinel-s2-l2a-cogs/23/K/NR/2020/4/S2A_23KNR_20200413_0_L2A/B04.tif [130305987/130305987] -> \"-\" [1]\n",
      "2021-09-13 16:19:52 URL:https://sentinel-cogs.s3.us-west-2.amazonaws.com/sentinel-s2-l2a-cogs/23/K/PR/2020/5/S2B_23KPR_20200518_0_L2A/B02.tif [225018662/225018662] -> \"-\" [1]\n",
      "2021-09-13 16:19:53 URL:https://sentinel-cogs.s3.us-west-2.amazonaws.com/sentinel-s2-l2a-cogs/23/K/NR/2020/5/S2A_23KNR_20200503_0_L2A/B02.tif [124632473/124632473] -> \"-\" [1]\n",
      "16:19:53: Thread 91: finishing in 34 seconds\n",
      "16:19:53: xfer Thread 107: starting\n",
      "16:19:53: sending https://sentinel-cogs.s3.us-west-2.amazonaws.com/sentinel-s2-l2a-cogs/23/K/PR/2020/4/S2B_23KPR_20200408_0_L2A/B04.tif\n"
     ]
    },
    {
     "name": "stdout",
     "output_type": "stream",
     "text": [
      "\n",
      "\n",
      "wget this: %s https://sentinel-cogs.s3.us-west-2.amazonaws.com/sentinel-s2-l2a-cogs/23/K/PR/2020/4/S2B_23KPR_20200408_0_L2A/B04.tif\n",
      "wget -nv -O- https://sentinel-cogs.s3.us-west-2.amazonaws.com/sentinel-s2-l2a-cogs/23/K/PR/2020/4/S2B_23KPR_20200408_0_L2A/B04.tif | aws s3 cp - s3://dev-et-data/usmart/RIO/sentinel-s2-l2a-cogs/\n",
      "S2B_23KPR_20200408_0_L2A_B04.tif\n",
      "wget -nv -O- https://sentinel-cogs.s3.us-west-2.amazonaws.com/sentinel-s2-l2a-cogs/23/K/PR/2020/4/S2B_23KPR_20200408_0_L2A/B04.tif | aws s3 cp - s3://dev-et-data/usmart/RIO/sentinel-s2-l2a-cogs/S2B_23KPR_20200408_0_L2A_B04.tif\n"
     ]
    },
    {
     "name": "stderr",
     "output_type": "stream",
     "text": [
      "16:19:53: sending https://sentinel-cogs.s3.us-west-2.amazonaws.com/sentinel-s2-l2a-cogs/23/K/NR/2020/4/S2A_23KNR_20200413_0_L2A/B03.tif\n"
     ]
    },
    {
     "name": "stdout",
     "output_type": "stream",
     "text": [
      "\n",
      "\n",
      "wget this: %s https://sentinel-cogs.s3.us-west-2.amazonaws.com/sentinel-s2-l2a-cogs/23/K/NR/2020/4/S2A_23KNR_20200413_0_L2A/B03.tif\n",
      "wget -nv -O- https://sentinel-cogs.s3.us-west-2.amazonaws.com/sentinel-s2-l2a-cogs/23/K/NR/2020/4/S2A_23KNR_20200413_0_L2A/B03.tif | aws s3 cp - s3://dev-et-data/usmart/RIO/sentinel-s2-l2a-cogs/\n",
      "S2A_23KNR_20200413_0_L2A_B03.tif\n",
      "wget -nv -O- https://sentinel-cogs.s3.us-west-2.amazonaws.com/sentinel-s2-l2a-cogs/23/K/NR/2020/4/S2A_23KNR_20200413_0_L2A/B03.tif | aws s3 cp - s3://dev-et-data/usmart/RIO/sentinel-s2-l2a-cogs/S2A_23KNR_20200413_0_L2A_B03.tif\n"
     ]
    },
    {
     "name": "stderr",
     "output_type": "stream",
     "text": [
      "16:19:53: Thread 96: finishing in 25 seconds\n",
      "16:19:53: xfer Thread 108: starting\n",
      "16:19:53: sending https://sentinel-cogs.s3.us-west-2.amazonaws.com/sentinel-s2-l2a-cogs/23/K/NR/2020/4/S2A_23KNR_20200403_0_L2A/B04.tif\n"
     ]
    },
    {
     "name": "stdout",
     "output_type": "stream",
     "text": [
      "\n",
      "\n",
      "wget this: %s https://sentinel-cogs.s3.us-west-2.amazonaws.com/sentinel-s2-l2a-cogs/23/K/NR/2020/4/S2A_23KNR_20200403_0_L2A/B04.tif\n",
      "wget -nv -O- https://sentinel-cogs.s3.us-west-2.amazonaws.com/sentinel-s2-l2a-cogs/23/K/NR/2020/4/S2A_23KNR_20200403_0_L2A/B04.tif | aws s3 cp - s3://dev-et-data/usmart/RIO/sentinel-s2-l2a-cogs/\n",
      "S2A_23KNR_20200403_0_L2A_B04.tif\n",
      "wget -nv -O- https://sentinel-cogs.s3.us-west-2.amazonaws.com/sentinel-s2-l2a-cogs/23/K/NR/2020/4/S2A_23KNR_20200403_0_L2A/B04.tif | aws s3 cp - s3://dev-et-data/usmart/RIO/sentinel-s2-l2a-cogs/S2A_23KNR_20200403_0_L2A_B04.tif\n"
     ]
    },
    {
     "name": "stderr",
     "output_type": "stream",
     "text": [
      "2021-09-13 16:19:53 URL:https://sentinel-cogs.s3.us-west-2.amazonaws.com/sentinel-s2-l2a-cogs/23/K/PR/2020/4/S2B_23KPR_20200428_0_L2A/B03.tif [221449477/221449477] -> \"-\" [1]\n",
      "2021-09-13 16:19:53 URL:https://sentinel-cogs.s3.us-west-2.amazonaws.com/sentinel-s2-l2a-cogs/23/K/PR/2020/4/S2B_23KPR_20200418_0_L2A/B04.tif [224751584/224751584] -> \"-\" [1]\n",
      "2021-09-13 16:19:54 URL:https://sentinel-cogs.s3.us-west-2.amazonaws.com/sentinel-s2-l2a-cogs/23/K/NR/2020/4/S2B_23KNR_20200418_0_L2A/B03.tif [122801269/122801269] -> \"-\" [1]\n",
      "16:19:54: sending https://sentinel-cogs.s3.us-west-2.amazonaws.com/sentinel-s2-l2a-cogs/23/K/PR/2020/4/S2B_23KPR_20200428_0_L2A/B02.tif\n"
     ]
    },
    {
     "name": "stdout",
     "output_type": "stream",
     "text": [
      "\n",
      "\n",
      "wget this: %s https://sentinel-cogs.s3.us-west-2.amazonaws.com/sentinel-s2-l2a-cogs/23/K/PR/2020/4/S2B_23KPR_20200428_0_L2A/B02.tif\n",
      "wget -nv -O- https://sentinel-cogs.s3.us-west-2.amazonaws.com/sentinel-s2-l2a-cogs/23/K/PR/2020/4/S2B_23KPR_20200428_0_L2A/B02.tif | aws s3 cp - s3://dev-et-data/usmart/RIO/sentinel-s2-l2a-cogs/\n",
      "S2B_23KPR_20200428_0_L2A_B02.tif\n",
      "wget -nv -O- https://sentinel-cogs.s3.us-west-2.amazonaws.com/sentinel-s2-l2a-cogs/23/K/PR/2020/4/S2B_23KPR_20200428_0_L2A/B02.tif | aws s3 cp - s3://dev-et-data/usmart/RIO/sentinel-s2-l2a-cogs/S2B_23KPR_20200428_0_L2A_B02.tif\n"
     ]
    },
    {
     "name": "stderr",
     "output_type": "stream",
     "text": [
      "16:19:54: sending https://sentinel-cogs.s3.us-west-2.amazonaws.com/sentinel-s2-l2a-cogs/23/K/PR/2020/4/S2B_23KPR_20200418_0_L2A/B03.tif\n"
     ]
    },
    {
     "name": "stdout",
     "output_type": "stream",
     "text": [
      "\n",
      "\n",
      "wget this: %s https://sentinel-cogs.s3.us-west-2.amazonaws.com/sentinel-s2-l2a-cogs/23/K/PR/2020/4/S2B_23KPR_20200418_0_L2A/B03.tif\n",
      "wget -nv -O- https://sentinel-cogs.s3.us-west-2.amazonaws.com/sentinel-s2-l2a-cogs/23/K/PR/2020/4/S2B_23KPR_20200418_0_L2A/B03.tif | aws s3 cp - s3://dev-et-data/usmart/RIO/sentinel-s2-l2a-cogs/\n",
      "S2B_23KPR_20200418_0_L2A_B03.tif\n",
      "wget -nv -O- https://sentinel-cogs.s3.us-west-2.amazonaws.com/sentinel-s2-l2a-cogs/23/K/PR/2020/4/S2B_23KPR_20200418_0_L2A/B03.tif | aws s3 cp - s3://dev-et-data/usmart/RIO/sentinel-s2-l2a-cogs/S2B_23KPR_20200418_0_L2A_B03.tif\n"
     ]
    },
    {
     "name": "stderr",
     "output_type": "stream",
     "text": [
      "2021-09-13 16:19:54 URL:https://sentinel-cogs.s3.us-west-2.amazonaws.com/sentinel-s2-l2a-cogs/23/K/NR/2020/4/S2B_23KNR_20200428_0_L2A/B02.tif [120146851/120146851] -> \"-\" [1]\n",
      "16:19:54: sending https://sentinel-cogs.s3.us-west-2.amazonaws.com/sentinel-s2-l2a-cogs/23/K/NR/2020/4/S2B_23KNR_20200418_0_L2A/B02.tif\n"
     ]
    },
    {
     "name": "stdout",
     "output_type": "stream",
     "text": [
      "\n",
      "\n",
      "wget this: %s https://sentinel-cogs.s3.us-west-2.amazonaws.com/sentinel-s2-l2a-cogs/23/K/NR/2020/4/S2B_23KNR_20200418_0_L2A/B02.tif\n",
      "wget -nv -O- https://sentinel-cogs.s3.us-west-2.amazonaws.com/sentinel-s2-l2a-cogs/23/K/NR/2020/4/S2B_23KNR_20200418_0_L2A/B02.tif | aws s3 cp - s3://dev-et-data/usmart/RIO/sentinel-s2-l2a-cogs/\n",
      "S2B_23KNR_20200418_0_L2A_B02.tif\n",
      "wget -nv -O- https://sentinel-cogs.s3.us-west-2.amazonaws.com/sentinel-s2-l2a-cogs/23/K/NR/2020/4/S2B_23KNR_20200418_0_L2A/B02.tif | aws s3 cp - s3://dev-et-data/usmart/RIO/sentinel-s2-l2a-cogs/S2B_23KNR_20200418_0_L2A_B02.tif\n"
     ]
    },
    {
     "name": "stderr",
     "output_type": "stream",
     "text": [
      "16:19:55: Thread 92: finishing in 33 seconds\n",
      "16:19:55: xfer Thread 109: starting\n",
      "16:19:55: sending https://sentinel-cogs.s3.us-west-2.amazonaws.com/sentinel-s2-l2a-cogs/23/K/PR/2020/4/S2A_23KPR_20200403_0_L2A/B04.tif\n"
     ]
    },
    {
     "name": "stdout",
     "output_type": "stream",
     "text": [
      "\n",
      "\n",
      "wget this: %s https://sentinel-cogs.s3.us-west-2.amazonaws.com/sentinel-s2-l2a-cogs/23/K/PR/2020/4/S2A_23KPR_20200403_0_L2A/B04.tif\n",
      "wget -nv -O- https://sentinel-cogs.s3.us-west-2.amazonaws.com/sentinel-s2-l2a-cogs/23/K/PR/2020/4/S2A_23KPR_20200403_0_L2A/B04.tif | aws s3 cp - s3://dev-et-data/usmart/RIO/sentinel-s2-l2a-cogs/\n",
      "S2A_23KPR_20200403_0_L2A_B04.tif\n",
      "wget -nv -O- https://sentinel-cogs.s3.us-west-2.amazonaws.com/sentinel-s2-l2a-cogs/23/K/PR/2020/4/S2A_23KPR_20200403_0_L2A/B04.tif | aws s3 cp - s3://dev-et-data/usmart/RIO/sentinel-s2-l2a-cogs/S2A_23KPR_20200403_0_L2A_B04.tif\n"
     ]
    },
    {
     "name": "stderr",
     "output_type": "stream",
     "text": [
      "2021-09-13 16:19:56 URL:https://sentinel-cogs.s3.us-west-2.amazonaws.com/sentinel-s2-l2a-cogs/23/K/NR/2020/4/S2B_23KNR_20200408_0_L2A/B04.tif [101667699/101667699] -> \"-\" [1]\n",
      "16:19:56: Thread 98: finishing in 26 seconds\n",
      "16:19:56: xfer Thread 110: starting\n",
      "16:19:56: sending https://sentinel-cogs.s3.us-west-2.amazonaws.com/sentinel-s2-l2a-cogs/23/K/NR/2020/3/S2B_23KNR_20200329_0_L2A/B04.tif\n"
     ]
    },
    {
     "name": "stdout",
     "output_type": "stream",
     "text": [
      "\n",
      "\n",
      "wget this: %s https://sentinel-cogs.s3.us-west-2.amazonaws.com/sentinel-s2-l2a-cogs/23/K/NR/2020/3/S2B_23KNR_20200329_0_L2A/B04.tif\n",
      "wget -nv -O- https://sentinel-cogs.s3.us-west-2.amazonaws.com/sentinel-s2-l2a-cogs/23/K/NR/2020/3/S2B_23KNR_20200329_0_L2A/B04.tif | aws s3 cp - s3://dev-et-data/usmart/RIO/sentinel-s2-l2a-cogs/\n",
      "S2B_23KNR_20200329_0_L2A_B04.tif\n",
      "wget -nv -O- https://sentinel-cogs.s3.us-west-2.amazonaws.com/sentinel-s2-l2a-cogs/23/K/NR/2020/3/S2B_23KNR_20200329_0_L2A/B04.tif | aws s3 cp - s3://dev-et-data/usmart/RIO/sentinel-s2-l2a-cogs/S2B_23KNR_20200329_0_L2A_B04.tif\n"
     ]
    },
    {
     "name": "stderr",
     "output_type": "stream",
     "text": [
      "16:19:56: sending https://sentinel-cogs.s3.us-west-2.amazonaws.com/sentinel-s2-l2a-cogs/23/K/NR/2020/4/S2B_23KNR_20200408_0_L2A/B03.tif\n"
     ]
    },
    {
     "name": "stdout",
     "output_type": "stream",
     "text": [
      "\n",
      "\n",
      "wget this: %s https://sentinel-cogs.s3.us-west-2.amazonaws.com/sentinel-s2-l2a-cogs/23/K/NR/2020/4/S2B_23KNR_20200408_0_L2A/B03.tif\n",
      "wget -nv -O- https://sentinel-cogs.s3.us-west-2.amazonaws.com/sentinel-s2-l2a-cogs/23/K/NR/2020/4/S2B_23KNR_20200408_0_L2A/B03.tif | aws s3 cp - s3://dev-et-data/usmart/RIO/sentinel-s2-l2a-cogs/\n",
      "S2B_23KNR_20200408_0_L2A_B03.tif\n",
      "wget -nv -O- https://sentinel-cogs.s3.us-west-2.amazonaws.com/sentinel-s2-l2a-cogs/23/K/NR/2020/4/S2B_23KNR_20200408_0_L2A/B03.tif | aws s3 cp - s3://dev-et-data/usmart/RIO/sentinel-s2-l2a-cogs/S2B_23KNR_20200408_0_L2A_B03.tif\n"
     ]
    },
    {
     "name": "stderr",
     "output_type": "stream",
     "text": [
      "2021-09-13 16:19:57 URL:https://sentinel-cogs.s3.us-west-2.amazonaws.com/sentinel-s2-l2a-cogs/23/K/PR/2020/5/S2A_23KPR_20200513_0_L2A/B02.tif [208320493/208320493] -> \"-\" [1]\n",
      "16:19:58: Thread 93: finishing in 35 seconds\n",
      "16:19:58: xfer Thread 111: starting\n",
      "16:19:58: sending https://sentinel-cogs.s3.us-west-2.amazonaws.com/sentinel-s2-l2a-cogs/23/K/PR/2020/3/S2B_23KPR_20200329_0_L2A/B04.tif\n"
     ]
    },
    {
     "name": "stdout",
     "output_type": "stream",
     "text": [
      "\n",
      "\n",
      "wget this: %s https://sentinel-cogs.s3.us-west-2.amazonaws.com/sentinel-s2-l2a-cogs/23/K/PR/2020/3/S2B_23KPR_20200329_0_L2A/B04.tif\n",
      "wget -nv -O- https://sentinel-cogs.s3.us-west-2.amazonaws.com/sentinel-s2-l2a-cogs/23/K/PR/2020/3/S2B_23KPR_20200329_0_L2A/B04.tif | aws s3 cp - s3://dev-et-data/usmart/RIO/sentinel-s2-l2a-cogs/\n",
      "S2B_23KPR_20200329_0_L2A_B04.tif\n",
      "wget -nv -O- https://sentinel-cogs.s3.us-west-2.amazonaws.com/sentinel-s2-l2a-cogs/23/K/PR/2020/3/S2B_23KPR_20200329_0_L2A/B04.tif | aws s3 cp - s3://dev-et-data/usmart/RIO/sentinel-s2-l2a-cogs/S2B_23KPR_20200329_0_L2A_B04.tif\n"
     ]
    },
    {
     "name": "stderr",
     "output_type": "stream",
     "text": [
      "2021-09-13 16:19:58 URL:https://sentinel-cogs.s3.us-west-2.amazonaws.com/sentinel-s2-l2a-cogs/23/K/NR/2020/4/S2A_23KNR_20200423_0_L2A/B02.tif [132333001/132333001] -> \"-\" [1]\n",
      "2021-09-13 16:19:58 URL:https://sentinel-cogs.s3.us-west-2.amazonaws.com/sentinel-s2-l2a-cogs/23/K/PR/2020/4/S2A_23KPR_20200423_0_L2A/B03.tif [233588416/233588416] -> \"-\" [1]\n",
      "16:19:59: Thread 100: finishing in 24 seconds\n",
      "16:19:59: xfer Thread 112: starting\n",
      "16:19:59: sending https://sentinel-cogs.s3.us-west-2.amazonaws.com/sentinel-s2-l2a-cogs/23/K/NR/2020/3/S2A_23KNR_20200324_0_L2A/B04.tif\n"
     ]
    },
    {
     "name": "stdout",
     "output_type": "stream",
     "text": [
      "\n",
      "\n",
      "wget this: %s https://sentinel-cogs.s3.us-west-2.amazonaws.com/sentinel-s2-l2a-cogs/23/K/NR/2020/3/S2A_23KNR_20200324_0_L2A/B04.tif\n",
      "wget -nv -O- https://sentinel-cogs.s3.us-west-2.amazonaws.com/sentinel-s2-l2a-cogs/23/K/NR/2020/3/S2A_23KNR_20200324_0_L2A/B04.tif | aws s3 cp - s3://dev-et-data/usmart/RIO/sentinel-s2-l2a-cogs/\n",
      "S2A_23KNR_20200324_0_L2A_B04.tif\n",
      "wget -nv -O- https://sentinel-cogs.s3.us-west-2.amazonaws.com/sentinel-s2-l2a-cogs/23/K/NR/2020/3/S2A_23KNR_20200324_0_L2A/B04.tif | aws s3 cp - s3://dev-et-data/usmart/RIO/sentinel-s2-l2a-cogs/S2A_23KNR_20200324_0_L2A_B04.tif\n"
     ]
    },
    {
     "name": "stderr",
     "output_type": "stream",
     "text": [
      "16:19:59: sending https://sentinel-cogs.s3.us-west-2.amazonaws.com/sentinel-s2-l2a-cogs/23/K/PR/2020/4/S2A_23KPR_20200423_0_L2A/B02.tif\n"
     ]
    },
    {
     "name": "stdout",
     "output_type": "stream",
     "text": [
      "\n",
      "\n",
      "wget this: %s https://sentinel-cogs.s3.us-west-2.amazonaws.com/sentinel-s2-l2a-cogs/23/K/PR/2020/4/S2A_23KPR_20200423_0_L2A/B02.tif\n",
      "wget -nv -O- https://sentinel-cogs.s3.us-west-2.amazonaws.com/sentinel-s2-l2a-cogs/23/K/PR/2020/4/S2A_23KPR_20200423_0_L2A/B02.tif | aws s3 cp - s3://dev-et-data/usmart/RIO/sentinel-s2-l2a-cogs/\n",
      "S2A_23KPR_20200423_0_L2A_B02.tif\n",
      "wget -nv -O- https://sentinel-cogs.s3.us-west-2.amazonaws.com/sentinel-s2-l2a-cogs/23/K/PR/2020/4/S2A_23KPR_20200423_0_L2A/B02.tif | aws s3 cp - s3://dev-et-data/usmart/RIO/sentinel-s2-l2a-cogs/S2A_23KPR_20200423_0_L2A_B02.tif\n"
     ]
    },
    {
     "name": "stderr",
     "output_type": "stream",
     "text": [
      "2021-09-13 16:19:59 URL:https://sentinel-cogs.s3.us-west-2.amazonaws.com/sentinel-s2-l2a-cogs/23/K/NR/2020/4/S2A_23KNR_20200403_0_L2A/B04.tif [125095734/125095734] -> \"-\" [1]\n",
      "2021-09-13 16:20:00 URL:https://sentinel-cogs.s3.us-west-2.amazonaws.com/sentinel-s2-l2a-cogs/23/K/PR/2020/5/S2B_23KPR_20200508_0_L2A/B02.tif [219940354/219940354] -> \"-\" [1]\n",
      "2021-09-13 16:20:00 URL:https://sentinel-cogs.s3.us-west-2.amazonaws.com/sentinel-s2-l2a-cogs/23/K/PR/2020/4/S2A_23KPR_20200413_0_L2A/B04.tif [229151619/229151619] -> \"-\" [1]\n",
      "16:20:00: sending https://sentinel-cogs.s3.us-west-2.amazonaws.com/sentinel-s2-l2a-cogs/23/K/NR/2020/4/S2A_23KNR_20200403_0_L2A/B03.tif\n"
     ]
    },
    {
     "name": "stdout",
     "output_type": "stream",
     "text": [
      "\n",
      "\n",
      "wget this: %s https://sentinel-cogs.s3.us-west-2.amazonaws.com/sentinel-s2-l2a-cogs/23/K/NR/2020/4/S2A_23KNR_20200403_0_L2A/B03.tif\n",
      "wget -nv -O- https://sentinel-cogs.s3.us-west-2.amazonaws.com/sentinel-s2-l2a-cogs/23/K/NR/2020/4/S2A_23KNR_20200403_0_L2A/B03.tif | aws s3 cp - s3://dev-et-data/usmart/RIO/sentinel-s2-l2a-cogs/\n",
      "S2A_23KNR_20200403_0_L2A_B03.tif\n",
      "wget -nv -O- https://sentinel-cogs.s3.us-west-2.amazonaws.com/sentinel-s2-l2a-cogs/23/K/NR/2020/4/S2A_23KNR_20200403_0_L2A/B03.tif | aws s3 cp - s3://dev-et-data/usmart/RIO/sentinel-s2-l2a-cogs/S2A_23KNR_20200403_0_L2A_B03.tif\n"
     ]
    },
    {
     "name": "stderr",
     "output_type": "stream",
     "text": [
      "16:20:00: Thread 95: finishing in 32 seconds\n",
      "16:20:00: xfer Thread 113: starting\n",
      "16:20:00: sending https://sentinel-cogs.s3.us-west-2.amazonaws.com/sentinel-s2-l2a-cogs/23/K/PR/2020/3/S2A_23KPR_20200324_0_L2A/B04.tif\n"
     ]
    },
    {
     "name": "stdout",
     "output_type": "stream",
     "text": [
      "\n",
      "\n",
      "wget this: %s https://sentinel-cogs.s3.us-west-2.amazonaws.com/sentinel-s2-l2a-cogs/23/K/PR/2020/3/S2A_23KPR_20200324_0_L2A/B04.tif\n",
      "wget -nv -O- https://sentinel-cogs.s3.us-west-2.amazonaws.com/sentinel-s2-l2a-cogs/23/K/PR/2020/3/S2A_23KPR_20200324_0_L2A/B04.tif | aws s3 cp - s3://dev-et-data/usmart/RIO/sentinel-s2-l2a-cogs/\n",
      "S2A_23KPR_20200324_0_L2A_B04.tif\n",
      "wget -nv -O- https://sentinel-cogs.s3.us-west-2.amazonaws.com/sentinel-s2-l2a-cogs/23/K/PR/2020/3/S2A_23KPR_20200324_0_L2A/B04.tif | aws s3 cp - s3://dev-et-data/usmart/RIO/sentinel-s2-l2a-cogs/S2A_23KPR_20200324_0_L2A_B04.tif\n"
     ]
    },
    {
     "name": "stderr",
     "output_type": "stream",
     "text": [
      "2021-09-13 16:20:01 URL:https://sentinel-cogs.s3.us-west-2.amazonaws.com/sentinel-s2-l2a-cogs/23/K/NR/2020/4/S2B_23KNR_20200418_0_L2A/B02.tif [121858714/121858714] -> \"-\" [1]\n",
      "16:20:01: Thread 102: finishing in 23 seconds\n",
      "16:20:01: xfer Thread 114: starting\n",
      "16:20:01: sending https://sentinel-cogs.s3.us-west-2.amazonaws.com/sentinel-s2-l2a-cogs/23/K/NR/2020/3/S2B_23KNR_20200319_0_L2A/B04.tif\n",
      "16:20:01: sending https://sentinel-cogs.s3.us-west-2.amazonaws.com/sentinel-s2-l2a-cogs/23/K/PR/2020/4/S2A_23KPR_20200413_0_L2A/B03.tif\n"
     ]
    },
    {
     "name": "stdout",
     "output_type": "stream",
     "text": [
      "\n",
      "\n",
      "\n",
      "\n",
      "wget this: %s https://sentinel-cogs.s3.us-west-2.amazonaws.com/sentinel-s2-l2a-cogs/23/K/NR/2020/3/S2B_23KNR_20200319_0_L2A/B04.tif\n",
      "wget -nv -O- https://sentinel-cogs.s3.us-west-2.amazonaws.com/sentinel-s2-l2a-cogs/23/K/NR/2020/3/S2B_23KNR_20200319_0_L2A/B04.tif | aws s3 cp - s3://dev-et-data/usmart/RIO/sentinel-s2-l2a-cogs/\n",
      "S2B_23KNR_20200319_0_L2A_B04.tif\n",
      "wget -nv -O- https://sentinel-cogs.s3.us-west-2.amazonaws.com/sentinel-s2-l2a-cogs/23/K/NR/2020/3/S2B_23KNR_20200319_0_L2A/B04.tif | aws s3 cp - s3://dev-et-data/usmart/RIO/sentinel-s2-l2a-cogs/S2B_23KNR_20200319_0_L2A_B04.tif\n",
      "wget this: %s https://sentinel-cogs.s3.us-west-2.amazonaws.com/sentinel-s2-l2a-cogs/23/K/PR/2020/4/S2A_23KPR_20200413_0_L2A/B03.tif\n",
      "wget -nv -O- https://sentinel-cogs.s3.us-west-2.amazonaws.com/sentinel-s2-l2a-cogs/23/K/PR/2020/4/S2A_23KPR_20200413_0_L2A/B03.tif | aws s3 cp - s3://dev-et-data/usmart/RIO/sentinel-s2-l2a-cogs/\n",
      "S2A_23KPR_20200413_0_L2A_B03.tif\n",
      "wget -nv -O- https://sentinel-cogs.s3.us-west-2.amazonaws.com/sentinel-s2-l2a-cogs/23/K/PR/2020/4/S2A_23KPR_20200413_0_L2A/B03.tif | aws s3 cp - s3://dev-et-data/usmart/RIO/sentinel-s2-l2a-cogs/S2A_23KPR_20200413_0_L2A_B03.tif\n"
     ]
    },
    {
     "name": "stderr",
     "output_type": "stream",
     "text": [
      "2021-09-13 16:20:01 URL:https://sentinel-cogs.s3.us-west-2.amazonaws.com/sentinel-s2-l2a-cogs/23/K/PR/2020/5/S2A_23KPR_20200503_0_L2A/B02.tif [217013949/217013949] -> \"-\" [1]\n",
      "2021-09-13 16:20:02 URL:https://sentinel-cogs.s3.us-west-2.amazonaws.com/sentinel-s2-l2a-cogs/23/K/NR/2020/4/S2A_23KNR_20200413_0_L2A/B03.tif [130353383/130353383] -> \"-\" [1]\n",
      "2021-09-13 16:20:02 URL:https://sentinel-cogs.s3.us-west-2.amazonaws.com/sentinel-s2-l2a-cogs/23/K/PR/2020/4/S2B_23KPR_20200408_0_L2A/B04.tif [178685926/178685926] -> \"-\" [1]\n",
      "16:20:03: sending https://sentinel-cogs.s3.us-west-2.amazonaws.com/sentinel-s2-l2a-cogs/23/K/PR/2020/4/S2B_23KPR_20200408_0_L2A/B03.tif\n",
      "16:20:03: sending https://sentinel-cogs.s3.us-west-2.amazonaws.com/sentinel-s2-l2a-cogs/23/K/NR/2020/4/S2A_23KNR_20200413_0_L2A/B02.tif\n",
      "16:20:03: Thread 97: finishing in 34 seconds\n",
      "16:20:03: xfer Thread 115: starting\n",
      "16:20:03: sending https://sentinel-cogs.s3.us-west-2.amazonaws.com/sentinel-s2-l2a-cogs/23/K/PR/2020/3/S2B_23KPR_20200319_0_L2A/B04.tif\n"
     ]
    },
    {
     "name": "stdout",
     "output_type": "stream",
     "text": [
      "\n",
      "\n",
      "wget this: %s https://sentinel-cogs.s3.us-west-2.amazonaws.com/sentinel-s2-l2a-cogs/23/K/PR/2020/4/S2B_23KPR_20200408_0_L2A/B03.tif\n",
      "wget -nv -O- https://sentinel-cogs.s3.us-west-2.amazonaws.com/sentinel-s2-l2a-cogs/23/K/PR/2020/4/S2B_23KPR_20200408_0_L2A/B03.tif | aws s3 cp - s3://dev-et-data/usmart/RIO/sentinel-s2-l2a-cogs/\n",
      "S2B_23KPR_20200408_0_L2A_B03.tif\n",
      "wget -nv -O- https://sentinel-cogs.s3.us-west-2.amazonaws.com/sentinel-s2-l2a-cogs/23/K/PR/2020/4/S2B_23KPR_20200408_0_L2A/B03.tif | aws s3 cp - s3://dev-et-data/usmart/RIO/sentinel-s2-l2a-cogs/S2B_23KPR_20200408_0_L2A_B03.tif\n",
      "\n",
      "\n",
      "wget this: %s https://sentinel-cogs.s3.us-west-2.amazonaws.com/sentinel-s2-l2a-cogs/23/K/NR/2020/4/S2A_23KNR_20200413_0_L2A/B02.tif\n",
      "wget -nv -O- https://sentinel-cogs.s3.us-west-2.amazonaws.com/sentinel-s2-l2a-cogs/23/K/NR/2020/4/S2A_23KNR_20200413_0_L2A/B02.tif | aws s3 cp - s3://dev-et-data/usmart/RIO/sentinel-s2-l2a-cogs/\n",
      "S2A_23KNR_20200413_0_L2A_B02.tif\n",
      "wget -nv -O- https://sentinel-cogs.s3.us-west-2.amazonaws.com/sentinel-s2-l2a-cogs/23/K/NR/2020/4/S2A_23KNR_20200413_0_L2A/B02.tif | aws s3 cp - s3://dev-et-data/usmart/RIO/sentinel-s2-l2a-cogs/S2A_23KNR_20200413_0_L2A_B02.tif\n",
      "\n",
      "\n",
      "wget this: %s https://sentinel-cogs.s3.us-west-2.amazonaws.com/sentinel-s2-l2a-cogs/23/K/PR/2020/3/S2B_23KPR_20200319_0_L2A/B04.tif\n",
      "wget -nv -O- https://sentinel-cogs.s3.us-west-2.amazonaws.com/sentinel-s2-l2a-cogs/23/K/PR/2020/3/S2B_23KPR_20200319_0_L2A/B04.tif | aws s3 cp - s3://dev-et-data/usmart/RIO/sentinel-s2-l2a-cogs/\n",
      "S2B_23KPR_20200319_0_L2A_B04.tif\n",
      "wget -nv -O- https://sentinel-cogs.s3.us-west-2.amazonaws.com/sentinel-s2-l2a-cogs/23/K/PR/2020/3/S2B_23KPR_20200319_0_L2A/B04.tif | aws s3 cp - s3://dev-et-data/usmart/RIO/sentinel-s2-l2a-cogs/S2B_23KPR_20200319_0_L2A_B04.tif\n"
     ]
    },
    {
     "name": "stderr",
     "output_type": "stream",
     "text": [
      "2021-09-13 16:20:03 URL:https://sentinel-cogs.s3.us-west-2.amazonaws.com/sentinel-s2-l2a-cogs/23/K/NR/2020/3/S2B_23KNR_20200329_0_L2A/B04.tif [124999023/124999023] -> \"-\" [1]\n",
      "2021-09-13 16:20:04 URL:https://sentinel-cogs.s3.us-west-2.amazonaws.com/sentinel-s2-l2a-cogs/23/K/PR/2020/4/S2A_23KPR_20200403_0_L2A/B04.tif [219755676/219755676] -> \"-\" [1]\n",
      "16:20:04: sending https://sentinel-cogs.s3.us-west-2.amazonaws.com/sentinel-s2-l2a-cogs/23/K/NR/2020/3/S2B_23KNR_20200329_0_L2A/B03.tif\n",
      "2021-09-13 16:20:04 URL:https://sentinel-cogs.s3.us-west-2.amazonaws.com/sentinel-s2-l2a-cogs/23/K/PR/2020/4/S2B_23KPR_20200428_0_L2A/B02.tif [211178349/211178349] -> \"-\" [1]\n"
     ]
    },
    {
     "name": "stdout",
     "output_type": "stream",
     "text": [
      "\n",
      "\n",
      "wget this: %s https://sentinel-cogs.s3.us-west-2.amazonaws.com/sentinel-s2-l2a-cogs/23/K/NR/2020/3/S2B_23KNR_20200329_0_L2A/B03.tif\n",
      "wget -nv -O- https://sentinel-cogs.s3.us-west-2.amazonaws.com/sentinel-s2-l2a-cogs/23/K/NR/2020/3/S2B_23KNR_20200329_0_L2A/B03.tif | aws s3 cp - s3://dev-et-data/usmart/RIO/sentinel-s2-l2a-cogs/\n",
      "S2B_23KNR_20200329_0_L2A_B03.tif\n",
      "wget -nv -O- https://sentinel-cogs.s3.us-west-2.amazonaws.com/sentinel-s2-l2a-cogs/23/K/NR/2020/3/S2B_23KNR_20200329_0_L2A/B03.tif | aws s3 cp - s3://dev-et-data/usmart/RIO/sentinel-s2-l2a-cogs/S2B_23KNR_20200329_0_L2A_B03.tif\n"
     ]
    },
    {
     "name": "stderr",
     "output_type": "stream",
     "text": [
      "2021-09-13 16:20:04 URL:https://sentinel-cogs.s3.us-west-2.amazonaws.com/sentinel-s2-l2a-cogs/23/K/NR/2020/4/S2B_23KNR_20200408_0_L2A/B03.tif [101316899/101316899] -> \"-\" [1]\n",
      "2021-09-13 16:20:05 URL:https://sentinel-cogs.s3.us-west-2.amazonaws.com/sentinel-s2-l2a-cogs/23/K/PR/2020/4/S2B_23KPR_20200418_0_L2A/B03.tif [224443938/224443938] -> \"-\" [1]\n",
      "16:20:05: Thread 99: finishing in 32 seconds\n",
      "16:20:05: xfer Thread 116: starting\n",
      "16:20:05: sending https://sentinel-cogs.s3.us-west-2.amazonaws.com/sentinel-s2-l2a-cogs/23/K/NR/2020/3/S2A_23KNR_20200314_0_L2A/B04.tif\n",
      "16:20:05: sending https://sentinel-cogs.s3.us-west-2.amazonaws.com/sentinel-s2-l2a-cogs/23/K/NR/2020/4/S2B_23KNR_20200408_0_L2A/B02.tif\n"
     ]
    },
    {
     "name": "stdout",
     "output_type": "stream",
     "text": [
      "\n",
      "\n",
      "wget this: %s https://sentinel-cogs.s3.us-west-2.amazonaws.com/sentinel-s2-l2a-cogs/23/K/NR/2020/3/S2A_23KNR_20200314_0_L2A/B04.tif\n",
      "wget -nv -O- https://sentinel-cogs.s3.us-west-2.amazonaws.com/sentinel-s2-l2a-cogs/23/K/NR/2020/3/S2A_23KNR_20200314_0_L2A/B04.tif | aws s3 cp - s3://dev-et-data/usmart/RIO/sentinel-s2-l2a-cogs/\n",
      "S2A_23KNR_20200314_0_L2A_B04.tif\n",
      "wget -nv -O- https://sentinel-cogs.s3.us-west-2.amazonaws.com/sentinel-s2-l2a-cogs/23/K/NR/2020/3/S2A_23KNR_20200314_0_L2A/B04.tif | aws s3 cp - s3://dev-et-data/usmart/RIO/sentinel-s2-l2a-cogs/S2A_23KNR_20200314_0_L2A_B04.tif\n",
      "\n",
      "\n",
      "wget this: %s https://sentinel-cogs.s3.us-west-2.amazonaws.com/sentinel-s2-l2a-cogs/23/K/NR/2020/4/S2B_23KNR_20200408_0_L2A/B02.tif\n",
      "wget -nv -O- https://sentinel-cogs.s3.us-west-2.amazonaws.com/sentinel-s2-l2a-cogs/23/K/NR/2020/4/S2B_23KNR_20200408_0_L2A/B02.tif | aws s3 cp - s3://dev-et-data/usmart/RIO/sentinel-s2-l2a-cogs/\n",
      "S2B_23KNR_20200408_0_L2A_B02.tif\n",
      "wget -nv -O- https://sentinel-cogs.s3.us-west-2.amazonaws.com/sentinel-s2-l2a-cogs/23/K/NR/2020/4/S2B_23KNR_20200408_0_L2A/B02.tif | aws s3 cp - s3://dev-et-data/usmart/RIO/sentinel-s2-l2a-cogs/S2B_23KNR_20200408_0_L2A_B02.tif\n"
     ]
    },
    {
     "name": "stderr",
     "output_type": "stream",
     "text": [
      "16:20:06: sending https://sentinel-cogs.s3.us-west-2.amazonaws.com/sentinel-s2-l2a-cogs/23/K/PR/2020/4/S2B_23KPR_20200418_0_L2A/B02.tif\n"
     ]
    },
    {
     "name": "stdout",
     "output_type": "stream",
     "text": [
      "\n",
      "\n",
      "wget this: %s https://sentinel-cogs.s3.us-west-2.amazonaws.com/sentinel-s2-l2a-cogs/23/K/PR/2020/4/S2B_23KPR_20200418_0_L2A/B02.tif\n",
      "wget -nv -O- https://sentinel-cogs.s3.us-west-2.amazonaws.com/sentinel-s2-l2a-cogs/23/K/PR/2020/4/S2B_23KPR_20200418_0_L2A/B02.tif | aws s3 cp - s3://dev-et-data/usmart/RIO/sentinel-s2-l2a-cogs/\n",
      "S2B_23KPR_20200418_0_L2A_B02.tif\n",
      "wget -nv -O- https://sentinel-cogs.s3.us-west-2.amazonaws.com/sentinel-s2-l2a-cogs/23/K/PR/2020/4/S2B_23KPR_20200418_0_L2A/B02.tif | aws s3 cp - s3://dev-et-data/usmart/RIO/sentinel-s2-l2a-cogs/S2B_23KPR_20200418_0_L2A_B02.tif\n"
     ]
    },
    {
     "name": "stderr",
     "output_type": "stream",
     "text": [
      "2021-09-13 16:20:07 URL:https://sentinel-cogs.s3.us-west-2.amazonaws.com/sentinel-s2-l2a-cogs/23/K/NR/2020/4/S2A_23KNR_20200403_0_L2A/B03.tif [125282108/125282108] -> \"-\" [1]\n",
      "2021-09-13 16:20:07 URL:https://sentinel-cogs.s3.us-west-2.amazonaws.com/sentinel-s2-l2a-cogs/23/K/NR/2020/3/S2A_23KNR_20200324_0_L2A/B04.tif [126744733/126744733] -> \"-\" [1]\n",
      "16:20:08: sending https://sentinel-cogs.s3.us-west-2.amazonaws.com/sentinel-s2-l2a-cogs/23/K/NR/2020/4/S2A_23KNR_20200403_0_L2A/B02.tif\n"
     ]
    },
    {
     "name": "stdout",
     "output_type": "stream",
     "text": [
      "\n",
      "\n",
      "wget this: %s https://sentinel-cogs.s3.us-west-2.amazonaws.com/sentinel-s2-l2a-cogs/23/K/NR/2020/4/S2A_23KNR_20200403_0_L2A/B02.tif\n",
      "wget -nv -O- https://sentinel-cogs.s3.us-west-2.amazonaws.com/sentinel-s2-l2a-cogs/23/K/NR/2020/4/S2A_23KNR_20200403_0_L2A/B02.tif | aws s3 cp - s3://dev-et-data/usmart/RIO/sentinel-s2-l2a-cogs/\n",
      "S2A_23KNR_20200403_0_L2A_B02.tif\n",
      "wget -nv -O- https://sentinel-cogs.s3.us-west-2.amazonaws.com/sentinel-s2-l2a-cogs/23/K/NR/2020/4/S2A_23KNR_20200403_0_L2A/B02.tif | aws s3 cp - s3://dev-et-data/usmart/RIO/sentinel-s2-l2a-cogs/S2A_23KNR_20200403_0_L2A_B02.tif\n"
     ]
    },
    {
     "name": "stderr",
     "output_type": "stream",
     "text": [
      "16:20:08: sending https://sentinel-cogs.s3.us-west-2.amazonaws.com/sentinel-s2-l2a-cogs/23/K/NR/2020/3/S2A_23KNR_20200324_0_L2A/B03.tif\n"
     ]
    },
    {
     "name": "stdout",
     "output_type": "stream",
     "text": [
      "\n",
      "\n",
      "wget this: %s https://sentinel-cogs.s3.us-west-2.amazonaws.com/sentinel-s2-l2a-cogs/23/K/NR/2020/3/S2A_23KNR_20200324_0_L2A/B03.tif\n",
      "wget -nv -O- https://sentinel-cogs.s3.us-west-2.amazonaws.com/sentinel-s2-l2a-cogs/23/K/NR/2020/3/S2A_23KNR_20200324_0_L2A/B03.tif | aws s3 cp - s3://dev-et-data/usmart/RIO/sentinel-s2-l2a-cogs/\n",
      "S2A_23KNR_20200324_0_L2A_B03.tif\n",
      "wget -nv -O- https://sentinel-cogs.s3.us-west-2.amazonaws.com/sentinel-s2-l2a-cogs/23/K/NR/2020/3/S2A_23KNR_20200324_0_L2A/B03.tif | aws s3 cp - s3://dev-et-data/usmart/RIO/sentinel-s2-l2a-cogs/S2A_23KNR_20200324_0_L2A_B03.tif\n"
     ]
    },
    {
     "name": "stderr",
     "output_type": "stream",
     "text": [
      "2021-09-13 16:20:08 URL:https://sentinel-cogs.s3.us-west-2.amazonaws.com/sentinel-s2-l2a-cogs/23/K/PR/2020/3/S2B_23KPR_20200329_0_L2A/B04.tif [226061771/226061771] -> \"-\" [1]\n",
      "16:20:09: sending https://sentinel-cogs.s3.us-west-2.amazonaws.com/sentinel-s2-l2a-cogs/23/K/PR/2020/4/S2A_23KPR_20200403_0_L2A/B03.tif\n"
     ]
    },
    {
     "name": "stdout",
     "output_type": "stream",
     "text": [
      "\n",
      "\n",
      "wget this: %s https://sentinel-cogs.s3.us-west-2.amazonaws.com/sentinel-s2-l2a-cogs/23/K/PR/2020/4/S2A_23KPR_20200403_0_L2A/B03.tif\n",
      "wget -nv -O- https://sentinel-cogs.s3.us-west-2.amazonaws.com/sentinel-s2-l2a-cogs/23/K/PR/2020/4/S2A_23KPR_20200403_0_L2A/B03.tif | aws s3 cp - s3://dev-et-data/usmart/RIO/sentinel-s2-l2a-cogs/\n",
      "S2A_23KPR_20200403_0_L2A_B03.tif\n",
      "wget -nv -O- https://sentinel-cogs.s3.us-west-2.amazonaws.com/sentinel-s2-l2a-cogs/23/K/PR/2020/4/S2A_23KPR_20200403_0_L2A/B03.tif | aws s3 cp - s3://dev-et-data/usmart/RIO/sentinel-s2-l2a-cogs/S2A_23KPR_20200403_0_L2A_B03.tif\n"
     ]
    },
    {
     "name": "stderr",
     "output_type": "stream",
     "text": [
      "2021-09-13 16:20:09 URL:https://sentinel-cogs.s3.us-west-2.amazonaws.com/sentinel-s2-l2a-cogs/23/K/NR/2020/3/S2B_23KNR_20200319_0_L2A/B04.tif [115290629/115290629] -> \"-\" [1]\n",
      "16:20:10: sending https://sentinel-cogs.s3.us-west-2.amazonaws.com/sentinel-s2-l2a-cogs/23/K/PR/2020/3/S2B_23KPR_20200329_0_L2A/B03.tif\n"
     ]
    },
    {
     "name": "stdout",
     "output_type": "stream",
     "text": [
      "\n",
      "\n",
      "wget this: %s https://sentinel-cogs.s3.us-west-2.amazonaws.com/sentinel-s2-l2a-cogs/23/K/PR/2020/3/S2B_23KPR_20200329_0_L2A/B03.tif\n",
      "wget -nv -O- https://sentinel-cogs.s3.us-west-2.amazonaws.com/sentinel-s2-l2a-cogs/23/K/PR/2020/3/S2B_23KPR_20200329_0_L2A/B03.tif | aws s3 cp - s3://dev-et-data/usmart/RIO/sentinel-s2-l2a-cogs/\n",
      "S2B_23KPR_20200329_0_L2A_B03.tif\n",
      "wget -nv -O- https://sentinel-cogs.s3.us-west-2.amazonaws.com/sentinel-s2-l2a-cogs/23/K/PR/2020/3/S2B_23KPR_20200329_0_L2A/B03.tif | aws s3 cp - s3://dev-et-data/usmart/RIO/sentinel-s2-l2a-cogs/S2B_23KPR_20200329_0_L2A_B03.tif\n"
     ]
    },
    {
     "name": "stderr",
     "output_type": "stream",
     "text": [
      "16:20:10: sending https://sentinel-cogs.s3.us-west-2.amazonaws.com/sentinel-s2-l2a-cogs/23/K/NR/2020/3/S2B_23KNR_20200319_0_L2A/B03.tif\n"
     ]
    },
    {
     "name": "stdout",
     "output_type": "stream",
     "text": [
      "\n",
      "\n",
      "wget this: %s https://sentinel-cogs.s3.us-west-2.amazonaws.com/sentinel-s2-l2a-cogs/23/K/NR/2020/3/S2B_23KNR_20200319_0_L2A/B03.tif\n",
      "wget -nv -O- https://sentinel-cogs.s3.us-west-2.amazonaws.com/sentinel-s2-l2a-cogs/23/K/NR/2020/3/S2B_23KNR_20200319_0_L2A/B03.tif | aws s3 cp - s3://dev-et-data/usmart/RIO/sentinel-s2-l2a-cogs/\n",
      "S2B_23KNR_20200319_0_L2A_B03.tif\n",
      "wget -nv -O- https://sentinel-cogs.s3.us-west-2.amazonaws.com/sentinel-s2-l2a-cogs/23/K/NR/2020/3/S2B_23KNR_20200319_0_L2A/B03.tif | aws s3 cp - s3://dev-et-data/usmart/RIO/sentinel-s2-l2a-cogs/S2B_23KNR_20200319_0_L2A_B03.tif\n"
     ]
    },
    {
     "name": "stderr",
     "output_type": "stream",
     "text": [
      "2021-09-13 16:20:10 URL:https://sentinel-cogs.s3.us-west-2.amazonaws.com/sentinel-s2-l2a-cogs/23/K/PR/2020/4/S2A_23KPR_20200423_0_L2A/B02.tif [236523050/236523050] -> \"-\" [1]\n",
      "2021-09-13 16:20:10 URL:https://sentinel-cogs.s3.us-west-2.amazonaws.com/sentinel-s2-l2a-cogs/23/K/NR/2020/4/S2A_23KNR_20200413_0_L2A/B02.tif [130773361/130773361] -> \"-\" [1]\n",
      "2021-09-13 16:20:10 URL:https://sentinel-cogs.s3.us-west-2.amazonaws.com/sentinel-s2-l2a-cogs/23/K/PR/2020/3/S2A_23KPR_20200324_0_L2A/B04.tif [225965413/225965413] -> \"-\" [1]\n",
      "2021-09-13 16:20:11 URL:https://sentinel-cogs.s3.us-west-2.amazonaws.com/sentinel-s2-l2a-cogs/23/K/NR/2020/3/S2B_23KNR_20200329_0_L2A/B03.tif [125164492/125164492] -> \"-\" [1]\n",
      "16:20:11: Thread 101: finishing in 35 seconds\n",
      "16:20:11: xfer Thread 117: starting\n",
      "16:20:11: sending https://sentinel-cogs.s3.us-west-2.amazonaws.com/sentinel-s2-l2a-cogs/23/K/PR/2020/3/S2A_23KPR_20200314_0_L2A/B04.tif\n",
      "2021-09-13 16:20:11 URL:https://sentinel-cogs.s3.us-west-2.amazonaws.com/sentinel-s2-l2a-cogs/23/K/PR/2020/4/S2A_23KPR_20200413_0_L2A/B03.tif [232295645/232295645] -> \"-\" [1]\n",
      "16:20:11: sending https://sentinel-cogs.s3.us-west-2.amazonaws.com/sentinel-s2-l2a-cogs/23/K/PR/2020/3/S2A_23KPR_20200324_0_L2A/B03.tif\n"
     ]
    },
    {
     "name": "stdout",
     "output_type": "stream",
     "text": [
      "\n",
      "\n",
      "wget this: %s https://sentinel-cogs.s3.us-west-2.amazonaws.com/sentinel-s2-l2a-cogs/23/K/PR/2020/3/S2A_23KPR_20200314_0_L2A/B04.tif\n",
      "wget -nv -O- https://sentinel-cogs.s3.us-west-2.amazonaws.com/sentinel-s2-l2a-cogs/23/K/PR/2020/3/S2A_23KPR_20200314_0_L2A/B04.tif | aws s3 cp - s3://dev-et-data/usmart/RIO/sentinel-s2-l2a-cogs/\n",
      "S2A_23KPR_20200314_0_L2A_B04.tif\n",
      "wget -nv -O- https://sentinel-cogs.s3.us-west-2.amazonaws.com/sentinel-s2-l2a-cogs/23/K/PR/2020/3/S2A_23KPR_20200314_0_L2A/B04.tif | aws s3 cp - s3://dev-et-data/usmart/RIO/sentinel-s2-l2a-cogs/S2A_23KPR_20200314_0_L2A_B04.tif\n",
      "\n",
      "\n",
      "wget this: %s https://sentinel-cogs.s3.us-west-2.amazonaws.com/sentinel-s2-l2a-cogs/23/K/PR/2020/3/S2A_23KPR_20200324_0_L2A/B03.tif\n",
      "wget -nv -O- https://sentinel-cogs.s3.us-west-2.amazonaws.com/sentinel-s2-l2a-cogs/23/K/PR/2020/3/S2A_23KPR_20200324_0_L2A/B03.tif | aws s3 cp - s3://dev-et-data/usmart/RIO/sentinel-s2-l2a-cogs/\n",
      "S2A_23KPR_20200324_0_L2A_B03.tif\n",
      "wget -nv -O- https://sentinel-cogs.s3.us-west-2.amazonaws.com/sentinel-s2-l2a-cogs/23/K/PR/2020/3/S2A_23KPR_20200324_0_L2A/B03.tif | aws s3 cp - s3://dev-et-data/usmart/RIO/sentinel-s2-l2a-cogs/S2A_23KPR_20200324_0_L2A_B03.tif\n"
     ]
    },
    {
     "name": "stderr",
     "output_type": "stream",
     "text": [
      "2021-09-13 16:20:11 URL:https://sentinel-cogs.s3.us-west-2.amazonaws.com/sentinel-s2-l2a-cogs/23/K/PR/2020/4/S2B_23KPR_20200408_0_L2A/B03.tif [178535823/178535823] -> \"-\" [1]\n",
      "16:20:12: Thread 104: finishing in 27 seconds\n",
      "16:20:12: xfer Thread 118: starting\n",
      "16:20:12: sending https://sentinel-cogs.s3.us-west-2.amazonaws.com/sentinel-s2-l2a-cogs/23/K/NR/2020/3/S2B_23KNR_20200309_0_L2A/B04.tif\n",
      "16:20:12: sending https://sentinel-cogs.s3.us-west-2.amazonaws.com/sentinel-s2-l2a-cogs/23/K/NR/2020/3/S2B_23KNR_20200329_0_L2A/B02.tif\n"
     ]
    },
    {
     "name": "stdout",
     "output_type": "stream",
     "text": [
      "\n",
      "\n",
      "wget this: %s https://sentinel-cogs.s3.us-west-2.amazonaws.com/sentinel-s2-l2a-cogs/23/K/NR/2020/3/S2B_23KNR_20200309_0_L2A/B04.tif\n",
      "wget -nv -O- https://sentinel-cogs.s3.us-west-2.amazonaws.com/sentinel-s2-l2a-cogs/23/K/NR/2020/3/S2B_23KNR_20200309_0_L2A/B04.tif | aws s3 cp - s3://dev-et-data/usmart/RIO/sentinel-s2-l2a-cogs/\n",
      "S2B_23KNR_20200309_0_L2A_B04.tif\n",
      "wget -nv -O- https://sentinel-cogs.s3.us-west-2.amazonaws.com/sentinel-s2-l2a-cogs/23/K/NR/2020/3/S2B_23KNR_20200309_0_L2A/B04.tif | aws s3 cp - s3://dev-et-data/usmart/RIO/sentinel-s2-l2a-cogs/S2B_23KNR_20200309_0_L2A_B04.tif\n",
      "\n",
      "\n",
      "wget this: %s https://sentinel-cogs.s3.us-west-2.amazonaws.com/sentinel-s2-l2a-cogs/23/K/NR/2020/3/S2B_23KNR_20200329_0_L2A/B02.tif\n",
      "wget -nv -O- https://sentinel-cogs.s3.us-west-2.amazonaws.com/sentinel-s2-l2a-cogs/23/K/NR/2020/3/S2B_23KNR_20200329_0_L2A/B02.tif | aws s3 cp - s3://dev-et-data/usmart/RIO/sentinel-s2-l2a-cogs/\n",
      "S2B_23KNR_20200329_0_L2A_B02.tif\n",
      "wget -nv -O- https://sentinel-cogs.s3.us-west-2.amazonaws.com/sentinel-s2-l2a-cogs/23/K/NR/2020/3/S2B_23KNR_20200329_0_L2A/B02.tif | aws s3 cp - s3://dev-et-data/usmart/RIO/sentinel-s2-l2a-cogs/S2B_23KNR_20200329_0_L2A_B02.tif\n"
     ]
    },
    {
     "name": "stderr",
     "output_type": "stream",
     "text": [
      "16:20:12: sending https://sentinel-cogs.s3.us-west-2.amazonaws.com/sentinel-s2-l2a-cogs/23/K/PR/2020/4/S2B_23KPR_20200408_0_L2A/B02.tif\n"
     ]
    },
    {
     "name": "stdout",
     "output_type": "stream",
     "text": [
      "\n",
      "\n",
      "wget this: %s https://sentinel-cogs.s3.us-west-2.amazonaws.com/sentinel-s2-l2a-cogs/23/K/PR/2020/4/S2B_23KPR_20200408_0_L2A/B02.tif\n",
      "wget -nv -O- https://sentinel-cogs.s3.us-west-2.amazonaws.com/sentinel-s2-l2a-cogs/23/K/PR/2020/4/S2B_23KPR_20200408_0_L2A/B02.tif | aws s3 cp - s3://dev-et-data/usmart/RIO/sentinel-s2-l2a-cogs/\n",
      "S2B_23KPR_20200408_0_L2A_B02.tif\n",
      "wget -nv -O- https://sentinel-cogs.s3.us-west-2.amazonaws.com/sentinel-s2-l2a-cogs/23/K/PR/2020/4/S2B_23KPR_20200408_0_L2A/B02.tif | aws s3 cp - s3://dev-et-data/usmart/RIO/sentinel-s2-l2a-cogs/S2B_23KPR_20200408_0_L2A_B02.tif\n"
     ]
    },
    {
     "name": "stderr",
     "output_type": "stream",
     "text": [
      "16:20:12: sending https://sentinel-cogs.s3.us-west-2.amazonaws.com/sentinel-s2-l2a-cogs/23/K/PR/2020/4/S2A_23KPR_20200413_0_L2A/B02.tif\n"
     ]
    },
    {
     "name": "stdout",
     "output_type": "stream",
     "text": [
      "\n",
      "\n",
      "wget this: %s https://sentinel-cogs.s3.us-west-2.amazonaws.com/sentinel-s2-l2a-cogs/23/K/PR/2020/4/S2A_23KPR_20200413_0_L2A/B02.tif\n",
      "wget -nv -O- https://sentinel-cogs.s3.us-west-2.amazonaws.com/sentinel-s2-l2a-cogs/23/K/PR/2020/4/S2A_23KPR_20200413_0_L2A/B02.tif | aws s3 cp - s3://dev-et-data/usmart/RIO/sentinel-s2-l2a-cogs/\n",
      "S2A_23KPR_20200413_0_L2A_B02.tif\n",
      "wget -nv -O- https://sentinel-cogs.s3.us-west-2.amazonaws.com/sentinel-s2-l2a-cogs/23/K/PR/2020/4/S2A_23KPR_20200413_0_L2A/B02.tif | aws s3 cp - s3://dev-et-data/usmart/RIO/sentinel-s2-l2a-cogs/S2A_23KPR_20200413_0_L2A_B02.tif\n"
     ]
    },
    {
     "name": "stderr",
     "output_type": "stream",
     "text": [
      "2021-09-13 16:20:13 URL:https://sentinel-cogs.s3.us-west-2.amazonaws.com/sentinel-s2-l2a-cogs/23/K/NR/2020/3/S2A_23KNR_20200314_0_L2A/B04.tif [127560059/127560059] -> \"-\" [1]\n",
      "2021-09-13 16:20:13 URL:https://sentinel-cogs.s3.us-west-2.amazonaws.com/sentinel-s2-l2a-cogs/23/K/NR/2020/4/S2B_23KNR_20200408_0_L2A/B02.tif [101419318/101419318] -> \"-\" [1]\n",
      "16:20:13: Thread 106: finishing in 23 seconds\n",
      "16:20:13: xfer Thread 119: starting\n",
      "16:20:13: sending https://sentinel-cogs.s3.us-west-2.amazonaws.com/sentinel-s2-l2a-cogs/23/K/NR/2020/3/S2A_23KNR_20200314_0_L2A/B03.tif\n",
      "16:20:13: sending https://sentinel-cogs.s3.us-west-2.amazonaws.com/sentinel-s2-l2a-cogs/23/K/PR/2020/3/S2B_23KPR_20200309_0_L2A/B04.tif\n"
     ]
    },
    {
     "name": "stdout",
     "output_type": "stream",
     "text": [
      "\n",
      "\n",
      "\n",
      "\n",
      "wget this: %s https://sentinel-cogs.s3.us-west-2.amazonaws.com/sentinel-s2-l2a-cogs/23/K/NR/2020/3/S2A_23KNR_20200314_0_L2A/B03.tif\n",
      "wget -nv -O- https://sentinel-cogs.s3.us-west-2.amazonaws.com/sentinel-s2-l2a-cogs/23/K/NR/2020/3/S2A_23KNR_20200314_0_L2A/B03.tif | aws s3 cp - s3://dev-et-data/usmart/RIO/sentinel-s2-l2a-cogs/\n",
      "S2A_23KNR_20200314_0_L2A_B03.tif\n",
      "wget -nv -O- https://sentinel-cogs.s3.us-west-2.amazonaws.com/sentinel-s2-l2a-cogs/23/K/NR/2020/3/S2A_23KNR_20200314_0_L2A/B03.tif | aws s3 cp - s3://dev-et-data/usmart/RIO/sentinel-s2-l2a-cogs/S2A_23KNR_20200314_0_L2A_B03.tif\n",
      "wget this: %s https://sentinel-cogs.s3.us-west-2.amazonaws.com/sentinel-s2-l2a-cogs/23/K/PR/2020/3/S2B_23KPR_20200309_0_L2A/B04.tif\n",
      "wget -nv -O- https://sentinel-cogs.s3.us-west-2.amazonaws.com/sentinel-s2-l2a-cogs/23/K/PR/2020/3/S2B_23KPR_20200309_0_L2A/B04.tif | aws s3 cp - s3://dev-et-data/usmart/RIO/sentinel-s2-l2a-cogs/\n",
      "S2B_23KPR_20200309_0_L2A_B04.tif\n",
      "wget -nv -O- https://sentinel-cogs.s3.us-west-2.amazonaws.com/sentinel-s2-l2a-cogs/23/K/PR/2020/3/S2B_23KPR_20200309_0_L2A/B04.tif | aws s3 cp - s3://dev-et-data/usmart/RIO/sentinel-s2-l2a-cogs/S2B_23KPR_20200309_0_L2A_B04.tif\n"
     ]
    },
    {
     "name": "stderr",
     "output_type": "stream",
     "text": [
      "2021-09-13 16:20:15 URL:https://sentinel-cogs.s3.us-west-2.amazonaws.com/sentinel-s2-l2a-cogs/23/K/PR/2020/3/S2B_23KPR_20200319_0_L2A/B04.tif [221735839/221735839] -> \"-\" [1]\n",
      "2021-09-13 16:20:15 URL:https://sentinel-cogs.s3.us-west-2.amazonaws.com/sentinel-s2-l2a-cogs/23/K/NR/2020/3/S2A_23KNR_20200324_0_L2A/B03.tif [127129602/127129602] -> \"-\" [1]\n",
      "16:20:16: sending https://sentinel-cogs.s3.us-west-2.amazonaws.com/sentinel-s2-l2a-cogs/23/K/PR/2020/3/S2B_23KPR_20200319_0_L2A/B03.tif\n",
      "16:20:16: sending https://sentinel-cogs.s3.us-west-2.amazonaws.com/sentinel-s2-l2a-cogs/23/K/NR/2020/3/S2A_23KNR_20200324_0_L2A/B02.tif\n"
     ]
    },
    {
     "name": "stdout",
     "output_type": "stream",
     "text": [
      "\n",
      "\n",
      "wget this: %s https://sentinel-cogs.s3.us-west-2.amazonaws.com/sentinel-s2-l2a-cogs/23/K/PR/2020/3/S2B_23KPR_20200319_0_L2A/B03.tif\n",
      "wget -nv -O- https://sentinel-cogs.s3.us-west-2.amazonaws.com/sentinel-s2-l2a-cogs/23/K/PR/2020/3/S2B_23KPR_20200319_0_L2A/B03.tif | aws s3 cp - s3://dev-et-data/usmart/RIO/sentinel-s2-l2a-cogs/\n",
      "S2B_23KPR_20200319_0_L2A_B03.tif\n",
      "wget -nv -O- https://sentinel-cogs.s3.us-west-2.amazonaws.com/sentinel-s2-l2a-cogs/23/K/PR/2020/3/S2B_23KPR_20200319_0_L2A/B03.tif | aws s3 cp - s3://dev-et-data/usmart/RIO/sentinel-s2-l2a-cogs/S2B_23KPR_20200319_0_L2A_B03.tif\n",
      "\n",
      "\n",
      "wget this: %s https://sentinel-cogs.s3.us-west-2.amazonaws.com/sentinel-s2-l2a-cogs/23/K/NR/2020/3/S2A_23KNR_20200324_0_L2A/B02.tif\n",
      "wget -nv -O- https://sentinel-cogs.s3.us-west-2.amazonaws.com/sentinel-s2-l2a-cogs/23/K/NR/2020/3/S2A_23KNR_20200324_0_L2A/B02.tif | aws s3 cp - s3://dev-et-data/usmart/RIO/sentinel-s2-l2a-cogs/\n",
      "S2A_23KNR_20200324_0_L2A_B02.tif\n",
      "wget -nv -O- https://sentinel-cogs.s3.us-west-2.amazonaws.com/sentinel-s2-l2a-cogs/23/K/NR/2020/3/S2A_23KNR_20200324_0_L2A/B02.tif | aws s3 cp - s3://dev-et-data/usmart/RIO/sentinel-s2-l2a-cogs/S2A_23KNR_20200324_0_L2A_B02.tif\n"
     ]
    },
    {
     "name": "stderr",
     "output_type": "stream",
     "text": [
      "2021-09-13 16:20:16 URL:https://sentinel-cogs.s3.us-west-2.amazonaws.com/sentinel-s2-l2a-cogs/23/K/NR/2020/4/S2A_23KNR_20200403_0_L2A/B02.tif [121402333/121402333] -> \"-\" [1]\n",
      "2021-09-13 16:20:17 URL:https://sentinel-cogs.s3.us-west-2.amazonaws.com/sentinel-s2-l2a-cogs/23/K/PR/2020/4/S2B_23KPR_20200418_0_L2A/B02.tif [223602428/223602428] -> \"-\" [1]\n",
      "2021-09-13 16:20:17 URL:https://sentinel-cogs.s3.us-west-2.amazonaws.com/sentinel-s2-l2a-cogs/23/K/NR/2020/3/S2B_23KNR_20200319_0_L2A/B03.tif [115402931/115402931] -> \"-\" [1]\n",
      "16:20:17: Thread 108: finishing in 24 seconds\n",
      "16:20:17: xfer Thread 120: starting\n",
      "16:20:17: sending https://sentinel-cogs.s3.us-west-2.amazonaws.com/sentinel-s2-l2a-cogs/23/K/NR/2020/3/S2A_23KNR_20200304_0_L2A/B04.tif\n"
     ]
    },
    {
     "name": "stdout",
     "output_type": "stream",
     "text": [
      "\n",
      "\n",
      "wget this: %s https://sentinel-cogs.s3.us-west-2.amazonaws.com/sentinel-s2-l2a-cogs/23/K/NR/2020/3/S2A_23KNR_20200304_0_L2A/B04.tif\n",
      "wget -nv -O- https://sentinel-cogs.s3.us-west-2.amazonaws.com/sentinel-s2-l2a-cogs/23/K/NR/2020/3/S2A_23KNR_20200304_0_L2A/B04.tif | aws s3 cp - s3://dev-et-data/usmart/RIO/sentinel-s2-l2a-cogs/\n",
      "S2A_23KNR_20200304_0_L2A_B04.tif\n",
      "wget -nv -O- https://sentinel-cogs.s3.us-west-2.amazonaws.com/sentinel-s2-l2a-cogs/23/K/NR/2020/3/S2A_23KNR_20200304_0_L2A/B04.tif | aws s3 cp - s3://dev-et-data/usmart/RIO/sentinel-s2-l2a-cogs/S2A_23KNR_20200304_0_L2A_B04.tif\n"
     ]
    },
    {
     "name": "stderr",
     "output_type": "stream",
     "text": [
      "16:20:18: sending https://sentinel-cogs.s3.us-west-2.amazonaws.com/sentinel-s2-l2a-cogs/23/K/NR/2020/3/S2B_23KNR_20200319_0_L2A/B02.tif\n"
     ]
    },
    {
     "name": "stdout",
     "output_type": "stream",
     "text": [
      "\n",
      "\n",
      "wget this: %s https://sentinel-cogs.s3.us-west-2.amazonaws.com/sentinel-s2-l2a-cogs/23/K/NR/2020/3/S2B_23KNR_20200319_0_L2A/B02.tif\n",
      "wget -nv -O- https://sentinel-cogs.s3.us-west-2.amazonaws.com/sentinel-s2-l2a-cogs/23/K/NR/2020/3/S2B_23KNR_20200319_0_L2A/B02.tif | aws s3 cp - s3://dev-et-data/usmart/RIO/sentinel-s2-l2a-cogs/\n",
      "S2B_23KNR_20200319_0_L2A_B02.tif\n",
      "wget -nv -O- https://sentinel-cogs.s3.us-west-2.amazonaws.com/sentinel-s2-l2a-cogs/23/K/NR/2020/3/S2B_23KNR_20200319_0_L2A/B02.tif | aws s3 cp - s3://dev-et-data/usmart/RIO/sentinel-s2-l2a-cogs/S2B_23KNR_20200319_0_L2A_B02.tif\n"
     ]
    },
    {
     "name": "stderr",
     "output_type": "stream",
     "text": [
      "16:20:18: Thread 103: finishing in 35 seconds\n",
      "16:20:18: xfer Thread 121: starting\n",
      "16:20:18: sending https://sentinel-cogs.s3.us-west-2.amazonaws.com/sentinel-s2-l2a-cogs/23/K/PR/2020/3/S2A_23KPR_20200304_0_L2A/B04.tif\n"
     ]
    },
    {
     "name": "stdout",
     "output_type": "stream",
     "text": [
      "\n",
      "\n",
      "wget this: %s https://sentinel-cogs.s3.us-west-2.amazonaws.com/sentinel-s2-l2a-cogs/23/K/PR/2020/3/S2A_23KPR_20200304_0_L2A/B04.tif\n",
      "wget -nv -O- https://sentinel-cogs.s3.us-west-2.amazonaws.com/sentinel-s2-l2a-cogs/23/K/PR/2020/3/S2A_23KPR_20200304_0_L2A/B04.tif | aws s3 cp - s3://dev-et-data/usmart/RIO/sentinel-s2-l2a-cogs/\n",
      "S2A_23KPR_20200304_0_L2A_B04.tif\n",
      "wget -nv -O- https://sentinel-cogs.s3.us-west-2.amazonaws.com/sentinel-s2-l2a-cogs/23/K/PR/2020/3/S2A_23KPR_20200304_0_L2A/B04.tif | aws s3 cp - s3://dev-et-data/usmart/RIO/sentinel-s2-l2a-cogs/S2A_23KPR_20200304_0_L2A_B04.tif\n"
     ]
    },
    {
     "name": "stderr",
     "output_type": "stream",
     "text": [
      "2021-09-13 16:20:19 URL:https://sentinel-cogs.s3.us-west-2.amazonaws.com/sentinel-s2-l2a-cogs/23/K/NR/2020/3/S2B_23KNR_20200309_0_L2A/B04.tif [129324612/129324612] -> \"-\" [1]\n",
      "2021-09-13 16:20:19 URL:https://sentinel-cogs.s3.us-west-2.amazonaws.com/sentinel-s2-l2a-cogs/23/K/NR/2020/3/S2B_23KNR_20200329_0_L2A/B02.tif [122215027/122215027] -> \"-\" [1]\n",
      "2021-09-13 16:20:19 URL:https://sentinel-cogs.s3.us-west-2.amazonaws.com/sentinel-s2-l2a-cogs/23/K/PR/2020/3/S2B_23KPR_20200329_0_L2A/B03.tif [226697313/226697313] -> \"-\" [1]\n",
      "2021-09-13 16:20:19 URL:https://sentinel-cogs.s3.us-west-2.amazonaws.com/sentinel-s2-l2a-cogs/23/K/PR/2020/4/S2A_23KPR_20200403_0_L2A/B03.tif [220023815/220023815] -> \"-\" [1]\n",
      "16:20:19: sending https://sentinel-cogs.s3.us-west-2.amazonaws.com/sentinel-s2-l2a-cogs/23/K/NR/2020/3/S2B_23KNR_20200309_0_L2A/B03.tif\n",
      "16:20:20: Thread 110: finishing in 23 seconds\n",
      "16:20:20: xfer Thread 122: starting\n",
      "16:20:20: sending https://sentinel-cogs.s3.us-west-2.amazonaws.com/sentinel-s2-l2a-cogs/23/K/NR/2020/2/S2B_23KNR_20200228_0_L2A/B04.tif\n"
     ]
    },
    {
     "name": "stdout",
     "output_type": "stream",
     "text": [
      "\n",
      "\n",
      "wget this: %s https://sentinel-cogs.s3.us-west-2.amazonaws.com/sentinel-s2-l2a-cogs/23/K/NR/2020/3/S2B_23KNR_20200309_0_L2A/B03.tif\n",
      "wget -nv -O- https://sentinel-cogs.s3.us-west-2.amazonaws.com/sentinel-s2-l2a-cogs/23/K/NR/2020/3/S2B_23KNR_20200309_0_L2A/B03.tif | aws s3 cp - s3://dev-et-data/usmart/RIO/sentinel-s2-l2a-cogs/\n",
      "S2B_23KNR_20200309_0_L2A_B03.tif\n",
      "wget -nv -O- https://sentinel-cogs.s3.us-west-2.amazonaws.com/sentinel-s2-l2a-cogs/23/K/NR/2020/3/S2B_23KNR_20200309_0_L2A/B03.tif | aws s3 cp - s3://dev-et-data/usmart/RIO/sentinel-s2-l2a-cogs/S2B_23KNR_20200309_0_L2A_B03.tif\n",
      "\n",
      "\n",
      "wget this: %s https://sentinel-cogs.s3.us-west-2.amazonaws.com/sentinel-s2-l2a-cogs/23/K/NR/2020/2/S2B_23KNR_20200228_0_L2A/B04.tif\n",
      "wget -nv -O- https://sentinel-cogs.s3.us-west-2.amazonaws.com/sentinel-s2-l2a-cogs/23/K/NR/2020/2/S2B_23KNR_20200228_0_L2A/B04.tif | aws s3 cp - s3://dev-et-data/usmart/RIO/sentinel-s2-l2a-cogs/\n",
      "S2B_23KNR_20200228_0_L2A_B04.tif\n",
      "wget -nv -O- https://sentinel-cogs.s3.us-west-2.amazonaws.com/sentinel-s2-l2a-cogs/23/K/NR/2020/2/S2B_23KNR_20200228_0_L2A/B04.tif | aws s3 cp - s3://dev-et-data/usmart/RIO/sentinel-s2-l2a-cogs/S2B_23KNR_20200228_0_L2A_B04.tif\n"
     ]
    },
    {
     "name": "stderr",
     "output_type": "stream",
     "text": [
      "16:20:20: sending https://sentinel-cogs.s3.us-west-2.amazonaws.com/sentinel-s2-l2a-cogs/23/K/PR/2020/3/S2B_23KPR_20200329_0_L2A/B02.tif\n"
     ]
    },
    {
     "name": "stdout",
     "output_type": "stream",
     "text": [
      "\n",
      "\n",
      "wget this: %s https://sentinel-cogs.s3.us-west-2.amazonaws.com/sentinel-s2-l2a-cogs/23/K/PR/2020/3/S2B_23KPR_20200329_0_L2A/B02.tif\n",
      "wget -nv -O- https://sentinel-cogs.s3.us-west-2.amazonaws.com/sentinel-s2-l2a-cogs/23/K/PR/2020/3/S2B_23KPR_20200329_0_L2A/B02.tif | aws s3 cp - s3://dev-et-data/usmart/RIO/sentinel-s2-l2a-cogs/\n",
      "S2B_23KPR_20200329_0_L2A_B02.tif\n",
      "wget -nv -O- https://sentinel-cogs.s3.us-west-2.amazonaws.com/sentinel-s2-l2a-cogs/23/K/PR/2020/3/S2B_23KPR_20200329_0_L2A/B02.tif | aws s3 cp - s3://dev-et-data/usmart/RIO/sentinel-s2-l2a-cogs/S2B_23KPR_20200329_0_L2A_B02.tif\n"
     ]
    },
    {
     "name": "stderr",
     "output_type": "stream",
     "text": [
      "16:20:20: sending https://sentinel-cogs.s3.us-west-2.amazonaws.com/sentinel-s2-l2a-cogs/23/K/PR/2020/4/S2A_23KPR_20200403_0_L2A/B02.tif\n"
     ]
    },
    {
     "name": "stdout",
     "output_type": "stream",
     "text": [
      "\n",
      "\n",
      "wget this: %s https://sentinel-cogs.s3.us-west-2.amazonaws.com/sentinel-s2-l2a-cogs/23/K/PR/2020/4/S2A_23KPR_20200403_0_L2A/B02.tif\n",
      "wget -nv -O- https://sentinel-cogs.s3.us-west-2.amazonaws.com/sentinel-s2-l2a-cogs/23/K/PR/2020/4/S2A_23KPR_20200403_0_L2A/B02.tif | aws s3 cp - s3://dev-et-data/usmart/RIO/sentinel-s2-l2a-cogs/\n",
      "S2A_23KPR_20200403_0_L2A_B02.tif\n",
      "wget -nv -O- https://sentinel-cogs.s3.us-west-2.amazonaws.com/sentinel-s2-l2a-cogs/23/K/PR/2020/4/S2A_23KPR_20200403_0_L2A/B02.tif | aws s3 cp - s3://dev-et-data/usmart/RIO/sentinel-s2-l2a-cogs/S2A_23KPR_20200403_0_L2A_B02.tif\n"
     ]
    },
    {
     "name": "stderr",
     "output_type": "stream",
     "text": [
      "2021-09-13 16:20:21 URL:https://sentinel-cogs.s3.us-west-2.amazonaws.com/sentinel-s2-l2a-cogs/23/K/NR/2020/3/S2A_23KNR_20200314_0_L2A/B03.tif [127442744/127442744] -> \"-\" [1]\n",
      "2021-09-13 16:20:21 URL:https://sentinel-cogs.s3.us-west-2.amazonaws.com/sentinel-s2-l2a-cogs/23/K/PR/2020/4/S2B_23KPR_20200408_0_L2A/B02.tif [179357857/179357857] -> \"-\" [1]\n",
      "16:20:22: sending https://sentinel-cogs.s3.us-west-2.amazonaws.com/sentinel-s2-l2a-cogs/23/K/NR/2020/3/S2A_23KNR_20200314_0_L2A/B02.tif\n"
     ]
    },
    {
     "name": "stdout",
     "output_type": "stream",
     "text": [
      "\n",
      "\n",
      "wget this: %s https://sentinel-cogs.s3.us-west-2.amazonaws.com/sentinel-s2-l2a-cogs/23/K/NR/2020/3/S2A_23KNR_20200314_0_L2A/B02.tif\n",
      "wget -nv -O- https://sentinel-cogs.s3.us-west-2.amazonaws.com/sentinel-s2-l2a-cogs/23/K/NR/2020/3/S2A_23KNR_20200314_0_L2A/B02.tif | aws s3 cp - s3://dev-et-data/usmart/RIO/sentinel-s2-l2a-cogs/\n",
      "S2A_23KNR_20200314_0_L2A_B02.tif\n",
      "wget -nv -O- https://sentinel-cogs.s3.us-west-2.amazonaws.com/sentinel-s2-l2a-cogs/23/K/NR/2020/3/S2A_23KNR_20200314_0_L2A/B02.tif | aws s3 cp - s3://dev-et-data/usmart/RIO/sentinel-s2-l2a-cogs/S2A_23KNR_20200314_0_L2A_B02.tif\n"
     ]
    },
    {
     "name": "stderr",
     "output_type": "stream",
     "text": [
      "2021-09-13 16:20:22 URL:https://sentinel-cogs.s3.us-west-2.amazonaws.com/sentinel-s2-l2a-cogs/23/K/PR/2020/3/S2A_23KPR_20200314_0_L2A/B04.tif [225562250/225562250] -> \"-\" [1]\n",
      "16:20:22: Thread 107: finishing in 29 seconds\n",
      "16:20:22: xfer Thread 123: starting\n",
      "16:20:22: sending https://sentinel-cogs.s3.us-west-2.amazonaws.com/sentinel-s2-l2a-cogs/23/K/PR/2020/2/S2B_23KPR_20200228_0_L2A/B04.tif\n"
     ]
    },
    {
     "name": "stdout",
     "output_type": "stream",
     "text": [
      "\n",
      "\n",
      "wget this: %s https://sentinel-cogs.s3.us-west-2.amazonaws.com/sentinel-s2-l2a-cogs/23/K/PR/2020/2/S2B_23KPR_20200228_0_L2A/B04.tif\n",
      "wget -nv -O- https://sentinel-cogs.s3.us-west-2.amazonaws.com/sentinel-s2-l2a-cogs/23/K/PR/2020/2/S2B_23KPR_20200228_0_L2A/B04.tif | aws s3 cp - s3://dev-et-data/usmart/RIO/sentinel-s2-l2a-cogs/\n",
      "S2B_23KPR_20200228_0_L2A_B04.tif\n",
      "wget -nv -O- https://sentinel-cogs.s3.us-west-2.amazonaws.com/sentinel-s2-l2a-cogs/23/K/PR/2020/2/S2B_23KPR_20200228_0_L2A/B04.tif | aws s3 cp - s3://dev-et-data/usmart/RIO/sentinel-s2-l2a-cogs/S2B_23KPR_20200228_0_L2A_B04.tif\n"
     ]
    },
    {
     "name": "stderr",
     "output_type": "stream",
     "text": [
      "2021-09-13 16:20:23 URL:https://sentinel-cogs.s3.us-west-2.amazonaws.com/sentinel-s2-l2a-cogs/23/K/PR/2020/3/S2A_23KPR_20200324_0_L2A/B03.tif [227843225/227843225] -> \"-\" [1]\n",
      "2021-09-13 16:20:23 URL:https://sentinel-cogs.s3.us-west-2.amazonaws.com/sentinel-s2-l2a-cogs/23/K/NR/2020/3/S2A_23KNR_20200324_0_L2A/B02.tif [122755252/122755252] -> \"-\" [1]\n",
      "16:20:23: sending https://sentinel-cogs.s3.us-west-2.amazonaws.com/sentinel-s2-l2a-cogs/23/K/PR/2020/3/S2A_23KPR_20200324_0_L2A/B02.tif\n"
     ]
    },
    {
     "name": "stdout",
     "output_type": "stream",
     "text": [
      "\n",
      "\n",
      "wget this: %s https://sentinel-cogs.s3.us-west-2.amazonaws.com/sentinel-s2-l2a-cogs/23/K/PR/2020/3/S2A_23KPR_20200324_0_L2A/B02.tif\n",
      "wget -nv -O- https://sentinel-cogs.s3.us-west-2.amazonaws.com/sentinel-s2-l2a-cogs/23/K/PR/2020/3/S2A_23KPR_20200324_0_L2A/B02.tif | aws s3 cp - s3://dev-et-data/usmart/RIO/sentinel-s2-l2a-cogs/\n",
      "S2A_23KPR_20200324_0_L2A_B02.tif\n",
      "wget -nv -O- https://sentinel-cogs.s3.us-west-2.amazonaws.com/sentinel-s2-l2a-cogs/23/K/PR/2020/3/S2A_23KPR_20200324_0_L2A/B02.tif | aws s3 cp - s3://dev-et-data/usmart/RIO/sentinel-s2-l2a-cogs/S2A_23KPR_20200324_0_L2A_B02.tif\n"
     ]
    },
    {
     "name": "stderr",
     "output_type": "stream",
     "text": [
      "16:20:24: sending https://sentinel-cogs.s3.us-west-2.amazonaws.com/sentinel-s2-l2a-cogs/23/K/PR/2020/3/S2A_23KPR_20200314_0_L2A/B03.tif\n"
     ]
    },
    {
     "name": "stdout",
     "output_type": "stream",
     "text": [
      "\n",
      "\n",
      "wget this: %s https://sentinel-cogs.s3.us-west-2.amazonaws.com/sentinel-s2-l2a-cogs/23/K/PR/2020/3/S2A_23KPR_20200314_0_L2A/B03.tif\n",
      "wget -nv -O- https://sentinel-cogs.s3.us-west-2.amazonaws.com/sentinel-s2-l2a-cogs/23/K/PR/2020/3/S2A_23KPR_20200314_0_L2A/B03.tif | aws s3 cp - s3://dev-et-data/usmart/RIO/sentinel-s2-l2a-cogs/\n",
      "S2A_23KPR_20200314_0_L2A_B03.tif\n",
      "wget -nv -O- https://sentinel-cogs.s3.us-west-2.amazonaws.com/sentinel-s2-l2a-cogs/23/K/PR/2020/3/S2A_23KPR_20200314_0_L2A/B03.tif | aws s3 cp - s3://dev-et-data/usmart/RIO/sentinel-s2-l2a-cogs/S2A_23KPR_20200314_0_L2A_B03.tif\n"
     ]
    },
    {
     "name": "stderr",
     "output_type": "stream",
     "text": [
      "2021-09-13 16:20:24 URL:https://sentinel-cogs.s3.us-west-2.amazonaws.com/sentinel-s2-l2a-cogs/23/K/PR/2020/4/S2A_23KPR_20200413_0_L2A/B02.tif [230204903/230204903] -> \"-\" [1]\n",
      "2021-09-13 16:20:24 URL:https://sentinel-cogs.s3.us-west-2.amazonaws.com/sentinel-s2-l2a-cogs/23/K/NR/2020/3/S2B_23KNR_20200319_0_L2A/B02.tif [116638385/116638385] -> \"-\" [1]\n",
      "2021-09-13 16:20:25 URL:https://sentinel-cogs.s3.us-west-2.amazonaws.com/sentinel-s2-l2a-cogs/23/K/NR/2020/3/S2A_23KNR_20200304_0_L2A/B04.tif [119989103/119989103] -> \"-\" [1]\n",
      "16:20:25: Thread 112: finishing in 25 seconds\n",
      "16:20:25: xfer Thread 124: starting\n",
      "16:20:25: sending https://sentinel-cogs.s3.us-west-2.amazonaws.com/sentinel-s2-l2a-cogs/23/K/NR/2020/2/S2A_23KNR_20200223_0_L2A/B04.tif\n"
     ]
    },
    {
     "name": "stdout",
     "output_type": "stream",
     "text": [
      "\n",
      "\n",
      "wget this: %s https://sentinel-cogs.s3.us-west-2.amazonaws.com/sentinel-s2-l2a-cogs/23/K/NR/2020/2/S2A_23KNR_20200223_0_L2A/B04.tif\n",
      "wget -nv -O- https://sentinel-cogs.s3.us-west-2.amazonaws.com/sentinel-s2-l2a-cogs/23/K/NR/2020/2/S2A_23KNR_20200223_0_L2A/B04.tif | aws s3 cp - s3://dev-et-data/usmart/RIO/sentinel-s2-l2a-cogs/\n",
      "S2A_23KNR_20200223_0_L2A_B04.tif\n",
      "wget -nv -O- https://sentinel-cogs.s3.us-west-2.amazonaws.com/sentinel-s2-l2a-cogs/23/K/NR/2020/2/S2A_23KNR_20200223_0_L2A/B04.tif | aws s3 cp - s3://dev-et-data/usmart/RIO/sentinel-s2-l2a-cogs/S2A_23KNR_20200223_0_L2A_B04.tif\n"
     ]
    },
    {
     "name": "stderr",
     "output_type": "stream",
     "text": [
      "16:20:25: Thread 114: finishing in 23 seconds\n",
      "16:20:25: xfer Thread 125: starting\n",
      "16:20:25: sending https://sentinel-cogs.s3.us-west-2.amazonaws.com/sentinel-s2-l2a-cogs/23/K/PR/2020/2/S2A_23KPR_20200223_0_L2A/B04.tif\n",
      "16:20:25: Thread 105: finishing in 36 seconds\n",
      "16:20:25: xfer Thread 126: starting\n",
      "16:20:25: sending https://sentinel-cogs.s3.us-west-2.amazonaws.com/sentinel-s2-l2a-cogs/23/K/NR/2020/2/S2B_23KNR_20200218_0_L2A/B04.tif\n"
     ]
    },
    {
     "name": "stdout",
     "output_type": "stream",
     "text": [
      "\n",
      "\n",
      "wget this: %s https://sentinel-cogs.s3.us-west-2.amazonaws.com/sentinel-s2-l2a-cogs/23/K/PR/2020/2/S2A_23KPR_20200223_0_L2A/B04.tif\n",
      "wget -nv -O- https://sentinel-cogs.s3.us-west-2.amazonaws.com/sentinel-s2-l2a-cogs/23/K/PR/2020/2/S2A_23KPR_20200223_0_L2A/B04.tif | aws s3 cp - s3://dev-et-data/usmart/RIO/sentinel-s2-l2a-cogs/\n",
      "S2A_23KPR_20200223_0_L2A_B04.tif\n",
      "wget -nv -O- https://sentinel-cogs.s3.us-west-2.amazonaws.com/sentinel-s2-l2a-cogs/23/K/PR/2020/2/S2A_23KPR_20200223_0_L2A/B04.tif | aws s3 cp - s3://dev-et-data/usmart/RIO/sentinel-s2-l2a-cogs/S2A_23KPR_20200223_0_L2A_B04.tif\n",
      "\n",
      "\n",
      "wget this: %s https://sentinel-cogs.s3.us-west-2.amazonaws.com/sentinel-s2-l2a-cogs/23/K/NR/2020/2/S2B_23KNR_20200218_0_L2A/B04.tif\n",
      "wget -nv -O- https://sentinel-cogs.s3.us-west-2.amazonaws.com/sentinel-s2-l2a-cogs/23/K/NR/2020/2/S2B_23KNR_20200218_0_L2A/B04.tif | aws s3 cp - s3://dev-et-data/usmart/RIO/sentinel-s2-l2a-cogs/\n",
      "S2B_23KNR_20200218_0_L2A_B04.tif\n",
      "wget -nv -O- https://sentinel-cogs.s3.us-west-2.amazonaws.com/sentinel-s2-l2a-cogs/23/K/NR/2020/2/S2B_23KNR_20200218_0_L2A/B04.tif | aws s3 cp - s3://dev-et-data/usmart/RIO/sentinel-s2-l2a-cogs/S2B_23KNR_20200218_0_L2A_B04.tif\n"
     ]
    },
    {
     "name": "stderr",
     "output_type": "stream",
     "text": [
      "16:20:26: sending https://sentinel-cogs.s3.us-west-2.amazonaws.com/sentinel-s2-l2a-cogs/23/K/NR/2020/3/S2A_23KNR_20200304_0_L2A/B03.tif\n"
     ]
    },
    {
     "name": "stdout",
     "output_type": "stream",
     "text": [
      "\n",
      "\n",
      "wget this: %s https://sentinel-cogs.s3.us-west-2.amazonaws.com/sentinel-s2-l2a-cogs/23/K/NR/2020/3/S2A_23KNR_20200304_0_L2A/B03.tif\n",
      "wget -nv -O- https://sentinel-cogs.s3.us-west-2.amazonaws.com/sentinel-s2-l2a-cogs/23/K/NR/2020/3/S2A_23KNR_20200304_0_L2A/B03.tif | aws s3 cp - s3://dev-et-data/usmart/RIO/sentinel-s2-l2a-cogs/\n",
      "S2A_23KNR_20200304_0_L2A_B03.tif\n",
      "wget -nv -O- https://sentinel-cogs.s3.us-west-2.amazonaws.com/sentinel-s2-l2a-cogs/23/K/NR/2020/3/S2A_23KNR_20200304_0_L2A/B03.tif | aws s3 cp - s3://dev-et-data/usmart/RIO/sentinel-s2-l2a-cogs/S2A_23KNR_20200304_0_L2A_B03.tif\n"
     ]
    },
    {
     "name": "stderr",
     "output_type": "stream",
     "text": [
      "2021-09-13 16:20:26 URL:https://sentinel-cogs.s3.us-west-2.amazonaws.com/sentinel-s2-l2a-cogs/23/K/NR/2020/2/S2B_23KNR_20200228_0_L2A/B04.tif [79574019/79574019] -> \"-\" [1]\n",
      "2021-09-13 16:20:26 URL:https://sentinel-cogs.s3.us-west-2.amazonaws.com/sentinel-s2-l2a-cogs/23/K/PR/2020/3/S2B_23KPR_20200309_0_L2A/B04.tif [233566449/233566449] -> \"-\" [1]\n",
      "16:20:27: sending https://sentinel-cogs.s3.us-west-2.amazonaws.com/sentinel-s2-l2a-cogs/23/K/NR/2020/2/S2B_23KNR_20200228_0_L2A/B03.tif\n",
      "16:20:27: sending https://sentinel-cogs.s3.us-west-2.amazonaws.com/sentinel-s2-l2a-cogs/23/K/PR/2020/3/S2B_23KPR_20200309_0_L2A/B03.tif\n"
     ]
    },
    {
     "name": "stdout",
     "output_type": "stream",
     "text": [
      "\n",
      "\n",
      "wget this: %s https://sentinel-cogs.s3.us-west-2.amazonaws.com/sentinel-s2-l2a-cogs/23/K/NR/2020/2/S2B_23KNR_20200228_0_L2A/B03.tif\n",
      "wget -nv -O- https://sentinel-cogs.s3.us-west-2.amazonaws.com/sentinel-s2-l2a-cogs/23/K/NR/2020/2/S2B_23KNR_20200228_0_L2A/B03.tif | aws s3 cp - s3://dev-et-data/usmart/RIO/sentinel-s2-l2a-cogs/\n",
      "S2B_23KNR_20200228_0_L2A_B03.tif\n",
      "wget -nv -O- https://sentinel-cogs.s3.us-west-2.amazonaws.com/sentinel-s2-l2a-cogs/23/K/NR/2020/2/S2B_23KNR_20200228_0_L2A/B03.tif | aws s3 cp - s3://dev-et-data/usmart/RIO/sentinel-s2-l2a-cogs/S2B_23KNR_20200228_0_L2A_B03.tif\n",
      "\n",
      "\n",
      "wget this: %s https://sentinel-cogs.s3.us-west-2.amazonaws.com/sentinel-s2-l2a-cogs/23/K/PR/2020/3/S2B_23KPR_20200309_0_L2A/B03.tif\n",
      "wget -nv -O- https://sentinel-cogs.s3.us-west-2.amazonaws.com/sentinel-s2-l2a-cogs/23/K/PR/2020/3/S2B_23KPR_20200309_0_L2A/B03.tif | aws s3 cp - s3://dev-et-data/usmart/RIO/sentinel-s2-l2a-cogs/\n",
      "S2B_23KPR_20200309_0_L2A_B03.tif\n",
      "wget -nv -O- https://sentinel-cogs.s3.us-west-2.amazonaws.com/sentinel-s2-l2a-cogs/23/K/PR/2020/3/S2B_23KPR_20200309_0_L2A/B03.tif | aws s3 cp - s3://dev-et-data/usmart/RIO/sentinel-s2-l2a-cogs/S2B_23KPR_20200309_0_L2A_B03.tif\n"
     ]
    },
    {
     "name": "stderr",
     "output_type": "stream",
     "text": [
      "2021-09-13 16:20:27 URL:https://sentinel-cogs.s3.us-west-2.amazonaws.com/sentinel-s2-l2a-cogs/23/K/PR/2020/3/S2B_23KPR_20200319_0_L2A/B03.tif [221539065/221539065] -> \"-\" [1]\n",
      "2021-09-13 16:20:27 URL:https://sentinel-cogs.s3.us-west-2.amazonaws.com/sentinel-s2-l2a-cogs/23/K/NR/2020/3/S2B_23KNR_20200309_0_L2A/B03.tif [129447674/129447674] -> \"-\" [1]\n",
      "16:20:28: sending https://sentinel-cogs.s3.us-west-2.amazonaws.com/sentinel-s2-l2a-cogs/23/K/PR/2020/3/S2B_23KPR_20200319_0_L2A/B02.tif\n",
      "16:20:28: sending https://sentinel-cogs.s3.us-west-2.amazonaws.com/sentinel-s2-l2a-cogs/23/K/NR/2020/3/S2B_23KNR_20200309_0_L2A/B02.tif\n"
     ]
    },
    {
     "name": "stdout",
     "output_type": "stream",
     "text": [
      "\n",
      "\n",
      "wget this: %s https://sentinel-cogs.s3.us-west-2.amazonaws.com/sentinel-s2-l2a-cogs/23/K/PR/2020/3/S2B_23KPR_20200319_0_L2A/B02.tif\n",
      "wget -nv -O- https://sentinel-cogs.s3.us-west-2.amazonaws.com/sentinel-s2-l2a-cogs/23/K/PR/2020/3/S2B_23KPR_20200319_0_L2A/B02.tif | aws s3 cp - s3://dev-et-data/usmart/RIO/sentinel-s2-l2a-cogs/\n",
      "S2B_23KPR_20200319_0_L2A_B02.tif\n",
      "wget -nv -O- https://sentinel-cogs.s3.us-west-2.amazonaws.com/sentinel-s2-l2a-cogs/23/K/PR/2020/3/S2B_23KPR_20200319_0_L2A/B02.tif | aws s3 cp - s3://dev-et-data/usmart/RIO/sentinel-s2-l2a-cogs/S2B_23KPR_20200319_0_L2A_B02.tif\n",
      "\n",
      "\n",
      "wget this: %s https://sentinel-cogs.s3.us-west-2.amazonaws.com/sentinel-s2-l2a-cogs/23/K/NR/2020/3/S2B_23KNR_20200309_0_L2A/B02.tif\n",
      "wget -nv -O- https://sentinel-cogs.s3.us-west-2.amazonaws.com/sentinel-s2-l2a-cogs/23/K/NR/2020/3/S2B_23KNR_20200309_0_L2A/B02.tif | aws s3 cp - s3://dev-et-data/usmart/RIO/sentinel-s2-l2a-cogs/\n",
      "S2B_23KNR_20200309_0_L2A_B02.tif\n",
      "wget -nv -O- https://sentinel-cogs.s3.us-west-2.amazonaws.com/sentinel-s2-l2a-cogs/23/K/NR/2020/3/S2B_23KNR_20200309_0_L2A/B02.tif | aws s3 cp - s3://dev-et-data/usmart/RIO/sentinel-s2-l2a-cogs/S2B_23KNR_20200309_0_L2A_B02.tif\n"
     ]
    },
    {
     "name": "stderr",
     "output_type": "stream",
     "text": [
      "2021-09-13 16:20:28 URL:https://sentinel-cogs.s3.us-west-2.amazonaws.com/sentinel-s2-l2a-cogs/23/K/PR/2020/3/S2A_23KPR_20200304_0_L2A/B04.tif [192885767/192885767] -> \"-\" [1]\n",
      "16:20:28: sending https://sentinel-cogs.s3.us-west-2.amazonaws.com/sentinel-s2-l2a-cogs/23/K/PR/2020/3/S2A_23KPR_20200304_0_L2A/B03.tif\n"
     ]
    },
    {
     "name": "stdout",
     "output_type": "stream",
     "text": [
      "\n",
      "\n",
      "wget this: %s https://sentinel-cogs.s3.us-west-2.amazonaws.com/sentinel-s2-l2a-cogs/23/K/PR/2020/3/S2A_23KPR_20200304_0_L2A/B03.tif\n",
      "wget -nv -O- https://sentinel-cogs.s3.us-west-2.amazonaws.com/sentinel-s2-l2a-cogs/23/K/PR/2020/3/S2A_23KPR_20200304_0_L2A/B03.tif | aws s3 cp - s3://dev-et-data/usmart/RIO/sentinel-s2-l2a-cogs/\n",
      "S2A_23KPR_20200304_0_L2A_B03.tif\n",
      "wget -nv -O- https://sentinel-cogs.s3.us-west-2.amazonaws.com/sentinel-s2-l2a-cogs/23/K/PR/2020/3/S2A_23KPR_20200304_0_L2A/B03.tif | aws s3 cp - s3://dev-et-data/usmart/RIO/sentinel-s2-l2a-cogs/S2A_23KPR_20200304_0_L2A_B03.tif\n"
     ]
    },
    {
     "name": "stderr",
     "output_type": "stream",
     "text": [
      "2021-09-13 16:20:30 URL:https://sentinel-cogs.s3.us-west-2.amazonaws.com/sentinel-s2-l2a-cogs/23/K/NR/2020/3/S2A_23KNR_20200314_0_L2A/B02.tif [127410575/127410575] -> \"-\" [1]\n",
      "2021-09-13 16:20:30 URL:https://sentinel-cogs.s3.us-west-2.amazonaws.com/sentinel-s2-l2a-cogs/23/K/PR/2020/2/S2B_23KPR_20200228_0_L2A/B04.tif [151638896/151638896] -> \"-\" [1]\n",
      "16:20:31: Thread 116: finishing in 25 seconds\n",
      "16:20:31: xfer Thread 127: starting\n",
      "16:20:31: sending https://sentinel-cogs.s3.us-west-2.amazonaws.com/sentinel-s2-l2a-cogs/23/K/PR/2020/2/S2B_23KPR_20200218_0_L2A/B04.tif\n"
     ]
    },
    {
     "name": "stdout",
     "output_type": "stream",
     "text": [
      "\n",
      "\n",
      "wget this: %s https://sentinel-cogs.s3.us-west-2.amazonaws.com/sentinel-s2-l2a-cogs/23/K/PR/2020/2/S2B_23KPR_20200218_0_L2A/B04.tif\n",
      "wget -nv -O- https://sentinel-cogs.s3.us-west-2.amazonaws.com/sentinel-s2-l2a-cogs/23/K/PR/2020/2/S2B_23KPR_20200218_0_L2A/B04.tif | aws s3 cp - s3://dev-et-data/usmart/RIO/sentinel-s2-l2a-cogs/\n",
      "S2B_23KPR_20200218_0_L2A_B04.tif\n",
      "wget -nv -O- https://sentinel-cogs.s3.us-west-2.amazonaws.com/sentinel-s2-l2a-cogs/23/K/PR/2020/2/S2B_23KPR_20200218_0_L2A/B04.tif | aws s3 cp - s3://dev-et-data/usmart/RIO/sentinel-s2-l2a-cogs/S2B_23KPR_20200218_0_L2A_B04.tif\n"
     ]
    },
    {
     "name": "stderr",
     "output_type": "stream",
     "text": [
      "16:20:31: sending https://sentinel-cogs.s3.us-west-2.amazonaws.com/sentinel-s2-l2a-cogs/23/K/PR/2020/2/S2B_23KPR_20200228_0_L2A/B03.tif\n"
     ]
    },
    {
     "name": "stdout",
     "output_type": "stream",
     "text": [
      "\n",
      "\n",
      "wget this: %s https://sentinel-cogs.s3.us-west-2.amazonaws.com/sentinel-s2-l2a-cogs/23/K/PR/2020/2/S2B_23KPR_20200228_0_L2A/B03.tif\n",
      "wget -nv -O- https://sentinel-cogs.s3.us-west-2.amazonaws.com/sentinel-s2-l2a-cogs/23/K/PR/2020/2/S2B_23KPR_20200228_0_L2A/B03.tif | aws s3 cp - s3://dev-et-data/usmart/RIO/sentinel-s2-l2a-cogs/\n",
      "S2B_23KPR_20200228_0_L2A_B03.tif\n",
      "wget -nv -O- https://sentinel-cogs.s3.us-west-2.amazonaws.com/sentinel-s2-l2a-cogs/23/K/PR/2020/2/S2B_23KPR_20200228_0_L2A/B03.tif | aws s3 cp - s3://dev-et-data/usmart/RIO/sentinel-s2-l2a-cogs/S2B_23KPR_20200228_0_L2A_B03.tif\n"
     ]
    },
    {
     "name": "stderr",
     "output_type": "stream",
     "text": [
      "2021-09-13 16:20:31 URL:https://sentinel-cogs.s3.us-west-2.amazonaws.com/sentinel-s2-l2a-cogs/23/K/PR/2020/3/S2B_23KPR_20200329_0_L2A/B02.tif [221120458/221120458] -> \"-\" [1]\n",
      "2021-09-13 16:20:32 URL:https://sentinel-cogs.s3.us-west-2.amazonaws.com/sentinel-s2-l2a-cogs/23/K/PR/2020/4/S2A_23KPR_20200403_0_L2A/B02.tif [213177429/213177429] -> \"-\" [1]\n",
      "2021-09-13 16:20:32 URL:https://sentinel-cogs.s3.us-west-2.amazonaws.com/sentinel-s2-l2a-cogs/23/K/NR/2020/2/S2B_23KNR_20200218_0_L2A/B04.tif [126707165/126707165] -> \"-\" [1]\n",
      "2021-09-13 16:20:32 URL:https://sentinel-cogs.s3.us-west-2.amazonaws.com/sentinel-s2-l2a-cogs/23/K/NR/2020/2/S2B_23KNR_20200228_0_L2A/B03.tif [80469812/80469812] -> \"-\" [1]\n",
      "2021-09-13 16:20:32 URL:https://sentinel-cogs.s3.us-west-2.amazonaws.com/sentinel-s2-l2a-cogs/23/K/NR/2020/2/S2A_23KNR_20200223_0_L2A/B04.tif [115139534/115139534] -> \"-\" [1]\n",
      "16:20:32: Thread 111: finishing in 34 seconds\n",
      "16:20:32: xfer Thread 128: starting\n",
      "16:20:32: sending https://sentinel-cogs.s3.us-west-2.amazonaws.com/sentinel-s2-l2a-cogs/23/K/NR/2020/2/S2A_23KNR_20200213_0_L2A/B04.tif\n",
      "16:20:32: Thread 109: finishing in 37 seconds\n",
      "16:20:32: xfer Thread 129: starting\n",
      "16:20:32: sending https://sentinel-cogs.s3.us-west-2.amazonaws.com/sentinel-s2-l2a-cogs/23/K/PR/2020/2/S2A_23KPR_20200213_0_L2A/B04.tif\n"
     ]
    },
    {
     "name": "stdout",
     "output_type": "stream",
     "text": [
      "\n",
      "\n",
      "wget this: %s https://sentinel-cogs.s3.us-west-2.amazonaws.com/sentinel-s2-l2a-cogs/23/K/NR/2020/2/S2A_23KNR_20200213_0_L2A/B04.tif\n",
      "wget -nv -O- https://sentinel-cogs.s3.us-west-2.amazonaws.com/sentinel-s2-l2a-cogs/23/K/NR/2020/2/S2A_23KNR_20200213_0_L2A/B04.tif | aws s3 cp - s3://dev-et-data/usmart/RIO/sentinel-s2-l2a-cogs/\n",
      "S2A_23KNR_20200213_0_L2A_B04.tif\n",
      "wget -nv -O- https://sentinel-cogs.s3.us-west-2.amazonaws.com/sentinel-s2-l2a-cogs/23/K/NR/2020/2/S2A_23KNR_20200213_0_L2A/B04.tif | aws s3 cp - s3://dev-et-data/usmart/RIO/sentinel-s2-l2a-cogs/S2A_23KNR_20200213_0_L2A_B04.tif\n",
      "\n",
      "\n",
      "wget this: %s https://sentinel-cogs.s3.us-west-2.amazonaws.com/sentinel-s2-l2a-cogs/23/K/PR/2020/2/S2A_23KPR_20200213_0_L2A/B04.tif\n",
      "wget -nv -O- https://sentinel-cogs.s3.us-west-2.amazonaws.com/sentinel-s2-l2a-cogs/23/K/PR/2020/2/S2A_23KPR_20200213_0_L2A/B04.tif | aws s3 cp - s3://dev-et-data/usmart/RIO/sentinel-s2-l2a-cogs/\n",
      "S2A_23KPR_20200213_0_L2A_B04.tif\n",
      "wget -nv -O- https://sentinel-cogs.s3.us-west-2.amazonaws.com/sentinel-s2-l2a-cogs/23/K/PR/2020/2/S2A_23KPR_20200213_0_L2A/B04.tif | aws s3 cp - s3://dev-et-data/usmart/RIO/sentinel-s2-l2a-cogs/S2A_23KPR_20200213_0_L2A_B04.tif\n"
     ]
    },
    {
     "name": "stderr",
     "output_type": "stream",
     "text": [
      "16:20:32: sending https://sentinel-cogs.s3.us-west-2.amazonaws.com/sentinel-s2-l2a-cogs/23/K/NR/2020/2/S2B_23KNR_20200218_0_L2A/B03.tif\n",
      "16:20:33: sending https://sentinel-cogs.s3.us-west-2.amazonaws.com/sentinel-s2-l2a-cogs/23/K/NR/2020/2/S2B_23KNR_20200228_0_L2A/B02.tif\n"
     ]
    },
    {
     "name": "stdout",
     "output_type": "stream",
     "text": [
      "\n",
      "\n",
      "wget this: %s https://sentinel-cogs.s3.us-west-2.amazonaws.com/sentinel-s2-l2a-cogs/23/K/NR/2020/2/S2B_23KNR_20200218_0_L2A/B03.tif\n",
      "wget -nv -O- https://sentinel-cogs.s3.us-west-2.amazonaws.com/sentinel-s2-l2a-cogs/23/K/NR/2020/2/S2B_23KNR_20200218_0_L2A/B03.tif | aws s3 cp - s3://dev-et-data/usmart/RIO/sentinel-s2-l2a-cogs/\n",
      "S2B_23KNR_20200218_0_L2A_B03.tif\n",
      "wget -nv -O- https://sentinel-cogs.s3.us-west-2.amazonaws.com/sentinel-s2-l2a-cogs/23/K/NR/2020/2/S2B_23KNR_20200218_0_L2A/B03.tif | aws s3 cp - s3://dev-et-data/usmart/RIO/sentinel-s2-l2a-cogs/S2B_23KNR_20200218_0_L2A_B03.tif\n",
      "\n",
      "\n",
      "wget this: %s https://sentinel-cogs.s3.us-west-2.amazonaws.com/sentinel-s2-l2a-cogs/23/K/NR/2020/2/S2B_23KNR_20200228_0_L2A/B02.tif\n",
      "wget -nv -O- https://sentinel-cogs.s3.us-west-2.amazonaws.com/sentinel-s2-l2a-cogs/23/K/NR/2020/2/S2B_23KNR_20200228_0_L2A/B02.tif | aws s3 cp - s3://dev-et-data/usmart/RIO/sentinel-s2-l2a-cogs/\n",
      "S2B_23KNR_20200228_0_L2A_B02.tif\n",
      "wget -nv -O- https://sentinel-cogs.s3.us-west-2.amazonaws.com/sentinel-s2-l2a-cogs/23/K/NR/2020/2/S2B_23KNR_20200228_0_L2A/B02.tif | aws s3 cp - s3://dev-et-data/usmart/RIO/sentinel-s2-l2a-cogs/S2B_23KNR_20200228_0_L2A_B02.tif\n"
     ]
    },
    {
     "name": "stderr",
     "output_type": "stream",
     "text": [
      "16:20:33: sending https://sentinel-cogs.s3.us-west-2.amazonaws.com/sentinel-s2-l2a-cogs/23/K/NR/2020/2/S2A_23KNR_20200223_0_L2A/B03.tif\n"
     ]
    },
    {
     "name": "stdout",
     "output_type": "stream",
     "text": [
      "\n",
      "\n",
      "wget this: %s https://sentinel-cogs.s3.us-west-2.amazonaws.com/sentinel-s2-l2a-cogs/23/K/NR/2020/2/S2A_23KNR_20200223_0_L2A/B03.tif\n",
      "wget -nv -O- https://sentinel-cogs.s3.us-west-2.amazonaws.com/sentinel-s2-l2a-cogs/23/K/NR/2020/2/S2A_23KNR_20200223_0_L2A/B03.tif | aws s3 cp - s3://dev-et-data/usmart/RIO/sentinel-s2-l2a-cogs/\n",
      "S2A_23KNR_20200223_0_L2A_B03.tif\n",
      "wget -nv -O- https://sentinel-cogs.s3.us-west-2.amazonaws.com/sentinel-s2-l2a-cogs/23/K/NR/2020/2/S2A_23KNR_20200223_0_L2A/B03.tif | aws s3 cp - s3://dev-et-data/usmart/RIO/sentinel-s2-l2a-cogs/S2A_23KNR_20200223_0_L2A_B03.tif\n"
     ]
    },
    {
     "name": "stderr",
     "output_type": "stream",
     "text": [
      "2021-09-13 16:20:34 URL:https://sentinel-cogs.s3.us-west-2.amazonaws.com/sentinel-s2-l2a-cogs/23/K/NR/2020/3/S2A_23KNR_20200304_0_L2A/B03.tif [119873854/119873854] -> \"-\" [1]\n",
      "2021-09-13 16:20:34 URL:https://sentinel-cogs.s3.us-west-2.amazonaws.com/sentinel-s2-l2a-cogs/23/K/PR/2020/3/S2A_23KPR_20200324_0_L2A/B02.tif [217532563/217532563] -> \"-\" [1]\n",
      "2021-09-13 16:20:34 URL:https://sentinel-cogs.s3.us-west-2.amazonaws.com/sentinel-s2-l2a-cogs/23/K/PR/2020/3/S2A_23KPR_20200314_0_L2A/B03.tif [224931668/224931668] -> \"-\" [1]\n",
      "16:20:34: sending https://sentinel-cogs.s3.us-west-2.amazonaws.com/sentinel-s2-l2a-cogs/23/K/NR/2020/3/S2A_23KNR_20200304_0_L2A/B02.tif\n",
      "16:20:34: Thread 113: finishing in 33 seconds\n",
      "16:20:34: xfer Thread 130: starting\n",
      "16:20:34: sending https://sentinel-cogs.s3.us-west-2.amazonaws.com/sentinel-s2-l2a-cogs/23/K/NR/2020/2/S2B_23KNR_20200208_0_L2A/B04.tif\n",
      "16:20:34: sending https://sentinel-cogs.s3.us-west-2.amazonaws.com/sentinel-s2-l2a-cogs/23/K/PR/2020/3/S2A_23KPR_20200314_0_L2A/B02.tif\n"
     ]
    },
    {
     "name": "stdout",
     "output_type": "stream",
     "text": [
      "\n",
      "\n",
      "wget this: %s https://sentinel-cogs.s3.us-west-2.amazonaws.com/sentinel-s2-l2a-cogs/23/K/NR/2020/3/S2A_23KNR_20200304_0_L2A/B02.tif\n",
      "wget -nv -O- https://sentinel-cogs.s3.us-west-2.amazonaws.com/sentinel-s2-l2a-cogs/23/K/NR/2020/3/S2A_23KNR_20200304_0_L2A/B02.tif | aws s3 cp - s3://dev-et-data/usmart/RIO/sentinel-s2-l2a-cogs/\n",
      "S2A_23KNR_20200304_0_L2A_B02.tif\n",
      "wget -nv -O- https://sentinel-cogs.s3.us-west-2.amazonaws.com/sentinel-s2-l2a-cogs/23/K/NR/2020/3/S2A_23KNR_20200304_0_L2A/B02.tif | aws s3 cp - s3://dev-et-data/usmart/RIO/sentinel-s2-l2a-cogs/S2A_23KNR_20200304_0_L2A_B02.tif\n",
      "\n",
      "\n",
      "wget this: %s https://sentinel-cogs.s3.us-west-2.amazonaws.com/sentinel-s2-l2a-cogs/23/K/NR/2020/2/S2B_23KNR_20200208_0_L2A/B04.tif\n",
      "wget -nv -O- https://sentinel-cogs.s3.us-west-2.amazonaws.com/sentinel-s2-l2a-cogs/23/K/NR/2020/2/S2B_23KNR_20200208_0_L2A/B04.tif | aws s3 cp - s3://dev-et-data/usmart/RIO/sentinel-s2-l2a-cogs/\n",
      "S2B_23KNR_20200208_0_L2A_B04.tif\n",
      "wget -nv -O- https://sentinel-cogs.s3.us-west-2.amazonaws.com/sentinel-s2-l2a-cogs/23/K/NR/2020/2/S2B_23KNR_20200208_0_L2A/B04.tif | aws s3 cp - s3://dev-et-data/usmart/RIO/sentinel-s2-l2a-cogs/S2B_23KNR_20200208_0_L2A_B04.tif\n",
      "\n",
      "\n",
      "wget this: %s https://sentinel-cogs.s3.us-west-2.amazonaws.com/sentinel-s2-l2a-cogs/23/K/PR/2020/3/S2A_23KPR_20200314_0_L2A/B02.tif\n",
      "wget -nv -O- https://sentinel-cogs.s3.us-west-2.amazonaws.com/sentinel-s2-l2a-cogs/23/K/PR/2020/3/S2A_23KPR_20200314_0_L2A/B02.tif | aws s3 cp - s3://dev-et-data/usmart/RIO/sentinel-s2-l2a-cogs/\n",
      "S2A_23KPR_20200314_0_L2A_B02.tif\n",
      "wget -nv -O- https://sentinel-cogs.s3.us-west-2.amazonaws.com/sentinel-s2-l2a-cogs/23/K/PR/2020/3/S2A_23KPR_20200314_0_L2A/B02.tif | aws s3 cp - s3://dev-et-data/usmart/RIO/sentinel-s2-l2a-cogs/S2A_23KPR_20200314_0_L2A_B02.tif\n"
     ]
    },
    {
     "name": "stderr",
     "output_type": "stream",
     "text": [
      "2021-09-13 16:20:35 URL:https://sentinel-cogs.s3.us-west-2.amazonaws.com/sentinel-s2-l2a-cogs/23/K/PR/2020/2/S2A_23KPR_20200223_0_L2A/B04.tif [217087790/217087790] -> \"-\" [1]\n",
      "16:20:36: sending https://sentinel-cogs.s3.us-west-2.amazonaws.com/sentinel-s2-l2a-cogs/23/K/PR/2020/2/S2A_23KPR_20200223_0_L2A/B03.tif\n"
     ]
    },
    {
     "name": "stdout",
     "output_type": "stream",
     "text": [
      "\n",
      "\n",
      "wget this: %s https://sentinel-cogs.s3.us-west-2.amazonaws.com/sentinel-s2-l2a-cogs/23/K/PR/2020/2/S2A_23KPR_20200223_0_L2A/B03.tif\n",
      "wget -nv -O- https://sentinel-cogs.s3.us-west-2.amazonaws.com/sentinel-s2-l2a-cogs/23/K/PR/2020/2/S2A_23KPR_20200223_0_L2A/B03.tif | aws s3 cp - s3://dev-et-data/usmart/RIO/sentinel-s2-l2a-cogs/\n",
      "S2A_23KPR_20200223_0_L2A_B03.tif\n",
      "wget -nv -O- https://sentinel-cogs.s3.us-west-2.amazonaws.com/sentinel-s2-l2a-cogs/23/K/PR/2020/2/S2A_23KPR_20200223_0_L2A/B03.tif | aws s3 cp - s3://dev-et-data/usmart/RIO/sentinel-s2-l2a-cogs/S2A_23KPR_20200223_0_L2A_B03.tif\n"
     ]
    },
    {
     "name": "stderr",
     "output_type": "stream",
     "text": [
      "2021-09-13 16:20:37 URL:https://sentinel-cogs.s3.us-west-2.amazonaws.com/sentinel-s2-l2a-cogs/23/K/NR/2020/3/S2B_23KNR_20200309_0_L2A/B02.tif [127373374/127373374] -> \"-\" [1]\n",
      "16:20:37: Thread 118: finishing in 25 seconds\n",
      "16:20:37: xfer Thread 131: starting\n",
      "16:20:37: sending https://sentinel-cogs.s3.us-west-2.amazonaws.com/sentinel-s2-l2a-cogs/23/K/PR/2020/2/S2B_23KPR_20200208_0_L2A/B04.tif\n"
     ]
    },
    {
     "name": "stdout",
     "output_type": "stream",
     "text": [
      "\n",
      "\n",
      "wget this: %s https://sentinel-cogs.s3.us-west-2.amazonaws.com/sentinel-s2-l2a-cogs/23/K/PR/2020/2/S2B_23KPR_20200208_0_L2A/B04.tif\n",
      "wget -nv -O- https://sentinel-cogs.s3.us-west-2.amazonaws.com/sentinel-s2-l2a-cogs/23/K/PR/2020/2/S2B_23KPR_20200208_0_L2A/B04.tif | aws s3 cp - s3://dev-et-data/usmart/RIO/sentinel-s2-l2a-cogs/\n",
      "S2B_23KPR_20200208_0_L2A_B04.tif\n",
      "wget -nv -O- https://sentinel-cogs.s3.us-west-2.amazonaws.com/sentinel-s2-l2a-cogs/23/K/PR/2020/2/S2B_23KPR_20200208_0_L2A/B04.tif | aws s3 cp - s3://dev-et-data/usmart/RIO/sentinel-s2-l2a-cogs/S2B_23KPR_20200208_0_L2A_B04.tif\n"
     ]
    },
    {
     "name": "stderr",
     "output_type": "stream",
     "text": [
      "2021-09-13 16:20:38 URL:https://sentinel-cogs.s3.us-west-2.amazonaws.com/sentinel-s2-l2a-cogs/23/K/PR/2020/3/S2B_23KPR_20200309_0_L2A/B03.tif [233662140/233662140] -> \"-\" [1]\n",
      "2021-09-13 16:20:38 URL:https://sentinel-cogs.s3.us-west-2.amazonaws.com/sentinel-s2-l2a-cogs/23/K/NR/2020/2/S2B_23KNR_20200228_0_L2A/B02.tif [83006552/83006552] -> \"-\" [1]\n",
      "2021-09-13 16:20:38 URL:https://sentinel-cogs.s3.us-west-2.amazonaws.com/sentinel-s2-l2a-cogs/23/K/NR/2020/2/S2A_23KNR_20200213_0_L2A/B04.tif [105304932/105304932] -> \"-\" [1]\n",
      "2021-09-13 16:20:38 URL:https://sentinel-cogs.s3.us-west-2.amazonaws.com/sentinel-s2-l2a-cogs/23/K/PR/2020/3/S2A_23KPR_20200304_0_L2A/B03.tif [192136057/192136057] -> \"-\" [1]\n",
      "16:20:38: sending https://sentinel-cogs.s3.us-west-2.amazonaws.com/sentinel-s2-l2a-cogs/23/K/PR/2020/3/S2B_23KPR_20200309_0_L2A/B02.tif\n"
     ]
    },
    {
     "name": "stdout",
     "output_type": "stream",
     "text": [
      "\n",
      "\n",
      "wget this: %s https://sentinel-cogs.s3.us-west-2.amazonaws.com/sentinel-s2-l2a-cogs/23/K/PR/2020/3/S2B_23KPR_20200309_0_L2A/B02.tif\n",
      "wget -nv -O- https://sentinel-cogs.s3.us-west-2.amazonaws.com/sentinel-s2-l2a-cogs/23/K/PR/2020/3/S2B_23KPR_20200309_0_L2A/B02.tif | aws s3 cp - s3://dev-et-data/usmart/RIO/sentinel-s2-l2a-cogs/\n",
      "S2B_23KPR_20200309_0_L2A_B02.tif\n",
      "wget -nv -O- https://sentinel-cogs.s3.us-west-2.amazonaws.com/sentinel-s2-l2a-cogs/23/K/PR/2020/3/S2B_23KPR_20200309_0_L2A/B02.tif | aws s3 cp - s3://dev-et-data/usmart/RIO/sentinel-s2-l2a-cogs/S2B_23KPR_20200309_0_L2A_B02.tif\n"
     ]
    },
    {
     "name": "stderr",
     "output_type": "stream",
     "text": [
      "2021-09-13 16:20:38 URL:https://sentinel-cogs.s3.us-west-2.amazonaws.com/sentinel-s2-l2a-cogs/23/K/NR/2020/2/S2B_23KNR_20200218_0_L2A/B03.tif [126698852/126698852] -> \"-\" [1]\n",
      "16:20:39: Thread 122: finishing in 18 seconds\n",
      "16:20:39: xfer Thread 132: starting\n",
      "16:20:39: sending https://sentinel-cogs.s3.us-west-2.amazonaws.com/sentinel-s2-l2a-cogs/23/K/NR/2020/2/S2A_23KNR_20200203_0_L2A/B04.tif\n",
      "16:20:39: sending https://sentinel-cogs.s3.us-west-2.amazonaws.com/sentinel-s2-l2a-cogs/23/K/NR/2020/2/S2A_23KNR_20200213_0_L2A/B03.tif\n"
     ]
    },
    {
     "name": "stdout",
     "output_type": "stream",
     "text": [
      "\n",
      "\n",
      "wget this: %s https://sentinel-cogs.s3.us-west-2.amazonaws.com/sentinel-s2-l2a-cogs/23/K/NR/2020/2/S2A_23KNR_20200203_0_L2A/B04.tif\n",
      "wget -nv -O- https://sentinel-cogs.s3.us-west-2.amazonaws.com/sentinel-s2-l2a-cogs/23/K/NR/2020/2/S2A_23KNR_20200203_0_L2A/B04.tif | aws s3 cp - s3://dev-et-data/usmart/RIO/sentinel-s2-l2a-cogs/\n",
      "S2A_23KNR_20200203_0_L2A_B04.tif\n",
      "wget -nv -O- https://sentinel-cogs.s3.us-west-2.amazonaws.com/sentinel-s2-l2a-cogs/23/K/NR/2020/2/S2A_23KNR_20200203_0_L2A/B04.tif | aws s3 cp - s3://dev-et-data/usmart/RIO/sentinel-s2-l2a-cogs/S2A_23KNR_20200203_0_L2A_B04.tif\n",
      "\n",
      "\n",
      "wget this: %s https://sentinel-cogs.s3.us-west-2.amazonaws.com/sentinel-s2-l2a-cogs/23/K/NR/2020/2/S2A_23KNR_20200213_0_L2A/B03.tif\n",
      "wget -nv -O- https://sentinel-cogs.s3.us-west-2.amazonaws.com/sentinel-s2-l2a-cogs/23/K/NR/2020/2/S2A_23KNR_20200213_0_L2A/B03.tif | aws s3 cp - s3://dev-et-data/usmart/RIO/sentinel-s2-l2a-cogs/\n",
      "S2A_23KNR_20200213_0_L2A_B03.tif\n",
      "wget -nv -O- https://sentinel-cogs.s3.us-west-2.amazonaws.com/sentinel-s2-l2a-cogs/23/K/NR/2020/2/S2A_23KNR_20200213_0_L2A/B03.tif | aws s3 cp - s3://dev-et-data/usmart/RIO/sentinel-s2-l2a-cogs/S2A_23KNR_20200213_0_L2A_B03.tif\n"
     ]
    },
    {
     "name": "stderr",
     "output_type": "stream",
     "text": [
      "16:20:39: sending https://sentinel-cogs.s3.us-west-2.amazonaws.com/sentinel-s2-l2a-cogs/23/K/PR/2020/3/S2A_23KPR_20200304_0_L2A/B02.tif\n"
     ]
    },
    {
     "name": "stdout",
     "output_type": "stream",
     "text": [
      "\n",
      "\n",
      "wget this: %s https://sentinel-cogs.s3.us-west-2.amazonaws.com/sentinel-s2-l2a-cogs/23/K/PR/2020/3/S2A_23KPR_20200304_0_L2A/B02.tif\n",
      "wget -nv -O- https://sentinel-cogs.s3.us-west-2.amazonaws.com/sentinel-s2-l2a-cogs/23/K/PR/2020/3/S2A_23KPR_20200304_0_L2A/B02.tif | aws s3 cp - s3://dev-et-data/usmart/RIO/sentinel-s2-l2a-cogs/\n",
      "S2A_23KPR_20200304_0_L2A_B02.tif\n",
      "wget -nv -O- https://sentinel-cogs.s3.us-west-2.amazonaws.com/sentinel-s2-l2a-cogs/23/K/PR/2020/3/S2A_23KPR_20200304_0_L2A/B02.tif | aws s3 cp - s3://dev-et-data/usmart/RIO/sentinel-s2-l2a-cogs/S2A_23KPR_20200304_0_L2A_B02.tif\n"
     ]
    },
    {
     "name": "stderr",
     "output_type": "stream",
     "text": [
      "16:20:39: sending https://sentinel-cogs.s3.us-west-2.amazonaws.com/sentinel-s2-l2a-cogs/23/K/NR/2020/2/S2B_23KNR_20200218_0_L2A/B02.tif\n"
     ]
    },
    {
     "name": "stdout",
     "output_type": "stream",
     "text": [
      "\n",
      "\n",
      "wget this: %s https://sentinel-cogs.s3.us-west-2.amazonaws.com/sentinel-s2-l2a-cogs/23/K/NR/2020/2/S2B_23KNR_20200218_0_L2A/B02.tif\n",
      "wget -nv -O- https://sentinel-cogs.s3.us-west-2.amazonaws.com/sentinel-s2-l2a-cogs/23/K/NR/2020/2/S2B_23KNR_20200218_0_L2A/B02.tif | aws s3 cp - s3://dev-et-data/usmart/RIO/sentinel-s2-l2a-cogs/\n",
      "S2B_23KNR_20200218_0_L2A_B02.tif\n",
      "wget -nv -O- https://sentinel-cogs.s3.us-west-2.amazonaws.com/sentinel-s2-l2a-cogs/23/K/NR/2020/2/S2B_23KNR_20200218_0_L2A/B02.tif | aws s3 cp - s3://dev-et-data/usmart/RIO/sentinel-s2-l2a-cogs/S2B_23KNR_20200218_0_L2A_B02.tif\n"
     ]
    },
    {
     "name": "stderr",
     "output_type": "stream",
     "text": [
      "2021-09-13 16:20:39 URL:https://sentinel-cogs.s3.us-west-2.amazonaws.com/sentinel-s2-l2a-cogs/23/K/PR/2020/2/S2B_23KPR_20200228_0_L2A/B03.tif [152257509/152257509] -> \"-\" [1]\n",
      "2021-09-13 16:20:39 URL:https://sentinel-cogs.s3.us-west-2.amazonaws.com/sentinel-s2-l2a-cogs/23/K/PR/2020/2/S2A_23KPR_20200213_0_L2A/B04.tif [146335509/146335509] -> \"-\" [1]\n",
      "16:20:40: sending https://sentinel-cogs.s3.us-west-2.amazonaws.com/sentinel-s2-l2a-cogs/23/K/PR/2020/2/S2B_23KPR_20200228_0_L2A/B02.tif\n"
     ]
    },
    {
     "name": "stdout",
     "output_type": "stream",
     "text": [
      "\n",
      "\n",
      "wget this: %s https://sentinel-cogs.s3.us-west-2.amazonaws.com/sentinel-s2-l2a-cogs/23/K/PR/2020/2/S2B_23KPR_20200228_0_L2A/B02.tif\n",
      "wget -nv -O- https://sentinel-cogs.s3.us-west-2.amazonaws.com/sentinel-s2-l2a-cogs/23/K/PR/2020/2/S2B_23KPR_20200228_0_L2A/B02.tif | aws s3 cp - s3://dev-et-data/usmart/RIO/sentinel-s2-l2a-cogs/\n",
      "S2B_23KPR_20200228_0_L2A_B02.tif\n",
      "wget -nv -O- https://sentinel-cogs.s3.us-west-2.amazonaws.com/sentinel-s2-l2a-cogs/23/K/PR/2020/2/S2B_23KPR_20200228_0_L2A/B02.tif | aws s3 cp - s3://dev-et-data/usmart/RIO/sentinel-s2-l2a-cogs/S2B_23KPR_20200228_0_L2A_B02.tif\n"
     ]
    },
    {
     "name": "stderr",
     "output_type": "stream",
     "text": [
      "2021-09-13 16:20:40 URL:https://sentinel-cogs.s3.us-west-2.amazonaws.com/sentinel-s2-l2a-cogs/23/K/PR/2020/3/S2B_23KPR_20200319_0_L2A/B02.tif [221642474/221642474] -> \"-\" [1]\n",
      "16:20:40: sending https://sentinel-cogs.s3.us-west-2.amazonaws.com/sentinel-s2-l2a-cogs/23/K/PR/2020/2/S2A_23KPR_20200213_0_L2A/B03.tif\n"
     ]
    },
    {
     "name": "stdout",
     "output_type": "stream",
     "text": [
      "\n",
      "\n",
      "wget this: %s https://sentinel-cogs.s3.us-west-2.amazonaws.com/sentinel-s2-l2a-cogs/23/K/PR/2020/2/S2A_23KPR_20200213_0_L2A/B03.tif\n",
      "wget -nv -O- https://sentinel-cogs.s3.us-west-2.amazonaws.com/sentinel-s2-l2a-cogs/23/K/PR/2020/2/S2A_23KPR_20200213_0_L2A/B03.tif | aws s3 cp - s3://dev-et-data/usmart/RIO/sentinel-s2-l2a-cogs/\n",
      "S2A_23KPR_20200213_0_L2A_B03.tif\n",
      "wget -nv -O- https://sentinel-cogs.s3.us-west-2.amazonaws.com/sentinel-s2-l2a-cogs/23/K/PR/2020/2/S2A_23KPR_20200213_0_L2A/B03.tif | aws s3 cp - s3://dev-et-data/usmart/RIO/sentinel-s2-l2a-cogs/S2A_23KPR_20200213_0_L2A_B03.tif\n"
     ]
    },
    {
     "name": "stderr",
     "output_type": "stream",
     "text": [
      "16:20:41: Thread 115: finishing in 37 seconds\n",
      "16:20:41: xfer Thread 133: starting\n",
      "16:20:41: sending https://sentinel-cogs.s3.us-west-2.amazonaws.com/sentinel-s2-l2a-cogs/23/K/PR/2020/2/S2A_23KPR_20200203_0_L2A/B04.tif\n"
     ]
    },
    {
     "name": "stdout",
     "output_type": "stream",
     "text": [
      "\n",
      "\n",
      "wget this: %s https://sentinel-cogs.s3.us-west-2.amazonaws.com/sentinel-s2-l2a-cogs/23/K/PR/2020/2/S2A_23KPR_20200203_0_L2A/B04.tif\n",
      "wget -nv -O- https://sentinel-cogs.s3.us-west-2.amazonaws.com/sentinel-s2-l2a-cogs/23/K/PR/2020/2/S2A_23KPR_20200203_0_L2A/B04.tif | aws s3 cp - s3://dev-et-data/usmart/RIO/sentinel-s2-l2a-cogs/\n",
      "S2A_23KPR_20200203_0_L2A_B04.tif\n",
      "wget -nv -O- https://sentinel-cogs.s3.us-west-2.amazonaws.com/sentinel-s2-l2a-cogs/23/K/PR/2020/2/S2A_23KPR_20200203_0_L2A/B04.tif | aws s3 cp - s3://dev-et-data/usmart/RIO/sentinel-s2-l2a-cogs/S2A_23KPR_20200203_0_L2A_B04.tif\n"
     ]
    },
    {
     "name": "stderr",
     "output_type": "stream",
     "text": [
      "2021-09-13 16:20:41 URL:https://sentinel-cogs.s3.us-west-2.amazonaws.com/sentinel-s2-l2a-cogs/23/K/NR/2020/2/S2A_23KNR_20200223_0_L2A/B03.tif [114836948/114836948] -> \"-\" [1]\n",
      "2021-09-13 16:20:41 URL:https://sentinel-cogs.s3.us-west-2.amazonaws.com/sentinel-s2-l2a-cogs/23/K/PR/2020/2/S2B_23KPR_20200218_0_L2A/B04.tif [227057299/227057299] -> \"-\" [1]\n",
      "16:20:42: sending https://sentinel-cogs.s3.us-west-2.amazonaws.com/sentinel-s2-l2a-cogs/23/K/NR/2020/2/S2A_23KNR_20200223_0_L2A/B02.tif\n",
      "16:20:42: sending https://sentinel-cogs.s3.us-west-2.amazonaws.com/sentinel-s2-l2a-cogs/23/K/PR/2020/2/S2B_23KPR_20200218_0_L2A/B03.tif\n"
     ]
    },
    {
     "name": "stdout",
     "output_type": "stream",
     "text": [
      "\n",
      "\n",
      "wget this: %s https://sentinel-cogs.s3.us-west-2.amazonaws.com/sentinel-s2-l2a-cogs/23/K/NR/2020/2/S2A_23KNR_20200223_0_L2A/B02.tif\n",
      "wget -nv -O- https://sentinel-cogs.s3.us-west-2.amazonaws.com/sentinel-s2-l2a-cogs/23/K/NR/2020/2/S2A_23KNR_20200223_0_L2A/B02.tif | aws s3 cp - s3://dev-et-data/usmart/RIO/sentinel-s2-l2a-cogs/\n",
      "S2A_23KNR_20200223_0_L2A_B02.tif\n",
      "wget -nv -O- https://sentinel-cogs.s3.us-west-2.amazonaws.com/sentinel-s2-l2a-cogs/23/K/NR/2020/2/S2A_23KNR_20200223_0_L2A/B02.tif | aws s3 cp - s3://dev-et-data/usmart/RIO/sentinel-s2-l2a-cogs/S2A_23KNR_20200223_0_L2A_B02.tif\n",
      "\n",
      "\n",
      "wget this: %s https://sentinel-cogs.s3.us-west-2.amazonaws.com/sentinel-s2-l2a-cogs/23/K/PR/2020/2/S2B_23KPR_20200218_0_L2A/B03.tif\n",
      "wget -nv -O- https://sentinel-cogs.s3.us-west-2.amazonaws.com/sentinel-s2-l2a-cogs/23/K/PR/2020/2/S2B_23KPR_20200218_0_L2A/B03.tif | aws s3 cp - s3://dev-et-data/usmart/RIO/sentinel-s2-l2a-cogs/\n",
      "S2B_23KPR_20200218_0_L2A_B03.tif\n",
      "wget -nv -O- https://sentinel-cogs.s3.us-west-2.amazonaws.com/sentinel-s2-l2a-cogs/23/K/PR/2020/2/S2B_23KPR_20200218_0_L2A/B03.tif | aws s3 cp - s3://dev-et-data/usmart/RIO/sentinel-s2-l2a-cogs/S2B_23KPR_20200218_0_L2A_B03.tif\n"
     ]
    },
    {
     "name": "stderr",
     "output_type": "stream",
     "text": [
      "2021-09-13 16:20:42 URL:https://sentinel-cogs.s3.us-west-2.amazonaws.com/sentinel-s2-l2a-cogs/23/K/NR/2020/2/S2B_23KNR_20200208_0_L2A/B04.tif [128327049/128327049] -> \"-\" [1]\n",
      "2021-09-13 16:20:43 URL:https://sentinel-cogs.s3.us-west-2.amazonaws.com/sentinel-s2-l2a-cogs/23/K/NR/2020/3/S2A_23KNR_20200304_0_L2A/B02.tif [120836817/120836817] -> \"-\" [1]\n",
      "16:20:43: sending https://sentinel-cogs.s3.us-west-2.amazonaws.com/sentinel-s2-l2a-cogs/23/K/NR/2020/2/S2B_23KNR_20200208_0_L2A/B03.tif\n"
     ]
    },
    {
     "name": "stdout",
     "output_type": "stream",
     "text": [
      "\n",
      "\n",
      "wget this: %s https://sentinel-cogs.s3.us-west-2.amazonaws.com/sentinel-s2-l2a-cogs/23/K/NR/2020/2/S2B_23KNR_20200208_0_L2A/B03.tif\n",
      "wget -nv -O- https://sentinel-cogs.s3.us-west-2.amazonaws.com/sentinel-s2-l2a-cogs/23/K/NR/2020/2/S2B_23KNR_20200208_0_L2A/B03.tif | aws s3 cp - s3://dev-et-data/usmart/RIO/sentinel-s2-l2a-cogs/\n",
      "S2B_23KNR_20200208_0_L2A_B03.tif\n",
      "wget -nv -O- https://sentinel-cogs.s3.us-west-2.amazonaws.com/sentinel-s2-l2a-cogs/23/K/NR/2020/2/S2B_23KNR_20200208_0_L2A/B03.tif | aws s3 cp - s3://dev-et-data/usmart/RIO/sentinel-s2-l2a-cogs/S2B_23KNR_20200208_0_L2A_B03.tif\n"
     ]
    },
    {
     "name": "stderr",
     "output_type": "stream",
     "text": [
      "16:20:43: Thread 120: finishing in 26 seconds\n",
      "16:20:43: xfer Thread 134: starting\n",
      "16:20:43: sending https://sentinel-cogs.s3.us-west-2.amazonaws.com/sentinel-s2-l2a-cogs/23/K/NR/2020/1/S2B_23KNR_20200129_0_L2A/B04.tif\n"
     ]
    },
    {
     "name": "stdout",
     "output_type": "stream",
     "text": [
      "\n",
      "\n",
      "wget this: %s https://sentinel-cogs.s3.us-west-2.amazonaws.com/sentinel-s2-l2a-cogs/23/K/NR/2020/1/S2B_23KNR_20200129_0_L2A/B04.tif\n",
      "wget -nv -O- https://sentinel-cogs.s3.us-west-2.amazonaws.com/sentinel-s2-l2a-cogs/23/K/NR/2020/1/S2B_23KNR_20200129_0_L2A/B04.tif | aws s3 cp - s3://dev-et-data/usmart/RIO/sentinel-s2-l2a-cogs/\n",
      "S2B_23KNR_20200129_0_L2A_B04.tif\n",
      "wget -nv -O- https://sentinel-cogs.s3.us-west-2.amazonaws.com/sentinel-s2-l2a-cogs/23/K/NR/2020/1/S2B_23KNR_20200129_0_L2A/B04.tif | aws s3 cp - s3://dev-et-data/usmart/RIO/sentinel-s2-l2a-cogs/S2B_23KNR_20200129_0_L2A_B04.tif\n"
     ]
    },
    {
     "name": "stderr",
     "output_type": "stream",
     "text": [
      "2021-09-13 16:20:45 URL:https://sentinel-cogs.s3.us-west-2.amazonaws.com/sentinel-s2-l2a-cogs/23/K/NR/2020/2/S2A_23KNR_20200213_0_L2A/B03.tif [104970045/104970045] -> \"-\" [1]\n",
      "2021-09-13 16:20:46 URL:https://sentinel-cogs.s3.us-west-2.amazonaws.com/sentinel-s2-l2a-cogs/23/K/NR/2020/2/S2A_23KNR_20200203_0_L2A/B04.tif [117595992/117595992] -> \"-\" [1]\n",
      "16:20:46: sending https://sentinel-cogs.s3.us-west-2.amazonaws.com/sentinel-s2-l2a-cogs/23/K/NR/2020/2/S2A_23KNR_20200213_0_L2A/B02.tif\n"
     ]
    },
    {
     "name": "stdout",
     "output_type": "stream",
     "text": [
      "\n",
      "\n",
      "wget this: %s https://sentinel-cogs.s3.us-west-2.amazonaws.com/sentinel-s2-l2a-cogs/23/K/NR/2020/2/S2A_23KNR_20200213_0_L2A/B02.tif\n",
      "wget -nv -O- https://sentinel-cogs.s3.us-west-2.amazonaws.com/sentinel-s2-l2a-cogs/23/K/NR/2020/2/S2A_23KNR_20200213_0_L2A/B02.tif | aws s3 cp - s3://dev-et-data/usmart/RIO/sentinel-s2-l2a-cogs/\n",
      "S2A_23KNR_20200213_0_L2A_B02.tif\n",
      "wget -nv -O- https://sentinel-cogs.s3.us-west-2.amazonaws.com/sentinel-s2-l2a-cogs/23/K/NR/2020/2/S2A_23KNR_20200213_0_L2A/B02.tif | aws s3 cp - s3://dev-et-data/usmart/RIO/sentinel-s2-l2a-cogs/S2A_23KNR_20200213_0_L2A_B02.tif\n"
     ]
    },
    {
     "name": "stderr",
     "output_type": "stream",
     "text": [
      "2021-09-13 16:20:46 URL:https://sentinel-cogs.s3.us-west-2.amazonaws.com/sentinel-s2-l2a-cogs/23/K/PR/2020/3/S2A_23KPR_20200314_0_L2A/B02.tif [225938580/225938580] -> \"-\" [1]\n",
      "2021-09-13 16:20:47 URL:https://sentinel-cogs.s3.us-west-2.amazonaws.com/sentinel-s2-l2a-cogs/23/K/NR/2020/2/S2B_23KNR_20200218_0_L2A/B02.tif [125012866/125012866] -> \"-\" [1]\n",
      "2021-09-13 16:20:47 URL:https://sentinel-cogs.s3.us-west-2.amazonaws.com/sentinel-s2-l2a-cogs/23/K/PR/2020/2/S2A_23KPR_20200223_0_L2A/B03.tif [216508619/216508619] -> \"-\" [1]\n",
      "16:20:47: Thread 117: finishing in 35 seconds\n",
      "16:20:47: xfer Thread 135: starting\n",
      "16:20:47: sending https://sentinel-cogs.s3.us-west-2.amazonaws.com/sentinel-s2-l2a-cogs/23/K/PR/2020/1/S2B_23KPR_20200129_0_L2A/B04.tif\n",
      "16:20:47: sending https://sentinel-cogs.s3.us-west-2.amazonaws.com/sentinel-s2-l2a-cogs/23/K/NR/2020/2/S2A_23KNR_20200203_0_L2A/B03.tif\n"
     ]
    },
    {
     "name": "stdout",
     "output_type": "stream",
     "text": [
      "\n",
      "\n",
      "wget this: %s https://sentinel-cogs.s3.us-west-2.amazonaws.com/sentinel-s2-l2a-cogs/23/K/PR/2020/1/S2B_23KPR_20200129_0_L2A/B04.tif\n",
      "wget -nv -O- https://sentinel-cogs.s3.us-west-2.amazonaws.com/sentinel-s2-l2a-cogs/23/K/PR/2020/1/S2B_23KPR_20200129_0_L2A/B04.tif | aws s3 cp - s3://dev-et-data/usmart/RIO/sentinel-s2-l2a-cogs/\n",
      "S2B_23KPR_20200129_0_L2A_B04.tif\n",
      "wget -nv -O- https://sentinel-cogs.s3.us-west-2.amazonaws.com/sentinel-s2-l2a-cogs/23/K/PR/2020/1/S2B_23KPR_20200129_0_L2A/B04.tif | aws s3 cp - s3://dev-et-data/usmart/RIO/sentinel-s2-l2a-cogs/S2B_23KPR_20200129_0_L2A_B04.tif\n",
      "\n",
      "\n",
      "wget this: %s https://sentinel-cogs.s3.us-west-2.amazonaws.com/sentinel-s2-l2a-cogs/23/K/NR/2020/2/S2A_23KNR_20200203_0_L2A/B03.tif\n",
      "wget -nv -O- https://sentinel-cogs.s3.us-west-2.amazonaws.com/sentinel-s2-l2a-cogs/23/K/NR/2020/2/S2A_23KNR_20200203_0_L2A/B03.tif | aws s3 cp - s3://dev-et-data/usmart/RIO/sentinel-s2-l2a-cogs/\n",
      "S2A_23KNR_20200203_0_L2A_B03.tif\n",
      "wget -nv -O- https://sentinel-cogs.s3.us-west-2.amazonaws.com/sentinel-s2-l2a-cogs/23/K/NR/2020/2/S2A_23KNR_20200203_0_L2A/B03.tif | aws s3 cp - s3://dev-et-data/usmart/RIO/sentinel-s2-l2a-cogs/S2A_23KNR_20200203_0_L2A_B03.tif\n"
     ]
    },
    {
     "name": "stderr",
     "output_type": "stream",
     "text": [
      "16:20:47: Thread 126: finishing in 22 seconds\n",
      "16:20:47: xfer Thread 136: starting\n",
      "16:20:47: sending https://sentinel-cogs.s3.us-west-2.amazonaws.com/sentinel-s2-l2a-cogs/23/K/NR/2020/1/S2A_23KNR_20200124_0_L2A/B04.tif\n",
      "16:20:47: sending https://sentinel-cogs.s3.us-west-2.amazonaws.com/sentinel-s2-l2a-cogs/23/K/PR/2020/2/S2A_23KPR_20200223_0_L2A/B02.tif\n"
     ]
    },
    {
     "name": "stdout",
     "output_type": "stream",
     "text": [
      "\n",
      "\n",
      "wget this: %s https://sentinel-cogs.s3.us-west-2.amazonaws.com/sentinel-s2-l2a-cogs/23/K/NR/2020/1/S2A_23KNR_20200124_0_L2A/B04.tif\n",
      "wget -nv -O- https://sentinel-cogs.s3.us-west-2.amazonaws.com/sentinel-s2-l2a-cogs/23/K/NR/2020/1/S2A_23KNR_20200124_0_L2A/B04.tif | aws s3 cp - s3://dev-et-data/usmart/RIO/sentinel-s2-l2a-cogs/\n",
      "S2A_23KNR_20200124_0_L2A_B04.tif\n",
      "wget -nv -O- https://sentinel-cogs.s3.us-west-2.amazonaws.com/sentinel-s2-l2a-cogs/23/K/NR/2020/1/S2A_23KNR_20200124_0_L2A/B04.tif | aws s3 cp - s3://dev-et-data/usmart/RIO/sentinel-s2-l2a-cogs/S2A_23KNR_20200124_0_L2A_B04.tif\n",
      "\n",
      "\n",
      "wget this: %s https://sentinel-cogs.s3.us-west-2.amazonaws.com/sentinel-s2-l2a-cogs/23/K/PR/2020/2/S2A_23KPR_20200223_0_L2A/B02.tif\n",
      "wget -nv -O- https://sentinel-cogs.s3.us-west-2.amazonaws.com/sentinel-s2-l2a-cogs/23/K/PR/2020/2/S2A_23KPR_20200223_0_L2A/B02.tif | aws s3 cp - s3://dev-et-data/usmart/RIO/sentinel-s2-l2a-cogs/\n",
      "S2A_23KPR_20200223_0_L2A_B02.tif\n",
      "wget -nv -O- https://sentinel-cogs.s3.us-west-2.amazonaws.com/sentinel-s2-l2a-cogs/23/K/PR/2020/2/S2A_23KPR_20200223_0_L2A/B02.tif | aws s3 cp - s3://dev-et-data/usmart/RIO/sentinel-s2-l2a-cogs/S2A_23KPR_20200223_0_L2A_B02.tif\n"
     ]
    },
    {
     "name": "stderr",
     "output_type": "stream",
     "text": [
      "2021-09-13 16:20:48 URL:https://sentinel-cogs.s3.us-west-2.amazonaws.com/sentinel-s2-l2a-cogs/23/K/PR/2020/2/S2B_23KPR_20200208_0_L2A/B04.tif [229799523/229799523] -> \"-\" [1]\n",
      "2021-09-13 16:20:49 URL:https://sentinel-cogs.s3.us-west-2.amazonaws.com/sentinel-s2-l2a-cogs/23/K/PR/2020/2/S2B_23KPR_20200228_0_L2A/B02.tif [155277382/155277382] -> \"-\" [1]\n",
      "2021-09-13 16:20:49 URL:https://sentinel-cogs.s3.us-west-2.amazonaws.com/sentinel-s2-l2a-cogs/23/K/PR/2020/2/S2A_23KPR_20200213_0_L2A/B03.tif [145208549/145208549] -> \"-\" [1]\n",
      "2021-09-13 16:20:49 URL:https://sentinel-cogs.s3.us-west-2.amazonaws.com/sentinel-s2-l2a-cogs/23/K/PR/2020/3/S2A_23KPR_20200304_0_L2A/B02.tif [193161877/193161877] -> \"-\" [1]\n",
      "16:20:49: sending https://sentinel-cogs.s3.us-west-2.amazonaws.com/sentinel-s2-l2a-cogs/23/K/PR/2020/2/S2B_23KPR_20200208_0_L2A/B03.tif\n"
     ]
    },
    {
     "name": "stdout",
     "output_type": "stream",
     "text": [
      "\n",
      "\n",
      "wget this: %s https://sentinel-cogs.s3.us-west-2.amazonaws.com/sentinel-s2-l2a-cogs/23/K/PR/2020/2/S2B_23KPR_20200208_0_L2A/B03.tif\n",
      "wget -nv -O- https://sentinel-cogs.s3.us-west-2.amazonaws.com/sentinel-s2-l2a-cogs/23/K/PR/2020/2/S2B_23KPR_20200208_0_L2A/B03.tif | aws s3 cp - s3://dev-et-data/usmart/RIO/sentinel-s2-l2a-cogs/\n",
      "S2B_23KPR_20200208_0_L2A_B03.tif\n",
      "wget -nv -O- https://sentinel-cogs.s3.us-west-2.amazonaws.com/sentinel-s2-l2a-cogs/23/K/PR/2020/2/S2B_23KPR_20200208_0_L2A/B03.tif | aws s3 cp - s3://dev-et-data/usmart/RIO/sentinel-s2-l2a-cogs/S2B_23KPR_20200208_0_L2A_B03.tif\n"
     ]
    },
    {
     "name": "stderr",
     "output_type": "stream",
     "text": [
      "2021-09-13 16:20:49 URL:https://sentinel-cogs.s3.us-west-2.amazonaws.com/sentinel-s2-l2a-cogs/23/K/NR/2020/2/S2A_23KNR_20200223_0_L2A/B02.tif [116004328/116004328] -> \"-\" [1]\n",
      "16:20:50: sending https://sentinel-cogs.s3.us-west-2.amazonaws.com/sentinel-s2-l2a-cogs/23/K/PR/2020/2/S2A_23KPR_20200213_0_L2A/B02.tif\n",
      "16:20:50: Thread 123: finishing in 27 seconds\n",
      "16:20:50: xfer Thread 137: starting\n",
      "16:20:50: sending https://sentinel-cogs.s3.us-west-2.amazonaws.com/sentinel-s2-l2a-cogs/23/K/PR/2020/1/S2A_23KPR_20200124_0_L2A/B04.tif\n"
     ]
    },
    {
     "name": "stdout",
     "output_type": "stream",
     "text": [
      "\n",
      "\n",
      "wget this: %s https://sentinel-cogs.s3.us-west-2.amazonaws.com/sentinel-s2-l2a-cogs/23/K/PR/2020/2/S2A_23KPR_20200213_0_L2A/B02.tif\n",
      "wget -nv -O- https://sentinel-cogs.s3.us-west-2.amazonaws.com/sentinel-s2-l2a-cogs/23/K/PR/2020/2/S2A_23KPR_20200213_0_L2A/B02.tif | aws s3 cp - s3://dev-et-data/usmart/RIO/sentinel-s2-l2a-cogs/\n",
      "S2A_23KPR_20200213_0_L2A_B02.tif\n",
      "wget -nv -O- https://sentinel-cogs.s3.us-west-2.amazonaws.com/sentinel-s2-l2a-cogs/23/K/PR/2020/2/S2A_23KPR_20200213_0_L2A/B02.tif | aws s3 cp - s3://dev-et-data/usmart/RIO/sentinel-s2-l2a-cogs/S2A_23KPR_20200213_0_L2A_B02.tif\n",
      "\n",
      "\n",
      "wget this: %s https://sentinel-cogs.s3.us-west-2.amazonaws.com/sentinel-s2-l2a-cogs/23/K/PR/2020/1/S2A_23KPR_20200124_0_L2A/B04.tif\n",
      "wget -nv -O- https://sentinel-cogs.s3.us-west-2.amazonaws.com/sentinel-s2-l2a-cogs/23/K/PR/2020/1/S2A_23KPR_20200124_0_L2A/B04.tif | aws s3 cp - s3://dev-et-data/usmart/RIO/sentinel-s2-l2a-cogs/\n",
      "S2A_23KPR_20200124_0_L2A_B04.tif\n",
      "wget -nv -O- https://sentinel-cogs.s3.us-west-2.amazonaws.com/sentinel-s2-l2a-cogs/23/K/PR/2020/1/S2A_23KPR_20200124_0_L2A/B04.tif | aws s3 cp - s3://dev-et-data/usmart/RIO/sentinel-s2-l2a-cogs/S2A_23KPR_20200124_0_L2A_B04.tif\n"
     ]
    },
    {
     "name": "stderr",
     "output_type": "stream",
     "text": [
      "2021-09-13 16:20:50 URL:https://sentinel-cogs.s3.us-west-2.amazonaws.com/sentinel-s2-l2a-cogs/23/K/PR/2020/3/S2B_23KPR_20200309_0_L2A/B02.tif [231092894/231092894] -> \"-\" [1]\n",
      "16:20:50: Thread 124: finishing in 25 seconds\n",
      "16:20:50: xfer Thread 138: starting\n",
      "16:20:50: sending https://sentinel-cogs.s3.us-west-2.amazonaws.com/sentinel-s2-l2a-cogs/23/K/NR/2020/1/S2B_23KNR_20200119_0_L2A/B04.tif\n"
     ]
    },
    {
     "name": "stdout",
     "output_type": "stream",
     "text": [
      "\n",
      "\n",
      "wget this: %s https://sentinel-cogs.s3.us-west-2.amazonaws.com/sentinel-s2-l2a-cogs/23/K/NR/2020/1/S2B_23KNR_20200119_0_L2A/B04.tif\n",
      "wget -nv -O- https://sentinel-cogs.s3.us-west-2.amazonaws.com/sentinel-s2-l2a-cogs/23/K/NR/2020/1/S2B_23KNR_20200119_0_L2A/B04.tif | aws s3 cp - s3://dev-et-data/usmart/RIO/sentinel-s2-l2a-cogs/\n",
      "S2B_23KNR_20200119_0_L2A_B04.tif\n",
      "wget -nv -O- https://sentinel-cogs.s3.us-west-2.amazonaws.com/sentinel-s2-l2a-cogs/23/K/NR/2020/1/S2B_23KNR_20200119_0_L2A/B04.tif | aws s3 cp - s3://dev-et-data/usmart/RIO/sentinel-s2-l2a-cogs/S2B_23KNR_20200119_0_L2A_B04.tif\n"
     ]
    },
    {
     "name": "stderr",
     "output_type": "stream",
     "text": [
      "16:20:50: Thread 119: finishing in 37 seconds\n",
      "16:20:50: xfer Thread 139: starting\n",
      "16:20:50: sending https://sentinel-cogs.s3.us-west-2.amazonaws.com/sentinel-s2-l2a-cogs/23/K/PR/2020/1/S2B_23KPR_20200119_0_L2A/B04.tif\n"
     ]
    },
    {
     "name": "stdout",
     "output_type": "stream",
     "text": [
      "\n",
      "\n",
      "wget this: %s https://sentinel-cogs.s3.us-west-2.amazonaws.com/sentinel-s2-l2a-cogs/23/K/PR/2020/1/S2B_23KPR_20200119_0_L2A/B04.tif\n",
      "wget -nv -O- https://sentinel-cogs.s3.us-west-2.amazonaws.com/sentinel-s2-l2a-cogs/23/K/PR/2020/1/S2B_23KPR_20200119_0_L2A/B04.tif | aws s3 cp - s3://dev-et-data/usmart/RIO/sentinel-s2-l2a-cogs/\n",
      "S2B_23KPR_20200119_0_L2A_B04.tif\n",
      "wget -nv -O- https://sentinel-cogs.s3.us-west-2.amazonaws.com/sentinel-s2-l2a-cogs/23/K/PR/2020/1/S2B_23KPR_20200119_0_L2A/B04.tif | aws s3 cp - s3://dev-et-data/usmart/RIO/sentinel-s2-l2a-cogs/S2B_23KPR_20200119_0_L2A_B04.tif\n"
     ]
    },
    {
     "name": "stderr",
     "output_type": "stream",
     "text": [
      "2021-09-13 16:20:51 URL:https://sentinel-cogs.s3.us-west-2.amazonaws.com/sentinel-s2-l2a-cogs/23/K/NR/2020/2/S2B_23KNR_20200208_0_L2A/B03.tif [128698771/128698771] -> \"-\" [1]\n",
      "2021-09-13 16:20:52 URL:https://sentinel-cogs.s3.us-west-2.amazonaws.com/sentinel-s2-l2a-cogs/23/K/NR/2020/1/S2B_23KNR_20200129_0_L2A/B04.tif [101183630/101183630] -> \"-\" [1]\n",
      "16:20:52: sending https://sentinel-cogs.s3.us-west-2.amazonaws.com/sentinel-s2-l2a-cogs/23/K/NR/2020/2/S2B_23KNR_20200208_0_L2A/B02.tif\n"
     ]
    },
    {
     "name": "stdout",
     "output_type": "stream",
     "text": [
      "\n",
      "\n",
      "wget this: %s https://sentinel-cogs.s3.us-west-2.amazonaws.com/sentinel-s2-l2a-cogs/23/K/NR/2020/2/S2B_23KNR_20200208_0_L2A/B02.tif\n",
      "wget -nv -O- https://sentinel-cogs.s3.us-west-2.amazonaws.com/sentinel-s2-l2a-cogs/23/K/NR/2020/2/S2B_23KNR_20200208_0_L2A/B02.tif | aws s3 cp - s3://dev-et-data/usmart/RIO/sentinel-s2-l2a-cogs/\n",
      "S2B_23KNR_20200208_0_L2A_B02.tif\n",
      "wget -nv -O- https://sentinel-cogs.s3.us-west-2.amazonaws.com/sentinel-s2-l2a-cogs/23/K/NR/2020/2/S2B_23KNR_20200208_0_L2A/B02.tif | aws s3 cp - s3://dev-et-data/usmart/RIO/sentinel-s2-l2a-cogs/S2B_23KNR_20200208_0_L2A_B02.tif\n"
     ]
    },
    {
     "name": "stderr",
     "output_type": "stream",
     "text": [
      "2021-09-13 16:20:52 URL:https://sentinel-cogs.s3.us-west-2.amazonaws.com/sentinel-s2-l2a-cogs/23/K/PR/2020/2/S2B_23KPR_20200218_0_L2A/B03.tif [227922340/227922340] -> \"-\" [1]\n",
      "16:20:52: sending https://sentinel-cogs.s3.us-west-2.amazonaws.com/sentinel-s2-l2a-cogs/23/K/NR/2020/1/S2B_23KNR_20200129_0_L2A/B03.tif\n",
      "2021-09-13 16:20:52 URL:https://sentinel-cogs.s3.us-west-2.amazonaws.com/sentinel-s2-l2a-cogs/23/K/NR/2020/2/S2A_23KNR_20200213_0_L2A/B02.tif [105529220/105529220] -> \"-\" [1]\n",
      "2021-09-13 16:20:52 URL:https://sentinel-cogs.s3.us-west-2.amazonaws.com/sentinel-s2-l2a-cogs/23/K/PR/2020/2/S2A_23KPR_20200203_0_L2A/B04.tif [207829360/207829360] -> \"-\" [1]\n"
     ]
    },
    {
     "name": "stdout",
     "output_type": "stream",
     "text": [
      "\n",
      "\n",
      "wget this: %s https://sentinel-cogs.s3.us-west-2.amazonaws.com/sentinel-s2-l2a-cogs/23/K/NR/2020/1/S2B_23KNR_20200129_0_L2A/B03.tif\n",
      "wget -nv -O- https://sentinel-cogs.s3.us-west-2.amazonaws.com/sentinel-s2-l2a-cogs/23/K/NR/2020/1/S2B_23KNR_20200129_0_L2A/B03.tif | aws s3 cp - s3://dev-et-data/usmart/RIO/sentinel-s2-l2a-cogs/\n",
      "S2B_23KNR_20200129_0_L2A_B03.tif\n",
      "wget -nv -O- https://sentinel-cogs.s3.us-west-2.amazonaws.com/sentinel-s2-l2a-cogs/23/K/NR/2020/1/S2B_23KNR_20200129_0_L2A/B03.tif | aws s3 cp - s3://dev-et-data/usmart/RIO/sentinel-s2-l2a-cogs/S2B_23KNR_20200129_0_L2A_B03.tif\n"
     ]
    },
    {
     "name": "stderr",
     "output_type": "stream",
     "text": [
      "16:20:53: sending https://sentinel-cogs.s3.us-west-2.amazonaws.com/sentinel-s2-l2a-cogs/23/K/PR/2020/2/S2B_23KPR_20200218_0_L2A/B02.tif\n",
      "16:20:53: sending https://sentinel-cogs.s3.us-west-2.amazonaws.com/sentinel-s2-l2a-cogs/23/K/PR/2020/2/S2A_23KPR_20200203_0_L2A/B03.tif\n",
      "16:20:53: Thread 128: finishing in 20 seconds\n",
      "16:20:53: xfer Thread 140: starting\n",
      "16:20:53: sending https://sentinel-cogs.s3.us-west-2.amazonaws.com/sentinel-s2-l2a-cogs/23/K/NR/2020/1/S2A_23KNR_20200114_0_L2A/B04.tif\n"
     ]
    },
    {
     "name": "stdout",
     "output_type": "stream",
     "text": [
      "\n",
      "\n",
      "wget this: %s https://sentinel-cogs.s3.us-west-2.amazonaws.com/sentinel-s2-l2a-cogs/23/K/PR/2020/2/S2B_23KPR_20200218_0_L2A/B02.tif\n",
      "wget -nv -O- https://sentinel-cogs.s3.us-west-2.amazonaws.com/sentinel-s2-l2a-cogs/23/K/PR/2020/2/S2B_23KPR_20200218_0_L2A/B02.tif | aws s3 cp - s3://dev-et-data/usmart/RIO/sentinel-s2-l2a-cogs/\n",
      "S2B_23KPR_20200218_0_L2A_B02.tif\n",
      "wget -nv -O- https://sentinel-cogs.s3.us-west-2.amazonaws.com/sentinel-s2-l2a-cogs/23/K/PR/2020/2/S2B_23KPR_20200218_0_L2A/B02.tif | aws s3 cp - s3://dev-et-data/usmart/RIO/sentinel-s2-l2a-cogs/S2B_23KPR_20200218_0_L2A_B02.tif\n",
      "\n",
      "\n",
      "wget this: %s https://sentinel-cogs.s3.us-west-2.amazonaws.com/sentinel-s2-l2a-cogs/23/K/PR/2020/2/S2A_23KPR_20200203_0_L2A/B03.tif\n",
      "wget -nv -O- https://sentinel-cogs.s3.us-west-2.amazonaws.com/sentinel-s2-l2a-cogs/23/K/PR/2020/2/S2A_23KPR_20200203_0_L2A/B03.tif | aws s3 cp - s3://dev-et-data/usmart/RIO/sentinel-s2-l2a-cogs/\n",
      "S2A_23KPR_20200203_0_L2A_B03.tif\n",
      "wget -nv -O- https://sentinel-cogs.s3.us-west-2.amazonaws.com/sentinel-s2-l2a-cogs/23/K/PR/2020/2/S2A_23KPR_20200203_0_L2A/B03.tif | aws s3 cp - s3://dev-et-data/usmart/RIO/sentinel-s2-l2a-cogs/S2A_23KPR_20200203_0_L2A_B03.tif\n",
      "\n",
      "\n",
      "wget this: %s https://sentinel-cogs.s3.us-west-2.amazonaws.com/sentinel-s2-l2a-cogs/23/K/NR/2020/1/S2A_23KNR_20200114_0_L2A/B04.tif\n",
      "wget -nv -O- https://sentinel-cogs.s3.us-west-2.amazonaws.com/sentinel-s2-l2a-cogs/23/K/NR/2020/1/S2A_23KNR_20200114_0_L2A/B04.tif | aws s3 cp - s3://dev-et-data/usmart/RIO/sentinel-s2-l2a-cogs/\n",
      "S2A_23KNR_20200114_0_L2A_B04.tif\n",
      "wget -nv -O- https://sentinel-cogs.s3.us-west-2.amazonaws.com/sentinel-s2-l2a-cogs/23/K/NR/2020/1/S2A_23KNR_20200114_0_L2A/B04.tif | aws s3 cp - s3://dev-et-data/usmart/RIO/sentinel-s2-l2a-cogs/S2A_23KNR_20200114_0_L2A_B04.tif\n"
     ]
    },
    {
     "name": "stderr",
     "output_type": "stream",
     "text": [
      "2021-09-13 16:20:53 URL:https://sentinel-cogs.s3.us-west-2.amazonaws.com/sentinel-s2-l2a-cogs/23/K/NR/2020/1/S2A_23KNR_20200124_0_L2A/B04.tif [103881337/103881337] -> \"-\" [1]\n",
      "2021-09-13 16:20:54 URL:https://sentinel-cogs.s3.us-west-2.amazonaws.com/sentinel-s2-l2a-cogs/23/K/NR/2020/2/S2A_23KNR_20200203_0_L2A/B03.tif [117538769/117538769] -> \"-\" [1]\n",
      "16:20:54: Thread 121: finishing in 35 seconds\n",
      "16:20:54: xfer Thread 141: starting\n",
      "16:20:54: sending https://sentinel-cogs.s3.us-west-2.amazonaws.com/sentinel-s2-l2a-cogs/23/K/PR/2020/1/S2A_23KPR_20200114_0_L2A/B04.tif\n"
     ]
    },
    {
     "name": "stdout",
     "output_type": "stream",
     "text": [
      "\n",
      "\n",
      "wget this: %s https://sentinel-cogs.s3.us-west-2.amazonaws.com/sentinel-s2-l2a-cogs/23/K/PR/2020/1/S2A_23KPR_20200114_0_L2A/B04.tif\n",
      "wget -nv -O- https://sentinel-cogs.s3.us-west-2.amazonaws.com/sentinel-s2-l2a-cogs/23/K/PR/2020/1/S2A_23KPR_20200114_0_L2A/B04.tif | aws s3 cp - s3://dev-et-data/usmart/RIO/sentinel-s2-l2a-cogs/\n",
      "S2A_23KPR_20200114_0_L2A_B04.tif\n",
      "wget -nv -O- https://sentinel-cogs.s3.us-west-2.amazonaws.com/sentinel-s2-l2a-cogs/23/K/PR/2020/1/S2A_23KPR_20200114_0_L2A/B04.tif | aws s3 cp - s3://dev-et-data/usmart/RIO/sentinel-s2-l2a-cogs/S2A_23KPR_20200114_0_L2A_B04.tif\n"
     ]
    },
    {
     "name": "stderr",
     "output_type": "stream",
     "text": [
      "16:20:54: sending https://sentinel-cogs.s3.us-west-2.amazonaws.com/sentinel-s2-l2a-cogs/23/K/NR/2020/1/S2A_23KNR_20200124_0_L2A/B03.tif\n"
     ]
    },
    {
     "name": "stdout",
     "output_type": "stream",
     "text": [
      "\n",
      "\n",
      "wget this: %s https://sentinel-cogs.s3.us-west-2.amazonaws.com/sentinel-s2-l2a-cogs/23/K/NR/2020/1/S2A_23KNR_20200124_0_L2A/B03.tif\n",
      "wget -nv -O- https://sentinel-cogs.s3.us-west-2.amazonaws.com/sentinel-s2-l2a-cogs/23/K/NR/2020/1/S2A_23KNR_20200124_0_L2A/B03.tif | aws s3 cp - s3://dev-et-data/usmart/RIO/sentinel-s2-l2a-cogs/\n",
      "S2A_23KNR_20200124_0_L2A_B03.tif\n",
      "wget -nv -O- https://sentinel-cogs.s3.us-west-2.amazonaws.com/sentinel-s2-l2a-cogs/23/K/NR/2020/1/S2A_23KNR_20200124_0_L2A/B03.tif | aws s3 cp - s3://dev-et-data/usmart/RIO/sentinel-s2-l2a-cogs/S2A_23KNR_20200124_0_L2A_B03.tif\n"
     ]
    },
    {
     "name": "stderr",
     "output_type": "stream",
     "text": [
      "16:20:54: sending https://sentinel-cogs.s3.us-west-2.amazonaws.com/sentinel-s2-l2a-cogs/23/K/NR/2020/2/S2A_23KNR_20200203_0_L2A/B02.tif\n"
     ]
    },
    {
     "name": "stdout",
     "output_type": "stream",
     "text": [
      "\n",
      "\n",
      "wget this: %s https://sentinel-cogs.s3.us-west-2.amazonaws.com/sentinel-s2-l2a-cogs/23/K/NR/2020/2/S2A_23KNR_20200203_0_L2A/B02.tif\n",
      "wget -nv -O- https://sentinel-cogs.s3.us-west-2.amazonaws.com/sentinel-s2-l2a-cogs/23/K/NR/2020/2/S2A_23KNR_20200203_0_L2A/B02.tif | aws s3 cp - s3://dev-et-data/usmart/RIO/sentinel-s2-l2a-cogs/\n",
      "S2A_23KNR_20200203_0_L2A_B02.tif\n",
      "wget -nv -O- https://sentinel-cogs.s3.us-west-2.amazonaws.com/sentinel-s2-l2a-cogs/23/K/NR/2020/2/S2A_23KNR_20200203_0_L2A/B02.tif | aws s3 cp - s3://dev-et-data/usmart/RIO/sentinel-s2-l2a-cogs/S2A_23KNR_20200203_0_L2A_B02.tif\n"
     ]
    },
    {
     "name": "stderr",
     "output_type": "stream",
     "text": [
      "2021-09-13 16:20:55 URL:https://sentinel-cogs.s3.us-west-2.amazonaws.com/sentinel-s2-l2a-cogs/23/K/PR/2020/1/S2B_23KPR_20200129_0_L2A/B04.tif [201330303/201330303] -> \"-\" [1]\n",
      "16:20:56: sending https://sentinel-cogs.s3.us-west-2.amazonaws.com/sentinel-s2-l2a-cogs/23/K/PR/2020/1/S2B_23KPR_20200129_0_L2A/B03.tif\n"
     ]
    },
    {
     "name": "stdout",
     "output_type": "stream",
     "text": [
      "\n",
      "\n",
      "wget this: %s https://sentinel-cogs.s3.us-west-2.amazonaws.com/sentinel-s2-l2a-cogs/23/K/PR/2020/1/S2B_23KPR_20200129_0_L2A/B03.tif\n",
      "wget -nv -O- https://sentinel-cogs.s3.us-west-2.amazonaws.com/sentinel-s2-l2a-cogs/23/K/PR/2020/1/S2B_23KPR_20200129_0_L2A/B03.tif | aws s3 cp - s3://dev-et-data/usmart/RIO/sentinel-s2-l2a-cogs/\n",
      "S2B_23KPR_20200129_0_L2A_B03.tif\n",
      "wget -nv -O- https://sentinel-cogs.s3.us-west-2.amazonaws.com/sentinel-s2-l2a-cogs/23/K/PR/2020/1/S2B_23KPR_20200129_0_L2A/B03.tif | aws s3 cp - s3://dev-et-data/usmart/RIO/sentinel-s2-l2a-cogs/S2B_23KPR_20200129_0_L2A_B03.tif\n"
     ]
    },
    {
     "name": "stderr",
     "output_type": "stream",
     "text": [
      "2021-09-13 16:20:56 URL:https://sentinel-cogs.s3.us-west-2.amazonaws.com/sentinel-s2-l2a-cogs/23/K/NR/2020/1/S2B_23KNR_20200119_0_L2A/B04.tif [104446334/104446334] -> \"-\" [1]\n",
      "2021-09-13 16:20:56 URL:https://sentinel-cogs.s3.us-west-2.amazonaws.com/sentinel-s2-l2a-cogs/23/K/PR/2020/2/S2A_23KPR_20200213_0_L2A/B02.tif [147498750/147498750] -> \"-\" [1]\n",
      "16:20:57: sending https://sentinel-cogs.s3.us-west-2.amazonaws.com/sentinel-s2-l2a-cogs/23/K/NR/2020/1/S2B_23KNR_20200119_0_L2A/B03.tif\n"
     ]
    },
    {
     "name": "stdout",
     "output_type": "stream",
     "text": [
      "\n",
      "\n",
      "wget this: %s https://sentinel-cogs.s3.us-west-2.amazonaws.com/sentinel-s2-l2a-cogs/23/K/NR/2020/1/S2B_23KNR_20200119_0_L2A/B03.tif\n",
      "wget -nv -O- https://sentinel-cogs.s3.us-west-2.amazonaws.com/sentinel-s2-l2a-cogs/23/K/NR/2020/1/S2B_23KNR_20200119_0_L2A/B03.tif | aws s3 cp - s3://dev-et-data/usmart/RIO/sentinel-s2-l2a-cogs/\n",
      "S2B_23KNR_20200119_0_L2A_B03.tif\n",
      "wget -nv -O- https://sentinel-cogs.s3.us-west-2.amazonaws.com/sentinel-s2-l2a-cogs/23/K/NR/2020/1/S2B_23KNR_20200119_0_L2A/B03.tif | aws s3 cp - s3://dev-et-data/usmart/RIO/sentinel-s2-l2a-cogs/S2B_23KNR_20200119_0_L2A_B03.tif\n"
     ]
    },
    {
     "name": "stderr",
     "output_type": "stream",
     "text": [
      "16:20:57: Thread 129: finishing in 25 seconds\n",
      "16:20:57: xfer Thread 142: starting\n",
      "16:20:57: sending https://sentinel-cogs.s3.us-west-2.amazonaws.com/sentinel-s2-l2a-cogs/23/K/NR/2020/1/S2B_23KNR_20200109_0_L2A/B04.tif\n"
     ]
    },
    {
     "name": "stdout",
     "output_type": "stream",
     "text": [
      "\n",
      "\n",
      "wget this: %s https://sentinel-cogs.s3.us-west-2.amazonaws.com/sentinel-s2-l2a-cogs/23/K/NR/2020/1/S2B_23KNR_20200109_0_L2A/B04.tif\n",
      "wget -nv -O- https://sentinel-cogs.s3.us-west-2.amazonaws.com/sentinel-s2-l2a-cogs/23/K/NR/2020/1/S2B_23KNR_20200109_0_L2A/B04.tif | aws s3 cp - s3://dev-et-data/usmart/RIO/sentinel-s2-l2a-cogs/\n",
      "S2B_23KNR_20200109_0_L2A_B04.tif\n",
      "wget -nv -O- https://sentinel-cogs.s3.us-west-2.amazonaws.com/sentinel-s2-l2a-cogs/23/K/NR/2020/1/S2B_23KNR_20200109_0_L2A/B04.tif | aws s3 cp - s3://dev-et-data/usmart/RIO/sentinel-s2-l2a-cogs/S2B_23KNR_20200109_0_L2A_B04.tif\n"
     ]
    },
    {
     "name": "stderr",
     "output_type": "stream",
     "text": [
      "2021-09-13 16:20:58 URL:https://sentinel-cogs.s3.us-west-2.amazonaws.com/sentinel-s2-l2a-cogs/23/K/PR/2020/2/S2A_23KPR_20200223_0_L2A/B02.tif [217175342/217175342] -> \"-\" [1]\n",
      "2021-09-13 16:20:59 URL:https://sentinel-cogs.s3.us-west-2.amazonaws.com/sentinel-s2-l2a-cogs/23/K/PR/2020/1/S2B_23KPR_20200119_0_L2A/B04.tif [183313813/183313813] -> \"-\" [1]\n",
      "2021-09-13 16:20:59 URL:https://sentinel-cogs.s3.us-west-2.amazonaws.com/sentinel-s2-l2a-cogs/23/K/NR/2020/2/S2B_23KNR_20200208_0_L2A/B02.tif [125124924/125124924] -> \"-\" [1]\n",
      "2021-09-13 16:20:59 URL:https://sentinel-cogs.s3.us-west-2.amazonaws.com/sentinel-s2-l2a-cogs/23/K/NR/2020/1/S2B_23KNR_20200129_0_L2A/B03.tif [101107085/101107085] -> \"-\" [1]\n",
      "16:20:59: Thread 125: finishing in 33 seconds\n",
      "16:20:59: xfer Thread 143: starting\n",
      "16:20:59: sending https://sentinel-cogs.s3.us-west-2.amazonaws.com/sentinel-s2-l2a-cogs/23/K/PR/2020/1/S2B_23KPR_20200109_0_L2A/B04.tif\n"
     ]
    },
    {
     "name": "stdout",
     "output_type": "stream",
     "text": [
      "\n",
      "\n",
      "wget this: %s https://sentinel-cogs.s3.us-west-2.amazonaws.com/sentinel-s2-l2a-cogs/23/K/PR/2020/1/S2B_23KPR_20200109_0_L2A/B04.tif\n",
      "wget -nv -O- https://sentinel-cogs.s3.us-west-2.amazonaws.com/sentinel-s2-l2a-cogs/23/K/PR/2020/1/S2B_23KPR_20200109_0_L2A/B04.tif | aws s3 cp - s3://dev-et-data/usmart/RIO/sentinel-s2-l2a-cogs/\n",
      "S2B_23KPR_20200109_0_L2A_B04.tif\n",
      "wget -nv -O- https://sentinel-cogs.s3.us-west-2.amazonaws.com/sentinel-s2-l2a-cogs/23/K/PR/2020/1/S2B_23KPR_20200109_0_L2A/B04.tif | aws s3 cp - s3://dev-et-data/usmart/RIO/sentinel-s2-l2a-cogs/S2B_23KPR_20200109_0_L2A_B04.tif\n"
     ]
    },
    {
     "name": "stderr",
     "output_type": "stream",
     "text": [
      "2021-09-13 16:21:00 URL:https://sentinel-cogs.s3.us-west-2.amazonaws.com/sentinel-s2-l2a-cogs/23/K/NR/2020/1/S2A_23KNR_20200114_0_L2A/B04.tif [107358009/107358009] -> \"-\" [1]\n",
      "2021-09-13 16:21:00 URL:https://sentinel-cogs.s3.us-west-2.amazonaws.com/sentinel-s2-l2a-cogs/23/K/PR/2020/2/S2B_23KPR_20200208_0_L2A/B03.tif [230549977/230549977] -> \"-\" [1]\n",
      "16:21:00: sending https://sentinel-cogs.s3.us-west-2.amazonaws.com/sentinel-s2-l2a-cogs/23/K/PR/2020/1/S2B_23KPR_20200119_0_L2A/B03.tif\n",
      "16:21:00: Thread 130: finishing in 25 seconds\n",
      "16:21:00: xfer Thread 144: starting\n",
      "16:21:00: sending https://sentinel-cogs.s3.us-west-2.amazonaws.com/sentinel-s2-l2a-cogs/23/K/NR/2020/1/S2A_23KNR_20200104_0_L2A/B04.tif\n",
      "2021-09-13 16:21:00 URL:https://sentinel-cogs.s3.us-west-2.amazonaws.com/sentinel-s2-l2a-cogs/23/K/PR/2020/1/S2A_23KPR_20200124_0_L2A/B04.tif [170857808/170857808] -> \"-\" [1]\n"
     ]
    },
    {
     "name": "stdout",
     "output_type": "stream",
     "text": [
      "\n",
      "\n",
      "wget this: %s https://sentinel-cogs.s3.us-west-2.amazonaws.com/sentinel-s2-l2a-cogs/23/K/PR/2020/1/S2B_23KPR_20200119_0_L2A/B03.tif\n",
      "wget -nv -O- https://sentinel-cogs.s3.us-west-2.amazonaws.com/sentinel-s2-l2a-cogs/23/K/PR/2020/1/S2B_23KPR_20200119_0_L2A/B03.tif | aws s3 cp - s3://dev-et-data/usmart/RIO/sentinel-s2-l2a-cogs/\n",
      "S2B_23KPR_20200119_0_L2A_B03.tif\n",
      "wget -nv -O- https://sentinel-cogs.s3.us-west-2.amazonaws.com/sentinel-s2-l2a-cogs/23/K/PR/2020/1/S2B_23KPR_20200119_0_L2A/B03.tif | aws s3 cp - s3://dev-et-data/usmart/RIO/sentinel-s2-l2a-cogs/S2B_23KPR_20200119_0_L2A_B03.tif\n",
      "\n",
      "\n",
      "wget this: %s https://sentinel-cogs.s3.us-west-2.amazonaws.com/sentinel-s2-l2a-cogs/23/K/NR/2020/1/S2A_23KNR_20200104_0_L2A/B04.tif\n",
      "wget -nv -O- https://sentinel-cogs.s3.us-west-2.amazonaws.com/sentinel-s2-l2a-cogs/23/K/NR/2020/1/S2A_23KNR_20200104_0_L2A/B04.tif | aws s3 cp - s3://dev-et-data/usmart/RIO/sentinel-s2-l2a-cogs/\n",
      "S2A_23KNR_20200104_0_L2A_B04.tif\n",
      "wget -nv -O- https://sentinel-cogs.s3.us-west-2.amazonaws.com/sentinel-s2-l2a-cogs/23/K/NR/2020/1/S2A_23KNR_20200104_0_L2A/B04.tif | aws s3 cp - s3://dev-et-data/usmart/RIO/sentinel-s2-l2a-cogs/S2A_23KNR_20200104_0_L2A_B04.tif\n"
     ]
    },
    {
     "name": "stderr",
     "output_type": "stream",
     "text": [
      "16:21:00: sending https://sentinel-cogs.s3.us-west-2.amazonaws.com/sentinel-s2-l2a-cogs/23/K/NR/2020/1/S2A_23KNR_20200114_0_L2A/B03.tif\n",
      "16:21:00: sending https://sentinel-cogs.s3.us-west-2.amazonaws.com/sentinel-s2-l2a-cogs/23/K/PR/2020/2/S2B_23KPR_20200208_0_L2A/B02.tif\n"
     ]
    },
    {
     "name": "stdout",
     "output_type": "stream",
     "text": [
      "\n",
      "\n",
      "wget this: %s https://sentinel-cogs.s3.us-west-2.amazonaws.com/sentinel-s2-l2a-cogs/23/K/NR/2020/1/S2A_23KNR_20200114_0_L2A/B03.tif\n",
      "wget -nv -O- https://sentinel-cogs.s3.us-west-2.amazonaws.com/sentinel-s2-l2a-cogs/23/K/NR/2020/1/S2A_23KNR_20200114_0_L2A/B03.tif | aws s3 cp - s3://dev-et-data/usmart/RIO/sentinel-s2-l2a-cogs/\n",
      "S2A_23KNR_20200114_0_L2A_B03.tif\n",
      "wget -nv -O- https://sentinel-cogs.s3.us-west-2.amazonaws.com/sentinel-s2-l2a-cogs/23/K/NR/2020/1/S2A_23KNR_20200114_0_L2A/B03.tif | aws s3 cp - s3://dev-et-data/usmart/RIO/sentinel-s2-l2a-cogs/S2A_23KNR_20200114_0_L2A_B03.tif\n",
      "\n",
      "\n"
     ]
    },
    {
     "name": "stderr",
     "output_type": "stream",
     "text": [
      "2021-09-13 16:21:00 URL:https://sentinel-cogs.s3.us-west-2.amazonaws.com/sentinel-s2-l2a-cogs/23/K/NR/2020/1/S2A_23KNR_20200124_0_L2A/B03.tif [103601265/103601265] -> \"-\" [1]\n"
     ]
    },
    {
     "name": "stdout",
     "output_type": "stream",
     "text": [
      "wget this: %s https://sentinel-cogs.s3.us-west-2.amazonaws.com/sentinel-s2-l2a-cogs/23/K/PR/2020/2/S2B_23KPR_20200208_0_L2A/B02.tif\n",
      "wget -nv -O- https://sentinel-cogs.s3.us-west-2.amazonaws.com/sentinel-s2-l2a-cogs/23/K/PR/2020/2/S2B_23KPR_20200208_0_L2A/B02.tif | aws s3 cp - s3://dev-et-data/usmart/RIO/sentinel-s2-l2a-cogs/\n",
      "S2B_23KPR_20200208_0_L2A_B02.tif\n",
      "wget -nv -O- https://sentinel-cogs.s3.us-west-2.amazonaws.com/sentinel-s2-l2a-cogs/23/K/PR/2020/2/S2B_23KPR_20200208_0_L2A/B02.tif | aws s3 cp - s3://dev-et-data/usmart/RIO/sentinel-s2-l2a-cogs/S2B_23KPR_20200208_0_L2A_B02.tif\n"
     ]
    },
    {
     "name": "stderr",
     "output_type": "stream",
     "text": [
      "16:21:00: sending https://sentinel-cogs.s3.us-west-2.amazonaws.com/sentinel-s2-l2a-cogs/23/K/NR/2020/1/S2B_23KNR_20200129_0_L2A/B02.tif\n"
     ]
    },
    {
     "name": "stdout",
     "output_type": "stream",
     "text": [
      "\n",
      "\n",
      "wget this: %s https://sentinel-cogs.s3.us-west-2.amazonaws.com/sentinel-s2-l2a-cogs/23/K/NR/2020/1/S2B_23KNR_20200129_0_L2A/B02.tif\n",
      "wget -nv -O- https://sentinel-cogs.s3.us-west-2.amazonaws.com/sentinel-s2-l2a-cogs/23/K/NR/2020/1/S2B_23KNR_20200129_0_L2A/B02.tif | aws s3 cp - s3://dev-et-data/usmart/RIO/sentinel-s2-l2a-cogs/\n",
      "S2B_23KNR_20200129_0_L2A_B02.tif\n",
      "wget -nv -O- https://sentinel-cogs.s3.us-west-2.amazonaws.com/sentinel-s2-l2a-cogs/23/K/NR/2020/1/S2B_23KNR_20200129_0_L2A/B02.tif | aws s3 cp - s3://dev-et-data/usmart/RIO/sentinel-s2-l2a-cogs/S2B_23KNR_20200129_0_L2A_B02.tif\n"
     ]
    },
    {
     "name": "stderr",
     "output_type": "stream",
     "text": [
      "16:21:01: sending https://sentinel-cogs.s3.us-west-2.amazonaws.com/sentinel-s2-l2a-cogs/23/K/PR/2020/1/S2A_23KPR_20200124_0_L2A/B03.tif\n"
     ]
    },
    {
     "name": "stdout",
     "output_type": "stream",
     "text": [
      "\n",
      "\n",
      "wget this: %s https://sentinel-cogs.s3.us-west-2.amazonaws.com/sentinel-s2-l2a-cogs/23/K/PR/2020/1/S2A_23KPR_20200124_0_L2A/B03.tif\n",
      "wget -nv -O- https://sentinel-cogs.s3.us-west-2.amazonaws.com/sentinel-s2-l2a-cogs/23/K/PR/2020/1/S2A_23KPR_20200124_0_L2A/B03.tif | aws s3 cp - s3://dev-et-data/usmart/RIO/sentinel-s2-l2a-cogs/\n",
      "S2A_23KPR_20200124_0_L2A_B03.tif\n",
      "wget -nv -O- https://sentinel-cogs.s3.us-west-2.amazonaws.com/sentinel-s2-l2a-cogs/23/K/PR/2020/1/S2A_23KPR_20200124_0_L2A/B03.tif | aws s3 cp - s3://dev-et-data/usmart/RIO/sentinel-s2-l2a-cogs/S2A_23KPR_20200124_0_L2A_B03.tif\n"
     ]
    },
    {
     "name": "stderr",
     "output_type": "stream",
     "text": [
      "16:21:01: sending https://sentinel-cogs.s3.us-west-2.amazonaws.com/sentinel-s2-l2a-cogs/23/K/NR/2020/1/S2A_23KNR_20200124_0_L2A/B02.tif\n"
     ]
    },
    {
     "name": "stdout",
     "output_type": "stream",
     "text": [
      "\n",
      "\n",
      "wget this: %s https://sentinel-cogs.s3.us-west-2.amazonaws.com/sentinel-s2-l2a-cogs/23/K/NR/2020/1/S2A_23KNR_20200124_0_L2A/B02.tif\n",
      "wget -nv -O- https://sentinel-cogs.s3.us-west-2.amazonaws.com/sentinel-s2-l2a-cogs/23/K/NR/2020/1/S2A_23KNR_20200124_0_L2A/B02.tif | aws s3 cp - s3://dev-et-data/usmart/RIO/sentinel-s2-l2a-cogs/\n",
      "S2A_23KNR_20200124_0_L2A_B02.tif\n",
      "wget -nv -O- https://sentinel-cogs.s3.us-west-2.amazonaws.com/sentinel-s2-l2a-cogs/23/K/NR/2020/1/S2A_23KNR_20200124_0_L2A/B02.tif | aws s3 cp - s3://dev-et-data/usmart/RIO/sentinel-s2-l2a-cogs/S2A_23KNR_20200124_0_L2A_B02.tif\n"
     ]
    },
    {
     "name": "stderr",
     "output_type": "stream",
     "text": [
      "2021-09-13 16:21:03 URL:https://sentinel-cogs.s3.us-west-2.amazonaws.com/sentinel-s2-l2a-cogs/23/K/NR/2020/2/S2A_23KNR_20200203_0_L2A/B02.tif [118172302/118172302] -> \"-\" [1]\n",
      "2021-09-13 16:21:03 URL:https://sentinel-cogs.s3.us-west-2.amazonaws.com/sentinel-s2-l2a-cogs/23/K/PR/2020/1/S2A_23KPR_20200114_0_L2A/B04.tif [181400183/181400183] -> \"-\" [1]\n",
      "16:21:03: sending https://sentinel-cogs.s3.us-west-2.amazonaws.com/sentinel-s2-l2a-cogs/23/K/PR/2020/1/S2A_23KPR_20200114_0_L2A/B03.tif\n",
      "16:21:03: Thread 132: finishing in 24 seconds\n",
      "16:21:03: xfer Thread 145: starting\n",
      "16:21:03: sending https://sentinel-cogs.s3.us-west-2.amazonaws.com/sentinel-s2-l2a-cogs/23/K/PR/2020/1/S2A_23KPR_20200104_0_L2A/B04.tif\n"
     ]
    },
    {
     "name": "stdout",
     "output_type": "stream",
     "text": [
      "\n",
      "\n",
      "wget this: %s https://sentinel-cogs.s3.us-west-2.amazonaws.com/sentinel-s2-l2a-cogs/23/K/PR/2020/1/S2A_23KPR_20200114_0_L2A/B03.tif\n",
      "wget -nv -O- https://sentinel-cogs.s3.us-west-2.amazonaws.com/sentinel-s2-l2a-cogs/23/K/PR/2020/1/S2A_23KPR_20200114_0_L2A/B03.tif | aws s3 cp - s3://dev-et-data/usmart/RIO/sentinel-s2-l2a-cogs/\n",
      "S2A_23KPR_20200114_0_L2A_B03.tif\n",
      "wget -nv -O- https://sentinel-cogs.s3.us-west-2.amazonaws.com/sentinel-s2-l2a-cogs/23/K/PR/2020/1/S2A_23KPR_20200114_0_L2A/B03.tif | aws s3 cp - s3://dev-et-data/usmart/RIO/sentinel-s2-l2a-cogs/S2A_23KPR_20200114_0_L2A_B03.tif\n",
      "\n",
      "\n",
      "wget this: %s https://sentinel-cogs.s3.us-west-2.amazonaws.com/sentinel-s2-l2a-cogs/23/K/PR/2020/1/S2A_23KPR_20200104_0_L2A/B04.tif\n",
      "wget -nv -O- https://sentinel-cogs.s3.us-west-2.amazonaws.com/sentinel-s2-l2a-cogs/23/K/PR/2020/1/S2A_23KPR_20200104_0_L2A/B04.tif | aws s3 cp - s3://dev-et-data/usmart/RIO/sentinel-s2-l2a-cogs/\n",
      "S2A_23KPR_20200104_0_L2A_B04.tif\n",
      "wget -nv -O- https://sentinel-cogs.s3.us-west-2.amazonaws.com/sentinel-s2-l2a-cogs/23/K/PR/2020/1/S2A_23KPR_20200104_0_L2A/B04.tif | aws s3 cp - s3://dev-et-data/usmart/RIO/sentinel-s2-l2a-cogs/S2A_23KPR_20200104_0_L2A_B04.tif\n"
     ]
    },
    {
     "name": "stderr",
     "output_type": "stream",
     "text": [
      "2021-09-13 16:21:03 URL:https://sentinel-cogs.s3.us-west-2.amazonaws.com/sentinel-s2-l2a-cogs/23/K/PR/2020/2/S2A_23KPR_20200203_0_L2A/B03.tif [207206551/207206551] -> \"-\" [1]\n",
      "2021-09-13 16:21:04 URL:https://sentinel-cogs.s3.us-west-2.amazonaws.com/sentinel-s2-l2a-cogs/23/K/PR/2020/2/S2B_23KPR_20200218_0_L2A/B02.tif [224087345/224087345] -> \"-\" [1]\n",
      "16:21:04: sending https://sentinel-cogs.s3.us-west-2.amazonaws.com/sentinel-s2-l2a-cogs/23/K/PR/2020/2/S2A_23KPR_20200203_0_L2A/B02.tif\n"
     ]
    },
    {
     "name": "stdout",
     "output_type": "stream",
     "text": [
      "\n",
      "\n",
      "wget this: %s https://sentinel-cogs.s3.us-west-2.amazonaws.com/sentinel-s2-l2a-cogs/23/K/PR/2020/2/S2A_23KPR_20200203_0_L2A/B02.tif\n",
      "wget -nv -O- https://sentinel-cogs.s3.us-west-2.amazonaws.com/sentinel-s2-l2a-cogs/23/K/PR/2020/2/S2A_23KPR_20200203_0_L2A/B02.tif | aws s3 cp - s3://dev-et-data/usmart/RIO/sentinel-s2-l2a-cogs/\n",
      "S2A_23KPR_20200203_0_L2A_B02.tif\n",
      "wget -nv -O- https://sentinel-cogs.s3.us-west-2.amazonaws.com/sentinel-s2-l2a-cogs/23/K/PR/2020/2/S2A_23KPR_20200203_0_L2A/B02.tif | aws s3 cp - s3://dev-et-data/usmart/RIO/sentinel-s2-l2a-cogs/S2A_23KPR_20200203_0_L2A_B02.tif\n"
     ]
    },
    {
     "name": "stderr",
     "output_type": "stream",
     "text": [
      "2021-09-13 16:21:04 URL:https://sentinel-cogs.s3.us-west-2.amazonaws.com/sentinel-s2-l2a-cogs/23/K/NR/2020/1/S2B_23KNR_20200109_0_L2A/B04.tif [111592483/111592483] -> \"-\" [1]\n",
      "2021-09-13 16:21:04 URL:https://sentinel-cogs.s3.us-west-2.amazonaws.com/sentinel-s2-l2a-cogs/23/K/NR/2020/1/S2B_23KNR_20200119_0_L2A/B03.tif [103924755/103924755] -> \"-\" [1]\n",
      "16:21:05: Thread 127: finishing in 33 seconds\n"
     ]
    },
    {
     "name": "stdout",
     "output_type": "stream",
     "text": [
      "\n",
      "\n"
     ]
    },
    {
     "name": "stderr",
     "output_type": "stream",
     "text": [
      "16:21:05: sending https://sentinel-cogs.s3.us-west-2.amazonaws.com/sentinel-s2-l2a-cogs/23/K/NR/2020/1/S2B_23KNR_20200109_0_L2A/B03.tif\n",
      "2021-09-13 16:21:05 URL:https://sentinel-cogs.s3.us-west-2.amazonaws.com/sentinel-s2-l2a-cogs/23/K/NR/2020/1/S2A_23KNR_20200104_0_L2A/B04.tif [99957494/99957494] -> \"-\" [1]\n",
      "16:21:05: sending https://sentinel-cogs.s3.us-west-2.amazonaws.com/sentinel-s2-l2a-cogs/23/K/NR/2020/1/S2B_23KNR_20200119_0_L2A/B02.tif\n"
     ]
    },
    {
     "name": "stdout",
     "output_type": "stream",
     "text": [
      "\n",
      "\n",
      "wget this: %s https://sentinel-cogs.s3.us-west-2.amazonaws.com/sentinel-s2-l2a-cogs/23/K/NR/2020/1/S2B_23KNR_20200109_0_L2A/B03.tif\n",
      "wget -nv -O- https://sentinel-cogs.s3.us-west-2.amazonaws.com/sentinel-s2-l2a-cogs/23/K/NR/2020/1/S2B_23KNR_20200109_0_L2A/B03.tif | aws s3 cp - s3://dev-et-data/usmart/RIO/sentinel-s2-l2a-cogs/\n",
      "S2B_23KNR_20200109_0_L2A_B03.tif\n",
      "wget -nv -O- https://sentinel-cogs.s3.us-west-2.amazonaws.com/sentinel-s2-l2a-cogs/23/K/NR/2020/1/S2B_23KNR_20200109_0_L2A/B03.tif | aws s3 cp - s3://dev-et-data/usmart/RIO/sentinel-s2-l2a-cogs/S2B_23KNR_20200109_0_L2A_B03.tif\n",
      "\n",
      "\n",
      "wget this: %s https://sentinel-cogs.s3.us-west-2.amazonaws.com/sentinel-s2-l2a-cogs/23/K/NR/2020/1/S2B_23KNR_20200119_0_L2A/B02.tif\n",
      "wget -nv -O- https://sentinel-cogs.s3.us-west-2.amazonaws.com/sentinel-s2-l2a-cogs/23/K/NR/2020/1/S2B_23KNR_20200119_0_L2A/B02.tif | aws s3 cp - s3://dev-et-data/usmart/RIO/sentinel-s2-l2a-cogs/\n",
      "S2B_23KNR_20200119_0_L2A_B02.tif\n",
      "wget -nv -O- https://sentinel-cogs.s3.us-west-2.amazonaws.com/sentinel-s2-l2a-cogs/23/K/NR/2020/1/S2B_23KNR_20200119_0_L2A/B02.tif | aws s3 cp - s3://dev-et-data/usmart/RIO/sentinel-s2-l2a-cogs/S2B_23KNR_20200119_0_L2A_B02.tif\n"
     ]
    },
    {
     "name": "stderr",
     "output_type": "stream",
     "text": [
      "2021-09-13 16:21:06 URL:https://sentinel-cogs.s3.us-west-2.amazonaws.com/sentinel-s2-l2a-cogs/23/K/PR/2020/1/S2B_23KPR_20200129_0_L2A/B03.tif [200836827/200836827] -> \"-\" [1]\n",
      "2021-09-13 16:21:06 URL:https://sentinel-cogs.s3.us-west-2.amazonaws.com/sentinel-s2-l2a-cogs/23/K/NR/2020/1/S2A_23KNR_20200114_0_L2A/B03.tif [107182749/107182749] -> \"-\" [1]\n",
      "16:21:06: sending https://sentinel-cogs.s3.us-west-2.amazonaws.com/sentinel-s2-l2a-cogs/23/K/NR/2020/1/S2A_23KNR_20200104_0_L2A/B03.tif\n"
     ]
    },
    {
     "name": "stdout",
     "output_type": "stream",
     "text": [
      "\n",
      "\n",
      "wget this: %s https://sentinel-cogs.s3.us-west-2.amazonaws.com/sentinel-s2-l2a-cogs/23/K/NR/2020/1/S2A_23KNR_20200104_0_L2A/B03.tif\n",
      "wget -nv -O- https://sentinel-cogs.s3.us-west-2.amazonaws.com/sentinel-s2-l2a-cogs/23/K/NR/2020/1/S2A_23KNR_20200104_0_L2A/B03.tif | aws s3 cp - s3://dev-et-data/usmart/RIO/sentinel-s2-l2a-cogs/\n",
      "S2A_23KNR_20200104_0_L2A_B03.tif\n",
      "wget -nv -O- https://sentinel-cogs.s3.us-west-2.amazonaws.com/sentinel-s2-l2a-cogs/23/K/NR/2020/1/S2A_23KNR_20200104_0_L2A/B03.tif | aws s3 cp - s3://dev-et-data/usmart/RIO/sentinel-s2-l2a-cogs/S2A_23KNR_20200104_0_L2A_B03.tif\n"
     ]
    },
    {
     "name": "stderr",
     "output_type": "stream",
     "text": [
      "16:21:07: sending https://sentinel-cogs.s3.us-west-2.amazonaws.com/sentinel-s2-l2a-cogs/23/K/PR/2020/1/S2B_23KPR_20200129_0_L2A/B02.tif\n",
      "16:21:07: sending https://sentinel-cogs.s3.us-west-2.amazonaws.com/sentinel-s2-l2a-cogs/23/K/NR/2020/1/S2A_23KNR_20200114_0_L2A/B02.tif\n"
     ]
    },
    {
     "name": "stdout",
     "output_type": "stream",
     "text": [
      "\n",
      "\n",
      "wget this: %s https://sentinel-cogs.s3.us-west-2.amazonaws.com/sentinel-s2-l2a-cogs/23/K/PR/2020/1/S2B_23KPR_20200129_0_L2A/B02.tif\n",
      "wget -nv -O- https://sentinel-cogs.s3.us-west-2.amazonaws.com/sentinel-s2-l2a-cogs/23/K/PR/2020/1/S2B_23KPR_20200129_0_L2A/B02.tif | aws s3 cp - s3://dev-et-data/usmart/RIO/sentinel-s2-l2a-cogs/\n",
      "S2B_23KPR_20200129_0_L2A_B02.tif\n",
      "wget -nv -O- https://sentinel-cogs.s3.us-west-2.amazonaws.com/sentinel-s2-l2a-cogs/23/K/PR/2020/1/S2B_23KPR_20200129_0_L2A/B02.tif | aws s3 cp - s3://dev-et-data/usmart/RIO/sentinel-s2-l2a-cogs/S2B_23KPR_20200129_0_L2A_B02.tif\n",
      "\n",
      "\n",
      "wget this: %s https://sentinel-cogs.s3.us-west-2.amazonaws.com/sentinel-s2-l2a-cogs/23/K/NR/2020/1/S2A_23KNR_20200114_0_L2A/B02.tif\n",
      "wget -nv -O- https://sentinel-cogs.s3.us-west-2.amazonaws.com/sentinel-s2-l2a-cogs/23/K/NR/2020/1/S2A_23KNR_20200114_0_L2A/B02.tif | aws s3 cp - s3://dev-et-data/usmart/RIO/sentinel-s2-l2a-cogs/\n",
      "S2A_23KNR_20200114_0_L2A_B02.tif\n",
      "wget -nv -O- https://sentinel-cogs.s3.us-west-2.amazonaws.com/sentinel-s2-l2a-cogs/23/K/NR/2020/1/S2A_23KNR_20200114_0_L2A/B02.tif | aws s3 cp - s3://dev-et-data/usmart/RIO/sentinel-s2-l2a-cogs/S2A_23KNR_20200114_0_L2A_B02.tif\n"
     ]
    },
    {
     "name": "stderr",
     "output_type": "stream",
     "text": [
      "2021-09-13 16:21:07 URL:https://sentinel-cogs.s3.us-west-2.amazonaws.com/sentinel-s2-l2a-cogs/23/K/NR/2020/1/S2A_23KNR_20200124_0_L2A/B02.tif [104688288/104688288] -> \"-\" [1]\n",
      "2021-09-13 16:21:07 URL:https://sentinel-cogs.s3.us-west-2.amazonaws.com/sentinel-s2-l2a-cogs/23/K/NR/2020/1/S2B_23KNR_20200129_0_L2A/B02.tif [102364845/102364845] -> \"-\" [1]\n",
      "16:21:08: Thread 134: finishing in 24 seconds\n"
     ]
    },
    {
     "name": "stdout",
     "output_type": "stream",
     "text": [
      "\n",
      "\n"
     ]
    },
    {
     "name": "stderr",
     "output_type": "stream",
     "text": [
      "16:21:08: Thread 136: finishing in 21 seconds\n"
     ]
    },
    {
     "name": "stdout",
     "output_type": "stream",
     "text": [
      "\n",
      "\n"
     ]
    },
    {
     "name": "stderr",
     "output_type": "stream",
     "text": [
      "2021-09-13 16:21:09 URL:https://sentinel-cogs.s3.us-west-2.amazonaws.com/sentinel-s2-l2a-cogs/23/K/PR/2020/1/S2B_23KPR_20200109_0_L2A/B04.tif [206024024/206024024] -> \"-\" [1]\n",
      "16:21:09: sending https://sentinel-cogs.s3.us-west-2.amazonaws.com/sentinel-s2-l2a-cogs/23/K/PR/2020/1/S2B_23KPR_20200109_0_L2A/B03.tif\n"
     ]
    },
    {
     "name": "stdout",
     "output_type": "stream",
     "text": [
      "\n",
      "\n",
      "wget this: %s https://sentinel-cogs.s3.us-west-2.amazonaws.com/sentinel-s2-l2a-cogs/23/K/PR/2020/1/S2B_23KPR_20200109_0_L2A/B03.tif\n",
      "wget -nv -O- https://sentinel-cogs.s3.us-west-2.amazonaws.com/sentinel-s2-l2a-cogs/23/K/PR/2020/1/S2B_23KPR_20200109_0_L2A/B03.tif | aws s3 cp - s3://dev-et-data/usmart/RIO/sentinel-s2-l2a-cogs/\n",
      "S2B_23KPR_20200109_0_L2A_B03.tif\n",
      "wget -nv -O- https://sentinel-cogs.s3.us-west-2.amazonaws.com/sentinel-s2-l2a-cogs/23/K/PR/2020/1/S2B_23KPR_20200109_0_L2A/B03.tif | aws s3 cp - s3://dev-et-data/usmart/RIO/sentinel-s2-l2a-cogs/S2B_23KPR_20200109_0_L2A_B03.tif\n"
     ]
    },
    {
     "name": "stderr",
     "output_type": "stream",
     "text": [
      "2021-09-13 16:21:10 URL:https://sentinel-cogs.s3.us-west-2.amazonaws.com/sentinel-s2-l2a-cogs/23/K/PR/2020/1/S2B_23KPR_20200119_0_L2A/B03.tif [182022987/182022987] -> \"-\" [1]\n",
      "2021-09-13 16:21:11 URL:https://sentinel-cogs.s3.us-west-2.amazonaws.com/sentinel-s2-l2a-cogs/23/K/NR/2020/1/S2B_23KNR_20200119_0_L2A/B02.tif [104528204/104528204] -> \"-\" [1]\n",
      "16:21:11: sending https://sentinel-cogs.s3.us-west-2.amazonaws.com/sentinel-s2-l2a-cogs/23/K/PR/2020/1/S2B_23KPR_20200119_0_L2A/B02.tif\n",
      "2021-09-13 16:21:11 URL:https://sentinel-cogs.s3.us-west-2.amazonaws.com/sentinel-s2-l2a-cogs/23/K/NR/2020/1/S2B_23KNR_20200109_0_L2A/B03.tif [111302068/111302068] -> \"-\" [1]\n"
     ]
    },
    {
     "name": "stdout",
     "output_type": "stream",
     "text": [
      "\n",
      "\n",
      "wget this: %s https://sentinel-cogs.s3.us-west-2.amazonaws.com/sentinel-s2-l2a-cogs/23/K/PR/2020/1/S2B_23KPR_20200119_0_L2A/B02.tif\n",
      "wget -nv -O- https://sentinel-cogs.s3.us-west-2.amazonaws.com/sentinel-s2-l2a-cogs/23/K/PR/2020/1/S2B_23KPR_20200119_0_L2A/B02.tif | aws s3 cp - s3://dev-et-data/usmart/RIO/sentinel-s2-l2a-cogs/\n",
      "S2B_23KPR_20200119_0_L2A_B02.tif\n",
      "wget -nv -O- https://sentinel-cogs.s3.us-west-2.amazonaws.com/sentinel-s2-l2a-cogs/23/K/PR/2020/1/S2B_23KPR_20200119_0_L2A/B02.tif | aws s3 cp - s3://dev-et-data/usmart/RIO/sentinel-s2-l2a-cogs/S2B_23KPR_20200119_0_L2A_B02.tif\n"
     ]
    },
    {
     "name": "stderr",
     "output_type": "stream",
     "text": [
      "16:21:11: Thread 138: finishing in 21 seconds\n",
      "16:21:11: sending https://sentinel-cogs.s3.us-west-2.amazonaws.com/sentinel-s2-l2a-cogs/23/K/NR/2020/1/S2B_23KNR_20200109_0_L2A/B02.tif\n"
     ]
    },
    {
     "name": "stdout",
     "output_type": "stream",
     "text": [
      "\n",
      "\n",
      "\n",
      "\n",
      "wget this: %s https://sentinel-cogs.s3.us-west-2.amazonaws.com/sentinel-s2-l2a-cogs/23/K/NR/2020/1/S2B_23KNR_20200109_0_L2A/B02.tif\n",
      "wget -nv -O- https://sentinel-cogs.s3.us-west-2.amazonaws.com/sentinel-s2-l2a-cogs/23/K/NR/2020/1/S2B_23KNR_20200109_0_L2A/B02.tif | aws s3 cp - s3://dev-et-data/usmart/RIO/sentinel-s2-l2a-cogs/\n",
      "S2B_23KNR_20200109_0_L2A_B02.tif\n",
      "wget -nv -O- https://sentinel-cogs.s3.us-west-2.amazonaws.com/sentinel-s2-l2a-cogs/23/K/NR/2020/1/S2B_23KNR_20200109_0_L2A/B02.tif | aws s3 cp - s3://dev-et-data/usmart/RIO/sentinel-s2-l2a-cogs/S2B_23KNR_20200109_0_L2A_B02.tif\n"
     ]
    },
    {
     "name": "stderr",
     "output_type": "stream",
     "text": [
      "2021-09-13 16:21:11 URL:https://sentinel-cogs.s3.us-west-2.amazonaws.com/sentinel-s2-l2a-cogs/23/K/PR/2020/1/S2A_23KPR_20200104_0_L2A/B04.tif [173616926/173616926] -> \"-\" [1]\n",
      "2021-09-13 16:21:11 URL:https://sentinel-cogs.s3.us-west-2.amazonaws.com/sentinel-s2-l2a-cogs/23/K/PR/2020/1/S2A_23KPR_20200124_0_L2A/B03.tif [169680774/169680774] -> \"-\" [1]\n",
      "2021-09-13 16:21:12 URL:https://sentinel-cogs.s3.us-west-2.amazonaws.com/sentinel-s2-l2a-cogs/23/K/PR/2020/2/S2B_23KPR_20200208_0_L2A/B02.tif [227682438/227682438] -> \"-\" [1]\n",
      "16:21:12: sending https://sentinel-cogs.s3.us-west-2.amazonaws.com/sentinel-s2-l2a-cogs/23/K/PR/2020/1/S2A_23KPR_20200124_0_L2A/B02.tif\n",
      "16:21:12: sending https://sentinel-cogs.s3.us-west-2.amazonaws.com/sentinel-s2-l2a-cogs/23/K/PR/2020/1/S2A_23KPR_20200104_0_L2A/B03.tif\n"
     ]
    },
    {
     "name": "stdout",
     "output_type": "stream",
     "text": [
      "\n",
      "\n",
      "wget this: %s https://sentinel-cogs.s3.us-west-2.amazonaws.com/sentinel-s2-l2a-cogs/23/K/PR/2020/1/S2A_23KPR_20200124_0_L2A/B02.tif\n",
      "wget -nv -O- https://sentinel-cogs.s3.us-west-2.amazonaws.com/sentinel-s2-l2a-cogs/23/K/PR/2020/1/S2A_23KPR_20200124_0_L2A/B02.tif | aws s3 cp - s3://dev-et-data/usmart/RIO/sentinel-s2-l2a-cogs/\n",
      "S2A_23KPR_20200124_0_L2A_B02.tif\n",
      "wget -nv -O- https://sentinel-cogs.s3.us-west-2.amazonaws.com/sentinel-s2-l2a-cogs/23/K/PR/2020/1/S2A_23KPR_20200124_0_L2A/B02.tif | aws s3 cp - s3://dev-et-data/usmart/RIO/sentinel-s2-l2a-cogs/S2A_23KPR_20200124_0_L2A_B02.tif\n",
      "\n",
      "\n",
      "wget this: %s https://sentinel-cogs.s3.us-west-2.amazonaws.com/sentinel-s2-l2a-cogs/23/K/PR/2020/1/S2A_23KPR_20200104_0_L2A/B03.tif\n",
      "wget -nv -O- https://sentinel-cogs.s3.us-west-2.amazonaws.com/sentinel-s2-l2a-cogs/23/K/PR/2020/1/S2A_23KPR_20200104_0_L2A/B03.tif | aws s3 cp - s3://dev-et-data/usmart/RIO/sentinel-s2-l2a-cogs/\n",
      "S2A_23KPR_20200104_0_L2A_B03.tif\n",
      "wget -nv -O- https://sentinel-cogs.s3.us-west-2.amazonaws.com/sentinel-s2-l2a-cogs/23/K/PR/2020/1/S2A_23KPR_20200104_0_L2A/B03.tif | aws s3 cp - s3://dev-et-data/usmart/RIO/sentinel-s2-l2a-cogs/S2A_23KPR_20200104_0_L2A_B03.tif\n"
     ]
    },
    {
     "name": "stderr",
     "output_type": "stream",
     "text": [
      "2021-09-13 16:21:12 URL:https://sentinel-cogs.s3.us-west-2.amazonaws.com/sentinel-s2-l2a-cogs/23/K/NR/2020/1/S2A_23KNR_20200104_0_L2A/B03.tif [99786083/99786083] -> \"-\" [1]\n",
      "2021-09-13 16:21:12 URL:https://sentinel-cogs.s3.us-west-2.amazonaws.com/sentinel-s2-l2a-cogs/23/K/NR/2020/1/S2A_23KNR_20200114_0_L2A/B02.tif [108463465/108463465] -> \"-\" [1]\n",
      "2021-09-13 16:21:12 URL:https://sentinel-cogs.s3.us-west-2.amazonaws.com/sentinel-s2-l2a-cogs/23/K/PR/2020/1/S2A_23KPR_20200114_0_L2A/B03.tif [180956205/180956205] -> \"-\" [1]\n",
      "16:21:12: Thread 131: finishing in 34 seconds\n",
      "16:21:13: sending https://sentinel-cogs.s3.us-west-2.amazonaws.com/sentinel-s2-l2a-cogs/23/K/NR/2020/1/S2A_23KNR_20200104_0_L2A/B02.tif\n"
     ]
    },
    {
     "name": "stdout",
     "output_type": "stream",
     "text": [
      "\n",
      "\n",
      "\n",
      "\n",
      "wget this: %s https://sentinel-cogs.s3.us-west-2.amazonaws.com/sentinel-s2-l2a-cogs/23/K/NR/2020/1/S2A_23KNR_20200104_0_L2A/B02.tif\n",
      "wget -nv -O- https://sentinel-cogs.s3.us-west-2.amazonaws.com/sentinel-s2-l2a-cogs/23/K/NR/2020/1/S2A_23KNR_20200104_0_L2A/B02.tif | aws s3 cp - s3://dev-et-data/usmart/RIO/sentinel-s2-l2a-cogs/\n",
      "S2A_23KNR_20200104_0_L2A_B02.tif\n",
      "wget -nv -O- https://sentinel-cogs.s3.us-west-2.amazonaws.com/sentinel-s2-l2a-cogs/23/K/NR/2020/1/S2A_23KNR_20200104_0_L2A/B02.tif | aws s3 cp - s3://dev-et-data/usmart/RIO/sentinel-s2-l2a-cogs/S2A_23KNR_20200104_0_L2A_B02.tif\n"
     ]
    },
    {
     "name": "stderr",
     "output_type": "stream",
     "text": [
      "16:21:13: Thread 140: finishing in 19 seconds\n",
      "16:21:13: sending https://sentinel-cogs.s3.us-west-2.amazonaws.com/sentinel-s2-l2a-cogs/23/K/PR/2020/1/S2A_23KPR_20200114_0_L2A/B02.tif\n"
     ]
    },
    {
     "name": "stdout",
     "output_type": "stream",
     "text": [
      "\n",
      "\n",
      "\n",
      "\n",
      "wget this: %s https://sentinel-cogs.s3.us-west-2.amazonaws.com/sentinel-s2-l2a-cogs/23/K/PR/2020/1/S2A_23KPR_20200114_0_L2A/B02.tif\n",
      "wget -nv -O- https://sentinel-cogs.s3.us-west-2.amazonaws.com/sentinel-s2-l2a-cogs/23/K/PR/2020/1/S2A_23KPR_20200114_0_L2A/B02.tif | aws s3 cp - s3://dev-et-data/usmart/RIO/sentinel-s2-l2a-cogs/\n",
      "S2A_23KPR_20200114_0_L2A_B02.tif\n",
      "wget -nv -O- https://sentinel-cogs.s3.us-west-2.amazonaws.com/sentinel-s2-l2a-cogs/23/K/PR/2020/1/S2A_23KPR_20200114_0_L2A/B02.tif | aws s3 cp - s3://dev-et-data/usmart/RIO/sentinel-s2-l2a-cogs/S2A_23KPR_20200114_0_L2A_B02.tif\n"
     ]
    },
    {
     "name": "stderr",
     "output_type": "stream",
     "text": [
      "2021-09-13 16:21:14 URL:https://sentinel-cogs.s3.us-west-2.amazonaws.com/sentinel-s2-l2a-cogs/23/K/PR/2020/2/S2A_23KPR_20200203_0_L2A/B02.tif [209275119/209275119] -> \"-\" [1]\n",
      "16:21:14: Thread 133: finishing in 33 seconds\n"
     ]
    },
    {
     "name": "stdout",
     "output_type": "stream",
     "text": [
      "\n",
      "\n"
     ]
    },
    {
     "name": "stderr",
     "output_type": "stream",
     "text": [
      "2021-09-13 16:21:15 URL:https://sentinel-cogs.s3.us-west-2.amazonaws.com/sentinel-s2-l2a-cogs/23/K/PR/2020/1/S2B_23KPR_20200129_0_L2A/B02.tif [202728565/202728565] -> \"-\" [1]\n",
      "16:21:15: Thread 135: finishing in 28 seconds\n"
     ]
    },
    {
     "name": "stdout",
     "output_type": "stream",
     "text": [
      "\n",
      "\n"
     ]
    },
    {
     "name": "stderr",
     "output_type": "stream",
     "text": [
      "2021-09-13 16:21:16 URL:https://sentinel-cogs.s3.us-west-2.amazonaws.com/sentinel-s2-l2a-cogs/23/K/NR/2020/1/S2B_23KNR_20200109_0_L2A/B02.tif [111953478/111953478] -> \"-\" [1]\n",
      "16:21:16: Thread 142: finishing in 18 seconds\n"
     ]
    },
    {
     "name": "stdout",
     "output_type": "stream",
     "text": [
      "\n",
      "\n"
     ]
    },
    {
     "name": "stderr",
     "output_type": "stream",
     "text": [
      "2021-09-13 16:21:17 URL:https://sentinel-cogs.s3.us-west-2.amazonaws.com/sentinel-s2-l2a-cogs/23/K/NR/2020/1/S2A_23KNR_20200104_0_L2A/B02.tif [101166865/101166865] -> \"-\" [1]\n",
      "16:21:17: Thread 144: finishing in 17 seconds\n"
     ]
    },
    {
     "name": "stdout",
     "output_type": "stream",
     "text": [
      "\n",
      "\n"
     ]
    },
    {
     "name": "stderr",
     "output_type": "stream",
     "text": [
      "2021-09-13 16:21:18 URL:https://sentinel-cogs.s3.us-west-2.amazonaws.com/sentinel-s2-l2a-cogs/23/K/PR/2020/1/S2B_23KPR_20200119_0_L2A/B02.tif [182779514/182779514] -> \"-\" [1]\n",
      "16:21:18: Thread 139: finishing in 27 seconds\n"
     ]
    },
    {
     "name": "stdout",
     "output_type": "stream",
     "text": [
      "\n",
      "\n"
     ]
    },
    {
     "name": "stderr",
     "output_type": "stream",
     "text": [
      "2021-09-13 16:21:19 URL:https://sentinel-cogs.s3.us-west-2.amazonaws.com/sentinel-s2-l2a-cogs/23/K/PR/2020/1/S2B_23KPR_20200109_0_L2A/B03.tif [205705572/205705572] -> \"-\" [1]\n",
      "2021-09-13 16:21:19 URL:https://sentinel-cogs.s3.us-west-2.amazonaws.com/sentinel-s2-l2a-cogs/23/K/PR/2020/1/S2A_23KPR_20200124_0_L2A/B02.tif [170251838/170251838] -> \"-\" [1]\n",
      "16:21:19: sending https://sentinel-cogs.s3.us-west-2.amazonaws.com/sentinel-s2-l2a-cogs/23/K/PR/2020/1/S2B_23KPR_20200109_0_L2A/B02.tif\n",
      "16:21:19: Thread 137: finishing in 29 seconds\n"
     ]
    },
    {
     "name": "stdout",
     "output_type": "stream",
     "text": [
      "\n",
      "\n",
      "wget this: %s https://sentinel-cogs.s3.us-west-2.amazonaws.com/sentinel-s2-l2a-cogs/23/K/PR/2020/1/S2B_23KPR_20200109_0_L2A/B02.tif\n",
      "wget -nv -O- https://sentinel-cogs.s3.us-west-2.amazonaws.com/sentinel-s2-l2a-cogs/23/K/PR/2020/1/S2B_23KPR_20200109_0_L2A/B02.tif | aws s3 cp - s3://dev-et-data/usmart/RIO/sentinel-s2-l2a-cogs/\n",
      "S2B_23KPR_20200109_0_L2A_B02.tif\n",
      "wget -nv -O- https://sentinel-cogs.s3.us-west-2.amazonaws.com/sentinel-s2-l2a-cogs/23/K/PR/2020/1/S2B_23KPR_20200109_0_L2A/B02.tif | aws s3 cp - s3://dev-et-data/usmart/RIO/sentinel-s2-l2a-cogs/S2B_23KPR_20200109_0_L2A_B02.tif\n",
      "\n",
      "\n"
     ]
    },
    {
     "name": "stderr",
     "output_type": "stream",
     "text": [
      "2021-09-13 16:21:20 URL:https://sentinel-cogs.s3.us-west-2.amazonaws.com/sentinel-s2-l2a-cogs/23/K/PR/2020/1/S2A_23KPR_20200104_0_L2A/B03.tif [172959929/172959929] -> \"-\" [1]\n",
      "2021-09-13 16:21:20 URL:https://sentinel-cogs.s3.us-west-2.amazonaws.com/sentinel-s2-l2a-cogs/23/K/PR/2020/1/S2A_23KPR_20200114_0_L2A/B02.tif [182463764/182463764] -> \"-\" [1]\n",
      "16:21:20: sending https://sentinel-cogs.s3.us-west-2.amazonaws.com/sentinel-s2-l2a-cogs/23/K/PR/2020/1/S2A_23KPR_20200104_0_L2A/B02.tif\n"
     ]
    },
    {
     "name": "stdout",
     "output_type": "stream",
     "text": [
      "\n",
      "\n",
      "wget this: %s https://sentinel-cogs.s3.us-west-2.amazonaws.com/sentinel-s2-l2a-cogs/23/K/PR/2020/1/S2A_23KPR_20200104_0_L2A/B02.tif\n",
      "wget -nv -O- https://sentinel-cogs.s3.us-west-2.amazonaws.com/sentinel-s2-l2a-cogs/23/K/PR/2020/1/S2A_23KPR_20200104_0_L2A/B02.tif | aws s3 cp - s3://dev-et-data/usmart/RIO/sentinel-s2-l2a-cogs/\n",
      "S2A_23KPR_20200104_0_L2A_B02.tif\n",
      "wget -nv -O- https://sentinel-cogs.s3.us-west-2.amazonaws.com/sentinel-s2-l2a-cogs/23/K/PR/2020/1/S2A_23KPR_20200104_0_L2A/B02.tif | aws s3 cp - s3://dev-et-data/usmart/RIO/sentinel-s2-l2a-cogs/S2A_23KPR_20200104_0_L2A_B02.tif\n"
     ]
    },
    {
     "name": "stderr",
     "output_type": "stream",
     "text": [
      "16:21:20: Thread 141: finishing in 26 seconds\n"
     ]
    },
    {
     "name": "stdout",
     "output_type": "stream",
     "text": [
      "\n",
      "\n"
     ]
    },
    {
     "name": "stderr",
     "output_type": "stream",
     "text": [
      "2021-09-13 16:21:26 URL:https://sentinel-cogs.s3.us-west-2.amazonaws.com/sentinel-s2-l2a-cogs/23/K/PR/2020/1/S2A_23KPR_20200104_0_L2A/B02.tif [174523744/174523744] -> \"-\" [1]\n",
      "2021-09-13 16:21:26 URL:https://sentinel-cogs.s3.us-west-2.amazonaws.com/sentinel-s2-l2a-cogs/23/K/PR/2020/1/S2B_23KPR_20200109_0_L2A/B02.tif [205266333/205266333] -> \"-\" [1]\n",
      "16:21:27: Thread 145: finishing in 23 seconds\n",
      "16:21:27: Thread 143: finishing in 27 seconds\n"
     ]
    },
    {
     "name": "stdout",
     "output_type": "stream",
     "text": [
      "\n",
      "\n",
      "\n",
      "\n"
     ]
    }
   ],
   "source": [
    "if __name__ == \"__main__\":\n",
    "    format = \"%(asctime)s: %(message)s\"\n",
    "    logging.basicConfig(format=format, level=logging.INFO,\n",
    "                        datefmt=\"%H:%M:%S\")\n",
    "\n",
    "    #total_scenes = total_scenes - 120 # test fewer sometimes\n",
    "    with concurrent.futures.ThreadPoolExecutor(max_workers=15) as executor:\n",
    "        executor.map(xfer_function_caller, range(total_scenes))\n",
    "        logging.info(\"Initial Threads %s: strted - i think i am waiting before any others\", \"executor\")"
   ]
  },
  {
   "cell_type": "code",
   "execution_count": 37,
   "id": "eedc7df6",
   "metadata": {},
   "outputs": [
    {
     "name": "stdout",
     "output_type": "stream",
     "text": [
      "2021-09-13 16:21:15   96.5 MiB usmart/RIO/sentinel-s2-l2a-cogs/S2A_23KNR_20200104_0_L2A_B02.tif\n",
      "2021-09-13 16:21:11   95.2 MiB usmart/RIO/sentinel-s2-l2a-cogs/S2A_23KNR_20200104_0_L2A_B03.tif\n",
      "2021-09-13 16:21:04   95.3 MiB usmart/RIO/sentinel-s2-l2a-cogs/S2A_23KNR_20200104_0_L2A_B04.tif\n",
      "2021-09-13 16:21:11  103.4 MiB usmart/RIO/sentinel-s2-l2a-cogs/S2A_23KNR_20200114_0_L2A_B02.tif\n",
      "2021-09-13 16:21:05  102.2 MiB usmart/RIO/sentinel-s2-l2a-cogs/S2A_23KNR_20200114_0_L2A_B03.tif\n",
      "2021-09-13 16:20:57  102.4 MiB usmart/RIO/sentinel-s2-l2a-cogs/S2A_23KNR_20200114_0_L2A_B04.tif\n",
      "2021-09-13 16:21:06   99.8 MiB usmart/RIO/sentinel-s2-l2a-cogs/S2A_23KNR_20200124_0_L2A_B02.tif\n",
      "2021-09-13 16:20:59   98.8 MiB usmart/RIO/sentinel-s2-l2a-cogs/S2A_23KNR_20200124_0_L2A_B03.tif\n",
      "2021-09-13 16:20:52   99.1 MiB usmart/RIO/sentinel-s2-l2a-cogs/S2A_23KNR_20200124_0_L2A_B04.tif\n",
      "2021-09-13 16:21:01  112.7 MiB usmart/RIO/sentinel-s2-l2a-cogs/S2A_23KNR_20200203_0_L2A_B02.tif\n",
      "2021-09-13 16:20:52  112.1 MiB usmart/RIO/sentinel-s2-l2a-cogs/S2A_23KNR_20200203_0_L2A_B03.tif\n",
      "2021-09-13 16:20:43  112.1 MiB usmart/RIO/sentinel-s2-l2a-cogs/S2A_23KNR_20200203_0_L2A_B04.tif\n",
      "2021-09-13 16:20:51  100.6 MiB usmart/RIO/sentinel-s2-l2a-cogs/S2A_23KNR_20200213_0_L2A_B02.tif\n",
      "2021-09-13 16:20:43  100.1 MiB usmart/RIO/sentinel-s2-l2a-cogs/S2A_23KNR_20200213_0_L2A_B03.tif\n",
      "2021-09-13 16:20:36  100.4 MiB usmart/RIO/sentinel-s2-l2a-cogs/S2A_23KNR_20200213_0_L2A_B04.tif\n",
      "2021-09-13 16:20:47  110.6 MiB usmart/RIO/sentinel-s2-l2a-cogs/S2A_23KNR_20200223_0_L2A_B02.tif\n",
      "2021-09-13 16:20:39  109.5 MiB usmart/RIO/sentinel-s2-l2a-cogs/S2A_23KNR_20200223_0_L2A_B03.tif\n",
      "2021-09-13 16:20:29  109.8 MiB usmart/RIO/sentinel-s2-l2a-cogs/S2A_23KNR_20200223_0_L2A_B04.tif\n",
      "2021-09-13 16:20:40  115.2 MiB usmart/RIO/sentinel-s2-l2a-cogs/S2A_23KNR_20200304_0_L2A_B02.tif\n",
      "2021-09-13 16:20:31  114.3 MiB usmart/RIO/sentinel-s2-l2a-cogs/S2A_23KNR_20200304_0_L2A_B03.tif\n",
      "2021-09-13 16:20:23  114.4 MiB usmart/RIO/sentinel-s2-l2a-cogs/S2A_23KNR_20200304_0_L2A_B04.tif\n",
      "2021-09-13 16:20:27  121.5 MiB usmart/RIO/sentinel-s2-l2a-cogs/S2A_23KNR_20200314_0_L2A_B02.tif\n",
      "2021-09-13 16:20:19  121.5 MiB usmart/RIO/sentinel-s2-l2a-cogs/S2A_23KNR_20200314_0_L2A_B03.tif\n",
      "2021-09-13 16:20:10  121.7 MiB usmart/RIO/sentinel-s2-l2a-cogs/S2A_23KNR_20200314_0_L2A_B04.tif\n",
      "2021-09-13 16:20:21  117.1 MiB usmart/RIO/sentinel-s2-l2a-cogs/S2A_23KNR_20200324_0_L2A_B02.tif\n",
      "2021-09-13 16:20:13  121.2 MiB usmart/RIO/sentinel-s2-l2a-cogs/S2A_23KNR_20200324_0_L2A_B03.tif\n",
      "2021-09-13 16:20:04  120.9 MiB usmart/RIO/sentinel-s2-l2a-cogs/S2A_23KNR_20200324_0_L2A_B04.tif\n",
      "2021-09-13 16:20:13  115.8 MiB usmart/RIO/sentinel-s2-l2a-cogs/S2A_23KNR_20200403_0_L2A_B02.tif\n",
      "2021-09-13 16:20:05  119.5 MiB usmart/RIO/sentinel-s2-l2a-cogs/S2A_23KNR_20200403_0_L2A_B03.tif\n",
      "2021-09-13 16:19:57  119.3 MiB usmart/RIO/sentinel-s2-l2a-cogs/S2A_23KNR_20200403_0_L2A_B04.tif\n",
      "2021-09-13 16:20:08  124.7 MiB usmart/RIO/sentinel-s2-l2a-cogs/S2A_23KNR_20200413_0_L2A_B02.tif\n",
      "2021-09-13 16:19:59  124.3 MiB usmart/RIO/sentinel-s2-l2a-cogs/S2A_23KNR_20200413_0_L2A_B03.tif\n",
      "2021-09-13 16:19:50  124.3 MiB usmart/RIO/sentinel-s2-l2a-cogs/S2A_23KNR_20200413_0_L2A_B04.tif\n",
      "2021-09-13 16:19:56  126.2 MiB usmart/RIO/sentinel-s2-l2a-cogs/S2A_23KNR_20200423_0_L2A_B02.tif\n",
      "2021-09-13 16:19:48  126.1 MiB usmart/RIO/sentinel-s2-l2a-cogs/S2A_23KNR_20200423_0_L2A_B03.tif\n",
      "2021-09-13 16:19:39  126.3 MiB usmart/RIO/sentinel-s2-l2a-cogs/S2A_23KNR_20200423_0_L2A_B04.tif\n",
      "2021-09-13 16:19:50  118.9 MiB usmart/RIO/sentinel-s2-l2a-cogs/S2A_23KNR_20200503_0_L2A_B02.tif\n",
      "2021-09-13 16:19:42  118.7 MiB usmart/RIO/sentinel-s2-l2a-cogs/S2A_23KNR_20200503_0_L2A_B03.tif\n",
      "2021-09-13 16:19:32  118.8 MiB usmart/RIO/sentinel-s2-l2a-cogs/S2A_23KNR_20200503_0_L2A_B04.tif\n",
      "2021-09-13 16:19:44  111.8 MiB usmart/RIO/sentinel-s2-l2a-cogs/S2A_23KNR_20200513_0_L2A_B02.tif\n",
      "2021-09-13 16:19:35  119.5 MiB usmart/RIO/sentinel-s2-l2a-cogs/S2A_23KNR_20200513_0_L2A_B03.tif\n",
      "2021-09-13 16:19:28  119.9 MiB usmart/RIO/sentinel-s2-l2a-cogs/S2A_23KNR_20200513_0_L2A_B04.tif\n",
      "2021-09-13 16:19:32   94.5 MiB usmart/RIO/sentinel-s2-l2a-cogs/S2A_23KNR_20200523_0_L2A_B02.tif\n",
      "2021-09-13 16:19:25   93.6 MiB usmart/RIO/sentinel-s2-l2a-cogs/S2A_23KNR_20200523_0_L2A_B03.tif\n",
      "2021-09-13 16:19:18   94.0 MiB usmart/RIO/sentinel-s2-l2a-cogs/S2A_23KNR_20200523_0_L2A_B04.tif\n",
      "2021-09-13 16:19:26  113.3 MiB usmart/RIO/sentinel-s2-l2a-cogs/S2A_23KNR_20200602_0_L2A_B02.tif\n",
      "2021-09-13 16:19:18  120.9 MiB usmart/RIO/sentinel-s2-l2a-cogs/S2A_23KNR_20200602_0_L2A_B03.tif\n",
      "2021-09-13 16:19:10  121.8 MiB usmart/RIO/sentinel-s2-l2a-cogs/S2A_23KNR_20200602_0_L2A_B04.tif\n",
      "2021-09-13 16:19:23  108.9 MiB usmart/RIO/sentinel-s2-l2a-cogs/S2A_23KNR_20200612_0_L2A_B02.tif\n",
      "2021-09-13 16:19:15  113.8 MiB usmart/RIO/sentinel-s2-l2a-cogs/S2A_23KNR_20200612_0_L2A_B03.tif\n",
      "2021-09-13 16:19:06  115.3 MiB usmart/RIO/sentinel-s2-l2a-cogs/S2A_23KNR_20200612_0_L2A_B04.tif\n",
      "2021-09-13 16:19:15  112.6 MiB usmart/RIO/sentinel-s2-l2a-cogs/S2A_23KNR_20200622_0_L2A_B02.tif\n",
      "2021-09-13 16:19:06  119.7 MiB usmart/RIO/sentinel-s2-l2a-cogs/S2A_23KNR_20200622_0_L2A_B03.tif\n",
      "2021-09-13 16:18:57  120.9 MiB usmart/RIO/sentinel-s2-l2a-cogs/S2A_23KNR_20200622_0_L2A_B04.tif\n",
      "2021-09-13 16:19:01  118.9 MiB usmart/RIO/sentinel-s2-l2a-cogs/S2A_23KNR_20200702_0_L2A_B02.tif\n",
      "2021-09-13 16:18:53  122.4 MiB usmart/RIO/sentinel-s2-l2a-cogs/S2A_23KNR_20200702_0_L2A_B03.tif\n",
      "2021-09-13 16:18:45  123.6 MiB usmart/RIO/sentinel-s2-l2a-cogs/S2A_23KNR_20200702_0_L2A_B04.tif\n",
      "2021-09-13 16:18:59  108.4 MiB usmart/RIO/sentinel-s2-l2a-cogs/S2A_23KNR_20200712_0_L2A_B02.tif\n",
      "2021-09-13 16:18:47  112.6 MiB usmart/RIO/sentinel-s2-l2a-cogs/S2A_23KNR_20200712_0_L2A_B03.tif\n",
      "2021-09-13 16:18:38  114.5 MiB usmart/RIO/sentinel-s2-l2a-cogs/S2A_23KNR_20200712_0_L2A_B04.tif\n",
      "2021-09-13 16:18:49  112.6 MiB usmart/RIO/sentinel-s2-l2a-cogs/S2A_23KNR_20200722_0_L2A_B02.tif\n",
      "2021-09-13 16:18:41  118.8 MiB usmart/RIO/sentinel-s2-l2a-cogs/S2A_23KNR_20200722_0_L2A_B03.tif\n",
      "2021-09-13 16:18:32  121.3 MiB usmart/RIO/sentinel-s2-l2a-cogs/S2A_23KNR_20200722_0_L2A_B04.tif\n",
      "2021-09-13 16:18:38  122.5 MiB usmart/RIO/sentinel-s2-l2a-cogs/S2A_23KNR_20200801_0_L2A_B02.tif\n",
      "2021-09-13 16:18:30  123.4 MiB usmart/RIO/sentinel-s2-l2a-cogs/S2A_23KNR_20200801_0_L2A_B03.tif\n",
      "2021-09-13 16:18:22  124.2 MiB usmart/RIO/sentinel-s2-l2a-cogs/S2A_23KNR_20200801_0_L2A_B04.tif\n",
      "2021-09-13 16:18:31   93.4 MiB usmart/RIO/sentinel-s2-l2a-cogs/S2A_23KNR_20200811_1_L2A_B02.tif\n",
      "2021-09-13 16:18:23   98.1 MiB usmart/RIO/sentinel-s2-l2a-cogs/S2A_23KNR_20200811_1_L2A_B03.tif\n",
      "2021-09-13 16:18:15  100.1 MiB usmart/RIO/sentinel-s2-l2a-cogs/S2A_23KNR_20200811_1_L2A_B04.tif\n",
      "2021-09-13 16:18:20   98.5 MiB usmart/RIO/sentinel-s2-l2a-cogs/S2A_23KNR_20200821_0_L2A_B02.tif\n",
      "2021-09-13 16:18:11   97.9 MiB usmart/RIO/sentinel-s2-l2a-cogs/S2A_23KNR_20200821_0_L2A_B03.tif\n",
      "2021-09-13 16:18:05   97.9 MiB usmart/RIO/sentinel-s2-l2a-cogs/S2A_23KNR_20200821_0_L2A_B04.tif\n",
      "2021-09-13 16:18:19  112.1 MiB usmart/RIO/sentinel-s2-l2a-cogs/S2A_23KNR_20200831_0_L2A_B02.tif\n",
      "2021-09-13 16:18:10  114.3 MiB usmart/RIO/sentinel-s2-l2a-cogs/S2A_23KNR_20200831_0_L2A_B03.tif\n",
      "2021-09-13 16:18:02  116.0 MiB usmart/RIO/sentinel-s2-l2a-cogs/S2A_23KNR_20200831_0_L2A_B04.tif\n",
      "2021-09-13 16:18:12  111.2 MiB usmart/RIO/sentinel-s2-l2a-cogs/S2A_23KNR_20200910_0_L2A_B02.tif\n",
      "2021-09-13 16:17:59  113.8 MiB usmart/RIO/sentinel-s2-l2a-cogs/S2A_23KNR_20200910_0_L2A_B03.tif\n",
      "2021-09-13 16:17:51  118.1 MiB usmart/RIO/sentinel-s2-l2a-cogs/S2A_23KNR_20200910_0_L2A_B04.tif\n",
      "2021-09-13 16:17:58   86.0 MiB usmart/RIO/sentinel-s2-l2a-cogs/S2A_23KNR_20200920_0_L2A_B02.tif\n",
      "2021-09-13 16:17:50   84.9 MiB usmart/RIO/sentinel-s2-l2a-cogs/S2A_23KNR_20200920_0_L2A_B03.tif\n",
      "2021-09-13 16:17:43   84.8 MiB usmart/RIO/sentinel-s2-l2a-cogs/S2A_23KNR_20200920_0_L2A_B04.tif\n",
      "2021-09-13 16:17:54  110.4 MiB usmart/RIO/sentinel-s2-l2a-cogs/S2A_23KNR_20200930_0_L2A_B02.tif\n",
      "2021-09-13 16:17:47  115.1 MiB usmart/RIO/sentinel-s2-l2a-cogs/S2A_23KNR_20200930_0_L2A_B03.tif\n",
      "2021-09-13 16:17:38  120.6 MiB usmart/RIO/sentinel-s2-l2a-cogs/S2A_23KNR_20200930_0_L2A_B04.tif\n",
      "2021-09-13 16:17:51  101.0 MiB usmart/RIO/sentinel-s2-l2a-cogs/S2A_23KNR_20201010_0_L2A_B02.tif\n",
      "2021-09-13 16:17:44  100.6 MiB usmart/RIO/sentinel-s2-l2a-cogs/S2A_23KNR_20201010_0_L2A_B03.tif\n",
      "2021-09-13 16:17:36  101.4 MiB usmart/RIO/sentinel-s2-l2a-cogs/S2A_23KNR_20201010_0_L2A_B04.tif\n",
      "2021-09-13 16:17:31  108.2 MiB usmart/RIO/sentinel-s2-l2a-cogs/S2A_23KNR_20201020_0_L2A_B02.tif\n",
      "2021-09-13 16:17:25  107.5 MiB usmart/RIO/sentinel-s2-l2a-cogs/S2A_23KNR_20201020_0_L2A_B03.tif\n",
      "2021-09-13 16:17:17  108.4 MiB usmart/RIO/sentinel-s2-l2a-cogs/S2A_23KNR_20201020_0_L2A_B04.tif\n",
      "2021-09-13 16:17:28   85.4 MiB usmart/RIO/sentinel-s2-l2a-cogs/S2A_23KNR_20201030_0_L2A_B02.tif\n",
      "2021-09-13 16:17:22   83.6 MiB usmart/RIO/sentinel-s2-l2a-cogs/S2A_23KNR_20201030_0_L2A_B03.tif\n",
      "2021-09-13 16:17:14   83.1 MiB usmart/RIO/sentinel-s2-l2a-cogs/S2A_23KNR_20201030_0_L2A_B04.tif\n",
      "2021-09-13 16:17:28  113.4 MiB usmart/RIO/sentinel-s2-l2a-cogs/S2A_23KNR_20201109_0_L2A_B02.tif\n",
      "2021-09-13 16:17:19  114.8 MiB usmart/RIO/sentinel-s2-l2a-cogs/S2A_23KNR_20201109_0_L2A_B03.tif\n",
      "2021-09-13 16:17:10  117.8 MiB usmart/RIO/sentinel-s2-l2a-cogs/S2A_23KNR_20201109_0_L2A_B04.tif\n",
      "2021-09-13 16:17:22  108.5 MiB usmart/RIO/sentinel-s2-l2a-cogs/S2A_23KNR_20201119_0_L2A_B02.tif\n",
      "2021-09-13 16:17:14  107.7 MiB usmart/RIO/sentinel-s2-l2a-cogs/S2A_23KNR_20201119_0_L2A_B03.tif\n",
      "2021-09-13 16:17:05  107.9 MiB usmart/RIO/sentinel-s2-l2a-cogs/S2A_23KNR_20201119_0_L2A_B04.tif\n",
      "2021-09-13 16:17:02  122.1 MiB usmart/RIO/sentinel-s2-l2a-cogs/S2A_23KNR_20201129_0_L2A_B02.tif\n",
      "2021-09-13 16:16:54  123.8 MiB usmart/RIO/sentinel-s2-l2a-cogs/S2A_23KNR_20201129_0_L2A_B03.tif\n",
      "2021-09-13 16:16:44  125.6 MiB usmart/RIO/sentinel-s2-l2a-cogs/S2A_23KNR_20201129_0_L2A_B04.tif\n",
      "2021-09-13 16:16:59   75.6 MiB usmart/RIO/sentinel-s2-l2a-cogs/S2A_23KNR_20201209_0_L2A_B02.tif\n",
      "2021-09-13 16:16:52   73.2 MiB usmart/RIO/sentinel-s2-l2a-cogs/S2A_23KNR_20201209_0_L2A_B03.tif\n",
      "2021-09-13 16:16:45   73.3 MiB usmart/RIO/sentinel-s2-l2a-cogs/S2A_23KNR_20201209_0_L2A_B04.tif\n",
      "2021-09-13 16:17:02  111.1 MiB usmart/RIO/sentinel-s2-l2a-cogs/S2A_23KNR_20201219_0_L2A_B02.tif\n",
      "2021-09-13 16:16:54  117.6 MiB usmart/RIO/sentinel-s2-l2a-cogs/S2A_23KNR_20201219_0_L2A_B03.tif\n",
      "2021-09-13 16:16:45  118.8 MiB usmart/RIO/sentinel-s2-l2a-cogs/S2A_23KNR_20201219_0_L2A_B04.tif\n",
      "2021-09-13 16:16:59   98.2 MiB usmart/RIO/sentinel-s2-l2a-cogs/S2A_23KNR_20201229_0_L2A_B02.tif\n",
      "2021-09-13 16:16:51   96.5 MiB usmart/RIO/sentinel-s2-l2a-cogs/S2A_23KNR_20201229_0_L2A_B03.tif\n",
      "2021-09-13 16:16:43   96.7 MiB usmart/RIO/sentinel-s2-l2a-cogs/S2A_23KNR_20201229_0_L2A_B04.tif\n",
      "2021-09-13 16:21:22  166.4 MiB usmart/RIO/sentinel-s2-l2a-cogs/S2A_23KPR_20200104_0_L2A_B02.tif\n",
      "2021-09-13 16:21:15  164.9 MiB usmart/RIO/sentinel-s2-l2a-cogs/S2A_23KPR_20200104_0_L2A_B03.tif\n",
      "2021-09-13 16:21:08  165.6 MiB usmart/RIO/sentinel-s2-l2a-cogs/S2A_23KPR_20200104_0_L2A_B04.tif\n",
      "2021-09-13 16:21:16  174.0 MiB usmart/RIO/sentinel-s2-l2a-cogs/S2A_23KPR_20200114_0_L2A_B02.tif\n",
      "2021-09-13 16:21:09  172.6 MiB usmart/RIO/sentinel-s2-l2a-cogs/S2A_23KPR_20200114_0_L2A_B03.tif\n",
      "2021-09-13 16:20:58  173.0 MiB usmart/RIO/sentinel-s2-l2a-cogs/S2A_23KPR_20200114_0_L2A_B04.tif\n",
      "2021-09-13 16:21:15  162.4 MiB usmart/RIO/sentinel-s2-l2a-cogs/S2A_23KPR_20200124_0_L2A_B02.tif\n",
      "2021-09-13 16:21:07  161.8 MiB usmart/RIO/sentinel-s2-l2a-cogs/S2A_23KPR_20200124_0_L2A_B03.tif\n",
      "2021-09-13 16:20:55  162.9 MiB usmart/RIO/sentinel-s2-l2a-cogs/S2A_23KPR_20200124_0_L2A_B04.tif\n",
      "2021-09-13 16:21:08  199.6 MiB usmart/RIO/sentinel-s2-l2a-cogs/S2A_23KPR_20200203_0_L2A_B02.tif\n",
      "2021-09-13 16:20:58  197.6 MiB usmart/RIO/sentinel-s2-l2a-cogs/S2A_23KPR_20200203_0_L2A_B03.tif\n",
      "2021-09-13 16:20:46  198.2 MiB usmart/RIO/sentinel-s2-l2a-cogs/S2A_23KPR_20200203_0_L2A_B04.tif\n",
      "2021-09-13 16:20:54  140.7 MiB usmart/RIO/sentinel-s2-l2a-cogs/S2A_23KPR_20200213_0_L2A_B02.tif\n",
      "2021-09-13 16:20:46  138.5 MiB usmart/RIO/sentinel-s2-l2a-cogs/S2A_23KPR_20200213_0_L2A_B03.tif\n",
      "2021-09-13 16:20:37  139.6 MiB usmart/RIO/sentinel-s2-l2a-cogs/S2A_23KPR_20200213_0_L2A_B04.tif\n",
      "2021-09-13 16:20:52  207.1 MiB usmart/RIO/sentinel-s2-l2a-cogs/S2A_23KPR_20200223_0_L2A_B02.tif\n",
      "2021-09-13 16:20:41  206.5 MiB usmart/RIO/sentinel-s2-l2a-cogs/S2A_23KPR_20200223_0_L2A_B03.tif\n",
      "2021-09-13 16:20:30  207.0 MiB usmart/RIO/sentinel-s2-l2a-cogs/S2A_23KPR_20200223_0_L2A_B04.tif\n",
      "2021-09-13 16:20:44  184.2 MiB usmart/RIO/sentinel-s2-l2a-cogs/S2A_23KPR_20200304_0_L2A_B02.tif\n",
      "2021-09-13 16:20:34  183.2 MiB usmart/RIO/sentinel-s2-l2a-cogs/S2A_23KPR_20200304_0_L2A_B03.tif\n",
      "2021-09-13 16:20:23  184.0 MiB usmart/RIO/sentinel-s2-l2a-cogs/S2A_23KPR_20200304_0_L2A_B04.tif\n",
      "2021-09-13 16:20:41  215.5 MiB usmart/RIO/sentinel-s2-l2a-cogs/S2A_23KPR_20200314_0_L2A_B02.tif\n",
      "2021-09-13 16:20:28  214.5 MiB usmart/RIO/sentinel-s2-l2a-cogs/S2A_23KPR_20200314_0_L2A_B03.tif\n",
      "2021-09-13 16:20:16  215.1 MiB usmart/RIO/sentinel-s2-l2a-cogs/S2A_23KPR_20200314_0_L2A_B04.tif\n",
      "2021-09-13 16:20:28  207.5 MiB usmart/RIO/sentinel-s2-l2a-cogs/S2A_23KPR_20200324_0_L2A_B02.tif\n",
      "2021-09-13 16:20:17  217.3 MiB usmart/RIO/sentinel-s2-l2a-cogs/S2A_23KPR_20200324_0_L2A_B03.tif\n",
      "2021-09-13 16:20:05  215.5 MiB usmart/RIO/sentinel-s2-l2a-cogs/S2A_23KPR_20200324_0_L2A_B04.tif\n",
      "2021-09-13 16:20:26  203.3 MiB usmart/RIO/sentinel-s2-l2a-cogs/S2A_23KPR_20200403_0_L2A_B02.tif\n",
      "2021-09-13 16:20:14  209.8 MiB usmart/RIO/sentinel-s2-l2a-cogs/S2A_23KPR_20200403_0_L2A_B03.tif\n",
      "2021-09-13 16:19:59  209.6 MiB usmart/RIO/sentinel-s2-l2a-cogs/S2A_23KPR_20200403_0_L2A_B04.tif\n",
      "2021-09-13 16:20:18  219.5 MiB usmart/RIO/sentinel-s2-l2a-cogs/S2A_23KPR_20200413_0_L2A_B02.tif\n",
      "2021-09-13 16:20:05  221.5 MiB usmart/RIO/sentinel-s2-l2a-cogs/S2A_23KPR_20200413_0_L2A_B03.tif\n",
      "2021-09-13 16:19:54  218.5 MiB usmart/RIO/sentinel-s2-l2a-cogs/S2A_23KPR_20200413_0_L2A_B04.tif\n",
      "2021-09-13 16:20:04  225.6 MiB usmart/RIO/sentinel-s2-l2a-cogs/S2A_23KPR_20200423_0_L2A_B02.tif\n",
      "2021-09-13 16:19:52  222.8 MiB usmart/RIO/sentinel-s2-l2a-cogs/S2A_23KPR_20200423_0_L2A_B03.tif\n",
      "2021-09-13 16:19:40  220.0 MiB usmart/RIO/sentinel-s2-l2a-cogs/S2A_23KPR_20200423_0_L2A_B04.tif\n",
      "2021-09-13 16:19:55  207.0 MiB usmart/RIO/sentinel-s2-l2a-cogs/S2A_23KPR_20200503_0_L2A_B02.tif\n",
      "2021-09-13 16:19:44  208.0 MiB usmart/RIO/sentinel-s2-l2a-cogs/S2A_23KPR_20200503_0_L2A_B03.tif\n",
      "2021-09-13 16:19:33  208.9 MiB usmart/RIO/sentinel-s2-l2a-cogs/S2A_23KPR_20200503_0_L2A_B04.tif\n",
      "2021-09-13 16:19:52  198.7 MiB usmart/RIO/sentinel-s2-l2a-cogs/S2A_23KPR_20200513_0_L2A_B02.tif\n",
      "2021-09-13 16:19:41  211.0 MiB usmart/RIO/sentinel-s2-l2a-cogs/S2A_23KPR_20200513_0_L2A_B03.tif\n",
      "2021-09-13 16:19:28  211.7 MiB usmart/RIO/sentinel-s2-l2a-cogs/S2A_23KPR_20200513_0_L2A_B04.tif\n",
      "2021-09-13 16:19:44  193.4 MiB usmart/RIO/sentinel-s2-l2a-cogs/S2A_23KPR_20200523_0_L2A_B02.tif\n",
      "2021-09-13 16:19:32  194.1 MiB usmart/RIO/sentinel-s2-l2a-cogs/S2A_23KPR_20200523_0_L2A_B03.tif\n",
      "2021-09-13 16:19:22  194.6 MiB usmart/RIO/sentinel-s2-l2a-cogs/S2A_23KPR_20200523_0_L2A_B04.tif\n",
      "2021-09-13 16:19:32  197.4 MiB usmart/RIO/sentinel-s2-l2a-cogs/S2A_23KPR_20200602_0_L2A_B02.tif\n",
      "2021-09-13 16:19:21  210.9 MiB usmart/RIO/sentinel-s2-l2a-cogs/S2A_23KPR_20200602_0_L2A_B03.tif\n",
      "2021-09-13 16:19:10  211.7 MiB usmart/RIO/sentinel-s2-l2a-cogs/S2A_23KPR_20200602_0_L2A_B04.tif\n",
      "2021-09-13 16:19:29  189.8 MiB usmart/RIO/sentinel-s2-l2a-cogs/S2A_23KPR_20200612_0_L2A_B02.tif\n",
      "2021-09-13 16:19:18  196.9 MiB usmart/RIO/sentinel-s2-l2a-cogs/S2A_23KPR_20200612_0_L2A_B03.tif\n",
      "2021-09-13 16:19:06  199.7 MiB usmart/RIO/sentinel-s2-l2a-cogs/S2A_23KPR_20200612_0_L2A_B04.tif\n",
      "2021-09-13 16:19:21  198.2 MiB usmart/RIO/sentinel-s2-l2a-cogs/S2A_23KPR_20200622_0_L2A_B02.tif\n",
      "2021-09-13 16:19:09  211.3 MiB usmart/RIO/sentinel-s2-l2a-cogs/S2A_23KPR_20200622_0_L2A_B03.tif\n",
      "2021-09-13 16:18:58  212.7 MiB usmart/RIO/sentinel-s2-l2a-cogs/S2A_23KPR_20200622_0_L2A_B04.tif\n",
      "2021-09-13 16:19:10  213.0 MiB usmart/RIO/sentinel-s2-l2a-cogs/S2A_23KPR_20200702_0_L2A_B02.tif\n",
      "2021-09-13 16:18:58  218.3 MiB usmart/RIO/sentinel-s2-l2a-cogs/S2A_23KPR_20200702_0_L2A_B03.tif\n",
      "2021-09-13 16:18:46  220.2 MiB usmart/RIO/sentinel-s2-l2a-cogs/S2A_23KPR_20200702_0_L2A_B04.tif\n",
      "2021-09-13 16:19:02  197.8 MiB usmart/RIO/sentinel-s2-l2a-cogs/S2A_23KPR_20200712_0_L2A_B02.tif\n",
      "2021-09-13 16:18:50  206.1 MiB usmart/RIO/sentinel-s2-l2a-cogs/S2A_23KPR_20200712_0_L2A_B03.tif\n",
      "2021-09-13 16:18:39  209.7 MiB usmart/RIO/sentinel-s2-l2a-cogs/S2A_23KPR_20200712_0_L2A_B04.tif\n",
      "2021-09-13 16:18:54  200.7 MiB usmart/RIO/sentinel-s2-l2a-cogs/S2A_23KPR_20200722_0_L2A_B02.tif\n",
      "2021-09-13 16:18:44  211.9 MiB usmart/RIO/sentinel-s2-l2a-cogs/S2A_23KPR_20200722_0_L2A_B03.tif\n",
      "2021-09-13 16:18:32  215.7 MiB usmart/RIO/sentinel-s2-l2a-cogs/S2A_23KPR_20200722_0_L2A_B04.tif\n",
      "2021-09-13 16:18:48  203.5 MiB usmart/RIO/sentinel-s2-l2a-cogs/S2A_23KPR_20200801_0_L2A_B02.tif\n",
      "2021-09-13 16:18:38  203.2 MiB usmart/RIO/sentinel-s2-l2a-cogs/S2A_23KPR_20200801_0_L2A_B03.tif\n",
      "2021-09-13 16:18:26  203.7 MiB usmart/RIO/sentinel-s2-l2a-cogs/S2A_23KPR_20200801_0_L2A_B04.tif\n",
      "2021-09-13 16:18:35  129.8 MiB usmart/RIO/sentinel-s2-l2a-cogs/S2A_23KPR_20200811_0_L2A_B02.tif\n",
      "2021-09-13 16:18:26  136.4 MiB usmart/RIO/sentinel-s2-l2a-cogs/S2A_23KPR_20200811_0_L2A_B03.tif\n",
      "2021-09-13 16:18:16  138.6 MiB usmart/RIO/sentinel-s2-l2a-cogs/S2A_23KPR_20200811_0_L2A_B04.tif\n",
      "2021-09-13 16:18:28  176.2 MiB usmart/RIO/sentinel-s2-l2a-cogs/S2A_23KPR_20200821_0_L2A_B02.tif\n",
      "2021-09-13 16:18:19  175.9 MiB usmart/RIO/sentinel-s2-l2a-cogs/S2A_23KPR_20200821_0_L2A_B03.tif\n",
      "2021-09-13 16:18:08  176.3 MiB usmart/RIO/sentinel-s2-l2a-cogs/S2A_23KPR_20200821_0_L2A_B04.tif\n",
      "2021-09-13 16:18:26  202.3 MiB usmart/RIO/sentinel-s2-l2a-cogs/S2A_23KPR_20200831_0_L2A_B02.tif\n",
      "2021-09-13 16:18:14  207.7 MiB usmart/RIO/sentinel-s2-l2a-cogs/S2A_23KPR_20200831_0_L2A_B03.tif\n",
      "2021-09-13 16:18:03  211.9 MiB usmart/RIO/sentinel-s2-l2a-cogs/S2A_23KPR_20200831_0_L2A_B04.tif\n",
      "2021-09-13 16:18:15  200.2 MiB usmart/RIO/sentinel-s2-l2a-cogs/S2A_23KPR_20200910_0_L2A_B02.tif\n",
      "2021-09-13 16:18:04  205.0 MiB usmart/RIO/sentinel-s2-l2a-cogs/S2A_23KPR_20200910_0_L2A_B03.tif\n",
      "2021-09-13 16:17:53  211.8 MiB usmart/RIO/sentinel-s2-l2a-cogs/S2A_23KPR_20200910_0_L2A_B04.tif\n",
      "2021-09-13 16:18:04  179.8 MiB usmart/RIO/sentinel-s2-l2a-cogs/S2A_23KPR_20200920_0_L2A_B02.tif\n",
      "2021-09-13 16:17:53  179.1 MiB usmart/RIO/sentinel-s2-l2a-cogs/S2A_23KPR_20200920_0_L2A_B03.tif\n",
      "2021-09-13 16:17:43  179.7 MiB usmart/RIO/sentinel-s2-l2a-cogs/S2A_23KPR_20200920_0_L2A_B04.tif\n",
      "2021-09-13 16:18:02  195.2 MiB usmart/RIO/sentinel-s2-l2a-cogs/S2A_23KPR_20200930_0_L2A_B02.tif\n",
      "2021-09-13 16:17:51  204.1 MiB usmart/RIO/sentinel-s2-l2a-cogs/S2A_23KPR_20200930_0_L2A_B03.tif\n",
      "2021-09-13 16:17:39  212.1 MiB usmart/RIO/sentinel-s2-l2a-cogs/S2A_23KPR_20200930_0_L2A_B04.tif\n",
      "2021-09-13 16:17:56  164.7 MiB usmart/RIO/sentinel-s2-l2a-cogs/S2A_23KPR_20201010_0_L2A_B02.tif\n",
      "2021-09-13 16:17:46  163.0 MiB usmart/RIO/sentinel-s2-l2a-cogs/S2A_23KPR_20201010_0_L2A_B03.tif\n",
      "2021-09-13 16:17:36  162.6 MiB usmart/RIO/sentinel-s2-l2a-cogs/S2A_23KPR_20201010_0_L2A_B04.tif\n",
      "2021-09-13 16:17:41  178.7 MiB usmart/RIO/sentinel-s2-l2a-cogs/S2A_23KPR_20201020_0_L2A_B02.tif\n",
      "2021-09-13 16:17:31  179.4 MiB usmart/RIO/sentinel-s2-l2a-cogs/S2A_23KPR_20201020_0_L2A_B03.tif\n",
      "2021-09-13 16:17:22  180.6 MiB usmart/RIO/sentinel-s2-l2a-cogs/S2A_23KPR_20201020_0_L2A_B04.tif\n",
      "2021-09-13 16:17:33  147.6 MiB usmart/RIO/sentinel-s2-l2a-cogs/S2A_23KPR_20201030_0_L2A_B02.tif\n",
      "2021-09-13 16:17:23  144.9 MiB usmart/RIO/sentinel-s2-l2a-cogs/S2A_23KPR_20201030_0_L2A_B03.tif\n",
      "2021-09-13 16:17:15  144.7 MiB usmart/RIO/sentinel-s2-l2a-cogs/S2A_23KPR_20201030_0_L2A_B04.tif\n",
      "2021-09-13 16:17:33  198.9 MiB usmart/RIO/sentinel-s2-l2a-cogs/S2A_23KPR_20201109_0_L2A_B02.tif\n",
      "2021-09-13 16:17:22  201.9 MiB usmart/RIO/sentinel-s2-l2a-cogs/S2A_23KPR_20201109_0_L2A_B03.tif\n",
      "2021-09-13 16:17:10  207.2 MiB usmart/RIO/sentinel-s2-l2a-cogs/S2A_23KPR_20201109_0_L2A_B04.tif\n",
      "2021-09-13 16:17:26  184.5 MiB usmart/RIO/sentinel-s2-l2a-cogs/S2A_23KPR_20201119_0_L2A_B02.tif\n",
      "2021-09-13 16:17:17  183.1 MiB usmart/RIO/sentinel-s2-l2a-cogs/S2A_23KPR_20201119_0_L2A_B03.tif\n",
      "2021-09-13 16:17:06  183.8 MiB usmart/RIO/sentinel-s2-l2a-cogs/S2A_23KPR_20201119_0_L2A_B04.tif\n",
      "2021-09-13 16:17:10  217.5 MiB usmart/RIO/sentinel-s2-l2a-cogs/S2A_23KPR_20201129_0_L2A_B02.tif\n",
      "2021-09-13 16:16:58  219.9 MiB usmart/RIO/sentinel-s2-l2a-cogs/S2A_23KPR_20201129_0_L2A_B03.tif\n",
      "2021-09-13 16:16:44  221.7 MiB usmart/RIO/sentinel-s2-l2a-cogs/S2A_23KPR_20201129_0_L2A_B04.tif\n",
      "2021-09-13 16:17:05  145.0 MiB usmart/RIO/sentinel-s2-l2a-cogs/S2A_23KPR_20201209_0_L2A_B02.tif\n",
      "2021-09-13 16:16:55  140.2 MiB usmart/RIO/sentinel-s2-l2a-cogs/S2A_23KPR_20201209_0_L2A_B03.tif\n",
      "2021-09-13 16:16:44  139.8 MiB usmart/RIO/sentinel-s2-l2a-cogs/S2A_23KPR_20201209_0_L2A_B04.tif\n",
      "2021-09-13 16:17:06  201.7 MiB usmart/RIO/sentinel-s2-l2a-cogs/S2A_23KPR_20201219_0_L2A_B02.tif\n",
      "2021-09-13 16:16:55  212.5 MiB usmart/RIO/sentinel-s2-l2a-cogs/S2A_23KPR_20201219_0_L2A_B03.tif\n",
      "2021-09-13 16:16:44  213.1 MiB usmart/RIO/sentinel-s2-l2a-cogs/S2A_23KPR_20201219_0_L2A_B04.tif\n",
      "2021-09-13 16:17:04  192.9 MiB usmart/RIO/sentinel-s2-l2a-cogs/S2A_23KPR_20201229_0_L2A_B02.tif\n",
      "2021-09-13 16:16:54  191.3 MiB usmart/RIO/sentinel-s2-l2a-cogs/S2A_23KPR_20201229_0_L2A_B03.tif\n",
      "2021-09-13 16:16:43  192.0 MiB usmart/RIO/sentinel-s2-l2a-cogs/S2A_23KPR_20201229_0_L2A_B04.tif\n",
      "2021-09-13 16:21:14  106.8 MiB usmart/RIO/sentinel-s2-l2a-cogs/S2B_23KNR_20200109_0_L2A_B02.tif\n",
      "2021-09-13 16:21:09  106.1 MiB usmart/RIO/sentinel-s2-l2a-cogs/S2B_23KNR_20200109_0_L2A_B03.tif\n",
      "2021-09-13 16:21:02  106.4 MiB usmart/RIO/sentinel-s2-l2a-cogs/S2B_23KNR_20200109_0_L2A_B04.tif\n",
      "2021-09-13 16:21:09   99.7 MiB usmart/RIO/sentinel-s2-l2a-cogs/S2B_23KNR_20200119_0_L2A_B02.tif\n",
      "2021-09-13 16:21:02   99.1 MiB usmart/RIO/sentinel-s2-l2a-cogs/S2B_23KNR_20200119_0_L2A_B03.tif\n",
      "2021-09-13 16:20:55   99.6 MiB usmart/RIO/sentinel-s2-l2a-cogs/S2B_23KNR_20200119_0_L2A_B04.tif\n"
     ]
    },
    {
     "name": "stdout",
     "output_type": "stream",
     "text": [
      "2021-09-13 16:21:06   97.6 MiB usmart/RIO/sentinel-s2-l2a-cogs/S2B_23KNR_20200129_0_L2A_B02.tif\r\n",
      "2021-09-13 16:20:57   96.4 MiB usmart/RIO/sentinel-s2-l2a-cogs/S2B_23KNR_20200129_0_L2A_B03.tif\r\n",
      "2021-09-13 16:20:50   96.5 MiB usmart/RIO/sentinel-s2-l2a-cogs/S2B_23KNR_20200129_0_L2A_B04.tif\r\n",
      "2021-09-13 16:20:56  119.3 MiB usmart/RIO/sentinel-s2-l2a-cogs/S2B_23KNR_20200208_0_L2A_B02.tif\r\n",
      "2021-09-13 16:20:49  122.7 MiB usmart/RIO/sentinel-s2-l2a-cogs/S2B_23KNR_20200208_0_L2A_B03.tif\r\n",
      "2021-09-13 16:20:40  122.4 MiB usmart/RIO/sentinel-s2-l2a-cogs/S2B_23KNR_20200208_0_L2A_B04.tif\r\n",
      "2021-09-13 16:20:44  119.2 MiB usmart/RIO/sentinel-s2-l2a-cogs/S2B_23KNR_20200218_0_L2A_B02.tif\r\n",
      "2021-09-13 16:20:36  120.8 MiB usmart/RIO/sentinel-s2-l2a-cogs/S2B_23KNR_20200218_0_L2A_B03.tif\r\n",
      "2021-09-13 16:20:30  120.8 MiB usmart/RIO/sentinel-s2-l2a-cogs/S2B_23KNR_20200218_0_L2A_B04.tif\r\n",
      "2021-09-13 16:20:37   79.2 MiB usmart/RIO/sentinel-s2-l2a-cogs/S2B_23KNR_20200228_0_L2A_B02.tif\r\n",
      "2021-09-13 16:20:31   76.7 MiB usmart/RIO/sentinel-s2-l2a-cogs/S2B_23KNR_20200228_0_L2A_B03.tif\r\n",
      "2021-09-13 16:20:25   75.9 MiB usmart/RIO/sentinel-s2-l2a-cogs/S2B_23KNR_20200228_0_L2A_B04.tif\r\n",
      "2021-09-13 16:20:34  121.5 MiB usmart/RIO/sentinel-s2-l2a-cogs/S2B_23KNR_20200309_0_L2A_B02.tif\r\n",
      "2021-09-13 16:20:24  123.5 MiB usmart/RIO/sentinel-s2-l2a-cogs/S2B_23KNR_20200309_0_L2A_B03.tif\r\n",
      "2021-09-13 16:20:16  123.3 MiB usmart/RIO/sentinel-s2-l2a-cogs/S2B_23KNR_20200309_0_L2A_B04.tif\r\n",
      "2021-09-13 16:20:22  111.2 MiB usmart/RIO/sentinel-s2-l2a-cogs/S2B_23KNR_20200319_0_L2A_B02.tif\r\n",
      "2021-09-13 16:20:15  110.1 MiB usmart/RIO/sentinel-s2-l2a-cogs/S2B_23KNR_20200319_0_L2A_B03.tif\r\n",
      "2021-09-13 16:20:07  109.9 MiB usmart/RIO/sentinel-s2-l2a-cogs/S2B_23KNR_20200319_0_L2A_B04.tif\r\n",
      "2021-09-13 16:20:16  116.6 MiB usmart/RIO/sentinel-s2-l2a-cogs/S2B_23KNR_20200329_0_L2A_B02.tif\r\n",
      "2021-09-13 16:20:09  119.4 MiB usmart/RIO/sentinel-s2-l2a-cogs/S2B_23KNR_20200329_0_L2A_B03.tif\r\n",
      "2021-09-13 16:20:01  119.2 MiB usmart/RIO/sentinel-s2-l2a-cogs/S2B_23KNR_20200329_0_L2A_B04.tif\r\n",
      "2021-09-13 16:20:11   96.7 MiB usmart/RIO/sentinel-s2-l2a-cogs/S2B_23KNR_20200408_0_L2A_B02.tif\r\n",
      "2021-09-13 16:20:03   96.6 MiB usmart/RIO/sentinel-s2-l2a-cogs/S2B_23KNR_20200408_0_L2A_B03.tif\r\n",
      "2021-09-13 16:19:54   97.0 MiB usmart/RIO/sentinel-s2-l2a-cogs/S2B_23KNR_20200408_0_L2A_B04.tif\r\n",
      "2021-09-13 16:19:59  116.2 MiB usmart/RIO/sentinel-s2-l2a-cogs/S2B_23KNR_20200418_0_L2A_B02.tif\r\n",
      "2021-09-13 16:19:51  117.1 MiB usmart/RIO/sentinel-s2-l2a-cogs/S2B_23KNR_20200418_0_L2A_B03.tif\r\n",
      "2021-09-13 16:19:43  117.0 MiB usmart/RIO/sentinel-s2-l2a-cogs/S2B_23KNR_20200418_0_L2A_B04.tif\r\n",
      "2021-09-13 16:19:52  114.6 MiB usmart/RIO/sentinel-s2-l2a-cogs/S2B_23KNR_20200428_0_L2A_B02.tif\r\n",
      "2021-09-13 16:19:43  117.4 MiB usmart/RIO/sentinel-s2-l2a-cogs/S2B_23KNR_20200428_0_L2A_B03.tif\r\n",
      "2021-09-13 16:19:35  117.7 MiB usmart/RIO/sentinel-s2-l2a-cogs/S2B_23KNR_20200428_0_L2A_B04.tif\r\n",
      "2021-09-13 16:19:46  122.5 MiB usmart/RIO/sentinel-s2-l2a-cogs/S2B_23KNR_20200508_0_L2A_B02.tif\r\n",
      "2021-09-13 16:19:37  122.8 MiB usmart/RIO/sentinel-s2-l2a-cogs/S2B_23KNR_20200508_0_L2A_B03.tif\r\n",
      "2021-09-13 16:19:30  122.9 MiB usmart/RIO/sentinel-s2-l2a-cogs/S2B_23KNR_20200508_0_L2A_B04.tif\r\n",
      "2021-09-13 16:19:41  118.8 MiB usmart/RIO/sentinel-s2-l2a-cogs/S2B_23KNR_20200518_0_L2A_B02.tif\r\n",
      "2021-09-13 16:19:32  119.7 MiB usmart/RIO/sentinel-s2-l2a-cogs/S2B_23KNR_20200518_0_L2A_B03.tif\r\n",
      "2021-09-13 16:19:23  119.4 MiB usmart/RIO/sentinel-s2-l2a-cogs/S2B_23KNR_20200518_0_L2A_B04.tif\r\n",
      "2021-09-13 16:19:29  113.7 MiB usmart/RIO/sentinel-s2-l2a-cogs/S2B_23KNR_20200528_0_L2A_B02.tif\r\n",
      "2021-09-13 16:19:20  120.0 MiB usmart/RIO/sentinel-s2-l2a-cogs/S2B_23KNR_20200528_0_L2A_B03.tif\r\n",
      "2021-09-13 16:19:10  120.5 MiB usmart/RIO/sentinel-s2-l2a-cogs/S2B_23KNR_20200528_0_L2A_B04.tif\r\n",
      "2021-09-13 16:19:20   81.3 MiB usmart/RIO/sentinel-s2-l2a-cogs/S2B_23KNR_20200607_0_L2A_B02.tif\r\n",
      "2021-09-13 16:19:13   79.6 MiB usmart/RIO/sentinel-s2-l2a-cogs/S2B_23KNR_20200607_0_L2A_B03.tif\r\n",
      "2021-09-13 16:19:06   79.2 MiB usmart/RIO/sentinel-s2-l2a-cogs/S2B_23KNR_20200607_0_L2A_B04.tif\r\n",
      "2021-09-13 16:19:15  114.1 MiB usmart/RIO/sentinel-s2-l2a-cogs/S2B_23KNR_20200617_0_L2A_B02.tif\r\n",
      "2021-09-13 16:19:07  113.5 MiB usmart/RIO/sentinel-s2-l2a-cogs/S2B_23KNR_20200617_0_L2A_B03.tif\r\n",
      "2021-09-13 16:18:59  113.3 MiB usmart/RIO/sentinel-s2-l2a-cogs/S2B_23KNR_20200617_0_L2A_B04.tif\r\n",
      "2021-09-13 16:19:02  111.8 MiB usmart/RIO/sentinel-s2-l2a-cogs/S2B_23KNR_20200627_0_L2A_B02.tif\r\n",
      "2021-09-13 16:18:54  113.5 MiB usmart/RIO/sentinel-s2-l2a-cogs/S2B_23KNR_20200627_0_L2A_B03.tif\r\n",
      "2021-09-13 16:18:46  114.1 MiB usmart/RIO/sentinel-s2-l2a-cogs/S2B_23KNR_20200627_0_L2A_B04.tif\r\n",
      "2021-09-13 16:18:57  110.4 MiB usmart/RIO/sentinel-s2-l2a-cogs/S2B_23KNR_20200707_0_L2A_B02.tif\r\n",
      "2021-09-13 16:18:49  116.9 MiB usmart/RIO/sentinel-s2-l2a-cogs/S2B_23KNR_20200707_0_L2A_B03.tif\r\n",
      "2021-09-13 16:18:39  119.0 MiB usmart/RIO/sentinel-s2-l2a-cogs/S2B_23KNR_20200707_0_L2A_B04.tif\r\n",
      "2021-09-13 16:18:50  115.8 MiB usmart/RIO/sentinel-s2-l2a-cogs/S2B_23KNR_20200717_0_L2A_B02.tif\r\n",
      "2021-09-13 16:18:42  119.0 MiB usmart/RIO/sentinel-s2-l2a-cogs/S2B_23KNR_20200717_0_L2A_B03.tif\r\n",
      "2021-09-13 16:18:34  120.1 MiB usmart/RIO/sentinel-s2-l2a-cogs/S2B_23KNR_20200717_0_L2A_B04.tif\r\n",
      "2021-09-13 16:18:45  117.9 MiB usmart/RIO/sentinel-s2-l2a-cogs/S2B_23KNR_20200727_0_L2A_B02.tif\r\n",
      "2021-09-13 16:18:37  121.2 MiB usmart/RIO/sentinel-s2-l2a-cogs/S2B_23KNR_20200727_0_L2A_B03.tif\r\n",
      "2021-09-13 16:18:28  122.7 MiB usmart/RIO/sentinel-s2-l2a-cogs/S2B_23KNR_20200727_0_L2A_B04.tif\r\n",
      "2021-09-13 16:18:37  113.8 MiB usmart/RIO/sentinel-s2-l2a-cogs/S2B_23KNR_20200806_0_L2A_B02.tif\r\n",
      "2021-09-13 16:18:29  119.0 MiB usmart/RIO/sentinel-s2-l2a-cogs/S2B_23KNR_20200806_0_L2A_B03.tif\r\n",
      "2021-09-13 16:18:21  121.4 MiB usmart/RIO/sentinel-s2-l2a-cogs/S2B_23KNR_20200806_0_L2A_B04.tif\r\n",
      "2021-09-13 16:18:25   92.8 MiB usmart/RIO/sentinel-s2-l2a-cogs/S2B_23KNR_20200816_0_L2A_B02.tif\r\n",
      "2021-09-13 16:18:19   91.0 MiB usmart/RIO/sentinel-s2-l2a-cogs/S2B_23KNR_20200816_0_L2A_B03.tif\r\n",
      "2021-09-13 16:18:10   90.9 MiB usmart/RIO/sentinel-s2-l2a-cogs/S2B_23KNR_20200816_0_L2A_B04.tif\r\n",
      "2021-09-13 16:18:21  116.7 MiB usmart/RIO/sentinel-s2-l2a-cogs/S2B_23KNR_20200826_0_L2A_B02.tif\r\n",
      "2021-09-13 16:18:13  119.2 MiB usmart/RIO/sentinel-s2-l2a-cogs/S2B_23KNR_20200826_0_L2A_B03.tif\r\n",
      "2021-09-13 16:18:04  120.9 MiB usmart/RIO/sentinel-s2-l2a-cogs/S2B_23KNR_20200826_0_L2A_B04.tif\r\n",
      "2021-09-13 16:18:15  116.2 MiB usmart/RIO/sentinel-s2-l2a-cogs/S2B_23KNR_20200905_0_L2A_B02.tif\r\n",
      "2021-09-13 16:18:08  119.4 MiB usmart/RIO/sentinel-s2-l2a-cogs/S2B_23KNR_20200905_0_L2A_B03.tif\r\n",
      "2021-09-13 16:17:59  121.9 MiB usmart/RIO/sentinel-s2-l2a-cogs/S2B_23KNR_20200905_0_L2A_B04.tif\r\n",
      "2021-09-13 16:18:00  109.2 MiB usmart/RIO/sentinel-s2-l2a-cogs/S2B_23KNR_20200915_0_L2A_B02.tif\r\n",
      "2021-09-13 16:17:53  109.4 MiB usmart/RIO/sentinel-s2-l2a-cogs/S2B_23KNR_20200915_0_L2A_B03.tif\r\n",
      "2021-09-13 16:17:45  110.1 MiB usmart/RIO/sentinel-s2-l2a-cogs/S2B_23KNR_20200915_0_L2A_B04.tif\r\n",
      "2021-09-13 16:17:57  114.3 MiB usmart/RIO/sentinel-s2-l2a-cogs/S2B_23KNR_20200925_0_L2A_B02.tif\r\n",
      "2021-09-13 16:17:48  118.1 MiB usmart/RIO/sentinel-s2-l2a-cogs/S2B_23KNR_20200925_0_L2A_B03.tif\r\n",
      "2021-09-13 16:17:40  121.5 MiB usmart/RIO/sentinel-s2-l2a-cogs/S2B_23KNR_20200925_0_L2A_B04.tif\r\n",
      "2021-09-13 16:17:54  111.8 MiB usmart/RIO/sentinel-s2-l2a-cogs/S2B_23KNR_20201005_0_L2A_B02.tif\r\n",
      "2021-09-13 16:17:45  112.0 MiB usmart/RIO/sentinel-s2-l2a-cogs/S2B_23KNR_20201005_0_L2A_B03.tif\r\n",
      "2021-09-13 16:17:36  113.3 MiB usmart/RIO/sentinel-s2-l2a-cogs/S2B_23KNR_20201005_0_L2A_B04.tif\r\n",
      "2021-09-13 16:17:44   85.5 MiB usmart/RIO/sentinel-s2-l2a-cogs/S2B_23KNR_20201015_0_L2A_B02.tif\r\n",
      "2021-09-13 16:17:38   85.4 MiB usmart/RIO/sentinel-s2-l2a-cogs/S2B_23KNR_20201015_0_L2A_B03.tif\r\n",
      "2021-09-13 16:17:30   86.5 MiB usmart/RIO/sentinel-s2-l2a-cogs/S2B_23KNR_20201015_0_L2A_B04.tif\r\n",
      "2021-09-13 16:17:32  102.4 MiB usmart/RIO/sentinel-s2-l2a-cogs/S2B_23KNR_20201025_0_L2A_B02.tif\r\n",
      "2021-09-13 16:17:25  101.8 MiB usmart/RIO/sentinel-s2-l2a-cogs/S2B_23KNR_20201025_0_L2A_B03.tif\r\n",
      "2021-09-13 16:17:16  102.2 MiB usmart/RIO/sentinel-s2-l2a-cogs/S2B_23KNR_20201025_0_L2A_B04.tif\r\n",
      "2021-09-13 16:17:27  117.2 MiB usmart/RIO/sentinel-s2-l2a-cogs/S2B_23KNR_20201104_0_L2A_B02.tif\r\n",
      "2021-09-13 16:17:18  117.2 MiB usmart/RIO/sentinel-s2-l2a-cogs/S2B_23KNR_20201104_0_L2A_B03.tif\r\n",
      "2021-09-13 16:17:11  118.2 MiB usmart/RIO/sentinel-s2-l2a-cogs/S2B_23KNR_20201104_0_L2A_B04.tif\r\n",
      "2021-09-13 16:17:23   99.1 MiB usmart/RIO/sentinel-s2-l2a-cogs/S2B_23KNR_20201114_0_L2A_B02.tif\r\n",
      "2021-09-13 16:17:15   97.8 MiB usmart/RIO/sentinel-s2-l2a-cogs/S2B_23KNR_20201114_0_L2A_B03.tif\r\n",
      "2021-09-13 16:17:08   98.2 MiB usmart/RIO/sentinel-s2-l2a-cogs/S2B_23KNR_20201114_0_L2A_B04.tif\r\n",
      "2021-09-13 16:17:01  123.4 MiB usmart/RIO/sentinel-s2-l2a-cogs/S2B_23KNR_20201124_0_L2A_B02.tif\r\n",
      "2021-09-13 16:16:52  124.2 MiB usmart/RIO/sentinel-s2-l2a-cogs/S2B_23KNR_20201124_0_L2A_B03.tif\r\n",
      "2021-09-13 16:16:45  125.6 MiB usmart/RIO/sentinel-s2-l2a-cogs/S2B_23KNR_20201124_0_L2A_B04.tif\r\n",
      "2021-09-13 16:17:02  109.5 MiB usmart/RIO/sentinel-s2-l2a-cogs/S2B_23KNR_20201204_0_L2A_B02.tif\r\n",
      "2021-09-13 16:16:53  114.6 MiB usmart/RIO/sentinel-s2-l2a-cogs/S2B_23KNR_20201204_0_L2A_B03.tif\r\n",
      "2021-09-13 16:16:44  117.2 MiB usmart/RIO/sentinel-s2-l2a-cogs/S2B_23KNR_20201204_0_L2A_B04.tif\r\n",
      "2021-09-13 16:17:01  108.9 MiB usmart/RIO/sentinel-s2-l2a-cogs/S2B_23KNR_20201214_0_L2A_B02.tif\r\n",
      "2021-09-13 16:16:53  111.4 MiB usmart/RIO/sentinel-s2-l2a-cogs/S2B_23KNR_20201214_0_L2A_B03.tif\r\n",
      "2021-09-13 16:16:44  113.5 MiB usmart/RIO/sentinel-s2-l2a-cogs/S2B_23KNR_20201214_0_L2A_B04.tif\r\n",
      "2021-09-13 16:16:59   76.8 MiB usmart/RIO/sentinel-s2-l2a-cogs/S2B_23KNR_20201224_0_L2A_B02.tif\r\n",
      "2021-09-13 16:16:51   75.8 MiB usmart/RIO/sentinel-s2-l2a-cogs/S2B_23KNR_20201224_0_L2A_B03.tif\r\n",
      "2021-09-13 16:16:43   76.3 MiB usmart/RIO/sentinel-s2-l2a-cogs/S2B_23KNR_20201224_0_L2A_B04.tif\r\n",
      "2021-09-13 16:21:21  195.8 MiB usmart/RIO/sentinel-s2-l2a-cogs/S2B_23KPR_20200109_0_L2A_B02.tif\r\n",
      "2021-09-13 16:21:13  196.2 MiB usmart/RIO/sentinel-s2-l2a-cogs/S2B_23KPR_20200109_0_L2A_B03.tif\r\n",
      "2021-09-13 16:21:04  196.5 MiB usmart/RIO/sentinel-s2-l2a-cogs/S2B_23KPR_20200109_0_L2A_B04.tif\r\n",
      "2021-09-13 16:21:14  174.3 MiB usmart/RIO/sentinel-s2-l2a-cogs/S2B_23KPR_20200119_0_L2A_B02.tif\r\n",
      "2021-09-13 16:21:05  173.6 MiB usmart/RIO/sentinel-s2-l2a-cogs/S2B_23KPR_20200119_0_L2A_B03.tif\r\n",
      "2021-09-13 16:20:54  174.8 MiB usmart/RIO/sentinel-s2-l2a-cogs/S2B_23KPR_20200119_0_L2A_B04.tif\r\n",
      "2021-09-13 16:21:10  193.3 MiB usmart/RIO/sentinel-s2-l2a-cogs/S2B_23KPR_20200129_0_L2A_B02.tif\r\n",
      "2021-09-13 16:21:01  191.5 MiB usmart/RIO/sentinel-s2-l2a-cogs/S2B_23KPR_20200129_0_L2A_B03.tif\r\n",
      "2021-09-13 16:20:51  192.0 MiB usmart/RIO/sentinel-s2-l2a-cogs/S2B_23KPR_20200129_0_L2A_B04.tif\r\n",
      "2021-09-13 16:21:06  217.1 MiB usmart/RIO/sentinel-s2-l2a-cogs/S2B_23KPR_20200208_0_L2A_B02.tif\r\n",
      "2021-09-13 16:20:54  219.9 MiB usmart/RIO/sentinel-s2-l2a-cogs/S2B_23KPR_20200208_0_L2A_B03.tif\r\n",
      "2021-09-13 16:20:42  219.2 MiB usmart/RIO/sentinel-s2-l2a-cogs/S2B_23KPR_20200208_0_L2A_B04.tif\r\n",
      "2021-09-13 16:20:58  213.7 MiB usmart/RIO/sentinel-s2-l2a-cogs/S2B_23KPR_20200218_0_L2A_B02.tif\r\n",
      "2021-09-13 16:20:47  217.4 MiB usmart/RIO/sentinel-s2-l2a-cogs/S2B_23KPR_20200218_0_L2A_B03.tif\r\n",
      "2021-09-13 16:20:36  216.5 MiB usmart/RIO/sentinel-s2-l2a-cogs/S2B_23KPR_20200218_0_L2A_B04.tif\r\n",
      "2021-09-13 16:20:45  148.1 MiB usmart/RIO/sentinel-s2-l2a-cogs/S2B_23KPR_20200228_0_L2A_B02.tif\r\n",
      "2021-09-13 16:20:36  145.2 MiB usmart/RIO/sentinel-s2-l2a-cogs/S2B_23KPR_20200228_0_L2A_B03.tif\r\n",
      "2021-09-13 16:20:26  144.6 MiB usmart/RIO/sentinel-s2-l2a-cogs/S2B_23KPR_20200228_0_L2A_B04.tif\r\n",
      "2021-09-13 16:20:43  220.4 MiB usmart/RIO/sentinel-s2-l2a-cogs/S2B_23KPR_20200309_0_L2A_B02.tif\r\n",
      "2021-09-13 16:20:31  222.8 MiB usmart/RIO/sentinel-s2-l2a-cogs/S2B_23KPR_20200309_0_L2A_B03.tif\r\n",
      "2021-09-13 16:20:20  222.7 MiB usmart/RIO/sentinel-s2-l2a-cogs/S2B_23KPR_20200309_0_L2A_B04.tif\r\n",
      "2021-09-13 16:20:34  211.4 MiB usmart/RIO/sentinel-s2-l2a-cogs/S2B_23KPR_20200319_0_L2A_B02.tif\r\n",
      "2021-09-13 16:20:21  211.3 MiB usmart/RIO/sentinel-s2-l2a-cogs/S2B_23KPR_20200319_0_L2A_B03.tif\r\n",
      "2021-09-13 16:20:10  211.5 MiB usmart/RIO/sentinel-s2-l2a-cogs/S2B_23KPR_20200319_0_L2A_B04.tif\r\n",
      "2021-09-13 16:20:25  210.9 MiB usmart/RIO/sentinel-s2-l2a-cogs/S2B_23KPR_20200329_0_L2A_B02.tif\r\n",
      "2021-09-13 16:20:14  216.2 MiB usmart/RIO/sentinel-s2-l2a-cogs/S2B_23KPR_20200329_0_L2A_B03.tif\r\n",
      "2021-09-13 16:20:03  215.6 MiB usmart/RIO/sentinel-s2-l2a-cogs/S2B_23KPR_20200329_0_L2A_B04.tif\r\n",
      "2021-09-13 16:20:17  171.0 MiB usmart/RIO/sentinel-s2-l2a-cogs/S2B_23KPR_20200408_0_L2A_B02.tif\r\n",
      "2021-09-13 16:20:07  170.3 MiB usmart/RIO/sentinel-s2-l2a-cogs/S2B_23KPR_20200408_0_L2A_B03.tif\r\n",
      "2021-09-13 16:19:58  170.4 MiB usmart/RIO/sentinel-s2-l2a-cogs/S2B_23KPR_20200408_0_L2A_B04.tif\r\n",
      "2021-09-13 16:20:12  213.2 MiB usmart/RIO/sentinel-s2-l2a-cogs/S2B_23KPR_20200418_0_L2A_B02.tif\r\n",
      "2021-09-13 16:20:00  214.0 MiB usmart/RIO/sentinel-s2-l2a-cogs/S2B_23KPR_20200418_0_L2A_B03.tif\r\n",
      "2021-09-13 16:19:48  214.3 MiB usmart/RIO/sentinel-s2-l2a-cogs/S2B_23KPR_20200418_0_L2A_B04.tif\r\n",
      "2021-09-13 16:19:59  201.4 MiB usmart/RIO/sentinel-s2-l2a-cogs/S2B_23KPR_20200428_0_L2A_B02.tif\r\n",
      "2021-09-13 16:19:49  211.2 MiB usmart/RIO/sentinel-s2-l2a-cogs/S2B_23KPR_20200428_0_L2A_B03.tif\r\n",
      "2021-09-13 16:19:38  211.0 MiB usmart/RIO/sentinel-s2-l2a-cogs/S2B_23KPR_20200428_0_L2A_B04.tif\r\n",
      "2021-09-13 16:19:55  209.8 MiB usmart/RIO/sentinel-s2-l2a-cogs/S2B_23KPR_20200508_0_L2A_B02.tif\r\n",
      "2021-09-13 16:19:44  216.2 MiB usmart/RIO/sentinel-s2-l2a-cogs/S2B_23KPR_20200508_0_L2A_B03.tif\r\n",
      "2021-09-13 16:19:31  215.6 MiB usmart/RIO/sentinel-s2-l2a-cogs/S2B_23KPR_20200508_0_L2A_B04.tif\r\n",
      "2021-09-13 16:19:47  214.6 MiB usmart/RIO/sentinel-s2-l2a-cogs/S2B_23KPR_20200518_0_L2A_B02.tif\r\n",
      "2021-09-13 16:19:35  218.7 MiB usmart/RIO/sentinel-s2-l2a-cogs/S2B_23KPR_20200518_0_L2A_B03.tif\r\n",
      "2021-09-13 16:19:22  218.2 MiB usmart/RIO/sentinel-s2-l2a-cogs/S2B_23KPR_20200518_0_L2A_B04.tif\r\n",
      "2021-09-13 16:19:36  209.0 MiB usmart/RIO/sentinel-s2-l2a-cogs/S2B_23KPR_20200528_0_L2A_B02.tif\r\n",
      "2021-09-13 16:19:25  215.6 MiB usmart/RIO/sentinel-s2-l2a-cogs/S2B_23KPR_20200528_0_L2A_B03.tif\r\n",
      "2021-09-13 16:19:13  215.9 MiB usmart/RIO/sentinel-s2-l2a-cogs/S2B_23KPR_20200528_0_L2A_B04.tif\r\n",
      "2021-09-13 16:19:24  142.6 MiB usmart/RIO/sentinel-s2-l2a-cogs/S2B_23KPR_20200607_0_L2A_B02.tif\r\n",
      "2021-09-13 16:19:15  138.6 MiB usmart/RIO/sentinel-s2-l2a-cogs/S2B_23KPR_20200607_0_L2A_B03.tif\r\n",
      "2021-09-13 16:19:06  137.0 MiB usmart/RIO/sentinel-s2-l2a-cogs/S2B_23KPR_20200607_0_L2A_B04.tif\r\n",
      "2021-09-13 16:19:24  206.9 MiB usmart/RIO/sentinel-s2-l2a-cogs/S2B_23KPR_20200617_0_L2A_B02.tif\r\n",
      "2021-09-13 16:19:12  206.9 MiB usmart/RIO/sentinel-s2-l2a-cogs/S2B_23KPR_20200617_0_L2A_B03.tif\r\n",
      "2021-09-13 16:19:00  206.9 MiB usmart/RIO/sentinel-s2-l2a-cogs/S2B_23KPR_20200617_0_L2A_B04.tif\r\n",
      "2021-09-13 16:19:15  202.0 MiB usmart/RIO/sentinel-s2-l2a-cogs/S2B_23KPR_20200627_0_L2A_B02.tif\r\n"
     ]
    },
    {
     "name": "stdout",
     "output_type": "stream",
     "text": [
      "2021-09-13 16:19:04  210.0 MiB usmart/RIO/sentinel-s2-l2a-cogs/S2B_23KPR_20200627_0_L2A_B03.tif\r\n",
      "2021-09-13 16:18:53  212.3 MiB usmart/RIO/sentinel-s2-l2a-cogs/S2B_23KPR_20200627_0_L2A_B04.tif\r\n",
      "2021-09-13 16:19:06  198.5 MiB usmart/RIO/sentinel-s2-l2a-cogs/S2B_23KPR_20200707_0_L2A_B02.tif\r\n",
      "2021-09-13 16:18:54  210.0 MiB usmart/RIO/sentinel-s2-l2a-cogs/S2B_23KPR_20200707_0_L2A_B03.tif\r\n",
      "2021-09-13 16:18:44  213.2 MiB usmart/RIO/sentinel-s2-l2a-cogs/S2B_23KPR_20200707_0_L2A_B04.tif\r\n",
      "2021-09-13 16:19:00  208.9 MiB usmart/RIO/sentinel-s2-l2a-cogs/S2B_23KPR_20200717_0_L2A_B02.tif\r\n",
      "2021-09-13 16:18:48  215.0 MiB usmart/RIO/sentinel-s2-l2a-cogs/S2B_23KPR_20200717_0_L2A_B03.tif\r\n",
      "2021-09-13 16:18:36  216.4 MiB usmart/RIO/sentinel-s2-l2a-cogs/S2B_23KPR_20200717_0_L2A_B04.tif\r\n",
      "2021-09-13 16:18:54  214.3 MiB usmart/RIO/sentinel-s2-l2a-cogs/S2B_23KPR_20200727_0_L2A_B02.tif\r\n",
      "2021-09-13 16:18:41  217.9 MiB usmart/RIO/sentinel-s2-l2a-cogs/S2B_23KPR_20200727_0_L2A_B03.tif\r\n",
      "2021-09-13 16:18:29  218.6 MiB usmart/RIO/sentinel-s2-l2a-cogs/S2B_23KPR_20200727_0_L2A_B04.tif\r\n",
      "2021-09-13 16:18:47  207.9 MiB usmart/RIO/sentinel-s2-l2a-cogs/S2B_23KPR_20200806_0_L2A_B02.tif\r\n",
      "2021-09-13 16:18:35  212.7 MiB usmart/RIO/sentinel-s2-l2a-cogs/S2B_23KPR_20200806_0_L2A_B03.tif\r\n",
      "2021-09-13 16:18:23  213.9 MiB usmart/RIO/sentinel-s2-l2a-cogs/S2B_23KPR_20200806_0_L2A_B04.tif\r\n",
      "2021-09-13 16:18:34  181.6 MiB usmart/RIO/sentinel-s2-l2a-cogs/S2B_23KPR_20200816_0_L2A_B02.tif\r\n",
      "2021-09-13 16:18:24  183.1 MiB usmart/RIO/sentinel-s2-l2a-cogs/S2B_23KPR_20200816_0_L2A_B03.tif\r\n",
      "2021-09-13 16:18:13  187.3 MiB usmart/RIO/sentinel-s2-l2a-cogs/S2B_23KPR_20200816_0_L2A_B04.tif\r\n",
      "2021-09-13 16:18:28  209.5 MiB usmart/RIO/sentinel-s2-l2a-cogs/S2B_23KPR_20200826_0_L2A_B02.tif\r\n",
      "2021-09-13 16:18:17  212.7 MiB usmart/RIO/sentinel-s2-l2a-cogs/S2B_23KPR_20200826_0_L2A_B03.tif\r\n",
      "2021-09-13 16:18:05  215.4 MiB usmart/RIO/sentinel-s2-l2a-cogs/S2B_23KPR_20200826_0_L2A_B04.tif\r\n",
      "2021-09-13 16:18:21  203.7 MiB usmart/RIO/sentinel-s2-l2a-cogs/S2B_23KPR_20200905_0_L2A_B02.tif\r\n",
      "2021-09-13 16:18:10  211.2 MiB usmart/RIO/sentinel-s2-l2a-cogs/S2B_23KPR_20200905_0_L2A_B03.tif\r\n",
      "2021-09-13 16:17:58  216.9 MiB usmart/RIO/sentinel-s2-l2a-cogs/S2B_23KPR_20200905_0_L2A_B04.tif\r\n",
      "2021-09-13 16:18:12  204.2 MiB usmart/RIO/sentinel-s2-l2a-cogs/S2B_23KPR_20200915_0_L2A_B02.tif\r\n",
      "2021-09-13 16:18:01  205.0 MiB usmart/RIO/sentinel-s2-l2a-cogs/S2B_23KPR_20200915_0_L2A_B03.tif\r\n",
      "2021-09-13 16:17:50  207.3 MiB usmart/RIO/sentinel-s2-l2a-cogs/S2B_23KPR_20200915_0_L2A_B04.tif\r\n",
      "2021-09-13 16:18:05  212.2 MiB usmart/RIO/sentinel-s2-l2a-cogs/S2B_23KPR_20200925_0_L2A_B02.tif\r\n",
      "2021-09-13 16:17:54  216.0 MiB usmart/RIO/sentinel-s2-l2a-cogs/S2B_23KPR_20200925_0_L2A_B03.tif\r\n",
      "2021-09-13 16:17:42  217.9 MiB usmart/RIO/sentinel-s2-l2a-cogs/S2B_23KPR_20200925_0_L2A_B04.tif\r\n",
      "2021-09-13 16:17:58  173.9 MiB usmart/RIO/sentinel-s2-l2a-cogs/S2B_23KPR_20201005_0_L2A_B02.tif\r\n",
      "2021-09-13 16:17:48  174.6 MiB usmart/RIO/sentinel-s2-l2a-cogs/S2B_23KPR_20201005_0_L2A_B03.tif\r\n",
      "2021-09-13 16:17:37  176.9 MiB usmart/RIO/sentinel-s2-l2a-cogs/S2B_23KPR_20201005_0_L2A_B04.tif\r\n",
      "2021-09-13 16:17:50  159.9 MiB usmart/RIO/sentinel-s2-l2a-cogs/S2B_23KPR_20201015_0_L2A_B02.tif\r\n",
      "2021-09-13 16:17:40  160.6 MiB usmart/RIO/sentinel-s2-l2a-cogs/S2B_23KPR_20201015_0_L2A_B03.tif\r\n",
      "2021-09-13 16:17:31  163.1 MiB usmart/RIO/sentinel-s2-l2a-cogs/S2B_23KPR_20201015_0_L2A_B04.tif\r\n",
      "2021-09-13 16:17:43  188.4 MiB usmart/RIO/sentinel-s2-l2a-cogs/S2B_23KPR_20201025_0_L2A_B02.tif\r\n",
      "2021-09-13 16:17:28  186.8 MiB usmart/RIO/sentinel-s2-l2a-cogs/S2B_23KPR_20201025_0_L2A_B03.tif\r\n",
      "2021-09-13 16:17:17  187.6 MiB usmart/RIO/sentinel-s2-l2a-cogs/S2B_23KPR_20201025_0_L2A_B04.tif\r\n",
      "2021-09-13 16:17:31  197.5 MiB usmart/RIO/sentinel-s2-l2a-cogs/S2B_23KPR_20201104_0_L2A_B02.tif\r\n",
      "2021-09-13 16:17:20  197.5 MiB usmart/RIO/sentinel-s2-l2a-cogs/S2B_23KPR_20201104_0_L2A_B03.tif\r\n",
      "2021-09-13 16:17:10  198.7 MiB usmart/RIO/sentinel-s2-l2a-cogs/S2B_23KPR_20201104_0_L2A_B04.tif\r\n",
      "2021-09-13 16:17:30  184.4 MiB usmart/RIO/sentinel-s2-l2a-cogs/S2B_23KPR_20201114_0_L2A_B02.tif\r\n",
      "2021-09-13 16:17:19  182.8 MiB usmart/RIO/sentinel-s2-l2a-cogs/S2B_23KPR_20201114_0_L2A_B03.tif\r\n",
      "2021-09-13 16:17:10  184.4 MiB usmart/RIO/sentinel-s2-l2a-cogs/S2B_23KPR_20201114_0_L2A_B04.tif\r\n",
      "2021-09-13 16:17:32  218.4 MiB usmart/RIO/sentinel-s2-l2a-cogs/S2B_23KPR_20201124_0_L2A_B02.tif\r\n",
      "2021-09-13 16:17:19  220.2 MiB usmart/RIO/sentinel-s2-l2a-cogs/S2B_23KPR_20201124_0_L2A_B03.tif\r\n",
      "2021-09-13 16:17:06  222.3 MiB usmart/RIO/sentinel-s2-l2a-cogs/S2B_23KPR_20201124_0_L2A_B04.tif\r\n",
      "2021-09-13 16:17:05  194.6 MiB usmart/RIO/sentinel-s2-l2a-cogs/S2B_23KPR_20201204_0_L2A_B02.tif\r\n",
      "2021-09-13 16:16:56  200.6 MiB usmart/RIO/sentinel-s2-l2a-cogs/S2B_23KPR_20201204_0_L2A_B03.tif\r\n",
      "2021-09-13 16:16:44  204.3 MiB usmart/RIO/sentinel-s2-l2a-cogs/S2B_23KPR_20201204_0_L2A_B04.tif\r\n",
      "2021-09-13 16:17:06  189.2 MiB usmart/RIO/sentinel-s2-l2a-cogs/S2B_23KPR_20201214_0_L2A_B02.tif\r\n",
      "2021-09-13 16:16:53  201.3 MiB usmart/RIO/sentinel-s2-l2a-cogs/S2B_23KPR_20201214_0_L2A_B03.tif\r\n",
      "2021-09-13 16:16:44  203.8 MiB usmart/RIO/sentinel-s2-l2a-cogs/S2B_23KPR_20201214_0_L2A_B04.tif\r\n",
      "2021-09-13 16:17:02  134.8 MiB usmart/RIO/sentinel-s2-l2a-cogs/S2B_23KPR_20201224_0_L2A_B02.tif\r\n",
      "2021-09-13 16:16:53  132.0 MiB usmart/RIO/sentinel-s2-l2a-cogs/S2B_23KPR_20201224_0_L2A_B03.tif\r\n",
      "2021-09-13 16:16:44  131.4 MiB usmart/RIO/sentinel-s2-l2a-cogs/S2B_23KPR_20201224_0_L2A_B04.tif\r\n",
      "\r\n",
      "Total Objects: 438\r\n",
      "   Total Size: 65.1 GiB\r\n"
     ]
    }
   ],
   "source": [
    "! aws s3 ls dev-et-data/usmart --recur --sum --human"
   ]
  },
  {
   "cell_type": "code",
   "execution_count": 38,
   "id": "85ba3ac3",
   "metadata": {},
   "outputs": [
    {
     "name": "stdout",
     "output_type": "stream",
     "text": [
      "Mon Sep 13 16:24:26 UTC 2021\r\n"
     ]
    }
   ],
   "source": [
    "!date"
   ]
  },
  {
   "cell_type": "code",
   "execution_count": null,
   "id": "b72f45c1",
   "metadata": {},
   "outputs": [],
   "source": []
  }
 ],
 "metadata": {
  "kernelspec": {
   "display_name": "Python 3 (ipykernel)",
   "language": "python",
   "name": "python3"
  },
  "language_info": {
   "codemirror_mode": {
    "name": "ipython",
    "version": 3
   },
   "file_extension": ".py",
   "mimetype": "text/x-python",
   "name": "python",
   "nbconvert_exporter": "python",
   "pygments_lexer": "ipython3",
   "version": "3.9.7"
  }
 },
 "nbformat": 4,
 "nbformat_minor": 5
}
