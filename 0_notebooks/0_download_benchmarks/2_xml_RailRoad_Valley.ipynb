{
 "cells": [
  {
   "cell_type": "code",
   "execution_count": 1,
   "id": "210b7aa6",
   "metadata": {},
   "outputs": [
    {
     "name": "stdout",
     "output_type": "stream",
     "text": [
      "ls: cannot access *.xml: No such file or directory\r\n"
     ]
    }
   ],
   "source": [
    "! ls *.xml"
   ]
  },
  {
   "cell_type": "code",
   "execution_count": 6,
   "id": "b57ceaa1",
   "metadata": {},
   "outputs": [],
   "source": [
    "from xml.etree import ElementTree\n",
    "file='./RailroadValleyPlayaROI23By23.xml'\n",
    "with open(file, 'r') as content_file:\n",
    "        content = content_file.read()\n",
    "xmlstring = content\n",
    "doc = ElementTree.fromstring(xmlstring)"
   ]
  },
  {
   "cell_type": "code",
   "execution_count": 8,
   "id": "689120b4",
   "metadata": {},
   "outputs": [
    {
     "data": {
      "text/plain": [
       "['__class__',\n",
       " '__copy__',\n",
       " '__deepcopy__',\n",
       " '__delattr__',\n",
       " '__delitem__',\n",
       " '__dir__',\n",
       " '__doc__',\n",
       " '__eq__',\n",
       " '__format__',\n",
       " '__ge__',\n",
       " '__getattribute__',\n",
       " '__getitem__',\n",
       " '__getstate__',\n",
       " '__gt__',\n",
       " '__hash__',\n",
       " '__init__',\n",
       " '__init_subclass__',\n",
       " '__le__',\n",
       " '__len__',\n",
       " '__lt__',\n",
       " '__ne__',\n",
       " '__new__',\n",
       " '__reduce__',\n",
       " '__reduce_ex__',\n",
       " '__repr__',\n",
       " '__setattr__',\n",
       " '__setitem__',\n",
       " '__setstate__',\n",
       " '__sizeof__',\n",
       " '__str__',\n",
       " '__subclasshook__',\n",
       " 'append',\n",
       " 'attrib',\n",
       " 'clear',\n",
       " 'extend',\n",
       " 'find',\n",
       " 'findall',\n",
       " 'findtext',\n",
       " 'get',\n",
       " 'insert',\n",
       " 'items',\n",
       " 'iter',\n",
       " 'iterfind',\n",
       " 'itertext',\n",
       " 'keys',\n",
       " 'makeelement',\n",
       " 'remove',\n",
       " 'set',\n",
       " 'tag',\n",
       " 'tail',\n",
       " 'text']"
      ]
     },
     "execution_count": 8,
     "metadata": {},
     "output_type": "execute_result"
    }
   ],
   "source": [
    "dir(doc)"
   ]
  },
  {
   "cell_type": "code",
   "execution_count": 13,
   "id": "7f12790f",
   "metadata": {},
   "outputs": [],
   "source": [
    "a=doc.find('.//color')"
   ]
  },
  {
   "cell_type": "code",
   "execution_count": 14,
   "id": "b6aa503b",
   "metadata": {},
   "outputs": [
    {
     "data": {
      "text/plain": [
       "NoneType"
      ]
     },
     "execution_count": 14,
     "metadata": {},
     "output_type": "execute_result"
    }
   ],
   "source": [
    "type(a)"
   ]
  },
  {
   "cell_type": "code",
   "execution_count": 15,
   "id": "abf35372",
   "metadata": {},
   "outputs": [
    {
     "ename": "ModuleNotFoundError",
     "evalue": "No module named 'xmltodict'",
     "output_type": "error",
     "traceback": [
      "\u001b[0;31m---------------------------------------------------------------------------\u001b[0m",
      "\u001b[0;31mModuleNotFoundError\u001b[0m                       Traceback (most recent call last)",
      "\u001b[0;32m/tmp/ipykernel_5194/110025353.py\u001b[0m in \u001b[0;36m<module>\u001b[0;34m\u001b[0m\n\u001b[0;32m----> 1\u001b[0;31m \u001b[0;32mimport\u001b[0m \u001b[0mxmltodict\u001b[0m\u001b[0;34m\u001b[0m\u001b[0;34m\u001b[0m\u001b[0m\n\u001b[0m",
      "\u001b[0;31mModuleNotFoundError\u001b[0m: No module named 'xmltodict'"
     ]
    }
   ],
   "source": [
    "import xmltodict"
   ]
  },
  {
   "cell_type": "code",
   "execution_count": 16,
   "id": "9cd1609e",
   "metadata": {},
   "outputs": [
    {
     "name": "stdout",
     "output_type": "stream",
     "text": [
      "Collecting package metadata (current_repodata.json): done\n",
      "Solving environment: done\n",
      "\n",
      "## Package Plan ##\n",
      "\n",
      "  environment location: /home/ec2-user/miniconda3/envs/pangeo\n",
      "\n",
      "  added / updated specs:\n",
      "    - xmltodict\n",
      "\n",
      "\n",
      "The following packages will be downloaded:\n",
      "\n",
      "    package                    |            build\n",
      "    ---------------------------|-----------------\n",
      "    xmltodict-0.12.0           |             py_0          11 KB  conda-forge\n",
      "    ------------------------------------------------------------\n",
      "                                           Total:          11 KB\n",
      "\n",
      "The following NEW packages will be INSTALLED:\n",
      "\n",
      "  xmltodict          conda-forge/noarch::xmltodict-0.12.0-py_0\n",
      "\n",
      "\n",
      "\n",
      "Downloading and Extracting Packages\n",
      "xmltodict-0.12.0     | 11 KB     | ##################################### | 100% \n",
      "Preparing transaction: done\n",
      "Verifying transaction: done\n",
      "Executing transaction: done\n"
     ]
    }
   ],
   "source": [
    "#!conda install -y xmltodict"
   ]
  },
  {
   "cell_type": "code",
   "execution_count": 18,
   "id": "57ede782",
   "metadata": {},
   "outputs": [
    {
     "ename": "KeyError",
     "evalue": "'Region'",
     "output_type": "error",
     "traceback": [
      "\u001b[0;31m---------------------------------------------------------------------------\u001b[0m",
      "\u001b[0;31mKeyError\u001b[0m                                  Traceback (most recent call last)",
      "\u001b[0;32m/tmp/ipykernel_5194/1571008164.py\u001b[0m in \u001b[0;36m<module>\u001b[0;34m\u001b[0m\n\u001b[1;32m      5\u001b[0m         \u001b[0mcontent\u001b[0m \u001b[0;34m=\u001b[0m \u001b[0mcontent_file\u001b[0m\u001b[0;34m.\u001b[0m\u001b[0mread\u001b[0m\u001b[0;34m(\u001b[0m\u001b[0;34m)\u001b[0m\u001b[0;34m\u001b[0m\u001b[0;34m\u001b[0m\u001b[0m\n\u001b[1;32m      6\u001b[0m \u001b[0mxmlstring\u001b[0m \u001b[0;34m=\u001b[0m \u001b[0mcontent\u001b[0m\u001b[0;34m\u001b[0m\u001b[0;34m\u001b[0m\u001b[0m\n\u001b[0;32m----> 7\u001b[0;31m \u001b[0mregion\u001b[0m \u001b[0;34m=\u001b[0m \u001b[0mxmltodict\u001b[0m\u001b[0;34m.\u001b[0m\u001b[0mparse\u001b[0m\u001b[0;34m(\u001b[0m\u001b[0mxmlstring\u001b[0m\u001b[0;34m)\u001b[0m\u001b[0;34m[\u001b[0m\u001b[0;34m'Region'\u001b[0m\u001b[0;34m]\u001b[0m\u001b[0;34m\u001b[0m\u001b[0;34m\u001b[0m\u001b[0m\n\u001b[0m",
      "\u001b[0;31mKeyError\u001b[0m: 'Region'"
     ]
    }
   ],
   "source": [
    "import xmltodict\n",
    "from xml.etree import ElementTree\n",
    "file='./RailroadValleyPlayaROI23By23.xml'\n",
    "with open(file, 'r') as content_file:\n",
    "        content = content_file.read()\n",
    "xmlstring = content\n",
    "region = xmltodict.parse(xmlstring)['Region']"
   ]
  },
  {
   "cell_type": "code",
   "execution_count": 19,
   "id": "c1e4c093",
   "metadata": {},
   "outputs": [],
   "source": [
    "all_this = xmltodict.parse(xmlstring)"
   ]
  },
  {
   "cell_type": "code",
   "execution_count": 20,
   "id": "19409f27",
   "metadata": {},
   "outputs": [
    {
     "data": {
      "text/plain": [
       "OrderedDict([('RegionsOfInterest',\n",
       "              OrderedDict([('@version', '1.1'),\n",
       "                           ('Region',\n",
       "                            OrderedDict([('@name', 'RailroadValleyPlayaROI'),\n",
       "                                         ('@color', '255,0,0'),\n",
       "                                         ('GeometryDef',\n",
       "                                          OrderedDict([('CoordSysStr',\n",
       "                                                        'PROJCS[\"WGS_1984_UTM_Zone_11N\",GEOGCS[\"GCS_WGS_1984\",DATUM[\"D_WGS_1984\",SPHEROID[\"WGS_1984\",6378137.0,298.257223563]],PRIMEM[\"Greenwich\",0.0],UNIT[\"Degree\",0.0174532925199433]],PROJECTION[\"Transverse_Mercator\"],PARAMETER[\"False_Easting\",500000.0],PARAMETER[\"False_Northing\",0.0],PARAMETER[\"Central_Meridian\",-117.0],PARAMETER[\"Scale_Factor\",0.9996],PARAMETER[\"Latitude_Of_Origin\",0.0],UNIT[\"Meter\",1.0]]'),\n",
       "                                                       ('Polygon',\n",
       "                                                        OrderedDict([('Exterior',\n",
       "                                                                      OrderedDict([('LinearRing',\n",
       "                                                                                    OrderedDict([('Coordinates',\n",
       "                                                                                                  '613898.57752926 4262111.24700582 614570.78960726 4262111.24700582 614570.78960726 4261426.9067514 613898.57752926 4261426.9067514 613898.57752926 4262111.24700582')]))]))]))]))]))]))])"
      ]
     },
     "execution_count": 20,
     "metadata": {},
     "output_type": "execute_result"
    }
   ],
   "source": [
    "all_this"
   ]
  },
  {
   "cell_type": "code",
   "execution_count": 33,
   "id": "b499b872",
   "metadata": {},
   "outputs": [],
   "source": [
    "color = all_this['RegionsOfInterest']['Region']['@color']"
   ]
  },
  {
   "cell_type": "code",
   "execution_count": 25,
   "id": "ba76fc72",
   "metadata": {},
   "outputs": [
    {
     "data": {
      "text/plain": [
       "OrderedDict([('CoordSysStr',\n",
       "              'PROJCS[\"WGS_1984_UTM_Zone_11N\",GEOGCS[\"GCS_WGS_1984\",DATUM[\"D_WGS_1984\",SPHEROID[\"WGS_1984\",6378137.0,298.257223563]],PRIMEM[\"Greenwich\",0.0],UNIT[\"Degree\",0.0174532925199433]],PROJECTION[\"Transverse_Mercator\"],PARAMETER[\"False_Easting\",500000.0],PARAMETER[\"False_Northing\",0.0],PARAMETER[\"Central_Meridian\",-117.0],PARAMETER[\"Scale_Factor\",0.9996],PARAMETER[\"Latitude_Of_Origin\",0.0],UNIT[\"Meter\",1.0]]'),\n",
       "             ('Polygon',\n",
       "              OrderedDict([('Exterior',\n",
       "                            OrderedDict([('LinearRing',\n",
       "                                          OrderedDict([('Coordinates',\n",
       "                                                        '613898.57752926 4262111.24700582 614570.78960726 4262111.24700582 614570.78960726 4261426.9067514 613898.57752926 4261426.9067514 613898.57752926 4262111.24700582')]))]))]))])"
      ]
     },
     "execution_count": 25,
     "metadata": {},
     "output_type": "execute_result"
    }
   ],
   "source": [
    "all_this['RegionsOfInterest']['Region']['GeometryDef']"
   ]
  },
  {
   "cell_type": "code",
   "execution_count": 32,
   "id": "8ea471bd",
   "metadata": {},
   "outputs": [],
   "source": [
    "proj_string = all_this['RegionsOfInterest']['Region']['GeometryDef']['CoordSysStr']"
   ]
  },
  {
   "cell_type": "code",
   "execution_count": 40,
   "id": "c96eeb5c",
   "metadata": {},
   "outputs": [],
   "source": [
    "utm_string = all_this['RegionsOfInterest']['Region']['GeometryDef']['Polygon']['Exterior']['LinearRing']['Coordinates']"
   ]
  },
  {
   "cell_type": "code",
   "execution_count": 41,
   "id": "94854e23",
   "metadata": {},
   "outputs": [],
   "source": [
    "import pandas as pd\n",
    "#df = pd.DataFrame({'color':color, 'proj':proj_string})"
   ]
  },
  {
   "cell_type": "code",
   "execution_count": 42,
   "id": "537ac0b0",
   "metadata": {},
   "outputs": [],
   "source": [
    "epsg = 32611"
   ]
  },
  {
   "cell_type": "code",
   "execution_count": 75,
   "id": "1e0e2388",
   "metadata": {},
   "outputs": [],
   "source": [
    "def make_utm_array(utm_string):\n",
    "    coord_ary = []\n",
    "    print(utm_string)\n",
    "    c_ary = utm_string.split(' ')\n",
    "    print(c_ary)\n",
    "    my_end = int(len(c_ary))\n",
    "    for i in range(0,my_end,2):\n",
    "        print(i)\n",
    "        coord = (c_ary[i], c_ary[i+1])\n",
    "        print(coord)\n",
    "        coord_ary.append(coord)\n",
    "    return coord_ary"
   ]
  },
  {
   "cell_type": "code",
   "execution_count": 76,
   "id": "8439e054",
   "metadata": {},
   "outputs": [
    {
     "name": "stdout",
     "output_type": "stream",
     "text": [
      "613898.57752926 4262111.24700582 614570.78960726 4262111.24700582 614570.78960726 4261426.9067514 613898.57752926 4261426.9067514 613898.57752926 4262111.24700582\n",
      "['613898.57752926', '4262111.24700582', '614570.78960726', '4262111.24700582', '614570.78960726', '4261426.9067514', '613898.57752926', '4261426.9067514', '613898.57752926', '4262111.24700582']\n",
      "0\n",
      "('613898.57752926', '4262111.24700582')\n",
      "2\n",
      "('614570.78960726', '4262111.24700582')\n",
      "4\n",
      "('614570.78960726', '4261426.9067514')\n",
      "6\n",
      "('613898.57752926', '4261426.9067514')\n",
      "8\n",
      "('613898.57752926', '4262111.24700582')\n"
     ]
    }
   ],
   "source": [
    "c_utm_ary = make_utm_array(utm_string)"
   ]
  },
  {
   "cell_type": "code",
   "execution_count": 77,
   "id": "8fecab72",
   "metadata": {},
   "outputs": [
    {
     "data": {
      "text/plain": [
       "[('613898.57752926', '4262111.24700582'),\n",
       " ('614570.78960726', '4262111.24700582'),\n",
       " ('614570.78960726', '4261426.9067514'),\n",
       " ('613898.57752926', '4261426.9067514'),\n",
       " ('613898.57752926', '4262111.24700582')]"
      ]
     },
     "execution_count": 77,
     "metadata": {},
     "output_type": "execute_result"
    }
   ],
   "source": [
    "c_utm_ary"
   ]
  },
  {
   "cell_type": "code",
   "execution_count": 81,
   "id": "3c845157",
   "metadata": {},
   "outputs": [],
   "source": [
    "\n",
    "\n",
    "from pyproj import Proj\n",
    "from pyproj import CRS\n",
    "\n"
   ]
  },
  {
   "cell_type": "code",
   "execution_count": 82,
   "id": "5efba517",
   "metadata": {},
   "outputs": [],
   "source": [
    "crs = CRS.from_epsg(epsg)\n",
    "myproj = Proj(crs)"
   ]
  },
  {
   "cell_type": "code",
   "execution_count": 85,
   "id": "ec702d2d",
   "metadata": {},
   "outputs": [],
   "source": [
    "lon, lat = myproj(c_utm_ary[0][0], c_utm_ary[0][1], inverse=True)"
   ]
  },
  {
   "cell_type": "code",
   "execution_count": 86,
   "id": "a789b04f",
   "metadata": {},
   "outputs": [
    {
     "data": {
      "text/plain": [
       "(38.50008596347768, -115.69381596961283)"
      ]
     },
     "execution_count": 86,
     "metadata": {},
     "output_type": "execute_result"
    }
   ],
   "source": [
    "lat,lon"
   ]
  },
  {
   "cell_type": "code",
   "execution_count": 88,
   "id": "32531605",
   "metadata": {},
   "outputs": [
    {
     "name": "stdout",
     "output_type": "stream",
     "text": [
      "0_simple_wget.ipynb\t     __pycache__\r\n",
      "0_thread_sentinel_get.ipynb  RailroadValleyPlayaROI23By23.xml\r\n",
      "1_rclone_notes.ipynb\t     rclone-current-linux-amd64.zip\r\n",
      "2_xml_RailRoad_Valley.ipynb  rclone-v1.56.0-linux-amd64\r\n",
      "Benchmarks.ipynb\t     region_models\r\n",
      "ltwg.py\t\t\t     rio2.csv\r\n",
      "myrclone.conf\t\t     rio2_region.geojson\r\n"
     ]
    }
   ],
   "source": [
    "!ls"
   ]
  },
  {
   "cell_type": "code",
   "execution_count": 89,
   "id": "d2d8d9b1",
   "metadata": {},
   "outputs": [],
   "source": [
    "aoi_filename = 'rio2_region.geojson'"
   ]
  },
  {
   "cell_type": "code",
   "execution_count": 90,
   "id": "98d8efc5",
   "metadata": {},
   "outputs": [],
   "source": [
    "# read in AOI as a GeoDataFrame\n",
    "import geopandas as gpd\n",
    "aoi = gpd.read_file(aoi_filename)\n",
    "\n",
    "# get the geometry of the AOI as a dictionary for use with PySTAC Client\n",
    "from shapely.geometry import mapping\n",
    "geom = mapping(aoi.to_dict()['geometry'][0])"
   ]
  },
  {
   "cell_type": "code",
   "execution_count": 91,
   "id": "5dda07f8",
   "metadata": {},
   "outputs": [
    {
     "data": {
      "text/plain": [
       "{'type': 'Polygon',\n",
       " 'coordinates': (((-44.03222430085966, -22.56615397310864),\n",
       "   (-44.03142860566592, -22.59454086538527),\n",
       "   (-43.97640917122827, -22.59230967277188),\n",
       "   (-43.97640866912892, -22.56299046757832),\n",
       "   (-44.03222430085966, -22.56615397310864)),)}"
      ]
     },
     "execution_count": 91,
     "metadata": {},
     "output_type": "execute_result"
    }
   ],
   "source": [
    "geom"
   ]
  },
  {
   "cell_type": "code",
   "execution_count": 100,
   "id": "3f46af3a",
   "metadata": {},
   "outputs": [],
   "source": [
    "def convert_to_lon_lat(utm_tuple_ary):\n",
    "    lxly_ary = []\n",
    "    epsg=32611\n",
    "    crs = CRS.from_epsg(epsg)\n",
    "    myproj = Proj(crs)\n",
    "    for tup in utm_tuple_ary:\n",
    "        print(tup)\n",
    "        lon, lat = myproj(tup[0], tup[1], inverse=True)\n",
    "        print(lon,lat)\n",
    "        lxly_ary.append((lon,lat))\n",
    "    return lxly_ary"
   ]
  },
  {
   "cell_type": "code",
   "execution_count": 101,
   "id": "23e55006",
   "metadata": {},
   "outputs": [
    {
     "name": "stdout",
     "output_type": "stream",
     "text": [
      "('613898.57752926', '4262111.24700582')\n",
      "-115.69381596961283 38.50008596347768\n",
      "('614570.78960726', '4262111.24700582')\n",
      "-115.68610894299655 38.49999974362019\n",
      "('614570.78960726', '4261426.9067514')\n",
      "-115.686220950808 38.49383400235322\n",
      "('613898.57752926', '4261426.9067514')\n",
      "-115.69392732086509 38.493920203288866\n",
      "('613898.57752926', '4262111.24700582')\n",
      "-115.69381596961283 38.50008596347768\n"
     ]
    },
    {
     "data": {
      "text/plain": [
       "[(-115.69381596961283, 38.50008596347768),\n",
       " (-115.68610894299655, 38.49999974362019),\n",
       " (-115.686220950808, 38.49383400235322),\n",
       " (-115.69392732086509, 38.493920203288866),\n",
       " (-115.69381596961283, 38.50008596347768)]"
      ]
     },
     "execution_count": 101,
     "metadata": {},
     "output_type": "execute_result"
    }
   ],
   "source": [
    "convert_to_lon_lat(c_utm_ary)"
   ]
  },
  {
   "cell_type": "code",
   "execution_count": 102,
   "id": "f113c1ba",
   "metadata": {},
   "outputs": [
    {
     "name": "stdout",
     "output_type": "stream",
     "text": [
      "('613898.57752926', '4262111.24700582')\n",
      "-115.69381596961283 38.50008596347768\n",
      "('614570.78960726', '4262111.24700582')\n",
      "-115.68610894299655 38.49999974362019\n",
      "('614570.78960726', '4261426.9067514')\n",
      "-115.686220950808 38.49383400235322\n",
      "('613898.57752926', '4261426.9067514')\n",
      "-115.69392732086509 38.493920203288866\n",
      "('613898.57752926', '4262111.24700582')\n",
      "-115.69381596961283 38.50008596347768\n"
     ]
    }
   ],
   "source": [
    "lon_lats = convert_to_lon_lat(c_utm_ary)"
   ]
  },
  {
   "cell_type": "code",
   "execution_count": 103,
   "id": "05beaf41",
   "metadata": {},
   "outputs": [
    {
     "data": {
      "text/plain": [
       "[(-115.69381596961283, 38.50008596347768),\n",
       " (-115.68610894299655, 38.49999974362019),\n",
       " (-115.686220950808, 38.49383400235322),\n",
       " (-115.69392732086509, 38.493920203288866),\n",
       " (-115.69381596961283, 38.50008596347768)]"
      ]
     },
     "execution_count": 103,
     "metadata": {},
     "output_type": "execute_result"
    }
   ],
   "source": [
    "lon_lats"
   ]
  },
  {
   "cell_type": "code",
   "execution_count": 114,
   "id": "55f73d64",
   "metadata": {},
   "outputs": [],
   "source": [
    "polycs=[]\n",
    "polycs.append([lon_lats])"
   ]
  },
  {
   "cell_type": "code",
   "execution_count": 117,
   "id": "51bce5db",
   "metadata": {},
   "outputs": [],
   "source": [
    "import json\n",
    "geos = []\n",
    "for polyc in polycs:\n",
    "    poly = {\n",
    "        'type': 'Feature',\n",
    "        'properties': {},\n",
    "        'geometry': {\n",
    "            'type': 'Polygon',\n",
    "            'coordinates': [polyc[0]]\n",
    "        }\n",
    "    }\n",
    "    geos.append(poly)\n",
    "\n",
    "geometries = {\n",
    "    'type': 'FeatureCollection',\n",
    "    'features': geos,\n",
    "}\n",
    "\n",
    "geo_str = json.dumps(geometries)"
   ]
  },
  {
   "cell_type": "code",
   "execution_count": null,
   "id": "dabc19ca",
   "metadata": {},
   "outputs": [],
   "source": []
  },
  {
   "cell_type": "code",
   "execution_count": 118,
   "id": "7be495ce",
   "metadata": {},
   "outputs": [
    {
     "data": {
      "text/plain": [
       "'{\"type\": \"FeatureCollection\", \"features\": [{\"type\": \"Feature\", \"properties\": {}, \"geometry\": {\"type\": \"Polygon\", \"coordinates\": [[[-115.69381596961283, 38.50008596347768], [-115.68610894299655, 38.49999974362019], [-115.686220950808, 38.49383400235322], [-115.69392732086509, 38.493920203288866], [-115.69381596961283, 38.50008596347768]]]}}]}'"
      ]
     },
     "execution_count": 118,
     "metadata": {},
     "output_type": "execute_result"
    }
   ],
   "source": [
    "geo_str"
   ]
  },
  {
   "cell_type": "code",
   "execution_count": 119,
   "id": "c06b9604",
   "metadata": {},
   "outputs": [
    {
     "name": "stdout",
     "output_type": "stream",
     "text": [
      "{\"type\": \"FeatureCollection\", \"features\": [{\"type\": \"Feature\", \"properties\": {}, \"geometry\": {\"type\": \"Polygon\", \"coordinates\": [[[-115.69381596961283, 38.50008596347768], [-115.68610894299655, 38.49999974362019], [-115.686220950808, 38.49383400235322], [-115.69392732086509, 38.493920203288866], [-115.69381596961283, 38.50008596347768]]]}}]}\n"
     ]
    }
   ],
   "source": [
    "f = open(\"railroad_valley.geojson\", \"w\")\n",
    "f.write(geo_str)\n",
    "f.close()\n",
    "\n",
    "#open and read the file after the appending:\n",
    "f = open(\"railroad_valley.geojson\", \"r\")\n",
    "print(f.read())"
   ]
  },
  {
   "cell_type": "code",
   "execution_count": 120,
   "id": "0a4c75de",
   "metadata": {},
   "outputs": [
    {
     "name": "stdout",
     "output_type": "stream",
     "text": [
      "railroad_valley.geojson  rio2_region.geojson\r\n"
     ]
    }
   ],
   "source": [
    "!ls *.geojson"
   ]
  },
  {
   "cell_type": "code",
   "execution_count": 123,
   "id": "8ab69d48",
   "metadata": {},
   "outputs": [],
   "source": [
    "import folium\n",
    "import geopandas as gpd\n",
    "tiles=\" http://mt1.google.com/vt/lyrs=y&z={z}&x={x}&y={y}\"\n",
    "attr=\"Google\"\n",
    "\n",
    "\n",
    "class Fmap():\n",
    "\n",
    "\tdef __init__(self,color='blue'):\n",
    "                print(\"creating Fmap class\")\n",
    "                self.color = color\n",
    "\n",
    "\tdef sat_geojson(self, geojson_bb_file):\n",
    "                \n",
    "                my_geo = gpd.read_file(geojson_bb_file)\n",
    "                center=my_geo.geometry[0].bounds[1], my_geo.geometry[0].bounds[0]\n",
    "                sw = center\n",
    "                ne = my_geo.geometry[0].bounds[3], my_geo.geometry[0].bounds[2]\n",
    "                map3 = folium.Map(location=center, zoom_start=12,center=center,tiles=tiles,attr=attr)\n",
    "                map3.fit_bounds([sw,ne])\n",
    "                my_geo_json = my_geo.to_json()\n",
    "                style_function= lambda x:{'color':self.color}\n",
    "                folium.GeoJson(my_geo_json,style_function).add_to(map3)\n",
    "                map3.add_child(folium.features.LatLngPopup())\n",
    "                #map3\n",
    "                return(map3)\n",
    "\n",
    "\tdef map_geojson(self, geojson_bb_file):\n",
    "                my_geo = gpd.read_file(geojson_bb_file)\n",
    "                center=my_geo.geometry[0].bounds[1], my_geo.geometry[0].bounds[0]\n",
    "                sw = center\n",
    "                ne = my_geo.geometry[0].bounds[3], my_geo.geometry[0].bounds[2]\n",
    "                map3 = folium.Map(location=center, zoom_start=12,center=center)\n",
    "                map3.fit_bounds([sw,ne])\n",
    "                my_geo_json = my_geo.to_json()\n",
    "                style_function= lambda x:{'color':self.color}\n",
    "                folium.GeoJson(my_geo_json,style_function).add_to(map3)\n",
    "                map3.add_child(folium.features.LatLngPopup())\n",
    "                #map3\n",
    "                return(map3)\n",
    "\n",
    "\tdef add_geojson(self, geojson_bb_file, map3, color='pink'):\n",
    "                my_geo = gpd.read_file(geojson_bb_file)\n",
    "                center=my_geo.geometry[0].bounds[1], my_geo.geometry[0].bounds[0]\n",
    "                sw = center\n",
    "                ne = my_geo.geometry[0].bounds[3], my_geo.geometry[0].bounds[2]\n",
    "                #map3 = folium.Map(location=center, zoom_start=12,center=center)\n",
    "                #map3.fit_bounds([sw,ne])\n",
    "                my_geo_json = my_geo.to_json()\n",
    "                style_function= lambda x:{'color':color}\n",
    "                folium.GeoJson(my_geo_json,style_function).add_to(map3)\n",
    "                return(map3)\n",
    "\n",
    "\tdef ne_geojson(self, geojson_bb_file):\n",
    "                my_geo = gpd.read_file(geojson_bb_file)\n",
    "                center=my_geo.geometry[0].bounds[1], my_geo.geometry[0].bounds[0]\n",
    "                sw = center\n",
    "                ne = my_geo.geometry[0].bounds[3], my_geo.geometry[0].bounds[2]\n",
    "                return(ne)\n"
   ]
  },
  {
   "cell_type": "code",
   "execution_count": 122,
   "id": "834d77de",
   "metadata": {},
   "outputs": [
    {
     "name": "stdout",
     "output_type": "stream",
     "text": [
      "Collecting package metadata (current_repodata.json): done\n",
      "Solving environment: done\n",
      "\n",
      "## Package Plan ##\n",
      "\n",
      "  environment location: /home/ec2-user/miniconda3/envs/pangeo\n",
      "\n",
      "  added / updated specs:\n",
      "    - folium\n",
      "\n",
      "\n",
      "The following packages will be downloaded:\n",
      "\n",
      "    package                    |            build\n",
      "    ---------------------------|-----------------\n",
      "    branca-0.4.2               |     pyhd8ed1ab_0          26 KB  conda-forge\n",
      "    folium-0.12.0              |     pyhd8ed1ab_1          64 KB  conda-forge\n",
      "    ------------------------------------------------------------\n",
      "                                           Total:          90 KB\n",
      "\n",
      "The following NEW packages will be INSTALLED:\n",
      "\n",
      "  branca             conda-forge/noarch::branca-0.4.2-pyhd8ed1ab_0\n",
      "  folium             conda-forge/noarch::folium-0.12.0-pyhd8ed1ab_1\n",
      "\n",
      "\n",
      "\n",
      "Downloading and Extracting Packages\n",
      "folium-0.12.0        | 64 KB     | ##################################### | 100% \n",
      "branca-0.4.2         | 26 KB     | ##################################### | 100% \n",
      "Preparing transaction: done\n",
      "Verifying transaction: done\n",
      "Executing transaction: done\n"
     ]
    }
   ],
   "source": [
    "#! conda install -y folium"
   ]
  },
  {
   "cell_type": "code",
   "execution_count": 124,
   "id": "236ee3bd",
   "metadata": {},
   "outputs": [
    {
     "name": "stdout",
     "output_type": "stream",
     "text": [
      "creating Fmap class\n"
     ]
    }
   ],
   "source": [
    "fm = Fmap()"
   ]
  },
  {
   "cell_type": "code",
   "execution_count": 125,
   "id": "9b9270a0",
   "metadata": {},
   "outputs": [
    {
     "data": {
      "text/html": [
       "<div style=\"width:100%;\"><div style=\"position:relative;width:100%;height:0;padding-bottom:60%;\"><span style=\"color:#565656\">Make this Notebook Trusted to load map: File -> Trust Notebook</span><iframe src=\"about:blank\" style=\"position:absolute;width:100%;height:100%;left:0;top:0;border:none !important;\" data-html=%3C%21DOCTYPE%20html%3E%0A%3Chead%3E%20%20%20%20%0A%20%20%20%20%3Cmeta%20http-equiv%3D%22content-type%22%20content%3D%22text/html%3B%20charset%3DUTF-8%22%20/%3E%0A%20%20%20%20%0A%20%20%20%20%20%20%20%20%3Cscript%3E%0A%20%20%20%20%20%20%20%20%20%20%20%20L_NO_TOUCH%20%3D%20false%3B%0A%20%20%20%20%20%20%20%20%20%20%20%20L_DISABLE_3D%20%3D%20false%3B%0A%20%20%20%20%20%20%20%20%3C/script%3E%0A%20%20%20%20%0A%20%20%20%20%3Cstyle%3Ehtml%2C%20body%20%7Bwidth%3A%20100%25%3Bheight%3A%20100%25%3Bmargin%3A%200%3Bpadding%3A%200%3B%7D%3C/style%3E%0A%20%20%20%20%3Cstyle%3E%23map%20%7Bposition%3Aabsolute%3Btop%3A0%3Bbottom%3A0%3Bright%3A0%3Bleft%3A0%3B%7D%3C/style%3E%0A%20%20%20%20%3Cscript%20src%3D%22https%3A//cdn.jsdelivr.net/npm/leaflet%401.6.0/dist/leaflet.js%22%3E%3C/script%3E%0A%20%20%20%20%3Cscript%20src%3D%22https%3A//code.jquery.com/jquery-1.12.4.min.js%22%3E%3C/script%3E%0A%20%20%20%20%3Cscript%20src%3D%22https%3A//maxcdn.bootstrapcdn.com/bootstrap/3.2.0/js/bootstrap.min.js%22%3E%3C/script%3E%0A%20%20%20%20%3Cscript%20src%3D%22https%3A//cdnjs.cloudflare.com/ajax/libs/Leaflet.awesome-markers/2.0.2/leaflet.awesome-markers.js%22%3E%3C/script%3E%0A%20%20%20%20%3Clink%20rel%3D%22stylesheet%22%20href%3D%22https%3A//cdn.jsdelivr.net/npm/leaflet%401.6.0/dist/leaflet.css%22/%3E%0A%20%20%20%20%3Clink%20rel%3D%22stylesheet%22%20href%3D%22https%3A//maxcdn.bootstrapcdn.com/bootstrap/3.2.0/css/bootstrap.min.css%22/%3E%0A%20%20%20%20%3Clink%20rel%3D%22stylesheet%22%20href%3D%22https%3A//maxcdn.bootstrapcdn.com/bootstrap/3.2.0/css/bootstrap-theme.min.css%22/%3E%0A%20%20%20%20%3Clink%20rel%3D%22stylesheet%22%20href%3D%22https%3A//maxcdn.bootstrapcdn.com/font-awesome/4.6.3/css/font-awesome.min.css%22/%3E%0A%20%20%20%20%3Clink%20rel%3D%22stylesheet%22%20href%3D%22https%3A//cdnjs.cloudflare.com/ajax/libs/Leaflet.awesome-markers/2.0.2/leaflet.awesome-markers.css%22/%3E%0A%20%20%20%20%3Clink%20rel%3D%22stylesheet%22%20href%3D%22https%3A//cdn.jsdelivr.net/gh/python-visualization/folium/folium/templates/leaflet.awesome.rotate.min.css%22/%3E%0A%20%20%20%20%0A%20%20%20%20%20%20%20%20%20%20%20%20%3Cmeta%20name%3D%22viewport%22%20content%3D%22width%3Ddevice-width%2C%0A%20%20%20%20%20%20%20%20%20%20%20%20%20%20%20%20initial-scale%3D1.0%2C%20maximum-scale%3D1.0%2C%20user-scalable%3Dno%22%20/%3E%0A%20%20%20%20%20%20%20%20%20%20%20%20%3Cstyle%3E%0A%20%20%20%20%20%20%20%20%20%20%20%20%20%20%20%20%23map_47883ac891764f97880003bbdbf430fc%20%7B%0A%20%20%20%20%20%20%20%20%20%20%20%20%20%20%20%20%20%20%20%20position%3A%20relative%3B%0A%20%20%20%20%20%20%20%20%20%20%20%20%20%20%20%20%20%20%20%20width%3A%20100.0%25%3B%0A%20%20%20%20%20%20%20%20%20%20%20%20%20%20%20%20%20%20%20%20height%3A%20100.0%25%3B%0A%20%20%20%20%20%20%20%20%20%20%20%20%20%20%20%20%20%20%20%20left%3A%200.0%25%3B%0A%20%20%20%20%20%20%20%20%20%20%20%20%20%20%20%20%20%20%20%20top%3A%200.0%25%3B%0A%20%20%20%20%20%20%20%20%20%20%20%20%20%20%20%20%7D%0A%20%20%20%20%20%20%20%20%20%20%20%20%3C/style%3E%0A%20%20%20%20%20%20%20%20%0A%3C/head%3E%0A%3Cbody%3E%20%20%20%20%0A%20%20%20%20%0A%20%20%20%20%20%20%20%20%20%20%20%20%3Cdiv%20class%3D%22folium-map%22%20id%3D%22map_47883ac891764f97880003bbdbf430fc%22%20%3E%3C/div%3E%0A%20%20%20%20%20%20%20%20%0A%3C/body%3E%0A%3Cscript%3E%20%20%20%20%0A%20%20%20%20%0A%20%20%20%20%20%20%20%20%20%20%20%20var%20map_47883ac891764f97880003bbdbf430fc%20%3D%20L.map%28%0A%20%20%20%20%20%20%20%20%20%20%20%20%20%20%20%20%22map_47883ac891764f97880003bbdbf430fc%22%2C%0A%20%20%20%20%20%20%20%20%20%20%20%20%20%20%20%20%7B%0A%20%20%20%20%20%20%20%20%20%20%20%20%20%20%20%20%20%20%20%20center%3A%20%5B38.49383400235322%2C%20-115.69392732086509%5D%2C%0A%20%20%20%20%20%20%20%20%20%20%20%20%20%20%20%20%20%20%20%20crs%3A%20L.CRS.EPSG3857%2C%0A%20%20%20%20%20%20%20%20%20%20%20%20%20%20%20%20%20%20%20%20zoom%3A%2012%2C%0A%20%20%20%20%20%20%20%20%20%20%20%20%20%20%20%20%20%20%20%20zoomControl%3A%20true%2C%0A%20%20%20%20%20%20%20%20%20%20%20%20%20%20%20%20%20%20%20%20preferCanvas%3A%20false%2C%0A%20%20%20%20%20%20%20%20%20%20%20%20%20%20%20%20%20%20%20%20center%3A%20%5B38.49383400235322%2C%20-115.69392732086509%5D%2C%0A%20%20%20%20%20%20%20%20%20%20%20%20%20%20%20%20%7D%0A%20%20%20%20%20%20%20%20%20%20%20%20%29%3B%0A%0A%20%20%20%20%20%20%20%20%20%20%20%20%0A%0A%20%20%20%20%20%20%20%20%0A%20%20%20%20%0A%20%20%20%20%20%20%20%20%20%20%20%20var%20tile_layer_e5b44c231e3b4bf899ad3ac7f5e9a6a9%20%3D%20L.tileLayer%28%0A%20%20%20%20%20%20%20%20%20%20%20%20%20%20%20%20%22%20http%3A//mt1.google.com/vt/lyrs%3Dy%5Cu0026z%3D%7Bz%7D%5Cu0026x%3D%7Bx%7D%5Cu0026y%3D%7By%7D%22%2C%0A%20%20%20%20%20%20%20%20%20%20%20%20%20%20%20%20%7B%22attribution%22%3A%20%22Google%22%2C%20%22detectRetina%22%3A%20false%2C%20%22maxNativeZoom%22%3A%2018%2C%20%22maxZoom%22%3A%2018%2C%20%22minZoom%22%3A%200%2C%20%22noWrap%22%3A%20false%2C%20%22opacity%22%3A%201%2C%20%22subdomains%22%3A%20%22abc%22%2C%20%22tms%22%3A%20false%7D%0A%20%20%20%20%20%20%20%20%20%20%20%20%29.addTo%28map_47883ac891764f97880003bbdbf430fc%29%3B%0A%20%20%20%20%20%20%20%20%0A%20%20%20%20%0A%20%20%20%20%20%20%20%20%20%20%20%20map_47883ac891764f97880003bbdbf430fc.fitBounds%28%0A%20%20%20%20%20%20%20%20%20%20%20%20%20%20%20%20%5B%5B38.49383400235322%2C%20-115.69392732086509%5D%2C%20%5B38.50008596347768%2C%20-115.68610894299655%5D%5D%2C%0A%20%20%20%20%20%20%20%20%20%20%20%20%20%20%20%20%7B%7D%0A%20%20%20%20%20%20%20%20%20%20%20%20%29%3B%0A%20%20%20%20%20%20%20%20%0A%20%20%20%20%0A%20%20%20%20%20%20%20%20function%20geo_json_0837f9a9d051400aa01bd67d2102f6e2_styler%28feature%29%20%7B%0A%20%20%20%20%20%20%20%20%20%20%20%20switch%28feature.id%29%20%7B%0A%20%20%20%20%20%20%20%20%20%20%20%20%20%20%20%20default%3A%0A%20%20%20%20%20%20%20%20%20%20%20%20%20%20%20%20%20%20%20%20return%20%7B%22color%22%3A%20%22blue%22%7D%3B%0A%20%20%20%20%20%20%20%20%20%20%20%20%7D%0A%20%20%20%20%20%20%20%20%7D%0A%0A%20%20%20%20%20%20%20%20function%20geo_json_0837f9a9d051400aa01bd67d2102f6e2_onEachFeature%28feature%2C%20layer%29%20%7B%0A%20%20%20%20%20%20%20%20%20%20%20%20layer.on%28%7B%0A%20%20%20%20%20%20%20%20%20%20%20%20%7D%29%3B%0A%20%20%20%20%20%20%20%20%7D%3B%0A%20%20%20%20%20%20%20%20var%20geo_json_0837f9a9d051400aa01bd67d2102f6e2%20%3D%20L.geoJson%28null%2C%20%7B%0A%20%20%20%20%20%20%20%20%20%20%20%20%20%20%20%20onEachFeature%3A%20geo_json_0837f9a9d051400aa01bd67d2102f6e2_onEachFeature%2C%0A%20%20%20%20%20%20%20%20%20%20%20%20%0A%20%20%20%20%20%20%20%20%20%20%20%20%20%20%20%20style%3A%20geo_json_0837f9a9d051400aa01bd67d2102f6e2_styler%2C%0A%20%20%20%20%20%20%20%20%7D%29%3B%0A%0A%20%20%20%20%20%20%20%20function%20geo_json_0837f9a9d051400aa01bd67d2102f6e2_add%20%28data%29%20%7B%0A%20%20%20%20%20%20%20%20%20%20%20%20geo_json_0837f9a9d051400aa01bd67d2102f6e2%0A%20%20%20%20%20%20%20%20%20%20%20%20%20%20%20%20.addData%28data%29%0A%20%20%20%20%20%20%20%20%20%20%20%20%20%20%20%20.addTo%28map_47883ac891764f97880003bbdbf430fc%29%3B%0A%20%20%20%20%20%20%20%20%7D%0A%20%20%20%20%20%20%20%20%20%20%20%20geo_json_0837f9a9d051400aa01bd67d2102f6e2_add%28%7B%22features%22%3A%20%5B%7B%22geometry%22%3A%20%7B%22coordinates%22%3A%20%5B%5B%5B-115.69381596961283%2C%2038.50008596347768%5D%2C%20%5B-115.68610894299655%2C%2038.49999974362019%5D%2C%20%5B-115.686220950808%2C%2038.49383400235322%5D%2C%20%5B-115.69392732086509%2C%2038.493920203288866%5D%2C%20%5B-115.69381596961283%2C%2038.50008596347768%5D%5D%5D%2C%20%22type%22%3A%20%22Polygon%22%7D%2C%20%22id%22%3A%20%220%22%2C%20%22properties%22%3A%20%7B%7D%2C%20%22type%22%3A%20%22Feature%22%7D%5D%2C%20%22type%22%3A%20%22FeatureCollection%22%7D%29%3B%0A%0A%20%20%20%20%20%20%20%20%0A%20%20%20%20%0A%20%20%20%20%20%20%20%20%20%20%20%20%20%20%20%20var%20lat_lng_popup_763c4e60eca0448dbcb1343c1365170d%20%3D%20L.popup%28%29%3B%0A%20%20%20%20%20%20%20%20%20%20%20%20%20%20%20%20function%20latLngPop%28e%29%20%7B%0A%20%20%20%20%20%20%20%20%20%20%20%20%20%20%20%20%20%20%20%20lat_lng_popup_763c4e60eca0448dbcb1343c1365170d%0A%20%20%20%20%20%20%20%20%20%20%20%20%20%20%20%20%20%20%20%20%20%20%20%20.setLatLng%28e.latlng%29%0A%20%20%20%20%20%20%20%20%20%20%20%20%20%20%20%20%20%20%20%20%20%20%20%20.setContent%28%22Latitude%3A%20%22%20%2B%20e.latlng.lat.toFixed%284%29%20%2B%0A%20%20%20%20%20%20%20%20%20%20%20%20%20%20%20%20%20%20%20%20%20%20%20%20%20%20%20%20%20%20%20%20%20%20%20%20%22%3Cbr%3ELongitude%3A%20%22%20%2B%20e.latlng.lng.toFixed%284%29%29%0A%20%20%20%20%20%20%20%20%20%20%20%20%20%20%20%20%20%20%20%20%20%20%20%20.openOn%28map_47883ac891764f97880003bbdbf430fc%29%3B%0A%20%20%20%20%20%20%20%20%20%20%20%20%20%20%20%20%20%20%20%20%7D%0A%20%20%20%20%20%20%20%20%20%20%20%20%20%20%20%20map_47883ac891764f97880003bbdbf430fc.on%28%27click%27%2C%20latLngPop%29%3B%0A%20%20%20%20%20%20%20%20%20%20%20%20%0A%3C/script%3E onload=\"this.contentDocument.open();this.contentDocument.write(    decodeURIComponent(this.getAttribute('data-html')));this.contentDocument.close();\" allowfullscreen webkitallowfullscreen mozallowfullscreen></iframe></div></div>"
      ],
      "text/plain": [
       "<folium.folium.Map at 0x7f5fab27aa30>"
      ]
     },
     "execution_count": 125,
     "metadata": {},
     "output_type": "execute_result"
    }
   ],
   "source": [
    "fm.sat_geojson('./railroad_valley.geojson')"
   ]
  },
  {
   "cell_type": "code",
   "execution_count": null,
   "id": "e73e689b",
   "metadata": {},
   "outputs": [],
   "source": []
  }
 ],
 "metadata": {
  "kernelspec": {
   "display_name": "Python 3 (ipykernel)",
   "language": "python",
   "name": "python3"
  },
  "language_info": {
   "codemirror_mode": {
    "name": "ipython",
    "version": 3
   },
   "file_extension": ".py",
   "mimetype": "text/x-python",
   "name": "python",
   "nbconvert_exporter": "python",
   "pygments_lexer": "ipython3",
   "version": "3.9.7"
  }
 },
 "nbformat": 4,
 "nbformat_minor": 5
}
