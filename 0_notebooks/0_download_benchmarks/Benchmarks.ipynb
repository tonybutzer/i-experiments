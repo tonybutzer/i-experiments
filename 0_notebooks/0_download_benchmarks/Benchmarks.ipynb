{
 "cells": [
  {
   "cell_type": "code",
   "execution_count": 1,
   "id": "ef376bac",
   "metadata": {},
   "outputs": [],
   "source": [
    "data_size = 65 * 1e9"
   ]
  },
  {
   "cell_type": "code",
   "execution_count": 7,
   "id": "faafecb7",
   "metadata": {},
   "outputs": [],
   "source": [
    "data_size_mb = data_size / 1e6"
   ]
  },
  {
   "cell_type": "code",
   "execution_count": 8,
   "id": "d8a8ba67",
   "metadata": {},
   "outputs": [
    {
     "data": {
      "text/plain": [
       "65000.0"
      ]
     },
     "execution_count": 8,
     "metadata": {},
     "output_type": "execute_result"
    }
   ],
   "source": [
    "data_size_mb"
   ]
  },
  {
   "cell_type": "code",
   "execution_count": 9,
   "id": "1c0d022d",
   "metadata": {},
   "outputs": [],
   "source": [
    "path_1a_minutes = 6"
   ]
  },
  {
   "cell_type": "code",
   "execution_count": 10,
   "id": "4ff5ef87",
   "metadata": {},
   "outputs": [],
   "source": [
    "path_1a_seconds = path_1a_minutes * 60"
   ]
  },
  {
   "cell_type": "code",
   "execution_count": 11,
   "id": "f44072af",
   "metadata": {},
   "outputs": [],
   "source": [
    "path_1a_mb_per_sec = data_size_mb / path_1a_seconds"
   ]
  },
  {
   "cell_type": "code",
   "execution_count": 12,
   "id": "a6603380",
   "metadata": {},
   "outputs": [
    {
     "data": {
      "text/plain": [
       "180.55555555555554"
      ]
     },
     "execution_count": 12,
     "metadata": {},
     "output_type": "execute_result"
    }
   ],
   "source": [
    "path_1a_mb_per_sec"
   ]
  },
  {
   "cell_type": "code",
   "execution_count": 15,
   "id": "f70aafb3",
   "metadata": {},
   "outputs": [],
   "source": [
    "path_2a_seconds = 1 * 60 * 60 #1 hour"
   ]
  },
  {
   "cell_type": "code",
   "execution_count": 16,
   "id": "f5a8a53e",
   "metadata": {},
   "outputs": [],
   "source": [
    "path_2a_mb_per_sec = data_size_mb / path_2a_seconds"
   ]
  },
  {
   "cell_type": "code",
   "execution_count": 17,
   "id": "5230333b",
   "metadata": {},
   "outputs": [
    {
     "data": {
      "text/plain": [
       "18.055555555555557"
      ]
     },
     "execution_count": 17,
     "metadata": {},
     "output_type": "execute_result"
    }
   ],
   "source": [
    "path_2a_mb_per_sec"
   ]
  },
  {
   "cell_type": "code",
   "execution_count": null,
   "id": "2d798172",
   "metadata": {},
   "outputs": [],
   "source": []
  }
 ],
 "metadata": {
  "kernelspec": {
   "display_name": "Python 3 (ipykernel)",
   "language": "python",
   "name": "python3"
  },
  "language_info": {
   "codemirror_mode": {
    "name": "ipython",
    "version": 3
   },
   "file_extension": ".py",
   "mimetype": "text/x-python",
   "name": "python",
   "nbconvert_exporter": "python",
   "pygments_lexer": "ipython3",
   "version": "3.9.7"
  }
 },
 "nbformat": 4,
 "nbformat_minor": 5
}
