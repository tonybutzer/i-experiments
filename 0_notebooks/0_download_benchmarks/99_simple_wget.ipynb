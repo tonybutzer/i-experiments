{
 "cells": [
  {
   "cell_type": "markdown",
   "id": "dbab7c2e",
   "metadata": {},
   "source": [
    "url = https://sentinel-cogs.s3.us-west-2.amazonaws.com/sentinel-s2-l2a-cogs/23/K/NR/2020/3/S2B_23KNR_20200329_0_L2A/TCI.tif"
   ]
  },
  {
   "cell_type": "code",
   "execution_count": 1,
   "id": "138c0082",
   "metadata": {},
   "outputs": [
    {
     "name": "stdout",
     "output_type": "stream",
     "text": [
      "CPU times: user 86.6 ms, sys: 43.5 ms, total: 130 ms\n",
      "Wall time: 5.62 s\n"
     ]
    }
   ],
   "source": [
    "%%time\n",
    "!wget -qO- https://sentinel-cogs.s3.us-west-2.amazonaws.com/sentinel-s2-l2a-cogs/23/K/NR/2020/3/S2B_23KNR_20200329_0_L2A/TCI.tif | aws s3 cp - s3://dev-et-data/tony/S2B_23KNR_20200329_0_L2A_TCI.tif"
   ]
  },
  {
   "cell_type": "code",
   "execution_count": 2,
   "id": "754ecc0c",
   "metadata": {},
   "outputs": [
    {
     "name": "stdout",
     "output_type": "stream",
     "text": [
      "2021-09-09 00:20:19  146.7 MiB S2B_23KNR_20200329_0_L2A_TCI.tif\r\n",
      "\r\n",
      "Total Objects: 1\r\n",
      "   Total Size: 146.7 MiB\r\n"
     ]
    }
   ],
   "source": [
    "! aws s3 ls s3://dev-et-data/tony/S2B_23KNR_20200329_0_L2A_TCI.tif --human --sum"
   ]
  },
  {
   "cell_type": "code",
   "execution_count": 3,
   "id": "112c4b61",
   "metadata": {},
   "outputs": [
    {
     "name": "stdout",
     "output_type": "stream",
     "text": [
      "Driver: GTiff/GeoTIFF\r\n",
      "Files: /vsis3/dev-et-data/tony/S2B_23KNR_20200329_0_L2A_TCI.tif\r\n",
      "Size is 10980, 10980\r\n",
      "Coordinate System is:\r\n",
      "PROJCRS[\"WGS 84 / UTM zone 23S\",\r\n",
      "    BASEGEOGCRS[\"WGS 84\",\r\n",
      "        DATUM[\"World Geodetic System 1984\",\r\n",
      "            ELLIPSOID[\"WGS 84\",6378137,298.257223563,\r\n",
      "                LENGTHUNIT[\"metre\",1]]],\r\n",
      "        PRIMEM[\"Greenwich\",0,\r\n",
      "            ANGLEUNIT[\"degree\",0.0174532925199433]],\r\n",
      "        ID[\"EPSG\",4326]],\r\n",
      "    CONVERSION[\"UTM zone 23S\",\r\n",
      "        METHOD[\"Transverse Mercator\",\r\n",
      "            ID[\"EPSG\",9807]],\r\n",
      "        PARAMETER[\"Latitude of natural origin\",0,\r\n",
      "            ANGLEUNIT[\"degree\",0.0174532925199433],\r\n",
      "            ID[\"EPSG\",8801]],\r\n",
      "        PARAMETER[\"Longitude of natural origin\",-45,\r\n",
      "            ANGLEUNIT[\"degree\",0.0174532925199433],\r\n",
      "            ID[\"EPSG\",8802]],\r\n",
      "        PARAMETER[\"Scale factor at natural origin\",0.9996,\r\n",
      "            SCALEUNIT[\"unity\",1],\r\n",
      "            ID[\"EPSG\",8805]],\r\n",
      "        PARAMETER[\"False easting\",500000,\r\n",
      "            LENGTHUNIT[\"metre\",1],\r\n",
      "            ID[\"EPSG\",8806]],\r\n",
      "        PARAMETER[\"False northing\",10000000,\r\n",
      "            LENGTHUNIT[\"metre\",1],\r\n",
      "            ID[\"EPSG\",8807]]],\r\n",
      "    CS[Cartesian,2],\r\n",
      "        AXIS[\"(E)\",east,\r\n",
      "            ORDER[1],\r\n",
      "            LENGTHUNIT[\"metre\",1]],\r\n",
      "        AXIS[\"(N)\",north,\r\n",
      "            ORDER[2],\r\n",
      "            LENGTHUNIT[\"metre\",1]],\r\n",
      "    USAGE[\r\n",
      "        SCOPE[\"Engineering survey, topographic mapping.\"],\r\n",
      "        AREA[\"Between 48°W and 42°W, southern hemisphere between 80°S and equator, onshore and offshore. Brazil.\"],\r\n",
      "        BBOX[-80,-48,0,-42]],\r\n",
      "    ID[\"EPSG\",32723]]\r\n",
      "Data axis to CRS axis mapping: 1,2\r\n",
      "Origin = (499980.000000000000000,7600000.000000000000000)\r\n",
      "Pixel Size = (10.000000000000000,-10.000000000000000)\r\n",
      "Metadata:\r\n",
      "  AREA_OR_POINT=Area\r\n",
      "  OVR_RESAMPLING_ALG=AVERAGE\r\n",
      "Image Structure Metadata:\r\n",
      "  COMPRESSION=DEFLATE\r\n",
      "  INTERLEAVE=PIXEL\r\n",
      "Corner Coordinates:\r\n",
      "Upper Left  (  499980.000, 7600000.000) ( 45d 0' 0.70\"W, 21d42'12.30\"S)\r\n",
      "Lower Left  (  499980.000, 7490200.000) ( 45d 0' 0.70\"W, 22d41'43.40\"S)\r\n",
      "Upper Right (  609780.000, 7600000.000) ( 43d56'19.38\"W, 21d42' 0.07\"S)\r\n",
      "Lower Right (  609780.000, 7490200.000) ( 43d55'52.45\"W, 22d41'30.55\"S)\r\n",
      "Center      (  554880.000, 7545100.000) ( 44d28' 3.31\"W, 22d11'54.77\"S)\r\n",
      "Band 1 Block=1024x1024 Type=Byte, ColorInterp=Red\r\n",
      "  NoData Value=0\r\n",
      "  Overviews: 5490x5490, 2745x2745, 1373x1373, 687x687\r\n",
      "Band 2 Block=1024x1024 Type=Byte, ColorInterp=Green\r\n",
      "  NoData Value=0\r\n",
      "  Overviews: 5490x5490, 2745x2745, 1373x1373, 687x687\r\n",
      "Band 3 Block=1024x1024 Type=Byte, ColorInterp=Blue\r\n",
      "  NoData Value=0\r\n",
      "  Overviews: 5490x5490, 2745x2745, 1373x1373, 687x687\r\n"
     ]
    }
   ],
   "source": [
    "! gdalinfo /vsis3/dev-et-data/tony/S2B_23KNR_20200329_0_L2A_TCI.tif"
   ]
  },
  {
   "cell_type": "code",
   "execution_count": 4,
   "id": "6a39a60f",
   "metadata": {},
   "outputs": [
    {
     "name": "stdout",
     "output_type": "stream",
     "text": [
      "{\r\n",
      "    \"blockxsize\": 1024,\r\n",
      "    \"blockysize\": 1024,\r\n",
      "    \"bounds\": [\r\n",
      "        499980.0,\r\n",
      "        7490200.0,\r\n",
      "        609780.0,\r\n",
      "        7600000.0\r\n",
      "    ],\r\n",
      "    \"colorinterp\": [\r\n",
      "        \"red\",\r\n",
      "        \"green\",\r\n",
      "        \"blue\"\r\n",
      "    ],\r\n",
      "    \"compress\": \"deflate\",\r\n",
      "    \"count\": 3,\r\n",
      "    \"crs\": \"EPSG:32723\",\r\n",
      "    \"descriptions\": [\r\n",
      "        null,\r\n",
      "        null,\r\n",
      "        null\r\n",
      "    ],\r\n",
      "    \"driver\": \"GTiff\",\r\n",
      "    \"dtype\": \"uint8\",\r\n",
      "    \"height\": 10980,\r\n",
      "    \"indexes\": [\r\n",
      "        1,\r\n",
      "        2,\r\n",
      "        3\r\n",
      "    ],\r\n",
      "    \"interleave\": \"pixel\",\r\n",
      "    \"lnglat\": [\r\n",
      "        -44.46758563553105,\r\n",
      "        -22.19854761033018\r\n",
      "    ],\r\n",
      "    \"mask_flags\": [\r\n",
      "        [\r\n",
      "            \"nodata\"\r\n",
      "        ],\r\n",
      "        [\r\n",
      "            \"nodata\"\r\n",
      "        ],\r\n",
      "        [\r\n",
      "            \"nodata\"\r\n",
      "        ]\r\n",
      "    ],\r\n",
      "    \"nodata\": 0.0,\r\n",
      "    \"res\": [\r\n",
      "        10.0,\r\n",
      "        10.0\r\n",
      "    ],\r\n",
      "    \"shape\": [\r\n",
      "        10980,\r\n",
      "        10980\r\n",
      "    ],\r\n",
      "    \"tiled\": true,\r\n",
      "    \"transform\": [\r\n",
      "        10.0,\r\n",
      "        0.0,\r\n",
      "        499980.0,\r\n",
      "        0.0,\r\n",
      "        -10.0,\r\n",
      "        7600000.0,\r\n",
      "        0.0,\r\n",
      "        0.0,\r\n",
      "        1.0\r\n",
      "    ],\r\n",
      "    \"units\": [\r\n",
      "        null,\r\n",
      "        null,\r\n",
      "        null\r\n",
      "    ],\r\n",
      "    \"width\": 10980\r\n",
      "}\r\n"
     ]
    }
   ],
   "source": [
    "! rio info s3://dev-et-data/tony/S2B_23KNR_20200329_0_L2A_TCI.tif | python -m json.tool"
   ]
  },
  {
   "cell_type": "code",
   "execution_count": 5,
   "id": "1d364091",
   "metadata": {},
   "outputs": [
    {
     "name": "stdout",
     "output_type": "stream",
     "text": [
      "\r\n",
      "An error occurred (NoSuchBucket) when calling the ListObjectsV2 operation: The specified bucket does not exist\r\n"
     ]
    }
   ],
   "source": [
    "!aws s3 ls s3://sentinel-s2-l2a-cogs/sentinel-s2-l2a-cogs/23/K/NR/2020/"
   ]
  },
  {
   "cell_type": "code",
   "execution_count": null,
   "id": "265c2799",
   "metadata": {},
   "outputs": [],
   "source": []
  }
 ],
 "metadata": {
  "kernelspec": {
   "display_name": "Python 3 (ipykernel)",
   "language": "python",
   "name": "python3"
  },
  "language_info": {
   "codemirror_mode": {
    "name": "ipython",
    "version": 3
   },
   "file_extension": ".py",
   "mimetype": "text/x-python",
   "name": "python",
   "nbconvert_exporter": "python",
   "pygments_lexer": "ipython3",
   "version": "3.9.7"
  }
 },
 "nbformat": 4,
 "nbformat_minor": 5
}
